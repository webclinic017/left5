{
 "cells": [
  {
   "cell_type": "markdown",
   "metadata": {},
   "source": [
    "Return G_t\n",
    "\\begin{equation}\n",
    "G_t = R_{t+1} + \\gamma R_{t+2} \\dots = \\sum_{k=0}^\\infty \\gamma^k R_{k+t+1}\n",
    "\\end{equation}\n"
   ]
  },
  {
   "cell_type": "markdown",
   "metadata": {},
   "source": [
    "Bellman MRP\n",
    "\\begin{equation}\n",
    "v(s) = \\mathbb{E} [R_{t+1} + \\gamma v(S_{t+1}) \\mid S_t = 2]\n",
    "\\end{equation}"
   ]
  },
  {
   "cell_type": "markdown",
   "metadata": {},
   "source": [
    "\n",
    "\\begin{equation}\n",
    "P_{s,s'}^{\\pi} = \\sum_{a \\in A} \\pi (a \\mid s) P_{ss'}^a\n",
    "\\end{equation}\n",
    "\n",
    "\n",
    "Reward Function:\n",
    "\\begin{equation}\n",
    "R_s^{\\pi} = \\sum_{a \\in A} \\pi (a \\mid s) R_s^a\n",
    "\\end{equation}"
   ]
  },
  {
   "cell_type": "markdown",
   "metadata": {},
   "source": [
    "value function:\n",
    "\\begin{equation}\n",
    "v_{\\pi}(s) = \\mathbb{E}_{\\pi} [G_t \\mid S_t = s]\n",
    "\\end{equation}\n",
    "\n",
    "\\begin{equation}\n",
    "V(s_t) \\gets V(s_t) + \\alpha [R_t - V(s_t)]\n",
    "\\end{equation}\n",
    "\n",
    "q function:\n",
    "\\begin{equation}\n",
    "q_{\\pi}(s,a) = \\mathbb{E}_{\\pi} [G_t \\mid S_t = s, A_t = a]\n",
    "\\end{equation}"
   ]
  },
  {
   "cell_type": "markdown",
   "metadata": {},
   "source": [
    "Bellman Expectation Equation:\n",
    "\n",
    "\\begin{equation}\n",
    "v_{\\pi}(s) = \\mathbb{E}_{\\pi} [R_{t+1} + \\gamma v_{\\pi}(S_{t+1}) \\mid S_t = s]\n",
    "\\end{equation}\n",
    "\n",
    "\\begin{equation}\n",
    "q_{\\pi}(s,a) = \\mathbb{E}_{\\pi} [R_{t+1} + \\gamma q_{\\pi} (S_{t+1},A_{t+1}) \\mid S_t = s,A_t=a]\n",
    "\\end{equation}"
   ]
  },
  {
   "cell_type": "markdown",
   "metadata": {},
   "source": [
    "Initialize Q(s, a) arbitrarily\n",
    "Repeat (for each episode):\n",
    "  Initialize s\n",
    "  Repeat (for each step of episode):\n",
    "    Choose a from s using policy derived from Q:\n",
    "      (e.g., \\epsilon-greedy\n",
    "    Take action a, observe r, s'\n",
    "    Q(s, a) \\gets Q(s, a) + \\alpha [r + \\gamma max_{\\alpha '} Q(s', a') - Q(s, a)]\n",
    "    s \\gets s';\n",
    "  until s is terminal"
   ]
  },
  {
   "cell_type": "markdown",
   "metadata": {},
   "source": [
    "04"
   ]
  },
  {
   "cell_type": "markdown",
   "metadata": {},
   "source": [
    "Eligibility traces\n",
    "\n",
    "\\begin{equation}\n",
    "\\delta_t = R_{t+1} + \\gamma V(S_{t+1}) - V(S_t)\n",
    "\\end{equation}\n",
    "\n",
    "\\begin{equation}\n",
    "V(s) \\gets V(s) + \\alpha\\delta E_t(s)\n",
    "\\end{equation}"
   ]
  },
  {
   "cell_type": "markdown",
   "metadata": {},
   "source": []
  },
  {
   "cell_type": "markdown",
   "metadata": {},
   "source": [
    "\\begin{equation}\n",
    "V_{k+1}(S) = \\sum_{a \\in A} \\pi(a|s) \\left( R_{s}^{a} + \\gamma \\sum_{s' \\in S} P_{ss'}^{a} V_{k}(S')) \\right)\n",
    "\\end{equation}"
   ]
  },
  {
   "cell_type": "markdown",
   "metadata": {},
   "source": [
    "\\begin{equation}\n",
    "V_{*} \\leftarrow \\max_{a \\in A} R_{s}^{a} + \\gamma \\sum_{s' \\in S} P_{ss'}^{a} v_{*}(s')\n",
    "\\end{equation}"
   ]
  },
  {
   "cell_type": "markdown",
   "metadata": {},
   "source": [
    "Monte-Carlo\n",
    "\\begin{equation}\n",
    "V(S_{t}) \\gets V(S_{t}) + \\alpha(G_{t} - V(S_{t}))\n",
    "\\end{equation}\n"
   ]
  },
  {
   "cell_type": "markdown",
   "metadata": {},
   "source": [
    "TD\n",
    "\\begin{equation}\n",
    "V(S_t) \\gets V(S_t) + \\alpha \\big( R_{t+1} + \\gamma V(S_{t+1}) - V(S_t) \\big)\n",
    "\\end{equation}"
   ]
  },
  {
   "cell_type": "markdown",
   "metadata": {},
   "source": [
    "SARSA\n",
    "\\begin{equation}\n",
    "Q(S,A) \\gets Q(S,A) + \\alpha \\big( R + \\gamma Q(S',A') - Q(S,A) \\big)\n",
    "\\end{equation}"
   ]
  },
  {
   "cell_type": "markdown",
   "metadata": {},
   "source": []
  },
  {
   "cell_type": "markdown",
   "metadata": {},
   "source": []
  },
  {
   "cell_type": "markdown",
   "metadata": {},
   "source": [
    "\\begin{equation}\n",
    "v_{k+1}(s) = \\sum_{a \\in A}\\pi(a|s)(R^a_s + \\gamma \\sum_{s' \\in S}P^a_{ss'}v_k(s'))\n",
    "\\end{equation}"
   ]
  },
  {
   "cell_type": "markdown",
   "metadata": {},
   "source": [
    "###################################"
   ]
  },
  {
   "cell_type": "markdown",
   "metadata": {},
   "source": [
    "MC:\n",
    "\\begin{equation}\n",
    "\\Delta w = \\alpha (G_t - \\hat{v}(S_t, w))\\Delta_w \\hat{v} (S_t, w)\n",
    "\\end{equation}"
   ]
  },
  {
   "cell_type": "markdown",
   "metadata": {},
   "source": [
    "TD(0):\n",
    "\\begin{equation}\n",
    "\\Delta w = \\alpha (R_{t+1} + \\gamma \\hat{v}(S_{t+1}, w) - \\hat{v} (S_t, w))\\Delta \\hat{v}(S_t, w)\n",
    "\\end{equation}"
   ]
  },
  {
   "cell_type": "markdown",
   "metadata": {},
   "source": [
    "TD(lambda):\n",
    "\\begin{equation}\n",
    "\\Delta w = \\alpha (G^{\\lambda}_{t} - \\hat{v} (S_t, w))\\Delta_w \\hat{v}(S_t, w)\n",
    "\\end{equation}"
   ]
  },
  {
   "cell_type": "markdown",
   "metadata": {},
   "source": []
  },
  {
   "cell_type": "markdown",
   "metadata": {},
   "source": []
  }
 ],
 "metadata": {
  "kernelspec": {
   "display_name": "Python 3",
   "language": "python",
   "name": "python3"
  },
  "language_info": {
   "codemirror_mode": {
    "name": "ipython",
    "version": 3
   },
   "file_extension": ".py",
   "mimetype": "text/x-python",
   "name": "python",
   "nbconvert_exporter": "python",
   "pygments_lexer": "ipython3",
   "version": "3.7.3"
  },
  "latex_envs": {
   "LaTeX_envs_menu_present": true,
   "autocomplete": true,
   "bibliofile": "biblio.bib",
   "cite_by": "apalike",
   "current_citInitial": 1,
   "eqLabelWithNumbers": true,
   "eqNumInitial": 1,
   "hotkeys": {
    "equation": "Ctrl-E",
    "itemize": "Ctrl-I"
   },
   "labels_anchors": false,
   "latex_user_defs": false,
   "report_style_numbering": false,
   "user_envs_cfg": false
  },
  "varInspector": {
   "cols": {
    "lenName": 16,
    "lenType": 16,
    "lenVar": 40
   },
   "kernels_config": {
    "python": {
     "delete_cmd_postfix": "",
     "delete_cmd_prefix": "del ",
     "library": "var_list.py",
     "varRefreshCmd": "print(var_dic_list())"
    },
    "r": {
     "delete_cmd_postfix": ") ",
     "delete_cmd_prefix": "rm(",
     "library": "var_list.r",
     "varRefreshCmd": "cat(var_dic_list()) "
    }
   },
   "types_to_exclude": [
    "module",
    "function",
    "builtin_function_or_method",
    "instance",
    "_Feature"
   ],
   "window_display": false
  }
 },
 "nbformat": 4,
 "nbformat_minor": 2
}
