{
 "cells": [
  {
   "cell_type": "code",
   "execution_count": 38,
   "metadata": {},
   "outputs": [],
   "source": [
    "import time"
   ]
  },
  {
   "cell_type": "code",
   "execution_count": 39,
   "metadata": {},
   "outputs": [],
   "source": [
    "def subsets1(nums, nums_sum):\n",
    "    n = len(nums)\n",
    "    dp = [[1 if j == 0 else 0 for j in range(nums_sum + 1)] for i in range(n+1)]\n",
    "    for i in range(1, n + 1):\n",
    "        for j in range(nums_sum + 1):\n",
    "            if j >= nums[i - 1]:\n",
    "                dp[i][j] = dp[i - 1][j] + dp[i - 1][j - nums[i - 1]]\n",
    "            else:\n",
    "                dp[i][j] = dp[i - 1][j]\n",
    "    return dp[n][nums_sum]"
   ]
  },
  {
   "cell_type": "code",
   "execution_count": 40,
   "metadata": {},
   "outputs": [],
   "source": [
    "def subsets2(nums, nums_sum):\n",
    "    n = len(nums)\n",
    "    dp = [0 for i in range(nums_sum + 1)]\n",
    "    dp[0] = 1\n",
    "\n",
    "    for i in range(1, n + 1):\n",
    "        for j in range(nums_sum, -1, -1):\n",
    "            if j >= nums[i-1]:\n",
    "                dp[j] = dp[j] + dp[j - nums[i-1]]\n",
    "            else:\n",
    "                dp[j] = dp[j]\n",
    "\n",
    "    return dp[nums_sum]"
   ]
  },
  {
   "cell_type": "code",
   "execution_count": 80,
   "metadata": {},
   "outputs": [
    {
     "name": "stdout",
     "output_type": "stream",
     "text": [
      "CPU times: user 3 µs, sys: 1e+03 ns, total: 4 µs\n",
      "Wall time: 4.77 µs\n"
     ]
    },
    {
     "data": {
      "text/plain": [
       "8"
      ]
     },
     "execution_count": 80,
     "metadata": {},
     "output_type": "execute_result"
    }
   ],
   "source": [
    "%time\n",
    "subsets1([1,2,3,4,5,6,7], 12)"
   ]
  },
  {
   "cell_type": "code",
   "execution_count": 59,
   "metadata": {},
   "outputs": [
    {
     "name": "stdout",
     "output_type": "stream",
     "text": [
      "CPU times: user 3 µs, sys: 1 µs, total: 4 µs\n",
      "Wall time: 4.77 µs\n"
     ]
    },
    {
     "data": {
      "text/plain": [
       "8"
      ]
     },
     "execution_count": 59,
     "metadata": {},
     "output_type": "execute_result"
    }
   ],
   "source": [
    "%time\n",
    "subsets2([1,2,3,4,5,6,7], 12)"
   ]
  },
  {
   "cell_type": "code",
   "execution_count": 8,
   "metadata": {},
   "outputs": [],
   "source": [
    "def solve_rod_cutting(lengths, prices, n):\n",
    "    lengthCount = len(lengths)\n",
    "    # 正确性和边界条件检查\n",
    "    if n <= 0 or lengthCount == 0 or len(prices) != lengthCount:\n",
    "        return 0\n",
    "\n",
    "    dp = [[0 for _ in range(n+1)] for _ in range(lengthCount)]\n",
    "    # 填充表格\n",
    "    for i in range(lengthCount):\n",
    "        for length in range(1, n+1):\n",
    "            p1, p2 = 0, 0\n",
    "            if lengths[i] <= length:\n",
    "                p1 = prices[i] + dp[i][length - lengths[i]]\n",
    "            if i > 0:\n",
    "                p2 = dp[i - 1][length]\n",
    "            dp[i][length] = max(p1, p2)\n",
    "    \n",
    "    print(dp)\n",
    "    return dp[lengthCount - 1][n]"
   ]
  },
  {
   "cell_type": "code",
   "execution_count": null,
   "metadata": {},
   "outputs": [],
   "source": []
  },
  {
   "cell_type": "code",
   "execution_count": 12,
   "metadata": {},
   "outputs": [
    {
     "name": "stdout",
     "output_type": "stream",
     "text": [
      "[[0, 0, 0, 0, 0, 0], [0, 0, 0, 0, 0, 0], [0, 0, 0, 0, 0, 0], [0, 0, 0, 0, 0, 0], [0, 0, 0, 0, 0, 0]]\n",
      "[[0, 2, 4, 6, 8, 10], [0, 2, 6, 8, 12, 14], [0, 2, 6, 8, 12, 14], [0, 2, 6, 8, 12, 14], [0, 2, 6, 8, 12, 14]]\n"
     ]
    },
    {
     "data": {
      "text/plain": [
       "14"
      ]
     },
     "execution_count": 12,
     "metadata": {},
     "output_type": "execute_result"
    }
   ],
   "source": [
    "lengths = [1, 2, 3, 4, 5]\n",
    "prices = [2, 6, 7, 10, 13]\n",
    "n = 5\n",
    "\n",
    "solve_rod_cutting(lengths, prices, n)"
   ]
  },
  {
   "cell_type": "code",
   "execution_count": 11,
   "metadata": {},
   "outputs": [
    {
     "name": "stdout",
     "output_type": "stream",
     "text": [
      "[[0, 0, 0, 0], [0, 0, 0, 0], [0, 0, 0, 0], [0, 0, 0, 0], [0, 0, 0, 0]]\n",
      "[[0, 0, 0, 0], [0, 0, 6, 6], [0, 2, 6, 8], [0, 2, 6, 8], [0, 2, 6, 8]]\n"
     ]
    },
    {
     "data": {
      "text/plain": [
       "8"
      ]
     },
     "execution_count": 11,
     "metadata": {},
     "output_type": "execute_result"
    }
   ],
   "source": [
    "lengths = [5, 2, 1, 3, 4]\n",
    "prices = [13, 6, 2, 7, 10]\n",
    "n = 3\n",
    "\n",
    "solve_rod_cutting(lengths, prices, n)"
   ]
  },
  {
   "cell_type": "code",
   "execution_count": 23,
   "metadata": {},
   "outputs": [],
   "source": [
    "def solve_rod_cutting(lengths, prices, n):\n",
    "    lengthCount = len(lengths)\n",
    "    # 正确性和边界条件检查\n",
    "    if n <= 0 or lengthCount == 0 or len(prices) != lengthCount:\n",
    "        return 0\n",
    "\n",
    "    dp = [[0 for _ in range(n)] for _ in range(lengthCount)]\n",
    "    print(dp)\n",
    "    # 填充表格\n",
    "    for i in range(lengthCount):\n",
    "        for length in range(1, n+1):\n",
    "            p1, p2 = 0, 0\n",
    "            if lengths[i] <= length:\n",
    "                p1 = prices[i] + dp[i][length - 1 - lengths[i]]\n",
    "            if i > 0:\n",
    "                p2 = dp[i - 1][length - 1]\n",
    "            dp[i][length - 1] = max(p1, p2)\n",
    "    \n",
    "    print(dp)\n",
    "    return dp[lengthCount - 1][n - 1]"
   ]
  },
  {
   "cell_type": "code",
   "execution_count": 24,
   "metadata": {},
   "outputs": [
    {
     "name": "stdout",
     "output_type": "stream",
     "text": [
      "[[0, 0, 0, 0, 0], [0, 0, 0, 0, 0], [0, 0, 0, 0, 0], [0, 0, 0, 0, 0], [0, 0, 0, 0, 0]]\n",
      "[[2, 4, 6, 8, 10], [2, 6, 8, 12, 14], [2, 6, 8, 12, 14], [2, 6, 8, 12, 14], [2, 6, 8, 12, 14]]\n"
     ]
    },
    {
     "data": {
      "text/plain": [
       "14"
      ]
     },
     "execution_count": 24,
     "metadata": {},
     "output_type": "execute_result"
    }
   ],
   "source": [
    "lengths = [1, 2, 3, 4, 5]\n",
    "prices = [2, 6, 7, 10, 13]\n",
    "n = 5\n",
    "\n",
    "solve_rod_cutting(lengths, prices, n)"
   ]
  },
  {
   "cell_type": "code",
   "execution_count": null,
   "metadata": {},
   "outputs": [],
   "source": []
  },
  {
   "cell_type": "code",
   "execution_count": null,
   "metadata": {},
   "outputs": [],
   "source": []
  },
  {
   "cell_type": "code",
   "execution_count": null,
   "metadata": {},
   "outputs": [],
   "source": []
  },
  {
   "cell_type": "code",
   "execution_count": null,
   "metadata": {},
   "outputs": [],
   "source": []
  },
  {
   "cell_type": "code",
   "execution_count": null,
   "metadata": {},
   "outputs": [],
   "source": []
  },
  {
   "cell_type": "code",
   "execution_count": null,
   "metadata": {},
   "outputs": [],
   "source": []
  },
  {
   "cell_type": "code",
   "execution_count": null,
   "metadata": {},
   "outputs": [],
   "source": []
  },
  {
   "cell_type": "code",
   "execution_count": null,
   "metadata": {},
   "outputs": [],
   "source": []
  },
  {
   "cell_type": "code",
   "execution_count": null,
   "metadata": {},
   "outputs": [],
   "source": []
  },
  {
   "cell_type": "code",
   "execution_count": null,
   "metadata": {},
   "outputs": [],
   "source": []
  },
  {
   "cell_type": "code",
   "execution_count": 36,
   "metadata": {},
   "outputs": [],
   "source": [
    "def dm(lengths, prices, n):\n",
    "    lengthNum = len(lengths)\n",
    "    if n < 1 or lengthNum < 1 or len(prices) != lengthNum:\n",
    "        return 0\n",
    "    \n",
    "    dp = [[0 for _ in range(n + 1)] for _ in range(lengthNum)]\n",
    "    print(dp)\n",
    "    for i in range(lengthNum):\n",
    "        for length in range(1, n + 1):\n",
    "            p1, p2 = 0, 0\n",
    "            if lengths[i] <= length:\n",
    "                p1 = prices[i] + dp[i][length - lengths[i]]\n",
    "            if i > 0:\n",
    "                p2 = dp[i - 1][length]\n",
    "            \n",
    "            dp[i][length] = max(p1, p2)\n",
    "    print(dp)\n",
    "    return dp[lengthNum - 1][n]"
   ]
  },
  {
   "cell_type": "code",
   "execution_count": 37,
   "metadata": {},
   "outputs": [
    {
     "name": "stdout",
     "output_type": "stream",
     "text": [
      "[[0, 0, 0, 0, 0, 0], [0, 0, 0, 0, 0, 0], [0, 0, 0, 0, 0, 0], [0, 0, 0, 0, 0, 0], [0, 0, 0, 0, 0, 0]]\n",
      "[[0, 2, 4, 6, 8, 10], [0, 2, 6, 8, 12, 14], [0, 2, 6, 8, 12, 14], [0, 2, 6, 8, 12, 14], [0, 2, 6, 8, 12, 14]]\n"
     ]
    },
    {
     "data": {
      "text/plain": [
       "14"
      ]
     },
     "execution_count": 37,
     "metadata": {},
     "output_type": "execute_result"
    }
   ],
   "source": [
    "lengths = [1, 2, 3, 4, 5]\n",
    "prices = [2, 6, 7, 10, 13]\n",
    "n = 5\n",
    "\n",
    "dm(lengths, prices, n)"
   ]
  },
  {
   "cell_type": "code",
   "execution_count": null,
   "metadata": {},
   "outputs": [],
   "source": []
  }
 ],
 "metadata": {
  "kernelspec": {
   "display_name": "Python 3",
   "language": "python",
   "name": "python3"
  },
  "language_info": {
   "codemirror_mode": {
    "name": "ipython",
    "version": 3
   },
   "file_extension": ".py",
   "mimetype": "text/x-python",
   "name": "python",
   "nbconvert_exporter": "python",
   "pygments_lexer": "ipython3",
   "version": "3.7.3"
  }
 },
 "nbformat": 4,
 "nbformat_minor": 4
}
