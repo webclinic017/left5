{
 "cells": [
  {
   "cell_type": "code",
   "execution_count": null,
   "metadata": {},
   "outputs": [],
   "source": []
  },
  {
   "cell_type": "code",
   "execution_count": 1,
   "metadata": {},
   "outputs": [],
   "source": [
    "def subsets1(nums, nums_sum):\n",
    "    n = len(nums)\n",
    "    dp = [[1 if j == 0 else 0 for j in range(nums_sum + 1)] for i in range(n+1)]\n",
    "    for i in range(1, n + 1):\n",
    "        for j in range(nums_sum + 1):\n",
    "            if j >= nums[i - 1]:\n",
    "                dp[i][j] = dp[i - 1][j] + dp[i - 1][j - nums[i - 1]]\n",
    "            else:\n",
    "                dp[i][j] = dp[i - 1][j]\n",
    "    return dp[n][nums_sum]"
   ]
  },
  {
   "cell_type": "code",
   "execution_count": 2,
   "metadata": {},
   "outputs": [],
   "source": [
    "def subsets2(nums, nums_sum):\n",
    "    n = len(nums)\n",
    "    dp = [0 for i in range(nums_sum + 1)]\n",
    "    dp[0] = 1\n",
    "\n",
    "    for i in range(1, n + 1):\n",
    "        for j in range(nums_sum, -1, -1):\n",
    "            if j >= nums[i-1]:\n",
    "                dp[j] = dp[j] + dp[j - nums[i-1]]\n",
    "            else:\n",
    "                dp[j] = dp[j]\n",
    "\n",
    "    return dp[nums_sum]"
   ]
  },
  {
   "cell_type": "code",
   "execution_count": 3,
   "metadata": {},
   "outputs": [],
   "source": [
    "def solve_rod_cutting(lengths, prices, n):\n",
    "    lengthCount = len(lengths)\n",
    "    # 正确性和边界条件检查\n",
    "    if n <= 0 or lengthCount == 0 or len(prices) != lengthCount:\n",
    "        return 0\n",
    "\n",
    "    dp = [[0 for _ in range(n+1)] for _ in range(lengthCount)]\n",
    "\n",
    "    # 填充表格\n",
    "    for i in range(lengthCount):\n",
    "        for length in range(1, n+1):\n",
    "            p1, p2 = 0, 0\n",
    "            if lengths[i] <= length:\n",
    "                p1 = prices[i] + dp[i][length - lengths[i]]\n",
    "            if i > 0:\n",
    "                p2 = dp[i - 1][length]\n",
    "            dp[i][length] = max(p1, p2)\n",
    "    \n",
    "    print(dp)\n",
    "    return dp[lengthCount - 1][n]"
   ]
  },
  {
   "cell_type": "code",
   "execution_count": 5,
   "metadata": {},
   "outputs": [
    {
     "name": "stdout",
     "output_type": "stream",
     "text": [
      "[[0, 2, 4, 6], [0, 2, 6, 8], [0, 2, 6, 8], [0, 2, 6, 8], [0, 2, 6, 8]]\n"
     ]
    },
    {
     "data": {
      "text/plain": [
       "8"
      ]
     },
     "execution_count": 5,
     "metadata": {},
     "output_type": "execute_result"
    }
   ],
   "source": [
    "lengths = [1, 2, 3, 4, 5]\n",
    "prices = [2, 6, 7, 10, 13]\n",
    "n = 3\n",
    "\n",
    "solve_rod_cutting(lengths, prices, n)"
   ]
  },
  {
   "cell_type": "code",
   "execution_count": 7,
   "metadata": {},
   "outputs": [
    {
     "name": "stdout",
     "output_type": "stream",
     "text": [
      "[[0, 0, 6, 6], [0, 2, 6, 8], [0, 2, 6, 8], [0, 2, 6, 8], [0, 2, 6, 8]]\n"
     ]
    },
    {
     "data": {
      "text/plain": [
       "8"
      ]
     },
     "execution_count": 7,
     "metadata": {},
     "output_type": "execute_result"
    }
   ],
   "source": [
    "lengths = [2, 1, 3, 4, 5]\n",
    "prices = [6, 2, 7, 10, 13]\n",
    "n = 3\n",
    "\n",
    "solve_rod_cutting(lengths, prices, n)"
   ]
  },
  {
   "cell_type": "code",
   "execution_count": null,
   "metadata": {},
   "outputs": [],
   "source": []
  }
 ],
 "metadata": {
  "kernelspec": {
   "display_name": "Python 3",
   "language": "python",
   "name": "python3"
  },
  "language_info": {
   "codemirror_mode": {
    "name": "ipython",
    "version": 3
   },
   "file_extension": ".py",
   "mimetype": "text/x-python",
   "name": "python",
   "nbconvert_exporter": "python",
   "pygments_lexer": "ipython3",
   "version": "3.7.3"
  }
 },
 "nbformat": 4,
 "nbformat_minor": 4
}
