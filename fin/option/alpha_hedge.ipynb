{
 "cells": [
  {
   "cell_type": "code",
   "execution_count": 2,
   "id": "respected-webcam",
   "metadata": {},
   "outputs": [],
   "source": [
    "import akshare as ak"
   ]
  },
  {
   "cell_type": "code",
   "execution_count": 4,
   "id": "obvious-louisville",
   "metadata": {},
   "outputs": [],
   "source": [
    "import backtrader as bt\n",
    "import backtrader.indicators as btind\n",
    "import backtrader.analyzers as btanalyzers"
   ]
  },
  {
   "cell_type": "code",
   "execution_count": 5,
   "id": "sophisticated-northwest",
   "metadata": {},
   "outputs": [
    {
     "name": "stderr",
     "output_type": "stream",
     "text": [
      "100%|██████████████████████████████████████████████████████████████████████████████████| 19/19 [00:08<00:00,  2.18it/s]\n"
     ]
    }
   ],
   "source": [
    "sh000300 = ak.stock_zh_index_daily_tx(symbol=\"sh000300\")"
   ]
  },
  {
   "cell_type": "code",
   "execution_count": null,
   "id": "charged-blame",
   "metadata": {},
   "outputs": [],
   "source": []
  },
  {
   "cell_type": "code",
   "execution_count": null,
   "id": "sexual-recognition",
   "metadata": {},
   "outputs": [],
   "source": []
  },
  {
   "cell_type": "code",
   "execution_count": null,
   "id": "latest-cooperation",
   "metadata": {},
   "outputs": [],
   "source": []
  },
  {
   "cell_type": "code",
   "execution_count": null,
   "id": "brave-kansas",
   "metadata": {},
   "outputs": [],
   "source": [
    "class StrategyAlphaHedge(bt.Strategy):\n",
    "    \n",
    "#     params = (('period', 5),)\n",
    "    \n",
    "    def __init__(self):\n",
    "#         self.sma_turnover_rate = btind.SMA(self.data0.turnover_rate, period=self.p.period, plot=False)\n",
    "#         self.sma_turnover_rate15 = btind.SMA(self.data0.turnover_rate, period=7, plot=False)\n",
    "#         self.crossover = btind.CrossOver(self.sma_turnover_rate, self.sma_turnover_rate15)\n",
    "        pass\n",
    "\n",
    "    def next(self):\n",
    "#         if not self.position:\n",
    "#             if self.crossover > 0:\n",
    "#                 self.buy()\n",
    "#         elif not self.crossover < 0:\n",
    "#             self.close()\n",
    "        \n",
    "#         if not self.position:\n",
    "#             if self.data0.close > self.sma_turnover_rate:\n",
    "#                 self.buy()\n",
    "#         elif self.data0.close < self.sma_turnover_rate:\n",
    "#             self.close()\n",
    "\n",
    "        if not self.position:\n",
    "            if self.data0.turnover_rate / self.sma_turnover_rate[-1] > 2.5 and self.data0.change_rate < -4:\n",
    "                self.buy()\n",
    "        elif self.data0.turnover_rate / self.sma_turnover_rate[-1] < 1.5:\n",
    "            self.close()\n",
    "            "
   ]
  },
  {
   "cell_type": "code",
   "execution_count": null,
   "id": "spare-spain",
   "metadata": {},
   "outputs": [],
   "source": [
    "cerebro = bt.Cerebro(oldtrades=True)\n",
    "\n",
    "feed = bt.feeds.PandasData(dataname=data15, openinterest=None, compression=15, timeframe=bt.TimeFrame.Minutes)\n",
    "cerebro.adddata(feed, name='hs15m')\n",
    "cerebro.resampledata(feed, name='hs1h', timeframe=bt.TimeFrame.Minutes, compression=60)\n",
    "cerebro.resampledata(feed, name='hs1d', timeframe=bt.TimeFrame.Days)\n",
    "\n",
    "cerebro.addstrategy(StrategyAlphaHedge)\n",
    "\n",
    "# 小场面1万起始资金\n",
    "cerebro.broker.setcash(100000.0)\n",
    "\n",
    "# 手续费万5\n",
    "cerebro.broker.setcommission(0.0005)\n",
    "\n",
    "print('Starting Portfolio Value: %.2f' % cerebro.broker.getvalue())\n",
    "\n",
    "result = cerebro.run()\n",
    "\n",
    "print('Final Portfolio Value: %.2f' % cerebro.broker.getvalue())"
   ]
  }
 ],
 "metadata": {
  "kernelspec": {
   "display_name": "Python 3",
   "language": "python",
   "name": "python3"
  },
  "language_info": {
   "codemirror_mode": {
    "name": "ipython",
    "version": 3
   },
   "file_extension": ".py",
   "mimetype": "text/x-python",
   "name": "python",
   "nbconvert_exporter": "python",
   "pygments_lexer": "ipython3",
   "version": "3.7.9"
  }
 },
 "nbformat": 4,
 "nbformat_minor": 5
}
