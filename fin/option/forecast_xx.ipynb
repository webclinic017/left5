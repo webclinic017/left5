{
 "cells": [
  {
   "cell_type": "code",
   "execution_count": 1,
   "id": "f82fba6b",
   "metadata": {},
   "outputs": [],
   "source": [
    "# Data manipulation\n",
    "# ==============================================================================\n",
    "import numpy as np\n",
    "import pandas as pd\n",
    "\n",
    "# Plots\n",
    "# ==============================================================================\n",
    "import matplotlib.pyplot as plt\n",
    "plt.style.use('fivethirtyeight')\n",
    "plt.rcParams['lines.linewidth'] = 1.5\n",
    "plt.rcParams['font.size'] = 10\n",
    "plt.rcParams['figure.figsize'] = (16, 10)\n",
    "\n",
    "# Modeling and Forecasting\n",
    "# ==============================================================================\n",
    "from sklearn import preprocessing\n",
    "from sklearn.linear_model import LinearRegression\n",
    "from sklearn.linear_model import Lasso\n",
    "from sklearn.ensemble import RandomForestRegressor\n",
    "from sklearn.metrics import mean_squared_error\n",
    "from sklearn.metrics import mean_absolute_error\n",
    "from sklearn.preprocessing import StandardScaler\n",
    "\n",
    "from skforecast.ForecasterAutoreg import ForecasterAutoreg\n",
    "from skforecast.ForecasterAutoregCustom import ForecasterAutoregCustom\n",
    "from skforecast.ForecasterAutoregDirect import ForecasterAutoregDirect\n",
    "from skforecast.model_selection import grid_search_forecaster\n",
    "from skforecast.model_selection import backtesting_forecaster\n",
    "from skforecast.utils import save_forecaster\n",
    "from skforecast.utils import load_forecaster\n",
    "\n",
    "from statsmodels.tsa.stattools import adfuller\n",
    "# Warnings configuration\n",
    "# ==============================================================================\n",
    "import warnings\n",
    "# warnings.filterwarnings('ignore')"
   ]
  },
  {
   "cell_type": "code",
   "execution_count": 2,
   "id": "7ba20848",
   "metadata": {},
   "outputs": [],
   "source": [
    "# %matplotlib inline\n",
    "%matplotlib qt"
   ]
  },
  {
   "cell_type": "code",
   "execution_count": 3,
   "id": "82535f54",
   "metadata": {},
   "outputs": [],
   "source": [
    "from lutils.fin.data_loader import load, load_tq, load_ctp"
   ]
  },
  {
   "cell_type": "code",
   "execution_count": 4,
   "id": "28bc1be2",
   "metadata": {},
   "outputs": [],
   "source": [
    "exchange = 'SHFE'\n",
    "symbol_underlying = 'rb2305'"
   ]
  },
  {
   "cell_type": "code",
   "execution_count": 5,
   "id": "236f786d",
   "metadata": {},
   "outputs": [
    {
     "name": "stdout",
     "output_type": "stream",
     "text": [
      "load Z:/tq_data/ticks\\SHFE.rb2305.h5\n",
      "load Y:/fin_data\\2023-05-04\\SHFE.rb2305.h5\n",
      "load Y:/fin_data\\2023-05-05\\SHFE.rb2305.h5\n",
      "load Y:/fin_data\\2023-05-08\\SHFE.rb2305.h5\n",
      "load Y:/fin_data\\2023-05-09\\SHFE.rb2305.h5\n",
      "load Y:/fin_data\\2023-05-10\\SHFE.rb2305.h5\n",
      "load Y:/fin_data\\2023-05-11\\SHFE.rb2305.h5\n",
      "load Y:/fin_data\\2023-05-12\\SHFE.rb2305.h5\n",
      "load Y:/fin_data\\2023-05-15\\SHFE.rb2305.h5\n"
     ]
    }
   ],
   "source": [
    "df_underlying = load(exchange, symbol_underlying)"
   ]
  },
  {
   "cell_type": "code",
   "execution_count": 6,
   "id": "6cef576e",
   "metadata": {},
   "outputs": [],
   "source": [
    "df = df_underlying[['datetime', 'last_price', 'volume', 'amount', ]]"
   ]
  },
  {
   "cell_type": "code",
   "execution_count": 7,
   "id": "e6fdcc3f",
   "metadata": {},
   "outputs": [],
   "source": [
    "df = df.dropna()"
   ]
  },
  {
   "cell_type": "code",
   "execution_count": 8,
   "id": "a85dae5c",
   "metadata": {},
   "outputs": [],
   "source": [
    "df.index = df.datetime"
   ]
  },
  {
   "cell_type": "code",
   "execution_count": 9,
   "id": "7a5cd48f",
   "metadata": {},
   "outputs": [
    {
     "data": {
      "text/plain": [
       "(7034205, 4)"
      ]
     },
     "execution_count": 9,
     "metadata": {},
     "output_type": "execute_result"
    }
   ],
   "source": [
    "df.shape"
   ]
  },
  {
   "cell_type": "code",
   "execution_count": 10,
   "id": "5acd598e",
   "metadata": {},
   "outputs": [],
   "source": [
    "resample_1s = df.resample('1s').last()"
   ]
  },
  {
   "cell_type": "code",
   "execution_count": 11,
   "id": "008b6150",
   "metadata": {},
   "outputs": [],
   "source": [
    "resample_1s = resample_1s.ffill().bfill()"
   ]
  },
  {
   "cell_type": "code",
   "execution_count": 12,
   "id": "6b07b59f",
   "metadata": {},
   "outputs": [
    {
     "data": {
      "text/plain": [
       "(31431022, 4)"
      ]
     },
     "execution_count": 12,
     "metadata": {},
     "output_type": "execute_result"
    }
   ],
   "source": [
    "resample_1s.shape"
   ]
  },
  {
   "cell_type": "code",
   "execution_count": 13,
   "id": "ee36c79c",
   "metadata": {},
   "outputs": [],
   "source": [
    "df_1s = pd.concat([resample_1s.between_time('09:00', '10:15'), \n",
    "          resample_1s.between_time('10:30', '11:30'),\n",
    "          resample_1s.between_time('13:30', '15:00'),\n",
    "          resample_1s.between_time('21:00', '23:00')], axis=0).sort_index()[['last_price', 'volume', 'amount']]"
   ]
  },
  {
   "cell_type": "code",
   "execution_count": 14,
   "id": "eb4190d9",
   "metadata": {},
   "outputs": [
    {
     "data": {
      "text/plain": [
       "(7536256, 3)"
      ]
     },
     "execution_count": 14,
     "metadata": {},
     "output_type": "execute_result"
    }
   ],
   "source": [
    "df_1s.shape"
   ]
  },
  {
   "cell_type": "code",
   "execution_count": 15,
   "id": "3e4f0af6",
   "metadata": {},
   "outputs": [
    {
     "data": {
      "text/html": [
       "<div>\n",
       "<style scoped>\n",
       "    .dataframe tbody tr th:only-of-type {\n",
       "        vertical-align: middle;\n",
       "    }\n",
       "\n",
       "    .dataframe tbody tr th {\n",
       "        vertical-align: top;\n",
       "    }\n",
       "\n",
       "    .dataframe thead th {\n",
       "        text-align: right;\n",
       "    }\n",
       "</style>\n",
       "<table border=\"1\" class=\"dataframe\">\n",
       "  <thead>\n",
       "    <tr style=\"text-align: right;\">\n",
       "      <th></th>\n",
       "      <th>last_price</th>\n",
       "      <th>volume</th>\n",
       "      <th>amount</th>\n",
       "    </tr>\n",
       "    <tr>\n",
       "      <th>datetime</th>\n",
       "      <th></th>\n",
       "      <th></th>\n",
       "      <th></th>\n",
       "    </tr>\n",
       "  </thead>\n",
       "  <tbody>\n",
       "    <tr>\n",
       "      <th>2022-05-16 21:00:00</th>\n",
       "      <td>4430.0</td>\n",
       "      <td>70.0</td>\n",
       "      <td>3093500.0</td>\n",
       "    </tr>\n",
       "    <tr>\n",
       "      <th>2022-05-16 21:00:01</th>\n",
       "      <td>4430.0</td>\n",
       "      <td>75.0</td>\n",
       "      <td>3315000.0</td>\n",
       "    </tr>\n",
       "    <tr>\n",
       "      <th>2022-05-16 21:00:02</th>\n",
       "      <td>4480.0</td>\n",
       "      <td>78.0</td>\n",
       "      <td>3449400.0</td>\n",
       "    </tr>\n",
       "    <tr>\n",
       "      <th>2022-05-16 21:00:03</th>\n",
       "      <td>4480.0</td>\n",
       "      <td>78.0</td>\n",
       "      <td>3449400.0</td>\n",
       "    </tr>\n",
       "    <tr>\n",
       "      <th>2022-05-16 21:00:04</th>\n",
       "      <td>4480.0</td>\n",
       "      <td>84.0</td>\n",
       "      <td>3718200.0</td>\n",
       "    </tr>\n",
       "    <tr>\n",
       "      <th>2022-05-16 21:00:05</th>\n",
       "      <td>4480.0</td>\n",
       "      <td>86.0</td>\n",
       "      <td>3807800.0</td>\n",
       "    </tr>\n",
       "    <tr>\n",
       "      <th>2022-05-16 21:00:06</th>\n",
       "      <td>4480.0</td>\n",
       "      <td>87.0</td>\n",
       "      <td>3852600.0</td>\n",
       "    </tr>\n",
       "    <tr>\n",
       "      <th>2022-05-16 21:00:07</th>\n",
       "      <td>4480.0</td>\n",
       "      <td>87.0</td>\n",
       "      <td>3852600.0</td>\n",
       "    </tr>\n",
       "    <tr>\n",
       "      <th>2022-05-16 21:00:08</th>\n",
       "      <td>4480.0</td>\n",
       "      <td>87.0</td>\n",
       "      <td>3852600.0</td>\n",
       "    </tr>\n",
       "    <tr>\n",
       "      <th>2022-05-16 21:00:09</th>\n",
       "      <td>4480.0</td>\n",
       "      <td>87.0</td>\n",
       "      <td>3852600.0</td>\n",
       "    </tr>\n",
       "  </tbody>\n",
       "</table>\n",
       "</div>"
      ],
      "text/plain": [
       "                     last_price  volume     amount\n",
       "datetime                                          \n",
       "2022-05-16 21:00:00      4430.0    70.0  3093500.0\n",
       "2022-05-16 21:00:01      4430.0    75.0  3315000.0\n",
       "2022-05-16 21:00:02      4480.0    78.0  3449400.0\n",
       "2022-05-16 21:00:03      4480.0    78.0  3449400.0\n",
       "2022-05-16 21:00:04      4480.0    84.0  3718200.0\n",
       "2022-05-16 21:00:05      4480.0    86.0  3807800.0\n",
       "2022-05-16 21:00:06      4480.0    87.0  3852600.0\n",
       "2022-05-16 21:00:07      4480.0    87.0  3852600.0\n",
       "2022-05-16 21:00:08      4480.0    87.0  3852600.0\n",
       "2022-05-16 21:00:09      4480.0    87.0  3852600.0"
      ]
     },
     "execution_count": 15,
     "metadata": {},
     "output_type": "execute_result"
    }
   ],
   "source": [
    "df_1s.head(10)"
   ]
  },
  {
   "cell_type": "code",
   "execution_count": 16,
   "id": "9504eddc",
   "metadata": {},
   "outputs": [],
   "source": [
    "rolmean = df_1s.rolling('5T').last_price.mean()\n",
    "rolstd = df_1s.rolling('5T').last_price.std()"
   ]
  },
  {
   "cell_type": "code",
   "execution_count": 17,
   "id": "2541bc0a",
   "metadata": {},
   "outputs": [],
   "source": [
    "rolmean_shift = rolmean.shift(periods=-1, freq='5T')"
   ]
  },
  {
   "cell_type": "code",
   "execution_count": null,
   "id": "6db9ae3f",
   "metadata": {},
   "outputs": [],
   "source": []
  },
  {
   "cell_type": "code",
   "execution_count": 17,
   "id": "dc04aec8",
   "metadata": {},
   "outputs": [
    {
     "data": {
      "text/plain": [
       "<matplotlib.legend.Legend at 0x1d003633b08>"
      ]
     },
     "execution_count": 17,
     "metadata": {},
     "output_type": "execute_result"
    }
   ],
   "source": [
    "plt.plot(df_1s.last_price, label='1s')\n",
    "plt.plot(rolmean, label='5 mean')\n",
    "plt.plot(rolstd, label='5 std')\n",
    "plt.legend()"
   ]
  },
  {
   "cell_type": "code",
   "execution_count": 18,
   "id": "8c80391b",
   "metadata": {},
   "outputs": [],
   "source": [
    "logprice = np.log(df_1s.last_price)\n",
    "logmean = logprice.rolling('5T').mean()"
   ]
  },
  {
   "cell_type": "code",
   "execution_count": 20,
   "id": "e9ff4bcc",
   "metadata": {},
   "outputs": [
    {
     "data": {
      "text/plain": [
       "<matplotlib.legend.Legend at 0x1d06f5d64c8>"
      ]
     },
     "execution_count": 20,
     "metadata": {},
     "output_type": "execute_result"
    }
   ],
   "source": [
    "plt.plot(logprice, label='log price')\n",
    "plt.plot(logmean, label='log price mean')\n",
    "plt.legend()"
   ]
  },
  {
   "cell_type": "code",
   "execution_count": 19,
   "id": "88aa2a47",
   "metadata": {},
   "outputs": [],
   "source": [
    "log_mean_diff = logprice - logmean"
   ]
  },
  {
   "cell_type": "code",
   "execution_count": 20,
   "id": "ccd8259f",
   "metadata": {},
   "outputs": [],
   "source": [
    "log_mean_diff_mean = log_mean_diff.rolling('5T').mean()\n",
    "log_mean_diff_std = log_mean_diff.rolling('5T').std()"
   ]
  },
  {
   "cell_type": "code",
   "execution_count": 26,
   "id": "6c074d08",
   "metadata": {},
   "outputs": [
    {
     "data": {
      "text/plain": [
       "<matplotlib.legend.Legend at 0x1d02427e608>"
      ]
     },
     "execution_count": 26,
     "metadata": {},
     "output_type": "execute_result"
    }
   ],
   "source": [
    "plt.plot(log_mean_diff, label='log diff')\n",
    "plt.plot(log_mean_diff_mean, label='log diff mean')\n",
    "plt.plot(log_mean_diff_std, label='log diff std')\n",
    "plt.legend()"
   ]
  },
  {
   "cell_type": "code",
   "execution_count": 25,
   "id": "72d1ca50",
   "metadata": {},
   "outputs": [
    {
     "data": {
      "text/plain": [
       "datetime\n",
       "2023-01-12 09:00:00    0.000000\n",
       "2023-01-12 09:00:01    0.000000\n",
       "2023-01-12 09:00:02    0.000649\n",
       "2023-01-12 09:00:03    0.000122\n",
       "2023-01-12 09:00:04   -0.000292\n",
       "                         ...   \n",
       "2023-01-12 22:59:56    0.000541\n",
       "2023-01-12 22:59:57   -0.000190\n",
       "2023-01-12 22:59:58   -0.000194\n",
       "2023-01-12 22:59:59    0.000526\n",
       "2023-01-12 23:00:00    0.000520\n",
       "Name: last_price, Length: 20704, dtype: float64"
      ]
     },
     "execution_count": 25,
     "metadata": {},
     "output_type": "execute_result"
    }
   ],
   "source": [
    "log_mean_diff['2023-01-12']"
   ]
  },
  {
   "cell_type": "code",
   "execution_count": 21,
   "id": "bebaa124",
   "metadata": {},
   "outputs": [],
   "source": [
    "# def test_stationarity(timeseries):\n",
    "#     dftest = adfuller(timeseries, autolag='AIC')\n",
    "#     dfoutput = pd.Series(dftest[0:4], index=['Test Statistic','p-value','#Lags Used','Number of Observations Used'])\n",
    "#     for key,value in dftest[4].items():\n",
    "#         dfoutput['Critical Value (%s)'%key] = value\n",
    "#     print(dfoutput)"
   ]
  },
  {
   "cell_type": "code",
   "execution_count": 27,
   "id": "388d8e5c",
   "metadata": {},
   "outputs": [
    {
     "name": "stdout",
     "output_type": "stream",
     "text": [
      "Test Statistic                -9.980621e+00\n",
      "p-value                        2.119551e-17\n",
      "#Lags Used                     9.000000e+00\n",
      "Number of Observations Used    2.069400e+04\n",
      "Critical Value (1%)           -3.430666e+00\n",
      "Critical Value (5%)           -2.861680e+00\n",
      "Critical Value (10%)          -2.566844e+00\n",
      "dtype: float64\n"
     ]
    }
   ],
   "source": [
    "test_stationarity(log_mean_diff['2023-01-13'])"
   ]
  },
  {
   "cell_type": "code",
   "execution_count": null,
   "id": "7a93e4c7",
   "metadata": {},
   "outputs": [],
   "source": [
    "preprocessing.StandardScaler().fit(X_train)"
   ]
  },
  {
   "cell_type": "code",
   "execution_count": 11,
   "id": "c5e30f45",
   "metadata": {
    "scrolled": false
   },
   "outputs": [
    {
     "data": {
      "text/plain": [
       "datetime\n",
       "2022-06-16 09:22:27.500    4480.000000\n",
       "2022-06-16 09:22:28.000    4480.000000\n",
       "2022-06-16 09:22:34.500    4480.000000\n",
       "2022-06-16 09:22:35.000    4480.000000\n",
       "2022-06-16 09:22:35.500    4480.000000\n",
       "                              ...     \n",
       "2023-05-26 22:59:57.000    3447.174603\n",
       "2023-05-26 22:59:57.500    3447.023810\n",
       "2023-05-26 22:59:58.000    3446.873016\n",
       "2023-05-26 22:59:58.500    3446.722222\n",
       "2023-05-26 23:00:00.500    3446.495935\n",
       "Name: last_price, Length: 4773290, dtype: float64"
      ]
     },
     "execution_count": 11,
     "metadata": {},
     "output_type": "execute_result"
    }
   ],
   "source": [
    "# df.rolling('5T').last_price.mean()"
   ]
  },
  {
   "cell_type": "code",
   "execution_count": 12,
   "id": "830cef7e",
   "metadata": {},
   "outputs": [],
   "source": [
    "df_5t = df.rolling('5T').last_price.mean()"
   ]
  },
  {
   "cell_type": "code",
   "execution_count": 13,
   "id": "3238501c",
   "metadata": {},
   "outputs": [],
   "source": [
    "df_5t = df_5t[~df_5t.index.duplicated(keep='first')]"
   ]
  },
  {
   "cell_type": "code",
   "execution_count": 14,
   "id": "a70b0495",
   "metadata": {},
   "outputs": [],
   "source": [
    "# a = df_5t.index.duplicated(keep='first')"
   ]
  },
  {
   "cell_type": "code",
   "execution_count": 15,
   "id": "28adc3d8",
   "metadata": {},
   "outputs": [],
   "source": [
    "# a[a == True]"
   ]
  },
  {
   "cell_type": "code",
   "execution_count": 16,
   "id": "f14d9c6e",
   "metadata": {},
   "outputs": [
    {
     "data": {
      "text/plain": [
       "datetime\n",
       "2022-06-16 09:22:27.500    4480.0\n",
       "2022-06-16 09:22:28.000    4480.0\n",
       "2022-06-16 09:22:34.500    4480.0\n",
       "2022-06-16 09:22:35.000    4480.0\n",
       "2022-06-16 09:22:35.500    4480.0\n",
       "Name: last_price, dtype: float64"
      ]
     },
     "execution_count": 16,
     "metadata": {},
     "output_type": "execute_result"
    }
   ],
   "source": [
    "df_5t.head()"
   ]
  },
  {
   "cell_type": "code",
   "execution_count": 17,
   "id": "076bcc25",
   "metadata": {},
   "outputs": [],
   "source": [
    "df_5t_shift = df_5t.copy()"
   ]
  },
  {
   "cell_type": "code",
   "execution_count": 18,
   "id": "498ab4fc",
   "metadata": {},
   "outputs": [],
   "source": [
    "df_5t_shift.index = df_5t_shift.index + pd.DateOffset(minutes=-5)"
   ]
  },
  {
   "cell_type": "code",
   "execution_count": 19,
   "id": "15472af8",
   "metadata": {},
   "outputs": [
    {
     "data": {
      "text/plain": [
       "datetime\n",
       "2022-06-16 09:17:27.500    4480.000000\n",
       "2022-06-16 09:17:28.000    4480.000000\n",
       "2022-06-16 09:17:34.500    4480.000000\n",
       "2022-06-16 09:17:35.000    4480.000000\n",
       "2022-06-16 09:17:35.500    4480.000000\n",
       "                              ...     \n",
       "2023-05-26 22:54:57.000    3447.174603\n",
       "2023-05-26 22:54:57.500    3447.023810\n",
       "2023-05-26 22:54:58.000    3446.873016\n",
       "2023-05-26 22:54:58.500    3446.722222\n",
       "2023-05-26 22:55:00.500    3446.495935\n",
       "Name: last_price, Length: 4773258, dtype: float64"
      ]
     },
     "execution_count": 19,
     "metadata": {},
     "output_type": "execute_result"
    }
   ],
   "source": [
    "df_5t_shift"
   ]
  },
  {
   "cell_type": "code",
   "execution_count": null,
   "id": "266464b9",
   "metadata": {},
   "outputs": [],
   "source": [
    "# df_5t_shift.index.get_indexer([30, 25, 58, 50, 69], method=\"nearest\")"
   ]
  },
  {
   "cell_type": "code",
   "execution_count": 20,
   "id": "7a9de00a",
   "metadata": {},
   "outputs": [],
   "source": [
    "a = df_5t_shift[df_5t_shift.index.get_indexer(df_5t.index, method='nearest')]\n",
    "\n",
    "# df_5t_shift.iloc[df_5t.index.get_loc(dt, method='nearest')]"
   ]
  },
  {
   "cell_type": "code",
   "execution_count": 21,
   "id": "9821e93c",
   "metadata": {},
   "outputs": [
    {
     "data": {
      "text/plain": [
       "datetime\n",
       "2022-06-16 09:22:27.500    4480.000000\n",
       "2022-06-16 09:22:28.000    4480.000000\n",
       "2022-06-16 09:22:34.500    4480.000000\n",
       "2022-06-16 09:22:35.000    4480.000000\n",
       "2022-06-16 09:22:35.500    4480.000000\n",
       "                              ...     \n",
       "2023-05-26 22:59:57.000    3447.174603\n",
       "2023-05-26 22:59:57.500    3447.023810\n",
       "2023-05-26 22:59:58.000    3446.873016\n",
       "2023-05-26 22:59:58.500    3446.722222\n",
       "2023-05-26 23:00:00.500    3446.495935\n",
       "Name: last_price, Length: 4773258, dtype: float64"
      ]
     },
     "execution_count": 21,
     "metadata": {},
     "output_type": "execute_result"
    }
   ],
   "source": [
    "df_5t"
   ]
  },
  {
   "cell_type": "code",
   "execution_count": 22,
   "id": "50b98fda",
   "metadata": {},
   "outputs": [],
   "source": [
    "# df_5t_shift.index.get_loc(df_5t.index[0], method='nearest')"
   ]
  },
  {
   "cell_type": "code",
   "execution_count": 29,
   "id": "6db67ce5",
   "metadata": {},
   "outputs": [
    {
     "data": {
      "text/plain": [
       "<matplotlib.legend.Legend at 0x1278c4f81c8>"
      ]
     },
     "execution_count": 29,
     "metadata": {},
     "output_type": "execute_result"
    }
   ],
   "source": [
    "plt.plot(df_5t, label='5t')\n",
    "plt.plot(df_5t_shift, label='5 shift')\n",
    "plt.legend()"
   ]
  },
  {
   "cell_type": "code",
   "execution_count": 30,
   "id": "4ddd6570",
   "metadata": {},
   "outputs": [
    {
     "data": {
      "text/plain": [
       "Timestamp('2022-06-16 09:22:27.500000')"
      ]
     },
     "execution_count": 30,
     "metadata": {},
     "output_type": "execute_result"
    }
   ],
   "source": [
    "df_5t.index[0]"
   ]
  },
  {
   "cell_type": "code",
   "execution_count": 20,
   "id": "51340735",
   "metadata": {},
   "outputs": [],
   "source": [
    "df_5t.index.get_indexer?"
   ]
  },
  {
   "cell_type": "code",
   "execution_count": 10,
   "id": "254779fd",
   "metadata": {},
   "outputs": [],
   "source": [
    "price_min = df['last_price'].resample('1Min', closed='left', label='right').ohlc(_method='ohlc')\n",
    "_volume = df['volume'].diff(1).fillna(0)\n",
    "volume_min = _volume.resample('1Min', closed='left', label='right').sum()\n",
    "_amount = df['amount'].diff(1).fillna(0)\n",
    "amount_min = _amount.resample('1Min', closed='left', label='right').sum()\n",
    "df_min = pd.concat([price_min, volume_min, amount_min], axis=1)"
   ]
  },
  {
   "cell_type": "code",
   "execution_count": 11,
   "id": "a37fc869",
   "metadata": {},
   "outputs": [
    {
     "data": {
      "text/html": [
       "<div>\n",
       "<style scoped>\n",
       "    .dataframe tbody tr th:only-of-type {\n",
       "        vertical-align: middle;\n",
       "    }\n",
       "\n",
       "    .dataframe tbody tr th {\n",
       "        vertical-align: top;\n",
       "    }\n",
       "\n",
       "    .dataframe thead th {\n",
       "        text-align: right;\n",
       "    }\n",
       "</style>\n",
       "<table border=\"1\" class=\"dataframe\">\n",
       "  <thead>\n",
       "    <tr style=\"text-align: right;\">\n",
       "      <th></th>\n",
       "      <th>open</th>\n",
       "      <th>high</th>\n",
       "      <th>low</th>\n",
       "      <th>close</th>\n",
       "      <th>volume</th>\n",
       "      <th>amount</th>\n",
       "    </tr>\n",
       "    <tr>\n",
       "      <th>datetime</th>\n",
       "      <th></th>\n",
       "      <th></th>\n",
       "      <th></th>\n",
       "      <th></th>\n",
       "      <th></th>\n",
       "      <th></th>\n",
       "    </tr>\n",
       "  </thead>\n",
       "  <tbody>\n",
       "    <tr>\n",
       "      <th>2022-06-16 09:23:00</th>\n",
       "      <td>4480.0</td>\n",
       "      <td>4480.0</td>\n",
       "      <td>4480.0</td>\n",
       "      <td>4480.0</td>\n",
       "      <td>0.0</td>\n",
       "      <td>0.0</td>\n",
       "    </tr>\n",
       "    <tr>\n",
       "      <th>2022-06-16 09:24:00</th>\n",
       "      <td>4480.0</td>\n",
       "      <td>4480.0</td>\n",
       "      <td>4480.0</td>\n",
       "      <td>4480.0</td>\n",
       "      <td>0.0</td>\n",
       "      <td>0.0</td>\n",
       "    </tr>\n",
       "    <tr>\n",
       "      <th>2022-06-16 09:25:00</th>\n",
       "      <td>4480.0</td>\n",
       "      <td>4480.0</td>\n",
       "      <td>4480.0</td>\n",
       "      <td>4480.0</td>\n",
       "      <td>0.0</td>\n",
       "      <td>0.0</td>\n",
       "    </tr>\n",
       "    <tr>\n",
       "      <th>2022-06-16 09:26:00</th>\n",
       "      <td>NaN</td>\n",
       "      <td>NaN</td>\n",
       "      <td>NaN</td>\n",
       "      <td>NaN</td>\n",
       "      <td>0.0</td>\n",
       "      <td>0.0</td>\n",
       "    </tr>\n",
       "    <tr>\n",
       "      <th>2022-06-16 09:27:00</th>\n",
       "      <td>4480.0</td>\n",
       "      <td>4480.0</td>\n",
       "      <td>4480.0</td>\n",
       "      <td>4480.0</td>\n",
       "      <td>0.0</td>\n",
       "      <td>0.0</td>\n",
       "    </tr>\n",
       "    <tr>\n",
       "      <th>...</th>\n",
       "      <td>...</td>\n",
       "      <td>...</td>\n",
       "      <td>...</td>\n",
       "      <td>...</td>\n",
       "      <td>...</td>\n",
       "      <td>...</td>\n",
       "    </tr>\n",
       "    <tr>\n",
       "      <th>2023-05-24 22:57:00</th>\n",
       "      <td>3450.0</td>\n",
       "      <td>3451.0</td>\n",
       "      <td>3449.0</td>\n",
       "      <td>3449.0</td>\n",
       "      <td>91.0</td>\n",
       "      <td>3138860.0</td>\n",
       "    </tr>\n",
       "    <tr>\n",
       "      <th>2023-05-24 22:58:00</th>\n",
       "      <td>3449.0</td>\n",
       "      <td>3451.0</td>\n",
       "      <td>3449.0</td>\n",
       "      <td>3451.0</td>\n",
       "      <td>7.0</td>\n",
       "      <td>241450.0</td>\n",
       "    </tr>\n",
       "    <tr>\n",
       "      <th>2023-05-24 22:59:00</th>\n",
       "      <td>3451.0</td>\n",
       "      <td>3451.0</td>\n",
       "      <td>3451.0</td>\n",
       "      <td>3451.0</td>\n",
       "      <td>0.0</td>\n",
       "      <td>0.0</td>\n",
       "    </tr>\n",
       "    <tr>\n",
       "      <th>2023-05-24 23:00:00</th>\n",
       "      <td>3451.0</td>\n",
       "      <td>3458.0</td>\n",
       "      <td>3447.0</td>\n",
       "      <td>3452.0</td>\n",
       "      <td>63.0</td>\n",
       "      <td>2173610.0</td>\n",
       "    </tr>\n",
       "    <tr>\n",
       "      <th>2023-05-24 23:01:00</th>\n",
       "      <td>3452.0</td>\n",
       "      <td>3452.0</td>\n",
       "      <td>3452.0</td>\n",
       "      <td>3452.0</td>\n",
       "      <td>0.0</td>\n",
       "      <td>0.0</td>\n",
       "    </tr>\n",
       "  </tbody>\n",
       "</table>\n",
       "<p>493299 rows × 6 columns</p>\n",
       "</div>"
      ],
      "text/plain": [
       "                       open    high     low   close  volume     amount\n",
       "datetime                                                              \n",
       "2022-06-16 09:23:00  4480.0  4480.0  4480.0  4480.0     0.0        0.0\n",
       "2022-06-16 09:24:00  4480.0  4480.0  4480.0  4480.0     0.0        0.0\n",
       "2022-06-16 09:25:00  4480.0  4480.0  4480.0  4480.0     0.0        0.0\n",
       "2022-06-16 09:26:00     NaN     NaN     NaN     NaN     0.0        0.0\n",
       "2022-06-16 09:27:00  4480.0  4480.0  4480.0  4480.0     0.0        0.0\n",
       "...                     ...     ...     ...     ...     ...        ...\n",
       "2023-05-24 22:57:00  3450.0  3451.0  3449.0  3449.0    91.0  3138860.0\n",
       "2023-05-24 22:58:00  3449.0  3451.0  3449.0  3451.0     7.0   241450.0\n",
       "2023-05-24 22:59:00  3451.0  3451.0  3451.0  3451.0     0.0        0.0\n",
       "2023-05-24 23:00:00  3451.0  3458.0  3447.0  3452.0    63.0  2173610.0\n",
       "2023-05-24 23:01:00  3452.0  3452.0  3452.0  3452.0     0.0        0.0\n",
       "\n",
       "[493299 rows x 6 columns]"
      ]
     },
     "execution_count": 11,
     "metadata": {},
     "output_type": "execute_result"
    }
   ],
   "source": [
    "df_min"
   ]
  },
  {
   "cell_type": "code",
   "execution_count": 12,
   "id": "63d6c412",
   "metadata": {},
   "outputs": [
    {
     "data": {
      "text/plain": [
       "open      NaN\n",
       "high      NaN\n",
       "low       NaN\n",
       "close     NaN\n",
       "volume    0.0\n",
       "amount    0.0\n",
       "Name: 2022-06-16 09:43:00, dtype: float64"
      ]
     },
     "execution_count": 12,
     "metadata": {},
     "output_type": "execute_result"
    }
   ],
   "source": [
    "df_min.loc['2022-06-16 09:43']"
   ]
  },
  {
   "cell_type": "code",
   "execution_count": 13,
   "id": "f2989a5d",
   "metadata": {},
   "outputs": [
    {
     "data": {
      "text/html": [
       "<div>\n",
       "<style scoped>\n",
       "    .dataframe tbody tr th:only-of-type {\n",
       "        vertical-align: middle;\n",
       "    }\n",
       "\n",
       "    .dataframe tbody tr th {\n",
       "        vertical-align: top;\n",
       "    }\n",
       "\n",
       "    .dataframe thead th {\n",
       "        text-align: right;\n",
       "    }\n",
       "</style>\n",
       "<table border=\"1\" class=\"dataframe\">\n",
       "  <thead>\n",
       "    <tr style=\"text-align: right;\">\n",
       "      <th></th>\n",
       "      <th>open</th>\n",
       "      <th>high</th>\n",
       "      <th>low</th>\n",
       "      <th>close</th>\n",
       "      <th>volume</th>\n",
       "      <th>amount</th>\n",
       "    </tr>\n",
       "    <tr>\n",
       "      <th>datetime</th>\n",
       "      <th></th>\n",
       "      <th></th>\n",
       "      <th></th>\n",
       "      <th></th>\n",
       "      <th></th>\n",
       "      <th></th>\n",
       "    </tr>\n",
       "  </thead>\n",
       "  <tbody>\n",
       "    <tr>\n",
       "      <th>2022-06-16 09:26:00</th>\n",
       "      <td>NaN</td>\n",
       "      <td>NaN</td>\n",
       "      <td>NaN</td>\n",
       "      <td>NaN</td>\n",
       "      <td>0.0</td>\n",
       "      <td>0.0</td>\n",
       "    </tr>\n",
       "    <tr>\n",
       "      <th>2022-06-16 09:43:00</th>\n",
       "      <td>NaN</td>\n",
       "      <td>NaN</td>\n",
       "      <td>NaN</td>\n",
       "      <td>NaN</td>\n",
       "      <td>0.0</td>\n",
       "      <td>0.0</td>\n",
       "    </tr>\n",
       "    <tr>\n",
       "      <th>2022-06-16 09:44:00</th>\n",
       "      <td>NaN</td>\n",
       "      <td>NaN</td>\n",
       "      <td>NaN</td>\n",
       "      <td>NaN</td>\n",
       "      <td>0.0</td>\n",
       "      <td>0.0</td>\n",
       "    </tr>\n",
       "    <tr>\n",
       "      <th>2022-06-16 09:48:00</th>\n",
       "      <td>NaN</td>\n",
       "      <td>NaN</td>\n",
       "      <td>NaN</td>\n",
       "      <td>NaN</td>\n",
       "      <td>0.0</td>\n",
       "      <td>0.0</td>\n",
       "    </tr>\n",
       "    <tr>\n",
       "      <th>2022-06-16 09:53:00</th>\n",
       "      <td>NaN</td>\n",
       "      <td>NaN</td>\n",
       "      <td>NaN</td>\n",
       "      <td>NaN</td>\n",
       "      <td>0.0</td>\n",
       "      <td>0.0</td>\n",
       "    </tr>\n",
       "    <tr>\n",
       "      <th>...</th>\n",
       "      <td>...</td>\n",
       "      <td>...</td>\n",
       "      <td>...</td>\n",
       "      <td>...</td>\n",
       "      <td>...</td>\n",
       "      <td>...</td>\n",
       "    </tr>\n",
       "    <tr>\n",
       "      <th>2023-05-24 20:55:00</th>\n",
       "      <td>NaN</td>\n",
       "      <td>NaN</td>\n",
       "      <td>NaN</td>\n",
       "      <td>NaN</td>\n",
       "      <td>0.0</td>\n",
       "      <td>0.0</td>\n",
       "    </tr>\n",
       "    <tr>\n",
       "      <th>2023-05-24 20:56:00</th>\n",
       "      <td>NaN</td>\n",
       "      <td>NaN</td>\n",
       "      <td>NaN</td>\n",
       "      <td>NaN</td>\n",
       "      <td>0.0</td>\n",
       "      <td>0.0</td>\n",
       "    </tr>\n",
       "    <tr>\n",
       "      <th>2023-05-24 20:57:00</th>\n",
       "      <td>NaN</td>\n",
       "      <td>NaN</td>\n",
       "      <td>NaN</td>\n",
       "      <td>NaN</td>\n",
       "      <td>0.0</td>\n",
       "      <td>0.0</td>\n",
       "    </tr>\n",
       "    <tr>\n",
       "      <th>2023-05-24 20:58:00</th>\n",
       "      <td>NaN</td>\n",
       "      <td>NaN</td>\n",
       "      <td>NaN</td>\n",
       "      <td>NaN</td>\n",
       "      <td>0.0</td>\n",
       "      <td>0.0</td>\n",
       "    </tr>\n",
       "    <tr>\n",
       "      <th>2023-05-24 20:59:00</th>\n",
       "      <td>NaN</td>\n",
       "      <td>NaN</td>\n",
       "      <td>NaN</td>\n",
       "      <td>NaN</td>\n",
       "      <td>0.0</td>\n",
       "      <td>0.0</td>\n",
       "    </tr>\n",
       "  </tbody>\n",
       "</table>\n",
       "<p>416416 rows × 6 columns</p>\n",
       "</div>"
      ],
      "text/plain": [
       "                     open  high  low  close  volume  amount\n",
       "datetime                                                   \n",
       "2022-06-16 09:26:00   NaN   NaN  NaN    NaN     0.0     0.0\n",
       "2022-06-16 09:43:00   NaN   NaN  NaN    NaN     0.0     0.0\n",
       "2022-06-16 09:44:00   NaN   NaN  NaN    NaN     0.0     0.0\n",
       "2022-06-16 09:48:00   NaN   NaN  NaN    NaN     0.0     0.0\n",
       "2022-06-16 09:53:00   NaN   NaN  NaN    NaN     0.0     0.0\n",
       "...                   ...   ...  ...    ...     ...     ...\n",
       "2023-05-24 20:55:00   NaN   NaN  NaN    NaN     0.0     0.0\n",
       "2023-05-24 20:56:00   NaN   NaN  NaN    NaN     0.0     0.0\n",
       "2023-05-24 20:57:00   NaN   NaN  NaN    NaN     0.0     0.0\n",
       "2023-05-24 20:58:00   NaN   NaN  NaN    NaN     0.0     0.0\n",
       "2023-05-24 20:59:00   NaN   NaN  NaN    NaN     0.0     0.0\n",
       "\n",
       "[416416 rows x 6 columns]"
      ]
     },
     "execution_count": 13,
     "metadata": {},
     "output_type": "execute_result"
    }
   ],
   "source": [
    "df_min[pd.isna(df_min.open)]"
   ]
  },
  {
   "cell_type": "code",
   "execution_count": 14,
   "id": "5285d4c9",
   "metadata": {},
   "outputs": [
    {
     "data": {
      "text/html": [
       "<div>\n",
       "<style scoped>\n",
       "    .dataframe tbody tr th:only-of-type {\n",
       "        vertical-align: middle;\n",
       "    }\n",
       "\n",
       "    .dataframe tbody tr th {\n",
       "        vertical-align: top;\n",
       "    }\n",
       "\n",
       "    .dataframe thead th {\n",
       "        text-align: right;\n",
       "    }\n",
       "</style>\n",
       "<table border=\"1\" class=\"dataframe\">\n",
       "  <thead>\n",
       "    <tr style=\"text-align: right;\">\n",
       "      <th></th>\n",
       "      <th>open</th>\n",
       "      <th>high</th>\n",
       "      <th>low</th>\n",
       "      <th>close</th>\n",
       "      <th>volume</th>\n",
       "      <th>amount</th>\n",
       "    </tr>\n",
       "    <tr>\n",
       "      <th>datetime</th>\n",
       "      <th></th>\n",
       "      <th></th>\n",
       "      <th></th>\n",
       "      <th></th>\n",
       "      <th></th>\n",
       "      <th></th>\n",
       "    </tr>\n",
       "  </thead>\n",
       "  <tbody>\n",
       "    <tr>\n",
       "      <th>2022-06-16 09:23:00</th>\n",
       "      <td>4480.0</td>\n",
       "      <td>4480.0</td>\n",
       "      <td>4480.0</td>\n",
       "      <td>4480.0</td>\n",
       "      <td>0.0</td>\n",
       "      <td>0.0</td>\n",
       "    </tr>\n",
       "    <tr>\n",
       "      <th>2022-06-16 09:24:00</th>\n",
       "      <td>4480.0</td>\n",
       "      <td>4480.0</td>\n",
       "      <td>4480.0</td>\n",
       "      <td>4480.0</td>\n",
       "      <td>0.0</td>\n",
       "      <td>0.0</td>\n",
       "    </tr>\n",
       "    <tr>\n",
       "      <th>2022-06-16 09:25:00</th>\n",
       "      <td>4480.0</td>\n",
       "      <td>4480.0</td>\n",
       "      <td>4480.0</td>\n",
       "      <td>4480.0</td>\n",
       "      <td>0.0</td>\n",
       "      <td>0.0</td>\n",
       "    </tr>\n",
       "    <tr>\n",
       "      <th>2022-06-16 09:27:00</th>\n",
       "      <td>4480.0</td>\n",
       "      <td>4480.0</td>\n",
       "      <td>4480.0</td>\n",
       "      <td>4480.0</td>\n",
       "      <td>0.0</td>\n",
       "      <td>0.0</td>\n",
       "    </tr>\n",
       "    <tr>\n",
       "      <th>2022-06-16 09:28:00</th>\n",
       "      <td>4480.0</td>\n",
       "      <td>4480.0</td>\n",
       "      <td>4480.0</td>\n",
       "      <td>4480.0</td>\n",
       "      <td>0.0</td>\n",
       "      <td>0.0</td>\n",
       "    </tr>\n",
       "    <tr>\n",
       "      <th>...</th>\n",
       "      <td>...</td>\n",
       "      <td>...</td>\n",
       "      <td>...</td>\n",
       "      <td>...</td>\n",
       "      <td>...</td>\n",
       "      <td>...</td>\n",
       "    </tr>\n",
       "    <tr>\n",
       "      <th>2023-05-24 22:57:00</th>\n",
       "      <td>3450.0</td>\n",
       "      <td>3451.0</td>\n",
       "      <td>3449.0</td>\n",
       "      <td>3449.0</td>\n",
       "      <td>91.0</td>\n",
       "      <td>3138860.0</td>\n",
       "    </tr>\n",
       "    <tr>\n",
       "      <th>2023-05-24 22:58:00</th>\n",
       "      <td>3449.0</td>\n",
       "      <td>3451.0</td>\n",
       "      <td>3449.0</td>\n",
       "      <td>3451.0</td>\n",
       "      <td>7.0</td>\n",
       "      <td>241450.0</td>\n",
       "    </tr>\n",
       "    <tr>\n",
       "      <th>2023-05-24 22:59:00</th>\n",
       "      <td>3451.0</td>\n",
       "      <td>3451.0</td>\n",
       "      <td>3451.0</td>\n",
       "      <td>3451.0</td>\n",
       "      <td>0.0</td>\n",
       "      <td>0.0</td>\n",
       "    </tr>\n",
       "    <tr>\n",
       "      <th>2023-05-24 23:00:00</th>\n",
       "      <td>3451.0</td>\n",
       "      <td>3458.0</td>\n",
       "      <td>3447.0</td>\n",
       "      <td>3452.0</td>\n",
       "      <td>63.0</td>\n",
       "      <td>2173610.0</td>\n",
       "    </tr>\n",
       "    <tr>\n",
       "      <th>2023-05-24 23:01:00</th>\n",
       "      <td>3452.0</td>\n",
       "      <td>3452.0</td>\n",
       "      <td>3452.0</td>\n",
       "      <td>3452.0</td>\n",
       "      <td>0.0</td>\n",
       "      <td>0.0</td>\n",
       "    </tr>\n",
       "  </tbody>\n",
       "</table>\n",
       "<p>76883 rows × 6 columns</p>\n",
       "</div>"
      ],
      "text/plain": [
       "                       open    high     low   close  volume     amount\n",
       "datetime                                                              \n",
       "2022-06-16 09:23:00  4480.0  4480.0  4480.0  4480.0     0.0        0.0\n",
       "2022-06-16 09:24:00  4480.0  4480.0  4480.0  4480.0     0.0        0.0\n",
       "2022-06-16 09:25:00  4480.0  4480.0  4480.0  4480.0     0.0        0.0\n",
       "2022-06-16 09:27:00  4480.0  4480.0  4480.0  4480.0     0.0        0.0\n",
       "2022-06-16 09:28:00  4480.0  4480.0  4480.0  4480.0     0.0        0.0\n",
       "...                     ...     ...     ...     ...     ...        ...\n",
       "2023-05-24 22:57:00  3450.0  3451.0  3449.0  3449.0    91.0  3138860.0\n",
       "2023-05-24 22:58:00  3449.0  3451.0  3449.0  3451.0     7.0   241450.0\n",
       "2023-05-24 22:59:00  3451.0  3451.0  3451.0  3451.0     0.0        0.0\n",
       "2023-05-24 23:00:00  3451.0  3458.0  3447.0  3452.0    63.0  2173610.0\n",
       "2023-05-24 23:01:00  3452.0  3452.0  3452.0  3452.0     0.0        0.0\n",
       "\n",
       "[76883 rows x 6 columns]"
      ]
     },
     "execution_count": 14,
     "metadata": {},
     "output_type": "execute_result"
    }
   ],
   "source": [
    "df_min.dropna()"
   ]
  },
  {
   "cell_type": "code",
   "execution_count": 56,
   "id": "2bf2c5df",
   "metadata": {},
   "outputs": [
    {
     "data": {
      "text/plain": [
       "nan"
      ]
     },
     "execution_count": 56,
     "metadata": {},
     "output_type": "execute_result"
    }
   ],
   "source": [
    "np.nan"
   ]
  },
  {
   "cell_type": "code",
   "execution_count": 60,
   "id": "2c157cc8",
   "metadata": {},
   "outputs": [
    {
     "data": {
      "text/plain": [
       "False"
      ]
     },
     "execution_count": 60,
     "metadata": {},
     "output_type": "execute_result"
    }
   ],
   "source": [
    "pd.isna(df_min.iloc[2].open)"
   ]
  },
  {
   "cell_type": "code",
   "execution_count": null,
   "id": "c11105c4",
   "metadata": {},
   "outputs": [],
   "source": [
    "df_min"
   ]
  },
  {
   "cell_type": "code",
   "execution_count": 21,
   "id": "ed08565c",
   "metadata": {},
   "outputs": [],
   "source": [
    "a = df.iloc[:20]"
   ]
  },
  {
   "cell_type": "code",
   "execution_count": 23,
   "id": "f0ff273b",
   "metadata": {},
   "outputs": [
    {
     "data": {
      "text/html": [
       "<div>\n",
       "<style scoped>\n",
       "    .dataframe tbody tr th:only-of-type {\n",
       "        vertical-align: middle;\n",
       "    }\n",
       "\n",
       "    .dataframe tbody tr th {\n",
       "        vertical-align: top;\n",
       "    }\n",
       "\n",
       "    .dataframe thead th {\n",
       "        text-align: right;\n",
       "    }\n",
       "</style>\n",
       "<table border=\"1\" class=\"dataframe\">\n",
       "  <thead>\n",
       "    <tr style=\"text-align: right;\">\n",
       "      <th></th>\n",
       "      <th>datetime</th>\n",
       "      <th>last_price</th>\n",
       "      <th>volume</th>\n",
       "      <th>amount</th>\n",
       "    </tr>\n",
       "    <tr>\n",
       "      <th>datetime</th>\n",
       "      <th></th>\n",
       "      <th></th>\n",
       "      <th></th>\n",
       "      <th></th>\n",
       "    </tr>\n",
       "  </thead>\n",
       "  <tbody>\n",
       "    <tr>\n",
       "      <th>2022-06-16 09:22:27.500</th>\n",
       "      <td>2022-06-16 09:22:27.500</td>\n",
       "      <td>4480.0</td>\n",
       "      <td>1</td>\n",
       "      <td>44800.0</td>\n",
       "    </tr>\n",
       "    <tr>\n",
       "      <th>2022-06-16 09:22:28.000</th>\n",
       "      <td>2022-06-16 09:22:28.000</td>\n",
       "      <td>4480.0</td>\n",
       "      <td>1</td>\n",
       "      <td>44800.0</td>\n",
       "    </tr>\n",
       "    <tr>\n",
       "      <th>2022-06-16 09:22:34.500</th>\n",
       "      <td>2022-06-16 09:22:34.500</td>\n",
       "      <td>4480.0</td>\n",
       "      <td>1</td>\n",
       "      <td>44800.0</td>\n",
       "    </tr>\n",
       "    <tr>\n",
       "      <th>2022-06-16 09:22:35.000</th>\n",
       "      <td>2022-06-16 09:22:35.000</td>\n",
       "      <td>4480.0</td>\n",
       "      <td>1</td>\n",
       "      <td>44800.0</td>\n",
       "    </tr>\n",
       "    <tr>\n",
       "      <th>2022-06-16 09:22:35.500</th>\n",
       "      <td>2022-06-16 09:22:35.500</td>\n",
       "      <td>4480.0</td>\n",
       "      <td>1</td>\n",
       "      <td>44800.0</td>\n",
       "    </tr>\n",
       "    <tr>\n",
       "      <th>2022-06-16 09:22:50.500</th>\n",
       "      <td>2022-06-16 09:22:50.500</td>\n",
       "      <td>4480.0</td>\n",
       "      <td>1</td>\n",
       "      <td>44800.0</td>\n",
       "    </tr>\n",
       "    <tr>\n",
       "      <th>2022-06-16 09:23:03.500</th>\n",
       "      <td>2022-06-16 09:23:03.500</td>\n",
       "      <td>4480.0</td>\n",
       "      <td>1</td>\n",
       "      <td>44800.0</td>\n",
       "    </tr>\n",
       "    <tr>\n",
       "      <th>2022-06-16 09:23:04.000</th>\n",
       "      <td>2022-06-16 09:23:04.000</td>\n",
       "      <td>4480.0</td>\n",
       "      <td>1</td>\n",
       "      <td>44800.0</td>\n",
       "    </tr>\n",
       "    <tr>\n",
       "      <th>2022-06-16 09:24:06.000</th>\n",
       "      <td>2022-06-16 09:24:06.000</td>\n",
       "      <td>4480.0</td>\n",
       "      <td>1</td>\n",
       "      <td>44800.0</td>\n",
       "    </tr>\n",
       "    <tr>\n",
       "      <th>2022-06-16 09:24:06.500</th>\n",
       "      <td>2022-06-16 09:24:06.500</td>\n",
       "      <td>4480.0</td>\n",
       "      <td>1</td>\n",
       "      <td>44800.0</td>\n",
       "    </tr>\n",
       "    <tr>\n",
       "      <th>2022-06-16 09:24:07.000</th>\n",
       "      <td>2022-06-16 09:24:07.000</td>\n",
       "      <td>4480.0</td>\n",
       "      <td>1</td>\n",
       "      <td>44800.0</td>\n",
       "    </tr>\n",
       "    <tr>\n",
       "      <th>2022-06-16 09:26:08.500</th>\n",
       "      <td>2022-06-16 09:26:08.500</td>\n",
       "      <td>4480.0</td>\n",
       "      <td>1</td>\n",
       "      <td>44800.0</td>\n",
       "    </tr>\n",
       "    <tr>\n",
       "      <th>2022-06-16 09:27:08.000</th>\n",
       "      <td>2022-06-16 09:27:08.000</td>\n",
       "      <td>4480.0</td>\n",
       "      <td>1</td>\n",
       "      <td>44800.0</td>\n",
       "    </tr>\n",
       "    <tr>\n",
       "      <th>2022-06-16 09:27:09.000</th>\n",
       "      <td>2022-06-16 09:27:09.000</td>\n",
       "      <td>4480.0</td>\n",
       "      <td>1</td>\n",
       "      <td>44800.0</td>\n",
       "    </tr>\n",
       "    <tr>\n",
       "      <th>2022-06-16 09:27:09.500</th>\n",
       "      <td>2022-06-16 09:27:09.500</td>\n",
       "      <td>4480.0</td>\n",
       "      <td>1</td>\n",
       "      <td>44800.0</td>\n",
       "    </tr>\n",
       "    <tr>\n",
       "      <th>2022-06-16 09:27:10.000</th>\n",
       "      <td>2022-06-16 09:27:10.000</td>\n",
       "      <td>4480.0</td>\n",
       "      <td>1</td>\n",
       "      <td>44800.0</td>\n",
       "    </tr>\n",
       "    <tr>\n",
       "      <th>2022-06-16 09:27:11.000</th>\n",
       "      <td>2022-06-16 09:27:11.000</td>\n",
       "      <td>4480.0</td>\n",
       "      <td>1</td>\n",
       "      <td>44800.0</td>\n",
       "    </tr>\n",
       "    <tr>\n",
       "      <th>2022-06-16 09:27:11.500</th>\n",
       "      <td>2022-06-16 09:27:11.500</td>\n",
       "      <td>4480.0</td>\n",
       "      <td>1</td>\n",
       "      <td>44800.0</td>\n",
       "    </tr>\n",
       "    <tr>\n",
       "      <th>2022-06-16 09:27:12.000</th>\n",
       "      <td>2022-06-16 09:27:12.000</td>\n",
       "      <td>4480.0</td>\n",
       "      <td>1</td>\n",
       "      <td>44800.0</td>\n",
       "    </tr>\n",
       "    <tr>\n",
       "      <th>2022-06-16 09:27:23.000</th>\n",
       "      <td>2022-06-16 09:27:23.000</td>\n",
       "      <td>4480.0</td>\n",
       "      <td>1</td>\n",
       "      <td>44800.0</td>\n",
       "    </tr>\n",
       "  </tbody>\n",
       "</table>\n",
       "</div>"
      ],
      "text/plain": [
       "                                       datetime  last_price  volume   amount\n",
       "datetime                                                                    \n",
       "2022-06-16 09:22:27.500 2022-06-16 09:22:27.500      4480.0       1  44800.0\n",
       "2022-06-16 09:22:28.000 2022-06-16 09:22:28.000      4480.0       1  44800.0\n",
       "2022-06-16 09:22:34.500 2022-06-16 09:22:34.500      4480.0       1  44800.0\n",
       "2022-06-16 09:22:35.000 2022-06-16 09:22:35.000      4480.0       1  44800.0\n",
       "2022-06-16 09:22:35.500 2022-06-16 09:22:35.500      4480.0       1  44800.0\n",
       "2022-06-16 09:22:50.500 2022-06-16 09:22:50.500      4480.0       1  44800.0\n",
       "2022-06-16 09:23:03.500 2022-06-16 09:23:03.500      4480.0       1  44800.0\n",
       "2022-06-16 09:23:04.000 2022-06-16 09:23:04.000      4480.0       1  44800.0\n",
       "2022-06-16 09:24:06.000 2022-06-16 09:24:06.000      4480.0       1  44800.0\n",
       "2022-06-16 09:24:06.500 2022-06-16 09:24:06.500      4480.0       1  44800.0\n",
       "2022-06-16 09:24:07.000 2022-06-16 09:24:07.000      4480.0       1  44800.0\n",
       "2022-06-16 09:26:08.500 2022-06-16 09:26:08.500      4480.0       1  44800.0\n",
       "2022-06-16 09:27:08.000 2022-06-16 09:27:08.000      4480.0       1  44800.0\n",
       "2022-06-16 09:27:09.000 2022-06-16 09:27:09.000      4480.0       1  44800.0\n",
       "2022-06-16 09:27:09.500 2022-06-16 09:27:09.500      4480.0       1  44800.0\n",
       "2022-06-16 09:27:10.000 2022-06-16 09:27:10.000      4480.0       1  44800.0\n",
       "2022-06-16 09:27:11.000 2022-06-16 09:27:11.000      4480.0       1  44800.0\n",
       "2022-06-16 09:27:11.500 2022-06-16 09:27:11.500      4480.0       1  44800.0\n",
       "2022-06-16 09:27:12.000 2022-06-16 09:27:12.000      4480.0       1  44800.0\n",
       "2022-06-16 09:27:23.000 2022-06-16 09:27:23.000      4480.0       1  44800.0"
      ]
     },
     "execution_count": 23,
     "metadata": {},
     "output_type": "execute_result"
    }
   ],
   "source": [
    "a"
   ]
  },
  {
   "cell_type": "code",
   "execution_count": 31,
   "id": "0cf75662",
   "metadata": {},
   "outputs": [
    {
     "data": {
      "text/html": [
       "<div>\n",
       "<style scoped>\n",
       "    .dataframe tbody tr th:only-of-type {\n",
       "        vertical-align: middle;\n",
       "    }\n",
       "\n",
       "    .dataframe tbody tr th {\n",
       "        vertical-align: top;\n",
       "    }\n",
       "\n",
       "    .dataframe thead th {\n",
       "        text-align: right;\n",
       "    }\n",
       "</style>\n",
       "<table border=\"1\" class=\"dataframe\">\n",
       "  <thead>\n",
       "    <tr style=\"text-align: right;\">\n",
       "      <th></th>\n",
       "      <th>datetime</th>\n",
       "      <th>last_price</th>\n",
       "      <th>volume</th>\n",
       "      <th>amount</th>\n",
       "    </tr>\n",
       "    <tr>\n",
       "      <th>datetime</th>\n",
       "      <th></th>\n",
       "      <th></th>\n",
       "      <th></th>\n",
       "      <th></th>\n",
       "    </tr>\n",
       "  </thead>\n",
       "  <tbody>\n",
       "    <tr>\n",
       "      <th>2022-06-16 09:17:27.500</th>\n",
       "      <td>2022-06-16 09:22:27.500</td>\n",
       "      <td>4480.0</td>\n",
       "      <td>1</td>\n",
       "      <td>44800.0</td>\n",
       "    </tr>\n",
       "    <tr>\n",
       "      <th>2022-06-16 09:17:28.000</th>\n",
       "      <td>2022-06-16 09:22:28.000</td>\n",
       "      <td>4480.0</td>\n",
       "      <td>1</td>\n",
       "      <td>44800.0</td>\n",
       "    </tr>\n",
       "    <tr>\n",
       "      <th>2022-06-16 09:17:34.500</th>\n",
       "      <td>2022-06-16 09:22:34.500</td>\n",
       "      <td>4480.0</td>\n",
       "      <td>1</td>\n",
       "      <td>44800.0</td>\n",
       "    </tr>\n",
       "    <tr>\n",
       "      <th>2022-06-16 09:17:35.000</th>\n",
       "      <td>2022-06-16 09:22:35.000</td>\n",
       "      <td>4480.0</td>\n",
       "      <td>1</td>\n",
       "      <td>44800.0</td>\n",
       "    </tr>\n",
       "    <tr>\n",
       "      <th>2022-06-16 09:17:35.500</th>\n",
       "      <td>2022-06-16 09:22:35.500</td>\n",
       "      <td>4480.0</td>\n",
       "      <td>1</td>\n",
       "      <td>44800.0</td>\n",
       "    </tr>\n",
       "    <tr>\n",
       "      <th>2022-06-16 09:17:50.500</th>\n",
       "      <td>2022-06-16 09:22:50.500</td>\n",
       "      <td>4480.0</td>\n",
       "      <td>1</td>\n",
       "      <td>44800.0</td>\n",
       "    </tr>\n",
       "    <tr>\n",
       "      <th>2022-06-16 09:18:03.500</th>\n",
       "      <td>2022-06-16 09:23:03.500</td>\n",
       "      <td>4480.0</td>\n",
       "      <td>1</td>\n",
       "      <td>44800.0</td>\n",
       "    </tr>\n",
       "    <tr>\n",
       "      <th>2022-06-16 09:18:04.000</th>\n",
       "      <td>2022-06-16 09:23:04.000</td>\n",
       "      <td>4480.0</td>\n",
       "      <td>1</td>\n",
       "      <td>44800.0</td>\n",
       "    </tr>\n",
       "    <tr>\n",
       "      <th>2022-06-16 09:19:06.000</th>\n",
       "      <td>2022-06-16 09:24:06.000</td>\n",
       "      <td>4480.0</td>\n",
       "      <td>1</td>\n",
       "      <td>44800.0</td>\n",
       "    </tr>\n",
       "    <tr>\n",
       "      <th>2022-06-16 09:19:06.500</th>\n",
       "      <td>2022-06-16 09:24:06.500</td>\n",
       "      <td>4480.0</td>\n",
       "      <td>1</td>\n",
       "      <td>44800.0</td>\n",
       "    </tr>\n",
       "    <tr>\n",
       "      <th>2022-06-16 09:19:07.000</th>\n",
       "      <td>2022-06-16 09:24:07.000</td>\n",
       "      <td>4480.0</td>\n",
       "      <td>1</td>\n",
       "      <td>44800.0</td>\n",
       "    </tr>\n",
       "    <tr>\n",
       "      <th>2022-06-16 09:21:08.500</th>\n",
       "      <td>2022-06-16 09:26:08.500</td>\n",
       "      <td>4480.0</td>\n",
       "      <td>1</td>\n",
       "      <td>44800.0</td>\n",
       "    </tr>\n",
       "    <tr>\n",
       "      <th>2022-06-16 09:22:08.000</th>\n",
       "      <td>2022-06-16 09:27:08.000</td>\n",
       "      <td>4480.0</td>\n",
       "      <td>1</td>\n",
       "      <td>44800.0</td>\n",
       "    </tr>\n",
       "    <tr>\n",
       "      <th>2022-06-16 09:22:09.000</th>\n",
       "      <td>2022-06-16 09:27:09.000</td>\n",
       "      <td>4480.0</td>\n",
       "      <td>1</td>\n",
       "      <td>44800.0</td>\n",
       "    </tr>\n",
       "    <tr>\n",
       "      <th>2022-06-16 09:22:09.500</th>\n",
       "      <td>2022-06-16 09:27:09.500</td>\n",
       "      <td>4480.0</td>\n",
       "      <td>1</td>\n",
       "      <td>44800.0</td>\n",
       "    </tr>\n",
       "    <tr>\n",
       "      <th>2022-06-16 09:22:10.000</th>\n",
       "      <td>2022-06-16 09:27:10.000</td>\n",
       "      <td>4480.0</td>\n",
       "      <td>1</td>\n",
       "      <td>44800.0</td>\n",
       "    </tr>\n",
       "    <tr>\n",
       "      <th>2022-06-16 09:22:11.000</th>\n",
       "      <td>2022-06-16 09:27:11.000</td>\n",
       "      <td>4480.0</td>\n",
       "      <td>1</td>\n",
       "      <td>44800.0</td>\n",
       "    </tr>\n",
       "    <tr>\n",
       "      <th>2022-06-16 09:22:11.500</th>\n",
       "      <td>2022-06-16 09:27:11.500</td>\n",
       "      <td>4480.0</td>\n",
       "      <td>1</td>\n",
       "      <td>44800.0</td>\n",
       "    </tr>\n",
       "    <tr>\n",
       "      <th>2022-06-16 09:22:12.000</th>\n",
       "      <td>2022-06-16 09:27:12.000</td>\n",
       "      <td>4480.0</td>\n",
       "      <td>1</td>\n",
       "      <td>44800.0</td>\n",
       "    </tr>\n",
       "    <tr>\n",
       "      <th>2022-06-16 09:22:23.000</th>\n",
       "      <td>2022-06-16 09:27:23.000</td>\n",
       "      <td>4480.0</td>\n",
       "      <td>1</td>\n",
       "      <td>44800.0</td>\n",
       "    </tr>\n",
       "  </tbody>\n",
       "</table>\n",
       "</div>"
      ],
      "text/plain": [
       "                                       datetime  last_price  volume   amount\n",
       "datetime                                                                    \n",
       "2022-06-16 09:17:27.500 2022-06-16 09:22:27.500      4480.0       1  44800.0\n",
       "2022-06-16 09:17:28.000 2022-06-16 09:22:28.000      4480.0       1  44800.0\n",
       "2022-06-16 09:17:34.500 2022-06-16 09:22:34.500      4480.0       1  44800.0\n",
       "2022-06-16 09:17:35.000 2022-06-16 09:22:35.000      4480.0       1  44800.0\n",
       "2022-06-16 09:17:35.500 2022-06-16 09:22:35.500      4480.0       1  44800.0\n",
       "2022-06-16 09:17:50.500 2022-06-16 09:22:50.500      4480.0       1  44800.0\n",
       "2022-06-16 09:18:03.500 2022-06-16 09:23:03.500      4480.0       1  44800.0\n",
       "2022-06-16 09:18:04.000 2022-06-16 09:23:04.000      4480.0       1  44800.0\n",
       "2022-06-16 09:19:06.000 2022-06-16 09:24:06.000      4480.0       1  44800.0\n",
       "2022-06-16 09:19:06.500 2022-06-16 09:24:06.500      4480.0       1  44800.0\n",
       "2022-06-16 09:19:07.000 2022-06-16 09:24:07.000      4480.0       1  44800.0\n",
       "2022-06-16 09:21:08.500 2022-06-16 09:26:08.500      4480.0       1  44800.0\n",
       "2022-06-16 09:22:08.000 2022-06-16 09:27:08.000      4480.0       1  44800.0\n",
       "2022-06-16 09:22:09.000 2022-06-16 09:27:09.000      4480.0       1  44800.0\n",
       "2022-06-16 09:22:09.500 2022-06-16 09:27:09.500      4480.0       1  44800.0\n",
       "2022-06-16 09:22:10.000 2022-06-16 09:27:10.000      4480.0       1  44800.0\n",
       "2022-06-16 09:22:11.000 2022-06-16 09:27:11.000      4480.0       1  44800.0\n",
       "2022-06-16 09:22:11.500 2022-06-16 09:27:11.500      4480.0       1  44800.0\n",
       "2022-06-16 09:22:12.000 2022-06-16 09:27:12.000      4480.0       1  44800.0\n",
       "2022-06-16 09:22:23.000 2022-06-16 09:27:23.000      4480.0       1  44800.0"
      ]
     },
     "execution_count": 31,
     "metadata": {},
     "output_type": "execute_result"
    }
   ],
   "source": [
    "# a.shift(-1, freq=pd.Timedelta('5T'))\n",
    "a.shift(-1, freq='5T')"
   ]
  },
  {
   "cell_type": "code",
   "execution_count": null,
   "id": "7ff48282",
   "metadata": {},
   "outputs": [],
   "source": []
  }
 ],
 "metadata": {
  "kernelspec": {
   "display_name": "Python 3 (ipykernel)",
   "language": "python",
   "name": "python3"
  },
  "language_info": {
   "codemirror_mode": {
    "name": "ipython",
    "version": 3
   },
   "file_extension": ".py",
   "mimetype": "text/x-python",
   "name": "python",
   "nbconvert_exporter": "python",
   "pygments_lexer": "ipython3",
   "version": "3.7.9"
  }
 },
 "nbformat": 4,
 "nbformat_minor": 5
}
