{
 "cells": [
  {
   "cell_type": "code",
   "execution_count": 1,
   "id": "f82fba6b",
   "metadata": {},
   "outputs": [],
   "source": [
    "# Data manipulation\n",
    "# ==============================================================================\n",
    "import numpy as np\n",
    "import pandas as pd\n",
    "\n",
    "# Plots\n",
    "# ==============================================================================\n",
    "import matplotlib.pyplot as plt\n",
    "plt.style.use('fivethirtyeight')\n",
    "plt.rcParams['lines.linewidth'] = 1.5\n",
    "plt.rcParams['font.size'] = 10\n",
    "plt.rcParams['figure.figsize'] = (16, 10)\n",
    "\n",
    "# Modeling and Forecasting\n",
    "# ==============================================================================\n",
    "from sklearn import preprocessing\n",
    "from sklearn.linear_model import LinearRegression\n",
    "from sklearn.linear_model import Lasso\n",
    "from sklearn.ensemble import RandomForestRegressor\n",
    "from sklearn.metrics import mean_squared_error\n",
    "from sklearn.metrics import mean_absolute_error\n",
    "from sklearn.preprocessing import StandardScaler\n",
    "\n",
    "from skforecast.ForecasterAutoreg import ForecasterAutoreg\n",
    "from skforecast.ForecasterAutoregCustom import ForecasterAutoregCustom\n",
    "from skforecast.ForecasterAutoregDirect import ForecasterAutoregDirect\n",
    "from skforecast.model_selection import grid_search_forecaster\n",
    "from skforecast.model_selection import backtesting_forecaster\n",
    "from skforecast.utils import save_forecaster\n",
    "from skforecast.utils import load_forecaster\n",
    "\n",
    "from statsmodels.tsa.stattools import adfuller\n",
    "# Warnings configuration\n",
    "# ==============================================================================\n",
    "import warnings\n",
    "# warnings.filterwarnings('ignore')"
   ]
  },
  {
   "cell_type": "code",
   "execution_count": 2,
   "id": "7ba20848",
   "metadata": {},
   "outputs": [],
   "source": [
    "# %matplotlib inline\n",
    "%matplotlib qt"
   ]
  },
  {
   "cell_type": "code",
   "execution_count": 3,
   "id": "82535f54",
   "metadata": {},
   "outputs": [],
   "source": [
    "from lutils.fin.data_loader import load, load_tq, load_ctp"
   ]
  },
  {
   "cell_type": "code",
   "execution_count": 4,
   "id": "28bc1be2",
   "metadata": {},
   "outputs": [],
   "source": [
    "exchange = 'SHFE'\n",
    "symbol_underlying = 'rb2305'"
   ]
  },
  {
   "cell_type": "code",
   "execution_count": 5,
   "id": "236f786d",
   "metadata": {},
   "outputs": [
    {
     "name": "stdout",
     "output_type": "stream",
     "text": [
      "load Z:/tq_data/ticks\\SHFE.rb2305.h5\n",
      "load Y:/fin_data\\2023-05-04\\SHFE.rb2305.h5\n",
      "load Y:/fin_data\\2023-05-05\\SHFE.rb2305.h5\n",
      "load Y:/fin_data\\2023-05-08\\SHFE.rb2305.h5\n",
      "load Y:/fin_data\\2023-05-09\\SHFE.rb2305.h5\n",
      "load Y:/fin_data\\2023-05-10\\SHFE.rb2305.h5\n",
      "load Y:/fin_data\\2023-05-11\\SHFE.rb2305.h5\n",
      "load Y:/fin_data\\2023-05-12\\SHFE.rb2305.h5\n",
      "load Y:/fin_data\\2023-05-15\\SHFE.rb2305.h5\n"
     ]
    }
   ],
   "source": [
    "df_underlying = load(exchange, symbol_underlying)"
   ]
  },
  {
   "cell_type": "code",
   "execution_count": 6,
   "id": "6cef576e",
   "metadata": {},
   "outputs": [],
   "source": [
    "df = df_underlying[['datetime', 'last_price', 'volume', 'amount', ]]"
   ]
  },
  {
   "cell_type": "code",
   "execution_count": 7,
   "id": "e6fdcc3f",
   "metadata": {},
   "outputs": [],
   "source": [
    "df = df.dropna()"
   ]
  },
  {
   "cell_type": "code",
   "execution_count": 8,
   "id": "a85dae5c",
   "metadata": {},
   "outputs": [],
   "source": [
    "df.index = df.datetime"
   ]
  },
  {
   "cell_type": "code",
   "execution_count": 9,
   "id": "7a5cd48f",
   "metadata": {},
   "outputs": [
    {
     "data": {
      "text/plain": [
       "(7034205, 4)"
      ]
     },
     "execution_count": 9,
     "metadata": {},
     "output_type": "execute_result"
    }
   ],
   "source": [
    "df.shape"
   ]
  },
  {
   "cell_type": "code",
   "execution_count": 10,
   "id": "5acd598e",
   "metadata": {},
   "outputs": [],
   "source": [
    "resample_1s = df.resample('1s').last()"
   ]
  },
  {
   "cell_type": "code",
   "execution_count": 11,
   "id": "008b6150",
   "metadata": {},
   "outputs": [],
   "source": [
    "resample_1s = resample_1s.ffill().bfill()"
   ]
  },
  {
   "cell_type": "code",
   "execution_count": 12,
   "id": "6b07b59f",
   "metadata": {},
   "outputs": [
    {
     "data": {
      "text/plain": [
       "(31431022, 4)"
      ]
     },
     "execution_count": 12,
     "metadata": {},
     "output_type": "execute_result"
    }
   ],
   "source": [
    "resample_1s.shape"
   ]
  },
  {
   "cell_type": "code",
   "execution_count": 13,
   "id": "ee36c79c",
   "metadata": {},
   "outputs": [],
   "source": [
    "df_1s = pd.concat([resample_1s.between_time('09:00', '10:15'), \n",
    "          resample_1s.between_time('10:30', '11:30'),\n",
    "          resample_1s.between_time('13:30', '15:00'),\n",
    "          resample_1s.between_time('21:00', '23:00')], axis=0).sort_index()[['last_price', 'volume', 'amount']]"
   ]
  },
  {
   "cell_type": "code",
   "execution_count": 14,
   "id": "eb4190d9",
   "metadata": {},
   "outputs": [
    {
     "data": {
      "text/plain": [
       "(7536256, 3)"
      ]
     },
     "execution_count": 14,
     "metadata": {},
     "output_type": "execute_result"
    }
   ],
   "source": [
    "df_1s.shape"
   ]
  },
  {
   "cell_type": "code",
   "execution_count": 15,
   "id": "3e4f0af6",
   "metadata": {},
   "outputs": [
    {
     "data": {
      "text/html": [
       "<div>\n",
       "<style scoped>\n",
       "    .dataframe tbody tr th:only-of-type {\n",
       "        vertical-align: middle;\n",
       "    }\n",
       "\n",
       "    .dataframe tbody tr th {\n",
       "        vertical-align: top;\n",
       "    }\n",
       "\n",
       "    .dataframe thead th {\n",
       "        text-align: right;\n",
       "    }\n",
       "</style>\n",
       "<table border=\"1\" class=\"dataframe\">\n",
       "  <thead>\n",
       "    <tr style=\"text-align: right;\">\n",
       "      <th></th>\n",
       "      <th>last_price</th>\n",
       "      <th>volume</th>\n",
       "      <th>amount</th>\n",
       "    </tr>\n",
       "    <tr>\n",
       "      <th>datetime</th>\n",
       "      <th></th>\n",
       "      <th></th>\n",
       "      <th></th>\n",
       "    </tr>\n",
       "  </thead>\n",
       "  <tbody>\n",
       "    <tr>\n",
       "      <th>2022-05-16 21:00:00</th>\n",
       "      <td>4430.0</td>\n",
       "      <td>70.0</td>\n",
       "      <td>3093500.0</td>\n",
       "    </tr>\n",
       "    <tr>\n",
       "      <th>2022-05-16 21:00:01</th>\n",
       "      <td>4430.0</td>\n",
       "      <td>75.0</td>\n",
       "      <td>3315000.0</td>\n",
       "    </tr>\n",
       "    <tr>\n",
       "      <th>2022-05-16 21:00:02</th>\n",
       "      <td>4480.0</td>\n",
       "      <td>78.0</td>\n",
       "      <td>3449400.0</td>\n",
       "    </tr>\n",
       "    <tr>\n",
       "      <th>2022-05-16 21:00:03</th>\n",
       "      <td>4480.0</td>\n",
       "      <td>78.0</td>\n",
       "      <td>3449400.0</td>\n",
       "    </tr>\n",
       "    <tr>\n",
       "      <th>2022-05-16 21:00:04</th>\n",
       "      <td>4480.0</td>\n",
       "      <td>84.0</td>\n",
       "      <td>3718200.0</td>\n",
       "    </tr>\n",
       "    <tr>\n",
       "      <th>2022-05-16 21:00:05</th>\n",
       "      <td>4480.0</td>\n",
       "      <td>86.0</td>\n",
       "      <td>3807800.0</td>\n",
       "    </tr>\n",
       "    <tr>\n",
       "      <th>2022-05-16 21:00:06</th>\n",
       "      <td>4480.0</td>\n",
       "      <td>87.0</td>\n",
       "      <td>3852600.0</td>\n",
       "    </tr>\n",
       "    <tr>\n",
       "      <th>2022-05-16 21:00:07</th>\n",
       "      <td>4480.0</td>\n",
       "      <td>87.0</td>\n",
       "      <td>3852600.0</td>\n",
       "    </tr>\n",
       "    <tr>\n",
       "      <th>2022-05-16 21:00:08</th>\n",
       "      <td>4480.0</td>\n",
       "      <td>87.0</td>\n",
       "      <td>3852600.0</td>\n",
       "    </tr>\n",
       "    <tr>\n",
       "      <th>2022-05-16 21:00:09</th>\n",
       "      <td>4480.0</td>\n",
       "      <td>87.0</td>\n",
       "      <td>3852600.0</td>\n",
       "    </tr>\n",
       "  </tbody>\n",
       "</table>\n",
       "</div>"
      ],
      "text/plain": [
       "                     last_price  volume     amount\n",
       "datetime                                          \n",
       "2022-05-16 21:00:00      4430.0    70.0  3093500.0\n",
       "2022-05-16 21:00:01      4430.0    75.0  3315000.0\n",
       "2022-05-16 21:00:02      4480.0    78.0  3449400.0\n",
       "2022-05-16 21:00:03      4480.0    78.0  3449400.0\n",
       "2022-05-16 21:00:04      4480.0    84.0  3718200.0\n",
       "2022-05-16 21:00:05      4480.0    86.0  3807800.0\n",
       "2022-05-16 21:00:06      4480.0    87.0  3852600.0\n",
       "2022-05-16 21:00:07      4480.0    87.0  3852600.0\n",
       "2022-05-16 21:00:08      4480.0    87.0  3852600.0\n",
       "2022-05-16 21:00:09      4480.0    87.0  3852600.0"
      ]
     },
     "execution_count": 15,
     "metadata": {},
     "output_type": "execute_result"
    }
   ],
   "source": [
    "df_1s.head(10)"
   ]
  },
  {
   "cell_type": "code",
   "execution_count": 16,
   "id": "9504eddc",
   "metadata": {},
   "outputs": [],
   "source": [
    "rolmean = df_1s.rolling('5T').last_price.mean()"
   ]
  },
  {
   "cell_type": "code",
   "execution_count": 17,
   "id": "7ff48282",
   "metadata": {},
   "outputs": [],
   "source": [
    "train_start = '2023-01-01'\n",
    "train_end = '2023-04-30'\n",
    "test_start = '2023-05-01'\n",
    "data_train = rolmean[:train_end]\n",
    "data_test  = rolmean[test_start:]"
   ]
  },
  {
   "cell_type": "code",
   "execution_count": 18,
   "id": "9a1465a3",
   "metadata": {},
   "outputs": [],
   "source": [
    "data_train = data_train.to_frame()\n",
    "data_test = data_test.to_frame()"
   ]
  },
  {
   "cell_type": "code",
   "execution_count": 19,
   "id": "4857570e",
   "metadata": {},
   "outputs": [],
   "source": [
    "transformer = preprocessing.MinMaxScaler().fit(data_train)"
   ]
  },
  {
   "cell_type": "code",
   "execution_count": 20,
   "id": "9c7c33e3",
   "metadata": {},
   "outputs": [
    {
     "data": {
      "text/plain": [
       "array([[0.82848233],\n",
       "       [0.82848233],\n",
       "       [0.84109763],\n",
       "       ...,\n",
       "       [0.18737259],\n",
       "       [0.18737259],\n",
       "       [0.18737259]])"
      ]
     },
     "execution_count": 20,
     "metadata": {},
     "output_type": "execute_result"
    }
   ],
   "source": [
    "transformer.transform(data_train)"
   ]
  },
  {
   "cell_type": "code",
   "execution_count": 21,
   "id": "4d3e3b25",
   "metadata": {},
   "outputs": [
    {
     "data": {
      "text/plain": [
       "array([[0.18737259],\n",
       "       [0.18737259],\n",
       "       [0.18737259],\n",
       "       ...,\n",
       "       [0.11192802],\n",
       "       [0.11192298],\n",
       "       [0.11191793]])"
      ]
     },
     "execution_count": 21,
     "metadata": {},
     "output_type": "execute_result"
    }
   ],
   "source": [
    "transformer.transform(data_test)"
   ]
  },
  {
   "cell_type": "code",
   "execution_count": null,
   "id": "41b30b11",
   "metadata": {},
   "outputs": [
    {
     "name": "stderr",
     "output_type": "stream",
     "text": [
      "D:\\Software\\Python\\Python37\\lib\\site-packages\\skforecast\\utils\\utils.py:790: UserWarning: `y` has DatetimeIndex index but no frequency. Index is overwritten with a RangeIndex of step 1.\n",
      "  (\"`y` has DatetimeIndex index but no frequency. \"\n"
     ]
    }
   ],
   "source": [
    "forecaster = ForecasterAutoreg(regressor=RandomForestRegressor(random_state=123), lags=6)\n",
    "\n",
    "forecaster.fit(y=data_train['last_price'])\n",
    "forecaster"
   ]
  },
  {
   "cell_type": "code",
   "execution_count": null,
   "id": "e275f14e",
   "metadata": {},
   "outputs": [],
   "source": []
  }
 ],
 "metadata": {
  "kernelspec": {
   "display_name": "Python 3 (ipykernel)",
   "language": "python",
   "name": "python3"
  },
  "language_info": {
   "codemirror_mode": {
    "name": "ipython",
    "version": 3
   },
   "file_extension": ".py",
   "mimetype": "text/x-python",
   "name": "python",
   "nbconvert_exporter": "python",
   "pygments_lexer": "ipython3",
   "version": "3.7.9"
  }
 },
 "nbformat": 4,
 "nbformat_minor": 5
}
