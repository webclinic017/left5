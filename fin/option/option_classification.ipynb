{
 "cells": [
  {
   "cell_type": "code",
   "execution_count": 1,
   "id": "weird-metro",
   "metadata": {},
   "outputs": [],
   "source": [
    "import pandas as pd\n",
    "import numpy as np\n",
    "import seaborn as sn\n",
    "import copy\n",
    "import tqdm\n",
    "\n",
    "import torch\n",
    "import torch.nn as nn\n",
    "import torch.nn.functional as F\n",
    "import torch.optim as optim\n",
    "from torch.utils.tensorboard import SummaryWriter\n",
    "import torchvision\n",
    "# from torch.utils.data import Dataset\n",
    "# from torch.utils.data import DataLoader\n",
    "\n",
    "from sklearn import tree, svm\n",
    "from sklearn.pipeline import make_pipeline\n",
    "from sklearn.preprocessing import StandardScaler, normalize\n",
    "from sklearn.svm import SVC\n",
    "from sklearn.model_selection import train_test_split\n",
    "\n",
    "import seaborn as sn\n",
    "import matplotlib.pyplot as plt\n",
    "from matplotlib.pyplot import figure\n",
    "\n",
    "plt.style.use('fivethirtyeight')\n",
    "plt.rcParams['lines.linewidth'] = 1.5\n",
    "plt.rcParams['font.size'] = 10\n",
    "plt.rcParams['figure.figsize'] = (16, 10)"
   ]
  },
  {
   "cell_type": "code",
   "execution_count": 2,
   "id": "e169af02",
   "metadata": {},
   "outputs": [],
   "source": [
    "writer = SummaryWriter('runs/log')"
   ]
  },
  {
   "cell_type": "code",
   "execution_count": 3,
   "id": "4d18382a",
   "metadata": {},
   "outputs": [],
   "source": [
    "np.set_printoptions(precision=4, suppress=True)"
   ]
  },
  {
   "cell_type": "code",
   "execution_count": 4,
   "id": "saved-september",
   "metadata": {},
   "outputs": [],
   "source": [
    "# %matplotlib inline\n",
    "%matplotlib qt"
   ]
  },
  {
   "cell_type": "code",
   "execution_count": 5,
   "id": "d2a44eaa",
   "metadata": {},
   "outputs": [],
   "source": [
    "from lutils.fin.data_loader import load"
   ]
  },
  {
   "cell_type": "code",
   "execution_count": 6,
   "id": "southeast-escape",
   "metadata": {},
   "outputs": [
    {
     "name": "stdout",
     "output_type": "stream",
     "text": [
      "load Z:/tq_data/ticks\\SHFE.rb2305.h5\n",
      "load Y:/fin_data\\2023-05-04\\SHFE.rb2305.h5\n",
      "load Y:/fin_data\\2023-05-05\\SHFE.rb2305.h5\n",
      "load Y:/fin_data\\2023-05-08\\SHFE.rb2305.h5\n",
      "load Y:/fin_data\\2023-05-09\\SHFE.rb2305.h5\n",
      "load Y:/fin_data\\2023-05-10\\SHFE.rb2305.h5\n",
      "load Y:/fin_data\\2023-05-11\\SHFE.rb2305.h5\n",
      "load Y:/fin_data\\2023-05-12\\SHFE.rb2305.h5\n",
      "load Y:/fin_data\\2023-05-15\\SHFE.rb2305.h5\n"
     ]
    }
   ],
   "source": [
    "df = load('SHFE', 'rb2305')"
   ]
  },
  {
   "cell_type": "code",
   "execution_count": 7,
   "id": "fe87e98a",
   "metadata": {},
   "outputs": [],
   "source": [
    "start_date = '2022-09-01' # '2022-09-01'\n",
    "end_date = '2023-05-06'"
   ]
  },
  {
   "cell_type": "code",
   "execution_count": 8,
   "id": "fe207c1f",
   "metadata": {},
   "outputs": [],
   "source": [
    "df.index = df.datetime"
   ]
  },
  {
   "cell_type": "code",
   "execution_count": 9,
   "id": "17393880",
   "metadata": {},
   "outputs": [],
   "source": [
    "df = df[start_date:end_date][['last_price', 'volume', 'amount']]"
   ]
  },
  {
   "cell_type": "code",
   "execution_count": 10,
   "id": "53d9bc69",
   "metadata": {},
   "outputs": [],
   "source": [
    "resample_1S = df.resample('1S').last()"
   ]
  },
  {
   "cell_type": "code",
   "execution_count": 11,
   "id": "c5967811",
   "metadata": {},
   "outputs": [],
   "source": [
    "resample_1S = resample_1S.interpolate()\n",
    "# resample_1S = resample_1S.ffill().bfill()"
   ]
  },
  {
   "cell_type": "code",
   "execution_count": 12,
   "id": "733c1d12",
   "metadata": {},
   "outputs": [],
   "source": [
    "df_1S = pd.concat([resample_1S.between_time('09:00', '10:15'), \n",
    "          resample_1S.between_time('10:30', '11:30'),\n",
    "          resample_1S.between_time('13:30', '15:00'),\n",
    "          resample_1S.between_time('21:00', '23:00')], axis=0).sort_index()[['last_price', 'volume', 'amount']]"
   ]
  },
  {
   "cell_type": "code",
   "execution_count": 13,
   "id": "48f91d4f",
   "metadata": {},
   "outputs": [],
   "source": [
    "between_times = [['09:00', '10:15'], ['10:30', '11:30'], ['13:30', '15:00'], ['21:00', '23:00']]"
   ]
  },
  {
   "cell_type": "code",
   "execution_count": 14,
   "id": "2326330c",
   "metadata": {},
   "outputs": [],
   "source": [
    "start_ix = 300"
   ]
  },
  {
   "cell_type": "code",
   "execution_count": 15,
   "id": "de1b7539",
   "metadata": {},
   "outputs": [],
   "source": [
    "def prepare_data(df1S):\n",
    "    \n",
    "    def _prepare_data(x, window_size):\n",
    "        # perform windowing\n",
    "        n_row = x.shape[0] - window_size + 1\n",
    "        output = np.lib.stride_tricks.as_strided(x, shape=(n_row, window_size), strides=(x.strides[0],x.strides[0]))\n",
    "#         return output[:-1], output[-1]\n",
    "        return output\n",
    "    \n",
    "    dfs_x = []\n",
    "    dfs_y = []\n",
    "    for d in tqdm.tqdm(np.unique(df1S.index.date)):\n",
    "        day1S_df = df1S[df1S.index.date == d]\n",
    "        for (start, end) in between_times:\n",
    "            # X\n",
    "            _df = day1S_df.between_time(start, end)\n",
    "        \n",
    "            df_x = _prepare_data(_df.last_price.values, start_ix)\n",
    "            df_y = np.roll(df_x, start_ix, axis=0)[:-start_ix,:]\n",
    "        \n",
    "            y = (df_y[:, 0] - df_y[:, -1]) / (df_y.max(axis=1) - df_y.min(axis=1))\n",
    "#             y = (df_y[:, -1] - df_y[:, 0]) / df_y[:, 0]\n",
    "            y[np.isinf(y) | np.isneginf(y)] = 0\n",
    "            y[np.isnan(y)] = 0\n",
    "#             y[df_y[:, 0] > df_y[:, -1]] = y[df_y[:, 0] > df_y[:, -1]] * -1\n",
    "            if y.sum() > 0 and np.abs(y.mean()) != 1:\n",
    "                dfs_x.append(df_x[:-start_ix])\n",
    "                dfs_y.append(y)\n",
    "            \n",
    "    return dfs_x, dfs_y"
   ]
  },
  {
   "cell_type": "code",
   "execution_count": 16,
   "id": "56542b35",
   "metadata": {},
   "outputs": [
    {
     "name": "stderr",
     "output_type": "stream",
     "text": [
      " 77%|██████████████████████████████▉         | 191/247 [03:40<01:08,  1.22s/it]D:\\Software\\Python\\torch\\lib\\site-packages\\ipykernel_launcher.py:21: RuntimeWarning: invalid value encountered in true_divide\n",
      "100%|████████████████████████████████████████| 247/247 [04:46<00:00,  1.16s/it]\n"
     ]
    }
   ],
   "source": [
    "dfs_x, dfs_y = prepare_data(df_1S)"
   ]
  },
  {
   "cell_type": "code",
   "execution_count": 17,
   "id": "86cbc977",
   "metadata": {},
   "outputs": [],
   "source": [
    "# dfs_x"
   ]
  },
  {
   "cell_type": "code",
   "execution_count": 18,
   "id": "094b64d5",
   "metadata": {},
   "outputs": [],
   "source": [
    "# dfs_y"
   ]
  },
  {
   "cell_type": "code",
   "execution_count": 19,
   "id": "38e5df48",
   "metadata": {},
   "outputs": [
    {
     "data": {
      "text/plain": [
       "327"
      ]
     },
     "execution_count": 19,
     "metadata": {},
     "output_type": "execute_result"
    }
   ],
   "source": [
    "len(dfs_x)"
   ]
  },
  {
   "cell_type": "code",
   "execution_count": 20,
   "id": "2cf1e9ef",
   "metadata": {},
   "outputs": [
    {
     "data": {
      "text/plain": [
       "(3902, 300)"
      ]
     },
     "execution_count": 20,
     "metadata": {},
     "output_type": "execute_result"
    }
   ],
   "source": [
    "dfs_x[-1].shape"
   ]
  },
  {
   "cell_type": "code",
   "execution_count": 21,
   "id": "c79f5e98",
   "metadata": {},
   "outputs": [
    {
     "data": {
      "text/plain": [
       "(3902,)"
      ]
     },
     "execution_count": 21,
     "metadata": {},
     "output_type": "execute_result"
    }
   ],
   "source": [
    "dfs_y[0].shape"
   ]
  },
  {
   "cell_type": "code",
   "execution_count": 22,
   "id": "ea4887a6",
   "metadata": {},
   "outputs": [],
   "source": [
    "end_ix = 300"
   ]
  },
  {
   "cell_type": "code",
   "execution_count": 23,
   "id": "91efca18",
   "metadata": {},
   "outputs": [],
   "source": [
    "X = normalize(np.vstack(dfs_x[-end_ix:]), norm='l1')\n",
    "y = np.hstack(dfs_y[-end_ix:])"
   ]
  },
  {
   "cell_type": "code",
   "execution_count": 24,
   "id": "339823b9",
   "metadata": {},
   "outputs": [],
   "source": [
    "# sn.displot(x1[:50], kde=True)"
   ]
  },
  {
   "cell_type": "code",
   "execution_count": 25,
   "id": "dbcf1194",
   "metadata": {},
   "outputs": [],
   "source": [
    "# with open('SHFE.rb2305.npy', 'rb') as f:\n",
    "#     X = np.load(f)\n",
    "#     y = np.load(f)"
   ]
  },
  {
   "cell_type": "code",
   "execution_count": null,
   "id": "6dcfc35d",
   "metadata": {},
   "outputs": [],
   "source": []
  },
  {
   "cell_type": "code",
   "execution_count": 26,
   "id": "3bbad8aa",
   "metadata": {},
   "outputs": [],
   "source": [
    "X_train, X_test, y_train, y_test = train_test_split(X, y, train_size=0.7, shuffle=False)\n",
    "X_train = torch.tensor(X_train, dtype=torch.float32, device=0)\n",
    "y_train = torch.tensor(y_train, dtype=torch.float32, device=0).reshape(-1, 1)\n",
    "X_test = torch.tensor(X_test, dtype=torch.float32, device=0)\n",
    "y_test = torch.tensor(y_test, dtype=torch.float32, device=0).reshape(-1, 1)"
   ]
  },
  {
   "cell_type": "code",
   "execution_count": 49,
   "id": "1b4e356e",
   "metadata": {},
   "outputs": [],
   "source": [
    "n_epochs = 40 #100   # number of epochs to run\n",
    "batch_size = 10  # size of each batch\n",
    "total_size = X_train.shape[0]\n",
    "batch_start = torch.arange(0, total_size, batch_size)\n",
    "batch_test_start = torch.arange(0, len(X_test), batch_size)"
   ]
  },
  {
   "cell_type": "code",
   "execution_count": 50,
   "id": "dc796524",
   "metadata": {},
   "outputs": [],
   "source": [
    "class FutureTrendModule(nn.Module):\n",
    "    def __init__(self):\n",
    "        super(FutureTrendModule, self).__init__()\n",
    "        \n",
    "        # input batch_size 300\n",
    "        self.fc1 = nn.Sequential(\n",
    "            nn.Linear(300, 128),\n",
    "        )\n",
    "        \n",
    "        # input batch_size 1 128\n",
    "        self.conv1 = nn.Sequential(\n",
    "            nn.Conv1d(1, 64, kernel_size=3, stride=1, padding=1),\n",
    "            nn.ReLU(True),\n",
    "            nn.AvgPool1d(3, 2),\n",
    "        )\n",
    "        \n",
    "        # input batch_size 64 64\n",
    "        self.conv2 = nn.Sequential(\n",
    "            nn.Conv1d(64, 32, kernel_size=3, stride=1, padding=2),\n",
    "            nn.ReLU(True),\n",
    "            nn.AvgPool1d(3, 2),\n",
    "        )\n",
    "        \n",
    "        # input batch_size 32 32\n",
    "        self.conv3 = nn.Sequential(\n",
    "            nn.Conv1d(32, 16, kernel_size=3, stride=1, padding=2),\n",
    "            nn.ReLU(True),\n",
    "            nn.AvgPool1d(3, 2),\n",
    "        )\n",
    "        \n",
    "        # input batch_size 256\n",
    "        self.output_fc1 = nn.Linear(256, 128)\n",
    "        # input batch_size 128\n",
    "        self.output_fc2 = nn.Linear(128, 1)\n",
    "\n",
    "    def forward(self, x):\n",
    "#         return self.model(x)\n",
    "        fc1 = self.fc1(x)\n",
    "        fc1 = fc1.view(-1, 1, 128)\n",
    "        conv1 = self.conv1(fc1)\n",
    "        conv2 = self.conv2(conv1)\n",
    "        conv3 = self.conv3(conv2)\n",
    "        outs = conv3.view(-1, 256)\n",
    "        outs = self.output_fc1(outs)\n",
    "        outs = self.output_fc2(outs)\n",
    "        return outs, fc1, conv1, conv2, conv3\n",
    "    "
   ]
  },
  {
   "cell_type": "code",
   "execution_count": 54,
   "id": "8914d5f1",
   "metadata": {},
   "outputs": [],
   "source": [
    "model = FutureTrendModule().to(0)"
   ]
  },
  {
   "cell_type": "code",
   "execution_count": 55,
   "id": "784401a2",
   "metadata": {},
   "outputs": [],
   "source": [
    "# loss_fn = nn.MSELoss().to(0)  # mean square error\n",
    "loss_fn = nn.SmoothL1Loss().to(0)\n",
    "# loss_fn = nn.CrossEntropyLoss().to(0)\n",
    "optimizer = optim.Adam(model.parameters(), lr=0.00001)\n",
    "# optimizer = optim.SGD(model.parameters(), lr = 0.0001, momentum=0.09)"
   ]
  },
  {
   "cell_type": "code",
   "execution_count": 57,
   "id": "4a77bcc2",
   "metadata": {
    "scrolled": true
   },
   "outputs": [
    {
     "name": "stdout",
     "output_type": "stream",
     "text": [
      "Epoch: [1/40], [50000/944159], Loss: 0.136692\n",
      "Epoch: [1/40], [100000/944159], Loss: 0.140987\n",
      "Epoch: [1/40], [150000/944159], Loss: 0.143486\n",
      "Epoch: [1/40], [200000/944159], Loss: 0.142954\n",
      "Epoch: [1/40], [250000/944159], Loss: 0.139079\n",
      "Epoch: [1/40], [300000/944159], Loss: 0.139531\n",
      "Epoch: [1/40], [350000/944159], Loss: 0.140545\n",
      "Epoch: [1/40], [400000/944159], Loss: 0.140042\n",
      "Epoch: [1/40], [450000/944159], Loss: 0.139031\n",
      "Epoch: [1/40], [500000/944159], Loss: 0.139065\n",
      "Epoch: [1/40], [550000/944159], Loss: 0.139432\n",
      "Epoch: [1/40], [600000/944159], Loss: 0.139689\n",
      "Epoch: [1/40], [650000/944159], Loss: 0.138394\n",
      "Epoch: [1/40], [700000/944159], Loss: 0.138649\n",
      "Epoch: [1/40], [750000/944159], Loss: 0.138385\n",
      "Epoch: [1/40], [800000/944159], Loss: 0.137842\n",
      "Epoch: [1/40], [850000/944159], Loss: 0.137205\n",
      "Epoch: [1/40], [900000/944159], Loss: 0.136600\n",
      "eval loss 0.143371\n",
      "Epoch: [2/40], [50000/944159], Loss: 0.135929\n",
      "Epoch: [2/40], [100000/944159], Loss: 0.140387\n",
      "Epoch: [2/40], [150000/944159], Loss: 0.142884\n",
      "Epoch: [2/40], [200000/944159], Loss: 0.142458\n",
      "Epoch: [2/40], [250000/944159], Loss: 0.138597\n",
      "Epoch: [2/40], [300000/944159], Loss: 0.139111\n",
      "Epoch: [2/40], [350000/944159], Loss: 0.140176\n",
      "Epoch: [2/40], [400000/944159], Loss: 0.139633\n",
      "Epoch: [2/40], [450000/944159], Loss: 0.138625\n",
      "Epoch: [2/40], [500000/944159], Loss: 0.138689\n",
      "Epoch: [2/40], [550000/944159], Loss: 0.139052\n",
      "Epoch: [2/40], [600000/944159], Loss: 0.139352\n",
      "Epoch: [2/40], [650000/944159], Loss: 0.138096\n",
      "Epoch: [2/40], [700000/944159], Loss: 0.138333\n",
      "Epoch: [2/40], [750000/944159], Loss: 0.138094\n",
      "Epoch: [2/40], [800000/944159], Loss: 0.137583\n",
      "Epoch: [2/40], [850000/944159], Loss: 0.136933\n",
      "Epoch: [2/40], [900000/944159], Loss: 0.136339\n",
      "eval loss 0.143407\n",
      "Epoch: [3/40], [50000/944159], Loss: 0.135924\n",
      "Epoch: [3/40], [100000/944159], Loss: 0.140249\n",
      "Epoch: [3/40], [150000/944159], Loss: 0.142711\n",
      "Epoch: [3/40], [200000/944159], Loss: 0.142253\n",
      "Epoch: [3/40], [250000/944159], Loss: 0.138427\n",
      "Epoch: [3/40], [300000/944159], Loss: 0.138973\n",
      "Epoch: [3/40], [350000/944159], Loss: 0.140049\n",
      "Epoch: [3/40], [400000/944159], Loss: 0.139508\n",
      "Epoch: [3/40], [450000/944159], Loss: 0.138487\n",
      "Epoch: [3/40], [500000/944159], Loss: 0.138538\n",
      "Epoch: [3/40], [550000/944159], Loss: 0.138925\n",
      "Epoch: [3/40], [600000/944159], Loss: 0.139220\n",
      "Epoch: [3/40], [650000/944159], Loss: 0.137966\n",
      "Epoch: [3/40], [700000/944159], Loss: 0.138263\n",
      "Epoch: [3/40], [750000/944159], Loss: 0.137970\n",
      "Epoch: [3/40], [800000/944159], Loss: 0.137451\n",
      "Epoch: [3/40], [850000/944159], Loss: 0.136788\n",
      "Epoch: [3/40], [900000/944159], Loss: 0.136199\n",
      "eval loss 0.143266\n",
      "Epoch: [4/40], [50000/944159], Loss: 0.135680\n",
      "Epoch: [4/40], [100000/944159], Loss: 0.140035\n",
      "Epoch: [4/40], [150000/944159], Loss: 0.142584\n",
      "Epoch: [4/40], [200000/944159], Loss: 0.142129\n",
      "Epoch: [4/40], [250000/944159], Loss: 0.138340\n",
      "Epoch: [4/40], [300000/944159], Loss: 0.138860\n",
      "Epoch: [4/40], [350000/944159], Loss: 0.139940\n",
      "Epoch: [4/40], [400000/944159], Loss: 0.139384\n",
      "Epoch: [4/40], [450000/944159], Loss: 0.138369\n",
      "Epoch: [4/40], [500000/944159], Loss: 0.138441\n",
      "Epoch: [4/40], [550000/944159], Loss: 0.138811\n",
      "Epoch: [4/40], [600000/944159], Loss: 0.139092\n",
      "Epoch: [4/40], [650000/944159], Loss: 0.137833\n",
      "Epoch: [4/40], [700000/944159], Loss: 0.138162\n",
      "Epoch: [4/40], [750000/944159], Loss: 0.137857\n",
      "Epoch: [4/40], [800000/944159], Loss: 0.137336\n",
      "Epoch: [4/40], [850000/944159], Loss: 0.136685\n",
      "Epoch: [4/40], [900000/944159], Loss: 0.136095\n",
      "eval loss 0.143377\n",
      "Epoch: [5/40], [50000/944159], Loss: 0.135752\n",
      "Epoch: [5/40], [100000/944159], Loss: 0.140041\n",
      "Epoch: [5/40], [150000/944159], Loss: 0.142631\n",
      "Epoch: [5/40], [200000/944159], Loss: 0.142163\n",
      "Epoch: [5/40], [250000/944159], Loss: 0.138404\n",
      "Epoch: [5/40], [300000/944159], Loss: 0.138907\n",
      "Epoch: [5/40], [350000/944159], Loss: 0.139977\n",
      "Epoch: [5/40], [400000/944159], Loss: 0.139439\n",
      "Epoch: [5/40], [450000/944159], Loss: 0.138461\n",
      "Epoch: [5/40], [500000/944159], Loss: 0.138544\n",
      "Epoch: [5/40], [550000/944159], Loss: 0.138932\n",
      "Epoch: [5/40], [600000/944159], Loss: 0.139227\n",
      "Epoch: [5/40], [650000/944159], Loss: 0.137976\n",
      "Epoch: [5/40], [700000/944159], Loss: 0.138238\n",
      "Epoch: [5/40], [750000/944159], Loss: 0.137986\n",
      "Epoch: [5/40], [800000/944159], Loss: 0.137478\n",
      "Epoch: [5/40], [850000/944159], Loss: 0.136832\n",
      "Epoch: [5/40], [900000/944159], Loss: 0.136241\n",
      "eval loss 0.143497\n",
      "Epoch: [6/40], [50000/944159], Loss: 0.135782\n",
      "Epoch: [6/40], [100000/944159], Loss: 0.140093\n",
      "Epoch: [6/40], [150000/944159], Loss: 0.142634\n",
      "Epoch: [6/40], [200000/944159], Loss: 0.142174\n",
      "Epoch: [6/40], [250000/944159], Loss: 0.138381\n",
      "Epoch: [6/40], [300000/944159], Loss: 0.138895\n",
      "Epoch: [6/40], [350000/944159], Loss: 0.139977\n",
      "Epoch: [6/40], [400000/944159], Loss: 0.139420\n",
      "Epoch: [6/40], [450000/944159], Loss: 0.138424\n",
      "Epoch: [6/40], [500000/944159], Loss: 0.138483\n",
      "Epoch: [6/40], [550000/944159], Loss: 0.138881\n",
      "Epoch: [6/40], [600000/944159], Loss: 0.139167\n",
      "Epoch: [6/40], [650000/944159], Loss: 0.137908\n",
      "Epoch: [6/40], [700000/944159], Loss: 0.138220\n",
      "Epoch: [6/40], [750000/944159], Loss: 0.137916\n",
      "Epoch: [6/40], [800000/944159], Loss: 0.137407\n",
      "Epoch: [6/40], [850000/944159], Loss: 0.136751\n",
      "Epoch: [6/40], [900000/944159], Loss: 0.136165\n",
      "eval loss 0.143321\n",
      "Epoch: [7/40], [50000/944159], Loss: 0.135781\n",
      "Epoch: [7/40], [100000/944159], Loss: 0.140110\n",
      "Epoch: [7/40], [150000/944159], Loss: 0.142542\n",
      "Epoch: [7/40], [200000/944159], Loss: 0.142100\n",
      "Epoch: [7/40], [250000/944159], Loss: 0.138278\n",
      "Epoch: [7/40], [300000/944159], Loss: 0.138766\n",
      "Epoch: [7/40], [350000/944159], Loss: 0.139860\n",
      "Epoch: [7/40], [400000/944159], Loss: 0.139313\n",
      "Epoch: [7/40], [450000/944159], Loss: 0.138304\n",
      "Epoch: [7/40], [500000/944159], Loss: 0.138383\n",
      "Epoch: [7/40], [550000/944159], Loss: 0.138766\n",
      "Epoch: [7/40], [600000/944159], Loss: 0.139063\n",
      "Epoch: [7/40], [650000/944159], Loss: 0.137812\n",
      "Epoch: [7/40], [700000/944159], Loss: 0.138088\n",
      "Epoch: [7/40], [750000/944159], Loss: 0.137838\n",
      "Epoch: [7/40], [800000/944159], Loss: 0.137333\n",
      "Epoch: [7/40], [850000/944159], Loss: 0.136687\n",
      "Epoch: [7/40], [900000/944159], Loss: 0.136093\n",
      "eval loss 0.143336\n",
      "Epoch: [8/40], [50000/944159], Loss: 0.135721\n",
      "Epoch: [8/40], [100000/944159], Loss: 0.140065\n",
      "Epoch: [8/40], [150000/944159], Loss: 0.142518\n",
      "Epoch: [8/40], [200000/944159], Loss: 0.142057\n",
      "Epoch: [8/40], [250000/944159], Loss: 0.138258\n",
      "Epoch: [8/40], [300000/944159], Loss: 0.138796\n",
      "Epoch: [8/40], [350000/944159], Loss: 0.139864\n",
      "Epoch: [8/40], [400000/944159], Loss: 0.139340\n",
      "Epoch: [8/40], [450000/944159], Loss: 0.138345\n",
      "Epoch: [8/40], [500000/944159], Loss: 0.138428\n",
      "Epoch: [8/40], [550000/944159], Loss: 0.138814\n",
      "Epoch: [8/40], [600000/944159], Loss: 0.139097\n",
      "Epoch: [8/40], [650000/944159], Loss: 0.137840\n",
      "Epoch: [8/40], [700000/944159], Loss: 0.138144\n",
      "Epoch: [8/40], [750000/944159], Loss: 0.137867\n"
     ]
    },
    {
     "ename": "KeyboardInterrupt",
     "evalue": "",
     "output_type": "error",
     "traceback": [
      "\u001b[1;31m---------------------------------------------------------------------------\u001b[0m",
      "\u001b[1;31mKeyboardInterrupt\u001b[0m                         Traceback (most recent call last)",
      "\u001b[1;32m~\\AppData\\Local\\Temp\\ipykernel_2512\\1587261503.py\u001b[0m in \u001b[0;36m<module>\u001b[1;34m\u001b[0m\n\u001b[0;32m     14\u001b[0m         \u001b[0my_batch\u001b[0m \u001b[1;33m=\u001b[0m \u001b[0my_train\u001b[0m\u001b[1;33m[\u001b[0m\u001b[0mstart\u001b[0m\u001b[1;33m:\u001b[0m\u001b[0mstart\u001b[0m\u001b[1;33m+\u001b[0m\u001b[0mbatch_size\u001b[0m\u001b[1;33m]\u001b[0m\u001b[1;33m\u001b[0m\u001b[1;33m\u001b[0m\u001b[0m\n\u001b[0;32m     15\u001b[0m         \u001b[1;31m# forward pass\u001b[0m\u001b[1;33m\u001b[0m\u001b[1;33m\u001b[0m\u001b[1;33m\u001b[0m\u001b[0m\n\u001b[1;32m---> 16\u001b[1;33m         \u001b[0my_pred\u001b[0m\u001b[1;33m,\u001b[0m \u001b[0mfc1\u001b[0m\u001b[1;33m,\u001b[0m \u001b[0mconv1\u001b[0m\u001b[1;33m,\u001b[0m \u001b[0mconv2\u001b[0m\u001b[1;33m,\u001b[0m \u001b[0mconv3\u001b[0m \u001b[1;33m=\u001b[0m \u001b[0mmodel\u001b[0m\u001b[1;33m(\u001b[0m\u001b[0mX_batch\u001b[0m\u001b[1;33m)\u001b[0m \u001b[1;31m# .reshape(-1, 1, 300)\u001b[0m\u001b[1;33m\u001b[0m\u001b[1;33m\u001b[0m\u001b[0m\n\u001b[0m\u001b[0;32m     17\u001b[0m         \u001b[0mloss\u001b[0m \u001b[1;33m=\u001b[0m \u001b[0mloss_fn\u001b[0m\u001b[1;33m(\u001b[0m\u001b[0my_pred\u001b[0m\u001b[1;33m,\u001b[0m \u001b[0my_batch\u001b[0m\u001b[1;33m)\u001b[0m\u001b[1;33m\u001b[0m\u001b[1;33m\u001b[0m\u001b[0m\n\u001b[0;32m     18\u001b[0m         \u001b[1;31m# backward pass\u001b[0m\u001b[1;33m\u001b[0m\u001b[1;33m\u001b[0m\u001b[1;33m\u001b[0m\u001b[0m\n",
      "\u001b[1;32mD:\\Software\\Python\\torch\\lib\\site-packages\\torch\\nn\\modules\\module.py\u001b[0m in \u001b[0;36m_call_impl\u001b[1;34m(self, *input, **kwargs)\u001b[0m\n\u001b[0;32m   1192\u001b[0m         if not (self._backward_hooks or self._forward_hooks or self._forward_pre_hooks or _global_backward_hooks\n\u001b[0;32m   1193\u001b[0m                 or _global_forward_hooks or _global_forward_pre_hooks):\n\u001b[1;32m-> 1194\u001b[1;33m             \u001b[1;32mreturn\u001b[0m \u001b[0mforward_call\u001b[0m\u001b[1;33m(\u001b[0m\u001b[1;33m*\u001b[0m\u001b[0minput\u001b[0m\u001b[1;33m,\u001b[0m \u001b[1;33m**\u001b[0m\u001b[0mkwargs\u001b[0m\u001b[1;33m)\u001b[0m\u001b[1;33m\u001b[0m\u001b[1;33m\u001b[0m\u001b[0m\n\u001b[0m\u001b[0;32m   1195\u001b[0m         \u001b[1;31m# Do not call functions when jit is used\u001b[0m\u001b[1;33m\u001b[0m\u001b[1;33m\u001b[0m\u001b[1;33m\u001b[0m\u001b[0m\n\u001b[0;32m   1196\u001b[0m         \u001b[0mfull_backward_hooks\u001b[0m\u001b[1;33m,\u001b[0m \u001b[0mnon_full_backward_hooks\u001b[0m \u001b[1;33m=\u001b[0m \u001b[1;33m[\u001b[0m\u001b[1;33m]\u001b[0m\u001b[1;33m,\u001b[0m \u001b[1;33m[\u001b[0m\u001b[1;33m]\u001b[0m\u001b[1;33m\u001b[0m\u001b[1;33m\u001b[0m\u001b[0m\n",
      "\u001b[1;32m~\\AppData\\Local\\Temp\\ipykernel_2512\\1889839965.py\u001b[0m in \u001b[0;36mforward\u001b[1;34m(self, x)\u001b[0m\n\u001b[0;32m     43\u001b[0m         \u001b[0mouts\u001b[0m \u001b[1;33m=\u001b[0m \u001b[0mconv3\u001b[0m\u001b[1;33m.\u001b[0m\u001b[0mview\u001b[0m\u001b[1;33m(\u001b[0m\u001b[1;33m-\u001b[0m\u001b[1;36m1\u001b[0m\u001b[1;33m,\u001b[0m \u001b[1;36m256\u001b[0m\u001b[1;33m)\u001b[0m\u001b[1;33m\u001b[0m\u001b[1;33m\u001b[0m\u001b[0m\n\u001b[0;32m     44\u001b[0m         \u001b[0mouts\u001b[0m \u001b[1;33m=\u001b[0m \u001b[0mself\u001b[0m\u001b[1;33m.\u001b[0m\u001b[0moutput_fc1\u001b[0m\u001b[1;33m(\u001b[0m\u001b[0mouts\u001b[0m\u001b[1;33m)\u001b[0m\u001b[1;33m\u001b[0m\u001b[1;33m\u001b[0m\u001b[0m\n\u001b[1;32m---> 45\u001b[1;33m         \u001b[0mouts\u001b[0m \u001b[1;33m=\u001b[0m \u001b[0mself\u001b[0m\u001b[1;33m.\u001b[0m\u001b[0moutput_fc2\u001b[0m\u001b[1;33m(\u001b[0m\u001b[0mouts\u001b[0m\u001b[1;33m)\u001b[0m\u001b[1;33m\u001b[0m\u001b[1;33m\u001b[0m\u001b[0m\n\u001b[0m\u001b[0;32m     46\u001b[0m         \u001b[1;32mreturn\u001b[0m \u001b[0mouts\u001b[0m\u001b[1;33m,\u001b[0m \u001b[0mfc1\u001b[0m\u001b[1;33m,\u001b[0m \u001b[0mconv1\u001b[0m\u001b[1;33m,\u001b[0m \u001b[0mconv2\u001b[0m\u001b[1;33m,\u001b[0m \u001b[0mconv3\u001b[0m\u001b[1;33m\u001b[0m\u001b[1;33m\u001b[0m\u001b[0m\n\u001b[0;32m     47\u001b[0m \u001b[1;33m\u001b[0m\u001b[0m\n",
      "\u001b[1;32mD:\\Software\\Python\\torch\\lib\\site-packages\\torch\\nn\\modules\\module.py\u001b[0m in \u001b[0;36m_call_impl\u001b[1;34m(self, *input, **kwargs)\u001b[0m\n\u001b[0;32m   1192\u001b[0m         if not (self._backward_hooks or self._forward_hooks or self._forward_pre_hooks or _global_backward_hooks\n\u001b[0;32m   1193\u001b[0m                 or _global_forward_hooks or _global_forward_pre_hooks):\n\u001b[1;32m-> 1194\u001b[1;33m             \u001b[1;32mreturn\u001b[0m \u001b[0mforward_call\u001b[0m\u001b[1;33m(\u001b[0m\u001b[1;33m*\u001b[0m\u001b[0minput\u001b[0m\u001b[1;33m,\u001b[0m \u001b[1;33m**\u001b[0m\u001b[0mkwargs\u001b[0m\u001b[1;33m)\u001b[0m\u001b[1;33m\u001b[0m\u001b[1;33m\u001b[0m\u001b[0m\n\u001b[0m\u001b[0;32m   1195\u001b[0m         \u001b[1;31m# Do not call functions when jit is used\u001b[0m\u001b[1;33m\u001b[0m\u001b[1;33m\u001b[0m\u001b[1;33m\u001b[0m\u001b[0m\n\u001b[0;32m   1196\u001b[0m         \u001b[0mfull_backward_hooks\u001b[0m\u001b[1;33m,\u001b[0m \u001b[0mnon_full_backward_hooks\u001b[0m \u001b[1;33m=\u001b[0m \u001b[1;33m[\u001b[0m\u001b[1;33m]\u001b[0m\u001b[1;33m,\u001b[0m \u001b[1;33m[\u001b[0m\u001b[1;33m]\u001b[0m\u001b[1;33m\u001b[0m\u001b[1;33m\u001b[0m\u001b[0m\n",
      "\u001b[1;32mD:\\Software\\Python\\torch\\lib\\site-packages\\torch\\nn\\modules\\linear.py\u001b[0m in \u001b[0;36mforward\u001b[1;34m(self, input)\u001b[0m\n\u001b[0;32m    112\u001b[0m \u001b[1;33m\u001b[0m\u001b[0m\n\u001b[0;32m    113\u001b[0m     \u001b[1;32mdef\u001b[0m \u001b[0mforward\u001b[0m\u001b[1;33m(\u001b[0m\u001b[0mself\u001b[0m\u001b[1;33m,\u001b[0m \u001b[0minput\u001b[0m\u001b[1;33m:\u001b[0m \u001b[0mTensor\u001b[0m\u001b[1;33m)\u001b[0m \u001b[1;33m->\u001b[0m \u001b[0mTensor\u001b[0m\u001b[1;33m:\u001b[0m\u001b[1;33m\u001b[0m\u001b[1;33m\u001b[0m\u001b[0m\n\u001b[1;32m--> 114\u001b[1;33m         \u001b[1;32mreturn\u001b[0m \u001b[0mF\u001b[0m\u001b[1;33m.\u001b[0m\u001b[0mlinear\u001b[0m\u001b[1;33m(\u001b[0m\u001b[0minput\u001b[0m\u001b[1;33m,\u001b[0m \u001b[0mself\u001b[0m\u001b[1;33m.\u001b[0m\u001b[0mweight\u001b[0m\u001b[1;33m,\u001b[0m \u001b[0mself\u001b[0m\u001b[1;33m.\u001b[0m\u001b[0mbias\u001b[0m\u001b[1;33m)\u001b[0m\u001b[1;33m\u001b[0m\u001b[1;33m\u001b[0m\u001b[0m\n\u001b[0m\u001b[0;32m    115\u001b[0m \u001b[1;33m\u001b[0m\u001b[0m\n\u001b[0;32m    116\u001b[0m     \u001b[1;32mdef\u001b[0m \u001b[0mextra_repr\u001b[0m\u001b[1;33m(\u001b[0m\u001b[0mself\u001b[0m\u001b[1;33m)\u001b[0m \u001b[1;33m->\u001b[0m \u001b[0mstr\u001b[0m\u001b[1;33m:\u001b[0m\u001b[1;33m\u001b[0m\u001b[1;33m\u001b[0m\u001b[0m\n",
      "\u001b[1;31mKeyboardInterrupt\u001b[0m: "
     ]
    }
   ],
   "source": [
    "# Hold the best model\n",
    "best_mse = np.inf   # init to infinity\n",
    "best_weights = None\n",
    "history = []\n",
    " \n",
    "# training loop\n",
    "for epoch in range(n_epochs):\n",
    "    model.train()\n",
    "    \n",
    "    running_loss = 0.0\n",
    "    for i, start in enumerate(batch_start, 1):\n",
    "        # take a batch\n",
    "        X_batch = X_train[start:start+batch_size]\n",
    "        y_batch = y_train[start:start+batch_size]\n",
    "        # forward pass\n",
    "        y_pred, fc1, conv1, conv2, conv3 = model(X_batch) # .reshape(-1, 1, 300)\n",
    "        loss = loss_fn(y_pred, y_batch)\n",
    "        # backward pass\n",
    "        optimizer.zero_grad()\n",
    "        loss.backward()\n",
    "        # update weights\n",
    "        optimizer.step()\n",
    "        # print progress\n",
    "        \n",
    "        running_loss += loss.item() * X_batch.shape[0]\n",
    "        \n",
    "        step = epoch * len(batch_start) + i\n",
    "        writer.add_scalar('loss', loss.item(), step)\n",
    "        \n",
    "#         writer.add_histogram('fc/fc1', torchvision.utils.make_grid(fc1).data.cpu(), step)\n",
    "#         writer.add_histogram('conv/conv1', torchvision.utils.make_grid(conv1).data.cpu(), step)\n",
    "#         writer.add_histogram('conv/conv2', torchvision.utils.make_grid(conv2).data.cpu(), step)\n",
    "#         writer.add_histogram('conv/conv3', torchvision.utils.make_grid(conv3).data.cpu(), step)\n",
    "        # add_histogram\n",
    "        \n",
    "        if i % 5000 == 0:\n",
    "            writer.add_histogram('deep/01_x', torchvision.utils.make_grid(X_batch).data.cpu(), step)\n",
    "            \n",
    "            writer.add_histogram('deep/02_fc1', torchvision.utils.make_grid(fc1).data.cpu(), step)\n",
    "            writer.add_histogram('deep/03_conv1', torchvision.utils.make_grid(conv1).data.cpu(), step)\n",
    "            writer.add_histogram('deep/04_conv2', torchvision.utils.make_grid(conv2).data.cpu(), step)\n",
    "            writer.add_histogram('deep/05_conv3', torchvision.utils.make_grid(conv3).data.cpu(), step)\n",
    "            \n",
    "            writer.add_histogram('deep/09_pred', torchvision.utils.make_grid(y_pred).data.cpu(), step)\n",
    "            \n",
    "            print('Epoch: [{}/{}], [{}/{}], Loss: {:.6f}'.format(epoch + 1, n_epochs, start+10, total_size, running_loss / (X_batch.shape[0] * i)))\n",
    "            \n",
    "    # evaluate accuracy at end of each epoch\n",
    "    model.eval()\n",
    "    eval_loss = 0.0\n",
    "    for i, start in enumerate(batch_test_start, 1):\n",
    "        X_batch_test = X_test[start:start+batch_size]\n",
    "        y_batch_test = y_test[start:start+batch_size]\n",
    "        \n",
    "        y_pred, fc1, conv1, conv2, conv3 = model(X_batch_test)\n",
    "        loss = loss_fn(y_pred, y_batch_test).cpu().detach().numpy()\n",
    "        \n",
    "        eval_loss += loss.item() * X_batch_test.shape[0]\n",
    "    \n",
    "    eval_loss = eval_loss / X_test.shape[0]\n",
    "    print('eval loss {:.6f}'.format(eval_loss))\n",
    "    history.append(eval_loss)\n",
    "    if eval_loss < best_mse:\n",
    "        best_mse = eval_loss\n",
    "        best_weights = copy.deepcopy(model.state_dict())\n",
    " \n",
    "# restore model and return best accuracy\n",
    "model.load_state_dict(best_weights)"
   ]
  },
  {
   "cell_type": "code",
   "execution_count": 58,
   "id": "e2cd0476",
   "metadata": {},
   "outputs": [
    {
     "data": {
      "text/plain": [
       "tensor([[0.0941],\n",
       "        [0.0941],\n",
       "        [0.0941],\n",
       "        [0.0941],\n",
       "        [0.0941],\n",
       "        [0.0941],\n",
       "        [0.0941],\n",
       "        [0.0941],\n",
       "        [0.0941],\n",
       "        [0.0941]], device='cuda:0', grad_fn=<AddmmBackward0>)"
      ]
     },
     "execution_count": 58,
     "metadata": {},
     "output_type": "execute_result"
    }
   ],
   "source": [
    "y_pred"
   ]
  },
  {
   "cell_type": "code",
   "execution_count": 28,
   "id": "686bdf2a",
   "metadata": {},
   "outputs": [],
   "source": [
    "torch.save(model.state_dict(), 'model1.pt')"
   ]
  },
  {
   "cell_type": "code",
   "execution_count": 29,
   "id": "c4b143e9",
   "metadata": {},
   "outputs": [
    {
     "name": "stdout",
     "output_type": "stream",
     "text": [
      "MSE: 0.14\n",
      "RMSE: 0.38\n"
     ]
    }
   ],
   "source": [
    "print(\"MSE: %.2f\" % best_mse)\n",
    "print(\"RMSE: %.2f\" % np.sqrt(best_mse))\n",
    "plt.plot(history)\n",
    "plt.show()"
   ]
  },
  {
   "cell_type": "code",
   "execution_count": 16,
   "id": "1ec39341",
   "metadata": {},
   "outputs": [
    {
     "data": {
      "text/plain": [
       "array([0., 0., 0.], dtype=float32)"
      ]
     },
     "execution_count": 16,
     "metadata": {},
     "output_type": "execute_result"
    }
   ],
   "source": [
    "np.array(history)"
   ]
  },
  {
   "cell_type": "code",
   "execution_count": null,
   "id": "5cf3e1d5",
   "metadata": {},
   "outputs": [],
   "source": []
  },
  {
   "cell_type": "code",
   "execution_count": null,
   "id": "2a40c0db",
   "metadata": {},
   "outputs": [],
   "source": []
  },
  {
   "cell_type": "code",
   "execution_count": null,
   "id": "ca538ff7",
   "metadata": {},
   "outputs": [],
   "source": []
  },
  {
   "cell_type": "code",
   "execution_count": null,
   "id": "012f691b",
   "metadata": {},
   "outputs": [],
   "source": []
  },
  {
   "cell_type": "code",
   "execution_count": null,
   "id": "2035c879",
   "metadata": {},
   "outputs": [],
   "source": []
  },
  {
   "cell_type": "code",
   "execution_count": null,
   "id": "1bc20b50",
   "metadata": {},
   "outputs": [],
   "source": []
  },
  {
   "cell_type": "code",
   "execution_count": null,
   "id": "12f1c808",
   "metadata": {},
   "outputs": [],
   "source": []
  },
  {
   "cell_type": "code",
   "execution_count": null,
   "id": "36efc730",
   "metadata": {},
   "outputs": [],
   "source": []
  },
  {
   "cell_type": "code",
   "execution_count": null,
   "id": "70bce00f",
   "metadata": {},
   "outputs": [],
   "source": []
  },
  {
   "cell_type": "code",
   "execution_count": null,
   "id": "05d9c885",
   "metadata": {},
   "outputs": [],
   "source": []
  },
  {
   "cell_type": "code",
   "execution_count": 25,
   "id": "olympic-legislation",
   "metadata": {},
   "outputs": [],
   "source": [
    "# price_data = df.close\n",
    "price_data = df_1T.last_price.diff(1).fillna(0)"
   ]
  },
  {
   "cell_type": "code",
   "execution_count": 27,
   "id": "dressed-legend",
   "metadata": {},
   "outputs": [
    {
     "data": {
      "text/plain": [
       "<AxesSubplot:xlabel='last_price', ylabel='Count'>"
      ]
     },
     "execution_count": 27,
     "metadata": {},
     "output_type": "execute_result"
    },
    {
     "data": {
      "image/png": "[encoded data removed]",
      "text/plain": [
       "<Figure size 960x640 with 1 Axes>"
      ]
     },
     "metadata": {},
     "output_type": "display_data"
    }
   ],
   "source": [
    "fig, ax = plt.subplots(figsize=(12, 8), dpi=80)\n",
    "sn.histplot(price_data, kde=True, ax=ax)"
   ]
  },
  {
   "cell_type": "code",
   "execution_count": 31,
   "id": "continuing-invitation",
   "metadata": {},
   "outputs": [],
   "source": [
    "config = {\n",
    "#     \"alpha_vantage\": {\n",
    "#         \"key\": \"YOUR_API_KEY\", # Claim your free API key here: https://www.alphavantage.co/support/#api-key\n",
    "#         \"symbol\": \"IBM\",\n",
    "#         \"outputsize\": \"full\",\n",
    "#         \"key_adjusted_close\": \"5. adjusted close\",\n",
    "#     },\n",
    "    'symbol': 'rb2305',\n",
    "    \"data\": {\n",
    "        \"window_size\": 30,\n",
    "        \"train_split_size\": 0.80,\n",
    "    }, \n",
    "    \"plots\": {\n",
    "        \"show_plots\": True,\n",
    "        \"xticks_interval\": 90,\n",
    "        \"color_actual\": \"#001f3f\",\n",
    "        \"color_train\": \"#3D9970\",\n",
    "        \"color_val\": \"#0074D9\",\n",
    "        \"color_pred_train\": \"#3D9970\",\n",
    "        \"color_pred_val\": \"#0074D9\",\n",
    "        \"color_pred_test\": \"#FF4136\",\n",
    "    },\n",
    "    \"model\": {\n",
    "        \"input_size\": 1, # since we are only using 1 feature, close price\n",
    "        \"num_lstm_layers\": 2,\n",
    "        \"lstm_size\": 32,\n",
    "        \"dropout\": 0.2,\n",
    "    },\n",
    "    \"training\": {\n",
    "        \"device\": \"cuda\", # \"cuda\" or \"cpu\"\n",
    "        \"batch_size\": 64,\n",
    "        \"num_epoch\": 400,\n",
    "        \"learning_rate\": 0.01,\n",
    "        \"scheduler_step_size\": 40,\n",
    "    }\n",
    "}"
   ]
  },
  {
   "cell_type": "code",
   "execution_count": 32,
   "id": "unlike-spouse",
   "metadata": {},
   "outputs": [],
   "source": [
    "num_data_points = df_1T.shape[0]"
   ]
  },
  {
   "cell_type": "code",
   "execution_count": 33,
   "id": "compound-probability",
   "metadata": {},
   "outputs": [],
   "source": [
    "data_close_price = price_data.to_numpy()"
   ]
  },
  {
   "cell_type": "code",
   "execution_count": 34,
   "id": "nasty-trouble",
   "metadata": {},
   "outputs": [],
   "source": [
    "data_date = df_1T.index.strftime('%Y-%m-%d %H-%M').to_list()\n",
    "# data_date.reverse()"
   ]
  },
  {
   "cell_type": "code",
   "execution_count": 35,
   "id": "final-ultimate",
   "metadata": {},
   "outputs": [],
   "source": [
    "display_date_range = \"from \" + data_date[0] + \" to \" + data_date[num_data_points-1]"
   ]
  },
  {
   "cell_type": "code",
   "execution_count": 37,
   "id": "comic-router",
   "metadata": {},
   "outputs": [],
   "source": [
    "class Normalizer():\n",
    "    def __init__(self):\n",
    "        self.mu = None\n",
    "        self.sd = None\n",
    "\n",
    "    def fit_transform(self, x):\n",
    "        self.mu = np.mean(x, axis=(0), keepdims=True)\n",
    "        self.sd = np.std(x, axis=(0), keepdims=True)\n",
    "        normalized_x = (x - self.mu)/self.sd\n",
    "        return normalized_x\n",
    "\n",
    "    def inverse_transform(self, x):\n",
    "        return (x*self.sd) + self.mu\n",
    "\n",
    "# normalize\n",
    "scaler = Normalizer()\n",
    "normalized_data_close_price = scaler.fit_transform(price_data.to_numpy())"
   ]
  },
  {
   "cell_type": "code",
   "execution_count": 38,
   "id": "corporate-center",
   "metadata": {},
   "outputs": [
    {
     "name": "stderr",
     "output_type": "stream",
     "text": [
      "D:\\Software\\Python\\torch\\lib\\site-packages\\ipykernel_launcher.py:49: MatplotlibDeprecationWarning: The 'b' parameter of grid() has been renamed 'visible' since Matplotlib 3.5; support for the old name will be dropped two minor releases later.\n"
     ]
    },
    {
     "data": {
      "image/png": "[encoded data removed]",
      "text/plain": [
       "<Figure size 2000x400 with 1 Axes>"
      ]
     },
     "metadata": {},
     "output_type": "display_data"
    }
   ],
   "source": [
    "def prepare_data_x(x, window_size):\n",
    "    # perform windowing\n",
    "    n_row = x.shape[0] - window_size + 1\n",
    "    output = np.lib.stride_tricks.as_strided(x, shape=(n_row,window_size), strides=(x.strides[0],x.strides[0]))\n",
    "    return output[:-1], output[-1]\n",
    "\n",
    "def prepare_data_y(x, window_size):\n",
    "    # # perform simple moving average\n",
    "    # output = np.convolve(x, np.ones(window_size), 'valid') / window_size\n",
    "\n",
    "    # use the next day as label\n",
    "    output = x[window_size:]\n",
    "    return output\n",
    "\n",
    "def prepare_data(normalized_data_close_price, config, plot=False):\n",
    "    data_x, data_x_unseen = prepare_data_x(normalized_data_close_price, window_size=config[\"data\"][\"window_size\"])\n",
    "    data_y = prepare_data_y(normalized_data_close_price, window_size=config[\"data\"][\"window_size\"])\n",
    "\n",
    "    # split dataset\n",
    "\n",
    "    split_index = int(data_y.shape[0]*config[\"data\"][\"train_split_size\"])\n",
    "    data_x_train = data_x[:split_index]\n",
    "    data_x_val = data_x[split_index:]\n",
    "    data_y_train = data_y[:split_index]\n",
    "    data_y_val = data_y[split_index:]\n",
    "\n",
    "    if plot:\n",
    "        # prepare data for plotting\n",
    "\n",
    "        to_plot_data_y_train = np.zeros(num_data_points)\n",
    "        to_plot_data_y_val = np.zeros(num_data_points)\n",
    "\n",
    "        to_plot_data_y_train[config[\"data\"][\"window_size\"]:split_index+config[\"data\"][\"window_size\"]] = scaler.inverse_transform(data_y_train)\n",
    "        to_plot_data_y_val[split_index+config[\"data\"][\"window_size\"]:] = scaler.inverse_transform(data_y_val)\n",
    "\n",
    "        to_plot_data_y_train = np.where(to_plot_data_y_train == 0, None, to_plot_data_y_train)\n",
    "        to_plot_data_y_val = np.where(to_plot_data_y_val == 0, None, to_plot_data_y_val)\n",
    "\n",
    "        ## plots\n",
    "\n",
    "        fig = figure(figsize=(25, 5), dpi=80)\n",
    "        fig.patch.set_facecolor((1.0, 1.0, 1.0))\n",
    "        plt.plot(data_date, to_plot_data_y_train, label=\"Prices (train)\", color=config[\"plots\"][\"color_train\"])\n",
    "        plt.plot(data_date, to_plot_data_y_val, label=\"Prices (validation)\", color=config[\"plots\"][\"color_val\"])\n",
    "        xticks = [data_date[i] if ((i%config[\"plots\"][\"xticks_interval\"]==0 and (num_data_points-i) > config[\"plots\"][\"xticks_interval\"]) or i==num_data_points-1) else None for i in range(num_data_points)] # make x ticks nice\n",
    "        x = np.arange(0,len(xticks))\n",
    "        plt.xticks(x, xticks, rotation='vertical')\n",
    "        plt.title(\"Daily close prices for \" + config[\"symbol\"] + \" - showing training and validation data\")\n",
    "        plt.grid(b=None, which='major', axis='y', linestyle='--')\n",
    "        plt.legend()\n",
    "        plt.show()\n",
    "\n",
    "    return split_index, data_x_train, data_y_train, data_x_val, data_y_val, data_x_unseen\n",
    "\n",
    "split_index, data_x_train, data_y_train, data_x_val, data_y_val, data_x_unseen = prepare_data(normalized_data_close_price, config, plot=True)"
   ]
  },
  {
   "cell_type": "code",
   "execution_count": 39,
   "id": "periodic-colors",
   "metadata": {},
   "outputs": [
    {
     "name": "stdout",
     "output_type": "stream",
     "text": [
      "Train data shape (28916, 30, 1) (28916,)\n",
      "Validation data shape (7229, 30, 1) (7229,)\n"
     ]
    }
   ],
   "source": [
    "class TimeSeriesDataset(Dataset):\n",
    "    def __init__(self, x, y):\n",
    "        x = np.expand_dims(x, 2) # in our case, we have only 1 feature, so we need to convert `x` into [batch, sequence, features] for LSTM\n",
    "        self.x = x.astype(np.float32)\n",
    "        self.y = y.astype(np.float32)\n",
    "        \n",
    "    def __len__(self):\n",
    "        return len(self.x)\n",
    "\n",
    "    def __getitem__(self, idx):\n",
    "        return (self.x[idx], self.y[idx])\n",
    "\n",
    "dataset_train = TimeSeriesDataset(data_x_train, data_y_train)\n",
    "dataset_val = TimeSeriesDataset(data_x_val, data_y_val)\n",
    "\n",
    "print(\"Train data shape\", dataset_train.x.shape, dataset_train.y.shape)\n",
    "print(\"Validation data shape\", dataset_val.x.shape, dataset_val.y.shape)"
   ]
  },
  {
   "cell_type": "code",
   "execution_count": 40,
   "id": "cheap-imperial",
   "metadata": {},
   "outputs": [],
   "source": [
    "class LSTMModel(nn.Module):\n",
    "    def __init__(self, input_size=1, hidden_layer_size=32, num_layers=2, output_size=1, dropout=0.2):\n",
    "        super().__init__()\n",
    "        self.hidden_layer_size = hidden_layer_size\n",
    "\n",
    "        self.linear_1 = nn.Linear(input_size, hidden_layer_size)\n",
    "        self.relu = nn.ReLU()\n",
    "        self.lstm = nn.LSTM(hidden_layer_size, hidden_size=self.hidden_layer_size, num_layers=num_layers, batch_first=True)\n",
    "        self.dropout = nn.Dropout(dropout)\n",
    "        self.linear_2 = nn.Linear(num_layers*hidden_layer_size, output_size)\n",
    "        \n",
    "        self.init_weights()\n",
    "\n",
    "    def init_weights(self):\n",
    "        for name, param in self.lstm.named_parameters():\n",
    "            if 'bias' in name:\n",
    "                 nn.init.constant_(param, 0.0)\n",
    "            elif 'weight_ih' in name:\n",
    "                 nn.init.kaiming_normal_(param)\n",
    "            elif 'weight_hh' in name:\n",
    "                 nn.init.orthogonal_(param)\n",
    "\n",
    "    def forward(self, x):\n",
    "        batchsize = x.shape[0]\n",
    "\n",
    "        # layer 1\n",
    "        x = self.linear_1(x)\n",
    "        x = self.relu(x)\n",
    "        \n",
    "        # LSTM layer\n",
    "        lstm_out, (h_n, c_n) = self.lstm(x)\n",
    "\n",
    "        # reshape output from hidden cell into [batch, features] for `linear_2`\n",
    "        x = h_n.permute(1, 0, 2).reshape(batchsize, -1) \n",
    "        \n",
    "        # layer 2\n",
    "        x = self.dropout(x)\n",
    "        predictions = self.linear_2(x)\n",
    "        return predictions[:,-1]\n",
    "\n",
    "model = LSTMModel(input_size=config[\"model\"][\"input_size\"], hidden_layer_size=config[\"model\"][\"lstm_size\"], num_layers=config[\"model\"][\"num_lstm_layers\"], output_size=1, dropout=config[\"model\"][\"dropout\"])\n",
    "model = model.to(config[\"training\"][\"device\"])"
   ]
  },
  {
   "cell_type": "code",
   "execution_count": null,
   "id": "compressed-banks",
   "metadata": {},
   "outputs": [],
   "source": []
  },
  {
   "cell_type": "code",
   "execution_count": null,
   "id": "gross-reservation",
   "metadata": {},
   "outputs": [],
   "source": []
  }
 ],
 "metadata": {
  "kernelspec": {
   "display_name": "torch",
   "language": "python",
   "name": "torch"
  },
  "language_info": {
   "codemirror_mode": {
    "name": "ipython",
    "version": 3
   },
   "file_extension": ".py",
   "mimetype": "text/x-python",
   "name": "python",
   "nbconvert_exporter": "python",
   "pygments_lexer": "ipython3",
   "version": "3.7.9"
  }
 },
 "nbformat": 4,
 "nbformat_minor": 5
}
