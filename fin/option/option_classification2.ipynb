{
 "cells": [
  {
   "cell_type": "code",
   "execution_count": 1,
   "id": "weird-metro",
   "metadata": {},
   "outputs": [],
   "source": [
    "import pandas as pd\n",
    "import numpy as np\n",
    "import seaborn as sn\n",
    "import copy\n",
    "import tqdm\n",
    "\n",
    "import torch\n",
    "import torch.nn as nn\n",
    "import torch.nn.functional as F\n",
    "import torch.optim as optim\n",
    "from torch.utils.tensorboard import SummaryWriter\n",
    "import torchvision\n",
    "# from torch.utils.data import Dataset\n",
    "# from torch.utils.data import DataLoader\n",
    "\n",
    "from sklearn import tree, svm\n",
    "from sklearn.pipeline import make_pipeline\n",
    "from sklearn.preprocessing import StandardScaler, normalize\n",
    "from sklearn.svm import SVC\n",
    "from sklearn.model_selection import train_test_split\n",
    "\n",
    "import seaborn as sn\n",
    "import matplotlib.pyplot as plt\n",
    "from matplotlib.pyplot import figure\n",
    "\n",
    "plt.style.use('fivethirtyeight')\n",
    "plt.rcParams['lines.linewidth'] = 1.5\n",
    "plt.rcParams['font.size'] = 10\n",
    "plt.rcParams['figure.figsize'] = (16, 10)"
   ]
  },
  {
   "cell_type": "code",
   "execution_count": 2,
   "id": "4d18382a",
   "metadata": {},
   "outputs": [],
   "source": [
    "np.set_printoptions(precision=4, suppress=True)"
   ]
  },
  {
   "cell_type": "code",
   "execution_count": 3,
   "id": "saved-september",
   "metadata": {},
   "outputs": [],
   "source": [
    "# %matplotlib inline\n",
    "%matplotlib qt"
   ]
  },
  {
   "cell_type": "code",
   "execution_count": 4,
   "id": "d2a44eaa",
   "metadata": {},
   "outputs": [],
   "source": [
    "from lutils.fin.data_loader import load"
   ]
  },
  {
   "cell_type": "code",
   "execution_count": 11,
   "id": "910a0691",
   "metadata": {},
   "outputs": [],
   "source": [
    "def prepare_data(df):\n",
    "    \n",
    "    between_times = [['09:00', '10:15'], ['10:30', '11:30'], ['13:30', '15:00'], ['21:00', '23:00']]\n",
    "    start_ix = 900\n",
    "    next_tick_sec = 300\n",
    "    \n",
    "    def _prepare_data(x, window_size):\n",
    "        # perform windowing\n",
    "        n_row = x.shape[0] - window_size + 1\n",
    "        output = np.lib.stride_tricks.as_strided(x, shape=(n_row, window_size), strides=(x.strides[0],x.strides[0]))\n",
    "#         return output[:-1], output[-1]\n",
    "        return output\n",
    "    \n",
    "    dfs_x = []\n",
    "    dfs_y = []\n",
    "    for d in tqdm.tqdm(np.unique(df.index.date)):\n",
    "        day1S_df = df[df.index.date == d].resample('1S').last()\n",
    "        day1S_df = day1S_df.interpolate()\n",
    "        for (start, end) in between_times:\n",
    "            # X\n",
    "            _df = day1S_df.between_time(start, end)\n",
    "            \n",
    "            if _df.shape[0] > 0:\n",
    "                ix = _df.index.values\n",
    "                \n",
    "                df_x = _prepare_data(_df.last_price.values, start_ix) # len - 900 + 1\n",
    "                df_y = np.roll(df_x, -start_ix, axis=0)[:-start_ix,:next_tick_sec] # len - 900 + 1 - 900\n",
    "                \n",
    "                df_x = df_x - df_x.mean(axis=1, keepdims=True)\n",
    "                \n",
    "#                 y = (df_y[:, 0] - df_y[:, -1]) / (df_y.max(axis=1) - df_y.min(axis=1))\n",
    "                df_y = (df_y[:, -1] - df_y[:, 0]) / df_y[:, 0]\n",
    "        \n",
    "                df_y[np.isinf(df_y) | np.isneginf(df_y)] = 0\n",
    "                df_y[np.isnan(df_y)] = 0\n",
    "    #             y[df_y[:, 0] > df_y[:, -1]] = y[df_y[:, 0] > df_y[:, -1]] * -1\n",
    "    #             if y.sum() > 0 and np.abs(y.mean()) != 1:\n",
    "                \n",
    "                df_x = pd.DataFrame(df_x, index=ix[:-start_ix+1])\n",
    "                df_y = pd.DataFrame(df_y, index=np.roll(ix, -start_ix)[:-start_ix-start_ix+1])\n",
    "                \n",
    "                dfs_x.append(df_x.iloc[:-start_ix])\n",
    "                dfs_y.append(df_y)\n",
    "#                 last_prices.append(_df.last_price)\n",
    "            \n",
    "    return dfs_x, dfs_y"
   ]
  },
  {
   "cell_type": "code",
   "execution_count": null,
   "id": "3c8c0c88",
   "metadata": {},
   "outputs": [],
   "source": []
  },
  {
   "cell_type": "code",
   "execution_count": 6,
   "id": "southeast-escape",
   "metadata": {},
   "outputs": [
    {
     "name": "stdout",
     "output_type": "stream",
     "text": [
      "load Z:/tq_data/ticks\\SHFE.rb2305.h5\n",
      "load Y:/fin_data\\2023-05-04\\SHFE.rb2305.h5\n",
      "load Y:/fin_data\\2023-05-05\\SHFE.rb2305.h5\n",
      "load Y:/fin_data\\2023-05-08\\SHFE.rb2305.h5\n",
      "load Y:/fin_data\\2023-05-09\\SHFE.rb2305.h5\n",
      "load Y:/fin_data\\2023-05-10\\SHFE.rb2305.h5\n",
      "load Y:/fin_data\\2023-05-11\\SHFE.rb2305.h5\n",
      "load Y:/fin_data\\2023-05-12\\SHFE.rb2305.h5\n",
      "load Y:/fin_data\\2023-05-15\\SHFE.rb2305.h5\n"
     ]
    }
   ],
   "source": [
    "df = load('SHFE', 'rb2305')"
   ]
  },
  {
   "cell_type": "code",
   "execution_count": 7,
   "id": "fe87e98a",
   "metadata": {},
   "outputs": [],
   "source": [
    "start_date = '2023-03-15' # '2022-09-01'\n",
    "end_date = '2023-05-06'"
   ]
  },
  {
   "cell_type": "code",
   "execution_count": 8,
   "id": "fe207c1f",
   "metadata": {},
   "outputs": [],
   "source": [
    "df.index = df.datetime"
   ]
  },
  {
   "cell_type": "code",
   "execution_count": 9,
   "id": "17393880",
   "metadata": {},
   "outputs": [],
   "source": [
    "df = df[start_date:end_date][['last_price', 'volume', 'amount']]"
   ]
  },
  {
   "cell_type": "code",
   "execution_count": 12,
   "id": "56542b35",
   "metadata": {},
   "outputs": [
    {
     "name": "stderr",
     "output_type": "stream",
     "text": [
      "100%|██████████████████████████████████████████| 34/34 [00:10<00:00,  3.10it/s]\n"
     ]
    }
   ],
   "source": [
    "dfs_x, dfs_y = prepare_data(df)"
   ]
  },
  {
   "cell_type": "code",
   "execution_count": 11,
   "id": "86cbc977",
   "metadata": {},
   "outputs": [],
   "source": [
    "# dfs_x"
   ]
  },
  {
   "cell_type": "code",
   "execution_count": 12,
   "id": "094b64d5",
   "metadata": {},
   "outputs": [],
   "source": [
    "# dfs_y"
   ]
  },
  {
   "cell_type": "code",
   "execution_count": 31,
   "id": "38e5df48",
   "metadata": {},
   "outputs": [
    {
     "data": {
      "text/plain": [
       "134"
      ]
     },
     "execution_count": 31,
     "metadata": {},
     "output_type": "execute_result"
    }
   ],
   "source": [
    "len(dfs_x)"
   ]
  },
  {
   "cell_type": "code",
   "execution_count": 14,
   "id": "4e2cf89c",
   "metadata": {},
   "outputs": [],
   "source": [
    "# with open('dfs.npy', 'wb') as f:\n",
    "#     np.save(f, dfs_x)\n",
    "#     np.save(f, dfs_y)"
   ]
  },
  {
   "cell_type": "code",
   "execution_count": 15,
   "id": "f9276757",
   "metadata": {},
   "outputs": [],
   "source": [
    "# with open('dfs.npy', 'rb') as f:\n",
    "#     dfs_x = np.load(f)\n",
    "#     dfs_x = np.load(f)"
   ]
  },
  {
   "cell_type": "code",
   "execution_count": 16,
   "id": "588a18d5",
   "metadata": {},
   "outputs": [],
   "source": [
    "# dfs_x[-4].shape"
   ]
  },
  {
   "cell_type": "code",
   "execution_count": 17,
   "id": "b8eb4c44",
   "metadata": {},
   "outputs": [],
   "source": [
    "# dfs_x"
   ]
  },
  {
   "cell_type": "code",
   "execution_count": 18,
   "id": "2cf1e9ef",
   "metadata": {},
   "outputs": [],
   "source": [
    "# dfs_x[-1].shape"
   ]
  },
  {
   "cell_type": "code",
   "execution_count": 19,
   "id": "c79f5e98",
   "metadata": {},
   "outputs": [],
   "source": [
    "# dfs_y[0].shape"
   ]
  },
  {
   "cell_type": "code",
   "execution_count": 19,
   "id": "ea4887a6",
   "metadata": {},
   "outputs": [],
   "source": [
    "end_ix = 120"
   ]
  },
  {
   "cell_type": "code",
   "execution_count": 21,
   "id": "a23d1e38",
   "metadata": {},
   "outputs": [],
   "source": [
    "# del df"
   ]
  },
  {
   "cell_type": "code",
   "execution_count": 14,
   "id": "44aafda5",
   "metadata": {},
   "outputs": [],
   "source": [
    "import gc"
   ]
  },
  {
   "cell_type": "code",
   "execution_count": 15,
   "id": "bef71305",
   "metadata": {},
   "outputs": [
    {
     "data": {
      "text/plain": [
       "338"
      ]
     },
     "execution_count": 15,
     "metadata": {},
     "output_type": "execute_result"
    }
   ],
   "source": [
    "gc.collect()"
   ]
  },
  {
   "cell_type": "code",
   "execution_count": null,
   "id": "91efca18",
   "metadata": {},
   "outputs": [],
   "source": [
    "# X = normalize(np.vstack(dfs_x[-end_ix:]), norm='l2', axis=1)\n",
    "# y = np.hstack(dfs_y[-end_ix:])\n",
    "\n",
    "# X = normalize(np.vstack(dfs_x[-end_ix:]))\n",
    "# y = np.hstack(dfs_y[-end_ix:])\n",
    "\n"
   ]
  },
  {
   "cell_type": "code",
   "execution_count": 30,
   "id": "854c0b37",
   "metadata": {},
   "outputs": [
    {
     "data": {
      "text/html": [
       "<div>\n",
       "<style scoped>\n",
       "    .dataframe tbody tr th:only-of-type {\n",
       "        vertical-align: middle;\n",
       "    }\n",
       "\n",
       "    .dataframe tbody tr th {\n",
       "        vertical-align: top;\n",
       "    }\n",
       "\n",
       "    .dataframe thead th {\n",
       "        text-align: right;\n",
       "    }\n",
       "</style>\n",
       "<table border=\"1\" class=\"dataframe\">\n",
       "  <thead>\n",
       "    <tr style=\"text-align: right;\">\n",
       "      <th></th>\n",
       "      <th>0</th>\n",
       "      <th>1</th>\n",
       "      <th>2</th>\n",
       "      <th>3</th>\n",
       "      <th>4</th>\n",
       "      <th>5</th>\n",
       "      <th>6</th>\n",
       "      <th>7</th>\n",
       "      <th>8</th>\n",
       "      <th>9</th>\n",
       "      <th>...</th>\n",
       "      <th>890</th>\n",
       "      <th>891</th>\n",
       "      <th>892</th>\n",
       "      <th>893</th>\n",
       "      <th>894</th>\n",
       "      <th>895</th>\n",
       "      <th>896</th>\n",
       "      <th>897</th>\n",
       "      <th>898</th>\n",
       "      <th>899</th>\n",
       "    </tr>\n",
       "  </thead>\n",
       "  <tbody>\n",
       "    <tr>\n",
       "      <th>2023-03-15 09:00:00</th>\n",
       "      <td>2.602222</td>\n",
       "      <td>0.602222</td>\n",
       "      <td>3.602222</td>\n",
       "      <td>3.602222</td>\n",
       "      <td>2.602222</td>\n",
       "      <td>1.602222</td>\n",
       "      <td>0.602222</td>\n",
       "      <td>1.602222</td>\n",
       "      <td>1.602222</td>\n",
       "      <td>1.602222</td>\n",
       "      <td>...</td>\n",
       "      <td>-2.397778</td>\n",
       "      <td>-2.397778</td>\n",
       "      <td>-2.397778</td>\n",
       "      <td>-1.397778</td>\n",
       "      <td>-1.397778</td>\n",
       "      <td>-1.397778</td>\n",
       "      <td>-1.397778</td>\n",
       "      <td>-1.397778</td>\n",
       "      <td>-1.397778</td>\n",
       "      <td>-1.397778</td>\n",
       "    </tr>\n",
       "    <tr>\n",
       "      <th>2023-03-15 09:00:01</th>\n",
       "      <td>0.606667</td>\n",
       "      <td>3.606667</td>\n",
       "      <td>3.606667</td>\n",
       "      <td>2.606667</td>\n",
       "      <td>1.606667</td>\n",
       "      <td>0.606667</td>\n",
       "      <td>1.606667</td>\n",
       "      <td>1.606667</td>\n",
       "      <td>1.606667</td>\n",
       "      <td>1.606667</td>\n",
       "      <td>...</td>\n",
       "      <td>-2.393333</td>\n",
       "      <td>-2.393333</td>\n",
       "      <td>-1.393333</td>\n",
       "      <td>-1.393333</td>\n",
       "      <td>-1.393333</td>\n",
       "      <td>-1.393333</td>\n",
       "      <td>-1.393333</td>\n",
       "      <td>-1.393333</td>\n",
       "      <td>-1.393333</td>\n",
       "      <td>-1.393333</td>\n",
       "    </tr>\n",
       "    <tr>\n",
       "      <th>2023-03-15 09:00:02</th>\n",
       "      <td>3.610000</td>\n",
       "      <td>3.610000</td>\n",
       "      <td>2.610000</td>\n",
       "      <td>1.610000</td>\n",
       "      <td>0.610000</td>\n",
       "      <td>1.610000</td>\n",
       "      <td>1.610000</td>\n",
       "      <td>1.610000</td>\n",
       "      <td>1.610000</td>\n",
       "      <td>0.610000</td>\n",
       "      <td>...</td>\n",
       "      <td>-2.390000</td>\n",
       "      <td>-1.390000</td>\n",
       "      <td>-1.390000</td>\n",
       "      <td>-1.390000</td>\n",
       "      <td>-1.390000</td>\n",
       "      <td>-1.390000</td>\n",
       "      <td>-1.390000</td>\n",
       "      <td>-1.390000</td>\n",
       "      <td>-1.390000</td>\n",
       "      <td>-2.390000</td>\n",
       "    </tr>\n",
       "    <tr>\n",
       "      <th>2023-03-15 09:00:03</th>\n",
       "      <td>3.615556</td>\n",
       "      <td>2.615556</td>\n",
       "      <td>1.615556</td>\n",
       "      <td>0.615556</td>\n",
       "      <td>1.615556</td>\n",
       "      <td>1.615556</td>\n",
       "      <td>1.615556</td>\n",
       "      <td>1.615556</td>\n",
       "      <td>0.615556</td>\n",
       "      <td>1.615556</td>\n",
       "      <td>...</td>\n",
       "      <td>-1.384444</td>\n",
       "      <td>-1.384444</td>\n",
       "      <td>-1.384444</td>\n",
       "      <td>-1.384444</td>\n",
       "      <td>-1.384444</td>\n",
       "      <td>-1.384444</td>\n",
       "      <td>-1.384444</td>\n",
       "      <td>-1.384444</td>\n",
       "      <td>-2.384444</td>\n",
       "      <td>-1.384444</td>\n",
       "    </tr>\n",
       "    <tr>\n",
       "      <th>2023-03-15 09:00:04</th>\n",
       "      <td>2.622222</td>\n",
       "      <td>1.622222</td>\n",
       "      <td>0.622222</td>\n",
       "      <td>1.622222</td>\n",
       "      <td>1.622222</td>\n",
       "      <td>1.622222</td>\n",
       "      <td>1.622222</td>\n",
       "      <td>0.622222</td>\n",
       "      <td>1.622222</td>\n",
       "      <td>1.622222</td>\n",
       "      <td>...</td>\n",
       "      <td>-1.377778</td>\n",
       "      <td>-1.377778</td>\n",
       "      <td>-1.377778</td>\n",
       "      <td>-1.377778</td>\n",
       "      <td>-1.377778</td>\n",
       "      <td>-1.377778</td>\n",
       "      <td>-1.377778</td>\n",
       "      <td>-2.377778</td>\n",
       "      <td>-1.377778</td>\n",
       "      <td>-2.377778</td>\n",
       "    </tr>\n",
       "  </tbody>\n",
       "</table>\n",
       "<p>5 rows × 900 columns</p>\n",
       "</div>"
      ],
      "text/plain": [
       "                          0         1         2         3         4    \\\n",
       "2023-03-15 09:00:00  2.602222  0.602222  3.602222  3.602222  2.602222   \n",
       "2023-03-15 09:00:01  0.606667  3.606667  3.606667  2.606667  1.606667   \n",
       "2023-03-15 09:00:02  3.610000  3.610000  2.610000  1.610000  0.610000   \n",
       "2023-03-15 09:00:03  3.615556  2.615556  1.615556  0.615556  1.615556   \n",
       "2023-03-15 09:00:04  2.622222  1.622222  0.622222  1.622222  1.622222   \n",
       "\n",
       "                          5         6         7         8         9    ...  \\\n",
       "2023-03-15 09:00:00  1.602222  0.602222  1.602222  1.602222  1.602222  ...   \n",
       "2023-03-15 09:00:01  0.606667  1.606667  1.606667  1.606667  1.606667  ...   \n",
       "2023-03-15 09:00:02  1.610000  1.610000  1.610000  1.610000  0.610000  ...   \n",
       "2023-03-15 09:00:03  1.615556  1.615556  1.615556  0.615556  1.615556  ...   \n",
       "2023-03-15 09:00:04  1.622222  1.622222  0.622222  1.622222  1.622222  ...   \n",
       "\n",
       "                          890       891       892       893       894  \\\n",
       "2023-03-15 09:00:00 -2.397778 -2.397778 -2.397778 -1.397778 -1.397778   \n",
       "2023-03-15 09:00:01 -2.393333 -2.393333 -1.393333 -1.393333 -1.393333   \n",
       "2023-03-15 09:00:02 -2.390000 -1.390000 -1.390000 -1.390000 -1.390000   \n",
       "2023-03-15 09:00:03 -1.384444 -1.384444 -1.384444 -1.384444 -1.384444   \n",
       "2023-03-15 09:00:04 -1.377778 -1.377778 -1.377778 -1.377778 -1.377778   \n",
       "\n",
       "                          895       896       897       898       899  \n",
       "2023-03-15 09:00:00 -1.397778 -1.397778 -1.397778 -1.397778 -1.397778  \n",
       "2023-03-15 09:00:01 -1.393333 -1.393333 -1.393333 -1.393333 -1.393333  \n",
       "2023-03-15 09:00:02 -1.390000 -1.390000 -1.390000 -1.390000 -2.390000  \n",
       "2023-03-15 09:00:03 -1.384444 -1.384444 -1.384444 -2.384444 -1.384444  \n",
       "2023-03-15 09:00:04 -1.377778 -1.377778 -2.377778 -1.377778 -2.377778  \n",
       "\n",
       "[5 rows x 900 columns]"
      ]
     },
     "execution_count": 30,
     "metadata": {},
     "output_type": "execute_result"
    }
   ],
   "source": [
    "dfs_x[0].head()"
   ]
  },
  {
   "cell_type": "code",
   "execution_count": 29,
   "id": "27f191fb",
   "metadata": {},
   "outputs": [
    {
     "data": {
      "text/html": [
       "<div>\n",
       "<style scoped>\n",
       "    .dataframe tbody tr th:only-of-type {\n",
       "        vertical-align: middle;\n",
       "    }\n",
       "\n",
       "    .dataframe tbody tr th {\n",
       "        vertical-align: top;\n",
       "    }\n",
       "\n",
       "    .dataframe thead th {\n",
       "        text-align: right;\n",
       "    }\n",
       "</style>\n",
       "<table border=\"1\" class=\"dataframe\">\n",
       "  <thead>\n",
       "    <tr style=\"text-align: right;\">\n",
       "      <th></th>\n",
       "      <th>0</th>\n",
       "    </tr>\n",
       "  </thead>\n",
       "  <tbody>\n",
       "    <tr>\n",
       "      <th>2023-03-15 09:15:00</th>\n",
       "      <td>0.001830</td>\n",
       "    </tr>\n",
       "    <tr>\n",
       "      <th>2023-03-15 09:15:01</th>\n",
       "      <td>0.001831</td>\n",
       "    </tr>\n",
       "    <tr>\n",
       "      <th>2023-03-15 09:15:02</th>\n",
       "      <td>0.001601</td>\n",
       "    </tr>\n",
       "    <tr>\n",
       "      <th>2023-03-15 09:15:03</th>\n",
       "      <td>0.002059</td>\n",
       "    </tr>\n",
       "    <tr>\n",
       "      <th>2023-03-15 09:15:04</th>\n",
       "      <td>0.002060</td>\n",
       "    </tr>\n",
       "  </tbody>\n",
       "</table>\n",
       "</div>"
      ],
      "text/plain": [
       "                            0\n",
       "2023-03-15 09:15:00  0.001830\n",
       "2023-03-15 09:15:01  0.001831\n",
       "2023-03-15 09:15:02  0.001601\n",
       "2023-03-15 09:15:03  0.002059\n",
       "2023-03-15 09:15:04  0.002060"
      ]
     },
     "execution_count": 29,
     "metadata": {},
     "output_type": "execute_result"
    }
   ],
   "source": [
    "dfs_y[0].head()"
   ]
  },
  {
   "cell_type": "code",
   "execution_count": 30,
   "id": "339823b9",
   "metadata": {},
   "outputs": [],
   "source": [
    "# sn.displot(x1[:50], kde=True)"
   ]
  },
  {
   "cell_type": "code",
   "execution_count": 31,
   "id": "6dcfc35d",
   "metadata": {},
   "outputs": [],
   "source": [
    "writer = SummaryWriter('runs/log')"
   ]
  },
  {
   "cell_type": "code",
   "execution_count": 32,
   "id": "3bbad8aa",
   "metadata": {},
   "outputs": [],
   "source": [
    "X_train, X_test, y_train, y_test = train_test_split(X, y, train_size=0.7, shuffle=False)\n",
    "X_train = torch.tensor(X_train, dtype=torch.float32, device=0)\n",
    "y_train = torch.tensor(y_train, dtype=torch.float32, device=0).reshape(-1, 1)\n",
    "X_test = torch.tensor(X_test, dtype=torch.float32, device=0)\n",
    "y_test = torch.tensor(y_test, dtype=torch.float32, device=0).reshape(-1, 1)"
   ]
  },
  {
   "cell_type": "code",
   "execution_count": 33,
   "id": "1b4e356e",
   "metadata": {},
   "outputs": [],
   "source": [
    "n_epochs = 40 #100   # number of epochs to run\n",
    "batch_size = 10  # size of each batch\n",
    "total_size = X_train.shape[0]\n",
    "batch_start = torch.arange(0, total_size, batch_size)\n",
    "batch_test_start = torch.arange(0, len(X_test), batch_size)"
   ]
  },
  {
   "cell_type": "code",
   "execution_count": 34,
   "id": "0f3ed6e2",
   "metadata": {},
   "outputs": [],
   "source": [
    "# X"
   ]
  },
  {
   "cell_type": "code",
   "execution_count": 42,
   "id": "9b4e4ef9",
   "metadata": {},
   "outputs": [],
   "source": [
    "# X_train[:]"
   ]
  },
  {
   "cell_type": "code",
   "execution_count": 43,
   "id": "dc796524",
   "metadata": {},
   "outputs": [],
   "source": [
    "class FutureTrendModule(nn.Module):\n",
    "    def __init__(self):\n",
    "        super(FutureTrendModule, self).__init__()\n",
    "        \n",
    "        # input batch_size 300\n",
    "        self.fc1 = nn.Sequential(\n",
    "            nn.Linear(900, 128),\n",
    "        )\n",
    "        \n",
    "        # input batch_size 1 128\n",
    "        self.conv1 = nn.Sequential(\n",
    "            nn.Conv1d(1, 64, kernel_size=3, stride=1, padding=1),\n",
    "            nn.ReLU(True),\n",
    "            nn.AvgPool1d(3, 2),\n",
    "        )\n",
    "        \n",
    "        # input batch_size 64 64\n",
    "        self.conv2 = nn.Sequential(\n",
    "            nn.Conv1d(64, 32, kernel_size=3, stride=1, padding=2),\n",
    "            nn.ReLU(True),\n",
    "            nn.AvgPool1d(3, 2),\n",
    "        )\n",
    "        \n",
    "        # input batch_size 32 32\n",
    "        self.conv3 = nn.Sequential(\n",
    "            nn.Conv1d(32, 16, kernel_size=3, stride=1, padding=2),\n",
    "            nn.ReLU(True),\n",
    "            nn.AvgPool1d(3, 2),\n",
    "        )\n",
    "        \n",
    "        # input batch_size 256\n",
    "        self.output_fc1 = nn.Linear(256, 128)\n",
    "        # input batch_size 128\n",
    "        self.output_fc2 = nn.Linear(128, 1)\n",
    "\n",
    "    def forward(self, x):\n",
    "#         return self.model(x)\n",
    "        fc1 = self.fc1(x)\n",
    "        fc1 = fc1.view(-1, 1, 128)\n",
    "        conv1 = self.conv1(fc1)\n",
    "        conv2 = self.conv2(conv1)\n",
    "        conv3 = self.conv3(conv2)\n",
    "        outs = conv3.view(-1, 256)\n",
    "        out_fc1 = self.output_fc1(outs)\n",
    "        outs = self.output_fc2(out_fc1)\n",
    "        return outs, fc1, conv1, conv2, conv3, out_fc1\n",
    "    "
   ]
  },
  {
   "cell_type": "code",
   "execution_count": 51,
   "id": "8914d5f1",
   "metadata": {},
   "outputs": [],
   "source": [
    "model = FutureTrendModule().to(0)"
   ]
  },
  {
   "cell_type": "code",
   "execution_count": 52,
   "id": "784401a2",
   "metadata": {},
   "outputs": [],
   "source": [
    "loss_fn = nn.MSELoss().to(0)  # mean square error\n",
    "# loss_fn = nn.SmoothL1Loss().to(0)\n",
    "# loss_fn = nn.CrossEntropyLoss().to(0)\n",
    "optimizer = optim.Adam(model.parameters(), lr=0.000001)\n",
    "# optimizer = optim.SGD(model.parameters(), lr = 0.0001, momentum=0.09)"
   ]
  },
  {
   "cell_type": "code",
   "execution_count": 53,
   "id": "4a77bcc2",
   "metadata": {
    "scrolled": true
   },
   "outputs": [
    {
     "name": "stdout",
     "output_type": "stream",
     "text": [
      "Epoch: [1/40], [50000/332787], Loss: 0.000027\n",
      "Epoch: [1/40], [100000/332787], Loss: 0.000014\n",
      "Epoch: [1/40], [150000/332787], Loss: 0.000009\n",
      "Epoch: [1/40], [200000/332787], Loss: 0.000007\n",
      "Epoch: [1/40], [250000/332787], Loss: 0.000006\n",
      "Epoch: [1/40], [300000/332787], Loss: 0.000005\n",
      "eval loss 0.000001\n",
      "Epoch: [2/40], [50000/332787], Loss: 0.000000\n",
      "Epoch: [2/40], [100000/332787], Loss: 0.000000\n",
      "Epoch: [2/40], [150000/332787], Loss: 0.000000\n",
      "Epoch: [2/40], [200000/332787], Loss: 0.000000\n",
      "Epoch: [2/40], [250000/332787], Loss: 0.000000\n",
      "Epoch: [2/40], [300000/332787], Loss: 0.000000\n",
      "eval loss 0.000001\n",
      "Epoch: [3/40], [50000/332787], Loss: 0.000000\n",
      "Epoch: [3/40], [100000/332787], Loss: 0.000000\n",
      "Epoch: [3/40], [150000/332787], Loss: 0.000000\n",
      "Epoch: [3/40], [200000/332787], Loss: 0.000000\n",
      "Epoch: [3/40], [250000/332787], Loss: 0.000000\n",
      "Epoch: [3/40], [300000/332787], Loss: 0.000000\n",
      "eval loss 0.000001\n",
      "Epoch: [4/40], [50000/332787], Loss: 0.000000\n",
      "Epoch: [4/40], [100000/332787], Loss: 0.000000\n",
      "Epoch: [4/40], [150000/332787], Loss: 0.000000\n",
      "Epoch: [4/40], [200000/332787], Loss: 0.000000\n",
      "Epoch: [4/40], [250000/332787], Loss: 0.000000\n",
      "Epoch: [4/40], [300000/332787], Loss: 0.000000\n",
      "eval loss 0.000001\n",
      "Epoch: [5/40], [50000/332787], Loss: 0.000000\n",
      "Epoch: [5/40], [100000/332787], Loss: 0.000000\n",
      "Epoch: [5/40], [150000/332787], Loss: 0.000000\n",
      "Epoch: [5/40], [200000/332787], Loss: 0.000000\n",
      "Epoch: [5/40], [250000/332787], Loss: 0.000000\n",
      "Epoch: [5/40], [300000/332787], Loss: 0.000000\n",
      "eval loss 0.000001\n",
      "Epoch: [6/40], [50000/332787], Loss: 0.000000\n",
      "Epoch: [6/40], [100000/332787], Loss: 0.000000\n",
      "Epoch: [6/40], [150000/332787], Loss: 0.000000\n",
      "Epoch: [6/40], [200000/332787], Loss: 0.000000\n",
      "Epoch: [6/40], [250000/332787], Loss: 0.000000\n",
      "Epoch: [6/40], [300000/332787], Loss: 0.000000\n",
      "eval loss 0.000001\n",
      "Epoch: [7/40], [50000/332787], Loss: 0.000000\n",
      "Epoch: [7/40], [100000/332787], Loss: 0.000000\n",
      "Epoch: [7/40], [150000/332787], Loss: 0.000000\n",
      "Epoch: [7/40], [200000/332787], Loss: 0.000000\n",
      "Epoch: [7/40], [250000/332787], Loss: 0.000000\n",
      "Epoch: [7/40], [300000/332787], Loss: 0.000000\n",
      "eval loss 0.000001\n",
      "Epoch: [8/40], [50000/332787], Loss: 0.000000\n",
      "Epoch: [8/40], [100000/332787], Loss: 0.000000\n",
      "Epoch: [8/40], [150000/332787], Loss: 0.000000\n",
      "Epoch: [8/40], [200000/332787], Loss: 0.000000\n",
      "Epoch: [8/40], [250000/332787], Loss: 0.000000\n",
      "Epoch: [8/40], [300000/332787], Loss: 0.000000\n",
      "eval loss 0.000001\n",
      "Epoch: [9/40], [50000/332787], Loss: 0.000000\n",
      "Epoch: [9/40], [100000/332787], Loss: 0.000000\n",
      "Epoch: [9/40], [150000/332787], Loss: 0.000000\n",
      "Epoch: [9/40], [200000/332787], Loss: 0.000000\n",
      "Epoch: [9/40], [250000/332787], Loss: 0.000000\n",
      "Epoch: [9/40], [300000/332787], Loss: 0.000000\n"
     ]
    },
    {
     "ename": "KeyboardInterrupt",
     "evalue": "",
     "output_type": "error",
     "traceback": [
      "\u001b[1;31m---------------------------------------------------------------------------\u001b[0m",
      "\u001b[1;31mKeyboardInterrupt\u001b[0m                         Traceback (most recent call last)",
      "\u001b[1;32m~\\AppData\\Local\\Temp\\ipykernel_10352\\3398416388.py\u001b[0m in \u001b[0;36m<module>\u001b[1;34m\u001b[0m\n\u001b[0;32m     20\u001b[0m         \u001b[0mloss\u001b[0m\u001b[1;33m.\u001b[0m\u001b[0mbackward\u001b[0m\u001b[1;33m(\u001b[0m\u001b[1;33m)\u001b[0m\u001b[1;33m\u001b[0m\u001b[1;33m\u001b[0m\u001b[0m\n\u001b[0;32m     21\u001b[0m         \u001b[1;31m# update weights\u001b[0m\u001b[1;33m\u001b[0m\u001b[1;33m\u001b[0m\u001b[1;33m\u001b[0m\u001b[0m\n\u001b[1;32m---> 22\u001b[1;33m         \u001b[0moptimizer\u001b[0m\u001b[1;33m.\u001b[0m\u001b[0mstep\u001b[0m\u001b[1;33m(\u001b[0m\u001b[1;33m)\u001b[0m\u001b[1;33m\u001b[0m\u001b[1;33m\u001b[0m\u001b[0m\n\u001b[0m\u001b[0;32m     23\u001b[0m         \u001b[1;31m# print progress\u001b[0m\u001b[1;33m\u001b[0m\u001b[1;33m\u001b[0m\u001b[1;33m\u001b[0m\u001b[0m\n\u001b[0;32m     24\u001b[0m \u001b[1;33m\u001b[0m\u001b[0m\n",
      "\u001b[1;32mD:\\Software\\Python\\torch\\lib\\site-packages\\torch\\optim\\optimizer.py\u001b[0m in \u001b[0;36mwrapper\u001b[1;34m(*args, **kwargs)\u001b[0m\n\u001b[0;32m    138\u001b[0m                 \u001b[0mprofile_name\u001b[0m \u001b[1;33m=\u001b[0m \u001b[1;34m\"Optimizer.step#{}.step\"\u001b[0m\u001b[1;33m.\u001b[0m\u001b[0mformat\u001b[0m\u001b[1;33m(\u001b[0m\u001b[0mobj\u001b[0m\u001b[1;33m.\u001b[0m\u001b[0m__class__\u001b[0m\u001b[1;33m.\u001b[0m\u001b[0m__name__\u001b[0m\u001b[1;33m)\u001b[0m\u001b[1;33m\u001b[0m\u001b[1;33m\u001b[0m\u001b[0m\n\u001b[0;32m    139\u001b[0m                 \u001b[1;32mwith\u001b[0m \u001b[0mtorch\u001b[0m\u001b[1;33m.\u001b[0m\u001b[0mautograd\u001b[0m\u001b[1;33m.\u001b[0m\u001b[0mprofiler\u001b[0m\u001b[1;33m.\u001b[0m\u001b[0mrecord_function\u001b[0m\u001b[1;33m(\u001b[0m\u001b[0mprofile_name\u001b[0m\u001b[1;33m)\u001b[0m\u001b[1;33m:\u001b[0m\u001b[1;33m\u001b[0m\u001b[1;33m\u001b[0m\u001b[0m\n\u001b[1;32m--> 140\u001b[1;33m                     \u001b[0mout\u001b[0m \u001b[1;33m=\u001b[0m \u001b[0mfunc\u001b[0m\u001b[1;33m(\u001b[0m\u001b[1;33m*\u001b[0m\u001b[0margs\u001b[0m\u001b[1;33m,\u001b[0m \u001b[1;33m**\u001b[0m\u001b[0mkwargs\u001b[0m\u001b[1;33m)\u001b[0m\u001b[1;33m\u001b[0m\u001b[1;33m\u001b[0m\u001b[0m\n\u001b[0m\u001b[0;32m    141\u001b[0m                     \u001b[0mobj\u001b[0m\u001b[1;33m.\u001b[0m\u001b[0m_optimizer_step_code\u001b[0m\u001b[1;33m(\u001b[0m\u001b[1;33m)\u001b[0m\u001b[1;33m\u001b[0m\u001b[1;33m\u001b[0m\u001b[0m\n\u001b[0;32m    142\u001b[0m                     \u001b[1;32mreturn\u001b[0m \u001b[0mout\u001b[0m\u001b[1;33m\u001b[0m\u001b[1;33m\u001b[0m\u001b[0m\n",
      "\u001b[1;32mD:\\Software\\Python\\torch\\lib\\site-packages\\torch\\optim\\optimizer.py\u001b[0m in \u001b[0;36m_use_grad\u001b[1;34m(self, *args, **kwargs)\u001b[0m\n\u001b[0;32m     21\u001b[0m         \u001b[1;32mtry\u001b[0m\u001b[1;33m:\u001b[0m\u001b[1;33m\u001b[0m\u001b[1;33m\u001b[0m\u001b[0m\n\u001b[0;32m     22\u001b[0m             \u001b[0mtorch\u001b[0m\u001b[1;33m.\u001b[0m\u001b[0mset_grad_enabled\u001b[0m\u001b[1;33m(\u001b[0m\u001b[0mself\u001b[0m\u001b[1;33m.\u001b[0m\u001b[0mdefaults\u001b[0m\u001b[1;33m[\u001b[0m\u001b[1;34m'differentiable'\u001b[0m\u001b[1;33m]\u001b[0m\u001b[1;33m)\u001b[0m\u001b[1;33m\u001b[0m\u001b[1;33m\u001b[0m\u001b[0m\n\u001b[1;32m---> 23\u001b[1;33m             \u001b[0mret\u001b[0m \u001b[1;33m=\u001b[0m \u001b[0mfunc\u001b[0m\u001b[1;33m(\u001b[0m\u001b[0mself\u001b[0m\u001b[1;33m,\u001b[0m \u001b[1;33m*\u001b[0m\u001b[0margs\u001b[0m\u001b[1;33m,\u001b[0m \u001b[1;33m**\u001b[0m\u001b[0mkwargs\u001b[0m\u001b[1;33m)\u001b[0m\u001b[1;33m\u001b[0m\u001b[1;33m\u001b[0m\u001b[0m\n\u001b[0m\u001b[0;32m     24\u001b[0m         \u001b[1;32mfinally\u001b[0m\u001b[1;33m:\u001b[0m\u001b[1;33m\u001b[0m\u001b[1;33m\u001b[0m\u001b[0m\n\u001b[0;32m     25\u001b[0m             \u001b[0mtorch\u001b[0m\u001b[1;33m.\u001b[0m\u001b[0mset_grad_enabled\u001b[0m\u001b[1;33m(\u001b[0m\u001b[0mprev_grad\u001b[0m\u001b[1;33m)\u001b[0m\u001b[1;33m\u001b[0m\u001b[1;33m\u001b[0m\u001b[0m\n",
      "\u001b[1;32mD:\\Software\\Python\\torch\\lib\\site-packages\\torch\\optim\\adam.py\u001b[0m in \u001b[0;36mstep\u001b[1;34m(self, closure, grad_scaler)\u001b[0m\n\u001b[0;32m    250\u001b[0m                  \u001b[0mfused\u001b[0m\u001b[1;33m=\u001b[0m\u001b[0mgroup\u001b[0m\u001b[1;33m[\u001b[0m\u001b[1;34m'fused'\u001b[0m\u001b[1;33m]\u001b[0m\u001b[1;33m,\u001b[0m\u001b[1;33m\u001b[0m\u001b[1;33m\u001b[0m\u001b[0m\n\u001b[0;32m    251\u001b[0m                  \u001b[0mgrad_scale\u001b[0m\u001b[1;33m=\u001b[0m\u001b[0mgrad_scale\u001b[0m\u001b[1;33m,\u001b[0m\u001b[1;33m\u001b[0m\u001b[1;33m\u001b[0m\u001b[0m\n\u001b[1;32m--> 252\u001b[1;33m                  found_inf=found_inf)\n\u001b[0m\u001b[0;32m    253\u001b[0m \u001b[1;33m\u001b[0m\u001b[0m\n\u001b[0;32m    254\u001b[0m         \u001b[1;32mreturn\u001b[0m \u001b[0mloss\u001b[0m\u001b[1;33m\u001b[0m\u001b[1;33m\u001b[0m\u001b[0m\n",
      "\u001b[1;32mD:\\Software\\Python\\torch\\lib\\site-packages\\torch\\optim\\adam.py\u001b[0m in \u001b[0;36madam\u001b[1;34m(params, grads, exp_avgs, exp_avg_sqs, max_exp_avg_sqs, state_steps, foreach, capturable, differentiable, fused, grad_scale, found_inf, amsgrad, beta1, beta2, lr, weight_decay, eps, maximize)\u001b[0m\n\u001b[0;32m    314\u001b[0m          \u001b[0mdifferentiable\u001b[0m\u001b[1;33m=\u001b[0m\u001b[0mdifferentiable\u001b[0m\u001b[1;33m,\u001b[0m\u001b[1;33m\u001b[0m\u001b[1;33m\u001b[0m\u001b[0m\n\u001b[0;32m    315\u001b[0m          \u001b[0mgrad_scale\u001b[0m\u001b[1;33m=\u001b[0m\u001b[0mgrad_scale\u001b[0m\u001b[1;33m,\u001b[0m\u001b[1;33m\u001b[0m\u001b[1;33m\u001b[0m\u001b[0m\n\u001b[1;32m--> 316\u001b[1;33m          found_inf=found_inf)\n\u001b[0m\u001b[0;32m    317\u001b[0m \u001b[1;33m\u001b[0m\u001b[0m\n\u001b[0;32m    318\u001b[0m \u001b[1;33m\u001b[0m\u001b[0m\n",
      "\u001b[1;32mD:\\Software\\Python\\torch\\lib\\site-packages\\torch\\optim\\adam.py\u001b[0m in \u001b[0;36m_single_tensor_adam\u001b[1;34m(params, grads, exp_avgs, exp_avg_sqs, max_exp_avg_sqs, state_steps, grad_scale, found_inf, amsgrad, beta1, beta2, lr, weight_decay, eps, maximize, capturable, differentiable)\u001b[0m\n\u001b[0;32m    362\u001b[0m         \u001b[1;31m# Decay the first and second moment running average coefficient\u001b[0m\u001b[1;33m\u001b[0m\u001b[1;33m\u001b[0m\u001b[1;33m\u001b[0m\u001b[0m\n\u001b[0;32m    363\u001b[0m         \u001b[0mexp_avg\u001b[0m\u001b[1;33m.\u001b[0m\u001b[0mmul_\u001b[0m\u001b[1;33m(\u001b[0m\u001b[0mbeta1\u001b[0m\u001b[1;33m)\u001b[0m\u001b[1;33m.\u001b[0m\u001b[0madd_\u001b[0m\u001b[1;33m(\u001b[0m\u001b[0mgrad\u001b[0m\u001b[1;33m,\u001b[0m \u001b[0malpha\u001b[0m\u001b[1;33m=\u001b[0m\u001b[1;36m1\u001b[0m \u001b[1;33m-\u001b[0m \u001b[0mbeta1\u001b[0m\u001b[1;33m)\u001b[0m\u001b[1;33m\u001b[0m\u001b[1;33m\u001b[0m\u001b[0m\n\u001b[1;32m--> 364\u001b[1;33m         \u001b[0mexp_avg_sq\u001b[0m\u001b[1;33m.\u001b[0m\u001b[0mmul_\u001b[0m\u001b[1;33m(\u001b[0m\u001b[0mbeta2\u001b[0m\u001b[1;33m)\u001b[0m\u001b[1;33m.\u001b[0m\u001b[0maddcmul_\u001b[0m\u001b[1;33m(\u001b[0m\u001b[0mgrad\u001b[0m\u001b[1;33m,\u001b[0m \u001b[0mgrad\u001b[0m\u001b[1;33m.\u001b[0m\u001b[0mconj\u001b[0m\u001b[1;33m(\u001b[0m\u001b[1;33m)\u001b[0m\u001b[1;33m,\u001b[0m \u001b[0mvalue\u001b[0m\u001b[1;33m=\u001b[0m\u001b[1;36m1\u001b[0m \u001b[1;33m-\u001b[0m \u001b[0mbeta2\u001b[0m\u001b[1;33m)\u001b[0m\u001b[1;33m\u001b[0m\u001b[1;33m\u001b[0m\u001b[0m\n\u001b[0m\u001b[0;32m    365\u001b[0m \u001b[1;33m\u001b[0m\u001b[0m\n\u001b[0;32m    366\u001b[0m         \u001b[1;32mif\u001b[0m \u001b[0mcapturable\u001b[0m \u001b[1;32mor\u001b[0m \u001b[0mdifferentiable\u001b[0m\u001b[1;33m:\u001b[0m\u001b[1;33m\u001b[0m\u001b[1;33m\u001b[0m\u001b[0m\n",
      "\u001b[1;31mKeyboardInterrupt\u001b[0m: "
     ]
    }
   ],
   "source": [
    "# Hold the best model\n",
    "best_mse = np.inf   # init to infinity\n",
    "best_weights = None\n",
    "history = []\n",
    " \n",
    "# training loop\n",
    "for epoch in range(n_epochs):\n",
    "    model.train()\n",
    "    \n",
    "    running_loss = 0.0\n",
    "    for i, start in enumerate(batch_start, 1):\n",
    "        # take a batch\n",
    "        X_batch = X_train[start:start+batch_size]\n",
    "        y_batch = y_train[start:start+batch_size]\n",
    "        # forward pass\n",
    "        y_pred, fc1, conv1, conv2, conv3, out_fc1 = model(X_batch) # .reshape(-1, 1, 300)\n",
    "        loss = loss_fn(y_pred, y_batch)\n",
    "        # backward pass\n",
    "        optimizer.zero_grad()\n",
    "        loss.backward()\n",
    "        # update weights\n",
    "        optimizer.step()\n",
    "        # print progress\n",
    "        \n",
    "        running_loss += loss.item() * X_batch.shape[0]\n",
    "        \n",
    "        step = epoch * len(batch_start) + i\n",
    "        writer.add_scalar('loss', loss.item(), step)\n",
    "        \n",
    "#         writer.add_histogram('fc/fc1', torchvision.utils.make_grid(fc1).data.cpu(), step)\n",
    "#         writer.add_histogram('conv/conv1', torchvision.utils.make_grid(conv1).data.cpu(), step)\n",
    "#         writer.add_histogram('conv/conv2', torchvision.utils.make_grid(conv2).data.cpu(), step)\n",
    "#         writer.add_histogram('conv/conv3', torchvision.utils.make_grid(conv3).data.cpu(), step)\n",
    "        # add_histogram\n",
    "        \n",
    "        if i % 5000 == 0:\n",
    "            writer.add_histogram('deep/01_x', torchvision.utils.make_grid(X_batch).data.cpu(), step)\n",
    "            \n",
    "            writer.add_histogram('deep/02_fc1', torchvision.utils.make_grid(fc1).data.cpu(), step)\n",
    "            writer.add_histogram('deep/03_conv1', torchvision.utils.make_grid(conv1).data.cpu(), step)\n",
    "            writer.add_histogram('deep/04_conv2', torchvision.utils.make_grid(conv2).data.cpu(), step)\n",
    "            writer.add_histogram('deep/05_conv3', torchvision.utils.make_grid(conv3).data.cpu(), step)\n",
    "            writer.add_histogram('deep/06_out_fc1', torchvision.utils.make_grid(conv3).data.cpu(), step)\n",
    "            \n",
    "            writer.add_histogram('deep/09_pred', torchvision.utils.make_grid(y_pred).data.cpu(), step)\n",
    "            \n",
    "            print('Epoch: [{}/{}], [{}/{}], Loss: {:.8f}'.format(epoch + 1, n_epochs, start+10, total_size, running_loss / (X_batch.shape[0] * i)))\n",
    "            \n",
    "    # evaluate accuracy at end of each epoch\n",
    "    model.eval()\n",
    "    eval_loss = 0.0\n",
    "    for i, start in enumerate(batch_test_start, 1):\n",
    "        X_batch_test = X_test[start:start+batch_size]\n",
    "        y_batch_test = y_test[start:start+batch_size]\n",
    "        \n",
    "        y_pred, fc1, conv1, conv2, conv3, out_fc1 = model(X_batch_test)\n",
    "        loss = loss_fn(y_pred, y_batch_test).cpu().detach().numpy()\n",
    "        \n",
    "        eval_loss += loss.item() * X_batch_test.shape[0]\n",
    "    \n",
    "    eval_loss = eval_loss / X_test.shape[0]\n",
    "    print('eval loss {:.8f}'.format(eval_loss))\n",
    "    history.append(eval_loss)\n",
    "    if eval_loss < best_mse:\n",
    "        best_mse = eval_loss\n",
    "        best_weights = copy.deepcopy(model.state_dict())\n",
    " \n",
    "# restore model and return best accuracy\n",
    "model.load_state_dict(best_weights)"
   ]
  },
  {
   "cell_type": "code",
   "execution_count": 54,
   "id": "e2cd0476",
   "metadata": {},
   "outputs": [
    {
     "data": {
      "text/plain": [
       "tensor([[-0.0010],\n",
       "        [-0.0009],\n",
       "        [-0.0010],\n",
       "        [-0.0009],\n",
       "        [-0.0010],\n",
       "        [-0.0010],\n",
       "        [-0.0010],\n",
       "        [-0.0009],\n",
       "        [-0.0009],\n",
       "        [-0.0009]], device='cuda:0', grad_fn=<AddmmBackward0>)"
      ]
     },
     "execution_count": 54,
     "metadata": {},
     "output_type": "execute_result"
    }
   ],
   "source": [
    "y_pred"
   ]
  },
  {
   "cell_type": "code",
   "execution_count": 44,
   "id": "24833c8b",
   "metadata": {},
   "outputs": [
    {
     "data": {
      "text/plain": [
       "tensor(0.0140, device='cuda:0')"
      ]
     },
     "execution_count": 44,
     "metadata": {},
     "output_type": "execute_result"
    }
   ],
   "source": [
    "y_test.max()"
   ]
  },
  {
   "cell_type": "code",
   "execution_count": 55,
   "id": "686bdf2a",
   "metadata": {},
   "outputs": [],
   "source": [
    "torch.save(model.state_dict(), 'model_0603_01.pt')"
   ]
  },
  {
   "cell_type": "code",
   "execution_count": 29,
   "id": "c4b143e9",
   "metadata": {},
   "outputs": [
    {
     "name": "stdout",
     "output_type": "stream",
     "text": [
      "MSE: 0.14\n",
      "RMSE: 0.38\n"
     ]
    }
   ],
   "source": [
    "print(\"MSE: %.2f\" % best_mse)\n",
    "print(\"RMSE: %.2f\" % np.sqrt(best_mse))\n",
    "plt.plot(history)\n",
    "plt.show()"
   ]
  },
  {
   "cell_type": "code",
   "execution_count": 16,
   "id": "1ec39341",
   "metadata": {},
   "outputs": [
    {
     "data": {
      "text/plain": [
       "array([0., 0., 0.], dtype=float32)"
      ]
     },
     "execution_count": 16,
     "metadata": {},
     "output_type": "execute_result"
    }
   ],
   "source": [
    "np.array(history)"
   ]
  },
  {
   "cell_type": "code",
   "execution_count": null,
   "id": "5cf3e1d5",
   "metadata": {},
   "outputs": [],
   "source": []
  },
  {
   "cell_type": "code",
   "execution_count": null,
   "id": "2a40c0db",
   "metadata": {},
   "outputs": [],
   "source": []
  },
  {
   "cell_type": "code",
   "execution_count": null,
   "id": "ca538ff7",
   "metadata": {},
   "outputs": [],
   "source": []
  },
  {
   "cell_type": "code",
   "execution_count": null,
   "id": "012f691b",
   "metadata": {},
   "outputs": [],
   "source": []
  },
  {
   "cell_type": "code",
   "execution_count": null,
   "id": "2035c879",
   "metadata": {},
   "outputs": [],
   "source": []
  },
  {
   "cell_type": "code",
   "execution_count": null,
   "id": "1bc20b50",
   "metadata": {},
   "outputs": [],
   "source": []
  },
  {
   "cell_type": "code",
   "execution_count": null,
   "id": "12f1c808",
   "metadata": {},
   "outputs": [],
   "source": []
  },
  {
   "cell_type": "code",
   "execution_count": null,
   "id": "36efc730",
   "metadata": {},
   "outputs": [],
   "source": []
  },
  {
   "cell_type": "code",
   "execution_count": null,
   "id": "70bce00f",
   "metadata": {},
   "outputs": [],
   "source": []
  },
  {
   "cell_type": "code",
   "execution_count": null,
   "id": "05d9c885",
   "metadata": {},
   "outputs": [],
   "source": []
  },
  {
   "cell_type": "code",
   "execution_count": 25,
   "id": "olympic-legislation",
   "metadata": {},
   "outputs": [],
   "source": [
    "# price_data = df.close\n",
    "price_data = df_1T.last_price.diff(1).fillna(0)"
   ]
  },
  {
   "cell_type": "code",
   "execution_count": 27,
   "id": "dressed-legend",
   "metadata": {},
   "outputs": [
    {
     "data": {
      "text/plain": [
       "<AxesSubplot:xlabel='last_price', ylabel='Count'>"
      ]
     },
     "execution_count": 27,
     "metadata": {},
     "output_type": "execute_result"
    },
    {
     "data": {
      "image/png": "[encoded data removed]",
      "text/plain": [
       "<Figure size 960x640 with 1 Axes>"
      ]
     },
     "metadata": {},
     "output_type": "display_data"
    }
   ],
   "source": [
    "fig, ax = plt.subplots(figsize=(12, 8), dpi=80)\n",
    "sn.histplot(price_data, kde=True, ax=ax)"
   ]
  },
  {
   "cell_type": "code",
   "execution_count": 31,
   "id": "continuing-invitation",
   "metadata": {},
   "outputs": [],
   "source": [
    "config = {\n",
    "#     \"alpha_vantage\": {\n",
    "#         \"key\": \"YOUR_API_KEY\", # Claim your free API key here: https://www.alphavantage.co/support/#api-key\n",
    "#         \"symbol\": \"IBM\",\n",
    "#         \"outputsize\": \"full\",\n",
    "#         \"key_adjusted_close\": \"5. adjusted close\",\n",
    "#     },\n",
    "    'symbol': 'rb2305',\n",
    "    \"data\": {\n",
    "        \"window_size\": 30,\n",
    "        \"train_split_size\": 0.80,\n",
    "    }, \n",
    "    \"plots\": {\n",
    "        \"show_plots\": True,\n",
    "        \"xticks_interval\": 90,\n",
    "        \"color_actual\": \"#001f3f\",\n",
    "        \"color_train\": \"#3D9970\",\n",
    "        \"color_val\": \"#0074D9\",\n",
    "        \"color_pred_train\": \"#3D9970\",\n",
    "        \"color_pred_val\": \"#0074D9\",\n",
    "        \"color_pred_test\": \"#FF4136\",\n",
    "    },\n",
    "    \"model\": {\n",
    "        \"input_size\": 1, # since we are only using 1 feature, close price\n",
    "        \"num_lstm_layers\": 2,\n",
    "        \"lstm_size\": 32,\n",
    "        \"dropout\": 0.2,\n",
    "    },\n",
    "    \"training\": {\n",
    "        \"device\": \"cuda\", # \"cuda\" or \"cpu\"\n",
    "        \"batch_size\": 64,\n",
    "        \"num_epoch\": 400,\n",
    "        \"learning_rate\": 0.01,\n",
    "        \"scheduler_step_size\": 40,\n",
    "    }\n",
    "}"
   ]
  },
  {
   "cell_type": "code",
   "execution_count": 32,
   "id": "unlike-spouse",
   "metadata": {},
   "outputs": [],
   "source": [
    "num_data_points = df_1T.shape[0]"
   ]
  },
  {
   "cell_type": "code",
   "execution_count": 33,
   "id": "compound-probability",
   "metadata": {},
   "outputs": [],
   "source": [
    "data_close_price = price_data.to_numpy()"
   ]
  },
  {
   "cell_type": "code",
   "execution_count": 34,
   "id": "nasty-trouble",
   "metadata": {},
   "outputs": [],
   "source": [
    "data_date = df_1T.index.strftime('%Y-%m-%d %H-%M').to_list()\n",
    "# data_date.reverse()"
   ]
  },
  {
   "cell_type": "code",
   "execution_count": 35,
   "id": "final-ultimate",
   "metadata": {},
   "outputs": [],
   "source": [
    "display_date_range = \"from \" + data_date[0] + \" to \" + data_date[num_data_points-1]"
   ]
  },
  {
   "cell_type": "code",
   "execution_count": null,
   "id": "compressed-banks",
   "metadata": {},
   "outputs": [],
   "source": []
  },
  {
   "cell_type": "code",
   "execution_count": null,
   "id": "gross-reservation",
   "metadata": {},
   "outputs": [],
   "source": []
  }
 ],
 "metadata": {
  "kernelspec": {
   "display_name": "torch",
   "language": "python",
   "name": "torch"
  },
  "language_info": {
   "codemirror_mode": {
    "name": "ipython",
    "version": 3
   },
   "file_extension": ".py",
   "mimetype": "text/x-python",
   "name": "python",
   "nbconvert_exporter": "python",
   "pygments_lexer": "ipython3",
   "version": "3.7.9"
  }
 },
 "nbformat": 4,
 "nbformat_minor": 5
}
