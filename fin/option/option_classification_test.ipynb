{
 "cells": [
  {
   "cell_type": "markdown",
   "id": "e6e8f18f",
   "metadata": {},
   "source": [
    "### https://machinelearningmastery.com/building-a-regression-model-in-pytorch/"
   ]
  },
  {
   "cell_type": "code",
   "execution_count": 1,
   "id": "weird-metro",
   "metadata": {},
   "outputs": [],
   "source": [
    "import os, datetime\n",
    "import pandas as pd\n",
    "import numpy as np\n",
    "import seaborn as sn\n",
    "import copy\n",
    "import tqdm\n",
    "\n",
    "import torch\n",
    "import torch.nn as nn\n",
    "import torch.nn.functional as F\n",
    "import torch.optim as optim\n",
    "from torch.utils.tensorboard import SummaryWriter\n",
    "# from torch.utils.data import Dataset\n",
    "# from torch.utils.data import DataLoader\n",
    "\n",
    "from sklearn import tree, svm\n",
    "from sklearn.pipeline import make_pipeline\n",
    "from sklearn.preprocessing import StandardScaler, normalize\n",
    "from sklearn.svm import SVC\n",
    "from sklearn.model_selection import train_test_split\n",
    "\n",
    "import matplotlib.pyplot as plt\n",
    "from matplotlib.pyplot import figure\n",
    "\n",
    "plt.style.use('fivethirtyeight')\n",
    "plt.rcParams['lines.linewidth'] = .5\n",
    "plt.rcParams['font.size'] = 10\n",
    "plt.rcParams['figure.figsize'] = (16, 10)"
   ]
  },
  {
   "cell_type": "code",
   "execution_count": 2,
   "id": "913e4c3b",
   "metadata": {},
   "outputs": [],
   "source": [
    "np.set_printoptions(precision=4, suppress=True)"
   ]
  },
  {
   "cell_type": "code",
   "execution_count": 3,
   "id": "saved-september",
   "metadata": {},
   "outputs": [],
   "source": [
    "# %matplotlib inline\n",
    "%matplotlib qt"
   ]
  },
  {
   "cell_type": "code",
   "execution_count": 39,
   "id": "d2183494",
   "metadata": {},
   "outputs": [],
   "source": [
    "# SHFE.rb2305.2023-04-18.30503.h5\n",
    "# SHFE.rb2305.2022-11-09.32951.h5\n",
    "# SHFE.rb2307.2023-05-16.40754.h5\n",
    "# SHFE.rb2305.2022-11-09.32951.h5\n",
    "\n",
    "store = pd.HDFStore(os.path.join(SAVE_PATH, 'SHFE.rb.2021-08-31.41391.h5'))\n",
    "df_x = store['X']\n",
    "df_y = store['y']\n",
    "last_price = store['last_price']\n",
    "store.close()"
   ]
  },
  {
   "cell_type": "code",
   "execution_count": 40,
   "id": "9f6fbc85",
   "metadata": {},
   "outputs": [],
   "source": [
    "X = normalize(df_x.values)\n",
    "y = df_y.values"
   ]
  },
  {
   "cell_type": "code",
   "execution_count": 41,
   "id": "35d9aaad",
   "metadata": {},
   "outputs": [],
   "source": [
    "X_test = torch.tensor(X, dtype=torch.float32, device=0)\n",
    "y_test = torch.tensor(y, dtype=torch.float32, device=0).reshape(-1, 1)"
   ]
  },
  {
   "cell_type": "code",
   "execution_count": 42,
   "id": "e82d8734",
   "metadata": {},
   "outputs": [],
   "source": [
    "class FutureTrendModule(nn.Module):\n",
    "    def __init__(self):\n",
    "        super(FutureTrendModule, self).__init__()\n",
    "        \n",
    "        # input batch_size 300\n",
    "        self.fc1 = nn.Sequential(\n",
    "            nn.Linear(900, 128),\n",
    "            nn.ReLU()\n",
    "        )\n",
    "        \n",
    "        self.lstm = nn.Sequential(\n",
    "            nn.LSTM(input_size=128, hidden_size=64, num_layers=3, batch_first=True)\n",
    "        )\n",
    "        \n",
    "        self.dropout = nn.Dropout(0.2)\n",
    "        \n",
    "        # input batch_size 64\n",
    "        self.output_fc = nn.Linear(64, 1)\n",
    "\n",
    "    def forward(self, x):\n",
    "        fc1 = self.fc1(x)\n",
    "        lstm1, (hn, cn) = self.lstm(fc1)\n",
    "        dropout = self.dropout(lstm1)\n",
    "        outs = self.output_fc(dropout)\n",
    "        return outs, fc1, lstm1, hn, dropout\n",
    "    "
   ]
  },
  {
   "cell_type": "code",
   "execution_count": 43,
   "id": "5507c7a4",
   "metadata": {},
   "outputs": [],
   "source": [
    "# class FutureTrendModule(nn.Module):\n",
    "#     def __init__(self):\n",
    "#         super(FutureTrendModule, self).__init__()\n",
    "        \n",
    "#         # input batch_size 300\n",
    "#         self.fc1 = nn.Sequential(\n",
    "#             nn.Linear(900, 128),\n",
    "#         )\n",
    "        \n",
    "#         # input batch_size 1 128\n",
    "#         self.conv1 = nn.Sequential(\n",
    "#             nn.Conv1d(1, 64, kernel_size=3, stride=1, padding=1),\n",
    "#             nn.ReLU(True),\n",
    "# #             nn.AvgPool1d(3, 2),\n",
    "#             nn.MaxPool1d(3, 2),\n",
    "#         )\n",
    "        \n",
    "#         # input batch_size 64 64\n",
    "#         self.conv2 = nn.Sequential(\n",
    "#             nn.Conv1d(64, 32, kernel_size=3, stride=1, padding=2),\n",
    "#             nn.ReLU(True),\n",
    "# #             nn.AvgPool1d(3, 2),\n",
    "#             nn.MaxPool1d(3, 2),\n",
    "#         )\n",
    "        \n",
    "#         # input batch_size 32 32\n",
    "#         self.conv3 = nn.Sequential(\n",
    "#             nn.Conv1d(32, 16, kernel_size=3, stride=1, padding=2),\n",
    "#             nn.ReLU(True),\n",
    "# #             nn.AvgPool1d(3, 2),\n",
    "#             nn.MaxPool1d(3, 2),\n",
    "#         )\n",
    "        \n",
    "#         # input batch_size 256\n",
    "#         self.output_fc1 = nn.Linear(256, 128)\n",
    "#         # input batch_size 128\n",
    "#         self.output_fc2 = nn.Linear(128, 1)\n",
    "\n",
    "#     def forward(self, x):\n",
    "# #         return self.model(x)\n",
    "#         fc1 = self.fc1(x)\n",
    "#         fc1 = fc1.view(-1, 1, 128)\n",
    "#         conv1 = self.conv1(fc1)\n",
    "#         conv2 = self.conv2(conv1)\n",
    "#         conv3 = self.conv3(conv2)\n",
    "#         outs = conv3.view(-1, 256)\n",
    "#         out_fc1 = self.output_fc1(outs)\n",
    "#         outs = self.output_fc2(out_fc1)\n",
    "#         return outs, fc1, conv1, conv2, conv3, out_fc1\n",
    "    "
   ]
  },
  {
   "cell_type": "code",
   "execution_count": 44,
   "id": "f4a20824",
   "metadata": {},
   "outputs": [
    {
     "data": {
      "text/plain": [
       "<All keys matched successfully>"
      ]
     },
     "execution_count": 44,
     "metadata": {},
     "output_type": "execute_result"
    }
   ],
   "source": [
    "model = FutureTrendModule().to(0)\n",
    "model.load_state_dict(torch.load('D:/option/models/model_0608_01.pt'))"
   ]
  },
  {
   "cell_type": "code",
   "execution_count": 45,
   "id": "9467c9b3",
   "metadata": {},
   "outputs": [],
   "source": [
    "model.eval()\n",
    "# y_pred, fc1, conv1, conv2, conv3, out_fc1 = model(X_test)\n",
    "y_pred, fc1, lstm1, dropout = model(X_test)"
   ]
  },
  {
   "cell_type": "code",
   "execution_count": 27,
   "id": "0dcc907c",
   "metadata": {},
   "outputs": [
    {
     "data": {
      "text/plain": [
       "tensor(-0.0002, device='cuda:0', grad_fn=<MeanBackward0>)"
      ]
     },
     "execution_count": 27,
     "metadata": {},
     "output_type": "execute_result"
    }
   ],
   "source": [
    "y_pred.mean()"
   ]
  },
  {
   "cell_type": "code",
   "execution_count": 28,
   "id": "194a312c",
   "metadata": {},
   "outputs": [
    {
     "data": {
      "text/plain": [
       "tensor(3.3324e-05, device='cuda:0')"
      ]
     },
     "execution_count": 28,
     "metadata": {},
     "output_type": "execute_result"
    }
   ],
   "source": [
    "y_test.mean()"
   ]
  },
  {
   "cell_type": "code",
   "execution_count": 46,
   "id": "06d2f5e6",
   "metadata": {},
   "outputs": [],
   "source": [
    "plt.plot(y_pred.cpu().detach().numpy().reshape(-1), label='pred')\n",
    "plt.plot(df_y.values.reshape(-1), label='real')\n",
    "plt.legend()\n",
    "plt.show()"
   ]
  },
  {
   "cell_type": "code",
   "execution_count": 48,
   "id": "dbb46508",
   "metadata": {},
   "outputs": [],
   "source": [
    "fig, ax1 = plt.subplots()\n",
    "ax1.plot(y_pred.cpu().detach().numpy().reshape(-1), label='pred')\n",
    "ax1.plot(df_y.values.reshape(-1), label='real')\n",
    "\n",
    "ax2 = ax1.twinx()  # instantiate a second axes that shares the same x-axis\n",
    "ax2.plot(last_price, label='tick', c='y')\n",
    "\n",
    "fig.tight_layout()  # otherwise the right y-label is slightly clipped\n",
    "plt.legend()\n",
    "plt.show()"
   ]
  },
  {
   "cell_type": "code",
   "execution_count": 26,
   "id": "cb9f6791",
   "metadata": {},
   "outputs": [],
   "source": [
    "plt.plot(last_price, label='tick')\n",
    "plt.legend()\n",
    "plt.show()"
   ]
  },
  {
   "cell_type": "code",
   "execution_count": null,
   "id": "26485acf",
   "metadata": {},
   "outputs": [],
   "source": []
  },
  {
   "cell_type": "code",
   "execution_count": 31,
   "id": "289302a6",
   "metadata": {},
   "outputs": [
    {
     "data": {
      "text/plain": [
       "<seaborn.axisgrid.FacetGrid at 0x21c1e51f588>"
      ]
     },
     "execution_count": 31,
     "metadata": {},
     "output_type": "execute_result"
    }
   ],
   "source": [
    "sn.displot(y_test.cpu().detach().numpy().reshape(-1), kde=True)"
   ]
  },
  {
   "cell_type": "code",
   "execution_count": 32,
   "id": "c394c9fd",
   "metadata": {},
   "outputs": [
    {
     "data": {
      "text/plain": [
       "<seaborn.axisgrid.FacetGrid at 0x21c00741448>"
      ]
     },
     "execution_count": 32,
     "metadata": {},
     "output_type": "execute_result"
    }
   ],
   "source": [
    "sn.displot(y_pred.cpu().detach().numpy().reshape(-1), kde=True)"
   ]
  },
  {
   "cell_type": "code",
   "execution_count": 95,
   "id": "d92442ac",
   "metadata": {},
   "outputs": [
    {
     "data": {
      "text/plain": [
       "array([-1.2189, -1.2278, -1.2367, ...,  0.1211,  0.1156,  0.11  ])"
      ]
     },
     "execution_count": 95,
     "metadata": {},
     "output_type": "execute_result"
    }
   ],
   "source": [
    "last_price"
   ]
  },
  {
   "cell_type": "code",
   "execution_count": 54,
   "id": "9e6ea7d8",
   "metadata": {},
   "outputs": [
    {
     "data": {
      "text/plain": [
       "(40655,)"
      ]
     },
     "execution_count": 54,
     "metadata": {},
     "output_type": "execute_result"
    }
   ],
   "source": [
    "df.loc[check_date].last_price.shape"
   ]
  },
  {
   "cell_type": "code",
   "execution_count": 67,
   "id": "4659e469",
   "metadata": {},
   "outputs": [
    {
     "data": {
      "text/plain": [
       "(15908, 300)"
      ]
     },
     "execution_count": 67,
     "metadata": {},
     "output_type": "execute_result"
    }
   ],
   "source": [
    "last_price.shape"
   ]
  },
  {
   "cell_type": "code",
   "execution_count": null,
   "id": "5c1af1d0",
   "metadata": {},
   "outputs": [],
   "source": []
  },
  {
   "cell_type": "code",
   "execution_count": null,
   "id": "f1ada188",
   "metadata": {},
   "outputs": [],
   "source": []
  },
  {
   "cell_type": "code",
   "execution_count": null,
   "id": "7f5ee3af",
   "metadata": {},
   "outputs": [],
   "source": []
  },
  {
   "cell_type": "code",
   "execution_count": null,
   "id": "e69445b7",
   "metadata": {},
   "outputs": [],
   "source": []
  }
 ],
 "metadata": {
  "kernelspec": {
   "display_name": "torch",
   "language": "python",
   "name": "torch"
  },
  "language_info": {
   "codemirror_mode": {
    "name": "ipython",
    "version": 3
   },
   "file_extension": ".py",
   "mimetype": "text/x-python",
   "name": "python",
   "nbconvert_exporter": "python",
   "pygments_lexer": "ipython3",
   "version": "3.7.9"
  }
 },
 "nbformat": 4,
 "nbformat_minor": 5
}
