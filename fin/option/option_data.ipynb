{
 "cells": [
  {
   "cell_type": "code",
   "execution_count": 1,
   "id": "weird-metro",
   "metadata": {},
   "outputs": [],
   "source": [
    "import os, datetime\n",
    "import pandas as pd\n",
    "import numpy as np\n",
    "import seaborn as sn\n",
    "import copy\n",
    "import tqdm\n",
    "import talib\n",
    "\n",
    "import torch\n",
    "import torch.nn as nn\n",
    "import torch.nn.functional as F\n",
    "import torch.optim as optim\n",
    "from torch.utils.tensorboard import SummaryWriter\n",
    "# from torch.utils.data import Dataset, DataLoader\n",
    "\n",
    "# from sklearn import tree, svm\n",
    "# from sklearn.pipeline import make_pipeline\n",
    "# from sklearn.svm import SVC\n",
    "from sklearn.preprocessing import StandardScaler, normalize\n",
    "from sklearn.model_selection import train_test_split\n",
    "\n",
    "import matplotlib.pyplot as plt\n",
    "from matplotlib.pyplot import figure\n",
    "\n",
    "import plotly.graph_objects as go\n",
    "# import finplot as fplt\n",
    "import mplfinance as mpf\n",
    "\n",
    "plt.style.use('fivethirtyeight')\n",
    "plt.rcParams['lines.linewidth'] = .5\n",
    "plt.rcParams['font.size'] = 10\n",
    "plt.rcParams['figure.figsize'] = (16, 10)\n",
    "plt.rcParams['font.family'] = 'Microsoft YaHei'"
   ]
  },
  {
   "cell_type": "code",
   "execution_count": 2,
   "id": "736fdadd",
   "metadata": {},
   "outputs": [],
   "source": [
    "# from lutils.fin.autoencoder import Normalizer"
   ]
  },
  {
   "cell_type": "code",
   "execution_count": 3,
   "id": "913e4c3b",
   "metadata": {},
   "outputs": [],
   "source": [
    "# np.set_printoptions(precision=4, suppress=True)"
   ]
  },
  {
   "cell_type": "code",
   "execution_count": 4,
   "id": "saved-september",
   "metadata": {},
   "outputs": [],
   "source": [
    "# %matplotlib inline\n",
    "%matplotlib qt"
   ]
  },
  {
   "cell_type": "code",
   "execution_count": 5,
   "id": "d2a44eaa",
   "metadata": {},
   "outputs": [],
   "source": [
    "from lutils.fin.data_loader import load, load_ohlc"
   ]
  },
  {
   "cell_type": "code",
   "execution_count": 6,
   "id": "1f1c6d1c",
   "metadata": {},
   "outputs": [],
   "source": [
    "# rbs = (\n",
    "#     ('2021-04-06', 'SHFE.rb2110'),\n",
    "#     ('2021-08-10', 'SHFE.rb2201'),\n",
    "#     ('2021-11-25', 'SHFE.rb2205'),\n",
    "#     ('2022-03-29', 'SHFE.rb2210'),\n",
    "#     ('2022-08-30', 'SHFE.rb2301'),\n",
    "#     ('2022-12-02', 'SHFE.rb2305'),\n",
    "#     ('2023-04-04', 'SHFE.rb2310'),\n",
    "# )"
   ]
  },
  {
   "cell_type": "code",
   "execution_count": 7,
   "id": "5226039f",
   "metadata": {},
   "outputs": [],
   "source": [
    "# dfs = []\n",
    "# for i, (d, exchange_symbol) in enumerate(rbs):\n",
    "#     start_date = d\n",
    "    \n",
    "#     exchange, symbol = exchange_symbol.split('.')\n",
    "#     df = load(exchange, symbol)\n",
    "#     df.index = df.datetime\n",
    "#     if i < len(rbs) - 1:\n",
    "#         end_date = rbs[i+1][0]\n",
    "#         dfs.append(df[(df.index >= start_date) & (df.index < end_date)])\n",
    "#     else:\n",
    "#         dfs.append(df[start_date:])"
   ]
  },
  {
   "cell_type": "code",
   "execution_count": 8,
   "id": "6a80b8c0",
   "metadata": {},
   "outputs": [],
   "source": [
    "# dfs[-3]"
   ]
  },
  {
   "cell_type": "code",
   "execution_count": 9,
   "id": "5d06609c",
   "metadata": {},
   "outputs": [],
   "source": [
    "# df = pd.concat(dfs)"
   ]
  },
  {
   "cell_type": "code",
   "execution_count": 13,
   "id": "a32f8a07",
   "metadata": {},
   "outputs": [
    {
     "data": {
      "text/html": [
       "<div>\n",
       "<style scoped>\n",
       "    .dataframe tbody tr th:only-of-type {\n",
       "        vertical-align: middle;\n",
       "    }\n",
       "\n",
       "    .dataframe tbody tr th {\n",
       "        vertical-align: top;\n",
       "    }\n",
       "\n",
       "    .dataframe thead th {\n",
       "        text-align: right;\n",
       "    }\n",
       "</style>\n",
       "<table border=\"1\" class=\"dataframe\">\n",
       "  <thead>\n",
       "    <tr style=\"text-align: right;\">\n",
       "      <th></th>\n",
       "      <th>datetime</th>\n",
       "      <th>last_price</th>\n",
       "      <th>volume</th>\n",
       "      <th>amount</th>\n",
       "      <th>open_interest</th>\n",
       "      <th>bid_price1</th>\n",
       "      <th>bid_volume1</th>\n",
       "      <th>ask_price1</th>\n",
       "      <th>ask_volume1</th>\n",
       "    </tr>\n",
       "    <tr>\n",
       "      <th>datetime</th>\n",
       "      <th></th>\n",
       "      <th></th>\n",
       "      <th></th>\n",
       "      <th></th>\n",
       "      <th></th>\n",
       "      <th></th>\n",
       "      <th></th>\n",
       "      <th></th>\n",
       "      <th></th>\n",
       "    </tr>\n",
       "  </thead>\n",
       "  <tbody>\n",
       "    <tr>\n",
       "      <th>2021-04-06 09:00:00.500001</th>\n",
       "      <td>2021-04-06 09:00:00.500001</td>\n",
       "      <td>5135.0</td>\n",
       "      <td>4305</td>\n",
       "      <td>2.210646e+08</td>\n",
       "      <td>1053464.0</td>\n",
       "      <td>5135.0</td>\n",
       "      <td>86</td>\n",
       "      <td>5137.0</td>\n",
       "      <td>1</td>\n",
       "    </tr>\n",
       "    <tr>\n",
       "      <th>2021-04-06 09:00:01.000000</th>\n",
       "      <td>2021-04-06 09:00:01.000000</td>\n",
       "      <td>5137.0</td>\n",
       "      <td>5696</td>\n",
       "      <td>2.925133e+08</td>\n",
       "      <td>1053828.0</td>\n",
       "      <td>5137.0</td>\n",
       "      <td>19</td>\n",
       "      <td>5139.0</td>\n",
       "      <td>22</td>\n",
       "    </tr>\n",
       "    <tr>\n",
       "      <th>2021-04-06 09:00:01.500000</th>\n",
       "      <td>2021-04-06 09:00:01.500000</td>\n",
       "      <td>5139.0</td>\n",
       "      <td>6845</td>\n",
       "      <td>3.515532e+08</td>\n",
       "      <td>1054089.0</td>\n",
       "      <td>5139.0</td>\n",
       "      <td>1</td>\n",
       "      <td>5140.0</td>\n",
       "      <td>523</td>\n",
       "    </tr>\n",
       "    <tr>\n",
       "      <th>2021-04-06 09:00:02.000000</th>\n",
       "      <td>2021-04-06 09:00:02.000000</td>\n",
       "      <td>5140.0</td>\n",
       "      <td>8111</td>\n",
       "      <td>4.165743e+08</td>\n",
       "      <td>1053951.0</td>\n",
       "      <td>5137.0</td>\n",
       "      <td>4</td>\n",
       "      <td>5140.0</td>\n",
       "      <td>426</td>\n",
       "    </tr>\n",
       "    <tr>\n",
       "      <th>2021-04-06 09:00:02.500000</th>\n",
       "      <td>2021-04-06 09:00:02.500000</td>\n",
       "      <td>5139.0</td>\n",
       "      <td>9110</td>\n",
       "      <td>4.678919e+08</td>\n",
       "      <td>1053769.0</td>\n",
       "      <td>5138.0</td>\n",
       "      <td>6</td>\n",
       "      <td>5139.0</td>\n",
       "      <td>8</td>\n",
       "    </tr>\n",
       "    <tr>\n",
       "      <th>...</th>\n",
       "      <td>...</td>\n",
       "      <td>...</td>\n",
       "      <td>...</td>\n",
       "      <td>...</td>\n",
       "      <td>...</td>\n",
       "      <td>...</td>\n",
       "      <td>...</td>\n",
       "      <td>...</td>\n",
       "      <td>...</td>\n",
       "    </tr>\n",
       "    <tr>\n",
       "      <th>2023-06-09 22:59:58.500000</th>\n",
       "      <td>2023-06-09 22:59:58.500000</td>\n",
       "      <td>3693.0</td>\n",
       "      <td>672313</td>\n",
       "      <td>2.490649e+10</td>\n",
       "      <td>1908556.0</td>\n",
       "      <td>3692.0</td>\n",
       "      <td>306</td>\n",
       "      <td>3693.0</td>\n",
       "      <td>72</td>\n",
       "    </tr>\n",
       "    <tr>\n",
       "      <th>2023-06-09 22:59:59.000000</th>\n",
       "      <td>2023-06-09 22:59:59.000000</td>\n",
       "      <td>3693.0</td>\n",
       "      <td>672370</td>\n",
       "      <td>2.490860e+10</td>\n",
       "      <td>1908526.0</td>\n",
       "      <td>3692.0</td>\n",
       "      <td>300</td>\n",
       "      <td>3693.0</td>\n",
       "      <td>32</td>\n",
       "    </tr>\n",
       "    <tr>\n",
       "      <th>2023-06-09 22:59:59.500000</th>\n",
       "      <td>2023-06-09 22:59:59.500000</td>\n",
       "      <td>3693.0</td>\n",
       "      <td>672448</td>\n",
       "      <td>2.491148e+10</td>\n",
       "      <td>1908469.0</td>\n",
       "      <td>3693.0</td>\n",
       "      <td>81</td>\n",
       "      <td>3694.0</td>\n",
       "      <td>16</td>\n",
       "    </tr>\n",
       "    <tr>\n",
       "      <th>2023-06-09 23:00:00.000000</th>\n",
       "      <td>2023-06-09 23:00:00.000000</td>\n",
       "      <td>3694.0</td>\n",
       "      <td>672503</td>\n",
       "      <td>2.491351e+10</td>\n",
       "      <td>1908466.0</td>\n",
       "      <td>3693.0</td>\n",
       "      <td>60</td>\n",
       "      <td>3694.0</td>\n",
       "      <td>18</td>\n",
       "    </tr>\n",
       "    <tr>\n",
       "      <th>2023-06-09 23:00:00.500000</th>\n",
       "      <td>2023-06-09 23:00:00.500000</td>\n",
       "      <td>3694.0</td>\n",
       "      <td>672503</td>\n",
       "      <td>2.491351e+10</td>\n",
       "      <td>1908466.0</td>\n",
       "      <td>3693.0</td>\n",
       "      <td>60</td>\n",
       "      <td>3694.0</td>\n",
       "      <td>18</td>\n",
       "    </tr>\n",
       "  </tbody>\n",
       "</table>\n",
       "<p>21676970 rows × 9 columns</p>\n",
       "</div>"
      ],
      "text/plain": [
       "                                             datetime  last_price  volume  \\\n",
       "datetime                                                                    \n",
       "2021-04-06 09:00:00.500001 2021-04-06 09:00:00.500001      5135.0    4305   \n",
       "2021-04-06 09:00:01.000000 2021-04-06 09:00:01.000000      5137.0    5696   \n",
       "2021-04-06 09:00:01.500000 2021-04-06 09:00:01.500000      5139.0    6845   \n",
       "2021-04-06 09:00:02.000000 2021-04-06 09:00:02.000000      5140.0    8111   \n",
       "2021-04-06 09:00:02.500000 2021-04-06 09:00:02.500000      5139.0    9110   \n",
       "...                                               ...         ...     ...   \n",
       "2023-06-09 22:59:58.500000 2023-06-09 22:59:58.500000      3693.0  672313   \n",
       "2023-06-09 22:59:59.000000 2023-06-09 22:59:59.000000      3693.0  672370   \n",
       "2023-06-09 22:59:59.500000 2023-06-09 22:59:59.500000      3693.0  672448   \n",
       "2023-06-09 23:00:00.000000 2023-06-09 23:00:00.000000      3694.0  672503   \n",
       "2023-06-09 23:00:00.500000 2023-06-09 23:00:00.500000      3694.0  672503   \n",
       "\n",
       "                                  amount  open_interest  bid_price1  \\\n",
       "datetime                                                              \n",
       "2021-04-06 09:00:00.500001  2.210646e+08      1053464.0      5135.0   \n",
       "2021-04-06 09:00:01.000000  2.925133e+08      1053828.0      5137.0   \n",
       "2021-04-06 09:00:01.500000  3.515532e+08      1054089.0      5139.0   \n",
       "2021-04-06 09:00:02.000000  4.165743e+08      1053951.0      5137.0   \n",
       "2021-04-06 09:00:02.500000  4.678919e+08      1053769.0      5138.0   \n",
       "...                                  ...            ...         ...   \n",
       "2023-06-09 22:59:58.500000  2.490649e+10      1908556.0      3692.0   \n",
       "2023-06-09 22:59:59.000000  2.490860e+10      1908526.0      3692.0   \n",
       "2023-06-09 22:59:59.500000  2.491148e+10      1908469.0      3693.0   \n",
       "2023-06-09 23:00:00.000000  2.491351e+10      1908466.0      3693.0   \n",
       "2023-06-09 23:00:00.500000  2.491351e+10      1908466.0      3693.0   \n",
       "\n",
       "                            bid_volume1  ask_price1  ask_volume1  \n",
       "datetime                                                          \n",
       "2021-04-06 09:00:00.500001           86      5137.0            1  \n",
       "2021-04-06 09:00:01.000000           19      5139.0           22  \n",
       "2021-04-06 09:00:01.500000            1      5140.0          523  \n",
       "2021-04-06 09:00:02.000000            4      5140.0          426  \n",
       "2021-04-06 09:00:02.500000            6      5139.0            8  \n",
       "...                                 ...         ...          ...  \n",
       "2023-06-09 22:59:58.500000          306      3693.0           72  \n",
       "2023-06-09 22:59:59.000000          300      3693.0           32  \n",
       "2023-06-09 22:59:59.500000           81      3694.0           16  \n",
       "2023-06-09 23:00:00.000000           60      3694.0           18  \n",
       "2023-06-09 23:00:00.500000           60      3694.0           18  \n",
       "\n",
       "[21676970 rows x 9 columns]"
      ]
     },
     "execution_count": 13,
     "metadata": {},
     "output_type": "execute_result"
    }
   ],
   "source": [
    "# df"
   ]
  },
  {
   "cell_type": "code",
   "execution_count": 14,
   "id": "0318f6c8",
   "metadata": {},
   "outputs": [],
   "source": [
    "# store = pd.HDFStore('D:/option/SHFE.rb.h5', 'w', complevel=7)\n",
    "# store.append('rb', df)\n",
    "# store.flush()\n",
    "# store.close()"
   ]
  },
  {
   "cell_type": "code",
   "execution_count": 2,
   "id": "796eb4d7",
   "metadata": {},
   "outputs": [],
   "source": [
    "store = pd.HDFStore('D:/option/SHFE.rb.h5', 'r')\n",
    "df = store['rb']\n",
    "store.close()"
   ]
  },
  {
   "cell_type": "code",
   "execution_count": 3,
   "id": "14e78044",
   "metadata": {},
   "outputs": [],
   "source": [
    "# df.volume = df.volume.diff(1)\n",
    "# df.amount = df.amount.diff(1)"
   ]
  },
  {
   "cell_type": "code",
   "execution_count": 12,
   "id": "39a5208f",
   "metadata": {},
   "outputs": [
    {
     "data": {
      "text/plain": [
       "DatetimeIndex(['2021-04-06 09:00:00.500001'], dtype='datetime64[ns]', name='datetime', freq=None)"
      ]
     },
     "execution_count": 12,
     "metadata": {},
     "output_type": "execute_result"
    }
   ],
   "source": [
    "df[np.isnan(df.volume)].index"
   ]
  },
  {
   "cell_type": "code",
   "execution_count": 13,
   "id": "51860661",
   "metadata": {},
   "outputs": [],
   "source": [
    "# df = df.drop(df[df.volume < 0].index)\n",
    "df = df.drop(df[np.isnan(df.volume)].index)"
   ]
  },
  {
   "cell_type": "code",
   "execution_count": 17,
   "id": "ba2e078e",
   "metadata": {},
   "outputs": [
    {
     "data": {
      "text/html": [
       "<div>\n",
       "<style scoped>\n",
       "    .dataframe tbody tr th:only-of-type {\n",
       "        vertical-align: middle;\n",
       "    }\n",
       "\n",
       "    .dataframe tbody tr th {\n",
       "        vertical-align: top;\n",
       "    }\n",
       "\n",
       "    .dataframe thead th {\n",
       "        text-align: right;\n",
       "    }\n",
       "</style>\n",
       "<table border=\"1\" class=\"dataframe\">\n",
       "  <thead>\n",
       "    <tr style=\"text-align: right;\">\n",
       "      <th></th>\n",
       "      <th>datetime</th>\n",
       "      <th>last_price</th>\n",
       "      <th>volume</th>\n",
       "      <th>amount</th>\n",
       "      <th>open_interest</th>\n",
       "      <th>bid_price1</th>\n",
       "      <th>bid_volume1</th>\n",
       "      <th>ask_price1</th>\n",
       "      <th>ask_volume1</th>\n",
       "    </tr>\n",
       "    <tr>\n",
       "      <th>datetime</th>\n",
       "      <th></th>\n",
       "      <th></th>\n",
       "      <th></th>\n",
       "      <th></th>\n",
       "      <th></th>\n",
       "      <th></th>\n",
       "      <th></th>\n",
       "      <th></th>\n",
       "      <th></th>\n",
       "    </tr>\n",
       "  </thead>\n",
       "  <tbody>\n",
       "    <tr>\n",
       "      <th>2021-04-06 09:11:18.500</th>\n",
       "      <td>2021-04-06 09:11:18.500</td>\n",
       "      <td>5152.0</td>\n",
       "      <td>0.0</td>\n",
       "      <td>0.0</td>\n",
       "      <td>1064395.0</td>\n",
       "      <td>5150.0</td>\n",
       "      <td>170</td>\n",
       "      <td>5151.0</td>\n",
       "      <td>62</td>\n",
       "    </tr>\n",
       "    <tr>\n",
       "      <th>2021-04-06 09:12:40.500</th>\n",
       "      <td>2021-04-06 09:12:40.500</td>\n",
       "      <td>5152.0</td>\n",
       "      <td>0.0</td>\n",
       "      <td>0.0</td>\n",
       "      <td>1064766.0</td>\n",
       "      <td>5151.0</td>\n",
       "      <td>124</td>\n",
       "      <td>5152.0</td>\n",
       "      <td>88</td>\n",
       "    </tr>\n",
       "    <tr>\n",
       "      <th>2021-04-06 09:12:51.500</th>\n",
       "      <td>2021-04-06 09:12:51.500</td>\n",
       "      <td>5151.0</td>\n",
       "      <td>0.0</td>\n",
       "      <td>0.0</td>\n",
       "      <td>1065064.0</td>\n",
       "      <td>5151.0</td>\n",
       "      <td>46</td>\n",
       "      <td>5152.0</td>\n",
       "      <td>248</td>\n",
       "    </tr>\n",
       "    <tr>\n",
       "      <th>2021-04-06 09:13:00.000</th>\n",
       "      <td>2021-04-06 09:13:00.000</td>\n",
       "      <td>5150.0</td>\n",
       "      <td>0.0</td>\n",
       "      <td>0.0</td>\n",
       "      <td>1065226.0</td>\n",
       "      <td>5149.0</td>\n",
       "      <td>48</td>\n",
       "      <td>5150.0</td>\n",
       "      <td>37</td>\n",
       "    </tr>\n",
       "    <tr>\n",
       "      <th>2021-04-06 09:13:46.500</th>\n",
       "      <td>2021-04-06 09:13:46.500</td>\n",
       "      <td>5148.0</td>\n",
       "      <td>0.0</td>\n",
       "      <td>0.0</td>\n",
       "      <td>1065217.0</td>\n",
       "      <td>5147.0</td>\n",
       "      <td>203</td>\n",
       "      <td>5148.0</td>\n",
       "      <td>98</td>\n",
       "    </tr>\n",
       "    <tr>\n",
       "      <th>...</th>\n",
       "      <td>...</td>\n",
       "      <td>...</td>\n",
       "      <td>...</td>\n",
       "      <td>...</td>\n",
       "      <td>...</td>\n",
       "      <td>...</td>\n",
       "      <td>...</td>\n",
       "      <td>...</td>\n",
       "      <td>...</td>\n",
       "    </tr>\n",
       "    <tr>\n",
       "      <th>2023-06-09 22:56:35.000</th>\n",
       "      <td>2023-06-09 22:56:35.000</td>\n",
       "      <td>3696.0</td>\n",
       "      <td>0.0</td>\n",
       "      <td>0.0</td>\n",
       "      <td>1913775.0</td>\n",
       "      <td>3696.0</td>\n",
       "      <td>78</td>\n",
       "      <td>3697.0</td>\n",
       "      <td>396</td>\n",
       "    </tr>\n",
       "    <tr>\n",
       "      <th>2023-06-09 22:56:42.000</th>\n",
       "      <td>2023-06-09 22:56:42.000</td>\n",
       "      <td>3697.0</td>\n",
       "      <td>0.0</td>\n",
       "      <td>0.0</td>\n",
       "      <td>1913662.0</td>\n",
       "      <td>3696.0</td>\n",
       "      <td>181</td>\n",
       "      <td>3697.0</td>\n",
       "      <td>259</td>\n",
       "    </tr>\n",
       "    <tr>\n",
       "      <th>2023-06-09 22:57:13.500</th>\n",
       "      <td>2023-06-09 22:57:13.500</td>\n",
       "      <td>3697.0</td>\n",
       "      <td>0.0</td>\n",
       "      <td>0.0</td>\n",
       "      <td>1913654.0</td>\n",
       "      <td>3696.0</td>\n",
       "      <td>489</td>\n",
       "      <td>3697.0</td>\n",
       "      <td>345</td>\n",
       "    </tr>\n",
       "    <tr>\n",
       "      <th>2023-06-09 22:59:17.500</th>\n",
       "      <td>2023-06-09 22:59:17.500</td>\n",
       "      <td>3698.0</td>\n",
       "      <td>0.0</td>\n",
       "      <td>0.0</td>\n",
       "      <td>1911083.0</td>\n",
       "      <td>3697.0</td>\n",
       "      <td>276</td>\n",
       "      <td>3698.0</td>\n",
       "      <td>90</td>\n",
       "    </tr>\n",
       "    <tr>\n",
       "      <th>2023-06-09 23:00:00.500</th>\n",
       "      <td>2023-06-09 23:00:00.500</td>\n",
       "      <td>3694.0</td>\n",
       "      <td>0.0</td>\n",
       "      <td>0.0</td>\n",
       "      <td>1908466.0</td>\n",
       "      <td>3693.0</td>\n",
       "      <td>60</td>\n",
       "      <td>3694.0</td>\n",
       "      <td>18</td>\n",
       "    </tr>\n",
       "  </tbody>\n",
       "</table>\n",
       "<p>1227353 rows × 9 columns</p>\n",
       "</div>"
      ],
      "text/plain": [
       "                                       datetime  last_price  volume  amount  \\\n",
       "datetime                                                                      \n",
       "2021-04-06 09:11:18.500 2021-04-06 09:11:18.500      5152.0     0.0     0.0   \n",
       "2021-04-06 09:12:40.500 2021-04-06 09:12:40.500      5152.0     0.0     0.0   \n",
       "2021-04-06 09:12:51.500 2021-04-06 09:12:51.500      5151.0     0.0     0.0   \n",
       "2021-04-06 09:13:00.000 2021-04-06 09:13:00.000      5150.0     0.0     0.0   \n",
       "2021-04-06 09:13:46.500 2021-04-06 09:13:46.500      5148.0     0.0     0.0   \n",
       "...                                         ...         ...     ...     ...   \n",
       "2023-06-09 22:56:35.000 2023-06-09 22:56:35.000      3696.0     0.0     0.0   \n",
       "2023-06-09 22:56:42.000 2023-06-09 22:56:42.000      3697.0     0.0     0.0   \n",
       "2023-06-09 22:57:13.500 2023-06-09 22:57:13.500      3697.0     0.0     0.0   \n",
       "2023-06-09 22:59:17.500 2023-06-09 22:59:17.500      3698.0     0.0     0.0   \n",
       "2023-06-09 23:00:00.500 2023-06-09 23:00:00.500      3694.0     0.0     0.0   \n",
       "\n",
       "                         open_interest  bid_price1  bid_volume1  ask_price1  \\\n",
       "datetime                                                                      \n",
       "2021-04-06 09:11:18.500      1064395.0      5150.0          170      5151.0   \n",
       "2021-04-06 09:12:40.500      1064766.0      5151.0          124      5152.0   \n",
       "2021-04-06 09:12:51.500      1065064.0      5151.0           46      5152.0   \n",
       "2021-04-06 09:13:00.000      1065226.0      5149.0           48      5150.0   \n",
       "2021-04-06 09:13:46.500      1065217.0      5147.0          203      5148.0   \n",
       "...                                ...         ...          ...         ...   \n",
       "2023-06-09 22:56:35.000      1913775.0      3696.0           78      3697.0   \n",
       "2023-06-09 22:56:42.000      1913662.0      3696.0          181      3697.0   \n",
       "2023-06-09 22:57:13.500      1913654.0      3696.0          489      3697.0   \n",
       "2023-06-09 22:59:17.500      1911083.0      3697.0          276      3698.0   \n",
       "2023-06-09 23:00:00.500      1908466.0      3693.0           60      3694.0   \n",
       "\n",
       "                         ask_volume1  \n",
       "datetime                              \n",
       "2021-04-06 09:11:18.500           62  \n",
       "2021-04-06 09:12:40.500           88  \n",
       "2021-04-06 09:12:51.500          248  \n",
       "2021-04-06 09:13:00.000           37  \n",
       "2021-04-06 09:13:46.500           98  \n",
       "...                              ...  \n",
       "2023-06-09 22:56:35.000          396  \n",
       "2023-06-09 22:56:42.000          259  \n",
       "2023-06-09 22:57:13.500          345  \n",
       "2023-06-09 22:59:17.500           90  \n",
       "2023-06-09 23:00:00.500           18  \n",
       "\n",
       "[1227353 rows x 9 columns]"
      ]
     },
     "execution_count": 17,
     "metadata": {},
     "output_type": "execute_result"
    }
   ],
   "source": [
    "df[df.amount == 0]"
   ]
  },
  {
   "cell_type": "code",
   "execution_count": 21,
   "id": "7213bb05",
   "metadata": {},
   "outputs": [
    {
     "data": {
      "text/plain": [
       "<seaborn.axisgrid.FacetGrid at 0x21aaa1f5b88>"
      ]
     },
     "execution_count": 21,
     "metadata": {},
     "output_type": "execute_result"
    }
   ],
   "source": [
    "sn.displot(df.volume.values[:20000], kde=True)"
   ]
  },
  {
   "cell_type": "code",
   "execution_count": 15,
   "id": "89aa30ae",
   "metadata": {},
   "outputs": [],
   "source": [
    "store = pd.HDFStore('D:/option/SHFE.rb2.h5', 'w', complevel=7)\n",
    "store.append('rb', df)\n",
    "store.flush()\n",
    "store.close()"
   ]
  },
  {
   "cell_type": "code",
   "execution_count": 5,
   "id": "31f385b3",
   "metadata": {},
   "outputs": [],
   "source": [
    "def sec_df(df, exchange, symbol, rule='1S'):\n",
    "    \n",
    "    between_times = [['09:00', '10:15'], ['10:30', '11:30'], ['13:30', '15:00'], ['21:00', '23:00']]\n",
    "    \n",
    "    dfs = []\n",
    "    with tqdm.tqdm(np.unique(df.index.date)) as bar:\n",
    "        for d in bar:\n",
    "            bar.set_postfix({'date': d})\n",
    "            ddd = df[df.index.date == d]\n",
    "            if ddd.shape[0] > 1:\n",
    "                day1S_df = ddd.resample(rule).last()\n",
    "                day1S_df = day1S_df.ffill()\n",
    "                for (start, end) in between_times:\n",
    "                    _df = day1S_df.between_time(start, end)\n",
    "                    if _df.shape[0] > 1:\n",
    "                        dfs.append(_df)\n",
    "            \n",
    "    _df = pd.concat(dfs)\n",
    "    store = pd.HDFStore('D:/option/SHFE.rb.%s.h5' % rule, 'w', complevel=7)\n",
    "    store.append('rb', _df)\n",
    "    store.flush()\n",
    "    store.close()"
   ]
  },
  {
   "cell_type": "code",
   "execution_count": 7,
   "id": "7b798492",
   "metadata": {},
   "outputs": [
    {
     "name": "stderr",
     "output_type": "stream",
     "text": [
      "100%|███████████████████████| 534/534 [40:40<00:00,  4.57s/it, date=2023-06-09]\n"
     ]
    }
   ],
   "source": [
    "sec_df(df, 'SHFE', 'rb', '2S')"
   ]
  },
  {
   "cell_type": "code",
   "execution_count": 8,
   "id": "767a7eaa",
   "metadata": {},
   "outputs": [
    {
     "name": "stderr",
     "output_type": "stream",
     "text": [
      "100%|███████████████████████| 534/534 [41:33<00:00,  4.67s/it, date=2023-06-09]\n"
     ]
    }
   ],
   "source": [
    "sec_df(df, 'SHFE', 'rb', '3S')"
   ]
  },
  {
   "cell_type": "code",
   "execution_count": null,
   "id": "3f893eb0",
   "metadata": {},
   "outputs": [],
   "source": []
  },
  {
   "cell_type": "code",
   "execution_count": 9,
   "id": "281a9572",
   "metadata": {},
   "outputs": [],
   "source": [
    "store = pd.HDFStore('D:/option/SHFE.rb.1S.h5', 'r')\n",
    "df = store['rb']\n",
    "store.close()"
   ]
  },
  {
   "cell_type": "code",
   "execution_count": 11,
   "id": "1123d8f9",
   "metadata": {},
   "outputs": [],
   "source": [
    "d = df.loc['2021-04-06'].between_time('09:00', '10:15')"
   ]
  },
  {
   "cell_type": "code",
   "execution_count": 20,
   "id": "458f6f94",
   "metadata": {},
   "outputs": [],
   "source": [
    "d = d.ffill()"
   ]
  },
  {
   "cell_type": "code",
   "execution_count": 75,
   "id": "e0ac3290",
   "metadata": {},
   "outputs": [],
   "source": [
    "macd, macdsignal, macdhist = talib.MACD(d.last_price, fastperiod=11, slowperiod=23, signalperiod=7)"
   ]
  },
  {
   "cell_type": "code",
   "execution_count": 88,
   "id": "a699c501",
   "metadata": {},
   "outputs": [],
   "source": [
    "upper, middle, lower = talib.BBANDS(d.last_price, matype=talib.MA_Type.T3)"
   ]
  },
  {
   "cell_type": "code",
   "execution_count": 97,
   "id": "2343670a",
   "metadata": {},
   "outputs": [
    {
     "data": {
      "text/plain": [
       "<seaborn.axisgrid.FacetGrid at 0x1b91f501048>"
      ]
     },
     "execution_count": 97,
     "metadata": {},
     "output_type": "execute_result"
    }
   ],
   "source": [
    "sn.displot(lower, kde=True)"
   ]
  },
  {
   "cell_type": "code",
   "execution_count": 81,
   "id": "db27450b",
   "metadata": {},
   "outputs": [
    {
     "data": {
      "text/plain": [
       "<seaborn.axisgrid.FacetGrid at 0x1b926ed5fc8>"
      ]
     },
     "execution_count": 81,
     "metadata": {},
     "output_type": "execute_result"
    }
   ],
   "source": [
    "sn.displot(macd[60:], kde=True)"
   ]
  },
  {
   "cell_type": "code",
   "execution_count": 82,
   "id": "2699ef8b",
   "metadata": {},
   "outputs": [],
   "source": [
    "plt.plot(macd)\n",
    "plt.plot(macdsignal)\n",
    "plt.plot(macdhist)\n",
    "plt.show()"
   ]
  },
  {
   "cell_type": "code",
   "execution_count": 83,
   "id": "a928161a",
   "metadata": {},
   "outputs": [],
   "source": [
    "def plot_macd(prices, macd, signal, hist):\n",
    "    ax1 = plt.subplot2grid((8,1), (0,0), rowspan = 5, colspan = 1)\n",
    "    ax2 = plt.subplot2grid((8,1), (5,0), rowspan = 3, colspan = 1)\n",
    "\n",
    "    ax1.plot(prices)\n",
    "    ax2.plot(macd, color = 'grey', linewidth = 0.5, label = 'MACD')\n",
    "    ax2.plot(signal, color = 'skyblue', linewidth = 0.5, label = 'SIGNAL')\n",
    "\n",
    "    for i in range(len(prices)):\n",
    "        if str(hist[i])[0] == '-':\n",
    "            ax2.bar(prices.index[i], hist[i], color = '#ef5350')\n",
    "        else:\n",
    "            ax2.bar(prices.index[i], hist[i], color = '#26a69a')\n",
    "\n",
    "    plt.legend(loc = 'lower right')"
   ]
  },
  {
   "cell_type": "code",
   "execution_count": 93,
   "id": "c567bee9",
   "metadata": {},
   "outputs": [],
   "source": [
    "def plot_boll(prices, upper, middle, lower):\n",
    "    ax1 = plt.subplot2grid((8,1), (0,0), rowspan = 5, colspan = 1)\n",
    "    ax2 = plt.subplot2grid((8,1), (5,0), rowspan = 3, colspan = 1)\n",
    "\n",
    "    ax1.plot(prices)\n",
    "    ax2.plot(upper, color = 'grey', linewidth = 0.5, label = 'UPPER')\n",
    "    ax2.plot(lower, color = 'skyblue', linewidth = 0.5, label = 'LOWER')\n",
    "    ax2.plot(middle, color = '#ef5350', linewidth = 0.5, label = 'MIDDLE')\n",
    "    \n",
    "    plt.legend(loc = 'lower right')"
   ]
  },
  {
   "cell_type": "code",
   "execution_count": 91,
   "id": "55c8bd23",
   "metadata": {},
   "outputs": [],
   "source": [
    "start = 100\n",
    "end= 600"
   ]
  },
  {
   "cell_type": "code",
   "execution_count": 85,
   "id": "9e5e6d84",
   "metadata": {},
   "outputs": [],
   "source": [
    "price = d.last_price[start:end]\n",
    "_macd = macd[start:end]\n",
    "signal = macdsignal[start:end]\n",
    "hist = macdhist[start:end]\n",
    "\n",
    "price.index = pd.RangeIndex(start=0, stop=500, step=1)\n",
    "_macd.index = pd.RangeIndex(start=0, stop=500, step=1)\n",
    "signal.index = pd.RangeIndex(start=0, stop=500, step=1)\n",
    "hist.index = pd.RangeIndex(start=0, stop=500, step=1)"
   ]
  },
  {
   "cell_type": "code",
   "execution_count": 92,
   "id": "6b55d259",
   "metadata": {},
   "outputs": [],
   "source": [
    "_upper = upper[start:end]\n",
    "_middle = middle[start:end]\n",
    "_lower = lower[start:end]\n",
    "\n",
    "_upper.index = pd.RangeIndex(start=0, stop=500, step=1)\n",
    "_middle.index = pd.RangeIndex(start=0, stop=500, step=1)\n",
    "_lower.index = pd.RangeIndex(start=0, stop=500, step=1)"
   ]
  },
  {
   "cell_type": "code",
   "execution_count": 87,
   "id": "e4c267fe",
   "metadata": {},
   "outputs": [],
   "source": [
    "plot_macd(price, _macd, signal, hist)"
   ]
  },
  {
   "cell_type": "code",
   "execution_count": 94,
   "id": "dc14b02b",
   "metadata": {},
   "outputs": [],
   "source": [
    "plot_boll(price, _upper, _middle, _lower)"
   ]
  },
  {
   "cell_type": "code",
   "execution_count": 66,
   "id": "d18713a2",
   "metadata": {},
   "outputs": [
    {
     "data": {
      "text/plain": [
       "datetime\n",
       "2021-04-06 09:01:40    0.584607\n",
       "2021-04-06 09:01:41    0.839882\n",
       "2021-04-06 09:01:42    1.479274\n",
       "2021-04-06 09:01:43    1.943584\n",
       "2021-04-06 09:01:44    2.105831\n",
       "                         ...   \n",
       "2021-04-06 09:09:55   -0.123555\n",
       "2021-04-06 09:09:56   -0.254480\n",
       "2021-04-06 09:09:57   -0.135798\n",
       "2021-04-06 09:09:58   -0.061885\n",
       "2021-04-06 09:09:59   -0.017017\n",
       "Length: 500, dtype: float64"
      ]
     },
     "execution_count": 66,
     "metadata": {},
     "output_type": "execute_result"
    }
   ],
   "source": [
    "macd[100:600]"
   ]
  },
  {
   "cell_type": "markdown",
   "id": "98267df3",
   "metadata": {},
   "source": [
    "### 前15分钟    后5分钟 涨跌幅"
   ]
  },
  {
   "cell_type": "code",
   "execution_count": null,
   "id": "472d675f",
   "metadata": {},
   "outputs": [],
   "source": [
    "SAVE_PATH = 'D:/option/l8'"
   ]
  },
  {
   "cell_type": "code",
   "execution_count": null,
   "id": "c650a6fd",
   "metadata": {},
   "outputs": [],
   "source": [
    "def prepare_data(df, exchange, symbol):\n",
    "    \n",
    "    between_times = [['09:00', '10:15'], ['10:30', '11:30'], ['13:30', '15:00'], ['21:00', '23:00']]\n",
    "    start_ix = 900\n",
    "    next_tick_sec = 300\n",
    "    \n",
    "    def _prepare_data(x, window_size):\n",
    "        n_row = x.shape[0] - window_size + 1\n",
    "        output = np.lib.stride_tricks.as_strided(x, shape=(n_row, window_size), strides=(x.strides[0],x.strides[0]))\n",
    "#         return output[:-1], output[-1]\n",
    "        return output\n",
    "    \n",
    "#     dfs_x = []\n",
    "#     dfs_y = []\n",
    "#     last_prices = []\n",
    "#     for d in tqdm.tqdm(np.unique(df.index.date)):\n",
    "    with tqdm.tqdm(np.unique(df.index.date)) as bar:\n",
    "        bar.set_description('%s %s' % (exchange, symbol))\n",
    "        for d in bar:\n",
    "            ddd = df[df.index.date == d]\n",
    "            p = os.path.join(SAVE_PATH, '%s.%s.%s.%s.h5' % (exchange, symbol, datetime.datetime.strftime(d, '%Y-%m-%d'), ddd.shape[0]))\n",
    "            if os.path.exists(p):\n",
    "                continue\n",
    "            if ddd.shape[0] > 1:\n",
    "                day1S_df = ddd.resample('1S').last()\n",
    "                day1S_df = day1S_df.interpolate()\n",
    "                day1S_df = day1S_df.dropna()\n",
    "                \n",
    "                dfs_x = []\n",
    "                dfs_y = []\n",
    "                last_prices = []\n",
    "                for (start, end) in between_times:\n",
    "                    # X\n",
    "                    _df = day1S_df.between_time(start, end)\n",
    "\n",
    "                    if _df.shape[0] > 100:\n",
    "                        ix = _df.index.values\n",
    "\n",
    "                        df_x = _prepare_data(_df.last_price.values, start_ix) # len - 900 + 1\n",
    "                        df_y = np.roll(df_x, -start_ix, axis=0)[:-start_ix,:next_tick_sec] # len - 900 + 1 - 900\n",
    "                        df_x = df_x[:-start_ix]\n",
    "                        \n",
    "                        df_x = df_x - df_x.mean(axis=1, keepdims=True)\n",
    "\n",
    "        #                 y = (df_y[:, 0] - df_y[:, -1]) / (df_y.max(axis=1) - df_y.min(axis=1))\n",
    "                        df_y = (df_y[:, -1] - df_y[:, 0]) / df_y[:, 0]\n",
    "\n",
    "                        df_y[np.isinf(df_y) | np.isneginf(df_y)] = 0\n",
    "                        df_y[np.isnan(df_y)] = 0\n",
    "            #             y[df_y[:, 0] > df_y[:, -1]] = y[df_y[:, 0] > df_y[:, -1]] * -1\n",
    "            #             if y.sum() > 0 and np.abs(y.mean()) != 1:\n",
    "                        \n",
    "#                         print(ix.shape)\n",
    "#                         print(df_x.shape)\n",
    "#                         print(df_y.shape)\n",
    "                    \n",
    "                        df_x = pd.DataFrame(df_x, index=np.roll(ix, -start_ix)[:-start_ix-start_ix+1]) # 前 start_ix 个数据的结束时间\n",
    "                        df_y = pd.DataFrame(df_y, index=np.roll(ix, -start_ix-next_tick_sec)[:-start_ix-start_ix+1]) # 预测后 next_tick_sec 结束时间\n",
    "\n",
    "                        dfs_x.append(df_x) # .iloc[:-start_ix])\n",
    "                        dfs_y.append(df_y)\n",
    "                        last_prices.append(_df.last_price)\n",
    "                \n",
    "                if len(dfs_x) > 0:\n",
    "                    df_x = pd.concat(dfs_x)\n",
    "                    df_y = pd.concat(dfs_y)\n",
    "                    df_last_price = pd.concat(last_prices)\n",
    "\n",
    "\n",
    "                    store = pd.HDFStore(p, 'w', complevel=7)\n",
    "\n",
    "                    store.append('X', df_x)\n",
    "                    store.append('y', df_y)\n",
    "                    store.append('last_price', df_last_price)\n",
    "\n",
    "                    store.flush()\n",
    "                    store.close()\n",
    "#                 print(exchange, symbol, d)\n",
    "            \n",
    "#     return #dfs_x, dfs_y, last_prices"
   ]
  },
  {
   "cell_type": "code",
   "execution_count": null,
   "id": "92cafc2d",
   "metadata": {},
   "outputs": [],
   "source": [
    "def dump_data(aa):\n",
    "    for f in aa:\n",
    "        exchange, symbol = f.split('.')\n",
    "        df = load(exchange, symbol)\n",
    "        df.index = df.datetime\n",
    "        prepare_data(df[['last_price', 'volume', 'amount']], exchange, symbol)\n",
    "        "
   ]
  },
  {
   "cell_type": "code",
   "execution_count": null,
   "id": "8833e2ae",
   "metadata": {
    "scrolled": true
   },
   "outputs": [],
   "source": [
    "aa = [] # 'SHFE.rb2306', 'SHFE.rb2307'\n",
    "# 'CZCE.MA307', 'DCE.m2303', 'DCE.c2209' 'SHFE.rb2305',  'DCE.a2207', 'DCE.pp2210', , 'DCE.v2206', 'DCE.pp2112'\n",
    "dump_data(aa)"
   ]
  },
  {
   "cell_type": "code",
   "execution_count": null,
   "id": "63eeeb0f",
   "metadata": {},
   "outputs": [],
   "source": []
  },
  {
   "cell_type": "code",
   "execution_count": null,
   "id": "49e35243",
   "metadata": {},
   "outputs": [],
   "source": [
    "for df in dfs:\n",
    "    exchange = 'SHFE'\n",
    "    symbol = 'rb'\n",
    "    prepare_data(df[['last_price', 'volume', 'amount']], exchange, symbol)"
   ]
  },
  {
   "cell_type": "code",
   "execution_count": null,
   "id": "9cea12b3",
   "metadata": {},
   "outputs": [],
   "source": [
    "dfs[2]['2022-01-03']"
   ]
  },
  {
   "cell_type": "code",
   "execution_count": null,
   "id": "f1ada188",
   "metadata": {},
   "outputs": [],
   "source": []
  },
  {
   "cell_type": "code",
   "execution_count": null,
   "id": "7f5ee3af",
   "metadata": {},
   "outputs": [],
   "source": [
    "store = pd.HDFStore(os.path.join(SAVE_PATH, 'SHFE.rb.2021-04-08.41369.h5'))\n",
    "df_x = store['X']\n",
    "df_y = store['y']"
   ]
  },
  {
   "cell_type": "code",
   "execution_count": null,
   "id": "e69445b7",
   "metadata": {},
   "outputs": [],
   "source": [
    "# df_x"
   ]
  },
  {
   "cell_type": "code",
   "execution_count": null,
   "id": "00d06ed6",
   "metadata": {},
   "outputs": [],
   "source": [
    "def _prepare_data(x, window_size):\n",
    "    n_row = x.shape[0] - window_size + 1\n",
    "    output = np.lib.stride_tricks.as_strided(x, shape=(n_row, window_size), strides=(x.strides[0],x.strides[0]))\n",
    "#         return output[:-1], output[-1]\n",
    "    return output"
   ]
  },
  {
   "cell_type": "code",
   "execution_count": null,
   "id": "c5e3ac96",
   "metadata": {},
   "outputs": [],
   "source": [
    "exchange = 'SHFE'\n",
    "symbol = 'rb2305'"
   ]
  },
  {
   "cell_type": "code",
   "execution_count": null,
   "id": "fd513ea1",
   "metadata": {},
   "outputs": [],
   "source": [
    "df = load(exchange, symbol)\n",
    "df.index = df.datetime"
   ]
  },
  {
   "cell_type": "code",
   "execution_count": null,
   "id": "26e1cbe4",
   "metadata": {},
   "outputs": [],
   "source": [
    "ddd = df.between_time('09:00', '10:15')"
   ]
  },
  {
   "cell_type": "code",
   "execution_count": null,
   "id": "6da644de",
   "metadata": {},
   "outputs": [],
   "source": [
    "d = _prepare_data(ddd.last_price.values, 20)"
   ]
  },
  {
   "cell_type": "code",
   "execution_count": null,
   "id": "1456a767",
   "metadata": {},
   "outputs": [],
   "source": [
    "ddd.shape"
   ]
  },
  {
   "cell_type": "code",
   "execution_count": null,
   "id": "f01dee5a",
   "metadata": {},
   "outputs": [],
   "source": [
    "d[0]"
   ]
  },
  {
   "cell_type": "code",
   "execution_count": null,
   "id": "17aec8f1",
   "metadata": {},
   "outputs": [],
   "source": []
  },
  {
   "cell_type": "code",
   "execution_count": null,
   "id": "7a59b1f5",
   "metadata": {},
   "outputs": [],
   "source": [
    "sn.displot(df_x[110], kde=True)"
   ]
  },
  {
   "cell_type": "code",
   "execution_count": null,
   "id": "2f8e3deb",
   "metadata": {},
   "outputs": [],
   "source": [
    "sn.displot(df_y.values, kde=True)"
   ]
  },
  {
   "cell_type": "code",
   "execution_count": null,
   "id": "ee40abe7",
   "metadata": {},
   "outputs": [],
   "source": [
    "df_y.values"
   ]
  },
  {
   "cell_type": "code",
   "execution_count": null,
   "id": "7cac7a8a",
   "metadata": {},
   "outputs": [],
   "source": []
  },
  {
   "cell_type": "code",
   "execution_count": null,
   "id": "1ea45d0f",
   "metadata": {},
   "outputs": [],
   "source": []
  },
  {
   "cell_type": "markdown",
   "id": "03b3588b",
   "metadata": {},
   "source": [
    "### 15分钟 后5分钟 分类"
   ]
  },
  {
   "cell_type": "code",
   "execution_count": null,
   "id": "cb45385e",
   "metadata": {},
   "outputs": [],
   "source": [
    "SAVE_PATH = 'D:/option/l8_5mean_classification' # "
   ]
  },
  {
   "cell_type": "code",
   "execution_count": null,
   "id": "e0d21a57",
   "metadata": {},
   "outputs": [],
   "source": [
    "def prepare_data(df, exchange, symbol):\n",
    "    \n",
    "    between_times = [['09:00', '10:15'], ['10:30', '11:30'], ['13:30', '15:00'], ['21:00', '23:00']]\n",
    "    start_ix = 900\n",
    "    next_tick_sec = 300\n",
    "    \n",
    "    def _prepare_data(x, window_size):\n",
    "        n_row = x.shape[0] - window_size + 1\n",
    "        output = np.lib.stride_tricks.as_strided(x, shape=(n_row, window_size), strides=(x.strides[0],x.strides[0]))\n",
    "#         return output[:-1], output[-1]\n",
    "        return output\n",
    "    \n",
    "#     dfs_x = []\n",
    "#     dfs_y = []\n",
    "#     last_prices = []\n",
    "#     for d in tqdm.tqdm(np.unique(df.index.date)):\n",
    "    with tqdm.tqdm(np.unique(df.index.date)) as bar:\n",
    "        bar.set_description('%s %s' % (exchange, symbol))\n",
    "        for d in bar:\n",
    "            ddd = df[df.index.date == d]\n",
    "            p = os.path.join(SAVE_PATH, '%s.%s.%s.%s.h5' % (exchange, symbol, datetime.datetime.strftime(d, '%Y-%m-%d'), ddd.shape[0]))\n",
    "            if os.path.exists(p):\n",
    "                continue\n",
    "            if ddd.shape[0] > 1:\n",
    "                day1S_df = ddd.resample('1S').last()\n",
    "                day1S_df = day1S_df.interpolate()\n",
    "                day1S_df = day1S_df.dropna()\n",
    "                \n",
    "                dfs_x = []\n",
    "                dfs_y = []\n",
    "                last_prices = []\n",
    "                for (start, end) in between_times:\n",
    "                    # X\n",
    "                    _df = day1S_df.between_time(start, end)\n",
    "\n",
    "                    if _df.shape[0] > 100:\n",
    "                        ix = _df.index.values\n",
    "\n",
    "                        df_x = _prepare_data(_df.last_price.values, start_ix) # len - 900 + 1\n",
    "                        df_y = np.roll(df_x, -start_ix, axis=0)[:-start_ix,:next_tick_sec] # len - 900 + 1 - 900\n",
    "                        df_x = df_x[:-start_ix]\n",
    "                        \n",
    "                        df_x = df_x - df_x.mean(axis=1, keepdims=True)\n",
    "\n",
    "        #                 y = (df_y[:, 0] - df_y[:, -1]) / (df_y.max(axis=1) - df_y.min(axis=1))\n",
    "                        df_y = (df_y[:, -1] - df_y[:, 0]) / df_y[:, 0]\n",
    "                        df_y[np.isinf(df_y) | np.isneginf(df_y)] = 0\n",
    "                        df_y[np.isnan(df_y)] = 0\n",
    "                    \n",
    "                        y_c = df_y.copy()\n",
    "                        y_c[(y_c <= -0.0009)] = y_c[(y_c < -0.0009)] = -4\n",
    "                        y_c[(y_c > -0.0009) & (y_c <= -0.0006)] = y_c[(y_c > -0.0009) * (y_c <= -0.0006)] = -3\n",
    "                        y_c[(y_c > -0.0006) & (y_c <= -0.0003)] = y_c[(y_c > -0.0006) * (y_c <= -0.0003)] = -2\n",
    "                        y_c[(y_c > -0.0003) & (y_c <= -0.0001)] = y_c[(y_c > -0.0003) * (y_c <= -0.0001)] = -1\n",
    "                        \n",
    "                        y_c[(y_c >= 0.0009)] = y_c[(y_c >= 0.0009)] = 4\n",
    "                        y_c[(y_c >= 0.0006) & (y_c < 0.0009)] = y_c[(y_c >= 0.0006) & (y_c < 0.0009)] = 3\n",
    "                        y_c[(y_c >= 0.0003) & (y_c < 0.0006)] = y_c[(y_c >= 0.0003) & (y_c < 0.0006)] = 2\n",
    "                        y_c[(y_c >= 0.0001) & (y_c < 0.0003)] = y_c[(y_c >= 0.0001) & (y_c < 0.0003)] = 1\n",
    "                        \n",
    "                        y_c[(y_c > -0.0001) & (y_c < 0.0001)] = y_c[(y_c > -0.0001) & (y_c < 0.0001)] = 0\n",
    "                        \n",
    "                        df_y = np.column_stack([df_y, y_c])\n",
    "                        \n",
    "            #             y[df_y[:, 0] > df_y[:, -1]] = y[df_y[:, 0] > df_y[:, -1]] * -1\n",
    "            #             if y.sum() > 0 and np.abs(y.mean()) != 1:\n",
    "                        \n",
    "#                         print(ix.shape)\n",
    "#                         print(df_x.shape)\n",
    "#                         print(df_y.shape)\n",
    "                    \n",
    "                        df_x = pd.DataFrame(df_x, index=np.roll(ix, -start_ix)[:-start_ix-start_ix+1]) # 前 start_ix 个数据的结束时间\n",
    "                        df_y = pd.DataFrame(df_y, index=np.roll(ix, -start_ix-next_tick_sec)[:-start_ix-start_ix+1]) # 预测后 next_tick_sec 结束时间\n",
    "\n",
    "                        dfs_x.append(df_x) # .iloc[:-start_ix])\n",
    "                        dfs_y.append(df_y)\n",
    "                        last_prices.append(_df.last_price)\n",
    "                \n",
    "                if len(dfs_x) > 0:\n",
    "                    df_x = pd.concat(dfs_x)\n",
    "                    df_y = pd.concat(dfs_y)\n",
    "                    df_last_price = pd.concat(last_prices)\n",
    "\n",
    "\n",
    "                    store = pd.HDFStore(p, 'w', complevel=7)\n",
    "\n",
    "                    store.append('X', df_x)\n",
    "                    store.append('y', df_y)\n",
    "                    store.append('last_price', df_last_price)\n",
    "\n",
    "                    store.flush()\n",
    "                    store.close()\n",
    "#                 print(exchange, symbol, d)\n",
    "            \n",
    "#     return #dfs_x, dfs_y, last_prices"
   ]
  },
  {
   "cell_type": "code",
   "execution_count": null,
   "id": "9432e69b",
   "metadata": {},
   "outputs": [],
   "source": [
    "for df in dfs:\n",
    "    exchange = 'SHFE'\n",
    "    symbol = 'rb'\n",
    "    prepare_data(df[['last_price', 'volume', 'amount']], exchange, symbol)"
   ]
  },
  {
   "cell_type": "code",
   "execution_count": null,
   "id": "ef88ebed",
   "metadata": {},
   "outputs": [],
   "source": [
    "store = pd.HDFStore(os.path.join(SAVE_PATH, 'SHFE.rb.2022-12-06.40848.h5'))\n",
    "df_x = store['X']\n",
    "df_y = store['y']"
   ]
  },
  {
   "cell_type": "code",
   "execution_count": null,
   "id": "378defc9",
   "metadata": {},
   "outputs": [],
   "source": [
    "df_y.values[:,1]"
   ]
  },
  {
   "cell_type": "code",
   "execution_count": null,
   "id": "59e56648",
   "metadata": {},
   "outputs": [],
   "source": []
  },
  {
   "cell_type": "markdown",
   "id": "ce54b82a",
   "metadata": {},
   "source": [
    "### 均值 螺纹主连"
   ]
  },
  {
   "cell_type": "code",
   "execution_count": null,
   "id": "9c79c7b8",
   "metadata": {},
   "outputs": [],
   "source": [
    "# SAVE_PATH = 'D:/option/l8/l8_1S_1T_mean'\n",
    "# SAVE_PATH = 'D:/option/l8/l8_10S_1T_mean'\n",
    "# SAVE_PATH = 'D:/option/l8/l8_30S_1T_mean'\n",
    "# SAVE_PATH = 'D:/option/l8/l8_30S_5T_mean'\n",
    "# SAVE_PATH = 'D:/option/l8/l8_60S_10T_mean'\n",
    "# SAVE_PATH = 'D:/option/l8/l8_30S_7T_mean'\n",
    "SAVE_PATH = 'D:/option/l8/l8_30S_15T_mean'"
   ]
  },
  {
   "cell_type": "code",
   "execution_count": null,
   "id": "f599aaa3",
   "metadata": {},
   "outputs": [],
   "source": [
    "window_size = 32"
   ]
  },
  {
   "cell_type": "code",
   "execution_count": null,
   "id": "61a17349",
   "metadata": {},
   "outputs": [],
   "source": [
    "class Normalizer():\n",
    "    def __init__(self):\n",
    "        self.mu = None\n",
    "        self.sd = None\n",
    "\n",
    "    def fit_transform(self, x):\n",
    "        self.mu = np.mean(x, axis=(0), keepdims=True)\n",
    "        self.sd = np.std(x, axis=(0), keepdims=True)\n",
    "        normalized_x = (x - self.mu)/self.sd\n",
    "        return normalized_x\n",
    "\n",
    "    def inverse_transform(self, x):\n",
    "        return (x*self.sd) + self.mu\n",
    "\n",
    "# normalize\n",
    "# scaler = Normalizer()\n"
   ]
  },
  {
   "cell_type": "code",
   "execution_count": null,
   "id": "99153c1d",
   "metadata": {},
   "outputs": [],
   "source": [
    "def prepare_data(df, exchange, symbol):\n",
    "    \n",
    "    between_times = [['09:00', '10:15'], ['10:30', '11:30'], ['13:30', '15:00'], ['21:00', '23:00']]\n",
    "    \n",
    "    def _prepare_data(x, window_size):\n",
    "        n_row = x.shape[0] - window_size + 1\n",
    "        output = np.lib.stride_tricks.as_strided(x, shape=(n_row, window_size), strides=(x.strides[0],x.strides[0]))\n",
    "#         return output[:-1], output[-1]\n",
    "        return output[:-1]\n",
    "    \n",
    "    with tqdm.tqdm(np.unique(df.index.date)) as bar:\n",
    "        bar.set_description('%s %s' % (exchange, symbol))\n",
    "        for d in bar:\n",
    "            ddd = df[df.index.date == d]\n",
    "            p = os.path.join(SAVE_PATH, '%s.%s.%s.%s.h5' % (exchange, symbol, datetime.datetime.strftime(d, '%Y-%m-%d'), ddd.shape[0]))\n",
    "            if os.path.exists(p):\n",
    "                continue\n",
    "            if ddd.shape[0] > 1:\n",
    "                day1S_df = ddd.resample('30S').last()\n",
    "                day1S_df = day1S_df.interpolate()\n",
    "                day1S_df = day1S_df.dropna()\n",
    "                \n",
    "                dfs_x = []\n",
    "                dfs_y = []\n",
    "                last_prices = []\n",
    "                \n",
    "                for (start, end) in between_times:\n",
    "                    # X\n",
    "                    _df = day1S_df.between_time(start, end).dropna()\n",
    "\n",
    "                    if _df.shape[0] > 10:\n",
    "#                         ix = _df.index.values\n",
    "                        df_x = _df.last_price.rolling('15T').mean()\n",
    "#                         df_x = normalize(df_x.diff(1).fillna(0).values.reshape(-1, 1), norm='l2')\n",
    "                        last_price = _df.last_price[window_size:]\n",
    "                        scaler = Normalizer()\n",
    "                        df_x = scaler.fit_transform(df_x.to_numpy())\n",
    "                        X = _prepare_data(df_x, window_size=window_size)\n",
    "                        y = pd.DataFrame(df_x[window_size:], index=last_price.index, columns=['y'])\n",
    "                        \n",
    "                        y['mu'] = scaler.mu[0]\n",
    "                        y['std'] = scaler.sd[0]\n",
    "                        \n",
    "                        dfs_x.append(pd.DataFrame(X, index=last_price.index)) # .iloc[:-start_ix])\n",
    "                        dfs_y.append(y)\n",
    "                        last_prices.append(pd.DataFrame(last_price.values, index=last_price.index, columns=['last_price']))\n",
    "                                                    \n",
    "                    if len(dfs_x) > 0:\n",
    "                        df_x = pd.concat(dfs_x)\n",
    "                        df_y = pd.concat(dfs_y)\n",
    "                        df_last_price = pd.concat(last_prices)\n",
    "\n",
    "                        store = pd.HDFStore(p, 'w', complevel=7)\n",
    "\n",
    "                        store.append('X', df_x)\n",
    "                        store.append('y', df_y)\n",
    "                        store.append('last_price', df_last_price)\n",
    "\n",
    "                        store.flush()\n",
    "                        store.close()\n",
    "            "
   ]
  },
  {
   "cell_type": "code",
   "execution_count": null,
   "id": "8e36eadb",
   "metadata": {
    "scrolled": true
   },
   "outputs": [],
   "source": [
    "for df in dfs:\n",
    "    exchange = 'SHFE'\n",
    "    symbol = 'rb'\n",
    "    prepare_data(df[['last_price', 'volume', 'amount']], exchange, symbol)\n",
    "    \n"
   ]
  },
  {
   "cell_type": "code",
   "execution_count": null,
   "id": "130026b7",
   "metadata": {},
   "outputs": [],
   "source": [
    "def prepare_data_mu_std(df, exchange, symbol):\n",
    "    \n",
    "    def _prepare_data(x, window_size):\n",
    "        n_row = x.shape[0] - window_size + 1\n",
    "        output = np.lib.stride_tricks.as_strided(x, shape=(n_row, window_size), strides=(x.strides[0],x.strides[0]))\n",
    "#         return output[:-1], output[-1]\n",
    "        return output[:-1]\n",
    "    \n",
    "    mu_day_df = df.groupby([df.index.date]).mean()\n",
    "    ix = mu_day_df.index\n",
    "    \n",
    "    scaler = Normalizer()\n",
    "    mu_df = scaler.fit_transform(mu_day_df['mu'].to_numpy())\n",
    "    \n",
    "    mu_X = pd.DataFrame(_prepare_data(mu_df, window_size), index=ix[window_size:])\n",
    "    mu_y = pd.DataFrame(mu_df[window_size:], index=ix[window_size:], columns=['y'])\n",
    "    mu_y['mu'] = scaler.mu[0]\n",
    "    mu_y['std'] = scaler.sd[0]\n",
    "    \n",
    "    store = pd.HDFStore(os.path.join('D:/option', '%s_%s_mu_day.h5' % (exchange, symbol)), 'w', complevel=7)\n",
    "    store.append('X', mu_X)\n",
    "    store.append('y', mu_y)\n",
    "    store.flush()\n",
    "    store.close()"
   ]
  },
  {
   "cell_type": "code",
   "execution_count": null,
   "id": "2a1ee26b",
   "metadata": {},
   "outputs": [],
   "source": []
  },
  {
   "cell_type": "code",
   "execution_count": null,
   "id": "ad4a50d5",
   "metadata": {},
   "outputs": [],
   "source": [
    "mu_stds = []"
   ]
  },
  {
   "cell_type": "code",
   "execution_count": null,
   "id": "1f2fbe55",
   "metadata": {},
   "outputs": [],
   "source": [
    "for f in os.listdir(SAVE_PATH):\n",
    "    print(f)\n",
    "    store = pd.HDFStore(os.path.join(SAVE_PATH, f), 'r')\n",
    "    y = store['y']\n",
    "    store.close()\n",
    "    \n",
    "    mu_stds.append(y[['mu','std']].drop_duplicates(subset=['mu','std']))\n",
    "    "
   ]
  },
  {
   "cell_type": "code",
   "execution_count": null,
   "id": "4bf1db69",
   "metadata": {},
   "outputs": [],
   "source": [
    "mu_std = pd.concat(mu_stds)"
   ]
  },
  {
   "cell_type": "code",
   "execution_count": null,
   "id": "2595c7f8",
   "metadata": {},
   "outputs": [],
   "source": [
    "prepare_data_mu_std(mu_std, 'SHFE', 'rb')"
   ]
  },
  {
   "cell_type": "code",
   "execution_count": null,
   "id": "2e014289",
   "metadata": {},
   "outputs": [],
   "source": []
  },
  {
   "cell_type": "code",
   "execution_count": null,
   "id": "811dd3f4",
   "metadata": {},
   "outputs": [],
   "source": [
    "%matplotlib qt"
   ]
  },
  {
   "cell_type": "code",
   "execution_count": null,
   "id": "d4403310",
   "metadata": {},
   "outputs": [],
   "source": [
    "plt.plot(mu_std['mu'])"
   ]
  },
  {
   "cell_type": "code",
   "execution_count": null,
   "id": "f5766808",
   "metadata": {},
   "outputs": [],
   "source": [
    "mu_df = mu_std.groupby([mu_std.index.date]).mean()"
   ]
  },
  {
   "cell_type": "code",
   "execution_count": null,
   "id": "8e2818aa",
   "metadata": {},
   "outputs": [],
   "source": [
    "mu_std"
   ]
  },
  {
   "cell_type": "code",
   "execution_count": null,
   "id": "adf21f14",
   "metadata": {},
   "outputs": [],
   "source": [
    "plt.plot(mu_df['mu'])\n",
    "plt.plot(mu_std['mu'])"
   ]
  },
  {
   "cell_type": "code",
   "execution_count": null,
   "id": "c8cffcce",
   "metadata": {},
   "outputs": [],
   "source": []
  },
  {
   "cell_type": "code",
   "execution_count": null,
   "id": "5a81390a",
   "metadata": {},
   "outputs": [],
   "source": []
  },
  {
   "cell_type": "markdown",
   "id": "1713f9d1",
   "metadata": {},
   "source": [
    "### 均值 螺纹主连 Autoencoder"
   ]
  },
  {
   "cell_type": "code",
   "execution_count": 12,
   "id": "e9f6f84a",
   "metadata": {},
   "outputs": [],
   "source": [
    "device = 0"
   ]
  },
  {
   "cell_type": "code",
   "execution_count": 13,
   "id": "f201a42a",
   "metadata": {},
   "outputs": [],
   "source": [
    "# class Autoencoder(nn.Module):\n",
    "#     def __init__(self): # 1 1\n",
    "#         super(Autoencoder, self).__init__()\n",
    "        \n",
    "#         self.encoder = nn.Sequential(\n",
    "#             nn.Linear(1, 128),\n",
    "#             nn.BatchNorm1d(128),\n",
    "#             nn.Sigmoid(),\n",
    "#             nn.Linear(128, 64),\n",
    "#             nn.Sigmoid(),\n",
    "#             nn.Linear(64, 32),\n",
    "#             nn.Sigmoid(),\n",
    "#             nn.Linear(32, 1),\n",
    "#         )\n",
    "        \n",
    "#         self.decoder = nn.Sequential(\n",
    "#             nn.Linear(1, 32),\n",
    "#             nn.Sigmoid(),\n",
    "#             nn.Linear(32, 64),\n",
    "#             nn.Sigmoid(),\n",
    "#             nn.Linear(64, 128),\n",
    "#             nn.Sigmoid(),\n",
    "#             nn.BatchNorm1d(128),\n",
    "#             nn.Linear(128, 1),\n",
    "#         )\n",
    "        \n",
    "#     def forward(self, x):\n",
    "#         encoded = self.encoder(x)\n",
    "#         return self.decoder(encoded), encoded "
   ]
  },
  {
   "cell_type": "code",
   "execution_count": 14,
   "id": "f26157d5",
   "metadata": {},
   "outputs": [],
   "source": [
    "# model = Autoencoder().to(device)"
   ]
  },
  {
   "cell_type": "code",
   "execution_count": 15,
   "id": "d4fd2be9",
   "metadata": {},
   "outputs": [],
   "source": [
    "# model.load_state_dict(torch.load('D:/option/models/SHFE.rb_encoder_256.pt'))"
   ]
  },
  {
   "cell_type": "code",
   "execution_count": 16,
   "id": "fee468bf",
   "metadata": {},
   "outputs": [],
   "source": [
    "# model.eval()\n",
    "# model.training"
   ]
  },
  {
   "cell_type": "code",
   "execution_count": 18,
   "id": "defd5b54",
   "metadata": {},
   "outputs": [],
   "source": [
    "store = pd.HDFStore('D:/option/SHFE.rb.1S.h5', 'r')\n",
    "df = store['rb']\n",
    "store.close()"
   ]
  },
  {
   "cell_type": "code",
   "execution_count": 19,
   "id": "74bb0dc0",
   "metadata": {},
   "outputs": [],
   "source": [
    "# class Normalizer():\n",
    "#     def __init__(self):\n",
    "#         self.model = Autoencoder().to(device)\n",
    "#         self.model.load_state_dict(torch.load('D:/option/models/SHFE.rb_encoder.pt'))\n",
    "\n",
    "#     def fit_transform(self, x):\n",
    "#         return self.model.encoder(torch.tensor(x, dtype=torch.float32, device=0).reshape([-1, 1])).cpu().detach().numpy()\n",
    "\n",
    "#     def inverse_transform(self, x):\n",
    "#         return self.model.decoder(torch.tensor(x, dtype=torch.float32, device=0).reshape([-1, 1])).cpu().detach().numpy()\n",
    "\n",
    "# scaler = Normalizer('D:/option/models/SHFE.rb_encoder_bn.pt', 0)"
   ]
  },
  {
   "cell_type": "code",
   "execution_count": 20,
   "id": "d5af1508",
   "metadata": {},
   "outputs": [],
   "source": [
    "# scaler.model.training"
   ]
  },
  {
   "cell_type": "code",
   "execution_count": 21,
   "id": "adf925ac",
   "metadata": {},
   "outputs": [],
   "source": [
    "window_size = 32\n",
    "rule = '30S'\n",
    "window = '15T'"
   ]
  },
  {
   "cell_type": "code",
   "execution_count": 22,
   "id": "8640e98c",
   "metadata": {},
   "outputs": [],
   "source": [
    "# SAVE_PATH = 'D:/option/l8_autoencoder/1S_1T_mean'\n",
    "# SAVE_PATH = 'D:/option/l8_autoencoder/10S_1T_mean'\n",
    "# SAVE_PATH = 'D:/option/l8_autoencoder/30S_1T_mean'\n",
    "# SAVE_PATH = 'D:/option/l8_autoencoder/30S_5T_mean'\n",
    "# SAVE_PATH = 'D:/option/l8_autoencoder/60S_10T_mean'\n",
    "# SAVE_PATH = 'D:/option/l8_autoencoder/30S_7T_mean'\n",
    "# SAVE_PATH = 'D:/option/l8_autoencoder/30S_15T_mean'\n",
    "\n",
    "# SAVE_PATH = os.path.join('D:/option/l8_autoencoder', '%s_%s_mean' % (rule, window))\n",
    "\n",
    "SAVE_PATH = os.path.join('D:/option/master/mean', '%s_%s_mean' % (rule, window))\n"
   ]
  },
  {
   "cell_type": "code",
   "execution_count": 23,
   "id": "e2d77807",
   "metadata": {},
   "outputs": [],
   "source": [
    "def prepare_data(df, exchange, symbol, window_size, rule, window, save_path):\n",
    "    \n",
    "    between_times = [['09:00', '10:15'], ['10:30', '11:30'], ['13:30', '15:00'], ['21:00', '23:00']]\n",
    "    \n",
    "    def _prepare_data(x, window_size):\n",
    "        n_row = x.shape[0] - window_size + 1\n",
    "        output = np.lib.stride_tricks.as_strided(x, shape=(n_row, window_size), strides=(x.strides[0],x.strides[0]))\n",
    "#         return output[:-1], output[-1]\n",
    "        return output[:-1]\n",
    "    \n",
    "    with tqdm.tqdm(np.unique(df.index.date)) as bar:\n",
    "        bar.set_description('%s %s' % (exchange, symbol))\n",
    "        for d in bar:\n",
    "            ddd = df[df.index.date == d]\n",
    "            p = os.path.join(save_path, '%s.%s.%s.%s.%s.%s.h5' % (exchange, symbol, datetime.datetime.strftime(d, '%Y-%m-%d'), rule, window, ddd.shape[0]))\n",
    "            if os.path.exists(p):\n",
    "                continue\n",
    "            if ddd.shape[0] > 1:\n",
    "                day1S_df = ddd.resample(rule).last()\n",
    "                day1S_df = day1S_df.interpolate()\n",
    "                day1S_df = day1S_df.dropna()\n",
    "                \n",
    "                dfs_x = []\n",
    "                dfs_y = []\n",
    "                last_prices = []\n",
    "                \n",
    "                for (start, end) in between_times:\n",
    "                    # X\n",
    "                    _df = day1S_df.between_time(start, end).dropna()\n",
    "\n",
    "                    if _df.shape[0] > 10:\n",
    "                        df_x = _df.last_price.rolling(window).mean()\n",
    "                        last_price = _df.last_price[window_size:]\n",
    "                        \n",
    "#                         df_x = scaler.fit_transform(df_x.to_numpy())\n",
    "                        df_x = df_x.to_numpy()\n",
    "                        \n",
    "                        X = _prepare_data(df_x, window_size=window_size)\n",
    "                        y = pd.DataFrame(df_x[window_size:], index=last_price.index, columns=['y'])\n",
    "                        \n",
    "                        \n",
    "                        dfs_x.append(pd.DataFrame(X, index=last_price.index)) # .iloc[:-start_ix])\n",
    "                        dfs_y.append(y)\n",
    "                        last_prices.append(pd.DataFrame(last_price.values, index=last_price.index, columns=['last_price']))\n",
    "                                                    \n",
    "                    if len(dfs_x) > 0:\n",
    "                        df_x = pd.concat(dfs_x)\n",
    "                        df_y = pd.concat(dfs_y)\n",
    "                        df_last_price = pd.concat(last_prices)\n",
    "\n",
    "                        store = pd.HDFStore(p, 'w', complevel=7)\n",
    "\n",
    "                        store.append('X', df_x)\n",
    "                        store.append('y', df_y)\n",
    "                        store.append('last_price', df_last_price)\n",
    "\n",
    "                        store.flush()\n",
    "                        store.close()\n",
    "            "
   ]
  },
  {
   "cell_type": "code",
   "execution_count": 21,
   "id": "3319b731",
   "metadata": {},
   "outputs": [
    {
     "name": "stderr",
     "output_type": "stream",
     "text": [
      "SHFE rb: 100%|███████████████████████████████| 533/533 [21:05<00:00,  2.37s/it]\n"
     ]
    }
   ],
   "source": [
    "prepare_data(df[['last_price', 'volume', 'amount']], 'SHFE', 'rb', window_size, rule, window, SAVE_PATH)"
   ]
  },
  {
   "cell_type": "code",
   "execution_count": 21,
   "id": "42e669fa",
   "metadata": {},
   "outputs": [],
   "source": [
    "%matplotlib qt"
   ]
  },
  {
   "cell_type": "code",
   "execution_count": 23,
   "id": "973b78ab",
   "metadata": {},
   "outputs": [],
   "source": [
    "plt.plot(y1, label='y1')\n",
    "plt.plot(y2.y, label='y2')\n",
    "plt.legend()\n",
    "plt.show()"
   ]
  },
  {
   "cell_type": "code",
   "execution_count": null,
   "id": "a0c7bc93",
   "metadata": {},
   "outputs": [],
   "source": []
  },
  {
   "cell_type": "code",
   "execution_count": 13,
   "id": "9f37a6a4",
   "metadata": {},
   "outputs": [],
   "source": [
    "d = df.loc['2023-05-04'].last_price.diff(1)"
   ]
  },
  {
   "cell_type": "code",
   "execution_count": 14,
   "id": "bb7e7af2",
   "metadata": {},
   "outputs": [
    {
     "data": {
      "text/plain": [
       "[<matplotlib.lines.Line2D at 0x22e15426508>]"
      ]
     },
     "execution_count": 14,
     "metadata": {},
     "output_type": "execute_result"
    }
   ],
   "source": [
    "plt.plot(d.values)"
   ]
  },
  {
   "cell_type": "code",
   "execution_count": null,
   "id": "cab73bb8",
   "metadata": {},
   "outputs": [],
   "source": []
  },
  {
   "cell_type": "code",
   "execution_count": null,
   "id": "b00b1077",
   "metadata": {},
   "outputs": [],
   "source": []
  },
  {
   "cell_type": "markdown",
   "id": "d6abf89b",
   "metadata": {},
   "source": [
    "### diff 螺纹主连"
   ]
  },
  {
   "cell_type": "code",
   "execution_count": null,
   "id": "36c2bff4",
   "metadata": {},
   "outputs": [],
   "source": []
  },
  {
   "cell_type": "code",
   "execution_count": 5,
   "id": "607f54e1",
   "metadata": {},
   "outputs": [],
   "source": [
    "store = pd.HDFStore('D:/option/SHFE.rb.1S.h5', 'r')\n",
    "df = store['rb']\n",
    "store.close()"
   ]
  },
  {
   "cell_type": "code",
   "execution_count": 6,
   "id": "a64b1321",
   "metadata": {},
   "outputs": [],
   "source": [
    "window_size = 32\n",
    "rule = '30S'\n",
    "window = '15T'"
   ]
  },
  {
   "cell_type": "code",
   "execution_count": 7,
   "id": "0904ccdb",
   "metadata": {},
   "outputs": [],
   "source": [
    "# SAVE_PATH = 'D:/option/l8_autoencoder/1S_1T_mean'\n",
    "# SAVE_PATH = 'D:/option/l8_autoencoder/10S_1T_mean'\n",
    "# SAVE_PATH = 'D:/option/l8_autoencoder/30S_1T_mean'\n",
    "# SAVE_PATH = 'D:/option/l8_autoencoder/30S_5T_mean'\n",
    "# SAVE_PATH = 'D:/option/l8_autoencoder/60S_10T_mean'\n",
    "# SAVE_PATH = 'D:/option/l8_autoencoder/30S_7T_mean'\n",
    "# SAVE_PATH = 'D:/option/l8_autoencoder/30S_15T_mean'\n",
    "\n",
    "# SAVE_PATH = os.path.join('D:/option/l8_autoencoder', '%s_%s_mean' % (rule, window))\n",
    "\n",
    "SAVE_PATH = os.path.join('D:/option/master/diff', '%s_%s' % (rule, window))"
   ]
  },
  {
   "cell_type": "code",
   "execution_count": 8,
   "id": "1c4ef956",
   "metadata": {},
   "outputs": [],
   "source": [
    "def prepare_data(df, exchange, symbol, window_size, rule, window, start_index, save_path):\n",
    "    \n",
    "    between_times = [['09:00', '10:15'], ['10:30', '11:30'], ['13:30', '15:00'], ['21:00', '23:00']]\n",
    "    \n",
    "    def _prepare_data(x, window_size):\n",
    "        n_row = x.shape[0] - window_size + 1\n",
    "        output = np.lib.stride_tricks.as_strided(x, shape=(n_row, window_size), strides=(x.strides[0],x.strides[0]))\n",
    "        return output[:-1]\n",
    "    \n",
    "    with tqdm.tqdm(np.unique(df.index.date)) as bar:\n",
    "        bar.set_description('%s %s' % (exchange, symbol))\n",
    "        for d in bar:\n",
    "            ddd = df[df.index.date == d]\n",
    "            p = os.path.join(save_path, '%s.%s.%s.%s.%s.%s.h5' % (exchange, symbol, datetime.datetime.strftime(d, '%Y-%m-%d'), rule, window, ddd.shape[0]))\n",
    "            if os.path.exists(p):\n",
    "                continue\n",
    "            if ddd.shape[0] > 1:\n",
    "                day1S_df = ddd.resample(rule).last()\n",
    "                day1S_df = day1S_df.interpolate()\n",
    "                day1S_df = day1S_df.dropna()\n",
    "                \n",
    "                dfs_x = []\n",
    "                dfs_y = []\n",
    "                last_prices = []\n",
    "                \n",
    "                for (start, end) in between_times:\n",
    "                    # X\n",
    "                    _df = day1S_df.between_time(start, end).dropna()\n",
    "\n",
    "                    if _df.shape[0] > 10:\n",
    "                        df_x = _df.last_price.rolling(window).mean().diff(1)[start_index:]\n",
    "                        last_price = _df.last_price[start_index:][window_size:]\n",
    "                        \n",
    "#                         df_x = scaler.fit_transform(df_x.to_numpy())\n",
    "                        df_x = df_x.to_numpy()\n",
    "                        \n",
    "                        X = _prepare_data(df_x, window_size=window_size)\n",
    "                        y = pd.DataFrame(df_x[window_size:], index=last_price.index, columns=['y'])\n",
    "                        \n",
    "                        \n",
    "                        dfs_x.append(pd.DataFrame(X, index=last_price.index)) # .iloc[:-start_ix])\n",
    "                        dfs_y.append(y)\n",
    "                        last_prices.append(pd.DataFrame(last_price.values, index=last_price.index, columns=['last_price']))\n",
    "                                                    \n",
    "                    if len(dfs_x) > 0:\n",
    "                        df_x = pd.concat(dfs_x)\n",
    "                        df_y = pd.concat(dfs_y)\n",
    "                        df_last_price = pd.concat(last_prices)\n",
    "\n",
    "                        store = pd.HDFStore(p, 'w', complevel=7)\n",
    "\n",
    "                        store.append('X', df_x)\n",
    "                        store.append('y', df_y)\n",
    "                        store.append('last_price', df_last_price)\n",
    "\n",
    "                        store.flush()\n",
    "                        store.close()\n",
    "            "
   ]
  },
  {
   "cell_type": "code",
   "execution_count": 9,
   "id": "0450acee",
   "metadata": {},
   "outputs": [
    {
     "name": "stderr",
     "output_type": "stream",
     "text": [
      "SHFE rb: 100%|███████████████████████████████| 530/530 [21:24<00:00,  2.42s/it]\n"
     ]
    }
   ],
   "source": [
    "# prepare_data(df[['last_price', 'volume', 'amount']], 'SHFE', 'rb', window_size, rule, window, 60, SAVE_PATH) # 1S 1T\n",
    "# prepare_data(df[['last_price', 'volume', 'amount']], 'SHFE', 'rb', window_size, rule, window, 6, SAVE_PATH)\n",
    "# prepare_data(df[['last_price', 'volume', 'amount']], 'SHFE', 'rb', window_size, rule, window, 4, SAVE_PATH)\n",
    "prepare_data(df[['last_price', 'volume', 'amount']], 'SHFE', 'rb', window_size, rule, window, 2, SAVE_PATH)"
   ]
  },
  {
   "cell_type": "code",
   "execution_count": null,
   "id": "a25e45a9",
   "metadata": {},
   "outputs": [],
   "source": []
  },
  {
   "cell_type": "code",
   "execution_count": null,
   "id": "6c3d8ad7",
   "metadata": {},
   "outputs": [],
   "source": [
    "dd = df.loc['2023-05-04']"
   ]
  },
  {
   "cell_type": "code",
   "execution_count": 58,
   "id": "b27350ba",
   "metadata": {},
   "outputs": [],
   "source": [
    "ddd = dd.between_time('09:00', '10:15')"
   ]
  },
  {
   "cell_type": "code",
   "execution_count": 60,
   "id": "16b62153",
   "metadata": {},
   "outputs": [],
   "source": [
    "dddd = ddd.resample(rule).last()"
   ]
  },
  {
   "cell_type": "code",
   "execution_count": 61,
   "id": "3c887ff1",
   "metadata": {},
   "outputs": [],
   "source": [
    "ddddd = dddd.diff(1).last_price.fillna(0)"
   ]
  },
  {
   "cell_type": "code",
   "execution_count": 64,
   "id": "03025535",
   "metadata": {},
   "outputs": [
    {
     "data": {
      "text/plain": [
       "datetime\n",
       "2023-05-04 09:01:00   -1.0\n",
       "2023-05-04 09:01:05   -4.0\n",
       "2023-05-04 09:01:10    2.0\n",
       "2023-05-04 09:01:15   -2.0\n",
       "2023-05-04 09:01:20   -2.0\n",
       "                      ... \n",
       "2023-05-04 10:14:40    0.0\n",
       "2023-05-04 10:14:45   -1.0\n",
       "2023-05-04 10:14:50    0.0\n",
       "2023-05-04 10:14:55    0.0\n",
       "2023-05-04 10:15:00    1.0\n",
       "Freq: 5S, Name: last_price, Length: 889, dtype: float64"
      ]
     },
     "execution_count": 64,
     "metadata": {},
     "output_type": "execute_result"
    }
   ],
   "source": [
    "ddddd[12:]"
   ]
  },
  {
   "cell_type": "code",
   "execution_count": 67,
   "id": "05d00aed",
   "metadata": {},
   "outputs": [
    {
     "data": {
      "text/plain": [
       "datetime\n",
       "2023-05-04 09:01:00    0.083333\n",
       "2023-05-04 09:01:05   -0.250000\n",
       "2023-05-04 09:01:10   -0.333333\n",
       "2023-05-04 09:01:15   -0.250000\n",
       "2023-05-04 09:01:20   -0.416667\n",
       "                         ...   \n",
       "2023-05-04 10:14:40    0.083333\n",
       "2023-05-04 10:14:45    0.083333\n",
       "2023-05-04 10:14:50    0.083333\n",
       "2023-05-04 10:14:55    0.083333\n",
       "2023-05-04 10:15:00    0.166667\n",
       "Freq: 5S, Name: last_price, Length: 889, dtype: float64"
      ]
     },
     "execution_count": 67,
     "metadata": {},
     "output_type": "execute_result"
    }
   ],
   "source": [
    "ddddd.rolling(window).mean()[12:]"
   ]
  },
  {
   "cell_type": "code",
   "execution_count": 65,
   "id": "7317ebd3",
   "metadata": {},
   "outputs": [
    {
     "data": {
      "text/plain": [
       "[<matplotlib.lines.Line2D at 0x19407543a48>]"
      ]
     },
     "execution_count": 65,
     "metadata": {},
     "output_type": "execute_result"
    }
   ],
   "source": [
    "plt.plot(ddddd.rolling(window).mean().values)"
   ]
  },
  {
   "cell_type": "code",
   "execution_count": 12,
   "id": "34272f93",
   "metadata": {},
   "outputs": [
    {
     "data": {
      "text/plain": [
       "[<matplotlib.lines.Line2D at 0x193dbb12c88>]"
      ]
     },
     "execution_count": 12,
     "metadata": {},
     "output_type": "execute_result"
    }
   ],
   "source": [
    "plt.plot(ddd.diff(1).last_price)"
   ]
  },
  {
   "cell_type": "code",
   "execution_count": 24,
   "id": "78f0fc45",
   "metadata": {},
   "outputs": [
    {
     "data": {
      "text/plain": [
       "[<matplotlib.lines.Line2D at 0x193dc2bb688>]"
      ]
     },
     "execution_count": 24,
     "metadata": {},
     "output_type": "execute_result"
    }
   ],
   "source": [
    "plt.plot(ddd.last_price.rolling(window).mean().diff(1))"
   ]
  },
  {
   "cell_type": "code",
   "execution_count": 27,
   "id": "fd95f379",
   "metadata": {},
   "outputs": [
    {
     "data": {
      "text/plain": [
       "<seaborn.axisgrid.FacetGrid at 0x193e5899788>"
      ]
     },
     "execution_count": 27,
     "metadata": {},
     "output_type": "execute_result"
    }
   ],
   "source": [
    "sn.displot(ddd.last_price.rolling(window).mean().diff(1), kde=True)"
   ]
  },
  {
   "cell_type": "code",
   "execution_count": 26,
   "id": "177f60e3",
   "metadata": {},
   "outputs": [
    {
     "data": {
      "text/plain": [
       "<seaborn.axisgrid.FacetGrid at 0x193dc6a2b48>"
      ]
     },
     "execution_count": 26,
     "metadata": {},
     "output_type": "execute_result"
    }
   ],
   "source": [
    "sn.displot(ddd.last_price.rolling(window).mean(), kde=True)"
   ]
  },
  {
   "cell_type": "code",
   "execution_count": 39,
   "id": "733575d2",
   "metadata": {},
   "outputs": [
    {
     "data": {
      "text/plain": [
       "[<matplotlib.lines.Line2D at 0x193ecb86cc8>]"
      ]
     },
     "execution_count": 39,
     "metadata": {},
     "output_type": "execute_result"
    }
   ],
   "source": [
    "plt.plot(ddd.last_price.rolling('1T').mean().diff(1))"
   ]
  },
  {
   "cell_type": "code",
   "execution_count": 37,
   "id": "355a0519",
   "metadata": {},
   "outputs": [
    {
     "data": {
      "text/plain": [
       "[<matplotlib.lines.Line2D at 0x193eb809ec8>]"
      ]
     },
     "execution_count": 37,
     "metadata": {},
     "output_type": "execute_result"
    }
   ],
   "source": [
    "plt.plot(ddd.last_price.rolling(window).mean()[60:])"
   ]
  },
  {
   "cell_type": "code",
   "execution_count": 35,
   "id": "8721a797",
   "metadata": {},
   "outputs": [
    {
     "data": {
      "text/plain": [
       "datetime\n",
       "2023-05-04 09:00:00    3645.000000\n",
       "2023-05-04 09:00:01    3641.500000\n",
       "2023-05-04 09:00:02    3640.333333\n",
       "2023-05-04 09:00:03    3640.500000\n",
       "2023-05-04 09:00:04    3640.000000\n",
       "                          ...     \n",
       "2023-05-04 10:14:56    3668.572222\n",
       "2023-05-04 10:14:57    3668.594444\n",
       "2023-05-04 10:14:58    3668.622222\n",
       "2023-05-04 10:14:59    3668.638889\n",
       "2023-05-04 10:15:00    3668.655556\n",
       "Name: last_price, Length: 4501, dtype: float64"
      ]
     },
     "execution_count": 35,
     "metadata": {},
     "output_type": "execute_result"
    }
   ],
   "source": [
    "ddd.last_price.rolling('3T').mean()"
   ]
  },
  {
   "cell_type": "code",
   "execution_count": 44,
   "id": "44914aa6",
   "metadata": {},
   "outputs": [
    {
     "data": {
      "text/plain": [
       "<seaborn.axisgrid.FacetGrid at 0x193eda0b188>"
      ]
     },
     "execution_count": 44,
     "metadata": {},
     "output_type": "execute_result"
    }
   ],
   "source": [
    "sn.displot(ddd.last_price.rolling('1T').mean().diff(1)[60:], kde=True)"
   ]
  },
  {
   "cell_type": "code",
   "execution_count": 47,
   "id": "9a475747",
   "metadata": {},
   "outputs": [],
   "source": [
    "df_x = ddd.last_price.rolling('1T').mean().diff(1)[60:]"
   ]
  },
  {
   "cell_type": "code",
   "execution_count": 48,
   "id": "8bf376c5",
   "metadata": {},
   "outputs": [
    {
     "data": {
      "text/plain": [
       "datetime\n",
       "2023-05-04 09:01:00   -0.083333\n",
       "2023-05-04 09:01:01   -0.016667\n",
       "2023-05-04 09:01:02   -0.016667\n",
       "2023-05-04 09:01:03   -0.066667\n",
       "2023-05-04 09:01:04    0.016667\n",
       "                         ...   \n",
       "2023-05-04 10:14:56    0.033333\n",
       "2023-05-04 10:14:57    0.033333\n",
       "2023-05-04 10:14:58    0.050000\n",
       "2023-05-04 10:14:59    0.016667\n",
       "2023-05-04 10:15:00    0.050000\n",
       "Name: last_price, Length: 4441, dtype: float64"
      ]
     },
     "execution_count": 48,
     "metadata": {},
     "output_type": "execute_result"
    }
   ],
   "source": [
    "df_x"
   ]
  },
  {
   "cell_type": "code",
   "execution_count": null,
   "id": "7e5f369b",
   "metadata": {},
   "outputs": [],
   "source": []
  },
  {
   "cell_type": "code",
   "execution_count": null,
   "id": "5b1be71f",
   "metadata": {},
   "outputs": [],
   "source": []
  },
  {
   "cell_type": "markdown",
   "id": "6f475818",
   "metadata": {},
   "source": [
    "## 收益率 螺纹主连"
   ]
  },
  {
   "cell_type": "code",
   "execution_count": 6,
   "id": "968af9f0",
   "metadata": {},
   "outputs": [],
   "source": [
    "store = pd.HDFStore('D:/option/SHFE.rb.1S.h5', 'r')\n",
    "df = store['rb']\n",
    "store.close()"
   ]
  },
  {
   "cell_type": "code",
   "execution_count": 21,
   "id": "2d55a61b",
   "metadata": {},
   "outputs": [],
   "source": [
    "window_size = 32\n",
    "rule = '30S'\n",
    "window = '15T'\n",
    "start_index = 2 # 60s / rule"
   ]
  },
  {
   "cell_type": "code",
   "execution_count": 22,
   "id": "fd485ba6",
   "metadata": {},
   "outputs": [],
   "source": [
    "SAVE_PATH = os.path.join('D:/option/master/rate', '%s_%s' % (rule, window))"
   ]
  },
  {
   "cell_type": "code",
   "execution_count": 23,
   "id": "b137dc1a",
   "metadata": {},
   "outputs": [],
   "source": [
    "if not os.path.exists(SAVE_PATH): os.makedirs(SAVE_PATH)"
   ]
  },
  {
   "cell_type": "code",
   "execution_count": 24,
   "id": "c0bd4124",
   "metadata": {},
   "outputs": [],
   "source": [
    "def prepare_data(df, exchange, symbol, window_size, rule, window, start_index, save_path):\n",
    "    \n",
    "    between_times = [['09:00', '10:15'], ['10:30', '11:30'], ['13:30', '15:00'], ['21:00', '23:00']]\n",
    "    \n",
    "    def _prepare_data(x, window_size):\n",
    "        n_row = x.shape[0] - window_size + 1\n",
    "        output = np.lib.stride_tricks.as_strided(x, shape=(n_row, window_size), strides=(x.strides[0],x.strides[0]))\n",
    "        return output[:-1]\n",
    "    \n",
    "    with tqdm.tqdm(np.unique(df.index.date)) as bar:\n",
    "        bar.set_description('%s %s' % (exchange, symbol))\n",
    "        for d in bar:\n",
    "            day_df = df[df.index.date == d]\n",
    "            p = os.path.join(save_path, '%s.%s.%s.%s.%s.%s.h5' % (exchange, symbol, datetime.datetime.strftime(d, '%Y-%m-%d'), rule, window, day_df.shape[0]))\n",
    "            if os.path.exists(p):\n",
    "                continue\n",
    "            if day_df.shape[0] > 1:\n",
    "                resample_df = day_df.resample(rule).last()\n",
    "                resample_df = resample_df.interpolate()\n",
    "                resample_df = resample_df.dropna()\n",
    "                \n",
    "                dfs_x = []\n",
    "                dfs_y = []\n",
    "                last_prices = []\n",
    "                \n",
    "                for (start, end) in between_times:\n",
    "                    # X\n",
    "                    hour_df = resample_df.between_time(start, end).dropna()\n",
    "\n",
    "                    if hour_df.shape[0] > 10:\n",
    "                        df_x = (hour_df.last_price / hour_df.last_price.shift(1) - 1) / 100\n",
    "                        df_x = df_x.fillna(0)[start_index:]\n",
    "                        last_price = hour_df.last_price[start_index:][window_size:]\n",
    "                        \n",
    "                        df_x = df_x.to_numpy()\n",
    "                        X = _prepare_data(df_x, window_size=window_size)\n",
    "                        y = pd.DataFrame(df_x[window_size:], index=last_price.index, columns=['y'])\n",
    "                        \n",
    "                        \n",
    "                        dfs_x.append(pd.DataFrame(X, index=last_price.index)) # .iloc[:-start_ix])\n",
    "                        dfs_y.append(y)\n",
    "                        last_prices.append(pd.DataFrame(last_price.values, index=last_price.index, columns=['last_price']))\n",
    "                                                    \n",
    "                    if len(dfs_x) > 0:\n",
    "                        df_x = pd.concat(dfs_x)\n",
    "                        df_y = pd.concat(dfs_y)\n",
    "                        df_last_price = pd.concat(last_prices)\n",
    "\n",
    "                        store = pd.HDFStore(p, 'w', complevel=7)\n",
    "\n",
    "                        store.append('X', df_x)\n",
    "                        store.append('y', df_y)\n",
    "                        store.append('last_price', df_last_price)\n",
    "\n",
    "                        store.flush()\n",
    "                        store.close()\n",
    "            "
   ]
  },
  {
   "cell_type": "code",
   "execution_count": 25,
   "id": "71a47e86",
   "metadata": {},
   "outputs": [
    {
     "name": "stderr",
     "output_type": "stream",
     "text": [
      "SHFE rb: 100%|███████████████████████████████| 530/530 [21:28<00:00,  2.43s/it]\n"
     ]
    }
   ],
   "source": [
    "prepare_data(df[['last_price', 'volume', 'amount']], 'SHFE', 'rb', window_size, rule, window, start_index, SAVE_PATH)"
   ]
  },
  {
   "cell_type": "code",
   "execution_count": null,
   "id": "632c7ae5",
   "metadata": {},
   "outputs": [],
   "source": []
  },
  {
   "cell_type": "code",
   "execution_count": null,
   "id": "fd593541",
   "metadata": {},
   "outputs": [],
   "source": []
  },
  {
   "cell_type": "code",
   "execution_count": null,
   "id": "eb897d5c",
   "metadata": {},
   "outputs": [],
   "source": []
  },
  {
   "cell_type": "code",
   "execution_count": null,
   "id": "37e5500a",
   "metadata": {},
   "outputs": [],
   "source": []
  },
  {
   "cell_type": "code",
   "execution_count": null,
   "id": "3afcf027",
   "metadata": {},
   "outputs": [],
   "source": []
  },
  {
   "cell_type": "code",
   "execution_count": null,
   "id": "b13d031b",
   "metadata": {},
   "outputs": [],
   "source": []
  },
  {
   "cell_type": "markdown",
   "id": "5176cb7e",
   "metadata": {},
   "source": [
    "### kdj # rsi macd boll "
   ]
  },
  {
   "cell_type": "code",
   "execution_count": 6,
   "id": "3c2a0f91",
   "metadata": {},
   "outputs": [],
   "source": [
    "store = pd.HDFStore('D:/option/SHFE.rb.1S.h5', 'r')\n",
    "df = store['rb']\n",
    "store.close()"
   ]
  },
  {
   "cell_type": "code",
   "execution_count": 4,
   "id": "49c43249",
   "metadata": {},
   "outputs": [],
   "source": [
    "window_size = 32\n",
    "rule = '1S'\n",
    "window = '1T'"
   ]
  },
  {
   "cell_type": "code",
   "execution_count": 5,
   "id": "1bcce804",
   "metadata": {},
   "outputs": [],
   "source": [
    "SAVE_PATH = os.path.join('D:/option/master/ind', '%s_%s' % (rule, window))"
   ]
  },
  {
   "cell_type": "code",
   "execution_count": null,
   "id": "22e607ca",
   "metadata": {},
   "outputs": [],
   "source": [
    "def prepare_data(df, exchange, symbol, window_size, rule, window, start_index, save_path):\n",
    "    \n",
    "    between_times = [['09:00', '10:15'], ['10:30', '11:30'], ['13:30', '15:00'], ['21:00', '23:00']]\n",
    "    \n",
    "    def _prepare_data(x, window_size):\n",
    "        n_row = x.shape[0] - window_size + 1\n",
    "        output = np.lib.stride_tricks.as_strided(x, shape=(n_row, window_size), strides=(x.strides[0],x.strides[0]))\n",
    "        return output[:-1]\n",
    "    \n",
    "    with tqdm.tqdm(np.unique(df.index.date)) as bar:\n",
    "        bar.set_description('%s %s' % (exchange, symbol))\n",
    "        for d in bar:\n",
    "            ddd = df[df.index.date == d]\n",
    "            p = os.path.join(save_path, '%s.%s.%s.%s.%s.%s.h5' % (exchange, symbol, datetime.datetime.strftime(d, '%Y-%m-%d'), rule, window, ddd.shape[0]))\n",
    "            if os.path.exists(p):\n",
    "                continue\n",
    "            if ddd.shape[0] > 1:\n",
    "                day1S_df = ddd.resample(rule).last()\n",
    "                day1S_df = day1S_df.interpolate()\n",
    "                day1S_df = day1S_df.dropna()\n",
    "                \n",
    "                dfs_x = []\n",
    "                dfs_y = []\n",
    "                last_prices = []\n",
    "                \n",
    "                for (start, end) in between_times:\n",
    "                    # X\n",
    "                    _df = day1S_df.between_time(start, end).dropna()\n",
    "\n",
    "                    if _df.shape[0] > 10:\n",
    "                        df_x = _df.last_price.rolling(window).mean().diff(1)[start_index:]\n",
    "                        last_price = _df.last_price[start_index:][window_size:]\n",
    "                        \n",
    "#                         df_x = scaler.fit_transform(df_x.to_numpy())\n",
    "                        df_x = df_x.to_numpy()\n",
    "                        \n",
    "                        X = _prepare_data(df_x, window_size=window_size)\n",
    "                        y = pd.DataFrame(df_x[window_size:], index=last_price.index, columns=['y'])\n",
    "                        \n",
    "                        \n",
    "                        dfs_x.append(pd.DataFrame(X, index=last_price.index)) # .iloc[:-start_ix])\n",
    "                        dfs_y.append(y)\n",
    "                        last_prices.append(pd.DataFrame(last_price.values, index=last_price.index, columns=['last_price']))\n",
    "                                                    \n",
    "                    if len(dfs_x) > 0:\n",
    "                        df_x = pd.concat(dfs_x)\n",
    "                        df_y = pd.concat(dfs_y)\n",
    "                        df_last_price = pd.concat(last_prices)\n",
    "\n",
    "                        store = pd.HDFStore(p, 'w', complevel=7)\n",
    "\n",
    "                        store.append('X', df_x)\n",
    "                        store.append('y', df_y)\n",
    "                        store.append('last_price', df_last_price)\n",
    "\n",
    "                        store.flush()\n",
    "                        store.close()\n",
    "            "
   ]
  },
  {
   "cell_type": "code",
   "execution_count": 10,
   "id": "181d8a0d",
   "metadata": {},
   "outputs": [],
   "source": [
    "d = df.last_price.loc['2021-04-06'].between_time('09:00', '10:15').interpolate()"
   ]
  },
  {
   "cell_type": "code",
   "execution_count": 12,
   "id": "1477895d",
   "metadata": {},
   "outputs": [
    {
     "data": {
      "text/plain": [
       "<AxesSubplot:xlabel='datetime'>"
      ]
     },
     "execution_count": 12,
     "metadata": {},
     "output_type": "execute_result"
    }
   ],
   "source": [
    "d.diff(1).plot()"
   ]
  },
  {
   "cell_type": "code",
   "execution_count": 13,
   "id": "872a2ad2",
   "metadata": {},
   "outputs": [
    {
     "data": {
      "text/plain": [
       "array(['2021-04-06T09:00:00.500001000', '2021-04-06T09:00:01.500000000',\n",
       "       '2021-04-06T09:00:02.500000000', ...,\n",
       "       '2023-06-09T22:59:58.500000000', '2023-06-09T22:59:59.500000000',\n",
       "       '2023-06-09T23:00:00.500000000'], dtype='datetime64[ns]')"
      ]
     },
     "execution_count": 13,
     "metadata": {},
     "output_type": "execute_result"
    }
   ],
   "source": [
    "df.datetime.unique()"
   ]
  },
  {
   "cell_type": "code",
   "execution_count": null,
   "id": "14698cc6",
   "metadata": {},
   "outputs": [],
   "source": []
  },
  {
   "cell_type": "code",
   "execution_count": null,
   "id": "f52adeb8",
   "metadata": {},
   "outputs": [],
   "source": []
  },
  {
   "cell_type": "code",
   "execution_count": 20,
   "id": "13cf4f7b",
   "metadata": {},
   "outputs": [
    {
     "data": {
      "text/html": [
       "<div>\n",
       "<style scoped>\n",
       "    .dataframe tbody tr th:only-of-type {\n",
       "        vertical-align: middle;\n",
       "    }\n",
       "\n",
       "    .dataframe tbody tr th {\n",
       "        vertical-align: top;\n",
       "    }\n",
       "\n",
       "    .dataframe thead th {\n",
       "        text-align: right;\n",
       "    }\n",
       "</style>\n",
       "<table border=\"1\" class=\"dataframe\">\n",
       "  <thead>\n",
       "    <tr style=\"text-align: right;\">\n",
       "      <th></th>\n",
       "      <th>datetime</th>\n",
       "      <th>last_price</th>\n",
       "      <th>volume</th>\n",
       "      <th>amount</th>\n",
       "      <th>open_interest</th>\n",
       "      <th>bid_price1</th>\n",
       "      <th>bid_volume1</th>\n",
       "      <th>ask_price1</th>\n",
       "      <th>ask_volume1</th>\n",
       "    </tr>\n",
       "    <tr>\n",
       "      <th>datetime</th>\n",
       "      <th></th>\n",
       "      <th></th>\n",
       "      <th></th>\n",
       "      <th></th>\n",
       "      <th></th>\n",
       "      <th></th>\n",
       "      <th></th>\n",
       "      <th></th>\n",
       "      <th></th>\n",
       "    </tr>\n",
       "  </thead>\n",
       "  <tbody>\n",
       "    <tr>\n",
       "      <th>2023-06-09 23:00:00</th>\n",
       "      <td>2023-06-09 23:00:00.500</td>\n",
       "      <td>3694.0</td>\n",
       "      <td>672503.0</td>\n",
       "      <td>2.491351e+10</td>\n",
       "      <td>1908466.0</td>\n",
       "      <td>3693.0</td>\n",
       "      <td>60.0</td>\n",
       "      <td>3694.0</td>\n",
       "      <td>18.0</td>\n",
       "    </tr>\n",
       "  </tbody>\n",
       "</table>\n",
       "</div>"
      ],
      "text/plain": [
       "                                   datetime  last_price    volume  \\\n",
       "datetime                                                            \n",
       "2023-06-09 23:00:00 2023-06-09 23:00:00.500      3694.0  672503.0   \n",
       "\n",
       "                           amount  open_interest  bid_price1  bid_volume1  \\\n",
       "datetime                                                                    \n",
       "2023-06-09 23:00:00  2.491351e+10      1908466.0      3693.0         60.0   \n",
       "\n",
       "                     ask_price1  ask_volume1  \n",
       "datetime                                      \n",
       "2023-06-09 23:00:00      3694.0         18.0  "
      ]
     },
     "execution_count": 20,
     "metadata": {},
     "output_type": "execute_result"
    }
   ],
   "source": [
    "df.tail(1)"
   ]
  },
  {
   "cell_type": "code",
   "execution_count": 21,
   "id": "961f9382",
   "metadata": {},
   "outputs": [],
   "source": [
    "d = df.loc['2023-06-09']"
   ]
  },
  {
   "cell_type": "code",
   "execution_count": 22,
   "id": "f527e26c",
   "metadata": {},
   "outputs": [],
   "source": [
    "d1 = d.between_time('09:00', '10:15').dropna()"
   ]
  },
  {
   "cell_type": "code",
   "execution_count": 23,
   "id": "3fb900b5",
   "metadata": {},
   "outputs": [],
   "source": [
    "d1_ohlc = d1.last_price.resample('1T', closed='left', label='right').ohlc(_method='ohlc')"
   ]
  },
  {
   "cell_type": "code",
   "execution_count": 24,
   "id": "89736768",
   "metadata": {},
   "outputs": [],
   "source": [
    "d1_ohlc['slowk'], d1_ohlc['slowd'] = talib.STOCH(\n",
    "    d1_ohlc['high'].values, \n",
    "    d1_ohlc['low'].values, \n",
    "    d1_ohlc['close'].values,\n",
    "    fastk_period=9,\n",
    "    slowk_period=3,\n",
    "    slowk_matype=0,\n",
    "    slowd_period=3,\n",
    "    slowd_matype=0)\n"
   ]
  },
  {
   "cell_type": "code",
   "execution_count": 36,
   "id": "072a0c3c",
   "metadata": {},
   "outputs": [],
   "source": [
    "from talib.abstract import *"
   ]
  },
  {
   "cell_type": "code",
   "execution_count": 37,
   "id": "8059e012",
   "metadata": {},
   "outputs": [],
   "source": [
    "slowk, slowd = STOCH(d1_ohlc, 9, 3, 0, 3, 0, prices=['high', 'low', 'open'])"
   ]
  },
  {
   "cell_type": "code",
   "execution_count": 38,
   "id": "ddde8bda",
   "metadata": {},
   "outputs": [
    {
     "data": {
      "text/plain": [
       "'slowd'"
      ]
     },
     "execution_count": 38,
     "metadata": {},
     "output_type": "execute_result"
    }
   ],
   "source": [
    "slowd"
   ]
  },
  {
   "cell_type": "code",
   "execution_count": 26,
   "id": "bf09ce71",
   "metadata": {},
   "outputs": [],
   "source": [
    "ddd = d1_ohlc.dropna()"
   ]
  },
  {
   "cell_type": "code",
   "execution_count": 42,
   "id": "f29a3cef",
   "metadata": {},
   "outputs": [
    {
     "data": {
      "text/html": [
       "<div>\n",
       "<style scoped>\n",
       "    .dataframe tbody tr th:only-of-type {\n",
       "        vertical-align: middle;\n",
       "    }\n",
       "\n",
       "    .dataframe tbody tr th {\n",
       "        vertical-align: top;\n",
       "    }\n",
       "\n",
       "    .dataframe thead th {\n",
       "        text-align: right;\n",
       "    }\n",
       "</style>\n",
       "<table border=\"1\" class=\"dataframe\">\n",
       "  <thead>\n",
       "    <tr style=\"text-align: right;\">\n",
       "      <th></th>\n",
       "      <th>open</th>\n",
       "      <th>high</th>\n",
       "      <th>low</th>\n",
       "      <th>close</th>\n",
       "      <th>slowk</th>\n",
       "      <th>slowd</th>\n",
       "    </tr>\n",
       "    <tr>\n",
       "      <th>datetime</th>\n",
       "      <th></th>\n",
       "      <th></th>\n",
       "      <th></th>\n",
       "      <th></th>\n",
       "      <th></th>\n",
       "      <th></th>\n",
       "    </tr>\n",
       "  </thead>\n",
       "  <tbody>\n",
       "    <tr>\n",
       "      <th>2023-06-09 09:13:00</th>\n",
       "      <td>3701.0</td>\n",
       "      <td>3703.0</td>\n",
       "      <td>3694.0</td>\n",
       "      <td>3694.0</td>\n",
       "      <td>11.111111</td>\n",
       "      <td>14.464085</td>\n",
       "    </tr>\n",
       "    <tr>\n",
       "      <th>2023-06-09 09:14:00</th>\n",
       "      <td>3695.0</td>\n",
       "      <td>3698.0</td>\n",
       "      <td>3695.0</td>\n",
       "      <td>3696.0</td>\n",
       "      <td>12.592593</td>\n",
       "      <td>12.299383</td>\n",
       "    </tr>\n",
       "    <tr>\n",
       "      <th>2023-06-09 09:15:00</th>\n",
       "      <td>3697.0</td>\n",
       "      <td>3699.0</td>\n",
       "      <td>3696.0</td>\n",
       "      <td>3696.0</td>\n",
       "      <td>7.500000</td>\n",
       "      <td>10.401235</td>\n",
       "    </tr>\n",
       "    <tr>\n",
       "      <th>2023-06-09 09:16:00</th>\n",
       "      <td>3696.0</td>\n",
       "      <td>3699.0</td>\n",
       "      <td>3693.0</td>\n",
       "      <td>3693.0</td>\n",
       "      <td>7.500000</td>\n",
       "      <td>9.197531</td>\n",
       "    </tr>\n",
       "    <tr>\n",
       "      <th>2023-06-09 09:17:00</th>\n",
       "      <td>3694.0</td>\n",
       "      <td>3694.0</td>\n",
       "      <td>3692.0</td>\n",
       "      <td>3693.0</td>\n",
       "      <td>6.388889</td>\n",
       "      <td>7.129630</td>\n",
       "    </tr>\n",
       "    <tr>\n",
       "      <th>...</th>\n",
       "      <td>...</td>\n",
       "      <td>...</td>\n",
       "      <td>...</td>\n",
       "      <td>...</td>\n",
       "      <td>...</td>\n",
       "      <td>...</td>\n",
       "    </tr>\n",
       "    <tr>\n",
       "      <th>2023-06-09 10:12:00</th>\n",
       "      <td>3679.0</td>\n",
       "      <td>3680.0</td>\n",
       "      <td>3677.0</td>\n",
       "      <td>3679.0</td>\n",
       "      <td>56.944444</td>\n",
       "      <td>34.259259</td>\n",
       "    </tr>\n",
       "    <tr>\n",
       "      <th>2023-06-09 10:13:00</th>\n",
       "      <td>3679.0</td>\n",
       "      <td>3682.0</td>\n",
       "      <td>3679.0</td>\n",
       "      <td>3681.0</td>\n",
       "      <td>77.777778</td>\n",
       "      <td>54.629630</td>\n",
       "    </tr>\n",
       "    <tr>\n",
       "      <th>2023-06-09 10:14:00</th>\n",
       "      <td>3680.0</td>\n",
       "      <td>3681.0</td>\n",
       "      <td>3678.0</td>\n",
       "      <td>3680.0</td>\n",
       "      <td>81.944444</td>\n",
       "      <td>72.222222</td>\n",
       "    </tr>\n",
       "    <tr>\n",
       "      <th>2023-06-09 10:15:00</th>\n",
       "      <td>3679.0</td>\n",
       "      <td>3679.0</td>\n",
       "      <td>3674.0</td>\n",
       "      <td>3674.0</td>\n",
       "      <td>54.166667</td>\n",
       "      <td>71.296296</td>\n",
       "    </tr>\n",
       "    <tr>\n",
       "      <th>2023-06-09 10:16:00</th>\n",
       "      <td>3674.0</td>\n",
       "      <td>3674.0</td>\n",
       "      <td>3674.0</td>\n",
       "      <td>3674.0</td>\n",
       "      <td>25.000000</td>\n",
       "      <td>53.703704</td>\n",
       "    </tr>\n",
       "  </tbody>\n",
       "</table>\n",
       "<p>64 rows × 6 columns</p>\n",
       "</div>"
      ],
      "text/plain": [
       "                       open    high     low   close      slowk      slowd\n",
       "datetime                                                                 \n",
       "2023-06-09 09:13:00  3701.0  3703.0  3694.0  3694.0  11.111111  14.464085\n",
       "2023-06-09 09:14:00  3695.0  3698.0  3695.0  3696.0  12.592593  12.299383\n",
       "2023-06-09 09:15:00  3697.0  3699.0  3696.0  3696.0   7.500000  10.401235\n",
       "2023-06-09 09:16:00  3696.0  3699.0  3693.0  3693.0   7.500000   9.197531\n",
       "2023-06-09 09:17:00  3694.0  3694.0  3692.0  3693.0   6.388889   7.129630\n",
       "...                     ...     ...     ...     ...        ...        ...\n",
       "2023-06-09 10:12:00  3679.0  3680.0  3677.0  3679.0  56.944444  34.259259\n",
       "2023-06-09 10:13:00  3679.0  3682.0  3679.0  3681.0  77.777778  54.629630\n",
       "2023-06-09 10:14:00  3680.0  3681.0  3678.0  3680.0  81.944444  72.222222\n",
       "2023-06-09 10:15:00  3679.0  3679.0  3674.0  3674.0  54.166667  71.296296\n",
       "2023-06-09 10:16:00  3674.0  3674.0  3674.0  3674.0  25.000000  53.703704\n",
       "\n",
       "[64 rows x 6 columns]"
      ]
     },
     "execution_count": 42,
     "metadata": {},
     "output_type": "execute_result"
    }
   ],
   "source": [
    "ddd"
   ]
  },
  {
   "cell_type": "code",
   "execution_count": 41,
   "id": "9914a914",
   "metadata": {},
   "outputs": [
    {
     "data": {
      "text/plain": [
       "[]"
      ]
     },
     "execution_count": 41,
     "metadata": {},
     "output_type": "execute_result"
    }
   ],
   "source": [
    "fig, ax1 = plt.subplots()\n",
    "\n",
    "ax1.plot(ddd.close, c='b', marker='.', label='close price')\n",
    "\n",
    "ax2 = ax1.twinx()\n",
    "ax2.plot(ddd.slowk, c='r', marker='o', label='K')\n",
    "ax2.plot(ddd.slowd, c='g', marker='o', label='D')\n",
    "\n",
    "\n",
    "lines, labels = ax1.get_legend_handles_labels()\n",
    "lines2, labels2 = ax2.get_legend_handles_labels()\n",
    "ax2.legend(lines + lines2, labels + labels2, loc=0)\n",
    "\n",
    "plt.plot()"
   ]
  },
  {
   "cell_type": "code",
   "execution_count": 43,
   "id": "0f53b342",
   "metadata": {},
   "outputs": [],
   "source": [
    "d2 = d.between_time('09:00', '10:15').dropna()"
   ]
  },
  {
   "cell_type": "code",
   "execution_count": 44,
   "id": "06cd6da2",
   "metadata": {},
   "outputs": [],
   "source": [
    "d2_ohlc = d2.last_price.resample('1T', closed='left', label='right').ohlc(_method='ohlc')"
   ]
  },
  {
   "cell_type": "code",
   "execution_count": 45,
   "id": "ea9cc9c3",
   "metadata": {},
   "outputs": [],
   "source": [
    "lowList = d2_ohlc['low'].rolling(9).min() #计算low值9日移动最低\n",
    "lowList.fillna(value=d2_ohlc['low'].expanding().min(), inplace=True)\n",
    "highList = d2_ohlc['high'].rolling(9).max() #计算high值9日移动最高\n",
    "highList.fillna(value=d2_ohlc['high'].expanding().max(), inplace=True)\n",
    "rsv = (d2_ohlc.loc[:, 'close'] - lowList) / (highList - lowList) * 100\n",
    "d2_ohlc.loc[:, 'kdj_k'] = rsv.ewm(com=2).mean()\n",
    "d2_ohlc.loc[:, 'kdj_d'] = d2_ohlc.loc[:, 'kdj_k'].ewm(com=2).mean()\n",
    "d2_ohlc.loc[:, 'kdj_j'] = 3.0 * d2_ohlc.loc[:, 'kdj_k'] - 2.0 * d2_ohlc.loc[:, 'kdj_d']"
   ]
  },
  {
   "cell_type": "code",
   "execution_count": 51,
   "id": "89e86cd4",
   "metadata": {},
   "outputs": [
    {
     "data": {
      "text/html": [
       "<div>\n",
       "<style scoped>\n",
       "    .dataframe tbody tr th:only-of-type {\n",
       "        vertical-align: middle;\n",
       "    }\n",
       "\n",
       "    .dataframe tbody tr th {\n",
       "        vertical-align: top;\n",
       "    }\n",
       "\n",
       "    .dataframe thead th {\n",
       "        text-align: right;\n",
       "    }\n",
       "</style>\n",
       "<table border=\"1\" class=\"dataframe\">\n",
       "  <thead>\n",
       "    <tr style=\"text-align: right;\">\n",
       "      <th></th>\n",
       "      <th>open</th>\n",
       "      <th>high</th>\n",
       "      <th>low</th>\n",
       "      <th>close</th>\n",
       "      <th>kdj_k</th>\n",
       "      <th>kdj_d</th>\n",
       "      <th>kdj_j</th>\n",
       "    </tr>\n",
       "    <tr>\n",
       "      <th>datetime</th>\n",
       "      <th></th>\n",
       "      <th></th>\n",
       "      <th></th>\n",
       "      <th></th>\n",
       "      <th></th>\n",
       "      <th></th>\n",
       "      <th></th>\n",
       "    </tr>\n",
       "  </thead>\n",
       "  <tbody>\n",
       "    <tr>\n",
       "      <th>2023-06-09 09:01:00</th>\n",
       "      <td>3694.0</td>\n",
       "      <td>3702.0</td>\n",
       "      <td>3693.0</td>\n",
       "      <td>3702.0</td>\n",
       "      <td>100.000000</td>\n",
       "      <td>100.000000</td>\n",
       "      <td>100.000000</td>\n",
       "    </tr>\n",
       "    <tr>\n",
       "      <th>2023-06-09 09:02:00</th>\n",
       "      <td>3702.0</td>\n",
       "      <td>3710.0</td>\n",
       "      <td>3702.0</td>\n",
       "      <td>3708.0</td>\n",
       "      <td>92.941176</td>\n",
       "      <td>95.764706</td>\n",
       "      <td>87.294118</td>\n",
       "    </tr>\n",
       "    <tr>\n",
       "      <th>2023-06-09 09:03:00</th>\n",
       "      <td>3709.0</td>\n",
       "      <td>3714.0</td>\n",
       "      <td>3708.0</td>\n",
       "      <td>3714.0</td>\n",
       "      <td>96.284830</td>\n",
       "      <td>96.011080</td>\n",
       "      <td>96.832328</td>\n",
       "    </tr>\n",
       "    <tr>\n",
       "      <th>2023-06-09 09:04:00</th>\n",
       "      <td>3715.0</td>\n",
       "      <td>3715.0</td>\n",
       "      <td>3708.0</td>\n",
       "      <td>3708.0</td>\n",
       "      <td>84.611271</td>\n",
       "      <td>91.275775</td>\n",
       "      <td>71.282263</td>\n",
       "    </tr>\n",
       "    <tr>\n",
       "      <th>2023-06-09 09:05:00</th>\n",
       "      <td>3708.0</td>\n",
       "      <td>3713.0</td>\n",
       "      <td>3708.0</td>\n",
       "      <td>3713.0</td>\n",
       "      <td>87.028918</td>\n",
       "      <td>89.645465</td>\n",
       "      <td>81.795823</td>\n",
       "    </tr>\n",
       "    <tr>\n",
       "      <th>2023-06-09 09:06:00</th>\n",
       "      <td>3713.0</td>\n",
       "      <td>3714.0</td>\n",
       "      <td>3708.0</td>\n",
       "      <td>3710.0</td>\n",
       "      <td>83.463874</td>\n",
       "      <td>87.386628</td>\n",
       "      <td>75.618365</td>\n",
       "    </tr>\n",
       "    <tr>\n",
       "      <th>2023-06-09 09:07:00</th>\n",
       "      <td>3710.0</td>\n",
       "      <td>3710.0</td>\n",
       "      <td>3706.0</td>\n",
       "      <td>3707.0</td>\n",
       "      <td>76.443837</td>\n",
       "      <td>83.512274</td>\n",
       "      <td>62.306964</td>\n",
       "    </tr>\n",
       "    <tr>\n",
       "      <th>2023-06-09 09:08:00</th>\n",
       "      <td>3708.0</td>\n",
       "      <td>3708.0</td>\n",
       "      <td>3704.0</td>\n",
       "      <td>3705.0</td>\n",
       "      <td>68.847999</td>\n",
       "      <td>78.425712</td>\n",
       "      <td>49.692571</td>\n",
       "    </tr>\n",
       "    <tr>\n",
       "      <th>2023-06-09 09:09:00</th>\n",
       "      <td>3705.0</td>\n",
       "      <td>3707.0</td>\n",
       "      <td>3703.0</td>\n",
       "      <td>3703.0</td>\n",
       "      <td>60.841925</td>\n",
       "      <td>72.407913</td>\n",
       "      <td>37.709947</td>\n",
       "    </tr>\n",
       "    <tr>\n",
       "      <th>2023-06-09 09:10:00</th>\n",
       "      <td>3703.0</td>\n",
       "      <td>3703.0</td>\n",
       "      <td>3699.0</td>\n",
       "      <td>3700.0</td>\n",
       "      <td>42.323478</td>\n",
       "      <td>62.202796</td>\n",
       "      <td>2.564843</td>\n",
       "    </tr>\n",
       "    <tr>\n",
       "      <th>2023-06-09 09:11:00</th>\n",
       "      <td>3700.0</td>\n",
       "      <td>3700.0</td>\n",
       "      <td>3697.0</td>\n",
       "      <td>3698.0</td>\n",
       "      <td>29.924155</td>\n",
       "      <td>51.317403</td>\n",
       "      <td>-12.862340</td>\n",
       "    </tr>\n",
       "    <tr>\n",
       "      <th>2023-06-09 09:12:00</th>\n",
       "      <td>3698.0</td>\n",
       "      <td>3703.0</td>\n",
       "      <td>3697.0</td>\n",
       "      <td>3702.0</td>\n",
       "      <td>29.203139</td>\n",
       "      <td>43.888726</td>\n",
       "      <td>-0.168035</td>\n",
       "    </tr>\n",
       "    <tr>\n",
       "      <th>2023-06-09 09:13:00</th>\n",
       "      <td>3701.0</td>\n",
       "      <td>3703.0</td>\n",
       "      <td>3694.0</td>\n",
       "      <td>3694.0</td>\n",
       "      <td>19.418483</td>\n",
       "      <td>35.689851</td>\n",
       "      <td>-13.124251</td>\n",
       "    </tr>\n",
       "    <tr>\n",
       "      <th>2023-06-09 09:14:00</th>\n",
       "      <td>3695.0</td>\n",
       "      <td>3698.0</td>\n",
       "      <td>3695.0</td>\n",
       "      <td>3696.0</td>\n",
       "      <td>16.268198</td>\n",
       "      <td>29.193714</td>\n",
       "      <td>-9.582835</td>\n",
       "    </tr>\n",
       "    <tr>\n",
       "      <th>2023-06-09 09:15:00</th>\n",
       "      <td>3697.0</td>\n",
       "      <td>3699.0</td>\n",
       "      <td>3696.0</td>\n",
       "      <td>3696.0</td>\n",
       "      <td>15.009257</td>\n",
       "      <td>24.454739</td>\n",
       "      <td>-3.881708</td>\n",
       "    </tr>\n",
       "    <tr>\n",
       "      <th>2023-06-09 09:16:00</th>\n",
       "      <td>3696.0</td>\n",
       "      <td>3699.0</td>\n",
       "      <td>3693.0</td>\n",
       "      <td>3693.0</td>\n",
       "      <td>9.998543</td>\n",
       "      <td>19.628660</td>\n",
       "      <td>-9.261691</td>\n",
       "    </tr>\n",
       "    <tr>\n",
       "      <th>2023-06-09 09:17:00</th>\n",
       "      <td>3694.0</td>\n",
       "      <td>3694.0</td>\n",
       "      <td>3692.0</td>\n",
       "      <td>3693.0</td>\n",
       "      <td>8.886789</td>\n",
       "      <td>16.044398</td>\n",
       "      <td>-5.428430</td>\n",
       "    </tr>\n",
       "    <tr>\n",
       "      <th>2023-06-09 09:18:00</th>\n",
       "      <td>3694.0</td>\n",
       "      <td>3696.0</td>\n",
       "      <td>3691.0</td>\n",
       "      <td>3691.0</td>\n",
       "      <td>5.922520</td>\n",
       "      <td>12.668154</td>\n",
       "      <td>-7.568748</td>\n",
       "    </tr>\n",
       "    <tr>\n",
       "      <th>2023-06-09 09:19:00</th>\n",
       "      <td>3691.0</td>\n",
       "      <td>3694.0</td>\n",
       "      <td>3691.0</td>\n",
       "      <td>3694.0</td>\n",
       "      <td>12.284550</td>\n",
       "      <td>12.540229</td>\n",
       "      <td>11.773193</td>\n",
       "    </tr>\n",
       "    <tr>\n",
       "      <th>2023-06-09 09:20:00</th>\n",
       "      <td>3693.0</td>\n",
       "      <td>3694.0</td>\n",
       "      <td>3691.0</td>\n",
       "      <td>3691.0</td>\n",
       "      <td>8.188468</td>\n",
       "      <td>11.089205</td>\n",
       "      <td>2.386994</td>\n",
       "    </tr>\n",
       "    <tr>\n",
       "      <th>2023-06-09 09:21:00</th>\n",
       "      <td>3692.0</td>\n",
       "      <td>3692.0</td>\n",
       "      <td>3688.0</td>\n",
       "      <td>3690.0</td>\n",
       "      <td>9.903767</td>\n",
       "      <td>10.693980</td>\n",
       "      <td>8.323341</td>\n",
       "    </tr>\n",
       "    <tr>\n",
       "      <th>2023-06-09 09:22:00</th>\n",
       "      <td>3691.0</td>\n",
       "      <td>3693.0</td>\n",
       "      <td>3688.0</td>\n",
       "      <td>3689.0</td>\n",
       "      <td>9.632778</td>\n",
       "      <td>10.340199</td>\n",
       "      <td>8.217937</td>\n",
       "    </tr>\n",
       "    <tr>\n",
       "      <th>2023-06-09 09:23:00</th>\n",
       "      <td>3689.0</td>\n",
       "      <td>3693.0</td>\n",
       "      <td>3689.0</td>\n",
       "      <td>3691.0</td>\n",
       "      <td>15.513285</td>\n",
       "      <td>12.064715</td>\n",
       "      <td>22.410426</td>\n",
       "    </tr>\n",
       "    <tr>\n",
       "      <th>2023-06-09 09:24:00</th>\n",
       "      <td>3691.0</td>\n",
       "      <td>3693.0</td>\n",
       "      <td>3690.0</td>\n",
       "      <td>3693.0</td>\n",
       "      <td>25.494298</td>\n",
       "      <td>16.541508</td>\n",
       "      <td>43.399878</td>\n",
       "    </tr>\n",
       "    <tr>\n",
       "      <th>2023-06-09 09:25:00</th>\n",
       "      <td>3692.0</td>\n",
       "      <td>3694.0</td>\n",
       "      <td>3690.0</td>\n",
       "      <td>3693.0</td>\n",
       "      <td>37.830021</td>\n",
       "      <td>23.637960</td>\n",
       "      <td>66.214142</td>\n",
       "    </tr>\n",
       "    <tr>\n",
       "      <th>2023-06-09 09:26:00</th>\n",
       "      <td>3693.0</td>\n",
       "      <td>3693.0</td>\n",
       "      <td>3689.0</td>\n",
       "      <td>3690.0</td>\n",
       "      <td>33.553234</td>\n",
       "      <td>26.943139</td>\n",
       "      <td>46.773425</td>\n",
       "    </tr>\n",
       "    <tr>\n",
       "      <th>2023-06-09 09:27:00</th>\n",
       "      <td>3691.0</td>\n",
       "      <td>3691.0</td>\n",
       "      <td>3683.0</td>\n",
       "      <td>3685.0</td>\n",
       "      <td>28.429339</td>\n",
       "      <td>27.438547</td>\n",
       "      <td>30.410921</td>\n",
       "    </tr>\n",
       "    <tr>\n",
       "      <th>2023-06-09 09:28:00</th>\n",
       "      <td>3684.0</td>\n",
       "      <td>3685.0</td>\n",
       "      <td>3683.0</td>\n",
       "      <td>3684.0</td>\n",
       "      <td>21.983120</td>\n",
       "      <td>25.620050</td>\n",
       "      <td>14.709259</td>\n",
       "    </tr>\n",
       "    <tr>\n",
       "      <th>2023-06-09 09:29:00</th>\n",
       "      <td>3683.0</td>\n",
       "      <td>3686.0</td>\n",
       "      <td>3682.0</td>\n",
       "      <td>3685.0</td>\n",
       "      <td>22.988754</td>\n",
       "      <td>24.742945</td>\n",
       "      <td>19.480374</td>\n",
       "    </tr>\n",
       "    <tr>\n",
       "      <th>2023-06-09 09:30:00</th>\n",
       "      <td>3685.0</td>\n",
       "      <td>3686.0</td>\n",
       "      <td>3684.0</td>\n",
       "      <td>3684.0</td>\n",
       "      <td>20.881381</td>\n",
       "      <td>23.455750</td>\n",
       "      <td>15.732642</td>\n",
       "    </tr>\n",
       "    <tr>\n",
       "      <th>2023-06-09 09:31:00</th>\n",
       "      <td>3684.0</td>\n",
       "      <td>3688.0</td>\n",
       "      <td>3683.0</td>\n",
       "      <td>3685.0</td>\n",
       "      <td>22.254259</td>\n",
       "      <td>23.055252</td>\n",
       "      <td>20.652273</td>\n",
       "    </tr>\n",
       "    <tr>\n",
       "      <th>2023-06-09 09:32:00</th>\n",
       "      <td>3685.0</td>\n",
       "      <td>3687.0</td>\n",
       "      <td>3683.0</td>\n",
       "      <td>3683.0</td>\n",
       "      <td>17.613939</td>\n",
       "      <td>21.241477</td>\n",
       "      <td>10.358865</td>\n",
       "    </tr>\n",
       "    <tr>\n",
       "      <th>2023-06-09 09:33:00</th>\n",
       "      <td>3683.0</td>\n",
       "      <td>3686.0</td>\n",
       "      <td>3683.0</td>\n",
       "      <td>3685.0</td>\n",
       "      <td>20.075963</td>\n",
       "      <td>20.852972</td>\n",
       "      <td>18.521947</td>\n",
       "    </tr>\n",
       "    <tr>\n",
       "      <th>2023-06-09 09:34:00</th>\n",
       "      <td>3686.0</td>\n",
       "      <td>3686.0</td>\n",
       "      <td>3678.0</td>\n",
       "      <td>3678.0</td>\n",
       "      <td>13.383969</td>\n",
       "      <td>18.363301</td>\n",
       "      <td>3.425303</td>\n",
       "    </tr>\n",
       "    <tr>\n",
       "      <th>2023-06-09 09:35:00</th>\n",
       "      <td>3678.0</td>\n",
       "      <td>3682.0</td>\n",
       "      <td>3678.0</td>\n",
       "      <td>3682.0</td>\n",
       "      <td>19.179060</td>\n",
       "      <td>18.635221</td>\n",
       "      <td>20.266738</td>\n",
       "    </tr>\n",
       "    <tr>\n",
       "      <th>2023-06-09 09:36:00</th>\n",
       "      <td>3682.0</td>\n",
       "      <td>3683.0</td>\n",
       "      <td>3681.0</td>\n",
       "      <td>3683.0</td>\n",
       "      <td>29.452711</td>\n",
       "      <td>22.241053</td>\n",
       "      <td>43.876028</td>\n",
       "    </tr>\n",
       "    <tr>\n",
       "      <th>2023-06-09 09:37:00</th>\n",
       "      <td>3682.0</td>\n",
       "      <td>3685.0</td>\n",
       "      <td>3681.0</td>\n",
       "      <td>3683.0</td>\n",
       "      <td>36.301810</td>\n",
       "      <td>26.927973</td>\n",
       "      <td>55.049483</td>\n",
       "    </tr>\n",
       "    <tr>\n",
       "      <th>2023-06-09 09:38:00</th>\n",
       "      <td>3683.0</td>\n",
       "      <td>3685.0</td>\n",
       "      <td>3679.0</td>\n",
       "      <td>3681.0</td>\n",
       "      <td>34.201206</td>\n",
       "      <td>29.352385</td>\n",
       "      <td>43.898849</td>\n",
       "    </tr>\n",
       "    <tr>\n",
       "      <th>2023-06-09 09:39:00</th>\n",
       "      <td>3681.0</td>\n",
       "      <td>3681.0</td>\n",
       "      <td>3678.0</td>\n",
       "      <td>3680.0</td>\n",
       "      <td>29.467470</td>\n",
       "      <td>29.390746</td>\n",
       "      <td>29.620917</td>\n",
       "    </tr>\n",
       "    <tr>\n",
       "      <th>2023-06-09 09:40:00</th>\n",
       "      <td>3679.0</td>\n",
       "      <td>3681.0</td>\n",
       "      <td>3677.0</td>\n",
       "      <td>3680.0</td>\n",
       "      <td>29.644980</td>\n",
       "      <td>29.475491</td>\n",
       "      <td>29.983958</td>\n",
       "    </tr>\n",
       "    <tr>\n",
       "      <th>2023-06-09 09:41:00</th>\n",
       "      <td>3679.0</td>\n",
       "      <td>3681.0</td>\n",
       "      <td>3678.0</td>\n",
       "      <td>3679.0</td>\n",
       "      <td>27.170727</td>\n",
       "      <td>28.707236</td>\n",
       "      <td>24.097709</td>\n",
       "    </tr>\n",
       "    <tr>\n",
       "      <th>2023-06-09 09:42:00</th>\n",
       "      <td>3679.0</td>\n",
       "      <td>3682.0</td>\n",
       "      <td>3678.0</td>\n",
       "      <td>3682.0</td>\n",
       "      <td>36.632337</td>\n",
       "      <td>31.348937</td>\n",
       "      <td>47.199138</td>\n",
       "    </tr>\n",
       "    <tr>\n",
       "      <th>2023-06-09 09:43:00</th>\n",
       "      <td>3681.0</td>\n",
       "      <td>3683.0</td>\n",
       "      <td>3677.0</td>\n",
       "      <td>3678.0</td>\n",
       "      <td>28.588225</td>\n",
       "      <td>30.428699</td>\n",
       "      <td>24.907275</td>\n",
       "    </tr>\n",
       "    <tr>\n",
       "      <th>2023-06-09 09:44:00</th>\n",
       "      <td>3678.0</td>\n",
       "      <td>3678.0</td>\n",
       "      <td>3673.0</td>\n",
       "      <td>3674.0</td>\n",
       "      <td>21.836594</td>\n",
       "      <td>27.564664</td>\n",
       "      <td>10.380454</td>\n",
       "    </tr>\n",
       "    <tr>\n",
       "      <th>2023-06-09 09:45:00</th>\n",
       "      <td>3674.0</td>\n",
       "      <td>3678.0</td>\n",
       "      <td>3674.0</td>\n",
       "      <td>3678.0</td>\n",
       "      <td>28.446618</td>\n",
       "      <td>27.858649</td>\n",
       "      <td>29.622557</td>\n",
       "    </tr>\n",
       "    <tr>\n",
       "      <th>2023-06-09 09:46:00</th>\n",
       "      <td>3678.0</td>\n",
       "      <td>3679.0</td>\n",
       "      <td>3677.0</td>\n",
       "      <td>3679.0</td>\n",
       "      <td>35.631079</td>\n",
       "      <td>30.449459</td>\n",
       "      <td>45.994319</td>\n",
       "    </tr>\n",
       "    <tr>\n",
       "      <th>2023-06-09 09:47:00</th>\n",
       "      <td>3678.0</td>\n",
       "      <td>3682.0</td>\n",
       "      <td>3678.0</td>\n",
       "      <td>3680.0</td>\n",
       "      <td>47.087386</td>\n",
       "      <td>35.995435</td>\n",
       "      <td>69.271289</td>\n",
       "    </tr>\n",
       "    <tr>\n",
       "      <th>2023-06-09 09:48:00</th>\n",
       "      <td>3681.0</td>\n",
       "      <td>3685.0</td>\n",
       "      <td>3680.0</td>\n",
       "      <td>3684.0</td>\n",
       "      <td>61.947146</td>\n",
       "      <td>44.646005</td>\n",
       "      <td>96.549428</td>\n",
       "    </tr>\n",
       "    <tr>\n",
       "      <th>2023-06-09 09:49:00</th>\n",
       "      <td>3683.0</td>\n",
       "      <td>3683.0</td>\n",
       "      <td>3680.0</td>\n",
       "      <td>3681.0</td>\n",
       "      <td>63.520320</td>\n",
       "      <td>50.937443</td>\n",
       "      <td>88.686072</td>\n",
       "    </tr>\n",
       "    <tr>\n",
       "      <th>2023-06-09 09:50:00</th>\n",
       "      <td>3681.0</td>\n",
       "      <td>3681.0</td>\n",
       "      <td>3679.0</td>\n",
       "      <td>3679.0</td>\n",
       "      <td>59.013546</td>\n",
       "      <td>53.629478</td>\n",
       "      <td>69.781684</td>\n",
       "    </tr>\n",
       "  </tbody>\n",
       "</table>\n",
       "</div>"
      ],
      "text/plain": [
       "                       open    high     low   close       kdj_k       kdj_d  \\\n",
       "datetime                                                                      \n",
       "2023-06-09 09:01:00  3694.0  3702.0  3693.0  3702.0  100.000000  100.000000   \n",
       "2023-06-09 09:02:00  3702.0  3710.0  3702.0  3708.0   92.941176   95.764706   \n",
       "2023-06-09 09:03:00  3709.0  3714.0  3708.0  3714.0   96.284830   96.011080   \n",
       "2023-06-09 09:04:00  3715.0  3715.0  3708.0  3708.0   84.611271   91.275775   \n",
       "2023-06-09 09:05:00  3708.0  3713.0  3708.0  3713.0   87.028918   89.645465   \n",
       "2023-06-09 09:06:00  3713.0  3714.0  3708.0  3710.0   83.463874   87.386628   \n",
       "2023-06-09 09:07:00  3710.0  3710.0  3706.0  3707.0   76.443837   83.512274   \n",
       "2023-06-09 09:08:00  3708.0  3708.0  3704.0  3705.0   68.847999   78.425712   \n",
       "2023-06-09 09:09:00  3705.0  3707.0  3703.0  3703.0   60.841925   72.407913   \n",
       "2023-06-09 09:10:00  3703.0  3703.0  3699.0  3700.0   42.323478   62.202796   \n",
       "2023-06-09 09:11:00  3700.0  3700.0  3697.0  3698.0   29.924155   51.317403   \n",
       "2023-06-09 09:12:00  3698.0  3703.0  3697.0  3702.0   29.203139   43.888726   \n",
       "2023-06-09 09:13:00  3701.0  3703.0  3694.0  3694.0   19.418483   35.689851   \n",
       "2023-06-09 09:14:00  3695.0  3698.0  3695.0  3696.0   16.268198   29.193714   \n",
       "2023-06-09 09:15:00  3697.0  3699.0  3696.0  3696.0   15.009257   24.454739   \n",
       "2023-06-09 09:16:00  3696.0  3699.0  3693.0  3693.0    9.998543   19.628660   \n",
       "2023-06-09 09:17:00  3694.0  3694.0  3692.0  3693.0    8.886789   16.044398   \n",
       "2023-06-09 09:18:00  3694.0  3696.0  3691.0  3691.0    5.922520   12.668154   \n",
       "2023-06-09 09:19:00  3691.0  3694.0  3691.0  3694.0   12.284550   12.540229   \n",
       "2023-06-09 09:20:00  3693.0  3694.0  3691.0  3691.0    8.188468   11.089205   \n",
       "2023-06-09 09:21:00  3692.0  3692.0  3688.0  3690.0    9.903767   10.693980   \n",
       "2023-06-09 09:22:00  3691.0  3693.0  3688.0  3689.0    9.632778   10.340199   \n",
       "2023-06-09 09:23:00  3689.0  3693.0  3689.0  3691.0   15.513285   12.064715   \n",
       "2023-06-09 09:24:00  3691.0  3693.0  3690.0  3693.0   25.494298   16.541508   \n",
       "2023-06-09 09:25:00  3692.0  3694.0  3690.0  3693.0   37.830021   23.637960   \n",
       "2023-06-09 09:26:00  3693.0  3693.0  3689.0  3690.0   33.553234   26.943139   \n",
       "2023-06-09 09:27:00  3691.0  3691.0  3683.0  3685.0   28.429339   27.438547   \n",
       "2023-06-09 09:28:00  3684.0  3685.0  3683.0  3684.0   21.983120   25.620050   \n",
       "2023-06-09 09:29:00  3683.0  3686.0  3682.0  3685.0   22.988754   24.742945   \n",
       "2023-06-09 09:30:00  3685.0  3686.0  3684.0  3684.0   20.881381   23.455750   \n",
       "2023-06-09 09:31:00  3684.0  3688.0  3683.0  3685.0   22.254259   23.055252   \n",
       "2023-06-09 09:32:00  3685.0  3687.0  3683.0  3683.0   17.613939   21.241477   \n",
       "2023-06-09 09:33:00  3683.0  3686.0  3683.0  3685.0   20.075963   20.852972   \n",
       "2023-06-09 09:34:00  3686.0  3686.0  3678.0  3678.0   13.383969   18.363301   \n",
       "2023-06-09 09:35:00  3678.0  3682.0  3678.0  3682.0   19.179060   18.635221   \n",
       "2023-06-09 09:36:00  3682.0  3683.0  3681.0  3683.0   29.452711   22.241053   \n",
       "2023-06-09 09:37:00  3682.0  3685.0  3681.0  3683.0   36.301810   26.927973   \n",
       "2023-06-09 09:38:00  3683.0  3685.0  3679.0  3681.0   34.201206   29.352385   \n",
       "2023-06-09 09:39:00  3681.0  3681.0  3678.0  3680.0   29.467470   29.390746   \n",
       "2023-06-09 09:40:00  3679.0  3681.0  3677.0  3680.0   29.644980   29.475491   \n",
       "2023-06-09 09:41:00  3679.0  3681.0  3678.0  3679.0   27.170727   28.707236   \n",
       "2023-06-09 09:42:00  3679.0  3682.0  3678.0  3682.0   36.632337   31.348937   \n",
       "2023-06-09 09:43:00  3681.0  3683.0  3677.0  3678.0   28.588225   30.428699   \n",
       "2023-06-09 09:44:00  3678.0  3678.0  3673.0  3674.0   21.836594   27.564664   \n",
       "2023-06-09 09:45:00  3674.0  3678.0  3674.0  3678.0   28.446618   27.858649   \n",
       "2023-06-09 09:46:00  3678.0  3679.0  3677.0  3679.0   35.631079   30.449459   \n",
       "2023-06-09 09:47:00  3678.0  3682.0  3678.0  3680.0   47.087386   35.995435   \n",
       "2023-06-09 09:48:00  3681.0  3685.0  3680.0  3684.0   61.947146   44.646005   \n",
       "2023-06-09 09:49:00  3683.0  3683.0  3680.0  3681.0   63.520320   50.937443   \n",
       "2023-06-09 09:50:00  3681.0  3681.0  3679.0  3679.0   59.013546   53.629478   \n",
       "\n",
       "                          kdj_j  \n",
       "datetime                         \n",
       "2023-06-09 09:01:00  100.000000  \n",
       "2023-06-09 09:02:00   87.294118  \n",
       "2023-06-09 09:03:00   96.832328  \n",
       "2023-06-09 09:04:00   71.282263  \n",
       "2023-06-09 09:05:00   81.795823  \n",
       "2023-06-09 09:06:00   75.618365  \n",
       "2023-06-09 09:07:00   62.306964  \n",
       "2023-06-09 09:08:00   49.692571  \n",
       "2023-06-09 09:09:00   37.709947  \n",
       "2023-06-09 09:10:00    2.564843  \n",
       "2023-06-09 09:11:00  -12.862340  \n",
       "2023-06-09 09:12:00   -0.168035  \n",
       "2023-06-09 09:13:00  -13.124251  \n",
       "2023-06-09 09:14:00   -9.582835  \n",
       "2023-06-09 09:15:00   -3.881708  \n",
       "2023-06-09 09:16:00   -9.261691  \n",
       "2023-06-09 09:17:00   -5.428430  \n",
       "2023-06-09 09:18:00   -7.568748  \n",
       "2023-06-09 09:19:00   11.773193  \n",
       "2023-06-09 09:20:00    2.386994  \n",
       "2023-06-09 09:21:00    8.323341  \n",
       "2023-06-09 09:22:00    8.217937  \n",
       "2023-06-09 09:23:00   22.410426  \n",
       "2023-06-09 09:24:00   43.399878  \n",
       "2023-06-09 09:25:00   66.214142  \n",
       "2023-06-09 09:26:00   46.773425  \n",
       "2023-06-09 09:27:00   30.410921  \n",
       "2023-06-09 09:28:00   14.709259  \n",
       "2023-06-09 09:29:00   19.480374  \n",
       "2023-06-09 09:30:00   15.732642  \n",
       "2023-06-09 09:31:00   20.652273  \n",
       "2023-06-09 09:32:00   10.358865  \n",
       "2023-06-09 09:33:00   18.521947  \n",
       "2023-06-09 09:34:00    3.425303  \n",
       "2023-06-09 09:35:00   20.266738  \n",
       "2023-06-09 09:36:00   43.876028  \n",
       "2023-06-09 09:37:00   55.049483  \n",
       "2023-06-09 09:38:00   43.898849  \n",
       "2023-06-09 09:39:00   29.620917  \n",
       "2023-06-09 09:40:00   29.983958  \n",
       "2023-06-09 09:41:00   24.097709  \n",
       "2023-06-09 09:42:00   47.199138  \n",
       "2023-06-09 09:43:00   24.907275  \n",
       "2023-06-09 09:44:00   10.380454  \n",
       "2023-06-09 09:45:00   29.622557  \n",
       "2023-06-09 09:46:00   45.994319  \n",
       "2023-06-09 09:47:00   69.271289  \n",
       "2023-06-09 09:48:00   96.549428  \n",
       "2023-06-09 09:49:00   88.686072  \n",
       "2023-06-09 09:50:00   69.781684  "
      ]
     },
     "execution_count": 51,
     "metadata": {},
     "output_type": "execute_result"
    }
   ],
   "source": [
    "d2_ohlc.head(50)"
   ]
  },
  {
   "cell_type": "code",
   "execution_count": 50,
   "id": "d9bbc93e",
   "metadata": {},
   "outputs": [
    {
     "data": {
      "text/plain": [
       "[]"
      ]
     },
     "execution_count": 50,
     "metadata": {},
     "output_type": "execute_result"
    }
   ],
   "source": [
    "fig, ax1 = plt.subplots()\n",
    "\n",
    "ax1.plot(d2_ohlc.close, c='b', marker='.', label='close price')\n",
    "\n",
    "ax2 = ax1.twinx()\n",
    "ax2.plot(d2_ohlc.kdj_k, c='w', marker='o', label='K')\n",
    "ax2.plot(d2_ohlc.kdj_d, c='y', marker='o', label='D')\n",
    "ax2.plot(d2_ohlc.kdj_j, c='purple', marker='o', label='J')\n",
    "\n",
    "\n",
    "lines, labels = ax1.get_legend_handles_labels()\n",
    "lines2, labels2 = ax2.get_legend_handles_labels()\n",
    "ax2.legend(lines + lines2, labels + labels2, loc=0)\n",
    "\n",
    "plt.plot()"
   ]
  },
  {
   "cell_type": "code",
   "execution_count": null,
   "id": "b525d140",
   "metadata": {},
   "outputs": [],
   "source": []
  },
  {
   "cell_type": "markdown",
   "id": "51187171",
   "metadata": {},
   "source": [
    "### 多维"
   ]
  },
  {
   "cell_type": "code",
   "execution_count": 5,
   "id": "f376d7f6",
   "metadata": {},
   "outputs": [],
   "source": [
    "store = pd.HDFStore('D:/option/SHFE.rb.h5', 'r')\n",
    "df = store['rb']\n",
    "store.close()"
   ]
  },
  {
   "cell_type": "code",
   "execution_count": 7,
   "id": "2e24e592",
   "metadata": {},
   "outputs": [],
   "source": [
    "window_size = 32\n",
    "rule = '30S'\n",
    "window = '15T'\n",
    "start_index = int(60 / 30)"
   ]
  },
  {
   "cell_type": "code",
   "execution_count": 8,
   "id": "70845d67",
   "metadata": {},
   "outputs": [],
   "source": [
    "SAVE_PATH = os.path.join('D:/option/master/dims/diff', '%s_%s' % (rule, window))\n",
    "if not os.path.exists(SAVE_PATH): os.makedirs(SAVE_PATH)"
   ]
  },
  {
   "cell_type": "code",
   "execution_count": 9,
   "id": "8a9d863a",
   "metadata": {},
   "outputs": [],
   "source": [
    "def prepare_data(df, exchange, symbol, window_size, rule, window, start_index, save_path):\n",
    "    \n",
    "    between_times = [['09:00', '10:15'], ['10:30', '11:30'], ['13:30', '15:00'], ['21:00', '23:00']]\n",
    "    \n",
    "    def _prepare_data(x, window_size):\n",
    "        n_row = x.shape[0] - window_size + 1\n",
    "        output = np.lib.stride_tricks.as_strided(x, shape=(n_row, window_size), strides=(x.strides[0],x.strides[0]))\n",
    "        return output[:-1]\n",
    "    \n",
    "    with tqdm.tqdm(np.unique(df.index.date)) as bar:\n",
    "        bar.set_description('%s %s' % (exchange, symbol))\n",
    "        for d in bar:\n",
    "            day_df = df[df.index.date == d]\n",
    "            p = os.path.join(save_path, '%s.%s.%s.%s.%s.%s.h5' % (exchange, symbol, datetime.datetime.strftime(d, '%Y-%m-%d'), rule, window, day_df.shape[0]))\n",
    "            if os.path.exists(p):\n",
    "                continue\n",
    "            if day_df.shape[0] > 1:\n",
    "                day_df_price = day_df.last_price.resample(rule).last()\n",
    "#                 day_df_price = day_df_price.interpolate()\n",
    "#                 day_df_price = day_df_price.dropna()\n",
    "                \n",
    "                day_df_volume = day_df.volume.resample(rule).mean()\n",
    "            \n",
    "                day_df_amount = day_df.amount.resample(rule).mean()\n",
    "                \n",
    "                train_last_prices = []\n",
    "                train_volumes = []\n",
    "                train_amounts = []\n",
    "                \n",
    "                train_ys = []\n",
    "                \n",
    "                last_prices = []\n",
    "                \n",
    "                for (start, end) in between_times:\n",
    "                    # X\n",
    "                    _df_price = day_df_price.between_time(start, end)\n",
    "                    _df_volume = day_df_volume.between_time(start, end)\n",
    "                    _df_amount = day_df_amount.between_time(start, end)\n",
    "\n",
    "                    if _df_price.shape[0] > 10:\n",
    "                        X_price_roll = _df_price.rolling(window).mean().diff(1)[start_index:]\n",
    "                        X_volume_roll = _df_volume.rolling(window).mean().diff(1)[start_index:]\n",
    "                        X_amount_roll = _df_amount.rolling(window).mean().diff(1)[start_index:]\n",
    "                        \n",
    "                        last_price = _df_price.iloc[start_index:].iloc[window_size:]\n",
    "                        \n",
    "                        X_price = _prepare_data(X_price_roll.to_numpy(), window_size=window_size)\n",
    "                        X_volume = _prepare_data(X_volume_roll.to_numpy(), window_size=window_size)\n",
    "                        X_amount = _prepare_data(X_amount_roll.to_numpy(), window_size=window_size)\n",
    "                        \n",
    "                        train_ys.append(pd.DataFrame(X_price_roll[window_size:].values, index=last_price.index, columns=['y']))\n",
    "                        \n",
    "                        train_last_prices.append(pd.DataFrame(X_price, index=last_price.index))\n",
    "                        train_volumes.append(pd.DataFrame(X_volume, index=last_price.index))\n",
    "                        train_amounts.append(pd.DataFrame(X_amount, index=last_price.index))\n",
    "                        \n",
    "                        last_prices.append(pd.DataFrame(last_price.values, index=last_price.index, columns=['price']))\n",
    "                                                    \n",
    "                    if len(train_last_prices) > 0:\n",
    "                        train_last_price = pd.concat(train_last_prices)\n",
    "                        train_volume = pd.concat(train_volumes)\n",
    "                        train_amount = pd.concat(train_amounts)\n",
    "                        \n",
    "                        df_last_price = pd.concat(last_prices)\n",
    "                        \n",
    "                        train_y = pd.concat(train_ys)\n",
    "\n",
    "                        store = pd.HDFStore(p, 'w', complevel=7)\n",
    "\n",
    "                        store.append('X_price', train_last_price)\n",
    "                        store.append('X_volume', train_volume)\n",
    "                        store.append('X_amount', train_amount)\n",
    "                        \n",
    "                        store.append('price', df_last_price)\n",
    "                        \n",
    "                        store.append('y', train_y)\n",
    "                        \n",
    "                        \n",
    "                        store.flush()\n",
    "                        store.close()\n",
    "            "
   ]
  },
  {
   "cell_type": "code",
   "execution_count": 10,
   "id": "44205304",
   "metadata": {},
   "outputs": [
    {
     "name": "stderr",
     "output_type": "stream",
     "text": [
      "SHFE rb: 100%|███████████████████████████████| 532/532 [41:00<00:00,  4.63s/it]\n"
     ]
    }
   ],
   "source": [
    "prepare_data(df[['last_price', 'volume', 'amount']], 'SHFE', 'rb', window_size, rule, window, start_index, SAVE_PATH)"
   ]
  },
  {
   "cell_type": "code",
   "execution_count": null,
   "id": "779a6b79",
   "metadata": {},
   "outputs": [],
   "source": []
  },
  {
   "cell_type": "code",
   "execution_count": null,
   "id": "31337365",
   "metadata": {},
   "outputs": [],
   "source": []
  },
  {
   "cell_type": "code",
   "execution_count": 11,
   "id": "3a124361",
   "metadata": {},
   "outputs": [],
   "source": [
    "a = os.path.join('D:/option/master/dims/diff/30S_15T', 'SHFE.rb.2021-04-06.30S.15T.41253.h5')\n",
    "store = pd.HDFStore(a, 'r')\n",
    "y = store['y']\n",
    "store.close()"
   ]
  },
  {
   "cell_type": "code",
   "execution_count": 16,
   "id": "f59f043f",
   "metadata": {},
   "outputs": [
    {
     "data": {
      "text/plain": [
       "[<matplotlib.lines.Line2D at 0x220da62d2c8>]"
      ]
     },
     "execution_count": 16,
     "metadata": {},
     "output_type": "execute_result"
    }
   ],
   "source": [
    "plt.plot(y.values, label='real', color='r', marker='.')"
   ]
  },
  {
   "cell_type": "code",
   "execution_count": null,
   "id": "a977f61b",
   "metadata": {},
   "outputs": [],
   "source": []
  },
  {
   "cell_type": "code",
   "execution_count": null,
   "id": "9e06e40c",
   "metadata": {},
   "outputs": [],
   "source": []
  },
  {
   "cell_type": "code",
   "execution_count": null,
   "id": "85d36011",
   "metadata": {},
   "outputs": [],
   "source": []
  },
  {
   "cell_type": "code",
   "execution_count": null,
   "id": "818579d1",
   "metadata": {},
   "outputs": [],
   "source": []
  },
  {
   "cell_type": "code",
   "execution_count": 46,
   "id": "0215e59c",
   "metadata": {},
   "outputs": [],
   "source": [
    "price = 3800\n",
    "price_call = 3900\n",
    "price_put = 3750\n",
    "\n",
    "exchange = 'SHFE'\n",
    "target_symbol = 'rb2308'\n",
    "call_symbol = '%sC%s' % (target_symbol, price_call)\n",
    "put_symbol = '%sC%s' % (target_symbol, price_put)"
   ]
  },
  {
   "cell_type": "code",
   "execution_count": 47,
   "id": "957cad4a",
   "metadata": {},
   "outputs": [
    {
     "name": "stdout",
     "output_type": "stream",
     "text": [
      "load Y:/ctp_data\\2023-07-12\\SHFE.rb2308.h5\n",
      "load Y:/ctp_data\\2023-07-13\\SHFE.rb2308.h5\n",
      "load Y:/ctp_data\\2023-07-14\\SHFE.rb2308.h5\n",
      "load Y:/ctp_data\\2023-07-17\\SHFE.rb2308.h5\n",
      "load Y:/ctp_data\\2023-07-18\\SHFE.rb2308.h5\n",
      "load Y:/ctp_data\\2023-07-19\\SHFE.rb2308.h5\n",
      "load Y:/ctp_data\\2023-07-20\\SHFE.rb2308.h5\n",
      "load Y:/ctp_data\\2023-07-12\\SHFE.rb2308C3900.h5\n",
      "load Y:/ctp_data\\2023-07-13\\SHFE.rb2308C3900.h5\n",
      "load Y:/ctp_data\\2023-07-14\\SHFE.rb2308C3900.h5\n",
      "load Y:/ctp_data\\2023-07-17\\SHFE.rb2308C3900.h5\n",
      "load Y:/ctp_data\\2023-07-18\\SHFE.rb2308C3900.h5\n",
      "load Y:/ctp_data\\2023-07-19\\SHFE.rb2308C3900.h5\n",
      "load Y:/ctp_data\\2023-07-20\\SHFE.rb2308C3900.h5\n",
      "load Y:/ctp_data\\2023-07-12\\SHFE.rb2308C3750.h5\n",
      "load Y:/ctp_data\\2023-07-13\\SHFE.rb2308C3750.h5\n",
      "load Y:/ctp_data\\2023-07-14\\SHFE.rb2308C3750.h5\n",
      "load Y:/ctp_data\\2023-07-17\\SHFE.rb2308C3750.h5\n",
      "load Y:/ctp_data\\2023-07-18\\SHFE.rb2308C3750.h5\n",
      "load Y:/ctp_data\\2023-07-19\\SHFE.rb2308C3750.h5\n",
      "load Y:/ctp_data\\2023-07-20\\SHFE.rb2308C3750.h5\n"
     ]
    }
   ],
   "source": [
    "target_df = load(exchange, target_symbol, '2023-07-11', resample='1S')\n",
    "call_df = load(exchange, call_symbol, '2023-07-11', resample='1S')\n",
    "put_df = load(exchange, put_symbol, '2023-07-11', resample='1S')"
   ]
  },
  {
   "cell_type": "code",
   "execution_count": null,
   "id": "c9cfe029",
   "metadata": {},
   "outputs": [],
   "source": []
  },
  {
   "cell_type": "code",
   "execution_count": 48,
   "id": "ab452f52",
   "metadata": {},
   "outputs": [
    {
     "data": {
      "text/html": [
       "<div>\n",
       "<style scoped>\n",
       "    .dataframe tbody tr th:only-of-type {\n",
       "        vertical-align: middle;\n",
       "    }\n",
       "\n",
       "    .dataframe tbody tr th {\n",
       "        vertical-align: top;\n",
       "    }\n",
       "\n",
       "    .dataframe thead th {\n",
       "        text-align: right;\n",
       "    }\n",
       "</style>\n",
       "<table border=\"1\" class=\"dataframe\">\n",
       "  <thead>\n",
       "    <tr style=\"text-align: right;\">\n",
       "      <th></th>\n",
       "      <th>datetime</th>\n",
       "      <th>last_price</th>\n",
       "      <th>volume</th>\n",
       "      <th>amount</th>\n",
       "      <th>open_interest</th>\n",
       "      <th>bid_price1</th>\n",
       "      <th>bid_volume1</th>\n",
       "      <th>ask_price1</th>\n",
       "      <th>ask_volume1</th>\n",
       "    </tr>\n",
       "    <tr>\n",
       "      <th>datetime</th>\n",
       "      <th></th>\n",
       "      <th></th>\n",
       "      <th></th>\n",
       "      <th></th>\n",
       "      <th></th>\n",
       "      <th></th>\n",
       "      <th></th>\n",
       "      <th></th>\n",
       "      <th></th>\n",
       "    </tr>\n",
       "  </thead>\n",
       "  <tbody>\n",
       "    <tr>\n",
       "      <th>2023-07-12 09:05:00</th>\n",
       "      <td>2023-07-12 09:05:00.500</td>\n",
       "      <td>3687.0</td>\n",
       "      <td>3339.0</td>\n",
       "      <td>122923170.0</td>\n",
       "      <td>33144.0</td>\n",
       "      <td>3687.0</td>\n",
       "      <td>8.0</td>\n",
       "      <td>3689.0</td>\n",
       "      <td>26.0</td>\n",
       "    </tr>\n",
       "    <tr>\n",
       "      <th>2023-07-12 09:05:01</th>\n",
       "      <td>2023-07-12 09:05:01.500</td>\n",
       "      <td>3687.0</td>\n",
       "      <td>3345.0</td>\n",
       "      <td>123144390.0</td>\n",
       "      <td>33138.0</td>\n",
       "      <td>3687.0</td>\n",
       "      <td>2.0</td>\n",
       "      <td>3689.0</td>\n",
       "      <td>34.0</td>\n",
       "    </tr>\n",
       "    <tr>\n",
       "      <th>2023-07-12 09:05:02</th>\n",
       "      <td>2023-07-12 09:05:01.500</td>\n",
       "      <td>3687.0</td>\n",
       "      <td>3345.0</td>\n",
       "      <td>123144390.0</td>\n",
       "      <td>33138.0</td>\n",
       "      <td>3687.0</td>\n",
       "      <td>2.0</td>\n",
       "      <td>3689.0</td>\n",
       "      <td>34.0</td>\n",
       "    </tr>\n",
       "    <tr>\n",
       "      <th>2023-07-12 09:05:03</th>\n",
       "      <td>2023-07-12 09:05:03.500</td>\n",
       "      <td>3687.0</td>\n",
       "      <td>3347.0</td>\n",
       "      <td>123218130.0</td>\n",
       "      <td>33136.0</td>\n",
       "      <td>3686.0</td>\n",
       "      <td>8.0</td>\n",
       "      <td>3689.0</td>\n",
       "      <td>84.0</td>\n",
       "    </tr>\n",
       "    <tr>\n",
       "      <th>2023-07-12 09:05:04</th>\n",
       "      <td>2023-07-12 09:05:04.500</td>\n",
       "      <td>3687.0</td>\n",
       "      <td>3347.0</td>\n",
       "      <td>123218130.0</td>\n",
       "      <td>33136.0</td>\n",
       "      <td>3687.0</td>\n",
       "      <td>6.0</td>\n",
       "      <td>3689.0</td>\n",
       "      <td>34.0</td>\n",
       "    </tr>\n",
       "    <tr>\n",
       "      <th>...</th>\n",
       "      <td>...</td>\n",
       "      <td>...</td>\n",
       "      <td>...</td>\n",
       "      <td>...</td>\n",
       "      <td>...</td>\n",
       "      <td>...</td>\n",
       "      <td>...</td>\n",
       "      <td>...</td>\n",
       "      <td>...</td>\n",
       "    </tr>\n",
       "    <tr>\n",
       "      <th>2023-07-20 22:54:56</th>\n",
       "      <td>2023-07-20 22:54:56.500</td>\n",
       "      <td>3734.0</td>\n",
       "      <td>5629.0</td>\n",
       "      <td>210899550.0</td>\n",
       "      <td>24741.0</td>\n",
       "      <td>3733.0</td>\n",
       "      <td>7.0</td>\n",
       "      <td>3735.0</td>\n",
       "      <td>29.0</td>\n",
       "    </tr>\n",
       "    <tr>\n",
       "      <th>2023-07-20 22:54:57</th>\n",
       "      <td>2023-07-20 22:54:57.500</td>\n",
       "      <td>3734.0</td>\n",
       "      <td>5629.0</td>\n",
       "      <td>210899550.0</td>\n",
       "      <td>24741.0</td>\n",
       "      <td>3733.0</td>\n",
       "      <td>7.0</td>\n",
       "      <td>3735.0</td>\n",
       "      <td>25.0</td>\n",
       "    </tr>\n",
       "    <tr>\n",
       "      <th>2023-07-20 22:54:58</th>\n",
       "      <td>2023-07-20 22:54:58.500</td>\n",
       "      <td>3734.0</td>\n",
       "      <td>5629.0</td>\n",
       "      <td>210899550.0</td>\n",
       "      <td>24741.0</td>\n",
       "      <td>3733.0</td>\n",
       "      <td>7.0</td>\n",
       "      <td>3735.0</td>\n",
       "      <td>25.0</td>\n",
       "    </tr>\n",
       "    <tr>\n",
       "      <th>2023-07-20 22:54:59</th>\n",
       "      <td>2023-07-20 22:54:59.500</td>\n",
       "      <td>3734.0</td>\n",
       "      <td>5629.0</td>\n",
       "      <td>210899550.0</td>\n",
       "      <td>24741.0</td>\n",
       "      <td>3733.0</td>\n",
       "      <td>7.0</td>\n",
       "      <td>3735.0</td>\n",
       "      <td>17.0</td>\n",
       "    </tr>\n",
       "    <tr>\n",
       "      <th>2023-07-20 22:55:00</th>\n",
       "      <td>2023-07-20 22:55:00.000</td>\n",
       "      <td>3734.0</td>\n",
       "      <td>5629.0</td>\n",
       "      <td>210899550.0</td>\n",
       "      <td>24741.0</td>\n",
       "      <td>3733.0</td>\n",
       "      <td>7.0</td>\n",
       "      <td>3735.0</td>\n",
       "      <td>25.0</td>\n",
       "    </tr>\n",
       "  </tbody>\n",
       "</table>\n",
       "<p>128127 rows × 9 columns</p>\n",
       "</div>"
      ],
      "text/plain": [
       "                                   datetime  last_price  volume       amount  \\\n",
       "datetime                                                                       \n",
       "2023-07-12 09:05:00 2023-07-12 09:05:00.500      3687.0  3339.0  122923170.0   \n",
       "2023-07-12 09:05:01 2023-07-12 09:05:01.500      3687.0  3345.0  123144390.0   \n",
       "2023-07-12 09:05:02 2023-07-12 09:05:01.500      3687.0  3345.0  123144390.0   \n",
       "2023-07-12 09:05:03 2023-07-12 09:05:03.500      3687.0  3347.0  123218130.0   \n",
       "2023-07-12 09:05:04 2023-07-12 09:05:04.500      3687.0  3347.0  123218130.0   \n",
       "...                                     ...         ...     ...          ...   \n",
       "2023-07-20 22:54:56 2023-07-20 22:54:56.500      3734.0  5629.0  210899550.0   \n",
       "2023-07-20 22:54:57 2023-07-20 22:54:57.500      3734.0  5629.0  210899550.0   \n",
       "2023-07-20 22:54:58 2023-07-20 22:54:58.500      3734.0  5629.0  210899550.0   \n",
       "2023-07-20 22:54:59 2023-07-20 22:54:59.500      3734.0  5629.0  210899550.0   \n",
       "2023-07-20 22:55:00 2023-07-20 22:55:00.000      3734.0  5629.0  210899550.0   \n",
       "\n",
       "                     open_interest  bid_price1  bid_volume1  ask_price1  \\\n",
       "datetime                                                                  \n",
       "2023-07-12 09:05:00        33144.0      3687.0          8.0      3689.0   \n",
       "2023-07-12 09:05:01        33138.0      3687.0          2.0      3689.0   \n",
       "2023-07-12 09:05:02        33138.0      3687.0          2.0      3689.0   \n",
       "2023-07-12 09:05:03        33136.0      3686.0          8.0      3689.0   \n",
       "2023-07-12 09:05:04        33136.0      3687.0          6.0      3689.0   \n",
       "...                            ...         ...          ...         ...   \n",
       "2023-07-20 22:54:56        24741.0      3733.0          7.0      3735.0   \n",
       "2023-07-20 22:54:57        24741.0      3733.0          7.0      3735.0   \n",
       "2023-07-20 22:54:58        24741.0      3733.0          7.0      3735.0   \n",
       "2023-07-20 22:54:59        24741.0      3733.0          7.0      3735.0   \n",
       "2023-07-20 22:55:00        24741.0      3733.0          7.0      3735.0   \n",
       "\n",
       "                     ask_volume1  \n",
       "datetime                          \n",
       "2023-07-12 09:05:00         26.0  \n",
       "2023-07-12 09:05:01         34.0  \n",
       "2023-07-12 09:05:02         34.0  \n",
       "2023-07-12 09:05:03         84.0  \n",
       "2023-07-12 09:05:04         34.0  \n",
       "...                          ...  \n",
       "2023-07-20 22:54:56         29.0  \n",
       "2023-07-20 22:54:57         25.0  \n",
       "2023-07-20 22:54:58         25.0  \n",
       "2023-07-20 22:54:59         17.0  \n",
       "2023-07-20 22:55:00         25.0  \n",
       "\n",
       "[128127 rows x 9 columns]"
      ]
     },
     "execution_count": 48,
     "metadata": {},
     "output_type": "execute_result"
    }
   ],
   "source": [
    "target_df"
   ]
  },
  {
   "cell_type": "code",
   "execution_count": 49,
   "id": "0e205c2a",
   "metadata": {},
   "outputs": [],
   "source": [
    "# a = call_df.last_price - put_df.last_price\n",
    "# a = a.ffill()"
   ]
  },
  {
   "cell_type": "code",
   "execution_count": 50,
   "id": "cf47e4fc",
   "metadata": {},
   "outputs": [],
   "source": [
    "b = target_df.last_price.diff(1)"
   ]
  },
  {
   "cell_type": "code",
   "execution_count": 51,
   "id": "52dce411",
   "metadata": {},
   "outputs": [],
   "source": [
    "# c = a - b"
   ]
  },
  {
   "cell_type": "code",
   "execution_count": 52,
   "id": "070bb007",
   "metadata": {},
   "outputs": [],
   "source": [
    "d = call_df.bid_price1 - put_df.ask_price1"
   ]
  },
  {
   "cell_type": "code",
   "execution_count": 54,
   "id": "917a6131",
   "metadata": {},
   "outputs": [],
   "source": [
    "e = target_df.last_price - d"
   ]
  },
  {
   "cell_type": "code",
   "execution_count": 91,
   "id": "e8b5d0c5",
   "metadata": {},
   "outputs": [],
   "source": [
    "f = target_df.last_price + call_df.bid_price1 - put_df.ask_price1"
   ]
  },
  {
   "cell_type": "code",
   "execution_count": 60,
   "id": "43b9a41b",
   "metadata": {},
   "outputs": [],
   "source": [
    "# f = e - b"
   ]
  },
  {
   "cell_type": "code",
   "execution_count": 80,
   "id": "aed487f3",
   "metadata": {},
   "outputs": [],
   "source": [
    "# g = np.gradient(target_df.last_price, 1)"
   ]
  },
  {
   "cell_type": "code",
   "execution_count": 77,
   "id": "9ba48169",
   "metadata": {},
   "outputs": [],
   "source": [
    "# d.loc[np.abs(d) > 100000] = np.nan\n",
    "# d.loc[np.abs(d) > 160] = np.nan"
   ]
  },
  {
   "cell_type": "code",
   "execution_count": 93,
   "id": "6cb0f76e",
   "metadata": {},
   "outputs": [],
   "source": [
    "fig, ax1 = plt.subplots()\n",
    "\n",
    "\n",
    "ax1.plot(target_df.last_price.values, c='aqua', label='标的价格')\n",
    "# ax1.plot(e.values, c='gold', label='标的价格')\n",
    "# ax1.plot(f.values, c='purple', label='标的价格')\n",
    "\n",
    "ax2 = ax1.twinx()\n",
    "# ax2.plot(-c.values, c='r', label='价差最新价')\n",
    "# ax2.plot(-d.values, c='b', label='价差买卖价')\n",
    "\n",
    "# ax2.plot(g, c='pink', label='标的导数')\n",
    "ax2.plot(f.values, c='purple', label='标的价格')\n",
    "ax2.plot(e.values, c='gold', label='标的价格')\n",
    "\n",
    "lines, labels = ax1.get_legend_handles_labels()\n",
    "lines2, labels2 = ax2.get_legend_handles_labels()\n",
    "ax2.legend(lines + lines2, labels + labels2, loc=0)\n",
    "\n",
    "# plt.title()\n",
    "\n",
    "plt.show()"
   ]
  },
  {
   "cell_type": "code",
   "execution_count": 21,
   "id": "b55a8bd8",
   "metadata": {},
   "outputs": [],
   "source": []
  },
  {
   "cell_type": "code",
   "execution_count": 24,
   "id": "7de8ab5b",
   "metadata": {},
   "outputs": [
    {
     "data": {
      "text/plain": [
       "datetime\n",
       "2023-07-12 09:00:00       NaN\n",
       "2023-07-12 09:00:01       NaN\n",
       "2023-07-12 09:00:02       NaN\n",
       "2023-07-12 09:00:03       NaN\n",
       "2023-07-12 09:00:04       NaN\n",
       "                        ...  \n",
       "2023-07-20 22:59:56    3803.0\n",
       "2023-07-20 22:59:57    3803.0\n",
       "2023-07-20 22:59:58    3803.0\n",
       "2023-07-20 22:59:59       NaN\n",
       "2023-07-20 23:00:00       NaN\n",
       "Length: 144903, dtype: float64"
      ]
     },
     "execution_count": 24,
     "metadata": {},
     "output_type": "execute_result"
    }
   ],
   "source": [
    "e"
   ]
  },
  {
   "cell_type": "code",
   "execution_count": null,
   "id": "ce19e20e",
   "metadata": {},
   "outputs": [],
   "source": []
  },
  {
   "cell_type": "code",
   "execution_count": null,
   "id": "a528a3ac",
   "metadata": {},
   "outputs": [],
   "source": []
  },
  {
   "cell_type": "code",
   "execution_count": 5,
   "id": "97b08779",
   "metadata": {},
   "outputs": [],
   "source": [
    "exchange = 'SHFE'\n",
    "target_symbol = 'rb2308'"
   ]
  },
  {
   "cell_type": "code",
   "execution_count": 7,
   "id": "0a0b1ee8",
   "metadata": {},
   "outputs": [
    {
     "name": "stdout",
     "output_type": "stream",
     "text": [
      "load Y:/ctp_data\\2023-07-12\\SHFE.rb2308.h5\n",
      "load Y:/ctp_data\\2023-07-13\\SHFE.rb2308.h5\n",
      "load Y:/ctp_data\\2023-07-14\\SHFE.rb2308.h5\n",
      "load Y:/ctp_data\\2023-07-17\\SHFE.rb2308.h5\n",
      "load Y:/ctp_data\\2023-07-18\\SHFE.rb2308.h5\n",
      "load Y:/ctp_data\\2023-07-19\\SHFE.rb2308.h5\n",
      "load Y:/ctp_data\\2023-07-20\\SHFE.rb2308.h5\n",
      "load Y:/ctp_data\\2023-07-21\\SHFE.rb2308.h5\n"
     ]
    }
   ],
   "source": [
    "df = load(exchange, target_symbol, '2023-07-11', resample='1S')"
   ]
  },
  {
   "cell_type": "code",
   "execution_count": 11,
   "id": "93b25ef1",
   "metadata": {},
   "outputs": [
    {
     "data": {
      "text/html": [
       "<div>\n",
       "<style scoped>\n",
       "    .dataframe tbody tr th:only-of-type {\n",
       "        vertical-align: middle;\n",
       "    }\n",
       "\n",
       "    .dataframe tbody tr th {\n",
       "        vertical-align: top;\n",
       "    }\n",
       "\n",
       "    .dataframe thead th {\n",
       "        text-align: right;\n",
       "    }\n",
       "</style>\n",
       "<table border=\"1\" class=\"dataframe\">\n",
       "  <thead>\n",
       "    <tr style=\"text-align: right;\">\n",
       "      <th></th>\n",
       "      <th>datetime</th>\n",
       "      <th>last_price</th>\n",
       "      <th>volume</th>\n",
       "      <th>amount</th>\n",
       "      <th>open_interest</th>\n",
       "      <th>bid_price1</th>\n",
       "      <th>bid_volume1</th>\n",
       "      <th>ask_price1</th>\n",
       "      <th>ask_volume1</th>\n",
       "    </tr>\n",
       "    <tr>\n",
       "      <th>datetime</th>\n",
       "      <th></th>\n",
       "      <th></th>\n",
       "      <th></th>\n",
       "      <th></th>\n",
       "      <th></th>\n",
       "      <th></th>\n",
       "      <th></th>\n",
       "      <th></th>\n",
       "      <th></th>\n",
       "    </tr>\n",
       "  </thead>\n",
       "  <tbody>\n",
       "    <tr>\n",
       "      <th>2023-07-21 14:41:00</th>\n",
       "      <td>2023-07-21 14:41:00.500</td>\n",
       "      <td>3748.0</td>\n",
       "      <td>10276.0</td>\n",
       "      <td>384457120.0</td>\n",
       "      <td>24133.0</td>\n",
       "      <td>3746.0</td>\n",
       "      <td>18.0</td>\n",
       "      <td>3748.0</td>\n",
       "      <td>3.0</td>\n",
       "    </tr>\n",
       "    <tr>\n",
       "      <th>2023-07-21 14:41:01</th>\n",
       "      <td>2023-07-21 14:41:01.500</td>\n",
       "      <td>3748.0</td>\n",
       "      <td>10276.0</td>\n",
       "      <td>384457120.0</td>\n",
       "      <td>24133.0</td>\n",
       "      <td>3747.0</td>\n",
       "      <td>8.0</td>\n",
       "      <td>3748.0</td>\n",
       "      <td>3.0</td>\n",
       "    </tr>\n",
       "    <tr>\n",
       "      <th>2023-07-21 14:41:02</th>\n",
       "      <td>2023-07-21 14:41:02.500</td>\n",
       "      <td>3748.0</td>\n",
       "      <td>10276.0</td>\n",
       "      <td>384457120.0</td>\n",
       "      <td>24133.0</td>\n",
       "      <td>3747.0</td>\n",
       "      <td>19.0</td>\n",
       "      <td>3748.0</td>\n",
       "      <td>2.0</td>\n",
       "    </tr>\n",
       "    <tr>\n",
       "      <th>2023-07-21 14:41:03</th>\n",
       "      <td>2023-07-21 14:41:03.500</td>\n",
       "      <td>3748.0</td>\n",
       "      <td>10278.0</td>\n",
       "      <td>384532080.0</td>\n",
       "      <td>24133.0</td>\n",
       "      <td>3747.0</td>\n",
       "      <td>19.0</td>\n",
       "      <td>3749.0</td>\n",
       "      <td>14.0</td>\n",
       "    </tr>\n",
       "    <tr>\n",
       "      <th>2023-07-21 14:41:04</th>\n",
       "      <td>2023-07-21 14:41:04.500</td>\n",
       "      <td>3747.0</td>\n",
       "      <td>10281.0</td>\n",
       "      <td>384644490.0</td>\n",
       "      <td>24133.0</td>\n",
       "      <td>3747.0</td>\n",
       "      <td>12.0</td>\n",
       "      <td>3749.0</td>\n",
       "      <td>32.0</td>\n",
       "    </tr>\n",
       "    <tr>\n",
       "      <th>...</th>\n",
       "      <td>...</td>\n",
       "      <td>...</td>\n",
       "      <td>...</td>\n",
       "      <td>...</td>\n",
       "      <td>...</td>\n",
       "      <td>...</td>\n",
       "      <td>...</td>\n",
       "      <td>...</td>\n",
       "      <td>...</td>\n",
       "    </tr>\n",
       "    <tr>\n",
       "      <th>2023-07-21 14:58:55</th>\n",
       "      <td>2023-07-21 14:58:53.000</td>\n",
       "      <td>3777.0</td>\n",
       "      <td>13536.0</td>\n",
       "      <td>507232630.0</td>\n",
       "      <td>24745.0</td>\n",
       "      <td>3775.0</td>\n",
       "      <td>6.0</td>\n",
       "      <td>3778.0</td>\n",
       "      <td>3.0</td>\n",
       "    </tr>\n",
       "    <tr>\n",
       "      <th>2023-07-21 14:58:56</th>\n",
       "      <td>2023-07-21 14:58:56.500</td>\n",
       "      <td>3777.0</td>\n",
       "      <td>13536.0</td>\n",
       "      <td>507232630.0</td>\n",
       "      <td>24745.0</td>\n",
       "      <td>3775.0</td>\n",
       "      <td>6.0</td>\n",
       "      <td>3778.0</td>\n",
       "      <td>28.0</td>\n",
       "    </tr>\n",
       "    <tr>\n",
       "      <th>2023-07-21 14:58:57</th>\n",
       "      <td>2023-07-21 14:58:57.000</td>\n",
       "      <td>3777.0</td>\n",
       "      <td>13536.0</td>\n",
       "      <td>507232630.0</td>\n",
       "      <td>24745.0</td>\n",
       "      <td>3775.0</td>\n",
       "      <td>6.0</td>\n",
       "      <td>3778.0</td>\n",
       "      <td>3.0</td>\n",
       "    </tr>\n",
       "    <tr>\n",
       "      <th>2023-07-21 14:58:58</th>\n",
       "      <td>2023-07-21 14:58:58.000</td>\n",
       "      <td>3777.0</td>\n",
       "      <td>13536.0</td>\n",
       "      <td>507232630.0</td>\n",
       "      <td>24745.0</td>\n",
       "      <td>3775.0</td>\n",
       "      <td>6.0</td>\n",
       "      <td>3778.0</td>\n",
       "      <td>28.0</td>\n",
       "    </tr>\n",
       "    <tr>\n",
       "      <th>2023-07-21 14:58:59</th>\n",
       "      <td>2023-07-21 14:58:59.500</td>\n",
       "      <td>3777.0</td>\n",
       "      <td>13536.0</td>\n",
       "      <td>507232630.0</td>\n",
       "      <td>24745.0</td>\n",
       "      <td>3775.0</td>\n",
       "      <td>6.0</td>\n",
       "      <td>3778.0</td>\n",
       "      <td>3.0</td>\n",
       "    </tr>\n",
       "  </tbody>\n",
       "</table>\n",
       "<p>1080 rows × 9 columns</p>\n",
       "</div>"
      ],
      "text/plain": [
       "                                   datetime  last_price   volume       amount  \\\n",
       "datetime                                                                        \n",
       "2023-07-21 14:41:00 2023-07-21 14:41:00.500      3748.0  10276.0  384457120.0   \n",
       "2023-07-21 14:41:01 2023-07-21 14:41:01.500      3748.0  10276.0  384457120.0   \n",
       "2023-07-21 14:41:02 2023-07-21 14:41:02.500      3748.0  10276.0  384457120.0   \n",
       "2023-07-21 14:41:03 2023-07-21 14:41:03.500      3748.0  10278.0  384532080.0   \n",
       "2023-07-21 14:41:04 2023-07-21 14:41:04.500      3747.0  10281.0  384644490.0   \n",
       "...                                     ...         ...      ...          ...   \n",
       "2023-07-21 14:58:55 2023-07-21 14:58:53.000      3777.0  13536.0  507232630.0   \n",
       "2023-07-21 14:58:56 2023-07-21 14:58:56.500      3777.0  13536.0  507232630.0   \n",
       "2023-07-21 14:58:57 2023-07-21 14:58:57.000      3777.0  13536.0  507232630.0   \n",
       "2023-07-21 14:58:58 2023-07-21 14:58:58.000      3777.0  13536.0  507232630.0   \n",
       "2023-07-21 14:58:59 2023-07-21 14:58:59.500      3777.0  13536.0  507232630.0   \n",
       "\n",
       "                     open_interest  bid_price1  bid_volume1  ask_price1  \\\n",
       "datetime                                                                  \n",
       "2023-07-21 14:41:00        24133.0      3746.0         18.0      3748.0   \n",
       "2023-07-21 14:41:01        24133.0      3747.0          8.0      3748.0   \n",
       "2023-07-21 14:41:02        24133.0      3747.0         19.0      3748.0   \n",
       "2023-07-21 14:41:03        24133.0      3747.0         19.0      3749.0   \n",
       "2023-07-21 14:41:04        24133.0      3747.0         12.0      3749.0   \n",
       "...                            ...         ...          ...         ...   \n",
       "2023-07-21 14:58:55        24745.0      3775.0          6.0      3778.0   \n",
       "2023-07-21 14:58:56        24745.0      3775.0          6.0      3778.0   \n",
       "2023-07-21 14:58:57        24745.0      3775.0          6.0      3778.0   \n",
       "2023-07-21 14:58:58        24745.0      3775.0          6.0      3778.0   \n",
       "2023-07-21 14:58:59        24745.0      3775.0          6.0      3778.0   \n",
       "\n",
       "                     ask_volume1  \n",
       "datetime                          \n",
       "2023-07-21 14:41:00          3.0  \n",
       "2023-07-21 14:41:01          3.0  \n",
       "2023-07-21 14:41:02          2.0  \n",
       "2023-07-21 14:41:03         14.0  \n",
       "2023-07-21 14:41:04         32.0  \n",
       "...                          ...  \n",
       "2023-07-21 14:58:55          3.0  \n",
       "2023-07-21 14:58:56         28.0  \n",
       "2023-07-21 14:58:57          3.0  \n",
       "2023-07-21 14:58:58         28.0  \n",
       "2023-07-21 14:58:59          3.0  \n",
       "\n",
       "[1080 rows x 9 columns]"
      ]
     },
     "execution_count": 11,
     "metadata": {},
     "output_type": "execute_result"
    }
   ],
   "source": [
    "df.loc['2023-07-21 14:41':'2023-07-21 14:58']"
   ]
  },
  {
   "cell_type": "code",
   "execution_count": 15,
   "id": "f5f3a669",
   "metadata": {},
   "outputs": [],
   "source": [
    "d = df.loc['2023-07-21 14:41':'2023-07-21 14:58',['bid_volume1', 'ask_volume1']]"
   ]
  },
  {
   "cell_type": "code",
   "execution_count": 16,
   "id": "6d0c213d",
   "metadata": {},
   "outputs": [
    {
     "data": {
      "text/html": [
       "<div>\n",
       "<style scoped>\n",
       "    .dataframe tbody tr th:only-of-type {\n",
       "        vertical-align: middle;\n",
       "    }\n",
       "\n",
       "    .dataframe tbody tr th {\n",
       "        vertical-align: top;\n",
       "    }\n",
       "\n",
       "    .dataframe thead th {\n",
       "        text-align: right;\n",
       "    }\n",
       "</style>\n",
       "<table border=\"1\" class=\"dataframe\">\n",
       "  <thead>\n",
       "    <tr style=\"text-align: right;\">\n",
       "      <th></th>\n",
       "      <th>bid_volume1</th>\n",
       "      <th>ask_volume1</th>\n",
       "    </tr>\n",
       "  </thead>\n",
       "  <tbody>\n",
       "    <tr>\n",
       "      <th>count</th>\n",
       "      <td>1080.000000</td>\n",
       "      <td>1080.000000</td>\n",
       "    </tr>\n",
       "    <tr>\n",
       "      <th>mean</th>\n",
       "      <td>24.447222</td>\n",
       "      <td>16.009259</td>\n",
       "    </tr>\n",
       "    <tr>\n",
       "      <th>std</th>\n",
       "      <td>26.615948</td>\n",
       "      <td>14.744092</td>\n",
       "    </tr>\n",
       "    <tr>\n",
       "      <th>min</th>\n",
       "      <td>1.000000</td>\n",
       "      <td>1.000000</td>\n",
       "    </tr>\n",
       "    <tr>\n",
       "      <th>25%</th>\n",
       "      <td>7.000000</td>\n",
       "      <td>8.000000</td>\n",
       "    </tr>\n",
       "    <tr>\n",
       "      <th>50%</th>\n",
       "      <td>14.000000</td>\n",
       "      <td>11.000000</td>\n",
       "    </tr>\n",
       "    <tr>\n",
       "      <th>75%</th>\n",
       "      <td>34.000000</td>\n",
       "      <td>20.000000</td>\n",
       "    </tr>\n",
       "    <tr>\n",
       "      <th>max</th>\n",
       "      <td>224.000000</td>\n",
       "      <td>136.000000</td>\n",
       "    </tr>\n",
       "  </tbody>\n",
       "</table>\n",
       "</div>"
      ],
      "text/plain": [
       "       bid_volume1  ask_volume1\n",
       "count  1080.000000  1080.000000\n",
       "mean     24.447222    16.009259\n",
       "std      26.615948    14.744092\n",
       "min       1.000000     1.000000\n",
       "25%       7.000000     8.000000\n",
       "50%      14.000000    11.000000\n",
       "75%      34.000000    20.000000\n",
       "max     224.000000   136.000000"
      ]
     },
     "execution_count": 16,
     "metadata": {},
     "output_type": "execute_result"
    }
   ],
   "source": [
    "d.describe()"
   ]
  },
  {
   "cell_type": "code",
   "execution_count": 17,
   "id": "24fa150d",
   "metadata": {},
   "outputs": [
    {
     "data": {
      "text/html": [
       "<div>\n",
       "<style scoped>\n",
       "    .dataframe tbody tr th:only-of-type {\n",
       "        vertical-align: middle;\n",
       "    }\n",
       "\n",
       "    .dataframe tbody tr th {\n",
       "        vertical-align: top;\n",
       "    }\n",
       "\n",
       "    .dataframe thead th {\n",
       "        text-align: right;\n",
       "    }\n",
       "</style>\n",
       "<table border=\"1\" class=\"dataframe\">\n",
       "  <thead>\n",
       "    <tr style=\"text-align: right;\">\n",
       "      <th></th>\n",
       "      <th>bid_volume1</th>\n",
       "      <th>ask_volume1</th>\n",
       "    </tr>\n",
       "    <tr>\n",
       "      <th>datetime</th>\n",
       "      <th></th>\n",
       "      <th></th>\n",
       "    </tr>\n",
       "  </thead>\n",
       "  <tbody>\n",
       "    <tr>\n",
       "      <th>2023-07-21 14:52:21</th>\n",
       "      <td>184.0</td>\n",
       "      <td>2.0</td>\n",
       "    </tr>\n",
       "    <tr>\n",
       "      <th>2023-07-21 14:52:38</th>\n",
       "      <td>224.0</td>\n",
       "      <td>8.0</td>\n",
       "    </tr>\n",
       "  </tbody>\n",
       "</table>\n",
       "</div>"
      ],
      "text/plain": [
       "                     bid_volume1  ask_volume1\n",
       "datetime                                     \n",
       "2023-07-21 14:52:21        184.0          2.0\n",
       "2023-07-21 14:52:38        224.0          8.0"
      ]
     },
     "execution_count": 17,
     "metadata": {},
     "output_type": "execute_result"
    }
   ],
   "source": [
    "d[d['bid_volume1'] > 180]"
   ]
  },
  {
   "cell_type": "code",
   "execution_count": 18,
   "id": "25d808e5",
   "metadata": {},
   "outputs": [
    {
     "data": {
      "text/html": [
       "<div>\n",
       "<style scoped>\n",
       "    .dataframe tbody tr th:only-of-type {\n",
       "        vertical-align: middle;\n",
       "    }\n",
       "\n",
       "    .dataframe tbody tr th {\n",
       "        vertical-align: top;\n",
       "    }\n",
       "\n",
       "    .dataframe thead th {\n",
       "        text-align: right;\n",
       "    }\n",
       "</style>\n",
       "<table border=\"1\" class=\"dataframe\">\n",
       "  <thead>\n",
       "    <tr style=\"text-align: right;\">\n",
       "      <th></th>\n",
       "      <th>bid_volume1</th>\n",
       "      <th>ask_volume1</th>\n",
       "    </tr>\n",
       "    <tr>\n",
       "      <th>datetime</th>\n",
       "      <th></th>\n",
       "      <th></th>\n",
       "    </tr>\n",
       "  </thead>\n",
       "  <tbody>\n",
       "    <tr>\n",
       "      <th>2023-07-21 14:41:00</th>\n",
       "      <td>18.0</td>\n",
       "      <td>3.0</td>\n",
       "    </tr>\n",
       "    <tr>\n",
       "      <th>2023-07-21 14:41:01</th>\n",
       "      <td>8.0</td>\n",
       "      <td>3.0</td>\n",
       "    </tr>\n",
       "    <tr>\n",
       "      <th>2023-07-21 14:41:02</th>\n",
       "      <td>19.0</td>\n",
       "      <td>2.0</td>\n",
       "    </tr>\n",
       "    <tr>\n",
       "      <th>2023-07-21 14:41:03</th>\n",
       "      <td>19.0</td>\n",
       "      <td>14.0</td>\n",
       "    </tr>\n",
       "    <tr>\n",
       "      <th>2023-07-21 14:41:04</th>\n",
       "      <td>12.0</td>\n",
       "      <td>32.0</td>\n",
       "    </tr>\n",
       "    <tr>\n",
       "      <th>...</th>\n",
       "      <td>...</td>\n",
       "      <td>...</td>\n",
       "    </tr>\n",
       "    <tr>\n",
       "      <th>2023-07-21 14:58:55</th>\n",
       "      <td>6.0</td>\n",
       "      <td>3.0</td>\n",
       "    </tr>\n",
       "    <tr>\n",
       "      <th>2023-07-21 14:58:56</th>\n",
       "      <td>6.0</td>\n",
       "      <td>28.0</td>\n",
       "    </tr>\n",
       "    <tr>\n",
       "      <th>2023-07-21 14:58:57</th>\n",
       "      <td>6.0</td>\n",
       "      <td>3.0</td>\n",
       "    </tr>\n",
       "    <tr>\n",
       "      <th>2023-07-21 14:58:58</th>\n",
       "      <td>6.0</td>\n",
       "      <td>28.0</td>\n",
       "    </tr>\n",
       "    <tr>\n",
       "      <th>2023-07-21 14:58:59</th>\n",
       "      <td>6.0</td>\n",
       "      <td>3.0</td>\n",
       "    </tr>\n",
       "  </tbody>\n",
       "</table>\n",
       "<p>1080 rows × 2 columns</p>\n",
       "</div>"
      ],
      "text/plain": [
       "                     bid_volume1  ask_volume1\n",
       "datetime                                     \n",
       "2023-07-21 14:41:00         18.0          3.0\n",
       "2023-07-21 14:41:01          8.0          3.0\n",
       "2023-07-21 14:41:02         19.0          2.0\n",
       "2023-07-21 14:41:03         19.0         14.0\n",
       "2023-07-21 14:41:04         12.0         32.0\n",
       "...                          ...          ...\n",
       "2023-07-21 14:58:55          6.0          3.0\n",
       "2023-07-21 14:58:56          6.0         28.0\n",
       "2023-07-21 14:58:57          6.0          3.0\n",
       "2023-07-21 14:58:58          6.0         28.0\n",
       "2023-07-21 14:58:59          6.0          3.0\n",
       "\n",
       "[1080 rows x 2 columns]"
      ]
     },
     "execution_count": 18,
     "metadata": {},
     "output_type": "execute_result"
    }
   ],
   "source": [
    "d"
   ]
  },
  {
   "cell_type": "code",
   "execution_count": null,
   "id": "e051c546",
   "metadata": {},
   "outputs": [],
   "source": []
  },
  {
   "cell_type": "code",
   "execution_count": null,
   "id": "6a3ae8dd",
   "metadata": {},
   "outputs": [],
   "source": []
  },
  {
   "cell_type": "code",
   "execution_count": null,
   "id": "1a2ba5fc",
   "metadata": {},
   "outputs": [],
   "source": []
  },
  {
   "cell_type": "code",
   "execution_count": 25,
   "id": "85a6b75b",
   "metadata": {},
   "outputs": [],
   "source": [
    "price = 3900\n",
    "\n",
    "exchange = 'CZCE' #  'SHFE'\n",
    "target_symbol = 'MA309' # 'rb2310'"
   ]
  },
  {
   "cell_type": "code",
   "execution_count": 26,
   "id": "064fb4b1",
   "metadata": {},
   "outputs": [
    {
     "name": "stdout",
     "output_type": "stream",
     "text": [
      "load Y:/ctp_data\\2023-07-12\\CZCE.MA309.h5\n",
      "load Y:/ctp_data\\2023-07-13\\CZCE.MA309.h5\n",
      "load Y:/ctp_data\\2023-07-14\\CZCE.MA309.h5\n",
      "load Y:/ctp_data\\2023-07-17\\CZCE.MA309.h5\n",
      "load Y:/ctp_data\\2023-07-18\\CZCE.MA309.h5\n",
      "load Y:/ctp_data\\2023-07-19\\CZCE.MA309.h5\n",
      "load Y:/ctp_data\\2023-07-20\\CZCE.MA309.h5\n",
      "load Y:/ctp_data\\2023-07-21\\CZCE.MA309.h5\n",
      "load Y:/ctp_data\\2023-07-24\\CZCE.MA309.h5\n",
      "load Y:/ctp_data\\2023-07-25\\CZCE.MA309.h5\n"
     ]
    }
   ],
   "source": [
    "df = load(exchange, target_symbol, '2023-07-11') # , resample='1S')"
   ]
  },
  {
   "cell_type": "code",
   "execution_count": 29,
   "id": "391ca8d8",
   "metadata": {},
   "outputs": [
    {
     "data": {
      "text/html": [
       "<div>\n",
       "<style scoped>\n",
       "    .dataframe tbody tr th:only-of-type {\n",
       "        vertical-align: middle;\n",
       "    }\n",
       "\n",
       "    .dataframe tbody tr th {\n",
       "        vertical-align: top;\n",
       "    }\n",
       "\n",
       "    .dataframe thead th {\n",
       "        text-align: right;\n",
       "    }\n",
       "</style>\n",
       "<table border=\"1\" class=\"dataframe\">\n",
       "  <thead>\n",
       "    <tr style=\"text-align: right;\">\n",
       "      <th></th>\n",
       "      <th>datetime</th>\n",
       "      <th>last_price</th>\n",
       "      <th>volume</th>\n",
       "      <th>amount</th>\n",
       "      <th>open_interest</th>\n",
       "      <th>bid_price1</th>\n",
       "      <th>bid_volume1</th>\n",
       "      <th>ask_price1</th>\n",
       "      <th>ask_volume1</th>\n",
       "    </tr>\n",
       "    <tr>\n",
       "      <th>datetime</th>\n",
       "      <th></th>\n",
       "      <th></th>\n",
       "      <th></th>\n",
       "      <th></th>\n",
       "      <th></th>\n",
       "      <th></th>\n",
       "      <th></th>\n",
       "      <th></th>\n",
       "      <th></th>\n",
       "    </tr>\n",
       "  </thead>\n",
       "  <tbody>\n",
       "    <tr>\n",
       "      <th>2023-07-11 22:59:59</th>\n",
       "      <td>2023-07-11 22:59:59</td>\n",
       "      <td>2248.0</td>\n",
       "      <td>608665</td>\n",
       "      <td>1.371322e+09</td>\n",
       "      <td>1509297.0</td>\n",
       "      <td>2247.0</td>\n",
       "      <td>491</td>\n",
       "      <td>2248.0</td>\n",
       "      <td>118</td>\n",
       "    </tr>\n",
       "    <tr>\n",
       "      <th>2023-07-12 22:59:59</th>\n",
       "      <td>2023-07-12 22:59:59</td>\n",
       "      <td>2248.0</td>\n",
       "      <td>608665</td>\n",
       "      <td>1.371322e+09</td>\n",
       "      <td>1509297.0</td>\n",
       "      <td>2247.0</td>\n",
       "      <td>491</td>\n",
       "      <td>2248.0</td>\n",
       "      <td>118</td>\n",
       "    </tr>\n",
       "    <tr>\n",
       "      <th>2023-07-12 08:55:00</th>\n",
       "      <td>2023-07-12 08:55:00</td>\n",
       "      <td>2248.0</td>\n",
       "      <td>608665</td>\n",
       "      <td>1.371322e+09</td>\n",
       "      <td>1509297.0</td>\n",
       "      <td>2247.0</td>\n",
       "      <td>489</td>\n",
       "      <td>2248.0</td>\n",
       "      <td>118</td>\n",
       "    </tr>\n",
       "    <tr>\n",
       "      <th>2023-07-12 08:55:00</th>\n",
       "      <td>2023-07-12 08:55:00</td>\n",
       "      <td>2248.0</td>\n",
       "      <td>608665</td>\n",
       "      <td>1.371322e+09</td>\n",
       "      <td>1509297.0</td>\n",
       "      <td>2247.0</td>\n",
       "      <td>465</td>\n",
       "      <td>2248.0</td>\n",
       "      <td>58</td>\n",
       "    </tr>\n",
       "    <tr>\n",
       "      <th>2023-07-12 08:55:07</th>\n",
       "      <td>2023-07-12 08:55:07</td>\n",
       "      <td>2248.0</td>\n",
       "      <td>608665</td>\n",
       "      <td>1.371322e+09</td>\n",
       "      <td>1509297.0</td>\n",
       "      <td>2247.0</td>\n",
       "      <td>464</td>\n",
       "      <td>2248.0</td>\n",
       "      <td>58</td>\n",
       "    </tr>\n",
       "    <tr>\n",
       "      <th>...</th>\n",
       "      <td>...</td>\n",
       "      <td>...</td>\n",
       "      <td>...</td>\n",
       "      <td>...</td>\n",
       "      <td>...</td>\n",
       "      <td>...</td>\n",
       "      <td>...</td>\n",
       "      <td>...</td>\n",
       "      <td>...</td>\n",
       "    </tr>\n",
       "    <tr>\n",
       "      <th>2023-07-25 22:59:58</th>\n",
       "      <td>2023-07-25 22:59:58</td>\n",
       "      <td>2264.0</td>\n",
       "      <td>505526</td>\n",
       "      <td>1.144005e+09</td>\n",
       "      <td>1236349.0</td>\n",
       "      <td>2264.0</td>\n",
       "      <td>51</td>\n",
       "      <td>2265.0</td>\n",
       "      <td>581</td>\n",
       "    </tr>\n",
       "    <tr>\n",
       "      <th>2023-07-25 22:59:59</th>\n",
       "      <td>2023-07-25 22:59:59</td>\n",
       "      <td>2265.0</td>\n",
       "      <td>505549</td>\n",
       "      <td>1.144057e+09</td>\n",
       "      <td>1236333.0</td>\n",
       "      <td>2264.0</td>\n",
       "      <td>45</td>\n",
       "      <td>2265.0</td>\n",
       "      <td>570</td>\n",
       "    </tr>\n",
       "    <tr>\n",
       "      <th>2023-07-25 22:59:59</th>\n",
       "      <td>2023-07-25 22:59:59</td>\n",
       "      <td>2265.0</td>\n",
       "      <td>505563</td>\n",
       "      <td>1.144089e+09</td>\n",
       "      <td>1236323.0</td>\n",
       "      <td>2264.0</td>\n",
       "      <td>109</td>\n",
       "      <td>2265.0</td>\n",
       "      <td>581</td>\n",
       "    </tr>\n",
       "    <tr>\n",
       "      <th>2023-07-25 22:59:59</th>\n",
       "      <td>2023-07-25 22:59:59</td>\n",
       "      <td>2264.0</td>\n",
       "      <td>505592</td>\n",
       "      <td>1.144155e+09</td>\n",
       "      <td>1236299.0</td>\n",
       "      <td>2264.0</td>\n",
       "      <td>85</td>\n",
       "      <td>2265.0</td>\n",
       "      <td>580</td>\n",
       "    </tr>\n",
       "    <tr>\n",
       "      <th>2023-07-25 22:59:59</th>\n",
       "      <td>2023-07-25 22:59:59</td>\n",
       "      <td>2264.0</td>\n",
       "      <td>505592</td>\n",
       "      <td>1.144155e+09</td>\n",
       "      <td>1236299.0</td>\n",
       "      <td>2264.0</td>\n",
       "      <td>85</td>\n",
       "      <td>2265.0</td>\n",
       "      <td>580</td>\n",
       "    </tr>\n",
       "  </tbody>\n",
       "</table>\n",
       "<p>409916 rows × 9 columns</p>\n",
       "</div>"
      ],
      "text/plain": [
       "                               datetime  last_price  volume        amount  \\\n",
       "datetime                                                                    \n",
       "2023-07-11 22:59:59 2023-07-11 22:59:59      2248.0  608665  1.371322e+09   \n",
       "2023-07-12 22:59:59 2023-07-12 22:59:59      2248.0  608665  1.371322e+09   \n",
       "2023-07-12 08:55:00 2023-07-12 08:55:00      2248.0  608665  1.371322e+09   \n",
       "2023-07-12 08:55:00 2023-07-12 08:55:00      2248.0  608665  1.371322e+09   \n",
       "2023-07-12 08:55:07 2023-07-12 08:55:07      2248.0  608665  1.371322e+09   \n",
       "...                                 ...         ...     ...           ...   \n",
       "2023-07-25 22:59:58 2023-07-25 22:59:58      2264.0  505526  1.144005e+09   \n",
       "2023-07-25 22:59:59 2023-07-25 22:59:59      2265.0  505549  1.144057e+09   \n",
       "2023-07-25 22:59:59 2023-07-25 22:59:59      2265.0  505563  1.144089e+09   \n",
       "2023-07-25 22:59:59 2023-07-25 22:59:59      2264.0  505592  1.144155e+09   \n",
       "2023-07-25 22:59:59 2023-07-25 22:59:59      2264.0  505592  1.144155e+09   \n",
       "\n",
       "                     open_interest  bid_price1  bid_volume1  ask_price1  \\\n",
       "datetime                                                                  \n",
       "2023-07-11 22:59:59      1509297.0      2247.0          491      2248.0   \n",
       "2023-07-12 22:59:59      1509297.0      2247.0          491      2248.0   \n",
       "2023-07-12 08:55:00      1509297.0      2247.0          489      2248.0   \n",
       "2023-07-12 08:55:00      1509297.0      2247.0          465      2248.0   \n",
       "2023-07-12 08:55:07      1509297.0      2247.0          464      2248.0   \n",
       "...                            ...         ...          ...         ...   \n",
       "2023-07-25 22:59:58      1236349.0      2264.0           51      2265.0   \n",
       "2023-07-25 22:59:59      1236333.0      2264.0           45      2265.0   \n",
       "2023-07-25 22:59:59      1236323.0      2264.0          109      2265.0   \n",
       "2023-07-25 22:59:59      1236299.0      2264.0           85      2265.0   \n",
       "2023-07-25 22:59:59      1236299.0      2264.0           85      2265.0   \n",
       "\n",
       "                     ask_volume1  \n",
       "datetime                          \n",
       "2023-07-11 22:59:59          118  \n",
       "2023-07-12 22:59:59          118  \n",
       "2023-07-12 08:55:00          118  \n",
       "2023-07-12 08:55:00           58  \n",
       "2023-07-12 08:55:07           58  \n",
       "...                          ...  \n",
       "2023-07-25 22:59:58          581  \n",
       "2023-07-25 22:59:59          570  \n",
       "2023-07-25 22:59:59          581  \n",
       "2023-07-25 22:59:59          580  \n",
       "2023-07-25 22:59:59          580  \n",
       "\n",
       "[409916 rows x 9 columns]"
      ]
     },
     "execution_count": 29,
     "metadata": {},
     "output_type": "execute_result"
    }
   ],
   "source": [
    "df"
   ]
  },
  {
   "cell_type": "code",
   "execution_count": 30,
   "id": "69d246eb",
   "metadata": {},
   "outputs": [],
   "source": [
    "d = df.loc['2023-07-25 21:30:00':'2023-07-25 23:00:00']"
   ]
  },
  {
   "cell_type": "code",
   "execution_count": 31,
   "id": "5c4717ed",
   "metadata": {},
   "outputs": [
    {
     "data": {
      "text/html": [
       "<div>\n",
       "<style scoped>\n",
       "    .dataframe tbody tr th:only-of-type {\n",
       "        vertical-align: middle;\n",
       "    }\n",
       "\n",
       "    .dataframe tbody tr th {\n",
       "        vertical-align: top;\n",
       "    }\n",
       "\n",
       "    .dataframe thead th {\n",
       "        text-align: right;\n",
       "    }\n",
       "</style>\n",
       "<table border=\"1\" class=\"dataframe\">\n",
       "  <thead>\n",
       "    <tr style=\"text-align: right;\">\n",
       "      <th></th>\n",
       "      <th>datetime</th>\n",
       "      <th>last_price</th>\n",
       "      <th>volume</th>\n",
       "      <th>amount</th>\n",
       "      <th>open_interest</th>\n",
       "      <th>bid_price1</th>\n",
       "      <th>bid_volume1</th>\n",
       "      <th>ask_price1</th>\n",
       "      <th>ask_volume1</th>\n",
       "    </tr>\n",
       "    <tr>\n",
       "      <th>datetime</th>\n",
       "      <th></th>\n",
       "      <th></th>\n",
       "      <th></th>\n",
       "      <th></th>\n",
       "      <th></th>\n",
       "      <th></th>\n",
       "      <th></th>\n",
       "      <th></th>\n",
       "      <th></th>\n",
       "    </tr>\n",
       "  </thead>\n",
       "  <tbody>\n",
       "    <tr>\n",
       "      <th>2023-07-25 22:59:59</th>\n",
       "      <td>2023-07-25 22:59:59</td>\n",
       "      <td>2227.0</td>\n",
       "      <td>540333</td>\n",
       "      <td>1.197378e+09</td>\n",
       "      <td>1275290.0</td>\n",
       "      <td>2227.0</td>\n",
       "      <td>44</td>\n",
       "      <td>2228.0</td>\n",
       "      <td>536</td>\n",
       "    </tr>\n",
       "    <tr>\n",
       "      <th>2023-07-25 21:30:00</th>\n",
       "      <td>2023-07-25 21:30:00</td>\n",
       "      <td>2261.0</td>\n",
       "      <td>214901</td>\n",
       "      <td>4.854614e+08</td>\n",
       "      <td>1258101.0</td>\n",
       "      <td>2260.0</td>\n",
       "      <td>541</td>\n",
       "      <td>2261.0</td>\n",
       "      <td>151</td>\n",
       "    </tr>\n",
       "    <tr>\n",
       "      <th>2023-07-25 21:30:00</th>\n",
       "      <td>2023-07-25 21:30:00</td>\n",
       "      <td>2261.0</td>\n",
       "      <td>215000</td>\n",
       "      <td>4.856850e+08</td>\n",
       "      <td>1258067.0</td>\n",
       "      <td>2260.0</td>\n",
       "      <td>558</td>\n",
       "      <td>2261.0</td>\n",
       "      <td>139</td>\n",
       "    </tr>\n",
       "    <tr>\n",
       "      <th>2023-07-25 21:30:01</th>\n",
       "      <td>2023-07-25 21:30:01</td>\n",
       "      <td>2261.0</td>\n",
       "      <td>215044</td>\n",
       "      <td>4.857844e+08</td>\n",
       "      <td>1258059.0</td>\n",
       "      <td>2260.0</td>\n",
       "      <td>532</td>\n",
       "      <td>2261.0</td>\n",
       "      <td>33</td>\n",
       "    </tr>\n",
       "    <tr>\n",
       "      <th>2023-07-25 21:30:01</th>\n",
       "      <td>2023-07-25 21:30:01</td>\n",
       "      <td>2262.0</td>\n",
       "      <td>215145</td>\n",
       "      <td>4.860126e+08</td>\n",
       "      <td>1257997.0</td>\n",
       "      <td>2261.0</td>\n",
       "      <td>26</td>\n",
       "      <td>2262.0</td>\n",
       "      <td>862</td>\n",
       "    </tr>\n",
       "    <tr>\n",
       "      <th>...</th>\n",
       "      <td>...</td>\n",
       "      <td>...</td>\n",
       "      <td>...</td>\n",
       "      <td>...</td>\n",
       "      <td>...</td>\n",
       "      <td>...</td>\n",
       "      <td>...</td>\n",
       "      <td>...</td>\n",
       "      <td>...</td>\n",
       "    </tr>\n",
       "    <tr>\n",
       "      <th>2023-07-25 22:59:58</th>\n",
       "      <td>2023-07-25 22:59:58</td>\n",
       "      <td>2264.0</td>\n",
       "      <td>505526</td>\n",
       "      <td>1.144005e+09</td>\n",
       "      <td>1236349.0</td>\n",
       "      <td>2264.0</td>\n",
       "      <td>51</td>\n",
       "      <td>2265.0</td>\n",
       "      <td>581</td>\n",
       "    </tr>\n",
       "    <tr>\n",
       "      <th>2023-07-25 22:59:59</th>\n",
       "      <td>2023-07-25 22:59:59</td>\n",
       "      <td>2265.0</td>\n",
       "      <td>505549</td>\n",
       "      <td>1.144057e+09</td>\n",
       "      <td>1236333.0</td>\n",
       "      <td>2264.0</td>\n",
       "      <td>45</td>\n",
       "      <td>2265.0</td>\n",
       "      <td>570</td>\n",
       "    </tr>\n",
       "    <tr>\n",
       "      <th>2023-07-25 22:59:59</th>\n",
       "      <td>2023-07-25 22:59:59</td>\n",
       "      <td>2265.0</td>\n",
       "      <td>505563</td>\n",
       "      <td>1.144089e+09</td>\n",
       "      <td>1236323.0</td>\n",
       "      <td>2264.0</td>\n",
       "      <td>109</td>\n",
       "      <td>2265.0</td>\n",
       "      <td>581</td>\n",
       "    </tr>\n",
       "    <tr>\n",
       "      <th>2023-07-25 22:59:59</th>\n",
       "      <td>2023-07-25 22:59:59</td>\n",
       "      <td>2264.0</td>\n",
       "      <td>505592</td>\n",
       "      <td>1.144155e+09</td>\n",
       "      <td>1236299.0</td>\n",
       "      <td>2264.0</td>\n",
       "      <td>85</td>\n",
       "      <td>2265.0</td>\n",
       "      <td>580</td>\n",
       "    </tr>\n",
       "    <tr>\n",
       "      <th>2023-07-25 22:59:59</th>\n",
       "      <td>2023-07-25 22:59:59</td>\n",
       "      <td>2264.0</td>\n",
       "      <td>505592</td>\n",
       "      <td>1.144155e+09</td>\n",
       "      <td>1236299.0</td>\n",
       "      <td>2264.0</td>\n",
       "      <td>85</td>\n",
       "      <td>2265.0</td>\n",
       "      <td>580</td>\n",
       "    </tr>\n",
       "  </tbody>\n",
       "</table>\n",
       "<p>10729 rows × 9 columns</p>\n",
       "</div>"
      ],
      "text/plain": [
       "                               datetime  last_price  volume        amount  \\\n",
       "datetime                                                                    \n",
       "2023-07-25 22:59:59 2023-07-25 22:59:59      2227.0  540333  1.197378e+09   \n",
       "2023-07-25 21:30:00 2023-07-25 21:30:00      2261.0  214901  4.854614e+08   \n",
       "2023-07-25 21:30:00 2023-07-25 21:30:00      2261.0  215000  4.856850e+08   \n",
       "2023-07-25 21:30:01 2023-07-25 21:30:01      2261.0  215044  4.857844e+08   \n",
       "2023-07-25 21:30:01 2023-07-25 21:30:01      2262.0  215145  4.860126e+08   \n",
       "...                                 ...         ...     ...           ...   \n",
       "2023-07-25 22:59:58 2023-07-25 22:59:58      2264.0  505526  1.144005e+09   \n",
       "2023-07-25 22:59:59 2023-07-25 22:59:59      2265.0  505549  1.144057e+09   \n",
       "2023-07-25 22:59:59 2023-07-25 22:59:59      2265.0  505563  1.144089e+09   \n",
       "2023-07-25 22:59:59 2023-07-25 22:59:59      2264.0  505592  1.144155e+09   \n",
       "2023-07-25 22:59:59 2023-07-25 22:59:59      2264.0  505592  1.144155e+09   \n",
       "\n",
       "                     open_interest  bid_price1  bid_volume1  ask_price1  \\\n",
       "datetime                                                                  \n",
       "2023-07-25 22:59:59      1275290.0      2227.0           44      2228.0   \n",
       "2023-07-25 21:30:00      1258101.0      2260.0          541      2261.0   \n",
       "2023-07-25 21:30:00      1258067.0      2260.0          558      2261.0   \n",
       "2023-07-25 21:30:01      1258059.0      2260.0          532      2261.0   \n",
       "2023-07-25 21:30:01      1257997.0      2261.0           26      2262.0   \n",
       "...                            ...         ...          ...         ...   \n",
       "2023-07-25 22:59:58      1236349.0      2264.0           51      2265.0   \n",
       "2023-07-25 22:59:59      1236333.0      2264.0           45      2265.0   \n",
       "2023-07-25 22:59:59      1236323.0      2264.0          109      2265.0   \n",
       "2023-07-25 22:59:59      1236299.0      2264.0           85      2265.0   \n",
       "2023-07-25 22:59:59      1236299.0      2264.0           85      2265.0   \n",
       "\n",
       "                     ask_volume1  \n",
       "datetime                          \n",
       "2023-07-25 22:59:59          536  \n",
       "2023-07-25 21:30:00          151  \n",
       "2023-07-25 21:30:00          139  \n",
       "2023-07-25 21:30:01           33  \n",
       "2023-07-25 21:30:01          862  \n",
       "...                          ...  \n",
       "2023-07-25 22:59:58          581  \n",
       "2023-07-25 22:59:59          570  \n",
       "2023-07-25 22:59:59          581  \n",
       "2023-07-25 22:59:59          580  \n",
       "2023-07-25 22:59:59          580  \n",
       "\n",
       "[10729 rows x 9 columns]"
      ]
     },
     "execution_count": 31,
     "metadata": {},
     "output_type": "execute_result"
    }
   ],
   "source": [
    "d"
   ]
  },
  {
   "cell_type": "code",
   "execution_count": 32,
   "id": "db476dfc",
   "metadata": {},
   "outputs": [],
   "source": [
    "lp = d.last_price - d.last_price.min()\n",
    "v = d.bid_volume1 - d.ask_volume1"
   ]
  },
  {
   "cell_type": "code",
   "execution_count": 34,
   "id": "452b42d8",
   "metadata": {},
   "outputs": [
    {
     "data": {
      "text/plain": [
       "[]"
      ]
     },
     "execution_count": 34,
     "metadata": {},
     "output_type": "execute_result"
    }
   ],
   "source": [
    "fig, ax1 = plt.subplots()\n",
    "\n",
    "ax1.plot(d.last_price.values, c='b', marker='.', label='last price')\n",
    "\n",
    "ax2 = ax1.twinx()\n",
    "ax2.plot(d.ask_volume1.values, c='g', marker='>', label='ask volume1')\n",
    "ax2.plot(d.bid_volume1.values, c='y', marker='<', label='bid volume1')\n",
    "# ax2.plot(v.values, c='r', marker='o', label='volume1')\n",
    "\n",
    "lines, labels = ax1.get_legend_handles_labels()\n",
    "lines2, labels2 = ax2.get_legend_handles_labels()\n",
    "ax2.legend(lines + lines2, labels + labels2, loc=0)\n",
    "\n",
    "plt.plot()"
   ]
  },
  {
   "cell_type": "code",
   "execution_count": 23,
   "id": "e759ec2e",
   "metadata": {},
   "outputs": [
    {
     "data": {
      "text/plain": [
       "<matplotlib.collections.PathCollection at 0x1d6436f1748>"
      ]
     },
     "execution_count": 23,
     "metadata": {},
     "output_type": "execute_result"
    }
   ],
   "source": [
    "plt.scatter(d.bid_volume1.values, d.ask_volume1.values)"
   ]
  },
  {
   "cell_type": "code",
   "execution_count": null,
   "id": "7088b850",
   "metadata": {},
   "outputs": [],
   "source": []
  },
  {
   "cell_type": "code",
   "execution_count": null,
   "id": "b84c621e",
   "metadata": {},
   "outputs": [],
   "source": []
  },
  {
   "cell_type": "code",
   "execution_count": null,
   "id": "98626272",
   "metadata": {},
   "outputs": [],
   "source": []
  },
  {
   "cell_type": "code",
   "execution_count": null,
   "id": "70f256d5",
   "metadata": {},
   "outputs": [],
   "source": []
  },
  {
   "cell_type": "code",
   "execution_count": null,
   "id": "f0f4f14b",
   "metadata": {},
   "outputs": [],
   "source": []
  },
  {
   "cell_type": "code",
   "execution_count": null,
   "id": "bc4064b0",
   "metadata": {},
   "outputs": [],
   "source": []
  },
  {
   "cell_type": "markdown",
   "id": "5be25b68",
   "metadata": {},
   "source": [
    "### indicators"
   ]
  },
  {
   "cell_type": "code",
   "execution_count": 6,
   "id": "a8344766",
   "metadata": {},
   "outputs": [],
   "source": [
    "exchange = 'SHFE'\n",
    "symbol = 'rb2310'"
   ]
  },
  {
   "cell_type": "code",
   "execution_count": 7,
   "id": "7b6f9bcb",
   "metadata": {},
   "outputs": [
    {
     "name": "stdout",
     "output_type": "stream",
     "text": [
      "load Y:/ctp_data\\2023-07-21\\SHFE.rb2310.h5\n",
      "load Y:/ctp_data\\2023-07-24\\SHFE.rb2310.h5\n",
      "load Y:/ctp_data\\2023-07-25\\SHFE.rb2310.h5\n",
      "load Y:/ctp_data\\2023-07-26\\SHFE.rb2310.h5\n",
      "load Y:/ctp_data\\2023-07-27\\SHFE.rb2310.h5\n",
      "load Y:/ctp_data\\2023-07-28\\SHFE.rb2310.h5\n",
      "load Y:/ctp_data\\2023-07-31\\SHFE.rb2310.h5\n",
      "load Y:/ctp_data\\2023-08-01\\SHFE.rb2310.h5\n",
      "load Y:/ctp_data\\2023-08-02\\SHFE.rb2310.h5\n"
     ]
    }
   ],
   "source": [
    "df = load_ohlc(exchange, symbol, start_day='2023-07-20') # 2023-07-20"
   ]
  },
  {
   "cell_type": "code",
   "execution_count": 23,
   "id": "cfbfc128",
   "metadata": {},
   "outputs": [],
   "source": [
    "d = df.loc['2023-07-27 21:00':'2023-07-27 23:00'] # '2023-07-27 10:40':'2023-07-27 11:30' '2023-07-28 21:05':'2023-07-28 22:30'"
   ]
  },
  {
   "cell_type": "code",
   "execution_count": null,
   "id": "89f744c4",
   "metadata": {},
   "outputs": [],
   "source": [
    "# fig = go.Figure(data=[go.Candlestick(\n",
    "#     x=d.index,\n",
    "#     open=d.open,\n",
    "#     high=d.high,\n",
    "#     low=d.low,\n",
    "#     close=d.close,\n",
    "#     increasing_line_color='red', \n",
    "#     decreasing_line_color='green')])\n",
    "# fig.show()"
   ]
  },
  {
   "cell_type": "code",
   "execution_count": 34,
   "id": "616d83e3",
   "metadata": {},
   "outputs": [],
   "source": [
    "mc = mpf.make_marketcolors(\n",
    "    up='tab:red',down='tab:green',\n",
    "    edge='inherit',\n",
    "    wick={'up':'red','down':'green'},\n",
    "    volume={'up':'red','down':'green'},#'tab:green',\n",
    ")\n",
    "\n",
    "s = mpf.make_mpf_style(base_mpl_style=\"seaborn\", marketcolors=mc, mavcolors=['red', 'green', 'blue'])\n",
    "\n",
    "fig, axes = mpf.plot(d, type='candle', style=s, mav=(5,10,20), volume=True, scale_width_adjustment=dict(volume=0.4, candle=1, lines=1), returnfig=True) # savefig='D:/xxxs.png')\n",
    "axes[0].legend(['ma5', 'ma10', 'ma20'])\n",
    "fig.show()"
   ]
  },
  {
   "cell_type": "code",
   "execution_count": 65,
   "id": "c469bf1b",
   "metadata": {},
   "outputs": [],
   "source": [
    "mpf.plot?"
   ]
  },
  {
   "cell_type": "code",
   "execution_count": 62,
   "id": "f78613df",
   "metadata": {},
   "outputs": [],
   "source": [
    "plt.savefig('D:/xxxs.png')"
   ]
  },
  {
   "cell_type": "code",
   "execution_count": 12,
   "id": "21b56639",
   "metadata": {},
   "outputs": [],
   "source": [
    "# fplt.candlestick_ochl(d[['open', 'close', 'high', 'low']])\n",
    "# fplt.show()"
   ]
  },
  {
   "cell_type": "code",
   "execution_count": 10,
   "id": "8c2e14c9",
   "metadata": {},
   "outputs": [],
   "source": [
    "c = d.close - d.open"
   ]
  },
  {
   "cell_type": "code",
   "execution_count": 11,
   "id": "6f65442d",
   "metadata": {},
   "outputs": [],
   "source": [
    "x1 = d.close - c / 2\n",
    "x2 = d.close - c / 2 + c.shift(-1) * 0.1"
   ]
  },
  {
   "cell_type": "code",
   "execution_count": 14,
   "id": "059f4e2c",
   "metadata": {},
   "outputs": [],
   "source": [
    "plt.plot(d.close, c='r', marker='.', label='close')\n",
    "plt.plot(x1, c='b', label='x1')\n",
    "plt.plot(x2, c='g', label='x2')\n",
    "plt.legend()\n",
    "plt.show()"
   ]
  },
  {
   "cell_type": "code",
   "execution_count": 23,
   "id": "800e33d8",
   "metadata": {},
   "outputs": [
    {
     "data": {
      "text/plain": [
       "datetime\n",
       "2023-07-27 10:40:00    3873.5\n",
       "2023-07-27 10:41:00    3875.0\n",
       "2023-07-27 10:42:00    3876.5\n",
       "2023-07-27 10:43:00    3877.5\n",
       "2023-07-27 10:44:00    3875.0\n",
       "dtype: float64"
      ]
     },
     "execution_count": 23,
     "metadata": {},
     "output_type": "execute_result"
    }
   ],
   "source": [
    "x1.head(5)"
   ]
  },
  {
   "cell_type": "code",
   "execution_count": 22,
   "id": "6980dc71",
   "metadata": {},
   "outputs": [
    {
     "data": {
      "text/plain": [
       "datetime\n",
       "2023-07-27 10:40:00       NaN\n",
       "2023-07-27 10:41:00    3873.5\n",
       "2023-07-27 10:42:00    3875.0\n",
       "2023-07-27 10:43:00    3876.5\n",
       "2023-07-27 10:44:00    3877.5\n",
       "dtype: float64"
      ]
     },
     "execution_count": 22,
     "metadata": {},
     "output_type": "execute_result"
    }
   ],
   "source": [
    "x1.shift(1).head(5)"
   ]
  },
  {
   "cell_type": "code",
   "execution_count": 24,
   "id": "4091bc06",
   "metadata": {},
   "outputs": [
    {
     "data": {
      "text/plain": [
       "datetime\n",
       "2023-07-27 10:40:00         NaN\n",
       "2023-07-27 10:41:00    0.000387\n",
       "2023-07-27 10:42:00    0.000387\n",
       "2023-07-27 10:43:00    0.000258\n",
       "2023-07-27 10:44:00   -0.000645\n",
       "2023-07-27 10:45:00    0.000000\n",
       "2023-07-27 10:46:00   -0.000258\n",
       "2023-07-27 10:47:00   -0.000645\n",
       "2023-07-27 10:48:00    0.000000\n",
       "2023-07-27 10:49:00    0.000129\n",
       "2023-07-27 10:50:00   -0.000646\n",
       "2023-07-27 10:51:00   -0.000517\n",
       "2023-07-27 10:52:00    0.000129\n",
       "2023-07-27 10:53:00   -0.001163\n",
       "2023-07-27 10:54:00   -0.001553\n",
       "2023-07-27 10:55:00   -0.000130\n",
       "2023-07-27 10:56:00    0.000648\n",
       "2023-07-27 10:57:00    0.000389\n",
       "2023-07-27 10:58:00    0.000389\n",
       "2023-07-27 10:59:00    0.000129\n",
       "2023-07-27 11:00:00   -0.000388\n",
       "2023-07-27 11:01:00    0.000777\n",
       "2023-07-27 11:02:00    0.000388\n",
       "2023-07-27 11:03:00    0.000517\n",
       "2023-07-27 11:04:00    0.000517\n",
       "2023-07-27 11:05:00    0.000388\n",
       "2023-07-27 11:06:00    0.000258\n",
       "2023-07-27 11:07:00    0.000258\n",
       "2023-07-27 11:08:00    0.000000\n",
       "2023-07-27 11:09:00   -0.000129\n",
       "2023-07-27 11:10:00    0.000387\n",
       "2023-07-27 11:11:00    0.000258\n",
       "2023-07-27 11:12:00    0.000000\n",
       "2023-07-27 11:13:00    0.000129\n",
       "2023-07-27 11:14:00    0.000000\n",
       "2023-07-27 11:15:00    0.000129\n",
       "2023-07-27 11:16:00    0.000516\n",
       "2023-07-27 11:17:00    0.000000\n",
       "2023-07-27 11:18:00    0.000258\n",
       "2023-07-27 11:19:00   -0.000258\n",
       "2023-07-27 11:20:00   -0.000645\n",
       "2023-07-27 11:21:00   -0.000774\n",
       "2023-07-27 11:22:00   -0.000387\n",
       "2023-07-27 11:23:00    0.000517\n",
       "2023-07-27 11:24:00   -0.000258\n",
       "2023-07-27 11:25:00   -0.000904\n",
       "2023-07-27 11:26:00    0.000000\n",
       "2023-07-27 11:27:00    0.000258\n",
       "2023-07-27 11:28:00    0.000129\n",
       "2023-07-27 11:29:00   -0.000258\n",
       "2023-07-27 11:30:00   -0.000129\n",
       "dtype: float64"
      ]
     },
     "execution_count": 24,
     "metadata": {},
     "output_type": "execute_result"
    }
   ],
   "source": [
    "x1.diff(1) / x1.shift(1)"
   ]
  },
  {
   "cell_type": "code",
   "execution_count": 10,
   "id": "a1d9e58f",
   "metadata": {},
   "outputs": [],
   "source": [
    "def trade1(df, step=5, inc=0.0001, dec=-0.0001): # '2023-07-20'\n",
    "\n",
    "    between_times = [['09:00', '10:15'], ['10:30', '11:30'], ['13:30', '15:00'], ['21:00', '23:00']]\n",
    "    \n",
    "    datas = []\n",
    "    for day in np.unique(df.index.date):\n",
    "        df_day = df[df.index.date == day]\n",
    "        for (start, end) in between_times:\n",
    "            df_hour = df_day.between_time(start, end)\n",
    "\n",
    "            # df_hour['close_open'] = df_hour.close - df_hour.open\n",
    "            # df_hour['x1'] = df_hour.close - df_hour['close_open'] / 2\n",
    "            # df_hour = df_hour.fillna(0)\n",
    "            # df_hour['range'] = df_hour['x1'].diff(1) / df_hour['x1'].shift(1)\n",
    "\n",
    "            df_hour.insert(0, column='close_open', value=(df_hour.close - df_hour.open))\n",
    "            df_hour.insert(0, column='x1', value=(df_hour.close - df_hour['close_open'] / 2))\n",
    "            df_hour = df_hour.fillna(0)\n",
    "            df_hour.insert(0, column='range', value=(df_hour['x1'].diff(1) / df_hour['x1'].shift(1)))\n",
    "\n",
    "            is_start = False\n",
    "            _step = 0\n",
    "            inc_step = 0\n",
    "            inc_last = None\n",
    "\n",
    "            for index, row in df_hour.iterrows():\n",
    "                if inc_step > 0:\n",
    "                    inc_step -= 1\n",
    "\n",
    "                    if row.close > inc_last.open:\n",
    "                        datas.append(index)\n",
    "                        inc_step = 0\n",
    "                        inc_last = None\n",
    "                    \n",
    "\n",
    "                if row.range > inc: # open close 是否相等\n",
    "                    if is_start:\n",
    "                        _step += 1\n",
    "                    else:\n",
    "                        is_start = True\n",
    "                        _step = 1\n",
    "                else:\n",
    "                    if _step > step and row.range < dec:\n",
    "                        # for j, rn in df_hour.loc[index:].iloc[1:5].iterrows():\n",
    "                        # df_hour.loc[index:].iloc[0]\n",
    "                        # datas.append(index)\n",
    "                        inc_step = 3\n",
    "                        inc_last = row\n",
    "\n",
    "                    is_start = False\n",
    "                    _step = 0\n",
    "\n",
    "    return datas"
   ]
  },
  {
   "cell_type": "code",
   "execution_count": 6,
   "id": "2893fb23",
   "metadata": {},
   "outputs": [],
   "source": [
    "exchange = 'SHFE'\n",
    "symbol = 'rb2310'"
   ]
  },
  {
   "cell_type": "code",
   "execution_count": 7,
   "id": "7d8e024d",
   "metadata": {},
   "outputs": [
    {
     "name": "stdout",
     "output_type": "stream",
     "text": [
      "load Y:/fin_data\\2023-07-03\\SHFE.rb2310.h5\n",
      "load Y:/fin_data\\2023-07-04\\SHFE.rb2310.h5\n",
      "load Y:/fin_data\\2023-07-05\\SHFE.rb2310.h5\n",
      "load Y:/fin_data\\2023-07-06\\SHFE.rb2310.h5\n",
      "load Y:/fin_data\\2023-07-07\\SHFE.rb2310.h5\n",
      "load Y:/ctp_data\\2023-07-10\\SHFE.rb2310.h5\n",
      "load Y:/ctp_data\\2023-07-11\\SHFE.rb2310.h5\n",
      "load Y:/ctp_data\\2023-07-12\\SHFE.rb2310.h5\n",
      "load Y:/ctp_data\\2023-07-13\\SHFE.rb2310.h5\n",
      "load Y:/ctp_data\\2023-07-14\\SHFE.rb2310.h5\n",
      "load Y:/ctp_data\\2023-07-17\\SHFE.rb2310.h5\n",
      "load Y:/ctp_data\\2023-07-18\\SHFE.rb2310.h5\n",
      "load Y:/ctp_data\\2023-07-19\\SHFE.rb2310.h5\n",
      "load Y:/ctp_data\\2023-07-20\\SHFE.rb2310.h5\n",
      "load Y:/ctp_data\\2023-07-21\\SHFE.rb2310.h5\n",
      "load Y:/ctp_data\\2023-07-24\\SHFE.rb2310.h5\n",
      "load Y:/ctp_data\\2023-07-25\\SHFE.rb2310.h5\n",
      "load Y:/ctp_data\\2023-07-26\\SHFE.rb2310.h5\n",
      "load Y:/ctp_data\\2023-07-27\\SHFE.rb2310.h5\n",
      "load Y:/ctp_data\\2023-07-28\\SHFE.rb2310.h5\n",
      "load Y:/ctp_data\\2023-07-31\\SHFE.rb2310.h5\n",
      "load Y:/ctp_data\\2023-08-01\\SHFE.rb2310.h5\n",
      "load Y:/ctp_data\\2023-08-02\\SHFE.rb2310.h5\n"
     ]
    }
   ],
   "source": [
    "df = load_ohlc(exchange, symbol, '2023-07-01')"
   ]
  },
  {
   "cell_type": "code",
   "execution_count": 11,
   "id": "f899504a",
   "metadata": {},
   "outputs": [
    {
     "data": {
      "text/plain": [
       "'3758.37'"
      ]
     },
     "execution_count": 11,
     "metadata": {},
     "output_type": "execute_result"
    }
   ],
   "source": [
    "'%.02f' % df.iloc[-30:].close.mean()"
   ]
  },
  {
   "cell_type": "code",
   "execution_count": null,
   "id": "fccfc763",
   "metadata": {},
   "outputs": [],
   "source": []
  },
  {
   "cell_type": "code",
   "execution_count": 21,
   "id": "d332ec93",
   "metadata": {},
   "outputs": [],
   "source": [
    "a = copy.copy(df.iloc[0])\n",
    "b = (df.iloc[1])"
   ]
  },
  {
   "cell_type": "code",
   "execution_count": null,
   "id": "a90b8304",
   "metadata": {},
   "outputs": [],
   "source": []
  },
  {
   "cell_type": "code",
   "execution_count": 19,
   "id": "07c8f169",
   "metadata": {},
   "outputs": [
    {
     "data": {
      "text/plain": [
       "Index(['open', 'high', 'low', 'close', 'volume', 'amount'], dtype='object')"
      ]
     },
     "execution_count": 19,
     "metadata": {},
     "output_type": "execute_result"
    }
   ],
   "source": [
    "a.index"
   ]
  },
  {
   "cell_type": "code",
   "execution_count": 15,
   "id": "25faa99c",
   "metadata": {},
   "outputs": [
    {
     "data": {
      "text/plain": [
       "3728.0000000000005"
      ]
     },
     "execution_count": 15,
     "metadata": {},
     "output_type": "execute_result"
    }
   ],
   "source": [
    "df[:30].close.max()"
   ]
  },
  {
   "cell_type": "code",
   "execution_count": 11,
   "id": "7900d1f8",
   "metadata": {},
   "outputs": [],
   "source": [
    "datas = trade1(df)"
   ]
  },
  {
   "cell_type": "code",
   "execution_count": 13,
   "id": "13663804",
   "metadata": {},
   "outputs": [
    {
     "data": {
      "text/plain": [
       "[Timestamp('2023-07-03 10:53:00'),\n",
       " Timestamp('2023-07-03 13:39:00'),\n",
       " Timestamp('2023-07-05 14:19:00'),\n",
       " Timestamp('2023-07-10 21:50:00'),\n",
       " Timestamp('2023-07-11 10:10:00'),\n",
       " Timestamp('2023-07-17 21:29:00'),\n",
       " Timestamp('2023-07-17 21:57:00'),\n",
       " Timestamp('2023-07-18 22:48:00'),\n",
       " Timestamp('2023-07-19 11:30:00'),\n",
       " Timestamp('2023-07-19 22:06:00'),\n",
       " Timestamp('2023-07-20 14:27:00'),\n",
       " Timestamp('2023-07-21 09:28:00'),\n",
       " Timestamp('2023-07-21 10:48:00'),\n",
       " Timestamp('2023-07-21 14:50:00'),\n",
       " Timestamp('2023-07-24 22:39:00'),\n",
       " Timestamp('2023-07-25 09:27:00'),\n",
       " Timestamp('2023-07-26 14:33:00'),\n",
       " Timestamp('2023-07-28 14:23:00'),\n",
       " Timestamp('2023-07-31 22:05:00')]"
      ]
     },
     "execution_count": 13,
     "metadata": {},
     "output_type": "execute_result"
    }
   ],
   "source": [
    "datas"
   ]
  },
  {
   "cell_type": "code",
   "execution_count": 12,
   "id": "fa67c82e",
   "metadata": {},
   "outputs": [
    {
     "ename": "TypeError",
     "evalue": "cannot concatenate object of type '<class 'pandas._libs.tslibs.timestamps.Timestamp'>'; only Series and DataFrame objs are valid",
     "output_type": "error",
     "traceback": [
      "\u001b[1;31m---------------------------------------------------------------------------\u001b[0m",
      "\u001b[1;31mTypeError\u001b[0m                                 Traceback (most recent call last)",
      "\u001b[1;32m~\\AppData\\Local\\Temp\\ipykernel_13124\\2793015091.py\u001b[0m in \u001b[0;36m<module>\u001b[1;34m\u001b[0m\n\u001b[1;32m----> 1\u001b[1;33m \u001b[0mddd2\u001b[0m \u001b[1;33m=\u001b[0m \u001b[0mpd\u001b[0m\u001b[1;33m.\u001b[0m\u001b[0mconcat\u001b[0m\u001b[1;33m(\u001b[0m\u001b[0mdatas\u001b[0m\u001b[1;33m,\u001b[0m \u001b[0maxis\u001b[0m\u001b[1;33m=\u001b[0m\u001b[1;36m1\u001b[0m\u001b[1;33m)\u001b[0m\u001b[1;33m.\u001b[0m\u001b[0mtranspose\u001b[0m\u001b[1;33m(\u001b[0m\u001b[1;33m)\u001b[0m\u001b[1;33m\u001b[0m\u001b[1;33m\u001b[0m\u001b[0m\n\u001b[0m",
      "\u001b[1;32mD:\\Software\\Python\\torch\\lib\\site-packages\\pandas\\util\\_decorators.py\u001b[0m in \u001b[0;36mwrapper\u001b[1;34m(*args, **kwargs)\u001b[0m\n\u001b[0;32m    309\u001b[0m                     \u001b[0mstacklevel\u001b[0m\u001b[1;33m=\u001b[0m\u001b[0mstacklevel\u001b[0m\u001b[1;33m,\u001b[0m\u001b[1;33m\u001b[0m\u001b[1;33m\u001b[0m\u001b[0m\n\u001b[0;32m    310\u001b[0m                 )\n\u001b[1;32m--> 311\u001b[1;33m             \u001b[1;32mreturn\u001b[0m \u001b[0mfunc\u001b[0m\u001b[1;33m(\u001b[0m\u001b[1;33m*\u001b[0m\u001b[0margs\u001b[0m\u001b[1;33m,\u001b[0m \u001b[1;33m**\u001b[0m\u001b[0mkwargs\u001b[0m\u001b[1;33m)\u001b[0m\u001b[1;33m\u001b[0m\u001b[1;33m\u001b[0m\u001b[0m\n\u001b[0m\u001b[0;32m    312\u001b[0m \u001b[1;33m\u001b[0m\u001b[0m\n\u001b[0;32m    313\u001b[0m         \u001b[1;32mreturn\u001b[0m \u001b[0mwrapper\u001b[0m\u001b[1;33m\u001b[0m\u001b[1;33m\u001b[0m\u001b[0m\n",
      "\u001b[1;32mD:\\Software\\Python\\torch\\lib\\site-packages\\pandas\\core\\reshape\\concat.py\u001b[0m in \u001b[0;36mconcat\u001b[1;34m(objs, axis, join, ignore_index, keys, levels, names, verify_integrity, sort, copy)\u001b[0m\n\u001b[0;32m    302\u001b[0m         \u001b[0mverify_integrity\u001b[0m\u001b[1;33m=\u001b[0m\u001b[0mverify_integrity\u001b[0m\u001b[1;33m,\u001b[0m\u001b[1;33m\u001b[0m\u001b[1;33m\u001b[0m\u001b[0m\n\u001b[0;32m    303\u001b[0m         \u001b[0mcopy\u001b[0m\u001b[1;33m=\u001b[0m\u001b[0mcopy\u001b[0m\u001b[1;33m,\u001b[0m\u001b[1;33m\u001b[0m\u001b[1;33m\u001b[0m\u001b[0m\n\u001b[1;32m--> 304\u001b[1;33m         \u001b[0msort\u001b[0m\u001b[1;33m=\u001b[0m\u001b[0msort\u001b[0m\u001b[1;33m,\u001b[0m\u001b[1;33m\u001b[0m\u001b[1;33m\u001b[0m\u001b[0m\n\u001b[0m\u001b[0;32m    305\u001b[0m     )\n\u001b[0;32m    306\u001b[0m \u001b[1;33m\u001b[0m\u001b[0m\n",
      "\u001b[1;32mD:\\Software\\Python\\torch\\lib\\site-packages\\pandas\\core\\reshape\\concat.py\u001b[0m in \u001b[0;36m__init__\u001b[1;34m(self, objs, axis, join, keys, levels, names, ignore_index, verify_integrity, copy, sort)\u001b[0m\n\u001b[0;32m    382\u001b[0m                     \u001b[1;34m\"only Series and DataFrame objs are valid\"\u001b[0m\u001b[1;33m\u001b[0m\u001b[1;33m\u001b[0m\u001b[0m\n\u001b[0;32m    383\u001b[0m                 )\n\u001b[1;32m--> 384\u001b[1;33m                 \u001b[1;32mraise\u001b[0m \u001b[0mTypeError\u001b[0m\u001b[1;33m(\u001b[0m\u001b[0mmsg\u001b[0m\u001b[1;33m)\u001b[0m\u001b[1;33m\u001b[0m\u001b[1;33m\u001b[0m\u001b[0m\n\u001b[0m\u001b[0;32m    385\u001b[0m \u001b[1;33m\u001b[0m\u001b[0m\n\u001b[0;32m    386\u001b[0m             \u001b[0mndims\u001b[0m\u001b[1;33m.\u001b[0m\u001b[0madd\u001b[0m\u001b[1;33m(\u001b[0m\u001b[0mobj\u001b[0m\u001b[1;33m.\u001b[0m\u001b[0mndim\u001b[0m\u001b[1;33m)\u001b[0m\u001b[1;33m\u001b[0m\u001b[1;33m\u001b[0m\u001b[0m\n",
      "\u001b[1;31mTypeError\u001b[0m: cannot concatenate object of type '<class 'pandas._libs.tslibs.timestamps.Timestamp'>'; only Series and DataFrame objs are valid"
     ]
    }
   ],
   "source": [
    "ddd2 = pd.concat(datas, axis=1).transpose()"
   ]
  },
  {
   "cell_type": "code",
   "execution_count": null,
   "id": "bc617798",
   "metadata": {},
   "outputs": [],
   "source": [
    "ddd2"
   ]
  },
  {
   "cell_type": "code",
   "execution_count": 47,
   "id": "deb1839f",
   "metadata": {},
   "outputs": [
    {
     "data": {
      "text/plain": [
       "(51, 9)"
      ]
     },
     "execution_count": 47,
     "metadata": {},
     "output_type": "execute_result"
    }
   ],
   "source": [
    "ddd.shape"
   ]
  },
  {
   "cell_type": "code",
   "execution_count": 56,
   "id": "3753b21c",
   "metadata": {},
   "outputs": [
    {
     "name": "stdout",
     "output_type": "stream",
     "text": [
      "2023-07-03 10:52:00\n",
      "2023-07-03 11:20:00\n",
      "2023-07-03 11:30:00\n",
      "2023-07-03 13:38:00\n",
      "2023-07-03 13:49:00\n",
      "2023-07-03 14:10:00\n",
      "2023-07-05 14:16:00\n",
      "2023-07-07 14:50:00\n",
      "2023-07-10 21:47:00\n",
      "2023-07-11 10:08:00\n",
      "2023-07-17 09:55:00\n",
      "2023-07-17 21:28:00\n",
      "2023-07-17 21:55:00\n",
      "2023-07-18 09:17:00\n",
      "2023-07-18 22:47:00\n",
      "2023-07-19 09:11:00\n",
      "2023-07-19 11:27:00\n",
      "2023-07-19 22:05:00\n",
      "2023-07-19 22:19:00\n",
      "2023-07-20 14:24:00\n",
      "2023-07-21 09:25:00\n",
      "2023-07-21 10:46:00\n",
      "2023-07-21 14:49:00\n",
      "2023-07-24 14:53:00\n",
      "2023-07-24 22:38:00\n",
      "2023-07-25 09:26:00\n",
      "2023-07-25 10:09:00\n",
      "2023-07-26 10:49:00\n",
      "2023-07-26 14:30:00\n",
      "2023-07-27 10:00:00\n",
      "2023-07-27 10:44:00\n",
      "2023-07-28 09:45:00\n",
      "2023-07-28 14:21:00\n",
      "2023-07-28 22:22:00\n"
     ]
    }
   ],
   "source": [
    "for i, row in ddd2.iterrows():\n",
    "    print(i)"
   ]
  },
  {
   "cell_type": "code",
   "execution_count": 4,
   "id": "ce210c30",
   "metadata": {},
   "outputs": [],
   "source": [
    "exchange = 'SHFE'\n",
    "symbol = 'rb2310'\n",
    "start_day = '2023-07-29'"
   ]
  },
  {
   "cell_type": "code",
   "execution_count": 5,
   "id": "0496db35",
   "metadata": {},
   "outputs": [
    {
     "name": "stdout",
     "output_type": "stream",
     "text": [
      "load Y:/ctp_data\\2023-07-31\\SHFE.rb2310.h5\n",
      "load Y:/ctp_data\\2023-08-01\\SHFE.rb2310.h5\n",
      "load Y:/ctp_data\\2023-08-02\\SHFE.rb2310.h5\n",
      "load Y:/ctp_data\\2023-08-03\\SHFE.rb2310.h5\n"
     ]
    }
   ],
   "source": [
    "df = load(exchange, symbol, start_day, resample='1S')"
   ]
  },
  {
   "cell_type": "code",
   "execution_count": 6,
   "id": "15f147d9",
   "metadata": {},
   "outputs": [],
   "source": [
    "d = df.loc['2023-08-01 21:00':'2023-08-02 16:00']"
   ]
  },
  {
   "cell_type": "code",
   "execution_count": 18,
   "id": "b3d9bca9",
   "metadata": {},
   "outputs": [],
   "source": [
    "plt.plot(d.last_price.values, label='price')\n",
    "plt.plot(d.last_price.expanding(1).mean().values, label='mean', c='r')\n",
    "plt.legend()\n",
    "plt.show()"
   ]
  },
  {
   "cell_type": "code",
   "execution_count": null,
   "id": "74b087cc",
   "metadata": {},
   "outputs": [],
   "source": []
  }
 ],
 "metadata": {
  "kernelspec": {
   "display_name": "torch",
   "language": "python",
   "name": "torch"
  },
  "language_info": {
   "codemirror_mode": {
    "name": "ipython",
    "version": 3
   },
   "file_extension": ".py",
   "mimetype": "text/x-python",
   "name": "python",
   "nbconvert_exporter": "python",
   "pygments_lexer": "ipython3",
   "version": "3.7.9"
  }
 },
 "nbformat": 4,
 "nbformat_minor": 5
}
