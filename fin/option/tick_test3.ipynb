{
 "cells": [
  {
   "cell_type": "code",
   "execution_count": 1,
   "id": "c62d5e41",
   "metadata": {},
   "outputs": [],
   "source": [
    "import datetime\n",
    "import pandas as pd\n",
    "import mplfinance as mpf\n",
    "import matplotlib.pyplot as plt\n",
    "\n",
    "from lutils.fin.data_loader import load"
   ]
  },
  {
   "cell_type": "code",
   "execution_count": 2,
   "id": "003475ef",
   "metadata": {},
   "outputs": [],
   "source": [
    "# %matplotlib inline\n",
    "# %matplotlib notebook\n",
    "%matplotlib qt"
   ]
  },
  {
   "cell_type": "code",
   "execution_count": 3,
   "id": "a5bb9217",
   "metadata": {},
   "outputs": [],
   "source": [
    "# symbol1 = 'Z:/tq_data/ticks/SHFE.al2203C22800.h5'\n",
    "# symbol2 = 'Z:/tq_data/ticks/SHFE.al2204C22800.h5'\n",
    "symbol1 = 'Z:/tq_data/ticks/SHFE.al2306C18700.h5'\n",
    "symbol2 = 'Z:/tq_data/ticks/SHFE.al2307C18700.h5'"
   ]
  },
  {
   "cell_type": "code",
   "execution_count": 4,
   "id": "d67b3068",
   "metadata": {},
   "outputs": [],
   "source": [
    "def load_data(path):\n",
    "    df = pd.read_hdf(path) # SHFE.al2206.h5\n",
    "    cs = []\n",
    "    for c in df.columns.values:\n",
    "        cs.append(c.rsplit('.', 1)[-1])\n",
    "    columns = dict(zip(df.columns.values, cs))\n",
    "    df = df.rename(columns=columns)\n",
    "    df['tradetime'] = pd.to_datetime(df.datetime, format='%Y-%m-%d %H:%M:%S.%f')\n",
    "    _df = df[(df.tradetime.dt.hour >= 8) | (df.tradetime.dt.hour <= 1)]\n",
    "    \n",
    "    tradetime = df.loc[((df.tradetime.dt.dayofweek >= 4) & (df.tradetime.dt.hour >= 20)) | (df.tradetime.dt.dayofweek > 4)].tradetime + datetime.timedelta(days=2)\n",
    "    _df.loc[tradetime.index, 'tradetime'] = tradetime.values\n",
    "    \n",
    "    _df.index = _df.tradetime\n",
    "    resample_ohlc = _df['last_price'].resample('1Min', closed='left', label='right').ohlc(_method='ohlc')\n",
    "    \n",
    "    return resample_ohlc"
   ]
  },
  {
   "cell_type": "code",
   "execution_count": 5,
   "id": "0efecdca",
   "metadata": {},
   "outputs": [
    {
     "name": "stderr",
     "output_type": "stream",
     "text": [
      "D:\\Software\\Python\\Python37\\lib\\site-packages\\pandas\\core\\indexing.py:1773: SettingWithCopyWarning: \n",
      "A value is trying to be set on a copy of a slice from a DataFrame.\n",
      "Try using .loc[row_indexer,col_indexer] = value instead\n",
      "\n",
      "See the caveats in the documentation: https://pandas.pydata.org/pandas-docs/stable/user_guide/indexing.html#returning-a-view-versus-a-copy\n",
      "  self._setitem_single_column(ilocs[0], value, pi)\n"
     ]
    }
   ],
   "source": [
    "df1 = load_data(symbol1)"
   ]
  },
  {
   "cell_type": "code",
   "execution_count": 6,
   "id": "c08c86bc",
   "metadata": {},
   "outputs": [
    {
     "data": {
      "text/html": [
       "<div>\n",
       "<style scoped>\n",
       "    .dataframe tbody tr th:only-of-type {\n",
       "        vertical-align: middle;\n",
       "    }\n",
       "\n",
       "    .dataframe tbody tr th {\n",
       "        vertical-align: top;\n",
       "    }\n",
       "\n",
       "    .dataframe thead th {\n",
       "        text-align: right;\n",
       "    }\n",
       "</style>\n",
       "<table border=\"1\" class=\"dataframe\">\n",
       "  <thead>\n",
       "    <tr style=\"text-align: right;\">\n",
       "      <th></th>\n",
       "      <th>open</th>\n",
       "      <th>high</th>\n",
       "      <th>low</th>\n",
       "      <th>close</th>\n",
       "    </tr>\n",
       "    <tr>\n",
       "      <th>tradetime</th>\n",
       "      <th></th>\n",
       "      <th></th>\n",
       "      <th></th>\n",
       "      <th></th>\n",
       "    </tr>\n",
       "  </thead>\n",
       "  <tbody>\n",
       "    <tr>\n",
       "      <th>2023-04-28 14:56:00</th>\n",
       "      <td>167.0</td>\n",
       "      <td>167.0</td>\n",
       "      <td>167.0</td>\n",
       "      <td>167.0</td>\n",
       "    </tr>\n",
       "    <tr>\n",
       "      <th>2023-04-28 14:57:00</th>\n",
       "      <td>167.0</td>\n",
       "      <td>167.0</td>\n",
       "      <td>167.0</td>\n",
       "      <td>167.0</td>\n",
       "    </tr>\n",
       "    <tr>\n",
       "      <th>2023-04-28 14:58:00</th>\n",
       "      <td>167.0</td>\n",
       "      <td>167.0</td>\n",
       "      <td>167.0</td>\n",
       "      <td>167.0</td>\n",
       "    </tr>\n",
       "    <tr>\n",
       "      <th>2023-04-28 14:59:00</th>\n",
       "      <td>167.0</td>\n",
       "      <td>167.0</td>\n",
       "      <td>156.0</td>\n",
       "      <td>156.0</td>\n",
       "    </tr>\n",
       "    <tr>\n",
       "      <th>2023-04-28 15:00:00</th>\n",
       "      <td>156.0</td>\n",
       "      <td>156.0</td>\n",
       "      <td>156.0</td>\n",
       "      <td>156.0</td>\n",
       "    </tr>\n",
       "  </tbody>\n",
       "</table>\n",
       "</div>"
      ],
      "text/plain": [
       "                      open   high    low  close\n",
       "tradetime                                      \n",
       "2023-04-28 14:56:00  167.0  167.0  167.0  167.0\n",
       "2023-04-28 14:57:00  167.0  167.0  167.0  167.0\n",
       "2023-04-28 14:58:00  167.0  167.0  167.0  167.0\n",
       "2023-04-28 14:59:00  167.0  167.0  156.0  156.0\n",
       "2023-04-28 15:00:00  156.0  156.0  156.0  156.0"
      ]
     },
     "execution_count": 6,
     "metadata": {},
     "output_type": "execute_result"
    }
   ],
   "source": [
    "df1.tail() # [['tradetime', 'last_price']]"
   ]
  },
  {
   "cell_type": "code",
   "execution_count": 7,
   "id": "12834f4d",
   "metadata": {},
   "outputs": [
    {
     "name": "stderr",
     "output_type": "stream",
     "text": [
      "D:\\Software\\Python\\Python37\\lib\\site-packages\\pandas\\core\\indexing.py:1773: SettingWithCopyWarning: \n",
      "A value is trying to be set on a copy of a slice from a DataFrame.\n",
      "Try using .loc[row_indexer,col_indexer] = value instead\n",
      "\n",
      "See the caveats in the documentation: https://pandas.pydata.org/pandas-docs/stable/user_guide/indexing.html#returning-a-view-versus-a-copy\n",
      "  self._setitem_single_column(ilocs[0], value, pi)\n"
     ]
    }
   ],
   "source": [
    "df2 = load_data(symbol2)"
   ]
  },
  {
   "cell_type": "code",
   "execution_count": 8,
   "id": "2fe60e05",
   "metadata": {},
   "outputs": [
    {
     "data": {
      "text/html": [
       "<div>\n",
       "<style scoped>\n",
       "    .dataframe tbody tr th:only-of-type {\n",
       "        vertical-align: middle;\n",
       "    }\n",
       "\n",
       "    .dataframe tbody tr th {\n",
       "        vertical-align: top;\n",
       "    }\n",
       "\n",
       "    .dataframe thead th {\n",
       "        text-align: right;\n",
       "    }\n",
       "</style>\n",
       "<table border=\"1\" class=\"dataframe\">\n",
       "  <thead>\n",
       "    <tr style=\"text-align: right;\">\n",
       "      <th></th>\n",
       "      <th>open</th>\n",
       "      <th>high</th>\n",
       "      <th>low</th>\n",
       "      <th>close</th>\n",
       "    </tr>\n",
       "    <tr>\n",
       "      <th>tradetime</th>\n",
       "      <th></th>\n",
       "      <th></th>\n",
       "      <th></th>\n",
       "      <th></th>\n",
       "    </tr>\n",
       "  </thead>\n",
       "  <tbody>\n",
       "    <tr>\n",
       "      <th>2023-04-28 14:56:00</th>\n",
       "      <td>273.0</td>\n",
       "      <td>273.0</td>\n",
       "      <td>273.0</td>\n",
       "      <td>273.0</td>\n",
       "    </tr>\n",
       "    <tr>\n",
       "      <th>2023-04-28 14:57:00</th>\n",
       "      <td>273.0</td>\n",
       "      <td>273.0</td>\n",
       "      <td>273.0</td>\n",
       "      <td>273.0</td>\n",
       "    </tr>\n",
       "    <tr>\n",
       "      <th>2023-04-28 14:58:00</th>\n",
       "      <td>273.0</td>\n",
       "      <td>273.0</td>\n",
       "      <td>273.0</td>\n",
       "      <td>273.0</td>\n",
       "    </tr>\n",
       "    <tr>\n",
       "      <th>2023-04-28 14:59:00</th>\n",
       "      <td>273.0</td>\n",
       "      <td>273.0</td>\n",
       "      <td>273.0</td>\n",
       "      <td>273.0</td>\n",
       "    </tr>\n",
       "    <tr>\n",
       "      <th>2023-04-28 15:00:00</th>\n",
       "      <td>273.0</td>\n",
       "      <td>273.0</td>\n",
       "      <td>273.0</td>\n",
       "      <td>273.0</td>\n",
       "    </tr>\n",
       "  </tbody>\n",
       "</table>\n",
       "</div>"
      ],
      "text/plain": [
       "                      open   high    low  close\n",
       "tradetime                                      \n",
       "2023-04-28 14:56:00  273.0  273.0  273.0  273.0\n",
       "2023-04-28 14:57:00  273.0  273.0  273.0  273.0\n",
       "2023-04-28 14:58:00  273.0  273.0  273.0  273.0\n",
       "2023-04-28 14:59:00  273.0  273.0  273.0  273.0\n",
       "2023-04-28 15:00:00  273.0  273.0  273.0  273.0"
      ]
     },
     "execution_count": 8,
     "metadata": {},
     "output_type": "execute_result"
    }
   ],
   "source": [
    "df2.tail() # [['tradetime', 'last_price']]"
   ]
  },
  {
   "cell_type": "code",
   "execution_count": 9,
   "id": "095511d0",
   "metadata": {},
   "outputs": [],
   "source": [
    "# df = pd.merge_asof(df1, df2, on='tradetime')"
   ]
  },
  {
   "cell_type": "code",
   "execution_count": 15,
   "id": "f4fe6d2d",
   "metadata": {},
   "outputs": [],
   "source": [
    "df = df2.open.sub(df1.open)"
   ]
  },
  {
   "cell_type": "code",
   "execution_count": 21,
   "id": "4b162031",
   "metadata": {},
   "outputs": [
    {
     "data": {
      "text/plain": [
       "tradetime\n",
       "2023-01-04 18:38:00      NaN\n",
       "2023-01-04 18:39:00      NaN\n",
       "2023-01-04 18:40:00      NaN\n",
       "2023-01-04 18:41:00      NaN\n",
       "2023-01-04 18:42:00      NaN\n",
       "                       ...  \n",
       "2023-04-28 14:56:00    106.0\n",
       "2023-04-28 14:57:00    106.0\n",
       "2023-04-28 14:58:00    106.0\n",
       "2023-04-28 14:59:00    106.0\n",
       "2023-04-28 15:00:00    117.0\n",
       "Freq: T, Name: open, Length: 163943, dtype: float64"
      ]
     },
     "execution_count": 21,
     "metadata": {},
     "output_type": "execute_result"
    }
   ],
   "source": [
    "df"
   ]
  },
  {
   "cell_type": "code",
   "execution_count": 12,
   "id": "e8ed32e6",
   "metadata": {},
   "outputs": [],
   "source": [
    "# df.index = df.tradetime"
   ]
  },
  {
   "cell_type": "code",
   "execution_count": 13,
   "id": "a5217000",
   "metadata": {},
   "outputs": [],
   "source": [
    "# df.tail()[['last_price_x', 'last_price_y']]"
   ]
  },
  {
   "cell_type": "code",
   "execution_count": 21,
   "id": "6fb85aa7",
   "metadata": {},
   "outputs": [],
   "source": [
    "subdf = df.last_price_y - df.last_price_x"
   ]
  },
  {
   "cell_type": "code",
   "execution_count": 22,
   "id": "c9fa4fad",
   "metadata": {},
   "outputs": [
    {
     "data": {
      "text/plain": [
       "tradetime\n",
       "2023-01-04 18:37:13.100000      NaN\n",
       "2023-01-04 18:37:14.500000      NaN\n",
       "2023-01-04 21:06:04.500000      NaN\n",
       "2023-01-04 21:06:05.000000      NaN\n",
       "2023-01-04 21:15:30.000000      NaN\n",
       "                              ...  \n",
       "2023-04-28 14:59:16.000000    117.0\n",
       "2023-04-28 14:59:18.500000    117.0\n",
       "2023-04-28 14:59:32.500000    117.0\n",
       "2023-04-28 14:59:59.000001    117.0\n",
       "2023-04-28 14:59:59.999500    117.0\n",
       "Length: 287451, dtype: float64"
      ]
     },
     "execution_count": 22,
     "metadata": {},
     "output_type": "execute_result"
    }
   ],
   "source": [
    "subdf"
   ]
  },
  {
   "cell_type": "code",
   "execution_count": 23,
   "id": "b39c4fc4",
   "metadata": {},
   "outputs": [],
   "source": [
    "# subdf = subdf.rename('diff_price')"
   ]
  },
  {
   "cell_type": "code",
   "execution_count": 24,
   "id": "4df3a151",
   "metadata": {},
   "outputs": [
    {
     "data": {
      "text/plain": [
       "tradetime\n",
       "2023-01-04 18:37:13.100000      NaN\n",
       "2023-01-04 18:37:14.500000      NaN\n",
       "2023-01-04 21:06:04.500000      NaN\n",
       "2023-01-04 21:06:05.000000      NaN\n",
       "2023-01-04 21:15:30.000000      NaN\n",
       "                              ...  \n",
       "2023-04-28 14:59:16.000000    117.0\n",
       "2023-04-28 14:59:18.500000    117.0\n",
       "2023-04-28 14:59:32.500000    117.0\n",
       "2023-04-28 14:59:59.000001    117.0\n",
       "2023-04-28 14:59:59.999500    117.0\n",
       "Length: 287451, dtype: float64"
      ]
     },
     "execution_count": 24,
     "metadata": {},
     "output_type": "execute_result"
    }
   ],
   "source": [
    "subdf"
   ]
  },
  {
   "cell_type": "code",
   "execution_count": 28,
   "id": "14c5a53c",
   "metadata": {},
   "outputs": [],
   "source": [
    "resample_ohlc = subdf.resample('1Min', closed='left', label='right').ohlc(_method='ohlc').dropna()"
   ]
  },
  {
   "cell_type": "code",
   "execution_count": 29,
   "id": "583e3baa",
   "metadata": {},
   "outputs": [
    {
     "data": {
      "text/html": [
       "<div>\n",
       "<style scoped>\n",
       "    .dataframe tbody tr th:only-of-type {\n",
       "        vertical-align: middle;\n",
       "    }\n",
       "\n",
       "    .dataframe tbody tr th {\n",
       "        vertical-align: top;\n",
       "    }\n",
       "\n",
       "    .dataframe thead th {\n",
       "        text-align: right;\n",
       "    }\n",
       "</style>\n",
       "<table border=\"1\" class=\"dataframe\">\n",
       "  <thead>\n",
       "    <tr style=\"text-align: right;\">\n",
       "      <th></th>\n",
       "      <th>open</th>\n",
       "      <th>high</th>\n",
       "      <th>low</th>\n",
       "      <th>close</th>\n",
       "    </tr>\n",
       "    <tr>\n",
       "      <th>tradetime</th>\n",
       "      <th></th>\n",
       "      <th></th>\n",
       "      <th></th>\n",
       "      <th></th>\n",
       "    </tr>\n",
       "  </thead>\n",
       "  <tbody>\n",
       "    <tr>\n",
       "      <th>2023-02-14 15:00:00</th>\n",
       "      <td>124.0</td>\n",
       "      <td>124.0</td>\n",
       "      <td>124.0</td>\n",
       "      <td>124.0</td>\n",
       "    </tr>\n",
       "    <tr>\n",
       "      <th>2023-02-15 15:00:00</th>\n",
       "      <td>-19.0</td>\n",
       "      <td>-19.0</td>\n",
       "      <td>-19.0</td>\n",
       "      <td>-19.0</td>\n",
       "    </tr>\n",
       "    <tr>\n",
       "      <th>2023-02-16 15:00:00</th>\n",
       "      <td>73.0</td>\n",
       "      <td>73.0</td>\n",
       "      <td>73.0</td>\n",
       "      <td>73.0</td>\n",
       "    </tr>\n",
       "    <tr>\n",
       "      <th>2023-02-17 15:00:00</th>\n",
       "      <td>19.0</td>\n",
       "      <td>19.0</td>\n",
       "      <td>19.0</td>\n",
       "      <td>19.0</td>\n",
       "    </tr>\n",
       "    <tr>\n",
       "      <th>2023-02-20 15:00:00</th>\n",
       "      <td>4.0</td>\n",
       "      <td>4.0</td>\n",
       "      <td>4.0</td>\n",
       "      <td>4.0</td>\n",
       "    </tr>\n",
       "    <tr>\n",
       "      <th>...</th>\n",
       "      <td>...</td>\n",
       "      <td>...</td>\n",
       "      <td>...</td>\n",
       "      <td>...</td>\n",
       "    </tr>\n",
       "    <tr>\n",
       "      <th>2023-04-28 14:56:00</th>\n",
       "      <td>106.0</td>\n",
       "      <td>106.0</td>\n",
       "      <td>106.0</td>\n",
       "      <td>106.0</td>\n",
       "    </tr>\n",
       "    <tr>\n",
       "      <th>2023-04-28 14:57:00</th>\n",
       "      <td>106.0</td>\n",
       "      <td>106.0</td>\n",
       "      <td>106.0</td>\n",
       "      <td>106.0</td>\n",
       "    </tr>\n",
       "    <tr>\n",
       "      <th>2023-04-28 14:58:00</th>\n",
       "      <td>106.0</td>\n",
       "      <td>106.0</td>\n",
       "      <td>106.0</td>\n",
       "      <td>106.0</td>\n",
       "    </tr>\n",
       "    <tr>\n",
       "      <th>2023-04-28 14:59:00</th>\n",
       "      <td>106.0</td>\n",
       "      <td>117.0</td>\n",
       "      <td>106.0</td>\n",
       "      <td>117.0</td>\n",
       "    </tr>\n",
       "    <tr>\n",
       "      <th>2023-04-28 15:00:00</th>\n",
       "      <td>117.0</td>\n",
       "      <td>117.0</td>\n",
       "      <td>117.0</td>\n",
       "      <td>117.0</td>\n",
       "    </tr>\n",
       "  </tbody>\n",
       "</table>\n",
       "<p>4917 rows × 4 columns</p>\n",
       "</div>"
      ],
      "text/plain": [
       "                      open   high    low  close\n",
       "tradetime                                      \n",
       "2023-02-14 15:00:00  124.0  124.0  124.0  124.0\n",
       "2023-02-15 15:00:00  -19.0  -19.0  -19.0  -19.0\n",
       "2023-02-16 15:00:00   73.0   73.0   73.0   73.0\n",
       "2023-02-17 15:00:00   19.0   19.0   19.0   19.0\n",
       "2023-02-20 15:00:00    4.0    4.0    4.0    4.0\n",
       "...                    ...    ...    ...    ...\n",
       "2023-04-28 14:56:00  106.0  106.0  106.0  106.0\n",
       "2023-04-28 14:57:00  106.0  106.0  106.0  106.0\n",
       "2023-04-28 14:58:00  106.0  106.0  106.0  106.0\n",
       "2023-04-28 14:59:00  106.0  117.0  106.0  117.0\n",
       "2023-04-28 15:00:00  117.0  117.0  117.0  117.0\n",
       "\n",
       "[4917 rows x 4 columns]"
      ]
     },
     "execution_count": 29,
     "metadata": {},
     "output_type": "execute_result"
    }
   ],
   "source": [
    "resample_ohlc"
   ]
  },
  {
   "cell_type": "code",
   "execution_count": 22,
   "id": "e9e4b8f3",
   "metadata": {},
   "outputs": [],
   "source": [
    "dfDay = df.resample('24H', closed='left', label='right', offset='21H').agg({\n",
    "#         'Contract': 'first',\n",
    "        'open': 'first',\n",
    "        'high': 'max',\n",
    "        'low': 'min',\n",
    "        'close': 'last',\n",
    "#         'Volume': 'sum',\n",
    "#         'OpenInterest': 'sum'\n",
    "    }).dropna()"
   ]
  },
  {
   "cell_type": "code",
   "execution_count": 23,
   "id": "e78218dc",
   "metadata": {},
   "outputs": [
    {
     "data": {
      "text/html": [
       "<div>\n",
       "<style scoped>\n",
       "    .dataframe tbody tr th:only-of-type {\n",
       "        vertical-align: middle;\n",
       "    }\n",
       "\n",
       "    .dataframe tbody tr th {\n",
       "        vertical-align: top;\n",
       "    }\n",
       "\n",
       "    .dataframe thead th {\n",
       "        text-align: right;\n",
       "    }\n",
       "</style>\n",
       "<table border=\"1\" class=\"dataframe\">\n",
       "  <thead>\n",
       "    <tr style=\"text-align: right;\">\n",
       "      <th></th>\n",
       "      <th>open</th>\n",
       "      <th>high</th>\n",
       "      <th>low</th>\n",
       "      <th>close</th>\n",
       "    </tr>\n",
       "    <tr>\n",
       "      <th>tradetime</th>\n",
       "      <th></th>\n",
       "      <th></th>\n",
       "      <th></th>\n",
       "      <th></th>\n",
       "    </tr>\n",
       "  </thead>\n",
       "  <tbody>\n",
       "    <tr>\n",
       "      <th>2023-04-17 21:00:00</th>\n",
       "      <td>136.0</td>\n",
       "      <td>136.0</td>\n",
       "      <td>136.0</td>\n",
       "      <td>136.0</td>\n",
       "    </tr>\n",
       "    <tr>\n",
       "      <th>2023-04-18 21:00:00</th>\n",
       "      <td>100.0</td>\n",
       "      <td>134.0</td>\n",
       "      <td>53.0</td>\n",
       "      <td>68.0</td>\n",
       "    </tr>\n",
       "    <tr>\n",
       "      <th>2023-04-19 21:00:00</th>\n",
       "      <td>110.0</td>\n",
       "      <td>145.0</td>\n",
       "      <td>76.0</td>\n",
       "      <td>108.0</td>\n",
       "    </tr>\n",
       "    <tr>\n",
       "      <th>2023-04-20 21:00:00</th>\n",
       "      <td>84.0</td>\n",
       "      <td>118.0</td>\n",
       "      <td>-16.0</td>\n",
       "      <td>75.0</td>\n",
       "    </tr>\n",
       "    <tr>\n",
       "      <th>2023-04-21 21:00:00</th>\n",
       "      <td>92.0</td>\n",
       "      <td>285.0</td>\n",
       "      <td>32.0</td>\n",
       "      <td>119.0</td>\n",
       "    </tr>\n",
       "    <tr>\n",
       "      <th>2023-04-24 21:00:00</th>\n",
       "      <td>107.0</td>\n",
       "      <td>163.0</td>\n",
       "      <td>80.0</td>\n",
       "      <td>120.0</td>\n",
       "    </tr>\n",
       "    <tr>\n",
       "      <th>2023-04-25 21:00:00</th>\n",
       "      <td>99.0</td>\n",
       "      <td>137.0</td>\n",
       "      <td>57.0</td>\n",
       "      <td>93.0</td>\n",
       "    </tr>\n",
       "    <tr>\n",
       "      <th>2023-04-26 21:00:00</th>\n",
       "      <td>117.0</td>\n",
       "      <td>145.0</td>\n",
       "      <td>93.0</td>\n",
       "      <td>113.0</td>\n",
       "    </tr>\n",
       "    <tr>\n",
       "      <th>2023-04-27 21:00:00</th>\n",
       "      <td>125.0</td>\n",
       "      <td>142.0</td>\n",
       "      <td>101.0</td>\n",
       "      <td>134.0</td>\n",
       "    </tr>\n",
       "    <tr>\n",
       "      <th>2023-04-28 21:00:00</th>\n",
       "      <td>111.0</td>\n",
       "      <td>129.0</td>\n",
       "      <td>80.0</td>\n",
       "      <td>117.0</td>\n",
       "    </tr>\n",
       "  </tbody>\n",
       "</table>\n",
       "</div>"
      ],
      "text/plain": [
       "                      open   high    low  close\n",
       "tradetime                                      \n",
       "2023-04-17 21:00:00  136.0  136.0  136.0  136.0\n",
       "2023-04-18 21:00:00  100.0  134.0   53.0   68.0\n",
       "2023-04-19 21:00:00  110.0  145.0   76.0  108.0\n",
       "2023-04-20 21:00:00   84.0  118.0  -16.0   75.0\n",
       "2023-04-21 21:00:00   92.0  285.0   32.0  119.0\n",
       "2023-04-24 21:00:00  107.0  163.0   80.0  120.0\n",
       "2023-04-25 21:00:00   99.0  137.0   57.0   93.0\n",
       "2023-04-26 21:00:00  117.0  145.0   93.0  113.0\n",
       "2023-04-27 21:00:00  125.0  142.0  101.0  134.0\n",
       "2023-04-28 21:00:00  111.0  129.0   80.0  117.0"
      ]
     },
     "execution_count": 23,
     "metadata": {},
     "output_type": "execute_result"
    }
   ],
   "source": [
    "dfDay.tail(10)"
   ]
  },
  {
   "cell_type": "code",
   "execution_count": 32,
   "id": "44d87675",
   "metadata": {},
   "outputs": [],
   "source": [
    "mpf.plot(dfDay, type='candle', volume=False, mav=(3,6,9), figratio=(3,1), style='yahoo', title='df', datetime_format='%Y-%m-%d')"
   ]
  },
  {
   "cell_type": "code",
   "execution_count": null,
   "id": "0d7da4a3",
   "metadata": {},
   "outputs": [],
   "source": []
  }
 ],
 "metadata": {
  "kernelspec": {
   "display_name": "Python 3 (ipykernel)",
   "language": "python",
   "name": "python3"
  },
  "language_info": {
   "codemirror_mode": {
    "name": "ipython",
    "version": 3
   },
   "file_extension": ".py",
   "mimetype": "text/x-python",
   "name": "python",
   "nbconvert_exporter": "python",
   "pygments_lexer": "ipython3",
   "version": "3.7.9"
  }
 },
 "nbformat": 4,
 "nbformat_minor": 5
}
