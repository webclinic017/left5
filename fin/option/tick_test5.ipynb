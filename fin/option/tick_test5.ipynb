{
 "cells": [
  {
   "cell_type": "code",
   "execution_count": 3,
   "id": "308b9af9",
   "metadata": {},
   "outputs": [],
   "source": [
    "import datetime\n",
    "import pandas as pd\n",
    "import mplfinance as mpf\n",
    "import matplotlib.pyplot as plt\n",
    "import seaborn as sn\n",
    "\n",
    "from lutils.fin.data_loader import load"
   ]
  },
  {
   "cell_type": "code",
   "execution_count": 4,
   "id": "266d7c0c",
   "metadata": {},
   "outputs": [],
   "source": [
    "# %matplotlib inline\n",
    "# %matplotlib notebook\n",
    "%matplotlib qt"
   ]
  },
  {
   "cell_type": "code",
   "execution_count": 5,
   "id": "157bce5b",
   "metadata": {},
   "outputs": [],
   "source": [
    "exchange = 'SHFE' # SHFE CZCE\n",
    "\n",
    "symbol1 = 'rb2305C4100' # al2306C18700 rb2306C3850 rb2304C4200 MA112C3200\n",
    "symbol2 = 'rb2305C4150' # al2306C18800 rb2306C3900 rb2304C4250 MA112C3250"
   ]
  },
  {
   "cell_type": "code",
   "execution_count": 6,
   "id": "9c4e5a78",
   "metadata": {},
   "outputs": [],
   "source": [
    "# start_date = '2021-10-24' # 2023-02-24"
   ]
  },
  {
   "cell_type": "code",
   "execution_count": 7,
   "id": "cfcb4414",
   "metadata": {},
   "outputs": [
    {
     "name": "stdout",
     "output_type": "stream",
     "text": [
      "load Z:/tq_data/ticks\\SHFE.rb2305C4100.h5\n"
     ]
    }
   ],
   "source": [
    "df1 = load(exchange, symbol1)"
   ]
  },
  {
   "cell_type": "code",
   "execution_count": 8,
   "id": "b2779247",
   "metadata": {},
   "outputs": [
    {
     "name": "stdout",
     "output_type": "stream",
     "text": [
      "load Z:/tq_data/ticks\\SHFE.rb2305C4150.h5\n"
     ]
    }
   ],
   "source": [
    "df2 = load(exchange, symbol2)"
   ]
  },
  {
   "cell_type": "code",
   "execution_count": 9,
   "id": "e9442034",
   "metadata": {},
   "outputs": [],
   "source": [
    "# df1.tail()"
   ]
  },
  {
   "cell_type": "code",
   "execution_count": 10,
   "id": "e5315dfd",
   "metadata": {},
   "outputs": [],
   "source": [
    "# df2.tail()"
   ]
  },
  {
   "cell_type": "code",
   "execution_count": 11,
   "id": "4e844446",
   "metadata": {},
   "outputs": [],
   "source": [
    "df1.index = df1.datetime\n",
    "df2.index = df2.datetime"
   ]
  },
  {
   "cell_type": "code",
   "execution_count": 12,
   "id": "19d5dfb6",
   "metadata": {},
   "outputs": [],
   "source": [
    "resample_ohlc_min1 = df1['last_price'].resample('1Min', closed='left', label='right').ohlc(_method='ohlc')\n",
    "resample_volume_min1 = df1['volume'].resample('1Min', closed='left', label='right').sum()\n",
    "resample_amount_min1 = df1['amount'].resample('1Min', closed='left', label='right').sum()\n",
    "df_min1 = pd.concat([resample_ohlc_min1, resample_volume_min1, resample_amount_min1], axis=1)"
   ]
  },
  {
   "cell_type": "code",
   "execution_count": 13,
   "id": "542a574f",
   "metadata": {},
   "outputs": [],
   "source": [
    "resample_ohlc_min2 = df2['last_price'].resample('1Min', closed='left', label='right').ohlc(_method='ohlc')\n",
    "resample_volume_min2 = df2['volume'].resample('1Min', closed='left', label='right').sum()\n",
    "resample_amount_min2 = df2['amount'].resample('1Min', closed='left', label='right').sum()\n",
    "df_min2 = pd.concat([resample_ohlc_min2, resample_volume_min2, resample_amount_min2], axis=1)"
   ]
  },
  {
   "cell_type": "code",
   "execution_count": 14,
   "id": "e5930daa",
   "metadata": {},
   "outputs": [],
   "source": [
    "resample_ohlc_day1 = df_min1.resample('24H', closed='left', label='right', offset='21H').agg({\n",
    "#         'Contract': 'first',\n",
    "        'open': 'first',\n",
    "        'high': 'max',\n",
    "        'low': 'min',\n",
    "        'close': 'last',\n",
    "        'volume': 'sum',\n",
    "#         'amount': 'sum'\n",
    "#         'OpenInterest': 'sum'\n",
    "    }).dropna()"
   ]
  },
  {
   "cell_type": "code",
   "execution_count": 15,
   "id": "a41077c2",
   "metadata": {},
   "outputs": [],
   "source": [
    "resample_ohlc_day2 = df_min2.resample('24H', closed='left', label='right', offset='21H').agg({\n",
    "#         'Contract': 'first',\n",
    "        'open': 'first',\n",
    "        'high': 'max',\n",
    "        'low': 'min',\n",
    "        'close': 'last',\n",
    "        'volume': 'sum',\n",
    "#         'OpenInterest': 'sum'\n",
    "    }).dropna()"
   ]
  },
  {
   "cell_type": "code",
   "execution_count": 16,
   "id": "48c4ff4d",
   "metadata": {},
   "outputs": [],
   "source": [
    "# df = df_min2.sub(df_min1).dropna()\n",
    "df = df_min1.sub(df_min2).dropna()"
   ]
  },
  {
   "cell_type": "code",
   "execution_count": 19,
   "id": "47eb43b2",
   "metadata": {},
   "outputs": [
    {
     "data": {
      "text/plain": [
       "(25712, 6)"
      ]
     },
     "execution_count": 19,
     "metadata": {},
     "output_type": "execute_result"
    }
   ],
   "source": [
    "df.shape"
   ]
  },
  {
   "cell_type": "code",
   "execution_count": 20,
   "id": "43815100",
   "metadata": {},
   "outputs": [],
   "source": [
    "end_time = df.iloc[-1].name\n",
    "start_time = df.iloc[-1].name - datetime.timedelta(days=35)"
   ]
  },
  {
   "cell_type": "code",
   "execution_count": 21,
   "id": "b7669a55",
   "metadata": {},
   "outputs": [
    {
     "data": {
      "text/plain": [
       "Timestamp('2023-03-20 15:00:00')"
      ]
     },
     "execution_count": 21,
     "metadata": {},
     "output_type": "execute_result"
    }
   ],
   "source": [
    "start_time"
   ]
  },
  {
   "cell_type": "code",
   "execution_count": 22,
   "id": "2fa1971c",
   "metadata": {},
   "outputs": [
    {
     "data": {
      "text/plain": [
       "Timestamp('2023-04-24 15:00:00')"
      ]
     },
     "execution_count": 22,
     "metadata": {},
     "output_type": "execute_result"
    }
   ],
   "source": [
    "end_time"
   ]
  },
  {
   "cell_type": "code",
   "execution_count": 23,
   "id": "deafa7a6",
   "metadata": {},
   "outputs": [],
   "source": [
    "# underlying_min.loc[(underlying_min.index > start_time) & (underlying_min.index <= end_time)]"
   ]
  },
  {
   "cell_type": "code",
   "execution_count": 24,
   "id": "b5e9d25b",
   "metadata": {},
   "outputs": [],
   "source": [
    "_df2 = df.loc[(df.index > start_time) & (df.index <= end_time)]"
   ]
  },
  {
   "cell_type": "code",
   "execution_count": 25,
   "id": "0dea5d39",
   "metadata": {},
   "outputs": [
    {
     "data": {
      "text/html": [
       "<div>\n",
       "<style scoped>\n",
       "    .dataframe tbody tr th:only-of-type {\n",
       "        vertical-align: middle;\n",
       "    }\n",
       "\n",
       "    .dataframe tbody tr th {\n",
       "        vertical-align: top;\n",
       "    }\n",
       "\n",
       "    .dataframe thead th {\n",
       "        text-align: right;\n",
       "    }\n",
       "</style>\n",
       "<table border=\"1\" class=\"dataframe\">\n",
       "  <thead>\n",
       "    <tr style=\"text-align: right;\">\n",
       "      <th></th>\n",
       "      <th>open</th>\n",
       "      <th>high</th>\n",
       "      <th>low</th>\n",
       "      <th>close</th>\n",
       "      <th>volume</th>\n",
       "      <th>amount</th>\n",
       "    </tr>\n",
       "    <tr>\n",
       "      <th>datetime</th>\n",
       "      <th></th>\n",
       "      <th></th>\n",
       "      <th></th>\n",
       "      <th></th>\n",
       "      <th></th>\n",
       "      <th></th>\n",
       "    </tr>\n",
       "  </thead>\n",
       "  <tbody>\n",
       "    <tr>\n",
       "      <th>2023-03-20 21:21:00</th>\n",
       "      <td>32.5</td>\n",
       "      <td>32.5</td>\n",
       "      <td>32.5</td>\n",
       "      <td>32.5</td>\n",
       "      <td>-1948</td>\n",
       "      <td>-2869700.0</td>\n",
       "    </tr>\n",
       "    <tr>\n",
       "      <th>2023-03-20 21:22:00</th>\n",
       "      <td>32.5</td>\n",
       "      <td>32.5</td>\n",
       "      <td>32.5</td>\n",
       "      <td>32.5</td>\n",
       "      <td>-2338</td>\n",
       "      <td>-3423075.0</td>\n",
       "    </tr>\n",
       "    <tr>\n",
       "      <th>2023-03-20 21:23:00</th>\n",
       "      <td>32.5</td>\n",
       "      <td>32.5</td>\n",
       "      <td>32.5</td>\n",
       "      <td>32.5</td>\n",
       "      <td>-2369</td>\n",
       "      <td>-3471260.0</td>\n",
       "    </tr>\n",
       "    <tr>\n",
       "      <th>2023-03-20 21:24:00</th>\n",
       "      <td>32.5</td>\n",
       "      <td>32.5</td>\n",
       "      <td>29.0</td>\n",
       "      <td>29.0</td>\n",
       "      <td>-3519</td>\n",
       "      <td>-5146390.0</td>\n",
       "    </tr>\n",
       "    <tr>\n",
       "      <th>2023-03-20 21:25:00</th>\n",
       "      <td>29.0</td>\n",
       "      <td>29.0</td>\n",
       "      <td>29.0</td>\n",
       "      <td>29.0</td>\n",
       "      <td>-3265</td>\n",
       "      <td>-4738200.0</td>\n",
       "    </tr>\n",
       "    <tr>\n",
       "      <th>...</th>\n",
       "      <td>...</td>\n",
       "      <td>...</td>\n",
       "      <td>...</td>\n",
       "      <td>...</td>\n",
       "      <td>...</td>\n",
       "      <td>...</td>\n",
       "    </tr>\n",
       "    <tr>\n",
       "      <th>2023-04-24 13:36:00</th>\n",
       "      <td>0.0</td>\n",
       "      <td>0.0</td>\n",
       "      <td>0.0</td>\n",
       "      <td>0.0</td>\n",
       "      <td>70</td>\n",
       "      <td>350.0</td>\n",
       "    </tr>\n",
       "    <tr>\n",
       "      <th>2023-04-24 13:38:00</th>\n",
       "      <td>0.0</td>\n",
       "      <td>0.0</td>\n",
       "      <td>0.0</td>\n",
       "      <td>0.0</td>\n",
       "      <td>70</td>\n",
       "      <td>350.0</td>\n",
       "    </tr>\n",
       "    <tr>\n",
       "      <th>2023-04-24 14:22:00</th>\n",
       "      <td>0.0</td>\n",
       "      <td>0.0</td>\n",
       "      <td>0.0</td>\n",
       "      <td>0.0</td>\n",
       "      <td>70</td>\n",
       "      <td>350.0</td>\n",
       "    </tr>\n",
       "    <tr>\n",
       "      <th>2023-04-24 14:57:00</th>\n",
       "      <td>0.0</td>\n",
       "      <td>0.0</td>\n",
       "      <td>0.0</td>\n",
       "      <td>0.0</td>\n",
       "      <td>130</td>\n",
       "      <td>650.0</td>\n",
       "    </tr>\n",
       "    <tr>\n",
       "      <th>2023-04-24 15:00:00</th>\n",
       "      <td>0.0</td>\n",
       "      <td>0.0</td>\n",
       "      <td>0.0</td>\n",
       "      <td>0.0</td>\n",
       "      <td>227</td>\n",
       "      <td>1135.0</td>\n",
       "    </tr>\n",
       "  </tbody>\n",
       "</table>\n",
       "<p>7399 rows × 6 columns</p>\n",
       "</div>"
      ],
      "text/plain": [
       "                     open  high   low  close  volume     amount\n",
       "datetime                                                       \n",
       "2023-03-20 21:21:00  32.5  32.5  32.5   32.5   -1948 -2869700.0\n",
       "2023-03-20 21:22:00  32.5  32.5  32.5   32.5   -2338 -3423075.0\n",
       "2023-03-20 21:23:00  32.5  32.5  32.5   32.5   -2369 -3471260.0\n",
       "2023-03-20 21:24:00  32.5  32.5  29.0   29.0   -3519 -5146390.0\n",
       "2023-03-20 21:25:00  29.0  29.0  29.0   29.0   -3265 -4738200.0\n",
       "...                   ...   ...   ...    ...     ...        ...\n",
       "2023-04-24 13:36:00   0.0   0.0   0.0    0.0      70      350.0\n",
       "2023-04-24 13:38:00   0.0   0.0   0.0    0.0      70      350.0\n",
       "2023-04-24 14:22:00   0.0   0.0   0.0    0.0      70      350.0\n",
       "2023-04-24 14:57:00   0.0   0.0   0.0    0.0     130      650.0\n",
       "2023-04-24 15:00:00   0.0   0.0   0.0    0.0     227     1135.0\n",
       "\n",
       "[7399 rows x 6 columns]"
      ]
     },
     "execution_count": 25,
     "metadata": {},
     "output_type": "execute_result"
    }
   ],
   "source": [
    "_df2"
   ]
  },
  {
   "cell_type": "code",
   "execution_count": 27,
   "id": "53680219",
   "metadata": {},
   "outputs": [
    {
     "data": {
      "text/plain": [
       "datetime\n",
       "2023-03-20 21:21:00    32.5\n",
       "2023-03-20 21:22:00    32.5\n",
       "2023-03-20 21:23:00    32.5\n",
       "2023-03-20 21:24:00    29.0\n",
       "2023-03-20 21:25:00    29.0\n",
       "                       ... \n",
       "2023-04-24 13:36:00     0.0\n",
       "2023-04-24 13:38:00     0.0\n",
       "2023-04-24 14:22:00     0.0\n",
       "2023-04-24 14:57:00     0.0\n",
       "2023-04-24 15:00:00     0.0\n",
       "Name: close, Length: 7399, dtype: float64"
      ]
     },
     "execution_count": 27,
     "metadata": {},
     "output_type": "execute_result"
    }
   ],
   "source": [
    "_df2.close"
   ]
  },
  {
   "cell_type": "code",
   "execution_count": 28,
   "id": "b2246808",
   "metadata": {},
   "outputs": [
    {
     "name": "stderr",
     "output_type": "stream",
     "text": [
      "D:\\Software\\Python\\Python37\\lib\\site-packages\\seaborn\\distributions.py:2619: FutureWarning: `distplot` is a deprecated function and will be removed in a future version. Please adapt your code to use either `displot` (a figure-level function with similar flexibility) or `histplot` (an axes-level function for histograms).\n",
      "  warnings.warn(msg, FutureWarning)\n"
     ]
    },
    {
     "data": {
      "text/plain": [
       "<AxesSubplot:xlabel='close', ylabel='Density'>"
      ]
     },
     "execution_count": 28,
     "metadata": {},
     "output_type": "execute_result"
    }
   ],
   "source": [
    "sn.distplot(_df2.close.iloc[4000:])"
   ]
  },
  {
   "cell_type": "code",
   "execution_count": null,
   "id": "3f2c4b11",
   "metadata": {},
   "outputs": [],
   "source": []
  },
  {
   "cell_type": "code",
   "execution_count": null,
   "id": "486116dd",
   "metadata": {},
   "outputs": [],
   "source": []
  }
 ],
 "metadata": {
  "kernelspec": {
   "display_name": "Python 3 (ipykernel)",
   "language": "python",
   "name": "python3"
  },
  "language_info": {
   "codemirror_mode": {
    "name": "ipython",
    "version": 3
   },
   "file_extension": ".py",
   "mimetype": "text/x-python",
   "name": "python",
   "nbconvert_exporter": "python",
   "pygments_lexer": "ipython3",
   "version": "3.7.9"
  }
 },
 "nbformat": 4,
 "nbformat_minor": 5
}
