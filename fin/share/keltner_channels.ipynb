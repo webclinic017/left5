{
 "cells": [
  {
   "cell_type": "code",
   "execution_count": 1,
   "metadata": {},
   "outputs": [],
   "source": [
    "import backtrader as bt\n",
    "import datetime\n",
    "import pandas as pd\n",
    "import math"
   ]
  },
  {
   "cell_type": "code",
   "execution_count": 2,
   "metadata": {},
   "outputs": [],
   "source": [
    "from lutils.stock import LTdxHq"
   ]
  },
  {
   "cell_type": "code",
   "execution_count": 3,
   "metadata": {},
   "outputs": [],
   "source": [
    "ltdxhq = LTdxHq()"
   ]
  },
  {
   "cell_type": "code",
   "execution_count": 4,
   "metadata": {},
   "outputs": [],
   "source": [
    "# ll = ltdxhq.stock_list()"
   ]
  },
  {
   "cell_type": "code",
   "execution_count": 5,
   "metadata": {},
   "outputs": [],
   "source": [
    "# ll[(ll['pre_close'] > 30) & (ll['pre_close'] < 50)]"
   ]
  },
  {
   "cell_type": "code",
   "execution_count": 6,
   "metadata": {},
   "outputs": [],
   "source": [
    "# 399300\n",
    "code = '601857' # 000032 300142 603636 600519 688567 601857\n",
    "# df = ltdxhq.get_k_data_daily('300142') # 000032 300142 603636 600519\n",
    "# df = ltdxhq.get_k_data_15min(code) #' # 000032 300142 603636 600519\n",
    "# df = ltdxhq.to_qfq(code, df)"
   ]
  },
  {
   "cell_type": "code",
   "execution_count": 7,
   "metadata": {},
   "outputs": [],
   "source": [
    "# df.index = df.index.unique(level=1)"
   ]
  },
  {
   "cell_type": "code",
   "execution_count": 8,
   "metadata": {},
   "outputs": [],
   "source": [
    "df = ltdxhq.get_k_data_daily(code, qfq=True) # 000032 300142 603636 600519 601857\n",
    "# df1d = ltdxhq.to_qfq(code, df1d)"
   ]
  },
  {
   "cell_type": "code",
   "execution_count": 9,
   "metadata": {},
   "outputs": [],
   "source": [
    "# df.index = df.index.unique(level=1)"
   ]
  },
  {
   "cell_type": "code",
   "execution_count": 10,
   "metadata": {},
   "outputs": [],
   "source": [
    "ltdxhq.close()"
   ]
  },
  {
   "cell_type": "code",
   "execution_count": 11,
   "metadata": {},
   "outputs": [],
   "source": [
    "df.index = pd.to_datetime(df.index)"
   ]
  },
  {
   "cell_type": "code",
   "execution_count": 12,
   "metadata": {},
   "outputs": [],
   "source": [
    "# df = df['2020-01-01':]"
   ]
  },
  {
   "cell_type": "code",
   "execution_count": 13,
   "metadata": {},
   "outputs": [],
   "source": [
    "class KeltnerChannel(bt.Indicator):\n",
    "    lines = ('mid', 'upper', 'lower')\n",
    "    params = dict(\n",
    "                ema=20,\n",
    "                atr=3\n",
    "                )\n",
    "\n",
    "    plotinfo = dict(subplot=False)  # plot along with data\n",
    "    plotlines = dict(\n",
    "        mid=dict(ls='--'),  # dashed line\n",
    "        upper=dict(_samecolor=True),  # use same color as prev line (mid)\n",
    "        lower=dict(_samecolor=True),  # use same color as prev line (upper)\n",
    "    )\n",
    "\n",
    "    def __init__(self):\n",
    "        self.l.mid = bt.ind.EMA(period=self.p.ema)\n",
    "        self.l.upper = self.l.mid + bt.ind.ATR(period=self.p.ema) * self.p.atr\n",
    "        self.l.lower = self.l.mid - bt.ind.ATR(period=self.p.ema) * self.p.atr"
   ]
  },
  {
   "cell_type": "code",
   "execution_count": 14,
   "metadata": {},
   "outputs": [],
   "source": [
    "class KeltnerChannelStrategy(bt.Strategy):\n",
    "\n",
    "    def __init__(self):\n",
    "        self.keltner = KeltnerChannel()\n",
    "    \n",
    "    def log(self, txt):\n",
    "        ''' Logging function for this strategy'''\n",
    "        dt = self.datas[0].datetime.datetime(0)\n",
    "        print('%s, %s' % (dt.isoformat(), txt))\n",
    "        \n",
    "    def notify_order(self, order):\n",
    "        if order.status in [order.Submitted, order.Accepted]:\n",
    "            # Buy/Sell order submitted/accepted to/by broker - Nothing to do\n",
    "            return\n",
    "\n",
    "        # Check if an order has been completed\n",
    "        # Attention: broker could reject order if not enough cash\n",
    "        if order.status == order.Completed:\n",
    "            if order.isbuy():\n",
    "                self.log(\n",
    "                    'BUY EXECUTED, Size: %d, Price: %.2f, Cost: %.2f, Comm %.2f' %\n",
    "                    (\n",
    "                        order.executed.size,\n",
    "                        order.executed.price,\n",
    "                        order.executed.value,\n",
    "                        order.executed.comm,\n",
    "                    )\n",
    "                )\n",
    "\n",
    "            else:  # Sell\n",
    "                self.log(\n",
    "                    'SELL EXECUTED, Size: %d, Price: %.2f, Cost: %.2f, Comm %.2f' %\n",
    "                    (\n",
    "                        order.executed.size,\n",
    "                        order.executed.price,\n",
    "                        order.executed.value,\n",
    "                        order.executed.comm\n",
    "                    )\n",
    "                )\n",
    "\n",
    "        elif order.status in [order.Canceled, order.Margin, order.Rejected]:\n",
    "            self.log('Order Canceled/Margin/Rejected')\n",
    "\n",
    "        # Write down: no pending order\n",
    "        self.order = None\n",
    "        \n",
    "    def next(self):\n",
    "        if self.keltner.l.lower[0] > self.data[0]:\n",
    "            price = self.data0.close[0]\n",
    "            cash = self.broker.get_cash()\n",
    "            share = int(math.floor((cash)/price))\n",
    "            \n",
    "            self.buy(size=share)\n",
    "        elif self.keltner.l.upper[0] < self.data[0]:\n",
    "            \n",
    "            self.order = self.close()\n",
    "#             self.sell()"
   ]
  },
  {
   "cell_type": "code",
   "execution_count": 15,
   "metadata": {},
   "outputs": [
    {
     "name": "stdout",
     "output_type": "stream",
     "text": [
      "Starting Portfolio Value: 10000.00\n",
      "2007-12-04T00:00:00, Order Canceled/Margin/Rejected\n",
      "2007-12-05T00:00:00, Order Canceled/Margin/Rejected\n",
      "2008-01-23T00:00:00, BUY EXECUTED, Size: 552, Price: 18.07, Cost: 9975.27, Comm 4.99\n",
      "2008-01-24T00:00:00, BUY EXECUTED, Size: 1, Price: 18.35, Cost: 18.35, Comm 0.01\n",
      "2009-02-11T00:00:00, SELL EXECUTED, Size: -553, Price: 8.27, Cost: 9993.62, Comm 2.29\n",
      "2009-08-18T00:00:00, BUY EXECUTED, Size: 488, Price: 9.30, Cost: 4538.09, Comm 2.27\n",
      "2010-04-28T00:00:00, BUY EXECUTED, Size: 3, Price: 8.59, Cost: 25.78, Comm 0.01\n",
      "2010-10-12T00:00:00, SELL EXECUTED, Size: -491, Price: 8.00, Cost: 4563.86, Comm 1.96\n",
      "2011-05-25T00:00:00, Order Canceled/Margin/Rejected\n",
      "2011-08-09T00:00:00, BUY EXECUTED, Size: 528, Price: 7.38, Cost: 3896.77, Comm 1.95\n",
      "2011-08-10T00:00:00, BUY EXECUTED, Size: 4, Price: 7.42, Cost: 29.67, Comm 0.01\n",
      "2014-07-29T00:00:00, SELL EXECUTED, Size: -532, Price: 6.61, Cost: 3926.44, Comm 1.76\n",
      "2015-08-26T00:00:00, Order Canceled/Margin/Rejected\n",
      "2016-01-18T00:00:00, BUY EXECUTED, Size: 549, Price: 6.22, Cost: 3413.00, Comm 1.71\n",
      "2016-01-19T00:00:00, BUY EXECUTED, Size: 15, Price: 6.33, Cost: 94.95, Comm 0.05\n",
      "2016-11-23T00:00:00, SELL EXECUTED, Size: -564, Price: 6.67, Cost: 3507.95, Comm 1.88\n",
      "2018-02-12T00:00:00, BUY EXECUTED, Size: 532, Price: 7.06, Cost: 3756.65, Comm 1.88\n",
      "2018-05-21T00:00:00, SELL EXECUTED, Size: -532, Price: 7.50, Cost: 3756.65, Comm 1.99\n",
      "2019-07-11T00:00:00, Order Canceled/Margin/Rejected\n",
      "2019-07-19T00:00:00, Order Canceled/Margin/Rejected\n",
      "2019-07-23T00:00:00, Order Canceled/Margin/Rejected\n",
      "2019-07-24T00:00:00, Order Canceled/Margin/Rejected\n",
      "2019-08-05T00:00:00, Order Canceled/Margin/Rejected\n",
      "2019-08-06T00:00:00, BUY EXECUTED, Size: 696, Price: 5.65, Cost: 3934.95, Comm 1.97\n",
      "2019-08-07T00:00:00, BUY EXECUTED, Size: 9, Price: 5.64, Cost: 50.80, Comm 0.03\n",
      "2019-09-17T00:00:00, SELL EXECUTED, Size: -705, Price: 5.97, Cost: 3985.76, Comm 2.11\n",
      "2019-11-01T00:00:00, BUY EXECUTED, Size: 772, Price: 5.43, Cost: 4189.42, Comm 2.09\n",
      "2019-11-11T00:00:00, BUY EXECUTED, Size: 4, Price: 5.35, Cost: 21.41, Comm 0.01\n",
      "2020-01-07T00:00:00, SELL EXECUTED, Size: -776, Price: 5.72, Cost: 4210.83, Comm 2.22\n",
      "2020-02-04T00:00:00, BUY EXECUTED, Size: 932, Price: 4.70, Cost: 4383.33, Comm 2.19\n",
      "2020-02-05T00:00:00, BUY EXECUTED, Size: 11, Price: 4.80, Cost: 52.75, Comm 0.03\n",
      "2020-07-07T00:00:00, SELL EXECUTED, Size: -943, Price: 4.49, Cost: 4436.09, Comm 2.12\n",
      "Final Portfolio Value: 4237.97\n"
     ]
    }
   ],
   "source": [
    "cerebro = bt.Cerebro()\n",
    "\n",
    "# Add Benchmark\n",
    "# benchmark = get_security_data(BENCHMARK_TICKER, START, END)\n",
    "benchdata = bt.feeds.PandasData(dataname=df, name='SPY', plot=True)\n",
    "cerebro.adddata(benchdata)\n",
    "\n",
    "print('Starting Portfolio Value: %.2f' % cerebro.broker.getvalue())\n",
    "\n",
    "# Add Strategy\n",
    "cerebro.addstrategy(KeltnerChannelStrategy)\n",
    "\n",
    "cerebro.broker.setcash(10000.0)\n",
    "\n",
    "cerebro.broker.setcommission(0.0005)\n",
    "\n",
    "results = cerebro.run(stdstats=False)\n",
    "\n",
    "print('Final Portfolio Value: %.2f' % cerebro.broker.getvalue())"
   ]
  },
  {
   "cell_type": "code",
   "execution_count": 16,
   "metadata": {
    "scrolled": false
   },
   "outputs": [
    {
     "data": {
      "text/plain": [
       "[[<Figure size 1707x960 with 2 Axes>]]"
      ]
     },
     "execution_count": 16,
     "metadata": {},
     "output_type": "execute_result"
    }
   ],
   "source": [
    "cerebro.plot(\n",
    "    iplot=False,\n",
    "    start=datetime.date(2020, 1, 1),\n",
    "    end=datetime.date(2021, 9, 30),\n",
    "    style='candlestick',\n",
    "    barup='red',\n",
    "    bardown='green',\n",
    ")"
   ]
  },
  {
   "cell_type": "code",
   "execution_count": null,
   "metadata": {},
   "outputs": [],
   "source": []
  }
 ],
 "metadata": {
  "kernelspec": {
   "display_name": "Python 3",
   "language": "python",
   "name": "python3"
  },
  "language_info": {
   "codemirror_mode": {
    "name": "ipython",
    "version": 3
   },
   "file_extension": ".py",
   "mimetype": "text/x-python",
   "name": "python",
   "nbconvert_exporter": "python",
   "pygments_lexer": "ipython3",
   "version": "3.7.9"
  }
 },
 "nbformat": 4,
 "nbformat_minor": 4
}
