{
 "cells": [
  {
   "cell_type": "code",
   "execution_count": 2,
   "id": "purple-palmer",
   "metadata": {},
   "outputs": [],
   "source": [
    "import pandas as pd\n",
    "from lutils.stock import LTdxHq"
   ]
  },
  {
   "cell_type": "code",
   "execution_count": 3,
   "id": "needed-consensus",
   "metadata": {},
   "outputs": [],
   "source": [
    "ltdxhq = LTdxHq()"
   ]
  },
  {
   "cell_type": "code",
   "execution_count": 4,
   "id": "impossible-reunion",
   "metadata": {},
   "outputs": [],
   "source": [
    "df = ltdxhq.get_k_data_daily('603636')"
   ]
  },
  {
   "cell_type": "code",
   "execution_count": 8,
   "id": "quick-algebra",
   "metadata": {},
   "outputs": [],
   "source": [
    "data = df['2020-01-01':]"
   ]
  },
  {
   "cell_type": "code",
   "execution_count": 12,
   "id": "realistic-minnesota",
   "metadata": {},
   "outputs": [
    {
     "data": {
      "text/plain": [
       "date\n",
       "2020-01-02       NaN\n",
       "2020-01-03       NaN\n",
       "2020-01-06       NaN\n",
       "2020-01-07       NaN\n",
       "2020-01-08    11.812\n",
       "               ...  \n",
       "2021-09-27     8.888\n",
       "2021-09-28     8.804\n",
       "2021-09-29     8.670\n",
       "2021-09-30     8.548\n",
       "2021-10-08     8.470\n",
       "Name: close, Length: 426, dtype: float64"
      ]
     },
     "execution_count": 12,
     "metadata": {},
     "output_type": "execute_result"
    }
   ],
   "source": [
    "data.close.rolling(5).mean()"
   ]
  },
  {
   "cell_type": "code",
   "execution_count": 22,
   "id": "remarkable-soccer",
   "metadata": {},
   "outputs": [
    {
     "data": {
      "text/html": [
       "<div>\n",
       "<style scoped>\n",
       "    .dataframe tbody tr th:only-of-type {\n",
       "        vertical-align: middle;\n",
       "    }\n",
       "\n",
       "    .dataframe tbody tr th {\n",
       "        vertical-align: top;\n",
       "    }\n",
       "\n",
       "    .dataframe thead th {\n",
       "        text-align: right;\n",
       "    }\n",
       "</style>\n",
       "<table border=\"1\" class=\"dataframe\">\n",
       "  <thead>\n",
       "    <tr style=\"text-align: right;\">\n",
       "      <th></th>\n",
       "      <th>open</th>\n",
       "      <th>close</th>\n",
       "      <th>high</th>\n",
       "      <th>low</th>\n",
       "      <th>volume</th>\n",
       "      <th>amount</th>\n",
       "    </tr>\n",
       "    <tr>\n",
       "      <th>date</th>\n",
       "      <th></th>\n",
       "      <th></th>\n",
       "      <th></th>\n",
       "      <th></th>\n",
       "      <th></th>\n",
       "      <th></th>\n",
       "    </tr>\n",
       "  </thead>\n",
       "  <tbody>\n",
       "    <tr>\n",
       "      <th>2020-01-10</th>\n",
       "      <td>12.40</td>\n",
       "      <td>12.26</td>\n",
       "      <td>12.50</td>\n",
       "      <td>12.16</td>\n",
       "      <td>10634388.0</td>\n",
       "      <td>130621568.0</td>\n",
       "    </tr>\n",
       "    <tr>\n",
       "      <th>2020-02-19</th>\n",
       "      <td>15.98</td>\n",
       "      <td>14.62</td>\n",
       "      <td>16.65</td>\n",
       "      <td>14.60</td>\n",
       "      <td>56970072.0</td>\n",
       "      <td>886079360.0</td>\n",
       "    </tr>\n",
       "    <tr>\n",
       "      <th>2020-03-03</th>\n",
       "      <td>15.36</td>\n",
       "      <td>15.08</td>\n",
       "      <td>15.71</td>\n",
       "      <td>14.90</td>\n",
       "      <td>25919806.0</td>\n",
       "      <td>398456896.0</td>\n",
       "    </tr>\n",
       "    <tr>\n",
       "      <th>2020-03-05</th>\n",
       "      <td>15.30</td>\n",
       "      <td>15.08</td>\n",
       "      <td>15.70</td>\n",
       "      <td>14.88</td>\n",
       "      <td>27789152.0</td>\n",
       "      <td>424261216.0</td>\n",
       "    </tr>\n",
       "    <tr>\n",
       "      <th>2020-05-28</th>\n",
       "      <td>11.90</td>\n",
       "      <td>11.78</td>\n",
       "      <td>11.99</td>\n",
       "      <td>11.51</td>\n",
       "      <td>9445033.0</td>\n",
       "      <td>111012352.0</td>\n",
       "    </tr>\n",
       "    <tr>\n",
       "      <th>2020-06-02</th>\n",
       "      <td>12.23</td>\n",
       "      <td>12.19</td>\n",
       "      <td>12.25</td>\n",
       "      <td>12.10</td>\n",
       "      <td>8953307.0</td>\n",
       "      <td>108843600.0</td>\n",
       "    </tr>\n",
       "    <tr>\n",
       "      <th>2020-08-25</th>\n",
       "      <td>13.83</td>\n",
       "      <td>13.69</td>\n",
       "      <td>13.97</td>\n",
       "      <td>13.55</td>\n",
       "      <td>8051562.0</td>\n",
       "      <td>111049720.0</td>\n",
       "    </tr>\n",
       "    <tr>\n",
       "      <th>2020-11-10</th>\n",
       "      <td>10.54</td>\n",
       "      <td>10.42</td>\n",
       "      <td>10.64</td>\n",
       "      <td>10.36</td>\n",
       "      <td>4913678.0</td>\n",
       "      <td>51508376.0</td>\n",
       "    </tr>\n",
       "    <tr>\n",
       "      <th>2020-12-11</th>\n",
       "      <td>10.16</td>\n",
       "      <td>10.06</td>\n",
       "      <td>10.34</td>\n",
       "      <td>9.95</td>\n",
       "      <td>7457218.0</td>\n",
       "      <td>75763968.0</td>\n",
       "    </tr>\n",
       "    <tr>\n",
       "      <th>2021-01-28</th>\n",
       "      <td>9.93</td>\n",
       "      <td>9.76</td>\n",
       "      <td>10.08</td>\n",
       "      <td>9.70</td>\n",
       "      <td>12744591.0</td>\n",
       "      <td>125479736.0</td>\n",
       "    </tr>\n",
       "    <tr>\n",
       "      <th>2021-02-22</th>\n",
       "      <td>10.37</td>\n",
       "      <td>10.13</td>\n",
       "      <td>10.47</td>\n",
       "      <td>10.09</td>\n",
       "      <td>9052471.0</td>\n",
       "      <td>93224504.0</td>\n",
       "    </tr>\n",
       "    <tr>\n",
       "      <th>2021-04-23</th>\n",
       "      <td>10.49</td>\n",
       "      <td>10.39</td>\n",
       "      <td>10.69</td>\n",
       "      <td>10.36</td>\n",
       "      <td>6605617.0</td>\n",
       "      <td>69290416.0</td>\n",
       "    </tr>\n",
       "  </tbody>\n",
       "</table>\n",
       "</div>"
      ],
      "text/plain": [
       "             open  close   high    low      volume       amount\n",
       "date                                                           \n",
       "2020-01-10  12.40  12.26  12.50  12.16  10634388.0  130621568.0\n",
       "2020-02-19  15.98  14.62  16.65  14.60  56970072.0  886079360.0\n",
       "2020-03-03  15.36  15.08  15.71  14.90  25919806.0  398456896.0\n",
       "2020-03-05  15.30  15.08  15.70  14.88  27789152.0  424261216.0\n",
       "2020-05-28  11.90  11.78  11.99  11.51   9445033.0  111012352.0\n",
       "2020-06-02  12.23  12.19  12.25  12.10   8953307.0  108843600.0\n",
       "2020-08-25  13.83  13.69  13.97  13.55   8051562.0  111049720.0\n",
       "2020-11-10  10.54  10.42  10.64  10.36   4913678.0   51508376.0\n",
       "2020-12-11  10.16  10.06  10.34   9.95   7457218.0   75763968.0\n",
       "2021-01-28   9.93   9.76  10.08   9.70  12744591.0  125479736.0\n",
       "2021-02-22  10.37  10.13  10.47  10.09   9052471.0   93224504.0\n",
       "2021-04-23  10.49  10.39  10.69  10.36   6605617.0   69290416.0"
      ]
     },
     "execution_count": 22,
     "metadata": {},
     "output_type": "execute_result"
    }
   ],
   "source": [
    "data[(data.high.diff() > 0) & (data.close.diff() < 0) & (data.open > data.close) & (data.close > data.close.rolling(5).mean()) & ((data.high - data.low) / (data.open - data.close) < 5)]"
   ]
  },
  {
   "cell_type": "code",
   "execution_count": 21,
   "id": "banner-mainstream",
   "metadata": {},
   "outputs": [
    {
     "data": {
      "text/plain": [
       "11.500000000000266"
      ]
     },
     "execution_count": 21,
     "metadata": {},
     "output_type": "execute_result"
    }
   ],
   "source": [
    "(9.32 - 9.09) / (9.20 - 9.18)"
   ]
  },
  {
   "cell_type": "code",
   "execution_count": null,
   "id": "boxed-watson",
   "metadata": {},
   "outputs": [],
   "source": []
  }
 ],
 "metadata": {
  "kernelspec": {
   "display_name": "Python 3",
   "language": "python",
   "name": "python3"
  },
  "language_info": {
   "codemirror_mode": {
    "name": "ipython",
    "version": 3
   },
   "file_extension": ".py",
   "mimetype": "text/x-python",
   "name": "python",
   "nbconvert_exporter": "python",
   "pygments_lexer": "ipython3",
   "version": "3.7.9"
  }
 },
 "nbformat": 4,
 "nbformat_minor": 5
}
