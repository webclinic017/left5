{
 "cells": [
  {
   "cell_type": "markdown",
   "metadata": {
    "colab_type": "text",
    "id": "view-in-github"
   },
   "source": [
    "<a href=\"https://colab.research.google.com/github/AI4Finance-Foundation/FinRL/blob/master/FinRL_Explainable_DRL_for_Portfolio_Management_An_Empirical_Approach.ipynb\" target=\"_parent\"><img src=\"https://colab.research.google.com/assets/colab-badge.svg\" alt=\"Open In Colab\"/></a>"
   ]
  },
  {
   "cell_type": "markdown",
   "metadata": {
    "id": "Yv3IDvrobU37"
   },
   "source": [
    "# Explainable Deep Reinforcement Learning for Portfolio Managemnet: an Emprical Approach.\n",
    "\n",
    "Tutorials to use FinRL Library to perform explainable portfolio allocation in one [Jupyter Notebook](https://colab.research.google.com/drive/117v2qWo-qPC7OPd7paY1wYkOUywU_DWZ?usp=sharing)\n",
    "\n",
    "* This tutorial is based on the [portfolio allocation tutorial](https://github.com/AI4Finance-Foundation/FinRL/blob/master/FinRL_portfolio_allocation_NeurIPS_2020.ipynb) in FinRL Library.\n",
    "* This blog is based on our paper: Explainable Deep Reinforcement Learning for Portfolio Managemnet: an Emprical Approach\n",
    "* Please report any issues to our Github: https://github.com/AI4Finance-LLC/FinRL-Library/issues\n",
    "* **Pytorch Version** \n",
    "\n"
   ]
  },
  {
   "cell_type": "markdown",
   "metadata": {
    "id": "4kHCfEiTA80V"
   },
   "source": [
    "# Content"
   ]
  },
  {
   "cell_type": "markdown",
   "metadata": {
    "id": "vUmLTmoQA7_w"
   },
   "source": [
    "* [1. Problem Definition](#0)\n",
    "* [2. Getting Started - Load Python packages](#1)\n",
    "    * [2.1. Install Packages](#1.1)    \n",
    "    * [2.2. Check Additional Packages](#1.2)\n",
    "    * [2.3. Import Packages](#1.3)\n",
    "    * [2.4. Create Folders](#1.4)\n",
    "* [3. Download Data](#2)\n",
    "* [4. Preprocess Data](#3)        \n",
    "    * [4.1. Technical Indicators](#3.1)\n",
    "    * [4.2. Perform Feature Engineering](#3.2)\n",
    "* [5.Build Environment](#4)  \n",
    "    * [5.1. Training & Trade Data Split](#4.1)\n",
    "    * [5.2. User-defined Environment](#4.2)   \n",
    "    * [5.3. Initialize Environment](#4.3)    \n",
    "* [6.Implement DRL Algorithms](#5)  \n",
    "* [7.Backtesting Performance](#6)  \n",
    "    * [7.1. BackTestStats](#6.1)\n",
    "    * [7.2. BackTestPlot](#6.2)   \n",
    "    * [7.3. Baseline Stats](#6.3)   \n",
    "    * [7.3. Compare to Stock Market Index](#6.4)             "
   ]
  },
  {
   "cell_type": "markdown",
   "metadata": {
    "id": "12v1i0jVkg48"
   },
   "source": [
    "<a id='0'></a>\n",
    "# Part 1. Problem Definition"
   ]
  },
  {
   "cell_type": "markdown",
   "metadata": {
    "id": "L63HKnWvkirx"
   },
   "source": [
    "This problem is to empirically explain the trading performance of DRL agents for the portfolio management task.\n",
    "\n",
    "The algorithm is trained using Deep Reinforcement Learning (DRL) algorithms and the components of the reinforcement learning environment are:\n",
    "\n",
    "\n",
    "* Action: The action space describes the allowed portfolio weights that the agent interacts with the\n",
    "environment. Each element in the portfolio weights is between [0, 1].\n",
    "\n",
    "* Reward function: r(s, a, s′) is the incentive mechanism for an agent to learn a better action. The logorithmic rate of portfolio return when action a is taken at state s and arriving at new state s',  i.e., r(s, a, s′) = ln(v'/v), where v′ and v represent the portfolio\n",
    "values at state s′ and s, respectively\n",
    "\n",
    "* State: The state space describes  an agent’s perception of a market.  Just as a human trader needs to analyze various information before executing a trade, so\n",
    "our trading agent observes many different features to better learn in an interactive environment.\n",
    "\n",
    "* Environment: Dow 30 consituents\n",
    "\n",
    "We use Yahoo Finance API as the data source.\n"
   ]
  },
  {
   "cell_type": "markdown",
   "metadata": {
    "id": "g_emqQCCklVt"
   },
   "source": [
    "<a id='1'></a>\n",
    "# Part 2. Getting Started- Load Python Packages"
   ]
  },
  {
   "cell_type": "markdown",
   "metadata": {
    "id": "cVCcCalAknGn"
   },
   "source": [
    "<a id='1.1'></a>\n",
    "## 2.1. Install all the packages through FinRL library\n"
   ]
  },
  {
   "cell_type": "code",
   "execution_count": 1,
   "metadata": {
    "colab": {
     "base_uri": "https://localhost:8080/"
    },
    "id": "pT8a0fvhA_TW",
    "outputId": "881406f3-02c5-49c6-aae1-d76a46684975"
   },
   "outputs": [],
   "source": [
    "# ## install finrl library\n",
    "# !pip install plotly==4.4.1\n",
    "# !wget https://github.com/plotly/orca/releases/download/v1.2.1/orca-1.2.1-x86_64.AppImage -O /usr/local/bin/orca\n",
    "# !chmod +x /usr/local/bin/orca\n",
    "# !apt-get install xvfb libgtk2.0-0 libgconf-2-4\n",
    "# !pip install git+https://github.com/AI4Finance-LLC/FinRL-Library.git\n",
    "# !pip install PyPortfolioOpt"
   ]
  },
  {
   "cell_type": "markdown",
   "metadata": {
    "id": "h2568cp5bU38"
   },
   "source": [
    "\n",
    "<a id='1.2'></a>\n",
    "## 2.2. Check if the additional packages needed are present, if not install them. \n",
    "* Yahoo Finance API\n",
    "* pandas\n",
    "* numpy\n",
    "* matplotlib\n",
    "* stockstats\n",
    "* OpenAI gym\n",
    "* stable-baselines\n",
    "* tensorflow\n",
    "* pyfolio"
   ]
  },
  {
   "cell_type": "markdown",
   "metadata": {
    "id": "bNmvYN9YbU4B"
   },
   "source": [
    "<a id='1.3'></a>\n",
    "## 2.3. Import Packages"
   ]
  },
  {
   "cell_type": "code",
   "execution_count": 2,
   "metadata": {
    "colab": {
     "base_uri": "https://localhost:8080/"
    },
    "id": "ntfTb0e2bU4C",
    "outputId": "c976be8d-0301-4165-8c3e-6a0c38e9eb14"
   },
   "outputs": [
    {
     "name": "stderr",
     "output_type": "stream",
     "text": [
      "d:\\code\\python\\pyfolio\\pyfolio\\pos.py:27: UserWarning: Module \"zipline.assets\" not found; multipliers will not be applied to position notionals.\n",
      "  'Module \"zipline.assets\" not found; multipliers will not be applied'\n"
     ]
    }
   ],
   "source": [
    "import datetime\n",
    "import pandas as pd\n",
    "import numpy as np\n",
    "import matplotlib\n",
    "import matplotlib.pyplot as plt\n",
    "matplotlib.use('Agg')\n",
    "%matplotlib inline\n",
    "\n",
    "from finrl.apps import config\n",
    "from finrl.finrl_meta.preprocessor.yahoodownloader import YahooDownloader\n",
    "from finrl.finrl_meta.preprocessor.preprocessors import FeatureEngineer, data_split\n",
    "from finrl.finrl_meta.env_portfolio_allocation.env_portfolio import StockPortfolioEnv\n",
    "from finrl.drl_agents.stablebaselines3.models import DRLAgent\n",
    "from finrl.plot import backtest_stats, backtest_plot, get_daily_return, get_baseline, get_baseline_tdx,convert_daily_return_to_pyfolio_ts\n",
    "\n",
    "\n",
    "# import sys\n",
    "# sys.path.append(\"../FinRL-Library\")"
   ]
  },
  {
   "cell_type": "code",
   "execution_count": 3,
   "metadata": {},
   "outputs": [],
   "source": [
    "from lutils.stock import LTdxHq"
   ]
  },
  {
   "cell_type": "markdown",
   "metadata": {
    "id": "OlIS2abxkwan"
   },
   "source": [
    "<a id='1.4'></a>\n",
    "## 2.4. Create Folders"
   ]
  },
  {
   "cell_type": "code",
   "execution_count": 4,
   "metadata": {
    "id": "B8bBq7nsBCfF"
   },
   "outputs": [],
   "source": [
    "import os\n",
    "if not os.path.exists(\"./\" + config.DATA_SAVE_DIR):\n",
    "    os.makedirs(\"./\" + config.DATA_SAVE_DIR)\n",
    "if not os.path.exists(\"./\" + config.TRAINED_MODEL_DIR):\n",
    "    os.makedirs(\"./\" + config.TRAINED_MODEL_DIR)\n",
    "if not os.path.exists(\"./\" + config.TENSORBOARD_LOG_DIR):\n",
    "    os.makedirs(\"./\" + config.TENSORBOARD_LOG_DIR)\n",
    "if not os.path.exists(\"./\" + config.RESULTS_DIR):\n",
    "    os.makedirs(\"./\" + config.RESULTS_DIR)"
   ]
  },
  {
   "cell_type": "markdown",
   "metadata": {
    "id": "slBria_QbU4F"
   },
   "source": [
    "<a id='2'></a>\n",
    "# Part 3. Download Data\n",
    "Yahoo Finance is a website that provides stock data, financial news, financial reports, etc. All the data provided by Yahoo Finance is free.\n",
    "* FinRL uses a class **YahooDownloader** to fetch data from Yahoo Finance API\n",
    "* Call Limit: Using the Public API (without authentication), you are limited to 2,000 requests per hour per IP (or up to a total of 48,000 requests a day).\n"
   ]
  },
  {
   "cell_type": "code",
   "execution_count": 5,
   "metadata": {
    "colab": {
     "base_uri": "https://localhost:8080/"
    },
    "id": "WEwzMkFHbU4G",
    "outputId": "5ef108ef-e7ed-4f2b-8818-b376197e7afb"
   },
   "outputs": [],
   "source": [
    "# df = YahooDownloader(start_date = '2008-01-01',\n",
    "#                      end_date = '2021-09-02',\n",
    "#                      ticker_list = config.DOW_30_TICKER).fetch_data()"
   ]
  },
  {
   "cell_type": "code",
   "execution_count": 6,
   "metadata": {},
   "outputs": [],
   "source": [
    "# stock_codes_all = ['600603', '600583', '600582', '600565', '600558', \n",
    "#                    '600551', '600509', '600503', '600488', '600469', \n",
    "#                    '600439', '600433', '600428', '600425', '600387', \n",
    "#                    '600383', '600382', '600369', '600339', '600337',\n",
    "#                    '600335', '600326', '600320', '600312', '002666', \n",
    "#                    '002654', '002641', '002628', '002627', '002620', \n",
    "# #                    '002608', '002593', '002586', '002582', '002566', '002560',\n",
    "# #                    '002314', '002307', '002303', '002285', '002267', '002251',\n",
    "# #                    '002244', '002225', '002224', '002195', '002181', '002160',\n",
    "# #                    '002146', '002144', '002101', '002094', '002087', '002083',\n",
    "# #                    '002081', '002077', '002062', '002047', '002042', '002040',\n",
    "# #                    '002033', '002031', '002029', '002004', '000961', #, '001965'\n",
    "# #                    '000950', '000937', '000936', '000919', '000917', '000899',\n",
    "# #                    '000888', '000886', '000861', '000813', '000797', '000767',\n",
    "# #                    '000750', '000726', '000722', '000719', '000715', '000709',\n",
    "# #                    '000705', '000690', '000686', '000685', '000680', '000671',\n",
    "# #                    '000666', '000652', '000632', '000627', '000616', '000608',\n",
    "# #                    '000589', '000563', '000560', '000557', '000553', '000552',\n",
    "# #                    '000541', '000531', '000528', '000525', '000521', '000517',\n",
    "# #                    '000514', '000507', '000501', '000419', '000404', '000402',\n",
    "# #                    '000156', '000078', '000069', '000059', '000056', '000042',\n",
    "# #                    '000035', '000031', '000006', '601113', '600387', '600382',\n",
    "                   \n",
    "#                    '600266', '600235', '600208', '600191', '600190', '600187',\n",
    "#                    '600185', '600168', '600166', '600162', '600159', '600157',\n",
    "#                    '600155', '600133', '600128', '600126', '600125', '600120',\n",
    "#                    '600106', '600101', '600094', '600076', '600052', '600051',\n",
    "                   \n",
    "#                    '600509', '600503', '600488', '600469', '600439', '600433',\n",
    "#                    '600428', '600425', '600387', '600383', '600382', '600369',\n",
    "#                    '600339', '600337', '600335', '600326', '600320', '600312',\n",
    "                   \n",
    "#                    '300559', '300554', '300550', '300535', '300510', '300509',\n",
    "#                    '300486', '300483', '300462', '300446', '300434', '300425',\n",
    "#                    '300423', '300419', '300417', '300412', '300411', '300407',\n",
    "                   \n",
    "#                    '002958', '002873', '002818', '002798', '002788', '002763',\n",
    "#                    '002758', '002757', '002753', '002734', '002697', '002637',\n",
    "#                    '002636', '002592', '002558', '002532', '002517', '002496',\n",
    "                   \n",
    "#                    '002043', '002035', '002014', '002002', '000987', '000959',\n",
    "#                    '000951', '000932', '000923', '000921', '000898', '000885',\n",
    "#                    '000883', '000877', '000833', '000830', '000828', '000825',\n",
    "                   \n",
    "#                    '300009', '300008', '300005', '003032', '003006', '003000',\n",
    "#                    '002961', '002945', '002937', '002935', '002931', '002923',\n",
    "#                    '002908', '002907', '002892', '002886', '002878', '002858',\n",
    "                   \n",
    "#                   ]"
   ]
  },
  {
   "cell_type": "code",
   "execution_count": 7,
   "metadata": {
    "scrolled": true
   },
   "outputs": [],
   "source": [
    "# ltdxhq = LTdxHq()\n",
    "\n",
    "# indexs = None\n",
    "# dfs = []\n",
    "# for code in stock_codes_all:\n",
    "#     df = ltdxhq.get_k_data_daily(code, start='2020-01-01') # 2012-01-01\n",
    "    \n",
    "#     if indexs is None:\n",
    "#         indexs = df.index\n",
    "#     else:\n",
    "#         indexs = indexs.union(df.index)\n",
    "    \n",
    "# #     df = df.assign(date = df.index)\n",
    "# #     df = df.assign(day = df.index.weekday)\n",
    "# #     df.date = df.date.dt.strftime('%Y-%m-%d')\n",
    "#     df = df.assign(tic = code)\n",
    "# #     df.index = range(df.shape[0])\n",
    "    \n",
    "#     dfs.append(df)\n",
    "#     print('----------- over %s min: %s max: %s -----------' % (code, df.index.min(), df.index.max()))\n",
    "\n",
    "# for i, df in enumerate(dfs):\n",
    "#     df = df.reindex(indexs)\n",
    "#     df = df.assign(date = df.index)\n",
    "#     df = df.assign(day = df.index.weekday)\n",
    "#     df.index = range(df.shape[0])\n",
    "    \n",
    "#     dfs[i] = df.ffill()\n",
    "    \n",
    "# ddf = pd.concat(dfs)\n",
    "# # df.index = range(df.shape[0])\n",
    "\n",
    "# ltdxhq.close()"
   ]
  },
  {
   "cell_type": "code",
   "execution_count": 8,
   "metadata": {},
   "outputs": [],
   "source": [
    "ddf = pd.read_pickle('d:/ddf.pkl').dropna()"
   ]
  },
  {
   "cell_type": "code",
   "execution_count": 9,
   "metadata": {},
   "outputs": [],
   "source": [
    "# gdf = ddf[-252:].groupby('tic')"
   ]
  },
  {
   "cell_type": "code",
   "execution_count": 10,
   "metadata": {},
   "outputs": [],
   "source": [
    "# gdf.filter(lambda x: x['close'].mean() > 30).tic.unique()"
   ]
  },
  {
   "cell_type": "code",
   "execution_count": 11,
   "metadata": {},
   "outputs": [],
   "source": [
    "ddf = ddf.sort_values(['date','tic'], ignore_index=True)\n",
    "ddf.index = ddf.date.factorize()[0]"
   ]
  },
  {
   "cell_type": "code",
   "execution_count": 12,
   "metadata": {},
   "outputs": [],
   "source": [
    "dl = ddf.loc[-60:,:]\n",
    "dd = dl.pivot_table(index = 'date',columns = 'tic', values = 'close').pct_change().dropna()\n",
    "corr = dd.cov().corr()\n",
    "# corr.style.background_gradient(cmap='coolwarm')\n",
    "\n",
    "# c1 = corr.abs().unstack().sort_values(ascending = True)\n",
    "# c1 = corr.unstack().sort_values(ascending = True)"
   ]
  },
  {
   "cell_type": "code",
   "execution_count": 13,
   "metadata": {},
   "outputs": [],
   "source": [
    "# corr.style.background_gradient(cmap='coolwarm')"
   ]
  },
  {
   "cell_type": "code",
   "execution_count": 14,
   "metadata": {},
   "outputs": [],
   "source": [
    "# corr.sum().sort_values()"
   ]
  },
  {
   "cell_type": "code",
   "execution_count": 15,
   "metadata": {},
   "outputs": [],
   "source": [
    "# s = corr.unstack()\n",
    "# so = s.sort_values(kind=\"quicksort\")"
   ]
  },
  {
   "cell_type": "code",
   "execution_count": 16,
   "metadata": {},
   "outputs": [],
   "source": [
    "# set(so.head(20).index.get_level_values(1).values)"
   ]
  },
  {
   "cell_type": "code",
   "execution_count": 17,
   "metadata": {},
   "outputs": [],
   "source": [
    "# c1.head(5)"
   ]
  },
  {
   "cell_type": "code",
   "execution_count": 18,
   "metadata": {},
   "outputs": [],
   "source": [
    "# stock_codes = []\n",
    "# for c in c1.head(200).index.get_level_values(0).values:\n",
    "#     if c not in stock_codes:\n",
    "#         stock_codes.append(c)\n",
    "#     if len(stock_codes) >= 40:\n",
    "#         break"
   ]
  },
  {
   "cell_type": "code",
   "execution_count": 19,
   "metadata": {},
   "outputs": [],
   "source": [
    "# stock_codes = list(corr[corr.max() < 0.5].sum().sort_values().index.values[:40])"
   ]
  },
  {
   "cell_type": "code",
   "execution_count": 20,
   "metadata": {},
   "outputs": [],
   "source": [
    "stock_codes = list(corr.sum().sort_values().index.values[:6]) # ascending = False"
   ]
  },
  {
   "cell_type": "code",
   "execution_count": 21,
   "metadata": {},
   "outputs": [
    {
     "data": {
      "text/plain": [
       "['000921', '600365', '000609', '601868', '002372', '001965']"
      ]
     },
     "execution_count": 21,
     "metadata": {},
     "output_type": "execute_result"
    }
   ],
   "source": [
    "stock_codes"
   ]
  },
  {
   "cell_type": "code",
   "execution_count": 22,
   "metadata": {},
   "outputs": [],
   "source": [
    "# stock_codes = ['000921', '002032', '300406', '603789']\n",
    "# stock_codes = ['300452', '600908', '601166', '601186', '601288', '601398', '601618', '601988', '603323', '603538', '605218']"
   ]
  },
  {
   "cell_type": "code",
   "execution_count": 23,
   "metadata": {},
   "outputs": [],
   "source": [
    "# print(config.DOW_30_TICKER)\n",
    "# stock_codes = ['603636']\n",
    "# stock_codes = ['600603', '600583', '600582', '600565', '600558', \n",
    "#                '600551', '600509', '600503', '600488', '600469', \n",
    "#                '600439', '600433', '600428', '600425', '600387', \n",
    "#                '600383', '600382', '600369', '600339', '600337',\n",
    "#                '600335', '600326', '600320', '600312', '002666', \n",
    "#                '002654', '002641', '002628', '002627', '002620', \n",
    "#                '002608', '002593', '002586', '002582', '002566', '002560',]\n",
    "# stock_codes = list(c1.head(200).index.get_level_values(0).values)[:20]"
   ]
  },
  {
   "cell_type": "code",
   "execution_count": 24,
   "metadata": {},
   "outputs": [
    {
     "name": "stdout",
     "output_type": "stream",
     "text": [
      "----------- over 000921 min: 2018-01-02 00:00:00 max: 2022-01-20 00:00:00 -----------\n",
      "----------- over 600365 min: 2018-03-20 00:00:00 max: 2022-01-20 00:00:00 -----------\n",
      "----------- over 000609 min: 2018-01-02 00:00:00 max: 2022-01-20 00:00:00 -----------\n",
      "----------- over 601868 min: 2021-09-28 00:00:00 max: 2022-01-20 00:00:00 -----------\n",
      "----------- over 002372 min: 2018-01-02 00:00:00 max: 2022-01-20 00:00:00 -----------\n",
      "----------- over 001965 min: 2018-01-02 00:00:00 max: 2022-01-20 00:00:00 -----------\n"
     ]
    }
   ],
   "source": [
    "ltdxhq = LTdxHq()\n",
    "\n",
    "indexs = None\n",
    "dfs = []\n",
    "for code in stock_codes:\n",
    "    df = ltdxhq.get_k_data_daily(code, start='2018-01-01') # 2014-01-01\n",
    "    \n",
    "    if indexs is None:\n",
    "        indexs = df.index\n",
    "    else:\n",
    "        indexs = indexs.union(df.index)\n",
    "    \n",
    "#     df = df.assign(date = df.index)\n",
    "#     df = df.assign(day = df.index.weekday)\n",
    "#     df.date = df.date.dt.strftime('%Y-%m-%d')\n",
    "    df = df.assign(tic = code)\n",
    "#     df.index = range(df.shape[0])\n",
    "    \n",
    "    dfs.append(df)\n",
    "    print('----------- over %s min: %s max: %s -----------' % (code, df.index.min(), df.index.max()))\n",
    "\n",
    "for i, df in enumerate(dfs):\n",
    "    df = df.reindex(indexs)\n",
    "    df = df.assign(date = df.index)\n",
    "    df = df.assign(day = df.index.weekday)\n",
    "    df.index = range(df.shape[0])\n",
    "    \n",
    "    dfs[i] = df.ffill()\n",
    "    \n",
    "df = pd.concat(dfs)\n",
    "# df.index = range(df.shape[0])\n",
    "\n",
    "ltdxhq.close()"
   ]
  },
  {
   "cell_type": "markdown",
   "metadata": {
    "id": "V9UwKwzRbU4l"
   },
   "source": [
    "# Part 4: Preprocess Data\n",
    "Data preprocessing is a crucial step for training a high quality machine learning model. We need to check for missing data and do feature engineering in order to convert the data into a model-ready state.\n",
    "* Add technical indicators. In practical trading, various information needs to be taken into account, for example the historical stock prices, current holding shares, technical indicators, etc. In this article, we demonstrate two trend-following technical indicators: MACD and RSI.\n",
    "* Add turbulence index. Risk-aversion reflects whether an investor will choose to preserve the capital. It also influences one's trading strategy when facing different market volatility level. To control the risk in a worst-case scenario, such as financial crisis of 2007–2008, FinRL employs the financial turbulence index that measures extreme asset price fluctuation."
   ]
  },
  {
   "cell_type": "code",
   "execution_count": 25,
   "metadata": {
    "colab": {
     "base_uri": "https://localhost:8080/"
    },
    "id": "P5h8RbeBHMDQ",
    "outputId": "c3b3d4ee-99d1-4dd1-dcbd-b153926cf1e2"
   },
   "outputs": [
    {
     "name": "stdout",
     "output_type": "stream",
     "text": [
      "Successfully added technical indicators\n"
     ]
    }
   ],
   "source": [
    "fe = FeatureEngineer(use_technical_indicator=True,\n",
    "                     use_turbulence=False,\n",
    "                     user_defined_feature = False)\n",
    "\n",
    "df = fe.preprocess_data(df)"
   ]
  },
  {
   "cell_type": "code",
   "execution_count": null,
   "metadata": {},
   "outputs": [],
   "source": []
  },
  {
   "cell_type": "markdown",
   "metadata": {
    "id": "qz9K2vul6RmK"
   },
   "source": [
    "## Add covariance matrix as states"
   ]
  },
  {
   "cell_type": "code",
   "execution_count": 26,
   "metadata": {
    "id": "iHVFkbWJ9_Rj"
   },
   "outputs": [],
   "source": [
    "# add covariance matrix as states\n",
    "df=df.sort_values(['date','tic'], ignore_index=True)\n",
    "df.index = df.date.factorize()[0]\n",
    "\n",
    "cov_list = []\n",
    "return_list = []\n",
    "\n",
    "# look back is one year\n",
    "lookback=252\n",
    "for i in range(lookback, len(df.index.unique())):\n",
    "    data_lookback = df.loc[i-lookback:i,:]\n",
    "    price_lookback = data_lookback.pivot_table(index = 'date',columns = 'tic', values = 'close')\n",
    "    return_lookback = price_lookback.pct_change().dropna()\n",
    "    return_list.append(return_lookback)\n",
    "\n",
    "    covs = return_lookback.cov().values\n",
    "    cov_list.append(covs)\n",
    "\n",
    "\n",
    "df_cov = pd.DataFrame({'date':df.date.unique()[lookback:],'cov_list': cov_list,'return_list': return_list})\n",
    "df = df.merge(df_cov, on='date')\n",
    "df = df.sort_values(['date','tic']).reset_index(drop=True)"
   ]
  },
  {
   "cell_type": "code",
   "execution_count": 27,
   "metadata": {},
   "outputs": [],
   "source": [
    "df['daily_variance'] = (df.high-df.low) / df.close"
   ]
  },
  {
   "cell_type": "code",
   "execution_count": 28,
   "metadata": {},
   "outputs": [
    {
     "data": {
      "text/html": [
       "<style type=\"text/css\">\n",
       "#T_0ac24_row0_col0, #T_0ac24_row1_col1, #T_0ac24_row2_col2, #T_0ac24_row3_col3 {\n",
       "  background-color: #b40426;\n",
       "  color: #f1f1f1;\n",
       "}\n",
       "#T_0ac24_row0_col1 {\n",
       "  background-color: #6180e9;\n",
       "  color: #f1f1f1;\n",
       "}\n",
       "#T_0ac24_row0_col2 {\n",
       "  background-color: #9fbfff;\n",
       "  color: #000000;\n",
       "}\n",
       "#T_0ac24_row0_col3 {\n",
       "  background-color: #93b5fe;\n",
       "  color: #000000;\n",
       "}\n",
       "#T_0ac24_row1_col0, #T_0ac24_row2_col0 {\n",
       "  background-color: #4961d2;\n",
       "  color: #f1f1f1;\n",
       "}\n",
       "#T_0ac24_row1_col2 {\n",
       "  background-color: #7ea1fa;\n",
       "  color: #f1f1f1;\n",
       "}\n",
       "#T_0ac24_row1_col3 {\n",
       "  background-color: #dbdcde;\n",
       "  color: #000000;\n",
       "}\n",
       "#T_0ac24_row2_col1, #T_0ac24_row2_col3, #T_0ac24_row3_col0, #T_0ac24_row3_col2 {\n",
       "  background-color: #3b4cc0;\n",
       "  color: #f1f1f1;\n",
       "}\n",
       "#T_0ac24_row3_col1 {\n",
       "  background-color: #b3cdfb;\n",
       "  color: #000000;\n",
       "}\n",
       "</style>\n",
       "<table id=\"T_0ac24_\">\n",
       "  <thead>\n",
       "    <tr>\n",
       "      <th class=\"index_name level0\" >tic</th>\n",
       "      <th class=\"col_heading level0 col0\" >000609</th>\n",
       "      <th class=\"col_heading level0 col1\" >000921</th>\n",
       "      <th class=\"col_heading level0 col2\" >001965</th>\n",
       "      <th class=\"col_heading level0 col3\" >002372</th>\n",
       "    </tr>\n",
       "    <tr>\n",
       "      <th class=\"index_name level0\" >tic</th>\n",
       "      <th class=\"blank col0\" >&nbsp;</th>\n",
       "      <th class=\"blank col1\" >&nbsp;</th>\n",
       "      <th class=\"blank col2\" >&nbsp;</th>\n",
       "      <th class=\"blank col3\" >&nbsp;</th>\n",
       "    </tr>\n",
       "  </thead>\n",
       "  <tbody>\n",
       "    <tr>\n",
       "      <th id=\"T_0ac24_level0_row0\" class=\"row_heading level0 row0\" >000609</th>\n",
       "      <td id=\"T_0ac24_row0_col0\" class=\"data row0 col0\" >1.000000</td>\n",
       "      <td id=\"T_0ac24_row0_col1\" class=\"data row0 col1\" >-0.228613</td>\n",
       "      <td id=\"T_0ac24_row0_col2\" class=\"data row0 col2\" >-0.230215</td>\n",
       "      <td id=\"T_0ac24_row0_col3\" class=\"data row0 col3\" >-0.293139</td>\n",
       "    </tr>\n",
       "    <tr>\n",
       "      <th id=\"T_0ac24_level0_row1\" class=\"row_heading level0 row1\" >000921</th>\n",
       "      <td id=\"T_0ac24_row1_col0\" class=\"data row1 col0\" >-0.228613</td>\n",
       "      <td id=\"T_0ac24_row1_col1\" class=\"data row1 col1\" >1.000000</td>\n",
       "      <td id=\"T_0ac24_row1_col2\" class=\"data row1 col2\" >-0.399420</td>\n",
       "      <td id=\"T_0ac24_row1_col3\" class=\"data row1 col3\" >0.104902</td>\n",
       "    </tr>\n",
       "    <tr>\n",
       "      <th id=\"T_0ac24_level0_row2\" class=\"row_heading level0 row2\" >001965</th>\n",
       "      <td id=\"T_0ac24_row2_col0\" class=\"data row2 col0\" >-0.230215</td>\n",
       "      <td id=\"T_0ac24_row2_col1\" class=\"data row2 col1\" >-0.399420</td>\n",
       "      <td id=\"T_0ac24_row2_col2\" class=\"data row2 col2\" >1.000000</td>\n",
       "      <td id=\"T_0ac24_row2_col3\" class=\"data row2 col3\" >-0.767548</td>\n",
       "    </tr>\n",
       "    <tr>\n",
       "      <th id=\"T_0ac24_level0_row3\" class=\"row_heading level0 row3\" >002372</th>\n",
       "      <td id=\"T_0ac24_row3_col0\" class=\"data row3 col0\" >-0.293139</td>\n",
       "      <td id=\"T_0ac24_row3_col1\" class=\"data row3 col1\" >0.104902</td>\n",
       "      <td id=\"T_0ac24_row3_col2\" class=\"data row3 col2\" >-0.767548</td>\n",
       "      <td id=\"T_0ac24_row3_col3\" class=\"data row3 col3\" >1.000000</td>\n",
       "    </tr>\n",
       "  </tbody>\n",
       "</table>\n"
      ],
      "text/plain": [
       "<pandas.io.formats.style.Styler at 0x29c35c4a908>"
      ]
     },
     "execution_count": 28,
     "metadata": {},
     "output_type": "execute_result"
    }
   ],
   "source": [
    "dl = df.loc[-30:,:]\n",
    "dd = dl.pivot_table(index = 'date',columns = 'tic', values = 'close').pct_change().dropna()\n",
    "dd.cov().corr().style.background_gradient(cmap='coolwarm')"
   ]
  },
  {
   "cell_type": "markdown",
   "metadata": {
    "id": "UooHj1OgbU4v"
   },
   "source": [
    "<a id='4'></a>\n",
    "# Part 5. Design Environment\n",
    "Considering the stochastic and interactive nature of the automated stock trading tasks, a financial task is modeled as a **Markov Decision Process (MDP)** problem. The training process involves observing stock price change, taking an action and reward's calculation to have the agent adjusting its strategy accordingly. By interacting with the environment, the trading agent will derive a trading strategy with the maximized rewards as time proceeds.\n",
    "\n",
    "Our trading environments, based on OpenAI Gym framework, simulate live stock markets with real market data according to the principle of time-driven simulation.\n",
    "\n",
    "The action space describes the allowed portfolio weights that the agent interacts with the environment. Each element in the portfolio weights vector is non-negative and no more than 100%. Also, the sum of elements in each portfolio weight should equal to 100%."
   ]
  },
  {
   "cell_type": "markdown",
   "metadata": {
    "id": "MQnmN1qdk88I"
   },
   "source": [
    "## Training data split: 2009-01-01 to 2020-06-30"
   ]
  },
  {
   "cell_type": "code",
   "execution_count": 29,
   "metadata": {
    "id": "NrPxgv4eBQ_R"
   },
   "outputs": [],
   "source": [
    "train = data_split(df, '2019-01-01','2022-01-01') # 2021-07-01 2022-01-01"
   ]
  },
  {
   "cell_type": "code",
   "execution_count": 30,
   "metadata": {},
   "outputs": [
    {
     "data": {
      "text/html": [
       "<div>\n",
       "<style scoped>\n",
       "    .dataframe tbody tr th:only-of-type {\n",
       "        vertical-align: middle;\n",
       "    }\n",
       "\n",
       "    .dataframe tbody tr th {\n",
       "        vertical-align: top;\n",
       "    }\n",
       "\n",
       "    .dataframe thead th {\n",
       "        text-align: right;\n",
       "    }\n",
       "</style>\n",
       "<table border=\"1\" class=\"dataframe\">\n",
       "  <thead>\n",
       "    <tr style=\"text-align: right;\">\n",
       "      <th></th>\n",
       "      <th>open</th>\n",
       "      <th>close</th>\n",
       "      <th>high</th>\n",
       "      <th>low</th>\n",
       "      <th>volume</th>\n",
       "      <th>amount</th>\n",
       "      <th>tic</th>\n",
       "      <th>date</th>\n",
       "      <th>day</th>\n",
       "      <th>macd</th>\n",
       "      <th>boll_ub</th>\n",
       "      <th>boll_lb</th>\n",
       "      <th>rsi_30</th>\n",
       "      <th>cci_30</th>\n",
       "      <th>dx_30</th>\n",
       "      <th>close_30_sma</th>\n",
       "      <th>close_60_sma</th>\n",
       "      <th>cov_list</th>\n",
       "      <th>return_list</th>\n",
       "      <th>daily_variance</th>\n",
       "    </tr>\n",
       "  </thead>\n",
       "  <tbody>\n",
       "    <tr>\n",
       "      <th>0</th>\n",
       "      <td>5.27</td>\n",
       "      <td>5.29</td>\n",
       "      <td>5.32</td>\n",
       "      <td>5.25</td>\n",
       "      <td>5759311.0</td>\n",
       "      <td>30399482.0</td>\n",
       "      <td>000609</td>\n",
       "      <td>2019-01-15</td>\n",
       "      <td>1</td>\n",
       "      <td>-0.082550</td>\n",
       "      <td>5.946131</td>\n",
       "      <td>4.840869</td>\n",
       "      <td>48.063900</td>\n",
       "      <td>-59.971539</td>\n",
       "      <td>0.911034</td>\n",
       "      <td>5.441000</td>\n",
       "      <td>5.467333</td>\n",
       "      <td>[[0.0009595613956845235, 0.0003124109814202052...</td>\n",
       "      <td>tic           000609    000921    001965    00...</td>\n",
       "      <td>0.013233</td>\n",
       "    </tr>\n",
       "    <tr>\n",
       "      <th>0</th>\n",
       "      <td>7.34</td>\n",
       "      <td>7.55</td>\n",
       "      <td>7.55</td>\n",
       "      <td>7.22</td>\n",
       "      <td>20004778.0</td>\n",
       "      <td>161089488.0</td>\n",
       "      <td>000921</td>\n",
       "      <td>2019-01-15</td>\n",
       "      <td>1</td>\n",
       "      <td>0.171956</td>\n",
       "      <td>7.579382</td>\n",
       "      <td>5.955618</td>\n",
       "      <td>57.955100</td>\n",
       "      <td>171.516755</td>\n",
       "      <td>60.304291</td>\n",
       "      <td>6.799667</td>\n",
       "      <td>6.725167</td>\n",
       "      <td>[[0.0009595613956845235, 0.0003124109814202052...</td>\n",
       "      <td>tic           000609    000921    001965    00...</td>\n",
       "      <td>0.043709</td>\n",
       "    </tr>\n",
       "    <tr>\n",
       "      <th>0</th>\n",
       "      <td>7.39</td>\n",
       "      <td>7.42</td>\n",
       "      <td>7.43</td>\n",
       "      <td>7.34</td>\n",
       "      <td>1422853.0</td>\n",
       "      <td>11541926.0</td>\n",
       "      <td>001965</td>\n",
       "      <td>2019-01-15</td>\n",
       "      <td>1</td>\n",
       "      <td>-0.008600</td>\n",
       "      <td>7.496838</td>\n",
       "      <td>7.139162</td>\n",
       "      <td>49.760481</td>\n",
       "      <td>27.822945</td>\n",
       "      <td>12.144795</td>\n",
       "      <td>7.363000</td>\n",
       "      <td>7.493500</td>\n",
       "      <td>[[0.0009595613956845235, 0.0003124109814202052...</td>\n",
       "      <td>tic           000609    000921    001965    00...</td>\n",
       "      <td>0.012129</td>\n",
       "    </tr>\n",
       "    <tr>\n",
       "      <th>0</th>\n",
       "      <td>11.70</td>\n",
       "      <td>12.04</td>\n",
       "      <td>12.08</td>\n",
       "      <td>11.68</td>\n",
       "      <td>4112392.0</td>\n",
       "      <td>64759288.0</td>\n",
       "      <td>002372</td>\n",
       "      <td>2019-01-15</td>\n",
       "      <td>1</td>\n",
       "      <td>0.160269</td>\n",
       "      <td>12.085685</td>\n",
       "      <td>10.869315</td>\n",
       "      <td>56.642725</td>\n",
       "      <td>165.038307</td>\n",
       "      <td>13.980941</td>\n",
       "      <td>11.421000</td>\n",
       "      <td>11.001833</td>\n",
       "      <td>[[0.0009595613956845235, 0.0003124109814202052...</td>\n",
       "      <td>tic           000609    000921    001965    00...</td>\n",
       "      <td>0.033223</td>\n",
       "    </tr>\n",
       "    <tr>\n",
       "      <th>1</th>\n",
       "      <td>5.28</td>\n",
       "      <td>5.30</td>\n",
       "      <td>5.59</td>\n",
       "      <td>5.16</td>\n",
       "      <td>13215401.0</td>\n",
       "      <td>70665424.0</td>\n",
       "      <td>000609</td>\n",
       "      <td>2019-01-16</td>\n",
       "      <td>2</td>\n",
       "      <td>-0.076507</td>\n",
       "      <td>5.937906</td>\n",
       "      <td>4.832094</td>\n",
       "      <td>48.186940</td>\n",
       "      <td>-33.431536</td>\n",
       "      <td>13.031968</td>\n",
       "      <td>5.425000</td>\n",
       "      <td>5.483167</td>\n",
       "      <td>[[0.000959630829728534, 0.00031221297698058804...</td>\n",
       "      <td>tic           000609    000921    001965    00...</td>\n",
       "      <td>0.081132</td>\n",
       "    </tr>\n",
       "  </tbody>\n",
       "</table>\n",
       "</div>"
      ],
      "text/plain": [
       "    open  close   high    low      volume       amount     tic       date  \\\n",
       "0   5.27   5.29   5.32   5.25   5759311.0   30399482.0  000609 2019-01-15   \n",
       "0   7.34   7.55   7.55   7.22  20004778.0  161089488.0  000921 2019-01-15   \n",
       "0   7.39   7.42   7.43   7.34   1422853.0   11541926.0  001965 2019-01-15   \n",
       "0  11.70  12.04  12.08  11.68   4112392.0   64759288.0  002372 2019-01-15   \n",
       "1   5.28   5.30   5.59   5.16  13215401.0   70665424.0  000609 2019-01-16   \n",
       "\n",
       "   day      macd    boll_ub    boll_lb     rsi_30      cci_30      dx_30  \\\n",
       "0    1 -0.082550   5.946131   4.840869  48.063900  -59.971539   0.911034   \n",
       "0    1  0.171956   7.579382   5.955618  57.955100  171.516755  60.304291   \n",
       "0    1 -0.008600   7.496838   7.139162  49.760481   27.822945  12.144795   \n",
       "0    1  0.160269  12.085685  10.869315  56.642725  165.038307  13.980941   \n",
       "1    2 -0.076507   5.937906   4.832094  48.186940  -33.431536  13.031968   \n",
       "\n",
       "   close_30_sma  close_60_sma  \\\n",
       "0      5.441000      5.467333   \n",
       "0      6.799667      6.725167   \n",
       "0      7.363000      7.493500   \n",
       "0     11.421000     11.001833   \n",
       "1      5.425000      5.483167   \n",
       "\n",
       "                                            cov_list  \\\n",
       "0  [[0.0009595613956845235, 0.0003124109814202052...   \n",
       "0  [[0.0009595613956845235, 0.0003124109814202052...   \n",
       "0  [[0.0009595613956845235, 0.0003124109814202052...   \n",
       "0  [[0.0009595613956845235, 0.0003124109814202052...   \n",
       "1  [[0.000959630829728534, 0.00031221297698058804...   \n",
       "\n",
       "                                         return_list  daily_variance  \n",
       "0  tic           000609    000921    001965    00...        0.013233  \n",
       "0  tic           000609    000921    001965    00...        0.043709  \n",
       "0  tic           000609    000921    001965    00...        0.012129  \n",
       "0  tic           000609    000921    001965    00...        0.033223  \n",
       "1  tic           000609    000921    001965    00...        0.081132  "
      ]
     },
     "execution_count": 30,
     "metadata": {},
     "output_type": "execute_result"
    }
   ],
   "source": [
    "train.head()"
   ]
  },
  {
   "cell_type": "markdown",
   "metadata": {
    "id": "sxQTNjpblAMN"
   },
   "source": [
    "\n",
    "## Environment for Portfolio Allocation\n"
   ]
  },
  {
   "cell_type": "code",
   "execution_count": 31,
   "metadata": {
    "id": "xlfE-VERbU40"
   },
   "outputs": [],
   "source": [
    "import numpy as np\n",
    "import pandas as pd\n",
    "from gym.utils import seeding\n",
    "import gym\n",
    "from gym import spaces\n",
    "import matplotlib\n",
    "matplotlib.use('Agg')\n",
    "import matplotlib.pyplot as plt\n",
    "from stable_baselines3.common.vec_env import DummyVecEnv\n",
    "\n",
    "\n",
    "class StockPortfolioEnv(gym.Env):\n",
    "    \"\"\"A portfolio allocation environment for OpenAI gym\n",
    "\n",
    "    Attributes\n",
    "    ----------\n",
    "        df: DataFrame\n",
    "            input data\n",
    "        stock_dim : int\n",
    "            number of unique stocks\n",
    "        hmax : int\n",
    "            maximum number of shares to trade\n",
    "        initial_amount : int\n",
    "            start money\n",
    "        transaction_cost_pct: float\n",
    "            transaction cost percentage per trade\n",
    "        reward_scaling: float\n",
    "            scaling factor for reward, good for training\n",
    "        state_space: int\n",
    "            the dimension of input features\n",
    "        action_space: int\n",
    "            equals stock dimension\n",
    "        tech_indicator_list: list\n",
    "            a list of technical indicator names\n",
    "        turbulence_threshold: int\n",
    "            a threshold to control risk aversion\n",
    "        day: int\n",
    "            an increment number to control date\n",
    "\n",
    "    Methods\n",
    "    -------\n",
    "    _sell_stock()\n",
    "        perform sell action based on the sign of the action\n",
    "    _buy_stock()\n",
    "        perform buy action based on the sign of the action\n",
    "    step()\n",
    "        at each step the agent will return actions, then \n",
    "        we will calculate the reward, and return the next observation.\n",
    "    reset()\n",
    "        reset the environment\n",
    "    render()\n",
    "        use render to return other functions\n",
    "    save_asset_memory()\n",
    "        return account value at each time step\n",
    "    save_action_memory()\n",
    "        return actions/positions at each time step\n",
    "        \n",
    "\n",
    "    \"\"\"\n",
    "    metadata = {'render.modes': ['human']}\n",
    "\n",
    "    def __init__(self, \n",
    "                 df,\n",
    "                 stock_dim,\n",
    "                 hmax,\n",
    "                 initial_amount,\n",
    "                 transaction_cost_pct,\n",
    "                 reward_scaling,\n",
    "                 state_space,\n",
    "                 action_space,\n",
    "                 tech_indicator_list,\n",
    "                 turbulence_threshold=None,\n",
    "                 lookback=252,\n",
    "                 day=0):\n",
    "        #super(StockEnv, self).__init__()\n",
    "        #money = 10 , scope = 1\n",
    "        self.day = day\n",
    "        self.lookback=lookback\n",
    "        self.df = df\n",
    "        self.stock_dim = stock_dim\n",
    "        self.hmax = hmax\n",
    "        self.initial_amount = initial_amount\n",
    "        self.transaction_cost_pct =transaction_cost_pct\n",
    "        self.reward_scaling = reward_scaling\n",
    "        self.state_space = state_space\n",
    "        self.action_space = action_space\n",
    "        self.tech_indicator_list = tech_indicator_list\n",
    "\n",
    "        # action_space normalization and shape is self.stock_dim\n",
    "        self.action_space = spaces.Box(low=0, high=1,shape=(self.action_space,)) \n",
    "        self.observation_space = spaces.Box(low=-np.inf, high=np.inf, shape = (self.state_space+len(self.tech_indicator_list),self.state_space))\n",
    "\n",
    "        # load data from a pandas dataframe\n",
    "        self.data = self.df.loc[self.day,:]\n",
    "        self.covs = self.data['cov_list'].values[0]\n",
    "        self.state =  np.append(np.array(self.covs), [self.data[tech].values.tolist() for tech in self.tech_indicator_list ], axis=0)\n",
    "        self.terminal = False\n",
    "        self.turbulence_threshold = turbulence_threshold\n",
    "        # initalize state: inital portfolio return + individual stock return + individual weights\n",
    "        self.portfolio_value = self.initial_amount\n",
    "\n",
    "        # memorize portfolio value each step\n",
    "        self.asset_memory = [self.initial_amount]\n",
    "        # memorize portfolio return each step\n",
    "        self.portfolio_return_memory = [0]\n",
    "        self.actions_memory=[[1 / self.stock_dim]*self.stock_dim]\n",
    "        self.date_memory=[self.data.date.unique()[0]]\n",
    "\n",
    "        \n",
    "    def step(self, actions):\n",
    "        self.terminal = self.day >= len(self.df.index.unique()) - 1\n",
    "\n",
    "        if self.terminal:\n",
    "            df = pd.DataFrame(self.portfolio_return_memory)\n",
    "            df.columns = ['daily_return']\n",
    "#             plt.plot(df.daily_return.cumsum(),'r')\n",
    "#             plt.savefig('results/cumulative_reward.png')\n",
    "#             plt.close()\n",
    "            \n",
    "#             plt.plot(self.portfolio_return_memory,'r')\n",
    "#             plt.savefig('results/rewards.png')\n",
    "#             plt.close()\n",
    "\n",
    "            print(\"=================================\")\n",
    "            print(\"begin_total_asset:{}\".format(self.asset_memory[0]))\n",
    "            print(\"end_total_asset:{}\".format(self.portfolio_value))\n",
    "\n",
    "            df_daily_return = pd.DataFrame(self.portfolio_return_memory)\n",
    "            df_daily_return.columns = ['daily_return']\n",
    "            if df_daily_return['daily_return'].std() != 0:\n",
    "                sharpe = (252 ** 0.5) * df_daily_return['daily_return'].mean() / df_daily_return['daily_return'].std()\n",
    "                print(\"Sharpe: \", sharpe)\n",
    "            print(\"=================================\")\n",
    "            \n",
    "            return self.state, self.reward, self.terminal,{}\n",
    "\n",
    "        else:\n",
    "            weights = self.softmax_normalization(actions)\n",
    "            self.actions_memory.append(weights)\n",
    "            last_day_memory = self.data\n",
    "\n",
    "            #load next state\n",
    "            self.day += 1\n",
    "            self.data = self.df.loc[self.day,:]\n",
    "            self.covs = self.data['cov_list'].values[0]\n",
    "            self.state = np.append(np.array(self.covs), [self.data[tech].values.tolist() for tech in self.tech_indicator_list], axis=0)\n",
    "            portfolio_return = sum(((self.data.close.values / last_day_memory.close.values) - 1) * weights)\n",
    "#             log_portfolio_return = np.log(sum((self.data.close.values / last_day_memory.close.values) * weights))\n",
    "            # update portfolio value\n",
    "            new_portfolio_value = self.portfolio_value * (1 + portfolio_return)\n",
    "#             new_portfolio_value = self.portfolio_value * (1 + log_portfolio_return)\n",
    "            self.portfolio_value = new_portfolio_value\n",
    "\n",
    "            # save into memory\n",
    "            self.portfolio_return_memory.append(portfolio_return)\n",
    "            self.date_memory.append(self.data.date.unique()[0])\n",
    "            self.asset_memory.append(new_portfolio_value)\n",
    "\n",
    "            # the reward is the new portfolio value or end portfolo value\n",
    "            self.reward = new_portfolio_value\n",
    "\n",
    "        return self.state, self.reward, self.terminal, {}\n",
    "\n",
    "    def reset(self):\n",
    "        self.asset_memory = [self.initial_amount]\n",
    "        self.day = 0\n",
    "        self.data = self.df.loc[self.day,:]\n",
    "        # load states\n",
    "        self.covs = self.data['cov_list'].values[0]\n",
    "        self.state =  np.append(np.array(self.covs), [self.data[tech].values.tolist() for tech in self.tech_indicator_list], axis=0)\n",
    "        self.portfolio_value = self.initial_amount\n",
    "        #self.cost = 0\n",
    "        #self.trades = 0\n",
    "        self.terminal = False\n",
    "        self.portfolio_return_memory = [0]\n",
    "        self.actions_memory=[[1/self.stock_dim]*self.stock_dim]\n",
    "        self.date_memory=[self.data.date.unique()[0]]\n",
    "        return self.state\n",
    "    \n",
    "    def render(self, mode='human'):\n",
    "        return self.state\n",
    "        \n",
    "    def softmax_normalization(self, actions):\n",
    "        numerator = np.exp(actions)\n",
    "        denominator = np.sum(np.exp(actions))\n",
    "        softmax_output = numerator / denominator\n",
    "        return softmax_output\n",
    "\n",
    "    \n",
    "    def save_asset_memory(self):\n",
    "        date_list = self.date_memory\n",
    "        portfolio_return = self.portfolio_return_memory\n",
    "        #print(len(date_list))\n",
    "        #print(len(asset_list))\n",
    "        df_account_value = pd.DataFrame({'date':date_list,'daily_return':portfolio_return})\n",
    "        return df_account_value\n",
    "\n",
    "    def save_action_memory(self):\n",
    "        # date and close price length must match actions length\n",
    "        date_list = self.date_memory\n",
    "        df_date = pd.DataFrame(date_list)\n",
    "        df_date.columns = ['date']\n",
    "        \n",
    "        action_list = self.actions_memory\n",
    "        df_actions = pd.DataFrame(action_list)\n",
    "        df_actions.columns = self.data.tic.values\n",
    "        df_actions.index = df_date.date\n",
    "        #df_actions = pd.DataFrame({'date':date_list,'actions':action_list})\n",
    "        return df_actions\n",
    "\n",
    "    def _seed(self, seed=None):\n",
    "        self.np_random, seed = seeding.np_random(seed)\n",
    "        return [seed]\n",
    "\n",
    "    def get_sb_env(self):\n",
    "        e = DummyVecEnv([lambda: self])\n",
    "        obs = e.reset()\n",
    "        return e, obs"
   ]
  },
  {
   "cell_type": "code",
   "execution_count": 32,
   "metadata": {
    "colab": {
     "base_uri": "https://localhost:8080/"
    },
    "id": "MzD06X0CbU43",
    "outputId": "5a61db56-e29e-4377-cb7b-0b8e3608754d"
   },
   "outputs": [
    {
     "name": "stdout",
     "output_type": "stream",
     "text": [
      "Stock Dimension: 4, State Space: 4\n"
     ]
    }
   ],
   "source": [
    "stock_dimension = len(train.tic.unique())\n",
    "state_space = stock_dimension\n",
    "print(f'Stock Dimension: {stock_dimension}, State Space: {state_space}')"
   ]
  },
  {
   "cell_type": "code",
   "execution_count": 33,
   "metadata": {},
   "outputs": [
    {
     "data": {
      "text/plain": [
       "['macd',\n",
       " 'boll_ub',\n",
       " 'boll_lb',\n",
       " 'rsi_30',\n",
       " 'cci_30',\n",
       " 'dx_30',\n",
       " 'close_30_sma',\n",
       " 'close_60_sma']"
      ]
     },
     "execution_count": 33,
     "metadata": {},
     "output_type": "execute_result"
    }
   ],
   "source": [
    "config.TECHNICAL_INDICATORS_LIST"
   ]
  },
  {
   "cell_type": "code",
   "execution_count": 34,
   "metadata": {
    "id": "jyg0_ZuVEVQ5"
   },
   "outputs": [],
   "source": [
    "# ['daily_variance', 'change', 'log_volume', 'close','day', 'macd', 'rsi_30', 'boll_ub', 'dx_30']\n",
    "# ['macd', 'boll_ub', 'boll_lb', 'rsi_30', 'boll_ub', 'dx_30', 'close_30_sma', 'close_60_sma'] # cci_30\n",
    "tech_indicator_list = ['macd', 'boll_ub', 'boll_lb', 'rsi_30', 'daily_variance', 'dx_30', 'close_30_sma', 'close_60_sma']\n",
    "env_kwargs = {\n",
    "    \"hmax\": 100, \n",
    "    \"initial_amount\": 100000, \n",
    "    \"transaction_cost_pct\": 0, \n",
    "    \"state_space\": state_space, \n",
    "    \"stock_dim\": stock_dimension, \n",
    "    \"tech_indicator_list\": tech_indicator_list, # config.TECHNICAL_INDICATORS_LIST, \n",
    "    \"action_space\": stock_dimension, \n",
    "    \"reward_scaling\": 1e-1\n",
    "    \n",
    "}\n",
    "\n",
    "e_train_gym = StockPortfolioEnv(df = train, **env_kwargs)"
   ]
  },
  {
   "cell_type": "code",
   "execution_count": 35,
   "metadata": {
    "colab": {
     "base_uri": "https://localhost:8080/"
    },
    "id": "HTlOf8SJGdkl",
    "outputId": "8ab5be70-5b2f-4142-facb-b5303ba23f29"
   },
   "outputs": [
    {
     "name": "stdout",
     "output_type": "stream",
     "text": [
      "<class 'stable_baselines3.common.vec_env.dummy_vec_env.DummyVecEnv'>\n"
     ]
    }
   ],
   "source": [
    "env_train, _ = e_train_gym.get_sb_env()\n",
    "print(type(env_train))"
   ]
  },
  {
   "cell_type": "markdown",
   "metadata": {
    "id": "2eKIu5UPlPnk"
   },
   "source": [
    "<a id='5'></a>\n",
    "# Part 6: Implement DRL Algorithms\n",
    "* The implementation of the DRL algorithms are based on **OpenAI Baselines** and **Stable Baselines**. Stable Baselines is a fork of OpenAI Baselines, with a major structural refactoring, and code cleanups.\n",
    "* We use two DRL algorithms in FinRL library PPO andf A2C"
   ]
  },
  {
   "cell_type": "markdown",
   "metadata": {
    "id": "hdPe8uzflbXe"
   },
   "source": [
    "### Model 1: **A2C**\n"
   ]
  },
  {
   "cell_type": "code",
   "execution_count": 36,
   "metadata": {
    "colab": {
     "base_uri": "https://localhost:8080/"
    },
    "id": "t1tORf1fIcQ2",
    "outputId": "4d59c89e-d356-4434-b824-0aa7b79268a9"
   },
   "outputs": [
    {
     "name": "stdout",
     "output_type": "stream",
     "text": [
      "{'n_steps': 10, 'ent_coef': 0.005, 'learning_rate': 0.0001}\n",
      "Using cuda device\n"
     ]
    }
   ],
   "source": [
    "agent = DRLAgent(env = env_train)\n",
    "\n",
    "A2C_PARAMS = {\"n_steps\": 10, \"ent_coef\": 0.005, \"learning_rate\": 0.0001}\n",
    "model_a2c = agent.get_model(model_name=\"a2c\", model_kwargs = A2C_PARAMS)"
   ]
  },
  {
   "cell_type": "code",
   "execution_count": 37,
   "metadata": {
    "colab": {
     "base_uri": "https://localhost:8080/"
    },
    "id": "DazEdrMpIdyz",
    "outputId": "e1af7ec7-9703-4794-ff5c-608a807eb4f6",
    "scrolled": true
   },
   "outputs": [
    {
     "name": "stdout",
     "output_type": "stream",
     "text": [
      "=================================\n",
      "begin_total_asset:100000\n",
      "end_total_asset:145543.4677899015\n",
      "Sharpe:  0.6127363110147936\n",
      "=================================\n",
      "-------------------------------------\n",
      "| time/                 |           |\n",
      "|    fps                | 279       |\n",
      "|    iterations         | 100       |\n",
      "|    time_elapsed       | 3         |\n",
      "|    total_timesteps    | 1000      |\n",
      "| train/                |           |\n",
      "|    entropy_loss       | -5.67     |\n",
      "|    explained_variance | -3.58e-07 |\n",
      "|    learning_rate      | 0.0001    |\n",
      "|    n_updates          | 99        |\n",
      "|    policy_loss        | 3.01e+06  |\n",
      "|    reward             | 101608.2  |\n",
      "|    std                | 0.998     |\n",
      "|    value_loss         | 3.9e+11   |\n",
      "-------------------------------------\n"
     ]
    }
   ],
   "source": [
    "trained_a2c = agent.train_model(model=model_a2c, tb_log_name='a2c', total_timesteps=1000)"
   ]
  },
  {
   "cell_type": "markdown",
   "metadata": {
    "id": "lvrqTro3lhAh"
   },
   "source": [
    "### Model 2: **PPO**\n"
   ]
  },
  {
   "cell_type": "code",
   "execution_count": 38,
   "metadata": {
    "colab": {
     "base_uri": "https://localhost:8080/"
    },
    "id": "kVXta7jVKMhV",
    "outputId": "8a37139a-1d55-425c-881e-c5a6c2377d4c"
   },
   "outputs": [
    {
     "name": "stdout",
     "output_type": "stream",
     "text": [
      "{'n_steps': 2048, 'ent_coef': 0.005, 'learning_rate': 0.0001, 'batch_size': 128}\n",
      "Using cuda device\n"
     ]
    }
   ],
   "source": [
    "agent = DRLAgent(env = env_train)\n",
    "PPO_PARAMS = {\n",
    "    \"n_steps\": 2048,\n",
    "    \"ent_coef\": 0.005,\n",
    "    \"learning_rate\": 0.0001,\n",
    "    \"batch_size\": 128,\n",
    "}\n",
    "model_ppo = agent.get_model(\"ppo\", model_kwargs = PPO_PARAMS)"
   ]
  },
  {
   "cell_type": "code",
   "execution_count": 39,
   "metadata": {
    "colab": {
     "base_uri": "https://localhost:8080/"
    },
    "id": "z5XlUIszKUGx",
    "outputId": "e30e5260-b9c5-462a-efa7-f6d2ec54bef1",
    "scrolled": true
   },
   "outputs": [
    {
     "name": "stdout",
     "output_type": "stream",
     "text": [
      "=================================\n",
      "begin_total_asset:100000\n",
      "end_total_asset:169101.45476955493\n",
      "Sharpe:  0.8092037346819474\n",
      "=================================\n",
      "=================================\n",
      "begin_total_asset:100000\n",
      "end_total_asset:173364.77201910227\n",
      "Sharpe:  0.8373545804698366\n",
      "=================================\n",
      "---------------------------------\n",
      "| time/              |          |\n",
      "|    fps             | 609      |\n",
      "|    iterations      | 1        |\n",
      "|    time_elapsed    | 3        |\n",
      "|    total_timesteps | 2048     |\n",
      "| train/             |          |\n",
      "|    reward          | 130566.4 |\n",
      "---------------------------------\n"
     ]
    }
   ],
   "source": [
    "trained_ppo = agent.train_model(model=model_ppo, tb_log_name='ppo', total_timesteps=1000)"
   ]
  },
  {
   "cell_type": "markdown",
   "metadata": {
    "id": "E2Ma6YpTlnuZ"
   },
   "source": [
    "## Back-Testing\n",
    "Assume that we have $1,000,000 initial capital at 2020-01-01. We use the PPO, A2C, SVM, Linear Regression, Decision Tree, Random Foreset models to trade Dow jones 30 constituent stocks.\n"
   ]
  },
  {
   "cell_type": "code",
   "execution_count": 103,
   "metadata": {
    "id": "uas8U6k455sI"
   },
   "outputs": [],
   "source": [
    "trade = data_split(df, '2021-01-01', '2022-01-22') # '2021-12-20', '2023-01-01'\n",
    "e_trade_gym = StockPortfolioEnv(df = trade, **env_kwargs)"
   ]
  },
  {
   "cell_type": "code",
   "execution_count": 104,
   "metadata": {
    "id": "IY9FV6IZlcFf"
   },
   "outputs": [],
   "source": [
    "import torch\n",
    "%matplotlib inline\n",
    "import plotly.express as px"
   ]
  },
  {
   "cell_type": "code",
   "execution_count": 105,
   "metadata": {
    "id": "GjE0koq1SRW5"
   },
   "outputs": [],
   "source": [
    "from pypfopt.efficient_frontier import EfficientFrontier\n",
    "from pypfopt import risk_models\n",
    "import pandas as pd\n",
    "from pypfopt import EfficientFrontier\n",
    "from pypfopt import expected_returns\n",
    "from pypfopt import objective_functions\n",
    "unique_tic = trade.tic.unique()\n",
    "unique_trade_date = trade.date.unique()"
   ]
  },
  {
   "cell_type": "code",
   "execution_count": 106,
   "metadata": {
    "colab": {
     "base_uri": "https://localhost:8080/"
    },
    "id": "_NMOUIHy3NHD",
    "outputId": "5f98ffee-4c13-41e8-b4e8-5ed3c2dd67d4"
   },
   "outputs": [
    {
     "name": "stdout",
     "output_type": "stream",
     "text": [
      "Annual return         -0.720442\n",
      "Cumulative returns    -0.068359\n",
      "Annual volatility      0.397178\n",
      "Sharpe ratio          -3.260455\n",
      "Calmar ratio          -8.782534\n",
      "Stability              0.438016\n",
      "Max drawdown          -0.082031\n",
      "Omega ratio            0.579891\n",
      "Sortino ratio         -3.781332\n",
      "Skew                        NaN\n",
      "Kurtosis                    NaN\n",
      "Tail ratio             0.566184\n",
      "Daily value at risk   -0.055178\n",
      "dtype: float64\n"
     ]
    }
   ],
   "source": [
    "import pyfolio\n",
    "%matplotlib inline\n",
    "from finrl.plot import backtest_stats, backtest_plot, get_daily_return, get_baseline, get_baseline_tdx, convert_daily_return_to_pyfolio_ts\n",
    "\n",
    "baseline_df = get_baseline_tdx(ticker='600469', start='2022-01-01', end='2023-01-01') # \"600558\"\n",
    "\n",
    "baseline_df['date'] = baseline_df.index # pd.to_datetime(baseline_df[\"date\"], format=\"%Y-%m-%d\")\n",
    "baseline_df.index = range(baseline_df.shape[0])\n",
    "\n",
    "baseline_df_stats = backtest_stats(baseline_df, value_col_name='close')\n",
    "baseline_returns = get_daily_return(baseline_df, value_col_name='close')\n",
    "\n",
    "dji_cumpod =(baseline_returns + 1).cumprod() - 1"
   ]
  },
  {
   "cell_type": "code",
   "execution_count": 107,
   "metadata": {
    "colab": {
     "base_uri": "https://localhost:8080/"
    },
    "id": "QUcP0AmbPaFg",
    "outputId": "939716ee-e8f0-4811-d27d-b1dcd2773745"
   },
   "outputs": [
    {
     "name": "stdout",
     "output_type": "stream",
     "text": [
      "=================================\n",
      "begin_total_asset:100000\n",
      "end_total_asset:120474.36783310909\n",
      "Sharpe:  0.8596234101821464\n",
      "=================================\n",
      "hit end!\n",
      "=================================\n",
      "begin_total_asset:100000\n",
      "end_total_asset:128564.78886694447\n",
      "Sharpe:  1.0898618276604934\n",
      "=================================\n",
      "hit end!\n"
     ]
    }
   ],
   "source": [
    "from pyfolio import timeseries\n",
    "\n",
    "df_daily_return_a2c, df_actions_a2c = DRLAgent.DRL_prediction(model=trained_a2c, environment=e_trade_gym)\n",
    "df_daily_return_ppo, df_actions_ppo = DRLAgent.DRL_prediction(model=trained_ppo, environment=e_trade_gym)\n",
    "time_ind = pd.Series(df_daily_return_a2c.date)\n",
    "a2c_cumpod =(df_daily_return_a2c.daily_return + 1).cumprod() - 1\n",
    "ppo_cumpod =(df_daily_return_ppo.daily_return + 1).cumprod() - 1\n",
    "DRL_strat_a2c = convert_daily_return_to_pyfolio_ts(df_daily_return_a2c)\n",
    "DRL_strat_ppo = convert_daily_return_to_pyfolio_ts(df_daily_return_ppo)\n",
    "\n",
    "perf_func = timeseries.perf_stats \n",
    "perf_stats_all_a2c = perf_func(returns=DRL_strat_a2c, \n",
    "                               factor_returns=DRL_strat_a2c, \n",
    "                               positions=None, transactions=None, turnover_denom=\"AGB\")\n",
    "perf_stats_all_ppo = perf_func(returns=DRL_strat_ppo, \n",
    "                               factor_returns=DRL_strat_ppo, \n",
    "                               positions=None, transactions=None, turnover_denom=\"AGB\")"
   ]
  },
  {
   "cell_type": "code",
   "execution_count": 108,
   "metadata": {},
   "outputs": [
    {
     "data": {
      "text/plain": [
       "0      0.000000\n",
       "1     -0.014925\n",
       "2     -0.002292\n",
       "3     -0.027836\n",
       "4     -0.011583\n",
       "         ...   \n",
       "251    0.215407\n",
       "252    0.210270\n",
       "253    0.244560\n",
       "254    0.283721\n",
       "255    0.285648\n",
       "Name: daily_return, Length: 256, dtype: float64"
      ]
     },
     "execution_count": 108,
     "metadata": {},
     "output_type": "execute_result"
    }
   ],
   "source": [
    "ppo_cumpod"
   ]
  },
  {
   "cell_type": "code",
   "execution_count": null,
   "metadata": {},
   "outputs": [],
   "source": []
  },
  {
   "cell_type": "code",
   "execution_count": null,
   "metadata": {},
   "outputs": [],
   "source": []
  },
  {
   "cell_type": "code",
   "execution_count": null,
   "metadata": {},
   "outputs": [],
   "source": []
  },
  {
   "cell_type": "code",
   "execution_count": null,
   "metadata": {},
   "outputs": [],
   "source": []
  },
  {
   "cell_type": "code",
   "execution_count": null,
   "metadata": {},
   "outputs": [],
   "source": []
  },
  {
   "cell_type": "code",
   "execution_count": null,
   "metadata": {},
   "outputs": [],
   "source": []
  },
  {
   "cell_type": "code",
   "execution_count": 109,
   "metadata": {
    "id": "JF5xR6e_cZyG"
   },
   "outputs": [],
   "source": [
    "def extract_weights(drl_actions_list):\n",
    "    a2c_weight_df = {'date':[], 'weights':[]}\n",
    "    for i in range(len(drl_actions_list)):\n",
    "        date = drl_actions_list.index[i]\n",
    "        tic_list = list(drl_actions_list.columns)\n",
    "        weights_list = drl_actions_list.reset_index()[list(drl_actions_list.columns)].iloc[i].values\n",
    "        weight_dict = {'tic':[], 'weight':[]}\n",
    "        for j in range(len(tic_list)):\n",
    "            weight_dict['tic'] += [tic_list[j]]\n",
    "            weight_dict['weight'] += [weights_list[j]]\n",
    "\n",
    "        a2c_weight_df['date'] += [date]\n",
    "        a2c_weight_df['weights'] += [pd.DataFrame(weight_dict)]\n",
    "\n",
    "    a2c_weights = pd.DataFrame(a2c_weight_df)\n",
    "    return a2c_weights\n",
    "\n",
    "a2c_weights = extract_weights(df_actions_a2c)\n",
    "ppo_weights = extract_weights(df_actions_ppo)"
   ]
  },
  {
   "cell_type": "markdown",
   "metadata": {
    "id": "ElfXZCQb1Thv"
   },
   "source": [
    "## Machine Learning Models\n",
    "\n",
    "We trained the machine learning models with technical indicators: MACD, RSI, CCI, DX"
   ]
  },
  {
   "cell_type": "code",
   "execution_count": 110,
   "metadata": {},
   "outputs": [
    {
     "data": {
      "text/html": [
       "<div>\n",
       "<style scoped>\n",
       "    .dataframe tbody tr th:only-of-type {\n",
       "        vertical-align: middle;\n",
       "    }\n",
       "\n",
       "    .dataframe tbody tr th {\n",
       "        vertical-align: top;\n",
       "    }\n",
       "\n",
       "    .dataframe thead th {\n",
       "        text-align: right;\n",
       "    }\n",
       "</style>\n",
       "<table border=\"1\" class=\"dataframe\">\n",
       "  <thead>\n",
       "    <tr style=\"text-align: right;\">\n",
       "      <th></th>\n",
       "      <th>open</th>\n",
       "      <th>close</th>\n",
       "      <th>high</th>\n",
       "      <th>low</th>\n",
       "      <th>volume</th>\n",
       "      <th>amount</th>\n",
       "      <th>tic</th>\n",
       "      <th>date</th>\n",
       "      <th>day</th>\n",
       "      <th>macd</th>\n",
       "      <th>boll_ub</th>\n",
       "      <th>boll_lb</th>\n",
       "      <th>rsi_30</th>\n",
       "      <th>cci_30</th>\n",
       "      <th>dx_30</th>\n",
       "      <th>close_30_sma</th>\n",
       "      <th>close_60_sma</th>\n",
       "      <th>cov_list</th>\n",
       "      <th>return_list</th>\n",
       "      <th>daily_variance</th>\n",
       "    </tr>\n",
       "  </thead>\n",
       "  <tbody>\n",
       "    <tr>\n",
       "      <th>0</th>\n",
       "      <td>5.27</td>\n",
       "      <td>5.29</td>\n",
       "      <td>5.32</td>\n",
       "      <td>5.25</td>\n",
       "      <td>5759311.0</td>\n",
       "      <td>30399482.0</td>\n",
       "      <td>000609</td>\n",
       "      <td>2019-01-15</td>\n",
       "      <td>1</td>\n",
       "      <td>-0.082550</td>\n",
       "      <td>5.946131</td>\n",
       "      <td>4.840869</td>\n",
       "      <td>48.063900</td>\n",
       "      <td>-59.971539</td>\n",
       "      <td>0.911034</td>\n",
       "      <td>5.441000</td>\n",
       "      <td>5.467333</td>\n",
       "      <td>[[0.0009595613956845235, 0.0003124109814202052...</td>\n",
       "      <td>tic           000609    000921    001965    00...</td>\n",
       "      <td>0.013233</td>\n",
       "    </tr>\n",
       "    <tr>\n",
       "      <th>0</th>\n",
       "      <td>7.34</td>\n",
       "      <td>7.55</td>\n",
       "      <td>7.55</td>\n",
       "      <td>7.22</td>\n",
       "      <td>20004778.0</td>\n",
       "      <td>161089488.0</td>\n",
       "      <td>000921</td>\n",
       "      <td>2019-01-15</td>\n",
       "      <td>1</td>\n",
       "      <td>0.171956</td>\n",
       "      <td>7.579382</td>\n",
       "      <td>5.955618</td>\n",
       "      <td>57.955100</td>\n",
       "      <td>171.516755</td>\n",
       "      <td>60.304291</td>\n",
       "      <td>6.799667</td>\n",
       "      <td>6.725167</td>\n",
       "      <td>[[0.0009595613956845235, 0.0003124109814202052...</td>\n",
       "      <td>tic           000609    000921    001965    00...</td>\n",
       "      <td>0.043709</td>\n",
       "    </tr>\n",
       "    <tr>\n",
       "      <th>0</th>\n",
       "      <td>7.39</td>\n",
       "      <td>7.42</td>\n",
       "      <td>7.43</td>\n",
       "      <td>7.34</td>\n",
       "      <td>1422853.0</td>\n",
       "      <td>11541926.0</td>\n",
       "      <td>001965</td>\n",
       "      <td>2019-01-15</td>\n",
       "      <td>1</td>\n",
       "      <td>-0.008600</td>\n",
       "      <td>7.496838</td>\n",
       "      <td>7.139162</td>\n",
       "      <td>49.760481</td>\n",
       "      <td>27.822945</td>\n",
       "      <td>12.144795</td>\n",
       "      <td>7.363000</td>\n",
       "      <td>7.493500</td>\n",
       "      <td>[[0.0009595613956845235, 0.0003124109814202052...</td>\n",
       "      <td>tic           000609    000921    001965    00...</td>\n",
       "      <td>0.012129</td>\n",
       "    </tr>\n",
       "    <tr>\n",
       "      <th>0</th>\n",
       "      <td>11.70</td>\n",
       "      <td>12.04</td>\n",
       "      <td>12.08</td>\n",
       "      <td>11.68</td>\n",
       "      <td>4112392.0</td>\n",
       "      <td>64759288.0</td>\n",
       "      <td>002372</td>\n",
       "      <td>2019-01-15</td>\n",
       "      <td>1</td>\n",
       "      <td>0.160269</td>\n",
       "      <td>12.085685</td>\n",
       "      <td>10.869315</td>\n",
       "      <td>56.642725</td>\n",
       "      <td>165.038307</td>\n",
       "      <td>13.980941</td>\n",
       "      <td>11.421000</td>\n",
       "      <td>11.001833</td>\n",
       "      <td>[[0.0009595613956845235, 0.0003124109814202052...</td>\n",
       "      <td>tic           000609    000921    001965    00...</td>\n",
       "      <td>0.033223</td>\n",
       "    </tr>\n",
       "    <tr>\n",
       "      <th>1</th>\n",
       "      <td>5.28</td>\n",
       "      <td>5.30</td>\n",
       "      <td>5.59</td>\n",
       "      <td>5.16</td>\n",
       "      <td>13215401.0</td>\n",
       "      <td>70665424.0</td>\n",
       "      <td>000609</td>\n",
       "      <td>2019-01-16</td>\n",
       "      <td>2</td>\n",
       "      <td>-0.076507</td>\n",
       "      <td>5.937906</td>\n",
       "      <td>4.832094</td>\n",
       "      <td>48.186940</td>\n",
       "      <td>-33.431536</td>\n",
       "      <td>13.031968</td>\n",
       "      <td>5.425000</td>\n",
       "      <td>5.483167</td>\n",
       "      <td>[[0.000959630829728534, 0.00031221297698058804...</td>\n",
       "      <td>tic           000609    000921    001965    00...</td>\n",
       "      <td>0.081132</td>\n",
       "    </tr>\n",
       "  </tbody>\n",
       "</table>\n",
       "</div>"
      ],
      "text/plain": [
       "    open  close   high    low      volume       amount     tic       date  \\\n",
       "0   5.27   5.29   5.32   5.25   5759311.0   30399482.0  000609 2019-01-15   \n",
       "0   7.34   7.55   7.55   7.22  20004778.0  161089488.0  000921 2019-01-15   \n",
       "0   7.39   7.42   7.43   7.34   1422853.0   11541926.0  001965 2019-01-15   \n",
       "0  11.70  12.04  12.08  11.68   4112392.0   64759288.0  002372 2019-01-15   \n",
       "1   5.28   5.30   5.59   5.16  13215401.0   70665424.0  000609 2019-01-16   \n",
       "\n",
       "   day      macd    boll_ub    boll_lb     rsi_30      cci_30      dx_30  \\\n",
       "0    1 -0.082550   5.946131   4.840869  48.063900  -59.971539   0.911034   \n",
       "0    1  0.171956   7.579382   5.955618  57.955100  171.516755  60.304291   \n",
       "0    1 -0.008600   7.496838   7.139162  49.760481   27.822945  12.144795   \n",
       "0    1  0.160269  12.085685  10.869315  56.642725  165.038307  13.980941   \n",
       "1    2 -0.076507   5.937906   4.832094  48.186940  -33.431536  13.031968   \n",
       "\n",
       "   close_30_sma  close_60_sma  \\\n",
       "0      5.441000      5.467333   \n",
       "0      6.799667      6.725167   \n",
       "0      7.363000      7.493500   \n",
       "0     11.421000     11.001833   \n",
       "1      5.425000      5.483167   \n",
       "\n",
       "                                            cov_list  \\\n",
       "0  [[0.0009595613956845235, 0.0003124109814202052...   \n",
       "0  [[0.0009595613956845235, 0.0003124109814202052...   \n",
       "0  [[0.0009595613956845235, 0.0003124109814202052...   \n",
       "0  [[0.0009595613956845235, 0.0003124109814202052...   \n",
       "1  [[0.000959630829728534, 0.00031221297698058804...   \n",
       "\n",
       "                                         return_list  daily_variance  \n",
       "0  tic           000609    000921    001965    00...        0.013233  \n",
       "0  tic           000609    000921    001965    00...        0.043709  \n",
       "0  tic           000609    000921    001965    00...        0.012129  \n",
       "0  tic           000609    000921    001965    00...        0.033223  \n",
       "1  tic           000609    000921    001965    00...        0.081132  "
      ]
     },
     "execution_count": 110,
     "metadata": {},
     "output_type": "execute_result"
    }
   ],
   "source": [
    "train.head() # [train['date'] == '2020-03-01']"
   ]
  },
  {
   "cell_type": "code",
   "execution_count": 111,
   "metadata": {
    "id": "56nqKfFAR6m_"
   },
   "outputs": [],
   "source": [
    "import numpy as np\n",
    "from sklearn.model_selection import train_test_split\n",
    "from sklearn import datasets\n",
    "from sklearn import svm\n",
    "from sklearn import linear_model\n",
    "from sklearn.linear_model import LinearRegression\n",
    "from sklearn.metrics import mean_squared_error\n",
    "from math import sqrt\n",
    "from sklearn.ensemble import RandomForestRegressor\n",
    "from sklearn.svm import SVR\n",
    "from sklearn.model_selection import cross_val_score\n",
    "from sklearn.tree import DecisionTreeRegressor\n",
    "\n",
    "def prepare_data(trainData):\n",
    "    train_date = sorted(set(trainData.date.values))\n",
    "    X = []\n",
    "    for i in range(0, len(train_date) - 1):\n",
    "        d = train_date[i]\n",
    "        d_next = train_date[i+1]\n",
    "        y = train.loc[train['date'] == d_next].return_list.iloc[0].loc[d_next].reset_index()\n",
    "        y.columns = ['tic', 'return']\n",
    "        x = train.loc[train['date'] == d][np.concatenate((tech_indicator_list, ['tic'])).tolist()] # ['tic', 'macd', 'rsi_30', 'boll_lb', 'dx_30']] # cci_30\n",
    "        train_piece = pd.merge(x, y, on = 'tic')\n",
    "        train_piece['date'] = [d] * len(train_piece)\n",
    "        X += [train_piece]\n",
    "    trainDataML = pd.concat(X)\n",
    "    X = trainDataML[tech_indicator_list].values # cci_30\n",
    "    Y = trainDataML[['return']].values\n",
    "\n",
    "    return X, Y\n",
    "\n",
    "train_X, train_Y = prepare_data(train)\n",
    "rf_model = RandomForestRegressor(max_depth = 50, min_samples_split = 15, random_state = 0).fit(train_X, train_Y.reshape(-1))\n",
    "dt_model = DecisionTreeRegressor(random_state = 0, max_depth = 50, min_samples_split = 15).fit(train_X, train_Y.reshape(-1))\n",
    "svm_model = SVR(epsilon=0.14).fit(train_X, train_Y.reshape(-1))\n",
    "lr_model = LinearRegression().fit(train_X, train_Y)"
   ]
  },
  {
   "cell_type": "code",
   "execution_count": 112,
   "metadata": {
    "colab": {
     "base_uri": "https://localhost:8080/"
    },
    "id": "SIu0h0v-274U",
    "outputId": "dc409d8f-d2d3-45be-dfc7-b851b3e86887"
   },
   "outputs": [
    {
     "name": "stdout",
     "output_type": "stream",
     "text": [
      "Annual return         -0.121388\n",
      "Cumulative returns    -0.123191\n",
      "Annual volatility      0.417570\n",
      "Sharpe ratio          -0.103524\n",
      "Calmar ratio          -0.260743\n",
      "Stability              0.084810\n",
      "Max drawdown          -0.465548\n",
      "Omega ratio            0.982627\n",
      "Sortino ratio         -0.149903\n",
      "Skew                        NaN\n",
      "Kurtosis                    NaN\n",
      "Tail ratio             1.016154\n",
      "Daily value at risk   -0.052780\n",
      "dtype: float64\n",
      "Annual return           57.853208\n",
      "Cumulative returns      61.785843\n",
      "Annual volatility        0.445839\n",
      "Sharpe ratio             9.466666\n",
      "Calmar ratio           540.699371\n",
      "Stability                0.986023\n",
      "Max drawdown            -0.106997\n",
      "Omega ratio              5.333395\n",
      "Sortino ratio           29.685309\n",
      "Skew                          NaN\n",
      "Kurtosis                      NaN\n",
      "Tail ratio               2.484689\n",
      "Daily value at risk     -0.039422\n",
      "dtype: float64\n",
      "Annual return         -0.481521\n",
      "Cumulative returns    -0.486899\n",
      "Annual volatility      0.436202\n",
      "Sharpe ratio          -1.292775\n",
      "Calmar ratio          -0.831182\n",
      "Stability              0.664870\n",
      "Max drawdown          -0.579321\n",
      "Omega ratio            0.803987\n",
      "Sortino ratio         -1.770858\n",
      "Skew                        NaN\n",
      "Kurtosis                    NaN\n",
      "Tail ratio             1.021943\n",
      "Daily value at risk   -0.057194\n",
      "dtype: float64\n",
      "Annual return           134.173639\n",
      "Cumulative returns      145.122027\n",
      "Annual volatility         0.459575\n",
      "Sharpe ratio             11.045907\n",
      "Calmar ratio           1508.722061\n",
      "Stability                 0.992895\n",
      "Max drawdown             -0.088932\n",
      "Omega ratio               6.845880\n",
      "Sortino ratio            36.790349\n",
      "Skew                           NaN\n",
      "Kurtosis                       NaN\n",
      "Tail ratio                3.016685\n",
      "Daily value at risk      -0.037756\n",
      "dtype: float64\n",
      "Annual return           368.145135\n",
      "Cumulative returns      404.458408\n",
      "Annual volatility         0.405836\n",
      "Sharpe ratio             14.991181\n",
      "Calmar ratio           7398.877496\n",
      "Stability                 0.994991\n",
      "Max drawdown             -0.049757\n",
      "Omega ratio              15.704603\n",
      "Sortino ratio            77.403826\n",
      "Skew                           NaN\n",
      "Kurtosis                       NaN\n",
      "Tail ratio                5.672326\n",
      "Daily value at risk      -0.026988\n",
      "dtype: float64\n"
     ]
    }
   ],
   "source": [
    "def output_predict(model, reference_model = False):\n",
    "    meta_coefficient = {\"date\":[], \"weights\":[]}\n",
    "\n",
    "    portfolio = pd.DataFrame(index = range(1), columns = unique_trade_date)\n",
    "    initial_capital = 100000\n",
    "    portfolio.loc[0,unique_trade_date[0]] = initial_capital\n",
    "\n",
    "    for i in range(len(unique_trade_date) - 1):\n",
    "      \n",
    "        current_date = unique_trade_date[i]\n",
    "        next_date = unique_trade_date[i+1]\n",
    "        df_current = df[df.date == current_date].reset_index(drop=True)\n",
    "        tics = df_current['tic'].values\n",
    "        features = df_current[tech_indicator_list].values # cci_30\n",
    "        df_next = df[df.date == next_date].reset_index(drop=True)\n",
    "        if not reference_model:\n",
    "            predicted_y = model.predict(features)\n",
    "            mu = predicted_y\n",
    "            Sigma = risk_models.sample_cov(df_current.return_list[0], returns_data=True)\n",
    "        else:\n",
    "            mu = df_next.return_list[0].loc[next_date].values\n",
    "            Sigma = risk_models.sample_cov(df_next.return_list[0], returns_data=True)\n",
    "        predicted_y_df = pd.DataFrame({\"tic\":tics.reshape(-1,), \"predicted_y\":mu.reshape(-1,)})\n",
    "        min_weight, max_weight = 0, 1\n",
    "        ef = EfficientFrontier(mu, Sigma)\n",
    "        weights = ef.nonconvex_objective(\n",
    "            objective_functions.sharpe_ratio,\n",
    "            objective_args=(ef.expected_returns, ef.cov_matrix),\n",
    "            weights_sum_to_one=True,\n",
    "            constraints=[\n",
    "                {\"type\": \"ineq\", \"fun\": lambda w: w - min_weight},  # greater than min_weight\n",
    "                {\"type\": \"ineq\", \"fun\": lambda w: max_weight - w},  # less than max_weight\n",
    "            ],)\n",
    "      \n",
    "        weight_df = {\"tic\":[], \"weight\":[]}\n",
    "        meta_coefficient[\"date\"] += [current_date]\n",
    "        # it = 0\n",
    "        for item in weights:\n",
    "            weight_df['tic'] += [item]\n",
    "            weight_df['weight'] += [weights[item]]\n",
    "      \n",
    "        weight_df = pd.DataFrame(weight_df).merge(predicted_y_df, on = ['tic'])\n",
    "        meta_coefficient[\"weights\"] += [weight_df]\n",
    "        cap = portfolio.iloc[0, i]\n",
    "        #current cash invested for each stock\n",
    "        current_cash = [element * cap for element in list(weights.values())]\n",
    "        # current held shares\n",
    "        current_shares = list(np.array(current_cash) / np.array(df_current.close))\n",
    "        # next time period price\n",
    "        next_price = np.array(df_next.close)\n",
    "        portfolio.iloc[0, i+1] = np.dot(current_shares, next_price)\n",
    "      \n",
    "    portfolio=portfolio.T\n",
    "    portfolio.columns = ['account_value']\n",
    "    portfolio = portfolio.reset_index()\n",
    "    portfolio.columns = ['date', 'account_value']\n",
    "    stats = backtest_stats(portfolio, value_col_name = 'account_value')\n",
    "    portfolio_cumprod =(portfolio.account_value.pct_change()+1).cumprod()-1\n",
    "\n",
    "    return portfolio, stats, portfolio_cumprod, pd.DataFrame(meta_coefficient)\n",
    "\n",
    "lr_portfolio, lr_stats, lr_cumprod, lr_weights = output_predict(lr_model)\n",
    "dt_portfolio, dt_stats, dt_cumprod, dt_weights = output_predict(dt_model)\n",
    "svm_portfolio, svm_stats, svm_cumprod, svm_weights = output_predict(svm_model)\n",
    "rf_portfolio, rf_stats, rf_cumprod, rf_weights = output_predict(rf_model)\n",
    "reference_portfolio, reference_stats, reference_cumprod, reference_weights = output_predict(None, True)"
   ]
  },
  {
   "cell_type": "markdown",
   "metadata": {
    "id": "I_pDu_152D2e"
   },
   "source": [
    "# Part 7: Explanation Method Implementation\n"
   ]
  },
  {
   "cell_type": "markdown",
   "metadata": {
    "id": "wzzeU46e2kxy"
   },
   "source": [
    "### Integrated Gradient\n",
    "Implement the explanation method using integrated gradients and regression coefficients."
   ]
  },
  {
   "cell_type": "code",
   "execution_count": 113,
   "metadata": {},
   "outputs": [],
   "source": [
    "# trade.loc[0].iloc[0].cov_list.shape"
   ]
  },
  {
   "cell_type": "code",
   "execution_count": 114,
   "metadata": {},
   "outputs": [],
   "source": [
    "#         print(input.reshape(-1, stock_dimension*(stock_dimension + 4)).shape)\n",
    "#         print(actions.reshape(-1, stock_dimension).shape)"
   ]
  },
  {
   "cell_type": "code",
   "execution_count": 115,
   "metadata": {
    "id": "7_UAJ9eYPtiu"
   },
   "outputs": [],
   "source": [
    "meta_Q = {\"date\":[], \"feature\":[], \"Saliency Map\":[], \"algo\":[]}\n",
    "for algo in {\"A2C\", \"PPO\"}:\n",
    "    model = eval(\"trained_\" + algo.lower())\n",
    "    df_actions = eval(\"df_actions_\" + algo.lower())\n",
    "    for i in range(len(unique_trade_date)-1):\n",
    "        date = unique_trade_date[i]\n",
    "        covs = trade[trade['date'] == date].cov_list.iloc[0]\n",
    "        features = trade[trade['date'] == date][tech_indicator_list] #[['macd','rsi_30', 'boll_lb', 'dx_30']].values # cci_30\n",
    "        input = np.append(covs, features.T, axis = 0)\n",
    "        actions = df_actions.loc[date].values\n",
    "        orig_Q = model.policy.evaluate_actions(torch.cuda.FloatTensor(input).reshape(-1, stock_dimension * (stock_dimension + len(tech_indicator_list))), torch.cuda.FloatTensor(actions).reshape(-1, stock_dimension)) # \n",
    "        orig_Q = orig_Q[0].detach().cpu().numpy()[0]\n",
    "        for idx in range(len(tech_indicator_list)): # ['macd','rsi_30', 'boll_lb', 'dx_30'])): # cci_30\n",
    "            perturbed_feature = features\n",
    "            perturbed_noise = np.random.normal(0, 1, stock_dimension)\n",
    "            perturbed_feature.iloc[:,idx] = [0] * stock_dimension\n",
    "            perturbed_input = np.append(covs, perturbed_feature.T, axis = 0)\n",
    "            perturbed_Q = model.policy.evaluate_actions(torch.cuda.FloatTensor(perturbed_input).reshape(-1, stock_dimension * (stock_dimension + len(tech_indicator_list))), torch.cuda.FloatTensor(actions).reshape(-1, stock_dimension))\n",
    "            perturbed_Q = perturbed_Q[0].detach().cpu().numpy()[0]\n",
    "            meta_Q['date'] += [date]\n",
    "            meta_Q['algo'] += [algo]\n",
    "            meta_Q['feature'] += [tech_indicator_list[idx]] # cci_30 ['macd','rsi_30', 'boll_lb', 'dx_30']\n",
    "            meta_Q['Saliency Map'] += [orig_Q[0] - perturbed_Q[0]]\n",
    "\n",
    "meta_Q = pd.DataFrame(meta_Q)"
   ]
  },
  {
   "cell_type": "markdown",
   "metadata": {
    "id": "zI0UkiCb2pLD"
   },
   "source": [
    "### Regression Coefficient\n",
    "Implement the linear regression to measure the feature weights."
   ]
  },
  {
   "cell_type": "code",
   "execution_count": 116,
   "metadata": {
    "colab": {
     "base_uri": "https://localhost:8080/"
    },
    "id": "WNHzRWPvQIsu",
    "outputId": "d8b0fb68-218d-4131-d033-669e090c4dcf"
   },
   "outputs": [
    {
     "name": "stderr",
     "output_type": "stream",
     "text": [
      "d:\\soft\\python\\python37\\lib\\site-packages\\statsmodels\\tsa\\tsatools.py:142: FutureWarning:\n",
      "\n",
      "In a future version of pandas all arguments of concat except for the argument 'objs' will be keyword-only\n",
      "\n"
     ]
    }
   ],
   "source": [
    "import statsmodels.api as sm\n",
    "meta_score_coef = {\"date\":[], \"coef\":[], \"algo\":[]}\n",
    "\n",
    "for algo in [\"LR\", \"RF\", \"Reference Model\", \"SVM\", \"DT\", \"A2C\", \"PPO\"]:\n",
    "    if algo == \"LR\":\n",
    "        weights = lr_weights\n",
    "    elif algo == \"RF\":\n",
    "        weights = rf_weights\n",
    "    elif algo == \"DT\":\n",
    "        weights = dt_weights\n",
    "    elif algo == \"SVM\":\n",
    "        weights = svm_weights\n",
    "    elif algo == \"A2C\":\n",
    "        weights = a2c_weights\n",
    "    elif algo == \"PPO\":\n",
    "        weights = ppo_weights\n",
    "    else:\n",
    "        weights = reference_weights\n",
    "\n",
    "    for i in range(len(unique_trade_date) - 1):\n",
    "        date = unique_trade_date[i]\n",
    "        next_date = unique_trade_date[i+1]\n",
    "        df_temp = df[df.date==date].reset_index(drop=True)\n",
    "        df_temp_next = df[df.date==next_date].reset_index(drop=True)\n",
    "        weight_piece = weights[weights.date == date].iloc[0]['weights']\n",
    "        piece_return = pd.DataFrame(df_temp_next.return_list.iloc[0].loc[next_date]).reset_index()\n",
    "        piece_return.columns = ['tic', 'return']\n",
    "        X = df_temp[np.concatenate((tech_indicator_list, ['tic'])).tolist()] # ['macd','rsi_30', 'boll_lb', 'dx_30', 'tic']] # cci_30\n",
    "        X_next = df_temp_next[np.concatenate((tech_indicator_list, ['tic'])).tolist()] # [['macd','rsi_30', 'boll_lb', 'dx_30', 'tic']] # cci_30\n",
    "        piece = weight_piece.merge(X, on = 'tic').merge(piece_return, on = 'tic')\n",
    "        piece['Y'] = piece['return'] * piece['weight']\n",
    "        X = piece[tech_indicator_list] # ['macd','rsi_30', 'boll_lb', 'dx_30']] # cci_30\n",
    "        X = sm.add_constant(X)\n",
    "        Y = piece[['Y']]\n",
    "        model = sm.OLS(Y,X)\n",
    "        results = model.fit()\n",
    "        meta_score_coef[\"coef\"] += [(X * results.params).sum(axis = 0)]\n",
    "        meta_score_coef[\"date\"] += [date]\n",
    "        meta_score_coef[\"algo\"] += [algo]\n",
    "\n",
    "meta_score_coef = pd.DataFrame(meta_score_coef)"
   ]
  },
  {
   "cell_type": "markdown",
   "metadata": {
    "id": "NaCnRr2K4DuP"
   },
   "source": [
    "### Correlation Coefficient\n",
    "Calculate the  sing-step and multi-step correlation coefficients"
   ]
  },
  {
   "cell_type": "code",
   "execution_count": 117,
   "metadata": {},
   "outputs": [
    {
     "data": {
      "text/plain": [
       "const            -0.044508\n",
       "macd             -0.010997\n",
       "boll_ub          -0.196528\n",
       "boll_lb           1.290190\n",
       "rsi_30            0.219260\n",
       "daily_variance   -0.000172\n",
       "dx_30            -0.060048\n",
       "close_30_sma     -0.242147\n",
       "close_60_sma     -0.985820\n",
       "dtype: float64"
      ]
     },
     "execution_count": 117,
     "metadata": {},
     "output_type": "execute_result"
    }
   ],
   "source": [
    "meta_score_coef.coef[0]"
   ]
  },
  {
   "cell_type": "code",
   "execution_count": 118,
   "metadata": {
    "id": "OKWHxdK-QQxU"
   },
   "outputs": [
    {
     "name": "stderr",
     "output_type": "stream",
     "text": [
      "d:\\soft\\python\\python37\\lib\\site-packages\\numpy\\lib\\function_base.py:2691: RuntimeWarning:\n",
      "\n",
      "invalid value encountered in true_divide\n",
      "\n",
      "d:\\soft\\python\\python37\\lib\\site-packages\\numpy\\lib\\function_base.py:2692: RuntimeWarning:\n",
      "\n",
      "invalid value encountered in true_divide\n",
      "\n"
     ]
    }
   ],
   "source": [
    "performance_score = {'date':[], 'algo':[], 'score':[]}\n",
    "\n",
    "for i in range(0, len(unique_trade_date)):\n",
    "    date_ = unique_trade_date[i]\n",
    "    if len(meta_score_coef[(meta_score_coef['date'] == date_)]) == 0:\n",
    "        continue \n",
    "    lr_coef = meta_score_coef[(meta_score_coef['date'] == date_) & (meta_score_coef['algo'] == 'LR')]['coef'].values[0][tech_indicator_list].values # cci_30\n",
    "    rf_coef = meta_score_coef[(meta_score_coef['date'] == date_) & (meta_score_coef['algo'] == 'RF')]['coef'].values[0][tech_indicator_list].values # cci_30\n",
    "    reference_coef = meta_score_coef[(meta_score_coef['date'] == date_) & (meta_score_coef['algo'] == 'Reference Model')]['coef'].values[0][tech_indicator_list].values # cci_30\n",
    "    dt_coef = meta_score_coef[(meta_score_coef['date'] == date_) & (meta_score_coef['algo'] == 'DT')]['coef'].values[0][tech_indicator_list].values # cci_30\n",
    "    svm_coef = meta_score_coef[(meta_score_coef['date'] == date_) & (meta_score_coef['algo'] == 'SVM')]['coef'].values[0][tech_indicator_list].values # cci_30\n",
    "\n",
    "    saliency_coef_a2c = meta_Q[(meta_Q['date'] == date_) & (meta_Q['algo'] == \"A2C\")]['Saliency Map'].values\n",
    "    saliency_coef_ppo = meta_Q[(meta_Q['date'] == date_) & (meta_Q['algo'] == \"PPO\")]['Saliency Map'].values\n",
    "\n",
    "    lr_score = np.corrcoef(lr_coef, reference_coef)[0][1]\n",
    "    rf_score = np.corrcoef(rf_coef, reference_coef)[0][1]\n",
    "    dt_score = np.corrcoef(dt_coef, reference_coef)[0][1]\n",
    "    svm_score = np.corrcoef(svm_coef, reference_coef)[0][1]\n",
    "    saliency_score_a2c = np.corrcoef(saliency_coef_a2c, reference_coef)[0][1]\n",
    "    saliency_score_ppo = np.corrcoef(saliency_coef_ppo, reference_coef)[0][1]\n",
    "\n",
    "    for algo in ['LR', 'A2C', 'PPO', 'RF', 'DT', 'SVM']:\n",
    "        performance_score['date'] += [date_]\n",
    "        performance_score['algo'] += [algo]\n",
    "        if algo == 'LR':\n",
    "            score = lr_score\n",
    "        elif algo == 'RF':\n",
    "            score = rf_score\n",
    "        elif algo == 'DT':\n",
    "            score = dt_score\n",
    "        elif algo == 'A2C':\n",
    "            score = saliency_score_a2c\n",
    "        elif algo == 'SVM':\n",
    "            score = svm_score\n",
    "        else:\n",
    "            score = saliency_score_ppo\n",
    "        performance_score['score'] += [score]\n",
    "performance_score = pd.DataFrame(performance_score)"
   ]
  },
  {
   "cell_type": "code",
   "execution_count": 119,
   "metadata": {
    "id": "em0Dx9p_kwrR"
   },
   "outputs": [],
   "source": [
    "multi_performance_score = {\"date\": [], \"algo\": [], \"score\": []}\n",
    "window = 15\n",
    "for i in range(len(unique_trade_date) - window ):\n",
    "    date_ = unique_trade_date[i]\n",
    "    if len(meta_score_coef[(meta_score_coef['date'] == date_)]) == 0:\n",
    "        continue \n",
    "    lr_coef = meta_score_coef[(meta_score_coef['date'] == date_) & (meta_score_coef['algo'] == 'LR')]['coef'].values[0][tech_indicator_list].values # cci_30\n",
    "    rf_coef = meta_score_coef[(meta_score_coef['date'] == date_) & (meta_score_coef['algo'] == 'RF')]['coef'].values[0][tech_indicator_list].values # cci_30\n",
    "    reference_coef = meta_score_coef[(meta_score_coef['date'] == date_) & (meta_score_coef['algo'] == 'Reference Model')]['coef'].values[0][tech_indicator_list].values # cci_30\n",
    "    for w in range(1, window):\n",
    "        date_f = unique_trade_date[i + w]\n",
    "        prx_coef = meta_score_coef[(meta_score_coef['date'] == date_f) & (meta_score_coef['algo'] == 'Reference Model')]['coef'].values[0][tech_indicator_list].values # cci_30\n",
    "        reference_coef += prx_coef\n",
    "    reference_coef = reference_coef / window\n",
    "    dt_coef = meta_score_coef[(meta_score_coef['date'] == date_) & (meta_score_coef['algo'] == 'DT')]['coef'].values[0][tech_indicator_list].values # cci_30\n",
    "    svm_coef = meta_score_coef[(meta_score_coef['date'] == date_) & (meta_score_coef['algo'] == 'SVM')]['coef'].values[0][tech_indicator_list].values # cci_30\n",
    "    saliency_coef_a2c = meta_Q[(meta_Q['date'] == date_) & (meta_Q['algo'] == \"A2C\")]['Saliency Map'].values\n",
    "    saliency_coef_ppo = meta_Q[(meta_Q['date'] == date_) & (meta_Q['algo'] == \"PPO\")]['Saliency Map'].values\n",
    "    lr_score = np.corrcoef(lr_coef, reference_coef)[0][1]\n",
    "    rf_score = np.corrcoef(rf_coef, reference_coef)[0][1]\n",
    "    dt_score = np.corrcoef(dt_coef, reference_coef)[0][1]\n",
    "    svm_score = np.corrcoef(svm_coef, reference_coef)[0][1]\n",
    "    saliency_score_a2c = np.corrcoef(saliency_coef_a2c, reference_coef)[0][1]\n",
    "    saliency_score_ppo = np.corrcoef(saliency_coef_ppo, reference_coef)[0][1]\n",
    "\n",
    "    for algo in [\"LR\", \"A2C\", \"RF\", \"PPO\", \"DT\", \"SVM\"]:\n",
    "        multi_performance_score[\"date\"] += [date_]\n",
    "        multi_performance_score[\"algo\"] += [algo]\n",
    "        if algo == \"LR\":\n",
    "            score = lr_score \n",
    "        elif algo == \"RF\":\n",
    "            score = rf_score\n",
    "        elif algo == \"DT\":\n",
    "            score = dt_score\n",
    "        elif algo == \"A2C\":\n",
    "            score = saliency_score_a2c\n",
    "        elif algo == \"SVM\":\n",
    "            score = svm_score\n",
    "        else:\n",
    "            score = saliency_score_ppo\n",
    "        multi_performance_score[\"score\"] += [score]\n",
    "\n",
    "multi_performance_score = pd.DataFrame(multi_performance_score)"
   ]
  },
  {
   "cell_type": "markdown",
   "metadata": {
    "id": "9yeGe06I3gGj"
   },
   "source": [
    "### Data Visualization"
   ]
  },
  {
   "cell_type": "code",
   "execution_count": 120,
   "metadata": {
    "id": "fDCuI-85fBgB"
   },
   "outputs": [],
   "source": [
    "from datetime import datetime as dt\n",
    "\n",
    "import matplotlib.pyplot as plt\n",
    "import plotly\n",
    "import plotly.graph_objs as go\n",
    "trace1_portfolio = go.Scatter(x = time_ind, y = a2c_cumpod, mode = 'lines', name = 'A2C')\n",
    "trace2_portfolio = go.Scatter(x = time_ind, y = ppo_cumpod, mode = 'lines', name = 'PPO')\n",
    "trace3_portfolio = go.Scatter(x = time_ind, y = dji_cumpod, mode = 'lines', name = 'DJIA')\n",
    "trace4_portfolio = go.Scatter(x = time_ind, y = lr_cumprod, mode = 'lines', name = 'LR')\n",
    "trace5_portfolio = go.Scatter(x = time_ind, y = rf_cumprod, mode = 'lines', name = 'RF')\n",
    "trace6_portfolio = go.Scatter(x = time_ind, y = dt_cumprod, mode = 'lines', name = 'DT')\n",
    "trace7_portfolio = go.Scatter(x = time_ind, y = svm_cumprod, mode = 'lines', name = 'SVM')"
   ]
  },
  {
   "cell_type": "code",
   "execution_count": 121,
   "metadata": {
    "colab": {
     "base_uri": "https://localhost:8080/",
     "height": 467
    },
    "id": "XClvP1WifJB_",
    "outputId": "9dccbf5b-f69f-452e-f34e-f51b9ab830c8"
   },
   "outputs": [
    {
     "data": {
      "application/vnd.plotly.v1+json": {
       "config": {
        "plotlyServerURL": "https://plot.ly"
       },
       "data": [
        {
         "line": {
          "width": 2
         },
         "mode": "lines",
         "name": "A2C",
         "type": "scatter",
         "x": [
          "2021-01-04T00:00:00",
          "2021-01-05T00:00:00",
          "2021-01-06T00:00:00",
          "2021-01-07T00:00:00",
          "2021-01-08T00:00:00",
          "2021-01-11T00:00:00",
          "2021-01-12T00:00:00",
          "2021-01-13T00:00:00",
          "2021-01-14T00:00:00",
          "2021-01-15T00:00:00",
          "2021-01-18T00:00:00",
          "2021-01-19T00:00:00",
          "2021-01-20T00:00:00",
          "2021-01-21T00:00:00",
          "2021-01-22T00:00:00",
          "2021-01-25T00:00:00",
          "2021-01-26T00:00:00",
          "2021-01-27T00:00:00",
          "2021-01-28T00:00:00",
          "2021-01-29T00:00:00",
          "2021-02-01T00:00:00",
          "2021-02-02T00:00:00",
          "2021-02-03T00:00:00",
          "2021-02-04T00:00:00",
          "2021-02-05T00:00:00",
          "2021-02-08T00:00:00",
          "2021-02-09T00:00:00",
          "2021-02-10T00:00:00",
          "2021-02-18T00:00:00",
          "2021-02-19T00:00:00",
          "2021-02-22T00:00:00",
          "2021-02-23T00:00:00",
          "2021-02-24T00:00:00",
          "2021-02-25T00:00:00",
          "2021-02-26T00:00:00",
          "2021-03-01T00:00:00",
          "2021-03-02T00:00:00",
          "2021-03-03T00:00:00",
          "2021-03-04T00:00:00",
          "2021-03-05T00:00:00",
          "2021-03-08T00:00:00",
          "2021-03-09T00:00:00",
          "2021-03-10T00:00:00",
          "2021-03-11T00:00:00",
          "2021-03-12T00:00:00",
          "2021-03-15T00:00:00",
          "2021-03-16T00:00:00",
          "2021-03-17T00:00:00",
          "2021-03-18T00:00:00",
          "2021-03-19T00:00:00",
          "2021-03-22T00:00:00",
          "2021-03-23T00:00:00",
          "2021-03-24T00:00:00",
          "2021-03-25T00:00:00",
          "2021-03-26T00:00:00",
          "2021-03-29T00:00:00",
          "2021-03-30T00:00:00",
          "2021-03-31T00:00:00",
          "2021-04-01T00:00:00",
          "2021-04-02T00:00:00",
          "2021-04-06T00:00:00",
          "2021-04-07T00:00:00",
          "2021-04-08T00:00:00",
          "2021-04-09T00:00:00",
          "2021-04-12T00:00:00",
          "2021-04-13T00:00:00",
          "2021-04-14T00:00:00",
          "2021-04-15T00:00:00",
          "2021-04-16T00:00:00",
          "2021-04-19T00:00:00",
          "2021-04-20T00:00:00",
          "2021-04-21T00:00:00",
          "2021-04-22T00:00:00",
          "2021-04-23T00:00:00",
          "2021-04-26T00:00:00",
          "2021-04-27T00:00:00",
          "2021-04-28T00:00:00",
          "2021-04-29T00:00:00",
          "2021-04-30T00:00:00",
          "2021-05-06T00:00:00",
          "2021-05-07T00:00:00",
          "2021-05-10T00:00:00",
          "2021-05-11T00:00:00",
          "2021-05-12T00:00:00",
          "2021-05-13T00:00:00",
          "2021-05-14T00:00:00",
          "2021-05-17T00:00:00",
          "2021-05-18T00:00:00",
          "2021-05-19T00:00:00",
          "2021-05-20T00:00:00",
          "2021-05-21T00:00:00",
          "2021-05-24T00:00:00",
          "2021-05-25T00:00:00",
          "2021-05-26T00:00:00",
          "2021-05-27T00:00:00",
          "2021-05-28T00:00:00",
          "2021-05-31T00:00:00",
          "2021-06-01T00:00:00",
          "2021-06-02T00:00:00",
          "2021-06-03T00:00:00",
          "2021-06-04T00:00:00",
          "2021-06-07T00:00:00",
          "2021-06-08T00:00:00",
          "2021-06-09T00:00:00",
          "2021-06-10T00:00:00",
          "2021-06-11T00:00:00",
          "2021-06-15T00:00:00",
          "2021-06-16T00:00:00",
          "2021-06-17T00:00:00",
          "2021-06-18T00:00:00",
          "2021-06-21T00:00:00",
          "2021-06-22T00:00:00",
          "2021-06-23T00:00:00",
          "2021-06-24T00:00:00",
          "2021-06-25T00:00:00",
          "2021-06-28T00:00:00",
          "2021-06-29T00:00:00",
          "2021-06-30T00:00:00",
          "2021-07-01T00:00:00",
          "2021-07-02T00:00:00",
          "2021-07-05T00:00:00",
          "2021-07-06T00:00:00",
          "2021-07-07T00:00:00",
          "2021-07-08T00:00:00",
          "2021-07-09T00:00:00",
          "2021-07-12T00:00:00",
          "2021-07-13T00:00:00",
          "2021-07-14T00:00:00",
          "2021-07-15T00:00:00",
          "2021-07-16T00:00:00",
          "2021-07-19T00:00:00",
          "2021-07-20T00:00:00",
          "2021-07-21T00:00:00",
          "2021-07-22T00:00:00",
          "2021-07-23T00:00:00",
          "2021-07-26T00:00:00",
          "2021-07-27T00:00:00",
          "2021-07-28T00:00:00",
          "2021-07-29T00:00:00",
          "2021-07-30T00:00:00",
          "2021-08-02T00:00:00",
          "2021-08-03T00:00:00",
          "2021-08-04T00:00:00",
          "2021-08-05T00:00:00",
          "2021-08-06T00:00:00",
          "2021-08-09T00:00:00",
          "2021-08-10T00:00:00",
          "2021-08-11T00:00:00",
          "2021-08-12T00:00:00",
          "2021-08-13T00:00:00",
          "2021-08-16T00:00:00",
          "2021-08-17T00:00:00",
          "2021-08-18T00:00:00",
          "2021-08-19T00:00:00",
          "2021-08-20T00:00:00",
          "2021-08-23T00:00:00",
          "2021-08-24T00:00:00",
          "2021-08-25T00:00:00",
          "2021-08-26T00:00:00",
          "2021-08-27T00:00:00",
          "2021-08-30T00:00:00",
          "2021-08-31T00:00:00",
          "2021-09-01T00:00:00",
          "2021-09-02T00:00:00",
          "2021-09-03T00:00:00",
          "2021-09-06T00:00:00",
          "2021-09-07T00:00:00",
          "2021-09-08T00:00:00",
          "2021-09-09T00:00:00",
          "2021-09-10T00:00:00",
          "2021-09-13T00:00:00",
          "2021-09-14T00:00:00",
          "2021-09-15T00:00:00",
          "2021-09-16T00:00:00",
          "2021-09-17T00:00:00",
          "2021-09-22T00:00:00",
          "2021-09-23T00:00:00",
          "2021-09-24T00:00:00",
          "2021-09-27T00:00:00",
          "2021-09-28T00:00:00",
          "2021-09-29T00:00:00",
          "2021-09-30T00:00:00",
          "2021-10-08T00:00:00",
          "2021-10-11T00:00:00",
          "2021-10-12T00:00:00",
          "2021-10-13T00:00:00",
          "2021-10-14T00:00:00",
          "2021-10-15T00:00:00",
          "2021-10-18T00:00:00",
          "2021-10-19T00:00:00",
          "2021-10-20T00:00:00",
          "2021-10-21T00:00:00",
          "2021-10-22T00:00:00",
          "2021-10-25T00:00:00",
          "2021-10-26T00:00:00",
          "2021-10-27T00:00:00",
          "2021-10-28T00:00:00",
          "2021-10-29T00:00:00",
          "2021-11-01T00:00:00",
          "2021-11-02T00:00:00",
          "2021-11-03T00:00:00",
          "2021-11-04T00:00:00",
          "2021-11-05T00:00:00",
          "2021-11-08T00:00:00",
          "2021-11-09T00:00:00",
          "2021-11-10T00:00:00",
          "2021-11-11T00:00:00",
          "2021-11-12T00:00:00",
          "2021-11-15T00:00:00",
          "2021-11-16T00:00:00",
          "2021-11-17T00:00:00",
          "2021-11-18T00:00:00",
          "2021-11-19T00:00:00",
          "2021-11-22T00:00:00",
          "2021-11-23T00:00:00",
          "2021-11-24T00:00:00",
          "2021-11-25T00:00:00",
          "2021-11-26T00:00:00",
          "2021-11-29T00:00:00",
          "2021-11-30T00:00:00",
          "2021-12-01T00:00:00",
          "2021-12-02T00:00:00",
          "2021-12-03T00:00:00",
          "2021-12-06T00:00:00",
          "2021-12-07T00:00:00",
          "2021-12-08T00:00:00",
          "2021-12-09T00:00:00",
          "2021-12-10T00:00:00",
          "2021-12-13T00:00:00",
          "2021-12-14T00:00:00",
          "2021-12-15T00:00:00",
          "2021-12-16T00:00:00",
          "2021-12-17T00:00:00",
          "2021-12-20T00:00:00",
          "2021-12-21T00:00:00",
          "2021-12-22T00:00:00",
          "2021-12-23T00:00:00",
          "2021-12-24T00:00:00",
          "2021-12-27T00:00:00",
          "2021-12-28T00:00:00",
          "2021-12-29T00:00:00",
          "2021-12-30T00:00:00",
          "2021-12-31T00:00:00",
          "2022-01-04T00:00:00",
          "2022-01-05T00:00:00",
          "2022-01-06T00:00:00",
          "2022-01-07T00:00:00",
          "2022-01-10T00:00:00",
          "2022-01-11T00:00:00",
          "2022-01-12T00:00:00",
          "2022-01-13T00:00:00",
          "2022-01-14T00:00:00",
          "2022-01-17T00:00:00",
          "2022-01-18T00:00:00",
          "2022-01-19T00:00:00",
          "2022-01-20T00:00:00"
         ],
         "y": [
          0,
          -0.010285273993389521,
          0.006831537408232835,
          -0.01700973638407688,
          -0.004649372094073789,
          -0.04103470266961884,
          0.0022245542061885004,
          0.006335021237400484,
          0.017288779920233033,
          0.0435476069714984,
          0.04378129512422868,
          0.04962575294411664,
          0.03598272473406672,
          0.025949698923658504,
          0.015528155589911163,
          -0.011865180451119839,
          -0.003323046169874444,
          0.012025270906143248,
          -0.005706391801572841,
          -0.02265457084527278,
          -0.02353376843211774,
          -0.012409099534740231,
          -0.034108064640723135,
          -0.05107748183065164,
          -0.05179157770727849,
          -0.04931005837451308,
          -0.04579373754352145,
          -0.04121087895582698,
          -0.027466767444560114,
          -0.012119137499220112,
          -0.001984003075601093,
          -0.02075370437599533,
          -0.023344049553748136,
          -0.00853168340762922,
          -0.0004608094642759575,
          0.02242162795686009,
          0.05669337237753358,
          0.06066751971716444,
          0.026129699514318094,
          0.04971760336085529,
          0.036989299873229964,
          0.018771437144245784,
          0.004914971282529379,
          0.02399321815228972,
          0.02550626170336212,
          0.020621068424648836,
          0.028745033970460687,
          0.03209009579540245,
          0.039755852550109605,
          0.0429523984235991,
          0.06247902715808551,
          0.06223487392656901,
          0.055618615287788,
          0.07119115133977294,
          0.10480826675067156,
          0.11424417143360532,
          0.08984875080798971,
          0.09002919870286652,
          0.10193059064869092,
          0.11419091169038187,
          0.11479745638507288,
          0.12710379646906644,
          0.1232523966243495,
          0.1144523442061518,
          0.09585589782023995,
          0.07850545741749704,
          0.09950040375286706,
          0.07721527099829628,
          0.11161948315058257,
          0.10293437593583121,
          0.09399175867547549,
          0.08404942803843429,
          0.09498865770765641,
          0.08288159752596114,
          0.0648291517789501,
          0.06511688674509641,
          0.012691603684381603,
          0.024999562582652235,
          0.004266418073361367,
          -0.008175346061623956,
          -0.03843461058971587,
          -0.0402942714545067,
          -0.04154932942543499,
          -0.04303786785170427,
          -0.05431686407776071,
          -0.04686353662213616,
          -0.058792020217157015,
          -0.06539663938337303,
          -0.07729769568992817,
          -0.08197180608330801,
          -0.09224320594056745,
          -0.0828676227909263,
          -0.08137392145139244,
          -0.07784693593455361,
          -0.06923819690545618,
          -0.08107895074681315,
          -0.08976585420911587,
          -0.08138552408257527,
          -0.07254544805333363,
          -0.0554389373606875,
          -0.05098059247526632,
          -0.044197388645448754,
          -0.0427733309314523,
          -0.04027866989880302,
          -0.05047410887775805,
          -0.0690673065688262,
          -0.0738523261016314,
          -0.07997816933559732,
          -0.08488093480465664,
          -0.0878606041611173,
          -0.0801516087624381,
          -0.07024800411252208,
          -0.062290800206779684,
          -0.058690801606387843,
          -0.055942937503938195,
          -0.05694261732723549,
          -0.07939492920136071,
          -0.08933237230131919,
          -0.09553440306952854,
          -0.0959088377261551,
          -0.08593646321383752,
          -0.08688401235033227,
          -0.0778714489401624,
          -0.0942570589496402,
          -0.09949792429043158,
          -0.10036962963631901,
          -0.07052056870654566,
          -0.07890537132916098,
          -0.07866046807734328,
          -0.07241187303646757,
          -0.05175530692135022,
          -0.06755902558837001,
          -0.07423485284056308,
          -0.08838352044236686,
          -0.10269049604614156,
          -0.1269289385506297,
          -0.14335138452445106,
          -0.1344679947226406,
          -0.131668363592093,
          -0.14316497285282337,
          -0.11848160560429721,
          -0.10774229488567766,
          -0.07968882305316616,
          -0.08622012471435736,
          -0.07061653767649534,
          -0.04257943623818705,
          -0.06055642475419565,
          -0.05128457322633617,
          -0.046816914429649414,
          -0.04796189574208165,
          -0.02706467060220208,
          -0.03557446703803169,
          -0.017936358414700537,
          -0.015095564284680507,
          -0.006959796561085807,
          0.004237569541033714,
          0.0022926988107141444,
          -0.002503559554110968,
          -0.003185360461638642,
          0.017053034864775718,
          0.023998783840002647,
          0.03303867014952866,
          0.0341040578947609,
          0.034331487816944506,
          0.04460569679046378,
          0.0636193978147288,
          0.0786945256414191,
          0.09215042833315912,
          0.1205870452628166,
          0.1104602895249176,
          0.11222178973339458,
          0.07566856842072434,
          0.057219855043720846,
          0.019518333461472803,
          0.012520277411372849,
          0.013741503251200271,
          0.019158875510987272,
          -0.008076755857821638,
          -0.036434667670394605,
          -0.029183952119070433,
          -0.04482658637839387,
          -0.03608989140299146,
          -0.01571839195122915,
          0.007072628627919464,
          0.021170828648654938,
          0.01908089415656855,
          0.01225236325085266,
          -0.011614428762911633,
          -0.03320971834980424,
          -0.03566049761834178,
          -0.03507210007435069,
          -0.03633983033033772,
          -0.03799122093454088,
          -0.06180354334473548,
          -0.05602156431224281,
          -0.055887633486220833,
          -0.017969103698562194,
          -0.00843640138456525,
          0.013624710035298415,
          0.0003313485928395643,
          0.0038178523537255593,
          0.00010150571417155696,
          0.007613697971262656,
          0.014584140448841376,
          0.026910417774478335,
          0.025329355026481926,
          0.04410426346124274,
          0.03988051017139127,
          0.06200151624786243,
          0.058610225232754276,
          0.06471021797838783,
          0.05228166723497929,
          0.0730180368282749,
          0.09008206458873924,
          0.0658222909804076,
          0.049895508432883595,
          0.05045339563174012,
          0.055876078360029835,
          0.0444902323432419,
          0.018412271340874753,
          0.012558321707812237,
          0.015985729731763376,
          0.015195752028443144,
          0.07283627542466031,
          0.12170921826522041,
          0.11110699482505892,
          0.1206878828647564,
          0.08935912682700464,
          0.10288927858261387,
          0.08391842911697367,
          0.09091117507180768,
          0.09091599684640417,
          0.08743858742525035,
          0.07853239338969376,
          0.10832937412827359,
          0.11500362718104262,
          0.11784401696369651,
          0.12785544783397884,
          0.15139628788032633,
          0.15088930195996997,
          0.14591517380239472,
          0.1555835996347681,
          0.1689357634333999,
          0.15297000239140512,
          0.16704428444295938,
          0.1724617468765306,
          0.1977726294678086,
          0.1768100262997303,
          0.17732124105807934,
          0.16815209824834487,
          0.15132043294116948,
          0.146541527510194,
          0.14056384212689643,
          0.17228034819574045,
          0.20333394365222635,
          0.2047436783310923
         ]
        },
        {
         "line": {
          "width": 2
         },
         "mode": "lines",
         "name": "PPO",
         "type": "scatter",
         "x": [
          "2021-01-04T00:00:00",
          "2021-01-05T00:00:00",
          "2021-01-06T00:00:00",
          "2021-01-07T00:00:00",
          "2021-01-08T00:00:00",
          "2021-01-11T00:00:00",
          "2021-01-12T00:00:00",
          "2021-01-13T00:00:00",
          "2021-01-14T00:00:00",
          "2021-01-15T00:00:00",
          "2021-01-18T00:00:00",
          "2021-01-19T00:00:00",
          "2021-01-20T00:00:00",
          "2021-01-21T00:00:00",
          "2021-01-22T00:00:00",
          "2021-01-25T00:00:00",
          "2021-01-26T00:00:00",
          "2021-01-27T00:00:00",
          "2021-01-28T00:00:00",
          "2021-01-29T00:00:00",
          "2021-02-01T00:00:00",
          "2021-02-02T00:00:00",
          "2021-02-03T00:00:00",
          "2021-02-04T00:00:00",
          "2021-02-05T00:00:00",
          "2021-02-08T00:00:00",
          "2021-02-09T00:00:00",
          "2021-02-10T00:00:00",
          "2021-02-18T00:00:00",
          "2021-02-19T00:00:00",
          "2021-02-22T00:00:00",
          "2021-02-23T00:00:00",
          "2021-02-24T00:00:00",
          "2021-02-25T00:00:00",
          "2021-02-26T00:00:00",
          "2021-03-01T00:00:00",
          "2021-03-02T00:00:00",
          "2021-03-03T00:00:00",
          "2021-03-04T00:00:00",
          "2021-03-05T00:00:00",
          "2021-03-08T00:00:00",
          "2021-03-09T00:00:00",
          "2021-03-10T00:00:00",
          "2021-03-11T00:00:00",
          "2021-03-12T00:00:00",
          "2021-03-15T00:00:00",
          "2021-03-16T00:00:00",
          "2021-03-17T00:00:00",
          "2021-03-18T00:00:00",
          "2021-03-19T00:00:00",
          "2021-03-22T00:00:00",
          "2021-03-23T00:00:00",
          "2021-03-24T00:00:00",
          "2021-03-25T00:00:00",
          "2021-03-26T00:00:00",
          "2021-03-29T00:00:00",
          "2021-03-30T00:00:00",
          "2021-03-31T00:00:00",
          "2021-04-01T00:00:00",
          "2021-04-02T00:00:00",
          "2021-04-06T00:00:00",
          "2021-04-07T00:00:00",
          "2021-04-08T00:00:00",
          "2021-04-09T00:00:00",
          "2021-04-12T00:00:00",
          "2021-04-13T00:00:00",
          "2021-04-14T00:00:00",
          "2021-04-15T00:00:00",
          "2021-04-16T00:00:00",
          "2021-04-19T00:00:00",
          "2021-04-20T00:00:00",
          "2021-04-21T00:00:00",
          "2021-04-22T00:00:00",
          "2021-04-23T00:00:00",
          "2021-04-26T00:00:00",
          "2021-04-27T00:00:00",
          "2021-04-28T00:00:00",
          "2021-04-29T00:00:00",
          "2021-04-30T00:00:00",
          "2021-05-06T00:00:00",
          "2021-05-07T00:00:00",
          "2021-05-10T00:00:00",
          "2021-05-11T00:00:00",
          "2021-05-12T00:00:00",
          "2021-05-13T00:00:00",
          "2021-05-14T00:00:00",
          "2021-05-17T00:00:00",
          "2021-05-18T00:00:00",
          "2021-05-19T00:00:00",
          "2021-05-20T00:00:00",
          "2021-05-21T00:00:00",
          "2021-05-24T00:00:00",
          "2021-05-25T00:00:00",
          "2021-05-26T00:00:00",
          "2021-05-27T00:00:00",
          "2021-05-28T00:00:00",
          "2021-05-31T00:00:00",
          "2021-06-01T00:00:00",
          "2021-06-02T00:00:00",
          "2021-06-03T00:00:00",
          "2021-06-04T00:00:00",
          "2021-06-07T00:00:00",
          "2021-06-08T00:00:00",
          "2021-06-09T00:00:00",
          "2021-06-10T00:00:00",
          "2021-06-11T00:00:00",
          "2021-06-15T00:00:00",
          "2021-06-16T00:00:00",
          "2021-06-17T00:00:00",
          "2021-06-18T00:00:00",
          "2021-06-21T00:00:00",
          "2021-06-22T00:00:00",
          "2021-06-23T00:00:00",
          "2021-06-24T00:00:00",
          "2021-06-25T00:00:00",
          "2021-06-28T00:00:00",
          "2021-06-29T00:00:00",
          "2021-06-30T00:00:00",
          "2021-07-01T00:00:00",
          "2021-07-02T00:00:00",
          "2021-07-05T00:00:00",
          "2021-07-06T00:00:00",
          "2021-07-07T00:00:00",
          "2021-07-08T00:00:00",
          "2021-07-09T00:00:00",
          "2021-07-12T00:00:00",
          "2021-07-13T00:00:00",
          "2021-07-14T00:00:00",
          "2021-07-15T00:00:00",
          "2021-07-16T00:00:00",
          "2021-07-19T00:00:00",
          "2021-07-20T00:00:00",
          "2021-07-21T00:00:00",
          "2021-07-22T00:00:00",
          "2021-07-23T00:00:00",
          "2021-07-26T00:00:00",
          "2021-07-27T00:00:00",
          "2021-07-28T00:00:00",
          "2021-07-29T00:00:00",
          "2021-07-30T00:00:00",
          "2021-08-02T00:00:00",
          "2021-08-03T00:00:00",
          "2021-08-04T00:00:00",
          "2021-08-05T00:00:00",
          "2021-08-06T00:00:00",
          "2021-08-09T00:00:00",
          "2021-08-10T00:00:00",
          "2021-08-11T00:00:00",
          "2021-08-12T00:00:00",
          "2021-08-13T00:00:00",
          "2021-08-16T00:00:00",
          "2021-08-17T00:00:00",
          "2021-08-18T00:00:00",
          "2021-08-19T00:00:00",
          "2021-08-20T00:00:00",
          "2021-08-23T00:00:00",
          "2021-08-24T00:00:00",
          "2021-08-25T00:00:00",
          "2021-08-26T00:00:00",
          "2021-08-27T00:00:00",
          "2021-08-30T00:00:00",
          "2021-08-31T00:00:00",
          "2021-09-01T00:00:00",
          "2021-09-02T00:00:00",
          "2021-09-03T00:00:00",
          "2021-09-06T00:00:00",
          "2021-09-07T00:00:00",
          "2021-09-08T00:00:00",
          "2021-09-09T00:00:00",
          "2021-09-10T00:00:00",
          "2021-09-13T00:00:00",
          "2021-09-14T00:00:00",
          "2021-09-15T00:00:00",
          "2021-09-16T00:00:00",
          "2021-09-17T00:00:00",
          "2021-09-22T00:00:00",
          "2021-09-23T00:00:00",
          "2021-09-24T00:00:00",
          "2021-09-27T00:00:00",
          "2021-09-28T00:00:00",
          "2021-09-29T00:00:00",
          "2021-09-30T00:00:00",
          "2021-10-08T00:00:00",
          "2021-10-11T00:00:00",
          "2021-10-12T00:00:00",
          "2021-10-13T00:00:00",
          "2021-10-14T00:00:00",
          "2021-10-15T00:00:00",
          "2021-10-18T00:00:00",
          "2021-10-19T00:00:00",
          "2021-10-20T00:00:00",
          "2021-10-21T00:00:00",
          "2021-10-22T00:00:00",
          "2021-10-25T00:00:00",
          "2021-10-26T00:00:00",
          "2021-10-27T00:00:00",
          "2021-10-28T00:00:00",
          "2021-10-29T00:00:00",
          "2021-11-01T00:00:00",
          "2021-11-02T00:00:00",
          "2021-11-03T00:00:00",
          "2021-11-04T00:00:00",
          "2021-11-05T00:00:00",
          "2021-11-08T00:00:00",
          "2021-11-09T00:00:00",
          "2021-11-10T00:00:00",
          "2021-11-11T00:00:00",
          "2021-11-12T00:00:00",
          "2021-11-15T00:00:00",
          "2021-11-16T00:00:00",
          "2021-11-17T00:00:00",
          "2021-11-18T00:00:00",
          "2021-11-19T00:00:00",
          "2021-11-22T00:00:00",
          "2021-11-23T00:00:00",
          "2021-11-24T00:00:00",
          "2021-11-25T00:00:00",
          "2021-11-26T00:00:00",
          "2021-11-29T00:00:00",
          "2021-11-30T00:00:00",
          "2021-12-01T00:00:00",
          "2021-12-02T00:00:00",
          "2021-12-03T00:00:00",
          "2021-12-06T00:00:00",
          "2021-12-07T00:00:00",
          "2021-12-08T00:00:00",
          "2021-12-09T00:00:00",
          "2021-12-10T00:00:00",
          "2021-12-13T00:00:00",
          "2021-12-14T00:00:00",
          "2021-12-15T00:00:00",
          "2021-12-16T00:00:00",
          "2021-12-17T00:00:00",
          "2021-12-20T00:00:00",
          "2021-12-21T00:00:00",
          "2021-12-22T00:00:00",
          "2021-12-23T00:00:00",
          "2021-12-24T00:00:00",
          "2021-12-27T00:00:00",
          "2021-12-28T00:00:00",
          "2021-12-29T00:00:00",
          "2021-12-30T00:00:00",
          "2021-12-31T00:00:00",
          "2022-01-04T00:00:00",
          "2022-01-05T00:00:00",
          "2022-01-06T00:00:00",
          "2022-01-07T00:00:00",
          "2022-01-10T00:00:00",
          "2022-01-11T00:00:00",
          "2022-01-12T00:00:00",
          "2022-01-13T00:00:00",
          "2022-01-14T00:00:00",
          "2022-01-17T00:00:00",
          "2022-01-18T00:00:00",
          "2022-01-19T00:00:00",
          "2022-01-20T00:00:00"
         ],
         "y": [
          0,
          -0.014924731589607498,
          -0.002292029237686233,
          -0.02783613515178318,
          -0.011582659267364903,
          -0.041648720340008216,
          -0.0026558670513836535,
          -0.01618665592905677,
          -0.005652518191398226,
          0.02601169531889136,
          0.026241456545075037,
          0.03238228845989677,
          0.01620351667649933,
          0.0014506670302296687,
          -0.006595110268871718,
          -0.03375816360295625,
          -0.02497455227799361,
          0.004343160051555772,
          -0.012586974803695972,
          -0.03198254698274361,
          -0.037181770465997244,
          -0.026108089996084827,
          -0.0579418147719154,
          -0.0763340884411331,
          -0.07885778871081006,
          -0.07186572185803364,
          -0.07445325741893905,
          -0.07542613967556411,
          -0.060839702404633655,
          -0.042127147923515795,
          -0.03301421957251416,
          -0.04305179122425107,
          -0.04364022911148224,
          -0.032024333272746563,
          -0.023814879975735614,
          -0.0025717501834994216,
          0.05702293196514896,
          0.10076517828104503,
          0.058474083109115504,
          0.08508350417099098,
          0.07009783958565685,
          0.04855327834056089,
          0.03776582971566489,
          0.05900769897600178,
          0.0652167415874727,
          0.06406908482303653,
          0.0694064576160931,
          0.07071802439137742,
          0.0704803983835165,
          0.0697552144316429,
          0.07847967851559967,
          0.09133908321549655,
          0.07486456405543596,
          0.08797640348951785,
          0.11450032742581762,
          0.1174944336540209,
          0.11225444081965663,
          0.11339106716509462,
          0.12034387132228153,
          0.1540820147256261,
          0.14502001508738838,
          0.15581707770624353,
          0.1607977691167013,
          0.1565098976446595,
          0.1359209717454284,
          0.11785219947047643,
          0.13753741216055637,
          0.10530636398562265,
          0.14523494421970362,
          0.14138976934869163,
          0.1305476639962686,
          0.12118469486140016,
          0.13089393228052382,
          0.12548849981390564,
          0.10392456873295153,
          0.11506607202801322,
          0.06264750408568753,
          0.08544293701009797,
          0.05815106243719281,
          0.037490342225859896,
          0.011362233803456911,
          0.010464231389373024,
          0.009454988261403674,
          0.011527454649789215,
          0.005444720577713724,
          0.010908501181369656,
          -0.002801563401218954,
          -0.009412978444454212,
          -0.0196735891925357,
          -0.020281134080949115,
          -0.0336765978589757,
          -0.028163048653642275,
          -0.024574817887027534,
          -0.0204969501308645,
          -0.014191628526838751,
          -0.01798919403835353,
          -0.027157243578103007,
          -0.02091378759461915,
          -0.014562402048735379,
          -0.0019146743844897784,
          0.006955944687642157,
          0.016578366976836678,
          0.01543059206302555,
          0.012962786405233517,
          0.0020281523093343967,
          -0.01769993241350276,
          -0.022150786213627316,
          -0.025822028176523792,
          -0.03312202712306178,
          -0.03412618685600377,
          -0.02668493609720457,
          -0.01867621227543048,
          -0.015194285419451337,
          0.004348448058712373,
          0.007280335956420414,
          0.010388597503374175,
          -0.01621128404932559,
          -0.027077398949225784,
          -0.03890277379497642,
          -0.03580152630971223,
          -0.028209136157252734,
          -0.02929357544504896,
          -0.02115713470601488,
          -0.03510189007417852,
          -0.04563227641411105,
          -0.04230896575679999,
          -0.013271939252926801,
          -0.01931972802941484,
          -0.02233041095862287,
          -0.011647910281172624,
          0.0033509499579609248,
          -0.010727492114225967,
          -0.014255515320517609,
          -0.02534701443286491,
          -0.040047179019753854,
          -0.06701569943155727,
          -0.08302097603657588,
          -0.08172493598407704,
          -0.07758205082341008,
          -0.09114491133752234,
          -0.062409361781076256,
          -0.033247329342628196,
          -0.009031742096155204,
          -0.006733145906478444,
          0.016395788895224417,
          0.047631109369320246,
          0.029754211069123793,
          0.04197077024785334,
          0.04868179996261768,
          0.047558045838463237,
          0.07478388600959263,
          0.06258715901322653,
          0.08400218729800302,
          0.07650522246281155,
          0.08629101275942808,
          0.09785072101106085,
          0.09671011182659739,
          0.09510003626412633,
          0.09554895658902995,
          0.11245133563800591,
          0.12474933673424227,
          0.12096080928933839,
          0.1146560426576626,
          0.11516596159051207,
          0.127348935454477,
          0.13524907289801158,
          0.15402906899347069,
          0.16177657618503338,
          0.19343587455225375,
          0.1846223797423221,
          0.18609969261467518,
          0.15190264911310147,
          0.13179602218084585,
          0.10433299184033507,
          0.09596987499916843,
          0.10328595662702367,
          0.09543643701249338,
          0.07189557132094504,
          0.04652419934858165,
          0.044340992061859597,
          0.029395431276595607,
          0.046014421261845406,
          0.06854520530753194,
          0.08247587865619632,
          0.09056679158182313,
          0.08854343713138135,
          0.07539900762862062,
          0.05449717402679877,
          0.031062648829503603,
          0.026126267483106647,
          0.02681649581390988,
          0.026293726101407344,
          0.027469446205238723,
          0.0008527036070689054,
          0.00013552600816302274,
          -0.022464477806080074,
          0.02884492669670813,
          0.03867240369933356,
          0.049057493713704714,
          0.027924207976928406,
          0.035020524767714,
          0.031188659215541703,
          0.03938896435272521,
          0.04642228409825733,
          0.048389949036267144,
          0.04849574544605728,
          0.0689719731787608,
          0.07339684166298244,
          0.08800220355517085,
          0.08951896454814823,
          0.09867904554726015,
          0.08266522138287313,
          0.10167329314894147,
          0.11795937294598646,
          0.10883868414005393,
          0.09568731375599815,
          0.09350303247833947,
          0.10252504522465955,
          0.08528718161743076,
          0.06418896526935525,
          0.050551163830619306,
          0.06481735435937419,
          0.0739083360835251,
          0.10745805353731774,
          0.16165576442878726,
          0.1506152180108733,
          0.16019273157951064,
          0.12803148754329108,
          0.12432372544607162,
          0.10433696541053794,
          0.11072352156198062,
          0.11064752304817715,
          0.10823777075989183,
          0.10726285852608597,
          0.13289530610245448,
          0.14195782215158226,
          0.1513279047911522,
          0.16466170771286004,
          0.18666423948851296,
          0.18826388832439522,
          0.18296332517342506,
          0.19315307755896005,
          0.21395627617319923,
          0.2151332188261561,
          0.23552878808531674,
          0.2464017763345454,
          0.27393952512731956,
          0.2541699227006149,
          0.2544806092763523,
          0.24755026110555622,
          0.22151357330884558,
          0.21540683157531682,
          0.2102695833521715,
          0.24456004907126427,
          0.2837208560122557,
          0.28564788866944424
         ]
        },
        {
         "line": {
          "width": 2
         },
         "mode": "lines",
         "name": "DJIA",
         "type": "scatter",
         "x": [
          "2021-01-04T00:00:00",
          "2021-01-05T00:00:00",
          "2021-01-06T00:00:00",
          "2021-01-07T00:00:00",
          "2021-01-08T00:00:00",
          "2021-01-11T00:00:00",
          "2021-01-12T00:00:00",
          "2021-01-13T00:00:00",
          "2021-01-14T00:00:00",
          "2021-01-15T00:00:00",
          "2021-01-18T00:00:00",
          "2021-01-19T00:00:00",
          "2021-01-20T00:00:00",
          "2021-01-21T00:00:00",
          "2021-01-22T00:00:00",
          "2021-01-25T00:00:00",
          "2021-01-26T00:00:00",
          "2021-01-27T00:00:00",
          "2021-01-28T00:00:00",
          "2021-01-29T00:00:00",
          "2021-02-01T00:00:00",
          "2021-02-02T00:00:00",
          "2021-02-03T00:00:00",
          "2021-02-04T00:00:00",
          "2021-02-05T00:00:00",
          "2021-02-08T00:00:00",
          "2021-02-09T00:00:00",
          "2021-02-10T00:00:00",
          "2021-02-18T00:00:00",
          "2021-02-19T00:00:00",
          "2021-02-22T00:00:00",
          "2021-02-23T00:00:00",
          "2021-02-24T00:00:00",
          "2021-02-25T00:00:00",
          "2021-02-26T00:00:00",
          "2021-03-01T00:00:00",
          "2021-03-02T00:00:00",
          "2021-03-03T00:00:00",
          "2021-03-04T00:00:00",
          "2021-03-05T00:00:00",
          "2021-03-08T00:00:00",
          "2021-03-09T00:00:00",
          "2021-03-10T00:00:00",
          "2021-03-11T00:00:00",
          "2021-03-12T00:00:00",
          "2021-03-15T00:00:00",
          "2021-03-16T00:00:00",
          "2021-03-17T00:00:00",
          "2021-03-18T00:00:00",
          "2021-03-19T00:00:00",
          "2021-03-22T00:00:00",
          "2021-03-23T00:00:00",
          "2021-03-24T00:00:00",
          "2021-03-25T00:00:00",
          "2021-03-26T00:00:00",
          "2021-03-29T00:00:00",
          "2021-03-30T00:00:00",
          "2021-03-31T00:00:00",
          "2021-04-01T00:00:00",
          "2021-04-02T00:00:00",
          "2021-04-06T00:00:00",
          "2021-04-07T00:00:00",
          "2021-04-08T00:00:00",
          "2021-04-09T00:00:00",
          "2021-04-12T00:00:00",
          "2021-04-13T00:00:00",
          "2021-04-14T00:00:00",
          "2021-04-15T00:00:00",
          "2021-04-16T00:00:00",
          "2021-04-19T00:00:00",
          "2021-04-20T00:00:00",
          "2021-04-21T00:00:00",
          "2021-04-22T00:00:00",
          "2021-04-23T00:00:00",
          "2021-04-26T00:00:00",
          "2021-04-27T00:00:00",
          "2021-04-28T00:00:00",
          "2021-04-29T00:00:00",
          "2021-04-30T00:00:00",
          "2021-05-06T00:00:00",
          "2021-05-07T00:00:00",
          "2021-05-10T00:00:00",
          "2021-05-11T00:00:00",
          "2021-05-12T00:00:00",
          "2021-05-13T00:00:00",
          "2021-05-14T00:00:00",
          "2021-05-17T00:00:00",
          "2021-05-18T00:00:00",
          "2021-05-19T00:00:00",
          "2021-05-20T00:00:00",
          "2021-05-21T00:00:00",
          "2021-05-24T00:00:00",
          "2021-05-25T00:00:00",
          "2021-05-26T00:00:00",
          "2021-05-27T00:00:00",
          "2021-05-28T00:00:00",
          "2021-05-31T00:00:00",
          "2021-06-01T00:00:00",
          "2021-06-02T00:00:00",
          "2021-06-03T00:00:00",
          "2021-06-04T00:00:00",
          "2021-06-07T00:00:00",
          "2021-06-08T00:00:00",
          "2021-06-09T00:00:00",
          "2021-06-10T00:00:00",
          "2021-06-11T00:00:00",
          "2021-06-15T00:00:00",
          "2021-06-16T00:00:00",
          "2021-06-17T00:00:00",
          "2021-06-18T00:00:00",
          "2021-06-21T00:00:00",
          "2021-06-22T00:00:00",
          "2021-06-23T00:00:00",
          "2021-06-24T00:00:00",
          "2021-06-25T00:00:00",
          "2021-06-28T00:00:00",
          "2021-06-29T00:00:00",
          "2021-06-30T00:00:00",
          "2021-07-01T00:00:00",
          "2021-07-02T00:00:00",
          "2021-07-05T00:00:00",
          "2021-07-06T00:00:00",
          "2021-07-07T00:00:00",
          "2021-07-08T00:00:00",
          "2021-07-09T00:00:00",
          "2021-07-12T00:00:00",
          "2021-07-13T00:00:00",
          "2021-07-14T00:00:00",
          "2021-07-15T00:00:00",
          "2021-07-16T00:00:00",
          "2021-07-19T00:00:00",
          "2021-07-20T00:00:00",
          "2021-07-21T00:00:00",
          "2021-07-22T00:00:00",
          "2021-07-23T00:00:00",
          "2021-07-26T00:00:00",
          "2021-07-27T00:00:00",
          "2021-07-28T00:00:00",
          "2021-07-29T00:00:00",
          "2021-07-30T00:00:00",
          "2021-08-02T00:00:00",
          "2021-08-03T00:00:00",
          "2021-08-04T00:00:00",
          "2021-08-05T00:00:00",
          "2021-08-06T00:00:00",
          "2021-08-09T00:00:00",
          "2021-08-10T00:00:00",
          "2021-08-11T00:00:00",
          "2021-08-12T00:00:00",
          "2021-08-13T00:00:00",
          "2021-08-16T00:00:00",
          "2021-08-17T00:00:00",
          "2021-08-18T00:00:00",
          "2021-08-19T00:00:00",
          "2021-08-20T00:00:00",
          "2021-08-23T00:00:00",
          "2021-08-24T00:00:00",
          "2021-08-25T00:00:00",
          "2021-08-26T00:00:00",
          "2021-08-27T00:00:00",
          "2021-08-30T00:00:00",
          "2021-08-31T00:00:00",
          "2021-09-01T00:00:00",
          "2021-09-02T00:00:00",
          "2021-09-03T00:00:00",
          "2021-09-06T00:00:00",
          "2021-09-07T00:00:00",
          "2021-09-08T00:00:00",
          "2021-09-09T00:00:00",
          "2021-09-10T00:00:00",
          "2021-09-13T00:00:00",
          "2021-09-14T00:00:00",
          "2021-09-15T00:00:00",
          "2021-09-16T00:00:00",
          "2021-09-17T00:00:00",
          "2021-09-22T00:00:00",
          "2021-09-23T00:00:00",
          "2021-09-24T00:00:00",
          "2021-09-27T00:00:00",
          "2021-09-28T00:00:00",
          "2021-09-29T00:00:00",
          "2021-09-30T00:00:00",
          "2021-10-08T00:00:00",
          "2021-10-11T00:00:00",
          "2021-10-12T00:00:00",
          "2021-10-13T00:00:00",
          "2021-10-14T00:00:00",
          "2021-10-15T00:00:00",
          "2021-10-18T00:00:00",
          "2021-10-19T00:00:00",
          "2021-10-20T00:00:00",
          "2021-10-21T00:00:00",
          "2021-10-22T00:00:00",
          "2021-10-25T00:00:00",
          "2021-10-26T00:00:00",
          "2021-10-27T00:00:00",
          "2021-10-28T00:00:00",
          "2021-10-29T00:00:00",
          "2021-11-01T00:00:00",
          "2021-11-02T00:00:00",
          "2021-11-03T00:00:00",
          "2021-11-04T00:00:00",
          "2021-11-05T00:00:00",
          "2021-11-08T00:00:00",
          "2021-11-09T00:00:00",
          "2021-11-10T00:00:00",
          "2021-11-11T00:00:00",
          "2021-11-12T00:00:00",
          "2021-11-15T00:00:00",
          "2021-11-16T00:00:00",
          "2021-11-17T00:00:00",
          "2021-11-18T00:00:00",
          "2021-11-19T00:00:00",
          "2021-11-22T00:00:00",
          "2021-11-23T00:00:00",
          "2021-11-24T00:00:00",
          "2021-11-25T00:00:00",
          "2021-11-26T00:00:00",
          "2021-11-29T00:00:00",
          "2021-11-30T00:00:00",
          "2021-12-01T00:00:00",
          "2021-12-02T00:00:00",
          "2021-12-03T00:00:00",
          "2021-12-06T00:00:00",
          "2021-12-07T00:00:00",
          "2021-12-08T00:00:00",
          "2021-12-09T00:00:00",
          "2021-12-10T00:00:00",
          "2021-12-13T00:00:00",
          "2021-12-14T00:00:00",
          "2021-12-15T00:00:00",
          "2021-12-16T00:00:00",
          "2021-12-17T00:00:00",
          "2021-12-20T00:00:00",
          "2021-12-21T00:00:00",
          "2021-12-22T00:00:00",
          "2021-12-23T00:00:00",
          "2021-12-24T00:00:00",
          "2021-12-27T00:00:00",
          "2021-12-28T00:00:00",
          "2021-12-29T00:00:00",
          "2021-12-30T00:00:00",
          "2021-12-31T00:00:00",
          "2022-01-04T00:00:00",
          "2022-01-05T00:00:00",
          "2022-01-06T00:00:00",
          "2022-01-07T00:00:00",
          "2022-01-10T00:00:00",
          "2022-01-11T00:00:00",
          "2022-01-12T00:00:00",
          "2022-01-13T00:00:00",
          "2022-01-14T00:00:00",
          "2022-01-17T00:00:00",
          "2022-01-18T00:00:00",
          "2022-01-19T00:00:00",
          "2022-01-20T00:00:00"
         ],
         "y": [
          null,
          -0.009765625,
          -0.009765625,
          -0.041015625,
          -0.03320312500000011,
          -0.03320312500000011,
          -0.011718750000000222,
          -0.009765625,
          -0.041015625,
          -0.017578125,
          -0.04882812500000011,
          -0.02929687500000011,
          -0.08203125,
          -0.068359375
         ]
        },
        {
         "line": {
          "width": 2
         },
         "mode": "lines",
         "name": "LR",
         "type": "scatter",
         "x": [
          "2021-01-04T00:00:00",
          "2021-01-05T00:00:00",
          "2021-01-06T00:00:00",
          "2021-01-07T00:00:00",
          "2021-01-08T00:00:00",
          "2021-01-11T00:00:00",
          "2021-01-12T00:00:00",
          "2021-01-13T00:00:00",
          "2021-01-14T00:00:00",
          "2021-01-15T00:00:00",
          "2021-01-18T00:00:00",
          "2021-01-19T00:00:00",
          "2021-01-20T00:00:00",
          "2021-01-21T00:00:00",
          "2021-01-22T00:00:00",
          "2021-01-25T00:00:00",
          "2021-01-26T00:00:00",
          "2021-01-27T00:00:00",
          "2021-01-28T00:00:00",
          "2021-01-29T00:00:00",
          "2021-02-01T00:00:00",
          "2021-02-02T00:00:00",
          "2021-02-03T00:00:00",
          "2021-02-04T00:00:00",
          "2021-02-05T00:00:00",
          "2021-02-08T00:00:00",
          "2021-02-09T00:00:00",
          "2021-02-10T00:00:00",
          "2021-02-18T00:00:00",
          "2021-02-19T00:00:00",
          "2021-02-22T00:00:00",
          "2021-02-23T00:00:00",
          "2021-02-24T00:00:00",
          "2021-02-25T00:00:00",
          "2021-02-26T00:00:00",
          "2021-03-01T00:00:00",
          "2021-03-02T00:00:00",
          "2021-03-03T00:00:00",
          "2021-03-04T00:00:00",
          "2021-03-05T00:00:00",
          "2021-03-08T00:00:00",
          "2021-03-09T00:00:00",
          "2021-03-10T00:00:00",
          "2021-03-11T00:00:00",
          "2021-03-12T00:00:00",
          "2021-03-15T00:00:00",
          "2021-03-16T00:00:00",
          "2021-03-17T00:00:00",
          "2021-03-18T00:00:00",
          "2021-03-19T00:00:00",
          "2021-03-22T00:00:00",
          "2021-03-23T00:00:00",
          "2021-03-24T00:00:00",
          "2021-03-25T00:00:00",
          "2021-03-26T00:00:00",
          "2021-03-29T00:00:00",
          "2021-03-30T00:00:00",
          "2021-03-31T00:00:00",
          "2021-04-01T00:00:00",
          "2021-04-02T00:00:00",
          "2021-04-06T00:00:00",
          "2021-04-07T00:00:00",
          "2021-04-08T00:00:00",
          "2021-04-09T00:00:00",
          "2021-04-12T00:00:00",
          "2021-04-13T00:00:00",
          "2021-04-14T00:00:00",
          "2021-04-15T00:00:00",
          "2021-04-16T00:00:00",
          "2021-04-19T00:00:00",
          "2021-04-20T00:00:00",
          "2021-04-21T00:00:00",
          "2021-04-22T00:00:00",
          "2021-04-23T00:00:00",
          "2021-04-26T00:00:00",
          "2021-04-27T00:00:00",
          "2021-04-28T00:00:00",
          "2021-04-29T00:00:00",
          "2021-04-30T00:00:00",
          "2021-05-06T00:00:00",
          "2021-05-07T00:00:00",
          "2021-05-10T00:00:00",
          "2021-05-11T00:00:00",
          "2021-05-12T00:00:00",
          "2021-05-13T00:00:00",
          "2021-05-14T00:00:00",
          "2021-05-17T00:00:00",
          "2021-05-18T00:00:00",
          "2021-05-19T00:00:00",
          "2021-05-20T00:00:00",
          "2021-05-21T00:00:00",
          "2021-05-24T00:00:00",
          "2021-05-25T00:00:00",
          "2021-05-26T00:00:00",
          "2021-05-27T00:00:00",
          "2021-05-28T00:00:00",
          "2021-05-31T00:00:00",
          "2021-06-01T00:00:00",
          "2021-06-02T00:00:00",
          "2021-06-03T00:00:00",
          "2021-06-04T00:00:00",
          "2021-06-07T00:00:00",
          "2021-06-08T00:00:00",
          "2021-06-09T00:00:00",
          "2021-06-10T00:00:00",
          "2021-06-11T00:00:00",
          "2021-06-15T00:00:00",
          "2021-06-16T00:00:00",
          "2021-06-17T00:00:00",
          "2021-06-18T00:00:00",
          "2021-06-21T00:00:00",
          "2021-06-22T00:00:00",
          "2021-06-23T00:00:00",
          "2021-06-24T00:00:00",
          "2021-06-25T00:00:00",
          "2021-06-28T00:00:00",
          "2021-06-29T00:00:00",
          "2021-06-30T00:00:00",
          "2021-07-01T00:00:00",
          "2021-07-02T00:00:00",
          "2021-07-05T00:00:00",
          "2021-07-06T00:00:00",
          "2021-07-07T00:00:00",
          "2021-07-08T00:00:00",
          "2021-07-09T00:00:00",
          "2021-07-12T00:00:00",
          "2021-07-13T00:00:00",
          "2021-07-14T00:00:00",
          "2021-07-15T00:00:00",
          "2021-07-16T00:00:00",
          "2021-07-19T00:00:00",
          "2021-07-20T00:00:00",
          "2021-07-21T00:00:00",
          "2021-07-22T00:00:00",
          "2021-07-23T00:00:00",
          "2021-07-26T00:00:00",
          "2021-07-27T00:00:00",
          "2021-07-28T00:00:00",
          "2021-07-29T00:00:00",
          "2021-07-30T00:00:00",
          "2021-08-02T00:00:00",
          "2021-08-03T00:00:00",
          "2021-08-04T00:00:00",
          "2021-08-05T00:00:00",
          "2021-08-06T00:00:00",
          "2021-08-09T00:00:00",
          "2021-08-10T00:00:00",
          "2021-08-11T00:00:00",
          "2021-08-12T00:00:00",
          "2021-08-13T00:00:00",
          "2021-08-16T00:00:00",
          "2021-08-17T00:00:00",
          "2021-08-18T00:00:00",
          "2021-08-19T00:00:00",
          "2021-08-20T00:00:00",
          "2021-08-23T00:00:00",
          "2021-08-24T00:00:00",
          "2021-08-25T00:00:00",
          "2021-08-26T00:00:00",
          "2021-08-27T00:00:00",
          "2021-08-30T00:00:00",
          "2021-08-31T00:00:00",
          "2021-09-01T00:00:00",
          "2021-09-02T00:00:00",
          "2021-09-03T00:00:00",
          "2021-09-06T00:00:00",
          "2021-09-07T00:00:00",
          "2021-09-08T00:00:00",
          "2021-09-09T00:00:00",
          "2021-09-10T00:00:00",
          "2021-09-13T00:00:00",
          "2021-09-14T00:00:00",
          "2021-09-15T00:00:00",
          "2021-09-16T00:00:00",
          "2021-09-17T00:00:00",
          "2021-09-22T00:00:00",
          "2021-09-23T00:00:00",
          "2021-09-24T00:00:00",
          "2021-09-27T00:00:00",
          "2021-09-28T00:00:00",
          "2021-09-29T00:00:00",
          "2021-09-30T00:00:00",
          "2021-10-08T00:00:00",
          "2021-10-11T00:00:00",
          "2021-10-12T00:00:00",
          "2021-10-13T00:00:00",
          "2021-10-14T00:00:00",
          "2021-10-15T00:00:00",
          "2021-10-18T00:00:00",
          "2021-10-19T00:00:00",
          "2021-10-20T00:00:00",
          "2021-10-21T00:00:00",
          "2021-10-22T00:00:00",
          "2021-10-25T00:00:00",
          "2021-10-26T00:00:00",
          "2021-10-27T00:00:00",
          "2021-10-28T00:00:00",
          "2021-10-29T00:00:00",
          "2021-11-01T00:00:00",
          "2021-11-02T00:00:00",
          "2021-11-03T00:00:00",
          "2021-11-04T00:00:00",
          "2021-11-05T00:00:00",
          "2021-11-08T00:00:00",
          "2021-11-09T00:00:00",
          "2021-11-10T00:00:00",
          "2021-11-11T00:00:00",
          "2021-11-12T00:00:00",
          "2021-11-15T00:00:00",
          "2021-11-16T00:00:00",
          "2021-11-17T00:00:00",
          "2021-11-18T00:00:00",
          "2021-11-19T00:00:00",
          "2021-11-22T00:00:00",
          "2021-11-23T00:00:00",
          "2021-11-24T00:00:00",
          "2021-11-25T00:00:00",
          "2021-11-26T00:00:00",
          "2021-11-29T00:00:00",
          "2021-11-30T00:00:00",
          "2021-12-01T00:00:00",
          "2021-12-02T00:00:00",
          "2021-12-03T00:00:00",
          "2021-12-06T00:00:00",
          "2021-12-07T00:00:00",
          "2021-12-08T00:00:00",
          "2021-12-09T00:00:00",
          "2021-12-10T00:00:00",
          "2021-12-13T00:00:00",
          "2021-12-14T00:00:00",
          "2021-12-15T00:00:00",
          "2021-12-16T00:00:00",
          "2021-12-17T00:00:00",
          "2021-12-20T00:00:00",
          "2021-12-21T00:00:00",
          "2021-12-22T00:00:00",
          "2021-12-23T00:00:00",
          "2021-12-24T00:00:00",
          "2021-12-27T00:00:00",
          "2021-12-28T00:00:00",
          "2021-12-29T00:00:00",
          "2021-12-30T00:00:00",
          "2021-12-31T00:00:00",
          "2022-01-04T00:00:00",
          "2022-01-05T00:00:00",
          "2022-01-06T00:00:00",
          "2022-01-07T00:00:00",
          "2022-01-10T00:00:00",
          "2022-01-11T00:00:00",
          "2022-01-12T00:00:00",
          "2022-01-13T00:00:00",
          "2022-01-14T00:00:00",
          "2022-01-17T00:00:00",
          "2022-01-18T00:00:00",
          "2022-01-19T00:00:00",
          "2022-01-20T00:00:00"
         ],
         "y": [
          null,
          -0.030769230769230327,
          -0.028571428571428026,
          -0.07252747252747171,
          -0.08131868131868014,
          -0.1296703296703282,
          -0.1296703296703271,
          -0.10337259862439419,
          -0.08458850502015647,
          -0.0409458342636434,
          -0.033945438893305147,
          -0.005943857411951581,
          -0.010610787658843601,
          -0.017611183029181743,
          -0.026945043522966117,
          -0.05728009012776547,
          -0.06661395062154973,
          -0.06894741574499541,
          -0.059613555251208816,
          -0.08984485682658006,
          -0.10142280211076427,
          -0.05446780179157018,
          -0.05060848669684159,
          -0.06990506217048253,
          -0.05961355525120715,
          -0.04739239078456725,
          -0.04674917160211234,
          -0.046749171602111894,
          -0.056397459338932365,
          -0.05060848669683826,
          -0.024526302265432398,
          -0.03495917603799448,
          -0.008876991606588724,
          -0.008876991606588724,
          -0.001052336277166721,
          0.03546272192680178,
          0.006772319052255726,
          0.10706565302838733,
          0.09857154315860561,
          0.11272839294157744,
          0.11272839294157744,
          0.095740173202012,
          0.07308921354925735,
          0.07592058350585229,
          0.06459510367947496,
          0.06289193442355567,
          0.08121358499602804,
          0.09449101402733384,
          0.09168462681187983,
          0.09168462681188005,
          0.09729740124279052,
          0.06923352908824376,
          0.06571631353203311,
          0.10370224153911556,
          0.1086263433178245,
          0.06299281344759922,
          -0.0067996440009799874,
          -0.014852619860431071,
          0.0066219824314395215,
          0.020043608863858475,
          0.0227279341503428,
          0.05493983758814913,
          0.03078091000979466,
          0.02004360886385914,
          -0.0014309934280114511,
          -0.012168294573946747,
          0.009306307717923845,
          0.009306307717924067,
          0.04151821115573018,
          0.03346523529627898,
          0.04151821115573062,
          0.025412259436827567,
          0.02272793415034524,
          -0.009483969287461091,
          -0.022905595719879157,
          -0.030958571579329797,
          -0.1275942818927468,
          -0.12759428189274646,
          -0.17054348647648765,
          -0.2108083657737455,
          -0.25107324507100337,
          -0.26449487150342255,
          -0.25912622093045423,
          -0.2537575703574865,
          -0.24570459449803428,
          -0.2483889197845176,
          -0.2375110199330177,
          -0.2349210437778989,
          -0.2468349340914444,
          -0.2287051010056128,
          -0.24683493409144452,
          -0.24890691501553863,
          -0.2447629531673472,
          -0.22818710577458612,
          -0.2209351725402533,
          -0.24838891978451283,
          -0.26703674810136835,
          -0.26133880056010694,
          -0.24631693886041783,
          -0.2318130723917522,
          -0.21420123453694406,
          -0.21989918207820547,
          -0.23025908669868078,
          -0.22766911054356176,
          -0.2468349340914412,
          -0.2665187528703441,
          -0.26082080532908236,
          -0.2768786574908191,
          -0.2867205668802707,
          -0.27273469564262887,
          -0.26289278625317714,
          -0.26807273856341485,
          -0.2525328816327015,
          -0.25201488640167624,
          -0.25823082917396056,
          -0.2468349340914373,
          -0.2675547433323845,
          -0.2742886813356926,
          -0.27687865749079765,
          -0.28654405030462105,
          -0.30760358517677056,
          -0.31305552545096715,
          -0.3045150272194833,
          -0.32362452032552524,
          -0.3452484204192069,
          -0.3353058504363332,
          -0.32573828313200404,
          -0.34084496834935885,
          -0.3332916257406766,
          -0.34235563687108994,
          -0.3504125356536796,
          -0.35746232208844486,
          -0.3635049961753867,
          -0.3660227770449457,
          -0.36803700174059284,
          -0.38666858017533245,
          -0.3937183666100986,
          -0.4053001586100713,
          -0.3881792486970673,
          -0.398250372175305,
          -0.339334299827615,
          -0.348398310958029,
          -0.3363129627841428,
          -0.33379518191458335,
          -0.32976673252328803,
          -0.3045889238276941,
          -0.3101280417407243,
          -0.32170983374069706,
          -0.31163871026245926,
          -0.31365293495810653,
          -0.3126458226102826,
          -0.31163871026245826,
          -0.31264582261028184,
          -0.3040853676537796,
          -0.288978682436423,
          -0.2819288960016564,
          -0.28998579478424613,
          -0.2854537892190354,
          -0.30861737321897986,
          -0.27453513105371763,
          -0.23882992497582467,
          -0.20150175498529943,
          -0.21773139411161435,
          -0.2209773219368767,
          -0.1950098993347713,
          -0.2128625023737174,
          -0.2106199454004205,
          -0.1718488228758831,
          -0.12997601054938246,
          -0.0865523533219007,
          -0.07569643901503009,
          -0.11912009624251141,
          -0.1625437534699925,
          -0.20441656579649226,
          -0.20263872572005925,
          -0.21908374642705875,
          -0.23508430711494965,
          -0.2306397069238687,
          -0.2528627078792738,
          -0.23286200701940796,
          -0.2515293278219477,
          -0.24930702772640512,
          -0.22086158650348586,
          -0.21463914623597202,
          -0.21197238612132296,
          -0.208861165987566,
          -0.18441586493661977,
          -0.18775568530951547,
          -0.21180239199442974,
          -0.22088300959816942,
          -0.20453789791140586,
          -0.22451525663965555,
          -0.24267649184715456,
          -0.28081508578289105,
          -0.24449261536788536,
          -0.20635402143212933,
          -0.1663993039756213,
          -0.14911492696264017,
          -0.1330426533608211,
          -0.1183885215474001,
          -0.12500651655991257,
          -0.12863719491443004,
          -0.10866846396455143,
          -0.09414575054645813,
          -0.04876227111491738,
          -0.07599235877384025,
          -0.06873100206479243,
          -0.0759923587738387,
          -0.0705463412420535,
          -0.046946931937652536,
          -0.017901505101466597,
          -0.023347522633251128,
          0.020220617621028003,
          0.04926604445721394,
          -0.0033787916833725173,
          -0.05239294946943618,
          -0.032424218519558234,
          0.016589939266505427,
          -0.0051941308606338055,
          -0.054208288646697356,
          -0.1014071072554994,
          -0.11048380314180717,
          -0.14315990833251635,
          -0.13408321244620836,
          -0.09051507219192934,
          -0.10322244643276046,
          -0.09414575054645224,
          -0.09596108972371376,
          -0.12319117738263763,
          -0.1358985516234692,
          -0.13226787326894562,
          -0.1377138908007306,
          -0.1413445691552534,
          -0.17220533516870085,
          -0.13045253409168367,
          -0.13952922997799166,
          -0.14679058668703782,
          -0.13045253409168311,
          -0.12137583820537445,
          -0.1268218557371591,
          -0.1286371949144205,
          -0.1159298206735887,
          -0.12137583820537357,
          -0.12500651655989647,
          -0.12500651655989647,
          -0.1268218557371581,
          -0.12319117738263452,
          -0.13589855162346576,
          -0.13045253409168056,
          -0.13226787326894185,
          -0.13408321244620347,
          -0.1377138908007266,
          -0.1794666918777441,
          -0.1558672825733427,
          -0.12137583820537179,
          -0.12319117738263297
         ]
        },
        {
         "line": {
          "width": 2
         },
         "mode": "lines",
         "name": "RF",
         "type": "scatter",
         "x": [
          "2021-01-04T00:00:00",
          "2021-01-05T00:00:00",
          "2021-01-06T00:00:00",
          "2021-01-07T00:00:00",
          "2021-01-08T00:00:00",
          "2021-01-11T00:00:00",
          "2021-01-12T00:00:00",
          "2021-01-13T00:00:00",
          "2021-01-14T00:00:00",
          "2021-01-15T00:00:00",
          "2021-01-18T00:00:00",
          "2021-01-19T00:00:00",
          "2021-01-20T00:00:00",
          "2021-01-21T00:00:00",
          "2021-01-22T00:00:00",
          "2021-01-25T00:00:00",
          "2021-01-26T00:00:00",
          "2021-01-27T00:00:00",
          "2021-01-28T00:00:00",
          "2021-01-29T00:00:00",
          "2021-02-01T00:00:00",
          "2021-02-02T00:00:00",
          "2021-02-03T00:00:00",
          "2021-02-04T00:00:00",
          "2021-02-05T00:00:00",
          "2021-02-08T00:00:00",
          "2021-02-09T00:00:00",
          "2021-02-10T00:00:00",
          "2021-02-18T00:00:00",
          "2021-02-19T00:00:00",
          "2021-02-22T00:00:00",
          "2021-02-23T00:00:00",
          "2021-02-24T00:00:00",
          "2021-02-25T00:00:00",
          "2021-02-26T00:00:00",
          "2021-03-01T00:00:00",
          "2021-03-02T00:00:00",
          "2021-03-03T00:00:00",
          "2021-03-04T00:00:00",
          "2021-03-05T00:00:00",
          "2021-03-08T00:00:00",
          "2021-03-09T00:00:00",
          "2021-03-10T00:00:00",
          "2021-03-11T00:00:00",
          "2021-03-12T00:00:00",
          "2021-03-15T00:00:00",
          "2021-03-16T00:00:00",
          "2021-03-17T00:00:00",
          "2021-03-18T00:00:00",
          "2021-03-19T00:00:00",
          "2021-03-22T00:00:00",
          "2021-03-23T00:00:00",
          "2021-03-24T00:00:00",
          "2021-03-25T00:00:00",
          "2021-03-26T00:00:00",
          "2021-03-29T00:00:00",
          "2021-03-30T00:00:00",
          "2021-03-31T00:00:00",
          "2021-04-01T00:00:00",
          "2021-04-02T00:00:00",
          "2021-04-06T00:00:00",
          "2021-04-07T00:00:00",
          "2021-04-08T00:00:00",
          "2021-04-09T00:00:00",
          "2021-04-12T00:00:00",
          "2021-04-13T00:00:00",
          "2021-04-14T00:00:00",
          "2021-04-15T00:00:00",
          "2021-04-16T00:00:00",
          "2021-04-19T00:00:00",
          "2021-04-20T00:00:00",
          "2021-04-21T00:00:00",
          "2021-04-22T00:00:00",
          "2021-04-23T00:00:00",
          "2021-04-26T00:00:00",
          "2021-04-27T00:00:00",
          "2021-04-28T00:00:00",
          "2021-04-29T00:00:00",
          "2021-04-30T00:00:00",
          "2021-05-06T00:00:00",
          "2021-05-07T00:00:00",
          "2021-05-10T00:00:00",
          "2021-05-11T00:00:00",
          "2021-05-12T00:00:00",
          "2021-05-13T00:00:00",
          "2021-05-14T00:00:00",
          "2021-05-17T00:00:00",
          "2021-05-18T00:00:00",
          "2021-05-19T00:00:00",
          "2021-05-20T00:00:00",
          "2021-05-21T00:00:00",
          "2021-05-24T00:00:00",
          "2021-05-25T00:00:00",
          "2021-05-26T00:00:00",
          "2021-05-27T00:00:00",
          "2021-05-28T00:00:00",
          "2021-05-31T00:00:00",
          "2021-06-01T00:00:00",
          "2021-06-02T00:00:00",
          "2021-06-03T00:00:00",
          "2021-06-04T00:00:00",
          "2021-06-07T00:00:00",
          "2021-06-08T00:00:00",
          "2021-06-09T00:00:00",
          "2021-06-10T00:00:00",
          "2021-06-11T00:00:00",
          "2021-06-15T00:00:00",
          "2021-06-16T00:00:00",
          "2021-06-17T00:00:00",
          "2021-06-18T00:00:00",
          "2021-06-21T00:00:00",
          "2021-06-22T00:00:00",
          "2021-06-23T00:00:00",
          "2021-06-24T00:00:00",
          "2021-06-25T00:00:00",
          "2021-06-28T00:00:00",
          "2021-06-29T00:00:00",
          "2021-06-30T00:00:00",
          "2021-07-01T00:00:00",
          "2021-07-02T00:00:00",
          "2021-07-05T00:00:00",
          "2021-07-06T00:00:00",
          "2021-07-07T00:00:00",
          "2021-07-08T00:00:00",
          "2021-07-09T00:00:00",
          "2021-07-12T00:00:00",
          "2021-07-13T00:00:00",
          "2021-07-14T00:00:00",
          "2021-07-15T00:00:00",
          "2021-07-16T00:00:00",
          "2021-07-19T00:00:00",
          "2021-07-20T00:00:00",
          "2021-07-21T00:00:00",
          "2021-07-22T00:00:00",
          "2021-07-23T00:00:00",
          "2021-07-26T00:00:00",
          "2021-07-27T00:00:00",
          "2021-07-28T00:00:00",
          "2021-07-29T00:00:00",
          "2021-07-30T00:00:00",
          "2021-08-02T00:00:00",
          "2021-08-03T00:00:00",
          "2021-08-04T00:00:00",
          "2021-08-05T00:00:00",
          "2021-08-06T00:00:00",
          "2021-08-09T00:00:00",
          "2021-08-10T00:00:00",
          "2021-08-11T00:00:00",
          "2021-08-12T00:00:00",
          "2021-08-13T00:00:00",
          "2021-08-16T00:00:00",
          "2021-08-17T00:00:00",
          "2021-08-18T00:00:00",
          "2021-08-19T00:00:00",
          "2021-08-20T00:00:00",
          "2021-08-23T00:00:00",
          "2021-08-24T00:00:00",
          "2021-08-25T00:00:00",
          "2021-08-26T00:00:00",
          "2021-08-27T00:00:00",
          "2021-08-30T00:00:00",
          "2021-08-31T00:00:00",
          "2021-09-01T00:00:00",
          "2021-09-02T00:00:00",
          "2021-09-03T00:00:00",
          "2021-09-06T00:00:00",
          "2021-09-07T00:00:00",
          "2021-09-08T00:00:00",
          "2021-09-09T00:00:00",
          "2021-09-10T00:00:00",
          "2021-09-13T00:00:00",
          "2021-09-14T00:00:00",
          "2021-09-15T00:00:00",
          "2021-09-16T00:00:00",
          "2021-09-17T00:00:00",
          "2021-09-22T00:00:00",
          "2021-09-23T00:00:00",
          "2021-09-24T00:00:00",
          "2021-09-27T00:00:00",
          "2021-09-28T00:00:00",
          "2021-09-29T00:00:00",
          "2021-09-30T00:00:00",
          "2021-10-08T00:00:00",
          "2021-10-11T00:00:00",
          "2021-10-12T00:00:00",
          "2021-10-13T00:00:00",
          "2021-10-14T00:00:00",
          "2021-10-15T00:00:00",
          "2021-10-18T00:00:00",
          "2021-10-19T00:00:00",
          "2021-10-20T00:00:00",
          "2021-10-21T00:00:00",
          "2021-10-22T00:00:00",
          "2021-10-25T00:00:00",
          "2021-10-26T00:00:00",
          "2021-10-27T00:00:00",
          "2021-10-28T00:00:00",
          "2021-10-29T00:00:00",
          "2021-11-01T00:00:00",
          "2021-11-02T00:00:00",
          "2021-11-03T00:00:00",
          "2021-11-04T00:00:00",
          "2021-11-05T00:00:00",
          "2021-11-08T00:00:00",
          "2021-11-09T00:00:00",
          "2021-11-10T00:00:00",
          "2021-11-11T00:00:00",
          "2021-11-12T00:00:00",
          "2021-11-15T00:00:00",
          "2021-11-16T00:00:00",
          "2021-11-17T00:00:00",
          "2021-11-18T00:00:00",
          "2021-11-19T00:00:00",
          "2021-11-22T00:00:00",
          "2021-11-23T00:00:00",
          "2021-11-24T00:00:00",
          "2021-11-25T00:00:00",
          "2021-11-26T00:00:00",
          "2021-11-29T00:00:00",
          "2021-11-30T00:00:00",
          "2021-12-01T00:00:00",
          "2021-12-02T00:00:00",
          "2021-12-03T00:00:00",
          "2021-12-06T00:00:00",
          "2021-12-07T00:00:00",
          "2021-12-08T00:00:00",
          "2021-12-09T00:00:00",
          "2021-12-10T00:00:00",
          "2021-12-13T00:00:00",
          "2021-12-14T00:00:00",
          "2021-12-15T00:00:00",
          "2021-12-16T00:00:00",
          "2021-12-17T00:00:00",
          "2021-12-20T00:00:00",
          "2021-12-21T00:00:00",
          "2021-12-22T00:00:00",
          "2021-12-23T00:00:00",
          "2021-12-24T00:00:00",
          "2021-12-27T00:00:00",
          "2021-12-28T00:00:00",
          "2021-12-29T00:00:00",
          "2021-12-30T00:00:00",
          "2021-12-31T00:00:00",
          "2022-01-04T00:00:00",
          "2022-01-05T00:00:00",
          "2022-01-06T00:00:00",
          "2022-01-07T00:00:00",
          "2022-01-10T00:00:00",
          "2022-01-11T00:00:00",
          "2022-01-12T00:00:00",
          "2022-01-13T00:00:00",
          "2022-01-14T00:00:00",
          "2022-01-17T00:00:00",
          "2022-01-18T00:00:00",
          "2022-01-19T00:00:00",
          "2022-01-20T00:00:00"
         ],
         "y": [
          null,
          -0.030769230769230327,
          -0.012374945754936029,
          -0.023139251523274118,
          0.009153665781741926,
          0.019379756261665104,
          0.1218827087915395,
          0.15578132301401793,
          0.16164823328312483,
          0.22759679919454712,
          0.3062583416672078,
          0.3441209022952427,
          0.33781047552390375,
          0.33097716435494107,
          0.314273514830808,
          0.3575511522342496,
          0.4934581188169851,
          0.6430317077376488,
          0.6595032035545683,
          0.5812635984242072,
          0.6314624428186262,
          0.7167142383274021,
          0.7237212352185345,
          0.735082862945964,
          0.7542815668236507,
          0.777080027678404,
          0.7991555559725454,
          0.7936366738990104,
          0.8819387870755773,
          1.0088730747668921,
          1.0640618955022463,
          1.0419863672081053,
          1.0971751879434595,
          1.1891433306210657,
          1.198189377441814,
          1.3070705243706877,
          1.5381161004317834,
          1.7909598873670758,
          1.7695458728859985,
          1.8630484344284022,
          1.8630484344284062,
          1.8193377713073633,
          1.7787021548369073,
          1.8793236813351792,
          1.924086829558981,
          1.9551941362564174,
          2.056292883023085,
          2.1509475146377026,
          2.255254742708469,
          2.2552547427084733,
          2.3859244302190463,
          2.5034752443382913,
          2.475888825091534,
          2.5997818921244997,
          2.9645597905264487,
          3.0450584664762257,
          3.116344332893635,
          3.0829685680323387,
          3.1719706076624723,
          3.523188818770559,
          3.5350919472410096,
          3.677929488886398,
          3.7457255684354767,
          3.770062622632583,
          3.709227041358429,
          3.658590191451352,
          3.759863891265513,
          3.759863891265514,
          3.9880331323912683,
          4.055478612723426,
          4.09487195256283,
          4.230299346352311,
          4.7533292809875425,
          4.8050678536582945,
          4.716677931606717,
          4.886291025273277,
          4.831345938592565,
          5.116400212437996,
          5.00424447293488,
          5.038930767214155,
          4.972009991868328,
          4.985394146937514,
          5.029083155309323,
          5.04023233473252,
          5.105414698056972,
          5.279855118001458,
          5.370742063196516,
          5.392381812052484,
          5.292838967315069,
          5.444317209306836,
          5.498471135435468,
          5.68800987688567,
          5.724909241723664,
          5.872506701075624,
          6.035115118556438,
          6.119875541671575,
          6.091622067299861,
          6.232889439158429,
          6.379981861132909,
          6.668262402583415,
          6.844068823141633,
          7.023020963593535,
          7.231798460787418,
          7.41075060123932,
          7.112497033819491,
          7.02302096359354,
          6.963370250109585,
          7.112497033819507,
          7.112497033819507,
          7.271565603110087,
          7.577919884706757,
          7.731097025505093,
          7.976180450782429,
          8.435711873177436,
          8.680795298454774,
          8.829522600526005,
          8.55910932403286,
          8.471225009172588,
          8.437423349610945,
          8.567147381908004,
          9.021181494947704,
          9.086043511096232,
          9.394186420153572,
          9.261776402062445,
          9.361083915630791,
          9.534763687920075,
          10.115505426512271,
          10.047312141687048,
          10.173904717794994,
          10.30119536093976,
          10.746393966067691,
          10.618913721474746,
          10.765988578708674,
          10.358704358676452,
          10.32261633847415,
          9.988802151602808,
          9.862494080894727,
          10.391798069676822,
          10.719758386670064,
          10.78760961943501,
          11.941710310208146,
          12.590959991322267,
          13.283492984510662,
          14.019309289773332,
          14.755125595036002,
          15.534225212372949,
          15.402526097719722,
          16.2048235698908,
          16.383111897039935,
          16.65054438776363,
          17.40826977814742,
          17.435241601998186,
          18.37581515312054,
          18.617125671511054,
          19.04296776278843,
          19.806024911117937,
          19.653413481452038,
          19.65341348145204,
          20.670823012558053,
          21.739103020219364,
          22.85825350443598,
          24.028274465207886,
          23.519569699654888,
          24.178697917387545,
          25.01798784796713,
          26.362737781682302,
          27.716770166755236,
          29.127220567872875,
          30.650507001079937,
          32.2302114503317,
          32.107848756932285,
          31.297433452586937,
          30.987568777396064,
          30.06768752660822,
          30.337627939556636,
          31.827868398638813,
          32.551699478763844,
          32.74665415324823,
          32.412528864602216,
          33.30697490797348,
          32.472158600827,
          34.15780687568879,
          35.30757660133958,
          37.15508603016882,
          39.082921955903664,
          39.241173762836176,
          40.48458081730583,
          40.31470128897944,
          39.3216704586686,
          39.28749955150023,
          38.945790479816644,
          39.90257588053084,
          41.50860851744392,
          40.68850674540321,
          42.79398688405994,
          45.0047410296495,
          48.48283590516297,
          49.5628243213778,
          52.13927396832699,
          53.03748416081234,
          54.41716460747137,
          54.187217866361536,
          55.45192494246566,
          56.371711906905034,
          59.24604617077803,
          57.52144561245424,
          60.26563553757531,
          59.787930777048395,
          60.14620934744358,
          61.69874981915601,
          63.609568861263625,
          63.251290290868454,
          66.1175188540299,
          68.4768440183636,
          68.8828022054492,
          68.94079623217573,
          70.41464442863919,
          74.03227181995864,
          72.03714884664392,
          71.52858808874016,
          72.80888090584061,
          75.56151046260658,
          79.43591033200143,
          87.5068605183757,
          94.2098530460425,
          94.89383187539632,
          96.3985852999746,
          95.92508707294509,
          101.03886792486404,
          99.56004375203993,
          101.0111266344648,
          100.37088943801422,
          101.23936921425616,
          102.20434674341386,
          107.40982914494579,
          109.04373764750719,
          114.19054943057546,
          116.39632590903327,
          121.92395560430168,
          121.16203025964691,
          120.90805514476209,
          122.26636216587364,
          128.32864227239207,
          130.37741284304383,
          140.27980393452742,
          147.22290970050685,
          149.09153189136384,
          146.91629229873544,
          146.9775412810538,
          146.66861113224158,
          143.30684679786512,
          142.7017866435764,
          135.7435948692559,
          139.67648587213273,
          145.42455733787628,
          145.1220272607319
         ]
        },
        {
         "line": {
          "width": 2
         },
         "mode": "lines",
         "name": "DT",
         "type": "scatter",
         "x": [
          "2021-01-04T00:00:00",
          "2021-01-05T00:00:00",
          "2021-01-06T00:00:00",
          "2021-01-07T00:00:00",
          "2021-01-08T00:00:00",
          "2021-01-11T00:00:00",
          "2021-01-12T00:00:00",
          "2021-01-13T00:00:00",
          "2021-01-14T00:00:00",
          "2021-01-15T00:00:00",
          "2021-01-18T00:00:00",
          "2021-01-19T00:00:00",
          "2021-01-20T00:00:00",
          "2021-01-21T00:00:00",
          "2021-01-22T00:00:00",
          "2021-01-25T00:00:00",
          "2021-01-26T00:00:00",
          "2021-01-27T00:00:00",
          "2021-01-28T00:00:00",
          "2021-01-29T00:00:00",
          "2021-02-01T00:00:00",
          "2021-02-02T00:00:00",
          "2021-02-03T00:00:00",
          "2021-02-04T00:00:00",
          "2021-02-05T00:00:00",
          "2021-02-08T00:00:00",
          "2021-02-09T00:00:00",
          "2021-02-10T00:00:00",
          "2021-02-18T00:00:00",
          "2021-02-19T00:00:00",
          "2021-02-22T00:00:00",
          "2021-02-23T00:00:00",
          "2021-02-24T00:00:00",
          "2021-02-25T00:00:00",
          "2021-02-26T00:00:00",
          "2021-03-01T00:00:00",
          "2021-03-02T00:00:00",
          "2021-03-03T00:00:00",
          "2021-03-04T00:00:00",
          "2021-03-05T00:00:00",
          "2021-03-08T00:00:00",
          "2021-03-09T00:00:00",
          "2021-03-10T00:00:00",
          "2021-03-11T00:00:00",
          "2021-03-12T00:00:00",
          "2021-03-15T00:00:00",
          "2021-03-16T00:00:00",
          "2021-03-17T00:00:00",
          "2021-03-18T00:00:00",
          "2021-03-19T00:00:00",
          "2021-03-22T00:00:00",
          "2021-03-23T00:00:00",
          "2021-03-24T00:00:00",
          "2021-03-25T00:00:00",
          "2021-03-26T00:00:00",
          "2021-03-29T00:00:00",
          "2021-03-30T00:00:00",
          "2021-03-31T00:00:00",
          "2021-04-01T00:00:00",
          "2021-04-02T00:00:00",
          "2021-04-06T00:00:00",
          "2021-04-07T00:00:00",
          "2021-04-08T00:00:00",
          "2021-04-09T00:00:00",
          "2021-04-12T00:00:00",
          "2021-04-13T00:00:00",
          "2021-04-14T00:00:00",
          "2021-04-15T00:00:00",
          "2021-04-16T00:00:00",
          "2021-04-19T00:00:00",
          "2021-04-20T00:00:00",
          "2021-04-21T00:00:00",
          "2021-04-22T00:00:00",
          "2021-04-23T00:00:00",
          "2021-04-26T00:00:00",
          "2021-04-27T00:00:00",
          "2021-04-28T00:00:00",
          "2021-04-29T00:00:00",
          "2021-04-30T00:00:00",
          "2021-05-06T00:00:00",
          "2021-05-07T00:00:00",
          "2021-05-10T00:00:00",
          "2021-05-11T00:00:00",
          "2021-05-12T00:00:00",
          "2021-05-13T00:00:00",
          "2021-05-14T00:00:00",
          "2021-05-17T00:00:00",
          "2021-05-18T00:00:00",
          "2021-05-19T00:00:00",
          "2021-05-20T00:00:00",
          "2021-05-21T00:00:00",
          "2021-05-24T00:00:00",
          "2021-05-25T00:00:00",
          "2021-05-26T00:00:00",
          "2021-05-27T00:00:00",
          "2021-05-28T00:00:00",
          "2021-05-31T00:00:00",
          "2021-06-01T00:00:00",
          "2021-06-02T00:00:00",
          "2021-06-03T00:00:00",
          "2021-06-04T00:00:00",
          "2021-06-07T00:00:00",
          "2021-06-08T00:00:00",
          "2021-06-09T00:00:00",
          "2021-06-10T00:00:00",
          "2021-06-11T00:00:00",
          "2021-06-15T00:00:00",
          "2021-06-16T00:00:00",
          "2021-06-17T00:00:00",
          "2021-06-18T00:00:00",
          "2021-06-21T00:00:00",
          "2021-06-22T00:00:00",
          "2021-06-23T00:00:00",
          "2021-06-24T00:00:00",
          "2021-06-25T00:00:00",
          "2021-06-28T00:00:00",
          "2021-06-29T00:00:00",
          "2021-06-30T00:00:00",
          "2021-07-01T00:00:00",
          "2021-07-02T00:00:00",
          "2021-07-05T00:00:00",
          "2021-07-06T00:00:00",
          "2021-07-07T00:00:00",
          "2021-07-08T00:00:00",
          "2021-07-09T00:00:00",
          "2021-07-12T00:00:00",
          "2021-07-13T00:00:00",
          "2021-07-14T00:00:00",
          "2021-07-15T00:00:00",
          "2021-07-16T00:00:00",
          "2021-07-19T00:00:00",
          "2021-07-20T00:00:00",
          "2021-07-21T00:00:00",
          "2021-07-22T00:00:00",
          "2021-07-23T00:00:00",
          "2021-07-26T00:00:00",
          "2021-07-27T00:00:00",
          "2021-07-28T00:00:00",
          "2021-07-29T00:00:00",
          "2021-07-30T00:00:00",
          "2021-08-02T00:00:00",
          "2021-08-03T00:00:00",
          "2021-08-04T00:00:00",
          "2021-08-05T00:00:00",
          "2021-08-06T00:00:00",
          "2021-08-09T00:00:00",
          "2021-08-10T00:00:00",
          "2021-08-11T00:00:00",
          "2021-08-12T00:00:00",
          "2021-08-13T00:00:00",
          "2021-08-16T00:00:00",
          "2021-08-17T00:00:00",
          "2021-08-18T00:00:00",
          "2021-08-19T00:00:00",
          "2021-08-20T00:00:00",
          "2021-08-23T00:00:00",
          "2021-08-24T00:00:00",
          "2021-08-25T00:00:00",
          "2021-08-26T00:00:00",
          "2021-08-27T00:00:00",
          "2021-08-30T00:00:00",
          "2021-08-31T00:00:00",
          "2021-09-01T00:00:00",
          "2021-09-02T00:00:00",
          "2021-09-03T00:00:00",
          "2021-09-06T00:00:00",
          "2021-09-07T00:00:00",
          "2021-09-08T00:00:00",
          "2021-09-09T00:00:00",
          "2021-09-10T00:00:00",
          "2021-09-13T00:00:00",
          "2021-09-14T00:00:00",
          "2021-09-15T00:00:00",
          "2021-09-16T00:00:00",
          "2021-09-17T00:00:00",
          "2021-09-22T00:00:00",
          "2021-09-23T00:00:00",
          "2021-09-24T00:00:00",
          "2021-09-27T00:00:00",
          "2021-09-28T00:00:00",
          "2021-09-29T00:00:00",
          "2021-09-30T00:00:00",
          "2021-10-08T00:00:00",
          "2021-10-11T00:00:00",
          "2021-10-12T00:00:00",
          "2021-10-13T00:00:00",
          "2021-10-14T00:00:00",
          "2021-10-15T00:00:00",
          "2021-10-18T00:00:00",
          "2021-10-19T00:00:00",
          "2021-10-20T00:00:00",
          "2021-10-21T00:00:00",
          "2021-10-22T00:00:00",
          "2021-10-25T00:00:00",
          "2021-10-26T00:00:00",
          "2021-10-27T00:00:00",
          "2021-10-28T00:00:00",
          "2021-10-29T00:00:00",
          "2021-11-01T00:00:00",
          "2021-11-02T00:00:00",
          "2021-11-03T00:00:00",
          "2021-11-04T00:00:00",
          "2021-11-05T00:00:00",
          "2021-11-08T00:00:00",
          "2021-11-09T00:00:00",
          "2021-11-10T00:00:00",
          "2021-11-11T00:00:00",
          "2021-11-12T00:00:00",
          "2021-11-15T00:00:00",
          "2021-11-16T00:00:00",
          "2021-11-17T00:00:00",
          "2021-11-18T00:00:00",
          "2021-11-19T00:00:00",
          "2021-11-22T00:00:00",
          "2021-11-23T00:00:00",
          "2021-11-24T00:00:00",
          "2021-11-25T00:00:00",
          "2021-11-26T00:00:00",
          "2021-11-29T00:00:00",
          "2021-11-30T00:00:00",
          "2021-12-01T00:00:00",
          "2021-12-02T00:00:00",
          "2021-12-03T00:00:00",
          "2021-12-06T00:00:00",
          "2021-12-07T00:00:00",
          "2021-12-08T00:00:00",
          "2021-12-09T00:00:00",
          "2021-12-10T00:00:00",
          "2021-12-13T00:00:00",
          "2021-12-14T00:00:00",
          "2021-12-15T00:00:00",
          "2021-12-16T00:00:00",
          "2021-12-17T00:00:00",
          "2021-12-20T00:00:00",
          "2021-12-21T00:00:00",
          "2021-12-22T00:00:00",
          "2021-12-23T00:00:00",
          "2021-12-24T00:00:00",
          "2021-12-27T00:00:00",
          "2021-12-28T00:00:00",
          "2021-12-29T00:00:00",
          "2021-12-30T00:00:00",
          "2021-12-31T00:00:00",
          "2022-01-04T00:00:00",
          "2022-01-05T00:00:00",
          "2022-01-06T00:00:00",
          "2022-01-07T00:00:00",
          "2022-01-10T00:00:00",
          "2022-01-11T00:00:00",
          "2022-01-12T00:00:00",
          "2022-01-13T00:00:00",
          "2022-01-14T00:00:00",
          "2022-01-17T00:00:00",
          "2022-01-18T00:00:00",
          "2022-01-19T00:00:00",
          "2022-01-20T00:00:00"
         ],
         "y": [
          null,
          -0.03076923076923077,
          -0.014461763547352291,
          -0.02520332470759945,
          -0.009294180155349774,
          0.0007449721524097619,
          0.10137411820415654,
          0.1346530483944981,
          0.15842371281617051,
          0.2241892177161311,
          0.30263241030765053,
          0.32710174840182793,
          0.32087122376144395,
          0.3141244354448418,
          0.29763228622648086,
          0.3403619455649616,
          0.47454806875071576,
          0.6222277685696738,
          0.6384907035929286,
          0.6384907035929286,
          0.6905062814847673,
          0.7788434028508289,
          0.7861039881685874,
          0.7978768016499249,
          0.7533082934705777,
          0.8054450388879304,
          0.8278729275697716,
          0.8222659553993121,
          0.9119775101266627,
          1.0409378700472294,
          1.097007591751824,
          1.0745797030699866,
          1.1306494247745809,
          1.183056846556533,
          1.2002915058714532,
          1.298688281840477,
          1.5287807091477452,
          1.7806945166843895,
          1.7593592646382175,
          1.7949180180485063,
          1.7949180180485067,
          1.752247513956163,
          1.7346595460012302,
          1.833686214797932,
          1.877739864227804,
          1.9083541181025687,
          1.91236287636322,
          2.0025599372278764,
          2.101955024805078,
          2.101955024805077,
          2.226471084468624,
          2.3384860778708703,
          2.327504215772611,
          2.4461083264338117,
          2.7953139701791043,
          2.872376182771573,
          2.920540065641866,
          2.9301728422159274,
          3.0158441848255393,
          3.3539188606376715,
          3.3653765418498764,
          3.502868716396331,
          3.569564530049922,
          3.59299819430659,
          3.5154868433037727,
          3.4669332213327655,
          3.5640404652747817,
          3.5640404652747817,
          3.679585793509588,
          3.7428606161143625,
          3.668581476534847,
          3.7926775927763776,
          4.271945352054016,
          4.319354932558098,
          4.224535771549934,
          4.379547071081922,
          4.317862463749059,
          4.610052709009997,
          4.507181806456724,
          4.385203204106667,
          4.426469129042354,
          4.367410246075823,
          4.406588423054479,
          4.445766600033136,
          4.504533865501119,
          4.6618062616582945,
          4.7437483233363285,
          4.7632583380215765,
          4.6735122704694465,
          4.753095474263361,
          4.617864888904586,
          4.602409964863585,
          4.633319812945591,
          4.756959205273615,
          4.811051439417128,
          4.881064107361917,
          4.852986110321562,
          4.969579459132753,
          4.951466300825893,
          5.183945453201904,
          5.367814404149753,
          5.5130877365638185,
          5.682573291046892,
          5.705058396333051,
          5.4672903680942895,
          5.246375240234562,
          5.294899341677065,
          5.412781351820832,
          5.325501376402068,
          5.449530815155052,
          5.688402326827459,
          5.641400202253832,
          5.82782547108903,
          6.17737285015502,
          6.117727092397502,
          6.227077648286291,
          6.0282584557612235,
          5.890449466432575,
          5.865858283468863,
          5.831430627319663,
          6.155634114717885,
          6.201948898631916,
          6.4219786339850575,
          6.327431135462957,
          6.398341759354535,
          6.522357964854453,
          6.921765388029445,
          6.873165600372823,
          6.963385221461894,
          7.212241009632576,
          7.512614001551462,
          7.420229043395091,
          7.341041936403915,
          7.308047308490924,
          7.281651606160533,
          7.037491359604408,
          6.842179894975881,
          7.224311021423002,
          7.427982029885696,
          7.331859488579408,
          8.1476147690512,
          8.480389237567419,
          8.959138089253205,
          9.472184596881403,
          9.985231104509602,
          10.528456818468866,
          10.436629863361583,
          10.996030237112963,
          11.120341431279934,
          11.084875911363973,
          11.603671089377071,
          11.622138006724146,
          12.266124639720275,
          12.431343774427416,
          12.72290695332237,
          13.049697838434271,
          12.892057469980587,
          12.980730177235781,
          13.669436097296655,
          14.392577313360578,
          15.150153825427545,
          15.942165633497552,
          16.300940905736322,
          16.76601996234214,
          16.73944401625038,
          17.65631415641613,
          18.57951320745528,
          19.541178885621065,
          20.579777818040114,
          20.53386339715067,
          20.25837687181399,
          19.738013435066925,
          19.427663688310194,
          18.270806430253877,
          18.438246296551505,
          19.362619422066864,
          19.81160065446004,
          19.390994335655268,
          19.189103302628983,
          19.660182379690323,
          19.46388611004956,
          20.161767122093263,
          20.789877139084783,
          21.898654073153256,
          21.976408416355817,
          21.976408416355838,
          22.686353620232,
          22.589357905161446,
          21.890988756653392,
          21.87158961363928,
          21.67759818349815,
          22.220774187893316,
          22.736188568232077,
          22.278255669809592,
          23.453925148082803,
          24.688378100269677,
          25.981614526370205,
          26.504314278704562,
          27.75853047161166,
          28.244634312734867,
          28.991305827102572,
          28.866860574707957,
          29.551309462878354,
          30.04909047245682,
          31.604656127389532,
          31.68747913194683,
          31.944355195852104,
          31.687479131946816,
          31.880136179875784,
          32.71498338756794,
          33.74248764318906,
          33.5498305952601,
          34.864824640494206,
          35.885887263711126,
          36.101414150894755,
          36.13220370620676,
          36.91468309465173,
          38.83531432083483,
          38.06474053666393,
          36.959134672418735,
          37.629198832567354,
          39.06983677688687,
          41.097573291448825,
          43.081228577433336,
          45.32077196286785,
          45.65353612926776,
          46.38561729534759,
          46.15525454719326,
          48.64317222726014,
          47.92370596309696,
          48.62967574611424,
          48.441417137309635,
          48.86499900712001,
          49.33564552913152,
          50.559326486361456,
          50.74758509516606,
          50.39460020365744,
          51.38547903763319,
          53.85205988918094,
          54.1918180027409,
          54.077074098369316,
          54.6907462331701,
          57.42963539217848,
          58.35525337858923,
          62.82907364624117,
          62.6966481822448,
          64.03803367344729,
          63.0954534752814,
          63.12199403572666,
          62.9881276598692,
          61.531399627140345,
          60.425365380068705,
          61.04582361623105,
          62.71748427757061,
          62.95202716448191,
          61.785843139717834
         ]
        },
        {
         "line": {
          "width": 2
         },
         "mode": "lines",
         "name": "SVM",
         "type": "scatter",
         "x": [
          "2021-01-04T00:00:00",
          "2021-01-05T00:00:00",
          "2021-01-06T00:00:00",
          "2021-01-07T00:00:00",
          "2021-01-08T00:00:00",
          "2021-01-11T00:00:00",
          "2021-01-12T00:00:00",
          "2021-01-13T00:00:00",
          "2021-01-14T00:00:00",
          "2021-01-15T00:00:00",
          "2021-01-18T00:00:00",
          "2021-01-19T00:00:00",
          "2021-01-20T00:00:00",
          "2021-01-21T00:00:00",
          "2021-01-22T00:00:00",
          "2021-01-25T00:00:00",
          "2021-01-26T00:00:00",
          "2021-01-27T00:00:00",
          "2021-01-28T00:00:00",
          "2021-01-29T00:00:00",
          "2021-02-01T00:00:00",
          "2021-02-02T00:00:00",
          "2021-02-03T00:00:00",
          "2021-02-04T00:00:00",
          "2021-02-05T00:00:00",
          "2021-02-08T00:00:00",
          "2021-02-09T00:00:00",
          "2021-02-10T00:00:00",
          "2021-02-18T00:00:00",
          "2021-02-19T00:00:00",
          "2021-02-22T00:00:00",
          "2021-02-23T00:00:00",
          "2021-02-24T00:00:00",
          "2021-02-25T00:00:00",
          "2021-02-26T00:00:00",
          "2021-03-01T00:00:00",
          "2021-03-02T00:00:00",
          "2021-03-03T00:00:00",
          "2021-03-04T00:00:00",
          "2021-03-05T00:00:00",
          "2021-03-08T00:00:00",
          "2021-03-09T00:00:00",
          "2021-03-10T00:00:00",
          "2021-03-11T00:00:00",
          "2021-03-12T00:00:00",
          "2021-03-15T00:00:00",
          "2021-03-16T00:00:00",
          "2021-03-17T00:00:00",
          "2021-03-18T00:00:00",
          "2021-03-19T00:00:00",
          "2021-03-22T00:00:00",
          "2021-03-23T00:00:00",
          "2021-03-24T00:00:00",
          "2021-03-25T00:00:00",
          "2021-03-26T00:00:00",
          "2021-03-29T00:00:00",
          "2021-03-30T00:00:00",
          "2021-03-31T00:00:00",
          "2021-04-01T00:00:00",
          "2021-04-02T00:00:00",
          "2021-04-06T00:00:00",
          "2021-04-07T00:00:00",
          "2021-04-08T00:00:00",
          "2021-04-09T00:00:00",
          "2021-04-12T00:00:00",
          "2021-04-13T00:00:00",
          "2021-04-14T00:00:00",
          "2021-04-15T00:00:00",
          "2021-04-16T00:00:00",
          "2021-04-19T00:00:00",
          "2021-04-20T00:00:00",
          "2021-04-21T00:00:00",
          "2021-04-22T00:00:00",
          "2021-04-23T00:00:00",
          "2021-04-26T00:00:00",
          "2021-04-27T00:00:00",
          "2021-04-28T00:00:00",
          "2021-04-29T00:00:00",
          "2021-04-30T00:00:00",
          "2021-05-06T00:00:00",
          "2021-05-07T00:00:00",
          "2021-05-10T00:00:00",
          "2021-05-11T00:00:00",
          "2021-05-12T00:00:00",
          "2021-05-13T00:00:00",
          "2021-05-14T00:00:00",
          "2021-05-17T00:00:00",
          "2021-05-18T00:00:00",
          "2021-05-19T00:00:00",
          "2021-05-20T00:00:00",
          "2021-05-21T00:00:00",
          "2021-05-24T00:00:00",
          "2021-05-25T00:00:00",
          "2021-05-26T00:00:00",
          "2021-05-27T00:00:00",
          "2021-05-28T00:00:00",
          "2021-05-31T00:00:00",
          "2021-06-01T00:00:00",
          "2021-06-02T00:00:00",
          "2021-06-03T00:00:00",
          "2021-06-04T00:00:00",
          "2021-06-07T00:00:00",
          "2021-06-08T00:00:00",
          "2021-06-09T00:00:00",
          "2021-06-10T00:00:00",
          "2021-06-11T00:00:00",
          "2021-06-15T00:00:00",
          "2021-06-16T00:00:00",
          "2021-06-17T00:00:00",
          "2021-06-18T00:00:00",
          "2021-06-21T00:00:00",
          "2021-06-22T00:00:00",
          "2021-06-23T00:00:00",
          "2021-06-24T00:00:00",
          "2021-06-25T00:00:00",
          "2021-06-28T00:00:00",
          "2021-06-29T00:00:00",
          "2021-06-30T00:00:00",
          "2021-07-01T00:00:00",
          "2021-07-02T00:00:00",
          "2021-07-05T00:00:00",
          "2021-07-06T00:00:00",
          "2021-07-07T00:00:00",
          "2021-07-08T00:00:00",
          "2021-07-09T00:00:00",
          "2021-07-12T00:00:00",
          "2021-07-13T00:00:00",
          "2021-07-14T00:00:00",
          "2021-07-15T00:00:00",
          "2021-07-16T00:00:00",
          "2021-07-19T00:00:00",
          "2021-07-20T00:00:00",
          "2021-07-21T00:00:00",
          "2021-07-22T00:00:00",
          "2021-07-23T00:00:00",
          "2021-07-26T00:00:00",
          "2021-07-27T00:00:00",
          "2021-07-28T00:00:00",
          "2021-07-29T00:00:00",
          "2021-07-30T00:00:00",
          "2021-08-02T00:00:00",
          "2021-08-03T00:00:00",
          "2021-08-04T00:00:00",
          "2021-08-05T00:00:00",
          "2021-08-06T00:00:00",
          "2021-08-09T00:00:00",
          "2021-08-10T00:00:00",
          "2021-08-11T00:00:00",
          "2021-08-12T00:00:00",
          "2021-08-13T00:00:00",
          "2021-08-16T00:00:00",
          "2021-08-17T00:00:00",
          "2021-08-18T00:00:00",
          "2021-08-19T00:00:00",
          "2021-08-20T00:00:00",
          "2021-08-23T00:00:00",
          "2021-08-24T00:00:00",
          "2021-08-25T00:00:00",
          "2021-08-26T00:00:00",
          "2021-08-27T00:00:00",
          "2021-08-30T00:00:00",
          "2021-08-31T00:00:00",
          "2021-09-01T00:00:00",
          "2021-09-02T00:00:00",
          "2021-09-03T00:00:00",
          "2021-09-06T00:00:00",
          "2021-09-07T00:00:00",
          "2021-09-08T00:00:00",
          "2021-09-09T00:00:00",
          "2021-09-10T00:00:00",
          "2021-09-13T00:00:00",
          "2021-09-14T00:00:00",
          "2021-09-15T00:00:00",
          "2021-09-16T00:00:00",
          "2021-09-17T00:00:00",
          "2021-09-22T00:00:00",
          "2021-09-23T00:00:00",
          "2021-09-24T00:00:00",
          "2021-09-27T00:00:00",
          "2021-09-28T00:00:00",
          "2021-09-29T00:00:00",
          "2021-09-30T00:00:00",
          "2021-10-08T00:00:00",
          "2021-10-11T00:00:00",
          "2021-10-12T00:00:00",
          "2021-10-13T00:00:00",
          "2021-10-14T00:00:00",
          "2021-10-15T00:00:00",
          "2021-10-18T00:00:00",
          "2021-10-19T00:00:00",
          "2021-10-20T00:00:00",
          "2021-10-21T00:00:00",
          "2021-10-22T00:00:00",
          "2021-10-25T00:00:00",
          "2021-10-26T00:00:00",
          "2021-10-27T00:00:00",
          "2021-10-28T00:00:00",
          "2021-10-29T00:00:00",
          "2021-11-01T00:00:00",
          "2021-11-02T00:00:00",
          "2021-11-03T00:00:00",
          "2021-11-04T00:00:00",
          "2021-11-05T00:00:00",
          "2021-11-08T00:00:00",
          "2021-11-09T00:00:00",
          "2021-11-10T00:00:00",
          "2021-11-11T00:00:00",
          "2021-11-12T00:00:00",
          "2021-11-15T00:00:00",
          "2021-11-16T00:00:00",
          "2021-11-17T00:00:00",
          "2021-11-18T00:00:00",
          "2021-11-19T00:00:00",
          "2021-11-22T00:00:00",
          "2021-11-23T00:00:00",
          "2021-11-24T00:00:00",
          "2021-11-25T00:00:00",
          "2021-11-26T00:00:00",
          "2021-11-29T00:00:00",
          "2021-11-30T00:00:00",
          "2021-12-01T00:00:00",
          "2021-12-02T00:00:00",
          "2021-12-03T00:00:00",
          "2021-12-06T00:00:00",
          "2021-12-07T00:00:00",
          "2021-12-08T00:00:00",
          "2021-12-09T00:00:00",
          "2021-12-10T00:00:00",
          "2021-12-13T00:00:00",
          "2021-12-14T00:00:00",
          "2021-12-15T00:00:00",
          "2021-12-16T00:00:00",
          "2021-12-17T00:00:00",
          "2021-12-20T00:00:00",
          "2021-12-21T00:00:00",
          "2021-12-22T00:00:00",
          "2021-12-23T00:00:00",
          "2021-12-24T00:00:00",
          "2021-12-27T00:00:00",
          "2021-12-28T00:00:00",
          "2021-12-29T00:00:00",
          "2021-12-30T00:00:00",
          "2021-12-31T00:00:00",
          "2022-01-04T00:00:00",
          "2022-01-05T00:00:00",
          "2022-01-06T00:00:00",
          "2022-01-07T00:00:00",
          "2022-01-10T00:00:00",
          "2022-01-11T00:00:00",
          "2022-01-12T00:00:00",
          "2022-01-13T00:00:00",
          "2022-01-14T00:00:00",
          "2022-01-17T00:00:00",
          "2022-01-18T00:00:00",
          "2022-01-19T00:00:00",
          "2022-01-20T00:00:00"
         ],
         "y": [
          null,
          -0.030769230769230438,
          -0.02857142857142836,
          -0.07252747252747205,
          -0.08131868131868081,
          -0.12967032967032888,
          -0.12967032967032854,
          -0.13406593406593292,
          -0.129670329670328,
          -0.0967032967032948,
          -0.0901098901098879,
          -0.06373626373626118,
          -0.06813186813186545,
          -0.07472527472527168,
          -0.08351648351648033,
          -0.11208791208790869,
          -0.12087912087911667,
          -0.12307692307691864,
          -0.11428571428570922,
          -0.15604395604395127,
          -0.1736263736263688,
          -0.1956043956043898,
          -0.23956043956043327,
          -0.272527472527466,
          -0.2747252747252681,
          -0.29230769230768583,
          -0.28351648351647674,
          -0.2857142857142788,
          -0.2505494505494432,
          -0.19999999999999218,
          -0.17802197802197006,
          -0.18681318681317882,
          -0.1648351648351567,
          -0.16483516483515692,
          -0.15824175824175013,
          -0.12747252747251858,
          -0.15164835164834267,
          -0.14065934065933094,
          -0.1472527472527373,
          -0.13626373626372512,
          -0.1362637362637248,
          -0.1494505494505376,
          -0.16703296703295478,
          -0.16483516483515226,
          -0.17362637362636046,
          -0.1648351648351507,
          -0.13626373626372168,
          -0.14285714285712825,
          -0.14505494505492889,
          -0.1450549450549291,
          -0.1406593406593214,
          -0.1626373626373433,
          -0.1692307692307491,
          -0.17582417582415366,
          -0.09230769230766689,
          -0.12967032967030534,
          -0.1868131868131634,
          -0.19340659340656952,
          -0.17582417582415044,
          -0.16483516483513705,
          -0.16263736263733353,
          -0.13626373626370514,
          -0.15604395604392507,
          -0.16483516483513372,
          -0.18241758241754946,
          -0.19120879120875722,
          -0.17362637362633904,
          -0.1736263736263387,
          -0.14725274725271031,
          -0.15384615384611622,
          -0.14725274725270887,
          -0.16043956043952268,
          -0.16263736263732376,
          -0.18901098901095048,
          -0.19999999999996187,
          -0.2065934065933689,
          -0.28571428571425095,
          -0.28571428571425095,
          -0.32087912087908677,
          -0.35384615384612106,
          -0.38681318681315435,
          -0.39780219780216586,
          -0.3934065934065606,
          -0.3890109890109551,
          -0.3824175824175483,
          -0.3846153846153505,
          -0.41538461538458205,
          -0.4439560439560116,
          -0.45054458431721367,
          -0.4373183535408053,
          -0.45054458431721356,
          -0.4520561535488027,
          -0.44903301508562354,
          -0.4369404612329073,
          -0.431649968922344,
          -0.45167826124090493,
          -0.4652823843252102,
          -0.4611255689383388,
          -0.4501666920093147,
          -0.43958570738818803,
          -0.42673736891967695,
          -0.4308941843065479,
          -0.43845203046449543,
          -0.43656256892500833,
          -0.4505445843172112,
          -0.46490449201731143,
          -0.4607476766304389,
          -0.4724623381752576,
          -0.4796422920253076,
          -0.4694391997120776,
          -0.4622592458620274,
          -0.46603816894100003,
          -0.45470139970407875,
          -0.4543235073961811,
          -0.4588582150909494,
          -0.45054458431720634,
          -0.4656602766331016,
          -0.47057287663576763,
          -0.47246233817525407,
          -0.4751075843305348,
          -0.4906011689543275,
          -0.49286852280171156,
          -0.47737493817791865,
          -0.49173484587801897,
          -0.5079842151176064,
          -0.501182153575453,
          -0.4940021997254027,
          -0.5053389689623241,
          -0.49967058434386313,
          -0.5064726458860156,
          -0.5125189228123738,
          -0.5178094151229368,
          -0.5223441228177053,
          -0.5242335843571921,
          -0.5257451535887812,
          -0.5397271689809839,
          -0.5450176612915469,
          -0.5537091843731865,
          -0.5408608459046749,
          -0.5484186920626224,
          -0.5042052920386274,
          -0.51100735358078,
          -0.5019379381912427,
          -0.5000484766517551,
          -0.49702533818857564,
          -0.47813072279370583,
          -0.4822875381805767,
          -0.4909790612622158,
          -0.4834212151042677,
          -0.48493278433585696,
          -0.4841769997200621,
          -0.4834212151042674,
          -0.4841769997200618,
          -0.4777528304858062,
          -0.46641606124888435,
          -0.4611255689383208,
          -0.46717184586467897,
          -0.46377081509360196,
          -0.48115386125688175,
          -0.47964229202529185,
          -0.496269553572776,
          -0.5181873074308243,
          -0.5079842151175944,
          -0.4947579843411857,
          -0.4955137689569795,
          -0.4694391997120584,
          -0.46792763048046837,
          -0.471706553559442,
          -0.4671718458646732,
          -0.468305522788365,
          -0.4751075843305168,
          -0.48795592279902755,
          -0.49286852280169346,
          -0.5215883382018957,
          -0.5174315228150242,
          -0.5144890321004814,
          -0.5148812057417564,
          -0.5246855467736524,
          -0.5293916304689621,
          -0.5527627007391256,
          -0.5570119862427916,
          -0.5347032373485434,
          -0.5198307380857107,
          -0.4953973464396295,
          -0.46990163341763147,
          -0.47946252580088056,
          -0.5049582388228782,
          -0.5208930594616261,
          -0.5389525228522077,
          -0.5442641297317904,
          -0.5347032373485412,
          -0.5463887724836233,
          -0.5570119862427889,
          -0.5793207351370357,
          -0.5580743076187038,
          -0.5357655587244554,
          -0.5123944884542906,
          -0.4996466319432916,
          -0.47415091892129313,
          -0.5007089533192074,
          -0.4879610968082084,
          -0.49008573956004153,
          -0.47840020442495856,
          -0.46990163341762503,
          -0.44334359901971,
          -0.4592784196584585,
          -0.45502913415479174,
          -0.45927841965845795,
          -0.45609145553070807,
          -0.4422812776437922,
          -0.4252841356291267,
          -0.4284710997568765,
          -0.4029753867348782,
          -0.38597824472021247,
          -0.4167855646217934,
          -0.4454682417715413,
          -0.4337827066364588,
          -0.40510002948671087,
          -0.4178478859977097,
          -0.44653056314745754,
          -0.4741509189212888,
          -0.4794625258008717,
          -0.4985843105673703,
          -0.4932727036877872,
          -0.4677769906657889,
          -0.4752132402972048,
          -0.4699016334176218,
          -0.4709639547935379,
          -0.48689877543228666,
          -0.49433502506370275,
          -0.4922103823118692,
          -0.49539734643961875,
          -0.4975219891914515,
          -0.5155814525820333,
          -0.4911480609359512,
          -0.49645966781553397,
          -0.5007089533192002,
          -0.49114806093595076,
          -0.48583645405636744,
          -0.4890234181841172,
          -0.49008573956003365,
          -0.4826494899286169,
          -0.48583645405636633,
          -0.4879610968081992,
          -0.4879610968081983,
          -0.4890234181841143,
          -0.48689877543228066,
          -0.4943350250636963,
          -0.4911480609359461,
          -0.4922103823118613,
          -0.49327270368777787,
          -0.49539734643961075,
          -0.5198307380856926,
          -0.5060205601987762,
          -0.4858364540563598,
          -0.4868987754322761
         ]
        }
       ],
       "layout": {
        "font": {
         "size": 20
        },
        "legend": {
         "bgcolor": "White",
         "bordercolor": "white",
         "borderwidth": 2,
         "font": {
          "color": "black",
          "family": "sans-serif",
          "size": 15
         },
         "traceorder": "normal",
         "x": 0,
         "y": 1
        },
        "paper_bgcolor": "rgba(1,1,0,0)",
        "plot_bgcolor": "rgba(1, 1, 0, 0)",
        "template": {
         "data": {
          "bar": [
           {
            "error_x": {
             "color": "#2a3f5f"
            },
            "error_y": {
             "color": "#2a3f5f"
            },
            "marker": {
             "line": {
              "color": "#E5ECF6",
              "width": 0.5
             },
             "pattern": {
              "fillmode": "overlay",
              "size": 10,
              "solidity": 0.2
             }
            },
            "type": "bar"
           }
          ],
          "barpolar": [
           {
            "marker": {
             "line": {
              "color": "#E5ECF6",
              "width": 0.5
             },
             "pattern": {
              "fillmode": "overlay",
              "size": 10,
              "solidity": 0.2
             }
            },
            "type": "barpolar"
           }
          ],
          "carpet": [
           {
            "aaxis": {
             "endlinecolor": "#2a3f5f",
             "gridcolor": "white",
             "linecolor": "white",
             "minorgridcolor": "white",
             "startlinecolor": "#2a3f5f"
            },
            "baxis": {
             "endlinecolor": "#2a3f5f",
             "gridcolor": "white",
             "linecolor": "white",
             "minorgridcolor": "white",
             "startlinecolor": "#2a3f5f"
            },
            "type": "carpet"
           }
          ],
          "choropleth": [
           {
            "colorbar": {
             "outlinewidth": 0,
             "ticks": ""
            },
            "type": "choropleth"
           }
          ],
          "contour": [
           {
            "colorbar": {
             "outlinewidth": 0,
             "ticks": ""
            },
            "colorscale": [
             [
              0,
              "#0d0887"
             ],
             [
              0.1111111111111111,
              "#46039f"
             ],
             [
              0.2222222222222222,
              "#7201a8"
             ],
             [
              0.3333333333333333,
              "#9c179e"
             ],
             [
              0.4444444444444444,
              "#bd3786"
             ],
             [
              0.5555555555555556,
              "#d8576b"
             ],
             [
              0.6666666666666666,
              "#ed7953"
             ],
             [
              0.7777777777777778,
              "#fb9f3a"
             ],
             [
              0.8888888888888888,
              "#fdca26"
             ],
             [
              1,
              "#f0f921"
             ]
            ],
            "type": "contour"
           }
          ],
          "contourcarpet": [
           {
            "colorbar": {
             "outlinewidth": 0,
             "ticks": ""
            },
            "type": "contourcarpet"
           }
          ],
          "heatmap": [
           {
            "colorbar": {
             "outlinewidth": 0,
             "ticks": ""
            },
            "colorscale": [
             [
              0,
              "#0d0887"
             ],
             [
              0.1111111111111111,
              "#46039f"
             ],
             [
              0.2222222222222222,
              "#7201a8"
             ],
             [
              0.3333333333333333,
              "#9c179e"
             ],
             [
              0.4444444444444444,
              "#bd3786"
             ],
             [
              0.5555555555555556,
              "#d8576b"
             ],
             [
              0.6666666666666666,
              "#ed7953"
             ],
             [
              0.7777777777777778,
              "#fb9f3a"
             ],
             [
              0.8888888888888888,
              "#fdca26"
             ],
             [
              1,
              "#f0f921"
             ]
            ],
            "type": "heatmap"
           }
          ],
          "heatmapgl": [
           {
            "colorbar": {
             "outlinewidth": 0,
             "ticks": ""
            },
            "colorscale": [
             [
              0,
              "#0d0887"
             ],
             [
              0.1111111111111111,
              "#46039f"
             ],
             [
              0.2222222222222222,
              "#7201a8"
             ],
             [
              0.3333333333333333,
              "#9c179e"
             ],
             [
              0.4444444444444444,
              "#bd3786"
             ],
             [
              0.5555555555555556,
              "#d8576b"
             ],
             [
              0.6666666666666666,
              "#ed7953"
             ],
             [
              0.7777777777777778,
              "#fb9f3a"
             ],
             [
              0.8888888888888888,
              "#fdca26"
             ],
             [
              1,
              "#f0f921"
             ]
            ],
            "type": "heatmapgl"
           }
          ],
          "histogram": [
           {
            "marker": {
             "pattern": {
              "fillmode": "overlay",
              "size": 10,
              "solidity": 0.2
             }
            },
            "type": "histogram"
           }
          ],
          "histogram2d": [
           {
            "colorbar": {
             "outlinewidth": 0,
             "ticks": ""
            },
            "colorscale": [
             [
              0,
              "#0d0887"
             ],
             [
              0.1111111111111111,
              "#46039f"
             ],
             [
              0.2222222222222222,
              "#7201a8"
             ],
             [
              0.3333333333333333,
              "#9c179e"
             ],
             [
              0.4444444444444444,
              "#bd3786"
             ],
             [
              0.5555555555555556,
              "#d8576b"
             ],
             [
              0.6666666666666666,
              "#ed7953"
             ],
             [
              0.7777777777777778,
              "#fb9f3a"
             ],
             [
              0.8888888888888888,
              "#fdca26"
             ],
             [
              1,
              "#f0f921"
             ]
            ],
            "type": "histogram2d"
           }
          ],
          "histogram2dcontour": [
           {
            "colorbar": {
             "outlinewidth": 0,
             "ticks": ""
            },
            "colorscale": [
             [
              0,
              "#0d0887"
             ],
             [
              0.1111111111111111,
              "#46039f"
             ],
             [
              0.2222222222222222,
              "#7201a8"
             ],
             [
              0.3333333333333333,
              "#9c179e"
             ],
             [
              0.4444444444444444,
              "#bd3786"
             ],
             [
              0.5555555555555556,
              "#d8576b"
             ],
             [
              0.6666666666666666,
              "#ed7953"
             ],
             [
              0.7777777777777778,
              "#fb9f3a"
             ],
             [
              0.8888888888888888,
              "#fdca26"
             ],
             [
              1,
              "#f0f921"
             ]
            ],
            "type": "histogram2dcontour"
           }
          ],
          "mesh3d": [
           {
            "colorbar": {
             "outlinewidth": 0,
             "ticks": ""
            },
            "type": "mesh3d"
           }
          ],
          "parcoords": [
           {
            "line": {
             "colorbar": {
              "outlinewidth": 0,
              "ticks": ""
             }
            },
            "type": "parcoords"
           }
          ],
          "pie": [
           {
            "automargin": true,
            "type": "pie"
           }
          ],
          "scatter": [
           {
            "marker": {
             "colorbar": {
              "outlinewidth": 0,
              "ticks": ""
             }
            },
            "type": "scatter"
           }
          ],
          "scatter3d": [
           {
            "line": {
             "colorbar": {
              "outlinewidth": 0,
              "ticks": ""
             }
            },
            "marker": {
             "colorbar": {
              "outlinewidth": 0,
              "ticks": ""
             }
            },
            "type": "scatter3d"
           }
          ],
          "scattercarpet": [
           {
            "marker": {
             "colorbar": {
              "outlinewidth": 0,
              "ticks": ""
             }
            },
            "type": "scattercarpet"
           }
          ],
          "scattergeo": [
           {
            "marker": {
             "colorbar": {
              "outlinewidth": 0,
              "ticks": ""
             }
            },
            "type": "scattergeo"
           }
          ],
          "scattergl": [
           {
            "marker": {
             "colorbar": {
              "outlinewidth": 0,
              "ticks": ""
             }
            },
            "type": "scattergl"
           }
          ],
          "scattermapbox": [
           {
            "marker": {
             "colorbar": {
              "outlinewidth": 0,
              "ticks": ""
             }
            },
            "type": "scattermapbox"
           }
          ],
          "scatterpolar": [
           {
            "marker": {
             "colorbar": {
              "outlinewidth": 0,
              "ticks": ""
             }
            },
            "type": "scatterpolar"
           }
          ],
          "scatterpolargl": [
           {
            "marker": {
             "colorbar": {
              "outlinewidth": 0,
              "ticks": ""
             }
            },
            "type": "scatterpolargl"
           }
          ],
          "scatterternary": [
           {
            "marker": {
             "colorbar": {
              "outlinewidth": 0,
              "ticks": ""
             }
            },
            "type": "scatterternary"
           }
          ],
          "surface": [
           {
            "colorbar": {
             "outlinewidth": 0,
             "ticks": ""
            },
            "colorscale": [
             [
              0,
              "#0d0887"
             ],
             [
              0.1111111111111111,
              "#46039f"
             ],
             [
              0.2222222222222222,
              "#7201a8"
             ],
             [
              0.3333333333333333,
              "#9c179e"
             ],
             [
              0.4444444444444444,
              "#bd3786"
             ],
             [
              0.5555555555555556,
              "#d8576b"
             ],
             [
              0.6666666666666666,
              "#ed7953"
             ],
             [
              0.7777777777777778,
              "#fb9f3a"
             ],
             [
              0.8888888888888888,
              "#fdca26"
             ],
             [
              1,
              "#f0f921"
             ]
            ],
            "type": "surface"
           }
          ],
          "table": [
           {
            "cells": {
             "fill": {
              "color": "#EBF0F8"
             },
             "line": {
              "color": "white"
             }
            },
            "header": {
             "fill": {
              "color": "#C8D4E3"
             },
             "line": {
              "color": "white"
             }
            },
            "type": "table"
           }
          ]
         },
         "layout": {
          "annotationdefaults": {
           "arrowcolor": "#2a3f5f",
           "arrowhead": 0,
           "arrowwidth": 1
          },
          "autotypenumbers": "strict",
          "coloraxis": {
           "colorbar": {
            "outlinewidth": 0,
            "ticks": ""
           }
          },
          "colorscale": {
           "diverging": [
            [
             0,
             "#8e0152"
            ],
            [
             0.1,
             "#c51b7d"
            ],
            [
             0.2,
             "#de77ae"
            ],
            [
             0.3,
             "#f1b6da"
            ],
            [
             0.4,
             "#fde0ef"
            ],
            [
             0.5,
             "#f7f7f7"
            ],
            [
             0.6,
             "#e6f5d0"
            ],
            [
             0.7,
             "#b8e186"
            ],
            [
             0.8,
             "#7fbc41"
            ],
            [
             0.9,
             "#4d9221"
            ],
            [
             1,
             "#276419"
            ]
           ],
           "sequential": [
            [
             0,
             "#0d0887"
            ],
            [
             0.1111111111111111,
             "#46039f"
            ],
            [
             0.2222222222222222,
             "#7201a8"
            ],
            [
             0.3333333333333333,
             "#9c179e"
            ],
            [
             0.4444444444444444,
             "#bd3786"
            ],
            [
             0.5555555555555556,
             "#d8576b"
            ],
            [
             0.6666666666666666,
             "#ed7953"
            ],
            [
             0.7777777777777778,
             "#fb9f3a"
            ],
            [
             0.8888888888888888,
             "#fdca26"
            ],
            [
             1,
             "#f0f921"
            ]
           ],
           "sequentialminus": [
            [
             0,
             "#0d0887"
            ],
            [
             0.1111111111111111,
             "#46039f"
            ],
            [
             0.2222222222222222,
             "#7201a8"
            ],
            [
             0.3333333333333333,
             "#9c179e"
            ],
            [
             0.4444444444444444,
             "#bd3786"
            ],
            [
             0.5555555555555556,
             "#d8576b"
            ],
            [
             0.6666666666666666,
             "#ed7953"
            ],
            [
             0.7777777777777778,
             "#fb9f3a"
            ],
            [
             0.8888888888888888,
             "#fdca26"
            ],
            [
             1,
             "#f0f921"
            ]
           ]
          },
          "colorway": [
           "#636efa",
           "#EF553B",
           "#00cc96",
           "#ab63fa",
           "#FFA15A",
           "#19d3f3",
           "#FF6692",
           "#B6E880",
           "#FF97FF",
           "#FECB52"
          ],
          "font": {
           "color": "#2a3f5f"
          },
          "geo": {
           "bgcolor": "white",
           "lakecolor": "white",
           "landcolor": "#E5ECF6",
           "showlakes": true,
           "showland": true,
           "subunitcolor": "white"
          },
          "hoverlabel": {
           "align": "left"
          },
          "hovermode": "closest",
          "mapbox": {
           "style": "light"
          },
          "paper_bgcolor": "white",
          "plot_bgcolor": "#E5ECF6",
          "polar": {
           "angularaxis": {
            "gridcolor": "white",
            "linecolor": "white",
            "ticks": ""
           },
           "bgcolor": "#E5ECF6",
           "radialaxis": {
            "gridcolor": "white",
            "linecolor": "white",
            "ticks": ""
           }
          },
          "scene": {
           "xaxis": {
            "backgroundcolor": "#E5ECF6",
            "gridcolor": "white",
            "gridwidth": 2,
            "linecolor": "white",
            "showbackground": true,
            "ticks": "",
            "zerolinecolor": "white"
           },
           "yaxis": {
            "backgroundcolor": "#E5ECF6",
            "gridcolor": "white",
            "gridwidth": 2,
            "linecolor": "white",
            "showbackground": true,
            "ticks": "",
            "zerolinecolor": "white"
           },
           "zaxis": {
            "backgroundcolor": "#E5ECF6",
            "gridcolor": "white",
            "gridwidth": 2,
            "linecolor": "white",
            "showbackground": true,
            "ticks": "",
            "zerolinecolor": "white"
           }
          },
          "shapedefaults": {
           "line": {
            "color": "#2a3f5f"
           }
          },
          "ternary": {
           "aaxis": {
            "gridcolor": "white",
            "linecolor": "white",
            "ticks": ""
           },
           "baxis": {
            "gridcolor": "white",
            "linecolor": "white",
            "ticks": ""
           },
           "bgcolor": "#E5ECF6",
           "caxis": {
            "gridcolor": "white",
            "linecolor": "white",
            "ticks": ""
           }
          },
          "title": {
           "x": 0.05
          },
          "xaxis": {
           "automargin": true,
           "gridcolor": "white",
           "linecolor": "white",
           "ticks": "",
           "title": {
            "standoff": 15
           },
           "zerolinecolor": "white",
           "zerolinewidth": 2
          },
          "yaxis": {
           "automargin": true,
           "gridcolor": "white",
           "linecolor": "white",
           "ticks": "",
           "title": {
            "standoff": 15
           },
           "zerolinecolor": "white",
           "zerolinewidth": 2
          }
         }
        },
        "title": {
         "x": 0.5,
         "xanchor": "center",
         "y": 0.85,
         "yanchor": "top"
        },
        "xaxis": {
         "gridcolor": "LightSteelBlue",
         "gridwidth": 1,
         "linecolor": "black",
         "mirror": true,
         "showgrid": true,
         "showline": true,
         "title": {
          "text": "Date"
         }
        },
        "yaxis": {
         "gridcolor": "LightSteelBlue",
         "gridwidth": 1,
         "linecolor": "black",
         "mirror": true,
         "showgrid": true,
         "showline": true,
         "title": {
          "text": "Cumulative Return"
         },
         "zeroline": true,
         "zerolinecolor": "LightSteelBlue",
         "zerolinewidth": 1
        }
       }
      },
      "text/html": [
       "<div>                            <div id=\"1326d4b7-15c2-4471-88fc-fd60cee0bcf1\" class=\"plotly-graph-div\" style=\"height:525px; width:100%;\"></div>            <script type=\"text/javascript\">                require([\"plotly\"], function(Plotly) {                    window.PLOTLYENV=window.PLOTLYENV || {};                                    if (document.getElementById(\"1326d4b7-15c2-4471-88fc-fd60cee0bcf1\")) {                    Plotly.newPlot(                        \"1326d4b7-15c2-4471-88fc-fd60cee0bcf1\",                        [{\"line\":{\"width\":2},\"mode\":\"lines\",\"name\":\"A2C\",\"type\":\"scatter\",\"x\":[\"2021-01-04T00:00:00\",\"2021-01-05T00:00:00\",\"2021-01-06T00:00:00\",\"2021-01-07T00:00:00\",\"2021-01-08T00:00:00\",\"2021-01-11T00:00:00\",\"2021-01-12T00:00:00\",\"2021-01-13T00:00:00\",\"2021-01-14T00:00:00\",\"2021-01-15T00:00:00\",\"2021-01-18T00:00:00\",\"2021-01-19T00:00:00\",\"2021-01-20T00:00:00\",\"2021-01-21T00:00:00\",\"2021-01-22T00:00:00\",\"2021-01-25T00:00:00\",\"2021-01-26T00:00:00\",\"2021-01-27T00:00:00\",\"2021-01-28T00:00:00\",\"2021-01-29T00:00:00\",\"2021-02-01T00:00:00\",\"2021-02-02T00:00:00\",\"2021-02-03T00:00:00\",\"2021-02-04T00:00:00\",\"2021-02-05T00:00:00\",\"2021-02-08T00:00:00\",\"2021-02-09T00:00:00\",\"2021-02-10T00:00:00\",\"2021-02-18T00:00:00\",\"2021-02-19T00:00:00\",\"2021-02-22T00:00:00\",\"2021-02-23T00:00:00\",\"2021-02-24T00:00:00\",\"2021-02-25T00:00:00\",\"2021-02-26T00:00:00\",\"2021-03-01T00:00:00\",\"2021-03-02T00:00:00\",\"2021-03-03T00:00:00\",\"2021-03-04T00:00:00\",\"2021-03-05T00:00:00\",\"2021-03-08T00:00:00\",\"2021-03-09T00:00:00\",\"2021-03-10T00:00:00\",\"2021-03-11T00:00:00\",\"2021-03-12T00:00:00\",\"2021-03-15T00:00:00\",\"2021-03-16T00:00:00\",\"2021-03-17T00:00:00\",\"2021-03-18T00:00:00\",\"2021-03-19T00:00:00\",\"2021-03-22T00:00:00\",\"2021-03-23T00:00:00\",\"2021-03-24T00:00:00\",\"2021-03-25T00:00:00\",\"2021-03-26T00:00:00\",\"2021-03-29T00:00:00\",\"2021-03-30T00:00:00\",\"2021-03-31T00:00:00\",\"2021-04-01T00:00:00\",\"2021-04-02T00:00:00\",\"2021-04-06T00:00:00\",\"2021-04-07T00:00:00\",\"2021-04-08T00:00:00\",\"2021-04-09T00:00:00\",\"2021-04-12T00:00:00\",\"2021-04-13T00:00:00\",\"2021-04-14T00:00:00\",\"2021-04-15T00:00:00\",\"2021-04-16T00:00:00\",\"2021-04-19T00:00:00\",\"2021-04-20T00:00:00\",\"2021-04-21T00:00:00\",\"2021-04-22T00:00:00\",\"2021-04-23T00:00:00\",\"2021-04-26T00:00:00\",\"2021-04-27T00:00:00\",\"2021-04-28T00:00:00\",\"2021-04-29T00:00:00\",\"2021-04-30T00:00:00\",\"2021-05-06T00:00:00\",\"2021-05-07T00:00:00\",\"2021-05-10T00:00:00\",\"2021-05-11T00:00:00\",\"2021-05-12T00:00:00\",\"2021-05-13T00:00:00\",\"2021-05-14T00:00:00\",\"2021-05-17T00:00:00\",\"2021-05-18T00:00:00\",\"2021-05-19T00:00:00\",\"2021-05-20T00:00:00\",\"2021-05-21T00:00:00\",\"2021-05-24T00:00:00\",\"2021-05-25T00:00:00\",\"2021-05-26T00:00:00\",\"2021-05-27T00:00:00\",\"2021-05-28T00:00:00\",\"2021-05-31T00:00:00\",\"2021-06-01T00:00:00\",\"2021-06-02T00:00:00\",\"2021-06-03T00:00:00\",\"2021-06-04T00:00:00\",\"2021-06-07T00:00:00\",\"2021-06-08T00:00:00\",\"2021-06-09T00:00:00\",\"2021-06-10T00:00:00\",\"2021-06-11T00:00:00\",\"2021-06-15T00:00:00\",\"2021-06-16T00:00:00\",\"2021-06-17T00:00:00\",\"2021-06-18T00:00:00\",\"2021-06-21T00:00:00\",\"2021-06-22T00:00:00\",\"2021-06-23T00:00:00\",\"2021-06-24T00:00:00\",\"2021-06-25T00:00:00\",\"2021-06-28T00:00:00\",\"2021-06-29T00:00:00\",\"2021-06-30T00:00:00\",\"2021-07-01T00:00:00\",\"2021-07-02T00:00:00\",\"2021-07-05T00:00:00\",\"2021-07-06T00:00:00\",\"2021-07-07T00:00:00\",\"2021-07-08T00:00:00\",\"2021-07-09T00:00:00\",\"2021-07-12T00:00:00\",\"2021-07-13T00:00:00\",\"2021-07-14T00:00:00\",\"2021-07-15T00:00:00\",\"2021-07-16T00:00:00\",\"2021-07-19T00:00:00\",\"2021-07-20T00:00:00\",\"2021-07-21T00:00:00\",\"2021-07-22T00:00:00\",\"2021-07-23T00:00:00\",\"2021-07-26T00:00:00\",\"2021-07-27T00:00:00\",\"2021-07-28T00:00:00\",\"2021-07-29T00:00:00\",\"2021-07-30T00:00:00\",\"2021-08-02T00:00:00\",\"2021-08-03T00:00:00\",\"2021-08-04T00:00:00\",\"2021-08-05T00:00:00\",\"2021-08-06T00:00:00\",\"2021-08-09T00:00:00\",\"2021-08-10T00:00:00\",\"2021-08-11T00:00:00\",\"2021-08-12T00:00:00\",\"2021-08-13T00:00:00\",\"2021-08-16T00:00:00\",\"2021-08-17T00:00:00\",\"2021-08-18T00:00:00\",\"2021-08-19T00:00:00\",\"2021-08-20T00:00:00\",\"2021-08-23T00:00:00\",\"2021-08-24T00:00:00\",\"2021-08-25T00:00:00\",\"2021-08-26T00:00:00\",\"2021-08-27T00:00:00\",\"2021-08-30T00:00:00\",\"2021-08-31T00:00:00\",\"2021-09-01T00:00:00\",\"2021-09-02T00:00:00\",\"2021-09-03T00:00:00\",\"2021-09-06T00:00:00\",\"2021-09-07T00:00:00\",\"2021-09-08T00:00:00\",\"2021-09-09T00:00:00\",\"2021-09-10T00:00:00\",\"2021-09-13T00:00:00\",\"2021-09-14T00:00:00\",\"2021-09-15T00:00:00\",\"2021-09-16T00:00:00\",\"2021-09-17T00:00:00\",\"2021-09-22T00:00:00\",\"2021-09-23T00:00:00\",\"2021-09-24T00:00:00\",\"2021-09-27T00:00:00\",\"2021-09-28T00:00:00\",\"2021-09-29T00:00:00\",\"2021-09-30T00:00:00\",\"2021-10-08T00:00:00\",\"2021-10-11T00:00:00\",\"2021-10-12T00:00:00\",\"2021-10-13T00:00:00\",\"2021-10-14T00:00:00\",\"2021-10-15T00:00:00\",\"2021-10-18T00:00:00\",\"2021-10-19T00:00:00\",\"2021-10-20T00:00:00\",\"2021-10-21T00:00:00\",\"2021-10-22T00:00:00\",\"2021-10-25T00:00:00\",\"2021-10-26T00:00:00\",\"2021-10-27T00:00:00\",\"2021-10-28T00:00:00\",\"2021-10-29T00:00:00\",\"2021-11-01T00:00:00\",\"2021-11-02T00:00:00\",\"2021-11-03T00:00:00\",\"2021-11-04T00:00:00\",\"2021-11-05T00:00:00\",\"2021-11-08T00:00:00\",\"2021-11-09T00:00:00\",\"2021-11-10T00:00:00\",\"2021-11-11T00:00:00\",\"2021-11-12T00:00:00\",\"2021-11-15T00:00:00\",\"2021-11-16T00:00:00\",\"2021-11-17T00:00:00\",\"2021-11-18T00:00:00\",\"2021-11-19T00:00:00\",\"2021-11-22T00:00:00\",\"2021-11-23T00:00:00\",\"2021-11-24T00:00:00\",\"2021-11-25T00:00:00\",\"2021-11-26T00:00:00\",\"2021-11-29T00:00:00\",\"2021-11-30T00:00:00\",\"2021-12-01T00:00:00\",\"2021-12-02T00:00:00\",\"2021-12-03T00:00:00\",\"2021-12-06T00:00:00\",\"2021-12-07T00:00:00\",\"2021-12-08T00:00:00\",\"2021-12-09T00:00:00\",\"2021-12-10T00:00:00\",\"2021-12-13T00:00:00\",\"2021-12-14T00:00:00\",\"2021-12-15T00:00:00\",\"2021-12-16T00:00:00\",\"2021-12-17T00:00:00\",\"2021-12-20T00:00:00\",\"2021-12-21T00:00:00\",\"2021-12-22T00:00:00\",\"2021-12-23T00:00:00\",\"2021-12-24T00:00:00\",\"2021-12-27T00:00:00\",\"2021-12-28T00:00:00\",\"2021-12-29T00:00:00\",\"2021-12-30T00:00:00\",\"2021-12-31T00:00:00\",\"2022-01-04T00:00:00\",\"2022-01-05T00:00:00\",\"2022-01-06T00:00:00\",\"2022-01-07T00:00:00\",\"2022-01-10T00:00:00\",\"2022-01-11T00:00:00\",\"2022-01-12T00:00:00\",\"2022-01-13T00:00:00\",\"2022-01-14T00:00:00\",\"2022-01-17T00:00:00\",\"2022-01-18T00:00:00\",\"2022-01-19T00:00:00\",\"2022-01-20T00:00:00\"],\"y\":[0.0,-0.010285273993389521,0.006831537408232835,-0.01700973638407688,-0.004649372094073789,-0.04103470266961884,0.0022245542061885004,0.006335021237400484,0.017288779920233033,0.0435476069714984,0.04378129512422868,0.04962575294411664,0.03598272473406672,0.025949698923658504,0.015528155589911163,-0.011865180451119839,-0.003323046169874444,0.012025270906143248,-0.005706391801572841,-0.02265457084527278,-0.02353376843211774,-0.012409099534740231,-0.034108064640723135,-0.05107748183065164,-0.05179157770727849,-0.04931005837451308,-0.04579373754352145,-0.04121087895582698,-0.027466767444560114,-0.012119137499220112,-0.001984003075601093,-0.02075370437599533,-0.023344049553748136,-0.00853168340762922,-0.0004608094642759575,0.02242162795686009,0.05669337237753358,0.06066751971716444,0.026129699514318094,0.04971760336085529,0.036989299873229964,0.018771437144245784,0.004914971282529379,0.02399321815228972,0.02550626170336212,0.020621068424648836,0.028745033970460687,0.03209009579540245,0.039755852550109605,0.0429523984235991,0.06247902715808551,0.06223487392656901,0.055618615287788,0.07119115133977294,0.10480826675067156,0.11424417143360532,0.08984875080798971,0.09002919870286652,0.10193059064869092,0.11419091169038187,0.11479745638507288,0.12710379646906644,0.1232523966243495,0.1144523442061518,0.09585589782023995,0.07850545741749704,0.09950040375286706,0.07721527099829628,0.11161948315058257,0.10293437593583121,0.09399175867547549,0.08404942803843429,0.09498865770765641,0.08288159752596114,0.0648291517789501,0.06511688674509641,0.012691603684381603,0.024999562582652235,0.004266418073361367,-0.008175346061623956,-0.03843461058971587,-0.0402942714545067,-0.04154932942543499,-0.04303786785170427,-0.05431686407776071,-0.04686353662213616,-0.058792020217157015,-0.06539663938337303,-0.07729769568992817,-0.08197180608330801,-0.09224320594056745,-0.0828676227909263,-0.08137392145139244,-0.07784693593455361,-0.06923819690545618,-0.08107895074681315,-0.08976585420911587,-0.08138552408257527,-0.07254544805333363,-0.0554389373606875,-0.05098059247526632,-0.044197388645448754,-0.0427733309314523,-0.04027866989880302,-0.05047410887775805,-0.0690673065688262,-0.0738523261016314,-0.07997816933559732,-0.08488093480465664,-0.0878606041611173,-0.0801516087624381,-0.07024800411252208,-0.062290800206779684,-0.058690801606387843,-0.055942937503938195,-0.05694261732723549,-0.07939492920136071,-0.08933237230131919,-0.09553440306952854,-0.0959088377261551,-0.08593646321383752,-0.08688401235033227,-0.0778714489401624,-0.0942570589496402,-0.09949792429043158,-0.10036962963631901,-0.07052056870654566,-0.07890537132916098,-0.07866046807734328,-0.07241187303646757,-0.05175530692135022,-0.06755902558837001,-0.07423485284056308,-0.08838352044236686,-0.10269049604614156,-0.1269289385506297,-0.14335138452445106,-0.1344679947226406,-0.131668363592093,-0.14316497285282337,-0.11848160560429721,-0.10774229488567766,-0.07968882305316616,-0.08622012471435736,-0.07061653767649534,-0.04257943623818705,-0.06055642475419565,-0.05128457322633617,-0.046816914429649414,-0.04796189574208165,-0.02706467060220208,-0.03557446703803169,-0.017936358414700537,-0.015095564284680507,-0.006959796561085807,0.004237569541033714,0.0022926988107141444,-0.002503559554110968,-0.003185360461638642,0.017053034864775718,0.023998783840002647,0.03303867014952866,0.0341040578947609,0.034331487816944506,0.04460569679046378,0.0636193978147288,0.0786945256414191,0.09215042833315912,0.1205870452628166,0.1104602895249176,0.11222178973339458,0.07566856842072434,0.057219855043720846,0.019518333461472803,0.012520277411372849,0.013741503251200271,0.019158875510987272,-0.008076755857821638,-0.036434667670394605,-0.029183952119070433,-0.04482658637839387,-0.03608989140299146,-0.01571839195122915,0.007072628627919464,0.021170828648654938,0.01908089415656855,0.01225236325085266,-0.011614428762911633,-0.03320971834980424,-0.03566049761834178,-0.03507210007435069,-0.03633983033033772,-0.03799122093454088,-0.06180354334473548,-0.05602156431224281,-0.055887633486220833,-0.017969103698562194,-0.00843640138456525,0.013624710035298415,0.0003313485928395643,0.0038178523537255593,0.00010150571417155696,0.007613697971262656,0.014584140448841376,0.026910417774478335,0.025329355026481926,0.04410426346124274,0.03988051017139127,0.06200151624786243,0.058610225232754276,0.06471021797838783,0.05228166723497929,0.0730180368282749,0.09008206458873924,0.0658222909804076,0.049895508432883595,0.05045339563174012,0.055876078360029835,0.0444902323432419,0.018412271340874753,0.012558321707812237,0.015985729731763376,0.015195752028443144,0.07283627542466031,0.12170921826522041,0.11110699482505892,0.1206878828647564,0.08935912682700464,0.10288927858261387,0.08391842911697367,0.09091117507180768,0.09091599684640417,0.08743858742525035,0.07853239338969376,0.10832937412827359,0.11500362718104262,0.11784401696369651,0.12785544783397884,0.15139628788032633,0.15088930195996997,0.14591517380239472,0.1555835996347681,0.1689357634333999,0.15297000239140512,0.16704428444295938,0.1724617468765306,0.1977726294678086,0.1768100262997303,0.17732124105807934,0.16815209824834487,0.15132043294116948,0.146541527510194,0.14056384212689643,0.17228034819574045,0.20333394365222635,0.2047436783310923]},{\"line\":{\"width\":2},\"mode\":\"lines\",\"name\":\"PPO\",\"type\":\"scatter\",\"x\":[\"2021-01-04T00:00:00\",\"2021-01-05T00:00:00\",\"2021-01-06T00:00:00\",\"2021-01-07T00:00:00\",\"2021-01-08T00:00:00\",\"2021-01-11T00:00:00\",\"2021-01-12T00:00:00\",\"2021-01-13T00:00:00\",\"2021-01-14T00:00:00\",\"2021-01-15T00:00:00\",\"2021-01-18T00:00:00\",\"2021-01-19T00:00:00\",\"2021-01-20T00:00:00\",\"2021-01-21T00:00:00\",\"2021-01-22T00:00:00\",\"2021-01-25T00:00:00\",\"2021-01-26T00:00:00\",\"2021-01-27T00:00:00\",\"2021-01-28T00:00:00\",\"2021-01-29T00:00:00\",\"2021-02-01T00:00:00\",\"2021-02-02T00:00:00\",\"2021-02-03T00:00:00\",\"2021-02-04T00:00:00\",\"2021-02-05T00:00:00\",\"2021-02-08T00:00:00\",\"2021-02-09T00:00:00\",\"2021-02-10T00:00:00\",\"2021-02-18T00:00:00\",\"2021-02-19T00:00:00\",\"2021-02-22T00:00:00\",\"2021-02-23T00:00:00\",\"2021-02-24T00:00:00\",\"2021-02-25T00:00:00\",\"2021-02-26T00:00:00\",\"2021-03-01T00:00:00\",\"2021-03-02T00:00:00\",\"2021-03-03T00:00:00\",\"2021-03-04T00:00:00\",\"2021-03-05T00:00:00\",\"2021-03-08T00:00:00\",\"2021-03-09T00:00:00\",\"2021-03-10T00:00:00\",\"2021-03-11T00:00:00\",\"2021-03-12T00:00:00\",\"2021-03-15T00:00:00\",\"2021-03-16T00:00:00\",\"2021-03-17T00:00:00\",\"2021-03-18T00:00:00\",\"2021-03-19T00:00:00\",\"2021-03-22T00:00:00\",\"2021-03-23T00:00:00\",\"2021-03-24T00:00:00\",\"2021-03-25T00:00:00\",\"2021-03-26T00:00:00\",\"2021-03-29T00:00:00\",\"2021-03-30T00:00:00\",\"2021-03-31T00:00:00\",\"2021-04-01T00:00:00\",\"2021-04-02T00:00:00\",\"2021-04-06T00:00:00\",\"2021-04-07T00:00:00\",\"2021-04-08T00:00:00\",\"2021-04-09T00:00:00\",\"2021-04-12T00:00:00\",\"2021-04-13T00:00:00\",\"2021-04-14T00:00:00\",\"2021-04-15T00:00:00\",\"2021-04-16T00:00:00\",\"2021-04-19T00:00:00\",\"2021-04-20T00:00:00\",\"2021-04-21T00:00:00\",\"2021-04-22T00:00:00\",\"2021-04-23T00:00:00\",\"2021-04-26T00:00:00\",\"2021-04-27T00:00:00\",\"2021-04-28T00:00:00\",\"2021-04-29T00:00:00\",\"2021-04-30T00:00:00\",\"2021-05-06T00:00:00\",\"2021-05-07T00:00:00\",\"2021-05-10T00:00:00\",\"2021-05-11T00:00:00\",\"2021-05-12T00:00:00\",\"2021-05-13T00:00:00\",\"2021-05-14T00:00:00\",\"2021-05-17T00:00:00\",\"2021-05-18T00:00:00\",\"2021-05-19T00:00:00\",\"2021-05-20T00:00:00\",\"2021-05-21T00:00:00\",\"2021-05-24T00:00:00\",\"2021-05-25T00:00:00\",\"2021-05-26T00:00:00\",\"2021-05-27T00:00:00\",\"2021-05-28T00:00:00\",\"2021-05-31T00:00:00\",\"2021-06-01T00:00:00\",\"2021-06-02T00:00:00\",\"2021-06-03T00:00:00\",\"2021-06-04T00:00:00\",\"2021-06-07T00:00:00\",\"2021-06-08T00:00:00\",\"2021-06-09T00:00:00\",\"2021-06-10T00:00:00\",\"2021-06-11T00:00:00\",\"2021-06-15T00:00:00\",\"2021-06-16T00:00:00\",\"2021-06-17T00:00:00\",\"2021-06-18T00:00:00\",\"2021-06-21T00:00:00\",\"2021-06-22T00:00:00\",\"2021-06-23T00:00:00\",\"2021-06-24T00:00:00\",\"2021-06-25T00:00:00\",\"2021-06-28T00:00:00\",\"2021-06-29T00:00:00\",\"2021-06-30T00:00:00\",\"2021-07-01T00:00:00\",\"2021-07-02T00:00:00\",\"2021-07-05T00:00:00\",\"2021-07-06T00:00:00\",\"2021-07-07T00:00:00\",\"2021-07-08T00:00:00\",\"2021-07-09T00:00:00\",\"2021-07-12T00:00:00\",\"2021-07-13T00:00:00\",\"2021-07-14T00:00:00\",\"2021-07-15T00:00:00\",\"2021-07-16T00:00:00\",\"2021-07-19T00:00:00\",\"2021-07-20T00:00:00\",\"2021-07-21T00:00:00\",\"2021-07-22T00:00:00\",\"2021-07-23T00:00:00\",\"2021-07-26T00:00:00\",\"2021-07-27T00:00:00\",\"2021-07-28T00:00:00\",\"2021-07-29T00:00:00\",\"2021-07-30T00:00:00\",\"2021-08-02T00:00:00\",\"2021-08-03T00:00:00\",\"2021-08-04T00:00:00\",\"2021-08-05T00:00:00\",\"2021-08-06T00:00:00\",\"2021-08-09T00:00:00\",\"2021-08-10T00:00:00\",\"2021-08-11T00:00:00\",\"2021-08-12T00:00:00\",\"2021-08-13T00:00:00\",\"2021-08-16T00:00:00\",\"2021-08-17T00:00:00\",\"2021-08-18T00:00:00\",\"2021-08-19T00:00:00\",\"2021-08-20T00:00:00\",\"2021-08-23T00:00:00\",\"2021-08-24T00:00:00\",\"2021-08-25T00:00:00\",\"2021-08-26T00:00:00\",\"2021-08-27T00:00:00\",\"2021-08-30T00:00:00\",\"2021-08-31T00:00:00\",\"2021-09-01T00:00:00\",\"2021-09-02T00:00:00\",\"2021-09-03T00:00:00\",\"2021-09-06T00:00:00\",\"2021-09-07T00:00:00\",\"2021-09-08T00:00:00\",\"2021-09-09T00:00:00\",\"2021-09-10T00:00:00\",\"2021-09-13T00:00:00\",\"2021-09-14T00:00:00\",\"2021-09-15T00:00:00\",\"2021-09-16T00:00:00\",\"2021-09-17T00:00:00\",\"2021-09-22T00:00:00\",\"2021-09-23T00:00:00\",\"2021-09-24T00:00:00\",\"2021-09-27T00:00:00\",\"2021-09-28T00:00:00\",\"2021-09-29T00:00:00\",\"2021-09-30T00:00:00\",\"2021-10-08T00:00:00\",\"2021-10-11T00:00:00\",\"2021-10-12T00:00:00\",\"2021-10-13T00:00:00\",\"2021-10-14T00:00:00\",\"2021-10-15T00:00:00\",\"2021-10-18T00:00:00\",\"2021-10-19T00:00:00\",\"2021-10-20T00:00:00\",\"2021-10-21T00:00:00\",\"2021-10-22T00:00:00\",\"2021-10-25T00:00:00\",\"2021-10-26T00:00:00\",\"2021-10-27T00:00:00\",\"2021-10-28T00:00:00\",\"2021-10-29T00:00:00\",\"2021-11-01T00:00:00\",\"2021-11-02T00:00:00\",\"2021-11-03T00:00:00\",\"2021-11-04T00:00:00\",\"2021-11-05T00:00:00\",\"2021-11-08T00:00:00\",\"2021-11-09T00:00:00\",\"2021-11-10T00:00:00\",\"2021-11-11T00:00:00\",\"2021-11-12T00:00:00\",\"2021-11-15T00:00:00\",\"2021-11-16T00:00:00\",\"2021-11-17T00:00:00\",\"2021-11-18T00:00:00\",\"2021-11-19T00:00:00\",\"2021-11-22T00:00:00\",\"2021-11-23T00:00:00\",\"2021-11-24T00:00:00\",\"2021-11-25T00:00:00\",\"2021-11-26T00:00:00\",\"2021-11-29T00:00:00\",\"2021-11-30T00:00:00\",\"2021-12-01T00:00:00\",\"2021-12-02T00:00:00\",\"2021-12-03T00:00:00\",\"2021-12-06T00:00:00\",\"2021-12-07T00:00:00\",\"2021-12-08T00:00:00\",\"2021-12-09T00:00:00\",\"2021-12-10T00:00:00\",\"2021-12-13T00:00:00\",\"2021-12-14T00:00:00\",\"2021-12-15T00:00:00\",\"2021-12-16T00:00:00\",\"2021-12-17T00:00:00\",\"2021-12-20T00:00:00\",\"2021-12-21T00:00:00\",\"2021-12-22T00:00:00\",\"2021-12-23T00:00:00\",\"2021-12-24T00:00:00\",\"2021-12-27T00:00:00\",\"2021-12-28T00:00:00\",\"2021-12-29T00:00:00\",\"2021-12-30T00:00:00\",\"2021-12-31T00:00:00\",\"2022-01-04T00:00:00\",\"2022-01-05T00:00:00\",\"2022-01-06T00:00:00\",\"2022-01-07T00:00:00\",\"2022-01-10T00:00:00\",\"2022-01-11T00:00:00\",\"2022-01-12T00:00:00\",\"2022-01-13T00:00:00\",\"2022-01-14T00:00:00\",\"2022-01-17T00:00:00\",\"2022-01-18T00:00:00\",\"2022-01-19T00:00:00\",\"2022-01-20T00:00:00\"],\"y\":[0.0,-0.014924731589607498,-0.002292029237686233,-0.02783613515178318,-0.011582659267364903,-0.041648720340008216,-0.0026558670513836535,-0.01618665592905677,-0.005652518191398226,0.02601169531889136,0.026241456545075037,0.03238228845989677,0.01620351667649933,0.0014506670302296687,-0.006595110268871718,-0.03375816360295625,-0.02497455227799361,0.004343160051555772,-0.012586974803695972,-0.03198254698274361,-0.037181770465997244,-0.026108089996084827,-0.0579418147719154,-0.0763340884411331,-0.07885778871081006,-0.07186572185803364,-0.07445325741893905,-0.07542613967556411,-0.060839702404633655,-0.042127147923515795,-0.03301421957251416,-0.04305179122425107,-0.04364022911148224,-0.032024333272746563,-0.023814879975735614,-0.0025717501834994216,0.05702293196514896,0.10076517828104503,0.058474083109115504,0.08508350417099098,0.07009783958565685,0.04855327834056089,0.03776582971566489,0.05900769897600178,0.0652167415874727,0.06406908482303653,0.0694064576160931,0.07071802439137742,0.0704803983835165,0.0697552144316429,0.07847967851559967,0.09133908321549655,0.07486456405543596,0.08797640348951785,0.11450032742581762,0.1174944336540209,0.11225444081965663,0.11339106716509462,0.12034387132228153,0.1540820147256261,0.14502001508738838,0.15581707770624353,0.1607977691167013,0.1565098976446595,0.1359209717454284,0.11785219947047643,0.13753741216055637,0.10530636398562265,0.14523494421970362,0.14138976934869163,0.1305476639962686,0.12118469486140016,0.13089393228052382,0.12548849981390564,0.10392456873295153,0.11506607202801322,0.06264750408568753,0.08544293701009797,0.05815106243719281,0.037490342225859896,0.011362233803456911,0.010464231389373024,0.009454988261403674,0.011527454649789215,0.005444720577713724,0.010908501181369656,-0.002801563401218954,-0.009412978444454212,-0.0196735891925357,-0.020281134080949115,-0.0336765978589757,-0.028163048653642275,-0.024574817887027534,-0.0204969501308645,-0.014191628526838751,-0.01798919403835353,-0.027157243578103007,-0.02091378759461915,-0.014562402048735379,-0.0019146743844897784,0.006955944687642157,0.016578366976836678,0.01543059206302555,0.012962786405233517,0.0020281523093343967,-0.01769993241350276,-0.022150786213627316,-0.025822028176523792,-0.03312202712306178,-0.03412618685600377,-0.02668493609720457,-0.01867621227543048,-0.015194285419451337,0.004348448058712373,0.007280335956420414,0.010388597503374175,-0.01621128404932559,-0.027077398949225784,-0.03890277379497642,-0.03580152630971223,-0.028209136157252734,-0.02929357544504896,-0.02115713470601488,-0.03510189007417852,-0.04563227641411105,-0.04230896575679999,-0.013271939252926801,-0.01931972802941484,-0.02233041095862287,-0.011647910281172624,0.0033509499579609248,-0.010727492114225967,-0.014255515320517609,-0.02534701443286491,-0.040047179019753854,-0.06701569943155727,-0.08302097603657588,-0.08172493598407704,-0.07758205082341008,-0.09114491133752234,-0.062409361781076256,-0.033247329342628196,-0.009031742096155204,-0.006733145906478444,0.016395788895224417,0.047631109369320246,0.029754211069123793,0.04197077024785334,0.04868179996261768,0.047558045838463237,0.07478388600959263,0.06258715901322653,0.08400218729800302,0.07650522246281155,0.08629101275942808,0.09785072101106085,0.09671011182659739,0.09510003626412633,0.09554895658902995,0.11245133563800591,0.12474933673424227,0.12096080928933839,0.1146560426576626,0.11516596159051207,0.127348935454477,0.13524907289801158,0.15402906899347069,0.16177657618503338,0.19343587455225375,0.1846223797423221,0.18609969261467518,0.15190264911310147,0.13179602218084585,0.10433299184033507,0.09596987499916843,0.10328595662702367,0.09543643701249338,0.07189557132094504,0.04652419934858165,0.044340992061859597,0.029395431276595607,0.046014421261845406,0.06854520530753194,0.08247587865619632,0.09056679158182313,0.08854343713138135,0.07539900762862062,0.05449717402679877,0.031062648829503603,0.026126267483106647,0.02681649581390988,0.026293726101407344,0.027469446205238723,0.0008527036070689054,0.00013552600816302274,-0.022464477806080074,0.02884492669670813,0.03867240369933356,0.049057493713704714,0.027924207976928406,0.035020524767714,0.031188659215541703,0.03938896435272521,0.04642228409825733,0.048389949036267144,0.04849574544605728,0.0689719731787608,0.07339684166298244,0.08800220355517085,0.08951896454814823,0.09867904554726015,0.08266522138287313,0.10167329314894147,0.11795937294598646,0.10883868414005393,0.09568731375599815,0.09350303247833947,0.10252504522465955,0.08528718161743076,0.06418896526935525,0.050551163830619306,0.06481735435937419,0.0739083360835251,0.10745805353731774,0.16165576442878726,0.1506152180108733,0.16019273157951064,0.12803148754329108,0.12432372544607162,0.10433696541053794,0.11072352156198062,0.11064752304817715,0.10823777075989183,0.10726285852608597,0.13289530610245448,0.14195782215158226,0.1513279047911522,0.16466170771286004,0.18666423948851296,0.18826388832439522,0.18296332517342506,0.19315307755896005,0.21395627617319923,0.2151332188261561,0.23552878808531674,0.2464017763345454,0.27393952512731956,0.2541699227006149,0.2544806092763523,0.24755026110555622,0.22151357330884558,0.21540683157531682,0.2102695833521715,0.24456004907126427,0.2837208560122557,0.28564788866944424]},{\"line\":{\"width\":2},\"mode\":\"lines\",\"name\":\"DJIA\",\"type\":\"scatter\",\"x\":[\"2021-01-04T00:00:00\",\"2021-01-05T00:00:00\",\"2021-01-06T00:00:00\",\"2021-01-07T00:00:00\",\"2021-01-08T00:00:00\",\"2021-01-11T00:00:00\",\"2021-01-12T00:00:00\",\"2021-01-13T00:00:00\",\"2021-01-14T00:00:00\",\"2021-01-15T00:00:00\",\"2021-01-18T00:00:00\",\"2021-01-19T00:00:00\",\"2021-01-20T00:00:00\",\"2021-01-21T00:00:00\",\"2021-01-22T00:00:00\",\"2021-01-25T00:00:00\",\"2021-01-26T00:00:00\",\"2021-01-27T00:00:00\",\"2021-01-28T00:00:00\",\"2021-01-29T00:00:00\",\"2021-02-01T00:00:00\",\"2021-02-02T00:00:00\",\"2021-02-03T00:00:00\",\"2021-02-04T00:00:00\",\"2021-02-05T00:00:00\",\"2021-02-08T00:00:00\",\"2021-02-09T00:00:00\",\"2021-02-10T00:00:00\",\"2021-02-18T00:00:00\",\"2021-02-19T00:00:00\",\"2021-02-22T00:00:00\",\"2021-02-23T00:00:00\",\"2021-02-24T00:00:00\",\"2021-02-25T00:00:00\",\"2021-02-26T00:00:00\",\"2021-03-01T00:00:00\",\"2021-03-02T00:00:00\",\"2021-03-03T00:00:00\",\"2021-03-04T00:00:00\",\"2021-03-05T00:00:00\",\"2021-03-08T00:00:00\",\"2021-03-09T00:00:00\",\"2021-03-10T00:00:00\",\"2021-03-11T00:00:00\",\"2021-03-12T00:00:00\",\"2021-03-15T00:00:00\",\"2021-03-16T00:00:00\",\"2021-03-17T00:00:00\",\"2021-03-18T00:00:00\",\"2021-03-19T00:00:00\",\"2021-03-22T00:00:00\",\"2021-03-23T00:00:00\",\"2021-03-24T00:00:00\",\"2021-03-25T00:00:00\",\"2021-03-26T00:00:00\",\"2021-03-29T00:00:00\",\"2021-03-30T00:00:00\",\"2021-03-31T00:00:00\",\"2021-04-01T00:00:00\",\"2021-04-02T00:00:00\",\"2021-04-06T00:00:00\",\"2021-04-07T00:00:00\",\"2021-04-08T00:00:00\",\"2021-04-09T00:00:00\",\"2021-04-12T00:00:00\",\"2021-04-13T00:00:00\",\"2021-04-14T00:00:00\",\"2021-04-15T00:00:00\",\"2021-04-16T00:00:00\",\"2021-04-19T00:00:00\",\"2021-04-20T00:00:00\",\"2021-04-21T00:00:00\",\"2021-04-22T00:00:00\",\"2021-04-23T00:00:00\",\"2021-04-26T00:00:00\",\"2021-04-27T00:00:00\",\"2021-04-28T00:00:00\",\"2021-04-29T00:00:00\",\"2021-04-30T00:00:00\",\"2021-05-06T00:00:00\",\"2021-05-07T00:00:00\",\"2021-05-10T00:00:00\",\"2021-05-11T00:00:00\",\"2021-05-12T00:00:00\",\"2021-05-13T00:00:00\",\"2021-05-14T00:00:00\",\"2021-05-17T00:00:00\",\"2021-05-18T00:00:00\",\"2021-05-19T00:00:00\",\"2021-05-20T00:00:00\",\"2021-05-21T00:00:00\",\"2021-05-24T00:00:00\",\"2021-05-25T00:00:00\",\"2021-05-26T00:00:00\",\"2021-05-27T00:00:00\",\"2021-05-28T00:00:00\",\"2021-05-31T00:00:00\",\"2021-06-01T00:00:00\",\"2021-06-02T00:00:00\",\"2021-06-03T00:00:00\",\"2021-06-04T00:00:00\",\"2021-06-07T00:00:00\",\"2021-06-08T00:00:00\",\"2021-06-09T00:00:00\",\"2021-06-10T00:00:00\",\"2021-06-11T00:00:00\",\"2021-06-15T00:00:00\",\"2021-06-16T00:00:00\",\"2021-06-17T00:00:00\",\"2021-06-18T00:00:00\",\"2021-06-21T00:00:00\",\"2021-06-22T00:00:00\",\"2021-06-23T00:00:00\",\"2021-06-24T00:00:00\",\"2021-06-25T00:00:00\",\"2021-06-28T00:00:00\",\"2021-06-29T00:00:00\",\"2021-06-30T00:00:00\",\"2021-07-01T00:00:00\",\"2021-07-02T00:00:00\",\"2021-07-05T00:00:00\",\"2021-07-06T00:00:00\",\"2021-07-07T00:00:00\",\"2021-07-08T00:00:00\",\"2021-07-09T00:00:00\",\"2021-07-12T00:00:00\",\"2021-07-13T00:00:00\",\"2021-07-14T00:00:00\",\"2021-07-15T00:00:00\",\"2021-07-16T00:00:00\",\"2021-07-19T00:00:00\",\"2021-07-20T00:00:00\",\"2021-07-21T00:00:00\",\"2021-07-22T00:00:00\",\"2021-07-23T00:00:00\",\"2021-07-26T00:00:00\",\"2021-07-27T00:00:00\",\"2021-07-28T00:00:00\",\"2021-07-29T00:00:00\",\"2021-07-30T00:00:00\",\"2021-08-02T00:00:00\",\"2021-08-03T00:00:00\",\"2021-08-04T00:00:00\",\"2021-08-05T00:00:00\",\"2021-08-06T00:00:00\",\"2021-08-09T00:00:00\",\"2021-08-10T00:00:00\",\"2021-08-11T00:00:00\",\"2021-08-12T00:00:00\",\"2021-08-13T00:00:00\",\"2021-08-16T00:00:00\",\"2021-08-17T00:00:00\",\"2021-08-18T00:00:00\",\"2021-08-19T00:00:00\",\"2021-08-20T00:00:00\",\"2021-08-23T00:00:00\",\"2021-08-24T00:00:00\",\"2021-08-25T00:00:00\",\"2021-08-26T00:00:00\",\"2021-08-27T00:00:00\",\"2021-08-30T00:00:00\",\"2021-08-31T00:00:00\",\"2021-09-01T00:00:00\",\"2021-09-02T00:00:00\",\"2021-09-03T00:00:00\",\"2021-09-06T00:00:00\",\"2021-09-07T00:00:00\",\"2021-09-08T00:00:00\",\"2021-09-09T00:00:00\",\"2021-09-10T00:00:00\",\"2021-09-13T00:00:00\",\"2021-09-14T00:00:00\",\"2021-09-15T00:00:00\",\"2021-09-16T00:00:00\",\"2021-09-17T00:00:00\",\"2021-09-22T00:00:00\",\"2021-09-23T00:00:00\",\"2021-09-24T00:00:00\",\"2021-09-27T00:00:00\",\"2021-09-28T00:00:00\",\"2021-09-29T00:00:00\",\"2021-09-30T00:00:00\",\"2021-10-08T00:00:00\",\"2021-10-11T00:00:00\",\"2021-10-12T00:00:00\",\"2021-10-13T00:00:00\",\"2021-10-14T00:00:00\",\"2021-10-15T00:00:00\",\"2021-10-18T00:00:00\",\"2021-10-19T00:00:00\",\"2021-10-20T00:00:00\",\"2021-10-21T00:00:00\",\"2021-10-22T00:00:00\",\"2021-10-25T00:00:00\",\"2021-10-26T00:00:00\",\"2021-10-27T00:00:00\",\"2021-10-28T00:00:00\",\"2021-10-29T00:00:00\",\"2021-11-01T00:00:00\",\"2021-11-02T00:00:00\",\"2021-11-03T00:00:00\",\"2021-11-04T00:00:00\",\"2021-11-05T00:00:00\",\"2021-11-08T00:00:00\",\"2021-11-09T00:00:00\",\"2021-11-10T00:00:00\",\"2021-11-11T00:00:00\",\"2021-11-12T00:00:00\",\"2021-11-15T00:00:00\",\"2021-11-16T00:00:00\",\"2021-11-17T00:00:00\",\"2021-11-18T00:00:00\",\"2021-11-19T00:00:00\",\"2021-11-22T00:00:00\",\"2021-11-23T00:00:00\",\"2021-11-24T00:00:00\",\"2021-11-25T00:00:00\",\"2021-11-26T00:00:00\",\"2021-11-29T00:00:00\",\"2021-11-30T00:00:00\",\"2021-12-01T00:00:00\",\"2021-12-02T00:00:00\",\"2021-12-03T00:00:00\",\"2021-12-06T00:00:00\",\"2021-12-07T00:00:00\",\"2021-12-08T00:00:00\",\"2021-12-09T00:00:00\",\"2021-12-10T00:00:00\",\"2021-12-13T00:00:00\",\"2021-12-14T00:00:00\",\"2021-12-15T00:00:00\",\"2021-12-16T00:00:00\",\"2021-12-17T00:00:00\",\"2021-12-20T00:00:00\",\"2021-12-21T00:00:00\",\"2021-12-22T00:00:00\",\"2021-12-23T00:00:00\",\"2021-12-24T00:00:00\",\"2021-12-27T00:00:00\",\"2021-12-28T00:00:00\",\"2021-12-29T00:00:00\",\"2021-12-30T00:00:00\",\"2021-12-31T00:00:00\",\"2022-01-04T00:00:00\",\"2022-01-05T00:00:00\",\"2022-01-06T00:00:00\",\"2022-01-07T00:00:00\",\"2022-01-10T00:00:00\",\"2022-01-11T00:00:00\",\"2022-01-12T00:00:00\",\"2022-01-13T00:00:00\",\"2022-01-14T00:00:00\",\"2022-01-17T00:00:00\",\"2022-01-18T00:00:00\",\"2022-01-19T00:00:00\",\"2022-01-20T00:00:00\"],\"y\":[null,-0.009765625,-0.009765625,-0.041015625,-0.03320312500000011,-0.03320312500000011,-0.011718750000000222,-0.009765625,-0.041015625,-0.017578125,-0.04882812500000011,-0.02929687500000011,-0.08203125,-0.068359375]},{\"line\":{\"width\":2},\"mode\":\"lines\",\"name\":\"LR\",\"type\":\"scatter\",\"x\":[\"2021-01-04T00:00:00\",\"2021-01-05T00:00:00\",\"2021-01-06T00:00:00\",\"2021-01-07T00:00:00\",\"2021-01-08T00:00:00\",\"2021-01-11T00:00:00\",\"2021-01-12T00:00:00\",\"2021-01-13T00:00:00\",\"2021-01-14T00:00:00\",\"2021-01-15T00:00:00\",\"2021-01-18T00:00:00\",\"2021-01-19T00:00:00\",\"2021-01-20T00:00:00\",\"2021-01-21T00:00:00\",\"2021-01-22T00:00:00\",\"2021-01-25T00:00:00\",\"2021-01-26T00:00:00\",\"2021-01-27T00:00:00\",\"2021-01-28T00:00:00\",\"2021-01-29T00:00:00\",\"2021-02-01T00:00:00\",\"2021-02-02T00:00:00\",\"2021-02-03T00:00:00\",\"2021-02-04T00:00:00\",\"2021-02-05T00:00:00\",\"2021-02-08T00:00:00\",\"2021-02-09T00:00:00\",\"2021-02-10T00:00:00\",\"2021-02-18T00:00:00\",\"2021-02-19T00:00:00\",\"2021-02-22T00:00:00\",\"2021-02-23T00:00:00\",\"2021-02-24T00:00:00\",\"2021-02-25T00:00:00\",\"2021-02-26T00:00:00\",\"2021-03-01T00:00:00\",\"2021-03-02T00:00:00\",\"2021-03-03T00:00:00\",\"2021-03-04T00:00:00\",\"2021-03-05T00:00:00\",\"2021-03-08T00:00:00\",\"2021-03-09T00:00:00\",\"2021-03-10T00:00:00\",\"2021-03-11T00:00:00\",\"2021-03-12T00:00:00\",\"2021-03-15T00:00:00\",\"2021-03-16T00:00:00\",\"2021-03-17T00:00:00\",\"2021-03-18T00:00:00\",\"2021-03-19T00:00:00\",\"2021-03-22T00:00:00\",\"2021-03-23T00:00:00\",\"2021-03-24T00:00:00\",\"2021-03-25T00:00:00\",\"2021-03-26T00:00:00\",\"2021-03-29T00:00:00\",\"2021-03-30T00:00:00\",\"2021-03-31T00:00:00\",\"2021-04-01T00:00:00\",\"2021-04-02T00:00:00\",\"2021-04-06T00:00:00\",\"2021-04-07T00:00:00\",\"2021-04-08T00:00:00\",\"2021-04-09T00:00:00\",\"2021-04-12T00:00:00\",\"2021-04-13T00:00:00\",\"2021-04-14T00:00:00\",\"2021-04-15T00:00:00\",\"2021-04-16T00:00:00\",\"2021-04-19T00:00:00\",\"2021-04-20T00:00:00\",\"2021-04-21T00:00:00\",\"2021-04-22T00:00:00\",\"2021-04-23T00:00:00\",\"2021-04-26T00:00:00\",\"2021-04-27T00:00:00\",\"2021-04-28T00:00:00\",\"2021-04-29T00:00:00\",\"2021-04-30T00:00:00\",\"2021-05-06T00:00:00\",\"2021-05-07T00:00:00\",\"2021-05-10T00:00:00\",\"2021-05-11T00:00:00\",\"2021-05-12T00:00:00\",\"2021-05-13T00:00:00\",\"2021-05-14T00:00:00\",\"2021-05-17T00:00:00\",\"2021-05-18T00:00:00\",\"2021-05-19T00:00:00\",\"2021-05-20T00:00:00\",\"2021-05-21T00:00:00\",\"2021-05-24T00:00:00\",\"2021-05-25T00:00:00\",\"2021-05-26T00:00:00\",\"2021-05-27T00:00:00\",\"2021-05-28T00:00:00\",\"2021-05-31T00:00:00\",\"2021-06-01T00:00:00\",\"2021-06-02T00:00:00\",\"2021-06-03T00:00:00\",\"2021-06-04T00:00:00\",\"2021-06-07T00:00:00\",\"2021-06-08T00:00:00\",\"2021-06-09T00:00:00\",\"2021-06-10T00:00:00\",\"2021-06-11T00:00:00\",\"2021-06-15T00:00:00\",\"2021-06-16T00:00:00\",\"2021-06-17T00:00:00\",\"2021-06-18T00:00:00\",\"2021-06-21T00:00:00\",\"2021-06-22T00:00:00\",\"2021-06-23T00:00:00\",\"2021-06-24T00:00:00\",\"2021-06-25T00:00:00\",\"2021-06-28T00:00:00\",\"2021-06-29T00:00:00\",\"2021-06-30T00:00:00\",\"2021-07-01T00:00:00\",\"2021-07-02T00:00:00\",\"2021-07-05T00:00:00\",\"2021-07-06T00:00:00\",\"2021-07-07T00:00:00\",\"2021-07-08T00:00:00\",\"2021-07-09T00:00:00\",\"2021-07-12T00:00:00\",\"2021-07-13T00:00:00\",\"2021-07-14T00:00:00\",\"2021-07-15T00:00:00\",\"2021-07-16T00:00:00\",\"2021-07-19T00:00:00\",\"2021-07-20T00:00:00\",\"2021-07-21T00:00:00\",\"2021-07-22T00:00:00\",\"2021-07-23T00:00:00\",\"2021-07-26T00:00:00\",\"2021-07-27T00:00:00\",\"2021-07-28T00:00:00\",\"2021-07-29T00:00:00\",\"2021-07-30T00:00:00\",\"2021-08-02T00:00:00\",\"2021-08-03T00:00:00\",\"2021-08-04T00:00:00\",\"2021-08-05T00:00:00\",\"2021-08-06T00:00:00\",\"2021-08-09T00:00:00\",\"2021-08-10T00:00:00\",\"2021-08-11T00:00:00\",\"2021-08-12T00:00:00\",\"2021-08-13T00:00:00\",\"2021-08-16T00:00:00\",\"2021-08-17T00:00:00\",\"2021-08-18T00:00:00\",\"2021-08-19T00:00:00\",\"2021-08-20T00:00:00\",\"2021-08-23T00:00:00\",\"2021-08-24T00:00:00\",\"2021-08-25T00:00:00\",\"2021-08-26T00:00:00\",\"2021-08-27T00:00:00\",\"2021-08-30T00:00:00\",\"2021-08-31T00:00:00\",\"2021-09-01T00:00:00\",\"2021-09-02T00:00:00\",\"2021-09-03T00:00:00\",\"2021-09-06T00:00:00\",\"2021-09-07T00:00:00\",\"2021-09-08T00:00:00\",\"2021-09-09T00:00:00\",\"2021-09-10T00:00:00\",\"2021-09-13T00:00:00\",\"2021-09-14T00:00:00\",\"2021-09-15T00:00:00\",\"2021-09-16T00:00:00\",\"2021-09-17T00:00:00\",\"2021-09-22T00:00:00\",\"2021-09-23T00:00:00\",\"2021-09-24T00:00:00\",\"2021-09-27T00:00:00\",\"2021-09-28T00:00:00\",\"2021-09-29T00:00:00\",\"2021-09-30T00:00:00\",\"2021-10-08T00:00:00\",\"2021-10-11T00:00:00\",\"2021-10-12T00:00:00\",\"2021-10-13T00:00:00\",\"2021-10-14T00:00:00\",\"2021-10-15T00:00:00\",\"2021-10-18T00:00:00\",\"2021-10-19T00:00:00\",\"2021-10-20T00:00:00\",\"2021-10-21T00:00:00\",\"2021-10-22T00:00:00\",\"2021-10-25T00:00:00\",\"2021-10-26T00:00:00\",\"2021-10-27T00:00:00\",\"2021-10-28T00:00:00\",\"2021-10-29T00:00:00\",\"2021-11-01T00:00:00\",\"2021-11-02T00:00:00\",\"2021-11-03T00:00:00\",\"2021-11-04T00:00:00\",\"2021-11-05T00:00:00\",\"2021-11-08T00:00:00\",\"2021-11-09T00:00:00\",\"2021-11-10T00:00:00\",\"2021-11-11T00:00:00\",\"2021-11-12T00:00:00\",\"2021-11-15T00:00:00\",\"2021-11-16T00:00:00\",\"2021-11-17T00:00:00\",\"2021-11-18T00:00:00\",\"2021-11-19T00:00:00\",\"2021-11-22T00:00:00\",\"2021-11-23T00:00:00\",\"2021-11-24T00:00:00\",\"2021-11-25T00:00:00\",\"2021-11-26T00:00:00\",\"2021-11-29T00:00:00\",\"2021-11-30T00:00:00\",\"2021-12-01T00:00:00\",\"2021-12-02T00:00:00\",\"2021-12-03T00:00:00\",\"2021-12-06T00:00:00\",\"2021-12-07T00:00:00\",\"2021-12-08T00:00:00\",\"2021-12-09T00:00:00\",\"2021-12-10T00:00:00\",\"2021-12-13T00:00:00\",\"2021-12-14T00:00:00\",\"2021-12-15T00:00:00\",\"2021-12-16T00:00:00\",\"2021-12-17T00:00:00\",\"2021-12-20T00:00:00\",\"2021-12-21T00:00:00\",\"2021-12-22T00:00:00\",\"2021-12-23T00:00:00\",\"2021-12-24T00:00:00\",\"2021-12-27T00:00:00\",\"2021-12-28T00:00:00\",\"2021-12-29T00:00:00\",\"2021-12-30T00:00:00\",\"2021-12-31T00:00:00\",\"2022-01-04T00:00:00\",\"2022-01-05T00:00:00\",\"2022-01-06T00:00:00\",\"2022-01-07T00:00:00\",\"2022-01-10T00:00:00\",\"2022-01-11T00:00:00\",\"2022-01-12T00:00:00\",\"2022-01-13T00:00:00\",\"2022-01-14T00:00:00\",\"2022-01-17T00:00:00\",\"2022-01-18T00:00:00\",\"2022-01-19T00:00:00\",\"2022-01-20T00:00:00\"],\"y\":[null,-0.030769230769230327,-0.028571428571428026,-0.07252747252747171,-0.08131868131868014,-0.1296703296703282,-0.1296703296703271,-0.10337259862439419,-0.08458850502015647,-0.0409458342636434,-0.033945438893305147,-0.005943857411951581,-0.010610787658843601,-0.017611183029181743,-0.026945043522966117,-0.05728009012776547,-0.06661395062154973,-0.06894741574499541,-0.059613555251208816,-0.08984485682658006,-0.10142280211076427,-0.05446780179157018,-0.05060848669684159,-0.06990506217048253,-0.05961355525120715,-0.04739239078456725,-0.04674917160211234,-0.046749171602111894,-0.056397459338932365,-0.05060848669683826,-0.024526302265432398,-0.03495917603799448,-0.008876991606588724,-0.008876991606588724,-0.001052336277166721,0.03546272192680178,0.006772319052255726,0.10706565302838733,0.09857154315860561,0.11272839294157744,0.11272839294157744,0.095740173202012,0.07308921354925735,0.07592058350585229,0.06459510367947496,0.06289193442355567,0.08121358499602804,0.09449101402733384,0.09168462681187983,0.09168462681188005,0.09729740124279052,0.06923352908824376,0.06571631353203311,0.10370224153911556,0.1086263433178245,0.06299281344759922,-0.0067996440009799874,-0.014852619860431071,0.0066219824314395215,0.020043608863858475,0.0227279341503428,0.05493983758814913,0.03078091000979466,0.02004360886385914,-0.0014309934280114511,-0.012168294573946747,0.009306307717923845,0.009306307717924067,0.04151821115573018,0.03346523529627898,0.04151821115573062,0.025412259436827567,0.02272793415034524,-0.009483969287461091,-0.022905595719879157,-0.030958571579329797,-0.1275942818927468,-0.12759428189274646,-0.17054348647648765,-0.2108083657737455,-0.25107324507100337,-0.26449487150342255,-0.25912622093045423,-0.2537575703574865,-0.24570459449803428,-0.2483889197845176,-0.2375110199330177,-0.2349210437778989,-0.2468349340914444,-0.2287051010056128,-0.24683493409144452,-0.24890691501553863,-0.2447629531673472,-0.22818710577458612,-0.2209351725402533,-0.24838891978451283,-0.26703674810136835,-0.26133880056010694,-0.24631693886041783,-0.2318130723917522,-0.21420123453694406,-0.21989918207820547,-0.23025908669868078,-0.22766911054356176,-0.2468349340914412,-0.2665187528703441,-0.26082080532908236,-0.2768786574908191,-0.2867205668802707,-0.27273469564262887,-0.26289278625317714,-0.26807273856341485,-0.2525328816327015,-0.25201488640167624,-0.25823082917396056,-0.2468349340914373,-0.2675547433323845,-0.2742886813356926,-0.27687865749079765,-0.28654405030462105,-0.30760358517677056,-0.31305552545096715,-0.3045150272194833,-0.32362452032552524,-0.3452484204192069,-0.3353058504363332,-0.32573828313200404,-0.34084496834935885,-0.3332916257406766,-0.34235563687108994,-0.3504125356536796,-0.35746232208844486,-0.3635049961753867,-0.3660227770449457,-0.36803700174059284,-0.38666858017533245,-0.3937183666100986,-0.4053001586100713,-0.3881792486970673,-0.398250372175305,-0.339334299827615,-0.348398310958029,-0.3363129627841428,-0.33379518191458335,-0.32976673252328803,-0.3045889238276941,-0.3101280417407243,-0.32170983374069706,-0.31163871026245926,-0.31365293495810653,-0.3126458226102826,-0.31163871026245826,-0.31264582261028184,-0.3040853676537796,-0.288978682436423,-0.2819288960016564,-0.28998579478424613,-0.2854537892190354,-0.30861737321897986,-0.27453513105371763,-0.23882992497582467,-0.20150175498529943,-0.21773139411161435,-0.2209773219368767,-0.1950098993347713,-0.2128625023737174,-0.2106199454004205,-0.1718488228758831,-0.12997601054938246,-0.0865523533219007,-0.07569643901503009,-0.11912009624251141,-0.1625437534699925,-0.20441656579649226,-0.20263872572005925,-0.21908374642705875,-0.23508430711494965,-0.2306397069238687,-0.2528627078792738,-0.23286200701940796,-0.2515293278219477,-0.24930702772640512,-0.22086158650348586,-0.21463914623597202,-0.21197238612132296,-0.208861165987566,-0.18441586493661977,-0.18775568530951547,-0.21180239199442974,-0.22088300959816942,-0.20453789791140586,-0.22451525663965555,-0.24267649184715456,-0.28081508578289105,-0.24449261536788536,-0.20635402143212933,-0.1663993039756213,-0.14911492696264017,-0.1330426533608211,-0.1183885215474001,-0.12500651655991257,-0.12863719491443004,-0.10866846396455143,-0.09414575054645813,-0.04876227111491738,-0.07599235877384025,-0.06873100206479243,-0.0759923587738387,-0.0705463412420535,-0.046946931937652536,-0.017901505101466597,-0.023347522633251128,0.020220617621028003,0.04926604445721394,-0.0033787916833725173,-0.05239294946943618,-0.032424218519558234,0.016589939266505427,-0.0051941308606338055,-0.054208288646697356,-0.1014071072554994,-0.11048380314180717,-0.14315990833251635,-0.13408321244620836,-0.09051507219192934,-0.10322244643276046,-0.09414575054645224,-0.09596108972371376,-0.12319117738263763,-0.1358985516234692,-0.13226787326894562,-0.1377138908007306,-0.1413445691552534,-0.17220533516870085,-0.13045253409168367,-0.13952922997799166,-0.14679058668703782,-0.13045253409168311,-0.12137583820537445,-0.1268218557371591,-0.1286371949144205,-0.1159298206735887,-0.12137583820537357,-0.12500651655989647,-0.12500651655989647,-0.1268218557371581,-0.12319117738263452,-0.13589855162346576,-0.13045253409168056,-0.13226787326894185,-0.13408321244620347,-0.1377138908007266,-0.1794666918777441,-0.1558672825733427,-0.12137583820537179,-0.12319117738263297]},{\"line\":{\"width\":2},\"mode\":\"lines\",\"name\":\"RF\",\"type\":\"scatter\",\"x\":[\"2021-01-04T00:00:00\",\"2021-01-05T00:00:00\",\"2021-01-06T00:00:00\",\"2021-01-07T00:00:00\",\"2021-01-08T00:00:00\",\"2021-01-11T00:00:00\",\"2021-01-12T00:00:00\",\"2021-01-13T00:00:00\",\"2021-01-14T00:00:00\",\"2021-01-15T00:00:00\",\"2021-01-18T00:00:00\",\"2021-01-19T00:00:00\",\"2021-01-20T00:00:00\",\"2021-01-21T00:00:00\",\"2021-01-22T00:00:00\",\"2021-01-25T00:00:00\",\"2021-01-26T00:00:00\",\"2021-01-27T00:00:00\",\"2021-01-28T00:00:00\",\"2021-01-29T00:00:00\",\"2021-02-01T00:00:00\",\"2021-02-02T00:00:00\",\"2021-02-03T00:00:00\",\"2021-02-04T00:00:00\",\"2021-02-05T00:00:00\",\"2021-02-08T00:00:00\",\"2021-02-09T00:00:00\",\"2021-02-10T00:00:00\",\"2021-02-18T00:00:00\",\"2021-02-19T00:00:00\",\"2021-02-22T00:00:00\",\"2021-02-23T00:00:00\",\"2021-02-24T00:00:00\",\"2021-02-25T00:00:00\",\"2021-02-26T00:00:00\",\"2021-03-01T00:00:00\",\"2021-03-02T00:00:00\",\"2021-03-03T00:00:00\",\"2021-03-04T00:00:00\",\"2021-03-05T00:00:00\",\"2021-03-08T00:00:00\",\"2021-03-09T00:00:00\",\"2021-03-10T00:00:00\",\"2021-03-11T00:00:00\",\"2021-03-12T00:00:00\",\"2021-03-15T00:00:00\",\"2021-03-16T00:00:00\",\"2021-03-17T00:00:00\",\"2021-03-18T00:00:00\",\"2021-03-19T00:00:00\",\"2021-03-22T00:00:00\",\"2021-03-23T00:00:00\",\"2021-03-24T00:00:00\",\"2021-03-25T00:00:00\",\"2021-03-26T00:00:00\",\"2021-03-29T00:00:00\",\"2021-03-30T00:00:00\",\"2021-03-31T00:00:00\",\"2021-04-01T00:00:00\",\"2021-04-02T00:00:00\",\"2021-04-06T00:00:00\",\"2021-04-07T00:00:00\",\"2021-04-08T00:00:00\",\"2021-04-09T00:00:00\",\"2021-04-12T00:00:00\",\"2021-04-13T00:00:00\",\"2021-04-14T00:00:00\",\"2021-04-15T00:00:00\",\"2021-04-16T00:00:00\",\"2021-04-19T00:00:00\",\"2021-04-20T00:00:00\",\"2021-04-21T00:00:00\",\"2021-04-22T00:00:00\",\"2021-04-23T00:00:00\",\"2021-04-26T00:00:00\",\"2021-04-27T00:00:00\",\"2021-04-28T00:00:00\",\"2021-04-29T00:00:00\",\"2021-04-30T00:00:00\",\"2021-05-06T00:00:00\",\"2021-05-07T00:00:00\",\"2021-05-10T00:00:00\",\"2021-05-11T00:00:00\",\"2021-05-12T00:00:00\",\"2021-05-13T00:00:00\",\"2021-05-14T00:00:00\",\"2021-05-17T00:00:00\",\"2021-05-18T00:00:00\",\"2021-05-19T00:00:00\",\"2021-05-20T00:00:00\",\"2021-05-21T00:00:00\",\"2021-05-24T00:00:00\",\"2021-05-25T00:00:00\",\"2021-05-26T00:00:00\",\"2021-05-27T00:00:00\",\"2021-05-28T00:00:00\",\"2021-05-31T00:00:00\",\"2021-06-01T00:00:00\",\"2021-06-02T00:00:00\",\"2021-06-03T00:00:00\",\"2021-06-04T00:00:00\",\"2021-06-07T00:00:00\",\"2021-06-08T00:00:00\",\"2021-06-09T00:00:00\",\"2021-06-10T00:00:00\",\"2021-06-11T00:00:00\",\"2021-06-15T00:00:00\",\"2021-06-16T00:00:00\",\"2021-06-17T00:00:00\",\"2021-06-18T00:00:00\",\"2021-06-21T00:00:00\",\"2021-06-22T00:00:00\",\"2021-06-23T00:00:00\",\"2021-06-24T00:00:00\",\"2021-06-25T00:00:00\",\"2021-06-28T00:00:00\",\"2021-06-29T00:00:00\",\"2021-06-30T00:00:00\",\"2021-07-01T00:00:00\",\"2021-07-02T00:00:00\",\"2021-07-05T00:00:00\",\"2021-07-06T00:00:00\",\"2021-07-07T00:00:00\",\"2021-07-08T00:00:00\",\"2021-07-09T00:00:00\",\"2021-07-12T00:00:00\",\"2021-07-13T00:00:00\",\"2021-07-14T00:00:00\",\"2021-07-15T00:00:00\",\"2021-07-16T00:00:00\",\"2021-07-19T00:00:00\",\"2021-07-20T00:00:00\",\"2021-07-21T00:00:00\",\"2021-07-22T00:00:00\",\"2021-07-23T00:00:00\",\"2021-07-26T00:00:00\",\"2021-07-27T00:00:00\",\"2021-07-28T00:00:00\",\"2021-07-29T00:00:00\",\"2021-07-30T00:00:00\",\"2021-08-02T00:00:00\",\"2021-08-03T00:00:00\",\"2021-08-04T00:00:00\",\"2021-08-05T00:00:00\",\"2021-08-06T00:00:00\",\"2021-08-09T00:00:00\",\"2021-08-10T00:00:00\",\"2021-08-11T00:00:00\",\"2021-08-12T00:00:00\",\"2021-08-13T00:00:00\",\"2021-08-16T00:00:00\",\"2021-08-17T00:00:00\",\"2021-08-18T00:00:00\",\"2021-08-19T00:00:00\",\"2021-08-20T00:00:00\",\"2021-08-23T00:00:00\",\"2021-08-24T00:00:00\",\"2021-08-25T00:00:00\",\"2021-08-26T00:00:00\",\"2021-08-27T00:00:00\",\"2021-08-30T00:00:00\",\"2021-08-31T00:00:00\",\"2021-09-01T00:00:00\",\"2021-09-02T00:00:00\",\"2021-09-03T00:00:00\",\"2021-09-06T00:00:00\",\"2021-09-07T00:00:00\",\"2021-09-08T00:00:00\",\"2021-09-09T00:00:00\",\"2021-09-10T00:00:00\",\"2021-09-13T00:00:00\",\"2021-09-14T00:00:00\",\"2021-09-15T00:00:00\",\"2021-09-16T00:00:00\",\"2021-09-17T00:00:00\",\"2021-09-22T00:00:00\",\"2021-09-23T00:00:00\",\"2021-09-24T00:00:00\",\"2021-09-27T00:00:00\",\"2021-09-28T00:00:00\",\"2021-09-29T00:00:00\",\"2021-09-30T00:00:00\",\"2021-10-08T00:00:00\",\"2021-10-11T00:00:00\",\"2021-10-12T00:00:00\",\"2021-10-13T00:00:00\",\"2021-10-14T00:00:00\",\"2021-10-15T00:00:00\",\"2021-10-18T00:00:00\",\"2021-10-19T00:00:00\",\"2021-10-20T00:00:00\",\"2021-10-21T00:00:00\",\"2021-10-22T00:00:00\",\"2021-10-25T00:00:00\",\"2021-10-26T00:00:00\",\"2021-10-27T00:00:00\",\"2021-10-28T00:00:00\",\"2021-10-29T00:00:00\",\"2021-11-01T00:00:00\",\"2021-11-02T00:00:00\",\"2021-11-03T00:00:00\",\"2021-11-04T00:00:00\",\"2021-11-05T00:00:00\",\"2021-11-08T00:00:00\",\"2021-11-09T00:00:00\",\"2021-11-10T00:00:00\",\"2021-11-11T00:00:00\",\"2021-11-12T00:00:00\",\"2021-11-15T00:00:00\",\"2021-11-16T00:00:00\",\"2021-11-17T00:00:00\",\"2021-11-18T00:00:00\",\"2021-11-19T00:00:00\",\"2021-11-22T00:00:00\",\"2021-11-23T00:00:00\",\"2021-11-24T00:00:00\",\"2021-11-25T00:00:00\",\"2021-11-26T00:00:00\",\"2021-11-29T00:00:00\",\"2021-11-30T00:00:00\",\"2021-12-01T00:00:00\",\"2021-12-02T00:00:00\",\"2021-12-03T00:00:00\",\"2021-12-06T00:00:00\",\"2021-12-07T00:00:00\",\"2021-12-08T00:00:00\",\"2021-12-09T00:00:00\",\"2021-12-10T00:00:00\",\"2021-12-13T00:00:00\",\"2021-12-14T00:00:00\",\"2021-12-15T00:00:00\",\"2021-12-16T00:00:00\",\"2021-12-17T00:00:00\",\"2021-12-20T00:00:00\",\"2021-12-21T00:00:00\",\"2021-12-22T00:00:00\",\"2021-12-23T00:00:00\",\"2021-12-24T00:00:00\",\"2021-12-27T00:00:00\",\"2021-12-28T00:00:00\",\"2021-12-29T00:00:00\",\"2021-12-30T00:00:00\",\"2021-12-31T00:00:00\",\"2022-01-04T00:00:00\",\"2022-01-05T00:00:00\",\"2022-01-06T00:00:00\",\"2022-01-07T00:00:00\",\"2022-01-10T00:00:00\",\"2022-01-11T00:00:00\",\"2022-01-12T00:00:00\",\"2022-01-13T00:00:00\",\"2022-01-14T00:00:00\",\"2022-01-17T00:00:00\",\"2022-01-18T00:00:00\",\"2022-01-19T00:00:00\",\"2022-01-20T00:00:00\"],\"y\":[null,-0.030769230769230327,-0.012374945754936029,-0.023139251523274118,0.009153665781741926,0.019379756261665104,0.1218827087915395,0.15578132301401793,0.16164823328312483,0.22759679919454712,0.3062583416672078,0.3441209022952427,0.33781047552390375,0.33097716435494107,0.314273514830808,0.3575511522342496,0.4934581188169851,0.6430317077376488,0.6595032035545683,0.5812635984242072,0.6314624428186262,0.7167142383274021,0.7237212352185345,0.735082862945964,0.7542815668236507,0.777080027678404,0.7991555559725454,0.7936366738990104,0.8819387870755773,1.0088730747668921,1.0640618955022463,1.0419863672081053,1.0971751879434595,1.1891433306210657,1.198189377441814,1.3070705243706877,1.5381161004317834,1.7909598873670758,1.7695458728859985,1.8630484344284022,1.8630484344284062,1.8193377713073633,1.7787021548369073,1.8793236813351792,1.924086829558981,1.9551941362564174,2.056292883023085,2.1509475146377026,2.255254742708469,2.2552547427084733,2.3859244302190463,2.5034752443382913,2.475888825091534,2.5997818921244997,2.9645597905264487,3.0450584664762257,3.116344332893635,3.0829685680323387,3.1719706076624723,3.523188818770559,3.5350919472410096,3.677929488886398,3.7457255684354767,3.770062622632583,3.709227041358429,3.658590191451352,3.759863891265513,3.759863891265514,3.9880331323912683,4.055478612723426,4.09487195256283,4.230299346352311,4.7533292809875425,4.8050678536582945,4.716677931606717,4.886291025273277,4.831345938592565,5.116400212437996,5.00424447293488,5.038930767214155,4.972009991868328,4.985394146937514,5.029083155309323,5.04023233473252,5.105414698056972,5.279855118001458,5.370742063196516,5.392381812052484,5.292838967315069,5.444317209306836,5.498471135435468,5.68800987688567,5.724909241723664,5.872506701075624,6.035115118556438,6.119875541671575,6.091622067299861,6.232889439158429,6.379981861132909,6.668262402583415,6.844068823141633,7.023020963593535,7.231798460787418,7.41075060123932,7.112497033819491,7.02302096359354,6.963370250109585,7.112497033819507,7.112497033819507,7.271565603110087,7.577919884706757,7.731097025505093,7.976180450782429,8.435711873177436,8.680795298454774,8.829522600526005,8.55910932403286,8.471225009172588,8.437423349610945,8.567147381908004,9.021181494947704,9.086043511096232,9.394186420153572,9.261776402062445,9.361083915630791,9.534763687920075,10.115505426512271,10.047312141687048,10.173904717794994,10.30119536093976,10.746393966067691,10.618913721474746,10.765988578708674,10.358704358676452,10.32261633847415,9.988802151602808,9.862494080894727,10.391798069676822,10.719758386670064,10.78760961943501,11.941710310208146,12.590959991322267,13.283492984510662,14.019309289773332,14.755125595036002,15.534225212372949,15.402526097719722,16.2048235698908,16.383111897039935,16.65054438776363,17.40826977814742,17.435241601998186,18.37581515312054,18.617125671511054,19.04296776278843,19.806024911117937,19.653413481452038,19.65341348145204,20.670823012558053,21.739103020219364,22.85825350443598,24.028274465207886,23.519569699654888,24.178697917387545,25.01798784796713,26.362737781682302,27.716770166755236,29.127220567872875,30.650507001079937,32.2302114503317,32.107848756932285,31.297433452586937,30.987568777396064,30.06768752660822,30.337627939556636,31.827868398638813,32.551699478763844,32.74665415324823,32.412528864602216,33.30697490797348,32.472158600827,34.15780687568879,35.30757660133958,37.15508603016882,39.082921955903664,39.241173762836176,40.48458081730583,40.31470128897944,39.3216704586686,39.28749955150023,38.945790479816644,39.90257588053084,41.50860851744392,40.68850674540321,42.79398688405994,45.0047410296495,48.48283590516297,49.5628243213778,52.13927396832699,53.03748416081234,54.41716460747137,54.187217866361536,55.45192494246566,56.371711906905034,59.24604617077803,57.52144561245424,60.26563553757531,59.787930777048395,60.14620934744358,61.69874981915601,63.609568861263625,63.251290290868454,66.1175188540299,68.4768440183636,68.8828022054492,68.94079623217573,70.41464442863919,74.03227181995864,72.03714884664392,71.52858808874016,72.80888090584061,75.56151046260658,79.43591033200143,87.5068605183757,94.2098530460425,94.89383187539632,96.3985852999746,95.92508707294509,101.03886792486404,99.56004375203993,101.0111266344648,100.37088943801422,101.23936921425616,102.20434674341386,107.40982914494579,109.04373764750719,114.19054943057546,116.39632590903327,121.92395560430168,121.16203025964691,120.90805514476209,122.26636216587364,128.32864227239207,130.37741284304383,140.27980393452742,147.22290970050685,149.09153189136384,146.91629229873544,146.9775412810538,146.66861113224158,143.30684679786512,142.7017866435764,135.7435948692559,139.67648587213273,145.42455733787628,145.1220272607319]},{\"line\":{\"width\":2},\"mode\":\"lines\",\"name\":\"DT\",\"type\":\"scatter\",\"x\":[\"2021-01-04T00:00:00\",\"2021-01-05T00:00:00\",\"2021-01-06T00:00:00\",\"2021-01-07T00:00:00\",\"2021-01-08T00:00:00\",\"2021-01-11T00:00:00\",\"2021-01-12T00:00:00\",\"2021-01-13T00:00:00\",\"2021-01-14T00:00:00\",\"2021-01-15T00:00:00\",\"2021-01-18T00:00:00\",\"2021-01-19T00:00:00\",\"2021-01-20T00:00:00\",\"2021-01-21T00:00:00\",\"2021-01-22T00:00:00\",\"2021-01-25T00:00:00\",\"2021-01-26T00:00:00\",\"2021-01-27T00:00:00\",\"2021-01-28T00:00:00\",\"2021-01-29T00:00:00\",\"2021-02-01T00:00:00\",\"2021-02-02T00:00:00\",\"2021-02-03T00:00:00\",\"2021-02-04T00:00:00\",\"2021-02-05T00:00:00\",\"2021-02-08T00:00:00\",\"2021-02-09T00:00:00\",\"2021-02-10T00:00:00\",\"2021-02-18T00:00:00\",\"2021-02-19T00:00:00\",\"2021-02-22T00:00:00\",\"2021-02-23T00:00:00\",\"2021-02-24T00:00:00\",\"2021-02-25T00:00:00\",\"2021-02-26T00:00:00\",\"2021-03-01T00:00:00\",\"2021-03-02T00:00:00\",\"2021-03-03T00:00:00\",\"2021-03-04T00:00:00\",\"2021-03-05T00:00:00\",\"2021-03-08T00:00:00\",\"2021-03-09T00:00:00\",\"2021-03-10T00:00:00\",\"2021-03-11T00:00:00\",\"2021-03-12T00:00:00\",\"2021-03-15T00:00:00\",\"2021-03-16T00:00:00\",\"2021-03-17T00:00:00\",\"2021-03-18T00:00:00\",\"2021-03-19T00:00:00\",\"2021-03-22T00:00:00\",\"2021-03-23T00:00:00\",\"2021-03-24T00:00:00\",\"2021-03-25T00:00:00\",\"2021-03-26T00:00:00\",\"2021-03-29T00:00:00\",\"2021-03-30T00:00:00\",\"2021-03-31T00:00:00\",\"2021-04-01T00:00:00\",\"2021-04-02T00:00:00\",\"2021-04-06T00:00:00\",\"2021-04-07T00:00:00\",\"2021-04-08T00:00:00\",\"2021-04-09T00:00:00\",\"2021-04-12T00:00:00\",\"2021-04-13T00:00:00\",\"2021-04-14T00:00:00\",\"2021-04-15T00:00:00\",\"2021-04-16T00:00:00\",\"2021-04-19T00:00:00\",\"2021-04-20T00:00:00\",\"2021-04-21T00:00:00\",\"2021-04-22T00:00:00\",\"2021-04-23T00:00:00\",\"2021-04-26T00:00:00\",\"2021-04-27T00:00:00\",\"2021-04-28T00:00:00\",\"2021-04-29T00:00:00\",\"2021-04-30T00:00:00\",\"2021-05-06T00:00:00\",\"2021-05-07T00:00:00\",\"2021-05-10T00:00:00\",\"2021-05-11T00:00:00\",\"2021-05-12T00:00:00\",\"2021-05-13T00:00:00\",\"2021-05-14T00:00:00\",\"2021-05-17T00:00:00\",\"2021-05-18T00:00:00\",\"2021-05-19T00:00:00\",\"2021-05-20T00:00:00\",\"2021-05-21T00:00:00\",\"2021-05-24T00:00:00\",\"2021-05-25T00:00:00\",\"2021-05-26T00:00:00\",\"2021-05-27T00:00:00\",\"2021-05-28T00:00:00\",\"2021-05-31T00:00:00\",\"2021-06-01T00:00:00\",\"2021-06-02T00:00:00\",\"2021-06-03T00:00:00\",\"2021-06-04T00:00:00\",\"2021-06-07T00:00:00\",\"2021-06-08T00:00:00\",\"2021-06-09T00:00:00\",\"2021-06-10T00:00:00\",\"2021-06-11T00:00:00\",\"2021-06-15T00:00:00\",\"2021-06-16T00:00:00\",\"2021-06-17T00:00:00\",\"2021-06-18T00:00:00\",\"2021-06-21T00:00:00\",\"2021-06-22T00:00:00\",\"2021-06-23T00:00:00\",\"2021-06-24T00:00:00\",\"2021-06-25T00:00:00\",\"2021-06-28T00:00:00\",\"2021-06-29T00:00:00\",\"2021-06-30T00:00:00\",\"2021-07-01T00:00:00\",\"2021-07-02T00:00:00\",\"2021-07-05T00:00:00\",\"2021-07-06T00:00:00\",\"2021-07-07T00:00:00\",\"2021-07-08T00:00:00\",\"2021-07-09T00:00:00\",\"2021-07-12T00:00:00\",\"2021-07-13T00:00:00\",\"2021-07-14T00:00:00\",\"2021-07-15T00:00:00\",\"2021-07-16T00:00:00\",\"2021-07-19T00:00:00\",\"2021-07-20T00:00:00\",\"2021-07-21T00:00:00\",\"2021-07-22T00:00:00\",\"2021-07-23T00:00:00\",\"2021-07-26T00:00:00\",\"2021-07-27T00:00:00\",\"2021-07-28T00:00:00\",\"2021-07-29T00:00:00\",\"2021-07-30T00:00:00\",\"2021-08-02T00:00:00\",\"2021-08-03T00:00:00\",\"2021-08-04T00:00:00\",\"2021-08-05T00:00:00\",\"2021-08-06T00:00:00\",\"2021-08-09T00:00:00\",\"2021-08-10T00:00:00\",\"2021-08-11T00:00:00\",\"2021-08-12T00:00:00\",\"2021-08-13T00:00:00\",\"2021-08-16T00:00:00\",\"2021-08-17T00:00:00\",\"2021-08-18T00:00:00\",\"2021-08-19T00:00:00\",\"2021-08-20T00:00:00\",\"2021-08-23T00:00:00\",\"2021-08-24T00:00:00\",\"2021-08-25T00:00:00\",\"2021-08-26T00:00:00\",\"2021-08-27T00:00:00\",\"2021-08-30T00:00:00\",\"2021-08-31T00:00:00\",\"2021-09-01T00:00:00\",\"2021-09-02T00:00:00\",\"2021-09-03T00:00:00\",\"2021-09-06T00:00:00\",\"2021-09-07T00:00:00\",\"2021-09-08T00:00:00\",\"2021-09-09T00:00:00\",\"2021-09-10T00:00:00\",\"2021-09-13T00:00:00\",\"2021-09-14T00:00:00\",\"2021-09-15T00:00:00\",\"2021-09-16T00:00:00\",\"2021-09-17T00:00:00\",\"2021-09-22T00:00:00\",\"2021-09-23T00:00:00\",\"2021-09-24T00:00:00\",\"2021-09-27T00:00:00\",\"2021-09-28T00:00:00\",\"2021-09-29T00:00:00\",\"2021-09-30T00:00:00\",\"2021-10-08T00:00:00\",\"2021-10-11T00:00:00\",\"2021-10-12T00:00:00\",\"2021-10-13T00:00:00\",\"2021-10-14T00:00:00\",\"2021-10-15T00:00:00\",\"2021-10-18T00:00:00\",\"2021-10-19T00:00:00\",\"2021-10-20T00:00:00\",\"2021-10-21T00:00:00\",\"2021-10-22T00:00:00\",\"2021-10-25T00:00:00\",\"2021-10-26T00:00:00\",\"2021-10-27T00:00:00\",\"2021-10-28T00:00:00\",\"2021-10-29T00:00:00\",\"2021-11-01T00:00:00\",\"2021-11-02T00:00:00\",\"2021-11-03T00:00:00\",\"2021-11-04T00:00:00\",\"2021-11-05T00:00:00\",\"2021-11-08T00:00:00\",\"2021-11-09T00:00:00\",\"2021-11-10T00:00:00\",\"2021-11-11T00:00:00\",\"2021-11-12T00:00:00\",\"2021-11-15T00:00:00\",\"2021-11-16T00:00:00\",\"2021-11-17T00:00:00\",\"2021-11-18T00:00:00\",\"2021-11-19T00:00:00\",\"2021-11-22T00:00:00\",\"2021-11-23T00:00:00\",\"2021-11-24T00:00:00\",\"2021-11-25T00:00:00\",\"2021-11-26T00:00:00\",\"2021-11-29T00:00:00\",\"2021-11-30T00:00:00\",\"2021-12-01T00:00:00\",\"2021-12-02T00:00:00\",\"2021-12-03T00:00:00\",\"2021-12-06T00:00:00\",\"2021-12-07T00:00:00\",\"2021-12-08T00:00:00\",\"2021-12-09T00:00:00\",\"2021-12-10T00:00:00\",\"2021-12-13T00:00:00\",\"2021-12-14T00:00:00\",\"2021-12-15T00:00:00\",\"2021-12-16T00:00:00\",\"2021-12-17T00:00:00\",\"2021-12-20T00:00:00\",\"2021-12-21T00:00:00\",\"2021-12-22T00:00:00\",\"2021-12-23T00:00:00\",\"2021-12-24T00:00:00\",\"2021-12-27T00:00:00\",\"2021-12-28T00:00:00\",\"2021-12-29T00:00:00\",\"2021-12-30T00:00:00\",\"2021-12-31T00:00:00\",\"2022-01-04T00:00:00\",\"2022-01-05T00:00:00\",\"2022-01-06T00:00:00\",\"2022-01-07T00:00:00\",\"2022-01-10T00:00:00\",\"2022-01-11T00:00:00\",\"2022-01-12T00:00:00\",\"2022-01-13T00:00:00\",\"2022-01-14T00:00:00\",\"2022-01-17T00:00:00\",\"2022-01-18T00:00:00\",\"2022-01-19T00:00:00\",\"2022-01-20T00:00:00\"],\"y\":[null,-0.03076923076923077,-0.014461763547352291,-0.02520332470759945,-0.009294180155349774,0.0007449721524097619,0.10137411820415654,0.1346530483944981,0.15842371281617051,0.2241892177161311,0.30263241030765053,0.32710174840182793,0.32087122376144395,0.3141244354448418,0.29763228622648086,0.3403619455649616,0.47454806875071576,0.6222277685696738,0.6384907035929286,0.6384907035929286,0.6905062814847673,0.7788434028508289,0.7861039881685874,0.7978768016499249,0.7533082934705777,0.8054450388879304,0.8278729275697716,0.8222659553993121,0.9119775101266627,1.0409378700472294,1.097007591751824,1.0745797030699866,1.1306494247745809,1.183056846556533,1.2002915058714532,1.298688281840477,1.5287807091477452,1.7806945166843895,1.7593592646382175,1.7949180180485063,1.7949180180485067,1.752247513956163,1.7346595460012302,1.833686214797932,1.877739864227804,1.9083541181025687,1.91236287636322,2.0025599372278764,2.101955024805078,2.101955024805077,2.226471084468624,2.3384860778708703,2.327504215772611,2.4461083264338117,2.7953139701791043,2.872376182771573,2.920540065641866,2.9301728422159274,3.0158441848255393,3.3539188606376715,3.3653765418498764,3.502868716396331,3.569564530049922,3.59299819430659,3.5154868433037727,3.4669332213327655,3.5640404652747817,3.5640404652747817,3.679585793509588,3.7428606161143625,3.668581476534847,3.7926775927763776,4.271945352054016,4.319354932558098,4.224535771549934,4.379547071081922,4.317862463749059,4.610052709009997,4.507181806456724,4.385203204106667,4.426469129042354,4.367410246075823,4.406588423054479,4.445766600033136,4.504533865501119,4.6618062616582945,4.7437483233363285,4.7632583380215765,4.6735122704694465,4.753095474263361,4.617864888904586,4.602409964863585,4.633319812945591,4.756959205273615,4.811051439417128,4.881064107361917,4.852986110321562,4.969579459132753,4.951466300825893,5.183945453201904,5.367814404149753,5.5130877365638185,5.682573291046892,5.705058396333051,5.4672903680942895,5.246375240234562,5.294899341677065,5.412781351820832,5.325501376402068,5.449530815155052,5.688402326827459,5.641400202253832,5.82782547108903,6.17737285015502,6.117727092397502,6.227077648286291,6.0282584557612235,5.890449466432575,5.865858283468863,5.831430627319663,6.155634114717885,6.201948898631916,6.4219786339850575,6.327431135462957,6.398341759354535,6.522357964854453,6.921765388029445,6.873165600372823,6.963385221461894,7.212241009632576,7.512614001551462,7.420229043395091,7.341041936403915,7.308047308490924,7.281651606160533,7.037491359604408,6.842179894975881,7.224311021423002,7.427982029885696,7.331859488579408,8.1476147690512,8.480389237567419,8.959138089253205,9.472184596881403,9.985231104509602,10.528456818468866,10.436629863361583,10.996030237112963,11.120341431279934,11.084875911363973,11.603671089377071,11.622138006724146,12.266124639720275,12.431343774427416,12.72290695332237,13.049697838434271,12.892057469980587,12.980730177235781,13.669436097296655,14.392577313360578,15.150153825427545,15.942165633497552,16.300940905736322,16.76601996234214,16.73944401625038,17.65631415641613,18.57951320745528,19.541178885621065,20.579777818040114,20.53386339715067,20.25837687181399,19.738013435066925,19.427663688310194,18.270806430253877,18.438246296551505,19.362619422066864,19.81160065446004,19.390994335655268,19.189103302628983,19.660182379690323,19.46388611004956,20.161767122093263,20.789877139084783,21.898654073153256,21.976408416355817,21.976408416355838,22.686353620232,22.589357905161446,21.890988756653392,21.87158961363928,21.67759818349815,22.220774187893316,22.736188568232077,22.278255669809592,23.453925148082803,24.688378100269677,25.981614526370205,26.504314278704562,27.75853047161166,28.244634312734867,28.991305827102572,28.866860574707957,29.551309462878354,30.04909047245682,31.604656127389532,31.68747913194683,31.944355195852104,31.687479131946816,31.880136179875784,32.71498338756794,33.74248764318906,33.5498305952601,34.864824640494206,35.885887263711126,36.101414150894755,36.13220370620676,36.91468309465173,38.83531432083483,38.06474053666393,36.959134672418735,37.629198832567354,39.06983677688687,41.097573291448825,43.081228577433336,45.32077196286785,45.65353612926776,46.38561729534759,46.15525454719326,48.64317222726014,47.92370596309696,48.62967574611424,48.441417137309635,48.86499900712001,49.33564552913152,50.559326486361456,50.74758509516606,50.39460020365744,51.38547903763319,53.85205988918094,54.1918180027409,54.077074098369316,54.6907462331701,57.42963539217848,58.35525337858923,62.82907364624117,62.6966481822448,64.03803367344729,63.0954534752814,63.12199403572666,62.9881276598692,61.531399627140345,60.425365380068705,61.04582361623105,62.71748427757061,62.95202716448191,61.785843139717834]},{\"line\":{\"width\":2},\"mode\":\"lines\",\"name\":\"SVM\",\"type\":\"scatter\",\"x\":[\"2021-01-04T00:00:00\",\"2021-01-05T00:00:00\",\"2021-01-06T00:00:00\",\"2021-01-07T00:00:00\",\"2021-01-08T00:00:00\",\"2021-01-11T00:00:00\",\"2021-01-12T00:00:00\",\"2021-01-13T00:00:00\",\"2021-01-14T00:00:00\",\"2021-01-15T00:00:00\",\"2021-01-18T00:00:00\",\"2021-01-19T00:00:00\",\"2021-01-20T00:00:00\",\"2021-01-21T00:00:00\",\"2021-01-22T00:00:00\",\"2021-01-25T00:00:00\",\"2021-01-26T00:00:00\",\"2021-01-27T00:00:00\",\"2021-01-28T00:00:00\",\"2021-01-29T00:00:00\",\"2021-02-01T00:00:00\",\"2021-02-02T00:00:00\",\"2021-02-03T00:00:00\",\"2021-02-04T00:00:00\",\"2021-02-05T00:00:00\",\"2021-02-08T00:00:00\",\"2021-02-09T00:00:00\",\"2021-02-10T00:00:00\",\"2021-02-18T00:00:00\",\"2021-02-19T00:00:00\",\"2021-02-22T00:00:00\",\"2021-02-23T00:00:00\",\"2021-02-24T00:00:00\",\"2021-02-25T00:00:00\",\"2021-02-26T00:00:00\",\"2021-03-01T00:00:00\",\"2021-03-02T00:00:00\",\"2021-03-03T00:00:00\",\"2021-03-04T00:00:00\",\"2021-03-05T00:00:00\",\"2021-03-08T00:00:00\",\"2021-03-09T00:00:00\",\"2021-03-10T00:00:00\",\"2021-03-11T00:00:00\",\"2021-03-12T00:00:00\",\"2021-03-15T00:00:00\",\"2021-03-16T00:00:00\",\"2021-03-17T00:00:00\",\"2021-03-18T00:00:00\",\"2021-03-19T00:00:00\",\"2021-03-22T00:00:00\",\"2021-03-23T00:00:00\",\"2021-03-24T00:00:00\",\"2021-03-25T00:00:00\",\"2021-03-26T00:00:00\",\"2021-03-29T00:00:00\",\"2021-03-30T00:00:00\",\"2021-03-31T00:00:00\",\"2021-04-01T00:00:00\",\"2021-04-02T00:00:00\",\"2021-04-06T00:00:00\",\"2021-04-07T00:00:00\",\"2021-04-08T00:00:00\",\"2021-04-09T00:00:00\",\"2021-04-12T00:00:00\",\"2021-04-13T00:00:00\",\"2021-04-14T00:00:00\",\"2021-04-15T00:00:00\",\"2021-04-16T00:00:00\",\"2021-04-19T00:00:00\",\"2021-04-20T00:00:00\",\"2021-04-21T00:00:00\",\"2021-04-22T00:00:00\",\"2021-04-23T00:00:00\",\"2021-04-26T00:00:00\",\"2021-04-27T00:00:00\",\"2021-04-28T00:00:00\",\"2021-04-29T00:00:00\",\"2021-04-30T00:00:00\",\"2021-05-06T00:00:00\",\"2021-05-07T00:00:00\",\"2021-05-10T00:00:00\",\"2021-05-11T00:00:00\",\"2021-05-12T00:00:00\",\"2021-05-13T00:00:00\",\"2021-05-14T00:00:00\",\"2021-05-17T00:00:00\",\"2021-05-18T00:00:00\",\"2021-05-19T00:00:00\",\"2021-05-20T00:00:00\",\"2021-05-21T00:00:00\",\"2021-05-24T00:00:00\",\"2021-05-25T00:00:00\",\"2021-05-26T00:00:00\",\"2021-05-27T00:00:00\",\"2021-05-28T00:00:00\",\"2021-05-31T00:00:00\",\"2021-06-01T00:00:00\",\"2021-06-02T00:00:00\",\"2021-06-03T00:00:00\",\"2021-06-04T00:00:00\",\"2021-06-07T00:00:00\",\"2021-06-08T00:00:00\",\"2021-06-09T00:00:00\",\"2021-06-10T00:00:00\",\"2021-06-11T00:00:00\",\"2021-06-15T00:00:00\",\"2021-06-16T00:00:00\",\"2021-06-17T00:00:00\",\"2021-06-18T00:00:00\",\"2021-06-21T00:00:00\",\"2021-06-22T00:00:00\",\"2021-06-23T00:00:00\",\"2021-06-24T00:00:00\",\"2021-06-25T00:00:00\",\"2021-06-28T00:00:00\",\"2021-06-29T00:00:00\",\"2021-06-30T00:00:00\",\"2021-07-01T00:00:00\",\"2021-07-02T00:00:00\",\"2021-07-05T00:00:00\",\"2021-07-06T00:00:00\",\"2021-07-07T00:00:00\",\"2021-07-08T00:00:00\",\"2021-07-09T00:00:00\",\"2021-07-12T00:00:00\",\"2021-07-13T00:00:00\",\"2021-07-14T00:00:00\",\"2021-07-15T00:00:00\",\"2021-07-16T00:00:00\",\"2021-07-19T00:00:00\",\"2021-07-20T00:00:00\",\"2021-07-21T00:00:00\",\"2021-07-22T00:00:00\",\"2021-07-23T00:00:00\",\"2021-07-26T00:00:00\",\"2021-07-27T00:00:00\",\"2021-07-28T00:00:00\",\"2021-07-29T00:00:00\",\"2021-07-30T00:00:00\",\"2021-08-02T00:00:00\",\"2021-08-03T00:00:00\",\"2021-08-04T00:00:00\",\"2021-08-05T00:00:00\",\"2021-08-06T00:00:00\",\"2021-08-09T00:00:00\",\"2021-08-10T00:00:00\",\"2021-08-11T00:00:00\",\"2021-08-12T00:00:00\",\"2021-08-13T00:00:00\",\"2021-08-16T00:00:00\",\"2021-08-17T00:00:00\",\"2021-08-18T00:00:00\",\"2021-08-19T00:00:00\",\"2021-08-20T00:00:00\",\"2021-08-23T00:00:00\",\"2021-08-24T00:00:00\",\"2021-08-25T00:00:00\",\"2021-08-26T00:00:00\",\"2021-08-27T00:00:00\",\"2021-08-30T00:00:00\",\"2021-08-31T00:00:00\",\"2021-09-01T00:00:00\",\"2021-09-02T00:00:00\",\"2021-09-03T00:00:00\",\"2021-09-06T00:00:00\",\"2021-09-07T00:00:00\",\"2021-09-08T00:00:00\",\"2021-09-09T00:00:00\",\"2021-09-10T00:00:00\",\"2021-09-13T00:00:00\",\"2021-09-14T00:00:00\",\"2021-09-15T00:00:00\",\"2021-09-16T00:00:00\",\"2021-09-17T00:00:00\",\"2021-09-22T00:00:00\",\"2021-09-23T00:00:00\",\"2021-09-24T00:00:00\",\"2021-09-27T00:00:00\",\"2021-09-28T00:00:00\",\"2021-09-29T00:00:00\",\"2021-09-30T00:00:00\",\"2021-10-08T00:00:00\",\"2021-10-11T00:00:00\",\"2021-10-12T00:00:00\",\"2021-10-13T00:00:00\",\"2021-10-14T00:00:00\",\"2021-10-15T00:00:00\",\"2021-10-18T00:00:00\",\"2021-10-19T00:00:00\",\"2021-10-20T00:00:00\",\"2021-10-21T00:00:00\",\"2021-10-22T00:00:00\",\"2021-10-25T00:00:00\",\"2021-10-26T00:00:00\",\"2021-10-27T00:00:00\",\"2021-10-28T00:00:00\",\"2021-10-29T00:00:00\",\"2021-11-01T00:00:00\",\"2021-11-02T00:00:00\",\"2021-11-03T00:00:00\",\"2021-11-04T00:00:00\",\"2021-11-05T00:00:00\",\"2021-11-08T00:00:00\",\"2021-11-09T00:00:00\",\"2021-11-10T00:00:00\",\"2021-11-11T00:00:00\",\"2021-11-12T00:00:00\",\"2021-11-15T00:00:00\",\"2021-11-16T00:00:00\",\"2021-11-17T00:00:00\",\"2021-11-18T00:00:00\",\"2021-11-19T00:00:00\",\"2021-11-22T00:00:00\",\"2021-11-23T00:00:00\",\"2021-11-24T00:00:00\",\"2021-11-25T00:00:00\",\"2021-11-26T00:00:00\",\"2021-11-29T00:00:00\",\"2021-11-30T00:00:00\",\"2021-12-01T00:00:00\",\"2021-12-02T00:00:00\",\"2021-12-03T00:00:00\",\"2021-12-06T00:00:00\",\"2021-12-07T00:00:00\",\"2021-12-08T00:00:00\",\"2021-12-09T00:00:00\",\"2021-12-10T00:00:00\",\"2021-12-13T00:00:00\",\"2021-12-14T00:00:00\",\"2021-12-15T00:00:00\",\"2021-12-16T00:00:00\",\"2021-12-17T00:00:00\",\"2021-12-20T00:00:00\",\"2021-12-21T00:00:00\",\"2021-12-22T00:00:00\",\"2021-12-23T00:00:00\",\"2021-12-24T00:00:00\",\"2021-12-27T00:00:00\",\"2021-12-28T00:00:00\",\"2021-12-29T00:00:00\",\"2021-12-30T00:00:00\",\"2021-12-31T00:00:00\",\"2022-01-04T00:00:00\",\"2022-01-05T00:00:00\",\"2022-01-06T00:00:00\",\"2022-01-07T00:00:00\",\"2022-01-10T00:00:00\",\"2022-01-11T00:00:00\",\"2022-01-12T00:00:00\",\"2022-01-13T00:00:00\",\"2022-01-14T00:00:00\",\"2022-01-17T00:00:00\",\"2022-01-18T00:00:00\",\"2022-01-19T00:00:00\",\"2022-01-20T00:00:00\"],\"y\":[null,-0.030769230769230438,-0.02857142857142836,-0.07252747252747205,-0.08131868131868081,-0.12967032967032888,-0.12967032967032854,-0.13406593406593292,-0.129670329670328,-0.0967032967032948,-0.0901098901098879,-0.06373626373626118,-0.06813186813186545,-0.07472527472527168,-0.08351648351648033,-0.11208791208790869,-0.12087912087911667,-0.12307692307691864,-0.11428571428570922,-0.15604395604395127,-0.1736263736263688,-0.1956043956043898,-0.23956043956043327,-0.272527472527466,-0.2747252747252681,-0.29230769230768583,-0.28351648351647674,-0.2857142857142788,-0.2505494505494432,-0.19999999999999218,-0.17802197802197006,-0.18681318681317882,-0.1648351648351567,-0.16483516483515692,-0.15824175824175013,-0.12747252747251858,-0.15164835164834267,-0.14065934065933094,-0.1472527472527373,-0.13626373626372512,-0.1362637362637248,-0.1494505494505376,-0.16703296703295478,-0.16483516483515226,-0.17362637362636046,-0.1648351648351507,-0.13626373626372168,-0.14285714285712825,-0.14505494505492889,-0.1450549450549291,-0.1406593406593214,-0.1626373626373433,-0.1692307692307491,-0.17582417582415366,-0.09230769230766689,-0.12967032967030534,-0.1868131868131634,-0.19340659340656952,-0.17582417582415044,-0.16483516483513705,-0.16263736263733353,-0.13626373626370514,-0.15604395604392507,-0.16483516483513372,-0.18241758241754946,-0.19120879120875722,-0.17362637362633904,-0.1736263736263387,-0.14725274725271031,-0.15384615384611622,-0.14725274725270887,-0.16043956043952268,-0.16263736263732376,-0.18901098901095048,-0.19999999999996187,-0.2065934065933689,-0.28571428571425095,-0.28571428571425095,-0.32087912087908677,-0.35384615384612106,-0.38681318681315435,-0.39780219780216586,-0.3934065934065606,-0.3890109890109551,-0.3824175824175483,-0.3846153846153505,-0.41538461538458205,-0.4439560439560116,-0.45054458431721367,-0.4373183535408053,-0.45054458431721356,-0.4520561535488027,-0.44903301508562354,-0.4369404612329073,-0.431649968922344,-0.45167826124090493,-0.4652823843252102,-0.4611255689383388,-0.4501666920093147,-0.43958570738818803,-0.42673736891967695,-0.4308941843065479,-0.43845203046449543,-0.43656256892500833,-0.4505445843172112,-0.46490449201731143,-0.4607476766304389,-0.4724623381752576,-0.4796422920253076,-0.4694391997120776,-0.4622592458620274,-0.46603816894100003,-0.45470139970407875,-0.4543235073961811,-0.4588582150909494,-0.45054458431720634,-0.4656602766331016,-0.47057287663576763,-0.47246233817525407,-0.4751075843305348,-0.4906011689543275,-0.49286852280171156,-0.47737493817791865,-0.49173484587801897,-0.5079842151176064,-0.501182153575453,-0.4940021997254027,-0.5053389689623241,-0.49967058434386313,-0.5064726458860156,-0.5125189228123738,-0.5178094151229368,-0.5223441228177053,-0.5242335843571921,-0.5257451535887812,-0.5397271689809839,-0.5450176612915469,-0.5537091843731865,-0.5408608459046749,-0.5484186920626224,-0.5042052920386274,-0.51100735358078,-0.5019379381912427,-0.5000484766517551,-0.49702533818857564,-0.47813072279370583,-0.4822875381805767,-0.4909790612622158,-0.4834212151042677,-0.48493278433585696,-0.4841769997200621,-0.4834212151042674,-0.4841769997200618,-0.4777528304858062,-0.46641606124888435,-0.4611255689383208,-0.46717184586467897,-0.46377081509360196,-0.48115386125688175,-0.47964229202529185,-0.496269553572776,-0.5181873074308243,-0.5079842151175944,-0.4947579843411857,-0.4955137689569795,-0.4694391997120584,-0.46792763048046837,-0.471706553559442,-0.4671718458646732,-0.468305522788365,-0.4751075843305168,-0.48795592279902755,-0.49286852280169346,-0.5215883382018957,-0.5174315228150242,-0.5144890321004814,-0.5148812057417564,-0.5246855467736524,-0.5293916304689621,-0.5527627007391256,-0.5570119862427916,-0.5347032373485434,-0.5198307380857107,-0.4953973464396295,-0.46990163341763147,-0.47946252580088056,-0.5049582388228782,-0.5208930594616261,-0.5389525228522077,-0.5442641297317904,-0.5347032373485412,-0.5463887724836233,-0.5570119862427889,-0.5793207351370357,-0.5580743076187038,-0.5357655587244554,-0.5123944884542906,-0.4996466319432916,-0.47415091892129313,-0.5007089533192074,-0.4879610968082084,-0.49008573956004153,-0.47840020442495856,-0.46990163341762503,-0.44334359901971,-0.4592784196584585,-0.45502913415479174,-0.45927841965845795,-0.45609145553070807,-0.4422812776437922,-0.4252841356291267,-0.4284710997568765,-0.4029753867348782,-0.38597824472021247,-0.4167855646217934,-0.4454682417715413,-0.4337827066364588,-0.40510002948671087,-0.4178478859977097,-0.44653056314745754,-0.4741509189212888,-0.4794625258008717,-0.4985843105673703,-0.4932727036877872,-0.4677769906657889,-0.4752132402972048,-0.4699016334176218,-0.4709639547935379,-0.48689877543228666,-0.49433502506370275,-0.4922103823118692,-0.49539734643961875,-0.4975219891914515,-0.5155814525820333,-0.4911480609359512,-0.49645966781553397,-0.5007089533192002,-0.49114806093595076,-0.48583645405636744,-0.4890234181841172,-0.49008573956003365,-0.4826494899286169,-0.48583645405636633,-0.4879610968081992,-0.4879610968081983,-0.4890234181841143,-0.48689877543228066,-0.4943350250636963,-0.4911480609359461,-0.4922103823118613,-0.49327270368777787,-0.49539734643961075,-0.5198307380856926,-0.5060205601987762,-0.4858364540563598,-0.4868987754322761]}],                        {\"font\":{\"size\":20},\"legend\":{\"bgcolor\":\"White\",\"bordercolor\":\"white\",\"borderwidth\":2,\"font\":{\"color\":\"black\",\"family\":\"sans-serif\",\"size\":15},\"traceorder\":\"normal\",\"x\":0,\"y\":1},\"paper_bgcolor\":\"rgba(1,1,0,0)\",\"plot_bgcolor\":\"rgba(1, 1, 0, 0)\",\"template\":{\"data\":{\"bar\":[{\"error_x\":{\"color\":\"#2a3f5f\"},\"error_y\":{\"color\":\"#2a3f5f\"},\"marker\":{\"line\":{\"color\":\"#E5ECF6\",\"width\":0.5},\"pattern\":{\"fillmode\":\"overlay\",\"size\":10,\"solidity\":0.2}},\"type\":\"bar\"}],\"barpolar\":[{\"marker\":{\"line\":{\"color\":\"#E5ECF6\",\"width\":0.5},\"pattern\":{\"fillmode\":\"overlay\",\"size\":10,\"solidity\":0.2}},\"type\":\"barpolar\"}],\"carpet\":[{\"aaxis\":{\"endlinecolor\":\"#2a3f5f\",\"gridcolor\":\"white\",\"linecolor\":\"white\",\"minorgridcolor\":\"white\",\"startlinecolor\":\"#2a3f5f\"},\"baxis\":{\"endlinecolor\":\"#2a3f5f\",\"gridcolor\":\"white\",\"linecolor\":\"white\",\"minorgridcolor\":\"white\",\"startlinecolor\":\"#2a3f5f\"},\"type\":\"carpet\"}],\"choropleth\":[{\"colorbar\":{\"outlinewidth\":0,\"ticks\":\"\"},\"type\":\"choropleth\"}],\"contour\":[{\"colorbar\":{\"outlinewidth\":0,\"ticks\":\"\"},\"colorscale\":[[0.0,\"#0d0887\"],[0.1111111111111111,\"#46039f\"],[0.2222222222222222,\"#7201a8\"],[0.3333333333333333,\"#9c179e\"],[0.4444444444444444,\"#bd3786\"],[0.5555555555555556,\"#d8576b\"],[0.6666666666666666,\"#ed7953\"],[0.7777777777777778,\"#fb9f3a\"],[0.8888888888888888,\"#fdca26\"],[1.0,\"#f0f921\"]],\"type\":\"contour\"}],\"contourcarpet\":[{\"colorbar\":{\"outlinewidth\":0,\"ticks\":\"\"},\"type\":\"contourcarpet\"}],\"heatmap\":[{\"colorbar\":{\"outlinewidth\":0,\"ticks\":\"\"},\"colorscale\":[[0.0,\"#0d0887\"],[0.1111111111111111,\"#46039f\"],[0.2222222222222222,\"#7201a8\"],[0.3333333333333333,\"#9c179e\"],[0.4444444444444444,\"#bd3786\"],[0.5555555555555556,\"#d8576b\"],[0.6666666666666666,\"#ed7953\"],[0.7777777777777778,\"#fb9f3a\"],[0.8888888888888888,\"#fdca26\"],[1.0,\"#f0f921\"]],\"type\":\"heatmap\"}],\"heatmapgl\":[{\"colorbar\":{\"outlinewidth\":0,\"ticks\":\"\"},\"colorscale\":[[0.0,\"#0d0887\"],[0.1111111111111111,\"#46039f\"],[0.2222222222222222,\"#7201a8\"],[0.3333333333333333,\"#9c179e\"],[0.4444444444444444,\"#bd3786\"],[0.5555555555555556,\"#d8576b\"],[0.6666666666666666,\"#ed7953\"],[0.7777777777777778,\"#fb9f3a\"],[0.8888888888888888,\"#fdca26\"],[1.0,\"#f0f921\"]],\"type\":\"heatmapgl\"}],\"histogram\":[{\"marker\":{\"pattern\":{\"fillmode\":\"overlay\",\"size\":10,\"solidity\":0.2}},\"type\":\"histogram\"}],\"histogram2d\":[{\"colorbar\":{\"outlinewidth\":0,\"ticks\":\"\"},\"colorscale\":[[0.0,\"#0d0887\"],[0.1111111111111111,\"#46039f\"],[0.2222222222222222,\"#7201a8\"],[0.3333333333333333,\"#9c179e\"],[0.4444444444444444,\"#bd3786\"],[0.5555555555555556,\"#d8576b\"],[0.6666666666666666,\"#ed7953\"],[0.7777777777777778,\"#fb9f3a\"],[0.8888888888888888,\"#fdca26\"],[1.0,\"#f0f921\"]],\"type\":\"histogram2d\"}],\"histogram2dcontour\":[{\"colorbar\":{\"outlinewidth\":0,\"ticks\":\"\"},\"colorscale\":[[0.0,\"#0d0887\"],[0.1111111111111111,\"#46039f\"],[0.2222222222222222,\"#7201a8\"],[0.3333333333333333,\"#9c179e\"],[0.4444444444444444,\"#bd3786\"],[0.5555555555555556,\"#d8576b\"],[0.6666666666666666,\"#ed7953\"],[0.7777777777777778,\"#fb9f3a\"],[0.8888888888888888,\"#fdca26\"],[1.0,\"#f0f921\"]],\"type\":\"histogram2dcontour\"}],\"mesh3d\":[{\"colorbar\":{\"outlinewidth\":0,\"ticks\":\"\"},\"type\":\"mesh3d\"}],\"parcoords\":[{\"line\":{\"colorbar\":{\"outlinewidth\":0,\"ticks\":\"\"}},\"type\":\"parcoords\"}],\"pie\":[{\"automargin\":true,\"type\":\"pie\"}],\"scatter\":[{\"marker\":{\"colorbar\":{\"outlinewidth\":0,\"ticks\":\"\"}},\"type\":\"scatter\"}],\"scatter3d\":[{\"line\":{\"colorbar\":{\"outlinewidth\":0,\"ticks\":\"\"}},\"marker\":{\"colorbar\":{\"outlinewidth\":0,\"ticks\":\"\"}},\"type\":\"scatter3d\"}],\"scattercarpet\":[{\"marker\":{\"colorbar\":{\"outlinewidth\":0,\"ticks\":\"\"}},\"type\":\"scattercarpet\"}],\"scattergeo\":[{\"marker\":{\"colorbar\":{\"outlinewidth\":0,\"ticks\":\"\"}},\"type\":\"scattergeo\"}],\"scattergl\":[{\"marker\":{\"colorbar\":{\"outlinewidth\":0,\"ticks\":\"\"}},\"type\":\"scattergl\"}],\"scattermapbox\":[{\"marker\":{\"colorbar\":{\"outlinewidth\":0,\"ticks\":\"\"}},\"type\":\"scattermapbox\"}],\"scatterpolar\":[{\"marker\":{\"colorbar\":{\"outlinewidth\":0,\"ticks\":\"\"}},\"type\":\"scatterpolar\"}],\"scatterpolargl\":[{\"marker\":{\"colorbar\":{\"outlinewidth\":0,\"ticks\":\"\"}},\"type\":\"scatterpolargl\"}],\"scatterternary\":[{\"marker\":{\"colorbar\":{\"outlinewidth\":0,\"ticks\":\"\"}},\"type\":\"scatterternary\"}],\"surface\":[{\"colorbar\":{\"outlinewidth\":0,\"ticks\":\"\"},\"colorscale\":[[0.0,\"#0d0887\"],[0.1111111111111111,\"#46039f\"],[0.2222222222222222,\"#7201a8\"],[0.3333333333333333,\"#9c179e\"],[0.4444444444444444,\"#bd3786\"],[0.5555555555555556,\"#d8576b\"],[0.6666666666666666,\"#ed7953\"],[0.7777777777777778,\"#fb9f3a\"],[0.8888888888888888,\"#fdca26\"],[1.0,\"#f0f921\"]],\"type\":\"surface\"}],\"table\":[{\"cells\":{\"fill\":{\"color\":\"#EBF0F8\"},\"line\":{\"color\":\"white\"}},\"header\":{\"fill\":{\"color\":\"#C8D4E3\"},\"line\":{\"color\":\"white\"}},\"type\":\"table\"}]},\"layout\":{\"annotationdefaults\":{\"arrowcolor\":\"#2a3f5f\",\"arrowhead\":0,\"arrowwidth\":1},\"autotypenumbers\":\"strict\",\"coloraxis\":{\"colorbar\":{\"outlinewidth\":0,\"ticks\":\"\"}},\"colorscale\":{\"diverging\":[[0,\"#8e0152\"],[0.1,\"#c51b7d\"],[0.2,\"#de77ae\"],[0.3,\"#f1b6da\"],[0.4,\"#fde0ef\"],[0.5,\"#f7f7f7\"],[0.6,\"#e6f5d0\"],[0.7,\"#b8e186\"],[0.8,\"#7fbc41\"],[0.9,\"#4d9221\"],[1,\"#276419\"]],\"sequential\":[[0.0,\"#0d0887\"],[0.1111111111111111,\"#46039f\"],[0.2222222222222222,\"#7201a8\"],[0.3333333333333333,\"#9c179e\"],[0.4444444444444444,\"#bd3786\"],[0.5555555555555556,\"#d8576b\"],[0.6666666666666666,\"#ed7953\"],[0.7777777777777778,\"#fb9f3a\"],[0.8888888888888888,\"#fdca26\"],[1.0,\"#f0f921\"]],\"sequentialminus\":[[0.0,\"#0d0887\"],[0.1111111111111111,\"#46039f\"],[0.2222222222222222,\"#7201a8\"],[0.3333333333333333,\"#9c179e\"],[0.4444444444444444,\"#bd3786\"],[0.5555555555555556,\"#d8576b\"],[0.6666666666666666,\"#ed7953\"],[0.7777777777777778,\"#fb9f3a\"],[0.8888888888888888,\"#fdca26\"],[1.0,\"#f0f921\"]]},\"colorway\":[\"#636efa\",\"#EF553B\",\"#00cc96\",\"#ab63fa\",\"#FFA15A\",\"#19d3f3\",\"#FF6692\",\"#B6E880\",\"#FF97FF\",\"#FECB52\"],\"font\":{\"color\":\"#2a3f5f\"},\"geo\":{\"bgcolor\":\"white\",\"lakecolor\":\"white\",\"landcolor\":\"#E5ECF6\",\"showlakes\":true,\"showland\":true,\"subunitcolor\":\"white\"},\"hoverlabel\":{\"align\":\"left\"},\"hovermode\":\"closest\",\"mapbox\":{\"style\":\"light\"},\"paper_bgcolor\":\"white\",\"plot_bgcolor\":\"#E5ECF6\",\"polar\":{\"angularaxis\":{\"gridcolor\":\"white\",\"linecolor\":\"white\",\"ticks\":\"\"},\"bgcolor\":\"#E5ECF6\",\"radialaxis\":{\"gridcolor\":\"white\",\"linecolor\":\"white\",\"ticks\":\"\"}},\"scene\":{\"xaxis\":{\"backgroundcolor\":\"#E5ECF6\",\"gridcolor\":\"white\",\"gridwidth\":2,\"linecolor\":\"white\",\"showbackground\":true,\"ticks\":\"\",\"zerolinecolor\":\"white\"},\"yaxis\":{\"backgroundcolor\":\"#E5ECF6\",\"gridcolor\":\"white\",\"gridwidth\":2,\"linecolor\":\"white\",\"showbackground\":true,\"ticks\":\"\",\"zerolinecolor\":\"white\"},\"zaxis\":{\"backgroundcolor\":\"#E5ECF6\",\"gridcolor\":\"white\",\"gridwidth\":2,\"linecolor\":\"white\",\"showbackground\":true,\"ticks\":\"\",\"zerolinecolor\":\"white\"}},\"shapedefaults\":{\"line\":{\"color\":\"#2a3f5f\"}},\"ternary\":{\"aaxis\":{\"gridcolor\":\"white\",\"linecolor\":\"white\",\"ticks\":\"\"},\"baxis\":{\"gridcolor\":\"white\",\"linecolor\":\"white\",\"ticks\":\"\"},\"bgcolor\":\"#E5ECF6\",\"caxis\":{\"gridcolor\":\"white\",\"linecolor\":\"white\",\"ticks\":\"\"}},\"title\":{\"x\":0.05},\"xaxis\":{\"automargin\":true,\"gridcolor\":\"white\",\"linecolor\":\"white\",\"ticks\":\"\",\"title\":{\"standoff\":15},\"zerolinecolor\":\"white\",\"zerolinewidth\":2},\"yaxis\":{\"automargin\":true,\"gridcolor\":\"white\",\"linecolor\":\"white\",\"ticks\":\"\",\"title\":{\"standoff\":15},\"zerolinecolor\":\"white\",\"zerolinewidth\":2}}},\"title\":{\"x\":0.5,\"xanchor\":\"center\",\"y\":0.85,\"yanchor\":\"top\"},\"xaxis\":{\"gridcolor\":\"LightSteelBlue\",\"gridwidth\":1,\"linecolor\":\"black\",\"mirror\":true,\"showgrid\":true,\"showline\":true,\"title\":{\"text\":\"Date\"}},\"yaxis\":{\"gridcolor\":\"LightSteelBlue\",\"gridwidth\":1,\"linecolor\":\"black\",\"mirror\":true,\"showgrid\":true,\"showline\":true,\"title\":{\"text\":\"Cumulative Return\"},\"zeroline\":true,\"zerolinecolor\":\"LightSteelBlue\",\"zerolinewidth\":1}},                        {\"responsive\": true}                    ).then(function(){\n",
       "                            \n",
       "var gd = document.getElementById('1326d4b7-15c2-4471-88fc-fd60cee0bcf1');\n",
       "var x = new MutationObserver(function (mutations, observer) {{\n",
       "        var display = window.getComputedStyle(gd).display;\n",
       "        if (!display || display === 'none') {{\n",
       "            console.log([gd, 'removed!']);\n",
       "            Plotly.purge(gd);\n",
       "            observer.disconnect();\n",
       "        }}\n",
       "}});\n",
       "\n",
       "// Listen for the removal of the full notebook cells\n",
       "var notebookContainer = gd.closest('#notebook-container');\n",
       "if (notebookContainer) {{\n",
       "    x.observe(notebookContainer, {childList: true});\n",
       "}}\n",
       "\n",
       "// Listen for the clearing of the current output cell\n",
       "var outputEl = gd.closest('.output');\n",
       "if (outputEl) {{\n",
       "    x.observe(outputEl, {childList: true});\n",
       "}}\n",
       "\n",
       "                        })                };                });            </script>        </div>"
      ]
     },
     "metadata": {},
     "output_type": "display_data"
    }
   ],
   "source": [
    "fig = go.Figure()\n",
    "fig.add_trace(trace1_portfolio)\n",
    "fig.add_trace(trace2_portfolio)\n",
    "fig.add_trace(trace3_portfolio)\n",
    "fig.add_trace(trace4_portfolio)\n",
    "fig.add_trace(trace5_portfolio)\n",
    "fig.add_trace(trace6_portfolio)\n",
    "fig.add_trace(trace7_portfolio)\n",
    "\n",
    "fig.update_layout(\n",
    "    legend=dict(\n",
    "        x=0,\n",
    "        y=1,\n",
    "        traceorder=\"normal\",\n",
    "        font=dict(\n",
    "            family=\"sans-serif\",\n",
    "            size=15,\n",
    "            color=\"black\"\n",
    "        ),\n",
    "        bgcolor=\"White\",\n",
    "        bordercolor=\"white\",\n",
    "        borderwidth=2\n",
    "        \n",
    "    ),\n",
    ")\n",
    "fig.update_layout(title={\n",
    "        #'text': \"Cumulative Return using FinRL\",\n",
    "        'y':0.85,\n",
    "        'x':0.5,\n",
    "        'xanchor': 'center',\n",
    "        'yanchor': 'top'})\n",
    "\n",
    "fig.update_layout(\n",
    "    paper_bgcolor='rgba(1,1,0,0)',\n",
    "    plot_bgcolor='rgba(1, 1, 0, 0)',\n",
    "    xaxis_title=\"Date\",\n",
    "    yaxis = dict(titlefont = dict(size = 30), title = \"Cumulative Return\"),\n",
    "    font=dict(\n",
    "        size=40,\n",
    "    ),\n",
    ")\n",
    "fig.update_layout(font_size = 20)\n",
    "fig.update_traces(line=dict(width=2))\n",
    "\n",
    "fig.update_xaxes(showline=True, linecolor='black',showgrid=True, gridwidth=1, gridcolor='LightSteelBlue',mirror=True)\n",
    "fig.update_yaxes(showline=True,linecolor='black',showgrid=True, gridwidth=1, gridcolor='LightSteelBlue',mirror=True)\n",
    "fig.update_yaxes(zeroline=True, zerolinewidth=1, zerolinecolor='LightSteelBlue')\n",
    "\n",
    "fig.show()"
   ]
  },
  {
   "cell_type": "markdown",
   "metadata": {
    "id": "s0WhtMDgHz1p"
   },
   "source": [
    "#### We found that A2C and PPO succeeded in the portfoli management task and is better than all other algorithms/benchmark."
   ]
  },
  {
   "cell_type": "code",
   "execution_count": 122,
   "metadata": {
    "id": "WxlehwfPfUMx"
   },
   "outputs": [],
   "source": [
    "meta_score = {\"Annual return\":[], \"Annual volatility\":[], \"Max drawdown\":[], \"Sharpe ratio\":[], \"Algorithm\":[], \"Calmar ratio\":[]}\n",
    "for name in [\"LR\", \"A2C\", \"RF\", \"Reference Model\", \"PPO\", \"SVM\", \"DT\", \"DJI\"]:\n",
    "    if name == \"DT\":\n",
    "        annualreturn = dt_stats[\"Annual return\"]\n",
    "        annualvol = dt_stats[\"Annual volatility\"]\n",
    "        sharpeRatio = dt_stats[\"Sharpe ratio\"]\n",
    "        maxdradown = dt_stats[\"Max drawdown\"]\n",
    "        calmarratio = dt_stats[\"Calmar ratio\"]\n",
    "    elif name == \"LR\":\n",
    "        annualreturn = lr_stats[\"Annual return\"]\n",
    "        annualvol = lr_stats[\"Annual volatility\"]\n",
    "        sharpeRatio = lr_stats[\"Sharpe ratio\"]\n",
    "        maxdradown = lr_stats[\"Max drawdown\"]\n",
    "        calmarratio = lr_stats[\"Calmar ratio\"]\n",
    "    elif name == \"SVM\":\n",
    "        annualreturn = svm_stats[\"Annual return\"]\n",
    "        annualvol = svm_stats[\"Annual volatility\"]\n",
    "        sharpeRatio = svm_stats[\"Sharpe ratio\"]\n",
    "        maxdradown = svm_stats[\"Max drawdown\"]\n",
    "        calmarratio = svm_stats[\"Calmar ratio\"]\n",
    "    elif name == \"RF\":\n",
    "        annualreturn = rf_stats[\"Annual return\"]\n",
    "        annualvol = rf_stats[\"Annual volatility\"]\n",
    "        sharpeRatio = rf_stats[\"Sharpe ratio\"]\n",
    "        maxdradown = rf_stats[\"Max drawdown\"]\n",
    "        calmarratio = rf_stats[\"Calmar ratio\"]\n",
    "    elif name == \"Reference Model\":\n",
    "        annualreturn = reference_stats[\"Annual return\"]\n",
    "        annualvol = reference_stats[\"Annual volatility\"]\n",
    "        sharpeRatio = reference_stats[\"Sharpe ratio\"]\n",
    "        maxdradown = reference_stats[\"Max drawdown\"]\n",
    "        calmarratio = reference_stats[\"Calmar ratio\"]\n",
    "    elif name == \"PPO\":\n",
    "        annualreturn = perf_stats_all_ppo[\"Annual return\"]\n",
    "        annualvol = perf_stats_all_ppo[\"Annual volatility\"]\n",
    "        sharpeRatio = perf_stats_all_ppo[\"Sharpe ratio\"]\n",
    "        maxdradown = perf_stats_all_ppo[\"Max drawdown\"]\n",
    "        calmarratio = perf_stats_all_ppo[\"Calmar ratio\"]\n",
    "    elif name == \"DJI\":\n",
    "        annualreturn = baseline_df_stats[\"Annual return\"]\n",
    "        annualvol = baseline_df_stats[\"Annual volatility\"]\n",
    "        sharpeRatio = baseline_df_stats[\"Sharpe ratio\"]\n",
    "        maxdradown = baseline_df_stats[\"Max drawdown\"]\n",
    "        calmarratio = baseline_df_stats[\"Calmar ratio\"]\n",
    "    else:\n",
    "        annualreturn = perf_stats_all_a2c[\"Annual return\"]\n",
    "        annualvol = perf_stats_all_a2c[\"Annual volatility\"]\n",
    "        sharpeRatio = perf_stats_all_a2c[\"Sharpe ratio\"]\n",
    "        maxdradown = perf_stats_all_a2c[\"Max drawdown\"]\n",
    "        calmarratio = perf_stats_all_a2c[\"Calmar ratio\"]\n",
    "    meta_score[\"Algorithm\"] += [name]\n",
    "    meta_score[\"Annual return\"] += [annualreturn]\n",
    "    meta_score[\"Annual volatility\"] += [annualvol]\n",
    "    meta_score[\"Max drawdown\"] += [maxdradown]\n",
    "    meta_score[\"Sharpe ratio\"] += [sharpeRatio]\n",
    "    meta_score[\"Calmar ratio\"] += [calmarratio]\n",
    "\n",
    "meta_score = pd.DataFrame(meta_score).sort_values(\"Sharpe ratio\")"
   ]
  },
  {
   "cell_type": "code",
   "execution_count": 125,
   "metadata": {
    "id": "H7sK4kM8QyEu"
   },
   "outputs": [],
   "source": [
    "postiveRatio = pd.DataFrame(performance_score.groupby(\"algo\").apply(lambda x : np.mean(x['score'])))\n",
    "\n",
    "postiveRatio = postiveRatio.reset_index()\n",
    "postiveRatio.columns = ['algo', 'avg_correlation_coefficient']\n",
    "postiveRatio['Sharpe Ratio'] = [0] * 6\n",
    "\n",
    "# postiveRatio.plot.bar(x = 'algo', y = 'avg_correlation_coefficient')\n",
    "\n",
    "postiveRatiom = pd.DataFrame(multi_performance_score.groupby(\"algo\").apply(lambda x : np.mean(x['score'])))\n",
    "postiveRatiom = postiveRatiom.reset_index()\n",
    "postiveRatiom.columns = ['algo', 'avg_correlation_coefficient']\n",
    "postiveRatiom['Sharpe Ratio'] = [0] * 6\n",
    "\n",
    "# postiveRatiom.plot.bar(x = 'algo', y = 'avg_correlation_coefficient')\n",
    "\n",
    "\n",
    "for algo in ['A2C', 'PPO', 'LR','DT', 'RF', 'SVM']:\n",
    "    postiveRatio.loc[postiveRatio['algo'] == algo, 'Sharpe Ratio'] = meta_score.loc[meta_score['Algorithm'] == algo,'Sharpe ratio'].values[0]\n",
    "    postiveRatiom.loc[postiveRatio['algo'] == algo, 'Sharpe Ratio'] = meta_score.loc[meta_score['Algorithm'] == algo,'Sharpe ratio'].values[0]\n",
    "\n",
    "postiveRatio.sort_values(\"Sharpe Ratio\", inplace= True)\n",
    "\n",
    "postiveRatiom.sort_values(\"Sharpe Ratio\", inplace= True)"
   ]
  },
  {
   "cell_type": "code",
   "execution_count": 126,
   "metadata": {
    "colab": {
     "base_uri": "https://localhost:8080/",
     "height": 467
    },
    "id": "_rLjcOmRBjeu",
    "outputId": "05ccaf64-4984-4c2a-eae2-eb87ed7f8551"
   },
   "outputs": [
    {
     "data": {
      "application/vnd.plotly.v1+json": {
       "config": {
        "plotlyServerURL": "https://plot.ly"
       },
       "data": [
        {
         "line": {
          "width": 5
         },
         "marker": {
          "size": 15
         },
         "name": "Sharpe Ratio",
         "type": "scatter",
         "x": [
          "SVM",
          "LR",
          "A2C",
          "PPO",
          "DT",
          "RF"
         ],
         "xaxis": "x",
         "y": [
          -1.2927747380729329,
          -0.10352439811009075,
          0.8596234101821464,
          1.0898618276604937,
          9.466666024957984,
          11.045906612257372
         ],
         "yaxis": "y2"
        },
        {
         "name": "Multi-Step Average Correlation Coefficient          ",
         "type": "bar",
         "width": 0.38,
         "x": [
          "SVM",
          "LR",
          "A2C",
          "PPO",
          "DT",
          "RF"
         ],
         "xaxis": "x",
         "y": [
          0.019222984950259772,
          0.036550764412012535,
          0.06806253971769181,
          0.08397832915577597,
          0.1970049865712508,
          0.20088113229670926
         ],
         "yaxis": "y"
        },
        {
         "name": "Single-Step Average Correlation Coefficient           ",
         "type": "bar",
         "width": 0.38,
         "x": [
          "SVM",
          "LR",
          "A2C",
          "PPO",
          "DT",
          "RF"
         ],
         "xaxis": "x",
         "y": [
          0.288559965856095,
          0.27433842446672874,
          0.007772960753848868,
          0.013263402023177653,
          0.5683921378442452,
          0.671902989057852
         ],
         "yaxis": "y"
        }
       ],
       "layout": {
        "font": {
         "size": 15
        },
        "legend": {
         "x": 0.95,
         "xanchor": "right",
         "y": 1.5,
         "yanchor": "top"
        },
        "paper_bgcolor": "rgba(1,1,0,0)",
        "plot_bgcolor": "rgba(1, 1, 0, 0)",
        "template": {
         "data": {
          "bar": [
           {
            "error_x": {
             "color": "#2a3f5f"
            },
            "error_y": {
             "color": "#2a3f5f"
            },
            "marker": {
             "line": {
              "color": "#E5ECF6",
              "width": 0.5
             },
             "pattern": {
              "fillmode": "overlay",
              "size": 10,
              "solidity": 0.2
             }
            },
            "type": "bar"
           }
          ],
          "barpolar": [
           {
            "marker": {
             "line": {
              "color": "#E5ECF6",
              "width": 0.5
             },
             "pattern": {
              "fillmode": "overlay",
              "size": 10,
              "solidity": 0.2
             }
            },
            "type": "barpolar"
           }
          ],
          "carpet": [
           {
            "aaxis": {
             "endlinecolor": "#2a3f5f",
             "gridcolor": "white",
             "linecolor": "white",
             "minorgridcolor": "white",
             "startlinecolor": "#2a3f5f"
            },
            "baxis": {
             "endlinecolor": "#2a3f5f",
             "gridcolor": "white",
             "linecolor": "white",
             "minorgridcolor": "white",
             "startlinecolor": "#2a3f5f"
            },
            "type": "carpet"
           }
          ],
          "choropleth": [
           {
            "colorbar": {
             "outlinewidth": 0,
             "ticks": ""
            },
            "type": "choropleth"
           }
          ],
          "contour": [
           {
            "colorbar": {
             "outlinewidth": 0,
             "ticks": ""
            },
            "colorscale": [
             [
              0,
              "#0d0887"
             ],
             [
              0.1111111111111111,
              "#46039f"
             ],
             [
              0.2222222222222222,
              "#7201a8"
             ],
             [
              0.3333333333333333,
              "#9c179e"
             ],
             [
              0.4444444444444444,
              "#bd3786"
             ],
             [
              0.5555555555555556,
              "#d8576b"
             ],
             [
              0.6666666666666666,
              "#ed7953"
             ],
             [
              0.7777777777777778,
              "#fb9f3a"
             ],
             [
              0.8888888888888888,
              "#fdca26"
             ],
             [
              1,
              "#f0f921"
             ]
            ],
            "type": "contour"
           }
          ],
          "contourcarpet": [
           {
            "colorbar": {
             "outlinewidth": 0,
             "ticks": ""
            },
            "type": "contourcarpet"
           }
          ],
          "heatmap": [
           {
            "colorbar": {
             "outlinewidth": 0,
             "ticks": ""
            },
            "colorscale": [
             [
              0,
              "#0d0887"
             ],
             [
              0.1111111111111111,
              "#46039f"
             ],
             [
              0.2222222222222222,
              "#7201a8"
             ],
             [
              0.3333333333333333,
              "#9c179e"
             ],
             [
              0.4444444444444444,
              "#bd3786"
             ],
             [
              0.5555555555555556,
              "#d8576b"
             ],
             [
              0.6666666666666666,
              "#ed7953"
             ],
             [
              0.7777777777777778,
              "#fb9f3a"
             ],
             [
              0.8888888888888888,
              "#fdca26"
             ],
             [
              1,
              "#f0f921"
             ]
            ],
            "type": "heatmap"
           }
          ],
          "heatmapgl": [
           {
            "colorbar": {
             "outlinewidth": 0,
             "ticks": ""
            },
            "colorscale": [
             [
              0,
              "#0d0887"
             ],
             [
              0.1111111111111111,
              "#46039f"
             ],
             [
              0.2222222222222222,
              "#7201a8"
             ],
             [
              0.3333333333333333,
              "#9c179e"
             ],
             [
              0.4444444444444444,
              "#bd3786"
             ],
             [
              0.5555555555555556,
              "#d8576b"
             ],
             [
              0.6666666666666666,
              "#ed7953"
             ],
             [
              0.7777777777777778,
              "#fb9f3a"
             ],
             [
              0.8888888888888888,
              "#fdca26"
             ],
             [
              1,
              "#f0f921"
             ]
            ],
            "type": "heatmapgl"
           }
          ],
          "histogram": [
           {
            "marker": {
             "pattern": {
              "fillmode": "overlay",
              "size": 10,
              "solidity": 0.2
             }
            },
            "type": "histogram"
           }
          ],
          "histogram2d": [
           {
            "colorbar": {
             "outlinewidth": 0,
             "ticks": ""
            },
            "colorscale": [
             [
              0,
              "#0d0887"
             ],
             [
              0.1111111111111111,
              "#46039f"
             ],
             [
              0.2222222222222222,
              "#7201a8"
             ],
             [
              0.3333333333333333,
              "#9c179e"
             ],
             [
              0.4444444444444444,
              "#bd3786"
             ],
             [
              0.5555555555555556,
              "#d8576b"
             ],
             [
              0.6666666666666666,
              "#ed7953"
             ],
             [
              0.7777777777777778,
              "#fb9f3a"
             ],
             [
              0.8888888888888888,
              "#fdca26"
             ],
             [
              1,
              "#f0f921"
             ]
            ],
            "type": "histogram2d"
           }
          ],
          "histogram2dcontour": [
           {
            "colorbar": {
             "outlinewidth": 0,
             "ticks": ""
            },
            "colorscale": [
             [
              0,
              "#0d0887"
             ],
             [
              0.1111111111111111,
              "#46039f"
             ],
             [
              0.2222222222222222,
              "#7201a8"
             ],
             [
              0.3333333333333333,
              "#9c179e"
             ],
             [
              0.4444444444444444,
              "#bd3786"
             ],
             [
              0.5555555555555556,
              "#d8576b"
             ],
             [
              0.6666666666666666,
              "#ed7953"
             ],
             [
              0.7777777777777778,
              "#fb9f3a"
             ],
             [
              0.8888888888888888,
              "#fdca26"
             ],
             [
              1,
              "#f0f921"
             ]
            ],
            "type": "histogram2dcontour"
           }
          ],
          "mesh3d": [
           {
            "colorbar": {
             "outlinewidth": 0,
             "ticks": ""
            },
            "type": "mesh3d"
           }
          ],
          "parcoords": [
           {
            "line": {
             "colorbar": {
              "outlinewidth": 0,
              "ticks": ""
             }
            },
            "type": "parcoords"
           }
          ],
          "pie": [
           {
            "automargin": true,
            "type": "pie"
           }
          ],
          "scatter": [
           {
            "marker": {
             "colorbar": {
              "outlinewidth": 0,
              "ticks": ""
             }
            },
            "type": "scatter"
           }
          ],
          "scatter3d": [
           {
            "line": {
             "colorbar": {
              "outlinewidth": 0,
              "ticks": ""
             }
            },
            "marker": {
             "colorbar": {
              "outlinewidth": 0,
              "ticks": ""
             }
            },
            "type": "scatter3d"
           }
          ],
          "scattercarpet": [
           {
            "marker": {
             "colorbar": {
              "outlinewidth": 0,
              "ticks": ""
             }
            },
            "type": "scattercarpet"
           }
          ],
          "scattergeo": [
           {
            "marker": {
             "colorbar": {
              "outlinewidth": 0,
              "ticks": ""
             }
            },
            "type": "scattergeo"
           }
          ],
          "scattergl": [
           {
            "marker": {
             "colorbar": {
              "outlinewidth": 0,
              "ticks": ""
             }
            },
            "type": "scattergl"
           }
          ],
          "scattermapbox": [
           {
            "marker": {
             "colorbar": {
              "outlinewidth": 0,
              "ticks": ""
             }
            },
            "type": "scattermapbox"
           }
          ],
          "scatterpolar": [
           {
            "marker": {
             "colorbar": {
              "outlinewidth": 0,
              "ticks": ""
             }
            },
            "type": "scatterpolar"
           }
          ],
          "scatterpolargl": [
           {
            "marker": {
             "colorbar": {
              "outlinewidth": 0,
              "ticks": ""
             }
            },
            "type": "scatterpolargl"
           }
          ],
          "scatterternary": [
           {
            "marker": {
             "colorbar": {
              "outlinewidth": 0,
              "ticks": ""
             }
            },
            "type": "scatterternary"
           }
          ],
          "surface": [
           {
            "colorbar": {
             "outlinewidth": 0,
             "ticks": ""
            },
            "colorscale": [
             [
              0,
              "#0d0887"
             ],
             [
              0.1111111111111111,
              "#46039f"
             ],
             [
              0.2222222222222222,
              "#7201a8"
             ],
             [
              0.3333333333333333,
              "#9c179e"
             ],
             [
              0.4444444444444444,
              "#bd3786"
             ],
             [
              0.5555555555555556,
              "#d8576b"
             ],
             [
              0.6666666666666666,
              "#ed7953"
             ],
             [
              0.7777777777777778,
              "#fb9f3a"
             ],
             [
              0.8888888888888888,
              "#fdca26"
             ],
             [
              1,
              "#f0f921"
             ]
            ],
            "type": "surface"
           }
          ],
          "table": [
           {
            "cells": {
             "fill": {
              "color": "#EBF0F8"
             },
             "line": {
              "color": "white"
             }
            },
            "header": {
             "fill": {
              "color": "#C8D4E3"
             },
             "line": {
              "color": "white"
             }
            },
            "type": "table"
           }
          ]
         },
         "layout": {
          "annotationdefaults": {
           "arrowcolor": "#2a3f5f",
           "arrowhead": 0,
           "arrowwidth": 1
          },
          "autotypenumbers": "strict",
          "coloraxis": {
           "colorbar": {
            "outlinewidth": 0,
            "ticks": ""
           }
          },
          "colorscale": {
           "diverging": [
            [
             0,
             "#8e0152"
            ],
            [
             0.1,
             "#c51b7d"
            ],
            [
             0.2,
             "#de77ae"
            ],
            [
             0.3,
             "#f1b6da"
            ],
            [
             0.4,
             "#fde0ef"
            ],
            [
             0.5,
             "#f7f7f7"
            ],
            [
             0.6,
             "#e6f5d0"
            ],
            [
             0.7,
             "#b8e186"
            ],
            [
             0.8,
             "#7fbc41"
            ],
            [
             0.9,
             "#4d9221"
            ],
            [
             1,
             "#276419"
            ]
           ],
           "sequential": [
            [
             0,
             "#0d0887"
            ],
            [
             0.1111111111111111,
             "#46039f"
            ],
            [
             0.2222222222222222,
             "#7201a8"
            ],
            [
             0.3333333333333333,
             "#9c179e"
            ],
            [
             0.4444444444444444,
             "#bd3786"
            ],
            [
             0.5555555555555556,
             "#d8576b"
            ],
            [
             0.6666666666666666,
             "#ed7953"
            ],
            [
             0.7777777777777778,
             "#fb9f3a"
            ],
            [
             0.8888888888888888,
             "#fdca26"
            ],
            [
             1,
             "#f0f921"
            ]
           ],
           "sequentialminus": [
            [
             0,
             "#0d0887"
            ],
            [
             0.1111111111111111,
             "#46039f"
            ],
            [
             0.2222222222222222,
             "#7201a8"
            ],
            [
             0.3333333333333333,
             "#9c179e"
            ],
            [
             0.4444444444444444,
             "#bd3786"
            ],
            [
             0.5555555555555556,
             "#d8576b"
            ],
            [
             0.6666666666666666,
             "#ed7953"
            ],
            [
             0.7777777777777778,
             "#fb9f3a"
            ],
            [
             0.8888888888888888,
             "#fdca26"
            ],
            [
             1,
             "#f0f921"
            ]
           ]
          },
          "colorway": [
           "#636efa",
           "#EF553B",
           "#00cc96",
           "#ab63fa",
           "#FFA15A",
           "#19d3f3",
           "#FF6692",
           "#B6E880",
           "#FF97FF",
           "#FECB52"
          ],
          "font": {
           "color": "#2a3f5f"
          },
          "geo": {
           "bgcolor": "white",
           "lakecolor": "white",
           "landcolor": "#E5ECF6",
           "showlakes": true,
           "showland": true,
           "subunitcolor": "white"
          },
          "hoverlabel": {
           "align": "left"
          },
          "hovermode": "closest",
          "mapbox": {
           "style": "light"
          },
          "paper_bgcolor": "white",
          "plot_bgcolor": "#E5ECF6",
          "polar": {
           "angularaxis": {
            "gridcolor": "white",
            "linecolor": "white",
            "ticks": ""
           },
           "bgcolor": "#E5ECF6",
           "radialaxis": {
            "gridcolor": "white",
            "linecolor": "white",
            "ticks": ""
           }
          },
          "scene": {
           "xaxis": {
            "backgroundcolor": "#E5ECF6",
            "gridcolor": "white",
            "gridwidth": 2,
            "linecolor": "white",
            "showbackground": true,
            "ticks": "",
            "zerolinecolor": "white"
           },
           "yaxis": {
            "backgroundcolor": "#E5ECF6",
            "gridcolor": "white",
            "gridwidth": 2,
            "linecolor": "white",
            "showbackground": true,
            "ticks": "",
            "zerolinecolor": "white"
           },
           "zaxis": {
            "backgroundcolor": "#E5ECF6",
            "gridcolor": "white",
            "gridwidth": 2,
            "linecolor": "white",
            "showbackground": true,
            "ticks": "",
            "zerolinecolor": "white"
           }
          },
          "shapedefaults": {
           "line": {
            "color": "#2a3f5f"
           }
          },
          "ternary": {
           "aaxis": {
            "gridcolor": "white",
            "linecolor": "white",
            "ticks": ""
           },
           "baxis": {
            "gridcolor": "white",
            "linecolor": "white",
            "ticks": ""
           },
           "bgcolor": "#E5ECF6",
           "caxis": {
            "gridcolor": "white",
            "linecolor": "white",
            "ticks": ""
           }
          },
          "title": {
           "x": 0.05
          },
          "xaxis": {
           "automargin": true,
           "gridcolor": "white",
           "linecolor": "white",
           "ticks": "",
           "title": {
            "standoff": 15
           },
           "zerolinecolor": "white",
           "zerolinewidth": 2
          },
          "yaxis": {
           "automargin": true,
           "gridcolor": "white",
           "linecolor": "white",
           "ticks": "",
           "title": {
            "standoff": 15
           },
           "zerolinecolor": "white",
           "zerolinewidth": 2
          }
         }
        },
        "xaxis": {
         "anchor": "y",
         "domain": [
          0,
          0.94
         ],
         "gridcolor": "LightSteelBlue",
         "gridwidth": 1,
         "linecolor": "black",
         "mirror": true,
         "showgrid": true,
         "showline": true,
         "title": {
          "text": "Model"
         }
        },
        "yaxis": {
         "anchor": "x",
         "domain": [
          0,
          1
         ],
         "gridcolor": "LightSteelBlue",
         "gridwidth": 1,
         "linecolor": "black",
         "mirror": true,
         "range": [
          -0.1,
          0.1
         ],
         "showgrid": true,
         "showline": true,
         "title": {
          "text": "Average Correlation Coefficient"
         },
         "zeroline": true,
         "zerolinecolor": "LightSteelBlue",
         "zerolinewidth": 1
        },
        "yaxis2": {
         "anchor": "x",
         "overlaying": "y",
         "range": [
          -0.5,
          2.5
         ],
         "side": "right",
         "title": {
          "text": "Sharpe Ratio"
         },
         "zeroline": true,
         "zerolinecolor": "LightSteelBlue",
         "zerolinewidth": 1
        }
       }
      },
      "text/html": [
       "<div>                            <div id=\"70c15b67-5e01-4049-85b5-cd201976a5dd\" class=\"plotly-graph-div\" style=\"height:525px; width:100%;\"></div>            <script type=\"text/javascript\">                require([\"plotly\"], function(Plotly) {                    window.PLOTLYENV=window.PLOTLYENV || {};                                    if (document.getElementById(\"70c15b67-5e01-4049-85b5-cd201976a5dd\")) {                    Plotly.newPlot(                        \"70c15b67-5e01-4049-85b5-cd201976a5dd\",                        [{\"line\":{\"width\":5},\"marker\":{\"size\":15},\"name\":\"Sharpe Ratio\",\"type\":\"scatter\",\"x\":[\"SVM\",\"LR\",\"A2C\",\"PPO\",\"DT\",\"RF\"],\"xaxis\":\"x\",\"y\":[-1.2927747380729329,-0.10352439811009075,0.8596234101821464,1.0898618276604937,9.466666024957984,11.045906612257372],\"yaxis\":\"y2\"},{\"name\":\"Multi-Step Average Correlation Coefficient          \",\"type\":\"bar\",\"width\":0.38,\"x\":[\"SVM\",\"LR\",\"A2C\",\"PPO\",\"DT\",\"RF\"],\"xaxis\":\"x\",\"y\":[0.019222984950259772,0.036550764412012535,0.06806253971769181,0.08397832915577597,0.1970049865712508,0.20088113229670926],\"yaxis\":\"y\"},{\"name\":\"Single-Step Average Correlation Coefficient           \",\"type\":\"bar\",\"width\":0.38,\"x\":[\"SVM\",\"LR\",\"A2C\",\"PPO\",\"DT\",\"RF\"],\"xaxis\":\"x\",\"y\":[0.288559965856095,0.27433842446672874,0.007772960753848868,0.013263402023177653,0.5683921378442452,0.671902989057852],\"yaxis\":\"y\"}],                        {\"font\":{\"size\":15},\"legend\":{\"x\":0.95,\"xanchor\":\"right\",\"y\":1.5,\"yanchor\":\"top\"},\"paper_bgcolor\":\"rgba(1,1,0,0)\",\"plot_bgcolor\":\"rgba(1, 1, 0, 0)\",\"template\":{\"data\":{\"bar\":[{\"error_x\":{\"color\":\"#2a3f5f\"},\"error_y\":{\"color\":\"#2a3f5f\"},\"marker\":{\"line\":{\"color\":\"#E5ECF6\",\"width\":0.5},\"pattern\":{\"fillmode\":\"overlay\",\"size\":10,\"solidity\":0.2}},\"type\":\"bar\"}],\"barpolar\":[{\"marker\":{\"line\":{\"color\":\"#E5ECF6\",\"width\":0.5},\"pattern\":{\"fillmode\":\"overlay\",\"size\":10,\"solidity\":0.2}},\"type\":\"barpolar\"}],\"carpet\":[{\"aaxis\":{\"endlinecolor\":\"#2a3f5f\",\"gridcolor\":\"white\",\"linecolor\":\"white\",\"minorgridcolor\":\"white\",\"startlinecolor\":\"#2a3f5f\"},\"baxis\":{\"endlinecolor\":\"#2a3f5f\",\"gridcolor\":\"white\",\"linecolor\":\"white\",\"minorgridcolor\":\"white\",\"startlinecolor\":\"#2a3f5f\"},\"type\":\"carpet\"}],\"choropleth\":[{\"colorbar\":{\"outlinewidth\":0,\"ticks\":\"\"},\"type\":\"choropleth\"}],\"contour\":[{\"colorbar\":{\"outlinewidth\":0,\"ticks\":\"\"},\"colorscale\":[[0.0,\"#0d0887\"],[0.1111111111111111,\"#46039f\"],[0.2222222222222222,\"#7201a8\"],[0.3333333333333333,\"#9c179e\"],[0.4444444444444444,\"#bd3786\"],[0.5555555555555556,\"#d8576b\"],[0.6666666666666666,\"#ed7953\"],[0.7777777777777778,\"#fb9f3a\"],[0.8888888888888888,\"#fdca26\"],[1.0,\"#f0f921\"]],\"type\":\"contour\"}],\"contourcarpet\":[{\"colorbar\":{\"outlinewidth\":0,\"ticks\":\"\"},\"type\":\"contourcarpet\"}],\"heatmap\":[{\"colorbar\":{\"outlinewidth\":0,\"ticks\":\"\"},\"colorscale\":[[0.0,\"#0d0887\"],[0.1111111111111111,\"#46039f\"],[0.2222222222222222,\"#7201a8\"],[0.3333333333333333,\"#9c179e\"],[0.4444444444444444,\"#bd3786\"],[0.5555555555555556,\"#d8576b\"],[0.6666666666666666,\"#ed7953\"],[0.7777777777777778,\"#fb9f3a\"],[0.8888888888888888,\"#fdca26\"],[1.0,\"#f0f921\"]],\"type\":\"heatmap\"}],\"heatmapgl\":[{\"colorbar\":{\"outlinewidth\":0,\"ticks\":\"\"},\"colorscale\":[[0.0,\"#0d0887\"],[0.1111111111111111,\"#46039f\"],[0.2222222222222222,\"#7201a8\"],[0.3333333333333333,\"#9c179e\"],[0.4444444444444444,\"#bd3786\"],[0.5555555555555556,\"#d8576b\"],[0.6666666666666666,\"#ed7953\"],[0.7777777777777778,\"#fb9f3a\"],[0.8888888888888888,\"#fdca26\"],[1.0,\"#f0f921\"]],\"type\":\"heatmapgl\"}],\"histogram\":[{\"marker\":{\"pattern\":{\"fillmode\":\"overlay\",\"size\":10,\"solidity\":0.2}},\"type\":\"histogram\"}],\"histogram2d\":[{\"colorbar\":{\"outlinewidth\":0,\"ticks\":\"\"},\"colorscale\":[[0.0,\"#0d0887\"],[0.1111111111111111,\"#46039f\"],[0.2222222222222222,\"#7201a8\"],[0.3333333333333333,\"#9c179e\"],[0.4444444444444444,\"#bd3786\"],[0.5555555555555556,\"#d8576b\"],[0.6666666666666666,\"#ed7953\"],[0.7777777777777778,\"#fb9f3a\"],[0.8888888888888888,\"#fdca26\"],[1.0,\"#f0f921\"]],\"type\":\"histogram2d\"}],\"histogram2dcontour\":[{\"colorbar\":{\"outlinewidth\":0,\"ticks\":\"\"},\"colorscale\":[[0.0,\"#0d0887\"],[0.1111111111111111,\"#46039f\"],[0.2222222222222222,\"#7201a8\"],[0.3333333333333333,\"#9c179e\"],[0.4444444444444444,\"#bd3786\"],[0.5555555555555556,\"#d8576b\"],[0.6666666666666666,\"#ed7953\"],[0.7777777777777778,\"#fb9f3a\"],[0.8888888888888888,\"#fdca26\"],[1.0,\"#f0f921\"]],\"type\":\"histogram2dcontour\"}],\"mesh3d\":[{\"colorbar\":{\"outlinewidth\":0,\"ticks\":\"\"},\"type\":\"mesh3d\"}],\"parcoords\":[{\"line\":{\"colorbar\":{\"outlinewidth\":0,\"ticks\":\"\"}},\"type\":\"parcoords\"}],\"pie\":[{\"automargin\":true,\"type\":\"pie\"}],\"scatter\":[{\"marker\":{\"colorbar\":{\"outlinewidth\":0,\"ticks\":\"\"}},\"type\":\"scatter\"}],\"scatter3d\":[{\"line\":{\"colorbar\":{\"outlinewidth\":0,\"ticks\":\"\"}},\"marker\":{\"colorbar\":{\"outlinewidth\":0,\"ticks\":\"\"}},\"type\":\"scatter3d\"}],\"scattercarpet\":[{\"marker\":{\"colorbar\":{\"outlinewidth\":0,\"ticks\":\"\"}},\"type\":\"scattercarpet\"}],\"scattergeo\":[{\"marker\":{\"colorbar\":{\"outlinewidth\":0,\"ticks\":\"\"}},\"type\":\"scattergeo\"}],\"scattergl\":[{\"marker\":{\"colorbar\":{\"outlinewidth\":0,\"ticks\":\"\"}},\"type\":\"scattergl\"}],\"scattermapbox\":[{\"marker\":{\"colorbar\":{\"outlinewidth\":0,\"ticks\":\"\"}},\"type\":\"scattermapbox\"}],\"scatterpolar\":[{\"marker\":{\"colorbar\":{\"outlinewidth\":0,\"ticks\":\"\"}},\"type\":\"scatterpolar\"}],\"scatterpolargl\":[{\"marker\":{\"colorbar\":{\"outlinewidth\":0,\"ticks\":\"\"}},\"type\":\"scatterpolargl\"}],\"scatterternary\":[{\"marker\":{\"colorbar\":{\"outlinewidth\":0,\"ticks\":\"\"}},\"type\":\"scatterternary\"}],\"surface\":[{\"colorbar\":{\"outlinewidth\":0,\"ticks\":\"\"},\"colorscale\":[[0.0,\"#0d0887\"],[0.1111111111111111,\"#46039f\"],[0.2222222222222222,\"#7201a8\"],[0.3333333333333333,\"#9c179e\"],[0.4444444444444444,\"#bd3786\"],[0.5555555555555556,\"#d8576b\"],[0.6666666666666666,\"#ed7953\"],[0.7777777777777778,\"#fb9f3a\"],[0.8888888888888888,\"#fdca26\"],[1.0,\"#f0f921\"]],\"type\":\"surface\"}],\"table\":[{\"cells\":{\"fill\":{\"color\":\"#EBF0F8\"},\"line\":{\"color\":\"white\"}},\"header\":{\"fill\":{\"color\":\"#C8D4E3\"},\"line\":{\"color\":\"white\"}},\"type\":\"table\"}]},\"layout\":{\"annotationdefaults\":{\"arrowcolor\":\"#2a3f5f\",\"arrowhead\":0,\"arrowwidth\":1},\"autotypenumbers\":\"strict\",\"coloraxis\":{\"colorbar\":{\"outlinewidth\":0,\"ticks\":\"\"}},\"colorscale\":{\"diverging\":[[0,\"#8e0152\"],[0.1,\"#c51b7d\"],[0.2,\"#de77ae\"],[0.3,\"#f1b6da\"],[0.4,\"#fde0ef\"],[0.5,\"#f7f7f7\"],[0.6,\"#e6f5d0\"],[0.7,\"#b8e186\"],[0.8,\"#7fbc41\"],[0.9,\"#4d9221\"],[1,\"#276419\"]],\"sequential\":[[0.0,\"#0d0887\"],[0.1111111111111111,\"#46039f\"],[0.2222222222222222,\"#7201a8\"],[0.3333333333333333,\"#9c179e\"],[0.4444444444444444,\"#bd3786\"],[0.5555555555555556,\"#d8576b\"],[0.6666666666666666,\"#ed7953\"],[0.7777777777777778,\"#fb9f3a\"],[0.8888888888888888,\"#fdca26\"],[1.0,\"#f0f921\"]],\"sequentialminus\":[[0.0,\"#0d0887\"],[0.1111111111111111,\"#46039f\"],[0.2222222222222222,\"#7201a8\"],[0.3333333333333333,\"#9c179e\"],[0.4444444444444444,\"#bd3786\"],[0.5555555555555556,\"#d8576b\"],[0.6666666666666666,\"#ed7953\"],[0.7777777777777778,\"#fb9f3a\"],[0.8888888888888888,\"#fdca26\"],[1.0,\"#f0f921\"]]},\"colorway\":[\"#636efa\",\"#EF553B\",\"#00cc96\",\"#ab63fa\",\"#FFA15A\",\"#19d3f3\",\"#FF6692\",\"#B6E880\",\"#FF97FF\",\"#FECB52\"],\"font\":{\"color\":\"#2a3f5f\"},\"geo\":{\"bgcolor\":\"white\",\"lakecolor\":\"white\",\"landcolor\":\"#E5ECF6\",\"showlakes\":true,\"showland\":true,\"subunitcolor\":\"white\"},\"hoverlabel\":{\"align\":\"left\"},\"hovermode\":\"closest\",\"mapbox\":{\"style\":\"light\"},\"paper_bgcolor\":\"white\",\"plot_bgcolor\":\"#E5ECF6\",\"polar\":{\"angularaxis\":{\"gridcolor\":\"white\",\"linecolor\":\"white\",\"ticks\":\"\"},\"bgcolor\":\"#E5ECF6\",\"radialaxis\":{\"gridcolor\":\"white\",\"linecolor\":\"white\",\"ticks\":\"\"}},\"scene\":{\"xaxis\":{\"backgroundcolor\":\"#E5ECF6\",\"gridcolor\":\"white\",\"gridwidth\":2,\"linecolor\":\"white\",\"showbackground\":true,\"ticks\":\"\",\"zerolinecolor\":\"white\"},\"yaxis\":{\"backgroundcolor\":\"#E5ECF6\",\"gridcolor\":\"white\",\"gridwidth\":2,\"linecolor\":\"white\",\"showbackground\":true,\"ticks\":\"\",\"zerolinecolor\":\"white\"},\"zaxis\":{\"backgroundcolor\":\"#E5ECF6\",\"gridcolor\":\"white\",\"gridwidth\":2,\"linecolor\":\"white\",\"showbackground\":true,\"ticks\":\"\",\"zerolinecolor\":\"white\"}},\"shapedefaults\":{\"line\":{\"color\":\"#2a3f5f\"}},\"ternary\":{\"aaxis\":{\"gridcolor\":\"white\",\"linecolor\":\"white\",\"ticks\":\"\"},\"baxis\":{\"gridcolor\":\"white\",\"linecolor\":\"white\",\"ticks\":\"\"},\"bgcolor\":\"#E5ECF6\",\"caxis\":{\"gridcolor\":\"white\",\"linecolor\":\"white\",\"ticks\":\"\"}},\"title\":{\"x\":0.05},\"xaxis\":{\"automargin\":true,\"gridcolor\":\"white\",\"linecolor\":\"white\",\"ticks\":\"\",\"title\":{\"standoff\":15},\"zerolinecolor\":\"white\",\"zerolinewidth\":2},\"yaxis\":{\"automargin\":true,\"gridcolor\":\"white\",\"linecolor\":\"white\",\"ticks\":\"\",\"title\":{\"standoff\":15},\"zerolinecolor\":\"white\",\"zerolinewidth\":2}}},\"xaxis\":{\"anchor\":\"y\",\"domain\":[0.0,0.94],\"gridcolor\":\"LightSteelBlue\",\"gridwidth\":1,\"linecolor\":\"black\",\"mirror\":true,\"showgrid\":true,\"showline\":true,\"title\":{\"text\":\"Model\"}},\"yaxis\":{\"anchor\":\"x\",\"domain\":[0.0,1.0],\"gridcolor\":\"LightSteelBlue\",\"gridwidth\":1,\"linecolor\":\"black\",\"mirror\":true,\"range\":[-0.1,0.1],\"showgrid\":true,\"showline\":true,\"title\":{\"text\":\"Average Correlation Coefficient\"},\"zeroline\":true,\"zerolinecolor\":\"LightSteelBlue\",\"zerolinewidth\":1},\"yaxis2\":{\"anchor\":\"x\",\"overlaying\":\"y\",\"range\":[-0.5,2.5],\"side\":\"right\",\"title\":{\"text\":\"Sharpe Ratio\"},\"zeroline\":true,\"zerolinecolor\":\"LightSteelBlue\",\"zerolinewidth\":1}},                        {\"responsive\": true}                    ).then(function(){\n",
       "                            \n",
       "var gd = document.getElementById('70c15b67-5e01-4049-85b5-cd201976a5dd');\n",
       "var x = new MutationObserver(function (mutations, observer) {{\n",
       "        var display = window.getComputedStyle(gd).display;\n",
       "        if (!display || display === 'none') {{\n",
       "            console.log([gd, 'removed!']);\n",
       "            Plotly.purge(gd);\n",
       "            observer.disconnect();\n",
       "        }}\n",
       "}});\n",
       "\n",
       "// Listen for the removal of the full notebook cells\n",
       "var notebookContainer = gd.closest('#notebook-container');\n",
       "if (notebookContainer) {{\n",
       "    x.observe(notebookContainer, {childList: true});\n",
       "}}\n",
       "\n",
       "// Listen for the clearing of the current output cell\n",
       "var outputEl = gd.closest('.output');\n",
       "if (outputEl) {{\n",
       "    x.observe(outputEl, {childList: true});\n",
       "}}\n",
       "\n",
       "                        })                };                });            </script>        </div>"
      ]
     },
     "metadata": {},
     "output_type": "display_data"
    }
   ],
   "source": [
    "import plotly.graph_objects as go\n",
    "from plotly.subplots import make_subplots\n",
    "\n",
    "# Create figure with secondary y-axis\n",
    "fig = make_subplots(specs=[[{\"secondary_y\": True}]])\n",
    "\n",
    "# Add traces\n",
    "fig.add_trace(\n",
    "    go.Scatter(x=postiveRatiom['algo'], y=postiveRatiom['Sharpe Ratio'], name=\"Sharpe Ratio\", marker_size = 15, line_width=5),\n",
    "    secondary_y=True,\n",
    ")\n",
    "\n",
    "fig.add_trace(\n",
    "    go.Bar(x=postiveRatiom['algo'], y=postiveRatiom['avg_correlation_coefficient'], name=\"Multi-Step Average Correlation Coefficient          \", width\n",
    "    =0.38),\n",
    "    secondary_y=False,\n",
    ")\n",
    "fig.add_trace(\n",
    "    go.Bar(x=postiveRatio['algo'], y=postiveRatio['avg_correlation_coefficient'], name=\"Single-Step Average Correlation Coefficient           \", width\n",
    "    =0.38),\n",
    "    secondary_y=False,\n",
    ")\n",
    "    \n",
    "fig.update_layout(\n",
    "    paper_bgcolor='rgba(1,1,0,0)',\n",
    "    plot_bgcolor='rgba(1, 1, 0, 0)',\n",
    ")\n",
    "fig.update_layout(legend=dict(\n",
    "    yanchor=\"top\",\n",
    "    y=1.5,\n",
    "    xanchor=\"right\",\n",
    "    x=0.95\n",
    "))\n",
    "fig.update_layout(font_size = 15)\n",
    "\n",
    "# Set x-axis title\n",
    "fig.update_xaxes(title_text=\"Model\")\n",
    "fig.update_xaxes(showline=True, linecolor='black',showgrid=True,gridwidth=1, gridcolor='LightSteelBlue',mirror=True)\n",
    "fig.update_yaxes(showline=True,linecolor='black',showgrid=True, secondary_y=False, gridwidth=1, gridcolor='LightSteelBlue',mirror=True)\n",
    "fig.update_yaxes(zeroline=True, zerolinewidth=1, zerolinecolor='LightSteelBlue')\n",
    "# Set y-axes titles\n",
    "fig.update_yaxes(title_text=\"Average Correlation Coefficient\", secondary_y=False, range = [-0.1,0.1])\n",
    "fig.update_yaxes(title_text=\"Sharpe Ratio\", secondary_y=True,range = [-0.5,2.5])\n",
    "\n",
    "fig.show()"
   ]
  },
  {
   "cell_type": "markdown",
   "metadata": {
    "id": "p5vQar1zIACp"
   },
   "source": [
    "#### The correlation coefficient represents the level of prediction power. \n",
    "\n",
    "We found that:\n",
    ">*  The sharpe ratio is in accordance with both single-step and  multi-step average correlation coefficient.\n",
    ">* DRL agents is better at multi-step prediction than ML algorithms while worse at single-step prediction"
   ]
  },
  {
   "cell_type": "code",
   "execution_count": 127,
   "metadata": {
    "colab": {
     "base_uri": "https://localhost:8080/",
     "height": 467
    },
    "id": "ZaMzEa2UxmI6",
    "outputId": "bf84c72b-9937-49c5-9cd6-da11e84f9f8c"
   },
   "outputs": [
    {
     "data": {
      "application/vnd.plotly.v1+json": {
       "config": {
        "plotlyServerURL": "https://plot.ly"
       },
       "data": [
        {
         "histnorm": "probability",
         "name": "A2C",
         "nbinsx": 25,
         "type": "histogram",
         "x": [
          -0.5634432606237263,
          0.05313752285458029,
          0.5507537572546207,
          -0.4279941258702547,
          -0.2520311477868507,
          0.3206802800439257,
          0.5370456001540684,
          0.4642898313727363,
          0.3591101034987142,
          0.20340327857543067,
          0.05053331991998616,
          -0.5487782653909988,
          -0.747331430984715,
          0.37821532911256506,
          0.27568229629297825,
          -0.07034335706171974,
          -0.1600680372622069,
          0.27020474732980887,
          -0.6443244602358734,
          0.4902012788346088,
          0.5832366701997466,
          0.6115474836421645,
          -0.7467949079966288,
          0.7007983980661813,
          -0.797829710238182,
          0.4925700563943054,
          -0.19931705148628054,
          0.25963648183350274,
          0.5007887731900744,
          0.3839857243785574,
          -0.11837505521716896,
          -0.17838916078633532,
          0.4772131281391682,
          0.2993906383328088,
          -0.3388966082596919,
          -0.19782102440868835,
          -0.7808068365377793,
          0.2869524136697404,
          0.21129316529972303,
          -0.3255012942029107,
          0.23732978997876364,
          -0.35456101709293464,
          0.35989093509351205,
          0.24574643622805856,
          -0.05739141740795222,
          0.05777000426948624,
          0.20481213144641566,
          -0.18989861977632266,
          0.1840485173345175,
          -0.2743970937309556,
          0.19686915406742342,
          -0.2437790251391606,
          0.3347239705962736,
          -0.25069901014998197,
          0.19157354436014695,
          -0.8658658769706433,
          -0.24816507839286264,
          -0.6255440109978995,
          0.69723091260021,
          -0.5675885919592275,
          0.297467196054972,
          0.3505080777963073,
          -0.39304245936329213,
          -0.3247325841075882,
          0.09827272370134178,
          0.3569166517713896,
          -0.13675078142685385,
          0.02989462638712212,
          0.06746179011845291,
          0.2237119407080207,
          -0.050099651194393705,
          -0.018630152254165783,
          -0.028416249796998846,
          0.08886581593347202,
          0.16191993095303758,
          0.17024490676840137,
          0.2498686920743182,
          0.29866885360872414,
          0.28804148338300284,
          -0.09614493875794937,
          0.23111367942454236,
          -0.1229265621377521,
          0.13263256094720494,
          0.2745409780525507,
          0.5568101446616581,
          -0.7283040689280055,
          -0.6597144554248594,
          -0.4196164410481566,
          -0.41528993546594545,
          0.21235072685634038,
          0.15940977796889017,
          0.3543849888245563,
          -0.34573206175853666,
          -0.06420768026311506,
          -0.13351268842824948,
          -0.008087692129187503,
          0.29413137209153106,
          -0.6959925867799577,
          -0.10088296013070858,
          -0.5662229982315482,
          0.8206492858291802,
          0.8265113120676637,
          0.8203066928949575,
          -0.7883308626772264,
          -0.5102069179966925,
          -0.4680706451064653,
          0.541297592187258,
          -0.5605920596260179,
          0.5560649741764414,
          0.6595633875438065,
          -0.7423501135368623,
          -0.7683232184867645,
          0.6670281173819355,
          0.6155637565356089,
          0.7309514591772799,
          0.6072839817768769,
          -0.2801475069081965,
          0.05809171389610334,
          -0.20252877222195068,
          -0.153193275967849,
          -0.12194023780613214,
          0.5586428022886839,
          0.005143591779477557,
          0.04418780773947134,
          0.1460261704853417,
          0.27515256316511905,
          -0.053395874717508514,
          0.2890015592699691,
          -0.21143533896774883,
          -0.11754163903275021,
          -0.15186667320053657,
          -0.22249648610078804,
          0.17421629117767073,
          -0.19974249483499257,
          -0.5368372088236405,
          0.207588026651624,
          0.14076196824551498,
          -0.31256172778349967,
          -0.3017103035990854,
          0.07329896926734335,
          -0.5439325298278419,
          -0.7631404118442775,
          -0.5128059609291064,
          -0.5782039648157846,
          -0.6365223876848397,
          -0.11391010999241076,
          0.1348321747823913,
          0.03137230602818205,
          -0.03237485179864172,
          -0.7253588448927627,
          -0.02295835670772209,
          0.0030627744053818118,
          -0.20086023859778215,
          0.25058775927705557,
          -0.21701926258700785,
          0.20987076155784862,
          -0.10361743189386721,
          -0.6568845388231217,
          -0.6911750174179948,
          -0.7230682081612607,
          -0.15028755927766915,
          0.7094206458248952,
          0.556288549773342,
          0.5482540075284043,
          -0.5582671334569552,
          -0.5971100540493516,
          -0.7154828258904855,
          0.7153351216842773,
          -0.6160747920256705,
          -0.4771941497827226,
          -0.2954728213802341,
          0.4283168107247527,
          -0.7736512555781915,
          -0.6919370343623947,
          0.37900429455781237,
          0.8067914888321208,
          0.2640780582190155,
          0.7436955209748574,
          0.1109607226488559,
          -0.5045451751634423,
          0.6761277740209052,
          0.786380637728293,
          -0.19473514013116253,
          -0.3109070989769941,
          0.06272795721210209,
          0.0012473964757977875,
          -0.050928678659952924,
          0.07891133512166193,
          0.0026317194897595383,
          0.1368638316189621,
          -0.24713580481539166,
          -0.30190235321548925,
          -0.6267022383417213,
          0.6424647589584773,
          0.7694226035088411,
          -0.12182505720337919,
          0.6258388383271661,
          0.6567179218431921,
          -0.5282502653957951,
          0.6774753558279991,
          0.5477686460922426,
          0.6754679913304416,
          -0.3430127256518132,
          -0.42250541240538936,
          -0.44743535692496156,
          -0.39706966829134116,
          0.3211253112066509,
          -0.6019961749936046,
          0.5114892105547675,
          -0.07708738084053998,
          0.4885798322594172,
          -0.5771454430295492,
          -0.5229645859166184,
          0.5942751052611692,
          0.7051988190078817,
          0.7365507690942982,
          0.5720460820538515,
          -0.712970721756275,
          0.6139536405267911,
          0.6904117633483279,
          0.7154842953488176,
          -0.539232710827207,
          0.5364579183379159,
          0.6532897298450763,
          0.5531853567787178,
          0.26398768276245865,
          -0.36236921392871957,
          -0.4505722941606219,
          0.5338082345346408,
          -0.3793602173072608,
          0.46914232650379284,
          -0.0499964895595459,
          0.2770429310684368,
          -0.20265212365999863,
          -0.12066393154498437,
          0.06940078883394057,
          -0.009450484568193753,
          -0.01653074153497218,
          -0.04023171058627022,
          0.04722551397174897,
          0.20363078138477622,
          -0.46658159872749805,
          -0.6561005035981815,
          -0.48072858134445934,
          0.10656741012548447,
          0.09548860878731269,
          -0.2972264913704267,
          0.2874205696941491,
          -0.27875721541632104,
          -0.27221780143149976,
          -0.1577528971835568,
          0.17522519341071954,
          0.22882278654574706,
          -0.0842071032807496,
          0.1537368651334794
         ],
         "xaxis": "x",
         "yaxis": "y"
        },
        {
         "histnorm": "probability",
         "name": "PPO",
         "nbinsx": 25,
         "type": "histogram",
         "x": [
          -0.5945671368592683,
          -0.10382638600156574,
          0.4322759298937021,
          -0.3865591342449668,
          -0.3009857275919135,
          0.30519978964564975,
          0.4517340906095158,
          0.48989512424915754,
          0.3481009526529183,
          0.20714405742550376,
          0.17560618078471157,
          -0.48017045872965136,
          -0.7667457704735999,
          0.32938749763070513,
          0.15462645148196075,
          0.025788256577126484,
          -0.05212568061647675,
          0.2642716578994657,
          -0.6405428246072221,
          0.6434914953745273,
          0.44014511759428604,
          0.5943918688288121,
          -0.6459464437889105,
          0.6599171423529676,
          -0.6582599530590307,
          0.5739908465538598,
          -0.37699045463236086,
          0.4080619132109131,
          0.4806557282319975,
          0.3827656677964471,
          0.022355178175017608,
          -0.20328425345575915,
          0.21406317751208528,
          0.19605362891572212,
          -0.27402433913116586,
          -0.2964839776429174,
          -0.7783042601176716,
          0.22573031259940898,
          0.09457252289477426,
          -0.29032296439378624,
          0.28110475170884314,
          -0.22415196813505925,
          0.2687743027430914,
          0.22044485667182892,
          -0.20237209665394204,
          -0.3125991142888953,
          0.29453555107211454,
          -0.2250955290203823,
          0.3062100264386672,
          -0.3298058005574368,
          0.30230348726100686,
          -0.3553387585408576,
          0.371860850031634,
          -0.4853155109831994,
          0.5244614925572263,
          -0.8403085731003526,
          -0.11350391589726483,
          -0.7494642266111278,
          0.7890216831342881,
          -0.5715017309515089,
          -0.0473036598440781,
          0.39709245750188915,
          -0.4136685626892151,
          -0.3696877550763289,
          0.3879907391080959,
          0.4512738638694816,
          -0.21229055325447646,
          -0.09322028124229394,
          0.11984567668342842,
          -0.04274651291733199,
          -0.031556179031582476,
          0.07404863773010605,
          -0.10707141804689525,
          0.09848467026409916,
          0.2358194830786181,
          0.1819816302504708,
          0.13360683173032822,
          0.16061140542104058,
          0.17177430460654677,
          -0.0761773756309543,
          0.08403551405769515,
          0.3305223174537491,
          0.2599561663193078,
          0.3790668444044121,
          0.4442732556493885,
          -0.6077881471672791,
          -0.6437176278313672,
          -0.4592315621485086,
          -0.37521999114427723,
          0.2194187314177514,
          0.03905988633506314,
          0.26448892750076036,
          -0.2339206165207942,
          -0.07002667573861833,
          -0.09969836194959651,
          -0.0760934462205428,
          0.37499793600604203,
          -0.5811845337953029,
          0.06030457709239545,
          -0.5427675776256401,
          0.7708413488183194,
          0.7460934685368218,
          0.746502514861533,
          -0.6538902576380563,
          -0.5241775312237166,
          -0.3881260519596038,
          0.5349280559606397,
          -0.5979594558691643,
          0.5759976735585025,
          0.5533462517896744,
          -0.6340897639914537,
          -0.6618290693506473,
          0.6956128906511982,
          0.639136303032654,
          0.6242264499432649,
          0.38088903677398395,
          -0.12894511673484454,
          0.13237665124949421,
          -0.13291716570951095,
          -0.12808382527435166,
          -0.16119625698842044,
          0.522378845810746,
          0.02791813342288882,
          -0.009556882060730758,
          0.23721644061905794,
          0.35716872042521147,
          -0.1989543647829971,
          0.16043486226606274,
          -0.03925911856092968,
          0.0412703590179346,
          -0.03480431063702994,
          -0.054677523991942416,
          0.10081978710630907,
          -0.282820414939875,
          -0.36188583339978025,
          -0.21703684048295185,
          0.17771514333091284,
          -0.30713866923386157,
          -0.19507188317196325,
          0.022270679974075756,
          -0.5989489608437515,
          -0.7571936618956845,
          -0.493877166937263,
          -0.5324599762932056,
          -0.6636959903897027,
          -0.11268755597518564,
          0.2643241487836517,
          -0.030754129805464353,
          0.15359490840761714,
          -0.5890628055107222,
          -0.20927638513627367,
          -0.07743596846518641,
          -0.06784438250951798,
          0.08305695644177041,
          -0.004952003243044415,
          0.03709356996057015,
          -0.19322510784140565,
          -0.5405281285543151,
          -0.5240875343866951,
          -0.6767374586815503,
          0.6096045357118047,
          0.765076106892421,
          0.5335765735692289,
          0.7879530088445047,
          -0.6668874770178133,
          -0.4179341187245219,
          -0.6892370119897496,
          0.7731915510221031,
          -0.4960422032701796,
          -0.4362733519109992,
          -0.5062110116536797,
          0.5046550759962213,
          -0.7233484810453299,
          -0.7620142336584168,
          0.3787650794123737,
          0.808534143310352,
          0.2894096235693005,
          0.7149693333646816,
          -0.07409428570723968,
          -0.48505239792945926,
          0.7612313324155853,
          0.7269975571586437,
          -0.229884856868154,
          -0.35586255888466817,
          0.30876695963522366,
          0.046286462435700074,
          -0.09074312211133673,
          0.09121742968480574,
          -0.09335152142678745,
          0.1692594389322199,
          -0.2916301621316094,
          -0.34493403363720593,
          -0.6534154723847886,
          0.6777044360741116,
          0.7555628424708816,
          -0.02787866400951772,
          0.6628893696834586,
          0.6611438836121021,
          -0.5457671487592778,
          0.5760644308447931,
          0.6385343188860365,
          0.44638810536394774,
          -0.42727481793061795,
          -0.4865009718113372,
          -0.34897626245773017,
          -0.3355426933256466,
          0.3106465088888714,
          -0.5508059835155442,
          0.5618655595267228,
          0.12199927137827643,
          0.4177476781885733,
          -0.5053595111224578,
          -0.5440732284016611,
          0.572692696818478,
          0.6742415637783107,
          0.833089257540969,
          0.6235244090015084,
          -0.757953368051915,
          0.6671609985818502,
          0.6288372526112278,
          0.7502202235004687,
          -0.6959108658450139,
          0.6625501649006871,
          0.6742778502089725,
          0.46052608865469463,
          0.23882053183887617,
          0.013103971092435709,
          -0.5008480989945824,
          0.5346643901930178,
          -0.43667810161375337,
          0.45365067301872775,
          -0.15963064788379525,
          0.20235983698027718,
          -0.09897051155507343,
          -0.26532636444646907,
          -0.08051906735532288,
          -0.25560807638190874,
          -0.03886084620908652,
          0.016177188118312626,
          0.21305622616609796,
          -0.18608026256923454,
          -0.4668204443470245,
          -0.7071126522220104,
          -0.5828060413967401,
          0.252564550023748,
          0.2626967616692585,
          -0.010463288322653152,
          0.012587701050906456,
          -0.1261394075614891,
          -0.16282502900179416,
          -0.13184797880322938,
          0.17127624028938318,
          0.3030202931918217,
          -0.2259013370249793,
          0.23477273377780603
         ],
         "xaxis": "x2",
         "yaxis": "y2"
        },
        {
         "histnorm": "probability",
         "name": "DT",
         "nbinsx": 25,
         "type": "histogram",
         "x": [
          0.9775394098207676,
          0.7728515374344535,
          1,
          -0.03732984031073757,
          0.6053042148498178,
          0.9999999999999999,
          1,
          0.9999999999999998,
          0.9999974344846021,
          1,
          0.9451605909815162,
          0.8911634917630942,
          0.9324651706538623,
          -0.9706869189530265,
          1,
          0.9999999999999998,
          1,
          0.9999999999999998,
          0.9999424778798189,
          1,
          1,
          1,
          1,
          0.9446289358593355,
          1,
          1,
          0.9610489025895327,
          1,
          0.9999999999999999,
          1,
          -0.9829792866788706,
          0.9999999999999999,
          0.9999999999999998,
          -0.9796308852076525,
          0.9968253611656118,
          0.9996738457953606,
          1,
          1,
          -0.9928163731996383,
          0.9919768285561765,
          0.9999999999999999,
          0.9959600907257375,
          0.9839830180294123,
          -0.9831325361369144,
          1,
          -0.8795744391585214,
          1,
          0.9999999999999998,
          -0.9889566716199412,
          1,
          1,
          0.9999999999999998,
          0.9999999999999999,
          0.9999999999999998,
          0.300558942527766,
          -0.9871580369135246,
          -0.5763812739907465,
          1,
          1,
          0.6270707172709936,
          1,
          -0.9885596665547147,
          0.9999999999999999,
          -0.9944405174633921,
          0.9999999999999999,
          -0.9850132323113192,
          -0.9960627530891949,
          -0.9803679877127341,
          1,
          0.4449163739391287,
          0.9999999999999999,
          1,
          0.9999999999999998,
          0.9967625538851571,
          1,
          1,
          -0.9636759739117754,
          -0.7090028057027555,
          0.811305331050999,
          -0.9133341301366227,
          0.954144683216131,
          1,
          1,
          0.9999999999999999,
          1,
          1,
          1,
          -0.9947967117470421,
          -0.9994118458254067,
          0.9974104819652699,
          0.998349771154196,
          -0.9995954709016895,
          1,
          -0.998220665458315,
          1,
          0.9602212352795853,
          1,
          0.9838233978237042,
          1,
          1,
          1,
          1,
          0.9448303058675239,
          0.9565295650700653,
          0.989998708437681,
          1,
          0.9999999999999999,
          0.9999899079205784,
          1,
          0.9999999999999999,
          0.9874726063935894,
          1,
          1,
          -0.9940294600466683,
          1,
          -0.9237495635846957,
          0.9521788806412002,
          0.11573252194822743,
          0.9641255994883933,
          1,
          1,
          1,
          0.9974803246278636,
          0.9999999999999999,
          1,
          0.9990404583252307,
          -0.3146216960219476,
          1,
          1,
          0.9999999981148973,
          1,
          0.9980860175371336,
          1,
          0.9999999999999998,
          1,
          0.20582427683266336,
          -0.962163334592871,
          0.9983273239089211,
          -0.42109592537342405,
          1,
          0.9980969318777907,
          0.9994316417707043,
          1,
          1,
          0.9903059610835211,
          1,
          0.9989532482228407,
          0.8657950277387849,
          -0.7048803737983612,
          0.9991762416923604,
          -0.8777151231321855,
          1,
          0.9999999999999998,
          -0.9808719919076136,
          0.8712469876227189,
          0.8174178302447848,
          1,
          1,
          0.9995149057964374,
          1,
          1,
          1,
          0.9999999999999998,
          0.9758715087805016,
          1,
          1,
          1,
          -0.9850192875339732,
          -0.8806778931022059,
          -0.8507326497677841,
          -0.9875419342432512,
          -0.992366180243763,
          -0.9985096970296575,
          1,
          0.9999999999999998,
          0.9999999999999998,
          0.9992630649204056,
          1,
          -0.9023698010253889,
          0.9999999999999999,
          0.9996845998074382,
          0.4583547586091148,
          0.9999999999999999,
          -0.9187072559092969,
          0.18471564126420956,
          1,
          0.9999999999999998,
          -0.8143945496011162,
          1,
          0.9891937101503065,
          1,
          -0.9992128856296614,
          1,
          1,
          1,
          0.9627079009326841,
          -0.927641314140411,
          0.9998628275599716,
          0.9999999999999998,
          1,
          -0.9530476203744819,
          1,
          0.9999999999999999,
          1,
          -0.9986237696758097,
          0.9244081037267148,
          0.9896702629215941,
          -0.9916201772479074,
          0.9999999999999999,
          1,
          0.9999999999999999,
          0.9968134549374952,
          -0.9259154867954629,
          1,
          0.9999999999999998,
          1,
          1,
          0.9971324423811748,
          0.9644446780050999,
          1,
          1,
          1,
          -0.9969098836626277,
          0.992683861617696,
          1,
          1,
          -0.30628405666930797,
          0.9999999999999998,
          1,
          1,
          0.9671509719935061,
          1,
          -0.676016109425718,
          0.899566926937354,
          -0.052201599137330044,
          0.9803022236863784,
          0.5242087354737557,
          0.9999999999999999,
          1,
          1,
          -0.31380093609859044,
          -0.9939140823014418,
          1,
          0.9999999999999999,
          0.45805022734758605,
          -0.9977395609097631,
          0.9999999999999998,
          0.05761319370649174,
          1,
          0.630595784827358,
          0.7524993017157797,
          0.9999999999999998,
          -0.961205838142693,
          -0.9639550938005449,
          0.9812240530244761
         ],
         "xaxis": "x3",
         "yaxis": "y3"
        },
        {
         "histnorm": "probability",
         "name": "LR",
         "nbinsx": 25,
         "type": "histogram",
         "x": [
          0.9775394098207678,
          -0.8251817637542977,
          0.9994272772594801,
          -0.9994474884307413,
          -0.6525689128502464,
          0.946946941191513,
          1,
          0.9999999999999998,
          0.9999188224358077,
          0.8781165581179932,
          0.9999999999999999,
          0.891163491763095,
          1,
          -0.9727379883876183,
          -0.9399152174069219,
          0.5581782314357552,
          0.8076817899824129,
          1,
          -0.9745483727090972,
          0.9010835071886176,
          1,
          1,
          0.9481687681100776,
          1,
          -0.95026020103153,
          0.9866152257243226,
          -0.8934638988570774,
          -0.9907230650048087,
          0.9885726125436948,
          1,
          -0.9829792866788708,
          0.9999999999999999,
          -0.9972084844790209,
          -0.9796308852076526,
          0.9174704617974736,
          0.23053246213993114,
          1,
          1,
          -0.9928163731996381,
          null,
          0.9999999999999999,
          -0.9460117775635549,
          -0.9648883794912972,
          0.9753110459780882,
          0.9867134456896774,
          0.9993330303379078,
          0.9985304086621798,
          -0.9476647869865704,
          -0.9889566716199412,
          0.9238471363319963,
          0.9718938441248222,
          0.9999999999999998,
          0.9999999999999996,
          -0.8298183153414211,
          0.7832068993106843,
          -0.8944320556231339,
          -0.42804591672008424,
          1,
          -0.9702790129011262,
          0.6270707172709933,
          1,
          -0.3294815942476146,
          -0.7561188896204154,
          -0.6879016130753269,
          1,
          -0.9850132323113192,
          1,
          0.8204268511735716,
          0.8480935479843629,
          1,
          -0.9512577476364033,
          -0.27557001035564677,
          0.9876335172118396,
          0.9999999999999998,
          -0.8553177022605439,
          0.989166450332992,
          -0.9529508683626524,
          -0.6277836704993347,
          -0.7314087213571114,
          0.009086432808791279,
          0.8400212497250783,
          1,
          0.9999999999999999,
          1,
          -0.9941784199444818,
          1,
          0.9999999999999998,
          -0.9947967117470421,
          0.9999999999999999,
          0.9974104819652699,
          0.998349771154196,
          -0.9995954709016895,
          1,
          -0.9982206654583148,
          0.9818841615609896,
          -0.9625288621876504,
          -0.9893369176571156,
          1,
          -0.9105820115946488,
          -0.998292023794261,
          -0.9845925644677089,
          -0.9825571918989697,
          0.9448303058675245,
          0.9938918126604903,
          -0.9901514914882523,
          0.9999999999999998,
          0.973541636514082,
          0.9999899079205784,
          1,
          0.9443962182335698,
          0.9874726063935894,
          -0.9939922315006201,
          0.9147152043581706,
          -0.9940294600466681,
          0.9999999999999999,
          -0.9237495635846955,
          0.9999999999999999,
          0.11573252194834308,
          -0.9848347826276878,
          0.9608995917810116,
          -0.9449060824792275,
          0.9999006080910777,
          -0.5659660468842476,
          -0.33849636748981216,
          0.9074560130899869,
          0.9464665317692484,
          0.6613112427580905,
          1,
          0.3925405555012638,
          0.9987659764958784,
          1,
          0.9980860175371336,
          1,
          1,
          1,
          1,
          0.9976231934277473,
          0.6409893758993157,
          -0.8562392317189483,
          1,
          0.9984060423292335,
          -0.998608366485689,
          -0.9857108665498597,
          -0.9661473837729144,
          -0.8846633514043483,
          0.9999999999999998,
          -0.914938458855059,
          1,
          -0.7048803737983618,
          -0.6743893332653381,
          -0.8777151231321835,
          0.9855809276441373,
          0.9999999999999998,
          -0.9808719919076136,
          0.5790232325485162,
          0.8174178302447849,
          1,
          0.956949706649611,
          0.9995149057964374,
          1,
          1,
          0.9858041159979353,
          0.9976808225647112,
          1,
          0.9800933277159858,
          0.7898194151439668,
          0.9999999999999999,
          -0.9850192875339736,
          1,
          0.9999999999999998,
          -0.9603496097588219,
          0.9942830387277115,
          -0.9652661343237643,
          -0.9993871598549435,
          -0.9784907374705896,
          -0.9036252317986715,
          0.9999999999999998,
          -0.9993289882543612,
          0.9792030277571306,
          0.9655412282466884,
          0.9564214703263852,
          0.9984892566937651,
          0.7816514043409623,
          -0.9187072559092953,
          -0.7485787604860291,
          1,
          0.9999999999999997,
          -0.8143945496011148,
          -0.9453960508051604,
          1,
          0.9894833359210302,
          0.9949976040772553,
          0.9928055387114493,
          1,
          0.9999999999999998,
          0.9627079009326834,
          0.9485100444385058,
          -0.9895737848386583,
          1,
          0.9743250223421114,
          -0.9530476203744797,
          1,
          1,
          1,
          -0.9351362254084529,
          0.9244081037267158,
          0.9896702629215943,
          -0.9916201772479076,
          1,
          1,
          1,
          -0.5075967711369653,
          -0.9259154867954629,
          -0.9845838934838188,
          -0.9968195631118817,
          1,
          1,
          0.9999999999999999,
          0.9995961506632312,
          -0.8698538300310046,
          -0.7973974929596598,
          -0.9566578258629312,
          -0.9594729076028394,
          -0.9652233480736165,
          0.4987499952444863,
          -0.388029809605342,
          1,
          -0.961300993083246,
          1,
          0.970355257520763,
          0.9997468613874688,
          -0.040539819594042764,
          0.9361996357542948,
          0.9999970859695602,
          -0.8073948751169766,
          0.9370696639450597,
          0.49731109420628467,
          -0.8325397757071941,
          -0.8805718656496955,
          0.9999999999999999,
          1,
          0.9873587996516391,
          0.953104667717244,
          -0.9738235263606357,
          0.4580502273475812,
          -0.11692166348206146,
          0.9999999999999998,
          1,
          0.9999999999999999,
          1,
          0.7387008722374785,
          -0.5238864597922475,
          -0.5933433695107421,
          0.6894762317959098,
          0.1646009351683248
         ],
         "xaxis": "x4",
         "yaxis": "y4"
        },
        {
         "histnorm": "probability",
         "name": "SVM",
         "nbinsx": 25,
         "type": "histogram",
         "x": [
          0.9775394098207678,
          -0.8251817637542979,
          0.9994272772594802,
          -0.9994474884307412,
          -0.6525689128502464,
          0.946946941191513,
          -0.18416144288889,
          0.9834738197292429,
          0.7956427700518525,
          0.8781165581179919,
          0.9999999999999999,
          0.8911634917630944,
          1,
          -0.9727379883876185,
          -0.9399152174069221,
          0.5581782314357573,
          0.8076817899824125,
          1,
          0.9999999999999996,
          -0.8981425611486108,
          -0.8674596060140244,
          -0.9840741749963114,
          0.9225534904320962,
          -0.9750710101772708,
          0.9005956857592423,
          1,
          0.9610489025895328,
          0.9999999999999999,
          1,
          0.9999999999999998,
          -0.9829792866788708,
          1,
          0.9999988853850862,
          -0.9796308852076526,
          0.9174704617974738,
          0.23053246213993236,
          -0.9481264588788133,
          0.9999999999999998,
          -0.9928163731996383,
          0.9854704463541663,
          1,
          -0.9460117775635551,
          -0.964888379491297,
          0.9753110459780883,
          0.9999999999999999,
          0.9999999999999999,
          0.8800542322409901,
          -0.94766478698657,
          -0.9904717672237728,
          0.9238471363319949,
          0.9718938441248222,
          -0.9642617271217219,
          0.9226808688874779,
          0.9999999999999998,
          0.7832068993106843,
          -0.8944320556231339,
          -0.4280459167200845,
          1,
          -0.9702790129011252,
          0.6270707172710471,
          1,
          -0.3294815942476146,
          -0.7561188896204154,
          -0.6879016130753312,
          1,
          -0.9850132323113194,
          -0.6293886766015265,
          0.8204268511735716,
          0.8480935479843743,
          1,
          -0.9512577476364033,
          -0.27557001035523937,
          0.9876335172118396,
          0.9999999999999998,
          -0.8553177022605538,
          0.9891664503329918,
          -0.9636759739117754,
          -0.6277836704993351,
          -0.7314087213571114,
          0.009086432808797618,
          0.8400212497250765,
          0.9999999999999998,
          1,
          0.9999999999999999,
          -0.9941784199444813,
          0.9976134595413543,
          0.9977679681416054,
          -0.9930651534831164,
          0.9999999999999998,
          0.9974104819652702,
          0.9983497711541964,
          -0.9995954709016895,
          1,
          -0.9982206654583148,
          0.9818841615609896,
          -0.9625288621876504,
          -0.9893369176571158,
          1,
          -0.9105820115946488,
          -0.9982920237942607,
          -0.9845925644677089,
          -0.9825571918989696,
          0.9448303058675237,
          0.9938918126604903,
          -0.9901514914882525,
          0.9999999999999998,
          0.9735416365140815,
          0.9999899079205784,
          1,
          0.9443962182335698,
          0.9874726063935894,
          -0.9939922315006201,
          0.9147152043581637,
          -0.9940294600466681,
          1,
          -0.9237495635846955,
          0.9999999999999998,
          0.11573252194821769,
          0.9641255994883936,
          0.96089959178099,
          0.7723566090225972,
          1,
          -0.5659660468842534,
          -0.3384963674898171,
          0.7394330804754298,
          0.9464665317692479,
          0.6613112427580905,
          1,
          0.39254055550125627,
          0.9987659764958782,
          1,
          0.9980860175371338,
          1,
          1,
          1,
          0.9999999999999997,
          0.9976231934277471,
          0.6409893758993858,
          -0.8562392317189502,
          1,
          0.9984060423292334,
          -0.9986083664856891,
          -0.9857108665498595,
          -0.9661473837729138,
          -0.8846633514043483,
          1,
          -0.9149384588550582,
          1,
          -0.7048803737983597,
          -0.6743893332653506,
          -0.8777151231321846,
          0.9855809276441373,
          1,
          -0.9808719919076139,
          0.5790232325485162,
          0.8174178302447849,
          1,
          0.9569497066496103,
          0.8222225344996313,
          0.07302752354863104,
          0.4893428704809722,
          1,
          0.9999999999999998,
          0.9758715087805019,
          1,
          0.7898194151439661,
          -0.9606122770612873,
          -0.9956581500927448,
          -0.8806778931021942,
          -0.8507326497677843,
          -0.9875419342432512,
          1,
          -0.9985096970296574,
          0.9999999999999998,
          0.9027897491831169,
          0.9258891027272687,
          0.9992630649204054,
          0.9999999999999999,
          0.11559775567426805,
          1,
          1,
          0.9706115181413878,
          1,
          1,
          0.5096962693505436,
          -0.9840869556852818,
          -0.9524011610507374,
          0.9200209973980625,
          -0.9453960508051582,
          1,
          0.9894833359210302,
          0.9949976040772551,
          0.992805538711449,
          1,
          1,
          0.9627079009326837,
          0.9999999999999999,
          1,
          0.91665300576288,
          1,
          -0.9530476203744817,
          1,
          1,
          1,
          -0.9351362254084526,
          0.9244081037267141,
          0.9896702629215943,
          -0.9916201772479074,
          1,
          1,
          1,
          -0.5075967711369664,
          -0.9259154867954629,
          -0.9845838934838189,
          -0.9968195631118817,
          1,
          1,
          0.9999999999999999,
          0.999596150663231,
          -0.8698538300310046,
          -0.7973974929596616,
          -0.9566578258629312,
          -0.9594729076028391,
          -0.9652233480736165,
          0.4987499952444866,
          -0.3880298096053419,
          1,
          -0.9613009930832462,
          1,
          0.970355257520763,
          0.9997468613874687,
          -0.04053981959403831,
          0.9361996357542948,
          0.9999970859695602,
          -0.8073948751169765,
          0.9370696639450597,
          0.49731109420628483,
          -0.8325397757071936,
          -0.880571865649695,
          1,
          1,
          0.9873587996516391,
          0.9531046677172448,
          -0.9960533429617341,
          0.45805022734754985,
          -0.11692166348218379,
          0.9999999999999998,
          1,
          1,
          1,
          0.7387008722374846,
          -0.5238864597922476,
          -0.593343369510741,
          0.6894762317959113,
          0.16460093516832522
         ],
         "xaxis": "x5",
         "yaxis": "y5"
        },
        {
         "histnorm": "probability",
         "name": "RF",
         "nbinsx": 25,
         "type": "histogram",
         "x": [
          0.9775394098207678,
          0.6958839894956943,
          1,
          1,
          0.6053042148498192,
          1,
          1,
          0.9834738197292431,
          0.999997434484602,
          1,
          0.9999999999999999,
          0.8911634917630941,
          0.9324651706538615,
          -0.9706869189530268,
          0.9999999999999998,
          1,
          1,
          0.9999999999999998,
          1,
          1,
          1,
          1,
          1,
          1,
          -0.95026020103153,
          1,
          0.9610489025895327,
          1,
          0.9999999999999999,
          1,
          -0.9829792866788708,
          1,
          1,
          0.8492606940786925,
          0.9984006365729005,
          0.4562342088169242,
          1,
          1,
          0.9927697702704146,
          0.9999249566748655,
          0.9999999999999999,
          0.9949705939737681,
          0.9839830180294123,
          -0.9831325361369138,
          1,
          1,
          1,
          1,
          -0.9889566716199409,
          1,
          1,
          -0.9642617271217216,
          0.9999999999999999,
          0.9999999999999998,
          0.30055894252776616,
          1,
          -0.4280459167200836,
          1,
          1,
          0.6270707172709971,
          1,
          1,
          0.9999999999999999,
          1,
          1,
          -0.9850132323113192,
          0.9993543228860623,
          1,
          1,
          1,
          0.9999999999999999,
          1,
          1,
          -0.9981155512357109,
          1,
          -0.9974133750544995,
          -0.9084443926926511,
          -0.7090028057027555,
          -0.16745878765797578,
          1,
          0.9337311331387542,
          1,
          0.9567924835700032,
          0.9999999999999999,
          1,
          1,
          0.9999999999999998,
          -0.9947967117470421,
          1,
          1,
          0.9999999999999999,
          -0.9995954709016895,
          1,
          1,
          1,
          1,
          1,
          0.9999999999999999,
          1,
          -0.998292023794261,
          1,
          1,
          0.9999999999999998,
          0.9565295650700655,
          1,
          0.8195727024888315,
          0.9999999999999999,
          0.9999539456570589,
          1,
          1,
          0.7754204441762185,
          1,
          1,
          1,
          1,
          -0.9237495635846958,
          1,
          0.11573252194827366,
          1,
          1,
          1,
          1,
          0.9974803246278636,
          1,
          1,
          -0.5699529054782863,
          -0.31462169602194817,
          0.9999999999999999,
          0.990407019061176,
          0.9999488661566234,
          1,
          1,
          -0.9990124047291911,
          0.9999999999999998,
          0.9999999999999999,
          0.9999999999999999,
          -0.9621633345928707,
          0.6409893758993684,
          1,
          1,
          0.9979033992399021,
          0.9991537921131359,
          1,
          0.9999999999999998,
          0.9903059610835211,
          1,
          0.9989532482228407,
          0.8657950277387851,
          0.9999999999999999,
          0.9991762416923604,
          -0.8777151231321858,
          0.9999999999999999,
          1,
          -0.9808719919076136,
          1,
          -0.6766676134825693,
          1,
          1,
          0.9995149057964374,
          1,
          1,
          0.9858041159979355,
          1,
          1,
          1,
          1,
          0.9999999999999999,
          -0.9850192875339732,
          1,
          -0.42915143584116444,
          -0.9875419342432512,
          1,
          1,
          1,
          0.9999999999999998,
          1,
          1,
          1,
          0.9792030277571306,
          0.9655412282466882,
          1,
          0.9854133007141261,
          0.9999999999999999,
          0.9999999999999999,
          -0.748578760486031,
          1,
          1,
          1,
          1,
          0.9891937101503064,
          1,
          0.9999999999999998,
          1,
          1,
          1,
          0.9993549440504788,
          0.9949110944878774,
          1,
          0.9999999999999998,
          1,
          -0.9530476203744817,
          1,
          1,
          1,
          -0.9351362254084526,
          1,
          0.989670262921594,
          -0.9916201772479076,
          1,
          1,
          1,
          -0.507596771136964,
          0.9998486606986668,
          1,
          1,
          1,
          1,
          -0.9948356538828681,
          -0.4673389686919559,
          1,
          1,
          1,
          0.9999972303092193,
          0.9998428987522888,
          0.9999999999999999,
          1,
          -0.3062840566693084,
          0.9999999999999998,
          1,
          1,
          0.9997468613874692,
          1,
          -0.6760161094257168,
          0.9999970859695602,
          1,
          0.9999999999999998,
          0.49731109420628483,
          1,
          -0.8805718656496956,
          0.9999999999999999,
          -0.31380093609859044,
          -0.9939140823014415,
          1,
          1,
          1,
          -0.9994316192184528,
          0.9999999999999998,
          0.05761319370649109,
          0.9999999999999999,
          0.630595784827358,
          0.7387008722374785,
          -0.5238864597922475,
          -0.5933433695107426,
          0.6894762317959156,
          0.16460093516832514
         ],
         "xaxis": "x6",
         "yaxis": "y6"
        }
       ],
       "layout": {
        "font": {
         "size": 18
        },
        "legend": {
         "x": 1,
         "xanchor": "left",
         "y": 0.99,
         "yanchor": "top"
        },
        "paper_bgcolor": "rgba(1,1,0,0)",
        "plot_bgcolor": "rgba(1, 1, 0, 0)",
        "template": {
         "data": {
          "bar": [
           {
            "error_x": {
             "color": "#2a3f5f"
            },
            "error_y": {
             "color": "#2a3f5f"
            },
            "marker": {
             "line": {
              "color": "#E5ECF6",
              "width": 0.5
             },
             "pattern": {
              "fillmode": "overlay",
              "size": 10,
              "solidity": 0.2
             }
            },
            "type": "bar"
           }
          ],
          "barpolar": [
           {
            "marker": {
             "line": {
              "color": "#E5ECF6",
              "width": 0.5
             },
             "pattern": {
              "fillmode": "overlay",
              "size": 10,
              "solidity": 0.2
             }
            },
            "type": "barpolar"
           }
          ],
          "carpet": [
           {
            "aaxis": {
             "endlinecolor": "#2a3f5f",
             "gridcolor": "white",
             "linecolor": "white",
             "minorgridcolor": "white",
             "startlinecolor": "#2a3f5f"
            },
            "baxis": {
             "endlinecolor": "#2a3f5f",
             "gridcolor": "white",
             "linecolor": "white",
             "minorgridcolor": "white",
             "startlinecolor": "#2a3f5f"
            },
            "type": "carpet"
           }
          ],
          "choropleth": [
           {
            "colorbar": {
             "outlinewidth": 0,
             "ticks": ""
            },
            "type": "choropleth"
           }
          ],
          "contour": [
           {
            "colorbar": {
             "outlinewidth": 0,
             "ticks": ""
            },
            "colorscale": [
             [
              0,
              "#0d0887"
             ],
             [
              0.1111111111111111,
              "#46039f"
             ],
             [
              0.2222222222222222,
              "#7201a8"
             ],
             [
              0.3333333333333333,
              "#9c179e"
             ],
             [
              0.4444444444444444,
              "#bd3786"
             ],
             [
              0.5555555555555556,
              "#d8576b"
             ],
             [
              0.6666666666666666,
              "#ed7953"
             ],
             [
              0.7777777777777778,
              "#fb9f3a"
             ],
             [
              0.8888888888888888,
              "#fdca26"
             ],
             [
              1,
              "#f0f921"
             ]
            ],
            "type": "contour"
           }
          ],
          "contourcarpet": [
           {
            "colorbar": {
             "outlinewidth": 0,
             "ticks": ""
            },
            "type": "contourcarpet"
           }
          ],
          "heatmap": [
           {
            "colorbar": {
             "outlinewidth": 0,
             "ticks": ""
            },
            "colorscale": [
             [
              0,
              "#0d0887"
             ],
             [
              0.1111111111111111,
              "#46039f"
             ],
             [
              0.2222222222222222,
              "#7201a8"
             ],
             [
              0.3333333333333333,
              "#9c179e"
             ],
             [
              0.4444444444444444,
              "#bd3786"
             ],
             [
              0.5555555555555556,
              "#d8576b"
             ],
             [
              0.6666666666666666,
              "#ed7953"
             ],
             [
              0.7777777777777778,
              "#fb9f3a"
             ],
             [
              0.8888888888888888,
              "#fdca26"
             ],
             [
              1,
              "#f0f921"
             ]
            ],
            "type": "heatmap"
           }
          ],
          "heatmapgl": [
           {
            "colorbar": {
             "outlinewidth": 0,
             "ticks": ""
            },
            "colorscale": [
             [
              0,
              "#0d0887"
             ],
             [
              0.1111111111111111,
              "#46039f"
             ],
             [
              0.2222222222222222,
              "#7201a8"
             ],
             [
              0.3333333333333333,
              "#9c179e"
             ],
             [
              0.4444444444444444,
              "#bd3786"
             ],
             [
              0.5555555555555556,
              "#d8576b"
             ],
             [
              0.6666666666666666,
              "#ed7953"
             ],
             [
              0.7777777777777778,
              "#fb9f3a"
             ],
             [
              0.8888888888888888,
              "#fdca26"
             ],
             [
              1,
              "#f0f921"
             ]
            ],
            "type": "heatmapgl"
           }
          ],
          "histogram": [
           {
            "marker": {
             "pattern": {
              "fillmode": "overlay",
              "size": 10,
              "solidity": 0.2
             }
            },
            "type": "histogram"
           }
          ],
          "histogram2d": [
           {
            "colorbar": {
             "outlinewidth": 0,
             "ticks": ""
            },
            "colorscale": [
             [
              0,
              "#0d0887"
             ],
             [
              0.1111111111111111,
              "#46039f"
             ],
             [
              0.2222222222222222,
              "#7201a8"
             ],
             [
              0.3333333333333333,
              "#9c179e"
             ],
             [
              0.4444444444444444,
              "#bd3786"
             ],
             [
              0.5555555555555556,
              "#d8576b"
             ],
             [
              0.6666666666666666,
              "#ed7953"
             ],
             [
              0.7777777777777778,
              "#fb9f3a"
             ],
             [
              0.8888888888888888,
              "#fdca26"
             ],
             [
              1,
              "#f0f921"
             ]
            ],
            "type": "histogram2d"
           }
          ],
          "histogram2dcontour": [
           {
            "colorbar": {
             "outlinewidth": 0,
             "ticks": ""
            },
            "colorscale": [
             [
              0,
              "#0d0887"
             ],
             [
              0.1111111111111111,
              "#46039f"
             ],
             [
              0.2222222222222222,
              "#7201a8"
             ],
             [
              0.3333333333333333,
              "#9c179e"
             ],
             [
              0.4444444444444444,
              "#bd3786"
             ],
             [
              0.5555555555555556,
              "#d8576b"
             ],
             [
              0.6666666666666666,
              "#ed7953"
             ],
             [
              0.7777777777777778,
              "#fb9f3a"
             ],
             [
              0.8888888888888888,
              "#fdca26"
             ],
             [
              1,
              "#f0f921"
             ]
            ],
            "type": "histogram2dcontour"
           }
          ],
          "mesh3d": [
           {
            "colorbar": {
             "outlinewidth": 0,
             "ticks": ""
            },
            "type": "mesh3d"
           }
          ],
          "parcoords": [
           {
            "line": {
             "colorbar": {
              "outlinewidth": 0,
              "ticks": ""
             }
            },
            "type": "parcoords"
           }
          ],
          "pie": [
           {
            "automargin": true,
            "type": "pie"
           }
          ],
          "scatter": [
           {
            "marker": {
             "colorbar": {
              "outlinewidth": 0,
              "ticks": ""
             }
            },
            "type": "scatter"
           }
          ],
          "scatter3d": [
           {
            "line": {
             "colorbar": {
              "outlinewidth": 0,
              "ticks": ""
             }
            },
            "marker": {
             "colorbar": {
              "outlinewidth": 0,
              "ticks": ""
             }
            },
            "type": "scatter3d"
           }
          ],
          "scattercarpet": [
           {
            "marker": {
             "colorbar": {
              "outlinewidth": 0,
              "ticks": ""
             }
            },
            "type": "scattercarpet"
           }
          ],
          "scattergeo": [
           {
            "marker": {
             "colorbar": {
              "outlinewidth": 0,
              "ticks": ""
             }
            },
            "type": "scattergeo"
           }
          ],
          "scattergl": [
           {
            "marker": {
             "colorbar": {
              "outlinewidth": 0,
              "ticks": ""
             }
            },
            "type": "scattergl"
           }
          ],
          "scattermapbox": [
           {
            "marker": {
             "colorbar": {
              "outlinewidth": 0,
              "ticks": ""
             }
            },
            "type": "scattermapbox"
           }
          ],
          "scatterpolar": [
           {
            "marker": {
             "colorbar": {
              "outlinewidth": 0,
              "ticks": ""
             }
            },
            "type": "scatterpolar"
           }
          ],
          "scatterpolargl": [
           {
            "marker": {
             "colorbar": {
              "outlinewidth": 0,
              "ticks": ""
             }
            },
            "type": "scatterpolargl"
           }
          ],
          "scatterternary": [
           {
            "marker": {
             "colorbar": {
              "outlinewidth": 0,
              "ticks": ""
             }
            },
            "type": "scatterternary"
           }
          ],
          "surface": [
           {
            "colorbar": {
             "outlinewidth": 0,
             "ticks": ""
            },
            "colorscale": [
             [
              0,
              "#0d0887"
             ],
             [
              0.1111111111111111,
              "#46039f"
             ],
             [
              0.2222222222222222,
              "#7201a8"
             ],
             [
              0.3333333333333333,
              "#9c179e"
             ],
             [
              0.4444444444444444,
              "#bd3786"
             ],
             [
              0.5555555555555556,
              "#d8576b"
             ],
             [
              0.6666666666666666,
              "#ed7953"
             ],
             [
              0.7777777777777778,
              "#fb9f3a"
             ],
             [
              0.8888888888888888,
              "#fdca26"
             ],
             [
              1,
              "#f0f921"
             ]
            ],
            "type": "surface"
           }
          ],
          "table": [
           {
            "cells": {
             "fill": {
              "color": "#EBF0F8"
             },
             "line": {
              "color": "white"
             }
            },
            "header": {
             "fill": {
              "color": "#C8D4E3"
             },
             "line": {
              "color": "white"
             }
            },
            "type": "table"
           }
          ]
         },
         "layout": {
          "annotationdefaults": {
           "arrowcolor": "#2a3f5f",
           "arrowhead": 0,
           "arrowwidth": 1
          },
          "autotypenumbers": "strict",
          "coloraxis": {
           "colorbar": {
            "outlinewidth": 0,
            "ticks": ""
           }
          },
          "colorscale": {
           "diverging": [
            [
             0,
             "#8e0152"
            ],
            [
             0.1,
             "#c51b7d"
            ],
            [
             0.2,
             "#de77ae"
            ],
            [
             0.3,
             "#f1b6da"
            ],
            [
             0.4,
             "#fde0ef"
            ],
            [
             0.5,
             "#f7f7f7"
            ],
            [
             0.6,
             "#e6f5d0"
            ],
            [
             0.7,
             "#b8e186"
            ],
            [
             0.8,
             "#7fbc41"
            ],
            [
             0.9,
             "#4d9221"
            ],
            [
             1,
             "#276419"
            ]
           ],
           "sequential": [
            [
             0,
             "#0d0887"
            ],
            [
             0.1111111111111111,
             "#46039f"
            ],
            [
             0.2222222222222222,
             "#7201a8"
            ],
            [
             0.3333333333333333,
             "#9c179e"
            ],
            [
             0.4444444444444444,
             "#bd3786"
            ],
            [
             0.5555555555555556,
             "#d8576b"
            ],
            [
             0.6666666666666666,
             "#ed7953"
            ],
            [
             0.7777777777777778,
             "#fb9f3a"
            ],
            [
             0.8888888888888888,
             "#fdca26"
            ],
            [
             1,
             "#f0f921"
            ]
           ],
           "sequentialminus": [
            [
             0,
             "#0d0887"
            ],
            [
             0.1111111111111111,
             "#46039f"
            ],
            [
             0.2222222222222222,
             "#7201a8"
            ],
            [
             0.3333333333333333,
             "#9c179e"
            ],
            [
             0.4444444444444444,
             "#bd3786"
            ],
            [
             0.5555555555555556,
             "#d8576b"
            ],
            [
             0.6666666666666666,
             "#ed7953"
            ],
            [
             0.7777777777777778,
             "#fb9f3a"
            ],
            [
             0.8888888888888888,
             "#fdca26"
            ],
            [
             1,
             "#f0f921"
            ]
           ]
          },
          "colorway": [
           "#636efa",
           "#EF553B",
           "#00cc96",
           "#ab63fa",
           "#FFA15A",
           "#19d3f3",
           "#FF6692",
           "#B6E880",
           "#FF97FF",
           "#FECB52"
          ],
          "font": {
           "color": "#2a3f5f"
          },
          "geo": {
           "bgcolor": "white",
           "lakecolor": "white",
           "landcolor": "#E5ECF6",
           "showlakes": true,
           "showland": true,
           "subunitcolor": "white"
          },
          "hoverlabel": {
           "align": "left"
          },
          "hovermode": "closest",
          "mapbox": {
           "style": "light"
          },
          "paper_bgcolor": "white",
          "plot_bgcolor": "#E5ECF6",
          "polar": {
           "angularaxis": {
            "gridcolor": "white",
            "linecolor": "white",
            "ticks": ""
           },
           "bgcolor": "#E5ECF6",
           "radialaxis": {
            "gridcolor": "white",
            "linecolor": "white",
            "ticks": ""
           }
          },
          "scene": {
           "xaxis": {
            "backgroundcolor": "#E5ECF6",
            "gridcolor": "white",
            "gridwidth": 2,
            "linecolor": "white",
            "showbackground": true,
            "ticks": "",
            "zerolinecolor": "white"
           },
           "yaxis": {
            "backgroundcolor": "#E5ECF6",
            "gridcolor": "white",
            "gridwidth": 2,
            "linecolor": "white",
            "showbackground": true,
            "ticks": "",
            "zerolinecolor": "white"
           },
           "zaxis": {
            "backgroundcolor": "#E5ECF6",
            "gridcolor": "white",
            "gridwidth": 2,
            "linecolor": "white",
            "showbackground": true,
            "ticks": "",
            "zerolinecolor": "white"
           }
          },
          "shapedefaults": {
           "line": {
            "color": "#2a3f5f"
           }
          },
          "ternary": {
           "aaxis": {
            "gridcolor": "white",
            "linecolor": "white",
            "ticks": ""
           },
           "baxis": {
            "gridcolor": "white",
            "linecolor": "white",
            "ticks": ""
           },
           "bgcolor": "#E5ECF6",
           "caxis": {
            "gridcolor": "white",
            "linecolor": "white",
            "ticks": ""
           }
          },
          "title": {
           "x": 0.05
          },
          "xaxis": {
           "automargin": true,
           "gridcolor": "white",
           "linecolor": "white",
           "ticks": "",
           "title": {
            "standoff": 15
           },
           "zerolinecolor": "white",
           "zerolinewidth": 2
          },
          "yaxis": {
           "automargin": true,
           "gridcolor": "white",
           "linecolor": "white",
           "ticks": "",
           "title": {
            "standoff": 15
           },
           "zerolinecolor": "white",
           "zerolinewidth": 2
          }
         }
        },
        "xaxis": {
         "anchor": "y",
         "domain": [
          0,
          0.2888888888888889
         ],
         "gridcolor": "LightSteelBlue",
         "gridwidth": 1,
         "linecolor": "black",
         "mirror": true,
         "showgrid": true,
         "showline": true
        },
        "xaxis2": {
         "anchor": "y2",
         "domain": [
          0.35555555555555557,
          0.6444444444444445
         ],
         "gridcolor": "LightSteelBlue",
         "gridwidth": 1,
         "linecolor": "black",
         "mirror": true,
         "showgrid": true,
         "showline": true
        },
        "xaxis3": {
         "anchor": "y3",
         "domain": [
          0.7111111111111111,
          1
         ],
         "gridcolor": "LightSteelBlue",
         "gridwidth": 1,
         "linecolor": "black",
         "mirror": true,
         "showgrid": true,
         "showline": true
        },
        "xaxis4": {
         "anchor": "y4",
         "domain": [
          0,
          0.2888888888888889
         ],
         "gridcolor": "LightSteelBlue",
         "gridwidth": 1,
         "linecolor": "black",
         "mirror": true,
         "showgrid": true,
         "showline": true
        },
        "xaxis5": {
         "anchor": "y5",
         "domain": [
          0.35555555555555557,
          0.6444444444444445
         ],
         "gridcolor": "LightSteelBlue",
         "gridwidth": 1,
         "linecolor": "black",
         "mirror": true,
         "showgrid": true,
         "showline": true,
         "title": {
          "text": "Correlation coefficient"
         }
        },
        "xaxis6": {
         "anchor": "y6",
         "domain": [
          0.7111111111111111,
          1
         ],
         "gridcolor": "LightSteelBlue",
         "gridwidth": 1,
         "linecolor": "black",
         "mirror": true,
         "showgrid": true,
         "showline": true
        },
        "yaxis": {
         "anchor": "x",
         "domain": [
          0.575,
          1
         ],
         "gridcolor": "LightSteelBlue",
         "gridwidth": 1,
         "linecolor": "black",
         "mirror": true,
         "showgrid": true,
         "showline": true,
         "title": {
          "text": "Frequency"
         },
         "zeroline": true,
         "zerolinecolor": "LightSteelBlue",
         "zerolinewidth": 1
        },
        "yaxis2": {
         "anchor": "x2",
         "domain": [
          0.575,
          1
         ],
         "gridcolor": "LightSteelBlue",
         "gridwidth": 1,
         "linecolor": "black",
         "mirror": true,
         "showgrid": true,
         "showline": true,
         "zeroline": true,
         "zerolinecolor": "LightSteelBlue",
         "zerolinewidth": 1
        },
        "yaxis3": {
         "anchor": "x3",
         "domain": [
          0.575,
          1
         ],
         "gridcolor": "LightSteelBlue",
         "gridwidth": 1,
         "linecolor": "black",
         "mirror": true,
         "showgrid": true,
         "showline": true,
         "zeroline": true,
         "zerolinecolor": "LightSteelBlue",
         "zerolinewidth": 1
        },
        "yaxis4": {
         "anchor": "x4",
         "domain": [
          0,
          0.425
         ],
         "gridcolor": "LightSteelBlue",
         "gridwidth": 1,
         "linecolor": "black",
         "mirror": true,
         "showgrid": true,
         "showline": true,
         "title": {
          "text": "Frequency"
         },
         "zeroline": true,
         "zerolinecolor": "LightSteelBlue",
         "zerolinewidth": 1
        },
        "yaxis5": {
         "anchor": "x5",
         "domain": [
          0,
          0.425
         ],
         "gridcolor": "LightSteelBlue",
         "gridwidth": 1,
         "linecolor": "black",
         "mirror": true,
         "showgrid": true,
         "showline": true,
         "zeroline": true,
         "zerolinecolor": "LightSteelBlue",
         "zerolinewidth": 1
        },
        "yaxis6": {
         "anchor": "x6",
         "domain": [
          0,
          0.425
         ],
         "gridcolor": "LightSteelBlue",
         "gridwidth": 1,
         "linecolor": "black",
         "mirror": true,
         "showgrid": true,
         "showline": true,
         "zeroline": true,
         "zerolinecolor": "LightSteelBlue",
         "zerolinewidth": 1
        }
       }
      },
      "text/html": [
       "<div>                            <div id=\"c2789b79-696d-45e3-9ac1-98c42df69cde\" class=\"plotly-graph-div\" style=\"height:525px; width:100%;\"></div>            <script type=\"text/javascript\">                require([\"plotly\"], function(Plotly) {                    window.PLOTLYENV=window.PLOTLYENV || {};                                    if (document.getElementById(\"c2789b79-696d-45e3-9ac1-98c42df69cde\")) {                    Plotly.newPlot(                        \"c2789b79-696d-45e3-9ac1-98c42df69cde\",                        [{\"histnorm\":\"probability\",\"name\":\"A2C\",\"nbinsx\":25,\"type\":\"histogram\",\"x\":[-0.5634432606237263,0.05313752285458029,0.5507537572546207,-0.4279941258702547,-0.2520311477868507,0.3206802800439257,0.5370456001540684,0.4642898313727363,0.3591101034987142,0.20340327857543067,0.05053331991998616,-0.5487782653909988,-0.747331430984715,0.37821532911256506,0.27568229629297825,-0.07034335706171974,-0.1600680372622069,0.27020474732980887,-0.6443244602358734,0.4902012788346088,0.5832366701997466,0.6115474836421645,-0.7467949079966288,0.7007983980661813,-0.797829710238182,0.4925700563943054,-0.19931705148628054,0.25963648183350274,0.5007887731900744,0.3839857243785574,-0.11837505521716896,-0.17838916078633532,0.4772131281391682,0.2993906383328088,-0.3388966082596919,-0.19782102440868835,-0.7808068365377793,0.2869524136697404,0.21129316529972303,-0.3255012942029107,0.23732978997876364,-0.35456101709293464,0.35989093509351205,0.24574643622805856,-0.05739141740795222,0.05777000426948624,0.20481213144641566,-0.18989861977632266,0.1840485173345175,-0.2743970937309556,0.19686915406742342,-0.2437790251391606,0.3347239705962736,-0.25069901014998197,0.19157354436014695,-0.8658658769706433,-0.24816507839286264,-0.6255440109978995,0.69723091260021,-0.5675885919592275,0.297467196054972,0.3505080777963073,-0.39304245936329213,-0.3247325841075882,0.09827272370134178,0.3569166517713896,-0.13675078142685385,0.02989462638712212,0.06746179011845291,0.2237119407080207,-0.050099651194393705,-0.018630152254165783,-0.028416249796998846,0.08886581593347202,0.16191993095303758,0.17024490676840137,0.2498686920743182,0.29866885360872414,0.28804148338300284,-0.09614493875794937,0.23111367942454236,-0.1229265621377521,0.13263256094720494,0.2745409780525507,0.5568101446616581,-0.7283040689280055,-0.6597144554248594,-0.4196164410481566,-0.41528993546594545,0.21235072685634038,0.15940977796889017,0.3543849888245563,-0.34573206175853666,-0.06420768026311506,-0.13351268842824948,-0.008087692129187503,0.29413137209153106,-0.6959925867799577,-0.10088296013070858,-0.5662229982315482,0.8206492858291802,0.8265113120676637,0.8203066928949575,-0.7883308626772264,-0.5102069179966925,-0.4680706451064653,0.541297592187258,-0.5605920596260179,0.5560649741764414,0.6595633875438065,-0.7423501135368623,-0.7683232184867645,0.6670281173819355,0.6155637565356089,0.7309514591772799,0.6072839817768769,-0.2801475069081965,0.05809171389610334,-0.20252877222195068,-0.153193275967849,-0.12194023780613214,0.5586428022886839,0.005143591779477557,0.04418780773947134,0.1460261704853417,0.27515256316511905,-0.053395874717508514,0.2890015592699691,-0.21143533896774883,-0.11754163903275021,-0.15186667320053657,-0.22249648610078804,0.17421629117767073,-0.19974249483499257,-0.5368372088236405,0.207588026651624,0.14076196824551498,-0.31256172778349967,-0.3017103035990854,0.07329896926734335,-0.5439325298278419,-0.7631404118442775,-0.5128059609291064,-0.5782039648157846,-0.6365223876848397,-0.11391010999241076,0.1348321747823913,0.03137230602818205,-0.03237485179864172,-0.7253588448927627,-0.02295835670772209,0.0030627744053818118,-0.20086023859778215,0.25058775927705557,-0.21701926258700785,0.20987076155784862,-0.10361743189386721,-0.6568845388231217,-0.6911750174179948,-0.7230682081612607,-0.15028755927766915,0.7094206458248952,0.556288549773342,0.5482540075284043,-0.5582671334569552,-0.5971100540493516,-0.7154828258904855,0.7153351216842773,-0.6160747920256705,-0.4771941497827226,-0.2954728213802341,0.4283168107247527,-0.7736512555781915,-0.6919370343623947,0.37900429455781237,0.8067914888321208,0.2640780582190155,0.7436955209748574,0.1109607226488559,-0.5045451751634423,0.6761277740209052,0.786380637728293,-0.19473514013116253,-0.3109070989769941,0.06272795721210209,0.0012473964757977875,-0.050928678659952924,0.07891133512166193,0.0026317194897595383,0.1368638316189621,-0.24713580481539166,-0.30190235321548925,-0.6267022383417213,0.6424647589584773,0.7694226035088411,-0.12182505720337919,0.6258388383271661,0.6567179218431921,-0.5282502653957951,0.6774753558279991,0.5477686460922426,0.6754679913304416,-0.3430127256518132,-0.42250541240538936,-0.44743535692496156,-0.39706966829134116,0.3211253112066509,-0.6019961749936046,0.5114892105547675,-0.07708738084053998,0.4885798322594172,-0.5771454430295492,-0.5229645859166184,0.5942751052611692,0.7051988190078817,0.7365507690942982,0.5720460820538515,-0.712970721756275,0.6139536405267911,0.6904117633483279,0.7154842953488176,-0.539232710827207,0.5364579183379159,0.6532897298450763,0.5531853567787178,0.26398768276245865,-0.36236921392871957,-0.4505722941606219,0.5338082345346408,-0.3793602173072608,0.46914232650379284,-0.0499964895595459,0.2770429310684368,-0.20265212365999863,-0.12066393154498437,0.06940078883394057,-0.009450484568193753,-0.01653074153497218,-0.04023171058627022,0.04722551397174897,0.20363078138477622,-0.46658159872749805,-0.6561005035981815,-0.48072858134445934,0.10656741012548447,0.09548860878731269,-0.2972264913704267,0.2874205696941491,-0.27875721541632104,-0.27221780143149976,-0.1577528971835568,0.17522519341071954,0.22882278654574706,-0.0842071032807496,0.1537368651334794],\"xaxis\":\"x\",\"yaxis\":\"y\"},{\"histnorm\":\"probability\",\"name\":\"PPO\",\"nbinsx\":25,\"type\":\"histogram\",\"x\":[-0.5945671368592683,-0.10382638600156574,0.4322759298937021,-0.3865591342449668,-0.3009857275919135,0.30519978964564975,0.4517340906095158,0.48989512424915754,0.3481009526529183,0.20714405742550376,0.17560618078471157,-0.48017045872965136,-0.7667457704735999,0.32938749763070513,0.15462645148196075,0.025788256577126484,-0.05212568061647675,0.2642716578994657,-0.6405428246072221,0.6434914953745273,0.44014511759428604,0.5943918688288121,-0.6459464437889105,0.6599171423529676,-0.6582599530590307,0.5739908465538598,-0.37699045463236086,0.4080619132109131,0.4806557282319975,0.3827656677964471,0.022355178175017608,-0.20328425345575915,0.21406317751208528,0.19605362891572212,-0.27402433913116586,-0.2964839776429174,-0.7783042601176716,0.22573031259940898,0.09457252289477426,-0.29032296439378624,0.28110475170884314,-0.22415196813505925,0.2687743027430914,0.22044485667182892,-0.20237209665394204,-0.3125991142888953,0.29453555107211454,-0.2250955290203823,0.3062100264386672,-0.3298058005574368,0.30230348726100686,-0.3553387585408576,0.371860850031634,-0.4853155109831994,0.5244614925572263,-0.8403085731003526,-0.11350391589726483,-0.7494642266111278,0.7890216831342881,-0.5715017309515089,-0.0473036598440781,0.39709245750188915,-0.4136685626892151,-0.3696877550763289,0.3879907391080959,0.4512738638694816,-0.21229055325447646,-0.09322028124229394,0.11984567668342842,-0.04274651291733199,-0.031556179031582476,0.07404863773010605,-0.10707141804689525,0.09848467026409916,0.2358194830786181,0.1819816302504708,0.13360683173032822,0.16061140542104058,0.17177430460654677,-0.0761773756309543,0.08403551405769515,0.3305223174537491,0.2599561663193078,0.3790668444044121,0.4442732556493885,-0.6077881471672791,-0.6437176278313672,-0.4592315621485086,-0.37521999114427723,0.2194187314177514,0.03905988633506314,0.26448892750076036,-0.2339206165207942,-0.07002667573861833,-0.09969836194959651,-0.0760934462205428,0.37499793600604203,-0.5811845337953029,0.06030457709239545,-0.5427675776256401,0.7708413488183194,0.7460934685368218,0.746502514861533,-0.6538902576380563,-0.5241775312237166,-0.3881260519596038,0.5349280559606397,-0.5979594558691643,0.5759976735585025,0.5533462517896744,-0.6340897639914537,-0.6618290693506473,0.6956128906511982,0.639136303032654,0.6242264499432649,0.38088903677398395,-0.12894511673484454,0.13237665124949421,-0.13291716570951095,-0.12808382527435166,-0.16119625698842044,0.522378845810746,0.02791813342288882,-0.009556882060730758,0.23721644061905794,0.35716872042521147,-0.1989543647829971,0.16043486226606274,-0.03925911856092968,0.0412703590179346,-0.03480431063702994,-0.054677523991942416,0.10081978710630907,-0.282820414939875,-0.36188583339978025,-0.21703684048295185,0.17771514333091284,-0.30713866923386157,-0.19507188317196325,0.022270679974075756,-0.5989489608437515,-0.7571936618956845,-0.493877166937263,-0.5324599762932056,-0.6636959903897027,-0.11268755597518564,0.2643241487836517,-0.030754129805464353,0.15359490840761714,-0.5890628055107222,-0.20927638513627367,-0.07743596846518641,-0.06784438250951798,0.08305695644177041,-0.004952003243044415,0.03709356996057015,-0.19322510784140565,-0.5405281285543151,-0.5240875343866951,-0.6767374586815503,0.6096045357118047,0.765076106892421,0.5335765735692289,0.7879530088445047,-0.6668874770178133,-0.4179341187245219,-0.6892370119897496,0.7731915510221031,-0.4960422032701796,-0.4362733519109992,-0.5062110116536797,0.5046550759962213,-0.7233484810453299,-0.7620142336584168,0.3787650794123737,0.808534143310352,0.2894096235693005,0.7149693333646816,-0.07409428570723968,-0.48505239792945926,0.7612313324155853,0.7269975571586437,-0.229884856868154,-0.35586255888466817,0.30876695963522366,0.046286462435700074,-0.09074312211133673,0.09121742968480574,-0.09335152142678745,0.1692594389322199,-0.2916301621316094,-0.34493403363720593,-0.6534154723847886,0.6777044360741116,0.7555628424708816,-0.02787866400951772,0.6628893696834586,0.6611438836121021,-0.5457671487592778,0.5760644308447931,0.6385343188860365,0.44638810536394774,-0.42727481793061795,-0.4865009718113372,-0.34897626245773017,-0.3355426933256466,0.3106465088888714,-0.5508059835155442,0.5618655595267228,0.12199927137827643,0.4177476781885733,-0.5053595111224578,-0.5440732284016611,0.572692696818478,0.6742415637783107,0.833089257540969,0.6235244090015084,-0.757953368051915,0.6671609985818502,0.6288372526112278,0.7502202235004687,-0.6959108658450139,0.6625501649006871,0.6742778502089725,0.46052608865469463,0.23882053183887617,0.013103971092435709,-0.5008480989945824,0.5346643901930178,-0.43667810161375337,0.45365067301872775,-0.15963064788379525,0.20235983698027718,-0.09897051155507343,-0.26532636444646907,-0.08051906735532288,-0.25560807638190874,-0.03886084620908652,0.016177188118312626,0.21305622616609796,-0.18608026256923454,-0.4668204443470245,-0.7071126522220104,-0.5828060413967401,0.252564550023748,0.2626967616692585,-0.010463288322653152,0.012587701050906456,-0.1261394075614891,-0.16282502900179416,-0.13184797880322938,0.17127624028938318,0.3030202931918217,-0.2259013370249793,0.23477273377780603],\"xaxis\":\"x2\",\"yaxis\":\"y2\"},{\"histnorm\":\"probability\",\"name\":\"DT\",\"nbinsx\":25,\"type\":\"histogram\",\"x\":[0.9775394098207676,0.7728515374344535,1.0,-0.03732984031073757,0.6053042148498178,0.9999999999999999,1.0,0.9999999999999998,0.9999974344846021,1.0,0.9451605909815162,0.8911634917630942,0.9324651706538623,-0.9706869189530265,1.0,0.9999999999999998,1.0,0.9999999999999998,0.9999424778798189,1.0,1.0,1.0,1.0,0.9446289358593355,1.0,1.0,0.9610489025895327,1.0,0.9999999999999999,1.0,-0.9829792866788706,0.9999999999999999,0.9999999999999998,-0.9796308852076525,0.9968253611656118,0.9996738457953606,1.0,1.0,-0.9928163731996383,0.9919768285561765,0.9999999999999999,0.9959600907257375,0.9839830180294123,-0.9831325361369144,1.0,-0.8795744391585214,1.0,0.9999999999999998,-0.9889566716199412,1.0,1.0,0.9999999999999998,0.9999999999999999,0.9999999999999998,0.300558942527766,-0.9871580369135246,-0.5763812739907465,1.0,1.0,0.6270707172709936,1.0,-0.9885596665547147,0.9999999999999999,-0.9944405174633921,0.9999999999999999,-0.9850132323113192,-0.9960627530891949,-0.9803679877127341,1.0,0.4449163739391287,0.9999999999999999,1.0,0.9999999999999998,0.9967625538851571,1.0,1.0,-0.9636759739117754,-0.7090028057027555,0.811305331050999,-0.9133341301366227,0.954144683216131,1.0,1.0,0.9999999999999999,1.0,1.0,1.0,-0.9947967117470421,-0.9994118458254067,0.9974104819652699,0.998349771154196,-0.9995954709016895,1.0,-0.998220665458315,1.0,0.9602212352795853,1.0,0.9838233978237042,1.0,1.0,1.0,1.0,0.9448303058675239,0.9565295650700653,0.989998708437681,1.0,0.9999999999999999,0.9999899079205784,1.0,0.9999999999999999,0.9874726063935894,1.0,1.0,-0.9940294600466683,1.0,-0.9237495635846957,0.9521788806412002,0.11573252194822743,0.9641255994883933,1.0,1.0,1.0,0.9974803246278636,0.9999999999999999,1.0,0.9990404583252307,-0.3146216960219476,1.0,1.0,0.9999999981148973,1.0,0.9980860175371336,1.0,0.9999999999999998,1.0,0.20582427683266336,-0.962163334592871,0.9983273239089211,-0.42109592537342405,1.0,0.9980969318777907,0.9994316417707043,1.0,1.0,0.9903059610835211,1.0,0.9989532482228407,0.8657950277387849,-0.7048803737983612,0.9991762416923604,-0.8777151231321855,1.0,0.9999999999999998,-0.9808719919076136,0.8712469876227189,0.8174178302447848,1.0,1.0,0.9995149057964374,1.0,1.0,1.0,0.9999999999999998,0.9758715087805016,1.0,1.0,1.0,-0.9850192875339732,-0.8806778931022059,-0.8507326497677841,-0.9875419342432512,-0.992366180243763,-0.9985096970296575,1.0,0.9999999999999998,0.9999999999999998,0.9992630649204056,1.0,-0.9023698010253889,0.9999999999999999,0.9996845998074382,0.4583547586091148,0.9999999999999999,-0.9187072559092969,0.18471564126420956,1.0,0.9999999999999998,-0.8143945496011162,1.0,0.9891937101503065,1.0,-0.9992128856296614,1.0,1.0,1.0,0.9627079009326841,-0.927641314140411,0.9998628275599716,0.9999999999999998,1.0,-0.9530476203744819,1.0,0.9999999999999999,1.0,-0.9986237696758097,0.9244081037267148,0.9896702629215941,-0.9916201772479074,0.9999999999999999,1.0,0.9999999999999999,0.9968134549374952,-0.9259154867954629,1.0,0.9999999999999998,1.0,1.0,0.9971324423811748,0.9644446780050999,1.0,1.0,1.0,-0.9969098836626277,0.992683861617696,1.0,1.0,-0.30628405666930797,0.9999999999999998,1.0,1.0,0.9671509719935061,1.0,-0.676016109425718,0.899566926937354,-0.052201599137330044,0.9803022236863784,0.5242087354737557,0.9999999999999999,1.0,1.0,-0.31380093609859044,-0.9939140823014418,1.0,0.9999999999999999,0.45805022734758605,-0.9977395609097631,0.9999999999999998,0.05761319370649174,1.0,0.630595784827358,0.7524993017157797,0.9999999999999998,-0.961205838142693,-0.9639550938005449,0.9812240530244761],\"xaxis\":\"x3\",\"yaxis\":\"y3\"},{\"histnorm\":\"probability\",\"name\":\"LR\",\"nbinsx\":25,\"type\":\"histogram\",\"x\":[0.9775394098207678,-0.8251817637542977,0.9994272772594801,-0.9994474884307413,-0.6525689128502464,0.946946941191513,1.0,0.9999999999999998,0.9999188224358077,0.8781165581179932,0.9999999999999999,0.891163491763095,1.0,-0.9727379883876183,-0.9399152174069219,0.5581782314357552,0.8076817899824129,1.0,-0.9745483727090972,0.9010835071886176,1.0,1.0,0.9481687681100776,1.0,-0.95026020103153,0.9866152257243226,-0.8934638988570774,-0.9907230650048087,0.9885726125436948,1.0,-0.9829792866788708,0.9999999999999999,-0.9972084844790209,-0.9796308852076526,0.9174704617974736,0.23053246213993114,1.0,1.0,-0.9928163731996381,null,0.9999999999999999,-0.9460117775635549,-0.9648883794912972,0.9753110459780882,0.9867134456896774,0.9993330303379078,0.9985304086621798,-0.9476647869865704,-0.9889566716199412,0.9238471363319963,0.9718938441248222,0.9999999999999998,0.9999999999999996,-0.8298183153414211,0.7832068993106843,-0.8944320556231339,-0.42804591672008424,1.0,-0.9702790129011262,0.6270707172709933,1.0,-0.3294815942476146,-0.7561188896204154,-0.6879016130753269,1.0,-0.9850132323113192,1.0,0.8204268511735716,0.8480935479843629,1.0,-0.9512577476364033,-0.27557001035564677,0.9876335172118396,0.9999999999999998,-0.8553177022605439,0.989166450332992,-0.9529508683626524,-0.6277836704993347,-0.7314087213571114,0.009086432808791279,0.8400212497250783,1.0,0.9999999999999999,1.0,-0.9941784199444818,1.0,0.9999999999999998,-0.9947967117470421,0.9999999999999999,0.9974104819652699,0.998349771154196,-0.9995954709016895,1.0,-0.9982206654583148,0.9818841615609896,-0.9625288621876504,-0.9893369176571156,1.0,-0.9105820115946488,-0.998292023794261,-0.9845925644677089,-0.9825571918989697,0.9448303058675245,0.9938918126604903,-0.9901514914882523,0.9999999999999998,0.973541636514082,0.9999899079205784,1.0,0.9443962182335698,0.9874726063935894,-0.9939922315006201,0.9147152043581706,-0.9940294600466681,0.9999999999999999,-0.9237495635846955,0.9999999999999999,0.11573252194834308,-0.9848347826276878,0.9608995917810116,-0.9449060824792275,0.9999006080910777,-0.5659660468842476,-0.33849636748981216,0.9074560130899869,0.9464665317692484,0.6613112427580905,1.0,0.3925405555012638,0.9987659764958784,1.0,0.9980860175371336,1.0,1.0,1.0,1.0,0.9976231934277473,0.6409893758993157,-0.8562392317189483,1.0,0.9984060423292335,-0.998608366485689,-0.9857108665498597,-0.9661473837729144,-0.8846633514043483,0.9999999999999998,-0.914938458855059,1.0,-0.7048803737983618,-0.6743893332653381,-0.8777151231321835,0.9855809276441373,0.9999999999999998,-0.9808719919076136,0.5790232325485162,0.8174178302447849,1.0,0.956949706649611,0.9995149057964374,1.0,1.0,0.9858041159979353,0.9976808225647112,1.0,0.9800933277159858,0.7898194151439668,0.9999999999999999,-0.9850192875339736,1.0,0.9999999999999998,-0.9603496097588219,0.9942830387277115,-0.9652661343237643,-0.9993871598549435,-0.9784907374705896,-0.9036252317986715,0.9999999999999998,-0.9993289882543612,0.9792030277571306,0.9655412282466884,0.9564214703263852,0.9984892566937651,0.7816514043409623,-0.9187072559092953,-0.7485787604860291,1.0,0.9999999999999997,-0.8143945496011148,-0.9453960508051604,1.0,0.9894833359210302,0.9949976040772553,0.9928055387114493,1.0,0.9999999999999998,0.9627079009326834,0.9485100444385058,-0.9895737848386583,1.0,0.9743250223421114,-0.9530476203744797,1.0,1.0,1.0,-0.9351362254084529,0.9244081037267158,0.9896702629215943,-0.9916201772479076,1.0,1.0,1.0,-0.5075967711369653,-0.9259154867954629,-0.9845838934838188,-0.9968195631118817,1.0,1.0,0.9999999999999999,0.9995961506632312,-0.8698538300310046,-0.7973974929596598,-0.9566578258629312,-0.9594729076028394,-0.9652233480736165,0.4987499952444863,-0.388029809605342,1.0,-0.961300993083246,1.0,0.970355257520763,0.9997468613874688,-0.040539819594042764,0.9361996357542948,0.9999970859695602,-0.8073948751169766,0.9370696639450597,0.49731109420628467,-0.8325397757071941,-0.8805718656496955,0.9999999999999999,1.0,0.9873587996516391,0.953104667717244,-0.9738235263606357,0.4580502273475812,-0.11692166348206146,0.9999999999999998,1.0,0.9999999999999999,1.0,0.7387008722374785,-0.5238864597922475,-0.5933433695107421,0.6894762317959098,0.1646009351683248],\"xaxis\":\"x4\",\"yaxis\":\"y4\"},{\"histnorm\":\"probability\",\"name\":\"SVM\",\"nbinsx\":25,\"type\":\"histogram\",\"x\":[0.9775394098207678,-0.8251817637542979,0.9994272772594802,-0.9994474884307412,-0.6525689128502464,0.946946941191513,-0.18416144288889,0.9834738197292429,0.7956427700518525,0.8781165581179919,0.9999999999999999,0.8911634917630944,1.0,-0.9727379883876185,-0.9399152174069221,0.5581782314357573,0.8076817899824125,1.0,0.9999999999999996,-0.8981425611486108,-0.8674596060140244,-0.9840741749963114,0.9225534904320962,-0.9750710101772708,0.9005956857592423,1.0,0.9610489025895328,0.9999999999999999,1.0,0.9999999999999998,-0.9829792866788708,1.0,0.9999988853850862,-0.9796308852076526,0.9174704617974738,0.23053246213993236,-0.9481264588788133,0.9999999999999998,-0.9928163731996383,0.9854704463541663,1.0,-0.9460117775635551,-0.964888379491297,0.9753110459780883,0.9999999999999999,0.9999999999999999,0.8800542322409901,-0.94766478698657,-0.9904717672237728,0.9238471363319949,0.9718938441248222,-0.9642617271217219,0.9226808688874779,0.9999999999999998,0.7832068993106843,-0.8944320556231339,-0.4280459167200845,1.0,-0.9702790129011252,0.6270707172710471,1.0,-0.3294815942476146,-0.7561188896204154,-0.6879016130753312,1.0,-0.9850132323113194,-0.6293886766015265,0.8204268511735716,0.8480935479843743,1.0,-0.9512577476364033,-0.27557001035523937,0.9876335172118396,0.9999999999999998,-0.8553177022605538,0.9891664503329918,-0.9636759739117754,-0.6277836704993351,-0.7314087213571114,0.009086432808797618,0.8400212497250765,0.9999999999999998,1.0,0.9999999999999999,-0.9941784199444813,0.9976134595413543,0.9977679681416054,-0.9930651534831164,0.9999999999999998,0.9974104819652702,0.9983497711541964,-0.9995954709016895,1.0,-0.9982206654583148,0.9818841615609896,-0.9625288621876504,-0.9893369176571158,1.0,-0.9105820115946488,-0.9982920237942607,-0.9845925644677089,-0.9825571918989696,0.9448303058675237,0.9938918126604903,-0.9901514914882525,0.9999999999999998,0.9735416365140815,0.9999899079205784,1.0,0.9443962182335698,0.9874726063935894,-0.9939922315006201,0.9147152043581637,-0.9940294600466681,1.0,-0.9237495635846955,0.9999999999999998,0.11573252194821769,0.9641255994883936,0.96089959178099,0.7723566090225972,1.0,-0.5659660468842534,-0.3384963674898171,0.7394330804754298,0.9464665317692479,0.6613112427580905,1.0,0.39254055550125627,0.9987659764958782,1.0,0.9980860175371338,1.0,1.0,1.0,0.9999999999999997,0.9976231934277471,0.6409893758993858,-0.8562392317189502,1.0,0.9984060423292334,-0.9986083664856891,-0.9857108665498595,-0.9661473837729138,-0.8846633514043483,1.0,-0.9149384588550582,1.0,-0.7048803737983597,-0.6743893332653506,-0.8777151231321846,0.9855809276441373,1.0,-0.9808719919076139,0.5790232325485162,0.8174178302447849,1.0,0.9569497066496103,0.8222225344996313,0.07302752354863104,0.4893428704809722,1.0,0.9999999999999998,0.9758715087805019,1.0,0.7898194151439661,-0.9606122770612873,-0.9956581500927448,-0.8806778931021942,-0.8507326497677843,-0.9875419342432512,1.0,-0.9985096970296574,0.9999999999999998,0.9027897491831169,0.9258891027272687,0.9992630649204054,0.9999999999999999,0.11559775567426805,1.0,1.0,0.9706115181413878,1.0,1.0,0.5096962693505436,-0.9840869556852818,-0.9524011610507374,0.9200209973980625,-0.9453960508051582,1.0,0.9894833359210302,0.9949976040772551,0.992805538711449,1.0,1.0,0.9627079009326837,0.9999999999999999,1.0,0.91665300576288,1.0,-0.9530476203744817,1.0,1.0,1.0,-0.9351362254084526,0.9244081037267141,0.9896702629215943,-0.9916201772479074,1.0,1.0,1.0,-0.5075967711369664,-0.9259154867954629,-0.9845838934838189,-0.9968195631118817,1.0,1.0,0.9999999999999999,0.999596150663231,-0.8698538300310046,-0.7973974929596616,-0.9566578258629312,-0.9594729076028391,-0.9652233480736165,0.4987499952444866,-0.3880298096053419,1.0,-0.9613009930832462,1.0,0.970355257520763,0.9997468613874687,-0.04053981959403831,0.9361996357542948,0.9999970859695602,-0.8073948751169765,0.9370696639450597,0.49731109420628483,-0.8325397757071936,-0.880571865649695,1.0,1.0,0.9873587996516391,0.9531046677172448,-0.9960533429617341,0.45805022734754985,-0.11692166348218379,0.9999999999999998,1.0,1.0,1.0,0.7387008722374846,-0.5238864597922476,-0.593343369510741,0.6894762317959113,0.16460093516832522],\"xaxis\":\"x5\",\"yaxis\":\"y5\"},{\"histnorm\":\"probability\",\"name\":\"RF\",\"nbinsx\":25,\"type\":\"histogram\",\"x\":[0.9775394098207678,0.6958839894956943,1.0,1.0,0.6053042148498192,1.0,1.0,0.9834738197292431,0.999997434484602,1.0,0.9999999999999999,0.8911634917630941,0.9324651706538615,-0.9706869189530268,0.9999999999999998,1.0,1.0,0.9999999999999998,1.0,1.0,1.0,1.0,1.0,1.0,-0.95026020103153,1.0,0.9610489025895327,1.0,0.9999999999999999,1.0,-0.9829792866788708,1.0,1.0,0.8492606940786925,0.9984006365729005,0.4562342088169242,1.0,1.0,0.9927697702704146,0.9999249566748655,0.9999999999999999,0.9949705939737681,0.9839830180294123,-0.9831325361369138,1.0,1.0,1.0,1.0,-0.9889566716199409,1.0,1.0,-0.9642617271217216,0.9999999999999999,0.9999999999999998,0.30055894252776616,1.0,-0.4280459167200836,1.0,1.0,0.6270707172709971,1.0,1.0,0.9999999999999999,1.0,1.0,-0.9850132323113192,0.9993543228860623,1.0,1.0,1.0,0.9999999999999999,1.0,1.0,-0.9981155512357109,1.0,-0.9974133750544995,-0.9084443926926511,-0.7090028057027555,-0.16745878765797578,1.0,0.9337311331387542,1.0,0.9567924835700032,0.9999999999999999,1.0,1.0,0.9999999999999998,-0.9947967117470421,1.0,1.0,0.9999999999999999,-0.9995954709016895,1.0,1.0,1.0,1.0,1.0,0.9999999999999999,1.0,-0.998292023794261,1.0,1.0,0.9999999999999998,0.9565295650700655,1.0,0.8195727024888315,0.9999999999999999,0.9999539456570589,1.0,1.0,0.7754204441762185,1.0,1.0,1.0,1.0,-0.9237495635846958,1.0,0.11573252194827366,1.0,1.0,1.0,1.0,0.9974803246278636,1.0,1.0,-0.5699529054782863,-0.31462169602194817,0.9999999999999999,0.990407019061176,0.9999488661566234,1.0,1.0,-0.9990124047291911,0.9999999999999998,0.9999999999999999,0.9999999999999999,-0.9621633345928707,0.6409893758993684,1.0,1.0,0.9979033992399021,0.9991537921131359,1.0,0.9999999999999998,0.9903059610835211,1.0,0.9989532482228407,0.8657950277387851,0.9999999999999999,0.9991762416923604,-0.8777151231321858,0.9999999999999999,1.0,-0.9808719919076136,1.0,-0.6766676134825693,1.0,1.0,0.9995149057964374,1.0,1.0,0.9858041159979355,1.0,1.0,1.0,1.0,0.9999999999999999,-0.9850192875339732,1.0,-0.42915143584116444,-0.9875419342432512,1.0,1.0,1.0,0.9999999999999998,1.0,1.0,1.0,0.9792030277571306,0.9655412282466882,1.0,0.9854133007141261,0.9999999999999999,0.9999999999999999,-0.748578760486031,1.0,1.0,1.0,1.0,0.9891937101503064,1.0,0.9999999999999998,1.0,1.0,1.0,0.9993549440504788,0.9949110944878774,1.0,0.9999999999999998,1.0,-0.9530476203744817,1.0,1.0,1.0,-0.9351362254084526,1.0,0.989670262921594,-0.9916201772479076,1.0,1.0,1.0,-0.507596771136964,0.9998486606986668,1.0,1.0,1.0,1.0,-0.9948356538828681,-0.4673389686919559,1.0,1.0,1.0,0.9999972303092193,0.9998428987522888,0.9999999999999999,1.0,-0.3062840566693084,0.9999999999999998,1.0,1.0,0.9997468613874692,1.0,-0.6760161094257168,0.9999970859695602,1.0,0.9999999999999998,0.49731109420628483,1.0,-0.8805718656496956,0.9999999999999999,-0.31380093609859044,-0.9939140823014415,1.0,1.0,1.0,-0.9994316192184528,0.9999999999999998,0.05761319370649109,0.9999999999999999,0.630595784827358,0.7387008722374785,-0.5238864597922475,-0.5933433695107426,0.6894762317959156,0.16460093516832514],\"xaxis\":\"x6\",\"yaxis\":\"y6\"}],                        {\"font\":{\"size\":18},\"legend\":{\"x\":1,\"xanchor\":\"left\",\"y\":0.99,\"yanchor\":\"top\"},\"paper_bgcolor\":\"rgba(1,1,0,0)\",\"plot_bgcolor\":\"rgba(1, 1, 0, 0)\",\"template\":{\"data\":{\"bar\":[{\"error_x\":{\"color\":\"#2a3f5f\"},\"error_y\":{\"color\":\"#2a3f5f\"},\"marker\":{\"line\":{\"color\":\"#E5ECF6\",\"width\":0.5},\"pattern\":{\"fillmode\":\"overlay\",\"size\":10,\"solidity\":0.2}},\"type\":\"bar\"}],\"barpolar\":[{\"marker\":{\"line\":{\"color\":\"#E5ECF6\",\"width\":0.5},\"pattern\":{\"fillmode\":\"overlay\",\"size\":10,\"solidity\":0.2}},\"type\":\"barpolar\"}],\"carpet\":[{\"aaxis\":{\"endlinecolor\":\"#2a3f5f\",\"gridcolor\":\"white\",\"linecolor\":\"white\",\"minorgridcolor\":\"white\",\"startlinecolor\":\"#2a3f5f\"},\"baxis\":{\"endlinecolor\":\"#2a3f5f\",\"gridcolor\":\"white\",\"linecolor\":\"white\",\"minorgridcolor\":\"white\",\"startlinecolor\":\"#2a3f5f\"},\"type\":\"carpet\"}],\"choropleth\":[{\"colorbar\":{\"outlinewidth\":0,\"ticks\":\"\"},\"type\":\"choropleth\"}],\"contour\":[{\"colorbar\":{\"outlinewidth\":0,\"ticks\":\"\"},\"colorscale\":[[0.0,\"#0d0887\"],[0.1111111111111111,\"#46039f\"],[0.2222222222222222,\"#7201a8\"],[0.3333333333333333,\"#9c179e\"],[0.4444444444444444,\"#bd3786\"],[0.5555555555555556,\"#d8576b\"],[0.6666666666666666,\"#ed7953\"],[0.7777777777777778,\"#fb9f3a\"],[0.8888888888888888,\"#fdca26\"],[1.0,\"#f0f921\"]],\"type\":\"contour\"}],\"contourcarpet\":[{\"colorbar\":{\"outlinewidth\":0,\"ticks\":\"\"},\"type\":\"contourcarpet\"}],\"heatmap\":[{\"colorbar\":{\"outlinewidth\":0,\"ticks\":\"\"},\"colorscale\":[[0.0,\"#0d0887\"],[0.1111111111111111,\"#46039f\"],[0.2222222222222222,\"#7201a8\"],[0.3333333333333333,\"#9c179e\"],[0.4444444444444444,\"#bd3786\"],[0.5555555555555556,\"#d8576b\"],[0.6666666666666666,\"#ed7953\"],[0.7777777777777778,\"#fb9f3a\"],[0.8888888888888888,\"#fdca26\"],[1.0,\"#f0f921\"]],\"type\":\"heatmap\"}],\"heatmapgl\":[{\"colorbar\":{\"outlinewidth\":0,\"ticks\":\"\"},\"colorscale\":[[0.0,\"#0d0887\"],[0.1111111111111111,\"#46039f\"],[0.2222222222222222,\"#7201a8\"],[0.3333333333333333,\"#9c179e\"],[0.4444444444444444,\"#bd3786\"],[0.5555555555555556,\"#d8576b\"],[0.6666666666666666,\"#ed7953\"],[0.7777777777777778,\"#fb9f3a\"],[0.8888888888888888,\"#fdca26\"],[1.0,\"#f0f921\"]],\"type\":\"heatmapgl\"}],\"histogram\":[{\"marker\":{\"pattern\":{\"fillmode\":\"overlay\",\"size\":10,\"solidity\":0.2}},\"type\":\"histogram\"}],\"histogram2d\":[{\"colorbar\":{\"outlinewidth\":0,\"ticks\":\"\"},\"colorscale\":[[0.0,\"#0d0887\"],[0.1111111111111111,\"#46039f\"],[0.2222222222222222,\"#7201a8\"],[0.3333333333333333,\"#9c179e\"],[0.4444444444444444,\"#bd3786\"],[0.5555555555555556,\"#d8576b\"],[0.6666666666666666,\"#ed7953\"],[0.7777777777777778,\"#fb9f3a\"],[0.8888888888888888,\"#fdca26\"],[1.0,\"#f0f921\"]],\"type\":\"histogram2d\"}],\"histogram2dcontour\":[{\"colorbar\":{\"outlinewidth\":0,\"ticks\":\"\"},\"colorscale\":[[0.0,\"#0d0887\"],[0.1111111111111111,\"#46039f\"],[0.2222222222222222,\"#7201a8\"],[0.3333333333333333,\"#9c179e\"],[0.4444444444444444,\"#bd3786\"],[0.5555555555555556,\"#d8576b\"],[0.6666666666666666,\"#ed7953\"],[0.7777777777777778,\"#fb9f3a\"],[0.8888888888888888,\"#fdca26\"],[1.0,\"#f0f921\"]],\"type\":\"histogram2dcontour\"}],\"mesh3d\":[{\"colorbar\":{\"outlinewidth\":0,\"ticks\":\"\"},\"type\":\"mesh3d\"}],\"parcoords\":[{\"line\":{\"colorbar\":{\"outlinewidth\":0,\"ticks\":\"\"}},\"type\":\"parcoords\"}],\"pie\":[{\"automargin\":true,\"type\":\"pie\"}],\"scatter\":[{\"marker\":{\"colorbar\":{\"outlinewidth\":0,\"ticks\":\"\"}},\"type\":\"scatter\"}],\"scatter3d\":[{\"line\":{\"colorbar\":{\"outlinewidth\":0,\"ticks\":\"\"}},\"marker\":{\"colorbar\":{\"outlinewidth\":0,\"ticks\":\"\"}},\"type\":\"scatter3d\"}],\"scattercarpet\":[{\"marker\":{\"colorbar\":{\"outlinewidth\":0,\"ticks\":\"\"}},\"type\":\"scattercarpet\"}],\"scattergeo\":[{\"marker\":{\"colorbar\":{\"outlinewidth\":0,\"ticks\":\"\"}},\"type\":\"scattergeo\"}],\"scattergl\":[{\"marker\":{\"colorbar\":{\"outlinewidth\":0,\"ticks\":\"\"}},\"type\":\"scattergl\"}],\"scattermapbox\":[{\"marker\":{\"colorbar\":{\"outlinewidth\":0,\"ticks\":\"\"}},\"type\":\"scattermapbox\"}],\"scatterpolar\":[{\"marker\":{\"colorbar\":{\"outlinewidth\":0,\"ticks\":\"\"}},\"type\":\"scatterpolar\"}],\"scatterpolargl\":[{\"marker\":{\"colorbar\":{\"outlinewidth\":0,\"ticks\":\"\"}},\"type\":\"scatterpolargl\"}],\"scatterternary\":[{\"marker\":{\"colorbar\":{\"outlinewidth\":0,\"ticks\":\"\"}},\"type\":\"scatterternary\"}],\"surface\":[{\"colorbar\":{\"outlinewidth\":0,\"ticks\":\"\"},\"colorscale\":[[0.0,\"#0d0887\"],[0.1111111111111111,\"#46039f\"],[0.2222222222222222,\"#7201a8\"],[0.3333333333333333,\"#9c179e\"],[0.4444444444444444,\"#bd3786\"],[0.5555555555555556,\"#d8576b\"],[0.6666666666666666,\"#ed7953\"],[0.7777777777777778,\"#fb9f3a\"],[0.8888888888888888,\"#fdca26\"],[1.0,\"#f0f921\"]],\"type\":\"surface\"}],\"table\":[{\"cells\":{\"fill\":{\"color\":\"#EBF0F8\"},\"line\":{\"color\":\"white\"}},\"header\":{\"fill\":{\"color\":\"#C8D4E3\"},\"line\":{\"color\":\"white\"}},\"type\":\"table\"}]},\"layout\":{\"annotationdefaults\":{\"arrowcolor\":\"#2a3f5f\",\"arrowhead\":0,\"arrowwidth\":1},\"autotypenumbers\":\"strict\",\"coloraxis\":{\"colorbar\":{\"outlinewidth\":0,\"ticks\":\"\"}},\"colorscale\":{\"diverging\":[[0,\"#8e0152\"],[0.1,\"#c51b7d\"],[0.2,\"#de77ae\"],[0.3,\"#f1b6da\"],[0.4,\"#fde0ef\"],[0.5,\"#f7f7f7\"],[0.6,\"#e6f5d0\"],[0.7,\"#b8e186\"],[0.8,\"#7fbc41\"],[0.9,\"#4d9221\"],[1,\"#276419\"]],\"sequential\":[[0.0,\"#0d0887\"],[0.1111111111111111,\"#46039f\"],[0.2222222222222222,\"#7201a8\"],[0.3333333333333333,\"#9c179e\"],[0.4444444444444444,\"#bd3786\"],[0.5555555555555556,\"#d8576b\"],[0.6666666666666666,\"#ed7953\"],[0.7777777777777778,\"#fb9f3a\"],[0.8888888888888888,\"#fdca26\"],[1.0,\"#f0f921\"]],\"sequentialminus\":[[0.0,\"#0d0887\"],[0.1111111111111111,\"#46039f\"],[0.2222222222222222,\"#7201a8\"],[0.3333333333333333,\"#9c179e\"],[0.4444444444444444,\"#bd3786\"],[0.5555555555555556,\"#d8576b\"],[0.6666666666666666,\"#ed7953\"],[0.7777777777777778,\"#fb9f3a\"],[0.8888888888888888,\"#fdca26\"],[1.0,\"#f0f921\"]]},\"colorway\":[\"#636efa\",\"#EF553B\",\"#00cc96\",\"#ab63fa\",\"#FFA15A\",\"#19d3f3\",\"#FF6692\",\"#B6E880\",\"#FF97FF\",\"#FECB52\"],\"font\":{\"color\":\"#2a3f5f\"},\"geo\":{\"bgcolor\":\"white\",\"lakecolor\":\"white\",\"landcolor\":\"#E5ECF6\",\"showlakes\":true,\"showland\":true,\"subunitcolor\":\"white\"},\"hoverlabel\":{\"align\":\"left\"},\"hovermode\":\"closest\",\"mapbox\":{\"style\":\"light\"},\"paper_bgcolor\":\"white\",\"plot_bgcolor\":\"#E5ECF6\",\"polar\":{\"angularaxis\":{\"gridcolor\":\"white\",\"linecolor\":\"white\",\"ticks\":\"\"},\"bgcolor\":\"#E5ECF6\",\"radialaxis\":{\"gridcolor\":\"white\",\"linecolor\":\"white\",\"ticks\":\"\"}},\"scene\":{\"xaxis\":{\"backgroundcolor\":\"#E5ECF6\",\"gridcolor\":\"white\",\"gridwidth\":2,\"linecolor\":\"white\",\"showbackground\":true,\"ticks\":\"\",\"zerolinecolor\":\"white\"},\"yaxis\":{\"backgroundcolor\":\"#E5ECF6\",\"gridcolor\":\"white\",\"gridwidth\":2,\"linecolor\":\"white\",\"showbackground\":true,\"ticks\":\"\",\"zerolinecolor\":\"white\"},\"zaxis\":{\"backgroundcolor\":\"#E5ECF6\",\"gridcolor\":\"white\",\"gridwidth\":2,\"linecolor\":\"white\",\"showbackground\":true,\"ticks\":\"\",\"zerolinecolor\":\"white\"}},\"shapedefaults\":{\"line\":{\"color\":\"#2a3f5f\"}},\"ternary\":{\"aaxis\":{\"gridcolor\":\"white\",\"linecolor\":\"white\",\"ticks\":\"\"},\"baxis\":{\"gridcolor\":\"white\",\"linecolor\":\"white\",\"ticks\":\"\"},\"bgcolor\":\"#E5ECF6\",\"caxis\":{\"gridcolor\":\"white\",\"linecolor\":\"white\",\"ticks\":\"\"}},\"title\":{\"x\":0.05},\"xaxis\":{\"automargin\":true,\"gridcolor\":\"white\",\"linecolor\":\"white\",\"ticks\":\"\",\"title\":{\"standoff\":15},\"zerolinecolor\":\"white\",\"zerolinewidth\":2},\"yaxis\":{\"automargin\":true,\"gridcolor\":\"white\",\"linecolor\":\"white\",\"ticks\":\"\",\"title\":{\"standoff\":15},\"zerolinecolor\":\"white\",\"zerolinewidth\":2}}},\"xaxis\":{\"anchor\":\"y\",\"domain\":[0.0,0.2888888888888889],\"gridcolor\":\"LightSteelBlue\",\"gridwidth\":1,\"linecolor\":\"black\",\"mirror\":true,\"showgrid\":true,\"showline\":true},\"xaxis2\":{\"anchor\":\"y2\",\"domain\":[0.35555555555555557,0.6444444444444445],\"gridcolor\":\"LightSteelBlue\",\"gridwidth\":1,\"linecolor\":\"black\",\"mirror\":true,\"showgrid\":true,\"showline\":true},\"xaxis3\":{\"anchor\":\"y3\",\"domain\":[0.7111111111111111,1.0],\"gridcolor\":\"LightSteelBlue\",\"gridwidth\":1,\"linecolor\":\"black\",\"mirror\":true,\"showgrid\":true,\"showline\":true},\"xaxis4\":{\"anchor\":\"y4\",\"domain\":[0.0,0.2888888888888889],\"gridcolor\":\"LightSteelBlue\",\"gridwidth\":1,\"linecolor\":\"black\",\"mirror\":true,\"showgrid\":true,\"showline\":true},\"xaxis5\":{\"anchor\":\"y5\",\"domain\":[0.35555555555555557,0.6444444444444445],\"gridcolor\":\"LightSteelBlue\",\"gridwidth\":1,\"linecolor\":\"black\",\"mirror\":true,\"showgrid\":true,\"showline\":true,\"title\":{\"text\":\"Correlation coefficient\"}},\"xaxis6\":{\"anchor\":\"y6\",\"domain\":[0.7111111111111111,1.0],\"gridcolor\":\"LightSteelBlue\",\"gridwidth\":1,\"linecolor\":\"black\",\"mirror\":true,\"showgrid\":true,\"showline\":true},\"yaxis\":{\"anchor\":\"x\",\"domain\":[0.575,1.0],\"gridcolor\":\"LightSteelBlue\",\"gridwidth\":1,\"linecolor\":\"black\",\"mirror\":true,\"showgrid\":true,\"showline\":true,\"title\":{\"text\":\"Frequency\"},\"zeroline\":true,\"zerolinecolor\":\"LightSteelBlue\",\"zerolinewidth\":1},\"yaxis2\":{\"anchor\":\"x2\",\"domain\":[0.575,1.0],\"gridcolor\":\"LightSteelBlue\",\"gridwidth\":1,\"linecolor\":\"black\",\"mirror\":true,\"showgrid\":true,\"showline\":true,\"zeroline\":true,\"zerolinecolor\":\"LightSteelBlue\",\"zerolinewidth\":1},\"yaxis3\":{\"anchor\":\"x3\",\"domain\":[0.575,1.0],\"gridcolor\":\"LightSteelBlue\",\"gridwidth\":1,\"linecolor\":\"black\",\"mirror\":true,\"showgrid\":true,\"showline\":true,\"zeroline\":true,\"zerolinecolor\":\"LightSteelBlue\",\"zerolinewidth\":1},\"yaxis4\":{\"anchor\":\"x4\",\"domain\":[0.0,0.425],\"gridcolor\":\"LightSteelBlue\",\"gridwidth\":1,\"linecolor\":\"black\",\"mirror\":true,\"showgrid\":true,\"showline\":true,\"title\":{\"text\":\"Frequency\"},\"zeroline\":true,\"zerolinecolor\":\"LightSteelBlue\",\"zerolinewidth\":1},\"yaxis5\":{\"anchor\":\"x5\",\"domain\":[0.0,0.425],\"gridcolor\":\"LightSteelBlue\",\"gridwidth\":1,\"linecolor\":\"black\",\"mirror\":true,\"showgrid\":true,\"showline\":true,\"zeroline\":true,\"zerolinecolor\":\"LightSteelBlue\",\"zerolinewidth\":1},\"yaxis6\":{\"anchor\":\"x6\",\"domain\":[0.0,0.425],\"gridcolor\":\"LightSteelBlue\",\"gridwidth\":1,\"linecolor\":\"black\",\"mirror\":true,\"showgrid\":true,\"showline\":true,\"zeroline\":true,\"zerolinecolor\":\"LightSteelBlue\",\"zerolinewidth\":1}},                        {\"responsive\": true}                    ).then(function(){\n",
       "                            \n",
       "var gd = document.getElementById('c2789b79-696d-45e3-9ac1-98c42df69cde');\n",
       "var x = new MutationObserver(function (mutations, observer) {{\n",
       "        var display = window.getComputedStyle(gd).display;\n",
       "        if (!display || display === 'none') {{\n",
       "            console.log([gd, 'removed!']);\n",
       "            Plotly.purge(gd);\n",
       "            observer.disconnect();\n",
       "        }}\n",
       "}});\n",
       "\n",
       "// Listen for the removal of the full notebook cells\n",
       "var notebookContainer = gd.closest('#notebook-container');\n",
       "if (notebookContainer) {{\n",
       "    x.observe(notebookContainer, {childList: true});\n",
       "}}\n",
       "\n",
       "// Listen for the clearing of the current output cell\n",
       "var outputEl = gd.closest('.output');\n",
       "if (outputEl) {{\n",
       "    x.observe(outputEl, {childList: true});\n",
       "}}\n",
       "\n",
       "                        })                };                });            </script>        </div>"
      ]
     },
     "metadata": {},
     "output_type": "display_data"
    }
   ],
   "source": [
    "import plotly.graph_objects as go\n",
    "from plotly.subplots import make_subplots\n",
    "\n",
    "\n",
    "fig = make_subplots(rows=2, cols=3)\n",
    "\n",
    "trace0 = go.Histogram(x=performance_score[performance_score['algo'] == 'A2C']['score'].values, nbinsx=25, name = 'A2C',histnorm='probability')\n",
    "trace1 = go.Histogram(x=performance_score[performance_score['algo'] == 'PPO']['score'].values, nbinsx=25, name = 'PPO',histnorm='probability')\n",
    "trace2 = go.Histogram(x=performance_score[performance_score['algo'] == 'DT']['score'].values, nbinsx=25, name = 'DT',histnorm='probability')\n",
    "trace3 = go.Histogram(x=performance_score[performance_score['algo'] == 'LR']['score'].values, nbinsx=25, name = 'LR',histnorm='probability')\n",
    "trace4 = go.Histogram(x=performance_score[performance_score['algo'] == 'SVM']['score'].values, nbinsx=25, name = 'SVM',histnorm='probability')\n",
    "trace5 = go.Histogram(x=performance_score[performance_score['algo'] == 'RF']['score'].values, nbinsx=25, name = 'RF',histnorm='probability')\n",
    "\n",
    "\n",
    "fig.append_trace(trace0, 1, 1)\n",
    "fig.append_trace(trace1, 1, 2)\n",
    "fig.append_trace(trace2, 1, 3)\n",
    "fig.append_trace(trace3, 2, 1)\n",
    "fig.append_trace(trace4, 2, 2)\n",
    "fig.append_trace(trace5, 2, 3)\n",
    "# Update xaxis properties\n",
    "fig.update_xaxes(title_text=\"Correlation coefficient\", row=2, col=2)\n",
    "fig.update_yaxes(title_text=\"Frequency\", row=1, col=1)\n",
    "fig.update_yaxes(title_text=\"Frequency\", row=2, col=1)\n",
    "\n",
    "fig.update_layout(\n",
    "\n",
    "    paper_bgcolor='rgba(1,1,0,0)',\n",
    "    plot_bgcolor='rgba(1, 1, 0, 0)',\n",
    "     font=dict(\n",
    "       \n",
    "        size=18,\n",
    "    ),\n",
    "\n",
    ")\n",
    "fig.update_layout(legend=dict(\n",
    "    yanchor=\"top\",\n",
    "    y=0.99,\n",
    "    xanchor=\"left\",\n",
    "    x=1\n",
    "))\n",
    "\n",
    "fig.update_xaxes(showline=True,linecolor='black',showgrid=True, gridwidth=1, gridcolor='LightSteelBlue',mirror=True)\n",
    "fig.update_yaxes(showline=True,linecolor='black',showgrid=True, gridwidth=1, gridcolor='LightSteelBlue',mirror=True)\n",
    "fig.update_yaxes(zeroline=True, zerolinewidth=1, zerolinecolor='LightSteelBlue')\n",
    "\n",
    "fig.show()"
   ]
  },
  {
   "cell_type": "markdown",
   "metadata": {
    "id": "UwiYdXs2IgZl"
   },
   "source": [
    "#### Histogram of single-step correlation coefficient"
   ]
  },
  {
   "cell_type": "code",
   "execution_count": 128,
   "metadata": {
    "colab": {
     "base_uri": "https://localhost:8080/",
     "height": 467
    },
    "id": "kyj3_rmFF42y",
    "outputId": "bc02b0ef-f749-44b2-f755-ce57bc49dd9f"
   },
   "outputs": [
    {
     "data": {
      "application/vnd.plotly.v1+json": {
       "config": {
        "plotlyServerURL": "https://plot.ly"
       },
       "data": [
        {
         "histnorm": "probability",
         "name": "A2C",
         "nbinsx": 25,
         "type": "histogram",
         "x": [
          0.299632076729367,
          0.3446771827705593,
          0.47819220414616737,
          0.35652965165875955,
          0.4456653744118943,
          0.36933835211387506,
          0.4786387482748698,
          0.3172957903588783,
          0.2862841879540168,
          0.3288449855119748,
          -0.08620627558559847,
          0.08638092133672083,
          0.11461285017167624,
          0.38312588571099904,
          0.4792918830486095,
          0.5785562509157673,
          0.6074443575188332,
          0.6005392486160709,
          0.610288285903696,
          0.6003517709321808,
          0.6157867831710424,
          0.48324990420598607,
          -0.10086317467009968,
          -0.030871360792483104,
          -0.05114818328313178,
          0.06736687070843368,
          -0.056210104731015224,
          -0.013921334725661365,
          -0.005827446724944637,
          -0.442178224379832,
          -0.44192278424998166,
          -0.6375251090501073,
          -0.18148300256940034,
          -0.6922139349465563,
          -0.5718453186541446,
          -0.614814694031378,
          -0.5419892371824848,
          0.30399826327759066,
          0.3473833234239328,
          0.31020194998699063,
          0.2616992888053827,
          -0.06576578575108799,
          -0.11946555477426021,
          -0.541833875570828,
          0.7548374315027455,
          0.7345395077544951,
          0.704192262052575,
          0.7152476156426079,
          0.6883411247012368,
          0.722543021310642,
          0.729182352816065,
          0.7407589085561214,
          0.7192255947011403,
          0.691357481803499,
          0.7766037215925948,
          0.8003984825538544,
          0.7670617544967954,
          0.5625319870056817,
          0.6194140466653131,
          0.12763179389653834,
          0.16223894128217883,
          0.14135278490236827,
          0.17448093381203,
          0.18636908779866532,
          0.18712597748972368,
          0.17727063690000514,
          0.11525391610407075,
          -0.03641605452966261,
          0.08412979860494862,
          0.05757330687311548,
          0.12416633203133565,
          0.0017178896566804028,
          0.06623371283635958,
          0.09571477057987172,
          -0.08322685538710184,
          -0.10786121274634948,
          -0.12593550150905328,
          -0.22923755613822144,
          -0.2873697546521216,
          -0.4461318812161584,
          -0.4007079776930838,
          -0.49129490914791646,
          -0.5159380213928348,
          -0.6267645827412603,
          -0.7629264659884455,
          -0.7949839549409884,
          -0.7893679442244953,
          -0.5907184167111627,
          -0.16153544070635006,
          0.13812079608648692,
          0.05612956538761982,
          0.09630951347401955,
          0.31252079803311644,
          0.22655954956436558,
          0.3975035964933804,
          0.5273484453422519,
          0.3672892778626662,
          0.014492354230812847,
          0.34030027432961085,
          0.5425867732159299,
          0.6890556838734866,
          0.6423756208519652,
          0.5608965160369369,
          0.40013570510354113,
          0.32969965256742706,
          0.13505134156319012,
          0.13511286569915323,
          0.3496156036964473,
          0.3994539989987529,
          0.37693639022586983,
          0.20145972617610242,
          0.31680394570367276,
          0.4002438424157032,
          0.4639316218835584,
          0.37445105544918394,
          0.2858754969729744,
          0.2726951577120852,
          0.20460804285556286,
          0.13179576722073966,
          0.1848082346203895,
          0.18700355863159107,
          0.16875097708399062,
          0.01867890414669135,
          -0.008871362600184519,
          0.033935420411917605,
          -0.04608232290955586,
          -0.30634453133584055,
          -0.6213235532179002,
          -0.5331343030772391,
          -0.6312545847392297,
          -0.68583758189106,
          -0.7075489233461917,
          -0.7034573836469836,
          -0.7126373907709468,
          -0.6845422017635245,
          -0.6268474887734582,
          -0.5662235655960713,
          -0.6362697426918322,
          -0.6665264082264004,
          -0.5490764835620819,
          -0.7385435553460006,
          -0.771134241837729,
          -0.560457454402493,
          -0.7113827214835438,
          -0.7325209418279036,
          -0.7430597195618126,
          -0.7436922522660376,
          -0.7084274832170283,
          -0.6122042647139095,
          -0.62700533137378,
          -0.77539240779488,
          -0.8155210854795146,
          -0.8003353679083206,
          -0.7858147310147713,
          -0.7580688755623395,
          -0.8045329456974184,
          -0.7524733390255363,
          -0.740779412475396,
          -0.7298497888837343,
          -0.6058113177493875,
          -0.5919868721630661,
          -0.47774178931389494,
          -0.5657695531986533,
          -0.6085502043243656,
          -0.6154909499888052,
          -0.024155533484492536,
          0.45260109769386114,
          0.5776831353581118,
          0.42982694758801554,
          0.653647858054062,
          0.5995412808126439,
          0.4892426184587328,
          0.5110440000577157,
          0.555086308468118,
          0.6085313142466552,
          0.6528098062535931,
          0.5884137858064268,
          0.745936157550932,
          -0.15999271809347304,
          0.6882536210676069,
          0.7459606632423306,
          0.4433106353444856,
          0.30180828655188574,
          0.6276324395879763,
          0.605756636494226,
          0.6713261619063959,
          0.8172147179404468,
          0.791641171359027,
          0.7586577188303312,
          0.6768116603352137,
          0.7251315684921046,
          0.5497665840410216,
          0.47175065653526144,
          0.4827696592793091,
          0.45288856004707984,
          0.11486611681127157,
          0.7154732952230282,
          0.16290965408070163,
          -0.48329919596849885,
          -0.41855572724076867,
          -0.4170530253292456,
          -0.33367546000092246,
          0.2128418108586198,
          0.1193789410398844,
          0.6768734628987112,
          0.7860471588382255,
          0.8029156969346736,
          0.7556032238736641,
          0.7222731117057971,
          0.7331502277389157,
          0.8170328856014931,
          0.7781920822837175,
          0.6713771192802541,
          0.7823915065851924,
          0.8018862182462696,
          0.7485869539059087,
          0.750661780740975,
          0.7073973709007819,
          0.7601714025391549,
          0.7288935727724007,
          0.744940403338002,
          0.5503543439749938,
          0.5850809565120768,
          0.5561994772328455,
          0.11795087438704743,
          -0.03213578017718945,
          -0.13096405710754266,
          -0.4022162124293105,
          -0.7351327514898964,
          -0.7128727158767455,
          -0.7101871990904017,
          -0.7095347557265533,
          -0.7161268228620973,
          -0.7065559602847324,
          -0.6994730402113464,
          -0.6983514920057288,
          -0.7156687206397981,
          -0.658463778367484,
          -0.623917971373516,
          -0.6168439845681157,
          -0.626627000768287
         ],
         "xaxis": "x",
         "yaxis": "y"
        },
        {
         "histnorm": "probability",
         "name": "PPO",
         "nbinsx": 25,
         "type": "histogram",
         "x": [
          0.3695090293769633,
          0.3404800779944445,
          0.3632528751929731,
          0.3105084610498815,
          0.3666889021999651,
          0.36452465146775187,
          0.42167333306769256,
          0.35745031401839794,
          0.3360013811837866,
          0.40775095657529753,
          0.05899881795967966,
          0.14607434360833216,
          0.23389127572480561,
          0.38024681181278447,
          0.392693360625569,
          0.5932653089398288,
          0.6514181930874283,
          0.646840201791613,
          0.6465589683642962,
          0.6473625434457146,
          0.629010586069936,
          0.6237336817866611,
          -0.06460452868148334,
          -0.003607241789658085,
          -0.03217382323728591,
          0.06762224557875739,
          0.017229470947977815,
          0.10704174194885192,
          0.005010894848845864,
          -0.42405726338511035,
          -0.5267574102158109,
          -0.5935583764257967,
          -0.40346934879432245,
          -0.7394551406071939,
          -0.6577639729689685,
          -0.6727652345278688,
          -0.5345120724962362,
          0.1939697298098837,
          0.2508871396709779,
          0.00022589328647563357,
          0.07360465033978437,
          -0.37910863408145806,
          -0.36729951229158647,
          -0.7217550040134435,
          0.6549913692726776,
          0.6443894076331792,
          0.6036551032694264,
          0.6119124994870017,
          0.6395617333095395,
          0.5837743545205862,
          0.6252249833100368,
          0.6282104442692772,
          0.6194603218311606,
          0.5704522441580429,
          0.7406878527990548,
          0.7343568399944195,
          0.765721894347351,
          0.5861981040021951,
          0.6854294586136803,
          0.12638894507898427,
          0.1602827686102872,
          0.17074174562447425,
          0.15859514958157286,
          0.17331095366654373,
          0.1859633785788019,
          0.1972856508896486,
          0.1264517600040156,
          0.13311453810267077,
          0.12624072567809128,
          0.1479250595327021,
          0.2151325862392326,
          0.13004995541439057,
          0.07629093031173996,
          0.1998607878372151,
          0.015862684007598143,
          -0.10059626956948566,
          -0.20125284509963964,
          -0.24218115210103305,
          -0.2634037040087708,
          -0.47263835434100226,
          -0.43283517865280197,
          -0.4792115727747309,
          -0.4765033017258513,
          -0.5313495797217725,
          -0.6030682728827232,
          -0.6266882681692549,
          -0.5305806946417707,
          -0.2833951177864654,
          0.05644295779104888,
          0.2544755309255154,
          0.07718027729046803,
          0.14453846307044257,
          0.3836845584493049,
          0.3124427583597493,
          0.4457680265028647,
          0.5801539222672804,
          0.4752827858015934,
          0.2026258932485373,
          0.42082652398996756,
          0.5451865398305178,
          0.6537390290159437,
          0.6366417712269785,
          0.5713065975268841,
          0.46454956412400517,
          0.43274856290326624,
          0.33382509971064694,
          0.2890362522433498,
          0.39873148096852373,
          0.4231082251371584,
          0.32706905931093805,
          0.19002918083170134,
          0.38180860052179266,
          0.48489124443155285,
          0.5161337151650536,
          0.3629212749052629,
          0.3168528950352435,
          0.2477705347658158,
          0.22317079619480865,
          0.24136225596112068,
          0.24527676398824882,
          0.24766191684071398,
          0.25953185782936483,
          0.03260784575029388,
          -0.021093686804548598,
          0.014971262355216884,
          0.05579236594707334,
          -0.19237035611648462,
          -0.4537832442787394,
          -0.4385529313948962,
          -0.5385786181575742,
          -0.653324645003351,
          -0.6793901369426741,
          -0.6509242399278214,
          -0.6333564941620362,
          -0.5950864757602351,
          -0.6067472125515274,
          -0.6913701940233083,
          -0.6787323033223599,
          -0.6250406395228107,
          -0.6679331268215252,
          -0.7540992519684122,
          -0.7339305756342095,
          -0.563922013390789,
          -0.6046487344432222,
          -0.5923770795180501,
          -0.6386243115648825,
          -0.6215285735178734,
          -0.5937385303281668,
          -0.4322989224863381,
          -0.4139900392540106,
          -0.7504597928440859,
          -0.690415959137765,
          -0.6734551430442766,
          -0.6878081712786199,
          -0.7310063101056797,
          -0.7467580175176909,
          -0.726155785335762,
          -0.7052229361464633,
          -0.6535311134434152,
          -0.5896351141760375,
          -0.5049053134863711,
          -0.557660981373117,
          -0.6617745920661284,
          -0.7308998883870673,
          -0.7350210957840924,
          0.006764923421995121,
          0.5599445807282001,
          0.6476940222867646,
          0.29437564475533096,
          0.42340776503181277,
          0.6117015208765694,
          0.6021152769023285,
          0.49977325819432433,
          0.6573337976915733,
          0.619390944877659,
          0.6378817395304691,
          0.5710993220666137,
          0.7334050171251028,
          -0.13000630872368268,
          0.7565739859185373,
          0.8111101051283641,
          0.4486938845766533,
          0.3218592202497348,
          0.6354549088234627,
          0.6593579329943138,
          0.715936852556936,
          0.7773896723352982,
          0.7905337153363566,
          0.7592871337730669,
          0.6699866164642434,
          0.7489498574191709,
          0.5971183910650953,
          0.579311918703097,
          0.5349269312015797,
          0.49503851194229853,
          0.1667854243332253,
          0.6441430796020913,
          0.06407096056683079,
          -0.5245124810628032,
          -0.44826877298546464,
          -0.49425354679720995,
          -0.327955577115368,
          0.42088453257708636,
          0.3019583559940523,
          0.8404594521241189,
          0.8407488733111473,
          0.7977822760142191,
          0.7980572412784155,
          0.7647263467256316,
          0.7360929467686176,
          0.7675544841941352,
          0.7627334865320764,
          0.7701207903450451,
          0.757797666673261,
          0.7516111271296283,
          0.7494684173010434,
          0.7355147582477646,
          0.7014949046385096,
          0.7217984014548441,
          0.7733507648613693,
          0.7953080329136514,
          0.6723649370704836,
          0.6678940383791352,
          0.5398085302401129,
          -0.07548227525301643,
          -0.16964160384636354,
          -0.3588082348154651,
          -0.5241093376596117,
          -0.7498436769766466,
          -0.6686953369481772,
          -0.6697327593207346,
          -0.6960803309661879,
          -0.6990940569687907,
          -0.7101661055234824,
          -0.7749268940091727,
          -0.7419428139027956,
          -0.7064639018713961,
          -0.6933969967377338,
          -0.658918788265213,
          -0.6683760205511166,
          -0.6859461703662664
         ],
         "xaxis": "x2",
         "yaxis": "y2"
        },
        {
         "histnorm": "probability",
         "name": "DT",
         "nbinsx": 25,
         "type": "histogram",
         "x": [
          -0.9134305412081603,
          0.8692226172185277,
          0.9942745058481274,
          0.01727291160198219,
          -0.9496681992847178,
          0.9926253398767098,
          0.9880910611900284,
          0.9740644889461438,
          0.9865730440696984,
          0.875940156757556,
          0.7505307349820145,
          -0.5971991239042769,
          -0.5185417845329482,
          -0.9397787485822194,
          0.8930596935873425,
          0.4545023868476806,
          0.15217921942484586,
          0.4877276123269965,
          -0.5918674781944301,
          0.549950586344566,
          0.5370850185071122,
          0.6436448135798839,
          -0.20123715196928857,
          0.2959761725554508,
          -0.1521786864070837,
          0.674940070539705,
          -0.7780550606866506,
          0.8546307962874794,
          0.8058444375890133,
          -0.4741029341155194,
          0.6769884826099427,
          -0.36234442693602914,
          0.6083604945652445,
          0.04977316872064886,
          -0.0677571859163371,
          -0.027831213537534264,
          0.4453850642150052,
          0.9775065185266676,
          -0.9614053198483827,
          -0.7739982332068945,
          0.7379587359240265,
          -0.47199341485673296,
          0.480245823113033,
          0.12097594309500966,
          -0.006026663749415328,
          0.39090210610873755,
          0.4715100118099324,
          -0.04998143753781953,
          -0.2959373816180185,
          -0.331990748686295,
          0.49450741896939276,
          -0.09070785717629154,
          0.17105063019401326,
          0.11959239466436808,
          0.6368930796400866,
          0.9089194013518046,
          0.9325222242847475,
          -0.6221906837884142,
          0.7583432546984626,
          -0.014213785763008378,
          0.1641067045154173,
          -0.3267366030305949,
          -0.3343368186276664,
          0.36025149914092525,
          0.1755207068540822,
          -0.2014921887007827,
          0.20006981262905316,
          0.2472432282256537,
          0.2756196108432409,
          -0.10601247779458058,
          0.36771193905638877,
          0.8402357586029281,
          -0.9643450497469734,
          0.7909224841689299,
          0.9437608488616889,
          0.9353882501231595,
          -0.8863333724880685,
          -0.7627814259723034,
          0.7601415887584065,
          0.6647774668964446,
          0.7542922208548843,
          0.487065780491246,
          0.6048585385563955,
          0.39446414533774626,
          -0.3175960654767178,
          0.9350822588250648,
          0.5272229848156843,
          0.12287172154356082,
          0.5352289090631512,
          0.928544482887982,
          0.9470039446804605,
          -0.8285084957646147,
          -0.8385587749078871,
          -0.8477111864860182,
          0.6497792555658293,
          -0.5039554974205189,
          0.870552116531586,
          -0.3323993217044063,
          0.6668188650564172,
          -0.16444437170115347,
          0.9036463538938013,
          0.8666644324244942,
          0.7328289120703384,
          -0.5620444521804006,
          -0.8537787898435103,
          -0.5863817699945371,
          0.7828085172469168,
          -0.8436314887407766,
          0.9019112064650298,
          0.8702336869774178,
          -0.5978435872164553,
          -0.5014870609436926,
          0.8508260366754623,
          -0.9667117751773169,
          0.7068288049585292,
          -0.7325136251839526,
          -0.9153748933751463,
          -0.06584756512719431,
          0.8932643949896898,
          0.9109133334837456,
          0.8969603942309035,
          -0.3614495681872792,
          -0.9386268981912845,
          0.9447738069220865,
          0.8657356093371201,
          0.5937202242783033,
          -0.7791505708859581,
          -0.8497295922123079,
          0.8313985043241408,
          0.6909094688129175,
          0.5767271770768719,
          0.5404740924356337,
          -0.5391667294487575,
          -0.04798193679202788,
          0.8954195515702817,
          -0.7929767120256684,
          0.6406283194905753,
          0.7770662662071379,
          -0.30510883930282334,
          0.4007976010923685,
          0.6681575914216024,
          0.7740575133690512,
          0.9856245284286608,
          0.8928827147195425,
          0.8707541003853004,
          -0.16046657373036022,
          0.26490718371955624,
          0.42090768297797715,
          -0.27283511445622444,
          0.9366803561070831,
          -0.33222190289178505,
          0.15479623248226326,
          0.22764207198856024,
          0.13658369495407965,
          0.4041012802916325,
          -0.24688502450060598,
          0.1451623170733771,
          0.7788985821972054,
          0.6824004154797643,
          0.767379578218652,
          -0.04190763068828496,
          -0.5477906817398513,
          -0.2615058191630614,
          -0.9984135277673405,
          0.9793457794544872,
          -0.4008929744252737,
          -0.7248578734851766,
          -0.720350876659027,
          -0.27722136046104173,
          -0.2239719667787898,
          0.06374452030300096,
          -0.03801901302523738,
          0.4850073710558427,
          -0.9550070713911648,
          0.9150808521399068,
          0.7299364409754827,
          0.8726305621952622,
          0.9189458130548458,
          0.14508364183270867,
          -0.78210557190117,
          0.6747183278360864,
          0.4727507188303653,
          0.7988299759831498,
          -0.2956767645870301,
          -0.5659071770581943,
          0.590322084587397,
          0.3187330966991441,
          0.06808136540087961,
          0.3927625063333368,
          0.6397523916985708,
          -0.6668467967468625,
          0.903138313691602,
          -0.7804284245646315,
          0.9351915495206302,
          0.7405640187612291,
          0.9390571562598518,
          -0.677176510931052,
          -0.21826425548384798,
          0.9391970495170376,
          -0.8489606841352678,
          0.9095385326480402,
          -0.7808939186880017,
          0.4248971590382653,
          0.4720734041377529,
          0.2571674652397588,
          -0.31453811062016873,
          0.3916163034870935,
          0.6979418913520473,
          0.8179069568785928,
          -0.3018389797199518,
          0.6660499288058902,
          -0.7637995951746892,
          0.7099099749553841,
          0.8079232792011563,
          0.9365101318774723,
          0.9367671687349366,
          0.7666357279375859,
          -0.8259499946618316,
          0.787418126252226,
          0.9512483257444542,
          0.9487723581262167,
          -0.8697430568270341,
          -0.9147593141529762,
          0.7815386687604713,
          0.6691825217074018,
          0.6997122500902161,
          0.30382815986161094,
          0.8666745976641719,
          -0.4237480080216681,
          0.05357506619366214,
          -0.6062686478923568,
          -0.3855077571083441,
          0.27113395308863064,
          0.3753153479528336,
          -0.048890308794199554,
          -0.0247720235046206,
          0.2365132062620966,
          -0.44115707822277067,
          0.4605895332023095,
          -0.5479893823391623,
          0.7753354445608873
         ],
         "xaxis": "x3",
         "yaxis": "y3"
        },
        {
         "histnorm": "probability",
         "name": "LR",
         "nbinsx": 25,
         "type": "histogram",
         "x": [
          -0.9134305412081605,
          -0.8663520920584228,
          0.9950323089802839,
          0.9953773851819738,
          0.9420026410231532,
          0.9177107516201649,
          0.9880910611900283,
          0.9740644889461438,
          0.9882952892036001,
          0.9142921881889304,
          0.8230239113927067,
          -0.5971991239042768,
          -0.48210695985392144,
          -0.8848090317074856,
          -0.8180541404560921,
          0.1520147709772384,
          0.014305038229604229,
          0.4877276123269965,
          0.5898303157265842,
          0.5109282178765748,
          0.5370850185071122,
          0.6436448135798842,
          -0.24801888049283224,
          0.33618760673074094,
          0.16511959020636477,
          0.687840292137171,
          0.7944161309308689,
          -0.8587540554747526,
          0.8062706149973076,
          -0.47410293411551924,
          0.6769884826099428,
          -0.3623444269360292,
          -0.6071736775759783,
          0.04977316872064895,
          -0.046253897715576676,
          -0.10277399181661659,
          0.4453850642150052,
          0.9775065185266676,
          -0.961405319848383,
          null,
          0.7379587359240264,
          0.27870295466530626,
          -0.2956611379621517,
          -0.3054269506615251,
          -0.0665944967566076,
          -0.16497258459001063,
          0.4523658021340413,
          -0.04954994523542454,
          -0.2959373816180185,
          -0.16672063611499668,
          0.3940377050270218,
          -0.0907078571762914,
          0.1710506301940133,
          0.0966147991586624,
          0.4982189116022637,
          0.7166082517780298,
          0.8102250736740474,
          -0.6221906837884142,
          -0.7276480155587691,
          -0.014213785763008307,
          0.16410670451541737,
          -0.10771091843435324,
          0.2144104988550564,
          0.193250233440269,
          0.1755207068540826,
          -0.20149218870078264,
          -0.19972338271855658,
          -0.15979878470477768,
          0.17122973053748966,
          0.05237350232734955,
          -0.38316435780470237,
          -0.36391613313790755,
          -0.9856486811791657,
          0.7858275139287589,
          -0.8446487495981078,
          0.9290517380885537,
          -0.8811516240282038,
          -0.729068611633769,
          -0.7575412320435225,
          -0.010097534648665099,
          0.49841414405178797,
          0.487065780491256,
          0.6048585385563955,
          0.39446414533774626,
          0.28362083362662266,
          0.9350822588250648,
          0.527222984815684,
          0.1228717215435608,
          -0.5252917211456158,
          0.928544482887982,
          0.9470039446804605,
          -0.8285084957646147,
          -0.838558774907887,
          -0.8477111864860183,
          0.615859890160788,
          0.4930418408892648,
          -0.8324005683906504,
          -0.27151840614180384,
          -0.6379765325738412,
          0.1583603054424238,
          -0.8790675988114459,
          -0.8271095809763854,
          0.7328289120703392,
          -0.48353513553482375,
          0.8578106704819166,
          -0.5863817699945375,
          0.7698470666486231,
          -0.8436314887407763,
          0.9019112064650298,
          0.8419981359940186,
          -0.5978435872164553,
          0.5216048013896275,
          0.885761765023564,
          -0.9667117751773167,
          0.7068288049585292,
          -0.7325136251839526,
          -0.8675228650156555,
          -0.06584756512708405,
          -0.904694476120455,
          0.8957530615613252,
          -0.9149491875172613,
          -0.3619018109837121,
          0.6054196881707732,
          -0.24651213615299997,
          0.869624965875779,
          0.5713625186313328,
          -0.037149858018261865,
          -0.8497295922123086,
          0.38337600808543537,
          0.6926431314945554,
          0.576727177076872,
          0.5404740924356337,
          -0.5391667294487573,
          -0.0479819367920279,
          0.8954195515702817,
          -0.16726175651803912,
          -0.6683966120515447,
          0.4518715121846306,
          -0.6068034780037709,
          0.4007976010923685,
          0.6550734741053369,
          -0.7631234227083366,
          -0.9566510737325065,
          -0.9082398040692202,
          -0.9153751130543446,
          -0.1604665737303602,
          -0.17472494116731122,
          0.23727370194850783,
          -0.27283511445622477,
          -0.8351807927807022,
          -0.3322219028917857,
          0.1481613937785655,
          0.22764207198856026,
          0.13658369495407963,
          0.34043476759035596,
          -0.24688502450060604,
          0.14516231707337698,
          0.7631038648814275,
          0.6824004154797643,
          0.767379578218652,
          -0.04190763068830826,
          -0.5842372217167907,
          -0.26778399626333566,
          -0.9704747563145049,
          0.9655293764186352,
          -0.4304689497400194,
          -0.7248578734851769,
          -0.720350876659027,
          0.2473545868195355,
          0.1648437823653257,
          0.08209325619757166,
          0.06099335048021881,
          0.47463995919161045,
          0.952472148495512,
          -0.9372041397494004,
          -0.7703255985698323,
          0.8693158744735439,
          -0.9051991165651752,
          -0.2626123699313378,
          -0.6405146698847198,
          0.6609806552976885,
          0.7513873216233133,
          0.5819231958885586,
          -0.29567676458703,
          0.4489129120471992,
          0.5903220845873972,
          0.3187330966991094,
          0.06808136540087835,
          -0.4675426739622948,
          0.6812287614676467,
          -0.706497099142492,
          -0.9267482364143322,
          -0.7829343213662328,
          0.9351915495206303,
          0.7405640187612292,
          0.9390571562598514,
          0.8573867132651654,
          0.2929369258687623,
          0.939197049517038,
          -0.9015521703083268,
          0.909538532648038,
          -0.7808939186880037,
          0.4248971590382654,
          0.47207340413775234,
          0.3690269754310167,
          -0.3145381106201683,
          0.3916163034870934,
          0.6979418913520473,
          0.8179069568785928,
          -0.3018389797199517,
          0.6660499288058904,
          0.4419618534357763,
          0.7099099749553841,
          -0.7858972093644878,
          -0.9283579956390587,
          0.9367671687349366,
          0.7666357279375859,
          -0.8186133466074927,
          0.8572474173783459,
          -0.7240715318111466,
          -0.7201134508458659,
          0.8752555118566858,
          -0.8925671227287663,
          -0.7347313389780661,
          0.2921382272891572,
          -0.2526861904392249,
          -0.17784616629598549,
          -0.7583737284220529,
          -0.423748008021668,
          0.06353475494727444,
          -0.6562602865783106,
          -0.3867481309899629,
          -0.50270272620025,
          0.5006229177158061,
          -0.25478173146267624,
          -0.07149088179604972,
          0.24852956393021236,
          0.4542345688472899,
          -0.43621191261491293,
          -0.547989382339162,
          -0.20690674120617866
         ],
         "xaxis": "x4",
         "yaxis": "y4"
        },
        {
         "histnorm": "probability",
         "name": "SVM",
         "nbinsx": 25,
         "type": "histogram",
         "x": [
          -0.9134305412081605,
          -0.8663520920584228,
          0.9950323089802839,
          0.995377385181974,
          0.9420026410231529,
          0.9177107516201649,
          -0.2848280914685969,
          0.9726643138302038,
          0.8578298185174364,
          0.91429218818893,
          0.8230239113927067,
          -0.5971991239042769,
          -0.48210695985392144,
          -0.8848090317074859,
          -0.8180541404560921,
          0.1520147709772397,
          0.014305038229603976,
          0.4877276123269965,
          -0.5915064015327623,
          -0.6010955239466677,
          -0.6086883259207971,
          -0.6697514774441629,
          -0.25652601202352837,
          -0.3532117526707653,
          -0.18164756610874846,
          0.674940070539705,
          -0.7780550606866509,
          0.8546307962874793,
          0.8058444375890133,
          -0.47410293411551924,
          0.6769884826099428,
          -0.36234442693602914,
          0.6083968991317954,
          0.04977316872064895,
          -0.046253897715576656,
          -0.10277399181661664,
          -0.4402358834755088,
          0.9775065185266676,
          -0.961405319848383,
          -0.7750084845771337,
          0.7379587359240263,
          0.27870295466530626,
          -0.29566113796215127,
          -0.3054269506615253,
          -0.006026663749415041,
          -0.18275973692345632,
          0.2532765250208298,
          -0.04954994523542486,
          -0.3088526064814687,
          -0.16672063611499482,
          0.39403770502702207,
          0.0010506712102478564,
          0.031357691543408145,
          0.11959239466436816,
          0.4982189116022637,
          0.7166082517780298,
          0.8102250736740478,
          -0.6221906837884142,
          -0.7276480155587681,
          -0.014213785763015225,
          0.16410670451541698,
          -0.10771091843435325,
          0.2144104988550565,
          0.1932502334402709,
          0.17552070685408877,
          -0.20149218870078273,
          0.09799822725189848,
          -0.1597987847047777,
          0.17122973053749488,
          0.052373502327349615,
          -0.38316435780470237,
          -0.3639161331375812,
          -0.9856486811791656,
          0.7858275139287589,
          -0.8446487495981155,
          0.9290517380885537,
          -0.8863333724880685,
          -0.7290686116337692,
          -0.7575412320435224,
          -0.010097534648669733,
          0.498414144051786,
          0.4870657804912526,
          0.6048585385563957,
          0.39446414533774615,
          0.2836208336266214,
          0.9188858655622903,
          0.49883644823862316,
          0.11393725636448979,
          -0.5252917211456157,
          0.9285444828879822,
          0.9470039446804605,
          -0.8285084957646147,
          -0.8385587749078871,
          -0.8477111864860182,
          0.615859890160788,
          0.49304184088926484,
          -0.8324005683906504,
          -0.27151840614180384,
          -0.6379765325738412,
          0.15836030544242377,
          -0.8790675988114459,
          -0.8271095809763852,
          0.7328289120703385,
          -0.48353513553482375,
          0.8578106704819167,
          -0.5863817699945488,
          0.7698470666486231,
          -0.8436314887407765,
          0.9019112064650298,
          0.8419981359940186,
          -0.5978435872164553,
          0.5216048013896275,
          0.8857617650235623,
          -0.9667117751773167,
          0.7068288049585292,
          -0.7325136251839526,
          -0.8675228650156545,
          -0.0658475651272036,
          0.8932643949896902,
          0.8957530615613107,
          0.8256044922604038,
          -0.3614495681872792,
          0.6054196881707786,
          -0.24651213615300482,
          0.7747652094028769,
          0.5713625186313324,
          -0.03714985801826193,
          -0.8497295922123079,
          0.3833760080854292,
          0.6926431314945553,
          0.5767271770768719,
          0.5404740924356338,
          -0.5391667294487573,
          -0.047981936792027786,
          0.8954195515702821,
          -0.16726175651815425,
          -0.6683966120515445,
          0.4518715121846883,
          -0.6068034780037721,
          0.4007976010923687,
          0.6550734741053369,
          -0.7631234227083369,
          -0.9566510737325065,
          -0.9082398040692199,
          -0.9153751130543447,
          -0.16046657373036102,
          -0.17472494116731072,
          0.2372737019485079,
          -0.2728351144562229,
          -0.835180792780711,
          -0.33222190289178544,
          0.14816139377856558,
          0.22764207198856015,
          0.13658369495407954,
          0.34043476759035596,
          -0.24688502450060598,
          0.14516231707337707,
          0.7631038648814271,
          0.5201095144409662,
          0.18918328017111077,
          -0.6352156496232452,
          -0.5477906817398515,
          -0.26150581916306137,
          -0.9984135277673406,
          0.9793457794544871,
          -0.4304689497400193,
          0.7396981996581117,
          -0.7142911943568689,
          -0.27722136046104146,
          -0.2239719667787897,
          0.06374452030300105,
          0.05222980829005122,
          0.4850073710558427,
          -0.9550070713911648,
          0.9341854029961829,
          0.7718614755601945,
          0.8726305621952621,
          0.9189458130548457,
          0.3306717570074692,
          -0.7821055719011692,
          0.6734816321567979,
          0.7702753582958999,
          0.7988299759831499,
          0.28801634867007553,
          -0.5607401911524496,
          -0.6231983216357736,
          -0.3825557184422253,
          -0.3483019491300952,
          -0.467542673962296,
          0.6812287614676467,
          -0.7064970991424921,
          -0.9267482364143325,
          -0.7829343213662328,
          0.9351915495206301,
          0.7405640187612291,
          0.9390571562598516,
          0.825071294836014,
          -0.22623691170259502,
          0.8174841700152833,
          -0.8489606841352679,
          0.9095385326480401,
          -0.7808939186880018,
          0.4248971590382655,
          0.4720734041377529,
          0.3690269754310167,
          -0.31453811062016884,
          0.3916163034870935,
          0.6979418913520473,
          0.8179069568785928,
          -0.3018389797199495,
          0.6660499288058902,
          0.4419618534357772,
          0.7099099749553843,
          -0.7858972093644875,
          -0.9283579956390587,
          0.9367671687349366,
          0.7666357279375859,
          -0.8186133466074927,
          0.8572474173783459,
          -0.7240715318111466,
          -0.720113450845868,
          0.8752555118566858,
          -0.8925671227287659,
          -0.734731338978066,
          0.29213822728915745,
          -0.2526861904392248,
          -0.1778461662960273,
          -0.7583737284220528,
          -0.423748008021668,
          0.06353475494727444,
          -0.6562602865783106,
          -0.3867481309899648,
          -0.50270272620025,
          0.500622917715806,
          -0.2547817314626762,
          -0.07149088179604984,
          0.24852956393021228,
          0.4542345688472898,
          -0.4362119126149129,
          -0.5479893823391623,
          -0.20690674120616073
         ],
         "xaxis": "x5",
         "yaxis": "y5"
        },
        {
         "histnorm": "probability",
         "name": "RF",
         "nbinsx": 25,
         "type": "histogram",
         "x": [
          -0.9134305412081605,
          0.8640803858607986,
          0.9942745058481275,
          -0.994452454016508,
          -0.9496681992847179,
          0.99262533987671,
          0.9880910611900284,
          0.972664313830204,
          0.9865730440696983,
          0.875940156757556,
          0.8230239113927067,
          -0.5971991239042769,
          -0.5185417845329473,
          -0.9397787485822195,
          0.8930596935873424,
          0.45450238684768074,
          0.15217921942484583,
          0.48772761232699646,
          -0.5915064015327625,
          0.549950586344566,
          0.5370850185071122,
          0.6436448135798843,
          -0.20123715196928865,
          0.33618760673074105,
          0.16511959020636485,
          0.674940070539705,
          -0.7780550606866509,
          0.8546307962874794,
          0.8058444375890133,
          -0.4741029341155194,
          0.6769884826099428,
          -0.36234442693602914,
          0.6083604945652447,
          -0.035558697362765956,
          -0.0746291688680195,
          0.06346795498852303,
          0.4453850642150052,
          0.9775065185266678,
          0.9509072070236196,
          -0.7640184573451407,
          0.7379587359240265,
          -0.4672866910762688,
          0.480245823113033,
          0.12097594309500706,
          -0.0060266637494152875,
          -0.18275973692345626,
          0.4715100118099324,
          -0.04998143753781942,
          -0.2959373816180186,
          -0.331990748686295,
          0.49450741896939276,
          0.0010506712102475691,
          0.17105063019401326,
          0.11959239466436808,
          0.6368930796400866,
          -0.8925358542301608,
          0.810225073674047,
          -0.6221906837884142,
          0.7583432546984626,
          -0.014213785763008828,
          0.16410670451541734,
          0.33344647553693785,
          -0.33433681862766645,
          -0.3632815755842039,
          0.17552070685408283,
          -0.20149218870078264,
          -0.2007784590179403,
          -0.2553505755356352,
          0.2756196108432408,
          0.05237350232734933,
          0.36771193905638877,
          0.8402357586029281,
          -0.9643450497469735,
          -0.7871742775231512,
          0.9437608488616889,
          -0.9256728862615471,
          -0.8530504643878455,
          -0.7627814259723033,
          -0.5735799158006598,
          -0.7304060632351866,
          0.7582914875329917,
          0.4870657804912598,
          0.6136459942035034,
          0.39446414533774626,
          -0.3175960654767177,
          0.9350822588250648,
          0.5272229848156842,
          0.1228717215435608,
          -0.5252917211456158,
          0.9474807072110558,
          0.9610928739525593,
          -0.8285084957646147,
          -0.8385587749078871,
          0.8554575510867234,
          0.649779255565829,
          -0.5292097886532249,
          0.8705521165315858,
          -0.27151840614180384,
          0.6668188650564174,
          0.15836030544242374,
          0.9036463538938013,
          0.8666644324244942,
          0.8331637459286255,
          -0.5620444521804002,
          -0.8997588789684654,
          -0.6968470703870802,
          0.7828085172469168,
          -0.8458665800167169,
          0.9019112064650298,
          0.8702336869774178,
          -0.43912763674281247,
          -0.5014870609436926,
          0.8508260366754623,
          0.9693481292651944,
          0.7068288049585291,
          -0.7325136251839526,
          -0.8675228650156563,
          -0.06584756512714986,
          0.9094567319152234,
          0.9109133334837453,
          0.8969603942309033,
          -0.36144956818727897,
          -0.9386268981912846,
          0.9447738069220866,
          0.8657356093371196,
          -0.3625246555328558,
          -0.7791505708859583,
          -0.8497295922123079,
          0.828970850032852,
          0.6910804698674623,
          0.5767271770768718,
          0.5367071797390475,
          0.5442611213711332,
          -0.04798193679202797,
          0.8954195515702819,
          -0.16726175651807065,
          0.6406283194905752,
          0.451871512184674,
          0.7025081330843596,
          0.4007976010923685,
          0.6682780496714384,
          0.7747780784449427,
          0.9856245284286608,
          0.8928827147195427,
          0.8707541003853004,
          -0.16046657373036066,
          0.26490718371955624,
          0.4209076829779771,
          0.6599736592319183,
          0.9366803561070831,
          -0.3322219028917849,
          0.15479623248226326,
          0.22764207198856024,
          0.13658369495407965,
          0.4948170260750237,
          0.17658676311808888,
          0.14516231707337704,
          0.7788985821972054,
          0.6824004154797643,
          0.767379578218652,
          -0.04190763068828443,
          -0.5842372217167907,
          -0.2615058191630615,
          -0.9704747563145024,
          0.9793457794544873,
          -0.40089297442527355,
          -0.7248578734851769,
          -0.720350876659027,
          0.2473545868195355,
          0.07798529076485579,
          0.06374452030300098,
          0.05222980829005122,
          -0.48028535283285867,
          -0.9550070713911648,
          0.9150808521399068,
          0.7299364409754735,
          0.8693158744735439,
          0.9189458130548458,
          -0.2626123699313377,
          -0.6405146698847201,
          0.6734816321567979,
          0.771970308286562,
          0.7988299759831498,
          0.2880163486700756,
          0.44891291204719946,
          0.5903220845873972,
          0.318733096699144,
          -0.24389184434646527,
          0.3927625063333373,
          0.6397523916985709,
          -0.6668467967468625,
          -0.905624725182532,
          -0.7804284245646315,
          0.9351915495206302,
          0.7405640187612291,
          0.9517231980019882,
          0.8446657998547707,
          -0.22623691170259488,
          0.9391970495170378,
          -0.8489606841352678,
          0.9095385326480401,
          -0.7808939186880017,
          0.4248971590382653,
          0.4720734041377529,
          0.3690269754310167,
          -0.23790942403021612,
          0.3916163034870935,
          0.6979418913520473,
          0.8179069568785928,
          -0.3018389797199518,
          0.6660499288058902,
          0.4419618534357755,
          -0.7652941905847132,
          0.8079232792011563,
          0.9365101318774723,
          0.9367671687349366,
          0.766635727937586,
          0.8290241814798786,
          -0.27691856099342876,
          0.9512483257444542,
          0.9487723581262167,
          -0.8697430568270341,
          0.9252426832291007,
          0.7612908556339394,
          0.6691825217074018,
          0.6997122500902162,
          0.30382815986161055,
          0.8666745976641718,
          -0.423748008021668,
          0.053575066193662195,
          -0.6562602865783106,
          -0.3855077571083441,
          0.27113395308862953,
          0.5006229177158062,
          0.3406317400419304,
          0.01018330326689595,
          0.24852956393021228,
          -0.44115707822277056,
          -0.436211912614913,
          -0.5479893823391618,
          0.7753354445608873
         ],
         "xaxis": "x6",
         "yaxis": "y6"
        }
       ],
       "layout": {
        "font": {
         "size": 18
        },
        "legend": {
         "x": 1,
         "xanchor": "left",
         "y": 0.99,
         "yanchor": "top"
        },
        "paper_bgcolor": "rgba(1,1,0,0)",
        "plot_bgcolor": "rgba(1, 1, 0, 0)",
        "template": {
         "data": {
          "bar": [
           {
            "error_x": {
             "color": "#2a3f5f"
            },
            "error_y": {
             "color": "#2a3f5f"
            },
            "marker": {
             "line": {
              "color": "#E5ECF6",
              "width": 0.5
             },
             "pattern": {
              "fillmode": "overlay",
              "size": 10,
              "solidity": 0.2
             }
            },
            "type": "bar"
           }
          ],
          "barpolar": [
           {
            "marker": {
             "line": {
              "color": "#E5ECF6",
              "width": 0.5
             },
             "pattern": {
              "fillmode": "overlay",
              "size": 10,
              "solidity": 0.2
             }
            },
            "type": "barpolar"
           }
          ],
          "carpet": [
           {
            "aaxis": {
             "endlinecolor": "#2a3f5f",
             "gridcolor": "white",
             "linecolor": "white",
             "minorgridcolor": "white",
             "startlinecolor": "#2a3f5f"
            },
            "baxis": {
             "endlinecolor": "#2a3f5f",
             "gridcolor": "white",
             "linecolor": "white",
             "minorgridcolor": "white",
             "startlinecolor": "#2a3f5f"
            },
            "type": "carpet"
           }
          ],
          "choropleth": [
           {
            "colorbar": {
             "outlinewidth": 0,
             "ticks": ""
            },
            "type": "choropleth"
           }
          ],
          "contour": [
           {
            "colorbar": {
             "outlinewidth": 0,
             "ticks": ""
            },
            "colorscale": [
             [
              0,
              "#0d0887"
             ],
             [
              0.1111111111111111,
              "#46039f"
             ],
             [
              0.2222222222222222,
              "#7201a8"
             ],
             [
              0.3333333333333333,
              "#9c179e"
             ],
             [
              0.4444444444444444,
              "#bd3786"
             ],
             [
              0.5555555555555556,
              "#d8576b"
             ],
             [
              0.6666666666666666,
              "#ed7953"
             ],
             [
              0.7777777777777778,
              "#fb9f3a"
             ],
             [
              0.8888888888888888,
              "#fdca26"
             ],
             [
              1,
              "#f0f921"
             ]
            ],
            "type": "contour"
           }
          ],
          "contourcarpet": [
           {
            "colorbar": {
             "outlinewidth": 0,
             "ticks": ""
            },
            "type": "contourcarpet"
           }
          ],
          "heatmap": [
           {
            "colorbar": {
             "outlinewidth": 0,
             "ticks": ""
            },
            "colorscale": [
             [
              0,
              "#0d0887"
             ],
             [
              0.1111111111111111,
              "#46039f"
             ],
             [
              0.2222222222222222,
              "#7201a8"
             ],
             [
              0.3333333333333333,
              "#9c179e"
             ],
             [
              0.4444444444444444,
              "#bd3786"
             ],
             [
              0.5555555555555556,
              "#d8576b"
             ],
             [
              0.6666666666666666,
              "#ed7953"
             ],
             [
              0.7777777777777778,
              "#fb9f3a"
             ],
             [
              0.8888888888888888,
              "#fdca26"
             ],
             [
              1,
              "#f0f921"
             ]
            ],
            "type": "heatmap"
           }
          ],
          "heatmapgl": [
           {
            "colorbar": {
             "outlinewidth": 0,
             "ticks": ""
            },
            "colorscale": [
             [
              0,
              "#0d0887"
             ],
             [
              0.1111111111111111,
              "#46039f"
             ],
             [
              0.2222222222222222,
              "#7201a8"
             ],
             [
              0.3333333333333333,
              "#9c179e"
             ],
             [
              0.4444444444444444,
              "#bd3786"
             ],
             [
              0.5555555555555556,
              "#d8576b"
             ],
             [
              0.6666666666666666,
              "#ed7953"
             ],
             [
              0.7777777777777778,
              "#fb9f3a"
             ],
             [
              0.8888888888888888,
              "#fdca26"
             ],
             [
              1,
              "#f0f921"
             ]
            ],
            "type": "heatmapgl"
           }
          ],
          "histogram": [
           {
            "marker": {
             "pattern": {
              "fillmode": "overlay",
              "size": 10,
              "solidity": 0.2
             }
            },
            "type": "histogram"
           }
          ],
          "histogram2d": [
           {
            "colorbar": {
             "outlinewidth": 0,
             "ticks": ""
            },
            "colorscale": [
             [
              0,
              "#0d0887"
             ],
             [
              0.1111111111111111,
              "#46039f"
             ],
             [
              0.2222222222222222,
              "#7201a8"
             ],
             [
              0.3333333333333333,
              "#9c179e"
             ],
             [
              0.4444444444444444,
              "#bd3786"
             ],
             [
              0.5555555555555556,
              "#d8576b"
             ],
             [
              0.6666666666666666,
              "#ed7953"
             ],
             [
              0.7777777777777778,
              "#fb9f3a"
             ],
             [
              0.8888888888888888,
              "#fdca26"
             ],
             [
              1,
              "#f0f921"
             ]
            ],
            "type": "histogram2d"
           }
          ],
          "histogram2dcontour": [
           {
            "colorbar": {
             "outlinewidth": 0,
             "ticks": ""
            },
            "colorscale": [
             [
              0,
              "#0d0887"
             ],
             [
              0.1111111111111111,
              "#46039f"
             ],
             [
              0.2222222222222222,
              "#7201a8"
             ],
             [
              0.3333333333333333,
              "#9c179e"
             ],
             [
              0.4444444444444444,
              "#bd3786"
             ],
             [
              0.5555555555555556,
              "#d8576b"
             ],
             [
              0.6666666666666666,
              "#ed7953"
             ],
             [
              0.7777777777777778,
              "#fb9f3a"
             ],
             [
              0.8888888888888888,
              "#fdca26"
             ],
             [
              1,
              "#f0f921"
             ]
            ],
            "type": "histogram2dcontour"
           }
          ],
          "mesh3d": [
           {
            "colorbar": {
             "outlinewidth": 0,
             "ticks": ""
            },
            "type": "mesh3d"
           }
          ],
          "parcoords": [
           {
            "line": {
             "colorbar": {
              "outlinewidth": 0,
              "ticks": ""
             }
            },
            "type": "parcoords"
           }
          ],
          "pie": [
           {
            "automargin": true,
            "type": "pie"
           }
          ],
          "scatter": [
           {
            "marker": {
             "colorbar": {
              "outlinewidth": 0,
              "ticks": ""
             }
            },
            "type": "scatter"
           }
          ],
          "scatter3d": [
           {
            "line": {
             "colorbar": {
              "outlinewidth": 0,
              "ticks": ""
             }
            },
            "marker": {
             "colorbar": {
              "outlinewidth": 0,
              "ticks": ""
             }
            },
            "type": "scatter3d"
           }
          ],
          "scattercarpet": [
           {
            "marker": {
             "colorbar": {
              "outlinewidth": 0,
              "ticks": ""
             }
            },
            "type": "scattercarpet"
           }
          ],
          "scattergeo": [
           {
            "marker": {
             "colorbar": {
              "outlinewidth": 0,
              "ticks": ""
             }
            },
            "type": "scattergeo"
           }
          ],
          "scattergl": [
           {
            "marker": {
             "colorbar": {
              "outlinewidth": 0,
              "ticks": ""
             }
            },
            "type": "scattergl"
           }
          ],
          "scattermapbox": [
           {
            "marker": {
             "colorbar": {
              "outlinewidth": 0,
              "ticks": ""
             }
            },
            "type": "scattermapbox"
           }
          ],
          "scatterpolar": [
           {
            "marker": {
             "colorbar": {
              "outlinewidth": 0,
              "ticks": ""
             }
            },
            "type": "scatterpolar"
           }
          ],
          "scatterpolargl": [
           {
            "marker": {
             "colorbar": {
              "outlinewidth": 0,
              "ticks": ""
             }
            },
            "type": "scatterpolargl"
           }
          ],
          "scatterternary": [
           {
            "marker": {
             "colorbar": {
              "outlinewidth": 0,
              "ticks": ""
             }
            },
            "type": "scatterternary"
           }
          ],
          "surface": [
           {
            "colorbar": {
             "outlinewidth": 0,
             "ticks": ""
            },
            "colorscale": [
             [
              0,
              "#0d0887"
             ],
             [
              0.1111111111111111,
              "#46039f"
             ],
             [
              0.2222222222222222,
              "#7201a8"
             ],
             [
              0.3333333333333333,
              "#9c179e"
             ],
             [
              0.4444444444444444,
              "#bd3786"
             ],
             [
              0.5555555555555556,
              "#d8576b"
             ],
             [
              0.6666666666666666,
              "#ed7953"
             ],
             [
              0.7777777777777778,
              "#fb9f3a"
             ],
             [
              0.8888888888888888,
              "#fdca26"
             ],
             [
              1,
              "#f0f921"
             ]
            ],
            "type": "surface"
           }
          ],
          "table": [
           {
            "cells": {
             "fill": {
              "color": "#EBF0F8"
             },
             "line": {
              "color": "white"
             }
            },
            "header": {
             "fill": {
              "color": "#C8D4E3"
             },
             "line": {
              "color": "white"
             }
            },
            "type": "table"
           }
          ]
         },
         "layout": {
          "annotationdefaults": {
           "arrowcolor": "#2a3f5f",
           "arrowhead": 0,
           "arrowwidth": 1
          },
          "autotypenumbers": "strict",
          "coloraxis": {
           "colorbar": {
            "outlinewidth": 0,
            "ticks": ""
           }
          },
          "colorscale": {
           "diverging": [
            [
             0,
             "#8e0152"
            ],
            [
             0.1,
             "#c51b7d"
            ],
            [
             0.2,
             "#de77ae"
            ],
            [
             0.3,
             "#f1b6da"
            ],
            [
             0.4,
             "#fde0ef"
            ],
            [
             0.5,
             "#f7f7f7"
            ],
            [
             0.6,
             "#e6f5d0"
            ],
            [
             0.7,
             "#b8e186"
            ],
            [
             0.8,
             "#7fbc41"
            ],
            [
             0.9,
             "#4d9221"
            ],
            [
             1,
             "#276419"
            ]
           ],
           "sequential": [
            [
             0,
             "#0d0887"
            ],
            [
             0.1111111111111111,
             "#46039f"
            ],
            [
             0.2222222222222222,
             "#7201a8"
            ],
            [
             0.3333333333333333,
             "#9c179e"
            ],
            [
             0.4444444444444444,
             "#bd3786"
            ],
            [
             0.5555555555555556,
             "#d8576b"
            ],
            [
             0.6666666666666666,
             "#ed7953"
            ],
            [
             0.7777777777777778,
             "#fb9f3a"
            ],
            [
             0.8888888888888888,
             "#fdca26"
            ],
            [
             1,
             "#f0f921"
            ]
           ],
           "sequentialminus": [
            [
             0,
             "#0d0887"
            ],
            [
             0.1111111111111111,
             "#46039f"
            ],
            [
             0.2222222222222222,
             "#7201a8"
            ],
            [
             0.3333333333333333,
             "#9c179e"
            ],
            [
             0.4444444444444444,
             "#bd3786"
            ],
            [
             0.5555555555555556,
             "#d8576b"
            ],
            [
             0.6666666666666666,
             "#ed7953"
            ],
            [
             0.7777777777777778,
             "#fb9f3a"
            ],
            [
             0.8888888888888888,
             "#fdca26"
            ],
            [
             1,
             "#f0f921"
            ]
           ]
          },
          "colorway": [
           "#636efa",
           "#EF553B",
           "#00cc96",
           "#ab63fa",
           "#FFA15A",
           "#19d3f3",
           "#FF6692",
           "#B6E880",
           "#FF97FF",
           "#FECB52"
          ],
          "font": {
           "color": "#2a3f5f"
          },
          "geo": {
           "bgcolor": "white",
           "lakecolor": "white",
           "landcolor": "#E5ECF6",
           "showlakes": true,
           "showland": true,
           "subunitcolor": "white"
          },
          "hoverlabel": {
           "align": "left"
          },
          "hovermode": "closest",
          "mapbox": {
           "style": "light"
          },
          "paper_bgcolor": "white",
          "plot_bgcolor": "#E5ECF6",
          "polar": {
           "angularaxis": {
            "gridcolor": "white",
            "linecolor": "white",
            "ticks": ""
           },
           "bgcolor": "#E5ECF6",
           "radialaxis": {
            "gridcolor": "white",
            "linecolor": "white",
            "ticks": ""
           }
          },
          "scene": {
           "xaxis": {
            "backgroundcolor": "#E5ECF6",
            "gridcolor": "white",
            "gridwidth": 2,
            "linecolor": "white",
            "showbackground": true,
            "ticks": "",
            "zerolinecolor": "white"
           },
           "yaxis": {
            "backgroundcolor": "#E5ECF6",
            "gridcolor": "white",
            "gridwidth": 2,
            "linecolor": "white",
            "showbackground": true,
            "ticks": "",
            "zerolinecolor": "white"
           },
           "zaxis": {
            "backgroundcolor": "#E5ECF6",
            "gridcolor": "white",
            "gridwidth": 2,
            "linecolor": "white",
            "showbackground": true,
            "ticks": "",
            "zerolinecolor": "white"
           }
          },
          "shapedefaults": {
           "line": {
            "color": "#2a3f5f"
           }
          },
          "ternary": {
           "aaxis": {
            "gridcolor": "white",
            "linecolor": "white",
            "ticks": ""
           },
           "baxis": {
            "gridcolor": "white",
            "linecolor": "white",
            "ticks": ""
           },
           "bgcolor": "#E5ECF6",
           "caxis": {
            "gridcolor": "white",
            "linecolor": "white",
            "ticks": ""
           }
          },
          "title": {
           "x": 0.05
          },
          "xaxis": {
           "automargin": true,
           "gridcolor": "white",
           "linecolor": "white",
           "ticks": "",
           "title": {
            "standoff": 15
           },
           "zerolinecolor": "white",
           "zerolinewidth": 2
          },
          "yaxis": {
           "automargin": true,
           "gridcolor": "white",
           "linecolor": "white",
           "ticks": "",
           "title": {
            "standoff": 15
           },
           "zerolinecolor": "white",
           "zerolinewidth": 2
          }
         }
        },
        "xaxis": {
         "anchor": "y",
         "domain": [
          0,
          0.2888888888888889
         ],
         "gridcolor": "LightSteelBlue",
         "gridwidth": 1,
         "linecolor": "black",
         "mirror": true,
         "showgrid": true,
         "showline": true
        },
        "xaxis2": {
         "anchor": "y2",
         "domain": [
          0.35555555555555557,
          0.6444444444444445
         ],
         "gridcolor": "LightSteelBlue",
         "gridwidth": 1,
         "linecolor": "black",
         "mirror": true,
         "showgrid": true,
         "showline": true
        },
        "xaxis3": {
         "anchor": "y3",
         "domain": [
          0.7111111111111111,
          1
         ],
         "gridcolor": "LightSteelBlue",
         "gridwidth": 1,
         "linecolor": "black",
         "mirror": true,
         "showgrid": true,
         "showline": true
        },
        "xaxis4": {
         "anchor": "y4",
         "domain": [
          0,
          0.2888888888888889
         ],
         "gridcolor": "LightSteelBlue",
         "gridwidth": 1,
         "linecolor": "black",
         "mirror": true,
         "showgrid": true,
         "showline": true
        },
        "xaxis5": {
         "anchor": "y5",
         "domain": [
          0.35555555555555557,
          0.6444444444444445
         ],
         "gridcolor": "LightSteelBlue",
         "gridwidth": 1,
         "linecolor": "black",
         "mirror": true,
         "showgrid": true,
         "showline": true,
         "title": {
          "text": "Correlation coefficient"
         }
        },
        "xaxis6": {
         "anchor": "y6",
         "domain": [
          0.7111111111111111,
          1
         ],
         "gridcolor": "LightSteelBlue",
         "gridwidth": 1,
         "linecolor": "black",
         "mirror": true,
         "showgrid": true,
         "showline": true
        },
        "yaxis": {
         "anchor": "x",
         "domain": [
          0.575,
          1
         ],
         "gridcolor": "LightSteelBlue",
         "gridwidth": 1,
         "linecolor": "black",
         "mirror": true,
         "range": [
          0,
          0.2
         ],
         "showgrid": true,
         "showline": true,
         "title": {
          "text": "Frequency"
         },
         "zeroline": true,
         "zerolinecolor": "LightSteelBlue",
         "zerolinewidth": 1
        },
        "yaxis2": {
         "anchor": "x2",
         "domain": [
          0.575,
          1
         ],
         "gridcolor": "LightSteelBlue",
         "gridwidth": 1,
         "linecolor": "black",
         "mirror": true,
         "range": [
          0,
          0.2
         ],
         "showgrid": true,
         "showline": true,
         "zeroline": true,
         "zerolinecolor": "LightSteelBlue",
         "zerolinewidth": 1
        },
        "yaxis3": {
         "anchor": "x3",
         "domain": [
          0.575,
          1
         ],
         "gridcolor": "LightSteelBlue",
         "gridwidth": 1,
         "linecolor": "black",
         "mirror": true,
         "range": [
          0,
          0.4
         ],
         "showgrid": true,
         "showline": true,
         "zeroline": true,
         "zerolinecolor": "LightSteelBlue",
         "zerolinewidth": 1
        },
        "yaxis4": {
         "anchor": "x4",
         "domain": [
          0,
          0.425
         ],
         "gridcolor": "LightSteelBlue",
         "gridwidth": 1,
         "linecolor": "black",
         "mirror": true,
         "range": [
          0,
          0.4
         ],
         "showgrid": true,
         "showline": true,
         "title": {
          "text": "Frequency"
         },
         "zeroline": true,
         "zerolinecolor": "LightSteelBlue",
         "zerolinewidth": 1
        },
        "yaxis5": {
         "anchor": "x5",
         "domain": [
          0,
          0.425
         ],
         "gridcolor": "LightSteelBlue",
         "gridwidth": 1,
         "linecolor": "black",
         "mirror": true,
         "range": [
          0,
          0.4
         ],
         "showgrid": true,
         "showline": true,
         "zeroline": true,
         "zerolinecolor": "LightSteelBlue",
         "zerolinewidth": 1
        },
        "yaxis6": {
         "anchor": "x6",
         "domain": [
          0,
          0.425
         ],
         "gridcolor": "LightSteelBlue",
         "gridwidth": 1,
         "linecolor": "black",
         "mirror": true,
         "range": [
          0,
          0.4
         ],
         "showgrid": true,
         "showline": true,
         "zeroline": true,
         "zerolinecolor": "LightSteelBlue",
         "zerolinewidth": 1
        }
       }
      },
      "text/html": [
       "<div>                            <div id=\"23c17360-1fdd-4237-8463-b8617fc7c621\" class=\"plotly-graph-div\" style=\"height:525px; width:100%;\"></div>            <script type=\"text/javascript\">                require([\"plotly\"], function(Plotly) {                    window.PLOTLYENV=window.PLOTLYENV || {};                                    if (document.getElementById(\"23c17360-1fdd-4237-8463-b8617fc7c621\")) {                    Plotly.newPlot(                        \"23c17360-1fdd-4237-8463-b8617fc7c621\",                        [{\"histnorm\":\"probability\",\"name\":\"A2C\",\"nbinsx\":25,\"type\":\"histogram\",\"x\":[0.299632076729367,0.3446771827705593,0.47819220414616737,0.35652965165875955,0.4456653744118943,0.36933835211387506,0.4786387482748698,0.3172957903588783,0.2862841879540168,0.3288449855119748,-0.08620627558559847,0.08638092133672083,0.11461285017167624,0.38312588571099904,0.4792918830486095,0.5785562509157673,0.6074443575188332,0.6005392486160709,0.610288285903696,0.6003517709321808,0.6157867831710424,0.48324990420598607,-0.10086317467009968,-0.030871360792483104,-0.05114818328313178,0.06736687070843368,-0.056210104731015224,-0.013921334725661365,-0.005827446724944637,-0.442178224379832,-0.44192278424998166,-0.6375251090501073,-0.18148300256940034,-0.6922139349465563,-0.5718453186541446,-0.614814694031378,-0.5419892371824848,0.30399826327759066,0.3473833234239328,0.31020194998699063,0.2616992888053827,-0.06576578575108799,-0.11946555477426021,-0.541833875570828,0.7548374315027455,0.7345395077544951,0.704192262052575,0.7152476156426079,0.6883411247012368,0.722543021310642,0.729182352816065,0.7407589085561214,0.7192255947011403,0.691357481803499,0.7766037215925948,0.8003984825538544,0.7670617544967954,0.5625319870056817,0.6194140466653131,0.12763179389653834,0.16223894128217883,0.14135278490236827,0.17448093381203,0.18636908779866532,0.18712597748972368,0.17727063690000514,0.11525391610407075,-0.03641605452966261,0.08412979860494862,0.05757330687311548,0.12416633203133565,0.0017178896566804028,0.06623371283635958,0.09571477057987172,-0.08322685538710184,-0.10786121274634948,-0.12593550150905328,-0.22923755613822144,-0.2873697546521216,-0.4461318812161584,-0.4007079776930838,-0.49129490914791646,-0.5159380213928348,-0.6267645827412603,-0.7629264659884455,-0.7949839549409884,-0.7893679442244953,-0.5907184167111627,-0.16153544070635006,0.13812079608648692,0.05612956538761982,0.09630951347401955,0.31252079803311644,0.22655954956436558,0.3975035964933804,0.5273484453422519,0.3672892778626662,0.014492354230812847,0.34030027432961085,0.5425867732159299,0.6890556838734866,0.6423756208519652,0.5608965160369369,0.40013570510354113,0.32969965256742706,0.13505134156319012,0.13511286569915323,0.3496156036964473,0.3994539989987529,0.37693639022586983,0.20145972617610242,0.31680394570367276,0.4002438424157032,0.4639316218835584,0.37445105544918394,0.2858754969729744,0.2726951577120852,0.20460804285556286,0.13179576722073966,0.1848082346203895,0.18700355863159107,0.16875097708399062,0.01867890414669135,-0.008871362600184519,0.033935420411917605,-0.04608232290955586,-0.30634453133584055,-0.6213235532179002,-0.5331343030772391,-0.6312545847392297,-0.68583758189106,-0.7075489233461917,-0.7034573836469836,-0.7126373907709468,-0.6845422017635245,-0.6268474887734582,-0.5662235655960713,-0.6362697426918322,-0.6665264082264004,-0.5490764835620819,-0.7385435553460006,-0.771134241837729,-0.560457454402493,-0.7113827214835438,-0.7325209418279036,-0.7430597195618126,-0.7436922522660376,-0.7084274832170283,-0.6122042647139095,-0.62700533137378,-0.77539240779488,-0.8155210854795146,-0.8003353679083206,-0.7858147310147713,-0.7580688755623395,-0.8045329456974184,-0.7524733390255363,-0.740779412475396,-0.7298497888837343,-0.6058113177493875,-0.5919868721630661,-0.47774178931389494,-0.5657695531986533,-0.6085502043243656,-0.6154909499888052,-0.024155533484492536,0.45260109769386114,0.5776831353581118,0.42982694758801554,0.653647858054062,0.5995412808126439,0.4892426184587328,0.5110440000577157,0.555086308468118,0.6085313142466552,0.6528098062535931,0.5884137858064268,0.745936157550932,-0.15999271809347304,0.6882536210676069,0.7459606632423306,0.4433106353444856,0.30180828655188574,0.6276324395879763,0.605756636494226,0.6713261619063959,0.8172147179404468,0.791641171359027,0.7586577188303312,0.6768116603352137,0.7251315684921046,0.5497665840410216,0.47175065653526144,0.4827696592793091,0.45288856004707984,0.11486611681127157,0.7154732952230282,0.16290965408070163,-0.48329919596849885,-0.41855572724076867,-0.4170530253292456,-0.33367546000092246,0.2128418108586198,0.1193789410398844,0.6768734628987112,0.7860471588382255,0.8029156969346736,0.7556032238736641,0.7222731117057971,0.7331502277389157,0.8170328856014931,0.7781920822837175,0.6713771192802541,0.7823915065851924,0.8018862182462696,0.7485869539059087,0.750661780740975,0.7073973709007819,0.7601714025391549,0.7288935727724007,0.744940403338002,0.5503543439749938,0.5850809565120768,0.5561994772328455,0.11795087438704743,-0.03213578017718945,-0.13096405710754266,-0.4022162124293105,-0.7351327514898964,-0.7128727158767455,-0.7101871990904017,-0.7095347557265533,-0.7161268228620973,-0.7065559602847324,-0.6994730402113464,-0.6983514920057288,-0.7156687206397981,-0.658463778367484,-0.623917971373516,-0.6168439845681157,-0.626627000768287],\"xaxis\":\"x\",\"yaxis\":\"y\"},{\"histnorm\":\"probability\",\"name\":\"PPO\",\"nbinsx\":25,\"type\":\"histogram\",\"x\":[0.3695090293769633,0.3404800779944445,0.3632528751929731,0.3105084610498815,0.3666889021999651,0.36452465146775187,0.42167333306769256,0.35745031401839794,0.3360013811837866,0.40775095657529753,0.05899881795967966,0.14607434360833216,0.23389127572480561,0.38024681181278447,0.392693360625569,0.5932653089398288,0.6514181930874283,0.646840201791613,0.6465589683642962,0.6473625434457146,0.629010586069936,0.6237336817866611,-0.06460452868148334,-0.003607241789658085,-0.03217382323728591,0.06762224557875739,0.017229470947977815,0.10704174194885192,0.005010894848845864,-0.42405726338511035,-0.5267574102158109,-0.5935583764257967,-0.40346934879432245,-0.7394551406071939,-0.6577639729689685,-0.6727652345278688,-0.5345120724962362,0.1939697298098837,0.2508871396709779,0.00022589328647563357,0.07360465033978437,-0.37910863408145806,-0.36729951229158647,-0.7217550040134435,0.6549913692726776,0.6443894076331792,0.6036551032694264,0.6119124994870017,0.6395617333095395,0.5837743545205862,0.6252249833100368,0.6282104442692772,0.6194603218311606,0.5704522441580429,0.7406878527990548,0.7343568399944195,0.765721894347351,0.5861981040021951,0.6854294586136803,0.12638894507898427,0.1602827686102872,0.17074174562447425,0.15859514958157286,0.17331095366654373,0.1859633785788019,0.1972856508896486,0.1264517600040156,0.13311453810267077,0.12624072567809128,0.1479250595327021,0.2151325862392326,0.13004995541439057,0.07629093031173996,0.1998607878372151,0.015862684007598143,-0.10059626956948566,-0.20125284509963964,-0.24218115210103305,-0.2634037040087708,-0.47263835434100226,-0.43283517865280197,-0.4792115727747309,-0.4765033017258513,-0.5313495797217725,-0.6030682728827232,-0.6266882681692549,-0.5305806946417707,-0.2833951177864654,0.05644295779104888,0.2544755309255154,0.07718027729046803,0.14453846307044257,0.3836845584493049,0.3124427583597493,0.4457680265028647,0.5801539222672804,0.4752827858015934,0.2026258932485373,0.42082652398996756,0.5451865398305178,0.6537390290159437,0.6366417712269785,0.5713065975268841,0.46454956412400517,0.43274856290326624,0.33382509971064694,0.2890362522433498,0.39873148096852373,0.4231082251371584,0.32706905931093805,0.19002918083170134,0.38180860052179266,0.48489124443155285,0.5161337151650536,0.3629212749052629,0.3168528950352435,0.2477705347658158,0.22317079619480865,0.24136225596112068,0.24527676398824882,0.24766191684071398,0.25953185782936483,0.03260784575029388,-0.021093686804548598,0.014971262355216884,0.05579236594707334,-0.19237035611648462,-0.4537832442787394,-0.4385529313948962,-0.5385786181575742,-0.653324645003351,-0.6793901369426741,-0.6509242399278214,-0.6333564941620362,-0.5950864757602351,-0.6067472125515274,-0.6913701940233083,-0.6787323033223599,-0.6250406395228107,-0.6679331268215252,-0.7540992519684122,-0.7339305756342095,-0.563922013390789,-0.6046487344432222,-0.5923770795180501,-0.6386243115648825,-0.6215285735178734,-0.5937385303281668,-0.4322989224863381,-0.4139900392540106,-0.7504597928440859,-0.690415959137765,-0.6734551430442766,-0.6878081712786199,-0.7310063101056797,-0.7467580175176909,-0.726155785335762,-0.7052229361464633,-0.6535311134434152,-0.5896351141760375,-0.5049053134863711,-0.557660981373117,-0.6617745920661284,-0.7308998883870673,-0.7350210957840924,0.006764923421995121,0.5599445807282001,0.6476940222867646,0.29437564475533096,0.42340776503181277,0.6117015208765694,0.6021152769023285,0.49977325819432433,0.6573337976915733,0.619390944877659,0.6378817395304691,0.5710993220666137,0.7334050171251028,-0.13000630872368268,0.7565739859185373,0.8111101051283641,0.4486938845766533,0.3218592202497348,0.6354549088234627,0.6593579329943138,0.715936852556936,0.7773896723352982,0.7905337153363566,0.7592871337730669,0.6699866164642434,0.7489498574191709,0.5971183910650953,0.579311918703097,0.5349269312015797,0.49503851194229853,0.1667854243332253,0.6441430796020913,0.06407096056683079,-0.5245124810628032,-0.44826877298546464,-0.49425354679720995,-0.327955577115368,0.42088453257708636,0.3019583559940523,0.8404594521241189,0.8407488733111473,0.7977822760142191,0.7980572412784155,0.7647263467256316,0.7360929467686176,0.7675544841941352,0.7627334865320764,0.7701207903450451,0.757797666673261,0.7516111271296283,0.7494684173010434,0.7355147582477646,0.7014949046385096,0.7217984014548441,0.7733507648613693,0.7953080329136514,0.6723649370704836,0.6678940383791352,0.5398085302401129,-0.07548227525301643,-0.16964160384636354,-0.3588082348154651,-0.5241093376596117,-0.7498436769766466,-0.6686953369481772,-0.6697327593207346,-0.6960803309661879,-0.6990940569687907,-0.7101661055234824,-0.7749268940091727,-0.7419428139027956,-0.7064639018713961,-0.6933969967377338,-0.658918788265213,-0.6683760205511166,-0.6859461703662664],\"xaxis\":\"x2\",\"yaxis\":\"y2\"},{\"histnorm\":\"probability\",\"name\":\"DT\",\"nbinsx\":25,\"type\":\"histogram\",\"x\":[-0.9134305412081603,0.8692226172185277,0.9942745058481274,0.01727291160198219,-0.9496681992847178,0.9926253398767098,0.9880910611900284,0.9740644889461438,0.9865730440696984,0.875940156757556,0.7505307349820145,-0.5971991239042769,-0.5185417845329482,-0.9397787485822194,0.8930596935873425,0.4545023868476806,0.15217921942484586,0.4877276123269965,-0.5918674781944301,0.549950586344566,0.5370850185071122,0.6436448135798839,-0.20123715196928857,0.2959761725554508,-0.1521786864070837,0.674940070539705,-0.7780550606866506,0.8546307962874794,0.8058444375890133,-0.4741029341155194,0.6769884826099427,-0.36234442693602914,0.6083604945652445,0.04977316872064886,-0.0677571859163371,-0.027831213537534264,0.4453850642150052,0.9775065185266676,-0.9614053198483827,-0.7739982332068945,0.7379587359240265,-0.47199341485673296,0.480245823113033,0.12097594309500966,-0.006026663749415328,0.39090210610873755,0.4715100118099324,-0.04998143753781953,-0.2959373816180185,-0.331990748686295,0.49450741896939276,-0.09070785717629154,0.17105063019401326,0.11959239466436808,0.6368930796400866,0.9089194013518046,0.9325222242847475,-0.6221906837884142,0.7583432546984626,-0.014213785763008378,0.1641067045154173,-0.3267366030305949,-0.3343368186276664,0.36025149914092525,0.1755207068540822,-0.2014921887007827,0.20006981262905316,0.2472432282256537,0.2756196108432409,-0.10601247779458058,0.36771193905638877,0.8402357586029281,-0.9643450497469734,0.7909224841689299,0.9437608488616889,0.9353882501231595,-0.8863333724880685,-0.7627814259723034,0.7601415887584065,0.6647774668964446,0.7542922208548843,0.487065780491246,0.6048585385563955,0.39446414533774626,-0.3175960654767178,0.9350822588250648,0.5272229848156843,0.12287172154356082,0.5352289090631512,0.928544482887982,0.9470039446804605,-0.8285084957646147,-0.8385587749078871,-0.8477111864860182,0.6497792555658293,-0.5039554974205189,0.870552116531586,-0.3323993217044063,0.6668188650564172,-0.16444437170115347,0.9036463538938013,0.8666644324244942,0.7328289120703384,-0.5620444521804006,-0.8537787898435103,-0.5863817699945371,0.7828085172469168,-0.8436314887407766,0.9019112064650298,0.8702336869774178,-0.5978435872164553,-0.5014870609436926,0.8508260366754623,-0.9667117751773169,0.7068288049585292,-0.7325136251839526,-0.9153748933751463,-0.06584756512719431,0.8932643949896898,0.9109133334837456,0.8969603942309035,-0.3614495681872792,-0.9386268981912845,0.9447738069220865,0.8657356093371201,0.5937202242783033,-0.7791505708859581,-0.8497295922123079,0.8313985043241408,0.6909094688129175,0.5767271770768719,0.5404740924356337,-0.5391667294487575,-0.04798193679202788,0.8954195515702817,-0.7929767120256684,0.6406283194905753,0.7770662662071379,-0.30510883930282334,0.4007976010923685,0.6681575914216024,0.7740575133690512,0.9856245284286608,0.8928827147195425,0.8707541003853004,-0.16046657373036022,0.26490718371955624,0.42090768297797715,-0.27283511445622444,0.9366803561070831,-0.33222190289178505,0.15479623248226326,0.22764207198856024,0.13658369495407965,0.4041012802916325,-0.24688502450060598,0.1451623170733771,0.7788985821972054,0.6824004154797643,0.767379578218652,-0.04190763068828496,-0.5477906817398513,-0.2615058191630614,-0.9984135277673405,0.9793457794544872,-0.4008929744252737,-0.7248578734851766,-0.720350876659027,-0.27722136046104173,-0.2239719667787898,0.06374452030300096,-0.03801901302523738,0.4850073710558427,-0.9550070713911648,0.9150808521399068,0.7299364409754827,0.8726305621952622,0.9189458130548458,0.14508364183270867,-0.78210557190117,0.6747183278360864,0.4727507188303653,0.7988299759831498,-0.2956767645870301,-0.5659071770581943,0.590322084587397,0.3187330966991441,0.06808136540087961,0.3927625063333368,0.6397523916985708,-0.6668467967468625,0.903138313691602,-0.7804284245646315,0.9351915495206302,0.7405640187612291,0.9390571562598518,-0.677176510931052,-0.21826425548384798,0.9391970495170376,-0.8489606841352678,0.9095385326480402,-0.7808939186880017,0.4248971590382653,0.4720734041377529,0.2571674652397588,-0.31453811062016873,0.3916163034870935,0.6979418913520473,0.8179069568785928,-0.3018389797199518,0.6660499288058902,-0.7637995951746892,0.7099099749553841,0.8079232792011563,0.9365101318774723,0.9367671687349366,0.7666357279375859,-0.8259499946618316,0.787418126252226,0.9512483257444542,0.9487723581262167,-0.8697430568270341,-0.9147593141529762,0.7815386687604713,0.6691825217074018,0.6997122500902161,0.30382815986161094,0.8666745976641719,-0.4237480080216681,0.05357506619366214,-0.6062686478923568,-0.3855077571083441,0.27113395308863064,0.3753153479528336,-0.048890308794199554,-0.0247720235046206,0.2365132062620966,-0.44115707822277067,0.4605895332023095,-0.5479893823391623,0.7753354445608873],\"xaxis\":\"x3\",\"yaxis\":\"y3\"},{\"histnorm\":\"probability\",\"name\":\"LR\",\"nbinsx\":25,\"type\":\"histogram\",\"x\":[-0.9134305412081605,-0.8663520920584228,0.9950323089802839,0.9953773851819738,0.9420026410231532,0.9177107516201649,0.9880910611900283,0.9740644889461438,0.9882952892036001,0.9142921881889304,0.8230239113927067,-0.5971991239042768,-0.48210695985392144,-0.8848090317074856,-0.8180541404560921,0.1520147709772384,0.014305038229604229,0.4877276123269965,0.5898303157265842,0.5109282178765748,0.5370850185071122,0.6436448135798842,-0.24801888049283224,0.33618760673074094,0.16511959020636477,0.687840292137171,0.7944161309308689,-0.8587540554747526,0.8062706149973076,-0.47410293411551924,0.6769884826099428,-0.3623444269360292,-0.6071736775759783,0.04977316872064895,-0.046253897715576676,-0.10277399181661659,0.4453850642150052,0.9775065185266676,-0.961405319848383,null,0.7379587359240264,0.27870295466530626,-0.2956611379621517,-0.3054269506615251,-0.0665944967566076,-0.16497258459001063,0.4523658021340413,-0.04954994523542454,-0.2959373816180185,-0.16672063611499668,0.3940377050270218,-0.0907078571762914,0.1710506301940133,0.0966147991586624,0.4982189116022637,0.7166082517780298,0.8102250736740474,-0.6221906837884142,-0.7276480155587691,-0.014213785763008307,0.16410670451541737,-0.10771091843435324,0.2144104988550564,0.193250233440269,0.1755207068540826,-0.20149218870078264,-0.19972338271855658,-0.15979878470477768,0.17122973053748966,0.05237350232734955,-0.38316435780470237,-0.36391613313790755,-0.9856486811791657,0.7858275139287589,-0.8446487495981078,0.9290517380885537,-0.8811516240282038,-0.729068611633769,-0.7575412320435225,-0.010097534648665099,0.49841414405178797,0.487065780491256,0.6048585385563955,0.39446414533774626,0.28362083362662266,0.9350822588250648,0.527222984815684,0.1228717215435608,-0.5252917211456158,0.928544482887982,0.9470039446804605,-0.8285084957646147,-0.838558774907887,-0.8477111864860183,0.615859890160788,0.4930418408892648,-0.8324005683906504,-0.27151840614180384,-0.6379765325738412,0.1583603054424238,-0.8790675988114459,-0.8271095809763854,0.7328289120703392,-0.48353513553482375,0.8578106704819166,-0.5863817699945375,0.7698470666486231,-0.8436314887407763,0.9019112064650298,0.8419981359940186,-0.5978435872164553,0.5216048013896275,0.885761765023564,-0.9667117751773167,0.7068288049585292,-0.7325136251839526,-0.8675228650156555,-0.06584756512708405,-0.904694476120455,0.8957530615613252,-0.9149491875172613,-0.3619018109837121,0.6054196881707732,-0.24651213615299997,0.869624965875779,0.5713625186313328,-0.037149858018261865,-0.8497295922123086,0.38337600808543537,0.6926431314945554,0.576727177076872,0.5404740924356337,-0.5391667294487573,-0.0479819367920279,0.8954195515702817,-0.16726175651803912,-0.6683966120515447,0.4518715121846306,-0.6068034780037709,0.4007976010923685,0.6550734741053369,-0.7631234227083366,-0.9566510737325065,-0.9082398040692202,-0.9153751130543446,-0.1604665737303602,-0.17472494116731122,0.23727370194850783,-0.27283511445622477,-0.8351807927807022,-0.3322219028917857,0.1481613937785655,0.22764207198856026,0.13658369495407963,0.34043476759035596,-0.24688502450060604,0.14516231707337698,0.7631038648814275,0.6824004154797643,0.767379578218652,-0.04190763068830826,-0.5842372217167907,-0.26778399626333566,-0.9704747563145049,0.9655293764186352,-0.4304689497400194,-0.7248578734851769,-0.720350876659027,0.2473545868195355,0.1648437823653257,0.08209325619757166,0.06099335048021881,0.47463995919161045,0.952472148495512,-0.9372041397494004,-0.7703255985698323,0.8693158744735439,-0.9051991165651752,-0.2626123699313378,-0.6405146698847198,0.6609806552976885,0.7513873216233133,0.5819231958885586,-0.29567676458703,0.4489129120471992,0.5903220845873972,0.3187330966991094,0.06808136540087835,-0.4675426739622948,0.6812287614676467,-0.706497099142492,-0.9267482364143322,-0.7829343213662328,0.9351915495206303,0.7405640187612292,0.9390571562598514,0.8573867132651654,0.2929369258687623,0.939197049517038,-0.9015521703083268,0.909538532648038,-0.7808939186880037,0.4248971590382654,0.47207340413775234,0.3690269754310167,-0.3145381106201683,0.3916163034870934,0.6979418913520473,0.8179069568785928,-0.3018389797199517,0.6660499288058904,0.4419618534357763,0.7099099749553841,-0.7858972093644878,-0.9283579956390587,0.9367671687349366,0.7666357279375859,-0.8186133466074927,0.8572474173783459,-0.7240715318111466,-0.7201134508458659,0.8752555118566858,-0.8925671227287663,-0.7347313389780661,0.2921382272891572,-0.2526861904392249,-0.17784616629598549,-0.7583737284220529,-0.423748008021668,0.06353475494727444,-0.6562602865783106,-0.3867481309899629,-0.50270272620025,0.5006229177158061,-0.25478173146267624,-0.07149088179604972,0.24852956393021236,0.4542345688472899,-0.43621191261491293,-0.547989382339162,-0.20690674120617866],\"xaxis\":\"x4\",\"yaxis\":\"y4\"},{\"histnorm\":\"probability\",\"name\":\"SVM\",\"nbinsx\":25,\"type\":\"histogram\",\"x\":[-0.9134305412081605,-0.8663520920584228,0.9950323089802839,0.995377385181974,0.9420026410231529,0.9177107516201649,-0.2848280914685969,0.9726643138302038,0.8578298185174364,0.91429218818893,0.8230239113927067,-0.5971991239042769,-0.48210695985392144,-0.8848090317074859,-0.8180541404560921,0.1520147709772397,0.014305038229603976,0.4877276123269965,-0.5915064015327623,-0.6010955239466677,-0.6086883259207971,-0.6697514774441629,-0.25652601202352837,-0.3532117526707653,-0.18164756610874846,0.674940070539705,-0.7780550606866509,0.8546307962874793,0.8058444375890133,-0.47410293411551924,0.6769884826099428,-0.36234442693602914,0.6083968991317954,0.04977316872064895,-0.046253897715576656,-0.10277399181661664,-0.4402358834755088,0.9775065185266676,-0.961405319848383,-0.7750084845771337,0.7379587359240263,0.27870295466530626,-0.29566113796215127,-0.3054269506615253,-0.006026663749415041,-0.18275973692345632,0.2532765250208298,-0.04954994523542486,-0.3088526064814687,-0.16672063611499482,0.39403770502702207,0.0010506712102478564,0.031357691543408145,0.11959239466436816,0.4982189116022637,0.7166082517780298,0.8102250736740478,-0.6221906837884142,-0.7276480155587681,-0.014213785763015225,0.16410670451541698,-0.10771091843435325,0.2144104988550565,0.1932502334402709,0.17552070685408877,-0.20149218870078273,0.09799822725189848,-0.1597987847047777,0.17122973053749488,0.052373502327349615,-0.38316435780470237,-0.3639161331375812,-0.9856486811791656,0.7858275139287589,-0.8446487495981155,0.9290517380885537,-0.8863333724880685,-0.7290686116337692,-0.7575412320435224,-0.010097534648669733,0.498414144051786,0.4870657804912526,0.6048585385563957,0.39446414533774615,0.2836208336266214,0.9188858655622903,0.49883644823862316,0.11393725636448979,-0.5252917211456157,0.9285444828879822,0.9470039446804605,-0.8285084957646147,-0.8385587749078871,-0.8477111864860182,0.615859890160788,0.49304184088926484,-0.8324005683906504,-0.27151840614180384,-0.6379765325738412,0.15836030544242377,-0.8790675988114459,-0.8271095809763852,0.7328289120703385,-0.48353513553482375,0.8578106704819167,-0.5863817699945488,0.7698470666486231,-0.8436314887407765,0.9019112064650298,0.8419981359940186,-0.5978435872164553,0.5216048013896275,0.8857617650235623,-0.9667117751773167,0.7068288049585292,-0.7325136251839526,-0.8675228650156545,-0.0658475651272036,0.8932643949896902,0.8957530615613107,0.8256044922604038,-0.3614495681872792,0.6054196881707786,-0.24651213615300482,0.7747652094028769,0.5713625186313324,-0.03714985801826193,-0.8497295922123079,0.3833760080854292,0.6926431314945553,0.5767271770768719,0.5404740924356338,-0.5391667294487573,-0.047981936792027786,0.8954195515702821,-0.16726175651815425,-0.6683966120515445,0.4518715121846883,-0.6068034780037721,0.4007976010923687,0.6550734741053369,-0.7631234227083369,-0.9566510737325065,-0.9082398040692199,-0.9153751130543447,-0.16046657373036102,-0.17472494116731072,0.2372737019485079,-0.2728351144562229,-0.835180792780711,-0.33222190289178544,0.14816139377856558,0.22764207198856015,0.13658369495407954,0.34043476759035596,-0.24688502450060598,0.14516231707337707,0.7631038648814271,0.5201095144409662,0.18918328017111077,-0.6352156496232452,-0.5477906817398515,-0.26150581916306137,-0.9984135277673406,0.9793457794544871,-0.4304689497400193,0.7396981996581117,-0.7142911943568689,-0.27722136046104146,-0.2239719667787897,0.06374452030300105,0.05222980829005122,0.4850073710558427,-0.9550070713911648,0.9341854029961829,0.7718614755601945,0.8726305621952621,0.9189458130548457,0.3306717570074692,-0.7821055719011692,0.6734816321567979,0.7702753582958999,0.7988299759831499,0.28801634867007553,-0.5607401911524496,-0.6231983216357736,-0.3825557184422253,-0.3483019491300952,-0.467542673962296,0.6812287614676467,-0.7064970991424921,-0.9267482364143325,-0.7829343213662328,0.9351915495206301,0.7405640187612291,0.9390571562598516,0.825071294836014,-0.22623691170259502,0.8174841700152833,-0.8489606841352679,0.9095385326480401,-0.7808939186880018,0.4248971590382655,0.4720734041377529,0.3690269754310167,-0.31453811062016884,0.3916163034870935,0.6979418913520473,0.8179069568785928,-0.3018389797199495,0.6660499288058902,0.4419618534357772,0.7099099749553843,-0.7858972093644875,-0.9283579956390587,0.9367671687349366,0.7666357279375859,-0.8186133466074927,0.8572474173783459,-0.7240715318111466,-0.720113450845868,0.8752555118566858,-0.8925671227287659,-0.734731338978066,0.29213822728915745,-0.2526861904392248,-0.1778461662960273,-0.7583737284220528,-0.423748008021668,0.06353475494727444,-0.6562602865783106,-0.3867481309899648,-0.50270272620025,0.500622917715806,-0.2547817314626762,-0.07149088179604984,0.24852956393021228,0.4542345688472898,-0.4362119126149129,-0.5479893823391623,-0.20690674120616073],\"xaxis\":\"x5\",\"yaxis\":\"y5\"},{\"histnorm\":\"probability\",\"name\":\"RF\",\"nbinsx\":25,\"type\":\"histogram\",\"x\":[-0.9134305412081605,0.8640803858607986,0.9942745058481275,-0.994452454016508,-0.9496681992847179,0.99262533987671,0.9880910611900284,0.972664313830204,0.9865730440696983,0.875940156757556,0.8230239113927067,-0.5971991239042769,-0.5185417845329473,-0.9397787485822195,0.8930596935873424,0.45450238684768074,0.15217921942484583,0.48772761232699646,-0.5915064015327625,0.549950586344566,0.5370850185071122,0.6436448135798843,-0.20123715196928865,0.33618760673074105,0.16511959020636485,0.674940070539705,-0.7780550606866509,0.8546307962874794,0.8058444375890133,-0.4741029341155194,0.6769884826099428,-0.36234442693602914,0.6083604945652447,-0.035558697362765956,-0.0746291688680195,0.06346795498852303,0.4453850642150052,0.9775065185266678,0.9509072070236196,-0.7640184573451407,0.7379587359240265,-0.4672866910762688,0.480245823113033,0.12097594309500706,-0.0060266637494152875,-0.18275973692345626,0.4715100118099324,-0.04998143753781942,-0.2959373816180186,-0.331990748686295,0.49450741896939276,0.0010506712102475691,0.17105063019401326,0.11959239466436808,0.6368930796400866,-0.8925358542301608,0.810225073674047,-0.6221906837884142,0.7583432546984626,-0.014213785763008828,0.16410670451541734,0.33344647553693785,-0.33433681862766645,-0.3632815755842039,0.17552070685408283,-0.20149218870078264,-0.2007784590179403,-0.2553505755356352,0.2756196108432408,0.05237350232734933,0.36771193905638877,0.8402357586029281,-0.9643450497469735,-0.7871742775231512,0.9437608488616889,-0.9256728862615471,-0.8530504643878455,-0.7627814259723033,-0.5735799158006598,-0.7304060632351866,0.7582914875329917,0.4870657804912598,0.6136459942035034,0.39446414533774626,-0.3175960654767177,0.9350822588250648,0.5272229848156842,0.1228717215435608,-0.5252917211456158,0.9474807072110558,0.9610928739525593,-0.8285084957646147,-0.8385587749078871,0.8554575510867234,0.649779255565829,-0.5292097886532249,0.8705521165315858,-0.27151840614180384,0.6668188650564174,0.15836030544242374,0.9036463538938013,0.8666644324244942,0.8331637459286255,-0.5620444521804002,-0.8997588789684654,-0.6968470703870802,0.7828085172469168,-0.8458665800167169,0.9019112064650298,0.8702336869774178,-0.43912763674281247,-0.5014870609436926,0.8508260366754623,0.9693481292651944,0.7068288049585291,-0.7325136251839526,-0.8675228650156563,-0.06584756512714986,0.9094567319152234,0.9109133334837453,0.8969603942309033,-0.36144956818727897,-0.9386268981912846,0.9447738069220866,0.8657356093371196,-0.3625246555328558,-0.7791505708859583,-0.8497295922123079,0.828970850032852,0.6910804698674623,0.5767271770768718,0.5367071797390475,0.5442611213711332,-0.04798193679202797,0.8954195515702819,-0.16726175651807065,0.6406283194905752,0.451871512184674,0.7025081330843596,0.4007976010923685,0.6682780496714384,0.7747780784449427,0.9856245284286608,0.8928827147195427,0.8707541003853004,-0.16046657373036066,0.26490718371955624,0.4209076829779771,0.6599736592319183,0.9366803561070831,-0.3322219028917849,0.15479623248226326,0.22764207198856024,0.13658369495407965,0.4948170260750237,0.17658676311808888,0.14516231707337704,0.7788985821972054,0.6824004154797643,0.767379578218652,-0.04190763068828443,-0.5842372217167907,-0.2615058191630615,-0.9704747563145024,0.9793457794544873,-0.40089297442527355,-0.7248578734851769,-0.720350876659027,0.2473545868195355,0.07798529076485579,0.06374452030300098,0.05222980829005122,-0.48028535283285867,-0.9550070713911648,0.9150808521399068,0.7299364409754735,0.8693158744735439,0.9189458130548458,-0.2626123699313377,-0.6405146698847201,0.6734816321567979,0.771970308286562,0.7988299759831498,0.2880163486700756,0.44891291204719946,0.5903220845873972,0.318733096699144,-0.24389184434646527,0.3927625063333373,0.6397523916985709,-0.6668467967468625,-0.905624725182532,-0.7804284245646315,0.9351915495206302,0.7405640187612291,0.9517231980019882,0.8446657998547707,-0.22623691170259488,0.9391970495170378,-0.8489606841352678,0.9095385326480401,-0.7808939186880017,0.4248971590382653,0.4720734041377529,0.3690269754310167,-0.23790942403021612,0.3916163034870935,0.6979418913520473,0.8179069568785928,-0.3018389797199518,0.6660499288058902,0.4419618534357755,-0.7652941905847132,0.8079232792011563,0.9365101318774723,0.9367671687349366,0.766635727937586,0.8290241814798786,-0.27691856099342876,0.9512483257444542,0.9487723581262167,-0.8697430568270341,0.9252426832291007,0.7612908556339394,0.6691825217074018,0.6997122500902162,0.30382815986161055,0.8666745976641718,-0.423748008021668,0.053575066193662195,-0.6562602865783106,-0.3855077571083441,0.27113395308862953,0.5006229177158062,0.3406317400419304,0.01018330326689595,0.24852956393021228,-0.44115707822277056,-0.436211912614913,-0.5479893823391618,0.7753354445608873],\"xaxis\":\"x6\",\"yaxis\":\"y6\"}],                        {\"font\":{\"size\":18},\"legend\":{\"x\":1,\"xanchor\":\"left\",\"y\":0.99,\"yanchor\":\"top\"},\"paper_bgcolor\":\"rgba(1,1,0,0)\",\"plot_bgcolor\":\"rgba(1, 1, 0, 0)\",\"template\":{\"data\":{\"bar\":[{\"error_x\":{\"color\":\"#2a3f5f\"},\"error_y\":{\"color\":\"#2a3f5f\"},\"marker\":{\"line\":{\"color\":\"#E5ECF6\",\"width\":0.5},\"pattern\":{\"fillmode\":\"overlay\",\"size\":10,\"solidity\":0.2}},\"type\":\"bar\"}],\"barpolar\":[{\"marker\":{\"line\":{\"color\":\"#E5ECF6\",\"width\":0.5},\"pattern\":{\"fillmode\":\"overlay\",\"size\":10,\"solidity\":0.2}},\"type\":\"barpolar\"}],\"carpet\":[{\"aaxis\":{\"endlinecolor\":\"#2a3f5f\",\"gridcolor\":\"white\",\"linecolor\":\"white\",\"minorgridcolor\":\"white\",\"startlinecolor\":\"#2a3f5f\"},\"baxis\":{\"endlinecolor\":\"#2a3f5f\",\"gridcolor\":\"white\",\"linecolor\":\"white\",\"minorgridcolor\":\"white\",\"startlinecolor\":\"#2a3f5f\"},\"type\":\"carpet\"}],\"choropleth\":[{\"colorbar\":{\"outlinewidth\":0,\"ticks\":\"\"},\"type\":\"choropleth\"}],\"contour\":[{\"colorbar\":{\"outlinewidth\":0,\"ticks\":\"\"},\"colorscale\":[[0.0,\"#0d0887\"],[0.1111111111111111,\"#46039f\"],[0.2222222222222222,\"#7201a8\"],[0.3333333333333333,\"#9c179e\"],[0.4444444444444444,\"#bd3786\"],[0.5555555555555556,\"#d8576b\"],[0.6666666666666666,\"#ed7953\"],[0.7777777777777778,\"#fb9f3a\"],[0.8888888888888888,\"#fdca26\"],[1.0,\"#f0f921\"]],\"type\":\"contour\"}],\"contourcarpet\":[{\"colorbar\":{\"outlinewidth\":0,\"ticks\":\"\"},\"type\":\"contourcarpet\"}],\"heatmap\":[{\"colorbar\":{\"outlinewidth\":0,\"ticks\":\"\"},\"colorscale\":[[0.0,\"#0d0887\"],[0.1111111111111111,\"#46039f\"],[0.2222222222222222,\"#7201a8\"],[0.3333333333333333,\"#9c179e\"],[0.4444444444444444,\"#bd3786\"],[0.5555555555555556,\"#d8576b\"],[0.6666666666666666,\"#ed7953\"],[0.7777777777777778,\"#fb9f3a\"],[0.8888888888888888,\"#fdca26\"],[1.0,\"#f0f921\"]],\"type\":\"heatmap\"}],\"heatmapgl\":[{\"colorbar\":{\"outlinewidth\":0,\"ticks\":\"\"},\"colorscale\":[[0.0,\"#0d0887\"],[0.1111111111111111,\"#46039f\"],[0.2222222222222222,\"#7201a8\"],[0.3333333333333333,\"#9c179e\"],[0.4444444444444444,\"#bd3786\"],[0.5555555555555556,\"#d8576b\"],[0.6666666666666666,\"#ed7953\"],[0.7777777777777778,\"#fb9f3a\"],[0.8888888888888888,\"#fdca26\"],[1.0,\"#f0f921\"]],\"type\":\"heatmapgl\"}],\"histogram\":[{\"marker\":{\"pattern\":{\"fillmode\":\"overlay\",\"size\":10,\"solidity\":0.2}},\"type\":\"histogram\"}],\"histogram2d\":[{\"colorbar\":{\"outlinewidth\":0,\"ticks\":\"\"},\"colorscale\":[[0.0,\"#0d0887\"],[0.1111111111111111,\"#46039f\"],[0.2222222222222222,\"#7201a8\"],[0.3333333333333333,\"#9c179e\"],[0.4444444444444444,\"#bd3786\"],[0.5555555555555556,\"#d8576b\"],[0.6666666666666666,\"#ed7953\"],[0.7777777777777778,\"#fb9f3a\"],[0.8888888888888888,\"#fdca26\"],[1.0,\"#f0f921\"]],\"type\":\"histogram2d\"}],\"histogram2dcontour\":[{\"colorbar\":{\"outlinewidth\":0,\"ticks\":\"\"},\"colorscale\":[[0.0,\"#0d0887\"],[0.1111111111111111,\"#46039f\"],[0.2222222222222222,\"#7201a8\"],[0.3333333333333333,\"#9c179e\"],[0.4444444444444444,\"#bd3786\"],[0.5555555555555556,\"#d8576b\"],[0.6666666666666666,\"#ed7953\"],[0.7777777777777778,\"#fb9f3a\"],[0.8888888888888888,\"#fdca26\"],[1.0,\"#f0f921\"]],\"type\":\"histogram2dcontour\"}],\"mesh3d\":[{\"colorbar\":{\"outlinewidth\":0,\"ticks\":\"\"},\"type\":\"mesh3d\"}],\"parcoords\":[{\"line\":{\"colorbar\":{\"outlinewidth\":0,\"ticks\":\"\"}},\"type\":\"parcoords\"}],\"pie\":[{\"automargin\":true,\"type\":\"pie\"}],\"scatter\":[{\"marker\":{\"colorbar\":{\"outlinewidth\":0,\"ticks\":\"\"}},\"type\":\"scatter\"}],\"scatter3d\":[{\"line\":{\"colorbar\":{\"outlinewidth\":0,\"ticks\":\"\"}},\"marker\":{\"colorbar\":{\"outlinewidth\":0,\"ticks\":\"\"}},\"type\":\"scatter3d\"}],\"scattercarpet\":[{\"marker\":{\"colorbar\":{\"outlinewidth\":0,\"ticks\":\"\"}},\"type\":\"scattercarpet\"}],\"scattergeo\":[{\"marker\":{\"colorbar\":{\"outlinewidth\":0,\"ticks\":\"\"}},\"type\":\"scattergeo\"}],\"scattergl\":[{\"marker\":{\"colorbar\":{\"outlinewidth\":0,\"ticks\":\"\"}},\"type\":\"scattergl\"}],\"scattermapbox\":[{\"marker\":{\"colorbar\":{\"outlinewidth\":0,\"ticks\":\"\"}},\"type\":\"scattermapbox\"}],\"scatterpolar\":[{\"marker\":{\"colorbar\":{\"outlinewidth\":0,\"ticks\":\"\"}},\"type\":\"scatterpolar\"}],\"scatterpolargl\":[{\"marker\":{\"colorbar\":{\"outlinewidth\":0,\"ticks\":\"\"}},\"type\":\"scatterpolargl\"}],\"scatterternary\":[{\"marker\":{\"colorbar\":{\"outlinewidth\":0,\"ticks\":\"\"}},\"type\":\"scatterternary\"}],\"surface\":[{\"colorbar\":{\"outlinewidth\":0,\"ticks\":\"\"},\"colorscale\":[[0.0,\"#0d0887\"],[0.1111111111111111,\"#46039f\"],[0.2222222222222222,\"#7201a8\"],[0.3333333333333333,\"#9c179e\"],[0.4444444444444444,\"#bd3786\"],[0.5555555555555556,\"#d8576b\"],[0.6666666666666666,\"#ed7953\"],[0.7777777777777778,\"#fb9f3a\"],[0.8888888888888888,\"#fdca26\"],[1.0,\"#f0f921\"]],\"type\":\"surface\"}],\"table\":[{\"cells\":{\"fill\":{\"color\":\"#EBF0F8\"},\"line\":{\"color\":\"white\"}},\"header\":{\"fill\":{\"color\":\"#C8D4E3\"},\"line\":{\"color\":\"white\"}},\"type\":\"table\"}]},\"layout\":{\"annotationdefaults\":{\"arrowcolor\":\"#2a3f5f\",\"arrowhead\":0,\"arrowwidth\":1},\"autotypenumbers\":\"strict\",\"coloraxis\":{\"colorbar\":{\"outlinewidth\":0,\"ticks\":\"\"}},\"colorscale\":{\"diverging\":[[0,\"#8e0152\"],[0.1,\"#c51b7d\"],[0.2,\"#de77ae\"],[0.3,\"#f1b6da\"],[0.4,\"#fde0ef\"],[0.5,\"#f7f7f7\"],[0.6,\"#e6f5d0\"],[0.7,\"#b8e186\"],[0.8,\"#7fbc41\"],[0.9,\"#4d9221\"],[1,\"#276419\"]],\"sequential\":[[0.0,\"#0d0887\"],[0.1111111111111111,\"#46039f\"],[0.2222222222222222,\"#7201a8\"],[0.3333333333333333,\"#9c179e\"],[0.4444444444444444,\"#bd3786\"],[0.5555555555555556,\"#d8576b\"],[0.6666666666666666,\"#ed7953\"],[0.7777777777777778,\"#fb9f3a\"],[0.8888888888888888,\"#fdca26\"],[1.0,\"#f0f921\"]],\"sequentialminus\":[[0.0,\"#0d0887\"],[0.1111111111111111,\"#46039f\"],[0.2222222222222222,\"#7201a8\"],[0.3333333333333333,\"#9c179e\"],[0.4444444444444444,\"#bd3786\"],[0.5555555555555556,\"#d8576b\"],[0.6666666666666666,\"#ed7953\"],[0.7777777777777778,\"#fb9f3a\"],[0.8888888888888888,\"#fdca26\"],[1.0,\"#f0f921\"]]},\"colorway\":[\"#636efa\",\"#EF553B\",\"#00cc96\",\"#ab63fa\",\"#FFA15A\",\"#19d3f3\",\"#FF6692\",\"#B6E880\",\"#FF97FF\",\"#FECB52\"],\"font\":{\"color\":\"#2a3f5f\"},\"geo\":{\"bgcolor\":\"white\",\"lakecolor\":\"white\",\"landcolor\":\"#E5ECF6\",\"showlakes\":true,\"showland\":true,\"subunitcolor\":\"white\"},\"hoverlabel\":{\"align\":\"left\"},\"hovermode\":\"closest\",\"mapbox\":{\"style\":\"light\"},\"paper_bgcolor\":\"white\",\"plot_bgcolor\":\"#E5ECF6\",\"polar\":{\"angularaxis\":{\"gridcolor\":\"white\",\"linecolor\":\"white\",\"ticks\":\"\"},\"bgcolor\":\"#E5ECF6\",\"radialaxis\":{\"gridcolor\":\"white\",\"linecolor\":\"white\",\"ticks\":\"\"}},\"scene\":{\"xaxis\":{\"backgroundcolor\":\"#E5ECF6\",\"gridcolor\":\"white\",\"gridwidth\":2,\"linecolor\":\"white\",\"showbackground\":true,\"ticks\":\"\",\"zerolinecolor\":\"white\"},\"yaxis\":{\"backgroundcolor\":\"#E5ECF6\",\"gridcolor\":\"white\",\"gridwidth\":2,\"linecolor\":\"white\",\"showbackground\":true,\"ticks\":\"\",\"zerolinecolor\":\"white\"},\"zaxis\":{\"backgroundcolor\":\"#E5ECF6\",\"gridcolor\":\"white\",\"gridwidth\":2,\"linecolor\":\"white\",\"showbackground\":true,\"ticks\":\"\",\"zerolinecolor\":\"white\"}},\"shapedefaults\":{\"line\":{\"color\":\"#2a3f5f\"}},\"ternary\":{\"aaxis\":{\"gridcolor\":\"white\",\"linecolor\":\"white\",\"ticks\":\"\"},\"baxis\":{\"gridcolor\":\"white\",\"linecolor\":\"white\",\"ticks\":\"\"},\"bgcolor\":\"#E5ECF6\",\"caxis\":{\"gridcolor\":\"white\",\"linecolor\":\"white\",\"ticks\":\"\"}},\"title\":{\"x\":0.05},\"xaxis\":{\"automargin\":true,\"gridcolor\":\"white\",\"linecolor\":\"white\",\"ticks\":\"\",\"title\":{\"standoff\":15},\"zerolinecolor\":\"white\",\"zerolinewidth\":2},\"yaxis\":{\"automargin\":true,\"gridcolor\":\"white\",\"linecolor\":\"white\",\"ticks\":\"\",\"title\":{\"standoff\":15},\"zerolinecolor\":\"white\",\"zerolinewidth\":2}}},\"xaxis\":{\"anchor\":\"y\",\"domain\":[0.0,0.2888888888888889],\"gridcolor\":\"LightSteelBlue\",\"gridwidth\":1,\"linecolor\":\"black\",\"mirror\":true,\"showgrid\":true,\"showline\":true},\"xaxis2\":{\"anchor\":\"y2\",\"domain\":[0.35555555555555557,0.6444444444444445],\"gridcolor\":\"LightSteelBlue\",\"gridwidth\":1,\"linecolor\":\"black\",\"mirror\":true,\"showgrid\":true,\"showline\":true},\"xaxis3\":{\"anchor\":\"y3\",\"domain\":[0.7111111111111111,1.0],\"gridcolor\":\"LightSteelBlue\",\"gridwidth\":1,\"linecolor\":\"black\",\"mirror\":true,\"showgrid\":true,\"showline\":true},\"xaxis4\":{\"anchor\":\"y4\",\"domain\":[0.0,0.2888888888888889],\"gridcolor\":\"LightSteelBlue\",\"gridwidth\":1,\"linecolor\":\"black\",\"mirror\":true,\"showgrid\":true,\"showline\":true},\"xaxis5\":{\"anchor\":\"y5\",\"domain\":[0.35555555555555557,0.6444444444444445],\"gridcolor\":\"LightSteelBlue\",\"gridwidth\":1,\"linecolor\":\"black\",\"mirror\":true,\"showgrid\":true,\"showline\":true,\"title\":{\"text\":\"Correlation coefficient\"}},\"xaxis6\":{\"anchor\":\"y6\",\"domain\":[0.7111111111111111,1.0],\"gridcolor\":\"LightSteelBlue\",\"gridwidth\":1,\"linecolor\":\"black\",\"mirror\":true,\"showgrid\":true,\"showline\":true},\"yaxis\":{\"anchor\":\"x\",\"domain\":[0.575,1.0],\"gridcolor\":\"LightSteelBlue\",\"gridwidth\":1,\"linecolor\":\"black\",\"mirror\":true,\"range\":[0,0.2],\"showgrid\":true,\"showline\":true,\"title\":{\"text\":\"Frequency\"},\"zeroline\":true,\"zerolinecolor\":\"LightSteelBlue\",\"zerolinewidth\":1},\"yaxis2\":{\"anchor\":\"x2\",\"domain\":[0.575,1.0],\"gridcolor\":\"LightSteelBlue\",\"gridwidth\":1,\"linecolor\":\"black\",\"mirror\":true,\"range\":[0,0.2],\"showgrid\":true,\"showline\":true,\"zeroline\":true,\"zerolinecolor\":\"LightSteelBlue\",\"zerolinewidth\":1},\"yaxis3\":{\"anchor\":\"x3\",\"domain\":[0.575,1.0],\"gridcolor\":\"LightSteelBlue\",\"gridwidth\":1,\"linecolor\":\"black\",\"mirror\":true,\"range\":[0,0.4],\"showgrid\":true,\"showline\":true,\"zeroline\":true,\"zerolinecolor\":\"LightSteelBlue\",\"zerolinewidth\":1},\"yaxis4\":{\"anchor\":\"x4\",\"domain\":[0.0,0.425],\"gridcolor\":\"LightSteelBlue\",\"gridwidth\":1,\"linecolor\":\"black\",\"mirror\":true,\"range\":[0,0.4],\"showgrid\":true,\"showline\":true,\"title\":{\"text\":\"Frequency\"},\"zeroline\":true,\"zerolinecolor\":\"LightSteelBlue\",\"zerolinewidth\":1},\"yaxis5\":{\"anchor\":\"x5\",\"domain\":[0.0,0.425],\"gridcolor\":\"LightSteelBlue\",\"gridwidth\":1,\"linecolor\":\"black\",\"mirror\":true,\"range\":[0,0.4],\"showgrid\":true,\"showline\":true,\"zeroline\":true,\"zerolinecolor\":\"LightSteelBlue\",\"zerolinewidth\":1},\"yaxis6\":{\"anchor\":\"x6\",\"domain\":[0.0,0.425],\"gridcolor\":\"LightSteelBlue\",\"gridwidth\":1,\"linecolor\":\"black\",\"mirror\":true,\"range\":[0,0.4],\"showgrid\":true,\"showline\":true,\"zeroline\":true,\"zerolinecolor\":\"LightSteelBlue\",\"zerolinewidth\":1}},                        {\"responsive\": true}                    ).then(function(){\n",
       "                            \n",
       "var gd = document.getElementById('23c17360-1fdd-4237-8463-b8617fc7c621');\n",
       "var x = new MutationObserver(function (mutations, observer) {{\n",
       "        var display = window.getComputedStyle(gd).display;\n",
       "        if (!display || display === 'none') {{\n",
       "            console.log([gd, 'removed!']);\n",
       "            Plotly.purge(gd);\n",
       "            observer.disconnect();\n",
       "        }}\n",
       "}});\n",
       "\n",
       "// Listen for the removal of the full notebook cells\n",
       "var notebookContainer = gd.closest('#notebook-container');\n",
       "if (notebookContainer) {{\n",
       "    x.observe(notebookContainer, {childList: true});\n",
       "}}\n",
       "\n",
       "// Listen for the clearing of the current output cell\n",
       "var outputEl = gd.closest('.output');\n",
       "if (outputEl) {{\n",
       "    x.observe(outputEl, {childList: true});\n",
       "}}\n",
       "\n",
       "                        })                };                });            </script>        </div>"
      ]
     },
     "metadata": {},
     "output_type": "display_data"
    }
   ],
   "source": [
    "import plotly.graph_objects as go\n",
    "from plotly.subplots import make_subplots\n",
    "\n",
    "\n",
    "fig = make_subplots(rows=2, cols=3)\n",
    "\n",
    "trace0 = go.Histogram(x=multi_performance_score[multi_performance_score['algo'] == 'A2C']['score'].values, nbinsx=25, name = 'A2C',histnorm='probability')\n",
    "trace1 = go.Histogram(x=multi_performance_score[multi_performance_score['algo'] == 'PPO']['score'].values, nbinsx=25, name = 'PPO',histnorm='probability')\n",
    "trace2 = go.Histogram(x=multi_performance_score[multi_performance_score['algo'] == 'DT']['score'].values, nbinsx=25, name = 'DT',histnorm='probability')\n",
    "trace3 = go.Histogram(x=multi_performance_score[multi_performance_score['algo'] == 'LR']['score'].values, nbinsx=25, name = 'LR',histnorm='probability')\n",
    "trace4 = go.Histogram(x=multi_performance_score[multi_performance_score['algo'] == 'SVM']['score'].values, nbinsx=25, name = 'SVM',histnorm='probability')\n",
    "trace5 = go.Histogram(x=multi_performance_score[multi_performance_score['algo'] == 'RF']['score'].values, nbinsx=25, name = 'RF',histnorm='probability')\n",
    "\n",
    "fig.update_layout(yaxis1 = dict(range=[0, 0.2]))\n",
    "fig.update_layout(yaxis2 = dict(range=[0, 0.2]))\n",
    "fig.update_layout(yaxis3 = dict(range=[0, 0.4]))\n",
    "fig.update_layout(yaxis4 = dict(range=[0, 0.4]))\n",
    "fig.update_layout(yaxis5 = dict(range=[0, 0.4]))\n",
    "fig.update_layout(yaxis6 = dict(range=[0, 0.4]))\n",
    "\n",
    "fig.append_trace(trace0, 1, 1)\n",
    "fig.append_trace(trace1, 1, 2)\n",
    "fig.append_trace(trace2, 1, 3)\n",
    "fig.append_trace(trace3, 2, 1)\n",
    "fig.append_trace(trace4, 2, 2)\n",
    "fig.append_trace(trace5, 2, 3)\n",
    "# Update xaxis properties\n",
    "fig.update_xaxes(title_text=\"Correlation coefficient\", row=2, col=2)\n",
    "fig.update_yaxes(title_text=\"Frequency\", row=1, col=1)\n",
    "fig.update_yaxes(title_text=\"Frequency\", row=2, col=1)\n",
    "\n",
    "fig.update_layout(\n",
    "\n",
    "    paper_bgcolor='rgba(1,1,0,0)',\n",
    "    plot_bgcolor='rgba(1, 1, 0, 0)',\n",
    "     font=dict(\n",
    "       \n",
    "        size=18,\n",
    "    ),\n",
    "\n",
    ")\n",
    "fig.update_layout(legend=dict(\n",
    "    yanchor=\"top\",\n",
    "    y=0.99,\n",
    "    xanchor=\"left\",\n",
    "    x=1\n",
    "))\n",
    "\n",
    "fig.update_xaxes(showline=True,linecolor='black',showgrid=True, gridwidth=1, gridcolor='LightSteelBlue',mirror=True)\n",
    "fig.update_yaxes(showline=True,linecolor='black',showgrid=True, gridwidth=1, gridcolor='LightSteelBlue',mirror=True)\n",
    "fig.update_yaxes(zeroline=True, zerolinewidth=1, zerolinecolor='LightSteelBlue')\n",
    "\n",
    "fig.show()"
   ]
  },
  {
   "cell_type": "markdown",
   "metadata": {
    "id": "3JQCKXP-ImaL"
   },
   "source": [
    "#### Histogram of multi-step correlation coefficient"
   ]
  }
 ],
 "metadata": {
  "accelerator": "GPU",
  "colab": {
   "collapsed_sections": [],
   "include_colab_link": true,
   "machine_shape": "hm",
   "name": "FinRL_Explainable_DRL_for_Portfolio_Management_An_Empirical_Approach.ipynb",
   "provenance": []
  },
  "kernelspec": {
   "display_name": "Python 3",
   "language": "python",
   "name": "python3"
  },
  "language_info": {
   "codemirror_mode": {
    "name": "ipython",
    "version": 3
   },
   "file_extension": ".py",
   "mimetype": "text/x-python",
   "name": "python",
   "nbconvert_exporter": "python",
   "pygments_lexer": "ipython3",
   "version": "3.7.9"
  }
 },
 "nbformat": 4,
 "nbformat_minor": 1
}
