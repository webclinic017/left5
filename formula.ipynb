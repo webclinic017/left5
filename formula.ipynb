{
 "cells": [
  {
   "cell_type": "markdown",
   "metadata": {},
   "source": [
    "nn.Conv2d\n",
    "\\begin{equation}\n",
    "H_{out} = \\left\\lfloor\\frac{H_{in}  + 2 \\times \\text{padding}_{i}- \\text{dilation}_{i}\n",
    "                    \\times (\\text{kernel_size}_{i} - 1) - 1}{\\text{stride}_{i}} + 1\\right\\rfloor\n",
    "\\end{equation}"
   ]
  },
  {
   "cell_type": "markdown",
   "metadata": {},
   "source": [
    "nn.ConvTranspose2d\n",
    "\\begin{equation}\n",
    "H_{out} = (H_{in} - 1) \\times \\text{stride}_{i} - 2 \\times \\text{padding}_{i} + \\text{kernel_size}_{i} + \\text{output_padding}_{i}\n",
    "\\end{equation}"
   ]
  },
  {
   "cell_type": "code",
   "execution_count": 1,
   "metadata": {},
   "outputs": [
    {
     "data": {
      "text/latex": [
       "\\begin{array}\n",
       "{ll}H_{out} = (H_{in} - 1) \\times \\text{stride}[0] - 2 \\times \\text{padding}[0] + \\text{dilation}[0]\n",
       "                    \\times (\\text{kernel_size}[0] - 1) + \\text{output_padding}[0] + 1\n",
       "\\end{array}\n",
       "\\begin{array}\n",
       "{ll}W_{out} = (W_{in} - 1) \\times \\text{stride}[1] - 2 \\times \\text{padding}[1] + \\text{dilation}[1]\n",
       "                    \\times (\\text{kernel_size}[1] - 1) + \\text{output_padding}[1] + 1\n",
       "\\end{array}\n"
      ],
      "text/plain": [
       "<IPython.core.display.Latex object>"
      ]
     },
     "metadata": {},
     "output_type": "display_data"
    }
   ],
   "source": [
    "%%latex\n",
    "\\begin{array}\n",
    "{ll}H_{out} = (H_{in} - 1) \\times \\text{stride}[0] - 2 \\times \\text{padding}[0] + \\text{dilation}[0]\n",
    "                    \\times (\\text{kernel_size}[0] - 1) + \\text{output_padding}[0] + 1\n",
    "\\end{array}\n",
    "\\begin{array}\n",
    "{ll}W_{out} = (W_{in} - 1) \\times \\text{stride}[1] - 2 \\times \\text{padding}[1] + \\text{dilation}[1]\n",
    "                    \\times (\\text{kernel_size}[1] - 1) + \\text{output_padding}[1] + 1\n",
    "\\end{array}"
   ]
  },
  {
   "cell_type": "markdown",
   "metadata": {},
   "source": []
  },
  {
   "cell_type": "code",
   "execution_count": null,
   "metadata": {},
   "outputs": [],
   "source": []
  },
  {
   "cell_type": "markdown",
   "metadata": {},
   "source": [
    "GAN\n",
    "\\begin{equation}\n",
    "L_{D} = E[log(D(x))] + E[log(1-D(G(z)))]\n",
    "\\end{equation}\n",
    "\\begin{equation}\n",
    "L_{G} = E[log(D(G(z)))]\n",
    "\\end{equation}"
   ]
  },
  {
   "cell_type": "markdown",
   "metadata": {},
   "source": [
    "LSGAN\n",
    "\\begin{equation}\n",
    "L_{D} = E[((Dx) - )^{2}] + E[D(G(z))^{2}]\n",
    "\\end{equation}\n",
    "\\begin{equation}\n",
    "L_{G} = E[(D(G(z)) - 1)^2]\n",
    "\\end{equation}"
   ]
  },
  {
   "cell_type": "markdown",
   "metadata": {},
   "source": [
    "WGAN\n",
    "\\begin{equation}\n",
    "L_{D} = E[D(x)] - E[D(G(z))]\n",
    "\\end{equation}\n",
    "\\begin{equation}\n",
    "L_{G} = E[D(G(z))]\n",
    "\\end{equation}\n",
    "\\begin{equation}\n",
    "W_{D} \\text{ <- clip_by_value}(W_{D}, -0.01, 0.01)\n",
    "\\end{equation}"
   ]
  },
  {
   "cell_type": "markdown",
   "metadata": {},
   "source": [
    "WGAN_GP\n",
    "\\begin{equation}\n",
    "L^{\\text{WGAN_GP}}_{D} = L^{WGAN}_{D} + \\lambda E[(|\\Delta D(\\alpha x-(1-\\alpha G(z)))| - 1)^{2}]\n",
    "\\end{equation}\n",
    "\\begin{equation}\n",
    "L^{\\text{WGAN_GP}}_{G} = L^{WGAN}_{G}\n",
    "\\end{equation}"
   ]
  },
  {
   "cell_type": "markdown",
   "metadata": {},
   "source": [
    "DRAGAN\n",
    "\\begin{equation}\n",
    "L_{D} = L^{GAM}_{D} + \\lambda E[(|\\Delta D(\\alpha x - (1 - \\alpha G(z)))| - 1)^{2}]\n",
    "\\end{equation}\n",
    "\\begin{equation}\n",
    "L_{G} = L^{GAN}_{G}\n",
    "\\end{equation}"
   ]
  },
  {
   "cell_type": "markdown",
   "metadata": {},
   "source": [
    "CGAN (condtional gan ?)\n",
    "\\begin{equation}\n",
    "L_{D} = E[log(D(x, c))] + E[log(1 - D(G(z), c))]\n",
    "\\end{equation}\n",
    "\\begin{equation}\n",
    "L_{G} = E[log(D(G(z), c))]\n",
    "\\end{equation}"
   ]
  },
  {
   "cell_type": "markdown",
   "metadata": {},
   "source": [
    "infoGAN\n",
    "\\begin{equation}\n",
    "L_{D,Q} = L^{GAN}_{D} - \\lambda L_{1}(c, \\acute{c})\n",
    "\\end{equation}\n",
    "\\begin{equation}\n",
    "L_{G} = L_{G} - \\lambda L_{1}(c, \\acute{c})\n",
    "\\end{equation}"
   ]
  },
  {
   "cell_type": "markdown",
   "metadata": {},
   "source": [
    "ACGAN\n",
    "\\begin{equation}\n",
    "L_{D,Q} = L^{GAN}_{D} + E[P(class = c|x)] + E[P(class = c|G(z))]\n",
    "\\end{equation}\n",
    "\\begin{equation}\n",
    "L_{G} = L^{GAN}_{G} + E[P(class = c|G(z))]\n",
    "\\end{equation}"
   ]
  },
  {
   "cell_type": "markdown",
   "metadata": {},
   "source": [
    "EBGAN\n",
    "\\begin{equation}\n",
    "L_D = D_{AE}(x) + max(0, m - D_{AE}(G(z)))\n",
    "\\end{equation}\n",
    "\\begin{equation}\n",
    "L_G = D_{AE}(G(z)) + \\lambda \\cdot PT\n",
    "\\end{equation}"
   ]
  },
  {
   "cell_type": "markdown",
   "metadata": {},
   "source": [
    "BEGAM\n",
    "\\begin{equation}\n",
    "L_{D} = D_{AE}(x) - k_t d_{AE}(G(z))\n",
    "\\end{equation}\n",
    "\\begin{equation}\n",
    "L_G = D_{AE}(G(z))\n",
    "\\end{equation}\n",
    "\\begin{equation}\n",
    "k_{t + 1} = k_{t} + \\lambda (\\gamma D_{AE}(x) - D_{AE}(G(z)))\n",
    "\\end{equation}"
   ]
  },
  {
   "cell_type": "markdown",
   "metadata": {},
   "source": []
  },
  {
   "cell_type": "markdown",
   "metadata": {},
   "source": []
  },
  {
   "cell_type": "code",
   "execution_count": 2,
   "metadata": {},
   "outputs": [
    {
     "data": {
      "text/latex": [
       "\\begin{array}\n",
       "XX_{i} = D_{i} + P_{i} + W_{i}\n",
       "\\end{array}\n"
      ],
      "text/plain": [
       "<IPython.core.display.Latex object>"
      ]
     },
     "metadata": {},
     "output_type": "display_data"
    }
   ],
   "source": [
    "%%latex\n",
    "\\begin{array}\n",
    "XX_{i} = D_{i} + P_{i} + W_{i}\n",
    "\\end{array}"
   ]
  },
  {
   "cell_type": "code",
   "execution_count": null,
   "metadata": {},
   "outputs": [],
   "source": []
  },
  {
   "cell_type": "markdown",
   "metadata": {},
   "source": [
    "#### https://www.overleaf.com/learn/latex/List_of_Greek_letters_and_math_symbols"
   ]
  },
  {
   "cell_type": "markdown",
   "metadata": {},
   "source": [
    "\n",
    "\\begin{equation}\n",
    "Greek letters \\\\\n",
    "\\alpha \\qquad A \\qquad\\qquad\\qquad\\qquad \\nu \\qquad N \\\\\n",
    "\\beta \\qquad B \\qquad\\qquad\\qquad\\qquad \\xi \\qquad \\Xi \\\\\n",
    "{\\displaystyle \\gamma \\Gamma }\t\\gamma \\Gamma\t{\\displaystyle oO\\;}\to O \\\\\n",
    "{\\displaystyle \\delta \\Delta }\t\\delta \\Delta\t{\\displaystyle \\pi \\Pi }\t\\pi \\Pi\\\\\n",
    "{\\displaystyle \\epsilon \\varepsilon E\\;}\t\\epsilon \\varepsilon E\t{\\displaystyle \\rho \\varrho P\\;}\t\\rho\\varrho P\\\\\n",
    "{\\displaystyle \\zeta Z}\t\\zeta Z\t{\\displaystyle \\sigma \\,\\!\\Sigma \\;}\t\\sigma \\Sigma\\\\\n",
    "{\\displaystyle \\eta H}\t\\eta H\t{\\displaystyle \\tau T}\t\\tau T\\\\\n",
    "{\\displaystyle \\theta \\vartheta \\Theta }\t\\theta \\vartheta \\Theta\t{\\displaystyle \\upsilon \\Upsilon }\t\\upsilon \\Upsilon\\\\\n",
    "{\\displaystyle \\iota I}\t\\iota I\t{\\displaystyle \\phi \\varphi \\Phi }\t\\phi \\varphi \\Phi\\\\\n",
    "{\\displaystyle \\kappa K}\t\\kappa K\t{\\displaystyle \\chi X}\t\\chi X\\\\\n",
    "{\\displaystyle \\lambda \\Lambda \\;}\t\\lambda \\Lambda\t{\\displaystyle \\psi \\Psi }\t\\psi \\Psi\\\\\n",
    "{\\displaystyle \\mu M}\t\\mu M\t{\\displaystyle \\omega \\Omega }\t\\omega \\Omega\\\\\n",
    "Arrows\\\\\n",
    "{\\displaystyle \\leftarrow }\t\\leftarrow\t{\\displaystyle \\Leftarrow }\t\\Leftarrow\\\\\n",
    "{\\displaystyle \\rightarrow }\t\\rightarrow\t{\\displaystyle \\Rightarrow \\;}\t\\Rightarrow\\\\\n",
    "{\\displaystyle \\leftrightarrow }\t\\leftrightarrow\t{\\displaystyle \\rightleftharpoons }\t\\rightleftharpoons\\\\\n",
    "{\\displaystyle \\uparrow }\t\\uparrow\t{\\displaystyle \\downarrow }\t\\downarrow\\\\\n",
    "{\\displaystyle \\Uparrow \\;}\t\\Uparrow\t{\\displaystyle \\Downarrow }\t\\Downarrow\\\\\n",
    "{\\displaystyle \\Leftrightarrow \\;}\t\\Leftrightarrow\t{\\displaystyle \\Updownarrow }\t\\Updownarrow\\\\\n",
    "{\\displaystyle \\mapsto }\t\\mapsto\t{\\displaystyle \\longmapsto \\;}\t\\longmapsto\\\\\n",
    "{\\displaystyle \\nearrow }\t\\nearrow\t{\\displaystyle \\searrow }\t\\searrow\\\\\n",
    "{\\displaystyle \\swarrow }\t\\swarrow\t{\\displaystyle \\nwarrow }\t\\nwarrow\\\\\n",
    "{\\displaystyle \\leftharpoonup }\t\\leftharpoonup\t{\\displaystyle \\rightharpoonup }\t\\rightharpoonup\\\\\n",
    "{\\displaystyle \\leftharpoondown }\t\\leftharpoondown\t{\\displaystyle \\rightharpoondown }\t\\rightharpoondown\t\\\\\t\n",
    "Miscellaneous symbols\\\\\n",
    "{\\displaystyle \\infty \\;\\;}\t\\infty\t{\\displaystyle \\forall \\;}\t\\forall\\\\\n",
    "{\\displaystyle \\Re }\t\\Re\t{\\displaystyle \\Im }\t\\Im\\\\\n",
    "{\\displaystyle \\nabla }\t\\nabla\t{\\displaystyle \\exists }\t\\exists\\\\\n",
    "{\\displaystyle \\partial }\t\\partial\t{\\displaystyle \\nexists }\t\\nexists\\\\\n",
    "{\\displaystyle \\emptyset }\t\\emptyset\t{\\displaystyle \\varnothing \\;}\t\\varnothing\\\\\n",
    "{\\displaystyle \\wp }\t\\wp\t{\\displaystyle \\complement }\t\\complement\\\\\n",
    "{\\displaystyle \\neg }\t\\neg\t{\\displaystyle \\cdots }\t\\cdots\\\\\n",
    "{\\displaystyle \\square }\t\\square\t{\\displaystyle \\surd }\t\\surd\\\\\n",
    "{\\displaystyle \\blacksquare }\t\\blacksquare\t{\\displaystyle \\triangle }\t\\triangle\\\\\n",
    "Binary Operation/Relation Symbols\\\\\n",
    "{\\displaystyle \\times }\t\\times\t{\\displaystyle \\times }\t\\times\\\\\n",
    "{\\displaystyle \\div }\t\\div\t{\\displaystyle \\cap }\t\\cap\\\\\n",
    "{\\displaystyle \\cup }\t\\cup\t{\\displaystyle \\neq \\;}\t\\neq\\\\\n",
    "{\\displaystyle \\leq }\t\\leq\t{\\displaystyle \\geq }\t\\geq\\\\\n",
    "{\\displaystyle \\in }\t\\in\t{\\displaystyle \\perp \\;}\t\\perp\\\\\n",
    "{\\displaystyle \\notin }\t\\notin\t{\\displaystyle \\subset }\t\\subset\\\\\n",
    "{\\displaystyle \\simeq }\t\\simeq\t{\\displaystyle \\approx }\t\\approx\\\\\n",
    "{\\displaystyle \\wedge }\t\\wedge\t{\\displaystyle \\vee }\t\\vee\\\\\n",
    "{\\displaystyle \\oplus \\;}\t\\oplus\t{\\displaystyle \\otimes }\t\\otimes\\\\\n",
    "{\\displaystyle \\Box }\t\\Box\t{\\displaystyle \\boxtimes }\t\\boxtimes\\\\\n",
    "{\\displaystyle \\equiv }\t\\equiv\t{\\displaystyle \\cong }\t\\cong\\\\\n",
    "\\end{equation}"
   ]
  },
  {
   "cell_type": "code",
   "execution_count": null,
   "metadata": {},
   "outputs": [],
   "source": []
  },
  {
   "cell_type": "code",
   "execution_count": null,
   "metadata": {},
   "outputs": [],
   "source": []
  },
  {
   "cell_type": "code",
   "execution_count": null,
   "metadata": {},
   "outputs": [],
   "source": []
  },
  {
   "cell_type": "code",
   "execution_count": null,
   "metadata": {},
   "outputs": [],
   "source": []
  },
  {
   "cell_type": "code",
   "execution_count": null,
   "metadata": {},
   "outputs": [],
   "source": []
  },
  {
   "cell_type": "code",
   "execution_count": null,
   "metadata": {},
   "outputs": [],
   "source": []
  },
  {
   "cell_type": "code",
   "execution_count": null,
   "metadata": {},
   "outputs": [],
   "source": []
  },
  {
   "cell_type": "code",
   "execution_count": null,
   "metadata": {},
   "outputs": [],
   "source": []
  },
  {
   "cell_type": "code",
   "execution_count": null,
   "metadata": {},
   "outputs": [],
   "source": []
  },
  {
   "cell_type": "code",
   "execution_count": null,
   "metadata": {},
   "outputs": [],
   "source": []
  },
  {
   "cell_type": "code",
   "execution_count": null,
   "metadata": {},
   "outputs": [],
   "source": []
  },
  {
   "cell_type": "code",
   "execution_count": null,
   "metadata": {},
   "outputs": [],
   "source": []
  },
  {
   "cell_type": "code",
   "execution_count": null,
   "metadata": {},
   "outputs": [],
   "source": []
  },
  {
   "cell_type": "code",
   "execution_count": null,
   "metadata": {},
   "outputs": [],
   "source": []
  },
  {
   "cell_type": "code",
   "execution_count": null,
   "metadata": {},
   "outputs": [],
   "source": []
  },
  {
   "cell_type": "code",
   "execution_count": null,
   "metadata": {},
   "outputs": [],
   "source": []
  },
  {
   "cell_type": "code",
   "execution_count": null,
   "metadata": {},
   "outputs": [],
   "source": []
  },
  {
   "cell_type": "code",
   "execution_count": null,
   "metadata": {},
   "outputs": [],
   "source": []
  }
 ],
 "metadata": {
  "kernelspec": {
   "display_name": "Python 3",
   "language": "python",
   "name": "python3"
  },
  "language_info": {
   "codemirror_mode": {
    "name": "ipython",
    "version": 3
   },
   "file_extension": ".py",
   "mimetype": "text/x-python",
   "name": "python",
   "nbconvert_exporter": "python",
   "pygments_lexer": "ipython3",
   "version": "3.6.9"
  }
 },
 "nbformat": 4,
 "nbformat_minor": 2
}
