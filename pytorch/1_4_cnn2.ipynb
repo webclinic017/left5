{
 "cells": [
  {
   "cell_type": "code",
   "execution_count": 1,
   "metadata": {},
   "outputs": [],
   "source": [
    "import torch\n",
    "from torch import nn, optim\n",
    "from torch.utils.data import DataLoader\n",
    "from torchvision import datasets, transforms\n",
    "import torchvision\n",
    "import numpy as np\n",
    "import matplotlib.pyplot as plt\n",
    "from tensorboardX import SummaryWriter\n",
    "from PIL import Image"
   ]
  },
  {
   "cell_type": "code",
   "execution_count": 2,
   "metadata": {},
   "outputs": [],
   "source": [
    "%matplotlib inline"
   ]
  },
  {
   "cell_type": "code",
   "execution_count": 3,
   "metadata": {},
   "outputs": [],
   "source": [
    "batch_size = 32\n",
    "learnning_rate = 1e-3\n",
    "num_epochs = 20"
   ]
  },
  {
   "cell_type": "code",
   "execution_count": 4,
   "metadata": {},
   "outputs": [],
   "source": [
    "train_dataset = datasets.MNIST('./datas', train=True, transform=transforms.ToTensor())\n",
    "test_dataset = datasets.MNIST('./datas', train=False, transform=transforms.ToTensor())\n",
    "\n",
    "train_loader = DataLoader(train_dataset, batch_size=batch_size, shuffle=True)\n",
    "test_loader = DataLoader(test_dataset, batch_size=batch_size, shuffle=False)"
   ]
  },
  {
   "cell_type": "code",
   "execution_count": 5,
   "metadata": {},
   "outputs": [],
   "source": [
    "class Cnn(nn.Module):\n",
    "    def __init__(self, in_dim, out_dim):\n",
    "        super(Cnn, self).__init__()\n",
    "        \n",
    "        self.conv1 = nn.Sequential(\n",
    "            nn.Conv2d(in_dim, 6, 3, stride=1, padding=1), # b 6 28 28\n",
    "            nn.ReLU(True),\n",
    "            nn.MaxPool2d(2, stride=2), # b 6 14 14\n",
    "        )\n",
    "        \n",
    "        self.deconv1 = nn.ConvTranspose2d(6, 1, 3, padding=1)\n",
    "        \n",
    "        self.conv2 = nn.Sequential(\n",
    "            nn.Conv2d(6, 16, 3, stride=1, padding=1), # b 16 14 14\n",
    "            nn.ReLU(True),\n",
    "            nn.MaxPool2d(2, 2), # b 16 7 7\n",
    "        )\n",
    "        \n",
    "        self.deconv2 = nn.ConvTranspose2d(16, 1, 3, padding=1)\n",
    "        \n",
    "        self.conv3 = nn.Sequential(\n",
    "            nn.Conv2d(16, 16, 3, stride=1), # b 16 5 5\n",
    "            nn.ReLU(True),\n",
    "        )\n",
    "        \n",
    "        self.deconv3 = nn.ConvTranspose2d(16, 1, 3, padding=1)\n",
    "        \n",
    "        \n",
    "        self.fc = nn.Sequential(\n",
    "            nn.Linear(400, 200),\n",
    "            nn.Linear(200, 100),\n",
    "            nn.Linear(100, out_dim),\n",
    "        )\n",
    "        \n",
    "    def forward(self, x):\n",
    "        out1 = self.conv1(x)\n",
    "        out2 = self.conv2(out1)\n",
    "        out3 = self.conv3(out2)\n",
    "        \n",
    "        deconv1 = self.deconv1(out1)\n",
    "        deconv2 = self.deconv2(out2)\n",
    "        deconv3 = self.deconv3(out3)\n",
    "        \n",
    "        out3 = out3.view(out3.size(0), -1)\n",
    "        return self.fc(out3), deconv1, deconv2, deconv3\n",
    "    "
   ]
  },
  {
   "cell_type": "code",
   "execution_count": 24,
   "metadata": {},
   "outputs": [],
   "source": [
    "model = Cnn(1, 10).cuda()\n",
    "\n",
    "criterion = nn.CrossEntropyLoss()\n",
    "optimizer = optim.Adam(model.parameters(), lr=learnning_rate)"
   ]
  },
  {
   "cell_type": "code",
   "execution_count": 25,
   "metadata": {},
   "outputs": [],
   "source": [
    "writer = SummaryWriter('./log/cnn2')"
   ]
  },
  {
   "cell_type": "code",
   "execution_count": 26,
   "metadata": {
    "scrolled": true
   },
   "outputs": [
    {
     "name": "stdout",
     "output_type": "stream",
     "text": [
      "Epoch: [1/3], Loss: 0.465617, Acc: 0.844812\n",
      "Epoch: [1/3], Loss: 0.299766, Acc: 0.901500\n",
      "Epoch: [1/3], Loss: 0.231596, Acc: 0.924479\n",
      "Finish 1 Epoch, Loss: 0.202567, Acc: 0.934300\n",
      "Eval Loss: 0.057321, Eval Acc: 0.980200\n",
      "Epoch: [2/3], Loss: 0.071739, Acc: 0.977875\n",
      "Epoch: [2/3], Loss: 0.072790, Acc: 0.977062\n",
      "Epoch: [2/3], Loss: 0.069864, Acc: 0.978458\n",
      "Finish 2 Epoch, Loss: 0.068024, Acc: 0.978833\n",
      "Eval Loss: 0.056475, Eval Acc: 0.981400\n",
      "Epoch: [3/3], Loss: 0.048726, Acc: 0.984062\n",
      "Epoch: [3/3], Loss: 0.051383, Acc: 0.983563\n",
      "Epoch: [3/3], Loss: 0.053005, Acc: 0.983229\n",
      "Finish 3 Epoch, Loss: 0.053957, Acc: 0.983267\n",
      "Eval Loss: 0.051872, Eval Acc: 0.984000\n"
     ]
    }
   ],
   "source": [
    "for epoch in range(num_epochs):\n",
    "    \n",
    "    running_loss = .0\n",
    "    running_acc = .0\n",
    "    for i, data in enumerate(train_loader, 1):\n",
    "        img, label = data\n",
    "        img = img.cuda()\n",
    "        label = label.cuda()\n",
    "        \n",
    "        out, deconv1, deconv2, deconv3 = model(img)\n",
    "        loss = criterion(out, label)\n",
    "        \n",
    "        running_loss += loss.item() * img.size(0)\n",
    "        \n",
    "        _, pred = torch.max(out, 1)\n",
    "        running_acc += (pred == label).sum().item()\n",
    "        \n",
    "        \n",
    "        optimizer.zero_grad()\n",
    "        loss.backward()\n",
    "        optimizer.step()\n",
    "        \n",
    "        step = epoch * len(train_loader) + i\n",
    "        accuracy = (pred == label).float().mean()\n",
    "        \n",
    "        writer.add_scalar('loss', loss.item(), step)\n",
    "        writer.add_scalar('accuracy', accuracy, step)\n",
    "        writer.add_image('images', torchvision.utils.make_grid(img), step)\n",
    "        \n",
    "#         torchvision.utils.save_image(torchvision.utils.make_grid(img), 'xxx.jpg')\n",
    "#         torchvision.utils.save_image(torchvision.utils.make_grid(deconv1 + img.mean()), 'xxx1.jpg')\n",
    "#         torchvision.utils.save_image(torchvision.utils.make_grid(deconv2 + img.mean()), 'xxx2.jpg')\n",
    "#         torchvision.utils.save_image(torchvision.utils.make_grid(deconv3 + img.mean()), 'xxx3.jpg')\n",
    "#         torchvision.utils.save_image(torchvision.utils.make_grid(img), 'xxx.jpg')\n",
    "#         torchvision.utils.save_image(torchvision.utils.make_grid(deconv1.abs_()), 'xxx1.jpg')\n",
    "#         torchvision.utils.save_image(torchvision.utils.make_grid(deconv2.abs_()), 'xxx2.jpg')\n",
    "#         torchvision.utils.save_image(torchvision.utils.make_grid(deconv3.abs_()), 'xxx3.jpg')\n",
    "\n",
    "        writer.add_image('deconv1', torchvision.utils.make_grid(deconv1, normalize=True, scale_each=True).data.cpu(), step)\n",
    "        writer.add_image('deconv2', torchvision.utils.make_grid(deconv2, normalize=True, scale_each=True).data.cpu(), step)\n",
    "        writer.add_image('deconv3', torchvision.utils.make_grid(deconv3, normalize=True, scale_each=True).data.cpu(), step)\n",
    "            \n",
    "        if i % 100 == 0:\n",
    "            for tag, value in model.named_parameters():\n",
    "                if tag.startswith('deconv'):\n",
    "                    continue\n",
    "                tag = tag.replace('.', '/')\n",
    "                writer.add_histogram(tag, value.cpu().data.numpy(), step)\n",
    "                writer.add_histogram(tag + '/grad', value.grad.cpu().data.numpy(), step)\n",
    "        \n",
    "        if i % 500 == 0:\n",
    "            print 'Epoch: [{}/{}], Loss: {:.6f}, Acc: {:.6f}'.format(epoch + 1, num_epochs, \\\n",
    "                                                                    running_loss / (img.size(0) * i), \\\n",
    "                                                                    running_acc / (img.size(0) * i))\n",
    "            \n",
    "    print 'Finish {} Epoch, Loss: {:.6f}, Acc: {:.6f}'.format(epoch + 1, \\\n",
    "                                                             running_loss / len(train_dataset), \\\n",
    "                                                             running_acc / len(train_dataset))\n",
    "        \n",
    "    model.eval()\n",
    "    eval_loss = .0\n",
    "    eval_acc = .0\n",
    "    for data in test_loader:\n",
    "        img, label = data\n",
    "        img = img.cuda()\n",
    "        label = label.cuda()\n",
    "        \n",
    "        out, deconv1, deconv2, deconv3 = model(img)\n",
    "        loss = criterion(out, label)\n",
    "        \n",
    "        eval_loss += loss.item() * img.size(0)\n",
    "        \n",
    "        _, pred = torch.max(out, 1)\n",
    "        eval_acc += (pred == label).sum().item()\n",
    "        \n",
    "    print 'Eval Loss: {:.6f}, Eval Acc: {:.6f}'.format(eval_loss / len(test_dataset), eval_acc / len(test_dataset))\n",
    "    \n",
    "    model.train()"
   ]
  },
  {
   "cell_type": "code",
   "execution_count": 27,
   "metadata": {},
   "outputs": [],
   "source": [
    "writer.close()"
   ]
  },
  {
   "cell_type": "code",
   "execution_count": null,
   "metadata": {},
   "outputs": [],
   "source": [
    "torch.save(model.state_dict(), './ser/cnn2.pth')"
   ]
  },
  {
   "cell_type": "code",
   "execution_count": null,
   "metadata": {},
   "outputs": [],
   "source": []
  },
  {
   "cell_type": "code",
   "execution_count": null,
   "metadata": {},
   "outputs": [],
   "source": [
    "# grid = make_grid(tensor, nrow=nrow, padding=padding, pad_value=pad_value,\n",
    "#                      normalize=normalize, range=range, scale_each=scale_each)\n",
    "# ndarr = grid.mul(255).clamp(0, 255).byte().permute(1, 2, 0).cpu().numpy()\n",
    "# im = Image.fromarray(ndarr)\n",
    "# im.save(filename)\n",
    "\n",
    "#####\n",
    "\n",
    "# def log_images(tag, images, step):\n",
    "#     im_summaries = []\n",
    "#     for nr, img in enumerate(images):\n",
    "#         s = StringIO.StringIO()\n",
    "#         plt.imsave(s, img, format='png')\n",
    "\n",
    "#         img_sum = tf.Summary.Image(encoded_image_string=s.getvalue(),\n",
    "#                                        height=img.shape[0],\n",
    "#                                        width=img.shape[1])\n",
    "#         im_summaries.append(tf.Summary.Value(tag='%s/%d' % (tag, nr),\n",
    "#                                                  image=img_sum))\n",
    "\n",
    "#     summary = tf.Summary(value=im_summaries)\n",
    "#     writer.add_summary(summary, step)\n",
    "\n",
    "\n",
    "# def log_images(tag, images, step):\n",
    "#     im_summaries = []\n",
    "#     for nr, img in enumerate(images):\n",
    "#         s = StringIO.StringIO()\n",
    "#         plt.imsave(s, img, format='png')\n",
    "\n",
    "#         img_sum = tf.Summary.Image(encoded_image_string=s.getvalue(),\n",
    "#                                        height=img.height,\n",
    "#                                        width=img.width)\n",
    "#         im_summaries.append(tf.Summary.Value(tag='%s/%d' % (tag, nr),\n",
    "#                                                  image=img_sum))\n",
    "\n",
    "#     summary = tf.Summary(value=im_summaries)\n",
    "#     writer.file_writer.add_summary(summary, step)\n",
    "\n",
    "# def log_image(tag, image, step):\n",
    "    \n",
    "#     Summary(value=[Summary.Value(tag=tag, image=image)])\n",
    "    \n",
    "#     pass\n",
    "\n",
    "\n",
    "# toimg_trans = transforms.ToPILImage()"
   ]
  }
 ],
 "metadata": {
  "kernelspec": {
   "display_name": "torch",
   "language": "python",
   "name": "torch"
  },
  "language_info": {
   "codemirror_mode": {
    "name": "ipython",
    "version": 3
   },
   "file_extension": ".py",
   "mimetype": "text/x-python",
   "name": "python",
   "nbconvert_exporter": "python",
   "pygments_lexer": "ipython3",
   "version": "3.7.9"
  },
  "varInspector": {
   "cols": {
    "lenName": 16,
    "lenType": 16,
    "lenVar": 40
   },
   "kernels_config": {
    "python": {
     "delete_cmd_postfix": "",
     "delete_cmd_prefix": "del ",
     "library": "var_list.py",
     "varRefreshCmd": "print(var_dic_list())"
    },
    "r": {
     "delete_cmd_postfix": ") ",
     "delete_cmd_prefix": "rm(",
     "library": "var_list.r",
     "varRefreshCmd": "cat(var_dic_list()) "
    }
   },
   "types_to_exclude": [
    "module",
    "function",
    "builtin_function_or_method",
    "instance",
    "_Feature"
   ],
   "window_display": false
  }
 },
 "nbformat": 4,
 "nbformat_minor": 2
}
