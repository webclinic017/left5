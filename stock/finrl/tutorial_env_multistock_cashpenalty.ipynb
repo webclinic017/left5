{
 "cells": [
  {
   "cell_type": "markdown",
   "metadata": {
    "id": "gXaoZs2lh1hi"
   },
   "source": [
    "# Deep Reinforcement Learning for Stock Trading from Scratch: Multiple Stock Trading\n",
    "\n",
    "Tutorials to use OpenAI DRL to trade multiple stocks in one Jupyter Notebook | Presented at NeurIPS 2020: Deep RL Workshop\n",
    "\n",
    "* This blog is based on our paper: FinRL: A Deep Reinforcement Learning Library for Automated Stock Trading in Quantitative Finance, presented at NeurIPS 2020: Deep RL Workshop.\n",
    "* Check out medium blog for detailed explanations: https://towardsdatascience.com/finrl-for-quantitative-finance-tutorial-for-multiple-stock-trading-7b00763b7530\n",
    "* Please report any issues to our Github: https://github.com/AI4Finance-LLC/FinRL-Library/issues\n",
    "* **Pytorch Version** \n",
    "\n"
   ]
  },
  {
   "cell_type": "markdown",
   "metadata": {
    "id": "lGunVt8oLCVS"
   },
   "source": [
    "# Content"
   ]
  },
  {
   "cell_type": "markdown",
   "metadata": {
    "id": "HOzAKQ-SLGX6"
   },
   "source": [
    "* [1. Problem Definition](#0)\n",
    "* [2. Getting Started - Load Python packages](#1)\n",
    "    * [2.1. Install Packages](#1.1)    \n",
    "    * [2.2. Check Additional Packages](#1.2)\n",
    "    * [2.3. Import Packages](#1.3)\n",
    "    * [2.4. Create Folders](#1.4)\n",
    "* [3. Download Data](#2)\n",
    "* [4. Preprocess Data](#3)        \n",
    "    * [4.1. Technical Indicators](#3.1)\n",
    "    * [4.2. Perform Feature Engineering](#3.2)\n",
    "* [5.Build Environment](#4)  \n",
    "    * [5.1. Training & Trade Data Split](#4.1)\n",
    "    * [5.2. User-defined Environment](#4.2)   \n",
    "    * [5.3. Initialize Environment](#4.3)    \n",
    "* [6.Implement DRL Algorithms](#5)  \n",
    "* [7.Backtesting Performance](#6)  \n",
    "    * [7.1. BackTestStats](#6.1)\n",
    "    * [7.2. BackTestPlot](#6.2)   \n",
    "    * [7.3. Baseline Stats](#6.3)   \n",
    "    * [7.3. Compare to Stock Market Index](#6.4)             "
   ]
  },
  {
   "cell_type": "markdown",
   "metadata": {
    "id": "sApkDlD9LIZv"
   },
   "source": [
    "<a id='0'></a>\n",
    "# Part 1. Problem Definition"
   ]
  },
  {
   "cell_type": "markdown",
   "metadata": {
    "id": "HjLD2TZSLKZ-"
   },
   "source": [
    "This problem is to design an automated trading solution for single stock trading. We model the stock trading process as a Markov Decision Process (MDP). We then formulate our trading goal as a maximization problem.\n",
    "\n",
    "The algorithm is trained using Deep Reinforcement Learning (DRL) algorithms and the components of the reinforcement learning environment are:\n",
    "\n",
    "\n",
    "* Action: The action space describes the allowed actions that the agent interacts with the\n",
    "environment. Normally, a ∈ A includes three actions: a ∈ {−1, 0, 1}, where −1, 0, 1 represent\n",
    "selling, holding, and buying one stock. Also, an action can be carried upon multiple shares. We use\n",
    "an action space {−k, ..., −1, 0, 1, ..., k}, where k denotes the number of shares. For example, \"Buy\n",
    "10 shares of AAPL\" or \"Sell 10 shares of AAPL\" are 10 or −10, respectively\n",
    "\n",
    "* Reward function: r(s, a, s′) is the incentive mechanism for an agent to learn a better action. The change of the portfolio value when action a is taken at state s and arriving at new state s',  i.e., r(s, a, s′) = v′ − v, where v′ and v represent the portfolio\n",
    "values at state s′ and s, respectively\n",
    "\n",
    "* State: The state space describes the observations that the agent receives from the environment. Just as a human trader needs to analyze various information before executing a trade, so\n",
    "our trading agent observes many different features to better learn in an interactive environment.\n",
    "\n",
    "* Environment: Dow 30 consituents\n",
    "\n",
    "\n",
    "The data of the single stock that we will be using for this case study is obtained from Yahoo Finance API. The data contains Open-High-Low-Close price and volume.\n"
   ]
  },
  {
   "cell_type": "markdown",
   "metadata": {
    "id": "Ffsre789LY08"
   },
   "source": [
    "<a id='1'></a>\n",
    "# Part 2. Getting Started- ASSUMES USING DOCKER, see readme for instructions"
   ]
  },
  {
   "cell_type": "markdown",
   "metadata": {
    "id": "Uy5_PTmOh1hj"
   },
   "source": [
    "<a id='1.1'></a>\n",
    "## 2.1. Add FinRL to your path. You can of course install it as a pipy package, but this is for development purposes.\n"
   ]
  },
  {
   "cell_type": "code",
   "execution_count": 1,
   "metadata": {
    "id": "mPT0ipYE28wL"
   },
   "outputs": [],
   "source": [
    "# import sys\n",
    "\n",
    "# sys.path.append(\"..\")"
   ]
  },
  {
   "cell_type": "code",
   "execution_count": 2,
   "metadata": {
    "id": "0J6czZ7R3fEV",
    "outputId": "8e497b92-973a-43bb-a4f2-e863b8daf918"
   },
   "outputs": [],
   "source": [
    "# import pandas as pd\n",
    "# print(pd.__version__)"
   ]
  },
  {
   "cell_type": "markdown",
   "metadata": {
    "id": "osBHhVysOEzi"
   },
   "source": [
    "\n",
    "<a id='1.2'></a>\n",
    "## 2.2. Check if the additional packages needed are present, if not install them. \n",
    "* Yahoo Finance API\n",
    "* pandas\n",
    "* numpy\n",
    "* matplotlib\n",
    "* stockstats\n",
    "* OpenAI gym\n",
    "* stable-baselines\n",
    "* tensorflow\n",
    "* pyfolio"
   ]
  },
  {
   "cell_type": "markdown",
   "metadata": {
    "id": "nGv01K8Sh1hn"
   },
   "source": [
    "<a id='1.3'></a>\n",
    "## 2.3. Import Packages"
   ]
  },
  {
   "cell_type": "code",
   "execution_count": 3,
   "metadata": {
    "id": "lPqeTTwoh1hn"
   },
   "outputs": [
    {
     "name": "stdout",
     "output_type": "stream",
     "text": [
      "Logging to C:\\Users\\left5\\AppData\\Local\\Temp\\SB3-2021-12-15-14-48-24-598645\n"
     ]
    },
    {
     "name": "stderr",
     "output_type": "stream",
     "text": [
      "d:\\code\\python\\pyfolio\\pyfolio\\pos.py:27: UserWarning: Module \"zipline.assets\" not found; multipliers will not be applied to position notionals.\n",
      "  'Module \"zipline.assets\" not found; multipliers will not be applied'\n"
     ]
    }
   ],
   "source": [
    "import pandas as pd\n",
    "import numpy as np\n",
    "import matplotlib\n",
    "import matplotlib.pyplot as plt\n",
    "matplotlib.use('Agg')\n",
    "%matplotlib inline\n",
    "import datetime\n",
    "\n",
    "from finrl.apps import config\n",
    "from finrl.finrl_meta.preprocessor.yahoodownloader import YahooDownloader\n",
    "from finrl.finrl_meta.preprocessor.preprocessors import FeatureEngineer, data_split\n",
    "# from finrl.finrl_meta.env_stock_trading.env_stocktrading_cashpenalty import StockTradingEnvCashpenalty\\\n",
    "from finrl.finrl_meta.env_stock_trading.env_stocktrading_cashpenalty2 import StockTradingEnvCashpenalty\n",
    "from finrl.drl_agents.stablebaselines3.models import DRLAgent\n",
    "from finrl.plot import backtest_stats, backtest_plot, get_daily_return, get_baseline,convert_daily_return_to_pyfolio_ts\n",
    "\n",
    "\n",
    "# import sys\n",
    "# sys.path.append(\"../FinRL-Library\")"
   ]
  },
  {
   "cell_type": "code",
   "execution_count": 4,
   "metadata": {},
   "outputs": [],
   "source": [
    "from lutils.stock import LTdxHq"
   ]
  },
  {
   "cell_type": "markdown",
   "metadata": {
    "id": "T2owTj985RW4"
   },
   "source": [
    "<a id='1.4'></a>\n",
    "## 2.4. Create Folders"
   ]
  },
  {
   "cell_type": "code",
   "execution_count": 5,
   "metadata": {
    "id": "w9A8CN5R5PuZ"
   },
   "outputs": [],
   "source": [
    "import os\n",
    "if not os.path.exists(\"./\" + config.DATA_SAVE_DIR):\n",
    "    os.makedirs(\"./\" + config.DATA_SAVE_DIR)\n",
    "if not os.path.exists(\"./\" + config.TRAINED_MODEL_DIR):\n",
    "    os.makedirs(\"./\" + config.TRAINED_MODEL_DIR)\n",
    "if not os.path.exists(\"./\" + config.TENSORBOARD_LOG_DIR):\n",
    "    os.makedirs(\"./\" + config.TENSORBOARD_LOG_DIR)\n",
    "if not os.path.exists(\"./\" + config.RESULTS_DIR):\n",
    "    os.makedirs(\"./\" + config.RESULTS_DIR)"
   ]
  },
  {
   "cell_type": "markdown",
   "metadata": {
    "id": "A289rQWMh1hq"
   },
   "source": [
    "<a id='2'></a>\n",
    "# Part 3. Download Data\n",
    "Yahoo Finance is a website that provides stock data, financial news, financial reports, etc. All the data provided by Yahoo Finance is free.\n",
    "* FinRL uses a class **YahooDownloader** to fetch data from Yahoo Finance API\n",
    "* Call Limit: Using the Public API (without authentication), you are limited to 2,000 requests per hour per IP (or up to a total of 48,000 requests a day).\n"
   ]
  },
  {
   "cell_type": "markdown",
   "metadata": {
    "id": "NPeQ7iS-LoMm"
   },
   "source": [
    "\n",
    "\n",
    "-----\n",
    "class YahooDownloader:\n",
    "    Provides methods for retrieving daily stock data from\n",
    "    Yahoo Finance API\n",
    "\n",
    "    Attributes\n",
    "    ----------\n",
    "        start_date : str\n",
    "            start date of the data (modified from config.py)\n",
    "        end_date : str\n",
    "            end date of the data (modified from config.py)\n",
    "        ticker_list : list\n",
    "            a list of stock tickers (modified from config.py)\n",
    "\n",
    "    Methods\n",
    "    -------\n",
    "    fetch_data()\n",
    "        Fetches data from yahoo API\n"
   ]
  },
  {
   "cell_type": "code",
   "execution_count": 6,
   "metadata": {
    "colab": {
     "base_uri": "https://localhost:8080/",
     "height": 35
    },
    "id": "h3XJnvrbLp-C",
    "outputId": "87dea23f-469d-4e9d-de91-0f8a74929de2"
   },
   "outputs": [
    {
     "data": {
      "text/plain": [
       "'2009-01-01'"
      ]
     },
     "execution_count": 6,
     "metadata": {},
     "output_type": "execute_result"
    }
   ],
   "source": [
    "# from config.py start_date is a string\n",
    "config.START_DATE"
   ]
  },
  {
   "cell_type": "code",
   "execution_count": 7,
   "metadata": {
    "colab": {
     "base_uri": "https://localhost:8080/",
     "height": 35
    },
    "id": "FUnY8WEfLq3C",
    "outputId": "c635ae69-a13e-408f-d932-9d386d1d6dcf"
   },
   "outputs": [
    {
     "data": {
      "text/plain": [
       "'2021-10-31'"
      ]
     },
     "execution_count": 7,
     "metadata": {},
     "output_type": "execute_result"
    }
   ],
   "source": [
    "# from config.py end_date is a string\n",
    "config.END_DATE"
   ]
  },
  {
   "cell_type": "code",
   "execution_count": 8,
   "metadata": {
    "colab": {
     "base_uri": "https://localhost:8080/"
    },
    "id": "JzqRRTOX6aFu",
    "outputId": "d3baf63f-948a-49f9-f6f2-b7241971b8ea"
   },
   "outputs": [],
   "source": [
    "# print(config.DOW_30_TICKER)\n",
    "stock_codes = ['600603', '600583', '600582', '600565', '600558', '600551',\n",
    "       '600509', '600503', '600488', '600469', '600439', '600433',\n",
    "       '600428', '600425', '600387', '600383', '600382', '600369',\n",
    "       '600339', '600337', '600335', '600326', '600320', '600312',]\n",
    "\n",
    "#        '002666', '002654', '002641', '002628', '002627', '002620',\n",
    "#        '002608', '002593', '002586', '002582', '002566', '002560',]"
   ]
  },
  {
   "cell_type": "code",
   "execution_count": 9,
   "metadata": {
    "colab": {
     "base_uri": "https://localhost:8080/"
    },
    "id": "yCKm4om-s9kE",
    "outputId": "932583d8-f98b-4243-c02d-375f7272db1a"
   },
   "outputs": [],
   "source": [
    "# df = YahooDownloader(start_date = '2009-01-01',\n",
    "#                      end_date = '2021-12-13',\n",
    "#                      ticker_list = config.DOW_30_TICKER).fetch_data()"
   ]
  },
  {
   "cell_type": "code",
   "execution_count": 10,
   "metadata": {},
   "outputs": [
    {
     "name": "stdout",
     "output_type": "stream",
     "text": [
      "----------- over 600603 2010-01-04 00:00:00 -----------\n",
      "----------- over 600583 2010-01-04 00:00:00 -----------\n",
      "----------- over 600582 2010-01-04 00:00:00 -----------\n",
      "----------- over 600565 2010-01-04 00:00:00 -----------\n",
      "----------- over 600558 2010-01-04 00:00:00 -----------\n",
      "----------- over 600551 2010-01-04 00:00:00 -----------\n",
      "----------- over 600509 2010-01-04 00:00:00 -----------\n",
      "----------- over 600503 2010-01-04 00:00:00 -----------\n",
      "----------- over 600488 2010-01-04 00:00:00 -----------\n",
      "----------- over 600469 2010-01-04 00:00:00 -----------\n",
      "----------- over 600439 2010-01-04 00:00:00 -----------\n",
      "----------- over 600433 2010-01-04 00:00:00 -----------\n",
      "----------- over 600428 2010-01-04 00:00:00 -----------\n",
      "----------- over 600425 2010-01-04 00:00:00 -----------\n",
      "----------- over 600387 2010-01-04 00:00:00 -----------\n",
      "----------- over 600383 2010-01-04 00:00:00 -----------\n",
      "----------- over 600382 2010-01-04 00:00:00 -----------\n",
      "----------- over 600369 2010-01-04 00:00:00 -----------\n",
      "----------- over 600339 2010-01-04 00:00:00 -----------\n",
      "----------- over 600337 2010-01-04 00:00:00 -----------\n",
      "----------- over 600335 2010-01-04 00:00:00 -----------\n",
      "----------- over 600326 2010-01-04 00:00:00 -----------\n",
      "----------- over 600320 2010-01-04 00:00:00 -----------\n",
      "----------- over 600312 2010-01-04 00:00:00 -----------\n"
     ]
    }
   ],
   "source": [
    "ltdxhq = LTdxHq()\n",
    "\n",
    "indexs = None\n",
    "dfs = []\n",
    "for code in stock_codes:\n",
    "    df = ltdxhq.get_k_data_daily(code, start='2010-01-01')\n",
    "    \n",
    "    if indexs is None:\n",
    "        indexs = df.index\n",
    "    else:\n",
    "        indexs = indexs.union(df.index)\n",
    "    \n",
    "#     df = df.assign(date = df.index)\n",
    "#     df = df.assign(day = df.index.weekday)\n",
    "#     df.date = df.date.dt.strftime('%Y-%m-%d')\n",
    "    df = df.assign(tic = code)\n",
    "#     df.index = range(df.shape[0])\n",
    "    \n",
    "    dfs.append(df)\n",
    "    print('----------- over %s %s -----------' % (code, df.index.min()))\n",
    "\n",
    "for i, df in enumerate(dfs):\n",
    "    df = df.reindex(indexs)\n",
    "    df = df.assign(date = df.index)\n",
    "    df = df.assign(day = df.index.weekday)\n",
    "    df.index = range(df.shape[0])\n",
    "    \n",
    "    dfs[i] = df.ffill()\n",
    "    \n",
    "df = pd.concat(dfs)\n",
    "# df.index = range(df.shape[0])\n",
    "\n",
    "ltdxhq.close()"
   ]
  },
  {
   "cell_type": "code",
   "execution_count": 11,
   "metadata": {},
   "outputs": [],
   "source": [
    "# df1 = dfs[0].reindex(indexs)\n",
    "# df2 = dfs[1].reindex(indexs)"
   ]
  },
  {
   "cell_type": "code",
   "execution_count": 12,
   "metadata": {},
   "outputs": [],
   "source": [
    "# df1.ffill()['2010-01-02':]"
   ]
  },
  {
   "cell_type": "code",
   "execution_count": 13,
   "metadata": {},
   "outputs": [],
   "source": [
    "# df3 = df2.ffill()"
   ]
  },
  {
   "cell_type": "code",
   "execution_count": 14,
   "metadata": {},
   "outputs": [],
   "source": [
    "# dfs[1][dfs[-3].close.isna()]"
   ]
  },
  {
   "cell_type": "code",
   "execution_count": 15,
   "metadata": {},
   "outputs": [],
   "source": [
    "# def clean_data(data):\n",
    "#     df = data.copy()\n",
    "#     df = df.sort_values([\"date\", \"tic\"], ignore_index=True)\n",
    "#     df.index = df.date.factorize()[0]\n",
    "#     merged_closes = df.pivot_table(index=\"date\", columns=\"tic\", values=\"close\")\n",
    "# #     print(merged_closes)\n",
    "# #     merged_closes = merged_closes.dropna(axis=1)\n",
    "# #     print(merged_closes)\n",
    "#     tics = merged_closes.columns\n",
    "# #     print(tics)\n",
    "#     df = df[df.tic.isin(tics)]\n",
    "# #     print(df)\n",
    "#     return df"
   ]
  },
  {
   "cell_type": "code",
   "execution_count": 16,
   "metadata": {},
   "outputs": [],
   "source": [
    "# print(clean_data(df))"
   ]
  },
  {
   "cell_type": "markdown",
   "metadata": {
    "id": "uqC6c40Zh1iH"
   },
   "source": [
    "# Part 4: Preprocess Data\n",
    "Data preprocessing is a crucial step for training a high quality machine learning model. We need to check for missing data and do feature engineering in order to convert the data into a model-ready state.\n",
    "* Add technical indicators. In practical trading, various information needs to be taken into account, for example the historical stock prices, current holding shares, technical indicators, etc. In this article, we demonstrate two trend-following technical indicators: MACD and RSI.\n",
    "* Add turbulence index. Risk-aversion reflects whether an investor will choose to preserve the capital. It also influences one's trading strategy when facing different market volatility level. To control the risk in a worst-case scenario, such as financial crisis of 2007–2008, FinRL employs the financial turbulence index that measures extreme asset price fluctuation."
   ]
  },
  {
   "cell_type": "code",
   "execution_count": 17,
   "metadata": {
    "id": "xzijKkDF3fEY",
    "jupyter": {
     "outputs_hidden": false
    },
    "outputId": "ceecf280-820c-4aa3-bb55-018a082fab11",
    "pycharm": {
     "name": "#%%\n"
    }
   },
   "outputs": [
    {
     "name": "stdout",
     "output_type": "stream",
     "text": [
      "Successfully added technical indicators\n"
     ]
    }
   ],
   "source": [
    "fe = FeatureEngineer(\n",
    "                    use_technical_indicator=True,\n",
    "                    tech_indicator_list = config.TECHNICAL_INDICATORS_LIST,\n",
    "                    use_turbulence=False,\n",
    "                    user_defined_feature = False)\n",
    "\n",
    "processed = fe.preprocess_data(df)"
   ]
  },
  {
   "cell_type": "code",
   "execution_count": 18,
   "metadata": {
    "id": "BbYbbrZA3fEY",
    "outputId": "737c6f91-cab9-4742-c46b-541afae11bb0"
   },
   "outputs": [
    {
     "data": {
      "text/html": [
       "<div>\n",
       "<style scoped>\n",
       "    .dataframe tbody tr th:only-of-type {\n",
       "        vertical-align: middle;\n",
       "    }\n",
       "\n",
       "    .dataframe tbody tr th {\n",
       "        vertical-align: top;\n",
       "    }\n",
       "\n",
       "    .dataframe thead th {\n",
       "        text-align: right;\n",
       "    }\n",
       "</style>\n",
       "<table border=\"1\" class=\"dataframe\">\n",
       "  <thead>\n",
       "    <tr style=\"text-align: right;\">\n",
       "      <th></th>\n",
       "      <th>open</th>\n",
       "      <th>close</th>\n",
       "      <th>high</th>\n",
       "      <th>low</th>\n",
       "      <th>volume</th>\n",
       "      <th>amount</th>\n",
       "      <th>tic</th>\n",
       "      <th>date</th>\n",
       "      <th>day</th>\n",
       "      <th>macd</th>\n",
       "      <th>boll_ub</th>\n",
       "      <th>boll_lb</th>\n",
       "      <th>rsi_30</th>\n",
       "      <th>cci_30</th>\n",
       "      <th>dx_30</th>\n",
       "      <th>close_30_sma</th>\n",
       "      <th>close_60_sma</th>\n",
       "      <th>log_volume</th>\n",
       "      <th>change</th>\n",
       "      <th>daily_variance</th>\n",
       "    </tr>\n",
       "  </thead>\n",
       "  <tbody>\n",
       "    <tr>\n",
       "      <th>0</th>\n",
       "      <td>11.38</td>\n",
       "      <td>11.41</td>\n",
       "      <td>11.47</td>\n",
       "      <td>11.22</td>\n",
       "      <td>13228405.0</td>\n",
       "      <td>205262496.0</td>\n",
       "      <td>600312</td>\n",
       "      <td>2010-01-04</td>\n",
       "      <td>0</td>\n",
       "      <td>0.0</td>\n",
       "      <td>11.926838</td>\n",
       "      <td>11.163162</td>\n",
       "      <td>100.0</td>\n",
       "      <td>66.666667</td>\n",
       "      <td>100.0</td>\n",
       "      <td>11.41</td>\n",
       "      <td>11.41</td>\n",
       "      <td>18.832367</td>\n",
       "      <td>0.002629</td>\n",
       "      <td>0.021911</td>\n",
       "    </tr>\n",
       "    <tr>\n",
       "      <th>2904</th>\n",
       "      <td>8.12</td>\n",
       "      <td>7.99</td>\n",
       "      <td>8.17</td>\n",
       "      <td>7.98</td>\n",
       "      <td>19659656.0</td>\n",
       "      <td>201463792.0</td>\n",
       "      <td>600320</td>\n",
       "      <td>2010-01-04</td>\n",
       "      <td>0</td>\n",
       "      <td>0.0</td>\n",
       "      <td>11.926838</td>\n",
       "      <td>11.163162</td>\n",
       "      <td>100.0</td>\n",
       "      <td>66.666667</td>\n",
       "      <td>100.0</td>\n",
       "      <td>7.99</td>\n",
       "      <td>7.99</td>\n",
       "      <td>18.872270</td>\n",
       "      <td>-0.016270</td>\n",
       "      <td>0.023780</td>\n",
       "    </tr>\n",
       "    <tr>\n",
       "      <th>5808</th>\n",
       "      <td>8.81</td>\n",
       "      <td>9.01</td>\n",
       "      <td>9.18</td>\n",
       "      <td>8.77</td>\n",
       "      <td>16012911.0</td>\n",
       "      <td>239799376.0</td>\n",
       "      <td>600326</td>\n",
       "      <td>2010-01-04</td>\n",
       "      <td>0</td>\n",
       "      <td>0.0</td>\n",
       "      <td>11.926838</td>\n",
       "      <td>11.163162</td>\n",
       "      <td>100.0</td>\n",
       "      <td>66.666667</td>\n",
       "      <td>100.0</td>\n",
       "      <td>9.01</td>\n",
       "      <td>9.01</td>\n",
       "      <td>18.787241</td>\n",
       "      <td>0.022198</td>\n",
       "      <td>0.045505</td>\n",
       "    </tr>\n",
       "    <tr>\n",
       "      <th>8712</th>\n",
       "      <td>4.42</td>\n",
       "      <td>4.48</td>\n",
       "      <td>4.63</td>\n",
       "      <td>4.42</td>\n",
       "      <td>11014190.0</td>\n",
       "      <td>83350864.0</td>\n",
       "      <td>600335</td>\n",
       "      <td>2010-01-04</td>\n",
       "      <td>0</td>\n",
       "      <td>0.0</td>\n",
       "      <td>11.926838</td>\n",
       "      <td>11.163162</td>\n",
       "      <td>100.0</td>\n",
       "      <td>66.666667</td>\n",
       "      <td>100.0</td>\n",
       "      <td>4.48</td>\n",
       "      <td>4.48</td>\n",
       "      <td>17.714318</td>\n",
       "      <td>0.013393</td>\n",
       "      <td>0.046875</td>\n",
       "    </tr>\n",
       "    <tr>\n",
       "      <th>11616</th>\n",
       "      <td>3.46</td>\n",
       "      <td>3.42</td>\n",
       "      <td>3.52</td>\n",
       "      <td>3.37</td>\n",
       "      <td>12525719.0</td>\n",
       "      <td>117352024.0</td>\n",
       "      <td>600337</td>\n",
       "      <td>2010-01-04</td>\n",
       "      <td>0</td>\n",
       "      <td>0.0</td>\n",
       "      <td>11.926838</td>\n",
       "      <td>11.163162</td>\n",
       "      <td>100.0</td>\n",
       "      <td>66.666667</td>\n",
       "      <td>100.0</td>\n",
       "      <td>3.42</td>\n",
       "      <td>3.42</td>\n",
       "      <td>17.572935</td>\n",
       "      <td>-0.011696</td>\n",
       "      <td>0.043860</td>\n",
       "    </tr>\n",
       "  </tbody>\n",
       "</table>\n",
       "</div>"
      ],
      "text/plain": [
       "        open  close   high    low      volume       amount     tic       date  \\\n",
       "0      11.38  11.41  11.47  11.22  13228405.0  205262496.0  600312 2010-01-04   \n",
       "2904    8.12   7.99   8.17   7.98  19659656.0  201463792.0  600320 2010-01-04   \n",
       "5808    8.81   9.01   9.18   8.77  16012911.0  239799376.0  600326 2010-01-04   \n",
       "8712    4.42   4.48   4.63   4.42  11014190.0   83350864.0  600335 2010-01-04   \n",
       "11616   3.46   3.42   3.52   3.37  12525719.0  117352024.0  600337 2010-01-04   \n",
       "\n",
       "       day  macd    boll_ub    boll_lb  rsi_30     cci_30  dx_30  \\\n",
       "0        0   0.0  11.926838  11.163162   100.0  66.666667  100.0   \n",
       "2904     0   0.0  11.926838  11.163162   100.0  66.666667  100.0   \n",
       "5808     0   0.0  11.926838  11.163162   100.0  66.666667  100.0   \n",
       "8712     0   0.0  11.926838  11.163162   100.0  66.666667  100.0   \n",
       "11616    0   0.0  11.926838  11.163162   100.0  66.666667  100.0   \n",
       "\n",
       "       close_30_sma  close_60_sma  log_volume    change  daily_variance  \n",
       "0             11.41         11.41   18.832367  0.002629        0.021911  \n",
       "2904           7.99          7.99   18.872270 -0.016270        0.023780  \n",
       "5808           9.01          9.01   18.787241  0.022198        0.045505  \n",
       "8712           4.48          4.48   17.714318  0.013393        0.046875  \n",
       "11616          3.42          3.42   17.572935 -0.011696        0.043860  "
      ]
     },
     "execution_count": 18,
     "metadata": {},
     "output_type": "execute_result"
    }
   ],
   "source": [
    "processed['log_volume'] = np.log(processed.volume*processed.close)\n",
    "processed['change'] = (processed.close-processed.open)/processed.close\n",
    "processed['daily_variance'] = (processed.high-processed.low)/processed.close\n",
    "processed.head()"
   ]
  },
  {
   "cell_type": "markdown",
   "metadata": {
    "id": "-QsYaY0Dh1iw"
   },
   "source": [
    "<a id='4'></a>\n",
    "# Part 5. Design Environment\n",
    "Considering the stochastic and interactive nature of the automated stock trading tasks, a financial task is modeled as a **Markov Decision Process (MDP)** problem. The training process involves observing stock price change, taking an action and reward's calculation to have the agent adjusting its strategy accordingly. By interacting with the environment, the trading agent will derive a trading strategy with the maximized rewards as time proceeds.\n",
    "\n",
    "Our trading environments, based on OpenAI Gym framework, simulate live stock markets with real market data according to the principle of time-driven simulation.\n",
    "\n",
    "The action space describes the allowed actions that the agent interacts with the environment. Normally, action a includes three actions: {-1, 0, 1}, where -1, 0, 1 represent selling, holding, and buying one share. Also, an action can be carried upon multiple shares. We use an action space {-k,…,-1, 0, 1, …, k}, where k denotes the number of shares to buy and -k denotes the number of shares to sell. For example, \"Buy 10 shares of AAPL\" or \"Sell 10 shares of AAPL\" are 10 or -10, respectively. The continuous action space needs to be normalized to [-1, 1], since the policy is defined on a Gaussian distribution, which needs to be normalized and symmetric."
   ]
  },
  {
   "cell_type": "markdown",
   "metadata": {
    "id": "5TOhcryx44bb"
   },
   "source": [
    "## Training data split: 2009-01-01 to 2016-01-01\n",
    "## Trade data split: 2016-01-01 to 2021-01-01\n",
    "\n",
    "DRL model needs to update periodically in order to take full advantage of the data, ideally we need to retrain our model yearly, quarterly, or monthly. We also need to tune the parameters along the way, in this notebook I only use the in-sample data from 2009-01 to 2016-01 to tune the parameters once, so there is some alpha decay here as the length of trade date extends. \n",
    "\n",
    "Numerous hyperparameters – e.g. the learning rate, the total number of samples to train on – influence the learning process and are usually determined by testing some variations."
   ]
  },
  {
   "cell_type": "code",
   "execution_count": 19,
   "metadata": {
    "colab": {
     "base_uri": "https://localhost:8080/"
    },
    "id": "W0qaVGjLtgbI",
    "outputId": "c98aeb90-84e3-4b83-9671-d679f3fe148f"
   },
   "outputs": [
    {
     "name": "stdout",
     "output_type": "stream",
     "text": [
      "64176\n",
      "5472\n"
     ]
    }
   ],
   "source": [
    "train = data_split(processed, '2009-01-01','2021-01-01') # '2009-01-01','2016-01-01'\n",
    "trade = data_split(processed, '2021-01-01','2021-12-13') # '2016-01-01','2021-01-01'\n",
    "print(len(train))\n",
    "print(len(trade))"
   ]
  },
  {
   "cell_type": "code",
   "execution_count": 20,
   "metadata": {
    "id": "FCqTEpfh3fEZ",
    "outputId": "150a1a08-6320-46d5-b101-6ff17b23cb20"
   },
   "outputs": [
    {
     "name": "stdout",
     "output_type": "stream",
     "text": [
      "\n",
      "    A stock trading environment for OpenAI gym\n",
      "    This environment penalizes the model for not maintaining a reserve of cash.\n",
      "    This enables the model to manage cash reserves in addition to performing trading procedures.\n",
      "    Reward at any step is given as follows\n",
      "        r_i = (sum(cash, asset_value) - initial_cash - max(0, sum(cash, asset_value)*cash_penalty_proportion-cash))/(days_elapsed)\n",
      "        This reward function takes into account a liquidity requirement, as well as long-term accrued rewards.\n",
      "    Parameters:\n",
      "        df (pandas.DataFrame): Dataframe containing data\n",
      "        buy_cost_pct (float): cost for buying shares\n",
      "        sell_cost_pct (float): cost for selling shares\n",
      "        hmax (int, array): maximum cash to be traded in each trade per asset. If an array is provided, then each index correspond to each asset\n",
      "        discrete_actions (bool): option to choose whether perform dicretization on actions space or not\n",
      "        shares_increment (int): multiples number of shares can be bought in each trade. Only applicable if discrete_actions=True\n",
      "        turbulence_threshold (float): Maximum turbulence allowed in market for purchases to occur. If exceeded, positions are liquidated\n",
      "        print_verbosity(int): When iterating (step), how often to print stats about state of env\n",
      "        initial_amount: (int, float): Amount of cash initially available\n",
      "        daily_information_columns (list(str)): Columns to use when building state space from the dataframe. It could be OHLC columns or any other variables such as technical indicators and turbulence index\n",
      "        cash_penalty_proportion (int, float): Penalty to apply if the algorithm runs out of cash\n",
      "        patient (bool): option to choose whether end the cycle when we're running out of cash or just don't buy anything until we got additional cash\n",
      "\n",
      "    RL Inputs and Outputs\n",
      "        action space: [<n_assets>,] in range {-1, 1}\n",
      "        state space: {start_cash, [shares_i for in in assets], [[indicator_j for j in indicators] for i in assets]]}\n",
      "    TODO:\n",
      "        Organize functions\n",
      "        Write README\n",
      "        Document tests\n",
      "    \n"
     ]
    }
   ],
   "source": [
    "print(StockTradingEnvCashpenalty.__doc__)"
   ]
  },
  {
   "cell_type": "markdown",
   "metadata": {
    "id": "Q2zqII8rMIqn",
    "outputId": "8a2c943b-1be4-4b8d-b64f-666e0852b7e6"
   },
   "source": [
    "#### state space\n",
    "The state space of the observation is as follows \n",
    "\n",
    "`start_cash, <owned_shares_of_n_assets>, <<indicator_i_for_asset_j> for j in assets>`\n",
    "\n",
    "indicators are any daily measurement you can achieve. Common ones are 'volume', 'open' 'close' 'high', 'low'.\n",
    "However, you can add these as needed, \n",
    "The feature engineer adds indicators, and you can add your own as well. \n"
   ]
  },
  {
   "cell_type": "code",
   "execution_count": 21,
   "metadata": {},
   "outputs": [
    {
     "data": {
      "text/html": [
       "<div>\n",
       "<style scoped>\n",
       "    .dataframe tbody tr th:only-of-type {\n",
       "        vertical-align: middle;\n",
       "    }\n",
       "\n",
       "    .dataframe tbody tr th {\n",
       "        vertical-align: top;\n",
       "    }\n",
       "\n",
       "    .dataframe thead th {\n",
       "        text-align: right;\n",
       "    }\n",
       "</style>\n",
       "<table border=\"1\" class=\"dataframe\">\n",
       "  <thead>\n",
       "    <tr style=\"text-align: right;\">\n",
       "      <th></th>\n",
       "      <th>open</th>\n",
       "      <th>close</th>\n",
       "      <th>high</th>\n",
       "      <th>low</th>\n",
       "      <th>volume</th>\n",
       "      <th>amount</th>\n",
       "      <th>tic</th>\n",
       "      <th>date</th>\n",
       "      <th>day</th>\n",
       "      <th>macd</th>\n",
       "      <th>boll_ub</th>\n",
       "      <th>boll_lb</th>\n",
       "      <th>rsi_30</th>\n",
       "      <th>cci_30</th>\n",
       "      <th>dx_30</th>\n",
       "      <th>close_30_sma</th>\n",
       "      <th>close_60_sma</th>\n",
       "      <th>log_volume</th>\n",
       "      <th>change</th>\n",
       "      <th>daily_variance</th>\n",
       "    </tr>\n",
       "  </thead>\n",
       "  <tbody>\n",
       "    <tr>\n",
       "      <th>68202</th>\n",
       "      <td>4.64</td>\n",
       "      <td>5.08</td>\n",
       "      <td>5.32</td>\n",
       "      <td>4.63</td>\n",
       "      <td>24560764.0</td>\n",
       "      <td>285484032.0</td>\n",
       "      <td>600603</td>\n",
       "      <td>2015-10-29</td>\n",
       "      <td>3</td>\n",
       "      <td>-0.049389</td>\n",
       "      <td>5.08</td>\n",
       "      <td>5.08</td>\n",
       "      <td>44.297708</td>\n",
       "      <td>-inf</td>\n",
       "      <td>31.019858</td>\n",
       "      <td>5.08</td>\n",
       "      <td>5.295167</td>\n",
       "      <td>18.641972</td>\n",
       "      <td>0.086614</td>\n",
       "      <td>0.135827</td>\n",
       "    </tr>\n",
       "    <tr>\n",
       "      <th>68205</th>\n",
       "      <td>4.64</td>\n",
       "      <td>5.08</td>\n",
       "      <td>5.32</td>\n",
       "      <td>4.63</td>\n",
       "      <td>24560764.0</td>\n",
       "      <td>285484032.0</td>\n",
       "      <td>600603</td>\n",
       "      <td>2015-11-03</td>\n",
       "      <td>1</td>\n",
       "      <td>-0.039794</td>\n",
       "      <td>5.08</td>\n",
       "      <td>5.08</td>\n",
       "      <td>44.297708</td>\n",
       "      <td>-inf</td>\n",
       "      <td>31.019858</td>\n",
       "      <td>5.08</td>\n",
       "      <td>5.297833</td>\n",
       "      <td>18.641972</td>\n",
       "      <td>0.086614</td>\n",
       "      <td>0.135827</td>\n",
       "    </tr>\n",
       "    <tr>\n",
       "      <th>68208</th>\n",
       "      <td>4.64</td>\n",
       "      <td>5.08</td>\n",
       "      <td>5.32</td>\n",
       "      <td>4.63</td>\n",
       "      <td>24560764.0</td>\n",
       "      <td>285484032.0</td>\n",
       "      <td>600603</td>\n",
       "      <td>2015-11-06</td>\n",
       "      <td>4</td>\n",
       "      <td>-0.031946</td>\n",
       "      <td>5.08</td>\n",
       "      <td>5.08</td>\n",
       "      <td>44.297708</td>\n",
       "      <td>-inf</td>\n",
       "      <td>31.019858</td>\n",
       "      <td>5.08</td>\n",
       "      <td>5.323333</td>\n",
       "      <td>18.641972</td>\n",
       "      <td>0.086614</td>\n",
       "      <td>0.135827</td>\n",
       "    </tr>\n",
       "    <tr>\n",
       "      <th>68211</th>\n",
       "      <td>4.64</td>\n",
       "      <td>5.08</td>\n",
       "      <td>5.32</td>\n",
       "      <td>4.63</td>\n",
       "      <td>24560764.0</td>\n",
       "      <td>285484032.0</td>\n",
       "      <td>600603</td>\n",
       "      <td>2015-11-11</td>\n",
       "      <td>2</td>\n",
       "      <td>-0.025575</td>\n",
       "      <td>5.08</td>\n",
       "      <td>5.08</td>\n",
       "      <td>44.297708</td>\n",
       "      <td>-inf</td>\n",
       "      <td>31.019858</td>\n",
       "      <td>5.08</td>\n",
       "      <td>5.316500</td>\n",
       "      <td>18.641972</td>\n",
       "      <td>0.086614</td>\n",
       "      <td>0.135827</td>\n",
       "    </tr>\n",
       "    <tr>\n",
       "      <th>68214</th>\n",
       "      <td>4.64</td>\n",
       "      <td>5.08</td>\n",
       "      <td>5.32</td>\n",
       "      <td>4.63</td>\n",
       "      <td>24560764.0</td>\n",
       "      <td>285484032.0</td>\n",
       "      <td>600603</td>\n",
       "      <td>2015-11-16</td>\n",
       "      <td>0</td>\n",
       "      <td>-0.020433</td>\n",
       "      <td>5.08</td>\n",
       "      <td>5.08</td>\n",
       "      <td>44.297708</td>\n",
       "      <td>-inf</td>\n",
       "      <td>31.019858</td>\n",
       "      <td>5.08</td>\n",
       "      <td>5.276833</td>\n",
       "      <td>18.641972</td>\n",
       "      <td>0.086614</td>\n",
       "      <td>0.135827</td>\n",
       "    </tr>\n",
       "    <tr>\n",
       "      <th>68217</th>\n",
       "      <td>4.64</td>\n",
       "      <td>5.08</td>\n",
       "      <td>5.32</td>\n",
       "      <td>4.63</td>\n",
       "      <td>24560764.0</td>\n",
       "      <td>285484032.0</td>\n",
       "      <td>600603</td>\n",
       "      <td>2015-11-19</td>\n",
       "      <td>3</td>\n",
       "      <td>-0.016300</td>\n",
       "      <td>5.08</td>\n",
       "      <td>5.08</td>\n",
       "      <td>44.297708</td>\n",
       "      <td>-inf</td>\n",
       "      <td>31.019858</td>\n",
       "      <td>5.08</td>\n",
       "      <td>5.226000</td>\n",
       "      <td>18.641972</td>\n",
       "      <td>0.086614</td>\n",
       "      <td>0.135827</td>\n",
       "    </tr>\n",
       "    <tr>\n",
       "      <th>68220</th>\n",
       "      <td>4.64</td>\n",
       "      <td>5.08</td>\n",
       "      <td>5.32</td>\n",
       "      <td>4.63</td>\n",
       "      <td>24560764.0</td>\n",
       "      <td>285484032.0</td>\n",
       "      <td>600603</td>\n",
       "      <td>2015-11-24</td>\n",
       "      <td>1</td>\n",
       "      <td>-0.012987</td>\n",
       "      <td>5.08</td>\n",
       "      <td>5.08</td>\n",
       "      <td>44.297708</td>\n",
       "      <td>-inf</td>\n",
       "      <td>31.019858</td>\n",
       "      <td>5.08</td>\n",
       "      <td>5.187833</td>\n",
       "      <td>18.641972</td>\n",
       "      <td>0.086614</td>\n",
       "      <td>0.135827</td>\n",
       "    </tr>\n",
       "    <tr>\n",
       "      <th>68223</th>\n",
       "      <td>4.64</td>\n",
       "      <td>5.08</td>\n",
       "      <td>5.32</td>\n",
       "      <td>4.63</td>\n",
       "      <td>24560764.0</td>\n",
       "      <td>285484032.0</td>\n",
       "      <td>600603</td>\n",
       "      <td>2015-11-27</td>\n",
       "      <td>4</td>\n",
       "      <td>-0.010339</td>\n",
       "      <td>5.08</td>\n",
       "      <td>5.08</td>\n",
       "      <td>44.297708</td>\n",
       "      <td>-inf</td>\n",
       "      <td>31.019858</td>\n",
       "      <td>5.08</td>\n",
       "      <td>5.155833</td>\n",
       "      <td>18.641972</td>\n",
       "      <td>0.086614</td>\n",
       "      <td>0.135827</td>\n",
       "    </tr>\n",
       "    <tr>\n",
       "      <th>68228</th>\n",
       "      <td>4.64</td>\n",
       "      <td>5.08</td>\n",
       "      <td>5.32</td>\n",
       "      <td>4.63</td>\n",
       "      <td>24560764.0</td>\n",
       "      <td>285484032.0</td>\n",
       "      <td>600603</td>\n",
       "      <td>2015-12-04</td>\n",
       "      <td>4</td>\n",
       "      <td>-0.007059</td>\n",
       "      <td>5.08</td>\n",
       "      <td>5.08</td>\n",
       "      <td>44.297708</td>\n",
       "      <td>-inf</td>\n",
       "      <td>31.019858</td>\n",
       "      <td>5.08</td>\n",
       "      <td>5.102500</td>\n",
       "      <td>18.641972</td>\n",
       "      <td>0.086614</td>\n",
       "      <td>0.135827</td>\n",
       "    </tr>\n",
       "    <tr>\n",
       "      <th>68231</th>\n",
       "      <td>4.64</td>\n",
       "      <td>5.08</td>\n",
       "      <td>5.32</td>\n",
       "      <td>4.63</td>\n",
       "      <td>24560764.0</td>\n",
       "      <td>285484032.0</td>\n",
       "      <td>600603</td>\n",
       "      <td>2015-12-09</td>\n",
       "      <td>2</td>\n",
       "      <td>-0.005612</td>\n",
       "      <td>5.08</td>\n",
       "      <td>5.08</td>\n",
       "      <td>44.297708</td>\n",
       "      <td>-inf</td>\n",
       "      <td>31.019858</td>\n",
       "      <td>5.08</td>\n",
       "      <td>5.080000</td>\n",
       "      <td>18.641972</td>\n",
       "      <td>0.086614</td>\n",
       "      <td>0.135827</td>\n",
       "    </tr>\n",
       "    <tr>\n",
       "      <th>68234</th>\n",
       "      <td>4.64</td>\n",
       "      <td>5.08</td>\n",
       "      <td>5.32</td>\n",
       "      <td>4.63</td>\n",
       "      <td>24560764.0</td>\n",
       "      <td>285484032.0</td>\n",
       "      <td>600603</td>\n",
       "      <td>2015-12-14</td>\n",
       "      <td>0</td>\n",
       "      <td>-0.004459</td>\n",
       "      <td>5.08</td>\n",
       "      <td>5.08</td>\n",
       "      <td>44.297708</td>\n",
       "      <td>-inf</td>\n",
       "      <td>31.019858</td>\n",
       "      <td>5.08</td>\n",
       "      <td>5.080000</td>\n",
       "      <td>18.641972</td>\n",
       "      <td>0.086614</td>\n",
       "      <td>0.135827</td>\n",
       "    </tr>\n",
       "    <tr>\n",
       "      <th>68237</th>\n",
       "      <td>4.64</td>\n",
       "      <td>5.08</td>\n",
       "      <td>5.32</td>\n",
       "      <td>4.63</td>\n",
       "      <td>24560764.0</td>\n",
       "      <td>285484032.0</td>\n",
       "      <td>600603</td>\n",
       "      <td>2015-12-17</td>\n",
       "      <td>3</td>\n",
       "      <td>-0.003543</td>\n",
       "      <td>5.08</td>\n",
       "      <td>5.08</td>\n",
       "      <td>44.297708</td>\n",
       "      <td>-inf</td>\n",
       "      <td>31.019858</td>\n",
       "      <td>5.08</td>\n",
       "      <td>5.080000</td>\n",
       "      <td>18.641972</td>\n",
       "      <td>0.086614</td>\n",
       "      <td>0.135827</td>\n",
       "    </tr>\n",
       "    <tr>\n",
       "      <th>68240</th>\n",
       "      <td>4.64</td>\n",
       "      <td>5.08</td>\n",
       "      <td>5.32</td>\n",
       "      <td>4.63</td>\n",
       "      <td>24560764.0</td>\n",
       "      <td>285484032.0</td>\n",
       "      <td>600603</td>\n",
       "      <td>2015-12-22</td>\n",
       "      <td>1</td>\n",
       "      <td>-0.002814</td>\n",
       "      <td>5.08</td>\n",
       "      <td>5.08</td>\n",
       "      <td>44.297708</td>\n",
       "      <td>-inf</td>\n",
       "      <td>31.019858</td>\n",
       "      <td>5.08</td>\n",
       "      <td>5.080000</td>\n",
       "      <td>18.641972</td>\n",
       "      <td>0.086614</td>\n",
       "      <td>0.135827</td>\n",
       "    </tr>\n",
       "    <tr>\n",
       "      <th>68243</th>\n",
       "      <td>4.64</td>\n",
       "      <td>5.08</td>\n",
       "      <td>5.32</td>\n",
       "      <td>4.63</td>\n",
       "      <td>24560764.0</td>\n",
       "      <td>285484032.0</td>\n",
       "      <td>600603</td>\n",
       "      <td>2015-12-25</td>\n",
       "      <td>4</td>\n",
       "      <td>-0.002235</td>\n",
       "      <td>5.08</td>\n",
       "      <td>5.08</td>\n",
       "      <td>44.297708</td>\n",
       "      <td>-inf</td>\n",
       "      <td>31.019858</td>\n",
       "      <td>5.08</td>\n",
       "      <td>5.080000</td>\n",
       "      <td>18.641972</td>\n",
       "      <td>0.086614</td>\n",
       "      <td>0.135827</td>\n",
       "    </tr>\n",
       "    <tr>\n",
       "      <th>68246</th>\n",
       "      <td>4.64</td>\n",
       "      <td>5.08</td>\n",
       "      <td>5.32</td>\n",
       "      <td>4.63</td>\n",
       "      <td>24560764.0</td>\n",
       "      <td>285484032.0</td>\n",
       "      <td>600603</td>\n",
       "      <td>2015-12-30</td>\n",
       "      <td>2</td>\n",
       "      <td>-0.001775</td>\n",
       "      <td>5.08</td>\n",
       "      <td>5.08</td>\n",
       "      <td>44.297708</td>\n",
       "      <td>-inf</td>\n",
       "      <td>31.019858</td>\n",
       "      <td>5.08</td>\n",
       "      <td>5.080000</td>\n",
       "      <td>18.641972</td>\n",
       "      <td>0.086614</td>\n",
       "      <td>0.135827</td>\n",
       "    </tr>\n",
       "    <tr>\n",
       "      <th>68249</th>\n",
       "      <td>4.64</td>\n",
       "      <td>5.08</td>\n",
       "      <td>5.32</td>\n",
       "      <td>4.63</td>\n",
       "      <td>24560764.0</td>\n",
       "      <td>285484032.0</td>\n",
       "      <td>600603</td>\n",
       "      <td>2016-01-05</td>\n",
       "      <td>1</td>\n",
       "      <td>-0.001409</td>\n",
       "      <td>5.08</td>\n",
       "      <td>5.08</td>\n",
       "      <td>44.297708</td>\n",
       "      <td>-inf</td>\n",
       "      <td>31.019858</td>\n",
       "      <td>5.08</td>\n",
       "      <td>5.080000</td>\n",
       "      <td>18.641972</td>\n",
       "      <td>0.086614</td>\n",
       "      <td>0.135827</td>\n",
       "    </tr>\n",
       "    <tr>\n",
       "      <th>68252</th>\n",
       "      <td>4.64</td>\n",
       "      <td>5.08</td>\n",
       "      <td>5.32</td>\n",
       "      <td>4.63</td>\n",
       "      <td>24560764.0</td>\n",
       "      <td>285484032.0</td>\n",
       "      <td>600603</td>\n",
       "      <td>2016-01-08</td>\n",
       "      <td>4</td>\n",
       "      <td>-0.001119</td>\n",
       "      <td>5.08</td>\n",
       "      <td>5.08</td>\n",
       "      <td>44.297708</td>\n",
       "      <td>-inf</td>\n",
       "      <td>31.019858</td>\n",
       "      <td>5.08</td>\n",
       "      <td>5.080000</td>\n",
       "      <td>18.641972</td>\n",
       "      <td>0.086614</td>\n",
       "      <td>0.135827</td>\n",
       "    </tr>\n",
       "    <tr>\n",
       "      <th>68255</th>\n",
       "      <td>4.64</td>\n",
       "      <td>5.08</td>\n",
       "      <td>5.32</td>\n",
       "      <td>4.63</td>\n",
       "      <td>24560764.0</td>\n",
       "      <td>285484032.0</td>\n",
       "      <td>600603</td>\n",
       "      <td>2016-01-13</td>\n",
       "      <td>2</td>\n",
       "      <td>-0.000888</td>\n",
       "      <td>5.08</td>\n",
       "      <td>5.08</td>\n",
       "      <td>44.297708</td>\n",
       "      <td>-inf</td>\n",
       "      <td>31.019858</td>\n",
       "      <td>5.08</td>\n",
       "      <td>5.080000</td>\n",
       "      <td>18.641972</td>\n",
       "      <td>0.086614</td>\n",
       "      <td>0.135827</td>\n",
       "    </tr>\n",
       "    <tr>\n",
       "      <th>68628</th>\n",
       "      <td>4.84</td>\n",
       "      <td>4.87</td>\n",
       "      <td>4.89</td>\n",
       "      <td>4.81</td>\n",
       "      <td>1859029.0</td>\n",
       "      <td>21866752.0</td>\n",
       "      <td>600603</td>\n",
       "      <td>2017-07-26</td>\n",
       "      <td>2</td>\n",
       "      <td>-0.022387</td>\n",
       "      <td>4.87</td>\n",
       "      <td>4.87</td>\n",
       "      <td>38.905039</td>\n",
       "      <td>-inf</td>\n",
       "      <td>42.018417</td>\n",
       "      <td>4.87</td>\n",
       "      <td>5.024000</td>\n",
       "      <td>16.018659</td>\n",
       "      <td>0.006160</td>\n",
       "      <td>0.016427</td>\n",
       "    </tr>\n",
       "  </tbody>\n",
       "</table>\n",
       "</div>"
      ],
      "text/plain": [
       "       open  close  high   low      volume       amount     tic       date  \\\n",
       "68202  4.64   5.08  5.32  4.63  24560764.0  285484032.0  600603 2015-10-29   \n",
       "68205  4.64   5.08  5.32  4.63  24560764.0  285484032.0  600603 2015-11-03   \n",
       "68208  4.64   5.08  5.32  4.63  24560764.0  285484032.0  600603 2015-11-06   \n",
       "68211  4.64   5.08  5.32  4.63  24560764.0  285484032.0  600603 2015-11-11   \n",
       "68214  4.64   5.08  5.32  4.63  24560764.0  285484032.0  600603 2015-11-16   \n",
       "68217  4.64   5.08  5.32  4.63  24560764.0  285484032.0  600603 2015-11-19   \n",
       "68220  4.64   5.08  5.32  4.63  24560764.0  285484032.0  600603 2015-11-24   \n",
       "68223  4.64   5.08  5.32  4.63  24560764.0  285484032.0  600603 2015-11-27   \n",
       "68228  4.64   5.08  5.32  4.63  24560764.0  285484032.0  600603 2015-12-04   \n",
       "68231  4.64   5.08  5.32  4.63  24560764.0  285484032.0  600603 2015-12-09   \n",
       "68234  4.64   5.08  5.32  4.63  24560764.0  285484032.0  600603 2015-12-14   \n",
       "68237  4.64   5.08  5.32  4.63  24560764.0  285484032.0  600603 2015-12-17   \n",
       "68240  4.64   5.08  5.32  4.63  24560764.0  285484032.0  600603 2015-12-22   \n",
       "68243  4.64   5.08  5.32  4.63  24560764.0  285484032.0  600603 2015-12-25   \n",
       "68246  4.64   5.08  5.32  4.63  24560764.0  285484032.0  600603 2015-12-30   \n",
       "68249  4.64   5.08  5.32  4.63  24560764.0  285484032.0  600603 2016-01-05   \n",
       "68252  4.64   5.08  5.32  4.63  24560764.0  285484032.0  600603 2016-01-08   \n",
       "68255  4.64   5.08  5.32  4.63  24560764.0  285484032.0  600603 2016-01-13   \n",
       "68628  4.84   4.87  4.89  4.81   1859029.0   21866752.0  600603 2017-07-26   \n",
       "\n",
       "       day      macd  boll_ub  boll_lb     rsi_30  cci_30      dx_30  \\\n",
       "68202    3 -0.049389     5.08     5.08  44.297708    -inf  31.019858   \n",
       "68205    1 -0.039794     5.08     5.08  44.297708    -inf  31.019858   \n",
       "68208    4 -0.031946     5.08     5.08  44.297708    -inf  31.019858   \n",
       "68211    2 -0.025575     5.08     5.08  44.297708    -inf  31.019858   \n",
       "68214    0 -0.020433     5.08     5.08  44.297708    -inf  31.019858   \n",
       "68217    3 -0.016300     5.08     5.08  44.297708    -inf  31.019858   \n",
       "68220    1 -0.012987     5.08     5.08  44.297708    -inf  31.019858   \n",
       "68223    4 -0.010339     5.08     5.08  44.297708    -inf  31.019858   \n",
       "68228    4 -0.007059     5.08     5.08  44.297708    -inf  31.019858   \n",
       "68231    2 -0.005612     5.08     5.08  44.297708    -inf  31.019858   \n",
       "68234    0 -0.004459     5.08     5.08  44.297708    -inf  31.019858   \n",
       "68237    3 -0.003543     5.08     5.08  44.297708    -inf  31.019858   \n",
       "68240    1 -0.002814     5.08     5.08  44.297708    -inf  31.019858   \n",
       "68243    4 -0.002235     5.08     5.08  44.297708    -inf  31.019858   \n",
       "68246    2 -0.001775     5.08     5.08  44.297708    -inf  31.019858   \n",
       "68249    1 -0.001409     5.08     5.08  44.297708    -inf  31.019858   \n",
       "68252    4 -0.001119     5.08     5.08  44.297708    -inf  31.019858   \n",
       "68255    2 -0.000888     5.08     5.08  44.297708    -inf  31.019858   \n",
       "68628    2 -0.022387     4.87     4.87  38.905039    -inf  42.018417   \n",
       "\n",
       "       close_30_sma  close_60_sma  log_volume    change  daily_variance  \n",
       "68202          5.08      5.295167   18.641972  0.086614        0.135827  \n",
       "68205          5.08      5.297833   18.641972  0.086614        0.135827  \n",
       "68208          5.08      5.323333   18.641972  0.086614        0.135827  \n",
       "68211          5.08      5.316500   18.641972  0.086614        0.135827  \n",
       "68214          5.08      5.276833   18.641972  0.086614        0.135827  \n",
       "68217          5.08      5.226000   18.641972  0.086614        0.135827  \n",
       "68220          5.08      5.187833   18.641972  0.086614        0.135827  \n",
       "68223          5.08      5.155833   18.641972  0.086614        0.135827  \n",
       "68228          5.08      5.102500   18.641972  0.086614        0.135827  \n",
       "68231          5.08      5.080000   18.641972  0.086614        0.135827  \n",
       "68234          5.08      5.080000   18.641972  0.086614        0.135827  \n",
       "68237          5.08      5.080000   18.641972  0.086614        0.135827  \n",
       "68240          5.08      5.080000   18.641972  0.086614        0.135827  \n",
       "68243          5.08      5.080000   18.641972  0.086614        0.135827  \n",
       "68246          5.08      5.080000   18.641972  0.086614        0.135827  \n",
       "68249          5.08      5.080000   18.641972  0.086614        0.135827  \n",
       "68252          5.08      5.080000   18.641972  0.086614        0.135827  \n",
       "68255          5.08      5.080000   18.641972  0.086614        0.135827  \n",
       "68628          4.87      5.024000   16.018659  0.006160        0.016427  "
      ]
     },
     "execution_count": 21,
     "metadata": {},
     "output_type": "execute_result"
    }
   ],
   "source": [
    "processed[processed['cci_30'] == -np.inf]"
   ]
  },
  {
   "cell_type": "code",
   "execution_count": 22,
   "metadata": {
    "id": "Ac5vErdj3fEa",
    "outputId": "0dde9595-9816-4a8d-851b-3190d4e9acc9"
   },
   "outputs": [
    {
     "data": {
      "text/html": [
       "<div>\n",
       "<style scoped>\n",
       "    .dataframe tbody tr th:only-of-type {\n",
       "        vertical-align: middle;\n",
       "    }\n",
       "\n",
       "    .dataframe tbody tr th {\n",
       "        vertical-align: top;\n",
       "    }\n",
       "\n",
       "    .dataframe thead th {\n",
       "        text-align: right;\n",
       "    }\n",
       "</style>\n",
       "<table border=\"1\" class=\"dataframe\">\n",
       "  <thead>\n",
       "    <tr style=\"text-align: right;\">\n",
       "      <th></th>\n",
       "      <th>open</th>\n",
       "      <th>close</th>\n",
       "      <th>high</th>\n",
       "      <th>low</th>\n",
       "      <th>volume</th>\n",
       "      <th>amount</th>\n",
       "      <th>tic</th>\n",
       "      <th>date</th>\n",
       "      <th>day</th>\n",
       "      <th>macd</th>\n",
       "      <th>boll_ub</th>\n",
       "      <th>boll_lb</th>\n",
       "      <th>rsi_30</th>\n",
       "      <th>cci_30</th>\n",
       "      <th>dx_30</th>\n",
       "      <th>close_30_sma</th>\n",
       "      <th>close_60_sma</th>\n",
       "      <th>log_volume</th>\n",
       "      <th>change</th>\n",
       "      <th>daily_variance</th>\n",
       "    </tr>\n",
       "  </thead>\n",
       "  <tbody>\n",
       "    <tr>\n",
       "      <th>0</th>\n",
       "      <td>11.38</td>\n",
       "      <td>11.41</td>\n",
       "      <td>11.47</td>\n",
       "      <td>11.22</td>\n",
       "      <td>13228405.0</td>\n",
       "      <td>205262496.0</td>\n",
       "      <td>600312</td>\n",
       "      <td>2010-01-04</td>\n",
       "      <td>0</td>\n",
       "      <td>0.0</td>\n",
       "      <td>11.926838</td>\n",
       "      <td>11.163162</td>\n",
       "      <td>100.0</td>\n",
       "      <td>66.666667</td>\n",
       "      <td>100.0</td>\n",
       "      <td>11.41</td>\n",
       "      <td>11.41</td>\n",
       "      <td>18.832367</td>\n",
       "      <td>0.002629</td>\n",
       "      <td>0.021911</td>\n",
       "    </tr>\n",
       "    <tr>\n",
       "      <th>2904</th>\n",
       "      <td>8.12</td>\n",
       "      <td>7.99</td>\n",
       "      <td>8.17</td>\n",
       "      <td>7.98</td>\n",
       "      <td>19659656.0</td>\n",
       "      <td>201463792.0</td>\n",
       "      <td>600320</td>\n",
       "      <td>2010-01-04</td>\n",
       "      <td>0</td>\n",
       "      <td>0.0</td>\n",
       "      <td>11.926838</td>\n",
       "      <td>11.163162</td>\n",
       "      <td>100.0</td>\n",
       "      <td>66.666667</td>\n",
       "      <td>100.0</td>\n",
       "      <td>7.99</td>\n",
       "      <td>7.99</td>\n",
       "      <td>18.872270</td>\n",
       "      <td>-0.016270</td>\n",
       "      <td>0.023780</td>\n",
       "    </tr>\n",
       "    <tr>\n",
       "      <th>5808</th>\n",
       "      <td>8.81</td>\n",
       "      <td>9.01</td>\n",
       "      <td>9.18</td>\n",
       "      <td>8.77</td>\n",
       "      <td>16012911.0</td>\n",
       "      <td>239799376.0</td>\n",
       "      <td>600326</td>\n",
       "      <td>2010-01-04</td>\n",
       "      <td>0</td>\n",
       "      <td>0.0</td>\n",
       "      <td>11.926838</td>\n",
       "      <td>11.163162</td>\n",
       "      <td>100.0</td>\n",
       "      <td>66.666667</td>\n",
       "      <td>100.0</td>\n",
       "      <td>9.01</td>\n",
       "      <td>9.01</td>\n",
       "      <td>18.787241</td>\n",
       "      <td>0.022198</td>\n",
       "      <td>0.045505</td>\n",
       "    </tr>\n",
       "    <tr>\n",
       "      <th>8712</th>\n",
       "      <td>4.42</td>\n",
       "      <td>4.48</td>\n",
       "      <td>4.63</td>\n",
       "      <td>4.42</td>\n",
       "      <td>11014190.0</td>\n",
       "      <td>83350864.0</td>\n",
       "      <td>600335</td>\n",
       "      <td>2010-01-04</td>\n",
       "      <td>0</td>\n",
       "      <td>0.0</td>\n",
       "      <td>11.926838</td>\n",
       "      <td>11.163162</td>\n",
       "      <td>100.0</td>\n",
       "      <td>66.666667</td>\n",
       "      <td>100.0</td>\n",
       "      <td>4.48</td>\n",
       "      <td>4.48</td>\n",
       "      <td>17.714318</td>\n",
       "      <td>0.013393</td>\n",
       "      <td>0.046875</td>\n",
       "    </tr>\n",
       "    <tr>\n",
       "      <th>11616</th>\n",
       "      <td>3.46</td>\n",
       "      <td>3.42</td>\n",
       "      <td>3.52</td>\n",
       "      <td>3.37</td>\n",
       "      <td>12525719.0</td>\n",
       "      <td>117352024.0</td>\n",
       "      <td>600337</td>\n",
       "      <td>2010-01-04</td>\n",
       "      <td>0</td>\n",
       "      <td>0.0</td>\n",
       "      <td>11.926838</td>\n",
       "      <td>11.163162</td>\n",
       "      <td>100.0</td>\n",
       "      <td>66.666667</td>\n",
       "      <td>100.0</td>\n",
       "      <td>3.42</td>\n",
       "      <td>3.42</td>\n",
       "      <td>17.572935</td>\n",
       "      <td>-0.011696</td>\n",
       "      <td>0.043860</td>\n",
       "    </tr>\n",
       "  </tbody>\n",
       "</table>\n",
       "</div>"
      ],
      "text/plain": [
       "        open  close   high    low      volume       amount     tic       date  \\\n",
       "0      11.38  11.41  11.47  11.22  13228405.0  205262496.0  600312 2010-01-04   \n",
       "2904    8.12   7.99   8.17   7.98  19659656.0  201463792.0  600320 2010-01-04   \n",
       "5808    8.81   9.01   9.18   8.77  16012911.0  239799376.0  600326 2010-01-04   \n",
       "8712    4.42   4.48   4.63   4.42  11014190.0   83350864.0  600335 2010-01-04   \n",
       "11616   3.46   3.42   3.52   3.37  12525719.0  117352024.0  600337 2010-01-04   \n",
       "\n",
       "       day  macd    boll_ub    boll_lb  rsi_30     cci_30  dx_30  \\\n",
       "0        0   0.0  11.926838  11.163162   100.0  66.666667  100.0   \n",
       "2904     0   0.0  11.926838  11.163162   100.0  66.666667  100.0   \n",
       "5808     0   0.0  11.926838  11.163162   100.0  66.666667  100.0   \n",
       "8712     0   0.0  11.926838  11.163162   100.0  66.666667  100.0   \n",
       "11616    0   0.0  11.926838  11.163162   100.0  66.666667  100.0   \n",
       "\n",
       "       close_30_sma  close_60_sma  log_volume    change  daily_variance  \n",
       "0             11.41         11.41   18.832367  0.002629        0.021911  \n",
       "2904           7.99          7.99   18.872270 -0.016270        0.023780  \n",
       "5808           9.01          9.01   18.787241  0.022198        0.045505  \n",
       "8712           4.48          4.48   17.714318  0.013393        0.046875  \n",
       "11616          3.42          3.42   17.572935 -0.011696        0.043860  "
      ]
     },
     "execution_count": 22,
     "metadata": {},
     "output_type": "execute_result"
    }
   ],
   "source": [
    "processed.head()"
   ]
  },
  {
   "cell_type": "code",
   "execution_count": 23,
   "metadata": {
    "id": "AWyp84Ltto19",
    "outputId": "312b0788-3c73-489c-da86-d50873162473",
    "scrolled": true
   },
   "outputs": [
    {
     "name": "stdout",
     "output_type": "stream",
     "text": [
      "caching data\n",
      "data cached!\n",
      "caching data\n",
      "data cached!\n"
     ]
    }
   ],
   "source": [
    "information_cols = ['daily_variance', 'change', 'log_volume', 'close','day', \n",
    "                    'macd', 'rsi_30', 'boll_ub', 'dx_30'] # cci_30\n",
    "\n",
    "e_train_gym = StockTradingEnvCashpenalty(\n",
    "    df = train,\n",
    "    initial_amount = 50e4, # 1e6, \n",
    "    hmax = 2000, \n",
    "    turbulence_threshold = None, \n",
    "    currency='￥',\n",
    "    buy_cost_pct=3e-3,\n",
    "    sell_cost_pct=3e-3,\n",
    "    cash_penalty_proportion=0.2,\n",
    "    cache_indicator_data=True,\n",
    "    daily_information_cols = information_cols,\n",
    "    print_verbosity = 500, \n",
    "    random_start = True,\n",
    "    ) # patient = True\n",
    "\n",
    "e_trade_gym = StockTradingEnvCashpenalty(\n",
    "    df = trade,\n",
    "    initial_amount = 50e4, # 1e6, \n",
    "    hmax = 2000, \n",
    "    turbulence_threshold = None, \n",
    "    currency='￥',\n",
    "    buy_cost_pct=3e-3,\n",
    "    sell_cost_pct=3e-3,\n",
    "    cash_penalty_proportion=0.2,\n",
    "    cache_indicator_data=True,\n",
    "    daily_information_cols = information_cols, \n",
    "    print_verbosity = 500, \n",
    "    random_start = False,\n",
    "    ) # patient = True"
   ]
  },
  {
   "cell_type": "markdown",
   "metadata": {
    "id": "64EoqOrQjiVf"
   },
   "source": [
    "## Environment for Training\n",
    "There are two available environments. The multiprocessing and the single processing env. \n",
    "Some models won't work with multiprocessing. \n",
    "\n",
    "```python\n",
    "# single processing\n",
    "env_train, _ = e_train_gym.get_sb_env()\n",
    "\n",
    "\n",
    "#multiprocessing\n",
    "env_train, _ = e_train_gym.get_multiproc_env(n = <n_cores>)\n",
    "```\n"
   ]
  },
  {
   "cell_type": "code",
   "execution_count": 24,
   "metadata": {
    "colab": {
     "base_uri": "https://localhost:8080/"
    },
    "id": "xwSvvPjutpqS",
    "outputId": "406e5ec3-28ba-4a72-9b22-0d031f7bf9a6"
   },
   "outputs": [],
   "source": [
    "# for this example, let's do multiprocessing with n_cores-2\n",
    "import multiprocessing\n",
    "\n",
    "# n_cores = multiprocessing.cpu_count() - 2\n",
    "# n_cores = 24\n",
    "# print(f\"using {n_cores} cores\")\n",
    "\n",
    "#this is our training env. It allows multiprocessing\n",
    "# env_train, _ = e_train_gym.get_multiproc_env(n = n_cores)\n",
    "env_train, _ = e_train_gym.get_sb_env()\n",
    "\n",
    "#this is our observation environment. It allows full diagnostics\n",
    "env_trade, _ = e_trade_gym.get_sb_env()"
   ]
  },
  {
   "cell_type": "markdown",
   "metadata": {
    "id": "HMNR5nHjh1iz"
   },
   "source": [
    "<a id='5'></a>\n",
    "# Part 6: Implement DRL Algorithms\n",
    "* The implementation of the DRL algorithms are based on **OpenAI Baselines** and **Stable Baselines**. Stable Baselines is a fork of OpenAI Baselines, with a major structural refactoring, and code cleanups.\n",
    "* FinRL library includes fine-tuned standard DRL algorithms, such as DQN, DDPG,\n",
    "Multi-Agent DDPG, PPO, SAC, A2C and TD3. We also allow users to\n",
    "design their own DRL algorithms by adapting these DRL algorithms."
   ]
  },
  {
   "cell_type": "code",
   "execution_count": 25,
   "metadata": {
    "id": "364PsqckttcQ"
   },
   "outputs": [],
   "source": [
    "agent = DRLAgent(env = env_train)"
   ]
  },
  {
   "cell_type": "markdown",
   "metadata": {
    "id": "uijiWgkuh1jB"
   },
   "source": [
    "### Model PPO\n"
   ]
  },
  {
   "cell_type": "code",
   "execution_count": 26,
   "metadata": {
    "id": "Lc7V2tWp3fEb",
    "outputId": "b7fa76e1-90d2-4615-c15b-091a62350b7a"
   },
   "outputs": [
    {
     "name": "stdout",
     "output_type": "stream",
     "text": [
      "{'n_steps': 256, 'ent_coef': 0.0, 'learning_rate': 5e-07, 'batch_size': 1024, 'gamma': 0.99}\n"
     ]
    },
    {
     "name": "stderr",
     "output_type": "stream",
     "text": [
      "d:\\soft\\python\\python37\\lib\\site-packages\\stable_baselines3\\ppo\\ppo.py:138: UserWarning: You have specified a mini-batch size of 1024, but because the `RolloutBuffer` is of size `n_steps * n_envs = 256`, after every 0 untruncated mini-batches, there will be a truncated mini-batch of size 256\n",
      "We recommend using a `batch_size` that is a factor of `n_steps * n_envs`.\n",
      "Info: (n_steps=256 and n_envs=1)\n",
      "  f\"You have specified a mini-batch size of {batch_size},\"\n"
     ]
    }
   ],
   "source": [
    "from torch.nn import Softsign, ReLU\n",
    "\n",
    "ppo_params ={'n_steps': 256, \n",
    "             'ent_coef': 0.0, \n",
    "             'learning_rate': 0.0000005, \n",
    "             'batch_size': 1024, \n",
    "             'gamma': 0.99}\n",
    "\n",
    "policy_kwargs = {\n",
    "#     \"activation_fn\": ReLU, \n",
    "    \"net_arch\": [1024 for _ in range(10)], \n",
    "#     \"squash_output\": True\n",
    "}\n",
    "\n",
    "model = agent.get_model('ppo', # ppo, a2c\n",
    "                        model_kwargs = ppo_params, \n",
    "                        policy_kwargs = policy_kwargs, verbose = 0)\n",
    "\n",
    "# model = model.load(\"scaling_reward.model\", env = env_train)"
   ]
  },
  {
   "cell_type": "code",
   "execution_count": 27,
   "metadata": {
    "id": "zTwet1oZ3fEb",
    "outputId": "1e37a383-e724-403c-fee9-712d02da113d",
    "scrolled": true
   },
   "outputs": [
    {
     "name": "stdout",
     "output_type": "stream",
     "text": [
      "EPISODE|STEPS|TERMINAL_REASON|CASH           |TOT_ASSETS     |TERMINAL_REWARD_unsc|GAINLOSS_PCT|CASH_PROPORTION\n",
      "   1| 202|CASH SHORTAGE  |￥8,009         |￥507,219       |-0.08536% |1.44378%  |1.58%     \n"
     ]
    },
    {
     "name": "stderr",
     "output_type": "stream",
     "text": [
      "d:\\soft\\python\\python37\\lib\\site-packages\\stable_baselines3\\common\\evaluation.py:69: UserWarning: Evaluation environment is not wrapped with a ``Monitor`` wrapper. This may result in reporting modified episode lengths and rewards, if other wrappers happen to modify these. Consider wrapping environment first with ``Monitor`` wrapper.\n",
      "  UserWarning,\n"
     ]
    },
    {
     "name": "stdout",
     "output_type": "stream",
     "text": [
      "EPISODE|STEPS|TERMINAL_REASON|CASH           |TOT_ASSETS     |TERMINAL_REWARD_unsc|GAINLOSS_PCT|CASH_PROPORTION\n",
      "   1| 227|Last Date      |￥480,861       |￥500,760       |0.00067%  |0.15208%  |96.03%    \n",
      "Eval num_timesteps=500, episode_reward=-0.00 +/- 0.00\n",
      "Episode length: 228.00 +/- 0.00\n",
      "New best mean reward!\n",
      "   2| 357|CASH SHORTAGE  |￥2,653         |￥432,646       |-0.08472% |-13.47086%|0.61%     \n",
      "   3| 314|CASH SHORTAGE  |￥6,805         |￥448,623       |-0.08554% |-10.27540%|1.52%     \n",
      "   3| 227|Last Date      |￥483,659       |￥502,727       |0.00240%  |0.54544%  |96.21%    \n",
      "Eval num_timesteps=1000, episode_reward=-0.00 +/- 0.00\n",
      "Episode length: 228.00 +/- 0.00\n",
      "New best mean reward!\n",
      "   4| 316|CASH SHORTAGE  |￥11,876        |￥521,571       |-0.04485% |4.31420%  |2.28%     \n",
      "   5| 227|Last Date      |￥484,481       |￥502,183       |0.00192%  |0.43654%  |96.48%    \n",
      "Eval num_timesteps=1500, episode_reward=-0.00 +/- 0.00\n",
      "Episode length: 228.00 +/- 0.00\n",
      "   5| 342|CASH SHORTAGE  |￥5,598         |￥1,175,115     |0.26064%  |135.02302%|0.48%     \n",
      "   6| 251|CASH SHORTAGE  |￥4,594         |￥507,672       |-0.07113% |1.53448%  |0.90%     \n",
      "   7| 227|Last Date      |￥483,354       |￥500,672       |0.00059%  |0.13446%  |96.54%    \n",
      "Eval num_timesteps=2000, episode_reward=-0.00 +/- 0.00\n",
      "Episode length: 228.00 +/- 0.00\n",
      "   7| 266|CASH SHORTAGE  |￥8,074         |￥524,204       |-0.05456% |4.84086%  |1.54%     \n",
      "   8| 440|CASH SHORTAGE  |￥1,652         |￥818,967       |0.07128%  |63.79346% |0.20%     \n",
      "   9| 227|Last Date      |￥480,312       |￥499,904       |-0.00008% |-0.01917% |96.08%    \n",
      "Eval num_timesteps=2500, episode_reward=-0.00 +/- 0.00\n",
      "Episode length: 228.00 +/- 0.00\n",
      "   9| 249|CASH SHORTAGE  |￥4,125         |￥360,889       |-0.16640% |-27.82218%|1.14%     \n",
      "  11| 227|Last Date      |￥480,159       |￥499,659       |-0.00030% |-0.06812% |96.10%    \n",
      "Eval num_timesteps=3000, episode_reward=-0.00 +/- 0.00\n",
      "Episode length: 228.00 +/- 0.00\n",
      "  10| 471|CASH SHORTAGE  |￥1,673         |￥549,336       |-0.02499% |9.86718%  |0.30%     \n",
      "  13| 227|Last Date      |￥475,530       |￥498,968       |-0.00091% |-0.20639% |95.30%    \n",
      "Eval num_timesteps=3500, episode_reward=-0.00 +/- 0.00\n",
      "Episode length: 228.00 +/- 0.00\n",
      "  11| 299|CASH SHORTAGE  |￥5,747         |￥389,189       |-0.12234% |-22.16221%|1.48%     \n",
      "  12| 374|CASH SHORTAGE  |￥1,723         |￥469,325       |-0.06568% |-6.13503% |0.37%     \n",
      "  15| 227|Last Date      |￥471,774       |￥499,211       |-0.00070% |-0.15780% |94.50%    \n",
      "Eval num_timesteps=4000, episode_reward=-0.00 +/- 0.00\n",
      "Episode length: 228.00 +/- 0.00\n",
      "  13| 354|CASH SHORTAGE  |￥892           |￥525,051       |-0.04467% |5.01016%  |0.17%     \n",
      "  14| 247|CASH SHORTAGE  |￥10,032        |￥644,091       |0.02049%  |28.81823% |1.56%     \n",
      "  17| 227|Last Date      |￥470,081       |￥497,689       |-0.00204% |-0.46214% |94.45%    \n",
      "Eval num_timesteps=4500, episode_reward=-0.00 +/- 0.00\n",
      "Episode length: 228.00 +/- 0.00\n",
      "  15| 409|CASH SHORTAGE  |￥3,728         |￥323,163       |-0.11625% |-35.36745%|1.15%     \n",
      "  19| 227|Last Date      |￥465,241       |￥497,257       |-0.00242% |-0.54867% |93.56%    \n",
      "Eval num_timesteps=5000, episode_reward=-0.00 +/- 0.00\n",
      "Episode length: 228.00 +/- 0.00\n",
      "  16| 336|CASH SHORTAGE  |￥2,312         |￥412,251       |-0.09993% |-17.54971%|0.56%     \n",
      "  17| 254|CASH SHORTAGE  |￥414           |￥449,795       |-0.11004% |-10.04098%|0.09%     \n",
      "  21| 227|Last Date      |￥460,856       |￥497,050       |-0.00260% |-0.59003% |92.72%    \n",
      "Eval num_timesteps=5500, episode_reward=-0.00 +/- 0.00\n",
      "Episode length: 228.00 +/- 0.00\n",
      "  18| 290|CASH SHORTAGE  |￥2,992         |￥331,471       |-0.15988% |-33.70589%|0.90%     \n",
      "  23| 227|Last Date      |￥459,774       |￥497,109       |-0.00255% |-0.57814% |92.49%    \n",
      "Eval num_timesteps=6000, episode_reward=-0.00 +/- 0.00\n",
      "Episode length: 228.00 +/- 0.00\n",
      "  19| 353|CASH SHORTAGE  |￥3,584         |￥385,859       |-0.10636% |-22.82820%|0.93%     \n",
      "  25| 227|Last Date      |￥454,829       |￥496,952       |-0.00269% |-0.60967% |91.52%    \n",
      "Eval num_timesteps=6500, episode_reward=-0.00 +/- 0.00\n",
      "Episode length: 228.00 +/- 0.00\n",
      "  20| 445|CASH SHORTAGE  |￥7,057         |￥549,807       |-0.02386% |9.96134%  |1.28%     \n",
      "  21| 263|CASH SHORTAGE  |￥827           |￥376,243       |-0.15071% |-24.75142%|0.22%     \n",
      "  27| 227|Last Date      |￥452,448       |￥496,778       |-0.00284% |-0.64433% |91.08%    \n",
      "Eval num_timesteps=7000, episode_reward=-0.00 +/- 0.00\n",
      "Episode length: 228.00 +/- 0.00\n",
      "  22| 302|CASH SHORTAGE  |￥7,433         |￥362,394       |-0.13421% |-27.52118%|2.05%     \n",
      "  29| 227|Last Date      |￥448,731       |￥497,130       |-0.00253% |-0.57395% |90.26%    \n",
      "Eval num_timesteps=7500, episode_reward=-0.00 +/- 0.00\n",
      "Episode length: 228.00 +/- 0.00\n",
      "  23| 354|CASH SHORTAGE  |￥1,404         |￥685,794       |0.02827%  |37.15881% |0.20%     \n",
      "  24| 320|CASH SHORTAGE  |￥13,425        |￥364,584       |-0.12182% |-27.08315%|3.68%     \n",
      "  31| 227|Last Date      |￥444,449       |￥497,450       |-0.00225% |-0.50991% |89.35%    \n",
      "Eval num_timesteps=8000, episode_reward=-0.00 +/- 0.00\n",
      "Episode length: 228.00 +/- 0.00\n",
      "  25| 499|update         |￥89,026        |￥657,313       |0.04614%  |31.46268% |13.54%    \n",
      "  25| 657|CASH SHORTAGE  |￥2,884         |￥644,405       |0.00560%  |28.88095% |0.45%     \n",
      "  33| 227|Last Date      |￥442,595       |￥498,399       |-0.00141% |-0.32028% |88.80%    \n",
      "Eval num_timesteps=8500, episode_reward=-0.00 +/- 0.00\n",
      "Episode length: 228.00 +/- 0.00\n",
      "  26| 283|CASH SHORTAGE  |￥2,773         |￥507,476       |-0.06448% |1.49529%  |0.55%     \n",
      "  35| 227|Last Date      |￥444,074       |￥497,925       |-0.00183% |-0.41495% |89.18%    \n",
      "Eval num_timesteps=9000, episode_reward=-0.00 +/- 0.00\n",
      "Episode length: 228.00 +/- 0.00\n",
      "  27| 331|CASH SHORTAGE  |￥163           |￥410,106       |-0.10378% |-17.97889%|0.04%     \n",
      "  28| 242|CASH SHORTAGE  |￥1,394         |￥380,563       |-0.16046% |-23.88749%|0.37%     \n",
      "  37| 227|Last Date      |￥445,542       |￥498,438       |-0.00138% |-0.31248% |89.39%    \n",
      "Eval num_timesteps=9500, episode_reward=-0.00 +/- 0.00\n",
      "Episode length: 228.00 +/- 0.00\n",
      "  29| 270|CASH SHORTAGE  |￥5,849         |￥379,847       |-0.14094% |-24.03065%|1.54%     \n",
      "  39| 227|Last Date      |￥445,063       |￥499,542       |-0.00040% |-0.09155% |89.09%    \n",
      "Eval num_timesteps=10000, episode_reward=-0.00 +/- 0.00\n",
      "Episode length: 228.00 +/- 0.00\n",
      "  30| 410|CASH SHORTAGE  |￥891           |￥668,129       |0.01727%  |33.62574% |0.13%     \n",
      "  31| 324|CASH SHORTAGE  |￥1,997         |￥631,137       |0.00426%  |26.22741% |0.32%     \n",
      "  41| 227|Last Date      |￥447,018       |￥500,402       |0.00035%  |0.08044%  |89.33%    \n",
      "Eval num_timesteps=10500, episode_reward=-0.00 +/- 0.00\n",
      "Episode length: 228.00 +/- 0.00\n",
      "  32| 346|CASH SHORTAGE  |￥2,895         |￥465,279       |-0.07219% |-6.94414% |0.62%     \n",
      "  33| 243|CASH SHORTAGE  |￥5,215         |￥418,980       |-0.13136% |-16.20399%|1.24%     \n",
      "  43| 227|Last Date      |￥448,514       |￥500,691       |0.00061%  |0.13814%  |89.58%    \n",
      "Eval num_timesteps=11000, episode_reward=-0.00 +/- 0.00\n",
      "Episode length: 228.00 +/- 0.00\n",
      "  34| 381|CASH SHORTAGE  |￥1,598         |￥366,676       |-0.10764% |-26.66489%|0.44%     \n",
      "  45| 227|Last Date      |￥453,185       |￥499,994       |-0.00001% |-0.00129% |90.64%    \n",
      "Eval num_timesteps=11500, episode_reward=-0.00 +/- 0.00\n",
      "Episode length: 228.00 +/- 0.00\n",
      "  35| 247|CASH SHORTAGE  |￥1,847         |￥433,572       |-0.12251% |-13.28558%|0.43%     \n",
      "  36| 342|CASH SHORTAGE  |￥4,196         |￥646,231       |0.01239%  |29.24616% |0.65%     \n",
      "  47| 227|Last Date      |￥448,933       |￥498,912       |-0.00096% |-0.21757% |89.98%    \n",
      "Eval num_timesteps=12000, episode_reward=-0.00 +/- 0.00\n",
      "Episode length: 228.00 +/- 0.00\n",
      "  37| 215|CASH SHORTAGE  |￥2,409         |￥386,904       |-0.17495% |-22.61923%|0.62%     \n",
      "  38| 322|CASH SHORTAGE  |￥3,635         |￥450,765       |-0.08432% |-9.84709% |0.81%     \n",
      "  49| 227|Last Date      |￥448,046       |￥498,722       |-0.00113% |-0.25553% |89.84%    \n",
      "Eval num_timesteps=12500, episode_reward=-0.00 +/- 0.00\n",
      "Episode length: 228.00 +/- 0.00\n",
      "  39| 432|CASH SHORTAGE  |￥9,275         |￥488,144       |-0.04639% |-2.37112% |1.90%     \n",
      "  51| 227|Last Date      |￥449,838       |￥499,714       |-0.00025% |-0.05716% |90.02%    \n",
      "Eval num_timesteps=13000, episode_reward=0.00 +/- 0.00\n",
      "Episode length: 228.00 +/- 0.00\n",
      "New best mean reward!\n"
     ]
    },
    {
     "name": "stdout",
     "output_type": "stream",
     "text": [
      "  40| 291|CASH SHORTAGE  |￥1,946         |￥501,941       |-0.06632% |0.38820%  |0.39%     \n",
      "  41| 206|CASH SHORTAGE  |￥7,704         |￥450,810       |-0.12781% |-9.83798% |1.71%     \n",
      "  53| 227|Last Date      |￥450,054       |￥501,073       |0.00095%  |0.21462%  |89.82%    \n",
      "Eval num_timesteps=13500, episode_reward=0.00 +/- 0.00\n",
      "Episode length: 228.00 +/- 0.00\n",
      "New best mean reward!\n",
      "  42| 287|CASH SHORTAGE  |￥3,348         |￥405,458       |-0.12006% |-18.90837%|0.83%     \n",
      "  55| 227|Last Date      |￥447,708       |￥501,622       |0.00143%  |0.32431%  |89.25%    \n",
      "Eval num_timesteps=14000, episode_reward=0.00 +/- 0.00\n",
      "Episode length: 228.00 +/- 0.00\n",
      "New best mean reward!\n",
      "  43| 406|CASH SHORTAGE  |￥2,524         |￥454,601       |-0.06591% |-9.07971% |0.56%     \n",
      "  44| 323|CASH SHORTAGE  |￥8,696         |￥332,534       |-0.13949% |-33.49320%|2.62%     \n",
      "  57| 227|Last Date      |￥448,418       |￥499,640       |-0.00032% |-0.07207% |89.75%    \n",
      "Eval num_timesteps=14500, episode_reward=0.00 +/- 0.00\n",
      "Episode length: 228.00 +/- 0.00\n",
      "  45| 220|CASH SHORTAGE  |￥9,326         |￥405,746       |-0.15098% |-18.85075%|2.30%     \n",
      "  46| 342|CASH SHORTAGE  |￥2             |￥628,603       |0.00169%  |25.72056% |0.00%     \n",
      "  59| 227|Last Date      |￥447,706       |￥499,593       |-0.00036% |-0.08146% |89.61%    \n",
      "Eval num_timesteps=15000, episode_reward=0.00 +/- 0.00\n",
      "Episode length: 228.00 +/- 0.00\n",
      "  47| 361|CASH SHORTAGE  |￥16,424        |￥764,794       |0.07106%  |52.95885% |2.15%     \n",
      "  61| 227|Last Date      |￥447,258       |￥499,598       |-0.00035% |-0.08047% |89.52%    \n",
      "Eval num_timesteps=15500, episode_reward=0.00 +/- 0.00\n",
      "Episode length: 228.00 +/- 0.00\n",
      "New best mean reward!\n",
      "  48| 259|CASH SHORTAGE  |￥14,832        |￥549,311       |-0.03530% |9.86230%  |2.70%     \n"
     ]
    },
    {
     "ename": "KeyboardInterrupt",
     "evalue": "",
     "output_type": "error",
     "traceback": [
      "\u001b[1;31m---------------------------------------------------------------------------\u001b[0m",
      "\u001b[1;31mKeyboardInterrupt\u001b[0m                         Traceback (most recent call last)",
      "\u001b[1;32m<ipython-input-27-2a587cf58363>\u001b[0m in \u001b[0;36m<module>\u001b[1;34m\u001b[0m\n\u001b[0;32m      4\u001b[0m             \u001b[0mlog_interval\u001b[0m \u001b[1;33m=\u001b[0m \u001b[1;36m1\u001b[0m\u001b[1;33m,\u001b[0m\u001b[1;33m\u001b[0m\u001b[1;33m\u001b[0m\u001b[0m\n\u001b[0;32m      5\u001b[0m             \u001b[0mtb_log_name\u001b[0m \u001b[1;33m=\u001b[0m \u001b[1;34m'env_cashpenalty_highlr'\u001b[0m\u001b[1;33m,\u001b[0m\u001b[1;33m\u001b[0m\u001b[1;33m\u001b[0m\u001b[0m\n\u001b[1;32m----> 6\u001b[1;33m             n_eval_episodes = 1)\n\u001b[0m",
      "\u001b[1;32md:\\soft\\python\\python37\\lib\\site-packages\\stable_baselines3\\ppo\\ppo.py\u001b[0m in \u001b[0;36mlearn\u001b[1;34m(self, total_timesteps, callback, log_interval, eval_env, eval_freq, n_eval_episodes, tb_log_name, eval_log_path, reset_num_timesteps)\u001b[0m\n\u001b[0;32m    306\u001b[0m             \u001b[0mtb_log_name\u001b[0m\u001b[1;33m=\u001b[0m\u001b[0mtb_log_name\u001b[0m\u001b[1;33m,\u001b[0m\u001b[1;33m\u001b[0m\u001b[1;33m\u001b[0m\u001b[0m\n\u001b[0;32m    307\u001b[0m             \u001b[0meval_log_path\u001b[0m\u001b[1;33m=\u001b[0m\u001b[0meval_log_path\u001b[0m\u001b[1;33m,\u001b[0m\u001b[1;33m\u001b[0m\u001b[1;33m\u001b[0m\u001b[0m\n\u001b[1;32m--> 308\u001b[1;33m             \u001b[0mreset_num_timesteps\u001b[0m\u001b[1;33m=\u001b[0m\u001b[0mreset_num_timesteps\u001b[0m\u001b[1;33m,\u001b[0m\u001b[1;33m\u001b[0m\u001b[1;33m\u001b[0m\u001b[0m\n\u001b[0m\u001b[0;32m    309\u001b[0m         )\n",
      "\u001b[1;32md:\\soft\\python\\python37\\lib\\site-packages\\stable_baselines3\\common\\on_policy_algorithm.py\u001b[0m in \u001b[0;36mlearn\u001b[1;34m(self, total_timesteps, callback, log_interval, eval_env, eval_freq, n_eval_episodes, tb_log_name, eval_log_path, reset_num_timesteps)\u001b[0m\n\u001b[0;32m    232\u001b[0m         \u001b[1;32mwhile\u001b[0m \u001b[0mself\u001b[0m\u001b[1;33m.\u001b[0m\u001b[0mnum_timesteps\u001b[0m \u001b[1;33m<\u001b[0m \u001b[0mtotal_timesteps\u001b[0m\u001b[1;33m:\u001b[0m\u001b[1;33m\u001b[0m\u001b[1;33m\u001b[0m\u001b[0m\n\u001b[0;32m    233\u001b[0m \u001b[1;33m\u001b[0m\u001b[0m\n\u001b[1;32m--> 234\u001b[1;33m             \u001b[0mcontinue_training\u001b[0m \u001b[1;33m=\u001b[0m \u001b[0mself\u001b[0m\u001b[1;33m.\u001b[0m\u001b[0mcollect_rollouts\u001b[0m\u001b[1;33m(\u001b[0m\u001b[0mself\u001b[0m\u001b[1;33m.\u001b[0m\u001b[0menv\u001b[0m\u001b[1;33m,\u001b[0m \u001b[0mcallback\u001b[0m\u001b[1;33m,\u001b[0m \u001b[0mself\u001b[0m\u001b[1;33m.\u001b[0m\u001b[0mrollout_buffer\u001b[0m\u001b[1;33m,\u001b[0m \u001b[0mn_rollout_steps\u001b[0m\u001b[1;33m=\u001b[0m\u001b[0mself\u001b[0m\u001b[1;33m.\u001b[0m\u001b[0mn_steps\u001b[0m\u001b[1;33m)\u001b[0m\u001b[1;33m\u001b[0m\u001b[1;33m\u001b[0m\u001b[0m\n\u001b[0m\u001b[0;32m    235\u001b[0m \u001b[1;33m\u001b[0m\u001b[0m\n\u001b[0;32m    236\u001b[0m             \u001b[1;32mif\u001b[0m \u001b[0mcontinue_training\u001b[0m \u001b[1;32mis\u001b[0m \u001b[1;32mFalse\u001b[0m\u001b[1;33m:\u001b[0m\u001b[1;33m\u001b[0m\u001b[1;33m\u001b[0m\u001b[0m\n",
      "\u001b[1;32md:\\soft\\python\\python37\\lib\\site-packages\\stable_baselines3\\common\\on_policy_algorithm.py\u001b[0m in \u001b[0;36mcollect_rollouts\u001b[1;34m(self, env, callback, rollout_buffer, n_rollout_steps)\u001b[0m\n\u001b[0;32m    188\u001b[0m                 \u001b[1;31m# Reshape in case of discrete action\u001b[0m\u001b[1;33m\u001b[0m\u001b[1;33m\u001b[0m\u001b[1;33m\u001b[0m\u001b[0m\n\u001b[0;32m    189\u001b[0m                 \u001b[0mactions\u001b[0m \u001b[1;33m=\u001b[0m \u001b[0mactions\u001b[0m\u001b[1;33m.\u001b[0m\u001b[0mreshape\u001b[0m\u001b[1;33m(\u001b[0m\u001b[1;33m-\u001b[0m\u001b[1;36m1\u001b[0m\u001b[1;33m,\u001b[0m \u001b[1;36m1\u001b[0m\u001b[1;33m)\u001b[0m\u001b[1;33m\u001b[0m\u001b[1;33m\u001b[0m\u001b[0m\n\u001b[1;32m--> 190\u001b[1;33m             \u001b[0mrollout_buffer\u001b[0m\u001b[1;33m.\u001b[0m\u001b[0madd\u001b[0m\u001b[1;33m(\u001b[0m\u001b[0mself\u001b[0m\u001b[1;33m.\u001b[0m\u001b[0m_last_obs\u001b[0m\u001b[1;33m,\u001b[0m \u001b[0mactions\u001b[0m\u001b[1;33m,\u001b[0m \u001b[0mrewards\u001b[0m\u001b[1;33m,\u001b[0m \u001b[0mself\u001b[0m\u001b[1;33m.\u001b[0m\u001b[0m_last_episode_starts\u001b[0m\u001b[1;33m,\u001b[0m \u001b[0mvalues\u001b[0m\u001b[1;33m,\u001b[0m \u001b[0mlog_probs\u001b[0m\u001b[1;33m)\u001b[0m\u001b[1;33m\u001b[0m\u001b[1;33m\u001b[0m\u001b[0m\n\u001b[0m\u001b[0;32m    191\u001b[0m             \u001b[0mself\u001b[0m\u001b[1;33m.\u001b[0m\u001b[0m_last_obs\u001b[0m \u001b[1;33m=\u001b[0m \u001b[0mnew_obs\u001b[0m\u001b[1;33m\u001b[0m\u001b[1;33m\u001b[0m\u001b[0m\n\u001b[0;32m    192\u001b[0m             \u001b[0mself\u001b[0m\u001b[1;33m.\u001b[0m\u001b[0m_last_episode_starts\u001b[0m \u001b[1;33m=\u001b[0m \u001b[0mdones\u001b[0m\u001b[1;33m\u001b[0m\u001b[1;33m\u001b[0m\u001b[0m\n",
      "\u001b[1;32md:\\soft\\python\\python37\\lib\\site-packages\\stable_baselines3\\common\\buffers.py\u001b[0m in \u001b[0;36madd\u001b[1;34m(self, obs, action, reward, episode_start, value, log_prob)\u001b[0m\n\u001b[0;32m    417\u001b[0m         \u001b[0mself\u001b[0m\u001b[1;33m.\u001b[0m\u001b[0mrewards\u001b[0m\u001b[1;33m[\u001b[0m\u001b[0mself\u001b[0m\u001b[1;33m.\u001b[0m\u001b[0mpos\u001b[0m\u001b[1;33m]\u001b[0m \u001b[1;33m=\u001b[0m \u001b[0mnp\u001b[0m\u001b[1;33m.\u001b[0m\u001b[0marray\u001b[0m\u001b[1;33m(\u001b[0m\u001b[0mreward\u001b[0m\u001b[1;33m)\u001b[0m\u001b[1;33m.\u001b[0m\u001b[0mcopy\u001b[0m\u001b[1;33m(\u001b[0m\u001b[1;33m)\u001b[0m\u001b[1;33m\u001b[0m\u001b[1;33m\u001b[0m\u001b[0m\n\u001b[0;32m    418\u001b[0m         \u001b[0mself\u001b[0m\u001b[1;33m.\u001b[0m\u001b[0mepisode_starts\u001b[0m\u001b[1;33m[\u001b[0m\u001b[0mself\u001b[0m\u001b[1;33m.\u001b[0m\u001b[0mpos\u001b[0m\u001b[1;33m]\u001b[0m \u001b[1;33m=\u001b[0m \u001b[0mnp\u001b[0m\u001b[1;33m.\u001b[0m\u001b[0marray\u001b[0m\u001b[1;33m(\u001b[0m\u001b[0mepisode_start\u001b[0m\u001b[1;33m)\u001b[0m\u001b[1;33m.\u001b[0m\u001b[0mcopy\u001b[0m\u001b[1;33m(\u001b[0m\u001b[1;33m)\u001b[0m\u001b[1;33m\u001b[0m\u001b[1;33m\u001b[0m\u001b[0m\n\u001b[1;32m--> 419\u001b[1;33m         \u001b[0mself\u001b[0m\u001b[1;33m.\u001b[0m\u001b[0mvalues\u001b[0m\u001b[1;33m[\u001b[0m\u001b[0mself\u001b[0m\u001b[1;33m.\u001b[0m\u001b[0mpos\u001b[0m\u001b[1;33m]\u001b[0m \u001b[1;33m=\u001b[0m \u001b[0mvalue\u001b[0m\u001b[1;33m.\u001b[0m\u001b[0mclone\u001b[0m\u001b[1;33m(\u001b[0m\u001b[1;33m)\u001b[0m\u001b[1;33m.\u001b[0m\u001b[0mcpu\u001b[0m\u001b[1;33m(\u001b[0m\u001b[1;33m)\u001b[0m\u001b[1;33m.\u001b[0m\u001b[0mnumpy\u001b[0m\u001b[1;33m(\u001b[0m\u001b[1;33m)\u001b[0m\u001b[1;33m.\u001b[0m\u001b[0mflatten\u001b[0m\u001b[1;33m(\u001b[0m\u001b[1;33m)\u001b[0m\u001b[1;33m\u001b[0m\u001b[1;33m\u001b[0m\u001b[0m\n\u001b[0m\u001b[0;32m    420\u001b[0m         \u001b[0mself\u001b[0m\u001b[1;33m.\u001b[0m\u001b[0mlog_probs\u001b[0m\u001b[1;33m[\u001b[0m\u001b[0mself\u001b[0m\u001b[1;33m.\u001b[0m\u001b[0mpos\u001b[0m\u001b[1;33m]\u001b[0m \u001b[1;33m=\u001b[0m \u001b[0mlog_prob\u001b[0m\u001b[1;33m.\u001b[0m\u001b[0mclone\u001b[0m\u001b[1;33m(\u001b[0m\u001b[1;33m)\u001b[0m\u001b[1;33m.\u001b[0m\u001b[0mcpu\u001b[0m\u001b[1;33m(\u001b[0m\u001b[1;33m)\u001b[0m\u001b[1;33m.\u001b[0m\u001b[0mnumpy\u001b[0m\u001b[1;33m(\u001b[0m\u001b[1;33m)\u001b[0m\u001b[1;33m\u001b[0m\u001b[1;33m\u001b[0m\u001b[0m\n\u001b[0;32m    421\u001b[0m         \u001b[0mself\u001b[0m\u001b[1;33m.\u001b[0m\u001b[0mpos\u001b[0m \u001b[1;33m+=\u001b[0m \u001b[1;36m1\u001b[0m\u001b[1;33m\u001b[0m\u001b[1;33m\u001b[0m\u001b[0m\n",
      "\u001b[1;31mKeyboardInterrupt\u001b[0m: "
     ]
    }
   ],
   "source": [
    "model.learn(total_timesteps = 5000000, \n",
    "            eval_env = env_trade, \n",
    "            eval_freq = 500, \n",
    "            log_interval = 1, \n",
    "            tb_log_name = 'env_cashpenalty_highlr', \n",
    "            n_eval_episodes = 1)"
   ]
  },
  {
   "cell_type": "code",
   "execution_count": null,
   "metadata": {
    "id": "9Jbf8TQq3fEc"
   },
   "outputs": [],
   "source": [
    "model.save(\"different1_24.model\")"
   ]
  },
  {
   "cell_type": "markdown",
   "metadata": {
    "id": "U5mmgQF_h1jQ"
   },
   "source": [
    "### Trade\n",
    "\n",
    "DRL model needs to update periodically in order to take full advantage of the data, ideally we need to retrain our model yearly, quarterly, or monthly. We also need to tune the parameters along the way, in this notebook I only use the in-sample data from 2009-01 to 2018-12 to tune the parameters once, so there is some alpha decay here as the length of trade date extends. \n",
    "\n",
    "Numerous hyperparameters – e.g. the learning rate, the total number of samples to train on – influence the learning process and are usually determined by testing some variations."
   ]
  },
  {
   "cell_type": "code",
   "execution_count": null,
   "metadata": {
    "id": "gABFy6u03fEc",
    "outputId": "ddc30b52-0746-486c-b98d-4a41071fb1fd"
   },
   "outputs": [],
   "source": [
    "trade.head()"
   ]
  },
  {
   "cell_type": "code",
   "execution_count": null,
   "metadata": {
    "id": "eLOnL5eYh1jR"
   },
   "outputs": [],
   "source": [
    "e_trade_gym.hmax = 5000"
   ]
  },
  {
   "cell_type": "code",
   "execution_count": null,
   "metadata": {
    "id": "Bq9BaTCQ3fEc",
    "outputId": "9db151c8-e2ce-4ac2-b176-7469d9af6f4d"
   },
   "outputs": [],
   "source": [
    "print(len(e_trade_gym.dates))"
   ]
  },
  {
   "cell_type": "code",
   "execution_count": null,
   "metadata": {
    "id": "WlDYBI9e3fEd",
    "outputId": "98d94151-ffc9-4121-aabb-c58c7b1e46d3"
   },
   "outputs": [],
   "source": [
    "df_account_value, df_actions = DRLAgent.DRL_prediction(model=model,environment = e_trade_gym)"
   ]
  },
  {
   "cell_type": "code",
   "execution_count": null,
   "metadata": {
    "id": "PzEigeLB3fEd",
    "outputId": "9b997eb8-c2a9-4dcd-c899-68bb09286045"
   },
   "outputs": [],
   "source": [
    "df_actions.head()"
   ]
  },
  {
   "cell_type": "code",
   "execution_count": null,
   "metadata": {
    "colab": {
     "base_uri": "https://localhost:8080/"
    },
    "id": "ERxw3KqLkcP4",
    "outputId": "cbb465c9-38dc-4d88-e79a-6ae29025164b"
   },
   "outputs": [],
   "source": [
    "df_account_value.shape"
   ]
  },
  {
   "cell_type": "code",
   "execution_count": null,
   "metadata": {
    "colab": {
     "base_uri": "https://localhost:8080/",
     "height": 194
    },
    "id": "2yRkNguY5yvp",
    "outputId": "53ec139f-88e7-4291-cf11-8e6766184265"
   },
   "outputs": [],
   "source": [
    "df_account_value.head(50)"
   ]
  },
  {
   "cell_type": "markdown",
   "metadata": {
    "id": "W6vvNSC6h1jZ"
   },
   "source": [
    "<a id='6'></a>\n",
    "# Part 7: Backtest Our Strategy\n",
    "Backtesting plays a key role in evaluating the performance of a trading strategy. Automated backtesting tool is preferred because it reduces the human error. We usually use the Quantopian pyfolio package to backtest our trading strategies. It is easy to use and consists of various individual plots that provide a comprehensive image of the performance of a trading strategy."
   ]
  },
  {
   "cell_type": "markdown",
   "metadata": {
    "id": "Lr2zX7ZxNyFQ"
   },
   "source": [
    "<a id='6.1'></a>\n",
    "## 7.1 BackTestStats\n",
    "pass in df_account_value, this information is stored in env class\n"
   ]
  },
  {
   "cell_type": "code",
   "execution_count": null,
   "metadata": {
    "colab": {
     "base_uri": "https://localhost:8080/"
    },
    "id": "Nzkr9yv-AdV_",
    "outputId": "1053083a-d74c-48b0-a623-de33282e2fff"
   },
   "outputs": [],
   "source": [
    "print(\"==============Get Backtest Results===========\")\n",
    "perf_stats_all = backtest_stats(account_value=df_account_value, value_col_name = 'total_assets')"
   ]
  },
  {
   "cell_type": "markdown",
   "metadata": {
    "id": "9U6Suru3h1jc"
   },
   "source": [
    "<a id='6.2'></a>\n",
    "## 7.2 BackTestPlot"
   ]
  },
  {
   "cell_type": "code",
   "execution_count": null,
   "metadata": {
    "colab": {
     "base_uri": "https://localhost:8080/",
     "height": 1000
    },
    "id": "lKRGftSS7pNM",
    "outputId": "4f77cef2-3934-444a-cacc-4ed8f94514ae"
   },
   "outputs": [],
   "source": [
    "print(\"==============Compare to DJIA===========\")\n",
    "%matplotlib inline\n",
    "# S&P 500: ^GSPC\n",
    "# Dow Jones Index: ^DJI\n",
    "# NASDAQ 100: ^NDX\n",
    "backtest_plot(df_account_value, \n",
    "             baseline_ticker = '^DJI', \n",
    "             baseline_start = '2016-01-01',\n",
    "             baseline_end = '2021-01-01', value_col_name = 'total_assets')"
   ]
  },
  {
   "cell_type": "code",
   "execution_count": null,
   "metadata": {
    "id": "-AXVQiMZ3fEe"
   },
   "outputs": [],
   "source": []
  }
 ],
 "metadata": {
  "colab": {
   "collapsed_sections": [
    "uijiWgkuh1jB"
   ],
   "name": "tutorial_env_multistock_cashpenalty.ipynb",
   "provenance": [],
   "toc_visible": true
  },
  "kernelspec": {
   "display_name": "Python 3",
   "language": "python",
   "name": "python3"
  },
  "language_info": {
   "codemirror_mode": {
    "name": "ipython",
    "version": 3
   },
   "file_extension": ".py",
   "mimetype": "text/x-python",
   "name": "python",
   "nbconvert_exporter": "python",
   "pygments_lexer": "ipython3",
   "version": "3.7.9"
  },
  "pycharm": {
   "stem_cell": {
    "cell_type": "raw",
    "metadata": {
     "collapsed": false
    },
    "source": []
   }
  }
 },
 "nbformat": 4,
 "nbformat_minor": 1
}
