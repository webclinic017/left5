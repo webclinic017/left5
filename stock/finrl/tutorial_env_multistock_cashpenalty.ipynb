{
 "cells": [
  {
   "cell_type": "markdown",
   "metadata": {
    "id": "gXaoZs2lh1hi"
   },
   "source": [
    "# Deep Reinforcement Learning for Stock Trading from Scratch: Multiple Stock Trading\n",
    "\n",
    "Tutorials to use OpenAI DRL to trade multiple stocks in one Jupyter Notebook | Presented at NeurIPS 2020: Deep RL Workshop\n",
    "\n",
    "* This blog is based on our paper: FinRL: A Deep Reinforcement Learning Library for Automated Stock Trading in Quantitative Finance, presented at NeurIPS 2020: Deep RL Workshop.\n",
    "* Check out medium blog for detailed explanations: https://towardsdatascience.com/finrl-for-quantitative-finance-tutorial-for-multiple-stock-trading-7b00763b7530\n",
    "* Please report any issues to our Github: https://github.com/AI4Finance-LLC/FinRL-Library/issues\n",
    "* **Pytorch Version** \n",
    "\n"
   ]
  },
  {
   "cell_type": "markdown",
   "metadata": {
    "id": "lGunVt8oLCVS"
   },
   "source": [
    "# Content"
   ]
  },
  {
   "cell_type": "markdown",
   "metadata": {
    "id": "HOzAKQ-SLGX6"
   },
   "source": [
    "* [1. Problem Definition](#0)\n",
    "* [2. Getting Started - Load Python packages](#1)\n",
    "    * [2.1. Install Packages](#1.1)    \n",
    "    * [2.2. Check Additional Packages](#1.2)\n",
    "    * [2.3. Import Packages](#1.3)\n",
    "    * [2.4. Create Folders](#1.4)\n",
    "* [3. Download Data](#2)\n",
    "* [4. Preprocess Data](#3)        \n",
    "    * [4.1. Technical Indicators](#3.1)\n",
    "    * [4.2. Perform Feature Engineering](#3.2)\n",
    "* [5.Build Environment](#4)  \n",
    "    * [5.1. Training & Trade Data Split](#4.1)\n",
    "    * [5.2. User-defined Environment](#4.2)   \n",
    "    * [5.3. Initialize Environment](#4.3)    \n",
    "* [6.Implement DRL Algorithms](#5)  \n",
    "* [7.Backtesting Performance](#6)  \n",
    "    * [7.1. BackTestStats](#6.1)\n",
    "    * [7.2. BackTestPlot](#6.2)   \n",
    "    * [7.3. Baseline Stats](#6.3)   \n",
    "    * [7.3. Compare to Stock Market Index](#6.4)             "
   ]
  },
  {
   "cell_type": "markdown",
   "metadata": {
    "id": "sApkDlD9LIZv"
   },
   "source": [
    "<a id='0'></a>\n",
    "# Part 1. Problem Definition"
   ]
  },
  {
   "cell_type": "markdown",
   "metadata": {
    "id": "HjLD2TZSLKZ-"
   },
   "source": [
    "This problem is to design an automated trading solution for single stock trading. We model the stock trading process as a Markov Decision Process (MDP). We then formulate our trading goal as a maximization problem.\n",
    "\n",
    "The algorithm is trained using Deep Reinforcement Learning (DRL) algorithms and the components of the reinforcement learning environment are:\n",
    "\n",
    "\n",
    "* Action: The action space describes the allowed actions that the agent interacts with the\n",
    "environment. Normally, a ∈ A includes three actions: a ∈ {−1, 0, 1}, where −1, 0, 1 represent\n",
    "selling, holding, and buying one stock. Also, an action can be carried upon multiple shares. We use\n",
    "an action space {−k, ..., −1, 0, 1, ..., k}, where k denotes the number of shares. For example, \"Buy\n",
    "10 shares of AAPL\" or \"Sell 10 shares of AAPL\" are 10 or −10, respectively\n",
    "\n",
    "* Reward function: r(s, a, s′) is the incentive mechanism for an agent to learn a better action. The change of the portfolio value when action a is taken at state s and arriving at new state s',  i.e., r(s, a, s′) = v′ − v, where v′ and v represent the portfolio\n",
    "values at state s′ and s, respectively\n",
    "\n",
    "* State: The state space describes the observations that the agent receives from the environment. Just as a human trader needs to analyze various information before executing a trade, so\n",
    "our trading agent observes many different features to better learn in an interactive environment.\n",
    "\n",
    "* Environment: Dow 30 consituents\n",
    "\n",
    "\n",
    "The data of the single stock that we will be using for this case study is obtained from Yahoo Finance API. The data contains Open-High-Low-Close price and volume.\n"
   ]
  },
  {
   "cell_type": "markdown",
   "metadata": {
    "id": "Ffsre789LY08"
   },
   "source": [
    "<a id='1'></a>\n",
    "# Part 2. Getting Started- ASSUMES USING DOCKER, see readme for instructions"
   ]
  },
  {
   "cell_type": "markdown",
   "metadata": {
    "id": "Uy5_PTmOh1hj"
   },
   "source": [
    "<a id='1.1'></a>\n",
    "## 2.1. Add FinRL to your path. You can of course install it as a pipy package, but this is for development purposes.\n"
   ]
  },
  {
   "cell_type": "code",
   "execution_count": 1,
   "metadata": {
    "id": "mPT0ipYE28wL"
   },
   "outputs": [],
   "source": [
    "# import sys\n",
    "\n",
    "# sys.path.append(\"..\")"
   ]
  },
  {
   "cell_type": "code",
   "execution_count": 2,
   "metadata": {
    "id": "0J6czZ7R3fEV",
    "outputId": "8e497b92-973a-43bb-a4f2-e863b8daf918"
   },
   "outputs": [],
   "source": [
    "# import pandas as pd\n",
    "# print(pd.__version__)"
   ]
  },
  {
   "cell_type": "markdown",
   "metadata": {
    "id": "osBHhVysOEzi"
   },
   "source": [
    "\n",
    "<a id='1.2'></a>\n",
    "## 2.2. Check if the additional packages needed are present, if not install them. \n",
    "* Yahoo Finance API\n",
    "* pandas\n",
    "* numpy\n",
    "* matplotlib\n",
    "* stockstats\n",
    "* OpenAI gym\n",
    "* stable-baselines\n",
    "* tensorflow\n",
    "* pyfolio"
   ]
  },
  {
   "cell_type": "markdown",
   "metadata": {
    "id": "nGv01K8Sh1hn"
   },
   "source": [
    "<a id='1.3'></a>\n",
    "## 2.3. Import Packages"
   ]
  },
  {
   "cell_type": "code",
   "execution_count": 3,
   "metadata": {
    "id": "lPqeTTwoh1hn"
   },
   "outputs": [
    {
     "name": "stderr",
     "output_type": "stream",
     "text": [
      "d:\\code\\python\\pyfolio\\pyfolio\\pos.py:27: UserWarning: Module \"zipline.assets\" not found; multipliers will not be applied to position notionals.\n",
      "  'Module \"zipline.assets\" not found; multipliers will not be applied'\n"
     ]
    },
    {
     "name": "stdout",
     "output_type": "stream",
     "text": [
      "Logging to /home/l/code/python/log\n"
     ]
    }
   ],
   "source": [
    "import pandas as pd\n",
    "import numpy as np\n",
    "import matplotlib\n",
    "import matplotlib.pyplot as plt\n",
    "matplotlib.use('Agg')\n",
    "%matplotlib inline\n",
    "import datetime\n",
    "\n",
    "from finrl.apps import config\n",
    "from finrl.finrl_meta.preprocessor.yahoodownloader import YahooDownloader\n",
    "from finrl.finrl_meta.preprocessor.preprocessors import FeatureEngineer, data_split\n",
    "# from finrl.finrl_meta.env_stock_trading.env_stocktrading_cashpenalty import StockTradingEnvCashpenalty\\\n",
    "# from finrl.finrl_meta.env_stock_trading.env_stocktrading_cashpenalty2 import StockTradingEnvCashpenalty\n",
    "from finrl.drl_agents.stablebaselines3.models import DRLAgent\n",
    "from finrl.plot import backtest_stats, backtest_plot, get_daily_return, get_baseline,convert_daily_return_to_pyfolio_ts\n",
    "from finrl.plot import backtest_plot_tdx\n",
    "\n",
    "from lutils.stock.env.env_stocktrading_cashpenalty import StockTradingEnvCashpenalty\n",
    "\n",
    "# import sys\n",
    "# sys.path.append(\"../FinRL-Library\")"
   ]
  },
  {
   "cell_type": "code",
   "execution_count": 4,
   "metadata": {},
   "outputs": [],
   "source": [
    "from lutils.stock import LTdxHq"
   ]
  },
  {
   "cell_type": "markdown",
   "metadata": {
    "id": "T2owTj985RW4"
   },
   "source": [
    "<a id='1.4'></a>\n",
    "## 2.4. Create Folders"
   ]
  },
  {
   "cell_type": "code",
   "execution_count": 5,
   "metadata": {
    "id": "w9A8CN5R5PuZ"
   },
   "outputs": [],
   "source": [
    "import os\n",
    "if not os.path.exists(\"./\" + config.DATA_SAVE_DIR):\n",
    "    os.makedirs(\"./\" + config.DATA_SAVE_DIR)\n",
    "if not os.path.exists(\"./\" + config.TRAINED_MODEL_DIR):\n",
    "    os.makedirs(\"./\" + config.TRAINED_MODEL_DIR)\n",
    "if not os.path.exists(\"./\" + config.TENSORBOARD_LOG_DIR):\n",
    "    os.makedirs(\"./\" + config.TENSORBOARD_LOG_DIR)\n",
    "if not os.path.exists(\"./\" + config.RESULTS_DIR):\n",
    "    os.makedirs(\"./\" + config.RESULTS_DIR)"
   ]
  },
  {
   "cell_type": "markdown",
   "metadata": {
    "id": "A289rQWMh1hq"
   },
   "source": [
    "<a id='2'></a>\n",
    "# Part 3. Download Data\n",
    "Yahoo Finance is a website that provides stock data, financial news, financial reports, etc. All the data provided by Yahoo Finance is free.\n",
    "* FinRL uses a class **YahooDownloader** to fetch data from Yahoo Finance API\n",
    "* Call Limit: Using the Public API (without authentication), you are limited to 2,000 requests per hour per IP (or up to a total of 48,000 requests a day).\n"
   ]
  },
  {
   "cell_type": "markdown",
   "metadata": {
    "id": "NPeQ7iS-LoMm"
   },
   "source": [
    "\n",
    "\n",
    "-----\n",
    "class YahooDownloader:\n",
    "    Provides methods for retrieving daily stock data from\n",
    "    Yahoo Finance API\n",
    "\n",
    "    Attributes\n",
    "    ----------\n",
    "        start_date : str\n",
    "            start date of the data (modified from config.py)\n",
    "        end_date : str\n",
    "            end date of the data (modified from config.py)\n",
    "        ticker_list : list\n",
    "            a list of stock tickers (modified from config.py)\n",
    "\n",
    "    Methods\n",
    "    -------\n",
    "    fetch_data()\n",
    "        Fetches data from yahoo API\n"
   ]
  },
  {
   "cell_type": "code",
   "execution_count": 6,
   "metadata": {
    "colab": {
     "base_uri": "https://localhost:8080/",
     "height": 35
    },
    "id": "h3XJnvrbLp-C",
    "outputId": "87dea23f-469d-4e9d-de91-0f8a74929de2"
   },
   "outputs": [],
   "source": [
    "# from config.py start_date is a string\n",
    "# config.START_DATE"
   ]
  },
  {
   "cell_type": "code",
   "execution_count": 7,
   "metadata": {
    "colab": {
     "base_uri": "https://localhost:8080/",
     "height": 35
    },
    "id": "FUnY8WEfLq3C",
    "outputId": "c635ae69-a13e-408f-d932-9d386d1d6dcf"
   },
   "outputs": [],
   "source": [
    "# from config.py end_date is a string\n",
    "# config.END_DATE"
   ]
  },
  {
   "cell_type": "code",
   "execution_count": 8,
   "metadata": {
    "colab": {
     "base_uri": "https://localhost:8080/"
    },
    "id": "JzqRRTOX6aFu",
    "outputId": "d3baf63f-948a-49f9-f6f2-b7241971b8ea"
   },
   "outputs": [],
   "source": [
    "# # print(config.DOW_30_TICKER)\n",
    "# stock_codes = ['600603', '600583', '600582', '600565', '600558', \n",
    "#                '600551', '600509', '600503', '600488', '600469', \n",
    "#                '600439', '600433', '600428', ]#'600425', '600387', ]\n",
    "# #                '600383', '600382', '600369', '600339', '600337', ]\n",
    "# #                '600335', '600326', '600320', '600312', '002666', \n",
    "# #                '002654', '002641', '002628', '002627', '002620', \n",
    "# #                '002608', '002593', '002586', '002582', '002566', '002560',]"
   ]
  },
  {
   "cell_type": "code",
   "execution_count": 9,
   "metadata": {},
   "outputs": [],
   "source": [
    "stock_codes = ['000921', '600365', '000609', '601868', '002372', '001965']"
   ]
  },
  {
   "cell_type": "code",
   "execution_count": 10,
   "metadata": {
    "colab": {
     "base_uri": "https://localhost:8080/"
    },
    "id": "yCKm4om-s9kE",
    "outputId": "932583d8-f98b-4243-c02d-375f7272db1a"
   },
   "outputs": [],
   "source": [
    "# df = YahooDownloader(start_date = '2009-01-01',\n",
    "#                      end_date = '2021-12-13',\n",
    "#                      ticker_list = config.DOW_30_TICKER).fetch_data()"
   ]
  },
  {
   "cell_type": "code",
   "execution_count": 11,
   "metadata": {},
   "outputs": [
    {
     "name": "stdout",
     "output_type": "stream",
     "text": [
      "----------- over 000921 2010-01-04 00:00:00 -----------\n",
      "----------- over 600365 2010-01-04 00:00:00 -----------\n",
      "----------- over 000609 2010-01-04 00:00:00 -----------\n",
      "----------- over 601868 2021-09-28 00:00:00 -----------\n",
      "----------- over 002372 2010-03-18 00:00:00 -----------\n",
      "----------- over 001965 2017-12-25 00:00:00 -----------\n"
     ]
    }
   ],
   "source": [
    "ltdxhq = LTdxHq()\n",
    "\n",
    "indexs = None\n",
    "dfs = []\n",
    "for code in stock_codes:\n",
    "    df = ltdxhq.get_k_data_daily(code, start='2010-01-01')\n",
    "    \n",
    "    if indexs is None:\n",
    "        indexs = df.index\n",
    "    else:\n",
    "        indexs = indexs.union(df.index)\n",
    "    \n",
    "#     df = df.assign(date = df.index)\n",
    "#     df = df.assign(day = df.index.weekday)\n",
    "#     df.date = df.date.dt.strftime('%Y-%m-%d')\n",
    "    df = df.assign(tic = code)\n",
    "#     df.index = range(df.shape[0])\n",
    "    \n",
    "    dfs.append(df)\n",
    "    print('----------- over %s %s -----------' % (code, df.index.min()))\n",
    "\n",
    "for i, df in enumerate(dfs):\n",
    "    df = df.reindex(indexs)\n",
    "    df = df.assign(date = df.index)\n",
    "    df = df.assign(day = df.index.weekday)\n",
    "    df.index = range(df.shape[0])\n",
    "    \n",
    "    dfs[i] = df.ffill()\n",
    "    \n",
    "df = pd.concat(dfs)\n",
    "# df.index = range(df.shape[0])\n",
    "\n",
    "ltdxhq.close()"
   ]
  },
  {
   "cell_type": "code",
   "execution_count": 12,
   "metadata": {},
   "outputs": [],
   "source": [
    "# df1 = dfs[0].reindex(indexs)\n",
    "# df2 = dfs[1].reindex(indexs)"
   ]
  },
  {
   "cell_type": "code",
   "execution_count": 13,
   "metadata": {},
   "outputs": [],
   "source": [
    "# df1.ffill()['2010-01-02':]"
   ]
  },
  {
   "cell_type": "code",
   "execution_count": 14,
   "metadata": {},
   "outputs": [],
   "source": [
    "# df3 = df2.ffill()"
   ]
  },
  {
   "cell_type": "code",
   "execution_count": 15,
   "metadata": {},
   "outputs": [],
   "source": [
    "# dfs[1][dfs[-3].close.isna()]"
   ]
  },
  {
   "cell_type": "code",
   "execution_count": 16,
   "metadata": {},
   "outputs": [],
   "source": [
    "# def clean_data(data):\n",
    "#     df = data.copy()\n",
    "#     df = df.sort_values([\"date\", \"tic\"], ignore_index=True)\n",
    "#     df.index = df.date.factorize()[0]\n",
    "#     merged_closes = df.pivot_table(index=\"date\", columns=\"tic\", values=\"close\")\n",
    "# #     print(merged_closes)\n",
    "# #     merged_closes = merged_closes.dropna(axis=1)\n",
    "# #     print(merged_closes)\n",
    "#     tics = merged_closes.columns\n",
    "# #     print(tics)\n",
    "#     df = df[df.tic.isin(tics)]\n",
    "# #     print(df)\n",
    "#     return df"
   ]
  },
  {
   "cell_type": "code",
   "execution_count": 17,
   "metadata": {},
   "outputs": [],
   "source": [
    "# print(clean_data(df))"
   ]
  },
  {
   "cell_type": "markdown",
   "metadata": {
    "id": "uqC6c40Zh1iH"
   },
   "source": [
    "# Part 4: Preprocess Data\n",
    "Data preprocessing is a crucial step for training a high quality machine learning model. We need to check for missing data and do feature engineering in order to convert the data into a model-ready state.\n",
    "* Add technical indicators. In practical trading, various information needs to be taken into account, for example the historical stock prices, current holding shares, technical indicators, etc. In this article, we demonstrate two trend-following technical indicators: MACD and RSI.\n",
    "* Add turbulence index. Risk-aversion reflects whether an investor will choose to preserve the capital. It also influences one's trading strategy when facing different market volatility level. To control the risk in a worst-case scenario, such as financial crisis of 2007–2008, FinRL employs the financial turbulence index that measures extreme asset price fluctuation."
   ]
  },
  {
   "cell_type": "code",
   "execution_count": 18,
   "metadata": {
    "id": "xzijKkDF3fEY",
    "jupyter": {
     "outputs_hidden": false
    },
    "outputId": "ceecf280-820c-4aa3-bb55-018a082fab11",
    "pycharm": {
     "name": "#%%\n"
    }
   },
   "outputs": [
    {
     "name": "stdout",
     "output_type": "stream",
     "text": [
      "Successfully added technical indicators\n"
     ]
    }
   ],
   "source": [
    "fe = FeatureEngineer(\n",
    "                    use_technical_indicator=True,\n",
    "                    tech_indicator_list = config.TECHNICAL_INDICATORS_LIST,\n",
    "                    use_turbulence=False,\n",
    "                    user_defined_feature = False)\n",
    "\n",
    "processed = fe.preprocess_data(df)"
   ]
  },
  {
   "cell_type": "code",
   "execution_count": 19,
   "metadata": {
    "id": "BbYbbrZA3fEY",
    "outputId": "737c6f91-cab9-4742-c46b-541afae11bb0"
   },
   "outputs": [
    {
     "data": {
      "text/html": [
       "<div>\n",
       "<style scoped>\n",
       "    .dataframe tbody tr th:only-of-type {\n",
       "        vertical-align: middle;\n",
       "    }\n",
       "\n",
       "    .dataframe tbody tr th {\n",
       "        vertical-align: top;\n",
       "    }\n",
       "\n",
       "    .dataframe thead th {\n",
       "        text-align: right;\n",
       "    }\n",
       "</style>\n",
       "<table border=\"1\" class=\"dataframe\">\n",
       "  <thead>\n",
       "    <tr style=\"text-align: right;\">\n",
       "      <th></th>\n",
       "      <th>open</th>\n",
       "      <th>close</th>\n",
       "      <th>high</th>\n",
       "      <th>low</th>\n",
       "      <th>volume</th>\n",
       "      <th>amount</th>\n",
       "      <th>tic</th>\n",
       "      <th>date</th>\n",
       "      <th>day</th>\n",
       "      <th>macd</th>\n",
       "      <th>boll_ub</th>\n",
       "      <th>boll_lb</th>\n",
       "      <th>rsi_30</th>\n",
       "      <th>cci_30</th>\n",
       "      <th>dx_30</th>\n",
       "      <th>close_30_sma</th>\n",
       "      <th>close_60_sma</th>\n",
       "      <th>log_volume</th>\n",
       "      <th>change</th>\n",
       "      <th>daily_variance</th>\n",
       "    </tr>\n",
       "  </thead>\n",
       "  <tbody>\n",
       "    <tr>\n",
       "      <th>0</th>\n",
       "      <td>11.93</td>\n",
       "      <td>11.78</td>\n",
       "      <td>12.08</td>\n",
       "      <td>11.77</td>\n",
       "      <td>2890059.0</td>\n",
       "      <td>34479184.0</td>\n",
       "      <td>000609</td>\n",
       "      <td>2010-01-04</td>\n",
       "      <td>0</td>\n",
       "      <td>0.000000</td>\n",
       "      <td>11.990269</td>\n",
       "      <td>11.339731</td>\n",
       "      <td>0.0</td>\n",
       "      <td>-66.666667</td>\n",
       "      <td>100.0</td>\n",
       "      <td>11.780</td>\n",
       "      <td>11.780</td>\n",
       "      <td>17.343191</td>\n",
       "      <td>-0.012733</td>\n",
       "      <td>0.026316</td>\n",
       "    </tr>\n",
       "    <tr>\n",
       "      <th>2930</th>\n",
       "      <td>7.25</td>\n",
       "      <td>7.31</td>\n",
       "      <td>7.43</td>\n",
       "      <td>7.17</td>\n",
       "      <td>6787037.0</td>\n",
       "      <td>58770860.0</td>\n",
       "      <td>000921</td>\n",
       "      <td>2010-01-04</td>\n",
       "      <td>0</td>\n",
       "      <td>0.000000</td>\n",
       "      <td>11.990269</td>\n",
       "      <td>11.339731</td>\n",
       "      <td>0.0</td>\n",
       "      <td>-66.666667</td>\n",
       "      <td>100.0</td>\n",
       "      <td>7.310</td>\n",
       "      <td>7.310</td>\n",
       "      <td>17.719768</td>\n",
       "      <td>0.008208</td>\n",
       "      <td>0.035568</td>\n",
       "    </tr>\n",
       "    <tr>\n",
       "      <th>5860</th>\n",
       "      <td>5.94</td>\n",
       "      <td>5.84</td>\n",
       "      <td>5.95</td>\n",
       "      <td>5.76</td>\n",
       "      <td>7031153.0</td>\n",
       "      <td>82264104.0</td>\n",
       "      <td>600365</td>\n",
       "      <td>2010-01-04</td>\n",
       "      <td>0</td>\n",
       "      <td>0.000000</td>\n",
       "      <td>11.990269</td>\n",
       "      <td>11.339731</td>\n",
       "      <td>0.0</td>\n",
       "      <td>-66.666667</td>\n",
       "      <td>100.0</td>\n",
       "      <td>5.840</td>\n",
       "      <td>5.840</td>\n",
       "      <td>17.530592</td>\n",
       "      <td>-0.017123</td>\n",
       "      <td>0.032534</td>\n",
       "    </tr>\n",
       "    <tr>\n",
       "      <th>1</th>\n",
       "      <td>11.77</td>\n",
       "      <td>11.55</td>\n",
       "      <td>11.90</td>\n",
       "      <td>11.48</td>\n",
       "      <td>4026759.0</td>\n",
       "      <td>46896480.0</td>\n",
       "      <td>000609</td>\n",
       "      <td>2010-01-05</td>\n",
       "      <td>1</td>\n",
       "      <td>-0.005160</td>\n",
       "      <td>11.990269</td>\n",
       "      <td>11.339731</td>\n",
       "      <td>0.0</td>\n",
       "      <td>-66.666667</td>\n",
       "      <td>100.0</td>\n",
       "      <td>11.665</td>\n",
       "      <td>11.665</td>\n",
       "      <td>17.655158</td>\n",
       "      <td>-0.019048</td>\n",
       "      <td>0.036364</td>\n",
       "    </tr>\n",
       "    <tr>\n",
       "      <th>2931</th>\n",
       "      <td>7.32</td>\n",
       "      <td>7.59</td>\n",
       "      <td>7.62</td>\n",
       "      <td>7.21</td>\n",
       "      <td>8105622.0</td>\n",
       "      <td>70827248.0</td>\n",
       "      <td>000921</td>\n",
       "      <td>2010-01-05</td>\n",
       "      <td>1</td>\n",
       "      <td>0.006282</td>\n",
       "      <td>7.845980</td>\n",
       "      <td>7.054020</td>\n",
       "      <td>100.0</td>\n",
       "      <td>66.666667</td>\n",
       "      <td>100.0</td>\n",
       "      <td>7.450</td>\n",
       "      <td>7.450</td>\n",
       "      <td>17.934900</td>\n",
       "      <td>0.035573</td>\n",
       "      <td>0.054018</td>\n",
       "    </tr>\n",
       "  </tbody>\n",
       "</table>\n",
       "</div>"
      ],
      "text/plain": [
       "       open  close   high    low     volume      amount     tic       date  \\\n",
       "0     11.93  11.78  12.08  11.77  2890059.0  34479184.0  000609 2010-01-04   \n",
       "2930   7.25   7.31   7.43   7.17  6787037.0  58770860.0  000921 2010-01-04   \n",
       "5860   5.94   5.84   5.95   5.76  7031153.0  82264104.0  600365 2010-01-04   \n",
       "1     11.77  11.55  11.90  11.48  4026759.0  46896480.0  000609 2010-01-05   \n",
       "2931   7.32   7.59   7.62   7.21  8105622.0  70827248.0  000921 2010-01-05   \n",
       "\n",
       "      day      macd    boll_ub    boll_lb  rsi_30     cci_30  dx_30  \\\n",
       "0       0  0.000000  11.990269  11.339731     0.0 -66.666667  100.0   \n",
       "2930    0  0.000000  11.990269  11.339731     0.0 -66.666667  100.0   \n",
       "5860    0  0.000000  11.990269  11.339731     0.0 -66.666667  100.0   \n",
       "1       1 -0.005160  11.990269  11.339731     0.0 -66.666667  100.0   \n",
       "2931    1  0.006282   7.845980   7.054020   100.0  66.666667  100.0   \n",
       "\n",
       "      close_30_sma  close_60_sma  log_volume    change  daily_variance  \n",
       "0           11.780        11.780   17.343191 -0.012733        0.026316  \n",
       "2930         7.310         7.310   17.719768  0.008208        0.035568  \n",
       "5860         5.840         5.840   17.530592 -0.017123        0.032534  \n",
       "1           11.665        11.665   17.655158 -0.019048        0.036364  \n",
       "2931         7.450         7.450   17.934900  0.035573        0.054018  "
      ]
     },
     "execution_count": 19,
     "metadata": {},
     "output_type": "execute_result"
    }
   ],
   "source": [
    "processed['log_volume'] = np.log(processed.volume*processed.close)\n",
    "processed['change'] = (processed.close-processed.open)/processed.close\n",
    "processed['daily_variance'] = (processed.high-processed.low)/processed.close\n",
    "processed.head()"
   ]
  },
  {
   "cell_type": "markdown",
   "metadata": {
    "id": "-QsYaY0Dh1iw"
   },
   "source": [
    "<a id='4'></a>\n",
    "# Part 5. Design Environment\n",
    "Considering the stochastic and interactive nature of the automated stock trading tasks, a financial task is modeled as a **Markov Decision Process (MDP)** problem. The training process involves observing stock price change, taking an action and reward's calculation to have the agent adjusting its strategy accordingly. By interacting with the environment, the trading agent will derive a trading strategy with the maximized rewards as time proceeds.\n",
    "\n",
    "Our trading environments, based on OpenAI Gym framework, simulate live stock markets with real market data according to the principle of time-driven simulation.\n",
    "\n",
    "The action space describes the allowed actions that the agent interacts with the environment. Normally, action a includes three actions: {-1, 0, 1}, where -1, 0, 1 represent selling, holding, and buying one share. Also, an action can be carried upon multiple shares. We use an action space {-k,…,-1, 0, 1, …, k}, where k denotes the number of shares to buy and -k denotes the number of shares to sell. For example, \"Buy 10 shares of AAPL\" or \"Sell 10 shares of AAPL\" are 10 or -10, respectively. The continuous action space needs to be normalized to [-1, 1], since the policy is defined on a Gaussian distribution, which needs to be normalized and symmetric."
   ]
  },
  {
   "cell_type": "markdown",
   "metadata": {
    "id": "5TOhcryx44bb"
   },
   "source": [
    "## Training data split: 2009-01-01 to 2016-01-01\n",
    "## Trade data split: 2016-01-01 to 2021-01-01\n",
    "\n",
    "DRL model needs to update periodically in order to take full advantage of the data, ideally we need to retrain our model yearly, quarterly, or monthly. We also need to tune the parameters along the way, in this notebook I only use the in-sample data from 2009-01 to 2016-01 to tune the parameters once, so there is some alpha decay here as the length of trade date extends. \n",
    "\n",
    "Numerous hyperparameters – e.g. the learning rate, the total number of samples to train on – influence the learning process and are usually determined by testing some variations."
   ]
  },
  {
   "cell_type": "code",
   "execution_count": 20,
   "metadata": {
    "colab": {
     "base_uri": "https://localhost:8080/"
    },
    "id": "W0qaVGjLtgbI",
    "outputId": "c98aeb90-84e3-4b83-9671-d679f3fe148f"
   },
   "outputs": [
    {
     "name": "stdout",
     "output_type": "stream",
     "text": [
      "3654\n",
      "699\n"
     ]
    }
   ],
   "source": [
    "train = data_split(processed, '2016-01-01','2021-01-01') # '2009-01-01','2016-01-01'\n",
    "trade = data_split(processed, '2021-01-01','2021-12-20') # '2016-01-01','2021-01-01'\n",
    "print(len(train))\n",
    "print(len(trade))"
   ]
  },
  {
   "cell_type": "code",
   "execution_count": 21,
   "metadata": {
    "id": "FCqTEpfh3fEZ",
    "outputId": "150a1a08-6320-46d5-b101-6ff17b23cb20"
   },
   "outputs": [
    {
     "name": "stdout",
     "output_type": "stream",
     "text": [
      "\n",
      "    A stock trading environment for OpenAI gym\n",
      "    This environment penalizes the model for not maintaining a reserve of cash.\n",
      "    This enables the model to manage cash reserves in addition to performing trading procedures.\n",
      "    Reward at any step is given as follows\n",
      "        r_i = (sum(cash, asset_value) - initial_cash - max(0, sum(cash, asset_value)*cash_penalty_proportion-cash))/(days_elapsed)\n",
      "        This reward function takes into account a liquidity requirement, as well as long-term accrued rewards.\n",
      "    Parameters:\n",
      "        df (pandas.DataFrame): Dataframe containing data\n",
      "        buy_cost_pct (float): cost for buying shares\n",
      "        sell_cost_pct (float): cost for selling shares\n",
      "        hmax (int, array): maximum cash to be traded in each trade per asset. If an array is provided, then each index correspond to each asset\n",
      "        discrete_actions (bool): option to choose whether perform dicretization on actions space or not\n",
      "        shares_increment (int): multiples number of shares can be bought in each trade. Only applicable if discrete_actions=True\n",
      "        turbulence_threshold (float): Maximum turbulence allowed in market for purchases to occur. If exceeded, positions are liquidated\n",
      "        print_verbosity(int): When iterating (step), how often to print stats about state of env\n",
      "        initial_amount: (int, float): Amount of cash initially available\n",
      "        daily_information_columns (list(str)): Columns to use when building state space from the dataframe. It could be OHLC columns or any other variables such as technical indicators and turbulence index\n",
      "        cash_penalty_proportion (int, float): Penalty to apply if the algorithm runs out of cash\n",
      "        patient (bool): option to choose whether end the cycle when we're running out of cash or just don't buy anything until we got additional cash\n",
      "\n",
      "    RL Inputs and Outputs\n",
      "        action space: [<n_assets>,] in range {-1, 1}\n",
      "        state space: {start_cash, [shares_i for in in assets], [[indicator_j for j in indicators] for i in assets]]}\n",
      "    TODO:\n",
      "        Organize functions\n",
      "        Write README\n",
      "        Document tests\n",
      "    \n"
     ]
    }
   ],
   "source": [
    "print(StockTradingEnvCashpenalty.__doc__)"
   ]
  },
  {
   "cell_type": "markdown",
   "metadata": {
    "id": "Q2zqII8rMIqn",
    "outputId": "8a2c943b-1be4-4b8d-b64f-666e0852b7e6"
   },
   "source": [
    "#### state space\n",
    "The state space of the observation is as follows \n",
    "\n",
    "`start_cash, <owned_shares_of_n_assets>, <<indicator_i_for_asset_j> for j in assets>`\n",
    "\n",
    "indicators are any daily measurement you can achieve. Common ones are 'volume', 'open' 'close' 'high', 'low'.\n",
    "However, you can add these as needed, \n",
    "The feature engineer adds indicators, and you can add your own as well. \n"
   ]
  },
  {
   "cell_type": "code",
   "execution_count": 23,
   "metadata": {},
   "outputs": [
    {
     "data": {
      "text/html": [
       "<div>\n",
       "<style scoped>\n",
       "    .dataframe tbody tr th:only-of-type {\n",
       "        vertical-align: middle;\n",
       "    }\n",
       "\n",
       "    .dataframe tbody tr th {\n",
       "        vertical-align: top;\n",
       "    }\n",
       "\n",
       "    .dataframe thead th {\n",
       "        text-align: right;\n",
       "    }\n",
       "</style>\n",
       "<table border=\"1\" class=\"dataframe\">\n",
       "  <thead>\n",
       "    <tr style=\"text-align: right;\">\n",
       "      <th></th>\n",
       "      <th>open</th>\n",
       "      <th>close</th>\n",
       "      <th>high</th>\n",
       "      <th>low</th>\n",
       "      <th>volume</th>\n",
       "      <th>amount</th>\n",
       "      <th>tic</th>\n",
       "      <th>date</th>\n",
       "      <th>day</th>\n",
       "      <th>macd</th>\n",
       "      <th>boll_ub</th>\n",
       "      <th>boll_lb</th>\n",
       "      <th>rsi_30</th>\n",
       "      <th>cci_30</th>\n",
       "      <th>dx_30</th>\n",
       "      <th>close_30_sma</th>\n",
       "      <th>close_60_sma</th>\n",
       "      <th>log_volume</th>\n",
       "      <th>change</th>\n",
       "      <th>daily_variance</th>\n",
       "    </tr>\n",
       "  </thead>\n",
       "  <tbody>\n",
       "  </tbody>\n",
       "</table>\n",
       "</div>"
      ],
      "text/plain": [
       "Empty DataFrame\n",
       "Columns: [open, close, high, low, volume, amount, tic, date, day, macd, boll_ub, boll_lb, rsi_30, cci_30, dx_30, close_30_sma, close_60_sma, log_volume, change, daily_variance]\n",
       "Index: []"
      ]
     },
     "execution_count": 23,
     "metadata": {},
     "output_type": "execute_result"
    }
   ],
   "source": [
    "processed[processed['cci_30'] == -np.inf]"
   ]
  },
  {
   "cell_type": "code",
   "execution_count": 24,
   "metadata": {
    "id": "Ac5vErdj3fEa",
    "outputId": "0dde9595-9816-4a8d-851b-3190d4e9acc9"
   },
   "outputs": [
    {
     "data": {
      "text/html": [
       "<div>\n",
       "<style scoped>\n",
       "    .dataframe tbody tr th:only-of-type {\n",
       "        vertical-align: middle;\n",
       "    }\n",
       "\n",
       "    .dataframe tbody tr th {\n",
       "        vertical-align: top;\n",
       "    }\n",
       "\n",
       "    .dataframe thead th {\n",
       "        text-align: right;\n",
       "    }\n",
       "</style>\n",
       "<table border=\"1\" class=\"dataframe\">\n",
       "  <thead>\n",
       "    <tr style=\"text-align: right;\">\n",
       "      <th></th>\n",
       "      <th>open</th>\n",
       "      <th>close</th>\n",
       "      <th>high</th>\n",
       "      <th>low</th>\n",
       "      <th>volume</th>\n",
       "      <th>amount</th>\n",
       "      <th>tic</th>\n",
       "      <th>date</th>\n",
       "      <th>day</th>\n",
       "      <th>macd</th>\n",
       "      <th>boll_ub</th>\n",
       "      <th>boll_lb</th>\n",
       "      <th>rsi_30</th>\n",
       "      <th>cci_30</th>\n",
       "      <th>dx_30</th>\n",
       "      <th>close_30_sma</th>\n",
       "      <th>close_60_sma</th>\n",
       "      <th>log_volume</th>\n",
       "      <th>change</th>\n",
       "      <th>daily_variance</th>\n",
       "    </tr>\n",
       "  </thead>\n",
       "  <tbody>\n",
       "    <tr>\n",
       "      <th>0</th>\n",
       "      <td>11.93</td>\n",
       "      <td>11.78</td>\n",
       "      <td>12.08</td>\n",
       "      <td>11.77</td>\n",
       "      <td>2890059.0</td>\n",
       "      <td>34479184.0</td>\n",
       "      <td>000609</td>\n",
       "      <td>2010-01-04</td>\n",
       "      <td>0</td>\n",
       "      <td>0.000000</td>\n",
       "      <td>11.990269</td>\n",
       "      <td>11.339731</td>\n",
       "      <td>0.0</td>\n",
       "      <td>-66.666667</td>\n",
       "      <td>100.0</td>\n",
       "      <td>11.780</td>\n",
       "      <td>11.780</td>\n",
       "      <td>17.343191</td>\n",
       "      <td>-0.012733</td>\n",
       "      <td>0.026316</td>\n",
       "    </tr>\n",
       "    <tr>\n",
       "      <th>2930</th>\n",
       "      <td>7.25</td>\n",
       "      <td>7.31</td>\n",
       "      <td>7.43</td>\n",
       "      <td>7.17</td>\n",
       "      <td>6787037.0</td>\n",
       "      <td>58770860.0</td>\n",
       "      <td>000921</td>\n",
       "      <td>2010-01-04</td>\n",
       "      <td>0</td>\n",
       "      <td>0.000000</td>\n",
       "      <td>11.990269</td>\n",
       "      <td>11.339731</td>\n",
       "      <td>0.0</td>\n",
       "      <td>-66.666667</td>\n",
       "      <td>100.0</td>\n",
       "      <td>7.310</td>\n",
       "      <td>7.310</td>\n",
       "      <td>17.719768</td>\n",
       "      <td>0.008208</td>\n",
       "      <td>0.035568</td>\n",
       "    </tr>\n",
       "    <tr>\n",
       "      <th>5860</th>\n",
       "      <td>5.94</td>\n",
       "      <td>5.84</td>\n",
       "      <td>5.95</td>\n",
       "      <td>5.76</td>\n",
       "      <td>7031153.0</td>\n",
       "      <td>82264104.0</td>\n",
       "      <td>600365</td>\n",
       "      <td>2010-01-04</td>\n",
       "      <td>0</td>\n",
       "      <td>0.000000</td>\n",
       "      <td>11.990269</td>\n",
       "      <td>11.339731</td>\n",
       "      <td>0.0</td>\n",
       "      <td>-66.666667</td>\n",
       "      <td>100.0</td>\n",
       "      <td>5.840</td>\n",
       "      <td>5.840</td>\n",
       "      <td>17.530592</td>\n",
       "      <td>-0.017123</td>\n",
       "      <td>0.032534</td>\n",
       "    </tr>\n",
       "    <tr>\n",
       "      <th>1</th>\n",
       "      <td>11.77</td>\n",
       "      <td>11.55</td>\n",
       "      <td>11.90</td>\n",
       "      <td>11.48</td>\n",
       "      <td>4026759.0</td>\n",
       "      <td>46896480.0</td>\n",
       "      <td>000609</td>\n",
       "      <td>2010-01-05</td>\n",
       "      <td>1</td>\n",
       "      <td>-0.005160</td>\n",
       "      <td>11.990269</td>\n",
       "      <td>11.339731</td>\n",
       "      <td>0.0</td>\n",
       "      <td>-66.666667</td>\n",
       "      <td>100.0</td>\n",
       "      <td>11.665</td>\n",
       "      <td>11.665</td>\n",
       "      <td>17.655158</td>\n",
       "      <td>-0.019048</td>\n",
       "      <td>0.036364</td>\n",
       "    </tr>\n",
       "    <tr>\n",
       "      <th>2931</th>\n",
       "      <td>7.32</td>\n",
       "      <td>7.59</td>\n",
       "      <td>7.62</td>\n",
       "      <td>7.21</td>\n",
       "      <td>8105622.0</td>\n",
       "      <td>70827248.0</td>\n",
       "      <td>000921</td>\n",
       "      <td>2010-01-05</td>\n",
       "      <td>1</td>\n",
       "      <td>0.006282</td>\n",
       "      <td>7.845980</td>\n",
       "      <td>7.054020</td>\n",
       "      <td>100.0</td>\n",
       "      <td>66.666667</td>\n",
       "      <td>100.0</td>\n",
       "      <td>7.450</td>\n",
       "      <td>7.450</td>\n",
       "      <td>17.934900</td>\n",
       "      <td>0.035573</td>\n",
       "      <td>0.054018</td>\n",
       "    </tr>\n",
       "  </tbody>\n",
       "</table>\n",
       "</div>"
      ],
      "text/plain": [
       "       open  close   high    low     volume      amount     tic       date  \\\n",
       "0     11.93  11.78  12.08  11.77  2890059.0  34479184.0  000609 2010-01-04   \n",
       "2930   7.25   7.31   7.43   7.17  6787037.0  58770860.0  000921 2010-01-04   \n",
       "5860   5.94   5.84   5.95   5.76  7031153.0  82264104.0  600365 2010-01-04   \n",
       "1     11.77  11.55  11.90  11.48  4026759.0  46896480.0  000609 2010-01-05   \n",
       "2931   7.32   7.59   7.62   7.21  8105622.0  70827248.0  000921 2010-01-05   \n",
       "\n",
       "      day      macd    boll_ub    boll_lb  rsi_30     cci_30  dx_30  \\\n",
       "0       0  0.000000  11.990269  11.339731     0.0 -66.666667  100.0   \n",
       "2930    0  0.000000  11.990269  11.339731     0.0 -66.666667  100.0   \n",
       "5860    0  0.000000  11.990269  11.339731     0.0 -66.666667  100.0   \n",
       "1       1 -0.005160  11.990269  11.339731     0.0 -66.666667  100.0   \n",
       "2931    1  0.006282   7.845980   7.054020   100.0  66.666667  100.0   \n",
       "\n",
       "      close_30_sma  close_60_sma  log_volume    change  daily_variance  \n",
       "0           11.780        11.780   17.343191 -0.012733        0.026316  \n",
       "2930         7.310         7.310   17.719768  0.008208        0.035568  \n",
       "5860         5.840         5.840   17.530592 -0.017123        0.032534  \n",
       "1           11.665        11.665   17.655158 -0.019048        0.036364  \n",
       "2931         7.450         7.450   17.934900  0.035573        0.054018  "
      ]
     },
     "execution_count": 24,
     "metadata": {},
     "output_type": "execute_result"
    }
   ],
   "source": [
    "processed.head()"
   ]
  },
  {
   "cell_type": "code",
   "execution_count": 25,
   "metadata": {
    "id": "AWyp84Ltto19",
    "outputId": "312b0788-3c73-489c-da86-d50873162473",
    "scrolled": true
   },
   "outputs": [
    {
     "name": "stdout",
     "output_type": "stream",
     "text": [
      "caching data\n",
      "data cached!\n",
      "caching data\n",
      "data cached!\n"
     ]
    }
   ],
   "source": [
    "information_cols = ['daily_variance', 'change', 'log_volume', 'close','day', \n",
    "                    'macd', 'rsi_30', 'boll_ub', 'dx_30'] # cci_30\n",
    "\n",
    "e_train_gym = StockTradingEnvCashpenalty(\n",
    "    df = train,\n",
    "    initial_amount = 50e4, # 1e6, \n",
    "    hmax = 2000, \n",
    "    turbulence_threshold = None, \n",
    "    currency='￥',\n",
    "    buy_cost_pct=3e-3,\n",
    "    sell_cost_pct=3e-3,\n",
    "    cash_penalty_proportion=0.2,\n",
    "    cache_indicator_data=True,\n",
    "    daily_information_cols = information_cols,\n",
    "    print_verbosity = 500, \n",
    "    random_start = True,\n",
    "    ) # patient = True\n",
    "\n",
    "e_trade_gym = StockTradingEnvCashpenalty(\n",
    "    df = trade,\n",
    "    initial_amount = 50e4, # 1e6, \n",
    "    hmax = 2000, \n",
    "    turbulence_threshold = None, \n",
    "    currency='￥',\n",
    "    buy_cost_pct=3e-3,\n",
    "    sell_cost_pct=3e-3,\n",
    "    cash_penalty_proportion=0.2,\n",
    "    cache_indicator_data=True,\n",
    "    daily_information_cols = information_cols, \n",
    "    print_verbosity = 500, \n",
    "    random_start = False,\n",
    "    ) # patient = True"
   ]
  },
  {
   "cell_type": "markdown",
   "metadata": {
    "id": "64EoqOrQjiVf"
   },
   "source": [
    "## Environment for Training\n",
    "There are two available environments. The multiprocessing and the single processing env. \n",
    "Some models won't work with multiprocessing. \n",
    "\n",
    "```python\n",
    "# single processing\n",
    "env_train, _ = e_train_gym.get_sb_env()\n",
    "\n",
    "\n",
    "#multiprocessing\n",
    "env_train, _ = e_train_gym.get_multiproc_env(n = <n_cores>)\n",
    "```\n"
   ]
  },
  {
   "cell_type": "code",
   "execution_count": 26,
   "metadata": {
    "colab": {
     "base_uri": "https://localhost:8080/"
    },
    "id": "xwSvvPjutpqS",
    "outputId": "406e5ec3-28ba-4a72-9b22-0d031f7bf9a6"
   },
   "outputs": [],
   "source": [
    "# for this example, let's do multiprocessing with n_cores-2\n",
    "import multiprocessing\n",
    "\n",
    "# n_cores = multiprocessing.cpu_count() - 2\n",
    "n_cores = 3\n",
    "# print(f\"using {n_cores} cores\")\n",
    "\n",
    "#this is our training env. It allows multiprocessing\n",
    "# env_train, _ = e_train_gym.get_multiproc_env(n = n_cores)\n",
    "env_train, _ = e_train_gym.get_sb_env()\n",
    "\n",
    "#this is our observation environment. It allows full diagnostics\n",
    "env_trade, _ = e_trade_gym.get_sb_env()"
   ]
  },
  {
   "cell_type": "markdown",
   "metadata": {
    "id": "HMNR5nHjh1iz"
   },
   "source": [
    "<a id='5'></a>\n",
    "# Part 6: Implement DRL Algorithms\n",
    "* The implementation of the DRL algorithms are based on **OpenAI Baselines** and **Stable Baselines**. Stable Baselines is a fork of OpenAI Baselines, with a major structural refactoring, and code cleanups.\n",
    "* FinRL library includes fine-tuned standard DRL algorithms, such as DQN, DDPG,\n",
    "Multi-Agent DDPG, PPO, SAC, A2C and TD3. We also allow users to\n",
    "design their own DRL algorithms by adapting these DRL algorithms."
   ]
  },
  {
   "cell_type": "code",
   "execution_count": 27,
   "metadata": {
    "id": "364PsqckttcQ"
   },
   "outputs": [],
   "source": [
    "agent = DRLAgent(env = env_train)"
   ]
  },
  {
   "cell_type": "markdown",
   "metadata": {
    "id": "uijiWgkuh1jB"
   },
   "source": [
    "### Model PPO\n"
   ]
  },
  {
   "cell_type": "code",
   "execution_count": 28,
   "metadata": {
    "id": "Lc7V2tWp3fEb",
    "outputId": "b7fa76e1-90d2-4615-c15b-091a62350b7a"
   },
   "outputs": [
    {
     "name": "stdout",
     "output_type": "stream",
     "text": [
      "{'n_steps': 256, 'ent_coef': 0.0, 'learning_rate': 2e-07, 'batch_size': 1024, 'gamma': 0.99}\n"
     ]
    },
    {
     "name": "stderr",
     "output_type": "stream",
     "text": [
      "d:\\code\\python\\stable-baselines3\\stable_baselines3\\ppo\\ppo.py:138: UserWarning: You have specified a mini-batch size of 1024, but because the `RolloutBuffer` is of size `n_steps * n_envs = 256`, after every 0 untruncated mini-batches, there will be a truncated mini-batch of size 256\n",
      "We recommend using a `batch_size` that is a factor of `n_steps * n_envs`.\n",
      "Info: (n_steps=256 and n_envs=1)\n",
      "  f\"You have specified a mini-batch size of {batch_size},\"\n"
     ]
    }
   ],
   "source": [
    "from torch.nn import Softsign, ReLU\n",
    "\n",
    "ppo_params ={'n_steps': 256, \n",
    "             'ent_coef': 0.0, \n",
    "             'learning_rate': 0.0000002, \n",
    "             'batch_size': 1024, \n",
    "             'gamma': 0.99}\n",
    "\n",
    "policy_kwargs = {\n",
    "#     \"activation_fn\": ReLU, \n",
    "    \"net_arch\": [1024 for _ in range(10)], \n",
    "#     \"squash_output\": True\n",
    "}\n",
    "\n",
    "model = agent.get_model('ppo', # ppo, a2c\n",
    "                        model_kwargs = ppo_params, \n",
    "                        policy_kwargs = policy_kwargs, \n",
    "                        tensorboard_log = '/home/l/code/python/log/run',\n",
    "                        verbose = 0)\n",
    "\n",
    "# model = model.load(\"scaling_reward.model\", env = env_train)"
   ]
  },
  {
   "cell_type": "code",
   "execution_count": 29,
   "metadata": {
    "id": "zTwet1oZ3fEb",
    "outputId": "1e37a383-e724-403c-fee9-712d02da113d",
    "scrolled": true
   },
   "outputs": [
    {
     "name": "stderr",
     "output_type": "stream",
     "text": [
      "d:\\soft\\python\\python37\\lib\\site-packages\\tensorflow\\python\\framework\\dtypes.py:516: FutureWarning: Passing (type, 1) or '1type' as a synonym of type is deprecated; in a future version of numpy, it will be understood as (type, (1,)) / '(1,)type'.\n",
      "  _np_qint8 = np.dtype([(\"qint8\", np.int8, 1)])\n",
      "d:\\soft\\python\\python37\\lib\\site-packages\\tensorflow\\python\\framework\\dtypes.py:517: FutureWarning: Passing (type, 1) or '1type' as a synonym of type is deprecated; in a future version of numpy, it will be understood as (type, (1,)) / '(1,)type'.\n",
      "  _np_quint8 = np.dtype([(\"quint8\", np.uint8, 1)])\n",
      "d:\\soft\\python\\python37\\lib\\site-packages\\tensorflow\\python\\framework\\dtypes.py:518: FutureWarning: Passing (type, 1) or '1type' as a synonym of type is deprecated; in a future version of numpy, it will be understood as (type, (1,)) / '(1,)type'.\n",
      "  _np_qint16 = np.dtype([(\"qint16\", np.int16, 1)])\n",
      "d:\\soft\\python\\python37\\lib\\site-packages\\tensorflow\\python\\framework\\dtypes.py:519: FutureWarning: Passing (type, 1) or '1type' as a synonym of type is deprecated; in a future version of numpy, it will be understood as (type, (1,)) / '(1,)type'.\n",
      "  _np_quint16 = np.dtype([(\"quint16\", np.uint16, 1)])\n",
      "d:\\soft\\python\\python37\\lib\\site-packages\\tensorflow\\python\\framework\\dtypes.py:520: FutureWarning: Passing (type, 1) or '1type' as a synonym of type is deprecated; in a future version of numpy, it will be understood as (type, (1,)) / '(1,)type'.\n",
      "  _np_qint32 = np.dtype([(\"qint32\", np.int32, 1)])\n",
      "d:\\soft\\python\\python37\\lib\\site-packages\\tensorflow\\python\\framework\\dtypes.py:525: FutureWarning: Passing (type, 1) or '1type' as a synonym of type is deprecated; in a future version of numpy, it will be understood as (type, (1,)) / '(1,)type'.\n",
      "  np_resource = np.dtype([(\"resource\", np.ubyte, 1)])\n"
     ]
    },
    {
     "name": "stdout",
     "output_type": "stream",
     "text": [
      "EPISODE|STEPS|TERMINAL_REASON|CASH           |TOT_ASSETS     |TERMINAL_REWARD_unsc|GAINLOSS_PCT|CASH_PROPORTION\n",
      "   1| 499|update         |￥461,611       |￥483,751       |-0.00653% |-3.24975% |95.42%    \n",
      "EPISODE|STEPS|TERMINAL_REASON|CASH           |TOT_ASSETS     |TERMINAL_REWARD_unsc|GAINLOSS_PCT|CASH_PROPORTION\n"
     ]
    },
    {
     "name": "stderr",
     "output_type": "stream",
     "text": [
      "d:\\code\\python\\stable-baselines3\\stable_baselines3\\common\\evaluation.py:69: UserWarning: Evaluation environment is not wrapped with a ``Monitor`` wrapper. This may result in reporting modified episode lengths and rewards, if other wrappers happen to modify these. Consider wrapping environment first with ``Monitor`` wrapper.\n",
      "  UserWarning,\n"
     ]
    },
    {
     "name": "stdout",
     "output_type": "stream",
     "text": [
      "   1| 232|Last Date      |￥497,319       |￥499,935       |-0.00006% |-0.01291% |99.48%    \n",
      "   2| 232|Last Date      |￥497,319       |￥499,935       |-0.00006% |-0.01291% |99.48%    \n",
      "Eval num_timesteps=500, episode_reward=-0.00 +/- 0.00\n",
      "Episode length: 233.00 +/- 0.00\n",
      "New best mean reward!\n",
      "   1| 814|Last Date      |￥395,794       |￥464,586       |-0.00870% |-7.08272% |85.19%    \n",
      "   4| 232|Last Date      |￥496,532       |￥499,917       |-0.00007% |-0.01669% |99.32%    \n",
      "   5| 232|Last Date      |￥496,532       |￥499,917       |-0.00007% |-0.01669% |99.32%    \n",
      "Eval num_timesteps=1000, episode_reward=-0.00 +/- 0.00\n",
      "Episode length: 233.00 +/- 0.00\n",
      "   2| 499|update         |￥439,420       |￥481,214       |-0.00754% |-3.75725% |91.31%    \n",
      "   7| 232|Last Date      |￥495,422       |￥499,890       |-0.00009% |-0.02204% |99.11%    \n",
      "   8| 232|Last Date      |￥495,422       |￥499,890       |-0.00009% |-0.02204% |99.11%    \n",
      "Eval num_timesteps=1500, episode_reward=-0.00 +/- 0.00\n",
      "Episode length: 233.00 +/- 0.00\n",
      "   2| 905|Last Date      |￥386,947       |￥472,245       |-0.00613% |-5.55097% |81.94%    \n",
      "  10| 232|Last Date      |￥495,175       |￥499,884       |-0.00010% |-0.02323% |99.06%    \n",
      "  11| 232|Last Date      |￥495,175       |￥499,884       |-0.00010% |-0.02323% |99.06%    \n",
      "Eval num_timesteps=2000, episode_reward=-0.00 +/- 0.00\n",
      "Episode length: 233.00 +/- 0.00\n",
      "   3| 499|update         |￥403,867       |￥468,309       |-0.01273% |-6.33818% |86.24%    \n",
      "   3| 748|Last Date      |￥380,248       |￥451,324       |-0.01301% |-9.73522% |84.25%    \n",
      "  13| 232|Last Date      |￥495,047       |￥499,881       |-0.00010% |-0.02384% |99.03%    \n",
      "  14| 232|Last Date      |￥495,047       |￥499,881       |-0.00010% |-0.02384% |99.03%    \n",
      "Eval num_timesteps=2500, episode_reward=-0.00 +/- 0.00\n",
      "Episode length: 233.00 +/- 0.00\n",
      "   4| 499|update         |￥441,990       |￥481,248       |-0.00753% |-3.75044% |91.84%    \n",
      "  16| 232|Last Date      |￥494,452       |￥499,866       |-0.00012% |-0.02671% |98.92%    \n",
      "  17| 232|Last Date      |￥494,452       |￥499,866       |-0.00012% |-0.02671% |98.92%    \n",
      "Eval num_timesteps=3000, episode_reward=-0.00 +/- 0.00\n",
      "Episode length: 233.00 +/- 0.00\n",
      "   4| 677|Last Date      |￥365,772       |￥465,654       |-0.01015% |-6.86928% |78.55%    \n",
      "  19| 232|Last Date      |￥493,777       |￥499,850       |-0.00013% |-0.02996% |98.79%    \n",
      "  20| 232|Last Date      |￥493,777       |￥499,850       |-0.00013% |-0.02996% |98.79%    \n",
      "Eval num_timesteps=3500, episode_reward=-0.00 +/- 0.00\n",
      "Episode length: 233.00 +/- 0.00\n",
      "   5| 499|update         |￥333,883       |￥475,539       |-0.00982% |-4.89216% |70.21%    \n",
      "  22| 232|Last Date      |￥494,434       |￥499,866       |-0.00012% |-0.02679% |98.91%    \n",
      "  23| 232|Last Date      |￥494,434       |￥499,866       |-0.00012% |-0.02679% |98.91%    \n",
      "Eval num_timesteps=4000, episode_reward=-0.00 +/- 0.00\n",
      "Episode length: 233.00 +/- 0.00\n",
      "   5| 878|Last Date      |￥334,383       |￥487,479       |-0.00285% |-2.50420% |68.59%    \n",
      "  25| 232|Last Date      |￥494,940       |￥499,899       |-0.00009% |-0.02015% |99.01%    \n",
      "  26| 232|Last Date      |￥494,940       |￥499,899       |-0.00009% |-0.02015% |99.01%    \n",
      "Eval num_timesteps=4500, episode_reward=-0.00 +/- 0.00\n",
      "Episode length: 233.00 +/- 0.00\n",
      "   6| 499|update         |￥437,303       |￥486,386       |-0.00547% |-2.72285% |89.91%    \n",
      "   6| 695|Last Date      |￥428,911       |￥497,490       |-0.00072% |-0.50192% |86.21%    \n",
      "  28| 232|Last Date      |￥495,009       |￥500,003       |0.00000%  |0.00059%  |99.00%    \n",
      "  29| 232|Last Date      |￥495,009       |￥500,003       |0.00000%  |0.00059%  |99.00%    \n",
      "Eval num_timesteps=5000, episode_reward=-0.00 +/- 0.00\n",
      "Episode length: 233.00 +/- 0.00\n",
      "New best mean reward!\n",
      "   7| 499|update         |￥443,200       |￥498,002       |-0.00080% |-0.39967% |89.00%    \n",
      "  31| 232|Last Date      |￥495,502       |￥500,050       |0.00004%  |0.01006%  |99.09%    \n",
      "  32| 232|Last Date      |￥495,502       |￥500,050       |0.00004%  |0.01006%  |99.09%    \n",
      "Eval num_timesteps=5500, episode_reward=-0.00 +/- 0.00\n",
      "Episode length: 233.00 +/- 0.00\n",
      "New best mean reward!\n",
      "   7| 999|update         |￥439,901       |￥498,695       |-0.00026% |-0.26093% |88.21%    \n",
      "   7|1131|Last Date      |￥411,924       |￥500,520       |0.00009%  |0.10391%  |82.30%    \n",
      "  34| 232|Last Date      |￥496,738       |￥500,199       |0.00017%  |0.03987%  |99.31%    \n",
      "  35| 232|Last Date      |￥496,738       |￥500,199       |0.00017%  |0.03987%  |99.31%    \n",
      "Eval num_timesteps=6000, episode_reward=0.00 +/- 0.00\n",
      "Episode length: 233.00 +/- 0.00\n",
      "New best mean reward!\n",
      "   8| 499|update         |￥435,472       |￥480,761       |-0.00773% |-3.84781% |90.58%    \n",
      "  37| 232|Last Date      |￥496,463       |￥500,390       |0.00034%  |0.07805%  |99.22%    \n",
      "  38| 232|Last Date      |￥496,463       |￥500,390       |0.00034%  |0.07805%  |99.22%    \n",
      "Eval num_timesteps=6500, episode_reward=0.00 +/- 0.00\n",
      "Episode length: 233.00 +/- 0.00\n",
      "New best mean reward!\n",
      "   8| 751|Last Date      |￥332,443       |￥483,098       |-0.00450% |-3.38039% |68.81%    \n",
      "  40| 232|Last Date      |￥496,640       |￥500,453       |0.00039%  |0.09057%  |99.24%    \n",
      "  41| 232|Last Date      |￥496,640       |￥500,453       |0.00039%  |0.09057%  |99.24%    \n",
      "Eval num_timesteps=7000, episode_reward=0.00 +/- 0.00\n",
      "Episode length: 233.00 +/- 0.00\n",
      "New best mean reward!\n",
      "   9| 499|update         |￥391,960       |￥478,592       |-0.00860% |-4.28155% |81.90%    \n",
      "  43| 232|Last Date      |￥498,190       |￥500,415       |0.00036%  |0.08295%  |99.56%    \n",
      "  44| 232|Last Date      |￥498,190       |￥500,415       |0.00036%  |0.08295%  |99.56%    \n",
      "Eval num_timesteps=7500, episode_reward=0.00 +/- 0.00\n",
      "Episode length: 233.00 +/- 0.00\n",
      "   9| 999|update         |￥354,796       |￥482,611       |-0.00348% |-3.47771% |73.52%    \n",
      "   9|1142|Last Date      |￥322,738       |￥497,231       |-0.00048% |-0.55377% |64.91%    \n",
      "  46| 232|Last Date      |￥497,641       |￥500,612       |0.00053%  |0.12241%  |99.41%    \n",
      "  47| 232|Last Date      |￥497,641       |￥500,612       |0.00053%  |0.12241%  |99.41%    \n",
      "Eval num_timesteps=8000, episode_reward=0.00 +/- 0.00\n",
      "Episode length: 233.00 +/- 0.00\n",
      "New best mean reward!\n",
      "  10| 499|update         |￥437,286       |￥471,598       |-0.01141% |-5.68045% |92.72%    \n",
      "  49| 232|Last Date      |￥497,321       |￥500,679       |0.00058%  |0.13572%  |99.33%    \n",
      "  50| 232|Last Date      |￥497,321       |￥500,679       |0.00058%  |0.13572%  |99.33%    \n",
      "Eval num_timesteps=8500, episode_reward=0.00 +/- 0.00\n",
      "Episode length: 233.00 +/- 0.00\n",
      "New best mean reward!\n",
      "  10| 900|Last Date      |￥391,906       |￥459,142       |-0.00908% |-8.17170% |85.36%    \n",
      "  52| 232|Last Date      |￥497,590       |￥500,616       |0.00053%  |0.12313%  |99.40%    \n",
      "  53| 232|Last Date      |￥497,590       |￥500,616       |0.00053%  |0.12313%  |99.40%    \n",
      "Eval num_timesteps=9000, episode_reward=0.00 +/- 0.00\n",
      "Episode length: 233.00 +/- 0.00\n",
      "  11| 499|update         |￥412,984       |￥446,868       |-0.02134% |-10.62635%|92.42%    \n",
      "  55| 232|Last Date      |￥496,135       |￥500,960       |0.00083%  |0.19203%  |99.04%    \n",
      "  56| 232|Last Date      |￥496,135       |￥500,960       |0.00083%  |0.19203%  |99.04%    \n",
      "Eval num_timesteps=9500, episode_reward=0.00 +/- 0.00\n",
      "Episode length: 233.00 +/- 0.00\n",
      "New best mean reward!\n",
      "  11| 999|update         |￥353,081       |￥452,391       |-0.00954% |-9.52188% |78.05%    \n",
      "  11|1020|Last Date      |￥368,417       |￥446,361       |-0.01052% |-10.72771%|82.54%    \n",
      "  58| 232|Last Date      |￥495,138       |￥501,243       |0.00107%  |0.24857%  |98.78%    \n",
      "  59| 232|Last Date      |￥495,138       |￥501,243       |0.00107%  |0.24857%  |98.78%    \n",
      "Eval num_timesteps=10000, episode_reward=0.00 +/- 0.00\n",
      "Episode length: 233.00 +/- 0.00\n",
      "New best mean reward!\n",
      "  12| 499|update         |￥411,062       |￥454,681       |-0.01820% |-9.06377% |90.41%    \n",
      "  61| 232|Last Date      |￥494,924       |￥501,301       |0.00112%  |0.26015%  |98.73%    \n",
      "  62| 232|Last Date      |￥494,924       |￥501,301       |0.00112%  |0.26015%  |98.73%    \n",
      "Eval num_timesteps=10500, episode_reward=0.00 +/- 0.00\n",
      "Episode length: 233.00 +/- 0.00\n",
      "New best mean reward!\n",
      "  12| 999|update         |￥396,161       |￥482,500       |-0.00351% |-3.49992% |82.11%    \n"
     ]
    },
    {
     "name": "stdout",
     "output_type": "stream",
     "text": [
      "  12|1070|Last Date      |￥429,096       |￥485,410       |-0.00273% |-2.91809% |88.40%    \n",
      "  64| 232|Last Date      |￥495,157       |￥501,235       |0.00106%  |0.24704%  |98.79%    \n",
      "  65| 232|Last Date      |￥495,157       |￥501,235       |0.00106%  |0.24704%  |98.79%    \n",
      "Eval num_timesteps=11000, episode_reward=0.00 +/- 0.00\n",
      "Episode length: 233.00 +/- 0.00\n",
      "  13| 499|update         |￥394,236       |￥479,474       |-0.00824% |-4.10512% |82.22%    \n",
      "  67| 232|Last Date      |￥495,049       |￥501,266       |0.00109%  |0.25317%  |98.76%    \n",
      "  68| 232|Last Date      |￥495,049       |￥501,266       |0.00109%  |0.25317%  |98.76%    \n",
      "Eval num_timesteps=11500, episode_reward=0.00 +/- 0.00\n",
      "Episode length: 233.00 +/- 0.00\n",
      "  13| 999|update         |￥305,648       |￥474,762       |-0.00506% |-5.04757% |64.38%    \n",
      "  13|1121|Last Date      |￥303,335       |￥443,940       |-0.01000% |-11.21208%|68.33%    \n",
      "  70| 232|Last Date      |￥494,079       |￥501,528       |0.00132%  |0.30566%  |98.51%    \n",
      "  71| 232|Last Date      |￥494,079       |￥501,528       |0.00132%  |0.30566%  |98.51%    \n",
      "Eval num_timesteps=12000, episode_reward=0.00 +/- 0.00\n",
      "Episode length: 233.00 +/- 0.00\n",
      "New best mean reward!\n",
      "  14| 499|update         |￥371,493       |￥475,039       |-0.01002% |-4.99216% |78.20%    \n",
      "  73| 232|Last Date      |￥494,063       |￥501,531       |0.00132%  |0.30611%  |98.51%    \n",
      "  74| 232|Last Date      |￥494,063       |￥501,531       |0.00132%  |0.30611%  |98.51%    \n",
      "Eval num_timesteps=12500, episode_reward=0.00 +/- 0.00\n",
      "Episode length: 233.00 +/- 0.00\n",
      "New best mean reward!\n",
      "  14| 841|Last Date      |￥384,931       |￥488,843       |-0.00265% |-2.23148% |78.74%    \n",
      "  76| 232|Last Date      |￥492,794       |￥501,879       |0.00162%  |0.37585%  |98.19%    \n",
      "  77| 232|Last Date      |￥492,794       |￥501,879       |0.00162%  |0.37585%  |98.19%    \n",
      "Eval num_timesteps=13000, episode_reward=0.00 +/- 0.00\n",
      "Episode length: 233.00 +/- 0.00\n",
      "New best mean reward!\n",
      "  15| 499|update         |￥465,079       |￥488,453       |-0.00464% |-2.30939% |95.21%    \n",
      "  15| 704|Last Date      |￥463,643       |￥480,339       |-0.00559% |-3.93210% |96.52%    \n",
      "  79| 232|Last Date      |￥492,099       |￥502,084       |0.00180%  |0.41681%  |98.01%    \n",
      "  80| 232|Last Date      |￥492,099       |￥502,084       |0.00180%  |0.41681%  |98.01%    \n",
      "Eval num_timesteps=13500, episode_reward=0.00 +/- 0.00\n",
      "Episode length: 233.00 +/- 0.00\n",
      "New best mean reward!\n",
      "  16| 499|update         |￥455,664       |￥488,297       |-0.00470% |-2.34059% |93.32%    \n",
      "  82| 232|Last Date      |￥490,711       |￥502,491       |0.00215%  |0.49822%  |97.66%    \n",
      "  83| 232|Last Date      |￥490,711       |￥502,491       |0.00215%  |0.49822%  |97.66%    \n",
      "Eval num_timesteps=14000, episode_reward=0.00 +/- 0.00\n",
      "Episode length: 233.00 +/- 0.00\n",
      "New best mean reward!\n",
      "  16| 648|Last Date      |￥448,998       |￥480,265       |-0.00609% |-3.94696% |93.49%    \n",
      "  85| 232|Last Date      |￥489,825       |￥502,761       |0.00238%  |0.55218%  |97.43%    \n",
      "  86| 232|Last Date      |￥489,825       |￥502,761       |0.00238%  |0.55218%  |97.43%    \n",
      "Eval num_timesteps=14500, episode_reward=0.01 +/- 0.00\n",
      "Episode length: 233.00 +/- 0.00\n",
      "New best mean reward!\n",
      "  17| 499|update         |￥450,210       |￥470,217       |-0.01196% |-5.95659% |95.75%    \n",
      "  88| 232|Last Date      |￥488,585       |￥503,107       |0.00268%  |0.62139%  |97.11%    \n",
      "  89| 232|Last Date      |￥488,585       |￥503,107       |0.00268%  |0.62139%  |97.11%    \n",
      "Eval num_timesteps=15000, episode_reward=0.01 +/- 0.00\n",
      "Episode length: 233.00 +/- 0.00\n",
      "New best mean reward!\n",
      "  17| 964|Last Date      |￥348,373       |￥445,953       |-0.01121% |-10.80939%|78.12%    \n",
      "  91| 232|Last Date      |￥487,612       |￥503,366       |0.00290%  |0.67328%  |96.87%    \n",
      "  92| 232|Last Date      |￥487,612       |￥503,366       |0.00290%  |0.67328%  |96.87%    \n",
      "Eval num_timesteps=15500, episode_reward=0.01 +/- 0.00\n",
      "Episode length: 233.00 +/- 0.00\n",
      "New best mean reward!\n",
      "  18| 499|update         |￥347,903       |￥434,166       |-0.02644% |-13.16677%|80.13%    \n",
      "  94| 232|Last Date      |￥486,333       |￥503,601       |0.00310%  |0.72028%  |96.57%    \n",
      "  95| 232|Last Date      |￥486,333       |￥503,601       |0.00310%  |0.72028%  |96.57%    \n",
      "Eval num_timesteps=16000, episode_reward=0.01 +/- 0.00\n",
      "Episode length: 233.00 +/- 0.00\n",
      "New best mean reward!\n",
      "  18| 999|update         |￥320,588       |￥425,618       |-0.01491% |-14.87636%|75.32%    \n",
      "  18|1035|Last Date      |￥311,994       |￥418,171       |-0.01581% |-16.36586%|74.61%    \n",
      "  97| 232|Last Date      |￥486,383       |￥503,546       |0.00306%  |0.70922%  |96.59%    \n",
      "  98| 232|Last Date      |￥486,383       |￥503,546       |0.00306%  |0.70922%  |96.59%    \n",
      "Eval num_timesteps=16500, episode_reward=0.01 +/- 0.00\n",
      "Episode length: 233.00 +/- 0.00\n",
      "  19| 499|update         |￥348,247       |￥478,699       |-0.00855% |-4.26011% |72.75%    \n",
      "  19| 931|Last Date      |￥367,695       |￥437,821       |-0.01336% |-12.43580%|83.98%    \n",
      " 100| 232|Last Date      |￥486,880       |￥503,506       |0.00302%  |0.70122%  |96.70%    \n",
      " 101| 232|Last Date      |￥486,880       |￥503,506       |0.00302%  |0.70122%  |96.70%    \n",
      "Eval num_timesteps=17000, episode_reward=0.01 +/- 0.00\n",
      "Episode length: 233.00 +/- 0.00\n",
      "  20| 499|update         |￥398,094       |￥497,826       |-0.00087% |-0.43478% |79.97%    \n",
      " 103| 232|Last Date      |￥486,123       |￥503,591       |0.00310%  |0.71822%  |96.53%    \n",
      " 104| 232|Last Date      |￥486,123       |￥503,591       |0.00310%  |0.71822%  |96.53%    \n",
      "Eval num_timesteps=17500, episode_reward=0.01 +/- 0.00\n",
      "Episode length: 233.00 +/- 0.00\n",
      "  20| 730|Last Date      |￥431,581       |￥478,218       |-0.00597% |-4.35645% |90.25%    \n",
      " 106| 232|Last Date      |￥486,293       |￥503,677       |0.00317%  |0.73544%  |96.55%    \n",
      " 107| 232|Last Date      |￥486,293       |￥503,677       |0.00317%  |0.73544%  |96.55%    \n",
      "Eval num_timesteps=18000, episode_reward=0.01 +/- 0.00\n",
      "Episode length: 233.00 +/- 0.00\n",
      "New best mean reward!\n",
      "  21| 499|update         |￥432,399       |￥466,031       |-0.01364% |-6.79389% |92.78%    \n",
      "  21| 707|Last Date      |￥442,241       |￥460,907       |-0.01106% |-7.81869% |95.95%    \n",
      " 109| 232|Last Date      |￥485,367       |￥503,987       |0.00344%  |0.79738%  |96.31%    \n",
      " 110| 232|Last Date      |￥485,367       |￥503,987       |0.00344%  |0.79738%  |96.31%    \n",
      "Eval num_timesteps=18500, episode_reward=0.01 +/- 0.00\n",
      "Episode length: 233.00 +/- 0.00\n",
      "New best mean reward!\n",
      "  22| 499|update         |￥424,093       |￥469,233       |-0.01236% |-6.15336% |90.38%    \n",
      " 112| 232|Last Date      |￥484,100       |￥504,338       |0.00374%  |0.86768%  |95.99%    \n",
      " 113| 232|Last Date      |￥484,100       |￥504,338       |0.00374%  |0.86768%  |95.99%    \n",
      "Eval num_timesteps=19000, episode_reward=0.01 +/- 0.00\n",
      "Episode length: 233.00 +/- 0.00\n",
      "New best mean reward!\n",
      "  22| 999|update         |￥379,041       |￥457,457       |-0.00853% |-8.50856% |82.86%    \n",
      "  22|1045|Last Date      |￥377,405       |￥467,211       |-0.00628% |-6.55789% |80.78%    \n",
      " 115| 232|Last Date      |￥484,211       |￥504,309       |0.00371%  |0.86177%  |96.01%    \n",
      " 116| 232|Last Date      |￥484,211       |￥504,309       |0.00371%  |0.86177%  |96.01%    \n",
      "Eval num_timesteps=19500, episode_reward=0.01 +/- 0.00\n",
      "Episode length: 233.00 +/- 0.00\n",
      "  23| 499|update         |￥387,639       |￥462,423       |-0.01509% |-7.51537% |83.83%    \n",
      " 118| 232|Last Date      |￥484,178       |￥504,314       |0.00372%  |0.86272%  |96.01%    \n",
      " 119| 232|Last Date      |￥484,178       |￥504,314       |0.00372%  |0.86272%  |96.01%    \n",
      "Eval num_timesteps=20000, episode_reward=0.01 +/- 0.00\n",
      "Episode length: 233.00 +/- 0.00\n",
      "  23| 999|update         |￥416,877       |￥463,626       |-0.00729% |-7.27486% |89.92%    \n",
      "  23|1008|Last Date      |￥420,537       |￥461,996       |-0.00754% |-7.60088% |91.03%    \n",
      " 121| 232|Last Date      |￥485,373       |￥503,975       |0.00343%  |0.79508%  |96.31%    \n",
      " 122| 232|Last Date      |￥485,373       |￥503,975       |0.00343%  |0.79508%  |96.31%    \n",
      "Eval num_timesteps=20500, episode_reward=0.01 +/- 0.00\n",
      "Episode length: 233.00 +/- 0.00\n",
      "  24| 499|update         |￥437,449       |￥477,729       |-0.00894% |-4.45423% |91.57%    \n",
      " 124| 232|Last Date      |￥486,045       |￥503,700       |0.00319%  |0.74004%  |96.49%    \n"
     ]
    },
    {
     "name": "stdout",
     "output_type": "stream",
     "text": [
      " 125| 232|Last Date      |￥486,045       |￥503,700       |0.00319%  |0.74004%  |96.49%    \n",
      "Eval num_timesteps=21000, episode_reward=0.01 +/- 0.00\n",
      "Episode length: 233.00 +/- 0.00\n",
      "  24| 999|update         |￥372,334       |￥468,247       |-0.00636% |-6.35059% |79.52%    \n",
      " 127| 232|Last Date      |￥486,168       |￥503,650       |0.00315%  |0.72990%  |96.53%    \n",
      " 128| 232|Last Date      |￥486,168       |￥503,650       |0.00315%  |0.72990%  |96.53%    \n",
      "Eval num_timesteps=21500, episode_reward=0.01 +/- 0.00\n",
      "Episode length: 233.00 +/- 0.00\n",
      "  24|1046|Last Date      |￥361,979       |￥479,937       |-0.00384% |-4.01259% |75.42%    \n",
      " 130| 232|Last Date      |￥485,929       |￥503,825       |0.00330%  |0.76501%  |96.45%    \n",
      " 131| 232|Last Date      |￥485,929       |￥503,825       |0.00330%  |0.76501%  |96.45%    \n",
      "Eval num_timesteps=22000, episode_reward=0.01 +/- 0.00\n",
      "Episode length: 233.00 +/- 0.00\n",
      "  25| 499|update         |￥445,251       |￥472,144       |-0.01119% |-5.57124% |94.30%    \n",
      " 133| 232|Last Date      |￥485,450       |￥503,929       |0.00339%  |0.78570%  |96.33%    \n",
      " 134| 232|Last Date      |￥485,450       |￥503,929       |0.00339%  |0.78570%  |96.33%    \n",
      "Eval num_timesteps=22500, episode_reward=0.01 +/- 0.00\n",
      "Episode length: 233.00 +/- 0.00\n",
      "  25| 999|update         |￥388,769       |￥450,794       |-0.00986% |-9.84111% |86.24%    \n",
      "  25|1054|Last Date      |￥353,183       |￥443,320       |-0.01076% |-11.33593%|79.67%    \n",
      " 136| 232|Last Date      |￥485,646       |￥503,767       |0.00325%  |0.75334%  |96.40%    \n",
      " 137| 232|Last Date      |￥485,646       |￥503,767       |0.00325%  |0.75334%  |96.40%    \n",
      "Eval num_timesteps=23000, episode_reward=0.01 +/- 0.00\n",
      "Episode length: 233.00 +/- 0.00\n",
      "  26| 499|update         |￥320,014       |￥481,738       |-0.00733% |-3.65230% |66.43%    \n",
      "  26| 826|Last Date      |￥331,016       |￥487,462       |-0.00304% |-2.50768% |67.91%    \n",
      " 139| 232|Last Date      |￥486,169       |￥503,769       |0.00325%  |0.75376%  |96.51%    \n",
      " 140| 232|Last Date      |￥486,169       |￥503,769       |0.00325%  |0.75376%  |96.51%    \n",
      "Eval num_timesteps=23500, episode_reward=0.01 +/- 0.00\n",
      "Episode length: 233.00 +/- 0.00\n",
      "  27| 499|update         |￥372,378       |￥443,072       |-0.02286% |-11.38551%|84.04%    \n",
      " 142| 232|Last Date      |￥485,879       |￥503,852       |0.00332%  |0.77032%  |96.43%    \n",
      " 143| 232|Last Date      |￥485,879       |￥503,852       |0.00332%  |0.77032%  |96.43%    \n",
      "Eval num_timesteps=24000, episode_reward=0.01 +/- 0.00\n",
      "Episode length: 233.00 +/- 0.00\n",
      "  27| 989|Last Date      |￥320,769       |￥431,009       |-0.01395% |-13.79815%|74.42%    \n",
      " 145| 232|Last Date      |￥485,820       |￥503,868       |0.00333%  |0.77359%  |96.42%    \n",
      " 146| 232|Last Date      |￥485,820       |￥503,868       |0.00333%  |0.77359%  |96.42%    \n",
      "Eval num_timesteps=24500, episode_reward=0.01 +/- 0.00\n",
      "Episode length: 233.00 +/- 0.00\n",
      "  28| 499|update         |￥436,734       |￥488,337       |-0.00468% |-2.33269% |89.43%    \n",
      " 148| 232|Last Date      |￥486,102       |￥503,791       |0.00327%  |0.75812%  |96.49%    \n",
      " 149| 232|Last Date      |￥486,102       |￥503,791       |0.00327%  |0.75812%  |96.49%    \n",
      "Eval num_timesteps=25000, episode_reward=0.01 +/- 0.00\n",
      "Episode length: 233.00 +/- 0.00\n",
      "  28| 892|Last Date      |￥418,959       |￥465,351       |-0.00777% |-6.92979% |90.03%    \n",
      " 151| 232|Last Date      |￥486,440       |￥503,699       |0.00319%  |0.73971%  |96.57%    \n",
      " 152| 232|Last Date      |￥486,440       |￥503,699       |0.00319%  |0.73971%  |96.57%    \n",
      "Eval num_timesteps=25500, episode_reward=0.01 +/- 0.00\n",
      "Episode length: 233.00 +/- 0.00\n",
      "  29| 499|update         |￥448,128       |￥492,957       |-0.00283% |-1.40868% |90.91%    \n",
      " 154| 232|Last Date      |￥485,909       |￥503,846       |0.00332%  |0.76922%  |96.44%    \n",
      " 155| 232|Last Date      |￥485,909       |￥503,846       |0.00332%  |0.76922%  |96.44%    \n",
      "Eval num_timesteps=26000, episode_reward=0.01 +/- 0.00\n",
      "Episode length: 233.00 +/- 0.00\n",
      "  29| 999|update         |￥413,246       |￥470,277       |-0.00596% |-5.94467% |87.87%    \n",
      "  29|1126|Last Date      |￥444,442       |￥456,797       |-0.00767% |-8.64067% |97.30%    \n",
      " 157| 232|Last Date      |￥486,634       |￥503,650       |0.00315%  |0.72997%  |96.62%    \n",
      " 158| 232|Last Date      |￥486,634       |￥503,650       |0.00315%  |0.72997%  |96.62%    \n",
      "Eval num_timesteps=26500, episode_reward=0.01 +/- 0.00\n",
      "Episode length: 233.00 +/- 0.00\n",
      "  30| 499|update         |￥392,656       |￥448,966       |-0.02050% |-10.20677%|87.46%    \n",
      " 160| 232|Last Date      |￥486,857       |￥503,594       |0.00310%  |0.71888%  |96.68%    \n",
      " 161| 232|Last Date      |￥486,857       |￥503,594       |0.00310%  |0.71888%  |96.68%    \n",
      "Eval num_timesteps=27000, episode_reward=0.01 +/- 0.00\n",
      "Episode length: 233.00 +/- 0.00\n",
      "  30| 999|update         |￥318,523       |￥441,006       |-0.01182% |-11.79886%|72.23%    \n",
      " 163| 232|Last Date      |￥488,142       |￥503,249       |0.00280%  |0.64980%  |97.00%    \n",
      " 164| 232|Last Date      |￥488,142       |￥503,249       |0.00280%  |0.64980%  |97.00%    \n",
      "Eval num_timesteps=27500, episode_reward=0.01 +/- 0.00\n",
      "Episode length: 233.00 +/- 0.00\n",
      "  30|1109|Last Date      |￥310,649       |￥406,429       |-0.01687% |-18.71416%|76.43%    \n",
      " 166| 232|Last Date      |￥488,005       |￥503,284       |0.00283%  |0.65685%  |96.96%    \n"
     ]
    },
    {
     "ename": "KeyboardInterrupt",
     "evalue": "",
     "output_type": "error",
     "traceback": [
      "\u001b[1;31m---------------------------------------------------------------------------\u001b[0m",
      "\u001b[1;31mKeyboardInterrupt\u001b[0m                         Traceback (most recent call last)",
      "\u001b[1;32m<ipython-input-29-fab02bebbcac>\u001b[0m in \u001b[0;36m<module>\u001b[1;34m\u001b[0m\n\u001b[0;32m      4\u001b[0m             \u001b[0mlog_interval\u001b[0m \u001b[1;33m=\u001b[0m \u001b[1;36m1\u001b[0m\u001b[1;33m,\u001b[0m\u001b[1;33m\u001b[0m\u001b[1;33m\u001b[0m\u001b[0m\n\u001b[0;32m      5\u001b[0m             \u001b[0mtb_log_name\u001b[0m \u001b[1;33m=\u001b[0m \u001b[1;34m'env_cashpenalty_highlr'\u001b[0m\u001b[1;33m,\u001b[0m\u001b[1;33m\u001b[0m\u001b[1;33m\u001b[0m\u001b[0m\n\u001b[1;32m----> 6\u001b[1;33m             n_eval_episodes = 2)\n\u001b[0m",
      "\u001b[1;32md:\\code\\python\\stable-baselines3\\stable_baselines3\\ppo\\ppo.py\u001b[0m in \u001b[0;36mlearn\u001b[1;34m(self, total_timesteps, callback, log_interval, eval_env, eval_freq, n_eval_episodes, tb_log_name, eval_log_path, reset_num_timesteps)\u001b[0m\n\u001b[0;32m    306\u001b[0m             \u001b[0mtb_log_name\u001b[0m\u001b[1;33m=\u001b[0m\u001b[0mtb_log_name\u001b[0m\u001b[1;33m,\u001b[0m\u001b[1;33m\u001b[0m\u001b[1;33m\u001b[0m\u001b[0m\n\u001b[0;32m    307\u001b[0m             \u001b[0meval_log_path\u001b[0m\u001b[1;33m=\u001b[0m\u001b[0meval_log_path\u001b[0m\u001b[1;33m,\u001b[0m\u001b[1;33m\u001b[0m\u001b[1;33m\u001b[0m\u001b[0m\n\u001b[1;32m--> 308\u001b[1;33m             \u001b[0mreset_num_timesteps\u001b[0m\u001b[1;33m=\u001b[0m\u001b[0mreset_num_timesteps\u001b[0m\u001b[1;33m,\u001b[0m\u001b[1;33m\u001b[0m\u001b[1;33m\u001b[0m\u001b[0m\n\u001b[0m\u001b[0;32m    309\u001b[0m         )\n",
      "\u001b[1;32md:\\code\\python\\stable-baselines3\\stable_baselines3\\common\\on_policy_algorithm.py\u001b[0m in \u001b[0;36mlearn\u001b[1;34m(self, total_timesteps, callback, log_interval, eval_env, eval_freq, n_eval_episodes, tb_log_name, eval_log_path, reset_num_timesteps)\u001b[0m\n\u001b[0;32m    248\u001b[0m         \u001b[1;32mwhile\u001b[0m \u001b[0mself\u001b[0m\u001b[1;33m.\u001b[0m\u001b[0mnum_timesteps\u001b[0m \u001b[1;33m<\u001b[0m \u001b[0mtotal_timesteps\u001b[0m\u001b[1;33m:\u001b[0m\u001b[1;33m\u001b[0m\u001b[1;33m\u001b[0m\u001b[0m\n\u001b[0;32m    249\u001b[0m \u001b[1;33m\u001b[0m\u001b[0m\n\u001b[1;32m--> 250\u001b[1;33m             \u001b[0mcontinue_training\u001b[0m \u001b[1;33m=\u001b[0m \u001b[0mself\u001b[0m\u001b[1;33m.\u001b[0m\u001b[0mcollect_rollouts\u001b[0m\u001b[1;33m(\u001b[0m\u001b[0mself\u001b[0m\u001b[1;33m.\u001b[0m\u001b[0menv\u001b[0m\u001b[1;33m,\u001b[0m \u001b[0mcallback\u001b[0m\u001b[1;33m,\u001b[0m \u001b[0mself\u001b[0m\u001b[1;33m.\u001b[0m\u001b[0mrollout_buffer\u001b[0m\u001b[1;33m,\u001b[0m \u001b[0mn_rollout_steps\u001b[0m\u001b[1;33m=\u001b[0m\u001b[0mself\u001b[0m\u001b[1;33m.\u001b[0m\u001b[0mn_steps\u001b[0m\u001b[1;33m)\u001b[0m\u001b[1;33m\u001b[0m\u001b[1;33m\u001b[0m\u001b[0m\n\u001b[0m\u001b[0;32m    251\u001b[0m \u001b[1;33m\u001b[0m\u001b[0m\n\u001b[0;32m    252\u001b[0m             \u001b[1;32mif\u001b[0m \u001b[0mcontinue_training\u001b[0m \u001b[1;32mis\u001b[0m \u001b[1;32mFalse\u001b[0m\u001b[1;33m:\u001b[0m\u001b[1;33m\u001b[0m\u001b[1;33m\u001b[0m\u001b[0m\n",
      "\u001b[1;32md:\\code\\python\\stable-baselines3\\stable_baselines3\\common\\on_policy_algorithm.py\u001b[0m in \u001b[0;36mcollect_rollouts\u001b[1;34m(self, env, callback, rollout_buffer, n_rollout_steps)\u001b[0m\n\u001b[0;32m    182\u001b[0m             \u001b[1;31m# Give access to local variables\u001b[0m\u001b[1;33m\u001b[0m\u001b[1;33m\u001b[0m\u001b[1;33m\u001b[0m\u001b[0m\n\u001b[0;32m    183\u001b[0m             \u001b[0mcallback\u001b[0m\u001b[1;33m.\u001b[0m\u001b[0mupdate_locals\u001b[0m\u001b[1;33m(\u001b[0m\u001b[0mlocals\u001b[0m\u001b[1;33m(\u001b[0m\u001b[1;33m)\u001b[0m\u001b[1;33m)\u001b[0m\u001b[1;33m\u001b[0m\u001b[1;33m\u001b[0m\u001b[0m\n\u001b[1;32m--> 184\u001b[1;33m             \u001b[1;32mif\u001b[0m \u001b[0mcallback\u001b[0m\u001b[1;33m.\u001b[0m\u001b[0mon_step\u001b[0m\u001b[1;33m(\u001b[0m\u001b[1;33m)\u001b[0m \u001b[1;32mis\u001b[0m \u001b[1;32mFalse\u001b[0m\u001b[1;33m:\u001b[0m\u001b[1;33m\u001b[0m\u001b[1;33m\u001b[0m\u001b[0m\n\u001b[0m\u001b[0;32m    185\u001b[0m                 \u001b[1;32mreturn\u001b[0m \u001b[1;32mFalse\u001b[0m\u001b[1;33m\u001b[0m\u001b[1;33m\u001b[0m\u001b[0m\n\u001b[0;32m    186\u001b[0m \u001b[1;33m\u001b[0m\u001b[0m\n",
      "\u001b[1;32md:\\code\\python\\stable-baselines3\\stable_baselines3\\common\\callbacks.py\u001b[0m in \u001b[0;36mon_step\u001b[1;34m(self)\u001b[0m\n\u001b[0;32m     86\u001b[0m         \u001b[0mself\u001b[0m\u001b[1;33m.\u001b[0m\u001b[0mnum_timesteps\u001b[0m \u001b[1;33m=\u001b[0m \u001b[0mself\u001b[0m\u001b[1;33m.\u001b[0m\u001b[0mmodel\u001b[0m\u001b[1;33m.\u001b[0m\u001b[0mnum_timesteps\u001b[0m\u001b[1;33m\u001b[0m\u001b[1;33m\u001b[0m\u001b[0m\n\u001b[0;32m     87\u001b[0m \u001b[1;33m\u001b[0m\u001b[0m\n\u001b[1;32m---> 88\u001b[1;33m         \u001b[1;32mreturn\u001b[0m \u001b[0mself\u001b[0m\u001b[1;33m.\u001b[0m\u001b[0m_on_step\u001b[0m\u001b[1;33m(\u001b[0m\u001b[1;33m)\u001b[0m\u001b[1;33m\u001b[0m\u001b[1;33m\u001b[0m\u001b[0m\n\u001b[0m\u001b[0;32m     89\u001b[0m \u001b[1;33m\u001b[0m\u001b[0m\n\u001b[0;32m     90\u001b[0m     \u001b[1;32mdef\u001b[0m \u001b[0mon_training_end\u001b[0m\u001b[1;33m(\u001b[0m\u001b[0mself\u001b[0m\u001b[1;33m)\u001b[0m \u001b[1;33m->\u001b[0m \u001b[1;32mNone\u001b[0m\u001b[1;33m:\u001b[0m\u001b[1;33m\u001b[0m\u001b[1;33m\u001b[0m\u001b[0m\n",
      "\u001b[1;32md:\\code\\python\\stable-baselines3\\stable_baselines3\\common\\callbacks.py\u001b[0m in \u001b[0;36m_on_step\u001b[1;34m(self)\u001b[0m\n\u001b[0;32m    190\u001b[0m         \u001b[1;32mfor\u001b[0m \u001b[0mcallback\u001b[0m \u001b[1;32min\u001b[0m \u001b[0mself\u001b[0m\u001b[1;33m.\u001b[0m\u001b[0mcallbacks\u001b[0m\u001b[1;33m:\u001b[0m\u001b[1;33m\u001b[0m\u001b[1;33m\u001b[0m\u001b[0m\n\u001b[0;32m    191\u001b[0m             \u001b[1;31m# Return False (stop training) if at least one callback returns False\u001b[0m\u001b[1;33m\u001b[0m\u001b[1;33m\u001b[0m\u001b[1;33m\u001b[0m\u001b[0m\n\u001b[1;32m--> 192\u001b[1;33m             \u001b[0mcontinue_training\u001b[0m \u001b[1;33m=\u001b[0m \u001b[0mcallback\u001b[0m\u001b[1;33m.\u001b[0m\u001b[0mon_step\u001b[0m\u001b[1;33m(\u001b[0m\u001b[1;33m)\u001b[0m \u001b[1;32mand\u001b[0m \u001b[0mcontinue_training\u001b[0m\u001b[1;33m\u001b[0m\u001b[1;33m\u001b[0m\u001b[0m\n\u001b[0m\u001b[0;32m    193\u001b[0m         \u001b[1;32mreturn\u001b[0m \u001b[0mcontinue_training\u001b[0m\u001b[1;33m\u001b[0m\u001b[1;33m\u001b[0m\u001b[0m\n\u001b[0;32m    194\u001b[0m \u001b[1;33m\u001b[0m\u001b[0m\n",
      "\u001b[1;32md:\\code\\python\\stable-baselines3\\stable_baselines3\\common\\callbacks.py\u001b[0m in \u001b[0;36mon_step\u001b[1;34m(self)\u001b[0m\n\u001b[0;32m     86\u001b[0m         \u001b[0mself\u001b[0m\u001b[1;33m.\u001b[0m\u001b[0mnum_timesteps\u001b[0m \u001b[1;33m=\u001b[0m \u001b[0mself\u001b[0m\u001b[1;33m.\u001b[0m\u001b[0mmodel\u001b[0m\u001b[1;33m.\u001b[0m\u001b[0mnum_timesteps\u001b[0m\u001b[1;33m\u001b[0m\u001b[1;33m\u001b[0m\u001b[0m\n\u001b[0;32m     87\u001b[0m \u001b[1;33m\u001b[0m\u001b[0m\n\u001b[1;32m---> 88\u001b[1;33m         \u001b[1;32mreturn\u001b[0m \u001b[0mself\u001b[0m\u001b[1;33m.\u001b[0m\u001b[0m_on_step\u001b[0m\u001b[1;33m(\u001b[0m\u001b[1;33m)\u001b[0m\u001b[1;33m\u001b[0m\u001b[1;33m\u001b[0m\u001b[0m\n\u001b[0m\u001b[0;32m     89\u001b[0m \u001b[1;33m\u001b[0m\u001b[0m\n\u001b[0;32m     90\u001b[0m     \u001b[1;32mdef\u001b[0m \u001b[0mon_training_end\u001b[0m\u001b[1;33m(\u001b[0m\u001b[0mself\u001b[0m\u001b[1;33m)\u001b[0m \u001b[1;33m->\u001b[0m \u001b[1;32mNone\u001b[0m\u001b[1;33m:\u001b[0m\u001b[1;33m\u001b[0m\u001b[1;33m\u001b[0m\u001b[0m\n",
      "\u001b[1;32md:\\code\\python\\stable-baselines3\\stable_baselines3\\common\\callbacks.py\u001b[0m in \u001b[0;36m_on_step\u001b[1;34m(self)\u001b[0m\n\u001b[0;32m    384\u001b[0m                 \u001b[0mreturn_episode_rewards\u001b[0m\u001b[1;33m=\u001b[0m\u001b[1;32mTrue\u001b[0m\u001b[1;33m,\u001b[0m\u001b[1;33m\u001b[0m\u001b[1;33m\u001b[0m\u001b[0m\n\u001b[0;32m    385\u001b[0m                 \u001b[0mwarn\u001b[0m\u001b[1;33m=\u001b[0m\u001b[0mself\u001b[0m\u001b[1;33m.\u001b[0m\u001b[0mwarn\u001b[0m\u001b[1;33m,\u001b[0m\u001b[1;33m\u001b[0m\u001b[1;33m\u001b[0m\u001b[0m\n\u001b[1;32m--> 386\u001b[1;33m                 \u001b[0mcallback\u001b[0m\u001b[1;33m=\u001b[0m\u001b[0mself\u001b[0m\u001b[1;33m.\u001b[0m\u001b[0m_log_success_callback\u001b[0m\u001b[1;33m,\u001b[0m\u001b[1;33m\u001b[0m\u001b[1;33m\u001b[0m\u001b[0m\n\u001b[0m\u001b[0;32m    387\u001b[0m             )\n\u001b[0;32m    388\u001b[0m \u001b[1;33m\u001b[0m\u001b[0m\n",
      "\u001b[1;32md:\\code\\python\\stable-baselines3\\stable_baselines3\\common\\evaluation.py\u001b[0m in \u001b[0;36mevaluate_policy\u001b[1;34m(model, env, n_eval_episodes, deterministic, render, callback, reward_threshold, return_episode_rewards, warn)\u001b[0m\n\u001b[0;32m     84\u001b[0m     \u001b[0mepisode_starts\u001b[0m \u001b[1;33m=\u001b[0m \u001b[0mnp\u001b[0m\u001b[1;33m.\u001b[0m\u001b[0mones\u001b[0m\u001b[1;33m(\u001b[0m\u001b[1;33m(\u001b[0m\u001b[0menv\u001b[0m\u001b[1;33m.\u001b[0m\u001b[0mnum_envs\u001b[0m\u001b[1;33m,\u001b[0m\u001b[1;33m)\u001b[0m\u001b[1;33m,\u001b[0m \u001b[0mdtype\u001b[0m\u001b[1;33m=\u001b[0m\u001b[0mbool\u001b[0m\u001b[1;33m)\u001b[0m\u001b[1;33m\u001b[0m\u001b[1;33m\u001b[0m\u001b[0m\n\u001b[0;32m     85\u001b[0m     \u001b[1;32mwhile\u001b[0m \u001b[1;33m(\u001b[0m\u001b[0mepisode_counts\u001b[0m \u001b[1;33m<\u001b[0m \u001b[0mepisode_count_targets\u001b[0m\u001b[1;33m)\u001b[0m\u001b[1;33m.\u001b[0m\u001b[0many\u001b[0m\u001b[1;33m(\u001b[0m\u001b[1;33m)\u001b[0m\u001b[1;33m:\u001b[0m\u001b[1;33m\u001b[0m\u001b[1;33m\u001b[0m\u001b[0m\n\u001b[1;32m---> 86\u001b[1;33m         \u001b[0mactions\u001b[0m\u001b[1;33m,\u001b[0m \u001b[0mstates\u001b[0m \u001b[1;33m=\u001b[0m \u001b[0mmodel\u001b[0m\u001b[1;33m.\u001b[0m\u001b[0mpredict\u001b[0m\u001b[1;33m(\u001b[0m\u001b[0mobservations\u001b[0m\u001b[1;33m,\u001b[0m \u001b[0mstate\u001b[0m\u001b[1;33m=\u001b[0m\u001b[0mstates\u001b[0m\u001b[1;33m,\u001b[0m \u001b[0mepisode_start\u001b[0m\u001b[1;33m=\u001b[0m\u001b[0mepisode_starts\u001b[0m\u001b[1;33m,\u001b[0m \u001b[0mdeterministic\u001b[0m\u001b[1;33m=\u001b[0m\u001b[0mdeterministic\u001b[0m\u001b[1;33m)\u001b[0m\u001b[1;33m\u001b[0m\u001b[1;33m\u001b[0m\u001b[0m\n\u001b[0m\u001b[0;32m     87\u001b[0m         \u001b[0mobservations\u001b[0m\u001b[1;33m,\u001b[0m \u001b[0mrewards\u001b[0m\u001b[1;33m,\u001b[0m \u001b[0mdones\u001b[0m\u001b[1;33m,\u001b[0m \u001b[0minfos\u001b[0m \u001b[1;33m=\u001b[0m \u001b[0menv\u001b[0m\u001b[1;33m.\u001b[0m\u001b[0mstep\u001b[0m\u001b[1;33m(\u001b[0m\u001b[0mactions\u001b[0m\u001b[1;33m)\u001b[0m\u001b[1;33m\u001b[0m\u001b[1;33m\u001b[0m\u001b[0m\n\u001b[0;32m     88\u001b[0m         \u001b[0mcurrent_rewards\u001b[0m \u001b[1;33m+=\u001b[0m \u001b[0mrewards\u001b[0m\u001b[1;33m\u001b[0m\u001b[1;33m\u001b[0m\u001b[0m\n",
      "\u001b[1;32md:\\code\\python\\stable-baselines3\\stable_baselines3\\common\\base_class.py\u001b[0m in \u001b[0;36mpredict\u001b[1;34m(self, observation, state, episode_start, deterministic)\u001b[0m\n\u001b[0;32m    560\u001b[0m             \u001b[1;33m(\u001b[0m\u001b[0mused\u001b[0m \u001b[1;32min\u001b[0m \u001b[0mrecurrent\u001b[0m \u001b[0mpolicies\u001b[0m\u001b[1;33m)\u001b[0m\u001b[1;33m\u001b[0m\u001b[1;33m\u001b[0m\u001b[0m\n\u001b[0;32m    561\u001b[0m         \"\"\"\n\u001b[1;32m--> 562\u001b[1;33m         \u001b[1;32mreturn\u001b[0m \u001b[0mself\u001b[0m\u001b[1;33m.\u001b[0m\u001b[0mpolicy\u001b[0m\u001b[1;33m.\u001b[0m\u001b[0mpredict\u001b[0m\u001b[1;33m(\u001b[0m\u001b[0mobservation\u001b[0m\u001b[1;33m,\u001b[0m \u001b[0mstate\u001b[0m\u001b[1;33m,\u001b[0m \u001b[0mepisode_start\u001b[0m\u001b[1;33m,\u001b[0m \u001b[0mdeterministic\u001b[0m\u001b[1;33m)\u001b[0m\u001b[1;33m\u001b[0m\u001b[1;33m\u001b[0m\u001b[0m\n\u001b[0m\u001b[0;32m    563\u001b[0m \u001b[1;33m\u001b[0m\u001b[0m\n\u001b[0;32m    564\u001b[0m     \u001b[1;32mdef\u001b[0m \u001b[0mset_random_seed\u001b[0m\u001b[1;33m(\u001b[0m\u001b[0mself\u001b[0m\u001b[1;33m,\u001b[0m \u001b[0mseed\u001b[0m\u001b[1;33m:\u001b[0m \u001b[0mOptional\u001b[0m\u001b[1;33m[\u001b[0m\u001b[0mint\u001b[0m\u001b[1;33m]\u001b[0m \u001b[1;33m=\u001b[0m \u001b[1;32mNone\u001b[0m\u001b[1;33m)\u001b[0m \u001b[1;33m->\u001b[0m \u001b[1;32mNone\u001b[0m\u001b[1;33m:\u001b[0m\u001b[1;33m\u001b[0m\u001b[1;33m\u001b[0m\u001b[0m\n",
      "\u001b[1;32md:\\code\\python\\stable-baselines3\\stable_baselines3\\common\\policies.py\u001b[0m in \u001b[0;36mpredict\u001b[1;34m(self, observation, state, episode_start, deterministic)\u001b[0m\n\u001b[0;32m    333\u001b[0m         \u001b[0mself\u001b[0m\u001b[1;33m.\u001b[0m\u001b[0mset_training_mode\u001b[0m\u001b[1;33m(\u001b[0m\u001b[1;32mFalse\u001b[0m\u001b[1;33m)\u001b[0m\u001b[1;33m\u001b[0m\u001b[1;33m\u001b[0m\u001b[0m\n\u001b[0;32m    334\u001b[0m \u001b[1;33m\u001b[0m\u001b[0m\n\u001b[1;32m--> 335\u001b[1;33m         \u001b[0mobservation\u001b[0m\u001b[1;33m,\u001b[0m \u001b[0mvectorized_env\u001b[0m \u001b[1;33m=\u001b[0m \u001b[0mself\u001b[0m\u001b[1;33m.\u001b[0m\u001b[0mobs_to_tensor\u001b[0m\u001b[1;33m(\u001b[0m\u001b[0mobservation\u001b[0m\u001b[1;33m)\u001b[0m\u001b[1;33m\u001b[0m\u001b[1;33m\u001b[0m\u001b[0m\n\u001b[0m\u001b[0;32m    336\u001b[0m \u001b[1;33m\u001b[0m\u001b[0m\n\u001b[0;32m    337\u001b[0m         \u001b[1;32mwith\u001b[0m \u001b[0mth\u001b[0m\u001b[1;33m.\u001b[0m\u001b[0mno_grad\u001b[0m\u001b[1;33m(\u001b[0m\u001b[1;33m)\u001b[0m\u001b[1;33m:\u001b[0m\u001b[1;33m\u001b[0m\u001b[1;33m\u001b[0m\u001b[0m\n",
      "\u001b[1;32md:\\code\\python\\stable-baselines3\\stable_baselines3\\common\\policies.py\u001b[0m in \u001b[0;36mobs_to_tensor\u001b[1;34m(self, observation)\u001b[0m\n\u001b[0;32m    252\u001b[0m             \u001b[0mobservation\u001b[0m \u001b[1;33m=\u001b[0m \u001b[0mobservation\u001b[0m\u001b[1;33m.\u001b[0m\u001b[0mreshape\u001b[0m\u001b[1;33m(\u001b[0m\u001b[1;33m(\u001b[0m\u001b[1;33m-\u001b[0m\u001b[1;36m1\u001b[0m\u001b[1;33m,\u001b[0m\u001b[1;33m)\u001b[0m \u001b[1;33m+\u001b[0m \u001b[0mself\u001b[0m\u001b[1;33m.\u001b[0m\u001b[0mobservation_space\u001b[0m\u001b[1;33m.\u001b[0m\u001b[0mshape\u001b[0m\u001b[1;33m)\u001b[0m\u001b[1;33m\u001b[0m\u001b[1;33m\u001b[0m\u001b[0m\n\u001b[0;32m    253\u001b[0m \u001b[1;33m\u001b[0m\u001b[0m\n\u001b[1;32m--> 254\u001b[1;33m         \u001b[0mobservation\u001b[0m \u001b[1;33m=\u001b[0m \u001b[0mobs_as_tensor\u001b[0m\u001b[1;33m(\u001b[0m\u001b[0mobservation\u001b[0m\u001b[1;33m,\u001b[0m \u001b[0mself\u001b[0m\u001b[1;33m.\u001b[0m\u001b[0mdevice\u001b[0m\u001b[1;33m)\u001b[0m\u001b[1;33m\u001b[0m\u001b[1;33m\u001b[0m\u001b[0m\n\u001b[0m\u001b[0;32m    255\u001b[0m         \u001b[1;32mreturn\u001b[0m \u001b[0mobservation\u001b[0m\u001b[1;33m,\u001b[0m \u001b[0mvectorized_env\u001b[0m\u001b[1;33m\u001b[0m\u001b[1;33m\u001b[0m\u001b[0m\n\u001b[0;32m    256\u001b[0m \u001b[1;33m\u001b[0m\u001b[0m\n",
      "\u001b[1;32md:\\code\\python\\stable-baselines3\\stable_baselines3\\common\\utils.py\u001b[0m in \u001b[0;36mobs_as_tensor\u001b[1;34m(obs, device)\u001b[0m\n\u001b[0;32m    446\u001b[0m     \"\"\"\n\u001b[0;32m    447\u001b[0m     \u001b[1;32mif\u001b[0m \u001b[0misinstance\u001b[0m\u001b[1;33m(\u001b[0m\u001b[0mobs\u001b[0m\u001b[1;33m,\u001b[0m \u001b[0mnp\u001b[0m\u001b[1;33m.\u001b[0m\u001b[0mndarray\u001b[0m\u001b[1;33m)\u001b[0m\u001b[1;33m:\u001b[0m\u001b[1;33m\u001b[0m\u001b[1;33m\u001b[0m\u001b[0m\n\u001b[1;32m--> 448\u001b[1;33m         \u001b[1;32mreturn\u001b[0m \u001b[0mth\u001b[0m\u001b[1;33m.\u001b[0m\u001b[0mas_tensor\u001b[0m\u001b[1;33m(\u001b[0m\u001b[0mobs\u001b[0m\u001b[1;33m)\u001b[0m\u001b[1;33m.\u001b[0m\u001b[0mto\u001b[0m\u001b[1;33m(\u001b[0m\u001b[0mdevice\u001b[0m\u001b[1;33m)\u001b[0m\u001b[1;33m\u001b[0m\u001b[1;33m\u001b[0m\u001b[0m\n\u001b[0m\u001b[0;32m    449\u001b[0m     \u001b[1;32melif\u001b[0m \u001b[0misinstance\u001b[0m\u001b[1;33m(\u001b[0m\u001b[0mobs\u001b[0m\u001b[1;33m,\u001b[0m \u001b[0mdict\u001b[0m\u001b[1;33m)\u001b[0m\u001b[1;33m:\u001b[0m\u001b[1;33m\u001b[0m\u001b[1;33m\u001b[0m\u001b[0m\n\u001b[0;32m    450\u001b[0m         \u001b[1;32mreturn\u001b[0m \u001b[1;33m{\u001b[0m\u001b[0mkey\u001b[0m\u001b[1;33m:\u001b[0m \u001b[0mth\u001b[0m\u001b[1;33m.\u001b[0m\u001b[0mas_tensor\u001b[0m\u001b[1;33m(\u001b[0m\u001b[0m_obs\u001b[0m\u001b[1;33m)\u001b[0m\u001b[1;33m.\u001b[0m\u001b[0mto\u001b[0m\u001b[1;33m(\u001b[0m\u001b[0mdevice\u001b[0m\u001b[1;33m)\u001b[0m \u001b[1;32mfor\u001b[0m \u001b[1;33m(\u001b[0m\u001b[0mkey\u001b[0m\u001b[1;33m,\u001b[0m \u001b[0m_obs\u001b[0m\u001b[1;33m)\u001b[0m \u001b[1;32min\u001b[0m \u001b[0mobs\u001b[0m\u001b[1;33m.\u001b[0m\u001b[0mitems\u001b[0m\u001b[1;33m(\u001b[0m\u001b[1;33m)\u001b[0m\u001b[1;33m}\u001b[0m\u001b[1;33m\u001b[0m\u001b[1;33m\u001b[0m\u001b[0m\n",
      "\u001b[1;31mKeyboardInterrupt\u001b[0m: "
     ]
    }
   ],
   "source": [
    "model.learn(total_timesteps = 200000, # 5000000\n",
    "            eval_env = env_trade, \n",
    "            eval_freq = 500, \n",
    "            log_interval = 1, \n",
    "            tb_log_name = 'env_cashpenalty_highlr', \n",
    "            n_eval_episodes = 2)"
   ]
  },
  {
   "cell_type": "code",
   "execution_count": 28,
   "metadata": {
    "id": "9Jbf8TQq3fEc"
   },
   "outputs": [],
   "source": [
    "# model.save('different1_24.model')"
   ]
  },
  {
   "cell_type": "code",
   "execution_count": null,
   "metadata": {},
   "outputs": [],
   "source": []
  },
  {
   "cell_type": "code",
   "execution_count": 30,
   "metadata": {},
   "outputs": [],
   "source": [
    "obs = env_trade.reset()\n",
    "\n",
    "done, state = False, None\n",
    "# while not done:\n",
    "for _ in range(50):\n",
    "    action, state = model.predict(obs, state=state, deterministic=True)\n",
    "    obs, reward, done, _info = env_trade.step(action)"
   ]
  },
  {
   "cell_type": "markdown",
   "metadata": {
    "id": "U5mmgQF_h1jQ"
   },
   "source": [
    "### Trade\n",
    "\n",
    "DRL model needs to update periodically in order to take full advantage of the data, ideally we need to retrain our model yearly, quarterly, or monthly. We also need to tune the parameters along the way, in this notebook I only use the in-sample data from 2009-01 to 2018-12 to tune the parameters once, so there is some alpha decay here as the length of trade date extends. \n",
    "\n",
    "Numerous hyperparameters – e.g. the learning rate, the total number of samples to train on – influence the learning process and are usually determined by testing some variations."
   ]
  },
  {
   "cell_type": "code",
   "execution_count": 31,
   "metadata": {
    "id": "gABFy6u03fEc",
    "outputId": "ddc30b52-0746-486c-b98d-4a41071fb1fd"
   },
   "outputs": [
    {
     "data": {
      "text/html": [
       "<div>\n",
       "<style scoped>\n",
       "    .dataframe tbody tr th:only-of-type {\n",
       "        vertical-align: middle;\n",
       "    }\n",
       "\n",
       "    .dataframe tbody tr th {\n",
       "        vertical-align: top;\n",
       "    }\n",
       "\n",
       "    .dataframe thead th {\n",
       "        text-align: right;\n",
       "    }\n",
       "</style>\n",
       "<table border=\"1\" class=\"dataframe\">\n",
       "  <thead>\n",
       "    <tr style=\"text-align: right;\">\n",
       "      <th></th>\n",
       "      <th>open</th>\n",
       "      <th>close</th>\n",
       "      <th>high</th>\n",
       "      <th>low</th>\n",
       "      <th>volume</th>\n",
       "      <th>amount</th>\n",
       "      <th>tic</th>\n",
       "      <th>date</th>\n",
       "      <th>day</th>\n",
       "      <th>macd</th>\n",
       "      <th>boll_ub</th>\n",
       "      <th>boll_lb</th>\n",
       "      <th>rsi_30</th>\n",
       "      <th>cci_30</th>\n",
       "      <th>dx_30</th>\n",
       "      <th>close_30_sma</th>\n",
       "      <th>close_60_sma</th>\n",
       "      <th>log_volume</th>\n",
       "      <th>change</th>\n",
       "      <th>daily_variance</th>\n",
       "    </tr>\n",
       "  </thead>\n",
       "  <tbody>\n",
       "    <tr>\n",
       "      <th>0</th>\n",
       "      <td>4.64</td>\n",
       "      <td>4.74</td>\n",
       "      <td>4.84</td>\n",
       "      <td>4.60</td>\n",
       "      <td>93897448.0</td>\n",
       "      <td>445941472.0</td>\n",
       "      <td>600428</td>\n",
       "      <td>2021-01-04</td>\n",
       "      <td>0</td>\n",
       "      <td>0.139979</td>\n",
       "      <td>4.783990</td>\n",
       "      <td>3.585010</td>\n",
       "      <td>59.778697</td>\n",
       "      <td>105.466593</td>\n",
       "      <td>43.189911</td>\n",
       "      <td>4.297667</td>\n",
       "      <td>3.944000</td>\n",
       "      <td>19.913751</td>\n",
       "      <td>0.021097</td>\n",
       "      <td>0.050633</td>\n",
       "    </tr>\n",
       "    <tr>\n",
       "      <th>0</th>\n",
       "      <td>4.71</td>\n",
       "      <td>4.80</td>\n",
       "      <td>4.92</td>\n",
       "      <td>4.70</td>\n",
       "      <td>83298224.0</td>\n",
       "      <td>404595648.0</td>\n",
       "      <td>600433</td>\n",
       "      <td>2021-01-04</td>\n",
       "      <td>0</td>\n",
       "      <td>0.149423</td>\n",
       "      <td>4.668935</td>\n",
       "      <td>3.868065</td>\n",
       "      <td>65.988517</td>\n",
       "      <td>186.383552</td>\n",
       "      <td>49.396656</td>\n",
       "      <td>4.191333</td>\n",
       "      <td>3.827000</td>\n",
       "      <td>19.806554</td>\n",
       "      <td>0.018750</td>\n",
       "      <td>0.045833</td>\n",
       "    </tr>\n",
       "    <tr>\n",
       "      <th>0</th>\n",
       "      <td>2.47</td>\n",
       "      <td>2.47</td>\n",
       "      <td>2.50</td>\n",
       "      <td>2.43</td>\n",
       "      <td>10972837.0</td>\n",
       "      <td>26985688.0</td>\n",
       "      <td>600439</td>\n",
       "      <td>2021-01-04</td>\n",
       "      <td>0</td>\n",
       "      <td>-0.122469</td>\n",
       "      <td>2.993202</td>\n",
       "      <td>2.413798</td>\n",
       "      <td>32.774391</td>\n",
       "      <td>-145.161290</td>\n",
       "      <td>68.589322</td>\n",
       "      <td>2.806000</td>\n",
       "      <td>2.908167</td>\n",
       "      <td>17.115152</td>\n",
       "      <td>0.000000</td>\n",
       "      <td>0.028340</td>\n",
       "    </tr>\n",
       "    <tr>\n",
       "      <th>0</th>\n",
       "      <td>5.22</td>\n",
       "      <td>5.32</td>\n",
       "      <td>5.40</td>\n",
       "      <td>5.20</td>\n",
       "      <td>14183933.0</td>\n",
       "      <td>76075184.0</td>\n",
       "      <td>600469</td>\n",
       "      <td>2021-01-04</td>\n",
       "      <td>0</td>\n",
       "      <td>0.034947</td>\n",
       "      <td>5.265100</td>\n",
       "      <td>4.719900</td>\n",
       "      <td>57.971339</td>\n",
       "      <td>129.209622</td>\n",
       "      <td>47.175939</td>\n",
       "      <td>5.054333</td>\n",
       "      <td>4.981500</td>\n",
       "      <td>18.139094</td>\n",
       "      <td>0.018797</td>\n",
       "      <td>0.037594</td>\n",
       "    </tr>\n",
       "    <tr>\n",
       "      <th>0</th>\n",
       "      <td>4.93</td>\n",
       "      <td>4.92</td>\n",
       "      <td>4.95</td>\n",
       "      <td>4.90</td>\n",
       "      <td>7965500.0</td>\n",
       "      <td>39298684.0</td>\n",
       "      <td>600488</td>\n",
       "      <td>2021-01-04</td>\n",
       "      <td>0</td>\n",
       "      <td>-0.020858</td>\n",
       "      <td>5.263111</td>\n",
       "      <td>4.775889</td>\n",
       "      <td>47.171897</td>\n",
       "      <td>-96.316131</td>\n",
       "      <td>0.318032</td>\n",
       "      <td>5.050000</td>\n",
       "      <td>5.039667</td>\n",
       "      <td>17.483939</td>\n",
       "      <td>-0.002033</td>\n",
       "      <td>0.010163</td>\n",
       "    </tr>\n",
       "  </tbody>\n",
       "</table>\n",
       "</div>"
      ],
      "text/plain": [
       "   open  close  high   low      volume       amount     tic       date  day  \\\n",
       "0  4.64   4.74  4.84  4.60  93897448.0  445941472.0  600428 2021-01-04    0   \n",
       "0  4.71   4.80  4.92  4.70  83298224.0  404595648.0  600433 2021-01-04    0   \n",
       "0  2.47   2.47  2.50  2.43  10972837.0   26985688.0  600439 2021-01-04    0   \n",
       "0  5.22   5.32  5.40  5.20  14183933.0   76075184.0  600469 2021-01-04    0   \n",
       "0  4.93   4.92  4.95  4.90   7965500.0   39298684.0  600488 2021-01-04    0   \n",
       "\n",
       "       macd   boll_ub   boll_lb     rsi_30      cci_30      dx_30  \\\n",
       "0  0.139979  4.783990  3.585010  59.778697  105.466593  43.189911   \n",
       "0  0.149423  4.668935  3.868065  65.988517  186.383552  49.396656   \n",
       "0 -0.122469  2.993202  2.413798  32.774391 -145.161290  68.589322   \n",
       "0  0.034947  5.265100  4.719900  57.971339  129.209622  47.175939   \n",
       "0 -0.020858  5.263111  4.775889  47.171897  -96.316131   0.318032   \n",
       "\n",
       "   close_30_sma  close_60_sma  log_volume    change  daily_variance  \n",
       "0      4.297667      3.944000   19.913751  0.021097        0.050633  \n",
       "0      4.191333      3.827000   19.806554  0.018750        0.045833  \n",
       "0      2.806000      2.908167   17.115152  0.000000        0.028340  \n",
       "0      5.054333      4.981500   18.139094  0.018797        0.037594  \n",
       "0      5.050000      5.039667   17.483939 -0.002033        0.010163  "
      ]
     },
     "execution_count": 31,
     "metadata": {},
     "output_type": "execute_result"
    }
   ],
   "source": [
    "trade.head()"
   ]
  },
  {
   "cell_type": "code",
   "execution_count": 32,
   "metadata": {
    "id": "eLOnL5eYh1jR"
   },
   "outputs": [],
   "source": [
    "e_trade_gym.hmax = 5000"
   ]
  },
  {
   "cell_type": "code",
   "execution_count": 33,
   "metadata": {
    "id": "Bq9BaTCQ3fEc",
    "outputId": "9db151c8-e2ce-4ac2-b176-7469d9af6f4d"
   },
   "outputs": [
    {
     "name": "stdout",
     "output_type": "stream",
     "text": [
      "233\n"
     ]
    }
   ],
   "source": [
    "print(len(e_trade_gym.dates))"
   ]
  },
  {
   "cell_type": "code",
   "execution_count": 34,
   "metadata": {
    "id": "WlDYBI9e3fEd",
    "outputId": "98d94151-ffc9-4121-aabb-c58c7b1e46d3"
   },
   "outputs": [
    {
     "name": "stdout",
     "output_type": "stream",
     "text": [
      "EPISODE|STEPS|TERMINAL_REASON|CASH           |TOT_ASSETS     |TERMINAL_REWARD_unsc|GAINLOSS_PCT|CASH_PROPORTION\n",
      "   1| 232|Last Date      |￥311,178       |￥490,365       |-0.00831% |-1.92703% |63.46%    \n",
      "hit end!\n"
     ]
    }
   ],
   "source": [
    "df_account_value, df_actions = DRLAgent.DRL_prediction(model=model, environment=e_trade_gym)"
   ]
  },
  {
   "cell_type": "code",
   "execution_count": 35,
   "metadata": {
    "id": "PzEigeLB3fEd",
    "outputId": "9b997eb8-c2a9-4dcd-c899-68bb09286045"
   },
   "outputs": [
    {
     "data": {
      "text/html": [
       "<div>\n",
       "<style scoped>\n",
       "    .dataframe tbody tr th:only-of-type {\n",
       "        vertical-align: middle;\n",
       "    }\n",
       "\n",
       "    .dataframe tbody tr th {\n",
       "        vertical-align: top;\n",
       "    }\n",
       "\n",
       "    .dataframe thead th {\n",
       "        text-align: right;\n",
       "    }\n",
       "</style>\n",
       "<table border=\"1\" class=\"dataframe\">\n",
       "  <thead>\n",
       "    <tr style=\"text-align: right;\">\n",
       "      <th></th>\n",
       "      <th>date</th>\n",
       "      <th>actions</th>\n",
       "      <th>transactions</th>\n",
       "    </tr>\n",
       "  </thead>\n",
       "  <tbody>\n",
       "    <tr>\n",
       "      <th>0</th>\n",
       "      <td>2021-01-05</td>\n",
       "      <td>[0.32822755, -0.41228452, -0.5542212, 1.0, -1....</td>\n",
       "      <td>[346.23158128955697, -0.0, -0.0, 939.849624060...</td>\n",
       "    </tr>\n",
       "    <tr>\n",
       "      <th>1</th>\n",
       "      <td>2021-01-06</td>\n",
       "      <td>[-0.90147626, 1.0, -0.4065298, 1.0, -0.7086854...</td>\n",
       "      <td>[-346.23158128955697, 1039.5010395010395, -0.0...</td>\n",
       "    </tr>\n",
       "    <tr>\n",
       "      <th>2</th>\n",
       "      <td>2021-01-07</td>\n",
       "      <td>[1.0, 0.21601456, 1.0, -0.92499864, 0.13175616...</td>\n",
       "      <td>[1086.9565217391305, 214.3001738048735, 2145.9...</td>\n",
       "    </tr>\n",
       "    <tr>\n",
       "      <th>3</th>\n",
       "      <td>2021-01-08</td>\n",
       "      <td>[-1.0, 0.13374579, 1.0, -0.5376402, -0.3108284...</td>\n",
       "      <td>[-1086.9565217391305, 139.60938264532228, 2222...</td>\n",
       "    </tr>\n",
       "    <tr>\n",
       "      <th>4</th>\n",
       "      <td>2021-01-11</td>\n",
       "      <td>[-0.7230543, -0.2935453, -0.59456563, 0.528749...</td>\n",
       "      <td>[-0.0, -308.9950657894737, -1198.7210181451612...</td>\n",
       "    </tr>\n",
       "  </tbody>\n",
       "</table>\n",
       "</div>"
      ],
      "text/plain": [
       "        date                                            actions  \\\n",
       "0 2021-01-05  [0.32822755, -0.41228452, -0.5542212, 1.0, -1....   \n",
       "1 2021-01-06  [-0.90147626, 1.0, -0.4065298, 1.0, -0.7086854...   \n",
       "2 2021-01-07  [1.0, 0.21601456, 1.0, -0.92499864, 0.13175616...   \n",
       "3 2021-01-08  [-1.0, 0.13374579, 1.0, -0.5376402, -0.3108284...   \n",
       "4 2021-01-11  [-0.7230543, -0.2935453, -0.59456563, 0.528749...   \n",
       "\n",
       "                                        transactions  \n",
       "0  [346.23158128955697, -0.0, -0.0, 939.849624060...  \n",
       "1  [-346.23158128955697, 1039.5010395010395, -0.0...  \n",
       "2  [1086.9565217391305, 214.3001738048735, 2145.9...  \n",
       "3  [-1086.9565217391305, 139.60938264532228, 2222...  \n",
       "4  [-0.0, -308.9950657894737, -1198.7210181451612...  "
      ]
     },
     "execution_count": 35,
     "metadata": {},
     "output_type": "execute_result"
    }
   ],
   "source": [
    "df_actions.head()"
   ]
  },
  {
   "cell_type": "code",
   "execution_count": 36,
   "metadata": {
    "colab": {
     "base_uri": "https://localhost:8080/"
    },
    "id": "ERxw3KqLkcP4",
    "outputId": "cbb465c9-38dc-4d88-e79a-6ae29025164b"
   },
   "outputs": [
    {
     "data": {
      "text/plain": [
       "(232, 5)"
      ]
     },
     "execution_count": 36,
     "metadata": {},
     "output_type": "execute_result"
    }
   ],
   "source": [
    "df_account_value.shape"
   ]
  },
  {
   "cell_type": "code",
   "execution_count": 37,
   "metadata": {
    "colab": {
     "base_uri": "https://localhost:8080/",
     "height": 194
    },
    "id": "2yRkNguY5yvp",
    "outputId": "53ec139f-88e7-4291-cf11-8e6766184265"
   },
   "outputs": [
    {
     "data": {
      "text/html": [
       "<div>\n",
       "<style scoped>\n",
       "    .dataframe tbody tr th:only-of-type {\n",
       "        vertical-align: middle;\n",
       "    }\n",
       "\n",
       "    .dataframe tbody tr th {\n",
       "        vertical-align: top;\n",
       "    }\n",
       "\n",
       "    .dataframe thead th {\n",
       "        text-align: right;\n",
       "    }\n",
       "</style>\n",
       "<table border=\"1\" class=\"dataframe\">\n",
       "  <thead>\n",
       "    <tr style=\"text-align: right;\">\n",
       "      <th></th>\n",
       "      <th>cash</th>\n",
       "      <th>asset_value</th>\n",
       "      <th>total_assets</th>\n",
       "      <th>reward</th>\n",
       "      <th>date</th>\n",
       "    </tr>\n",
       "  </thead>\n",
       "  <tbody>\n",
       "    <tr>\n",
       "      <th>0</th>\n",
       "      <td>500000.000000</td>\n",
       "      <td>0.000000</td>\n",
       "      <td>500000.000000</td>\n",
       "      <td>0.000000</td>\n",
       "      <td>2021-01-05</td>\n",
       "    </tr>\n",
       "    <tr>\n",
       "      <th>1</th>\n",
       "      <td>481549.476096</td>\n",
       "      <td>18693.033629</td>\n",
       "      <td>500242.509725</td>\n",
       "      <td>0.000485</td>\n",
       "      <td>2021-01-06</td>\n",
       "    </tr>\n",
       "    <tr>\n",
       "      <th>2</th>\n",
       "      <td>475304.300641</td>\n",
       "      <td>25078.964579</td>\n",
       "      <td>500383.265220</td>\n",
       "      <td>0.000383</td>\n",
       "      <td>2021-01-07</td>\n",
       "    </tr>\n",
       "    <tr>\n",
       "      <th>3</th>\n",
       "      <td>455925.521043</td>\n",
       "      <td>42618.180811</td>\n",
       "      <td>498543.701854</td>\n",
       "      <td>-0.000971</td>\n",
       "      <td>2021-01-08</td>\n",
       "    </tr>\n",
       "    <tr>\n",
       "      <th>4</th>\n",
       "      <td>457595.254875</td>\n",
       "      <td>41659.985260</td>\n",
       "      <td>499255.240135</td>\n",
       "      <td>-0.000372</td>\n",
       "      <td>2021-01-11</td>\n",
       "    </tr>\n",
       "    <tr>\n",
       "      <th>5</th>\n",
       "      <td>460219.915032</td>\n",
       "      <td>38302.390712</td>\n",
       "      <td>498522.305744</td>\n",
       "      <td>-0.000591</td>\n",
       "      <td>2021-01-12</td>\n",
       "    </tr>\n",
       "    <tr>\n",
       "      <th>6</th>\n",
       "      <td>459138.177791</td>\n",
       "      <td>40804.681755</td>\n",
       "      <td>499942.859546</td>\n",
       "      <td>-0.000019</td>\n",
       "      <td>2021-01-13</td>\n",
       "    </tr>\n",
       "    <tr>\n",
       "      <th>7</th>\n",
       "      <td>466973.465477</td>\n",
       "      <td>33293.339753</td>\n",
       "      <td>500266.805230</td>\n",
       "      <td>0.000076</td>\n",
       "      <td>2021-01-14</td>\n",
       "    </tr>\n",
       "    <tr>\n",
       "      <th>8</th>\n",
       "      <td>467818.821158</td>\n",
       "      <td>31673.581570</td>\n",
       "      <td>499492.402728</td>\n",
       "      <td>-0.000127</td>\n",
       "      <td>2021-01-15</td>\n",
       "    </tr>\n",
       "    <tr>\n",
       "      <th>9</th>\n",
       "      <td>448403.141739</td>\n",
       "      <td>51955.337943</td>\n",
       "      <td>500358.479682</td>\n",
       "      <td>0.000080</td>\n",
       "      <td>2021-01-18</td>\n",
       "    </tr>\n",
       "    <tr>\n",
       "      <th>10</th>\n",
       "      <td>444859.796543</td>\n",
       "      <td>57140.243001</td>\n",
       "      <td>502000.039544</td>\n",
       "      <td>0.000400</td>\n",
       "      <td>2021-01-19</td>\n",
       "    </tr>\n",
       "    <tr>\n",
       "      <th>11</th>\n",
       "      <td>443161.677077</td>\n",
       "      <td>59152.493782</td>\n",
       "      <td>502314.170859</td>\n",
       "      <td>0.000421</td>\n",
       "      <td>2021-01-20</td>\n",
       "    </tr>\n",
       "    <tr>\n",
       "      <th>12</th>\n",
       "      <td>450226.518144</td>\n",
       "      <td>51724.143744</td>\n",
       "      <td>501950.661887</td>\n",
       "      <td>0.000325</td>\n",
       "      <td>2021-01-21</td>\n",
       "    </tr>\n",
       "    <tr>\n",
       "      <th>13</th>\n",
       "      <td>455395.269490</td>\n",
       "      <td>46594.683613</td>\n",
       "      <td>501989.953103</td>\n",
       "      <td>0.000306</td>\n",
       "      <td>2021-01-22</td>\n",
       "    </tr>\n",
       "    <tr>\n",
       "      <th>14</th>\n",
       "      <td>446708.835847</td>\n",
       "      <td>54740.375426</td>\n",
       "      <td>501449.211273</td>\n",
       "      <td>0.000207</td>\n",
       "      <td>2021-01-25</td>\n",
       "    </tr>\n",
       "    <tr>\n",
       "      <th>15</th>\n",
       "      <td>442259.213431</td>\n",
       "      <td>58770.999475</td>\n",
       "      <td>501030.212906</td>\n",
       "      <td>0.000137</td>\n",
       "      <td>2021-01-26</td>\n",
       "    </tr>\n",
       "    <tr>\n",
       "      <th>16</th>\n",
       "      <td>442803.933028</td>\n",
       "      <td>57891.788895</td>\n",
       "      <td>500695.721924</td>\n",
       "      <td>0.000087</td>\n",
       "      <td>2021-01-27</td>\n",
       "    </tr>\n",
       "    <tr>\n",
       "      <th>17</th>\n",
       "      <td>422632.890878</td>\n",
       "      <td>78289.201657</td>\n",
       "      <td>500922.092535</td>\n",
       "      <td>0.000108</td>\n",
       "      <td>2021-01-28</td>\n",
       "    </tr>\n",
       "    <tr>\n",
       "      <th>18</th>\n",
       "      <td>424502.909989</td>\n",
       "      <td>74768.028480</td>\n",
       "      <td>499270.938469</td>\n",
       "      <td>-0.000081</td>\n",
       "      <td>2021-01-29</td>\n",
       "    </tr>\n",
       "    <tr>\n",
       "      <th>19</th>\n",
       "      <td>411282.365186</td>\n",
       "      <td>84815.896299</td>\n",
       "      <td>496098.261485</td>\n",
       "      <td>-0.000411</td>\n",
       "      <td>2021-02-01</td>\n",
       "    </tr>\n",
       "    <tr>\n",
       "      <th>20</th>\n",
       "      <td>401272.657147</td>\n",
       "      <td>93948.187280</td>\n",
       "      <td>495220.844427</td>\n",
       "      <td>-0.000478</td>\n",
       "      <td>2021-02-02</td>\n",
       "    </tr>\n",
       "    <tr>\n",
       "      <th>21</th>\n",
       "      <td>406978.453203</td>\n",
       "      <td>87741.703310</td>\n",
       "      <td>494720.156513</td>\n",
       "      <td>-0.000503</td>\n",
       "      <td>2021-02-03</td>\n",
       "    </tr>\n",
       "    <tr>\n",
       "      <th>22</th>\n",
       "      <td>424660.775473</td>\n",
       "      <td>69309.501918</td>\n",
       "      <td>493970.277390</td>\n",
       "      <td>-0.000548</td>\n",
       "      <td>2021-02-04</td>\n",
       "    </tr>\n",
       "    <tr>\n",
       "      <th>23</th>\n",
       "      <td>447077.478631</td>\n",
       "      <td>45867.959333</td>\n",
       "      <td>492945.437964</td>\n",
       "      <td>-0.000613</td>\n",
       "      <td>2021-02-05</td>\n",
       "    </tr>\n",
       "    <tr>\n",
       "      <th>24</th>\n",
       "      <td>446033.043427</td>\n",
       "      <td>45941.951574</td>\n",
       "      <td>491974.995001</td>\n",
       "      <td>-0.000669</td>\n",
       "      <td>2021-02-08</td>\n",
       "    </tr>\n",
       "    <tr>\n",
       "      <th>25</th>\n",
       "      <td>440185.778906</td>\n",
       "      <td>52298.837680</td>\n",
       "      <td>492484.616586</td>\n",
       "      <td>-0.000601</td>\n",
       "      <td>2021-02-09</td>\n",
       "    </tr>\n",
       "    <tr>\n",
       "      <th>26</th>\n",
       "      <td>428882.700111</td>\n",
       "      <td>64243.254575</td>\n",
       "      <td>493125.954686</td>\n",
       "      <td>-0.000529</td>\n",
       "      <td>2021-02-10</td>\n",
       "    </tr>\n",
       "    <tr>\n",
       "      <th>27</th>\n",
       "      <td>429463.782571</td>\n",
       "      <td>63362.415570</td>\n",
       "      <td>492826.198141</td>\n",
       "      <td>-0.000531</td>\n",
       "      <td>2021-02-18</td>\n",
       "    </tr>\n",
       "    <tr>\n",
       "      <th>28</th>\n",
       "      <td>442741.934408</td>\n",
       "      <td>51565.664894</td>\n",
       "      <td>494307.599302</td>\n",
       "      <td>-0.000407</td>\n",
       "      <td>2021-02-19</td>\n",
       "    </tr>\n",
       "    <tr>\n",
       "      <th>29</th>\n",
       "      <td>439429.862208</td>\n",
       "      <td>56256.070265</td>\n",
       "      <td>495685.932474</td>\n",
       "      <td>-0.000298</td>\n",
       "      <td>2021-02-22</td>\n",
       "    </tr>\n",
       "    <tr>\n",
       "      <th>30</th>\n",
       "      <td>428839.925442</td>\n",
       "      <td>67099.281095</td>\n",
       "      <td>495939.206538</td>\n",
       "      <td>-0.000271</td>\n",
       "      <td>2021-02-23</td>\n",
       "    </tr>\n",
       "    <tr>\n",
       "      <th>31</th>\n",
       "      <td>420494.681263</td>\n",
       "      <td>75059.928393</td>\n",
       "      <td>495554.609656</td>\n",
       "      <td>-0.000287</td>\n",
       "      <td>2021-02-24</td>\n",
       "    </tr>\n",
       "    <tr>\n",
       "      <th>32</th>\n",
       "      <td>419123.926442</td>\n",
       "      <td>76320.904426</td>\n",
       "      <td>495444.830869</td>\n",
       "      <td>-0.000285</td>\n",
       "      <td>2021-02-25</td>\n",
       "    </tr>\n",
       "    <tr>\n",
       "      <th>33</th>\n",
       "      <td>422543.894845</td>\n",
       "      <td>72762.289491</td>\n",
       "      <td>495306.184336</td>\n",
       "      <td>-0.000284</td>\n",
       "      <td>2021-02-26</td>\n",
       "    </tr>\n",
       "    <tr>\n",
       "      <th>34</th>\n",
       "      <td>409918.883520</td>\n",
       "      <td>83408.074261</td>\n",
       "      <td>493326.957781</td>\n",
       "      <td>-0.000393</td>\n",
       "      <td>2021-03-01</td>\n",
       "    </tr>\n",
       "    <tr>\n",
       "      <th>35</th>\n",
       "      <td>407001.369233</td>\n",
       "      <td>87385.853003</td>\n",
       "      <td>494387.222235</td>\n",
       "      <td>-0.000321</td>\n",
       "      <td>2021-03-02</td>\n",
       "    </tr>\n",
       "    <tr>\n",
       "      <th>36</th>\n",
       "      <td>416764.821516</td>\n",
       "      <td>76433.184737</td>\n",
       "      <td>493198.006253</td>\n",
       "      <td>-0.000378</td>\n",
       "      <td>2021-03-03</td>\n",
       "    </tr>\n",
       "    <tr>\n",
       "      <th>37</th>\n",
       "      <td>402330.845883</td>\n",
       "      <td>93000.910766</td>\n",
       "      <td>495331.756649</td>\n",
       "      <td>-0.000252</td>\n",
       "      <td>2021-03-04</td>\n",
       "    </tr>\n",
       "    <tr>\n",
       "      <th>38</th>\n",
       "      <td>409836.587320</td>\n",
       "      <td>86839.613199</td>\n",
       "      <td>496676.200519</td>\n",
       "      <td>-0.000175</td>\n",
       "      <td>2021-03-05</td>\n",
       "    </tr>\n",
       "    <tr>\n",
       "      <th>39</th>\n",
       "      <td>389878.798041</td>\n",
       "      <td>107405.062977</td>\n",
       "      <td>497283.861018</td>\n",
       "      <td>-0.000139</td>\n",
       "      <td>2021-03-08</td>\n",
       "    </tr>\n",
       "    <tr>\n",
       "      <th>40</th>\n",
       "      <td>392509.442953</td>\n",
       "      <td>105297.152753</td>\n",
       "      <td>497806.595707</td>\n",
       "      <td>-0.000110</td>\n",
       "      <td>2021-03-09</td>\n",
       "    </tr>\n",
       "    <tr>\n",
       "      <th>41</th>\n",
       "      <td>399680.257098</td>\n",
       "      <td>96185.114837</td>\n",
       "      <td>495865.371935</td>\n",
       "      <td>-0.000202</td>\n",
       "      <td>2021-03-10</td>\n",
       "    </tr>\n",
       "    <tr>\n",
       "      <th>42</th>\n",
       "      <td>396358.851813</td>\n",
       "      <td>99088.049578</td>\n",
       "      <td>495446.901391</td>\n",
       "      <td>-0.000217</td>\n",
       "      <td>2021-03-11</td>\n",
       "    </tr>\n",
       "    <tr>\n",
       "      <th>43</th>\n",
       "      <td>385716.063110</td>\n",
       "      <td>113902.593293</td>\n",
       "      <td>499618.656403</td>\n",
       "      <td>-0.000018</td>\n",
       "      <td>2021-03-12</td>\n",
       "    </tr>\n",
       "    <tr>\n",
       "      <th>44</th>\n",
       "      <td>389446.413916</td>\n",
       "      <td>109822.849403</td>\n",
       "      <td>499269.263319</td>\n",
       "      <td>-0.000033</td>\n",
       "      <td>2021-03-15</td>\n",
       "    </tr>\n",
       "    <tr>\n",
       "      <th>45</th>\n",
       "      <td>400930.275680</td>\n",
       "      <td>98140.001778</td>\n",
       "      <td>499070.277459</td>\n",
       "      <td>-0.000041</td>\n",
       "      <td>2021-03-16</td>\n",
       "    </tr>\n",
       "    <tr>\n",
       "      <th>46</th>\n",
       "      <td>402220.605697</td>\n",
       "      <td>97959.497080</td>\n",
       "      <td>500180.102777</td>\n",
       "      <td>0.000008</td>\n",
       "      <td>2021-03-17</td>\n",
       "    </tr>\n",
       "    <tr>\n",
       "      <th>47</th>\n",
       "      <td>380982.243365</td>\n",
       "      <td>117104.303899</td>\n",
       "      <td>498086.547265</td>\n",
       "      <td>-0.000081</td>\n",
       "      <td>2021-03-18</td>\n",
       "    </tr>\n",
       "    <tr>\n",
       "      <th>48</th>\n",
       "      <td>388968.969185</td>\n",
       "      <td>108819.895318</td>\n",
       "      <td>497788.864502</td>\n",
       "      <td>-0.000092</td>\n",
       "      <td>2021-03-19</td>\n",
       "    </tr>\n",
       "    <tr>\n",
       "      <th>49</th>\n",
       "      <td>403946.305984</td>\n",
       "      <td>96174.617111</td>\n",
       "      <td>500120.923095</td>\n",
       "      <td>0.000005</td>\n",
       "      <td>2021-03-22</td>\n",
       "    </tr>\n",
       "  </tbody>\n",
       "</table>\n",
       "</div>"
      ],
      "text/plain": [
       "             cash    asset_value   total_assets    reward       date\n",
       "0   500000.000000       0.000000  500000.000000  0.000000 2021-01-05\n",
       "1   481549.476096   18693.033629  500242.509725  0.000485 2021-01-06\n",
       "2   475304.300641   25078.964579  500383.265220  0.000383 2021-01-07\n",
       "3   455925.521043   42618.180811  498543.701854 -0.000971 2021-01-08\n",
       "4   457595.254875   41659.985260  499255.240135 -0.000372 2021-01-11\n",
       "5   460219.915032   38302.390712  498522.305744 -0.000591 2021-01-12\n",
       "6   459138.177791   40804.681755  499942.859546 -0.000019 2021-01-13\n",
       "7   466973.465477   33293.339753  500266.805230  0.000076 2021-01-14\n",
       "8   467818.821158   31673.581570  499492.402728 -0.000127 2021-01-15\n",
       "9   448403.141739   51955.337943  500358.479682  0.000080 2021-01-18\n",
       "10  444859.796543   57140.243001  502000.039544  0.000400 2021-01-19\n",
       "11  443161.677077   59152.493782  502314.170859  0.000421 2021-01-20\n",
       "12  450226.518144   51724.143744  501950.661887  0.000325 2021-01-21\n",
       "13  455395.269490   46594.683613  501989.953103  0.000306 2021-01-22\n",
       "14  446708.835847   54740.375426  501449.211273  0.000207 2021-01-25\n",
       "15  442259.213431   58770.999475  501030.212906  0.000137 2021-01-26\n",
       "16  442803.933028   57891.788895  500695.721924  0.000087 2021-01-27\n",
       "17  422632.890878   78289.201657  500922.092535  0.000108 2021-01-28\n",
       "18  424502.909989   74768.028480  499270.938469 -0.000081 2021-01-29\n",
       "19  411282.365186   84815.896299  496098.261485 -0.000411 2021-02-01\n",
       "20  401272.657147   93948.187280  495220.844427 -0.000478 2021-02-02\n",
       "21  406978.453203   87741.703310  494720.156513 -0.000503 2021-02-03\n",
       "22  424660.775473   69309.501918  493970.277390 -0.000548 2021-02-04\n",
       "23  447077.478631   45867.959333  492945.437964 -0.000613 2021-02-05\n",
       "24  446033.043427   45941.951574  491974.995001 -0.000669 2021-02-08\n",
       "25  440185.778906   52298.837680  492484.616586 -0.000601 2021-02-09\n",
       "26  428882.700111   64243.254575  493125.954686 -0.000529 2021-02-10\n",
       "27  429463.782571   63362.415570  492826.198141 -0.000531 2021-02-18\n",
       "28  442741.934408   51565.664894  494307.599302 -0.000407 2021-02-19\n",
       "29  439429.862208   56256.070265  495685.932474 -0.000298 2021-02-22\n",
       "30  428839.925442   67099.281095  495939.206538 -0.000271 2021-02-23\n",
       "31  420494.681263   75059.928393  495554.609656 -0.000287 2021-02-24\n",
       "32  419123.926442   76320.904426  495444.830869 -0.000285 2021-02-25\n",
       "33  422543.894845   72762.289491  495306.184336 -0.000284 2021-02-26\n",
       "34  409918.883520   83408.074261  493326.957781 -0.000393 2021-03-01\n",
       "35  407001.369233   87385.853003  494387.222235 -0.000321 2021-03-02\n",
       "36  416764.821516   76433.184737  493198.006253 -0.000378 2021-03-03\n",
       "37  402330.845883   93000.910766  495331.756649 -0.000252 2021-03-04\n",
       "38  409836.587320   86839.613199  496676.200519 -0.000175 2021-03-05\n",
       "39  389878.798041  107405.062977  497283.861018 -0.000139 2021-03-08\n",
       "40  392509.442953  105297.152753  497806.595707 -0.000110 2021-03-09\n",
       "41  399680.257098   96185.114837  495865.371935 -0.000202 2021-03-10\n",
       "42  396358.851813   99088.049578  495446.901391 -0.000217 2021-03-11\n",
       "43  385716.063110  113902.593293  499618.656403 -0.000018 2021-03-12\n",
       "44  389446.413916  109822.849403  499269.263319 -0.000033 2021-03-15\n",
       "45  400930.275680   98140.001778  499070.277459 -0.000041 2021-03-16\n",
       "46  402220.605697   97959.497080  500180.102777  0.000008 2021-03-17\n",
       "47  380982.243365  117104.303899  498086.547265 -0.000081 2021-03-18\n",
       "48  388968.969185  108819.895318  497788.864502 -0.000092 2021-03-19\n",
       "49  403946.305984   96174.617111  500120.923095  0.000005 2021-03-22"
      ]
     },
     "execution_count": 37,
     "metadata": {},
     "output_type": "execute_result"
    }
   ],
   "source": [
    "df_account_value.head(50)"
   ]
  },
  {
   "cell_type": "markdown",
   "metadata": {
    "id": "W6vvNSC6h1jZ"
   },
   "source": [
    "<a id='6'></a>\n",
    "# Part 7: Backtest Our Strategy\n",
    "Backtesting plays a key role in evaluating the performance of a trading strategy. Automated backtesting tool is preferred because it reduces the human error. We usually use the Quantopian pyfolio package to backtest our trading strategies. It is easy to use and consists of various individual plots that provide a comprehensive image of the performance of a trading strategy."
   ]
  },
  {
   "cell_type": "markdown",
   "metadata": {
    "id": "Lr2zX7ZxNyFQ"
   },
   "source": [
    "<a id='6.1'></a>\n",
    "## 7.1 BackTestStats\n",
    "pass in df_account_value, this information is stored in env class\n"
   ]
  },
  {
   "cell_type": "code",
   "execution_count": 38,
   "metadata": {
    "colab": {
     "base_uri": "https://localhost:8080/"
    },
    "id": "Nzkr9yv-AdV_",
    "outputId": "1053083a-d74c-48b0-a623-de33282e2fff"
   },
   "outputs": [
    {
     "name": "stdout",
     "output_type": "stream",
     "text": [
      "==============Get Backtest Results===========\n",
      "Annual return         -0.020914\n",
      "Cumulative returns    -0.019270\n",
      "Annual volatility      0.056616\n",
      "Sharpe ratio          -0.346687\n",
      "Calmar ratio          -0.265338\n",
      "Stability              0.051921\n",
      "Max drawdown          -0.078820\n",
      "Omega ratio            0.941816\n",
      "Sortino ratio         -0.458334\n",
      "Skew                        NaN\n",
      "Kurtosis                    NaN\n",
      "Tail ratio             0.940856\n",
      "Daily value at risk   -0.007211\n",
      "dtype: float64\n"
     ]
    }
   ],
   "source": [
    "print(\"==============Get Backtest Results===========\")\n",
    "perf_stats_all = backtest_stats(account_value=df_account_value, value_col_name = 'total_assets')"
   ]
  },
  {
   "cell_type": "markdown",
   "metadata": {
    "id": "9U6Suru3h1jc"
   },
   "source": [
    "<a id='6.2'></a>\n",
    "## 7.2 BackTestPlot"
   ]
  },
  {
   "cell_type": "code",
   "execution_count": 39,
   "metadata": {
    "colab": {
     "base_uri": "https://localhost:8080/",
     "height": 1000
    },
    "id": "lKRGftSS7pNM",
    "outputId": "4f77cef2-3934-444a-cacc-4ed8f94514ae",
    "scrolled": false
   },
   "outputs": [
    {
     "data": {
      "text/html": [
       "<table border=\"1\" class=\"dataframe\">\n",
       "  <thead>\n",
       "    <tr style=\"text-align: right;\"><th>Start date</th><td colspan=2>2021-01-05</td></tr>\n",
       "    <tr style=\"text-align: right;\"><th>End date</th><td colspan=2>2021-12-17</td></tr>\n",
       "    <tr style=\"text-align: right;\"><th>Total months</th><td colspan=2>11</td></tr>\n",
       "    <tr style=\"text-align: right;\">\n",
       "      <th></th>\n",
       "      <th>Backtest</th>\n",
       "    </tr>\n",
       "  </thead>\n",
       "  <tbody>\n",
       "    <tr>\n",
       "      <th>Annual return</th>\n",
       "      <td>-2.1%</td>\n",
       "    </tr>\n",
       "    <tr>\n",
       "      <th>Cumulative returns</th>\n",
       "      <td>-1.9%</td>\n",
       "    </tr>\n",
       "    <tr>\n",
       "      <th>Annual volatility</th>\n",
       "      <td>5.7%</td>\n",
       "    </tr>\n",
       "    <tr>\n",
       "      <th>Sharpe ratio</th>\n",
       "      <td>-0.35</td>\n",
       "    </tr>\n",
       "    <tr>\n",
       "      <th>Calmar ratio</th>\n",
       "      <td>-0.27</td>\n",
       "    </tr>\n",
       "    <tr>\n",
       "      <th>Stability</th>\n",
       "      <td>0.05</td>\n",
       "    </tr>\n",
       "    <tr>\n",
       "      <th>Max drawdown</th>\n",
       "      <td>-7.9%</td>\n",
       "    </tr>\n",
       "    <tr>\n",
       "      <th>Omega ratio</th>\n",
       "      <td>0.94</td>\n",
       "    </tr>\n",
       "    <tr>\n",
       "      <th>Sortino ratio</th>\n",
       "      <td>-0.46</td>\n",
       "    </tr>\n",
       "    <tr>\n",
       "      <th>Skew</th>\n",
       "      <td>NaN</td>\n",
       "    </tr>\n",
       "    <tr>\n",
       "      <th>Kurtosis</th>\n",
       "      <td>NaN</td>\n",
       "    </tr>\n",
       "    <tr>\n",
       "      <th>Tail ratio</th>\n",
       "      <td>0.94</td>\n",
       "    </tr>\n",
       "    <tr>\n",
       "      <th>Daily value at risk</th>\n",
       "      <td>-0.7%</td>\n",
       "    </tr>\n",
       "    <tr>\n",
       "      <th>Alpha</th>\n",
       "      <td>-0.02</td>\n",
       "    </tr>\n",
       "    <tr>\n",
       "      <th>Beta</th>\n",
       "      <td>-0.01</td>\n",
       "    </tr>\n",
       "  </tbody>\n",
       "</table>"
      ],
      "text/plain": [
       "<IPython.core.display.HTML object>"
      ]
     },
     "metadata": {},
     "output_type": "display_data"
    },
    {
     "ename": "AttributeError",
     "evalue": "'numpy.int64' object has no attribute 'to_pydatetime'",
     "output_type": "error",
     "traceback": [
      "\u001b[0;31m---------------------------------------------------------------------------\u001b[0m",
      "\u001b[0;31mAttributeError\u001b[0m                            Traceback (most recent call last)",
      "\u001b[0;32m<ipython-input-39-13d413e61374>\u001b[0m in \u001b[0;36m<module>\u001b[0;34m\u001b[0m\n\u001b[1;32m      3\u001b[0m              \u001b[0mbaseline_ticker\u001b[0m \u001b[0;34m=\u001b[0m \u001b[0;34m'603636'\u001b[0m\u001b[0;34m,\u001b[0m\u001b[0;34m\u001b[0m\u001b[0;34m\u001b[0m\u001b[0m\n\u001b[1;32m      4\u001b[0m              \u001b[0mbaseline_start\u001b[0m \u001b[0;34m=\u001b[0m \u001b[0;34m'2021-01-01'\u001b[0m\u001b[0;34m,\u001b[0m\u001b[0;34m\u001b[0m\u001b[0;34m\u001b[0m\u001b[0m\n\u001b[0;32m----> 5\u001b[0;31m              baseline_end = '2021-12-16', value_col_name = 'total_assets')\n\u001b[0m",
      "\u001b[0;32m~/code/python/FinRL/finrl/plot.py\u001b[0m in \u001b[0;36mbacktest_plot_tdx\u001b[0;34m(account_value, baseline_start, baseline_end, baseline_ticker, value_col_name)\u001b[0m\n\u001b[1;32m     94\u001b[0m     \u001b[0;32mwith\u001b[0m \u001b[0mpyfolio\u001b[0m\u001b[0;34m.\u001b[0m\u001b[0mplotting\u001b[0m\u001b[0;34m.\u001b[0m\u001b[0mplotting_context\u001b[0m\u001b[0;34m(\u001b[0m\u001b[0mfont_scale\u001b[0m\u001b[0;34m=\u001b[0m\u001b[0;36m1.1\u001b[0m\u001b[0;34m)\u001b[0m\u001b[0;34m:\u001b[0m\u001b[0;34m\u001b[0m\u001b[0;34m\u001b[0m\u001b[0m\n\u001b[1;32m     95\u001b[0m         pyfolio.create_full_tear_sheet(\n\u001b[0;32m---> 96\u001b[0;31m             \u001b[0mreturns\u001b[0m\u001b[0;34m=\u001b[0m\u001b[0mtest_returns\u001b[0m\u001b[0;34m,\u001b[0m \u001b[0mbenchmark_rets\u001b[0m\u001b[0;34m=\u001b[0m\u001b[0mbaseline_returns\u001b[0m\u001b[0;34m,\u001b[0m \u001b[0mset_context\u001b[0m\u001b[0;34m=\u001b[0m\u001b[0;32mFalse\u001b[0m\u001b[0;34m\u001b[0m\u001b[0;34m\u001b[0m\u001b[0m\n\u001b[0m\u001b[1;32m     97\u001b[0m         )\n\u001b[1;32m     98\u001b[0m \u001b[0;34m\u001b[0m\u001b[0m\n",
      "\u001b[0;32m~/.local/lib/python3.6/site-packages/pyfolio/tears.py\u001b[0m in \u001b[0;36mcreate_full_tear_sheet\u001b[0;34m(returns, positions, transactions, market_data, benchmark_rets, slippage, live_start_date, sector_mappings, bayesian, round_trips, estimate_intraday, hide_positions, cone_std, bootstrap, unadjusted_returns, style_factor_panel, sectors, caps, shares_held, volumes, percentile, turnover_denom, set_context, factor_returns, factor_loadings, pos_in_dollars, header_rows, factor_partitions)\u001b[0m\n\u001b[1;32m    209\u001b[0m         \u001b[0mturnover_denom\u001b[0m\u001b[0;34m=\u001b[0m\u001b[0mturnover_denom\u001b[0m\u001b[0;34m,\u001b[0m\u001b[0;34m\u001b[0m\u001b[0;34m\u001b[0m\u001b[0m\n\u001b[1;32m    210\u001b[0m         \u001b[0mheader_rows\u001b[0m\u001b[0;34m=\u001b[0m\u001b[0mheader_rows\u001b[0m\u001b[0;34m,\u001b[0m\u001b[0;34m\u001b[0m\u001b[0;34m\u001b[0m\u001b[0m\n\u001b[0;32m--> 211\u001b[0;31m         set_context=set_context)\n\u001b[0m\u001b[1;32m    212\u001b[0m \u001b[0;34m\u001b[0m\u001b[0m\n\u001b[1;32m    213\u001b[0m     create_interesting_times_tear_sheet(returns,\n",
      "\u001b[0;32m~/.local/lib/python3.6/site-packages/pyfolio/plotting.py\u001b[0m in \u001b[0;36mcall_w_context\u001b[0;34m(*args, **kwargs)\u001b[0m\n\u001b[1;32m     52\u001b[0m                 \u001b[0;32mreturn\u001b[0m \u001b[0mfunc\u001b[0m\u001b[0;34m(\u001b[0m\u001b[0;34m*\u001b[0m\u001b[0margs\u001b[0m\u001b[0;34m,\u001b[0m \u001b[0;34m**\u001b[0m\u001b[0mkwargs\u001b[0m\u001b[0;34m)\u001b[0m\u001b[0;34m\u001b[0m\u001b[0;34m\u001b[0m\u001b[0m\n\u001b[1;32m     53\u001b[0m         \u001b[0;32melse\u001b[0m\u001b[0;34m:\u001b[0m\u001b[0;34m\u001b[0m\u001b[0;34m\u001b[0m\u001b[0m\n\u001b[0;32m---> 54\u001b[0;31m             \u001b[0;32mreturn\u001b[0m \u001b[0mfunc\u001b[0m\u001b[0;34m(\u001b[0m\u001b[0;34m*\u001b[0m\u001b[0margs\u001b[0m\u001b[0;34m,\u001b[0m \u001b[0;34m**\u001b[0m\u001b[0mkwargs\u001b[0m\u001b[0;34m)\u001b[0m\u001b[0;34m\u001b[0m\u001b[0;34m\u001b[0m\u001b[0m\n\u001b[0m\u001b[1;32m     55\u001b[0m     \u001b[0;32mreturn\u001b[0m \u001b[0mcall_w_context\u001b[0m\u001b[0;34m\u001b[0m\u001b[0;34m\u001b[0m\u001b[0m\n\u001b[1;32m     56\u001b[0m \u001b[0;34m\u001b[0m\u001b[0m\n",
      "\u001b[0;32m~/.local/lib/python3.6/site-packages/pyfolio/tears.py\u001b[0m in \u001b[0;36mcreate_returns_tear_sheet\u001b[0;34m(returns, positions, transactions, live_start_date, cone_std, benchmark_rets, bootstrap, turnover_denom, header_rows, return_fig)\u001b[0m\n\u001b[1;32m    502\u001b[0m                              header_rows=header_rows)\n\u001b[1;32m    503\u001b[0m \u001b[0;34m\u001b[0m\u001b[0m\n\u001b[0;32m--> 504\u001b[0;31m     \u001b[0mplotting\u001b[0m\u001b[0;34m.\u001b[0m\u001b[0mshow_worst_drawdown_periods\u001b[0m\u001b[0;34m(\u001b[0m\u001b[0mreturns\u001b[0m\u001b[0;34m)\u001b[0m\u001b[0;34m\u001b[0m\u001b[0;34m\u001b[0m\u001b[0m\n\u001b[0m\u001b[1;32m    505\u001b[0m \u001b[0;34m\u001b[0m\u001b[0m\n\u001b[1;32m    506\u001b[0m     \u001b[0mvertical_sections\u001b[0m \u001b[0;34m=\u001b[0m \u001b[0;36m11\u001b[0m\u001b[0;34m\u001b[0m\u001b[0;34m\u001b[0m\u001b[0m\n",
      "\u001b[0;32m~/.local/lib/python3.6/site-packages/pyfolio/plotting.py\u001b[0m in \u001b[0;36mshow_worst_drawdown_periods\u001b[0;34m(returns, top)\u001b[0m\n\u001b[1;32m   1662\u001b[0m     \"\"\"\n\u001b[1;32m   1663\u001b[0m \u001b[0;34m\u001b[0m\u001b[0m\n\u001b[0;32m-> 1664\u001b[0;31m     \u001b[0mdrawdown_df\u001b[0m \u001b[0;34m=\u001b[0m \u001b[0mtimeseries\u001b[0m\u001b[0;34m.\u001b[0m\u001b[0mgen_drawdown_table\u001b[0m\u001b[0;34m(\u001b[0m\u001b[0mreturns\u001b[0m\u001b[0;34m,\u001b[0m \u001b[0mtop\u001b[0m\u001b[0;34m=\u001b[0m\u001b[0mtop\u001b[0m\u001b[0;34m)\u001b[0m\u001b[0;34m\u001b[0m\u001b[0;34m\u001b[0m\u001b[0m\n\u001b[0m\u001b[1;32m   1665\u001b[0m     utils.print_table(\n\u001b[1;32m   1666\u001b[0m         \u001b[0mdrawdown_df\u001b[0m\u001b[0;34m.\u001b[0m\u001b[0msort_values\u001b[0m\u001b[0;34m(\u001b[0m\u001b[0;34m'Net drawdown in %'\u001b[0m\u001b[0;34m,\u001b[0m \u001b[0mascending\u001b[0m\u001b[0;34m=\u001b[0m\u001b[0;32mFalse\u001b[0m\u001b[0;34m)\u001b[0m\u001b[0;34m,\u001b[0m\u001b[0;34m\u001b[0m\u001b[0;34m\u001b[0m\u001b[0m\n",
      "\u001b[0;32m~/.local/lib/python3.6/site-packages/pyfolio/timeseries.py\u001b[0m in \u001b[0;36mgen_drawdown_table\u001b[0;34m(returns, top)\u001b[0m\n\u001b[1;32m   1006\u001b[0m         df_drawdowns.loc[i, 'Peak date'] = (peak.to_pydatetime()\n\u001b[1;32m   1007\u001b[0m                                             .strftime('%Y-%m-%d'))\n\u001b[0;32m-> 1008\u001b[0;31m         df_drawdowns.loc[i, 'Valley date'] = (valley.to_pydatetime()\n\u001b[0m\u001b[1;32m   1009\u001b[0m                                               .strftime('%Y-%m-%d'))\n\u001b[1;32m   1010\u001b[0m         \u001b[0;32mif\u001b[0m \u001b[0misinstance\u001b[0m\u001b[0;34m(\u001b[0m\u001b[0mrecovery\u001b[0m\u001b[0;34m,\u001b[0m \u001b[0mfloat\u001b[0m\u001b[0;34m)\u001b[0m\u001b[0;34m:\u001b[0m\u001b[0;34m\u001b[0m\u001b[0;34m\u001b[0m\u001b[0m\n",
      "\u001b[0;31mAttributeError\u001b[0m: 'numpy.int64' object has no attribute 'to_pydatetime'"
     ]
    }
   ],
   "source": [
    "%matplotlib inline\n",
    "backtest_plot_tdx(df_account_value, \n",
    "             baseline_ticker = '603636', \n",
    "             baseline_start = '2021-01-01',\n",
    "             baseline_end = '2021-12-16', value_col_name = 'total_assets')"
   ]
  },
  {
   "cell_type": "code",
   "execution_count": null,
   "metadata": {},
   "outputs": [],
   "source": [
    "# from finrl.plot import get_daily_return, get_baseline_tdx\n",
    "# from copy import deepcopy\n",
    "\n",
    "# import pyfolio\n",
    "# from pyfolio import timeseries"
   ]
  },
  {
   "cell_type": "code",
   "execution_count": 83,
   "metadata": {},
   "outputs": [],
   "source": [
    "# def get_daily_return(df, value_col_name=\"account_value\"):\n",
    "#     df = deepcopy(df)\n",
    "#     df[\"daily_return\"] = df[value_col_name].pct_change(1)\n",
    "#     df[\"date\"] = pd.to_datetime(df[\"date\"])\n",
    "#     df.set_index(\"date\", inplace=True, drop=True)\n",
    "# #     df.index = df.index.tz_localize(\"UTC\")\n",
    "#     return pd.Series(df[\"daily_return\"], index=df.index)"
   ]
  },
  {
   "cell_type": "code",
   "execution_count": 91,
   "metadata": {
    "id": "-AXVQiMZ3fEe"
   },
   "outputs": [],
   "source": [
    "# def backtest_plot_tdx(\n",
    "#     account_value,\n",
    "#     baseline_start=config.START_TRADE_DATE,\n",
    "#     baseline_end=config.END_DATE,\n",
    "#     baseline_ticker=\"^DJI\",\n",
    "#     value_col_name=\"account_value\",\n",
    "# ):\n",
    "\n",
    "#     df = deepcopy(account_value)\n",
    "#     df[\"date\"] = pd.to_datetime(df[\"date\"])\n",
    "    \n",
    "#     test_returns = get_daily_return(df, value_col_name=value_col_name)\n",
    "\n",
    "#     baseline_df = get_baseline_tdx(\n",
    "#         ticker=baseline_ticker, start=baseline_start, end=baseline_end\n",
    "#     )\n",
    "\n",
    "#     baseline_df[\"date\"] = baseline_df.index # pd.to_datetime(baseline_df[\"date\"], format=\"%Y-%m-%d\")\n",
    "#     baseline_df.index = range(baseline_df.shape[0])\n",
    "    \n",
    "#     baseline_df = pd.merge(df[[\"date\"]], baseline_df, how=\"left\", on=\"date\")\n",
    "#     baseline_df = baseline_df.fillna(method=\"ffill\").fillna(method=\"bfill\")\n",
    "#     baseline_returns = get_daily_return(baseline_df, value_col_name=\"close\")\n",
    "    \n",
    "# #     print(test_returns.fillna(0))\n",
    "# #     print('######################')\n",
    "# #     print(baseline_returns.fillna(0))\n",
    "# #     print('-----------------------------')\n",
    "#     with pyfolio.plotting.plotting_context(font_scale=1.1):\n",
    "#         pyfolio.create_full_tear_sheet(\n",
    "#             returns=test_returns, benchmark_rets=baseline_returns, set_context=False\n",
    "#         )"
   ]
  },
  {
   "cell_type": "code",
   "execution_count": null,
   "metadata": {},
   "outputs": [],
   "source": []
  }
 ],
 "metadata": {
  "colab": {
   "collapsed_sections": [
    "uijiWgkuh1jB"
   ],
   "name": "tutorial_env_multistock_cashpenalty.ipynb",
   "provenance": [],
   "toc_visible": true
  },
  "kernelspec": {
   "display_name": "Python 3",
   "language": "python",
   "name": "python3"
  },
  "language_info": {
   "codemirror_mode": {
    "name": "ipython",
    "version": 3
   },
   "file_extension": ".py",
   "mimetype": "text/x-python",
   "name": "python",
   "nbconvert_exporter": "python",
   "pygments_lexer": "ipython3",
   "version": "3.7.9"
  },
  "pycharm": {
   "stem_cell": {
    "cell_type": "raw",
    "metadata": {
     "collapsed": false
    },
    "source": []
   }
  }
 },
 "nbformat": 4,
 "nbformat_minor": 1
}
