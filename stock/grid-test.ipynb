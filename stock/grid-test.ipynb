{
 "cells": [
  {
   "cell_type": "code",
   "execution_count": 1,
   "id": "consolidated-voluntary",
   "metadata": {},
   "outputs": [],
   "source": [
    "import datetime\n",
    "import backtrader as bt\n",
    "import backtrader.indicators as bi\n",
    "import pandas as pd\n",
    "import numpy as np"
   ]
  },
  {
   "cell_type": "code",
   "execution_count": 2,
   "id": "actual-magic",
   "metadata": {},
   "outputs": [],
   "source": [
    "from lutils.stock import LTdxHq"
   ]
  },
  {
   "cell_type": "code",
   "execution_count": 3,
   "id": "powerful-value",
   "metadata": {},
   "outputs": [],
   "source": [
    "class GridStrategy(bt.Strategy):\n",
    "    params = (\n",
    "        (\"printlog\", True),\n",
    "        (\"top\", 12),\n",
    "        (\"buttom\", 7),\n",
    "    )\n",
    "    \n",
    "    def __init__(self):\n",
    "        self.mid = (self.p.top + self.p.buttom)/2.0\n",
    "        # 百分比区间计算\n",
    "        #这里多1/2，是因为arange函数是左闭右开区间。\n",
    "        perc_level = [x for x in np.arange(1 + 0.02 * 5, 1 - 0.02 * 5 - 0.02/2, -0.02)]\n",
    "        # 价格区间\n",
    "        # print(self.mid)\n",
    "        self.price_levels = [self.mid * x for x in perc_level]\n",
    "        # 记录上一次穿越的网格\n",
    "        self.last_price_index = None\n",
    "        # 总手续费\n",
    "        self.comm = 0.0\n",
    " \n",
    "    def next(self):\n",
    "        # print(self.last_price_index)\n",
    "        # 开仓\n",
    "        if self.last_price_index == None:\n",
    "            # print(\"b\", len(self.price_levels))\n",
    "            for i in range(len(self.price_levels)):\n",
    "                price = self.data.close[0]\n",
    "                # print(\"c\", i, price, self.price_levels[i][0])\n",
    "                if self.data.close[0] > self.price_levels[i]:\n",
    "                    self.last_price_index = i\n",
    "                    self.order_target_percent(target=i/(len(self.price_levels) - 1))\n",
    "                    print(\"a\")\n",
    "                    return\n",
    "        # 调仓\n",
    "        else:\n",
    "            signal = False\n",
    "            while True:\n",
    "                upper = None\n",
    "                lower = None\n",
    "                if self.last_price_index > 0:\n",
    "                    upper = self.price_levels[self.last_price_index - 1]\n",
    "                if self.last_price_index < len(self.price_levels) - 1:\n",
    "                    lower = self.price_levels[self.last_price_index + 1]\n",
    "                # 还不是最轻仓，继续涨，再卖一档\n",
    "                if upper != None and self.data.close > upper:\n",
    "                    self.last_price_index = self.last_price_index - 1\n",
    "                    signal = True\n",
    "                    continue\n",
    "                # 还不是最重仓，继续跌，再买一档\n",
    "                if lower != None and self.data.close < lower:\n",
    "                    self.last_price_index = self.last_price_index + 1\n",
    "                    signal = True\n",
    "                    continue\n",
    "                break\n",
    "            if signal:\n",
    "                self.long_short = None\n",
    "                self.order_target_percent(target=self.last_price_index/(len(self.price_levels) - 1))\n",
    " \n",
    "    # 输出交易记录\n",
    "    def log(self, txt, dt = None, doprint = False):\n",
    "        if self.params.printlog or doprint:\n",
    "            dt = dt or self.datas[0].datetime.date(0)\n",
    "            print('%s, %s' % (dt.isoformat(), txt))\n",
    " \n",
    "    def notify_order(self, order):\n",
    "        # 有交易提交/被接受，啥也不做\n",
    "        if order.status in [order.Submitted, order.Accepted]:\n",
    "            return\n",
    "        # 交易完成，报告结果\n",
    "        if order.status in [order.Completed]:\n",
    "            if order.isbuy():\n",
    "                self.log('执行买入, 价格: %.2f, 成本: %.2f, 手续费 %.2f' % (order.executed.price, order.executed.value, order.executed.comm))\n",
    "                self.buyprice = order.executed.price\n",
    "                self.comm += order.executed.comm\n",
    "            else:\n",
    "                self.log('执行卖出, 价格: %.2f, 成本: %.2f, 手续费 %.2f' % (order.executed.price, order.executed.value, order.executed.comm))\n",
    "                self.comm += order.executed.comm\n",
    "        elif order.status in [order.Canceled, order.Margin, order.Rejected]:\n",
    "            self.log(\"交易失败\")\n",
    "        self.order = None\n",
    " \n",
    "    # 输出手续费\n",
    "    def stop(self):\n",
    "        self.log(\"手续费:%.2f 成本比例:%.5f\" % (self.comm, self.comm/self.broker.getvalue()))\n",
    "\n"
   ]
  },
  {
   "cell_type": "code",
   "execution_count": 4,
   "id": "offensive-metropolitan",
   "metadata": {},
   "outputs": [],
   "source": [
    "lt = LTdxHq()"
   ]
  },
  {
   "cell_type": "code",
   "execution_count": 5,
   "id": "civilian-manchester",
   "metadata": {},
   "outputs": [],
   "source": [
    "code = '000404' # 510300 000032 300142 603636 600519 688567 000100 000404"
   ]
  },
  {
   "cell_type": "code",
   "execution_count": 6,
   "id": "polar-livestock",
   "metadata": {},
   "outputs": [],
   "source": [
    "df = lt.get_k_data_daily(code, qfq=True)"
   ]
  },
  {
   "cell_type": "code",
   "execution_count": 7,
   "id": "acknowledged-chambers",
   "metadata": {},
   "outputs": [],
   "source": [
    "df = df['2021-01-01':]"
   ]
  },
  {
   "cell_type": "code",
   "execution_count": 8,
   "id": "rolled-impossible",
   "metadata": {},
   "outputs": [],
   "source": [
    "top = df.close.min() * .8\n",
    "buttom = df.close.max() * 1.1"
   ]
  },
  {
   "cell_type": "code",
   "execution_count": 9,
   "id": "selected-frost",
   "metadata": {},
   "outputs": [
    {
     "data": {
      "text/plain": [
       "2.824"
      ]
     },
     "execution_count": 9,
     "metadata": {},
     "output_type": "execute_result"
    }
   ],
   "source": [
    "top"
   ]
  },
  {
   "cell_type": "code",
   "execution_count": 10,
   "id": "closed-wrapping",
   "metadata": {},
   "outputs": [
    {
     "data": {
      "text/plain": [
       "5.324"
      ]
     },
     "execution_count": 10,
     "metadata": {},
     "output_type": "execute_result"
    }
   ],
   "source": [
    "buttom"
   ]
  },
  {
   "cell_type": "code",
   "execution_count": 11,
   "id": "skilled-surface",
   "metadata": {},
   "outputs": [],
   "source": [
    "df.index = pd.to_datetime(df.index)"
   ]
  },
  {
   "cell_type": "code",
   "execution_count": 12,
   "id": "divine-genome",
   "metadata": {},
   "outputs": [
    {
     "name": "stdout",
     "output_type": "stream",
     "text": [
      "Starting Portfolio Value: 10000.00\n",
      "a\n",
      "2021-01-11, 执行买入, 价格: 4.34, 成本: 998.20, 手续费 0.50\n",
      "2021-01-12, 执行买入, 价格: 4.13, 成本: 3035.55, 手续费 1.52\n",
      "2021-01-15, 执行买入, 价格: 4.04, 成本: 1030.20, 手续费 0.52\n",
      "2021-01-19, 执行卖出, 价格: 4.16, 成本: 1075.05, 手续费 0.54\n",
      "2021-01-25, 执行买入, 价格: 4.04, 成本: 1062.52, 手续费 0.53\n",
      "2021-01-28, 执行卖出, 价格: 4.14, 成本: 1093.65, 手续费 0.55\n",
      "2021-01-29, 执行卖出, 价格: 4.27, 成本: 1019.36, 手续费 0.53\n",
      "2021-02-01, 执行买入, 价格: 4.12, 成本: 1083.56, 手续费 0.54\n",
      "2021-02-03, 执行买入, 价格: 4.02, 成本: 1053.24, 手续费 0.53\n",
      "2021-02-04, 执行买入, 价格: 3.92, 成本: 1034.88, 手续费 0.52\n",
      "2021-02-05, 执行买入, 价格: 3.81, 成本: 1992.63, 手续费 1.00\n",
      "2021-02-18, 执行卖出, 价格: 3.96, 成本: 1056.88, 手续费 0.52\n",
      "2021-02-19, 执行卖出, 价格: 4.00, 成本: 1032.86, 手续费 0.52\n",
      "2021-02-22, 执行卖出, 价格: 4.14, 成本: 1060.88, 手续费 0.55\n",
      "2021-02-23, 执行卖出, 价格: 4.19, 成本: 1004.83, 手续费 0.53\n",
      "2021-03-01, 执行买入, 价格: 4.10, 成本: 1086.50, 手续费 0.54\n",
      "2021-03-02, 执行卖出, 价格: 4.19, 成本: 1058.26, 手续费 0.55\n",
      "2021-03-04, 执行卖出, 价格: 4.21, 成本: 1026.07, 手续费 0.54\n",
      "2021-03-09, 执行买入, 价格: 4.14, 成本: 1068.12, 手续费 0.53\n",
      "2021-03-11, 执行买入, 价格: 4.02, 成本: 1093.44, 手续费 0.55\n",
      "2021-03-15, 执行卖出, 价格: 4.25, 成本: 2136.67, 手续费 1.12\n",
      "2021-03-16, 执行卖出, 价格: 4.43, 成本: 2974.34, 手续费 1.63\n",
      "2021-03-19, 执行买入, 价格: 4.35, 成本: 1048.35, 手续费 0.52\n",
      "2021-03-26, 执行买入, 价格: 4.33, 成本: 1078.17, 手续费 0.54\n",
      "2021-03-29, 执行卖出, 价格: 4.47, 成本: 1089.30, 手续费 0.56\n",
      "2021-04-02, 执行买入, 价格: 4.32, 成本: 1088.64, 手续费 0.54\n",
      "2021-04-12, 执行卖出, 价格: 4.36, 成本: 1078.08, 手续费 0.54\n",
      "2021-04-14, 执行买入, 价格: 4.15, 成本: 3220.40, 手续费 1.61\n",
      "2021-04-16, 执行卖出, 价格: 4.24, 成本: 1106.87, 手续费 0.56\n",
      "2021-04-19, 执行卖出, 价格: 4.37, 成本: 1094.30, 手续费 0.57\n",
      "2021-04-20, 执行卖出, 价格: 4.41, 成本: 1039.79, 手续费 0.55\n",
      "2021-04-22, 执行买入, 价格: 4.15, 成本: 3266.05, 手续费 1.63\n",
      "2021-04-26, 执行买入, 价格: 3.97, 成本: 1139.39, 手续费 0.57\n",
      "2021-04-28, 执行买入, 价格: 3.90, 成本: 2156.70, 手续费 1.08\n",
      "2021-05-20, 执行卖出, 价格: 3.99, 成本: 1139.21, 手续费 0.56\n",
      "2021-05-24, 执行买入, 价格: 3.90, 成本: 1103.70, 手续费 0.55\n",
      "2021-06-23, 执行卖出, 价格: 3.97, 成本: 1116.55, 手续费 0.55\n",
      "2021-06-30, 执行买入, 价格: 3.87, 成本: 1110.69, 手续费 0.56\n",
      "2021-07-05, 执行买入, 价格: 3.82, 成本: 1073.42, 手续费 0.54\n",
      "2021-07-16, 执行买入, 价格: 3.72, 成本: 1045.32, 手续费 0.52\n",
      "2021-07-27, 交易失败\n",
      "2021-08-09, 执行卖出, 价格: 3.79, 成本: 19.76, 手续费 0.01\n",
      "2021-08-10, 执行卖出, 价格: 3.82, 成本: 1074.96, 手续费 0.52\n",
      "2021-08-27, 执行卖出, 价格: 3.90, 成本: 1106.57, 手续费 0.55\n",
      "2021-09-03, 执行卖出, 价格: 4.00, 成本: 1118.43, 手续费 0.57\n",
      "2021-09-09, 执行卖出, 价格: 4.08, 成本: 1102.62, 手续费 0.57\n",
      "2021-09-14, 执行卖出, 价格: 4.19, 成本: 1082.86, 手续费 0.57\n",
      "2021-09-27, 执行买入, 价格: 4.08, 成本: 1166.88, 手续费 0.58\n",
      "2021-09-28, 执行买入, 价格: 3.89, 成本: 2244.53, 手续费 1.12\n",
      "2021-10-11, 执行卖出, 价格: 4.13, 成本: 2260.81, 手续费 1.18\n",
      "2021-10-13, 手续费:33.06 成本比例:0.00303\n",
      "Final Portfolio Value: 10905.72\n"
     ]
    }
   ],
   "source": [
    "cerebro = bt.Cerebro(oldtrades=True)\n",
    "\n",
    "feed = bt.feeds.PandasData(dataname=df, openinterest=None, compression=1, timeframe=bt.TimeFrame.Minutes)\n",
    "cerebro.adddata(feed)\n",
    "\n",
    "# top = 4.2\n",
    "# buttom = 3.5\n",
    "cerebro.addstrategy(GridStrategy, top=top, buttom=buttom)\n",
    "\n",
    "# 小场面1万起始资金\n",
    "cerebro.broker.setcash(10000.0)\n",
    "\n",
    "# 手续费万5\n",
    "cerebro.broker.setcommission(0.0005)\n",
    "\n",
    "print('Starting Portfolio Value: %.2f' % cerebro.broker.getvalue())\n",
    "\n",
    "result = cerebro.run()\n",
    "\n",
    "print('Final Portfolio Value: %.2f' % cerebro.broker.getvalue())"
   ]
  },
  {
   "cell_type": "code",
   "execution_count": 13,
   "id": "personal-committee",
   "metadata": {},
   "outputs": [
    {
     "data": {
      "text/plain": [
       "[[<Figure size 1707x960 with 4 Axes>]]"
      ]
     },
     "execution_count": 13,
     "metadata": {},
     "output_type": "execute_result"
    }
   ],
   "source": [
    "cerebro.plot(\n",
    "    iplot=False,\n",
    "    start=datetime.date(2020, 1, 1),\n",
    "    end=datetime.date(2021, 9, 30),\n",
    "    style='candlestick',\n",
    "    barup='red',\n",
    "    bardown='green',\n",
    ")"
   ]
  },
  {
   "cell_type": "code",
   "execution_count": 8,
   "id": "unavailable-choir",
   "metadata": {},
   "outputs": [],
   "source": [
    "# start = \"2018-01-01\"\n",
    "# end = \"2021-07-05\"\n",
    "# name = [\"300etf\"]\n",
    "# code = [\"510300\"]\n",
    "# backtest = backtest.BackTest(GridStrategy, start, end, code, name, 100000)\n",
    "# result = backtest.run()\n",
    "# # backtest.output()\n",
    "# print(result)"
   ]
  },
  {
   "cell_type": "code",
   "execution_count": null,
   "id": "caroline-interim",
   "metadata": {},
   "outputs": [],
   "source": []
  }
 ],
 "metadata": {
  "kernelspec": {
   "display_name": "Python 3",
   "language": "python",
   "name": "python3"
  },
  "language_info": {
   "codemirror_mode": {
    "name": "ipython",
    "version": 3
   },
   "file_extension": ".py",
   "mimetype": "text/x-python",
   "name": "python",
   "nbconvert_exporter": "python",
   "pygments_lexer": "ipython3",
   "version": "3.7.9"
  }
 },
 "nbformat": 4,
 "nbformat_minor": 5
}
