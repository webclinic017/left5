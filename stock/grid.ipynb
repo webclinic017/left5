{
 "cells": [
  {
   "cell_type": "markdown",
   "id": "korean-power",
   "metadata": {},
   "source": [
    "### https://zhuanlan.zhihu.com/p/176241946"
   ]
  },
  {
   "cell_type": "code",
   "execution_count": 1,
   "id": "consolidated-voluntary",
   "metadata": {},
   "outputs": [],
   "source": [
    "import datetime\n",
    "import backtrader as bt\n",
    "import backtrader.indicators as bi\n",
    "# import backtest\n",
    "import pandas as pd\n",
    "import numpy as np\n",
    "# import math\n",
    "# import matplotlib.pyplot as plt"
   ]
  },
  {
   "cell_type": "code",
   "execution_count": 2,
   "id": "actual-magic",
   "metadata": {},
   "outputs": [],
   "source": [
    "from lutils.stock import LTdxHq"
   ]
  },
  {
   "cell_type": "code",
   "execution_count": 3,
   "id": "powerful-value",
   "metadata": {},
   "outputs": [],
   "source": [
    "class GridStrategy(bt.Strategy):\n",
    "    params = (\n",
    "        (\"printlog\", True),\n",
    "        (\"top\", 12),\n",
    "        (\"buttom\", 7),\n",
    "    )\n",
    "    \n",
    "    def __init__(self):\n",
    "        self.mid = (self.p.top + self.p.buttom)/2.0\n",
    "        # 百分比区间计算\n",
    "        #这里多1/2，是因为arange函数是左闭右开区间。\n",
    "        perc_level = [x for x in np.arange(1 + 0.02 * 5, 1 - 0.02 * 5 - 0.02/2, -0.02)]\n",
    "        # 价格区间\n",
    "        # print(self.mid)\n",
    "        self.price_levels = [self.mid * x for x in perc_level]\n",
    "        # 记录上一次穿越的网格\n",
    "        self.last_price_index = None\n",
    "        # 总手续费\n",
    "        self.comm = 0.0\n",
    " \n",
    "    def next(self):\n",
    "        # print(self.last_price_index)\n",
    "        # 开仓\n",
    "        if self.last_price_index == None:\n",
    "            # print(\"b\", len(self.price_levels))\n",
    "            for i in range(len(self.price_levels)):\n",
    "                price = self.data.close[0]\n",
    "                # print(\"c\", i, price, self.price_levels[i][0])\n",
    "                if self.data.close[0] > self.price_levels[i]:\n",
    "                    self.last_price_index = i\n",
    "                    self.order_target_percent(target=i/(len(self.price_levels) - 1))\n",
    "                    print(\"a\")\n",
    "                    return\n",
    "        # 调仓\n",
    "        else:\n",
    "            signal = False\n",
    "            while True:\n",
    "                upper = None\n",
    "                lower = None\n",
    "                if self.last_price_index > 0:\n",
    "                    upper = self.price_levels[self.last_price_index - 1]\n",
    "                if self.last_price_index < len(self.price_levels) - 1:\n",
    "                    lower = self.price_levels[self.last_price_index + 1]\n",
    "                # 还不是最轻仓，继续涨，再卖一档\n",
    "                if upper != None and self.data.close > upper:\n",
    "                    self.last_price_index = self.last_price_index - 1\n",
    "                    signal = True\n",
    "                    continue\n",
    "                # 还不是最重仓，继续跌，再买一档\n",
    "                if lower != None and self.data.close < lower:\n",
    "                    self.last_price_index = self.last_price_index + 1\n",
    "                    signal = True\n",
    "                    continue\n",
    "                break\n",
    "            if signal:\n",
    "                self.long_short = None\n",
    "                self.order_target_percent(target=self.last_price_index/(len(self.price_levels) - 1))\n",
    " \n",
    "    # 输出交易记录\n",
    "    def log(self, txt, dt = None, doprint = False):\n",
    "        if self.params.printlog or doprint:\n",
    "            dt = dt or self.datas[0].datetime.date(0)\n",
    "            print('%s, %s' % (dt.isoformat(), txt))\n",
    " \n",
    "    def notify_order(self, order):\n",
    "        # 有交易提交/被接受，啥也不做\n",
    "        if order.status in [order.Submitted, order.Accepted]:\n",
    "            return\n",
    "        # 交易完成，报告结果\n",
    "        if order.status in [order.Completed]:\n",
    "            if order.isbuy():\n",
    "                self.log('执行买入, 价格: %.2f, 成本: %.2f, 手续费 %.2f' % (order.executed.price, order.executed.value, order.executed.comm))\n",
    "                self.buyprice = order.executed.price\n",
    "                self.comm += order.executed.comm\n",
    "            else:\n",
    "                self.log('执行卖出, 价格: %.2f, 成本: %.2f, 手续费 %.2f' % (order.executed.price, order.executed.value, order.executed.comm))\n",
    "                self.comm += order.executed.comm\n",
    "        elif order.status in [order.Canceled, order.Margin, order.Rejected]:\n",
    "            self.log(\"交易失败\")\n",
    "        self.order = None\n",
    " \n",
    "    # 输出手续费\n",
    "    def stop(self):\n",
    "        self.log(\"手续费:%.2f 成本比例:%.5f\" % (self.comm, self.comm/self.broker.getvalue()))\n",
    "\n"
   ]
  },
  {
   "cell_type": "code",
   "execution_count": 4,
   "id": "offensive-metropolitan",
   "metadata": {},
   "outputs": [],
   "source": [
    "lt = LTdxHq()"
   ]
  },
  {
   "cell_type": "code",
   "execution_count": 5,
   "id": "civilian-manchester",
   "metadata": {},
   "outputs": [],
   "source": [
    "code = '603636' # 510300 000032 300142 603636 600519 688567"
   ]
  },
  {
   "cell_type": "code",
   "execution_count": 6,
   "id": "polar-livestock",
   "metadata": {},
   "outputs": [],
   "source": [
    "df = lt.get_k_data_daily(code, qfq=True)"
   ]
  },
  {
   "cell_type": "code",
   "execution_count": 7,
   "id": "acknowledged-chambers",
   "metadata": {},
   "outputs": [],
   "source": [
    "# df = df['2021-01-01':]"
   ]
  },
  {
   "cell_type": "code",
   "execution_count": 8,
   "id": "rolled-impossible",
   "metadata": {},
   "outputs": [],
   "source": [
    "top = df.close.min() * .8\n",
    "buttom = df.close.max() * 1.1"
   ]
  },
  {
   "cell_type": "code",
   "execution_count": 9,
   "id": "selected-frost",
   "metadata": {},
   "outputs": [
    {
     "data": {
      "text/plain": [
       "3.5840000000000005"
      ]
     },
     "execution_count": 9,
     "metadata": {},
     "output_type": "execute_result"
    }
   ],
   "source": [
    "top"
   ]
  },
  {
   "cell_type": "code",
   "execution_count": 10,
   "id": "closed-wrapping",
   "metadata": {},
   "outputs": [
    {
     "data": {
      "text/plain": [
       "27.511000000000003"
      ]
     },
     "execution_count": 10,
     "metadata": {},
     "output_type": "execute_result"
    }
   ],
   "source": [
    "buttom"
   ]
  },
  {
   "cell_type": "code",
   "execution_count": 11,
   "id": "skilled-surface",
   "metadata": {},
   "outputs": [],
   "source": [
    "df.index = pd.to_datetime(df.index)"
   ]
  },
  {
   "cell_type": "code",
   "execution_count": 12,
   "id": "divine-genome",
   "metadata": {},
   "outputs": [
    {
     "name": "stdout",
     "output_type": "stream",
     "text": [
      "Starting Portfolio Value: 10000.00\n",
      "a\n",
      "2015-04-27, 执行买入, 价格: 14.35, 成本: 8925.70, 手续费 4.46\n",
      "2015-04-29, 执行买入, 价格: 13.31, 成本: 1064.80, 手续费 0.53\n",
      "2015-05-12, 执行卖出, 价格: 16.41, 成本: 4981.02, 手续费 2.87\n",
      "2015-05-13, 执行卖出, 价格: 15.50, 成本: 967.74, 手续费 0.53\n",
      "2015-05-15, 执行卖出, 价格: 16.22, 成本: 2063.56, 手续费 1.18\n",
      "2015-05-19, 执行卖出, 价格: 17.40, 成本: 1978.18, 手续费 1.21\n",
      "2015-06-17, 执行买入, 价格: 15.91, 成本: 4661.63, 手续费 2.33\n",
      "2015-06-18, 执行卖出, 价格: 16.47, 成本: 1240.98, 手续费 0.64\n",
      "2015-06-19, 执行买入, 价格: 15.33, 成本: 1226.40, 手续费 0.61\n",
      "2015-06-23, 执行买入, 价格: 14.16, 成本: 5890.56, 手续费 2.95\n",
      "2015-06-24, 执行卖出, 价格: 14.85, 成本: 1230.13, 手续费 0.62\n",
      "2015-06-26, 执行买入, 价格: 13.58, 成本: 2240.70, 手续费 1.12\n",
      "2015-11-09, 执行卖出, 价格: 14.19, 成本: 1092.20, 手续费 0.53\n",
      "2015-11-10, 执行卖出, 价格: 15.93, 成本: 5854.19, 手续费 3.20\n",
      "2015-11-11, 执行卖出, 价格: 16.09, 成本: 1208.70, 手续费 0.67\n",
      "2015-11-12, 执行卖出, 价格: 17.74, 成本: 3393.10, 手续费 2.07\n",
      "2015-11-16, 执行买入, 价格: 14.95, 成本: 6234.15, 手续费 3.12\n",
      "2015-11-17, 执行卖出, 价格: 17.39, 成本: 5008.25, 手续费 2.91\n",
      "2015-11-18, 执行卖出, 价格: 17.04, 成本: 1225.90, 手续费 0.70\n",
      "2016-01-08, 执行买入, 价格: 17.53, 成本: 1454.99, 手续费 0.73\n",
      "2016-01-11, 执行卖出, 价格: 16.43, 成本: 1454.99, 手续费 0.68\n",
      "2016-01-12, 执行买入, 价格: 15.65, 成本: 7011.20, 手续费 3.51\n",
      "2016-01-14, 执行买入, 价格: 13.04, 成本: 6506.96, 手续费 3.25\n",
      "2016-01-15, 执行卖出, 价格: 14.19, 成本: 1027.78, 手续费 0.51\n",
      "2016-01-18, 执行买入, 价格: 13.53, 成本: 1353.00, 手续费 0.68\n",
      "2016-01-19, 执行卖出, 价格: 14.30, 成本: 1363.04, 手续费 0.69\n",
      "2016-01-20, 执行卖出, 价格: 15.11, 成本: 4216.91, 手续费 2.24\n",
      "2016-01-21, 执行买入, 价格: 14.69, 成本: 1513.07, 手续费 0.76\n",
      "2016-01-22, 执行买入, 价格: 14.58, 成本: 1487.16, 手续费 0.74\n",
      "2016-01-26, 执行卖出, 价格: 14.73, 成本: 1445.53, 手续费 0.74\n",
      "2016-01-27, 交易失败\n",
      "2016-02-17, 执行买入, 价格: 14.61, 成本: 1475.61, 手续费 0.74\n",
      "2016-02-18, 执行卖出, 价格: 14.82, 成本: 1449.39, 手续费 0.75\n",
      "2016-02-19, 执行买入, 价格: 14.41, 成本: 1469.82, 手续费 0.73\n",
      "2016-02-25, 执行买入, 价格: 13.54, 成本: 2870.48, 手续费 1.44\n",
      "2016-03-24, 执行卖出, 价格: 14.17, 成本: 1375.91, 手续费 0.69\n",
      "2016-03-29, 执行买入, 价格: 13.67, 成本: 1408.01, 手续费 0.70\n",
      "2016-06-28, 执行卖出, 价格: 14.51, 成本: 1413.20, 手续费 0.73\n",
      "2016-07-08, 执行卖出, 价格: 14.90, 成本: 2868.79, 手续费 1.51\n",
      "2016-07-12, 执行买入, 价格: 14.51, 成本: 1523.55, 手续费 0.76\n",
      "2016-07-13, 执行卖出, 价格: 15.49, 成本: 2963.85, 手续费 1.62\n",
      "2016-07-14, 执行卖出, 价格: 15.88, 成本: 2892.94, 手续费 1.62\n",
      "2016-07-19, 执行买入, 价格: 15.66, 成本: 1675.62, 手续费 0.84\n",
      "2016-07-21, 执行卖出, 价格: 15.85, 成本: 1522.11, 手续费 0.83\n",
      "2016-07-25, 执行卖出, 价格: 16.95, 成本: 1507.62, 手续费 0.88\n",
      "2016-07-26, 执行买入, 价格: 15.23, 成本: 3335.37, 手续费 1.67\n",
      "2016-07-28, 执行买入, 价格: 15.18, 成本: 1624.26, 手续费 0.81\n",
      "2016-08-01, 执行买入, 价格: 14.34, 成本: 1563.06, 手续费 0.78\n",
      "2016-08-10, 执行卖出, 价格: 15.27, 成本: 1597.76, 手续费 0.82\n",
      "2016-08-12, 执行买入, 价格: 14.90, 成本: 1624.10, 手续费 0.81\n",
      "2016-08-16, 执行卖出, 价格: 15.30, 成本: 1599.47, 手续费 0.83\n",
      "2016-08-23, 执行买入, 价格: 14.69, 成本: 1659.97, 手续费 0.83\n",
      "2016-09-01, 执行卖出, 价格: 15.09, 成本: 1627.06, 手续费 0.83\n",
      "2016-09-27, 执行买入, 价格: 14.45, 成本: 3193.45, 手续费 1.60\n",
      "2016-10-11, 执行卖出, 价格: 15.09, 成本: 1587.83, 手续费 0.81\n",
      "2016-10-25, 执行卖出, 价格: 15.28, 成本: 1573.13, 手续费 0.82\n",
      "2016-11-01, 执行卖出, 价格: 15.73, 成本: 1631.94, 手续费 0.87\n",
      "2016-11-02, 执行卖出, 价格: 16.19, 成本: 3116.86, 手续费 1.72\n",
      "2016-11-07, 执行卖出, 价格: 16.63, 成本: 1543.73, 手续费 0.87\n",
      "2016-11-08, 执行卖出, 价格: 17.09, 成本: 1514.32, 手续费 0.88\n",
      "2016-11-09, 执行卖出, 价格: 17.42, 成本: 1455.51, 手续费 0.86\n",
      "2017-04-14, 执行买入, 价格: 15.27, 成本: 3160.89, 手续费 1.58\n",
      "2017-04-17, 执行买入, 价格: 14.59, 成本: 6784.35, 手续费 3.39\n",
      "2017-04-18, 交易失败\n",
      "2019-04-04, 执行买入, 价格: 14.59, 成本: 5223.22, 手续费 2.61\n",
      "2019-04-09, 执行买入, 价格: 13.48, 成本: 1604.12, 手续费 0.80\n",
      "2020-02-19, 执行卖出, 价格: 15.56, 成本: 3342.84, 手续费 1.78\n",
      "2020-02-20, 执行买入, 价格: 14.23, 成本: 1892.59, 手续费 0.95\n",
      "2020-02-24, 执行卖出, 价格: 14.82, 成本: 1717.03, 手续费 0.87\n",
      "2020-02-25, 执行卖出, 价格: 14.76, 成本: 3463.17, 手续费 1.76\n",
      "2020-02-27, 执行买入, 价格: 14.26, 成本: 5247.68, 手续费 2.62\n",
      "2020-02-28, 执行卖出, 价格: 14.41, 成本: 3468.13, 手续费 1.73\n",
      "2020-03-02, 交易失败\n",
      "2020-03-03, 执行买入, 价格: 14.96, 成本: 1705.44, 手续费 0.85\n",
      "2020-03-09, 执行买入, 价格: 14.02, 成本: 1710.44, 手续费 0.86\n",
      "2020-03-10, 交易失败\n",
      "2020-08-04, 执行卖出, 价格: 14.60, 成本: 1705.78, 手续费 0.86\n",
      "2020-08-05, 执行买入, 价格: 14.41, 成本: 1815.66, 手续费 0.91\n",
      "2020-08-06, 执行卖出, 价格: 14.45, 成本: 1791.85, 手续费 0.90\n",
      "2020-08-13, 执行买入, 价格: 14.05, 成本: 1756.25, 手续费 0.88\n",
      "2020-08-14, 执行买入, 价格: 13.83, 成本: 1645.77, 手续费 0.82\n",
      "2020-08-18, 执行卖出, 价格: 14.33, 成本: 1678.50, 手续费 0.84\n",
      "2020-08-20, 执行买入, 价格: 13.64, 成本: 1664.08, 手续费 0.83\n",
      "2021-10-11, 手续费:102.27 成本比例:0.01004\n",
      "Final Portfolio Value: 10182.26\n"
     ]
    }
   ],
   "source": [
    "cerebro = bt.Cerebro(oldtrades=True)\n",
    "\n",
    "feed = bt.feeds.PandasData(dataname=df, openinterest=None, compression=1, timeframe=bt.TimeFrame.Minutes)\n",
    "cerebro.adddata(feed)\n",
    "\n",
    "# top = 4.2\n",
    "# buttom = 3.5\n",
    "cerebro.addstrategy(GridStrategy, top=top, buttom=buttom)\n",
    "\n",
    "# 小场面1万起始资金\n",
    "cerebro.broker.setcash(10000.0)\n",
    "\n",
    "# 手续费万5\n",
    "cerebro.broker.setcommission(0.0005)\n",
    "\n",
    "print('Starting Portfolio Value: %.2f' % cerebro.broker.getvalue())\n",
    "\n",
    "result = cerebro.run()\n",
    "\n",
    "print('Final Portfolio Value: %.2f' % cerebro.broker.getvalue())"
   ]
  },
  {
   "cell_type": "code",
   "execution_count": 13,
   "id": "personal-committee",
   "metadata": {},
   "outputs": [
    {
     "data": {
      "text/plain": [
       "[[<Figure size 1189x553 with 4 Axes>]]"
      ]
     },
     "execution_count": 13,
     "metadata": {},
     "output_type": "execute_result"
    }
   ],
   "source": [
    "cerebro.plot(\n",
    "    iplot=False,\n",
    "    start=datetime.date(2020, 1, 1),\n",
    "    end=datetime.date(2021, 9, 30),\n",
    "    style='candlestick',\n",
    "    barup='red',\n",
    "    bardown='green',\n",
    ")"
   ]
  },
  {
   "cell_type": "code",
   "execution_count": 8,
   "id": "unavailable-choir",
   "metadata": {},
   "outputs": [],
   "source": [
    "# start = \"2018-01-01\"\n",
    "# end = \"2021-07-05\"\n",
    "# name = [\"300etf\"]\n",
    "# code = [\"510300\"]\n",
    "# backtest = backtest.BackTest(GridStrategy, start, end, code, name, 100000)\n",
    "# result = backtest.run()\n",
    "# # backtest.output()\n",
    "# print(result)"
   ]
  },
  {
   "cell_type": "code",
   "execution_count": null,
   "id": "caroline-interim",
   "metadata": {},
   "outputs": [],
   "source": []
  }
 ],
 "metadata": {
  "kernelspec": {
   "display_name": "Python 3",
   "language": "python",
   "name": "python3"
  },
  "language_info": {
   "codemirror_mode": {
    "name": "ipython",
    "version": 3
   },
   "file_extension": ".py",
   "mimetype": "text/x-python",
   "name": "python",
   "nbconvert_exporter": "python",
   "pygments_lexer": "ipython3",
   "version": "3.7.9"
  }
 },
 "nbformat": 4,
 "nbformat_minor": 5
}
