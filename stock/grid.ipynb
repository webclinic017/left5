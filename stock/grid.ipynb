{
 "cells": [
  {
   "cell_type": "markdown",
   "id": "korean-power",
   "metadata": {},
   "source": [
    "### https://zhuanlan.zhihu.com/p/176241946"
   ]
  },
  {
   "cell_type": "code",
   "execution_count": 1,
   "id": "consolidated-voluntary",
   "metadata": {},
   "outputs": [],
   "source": [
    "import datetime\n",
    "import backtrader as bt\n",
    "import backtrader.indicators as bi\n",
    "# import backtest\n",
    "import pandas as pd\n",
    "import numpy as np\n",
    "# import math\n",
    "# import matplotlib.pyplot as plt"
   ]
  },
  {
   "cell_type": "code",
   "execution_count": 2,
   "id": "actual-magic",
   "metadata": {},
   "outputs": [],
   "source": [
    "from lutils.stock import LTdxHq"
   ]
  },
  {
   "cell_type": "code",
   "execution_count": 3,
   "id": "powerful-value",
   "metadata": {},
   "outputs": [],
   "source": [
    "class GridStrategy(bt.Strategy):\n",
    "    params = (\n",
    "        (\"printlog\", True),\n",
    "        (\"top\", 12),\n",
    "        (\"buttom\", 7),\n",
    "    )\n",
    "    \n",
    "    def __init__(self):\n",
    "        self.mid = (self.p.top + self.p.buttom)/2.0\n",
    "        # 百分比区间计算\n",
    "        #这里多1/2，是因为arange函数是左闭右开区间。\n",
    "        perc_level = [x for x in np.arange(1 + 0.02 * 5, 1 - 0.02 * 5 - 0.02/2, -0.02)]\n",
    "        # 价格区间\n",
    "        # print(self.mid)\n",
    "        self.price_levels = [self.mid * x for x in perc_level]\n",
    "        # 记录上一次穿越的网格\n",
    "        self.last_price_index = None\n",
    "        # 总手续费\n",
    "        self.comm = 0.0\n",
    " \n",
    "    def next(self):\n",
    "        # print(self.last_price_index)\n",
    "        # 开仓\n",
    "        if self.last_price_index == None:\n",
    "            # print(\"b\", len(self.price_levels))\n",
    "            for i in range(len(self.price_levels)):\n",
    "                price = self.data.close[0]\n",
    "                # print(\"c\", i, price, self.price_levels[i][0])\n",
    "                if self.data.close[0] > self.price_levels[i]:\n",
    "                    self.last_price_index = i\n",
    "                    self.order_target_percent(target=i/(len(self.price_levels) - 1))\n",
    "                    print(\"a\")\n",
    "                    return\n",
    "        # 调仓\n",
    "        else:\n",
    "            signal = False\n",
    "            while True:\n",
    "                upper = None\n",
    "                lower = None\n",
    "                if self.last_price_index > 0:\n",
    "                    upper = self.price_levels[self.last_price_index - 1]\n",
    "                if self.last_price_index < len(self.price_levels) - 1:\n",
    "                    lower = self.price_levels[self.last_price_index + 1]\n",
    "                # 还不是最轻仓，继续涨，再卖一档\n",
    "                if upper != None and self.data.close > upper:\n",
    "                    self.last_price_index = self.last_price_index - 1\n",
    "                    signal = True\n",
    "                    continue\n",
    "                # 还不是最重仓，继续跌，再买一档\n",
    "                if lower != None and self.data.close < lower:\n",
    "                    self.last_price_index = self.last_price_index + 1\n",
    "                    signal = True\n",
    "                    continue\n",
    "                break\n",
    "            if signal:\n",
    "                self.long_short = None\n",
    "                self.order_target_percent(target=self.last_price_index/(len(self.price_levels) - 1))\n",
    " \n",
    "    # 输出交易记录\n",
    "    def log(self, txt, dt = None, doprint = False):\n",
    "        if self.params.printlog or doprint:\n",
    "            dt = dt or self.datas[0].datetime.date(0)\n",
    "            print('%s, %s' % (dt.isoformat(), txt))\n",
    " \n",
    "    def notify_order(self, order):\n",
    "        # 有交易提交/被接受，啥也不做\n",
    "        if order.status in [order.Submitted, order.Accepted]:\n",
    "            return\n",
    "        # 交易完成，报告结果\n",
    "        if order.status in [order.Completed]:\n",
    "            if order.isbuy():\n",
    "                self.log('执行买入, 价格: %.2f, 成本: %.2f, 手续费 %.2f' % (order.executed.price, order.executed.value, order.executed.comm))\n",
    "                self.buyprice = order.executed.price\n",
    "                self.comm += order.executed.comm\n",
    "            else:\n",
    "                self.log('执行卖出, 价格: %.2f, 成本: %.2f, 手续费 %.2f' % (order.executed.price, order.executed.value, order.executed.comm))\n",
    "                self.comm += order.executed.comm\n",
    "        elif order.status in [order.Canceled, order.Margin, order.Rejected]:\n",
    "            self.log(\"交易失败\")\n",
    "        self.order = None\n",
    " \n",
    "    # 输出手续费\n",
    "    def stop(self):\n",
    "        self.log(\"手续费:%.2f 成本比例:%.5f\" % (self.comm, self.comm/self.broker.getvalue()))\n",
    "\n"
   ]
  },
  {
   "cell_type": "code",
   "execution_count": 4,
   "id": "offensive-metropolitan",
   "metadata": {},
   "outputs": [],
   "source": [
    "lt = LTdxHq()"
   ]
  },
  {
   "cell_type": "code",
   "execution_count": 5,
   "id": "civilian-manchester",
   "metadata": {},
   "outputs": [],
   "source": [
    "code = '600217' # 510300 000032 300142 603636 600519 688567 600217"
   ]
  },
  {
   "cell_type": "code",
   "execution_count": 6,
   "id": "polar-livestock",
   "metadata": {},
   "outputs": [],
   "source": [
    "df = lt.get_k_data_daily(code, qfq=True)"
   ]
  },
  {
   "cell_type": "code",
   "execution_count": 7,
   "id": "acknowledged-chambers",
   "metadata": {},
   "outputs": [],
   "source": [
    "# df = df['2021-01-01':]"
   ]
  },
  {
   "cell_type": "code",
   "execution_count": 8,
   "id": "rolled-impossible",
   "metadata": {},
   "outputs": [],
   "source": [
    "top = df.close.min() * .8\n",
    "buttom = df.close.max() * 1.1"
   ]
  },
  {
   "cell_type": "code",
   "execution_count": 9,
   "id": "selected-frost",
   "metadata": {},
   "outputs": [
    {
     "data": {
      "text/plain": [
       "0.784"
      ]
     },
     "execution_count": 9,
     "metadata": {},
     "output_type": "execute_result"
    }
   ],
   "source": [
    "top"
   ]
  },
  {
   "cell_type": "code",
   "execution_count": 10,
   "id": "closed-wrapping",
   "metadata": {},
   "outputs": [
    {
     "data": {
      "text/plain": [
       "16.896"
      ]
     },
     "execution_count": 10,
     "metadata": {},
     "output_type": "execute_result"
    }
   ],
   "source": [
    "buttom"
   ]
  },
  {
   "cell_type": "code",
   "execution_count": 11,
   "id": "skilled-surface",
   "metadata": {},
   "outputs": [],
   "source": [
    "df.index = pd.to_datetime(df.index)"
   ]
  },
  {
   "cell_type": "code",
   "execution_count": 12,
   "id": "divine-genome",
   "metadata": {},
   "outputs": [
    {
     "name": "stdout",
     "output_type": "stream",
     "text": [
      "Starting Portfolio Value: 10000.00\n",
      "a\n",
      "2001-06-25, 执行买入, 价格: 8.28, 成本: 9008.64, 手续费 4.50\n",
      "2001-06-26, 执行卖出, 价格: 8.48, 成本: 1026.72, 手续费 0.53\n",
      "2001-06-27, 执行卖出, 价格: 8.77, 成本: 2036.88, 手续费 1.08\n",
      "2001-06-28, 执行卖出, 价格: 9.07, 成本: 2020.32, 手续费 1.11\n",
      "2001-06-29, 执行卖出, 价格: 9.39, 成本: 2003.76, 手续费 1.14\n",
      "2001-07-02, 执行卖出, 价格: 9.68, 成本: 977.04, 手续费 0.57\n",
      "2001-07-03, 执行卖出, 价格: 9.88, 成本: 943.92, 手续费 0.56\n",
      "2001-07-04, 执行买入, 价格: 8.26, 成本: 4072.18, 手续费 2.04\n",
      "2001-07-05, 执行买入, 价格: 8.09, 成本: 3462.52, 手续费 1.73\n",
      "2001-07-06, 执行买入, 价格: 7.51, 成本: 3394.52, 手续费 1.70\n",
      "2007-05-24, 执行卖出, 价格: 8.64, 成本: 1082.57, 手续费 0.59\n",
      "2007-05-28, 执行买入, 价格: 7.81, 成本: 1171.50, 手续费 0.59\n",
      "2007-10-08, 执行卖出, 价格: 8.25, 成本: 1088.31, 手续费 0.57\n",
      "2007-10-09, 执行买入, 价格: 7.65, 成本: 1124.55, 手续费 0.56\n",
      "2011-04-11, 执行卖出, 价格: 8.50, 成本: 1084.07, 手续费 0.58\n",
      "2011-04-12, 执行卖出, 价格: 8.25, 成本: 1091.99, 手续费 0.57\n",
      "2011-04-13, 执行卖出, 价格: 8.74, 成本: 2286.84, 手续费 1.26\n",
      "2011-04-14, 执行卖出, 价格: 9.05, 成本: 2255.19, 手续费 1.29\n",
      "2011-04-15, 执行卖出, 价格: 9.34, 成本: 1147.38, 手续费 0.68\n",
      "2011-04-19, 执行买入, 价格: 8.47, 成本: 2524.06, 手续费 1.26\n",
      "2011-04-20, 执行买入, 价格: 8.00, 成本: 2512.00, 手续费 1.26\n",
      "2011-04-21, 执行买入, 价格: 7.88, 成本: 3719.36, 手续费 1.86\n",
      "2014-09-09, 执行卖出, 价格: 8.14, 成本: 2369.59, 手续费 1.20\n",
      "2014-09-12, 执行卖出, 价格: 8.66, 成本: 1277.17, 手续费 0.69\n",
      "2014-09-17, 执行买入, 价格: 8.07, 成本: 2574.33, 手续费 1.29\n",
      "2014-09-18, 交易失败\n",
      "2014-09-24, 执行卖出, 价格: 8.26, 成本: 24.12, 手续费 0.01\n",
      "2014-09-25, 执行卖出, 价格: 8.32, 成本: 1206.20, 手续费 0.62\n",
      "2014-09-29, 执行买入, 价格: 8.09, 成本: 1262.04, 手续费 0.63\n",
      "2014-10-09, 执行卖出, 价格: 8.39, 成本: 1239.23, 手续费 0.65\n",
      "2014-10-15, 执行买入, 价格: 7.99, 成本: 1294.38, 手续费 0.65\n",
      "2014-10-17, 执行买入, 价格: 7.76, 成本: 1218.32, 手续费 0.61\n",
      "2014-12-15, 执行卖出, 价格: 8.27, 成本: 1209.70, 手续费 0.62\n",
      "2014-12-16, 执行卖出, 价格: 8.73, 成本: 3693.18, 手续费 2.01\n",
      "2014-12-18, 执行卖出, 价格: 8.92, 成本: 1273.79, 手续费 0.71\n",
      "2014-12-22, 执行买入, 价格: 8.50, 成本: 1436.50, 手续费 0.72\n",
      "2014-12-23, 执行买入, 价格: 8.32, 成本: 1372.80, 手续费 0.69\n",
      "2014-12-24, 执行买入, 价格: 8.31, 成本: 1329.60, 手续费 0.66\n",
      "2014-12-26, 执行卖出, 价格: 8.58, 成本: 1337.77, 手续费 0.70\n",
      "2014-12-29, 执行卖出, 价格: 9.40, 成本: 6354.41, 手续费 3.66\n",
      "2015-01-05, 执行买入, 价格: 8.75, 成本: 4331.25, 手续费 2.17\n",
      "2015-01-08, 执行卖出, 价格: 9.08, 成本: 1449.47, 手续费 0.77\n",
      "2015-01-12, 执行买入, 价格: 8.41, 成本: 2909.86, 手续费 1.45\n",
      "2015-01-13, 执行买入, 价格: 8.20, 成本: 2837.20, 手续费 1.42\n",
      "2015-01-16, 执行卖出, 价格: 8.70, 成本: 2842.58, 手续费 1.47\n",
      "2015-01-20, 执行买入, 价格: 8.10, 成本: 2907.90, 手续费 1.45\n",
      "2015-01-22, 执行卖出, 价格: 8.67, 成本: 1473.85, 手续费 0.77\n",
      "2015-01-23, 执行卖出, 价格: 8.85, 成本: 1432.21, 手续费 0.76\n",
      "2015-01-26, 执行卖出, 价格: 9.33, 成本: 4196.72, 手续费 2.35\n",
      "2015-01-27, 执行卖出, 价格: 9.45, 成本: 1365.60, 手续费 0.77\n",
      "2015-01-28, 执行卖出, 价格: 9.91, 成本: 2672.91, 手续费 1.59\n",
      "2015-08-21, 执行买入, 价格: 9.31, 成本: 1489.60, 手续费 0.74\n",
      "2015-08-24, 执行买入, 价格: 8.59, 成本: 2954.96, 手续费 1.48\n",
      "2015-08-25, 执行买入, 价格: 8.16, 成本: 4504.32, 手续费 2.25\n",
      "2015-08-26, 执行买入, 价格: 7.75, 成本: 3138.75, 手续费 1.57\n",
      "2015-08-27, 交易失败\n",
      "2015-10-28, 执行买入, 价格: 8.40, 成本: 1680.00, 手续费 0.84\n",
      "2015-10-29, 交易失败\n",
      "2015-10-30, 执行卖出, 价格: 8.19, 成本: 24.87, 手续费 0.01\n",
      "2015-11-16, 执行卖出, 价格: 8.86, 成本: 1566.58, 手续费 0.84\n",
      "2015-11-17, 执行卖出, 价格: 9.30, 成本: 4600.26, 手续费 2.58\n",
      "2015-11-18, 执行卖出, 价格: 9.37, 成本: 3075.13, 手续费 1.74\n",
      "2015-11-19, 执行买入, 价格: 8.81, 成本: 1832.48, 手续费 0.92\n",
      "2015-11-23, 执行卖出, 价格: 9.56, 成本: 4815.31, 手续费 2.73\n",
      "2015-11-30, 执行买入, 价格: 8.92, 成本: 5200.36, 手续费 2.60\n",
      "2015-12-01, 执行买入, 价格: 8.77, 成本: 1780.31, 手续费 0.89\n",
      "2015-12-03, 执行卖出, 价格: 9.10, 成本: 1847.53, 手续费 0.96\n",
      "2015-12-07, 执行卖出, 价格: 9.22, 成本: 1689.17, 手续费 0.89\n",
      "2015-12-08, 执行卖出, 价格: 9.68, 成本: 3360.74, 手续费 1.85\n",
      "2015-12-11, 执行买入, 价格: 9.14, 成本: 3573.74, 手续费 1.79\n",
      "2015-12-18, 执行卖出, 价格: 9.44, 成本: 1797.23, 手续费 0.94\n",
      "2015-12-21, 执行卖出, 价格: 9.58, 成本: 1697.88, 手续费 0.90\n",
      "2015-12-25, 执行买入, 价格: 9.35, 成本: 1795.20, 手续费 0.90\n",
      "2015-12-28, 执行卖出, 价格: 9.90, 成本: 3475.02, 手续费 1.87\n",
      "2016-01-06, 执行买入, 价格: 9.41, 成本: 1778.49, 手续费 0.89\n",
      "2016-01-08, 执行买入, 价格: 9.26, 成本: 3666.96, 手续费 1.83\n",
      "2016-01-11, 执行买入, 价格: 8.80, 成本: 1777.60, 手续费 0.89\n",
      "2016-01-12, 执行买入, 价格: 8.45, 成本: 3667.30, 手续费 1.83\n",
      "2016-01-13, 执行买入, 价格: 8.00, 成本: 5224.00, 手续费 2.61\n",
      "2016-01-14, 执行买入, 价格: 7.41, 成本: 1667.25, 手续费 0.83\n",
      "2016-02-04, 执行卖出, 价格: 8.41, 成本: 3490.24, 手续费 1.73\n",
      "2016-02-15, 执行卖出, 价格: 8.26, 成本: 1855.25, 手续费 0.90\n",
      "2016-02-17, 执行卖出, 价格: 8.76, 成本: 1880.66, 手续费 0.97\n",
      "2016-02-19, 执行卖出, 价格: 9.10, 成本: 3642.73, 手续费 1.96\n",
      "2016-02-22, 执行卖出, 价格: 9.30, 成本: 1753.59, 手续费 0.96\n",
      "2016-02-25, 执行卖出, 价格: 9.50, 成本: 3481.77, 手续费 1.95\n",
      "2016-02-26, 执行买入, 价格: 8.80, 成本: 3713.60, 手续费 1.86\n",
      "2016-02-29, 执行买入, 价格: 8.70, 成本: 5872.50, 手续费 2.94\n",
      "2016-03-01, 执行买入, 价格: 8.35, 成本: 3874.40, 手续费 1.94\n",
      "2016-03-03, 执行卖出, 价格: 8.75, 成本: 3950.13, 手续费 2.01\n",
      "2016-03-09, 执行卖出, 价格: 8.30, 成本: 1910.52, 手续费 0.92\n",
      "2016-03-10, 执行买入, 价格: 7.95, 成本: 7457.10, 手续费 3.73\n",
      "2016-03-11, 交易失败\n",
      "2016-03-14, 执行卖出, 价格: 8.45, 成本: 1784.66, 手续费 0.91\n",
      "2016-03-15, 执行卖出, 价格: 8.70, 成本: 5710.91, 手续费 2.99\n",
      "2016-03-16, 执行买入, 价格: 8.63, 成本: 2071.20, 手续费 1.04\n",
      "2016-03-17, 执行买入, 价格: 8.37, 成本: 4000.86, 手续费 2.00\n",
      "2016-03-21, 执行卖出, 价格: 8.67, 成本: 2090.50, 手续费 1.08\n",
      "2016-03-22, 执行卖出, 价格: 8.62, 成本: 1939.98, 手续费 1.00\n",
      "2016-03-25, 执行卖出, 价格: 9.00, 成本: 1990.15, 手续费 1.07\n",
      "2016-03-30, 执行买入, 价格: 8.24, 成本: 6237.68, 手续费 3.12\n",
      "2016-04-05, 执行卖出, 价格: 8.65, 成本: 2119.70, 手续费 1.10\n",
      "2016-04-06, 执行卖出, 价格: 8.71, 成本: 1995.01, 手续费 1.05\n",
      "2016-04-15, 执行卖出, 价格: 9.00, 成本: 1986.70, 手续费 1.08\n",
      "2016-04-19, 执行买入, 价格: 8.61, 成本: 2255.82, 手续费 1.13\n",
      "2016-04-21, 执行买入, 价格: 8.18, 成本: 4065.46, 手续费 2.03\n",
      "2016-04-22, 执行买入, 价格: 8.08, 成本: 1947.28, 手续费 0.97\n",
      "2016-05-09, 执行买入, 价格: 7.90, 成本: 1903.90, 手续费 0.95\n",
      "2016-07-13, 执行卖出, 价格: 8.30, 成本: 3903.27, 手续费 1.96\n",
      "2016-07-18, 执行买入, 价格: 8.07, 成本: 1977.15, 手续费 0.99\n",
      "2016-07-26, 交易失败\n",
      "2016-09-08, 执行买入, 价格: 8.14, 成本: 8.14, 手续费 0.00\n",
      "2016-09-13, 执行卖出, 价格: 8.47, 成本: 5959.49, 手续费 3.07\n",
      "2016-09-22, 执行卖出, 价格: 9.00, 成本: 2164.84, 手续费 1.18\n",
      "2016-09-27, 执行买入, 价格: 8.50, 成本: 2286.50, 手续费 1.14\n",
      "2016-09-30, 执行买入, 价格: 8.44, 成本: 2084.68, 手续费 1.04\n",
      "2016-10-11, 执行卖出, 价格: 8.74, 成本: 2109.51, 手续费 1.11\n",
      "2016-10-18, 执行买入, 价格: 8.29, 成本: 4285.93, 手续费 2.14\n",
      "2016-10-25, 执行卖出, 价格: 8.62, 成本: 2116.79, 手续费 1.10\n",
      "2016-11-11, 执行卖出, 价格: 8.74, 成本: 2058.68, 手续费 1.08\n",
      "2016-11-28, 执行买入, 价格: 8.43, 成本: 2233.95, 手续费 1.12\n",
      "2016-12-06, 执行买入, 价格: 8.15, 成本: 4148.35, 手续费 2.07\n",
      "2016-12-09, 执行卖出, 价格: 8.30, 成本: 2087.01, 手续费 1.05\n",
      "2016-12-13, 交易失败\n",
      "2016-12-29, 执行买入, 价格: 8.17, 成本: 2026.16, 手续费 1.01\n",
      "2016-12-30, 执行卖出, 价格: 8.36, 成本: 2042.50, 手续费 1.03\n",
      "2017-01-10, 执行卖出, 价格: 8.51, 成本: 2075.57, 手续费 1.07\n",
      "2017-01-12, 执行买入, 价格: 8.28, 成本: 2210.76, 手续费 1.11\n",
      "2017-01-17, 执行买入, 价格: 8.06, 成本: 2039.18, 手续费 1.02\n",
      "2017-01-18, 交易失败\n",
      "2017-02-09, 执行卖出, 价格: 8.14, 成本: 24.74, 手续费 0.01\n",
      "2017-02-13, 执行卖出, 价格: 9.20, 成本: 8255.01, 手续费 4.60\n",
      "2017-02-16, 执行买入, 价格: 8.61, 成本: 2488.29, 手续费 1.24\n",
      "2017-02-21, 执行卖出, 价格: 8.88, 成本: 2220.40, 手续费 1.19\n",
      "2017-02-28, 执行买入, 价格: 8.67, 成本: 2340.90, 手续费 1.17\n",
      "2017-03-07, 执行卖出, 价格: 8.80, 成本: 2212.08, 手续费 1.16\n",
      "2017-03-09, 执行买入, 价格: 8.52, 成本: 4583.76, 手续费 2.29\n",
      "2017-03-16, 执行卖出, 价格: 8.69, 成本: 2256.94, 手续费 1.16\n",
      "2017-03-27, 执行卖出, 价格: 9.00, 成本: 2256.94, 手续费 1.21\n",
      "2017-03-28, 执行卖出, 价格: 9.21, 成本: 4362.29, 手续费 2.39\n",
      "2017-04-06, 执行卖出, 价格: 9.47, 成本: 2105.35, 手续费 1.18\n",
      "2017-04-13, 执行买入, 价格: 9.07, 成本: 2430.76, 手续费 1.22\n",
      "2017-04-17, 执行买入, 价格: 8.91, 成本: 2307.69, 手续费 1.15\n",
      "2017-04-18, 执行买入, 价格: 8.42, 成本: 6980.18, 手续费 3.49\n",
      "2017-04-20, 执行买入, 价格: 8.25, 成本: 2268.75, 手续费 1.13\n",
      "2017-04-25, 执行买入, 价格: 7.76, 成本: 4353.36, 手续费 2.18\n",
      "2021-11-22, 手续费:189.75 成本比例:0.01353\n",
      "Final Portfolio Value: 14027.14\n"
     ]
    }
   ],
   "source": [
    "cerebro = bt.Cerebro(oldtrades=True)\n",
    "\n",
    "feed = bt.feeds.PandasData(dataname=df, openinterest=None, compression=1, timeframe=bt.TimeFrame.Minutes)\n",
    "cerebro.adddata(feed)\n",
    "\n",
    "# top = 4.2\n",
    "# buttom = 3.5\n",
    "cerebro.addstrategy(GridStrategy, top=top, buttom=buttom)\n",
    "\n",
    "# 小场面1万起始资金\n",
    "cerebro.broker.setcash(10000.0)\n",
    "\n",
    "# 手续费万5\n",
    "cerebro.broker.setcommission(0.0005)\n",
    "\n",
    "print('Starting Portfolio Value: %.2f' % cerebro.broker.getvalue())\n",
    "\n",
    "result = cerebro.run()\n",
    "\n",
    "print('Final Portfolio Value: %.2f' % cerebro.broker.getvalue())"
   ]
  },
  {
   "cell_type": "code",
   "execution_count": 13,
   "id": "personal-committee",
   "metadata": {},
   "outputs": [
    {
     "data": {
      "text/plain": [
       "[[<Figure size 1267x829 with 4 Axes>]]"
      ]
     },
     "execution_count": 13,
     "metadata": {},
     "output_type": "execute_result"
    }
   ],
   "source": [
    "cerebro.plot(\n",
    "    iplot=False,\n",
    "    start=datetime.date(2020, 1, 1),\n",
    "    end=datetime.date(2021, 9, 30),\n",
    "    style='candlestick',\n",
    "    barup='red',\n",
    "    bardown='green',\n",
    ")"
   ]
  },
  {
   "cell_type": "code",
   "execution_count": 8,
   "id": "unavailable-choir",
   "metadata": {},
   "outputs": [],
   "source": [
    "# start = \"2018-01-01\"\n",
    "# end = \"2021-07-05\"\n",
    "# name = [\"300etf\"]\n",
    "# code = [\"510300\"]\n",
    "# backtest = backtest.BackTest(GridStrategy, start, end, code, name, 100000)\n",
    "# result = backtest.run()\n",
    "# # backtest.output()\n",
    "# print(result)"
   ]
  },
  {
   "cell_type": "code",
   "execution_count": null,
   "id": "caroline-interim",
   "metadata": {},
   "outputs": [],
   "source": []
  }
 ],
 "metadata": {
  "kernelspec": {
   "display_name": "Python 3",
   "language": "python",
   "name": "python3"
  },
  "language_info": {
   "codemirror_mode": {
    "name": "ipython",
    "version": 3
   },
   "file_extension": ".py",
   "mimetype": "text/x-python",
   "name": "python",
   "nbconvert_exporter": "python",
   "pygments_lexer": "ipython3",
   "version": "3.7.9"
  }
 },
 "nbformat": 4,
 "nbformat_minor": 5
}
