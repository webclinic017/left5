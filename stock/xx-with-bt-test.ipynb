{
 "cells": [
  {
   "cell_type": "code",
   "execution_count": 1,
   "id": "trying-surgery",
   "metadata": {},
   "outputs": [
    {
     "name": "stderr",
     "output_type": "stream",
     "text": [
      "d:\\code\\python\\pyfolio\\pyfolio\\pos.py:27: UserWarning: Module \"zipline.assets\" not found; multipliers will not be applied to position notionals.\n",
      "  'Module \"zipline.assets\" not found; multipliers will not be applied'\n"
     ]
    }
   ],
   "source": [
    "import datetime\n",
    "import scipy.stats as stats\n",
    "import pandas as pd\n",
    "import numpy as np\n",
    "import matplotlib\n",
    "import matplotlib.pyplot as plt\n",
    "import seaborn as sns\n",
    "from scipy.stats import shapiro\n",
    "matplotlib.use('Agg')\n",
    "%matplotlib inline\n",
    "from dateutil.relativedelta import relativedelta\n",
    "\n",
    "from finrl import config\n",
    "from finrl.meta.preprocessor.yahoodownloader import YahooDownloader\n",
    "from finrl.meta.preprocessor.preprocessors import FeatureEngineer, data_split\n",
    "from finrl.meta.env_portfolio_allocation.env_portfolio import StockPortfolioEnv\n",
    "from finrl.agents.stablebaselines3.models import DRLAgent\n",
    "from finrl.plot import backtest_stats, backtest_plot, get_daily_return, get_baseline, get_baseline_tdx,convert_daily_return_to_pyfolio_ts\n",
    "\n",
    "import torch\n",
    "# import plotly.express as px\n",
    "\n",
    "from pypfopt.efficient_frontier import EfficientFrontier\n",
    "from pypfopt import risk_models\n",
    "from pypfopt import EfficientFrontier\n",
    "from pypfopt import expected_returns\n",
    "from pypfopt import objective_functions\n",
    "from pyfolio import timeseries\n",
    "\n",
    "import plotly.graph_objects as go\n",
    "from plotly.subplots import make_subplots\n",
    "\n",
    "########\n",
    "import backtrader as bt\n",
    "import backtrader.indicators as btind\n",
    "import backtrader.analyzers as btanalyzers\n",
    "\n",
    "import pyfolio as pf\n",
    "from matplotlib import rcParams"
   ]
  },
  {
   "cell_type": "code",
   "execution_count": 2,
   "id": "british-video",
   "metadata": {},
   "outputs": [],
   "source": [
    "from lutils.stock import LTdxHq"
   ]
  },
  {
   "cell_type": "code",
   "execution_count": 3,
   "id": "hourly-feelings",
   "metadata": {},
   "outputs": [],
   "source": [
    "train_start = '2019-01-01'\n",
    "train_end = '2022-11-13'\n",
    "trade_start = train_end\n",
    "trade_end = '2022-11-22'"
   ]
  },
  {
   "cell_type": "code",
   "execution_count": 4,
   "id": "legislative-static",
   "metadata": {},
   "outputs": [],
   "source": [
    "stock_count = 4"
   ]
  },
  {
   "cell_type": "code",
   "execution_count": 5,
   "id": "enclosed-seeking",
   "metadata": {},
   "outputs": [],
   "source": [
    "# ddf = pd.read_pickle('d:/ddf.pkl').dropna()\n",
    "\n",
    "ddf = pd.read_pickle('d:/ddf_1127.pkl').dropna()\n",
    "# ddf = pd.read_pickle('d:/ddf_0606.pkl').dropna()"
   ]
  },
  {
   "cell_type": "code",
   "execution_count": 6,
   "id": "wired-trick",
   "metadata": {},
   "outputs": [],
   "source": [
    "ddf = ddf.sort_values(['date','tic'], ignore_index=True)\n",
    "ddf.index = ddf.date.factorize()[0]"
   ]
  },
  {
   "cell_type": "code",
   "execution_count": 7,
   "id": "decreased-string",
   "metadata": {},
   "outputs": [
    {
     "data": {
      "text/plain": [
       "(1190,)"
      ]
     },
     "execution_count": 7,
     "metadata": {},
     "output_type": "execute_result"
    }
   ],
   "source": [
    "days = ddf.date.unique()\n",
    "days.shape"
   ]
  },
  {
   "cell_type": "code",
   "execution_count": 18,
   "id": "known-royalty",
   "metadata": {},
   "outputs": [
    {
     "data": {
      "text/plain": [
       "array(['2018-01-02T00:00:00.000000000', '2018-01-03T00:00:00.000000000',\n",
       "       '2018-01-04T00:00:00.000000000', ...,\n",
       "       '2022-11-23T00:00:00.000000000', '2022-11-24T00:00:00.000000000',\n",
       "       '2022-11-25T00:00:00.000000000'], dtype='datetime64[ns]')"
      ]
     },
     "execution_count": 18,
     "metadata": {},
     "output_type": "execute_result"
    }
   ],
   "source": [
    "days"
   ]
  },
  {
   "cell_type": "code",
   "execution_count": 24,
   "id": "solved-snapshot",
   "metadata": {},
   "outputs": [
    {
     "data": {
      "text/plain": [
       "numpy.datetime64('2022-11-25T00:00:00.000000000')"
      ]
     },
     "execution_count": 24,
     "metadata": {},
     "output_type": "execute_result"
    }
   ],
   "source": [
    "days[np.where(days==np.datetime64('2022-11-25'))[0][0]]"
   ]
  },
  {
   "cell_type": "code",
   "execution_count": null,
   "id": "minute-platform",
   "metadata": {},
   "outputs": [],
   "source": []
  },
  {
   "cell_type": "code",
   "execution_count": null,
   "id": "virtual-victory",
   "metadata": {},
   "outputs": [],
   "source": []
  },
  {
   "cell_type": "code",
   "execution_count": 8,
   "id": "developmental-bernard",
   "metadata": {},
   "outputs": [],
   "source": [
    "dl = ddf[(ddf['date'] > days[-63]) & (ddf['date'] < trade_start)]\n",
    "dd = dl.pivot_table(index = 'date',columns = 'tic', values = 'close').pct_change().dropna()\n",
    "corr = dd.cov().corr()\n",
    "# corr.style.background_gradient(cmap='coolwarm')\n",
    "\n",
    "# c1 = corr.abs().unstack().sort_values(ascending = True)\n",
    "# c1 = corr.unstack().sort_values(ascending = True)"
   ]
  },
  {
   "cell_type": "code",
   "execution_count": 12,
   "id": "preliminary-century",
   "metadata": {},
   "outputs": [],
   "source": [
    "# corr.style.background_gradient(cmap='coolwarm')"
   ]
  },
  {
   "cell_type": "code",
   "execution_count": 13,
   "id": "rotary-talent",
   "metadata": {},
   "outputs": [],
   "source": [
    "# corr.unstack().sort_values().index.get_level_values(0)[:10]"
   ]
  },
  {
   "cell_type": "code",
   "execution_count": 14,
   "id": "authorized-ethics",
   "metadata": {},
   "outputs": [
    {
     "data": {
      "text/plain": [
       "tic\n",
       "601288    -786.948491\n",
       "601398    -733.569122\n",
       "601939    -688.925879\n",
       "002541    -657.358337\n",
       "601988    -616.878697\n",
       "             ...     \n",
       "300067    1534.498786\n",
       "300405    1536.302348\n",
       "002367    1538.242585\n",
       "603686    1541.522359\n",
       "300243    1554.217592\n",
       "Length: 2790, dtype: float64"
      ]
     },
     "execution_count": 14,
     "metadata": {},
     "output_type": "execute_result"
    }
   ],
   "source": [
    "corr.sum().sort_values() # ascending=False"
   ]
  },
  {
   "cell_type": "code",
   "execution_count": 15,
   "id": "victorian-vermont",
   "metadata": {},
   "outputs": [],
   "source": [
    "# stock_codes = list(np.random.choice(ddf.tic.unique(), 6))"
   ]
  },
  {
   "cell_type": "code",
   "execution_count": 16,
   "id": "departmental-therapy",
   "metadata": {},
   "outputs": [],
   "source": [
    "# corr.unstack().sort_values().index.get_level_values(1)"
   ]
  },
  {
   "cell_type": "code",
   "execution_count": 17,
   "id": "vertical-james",
   "metadata": {},
   "outputs": [],
   "source": [
    "# corr.style.background_gradient(cmap='coolwarm')"
   ]
  },
  {
   "cell_type": "code",
   "execution_count": 54,
   "id": "structural-costa",
   "metadata": {},
   "outputs": [],
   "source": [
    "_stock_codes = list(corr.unstack().sort_values().index.get_level_values(0)[:stock_count * 2])\n",
    "stock_codes = []\n",
    "while len(stock_codes) < stock_count:\n",
    "    sc = _stock_codes.pop(0)\n",
    "    if sc not in stock_codes:\n",
    "        stock_codes.append(sc)\n",
    "\n",
    "# ['601398', '000738']\n",
    "# ['601988', '603538'] # 2022-02-08\n",
    "# ['600377', '000887'] # 2022-02-14\n",
    "# ['301040', '000573'] # 2022-02-15\n",
    "# ['301040', '000573', '300384'] # 2022-02-20"
   ]
  },
  {
   "cell_type": "code",
   "execution_count": 19,
   "id": "timely-douglas",
   "metadata": {},
   "outputs": [],
   "source": [
    "# stock_codes = list(corr.sum().sort_values().index.values[:2]) # ascending=False\n",
    "# ['000921', '600365', '000609', '601868', '002372', '001965']\n",
    "# ['601868', '000501', '603789', '002311', '002873', '000921']\n",
    "# ['000921', '603789', '002372', '601868', '300675', '002032']\n",
    "# ['600775', '603789', '300622', '603228', '600172', '001965']"
   ]
  },
  {
   "cell_type": "code",
   "execution_count": 20,
   "id": "express-importance",
   "metadata": {},
   "outputs": [],
   "source": [
    "# stock_codes = ['601186', '002645', '600546', '688222', '600107', '603028']\n",
    "# stock_codes = ['601988', '603538']\n",
    "\n",
    "# ['603003', '603326', '002533', '600459']"
   ]
  },
  {
   "cell_type": "code",
   "execution_count": 21,
   "id": "cooked-trust",
   "metadata": {},
   "outputs": [
    {
     "data": {
      "text/plain": [
       "['300516', '601288', '002698', '300183']"
      ]
     },
     "execution_count": 21,
     "metadata": {},
     "output_type": "execute_result"
    }
   ],
   "source": [
    "stock_codes"
   ]
  },
  {
   "cell_type": "code",
   "execution_count": 23,
   "id": "capable-minority",
   "metadata": {},
   "outputs": [
    {
     "name": "stdout",
     "output_type": "stream",
     "text": [
      "----------- over 300516 min: 2018-01-02 00:00:00 max: 2022-11-25 00:00:00 -----------\n",
      "----------- over 601288 min: 2018-01-02 00:00:00 max: 2022-11-25 00:00:00 -----------\n",
      "----------- over 002698 min: 2018-01-02 00:00:00 max: 2022-11-25 00:00:00 -----------\n",
      "----------- over 300183 min: 2018-01-02 00:00:00 max: 2022-11-25 00:00:00 -----------\n"
     ]
    }
   ],
   "source": [
    "ltdxhq = LTdxHq()\n",
    "\n",
    "indexs = None\n",
    "dfs = []\n",
    "for code in stock_codes:\n",
    "    df = ltdxhq.get_k_data_daily(code, start='2018-01-01') # 2014-01-01\n",
    "    \n",
    "    if indexs is None:\n",
    "        indexs = df.index\n",
    "    else:\n",
    "        indexs = indexs.union(df.index)\n",
    "    \n",
    "#     df = df.assign(date = df.index)\n",
    "#     df = df.assign(day = df.index.weekday)\n",
    "#     df.date = df.date.dt.strftime('%Y-%m-%d')\n",
    "    df = df.assign(tic = code)\n",
    "#     df.index = range(df.shape[0])\n",
    "    \n",
    "    dfs.append(df)\n",
    "    print('----------- over %s min: %s max: %s -----------' % (code, df.index.min(), df.index.max()))\n",
    "\n",
    "for i, df in enumerate(dfs):\n",
    "    df = df.reindex(indexs)\n",
    "    df = df.assign(date = df.index)\n",
    "    df = df.assign(day = df.index.weekday)\n",
    "    df.index = range(df.shape[0])\n",
    "    \n",
    "    dfs[i] = df.ffill()\n",
    "    \n",
    "# df = pd.concat(dfs)\n",
    "# df.index = range(df.shape[0])\n",
    "\n",
    "ltdxhq.close()"
   ]
  },
  {
   "cell_type": "code",
   "execution_count": 24,
   "id": "allied-geneva",
   "metadata": {},
   "outputs": [],
   "source": [
    "df = pd.concat(dfs)"
   ]
  },
  {
   "cell_type": "code",
   "execution_count": 29,
   "id": "inside-disorder",
   "metadata": {},
   "outputs": [
    {
     "data": {
      "text/html": [
       "<div>\n",
       "<style scoped>\n",
       "    .dataframe tbody tr th:only-of-type {\n",
       "        vertical-align: middle;\n",
       "    }\n",
       "\n",
       "    .dataframe tbody tr th {\n",
       "        vertical-align: top;\n",
       "    }\n",
       "\n",
       "    .dataframe thead th {\n",
       "        text-align: right;\n",
       "    }\n",
       "</style>\n",
       "<table border=\"1\" class=\"dataframe\">\n",
       "  <thead>\n",
       "    <tr style=\"text-align: right;\">\n",
       "      <th></th>\n",
       "      <th>open</th>\n",
       "      <th>close</th>\n",
       "      <th>high</th>\n",
       "      <th>low</th>\n",
       "      <th>volume</th>\n",
       "      <th>amount</th>\n",
       "      <th>tic</th>\n",
       "      <th>date</th>\n",
       "      <th>day</th>\n",
       "    </tr>\n",
       "  </thead>\n",
       "  <tbody>\n",
       "    <tr>\n",
       "      <th>0</th>\n",
       "      <td>29.82</td>\n",
       "      <td>29.92</td>\n",
       "      <td>29.94</td>\n",
       "      <td>29.55</td>\n",
       "      <td>311300.0</td>\n",
       "      <td>14106950.0</td>\n",
       "      <td>300516</td>\n",
       "      <td>2018-01-02</td>\n",
       "      <td>1</td>\n",
       "    </tr>\n",
       "    <tr>\n",
       "      <th>1</th>\n",
       "      <td>29.88</td>\n",
       "      <td>30.09</td>\n",
       "      <td>30.20</td>\n",
       "      <td>29.71</td>\n",
       "      <td>308938.0</td>\n",
       "      <td>14126594.0</td>\n",
       "      <td>300516</td>\n",
       "      <td>2018-01-03</td>\n",
       "      <td>2</td>\n",
       "    </tr>\n",
       "    <tr>\n",
       "      <th>2</th>\n",
       "      <td>30.07</td>\n",
       "      <td>29.54</td>\n",
       "      <td>30.07</td>\n",
       "      <td>29.50</td>\n",
       "      <td>388750.0</td>\n",
       "      <td>17598828.0</td>\n",
       "      <td>300516</td>\n",
       "      <td>2018-01-04</td>\n",
       "      <td>3</td>\n",
       "    </tr>\n",
       "    <tr>\n",
       "      <th>3</th>\n",
       "      <td>29.63</td>\n",
       "      <td>29.70</td>\n",
       "      <td>29.82</td>\n",
       "      <td>29.29</td>\n",
       "      <td>330300.0</td>\n",
       "      <td>14894724.0</td>\n",
       "      <td>300516</td>\n",
       "      <td>2018-01-05</td>\n",
       "      <td>4</td>\n",
       "    </tr>\n",
       "    <tr>\n",
       "      <th>4</th>\n",
       "      <td>29.77</td>\n",
       "      <td>29.61</td>\n",
       "      <td>29.77</td>\n",
       "      <td>29.34</td>\n",
       "      <td>330300.0</td>\n",
       "      <td>14821094.0</td>\n",
       "      <td>300516</td>\n",
       "      <td>2018-01-08</td>\n",
       "      <td>0</td>\n",
       "    </tr>\n",
       "    <tr>\n",
       "      <th>...</th>\n",
       "      <td>...</td>\n",
       "      <td>...</td>\n",
       "      <td>...</td>\n",
       "      <td>...</td>\n",
       "      <td>...</td>\n",
       "      <td>...</td>\n",
       "      <td>...</td>\n",
       "      <td>...</td>\n",
       "      <td>...</td>\n",
       "    </tr>\n",
       "    <tr>\n",
       "      <th>1185</th>\n",
       "      <td>13.92</td>\n",
       "      <td>14.05</td>\n",
       "      <td>14.13</td>\n",
       "      <td>13.85</td>\n",
       "      <td>2357281.0</td>\n",
       "      <td>33029980.0</td>\n",
       "      <td>300183</td>\n",
       "      <td>2022-11-21</td>\n",
       "      <td>0</td>\n",
       "    </tr>\n",
       "    <tr>\n",
       "      <th>1186</th>\n",
       "      <td>14.04</td>\n",
       "      <td>13.82</td>\n",
       "      <td>14.08</td>\n",
       "      <td>13.75</td>\n",
       "      <td>2626381.0</td>\n",
       "      <td>36554276.0</td>\n",
       "      <td>300183</td>\n",
       "      <td>2022-11-22</td>\n",
       "      <td>1</td>\n",
       "    </tr>\n",
       "    <tr>\n",
       "      <th>1187</th>\n",
       "      <td>13.78</td>\n",
       "      <td>13.57</td>\n",
       "      <td>13.83</td>\n",
       "      <td>13.30</td>\n",
       "      <td>3726462.0</td>\n",
       "      <td>50390360.0</td>\n",
       "      <td>300183</td>\n",
       "      <td>2022-11-23</td>\n",
       "      <td>2</td>\n",
       "    </tr>\n",
       "    <tr>\n",
       "      <th>1188</th>\n",
       "      <td>13.62</td>\n",
       "      <td>13.49</td>\n",
       "      <td>13.77</td>\n",
       "      <td>13.41</td>\n",
       "      <td>1945967.0</td>\n",
       "      <td>26368242.0</td>\n",
       "      <td>300183</td>\n",
       "      <td>2022-11-24</td>\n",
       "      <td>3</td>\n",
       "    </tr>\n",
       "    <tr>\n",
       "      <th>1189</th>\n",
       "      <td>13.45</td>\n",
       "      <td>13.14</td>\n",
       "      <td>13.50</td>\n",
       "      <td>13.14</td>\n",
       "      <td>2823700.0</td>\n",
       "      <td>37434360.0</td>\n",
       "      <td>300183</td>\n",
       "      <td>2022-11-25</td>\n",
       "      <td>4</td>\n",
       "    </tr>\n",
       "  </tbody>\n",
       "</table>\n",
       "<p>4760 rows × 9 columns</p>\n",
       "</div>"
      ],
      "text/plain": [
       "       open  close   high    low     volume      amount     tic       date  \\\n",
       "0     29.82  29.92  29.94  29.55   311300.0  14106950.0  300516 2018-01-02   \n",
       "1     29.88  30.09  30.20  29.71   308938.0  14126594.0  300516 2018-01-03   \n",
       "2     30.07  29.54  30.07  29.50   388750.0  17598828.0  300516 2018-01-04   \n",
       "3     29.63  29.70  29.82  29.29   330300.0  14894724.0  300516 2018-01-05   \n",
       "4     29.77  29.61  29.77  29.34   330300.0  14821094.0  300516 2018-01-08   \n",
       "...     ...    ...    ...    ...        ...         ...     ...        ...   \n",
       "1185  13.92  14.05  14.13  13.85  2357281.0  33029980.0  300183 2022-11-21   \n",
       "1186  14.04  13.82  14.08  13.75  2626381.0  36554276.0  300183 2022-11-22   \n",
       "1187  13.78  13.57  13.83  13.30  3726462.0  50390360.0  300183 2022-11-23   \n",
       "1188  13.62  13.49  13.77  13.41  1945967.0  26368242.0  300183 2022-11-24   \n",
       "1189  13.45  13.14  13.50  13.14  2823700.0  37434360.0  300183 2022-11-25   \n",
       "\n",
       "      day  \n",
       "0       1  \n",
       "1       2  \n",
       "2       3  \n",
       "3       4  \n",
       "4       0  \n",
       "...   ...  \n",
       "1185    0  \n",
       "1186    1  \n",
       "1187    2  \n",
       "1188    3  \n",
       "1189    4  \n",
       "\n",
       "[4760 rows x 9 columns]"
      ]
     },
     "execution_count": 29,
     "metadata": {},
     "output_type": "execute_result"
    }
   ],
   "source": [
    "df"
   ]
  },
  {
   "cell_type": "code",
   "execution_count": null,
   "id": "english-conspiracy",
   "metadata": {},
   "outputs": [],
   "source": []
  },
  {
   "cell_type": "code",
   "execution_count": 48,
   "id": "accepted-billy",
   "metadata": {},
   "outputs": [
    {
     "ename": "IndentationError",
     "evalue": "expected an indented block (<ipython-input-48-baac3efd033e>, line 11)",
     "output_type": "error",
     "traceback": [
      "\u001b[1;36m  File \u001b[1;32m\"<ipython-input-48-baac3efd033e>\"\u001b[1;36m, line \u001b[1;32m11\u001b[0m\n\u001b[1;33m    def next(self):\u001b[0m\n\u001b[1;37m      ^\u001b[0m\n\u001b[1;31mIndentationError\u001b[0m\u001b[1;31m:\u001b[0m expected an indented block\n"
     ]
    }
   ],
   "source": [
    "class StrategyText(bt.Strategy):\n",
    "    \n",
    "#     params = (('period', 5),)\n",
    "    \n",
    "    def __init__(self):\n",
    "#         self.sma_turnover_rate = btind.SMA(self.data0.turnover_rate, period=self.p.period, plot=False)\n",
    "#         self.sma_turnover_rate15 = btind.SMA(self.data0.turnover_rate, period=7, plot=False)\n",
    "#         self.crossover = btind.CrossOver(self.sma_turnover_rate, self.sma_turnover_rate15)\n",
    "        pass\n",
    "\n",
    "    def next(self):\n",
    "#         if not self.position:\n",
    "#             if self.crossover > 0:\n",
    "#                 self.buy()\n",
    "#         elif not self.crossover < 0:\n",
    "#             self.close()\n",
    "        \n",
    "#         if not self.position:\n",
    "#             if self.data0.close > self.sma_turnover_rate:\n",
    "#                 self.buy()\n",
    "#         elif self.data0.close < self.sma_turnover_rate:\n",
    "#             self.close()\n",
    "\n",
    "        if not self.position:\n",
    "            if self.data0.turnover_rate / self.sma_turnover_rate[-1] > 2.5 and self.data0.change_rate < -4:\n",
    "                self.buy()\n",
    "        elif self.data0.turnover_rate / self.sma_turnover_rate[-1] < 1.5:\n",
    "            self.close()\n",
    "            \n",
    "        "
   ]
  },
  {
   "cell_type": "code",
   "execution_count": null,
   "id": "harmful-prague",
   "metadata": {},
   "outputs": [],
   "source": []
  },
  {
   "cell_type": "code",
   "execution_count": null,
   "id": "express-carbon",
   "metadata": {},
   "outputs": [],
   "source": []
  },
  {
   "cell_type": "code",
   "execution_count": 38,
   "id": "concrete-spanish",
   "metadata": {},
   "outputs": [],
   "source": [
    "# import matplotlib.pyplot as plt\n",
    "# import squarify \n",
    "# %matplotlib inline\n",
    "# sizes=[40, 30, 5, 25]\n",
    "# label=[\"A\", \"B\", \"C\", \"D\"]\n",
    "# squarify.plot(sizes=sizes, label=label, alpha=0.6)\n",
    "# plt.show()"
   ]
  },
  {
   "cell_type": "code",
   "execution_count": null,
   "id": "anticipated-brazilian",
   "metadata": {},
   "outputs": [],
   "source": [
    "buy_money = 5000 * len(stocks_test)"
   ]
  },
  {
   "cell_type": "code",
   "execution_count": 61,
   "id": "standing-turkish",
   "metadata": {},
   "outputs": [],
   "source": [
    "# stocks_test = ['002533', '600459', '603003', '603326']\n",
    "# pers = [0.25, 0.25, 0.25, 0.25]\n",
    "\n",
    "# stocks_test = ['300652', '600900', '601398']\n",
    "# pers = [.3333, .3333, .3333]\n",
    "\n",
    "# stocks_test = ['300516', '601288', '002698', '300183'] # ['300395', '600000', '601988', '603040']\n",
    "stocks_test = ['300516', '601288', '002698', '300183', '601988', ] # '300570', ] #'000534', '601939']\n",
    "# pers = [0.25, 0.25, 0.25, 0.25]\n",
    "pers = [1 / len(stocks_test)] * len(stocks_test)\n",
    "\n",
    "\n",
    "ltdxhq = LTdxHq()\n",
    "\n",
    "indexs = None\n",
    "dfs = []\n",
    "left_money = 0\n",
    "after_money = 0\n",
    "keeps = []\n",
    "for code, per in zip(stocks_test, pers):\n",
    "    df = ltdxhq.get_k_data_daily(code, start=trade_start) #, end=trade_end) # 2014-01-01\n",
    "    keep = (buy_money * per / (df.iloc[0].close * 100))\n",
    "    keeps.append(keep)\n",
    "    \n",
    "    left_money += buy_money * per - keep * df.iloc[0].close * 100\n",
    "    \n",
    "    after_money += df.iloc[-1].close * 100 * keep\n",
    "    \n",
    "after_money += left_money\n",
    "    "
   ]
  },
  {
   "cell_type": "code",
   "execution_count": 62,
   "id": "architectural-madrid",
   "metadata": {},
   "outputs": [
    {
     "data": {
      "text/plain": [
       "25406.759255208737"
      ]
     },
     "execution_count": 62,
     "metadata": {},
     "output_type": "execute_result"
    }
   ],
   "source": [
    "buy_money = after_money"
   ]
  },
  {
   "cell_type": "code",
   "execution_count": null,
   "id": "ahead-wheat",
   "metadata": {},
   "outputs": [],
   "source": []
  }
 ],
 "metadata": {
  "kernelspec": {
   "display_name": "Python 3",
   "language": "python",
   "name": "python3"
  },
  "language_info": {
   "codemirror_mode": {
    "name": "ipython",
    "version": 3
   },
   "file_extension": ".py",
   "mimetype": "text/x-python",
   "name": "python",
   "nbconvert_exporter": "python",
   "pygments_lexer": "ipython3",
   "version": "3.7.9"
  }
 },
 "nbformat": 4,
 "nbformat_minor": 5
}
