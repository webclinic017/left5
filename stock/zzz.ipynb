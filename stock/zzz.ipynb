{
 "cells": [
  {
   "cell_type": "code",
   "execution_count": 2,
   "metadata": {},
   "outputs": [],
   "source": [
    "import numpy as np\n",
    "import matplotlib.pyplot as plt\n",
    "import pandas as pd\n",
    "import torch\n",
    "import torch.nn as nn\n",
    "from torch.autograd import Variable\n",
    "from sklearn.preprocessing import MinMaxScaler\n",
    "import h5py"
   ]
  },
  {
   "cell_type": "code",
   "execution_count": 3,
   "metadata": {},
   "outputs": [],
   "source": [
    "%matplotlib inline"
   ]
  },
  {
   "cell_type": "code",
   "execution_count": 4,
   "metadata": {},
   "outputs": [],
   "source": [
    "from matplotlib import rcParams\n",
    "rcParams['figure.figsize'] = [16, 8]\n",
    "rcParams['font.family'] = ['sans-serif']\n",
    "rcParams['axes.unicode_minus'] = False "
   ]
  },
  {
   "cell_type": "code",
   "execution_count": 5,
   "metadata": {},
   "outputs": [],
   "source": [
    "from matplotlib.font_manager import _rebuild\n",
    "_rebuild()"
   ]
  },
  {
   "cell_type": "code",
   "execution_count": null,
   "metadata": {},
   "outputs": [],
   "source": []
  },
  {
   "cell_type": "code",
   "execution_count": null,
   "metadata": {},
   "outputs": [],
   "source": [
    "f1 = h5py.File('../data/000007.h5','r')\n",
    "f2 = h5py.File('/Users/d/code/python/xx/000007.h5','r')"
   ]
  },
  {
   "cell_type": "code",
   "execution_count": null,
   "metadata": {},
   "outputs": [],
   "source": [
    "for i in f1['/stock'].items():\n",
    "    print(i)"
   ]
  },
  {
   "cell_type": "code",
   "execution_count": null,
   "metadata": {},
   "outputs": [],
   "source": [
    "df1 = pd.read_hdf('../data/000007.h5', '/stock/kline5')\n",
    "df1_1 = pd.read_hdf('../data/000007-1.h5', '/stock/kline5')\n",
    "df2 = pd.read_hdf('/Users/d/code/python/xx/000007.h5', '/stock/kline5')"
   ]
  },
  {
   "cell_type": "code",
   "execution_count": null,
   "metadata": {},
   "outputs": [],
   "source": [
    "df1.tail()"
   ]
  },
  {
   "cell_type": "code",
   "execution_count": null,
   "metadata": {},
   "outputs": [],
   "source": [
    "df1_1[-50:]"
   ]
  },
  {
   "cell_type": "code",
   "execution_count": null,
   "metadata": {},
   "outputs": [],
   "source": [
    "df2[-50:]"
   ]
  },
  {
   "cell_type": "code",
   "execution_count": null,
   "metadata": {},
   "outputs": [],
   "source": [
    "del df['date']\n",
    "del df['volume']"
   ]
  },
  {
   "cell_type": "code",
   "execution_count": null,
   "metadata": {},
   "outputs": [],
   "source": [
    "p = df.plot()"
   ]
  },
  {
   "cell_type": "code",
   "execution_count": null,
   "metadata": {},
   "outputs": [],
   "source": [
    "# p.savefig('../data/000007', dpi=300)\n",
    "fig = p.get_figure()\n",
    "fig.savefig(\"../data/000007-1.png\", dpi=300)"
   ]
  },
  {
   "cell_type": "code",
   "execution_count": null,
   "metadata": {},
   "outputs": [],
   "source": []
  },
  {
   "cell_type": "code",
   "execution_count": null,
   "metadata": {},
   "outputs": [],
   "source": []
  },
  {
   "cell_type": "code",
   "execution_count": null,
   "metadata": {},
   "outputs": [],
   "source": [
    "pd.read_hdf('../data/002162.h5', '/stock/details')"
   ]
  },
  {
   "cell_type": "code",
   "execution_count": null,
   "metadata": {},
   "outputs": [],
   "source": [
    "stocks = pd.read_hdf('../data/002162.h5', '/stock/stocks')"
   ]
  },
  {
   "cell_type": "code",
   "execution_count": null,
   "metadata": {},
   "outputs": [],
   "source": [
    "stocks"
   ]
  },
  {
   "cell_type": "code",
   "execution_count": null,
   "metadata": {},
   "outputs": [],
   "source": [
    "f = h5py.File('../data/002162.h5','r')"
   ]
  },
  {
   "cell_type": "code",
   "execution_count": null,
   "metadata": {},
   "outputs": [],
   "source": [
    "for i in f.items():\n",
    "    print(i)"
   ]
  },
  {
   "cell_type": "code",
   "execution_count": null,
   "metadata": {},
   "outputs": [],
   "source": [
    "for i in f['/stock'].items():\n",
    "    print(i)"
   ]
  },
  {
   "cell_type": "code",
   "execution_count": null,
   "metadata": {},
   "outputs": [],
   "source": [
    "training_set = stocks['closing_price'].values\n",
    "training_set = training_set.reshape(training_set.shape[0], 1)"
   ]
  },
  {
   "cell_type": "code",
   "execution_count": null,
   "metadata": {},
   "outputs": [],
   "source": [
    "plt.plot(training_set, label = '实际数据')\n",
    "plt.legend()"
   ]
  },
  {
   "cell_type": "code",
   "execution_count": null,
   "metadata": {},
   "outputs": [],
   "source": [
    "def sliding_windows(data, seq_length):\n",
    "    x = []\n",
    "    y = []\n",
    "\n",
    "    for i in range(len(data)-seq_length-1):\n",
    "        _x = data[i:(i+seq_length)]\n",
    "        _y = data[i+seq_length]\n",
    "        x.append(_x)\n",
    "        y.append(_y)\n",
    "\n",
    "    return np.array(x), np.array(y)\n",
    "\n",
    "sc = MinMaxScaler()\n",
    "training_data = sc.fit_transform(training_set)\n",
    "\n",
    "seq_length = 20\n",
    "x, y = sliding_windows(training_data, seq_length)\n",
    "\n",
    "train_size = int(len(y) * 0.50)\n",
    "test_size = len(y) - train_size\n",
    "\n",
    "dataX = Variable(torch.Tensor(np.array(x)))\n",
    "dataY = Variable(torch.Tensor(np.array(y)))\n",
    "\n",
    "trainX = Variable(torch.Tensor(np.array(x[:train_size])))\n",
    "trainY = Variable(torch.Tensor(np.array(y[:train_size])))\n",
    "\n",
    "testX = Variable(torch.Tensor(np.array(x[train_size:])))\n",
    "testY = Variable(torch.Tensor(np.array(y[train_size:])))"
   ]
  },
  {
   "cell_type": "code",
   "execution_count": null,
   "metadata": {},
   "outputs": [],
   "source": [
    "class LSTM(nn.Module):\n",
    "\n",
    "    def __init__(self, num_classes, input_size, hidden_size, num_layers):\n",
    "        super(LSTM, self).__init__()\n",
    "        \n",
    "        self.num_classes = num_classes\n",
    "        self.num_layers = num_layers\n",
    "        self.input_size = input_size\n",
    "        self.hidden_size = hidden_size\n",
    "        self.seq_length = seq_length\n",
    "        \n",
    "        self.lstm = nn.LSTM(input_size=input_size, hidden_size=hidden_size,\n",
    "                            num_layers=num_layers, batch_first=True)\n",
    "        \n",
    "        self.fc = nn.Linear(hidden_size, num_classes)\n",
    "\n",
    "    def forward(self, x):\n",
    "        h_0 = Variable(torch.zeros(\n",
    "            self.num_layers, x.size(0), self.hidden_size))\n",
    "        \n",
    "        c_0 = Variable(torch.zeros(\n",
    "            self.num_layers, x.size(0), self.hidden_size))\n",
    "        \n",
    "        # Propagate input through LSTM\n",
    "        ula, (h_out, _) = self.lstm(x, (h_0, c_0))\n",
    "        \n",
    "        h_out = h_out.view(-1, self.hidden_size)\n",
    "        \n",
    "        out = self.fc(h_out)\n",
    "        \n",
    "        return out"
   ]
  },
  {
   "cell_type": "code",
   "execution_count": null,
   "metadata": {},
   "outputs": [],
   "source": [
    "class GRU(nn.Module):\n",
    "\n",
    "    def __init__(self, num_classes, input_size, hidden_size, num_layers):\n",
    "        super(GRU, self).__init__()\n",
    "        \n",
    "        self.num_classes = num_classes\n",
    "        self.num_layers = num_layers\n",
    "        self.input_size = input_size\n",
    "        self.hidden_size = hidden_size\n",
    "        self.seq_length = seq_length\n",
    "        \n",
    "        self.gru = nn.GRU(input_size=input_size, hidden_size=hidden_size,\n",
    "                            num_layers=num_layers, batch_first=True)\n",
    "        \n",
    "        self.fc = nn.Linear(hidden_size, num_classes)\n",
    "\n",
    "    def forward(self, x):\n",
    "        h_0 = Variable(torch.zeros(\n",
    "            self.num_layers, x.size(0), self.hidden_size))\n",
    "        \n",
    "#         c_0 = Variable(torch.zeros(\n",
    "#             self.num_layers, x.size(0), self.hidden_size))\n",
    "        \n",
    "        # Propagate input through LSTM\n",
    "        ula, h_out = self.gru(x, (h_0))\n",
    "        \n",
    "        h_out = h_out.view(-1, self.hidden_size)\n",
    "        \n",
    "        out = self.fc(h_out)\n",
    "        \n",
    "        return out"
   ]
  },
  {
   "cell_type": "code",
   "execution_count": null,
   "metadata": {},
   "outputs": [],
   "source": [
    "\n",
    "num_epochs = 3000\n",
    "learning_rate = 0.01\n",
    "\n",
    "input_size = 1\n",
    "hidden_size = 2\n",
    "num_layers = 1\n",
    "\n",
    "num_classes = 1\n",
    "\n",
    "# lstm = LSTM(num_classes, input_size, hidden_size, num_layers)\n",
    "lstm = GRU(num_classes, input_size, hidden_size, num_layers)\n",
    "\n",
    "criterion = torch.nn.MSELoss()    # mean-squared error for regression\n",
    "optimizer = torch.optim.Adam(lstm.parameters(), lr=learning_rate)\n",
    "#optimizer = torch.optim.SGD(lstm.parameters(), lr=learning_rate)\n",
    "\n",
    "# Train the model\n",
    "for epoch in range(num_epochs):\n",
    "    outputs = lstm(trainX)\n",
    "    optimizer.zero_grad()\n",
    "    \n",
    "    # obtain the loss function\n",
    "    loss = criterion(outputs, trainY)\n",
    "    \n",
    "    loss.backward()\n",
    "    \n",
    "    optimizer.step()\n",
    "    if epoch % 100 == 0:\n",
    "      print(\"Epoch: %d, loss: %1.5f\" % (epoch, loss.item()))"
   ]
  },
  {
   "cell_type": "code",
   "execution_count": null,
   "metadata": {},
   "outputs": [],
   "source": [
    "lstm.eval()"
   ]
  },
  {
   "cell_type": "code",
   "execution_count": null,
   "metadata": {},
   "outputs": [],
   "source": [
    "pres = []\n",
    "pre = None\n",
    "for i in range(testX.shape[0]):\n",
    "    if pre is None:\n",
    "        pre = lstm(testX[i].reshape(1, seq_length, 1))\n",
    "    else:\n",
    "        d = testX[i]\n",
    "        d[-1] = pre.item()\n",
    "        pre = lstm(d.reshape(1, seq_length, 1))\n",
    "    pres.append(pre.item())\n",
    "    \n",
    "dp = sc.inverse_transform(np.asarray(pres).reshape(testX.shape[0], 1))\n",
    "xpd = np.asarray(range(train_size, train_size + test_size))"
   ]
  },
  {
   "cell_type": "code",
   "execution_count": null,
   "metadata": {},
   "outputs": [],
   "source": [
    "train_predict = lstm(dataX)\n",
    "data_predict = train_predict.data.numpy()\n",
    "dataY_plot = dataY.data.numpy()\n",
    "\n",
    "data_predict = sc.inverse_transform(data_predict)\n",
    "dataY_plot = sc.inverse_transform(dataY_plot)\n",
    "\n",
    "plt.axvline(x=train_size, c='r', linestyle='--')\n",
    "\n",
    "plt.plot(dataY_plot, label='真实数据')\n",
    "plt.plot(data_predict, label='预测数据', alpha=0.7)\n",
    "# plt.plot(xpd, dp, label='二次预测')\n",
    "plt.suptitle('随机数序列预测')\n",
    "plt.legend()\n",
    "plt.savefig('../data/002162', dpi=300)\n",
    "plt.show()"
   ]
  },
  {
   "cell_type": "code",
   "execution_count": null,
   "metadata": {},
   "outputs": [],
   "source": []
  },
  {
   "cell_type": "code",
   "execution_count": null,
   "metadata": {},
   "outputs": [],
   "source": []
  },
  {
   "cell_type": "code",
   "execution_count": null,
   "metadata": {},
   "outputs": [],
   "source": []
  },
  {
   "cell_type": "code",
   "execution_count": null,
   "metadata": {},
   "outputs": [],
   "source": []
  },
  {
   "cell_type": "code",
   "execution_count": null,
   "metadata": {},
   "outputs": [],
   "source": []
  },
  {
   "cell_type": "code",
   "execution_count": null,
   "metadata": {},
   "outputs": [],
   "source": []
  },
  {
   "cell_type": "code",
   "execution_count": null,
   "metadata": {},
   "outputs": [],
   "source": []
  },
  {
   "cell_type": "code",
   "execution_count": null,
   "metadata": {},
   "outputs": [],
   "source": []
  },
  {
   "cell_type": "code",
   "execution_count": null,
   "metadata": {},
   "outputs": [],
   "source": []
  },
  {
   "cell_type": "code",
   "execution_count": null,
   "metadata": {},
   "outputs": [],
   "source": []
  },
  {
   "cell_type": "code",
   "execution_count": 9,
   "metadata": {},
   "outputs": [],
   "source": [
    "st = h5py.File('../data/sh000062.h5','r')"
   ]
  },
  {
   "cell_type": "code",
   "execution_count": 10,
   "metadata": {},
   "outputs": [
    {
     "name": "stdout",
     "output_type": "stream",
     "text": [
      "('details', <HDF5 dataset \"details\": shape (0,), type \"|V62\">)\n",
      "('kline15', <HDF5 dataset \"kline15\": shape (1022,), type \"|V28\">)\n",
      "('kline30', <HDF5 dataset \"kline30\": shape (751,), type \"|V28\">)\n",
      "('kline5', <HDF5 dataset \"kline5\": shape (1022,), type \"|V28\">)\n",
      "('kline60', <HDF5 dataset \"kline60\": shape (471,), type \"|V28\">)\n",
      "('stocks', <HDF5 dataset \"stocks\": shape (0,), type \"|V40\">)\n"
     ]
    }
   ],
   "source": [
    "for i in st['/stock'].items():\n",
    "    print(i)"
   ]
  },
  {
   "cell_type": "code",
   "execution_count": 11,
   "metadata": {},
   "outputs": [],
   "source": [
    "df = pd.read_hdf('../data/sh000062.h5', '/stock/kline5')"
   ]
  },
  {
   "cell_type": "code",
   "execution_count": 13,
   "metadata": {},
   "outputs": [
    {
     "data": {
      "text/html": [
       "<div>\n",
       "<style scoped>\n",
       "    .dataframe tbody tr th:only-of-type {\n",
       "        vertical-align: middle;\n",
       "    }\n",
       "\n",
       "    .dataframe tbody tr th {\n",
       "        vertical-align: top;\n",
       "    }\n",
       "\n",
       "    .dataframe thead th {\n",
       "        text-align: right;\n",
       "    }\n",
       "</style>\n",
       "<table border=\"1\" class=\"dataframe\">\n",
       "  <thead>\n",
       "    <tr style=\"text-align: right;\">\n",
       "      <th></th>\n",
       "      <th>date</th>\n",
       "      <th>open</th>\n",
       "      <th>high</th>\n",
       "      <th>close</th>\n",
       "      <th>low</th>\n",
       "      <th>volume</th>\n",
       "    </tr>\n",
       "  </thead>\n",
       "  <tbody>\n",
       "    <tr>\n",
       "      <th>0</th>\n",
       "      <td>1595569800</td>\n",
       "      <td>2061.298096</td>\n",
       "      <td>2061.780029</td>\n",
       "      <td>2052.461914</td>\n",
       "      <td>2052.455078</td>\n",
       "      <td>52126300.0</td>\n",
       "    </tr>\n",
       "    <tr>\n",
       "      <th>1</th>\n",
       "      <td>1595570100</td>\n",
       "      <td>2052.141113</td>\n",
       "      <td>2057.027100</td>\n",
       "      <td>2055.866943</td>\n",
       "      <td>2051.787109</td>\n",
       "      <td>38288700.0</td>\n",
       "    </tr>\n",
       "    <tr>\n",
       "      <th>2</th>\n",
       "      <td>1595570400</td>\n",
       "      <td>2055.866943</td>\n",
       "      <td>2055.993896</td>\n",
       "      <td>2049.029053</td>\n",
       "      <td>2048.000977</td>\n",
       "      <td>51116700.0</td>\n",
       "    </tr>\n",
       "    <tr>\n",
       "      <th>3</th>\n",
       "      <td>1595570700</td>\n",
       "      <td>2049.025879</td>\n",
       "      <td>2049.025879</td>\n",
       "      <td>2043.984985</td>\n",
       "      <td>2042.780029</td>\n",
       "      <td>65422500.0</td>\n",
       "    </tr>\n",
       "    <tr>\n",
       "      <th>4</th>\n",
       "      <td>1595571000</td>\n",
       "      <td>2043.369995</td>\n",
       "      <td>2043.418945</td>\n",
       "      <td>2033.948975</td>\n",
       "      <td>2031.973999</td>\n",
       "      <td>75130800.0</td>\n",
       "    </tr>\n",
       "  </tbody>\n",
       "</table>\n",
       "</div>"
      ],
      "text/plain": [
       "         date         open         high        close          low      volume\n",
       "0  1595569800  2061.298096  2061.780029  2052.461914  2052.455078  52126300.0\n",
       "1  1595570100  2052.141113  2057.027100  2055.866943  2051.787109  38288700.0\n",
       "2  1595570400  2055.866943  2055.993896  2049.029053  2048.000977  51116700.0\n",
       "3  1595570700  2049.025879  2049.025879  2043.984985  2042.780029  65422500.0\n",
       "4  1595571000  2043.369995  2043.418945  2033.948975  2031.973999  75130800.0"
      ]
     },
     "execution_count": 13,
     "metadata": {},
     "output_type": "execute_result"
    }
   ],
   "source": [
    "df.head()"
   ]
  },
  {
   "cell_type": "code",
   "execution_count": 14,
   "metadata": {},
   "outputs": [],
   "source": [
    "date = df['date']\n",
    "open = df['open']\n",
    "high = df['high']\n",
    "close = df['close']\n",
    "low = df['low']\n",
    "volume = df['volume']"
   ]
  },
  {
   "cell_type": "code",
   "execution_count": 15,
   "metadata": {},
   "outputs": [
    {
     "data": {
      "text/plain": [
       "1595569800"
      ]
     },
     "execution_count": 15,
     "metadata": {},
     "output_type": "execute_result"
    }
   ],
   "source": [
    "date[0]"
   ]
  },
  {
   "cell_type": "code",
   "execution_count": null,
   "metadata": {},
   "outputs": [],
   "source": [
    "print(pd.to_datetime(1594878000.0, unit='s'))\n",
    "print(pd.Timestamp.fromtimestamp(1594878000.0))\n",
    "print(pd.Timestamp.fromtimestamp(1.594878e+09))\n",
    "print(pd.Timestamp.fromtimestamp(1594877952.0))"
   ]
  },
  {
   "cell_type": "code",
   "execution_count": null,
   "metadata": {},
   "outputs": [],
   "source": [
    "print(date[0])\n",
    "\n",
    "# 1.594878e+09\n",
    "pd.to_datetime('1594878000.0', unit='s')"
   ]
  },
  {
   "cell_type": "code",
   "execution_count": null,
   "metadata": {},
   "outputs": [],
   "source": [
    "pd.Timestamp.fromtimestamp('')"
   ]
  },
  {
   "cell_type": "code",
   "execution_count": null,
   "metadata": {},
   "outputs": [],
   "source": [
    "date.astype(np.str)"
   ]
  },
  {
   "cell_type": "code",
   "execution_count": null,
   "metadata": {},
   "outputs": [],
   "source": [
    "#date.astype(np.float).apply(lambda x: print(x))"
   ]
  },
  {
   "cell_type": "code",
   "execution_count": 16,
   "metadata": {},
   "outputs": [
    {
     "data": {
      "text/plain": [
       "0      2020-07-24 13:50:00\n",
       "1      2020-07-24 13:55:00\n",
       "2      2020-07-24 14:00:00\n",
       "3      2020-07-24 14:05:00\n",
       "4      2020-07-24 14:10:00\n",
       "               ...        \n",
       "1017   2020-08-24 14:35:00\n",
       "1018   2020-08-24 14:40:00\n",
       "1019   2020-08-24 14:45:00\n",
       "1020   2020-08-24 14:50:00\n",
       "1021   2020-08-24 14:55:00\n",
       "Name: date, Length: 1022, dtype: datetime64[ns]"
      ]
     },
     "execution_count": 16,
     "metadata": {},
     "output_type": "execute_result"
    }
   ],
   "source": [
    "date.apply(lambda x: pd.Timestamp.fromtimestamp(float(x)))"
   ]
  },
  {
   "cell_type": "code",
   "execution_count": null,
   "metadata": {},
   "outputs": [],
   "source": [
    "# pd.to_datetime(df['date'])\n",
    "print(date[0])\n",
    "pd.to_datetime(df['date'], unit='s')"
   ]
  },
  {
   "cell_type": "code",
   "execution_count": null,
   "metadata": {},
   "outputs": [],
   "source": [
    "date.plot()"
   ]
  },
  {
   "cell_type": "code",
   "execution_count": null,
   "metadata": {},
   "outputs": [],
   "source": [
    "df.plot()"
   ]
  },
  {
   "cell_type": "code",
   "execution_count": 6,
   "metadata": {},
   "outputs": [],
   "source": [
    "df = pd.read_hdf('/Users/d/code/python/xx/stock/sz002319.h5', '/stock/kline5')"
   ]
  },
  {
   "cell_type": "code",
   "execution_count": 7,
   "metadata": {},
   "outputs": [
    {
     "data": {
      "text/html": [
       "<div>\n",
       "<style scoped>\n",
       "    .dataframe tbody tr th:only-of-type {\n",
       "        vertical-align: middle;\n",
       "    }\n",
       "\n",
       "    .dataframe tbody tr th {\n",
       "        vertical-align: top;\n",
       "    }\n",
       "\n",
       "    .dataframe thead th {\n",
       "        text-align: right;\n",
       "    }\n",
       "</style>\n",
       "<table border=\"1\" class=\"dataframe\">\n",
       "  <thead>\n",
       "    <tr style=\"text-align: right;\">\n",
       "      <th></th>\n",
       "      <th>date</th>\n",
       "      <th>open</th>\n",
       "      <th>high</th>\n",
       "      <th>close</th>\n",
       "      <th>low</th>\n",
       "      <th>volume</th>\n",
       "    </tr>\n",
       "  </thead>\n",
       "  <tbody>\n",
       "    <tr>\n",
       "      <th>0</th>\n",
       "      <td>1594263300</td>\n",
       "      <td>6.57</td>\n",
       "      <td>6.58</td>\n",
       "      <td>6.57</td>\n",
       "      <td>6.57</td>\n",
       "      <td>18600.0</td>\n",
       "    </tr>\n",
       "    <tr>\n",
       "      <th>1</th>\n",
       "      <td>1594263600</td>\n",
       "      <td>6.56</td>\n",
       "      <td>6.56</td>\n",
       "      <td>6.56</td>\n",
       "      <td>6.56</td>\n",
       "      <td>6100.0</td>\n",
       "    </tr>\n",
       "    <tr>\n",
       "      <th>2</th>\n",
       "      <td>1594263900</td>\n",
       "      <td>6.56</td>\n",
       "      <td>6.57</td>\n",
       "      <td>6.57</td>\n",
       "      <td>6.56</td>\n",
       "      <td>19400.0</td>\n",
       "    </tr>\n",
       "    <tr>\n",
       "      <th>3</th>\n",
       "      <td>1594264200</td>\n",
       "      <td>6.57</td>\n",
       "      <td>6.60</td>\n",
       "      <td>6.58</td>\n",
       "      <td>6.57</td>\n",
       "      <td>23100.0</td>\n",
       "    </tr>\n",
       "    <tr>\n",
       "      <th>4</th>\n",
       "      <td>1594264500</td>\n",
       "      <td>6.60</td>\n",
       "      <td>6.61</td>\n",
       "      <td>6.60</td>\n",
       "      <td>6.58</td>\n",
       "      <td>26400.0</td>\n",
       "    </tr>\n",
       "    <tr>\n",
       "      <th>...</th>\n",
       "      <td>...</td>\n",
       "      <td>...</td>\n",
       "      <td>...</td>\n",
       "      <td>...</td>\n",
       "      <td>...</td>\n",
       "      <td>...</td>\n",
       "    </tr>\n",
       "    <tr>\n",
       "      <th>1017</th>\n",
       "      <td>1598250900</td>\n",
       "      <td>7.63</td>\n",
       "      <td>7.66</td>\n",
       "      <td>7.64</td>\n",
       "      <td>7.63</td>\n",
       "      <td>40500.0</td>\n",
       "    </tr>\n",
       "    <tr>\n",
       "      <th>1018</th>\n",
       "      <td>1598251200</td>\n",
       "      <td>7.64</td>\n",
       "      <td>7.67</td>\n",
       "      <td>7.67</td>\n",
       "      <td>7.64</td>\n",
       "      <td>22200.0</td>\n",
       "    </tr>\n",
       "    <tr>\n",
       "      <th>1019</th>\n",
       "      <td>1598251500</td>\n",
       "      <td>7.67</td>\n",
       "      <td>7.77</td>\n",
       "      <td>7.74</td>\n",
       "      <td>7.66</td>\n",
       "      <td>97100.0</td>\n",
       "    </tr>\n",
       "    <tr>\n",
       "      <th>1020</th>\n",
       "      <td>1598251800</td>\n",
       "      <td>7.73</td>\n",
       "      <td>7.73</td>\n",
       "      <td>7.72</td>\n",
       "      <td>7.70</td>\n",
       "      <td>15300.0</td>\n",
       "    </tr>\n",
       "    <tr>\n",
       "      <th>1021</th>\n",
       "      <td>1598252100</td>\n",
       "      <td>7.73</td>\n",
       "      <td>7.80</td>\n",
       "      <td>7.75</td>\n",
       "      <td>7.70</td>\n",
       "      <td>180600.0</td>\n",
       "    </tr>\n",
       "  </tbody>\n",
       "</table>\n",
       "<p>1022 rows × 6 columns</p>\n",
       "</div>"
      ],
      "text/plain": [
       "            date  open  high  close   low    volume\n",
       "0     1594263300  6.57  6.58   6.57  6.57   18600.0\n",
       "1     1594263600  6.56  6.56   6.56  6.56    6100.0\n",
       "2     1594263900  6.56  6.57   6.57  6.56   19400.0\n",
       "3     1594264200  6.57  6.60   6.58  6.57   23100.0\n",
       "4     1594264500  6.60  6.61   6.60  6.58   26400.0\n",
       "...          ...   ...   ...    ...   ...       ...\n",
       "1017  1598250900  7.63  7.66   7.64  7.63   40500.0\n",
       "1018  1598251200  7.64  7.67   7.67  7.64   22200.0\n",
       "1019  1598251500  7.67  7.77   7.74  7.66   97100.0\n",
       "1020  1598251800  7.73  7.73   7.72  7.70   15300.0\n",
       "1021  1598252100  7.73  7.80   7.75  7.70  180600.0\n",
       "\n",
       "[1022 rows x 6 columns]"
      ]
     },
     "execution_count": 7,
     "metadata": {},
     "output_type": "execute_result"
    }
   ],
   "source": [
    "df"
   ]
  },
  {
   "cell_type": "code",
   "execution_count": 8,
   "metadata": {},
   "outputs": [
    {
     "data": {
      "text/plain": [
       "0      2020-07-09 10:55:00\n",
       "1      2020-07-09 11:00:00\n",
       "2      2020-07-09 11:05:00\n",
       "3      2020-07-09 11:10:00\n",
       "4      2020-07-09 11:15:00\n",
       "               ...        \n",
       "1017   2020-08-24 14:35:00\n",
       "1018   2020-08-24 14:40:00\n",
       "1019   2020-08-24 14:45:00\n",
       "1020   2020-08-24 14:50:00\n",
       "1021   2020-08-24 14:55:00\n",
       "Name: date, Length: 1022, dtype: datetime64[ns]"
      ]
     },
     "execution_count": 8,
     "metadata": {},
     "output_type": "execute_result"
    }
   ],
   "source": [
    "df.date.apply(lambda x: pd.Timestamp.fromtimestamp(x))"
   ]
  },
  {
   "cell_type": "code",
   "execution_count": null,
   "metadata": {},
   "outputs": [],
   "source": []
  }
 ],
 "metadata": {
  "kernelspec": {
   "display_name": "Python 3",
   "language": "python",
   "name": "python3"
  },
  "language_info": {
   "codemirror_mode": {
    "name": "ipython",
    "version": 3
   },
   "file_extension": ".py",
   "mimetype": "text/x-python",
   "name": "python",
   "nbconvert_exporter": "python",
   "pygments_lexer": "ipython3",
   "version": "3.7.3"
  }
 },
 "nbformat": 4,
 "nbformat_minor": 4
}
