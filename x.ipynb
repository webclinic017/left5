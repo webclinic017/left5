{
 "cells": [
  {
   "cell_type": "code",
   "execution_count": 20,
   "id": "intellectual-karaoke",
   "metadata": {},
   "outputs": [],
   "source": [
    "import re"
   ]
  },
  {
   "cell_type": "code",
   "execution_count": 21,
   "id": "dominican-forge",
   "metadata": {},
   "outputs": [],
   "source": [
    "def to_snake_case(x):\n",
    "    \"\"\" Turn underline to name \"\"\"\n",
    "    return re.sub('(?<=[a-z])[A-Z]|(?<!^)[A-Z](?=[a-z])', '_\\g<0>', x).lower()"
   ]
  },
  {
   "cell_type": "code",
   "execution_count": 22,
   "id": "available-animal",
   "metadata": {},
   "outputs": [],
   "source": [
    "def to_camel_case(x):\n",
    "    \"\"\" Designation of hump turning method \"\"\"\n",
    "    return re.sub('_([a-zA-Z])', lambda m: (m.group(1).upper()), x)"
   ]
  },
  {
   "cell_type": "code",
   "execution_count": 23,
   "id": "upset-closing",
   "metadata": {},
   "outputs": [],
   "source": [
    "ss = '''ID\n",
    "STORE_NAME\n",
    "ABBR_NAME\n",
    "ADDRESS\n",
    "CONTACT\n",
    "MOBILE\n",
    "EMAIL\n",
    "CUST_TEL\n",
    "STATUS\n",
    "MCH_ID\n",
    "STORE_APPID\n",
    "STORE_SUPPER_PWD\n",
    "REMARKS\n",
    "DEL_FLAG\n",
    "CREATE_BY\n",
    "CREATE_DATE\n",
    "UPDATE_BY\n",
    "UPDATE_DATE\n",
    "GOODS_TAG\n",
    "PARENT_ID\n",
    "PARENT_IDS\n",
    "STORE_CODE\n",
    "EWMPAY\n",
    "FCOSTID_ID\n",
    "'''"
   ]
  },
  {
   "cell_type": "code",
   "execution_count": 26,
   "id": "removed-marketplace",
   "metadata": {},
   "outputs": [
    {
     "name": "stdout",
     "output_type": "stream",
     "text": [
      "<if test=\"id != null\">#{id},</if>\n",
      "<if test=\"storeName != null\">#{storeName},</if>\n",
      "<if test=\"abbrName != null\">#{abbrName},</if>\n",
      "<if test=\"address != null\">#{address},</if>\n",
      "<if test=\"contact != null\">#{contact},</if>\n",
      "<if test=\"mobile != null\">#{mobile},</if>\n",
      "<if test=\"email != null\">#{email},</if>\n",
      "<if test=\"custTel != null\">#{custTel},</if>\n",
      "<if test=\"status != null\">#{status},</if>\n",
      "<if test=\"mchId != null\">#{mchId},</if>\n",
      "<if test=\"storeAppid != null\">#{storeAppid},</if>\n",
      "<if test=\"storeSupperPwd != null\">#{storeSupperPwd},</if>\n",
      "<if test=\"remarks != null\">#{remarks},</if>\n",
      "<if test=\"delFlag != null\">#{delFlag},</if>\n",
      "<if test=\"createBy != null\">#{createBy},</if>\n",
      "<if test=\"createDate != null\">#{createDate},</if>\n",
      "<if test=\"updateBy != null\">#{updateBy},</if>\n",
      "<if test=\"updateDate != null\">#{updateDate},</if>\n",
      "<if test=\"goodsTag != null\">#{goodsTag},</if>\n",
      "<if test=\"parentId != null\">#{parentId},</if>\n",
      "<if test=\"parentIds != null\">#{parentIds},</if>\n",
      "<if test=\"storeCode != null\">#{storeCode},</if>\n",
      "<if test=\"ewmpay != null\">#{ewmpay},</if>\n",
      "<if test=\"fcostidId != null\">#{fcostidId},</if>\n"
     ]
    }
   ],
   "source": [
    "for s in ss.splitlines():\n",
    "#     print(''.join(map(lambda x:x.capitalize(), s.strip().split(\"_\"))))\n",
    "#     print('String %s;' % (to_camel_case(s.lower().strip())))\n",
    "#     print('<result property=\"%s\" jdbcType=\"VARCHAR\" column=\"%s\"/>' % (to_camel_case(s.lower().strip()), s.strip()))\n",
    "\n",
    "#     print('<if test=\"%s != null\">%s,</if>' % (to_camel_case(s.lower().strip()), s.strip()))\n",
    "    print('<if test=\"%s != null\">#{%s},</if>' % (to_camel_case(s.lower().strip()), to_camel_case(s.lower().strip())))\n",
    "    "
   ]
  },
  {
   "cell_type": "code",
   "execution_count": 19,
   "id": "parental-worker",
   "metadata": {},
   "outputs": [],
   "source": [
    "from configparser import ConfigParser, MissingSectionHeaderError\n",
    "import time, datetime\n",
    "from operator import itemgetter"
   ]
  },
  {
   "cell_type": "code",
   "execution_count": 20,
   "id": "binary-township",
   "metadata": {},
   "outputs": [
    {
     "data": {
      "text/plain": [
       "['D:/code/python/bet365/bet365_v2/settings.ini']"
      ]
     },
     "execution_count": 20,
     "metadata": {},
     "output_type": "execute_result"
    }
   ],
   "source": [
    "config = configparser.ConfigParser()\n",
    "config.read('D:/code/python/bet365/bet365_v2/settings.ini', encoding='utf-8-sig')"
   ]
  },
  {
   "cell_type": "code",
   "execution_count": 21,
   "id": "mental-portrait",
   "metadata": {},
   "outputs": [
    {
     "data": {
      "text/plain": [
       "'D:/profiles/bet365'"
      ]
     },
     "execution_count": 21,
     "metadata": {},
     "output_type": "execute_result"
    }
   ],
   "source": [
    "config['setting']['user_data_dir']"
   ]
  },
  {
   "cell_type": "code",
   "execution_count": 22,
   "id": "developing-electronics",
   "metadata": {},
   "outputs": [],
   "source": [
    "TIME_GAPS = []\n",
    "for time_gap_hold in config['setting']['time_gaps'].split('|'):\n",
    "    time_str, gap, hold = time_gap_hold.split(',')\n",
    "\n",
    "    left_time = time.strptime(time_str, '%M:%S')\n",
    "    left_sec = int(datetime.timedelta(minutes=left_time.tm_min, seconds=left_time.tm_sec).total_seconds())\n",
    "\n",
    "    TIME_GAPS.append([left_sec, int(gap), bool(int(hold))])"
   ]
  },
  {
   "cell_type": "code",
   "execution_count": 23,
   "id": "regulated-milwaukee",
   "metadata": {},
   "outputs": [
    {
     "data": {
      "text/plain": [
       "[[90, 7, False],\n",
       " [105, 6, True],\n",
       " [105, 8, False],\n",
       " [120, 7, True],\n",
       " [120, 9, False],\n",
       " [90, 6, True]]"
      ]
     },
     "execution_count": 23,
     "metadata": {},
     "output_type": "execute_result"
    }
   ],
   "source": [
    "TIME_GAPS"
   ]
  },
  {
   "cell_type": "code",
   "execution_count": 26,
   "id": "handmade-disorder",
   "metadata": {},
   "outputs": [],
   "source": [
    "TIME_GAPS = sorted(TIME_GAPS, key=itemgetter(0,1,2))"
   ]
  },
  {
   "cell_type": "code",
   "execution_count": 27,
   "id": "sunset-parts",
   "metadata": {},
   "outputs": [
    {
     "data": {
      "text/plain": [
       "[[90, 6, True],\n",
       " [90, 7, False],\n",
       " [105, 6, True],\n",
       " [105, 8, False],\n",
       " [120, 7, True],\n",
       " [120, 9, False]]"
      ]
     },
     "execution_count": 27,
     "metadata": {},
     "output_type": "execute_result"
    }
   ],
   "source": [
    "TIME_GAPS"
   ]
  },
  {
   "cell_type": "code",
   "execution_count": 29,
   "id": "incorporate-footwear",
   "metadata": {},
   "outputs": [],
   "source": [
    "qs = ['第4节', '加时1', '加时2']"
   ]
  },
  {
   "cell_type": "code",
   "execution_count": 32,
   "id": "toxic-impossible",
   "metadata": {},
   "outputs": [
    {
     "data": {
      "text/plain": [
       "False"
      ]
     },
     "execution_count": 32,
     "metadata": {},
     "output_type": "execute_result"
    }
   ],
   "source": [
    "any('加时3' in q for q in qs)"
   ]
  },
  {
   "cell_type": "code",
   "execution_count": null,
   "id": "sealed-senate",
   "metadata": {},
   "outputs": [],
   "source": []
  },
  {
   "cell_type": "code",
   "execution_count": null,
   "id": "activated-surgeon",
   "metadata": {},
   "outputs": [],
   "source": []
  },
  {
   "cell_type": "code",
   "execution_count": null,
   "id": "balanced-found",
   "metadata": {},
   "outputs": [],
   "source": []
  },
  {
   "cell_type": "code",
   "execution_count": null,
   "id": "frozen-bubble",
   "metadata": {},
   "outputs": [],
   "source": []
  },
  {
   "cell_type": "code",
   "execution_count": null,
   "id": "dedicated-giant",
   "metadata": {},
   "outputs": [],
   "source": []
  },
  {
   "cell_type": "code",
   "execution_count": 25,
   "id": "existing-tuesday",
   "metadata": {},
   "outputs": [],
   "source": [
    "sss = '''\n",
    "    private String tradingNo;\n",
    "    private String customNo;\n",
    "    private String foreignMoney;\n",
    "    private String tradeAvailablePrice;\n",
    "    private String tradeCcy;\n",
    "    private String merchantName;\n",
    "    private String merchantCode;\n",
    "    private String agencyBusinessName;\n",
    "    private String agencyBusinessCode;\n",
    "    private String customMoneyUsd;\n",
    "    private String dDate;\n",
    "    private String iEDate;\n",
    "    private String releaseDate;\n",
    "    private String clearanceDate;\n",
    "    '''"
   ]
  },
  {
   "cell_type": "code",
   "execution_count": 26,
   "id": "annoying-administration",
   "metadata": {},
   "outputs": [
    {
     "name": "stdout",
     "output_type": "stream",
     "text": [
      "\n",
      "    @JSONField(name=\"tradingNo\")\n",
      "    private String tradingNo;\n",
      "    @JSONField(name=\"customNo\")\n",
      "    private String customNo;\n",
      "    @JSONField(name=\"foreignMoney\")\n",
      "    private String foreignMoney;\n",
      "    @JSONField(name=\"tradeAvailablePrice\")\n",
      "    private String tradeAvailablePrice;\n",
      "    @JSONField(name=\"tradeCcy\")\n",
      "    private String tradeCcy;\n",
      "    @JSONField(name=\"merchantName\")\n",
      "    private String merchantName;\n",
      "    @JSONField(name=\"merchantCode\")\n",
      "    private String merchantCode;\n",
      "    @JSONField(name=\"agencyBusinessName\")\n",
      "    private String agencyBusinessName;\n",
      "    @JSONField(name=\"agencyBusinessCode\")\n",
      "    private String agencyBusinessCode;\n",
      "    @JSONField(name=\"customMoneyUsd\")\n",
      "    private String customMoneyUsd;\n",
      "    @JSONField(name=\"dDate\")\n",
      "    private String dDate;\n",
      "    @JSONField(name=\"iEDate\")\n",
      "    private String iEDate;\n",
      "    @JSONField(name=\"releaseDate\")\n",
      "    private String releaseDate;\n",
      "    @JSONField(name=\"clearanceDate\")\n",
      "    private String clearanceDate;\n",
      "    \n"
     ]
    }
   ],
   "source": [
    "for s in sss.splitlines():\n",
    "    if s.strip().startswith('private'):\n",
    "        print('    @JSONField(name=\"%s\")' % s.strip().split(' ')[-1][:-1])\n",
    "    print(s)"
   ]
  },
  {
   "cell_type": "code",
   "execution_count": null,
   "id": "charged-supervisor",
   "metadata": {},
   "outputs": [],
   "source": []
  }
 ],
 "metadata": {
  "kernelspec": {
   "display_name": "Python 3",
   "language": "python",
   "name": "python3"
  },
  "language_info": {
   "codemirror_mode": {
    "name": "ipython",
    "version": 3
   },
   "file_extension": ".py",
   "mimetype": "text/x-python",
   "name": "python",
   "nbconvert_exporter": "python",
   "pygments_lexer": "ipython3",
   "version": "3.7.9"
  }
 },
 "nbformat": 4,
 "nbformat_minor": 5
}
