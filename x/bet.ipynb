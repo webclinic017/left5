{
 "cells": [
  {
   "cell_type": "code",
   "execution_count": 48,
   "id": "becoming-architect",
   "metadata": {},
   "outputs": [],
   "source": [
    "import os, time, datetime, json, traceback, itertools, logging, configparser, random, ctypes, collections, copy, statistics\n",
    "import pandas as pd\n",
    "import numpy as np\n",
    "from matplotlib import pyplot\n",
    "\n",
    "import seaborn as sns"
   ]
  },
  {
   "cell_type": "code",
   "execution_count": 2,
   "id": "danish-sterling",
   "metadata": {},
   "outputs": [],
   "source": [
    "%matplotlib inline"
   ]
  },
  {
   "cell_type": "code",
   "execution_count": 3,
   "id": "hindu-chapter",
   "metadata": {},
   "outputs": [],
   "source": [
    "KEEP_MIN = 5"
   ]
  },
  {
   "cell_type": "code",
   "execution_count": 4,
   "id": "supported-shelf",
   "metadata": {},
   "outputs": [],
   "source": [
    "# def diff(data):\n",
    "        \n",
    "# #     _data = copy.copy(data)\n",
    "# #     _data.insert(_data[0], 0)\n",
    "# #     _data.pop()\n",
    "    \n",
    "# #     return data - _data\n",
    "\n",
    "#     _data = []\n",
    "#     for i, d in enumerate(data):\n",
    "        \n"
   ]
  },
  {
   "cell_type": "code",
   "execution_count": 5,
   "id": "bottom-cowboy",
   "metadata": {},
   "outputs": [],
   "source": [
    "def variance(data):\n",
    "    # Number of observations\n",
    "    n = len(data)\n",
    "    # Mean of the data\n",
    "    mean = sum(data) / n\n",
    "    # Square deviations\n",
    "    deviations = [(x - mean) ** 2 for x in data]\n",
    "    # Variance\n",
    "    variance = sum(deviations) / n\n",
    "    return variance"
   ]
  },
  {
   "cell_type": "code",
   "execution_count": 89,
   "id": "catholic-roller",
   "metadata": {},
   "outputs": [],
   "source": [
    "class MatchInfo():\n",
    "\n",
    "    def __init__(self, name):\n",
    "        self.name = name\n",
    "        self.section_sec = 600 # max section time  may  10:00 or 12:00 or ...\n",
    "        self.section_min = 10\n",
    "        self.keep_min = KEEP_MIN\n",
    "        self.datas = collections.deque([]) #, maxlen=self.keep_size)\n",
    "        self.datas_keys = collections.deque([]) # , maxlen=self.keep_size)\n",
    "\n",
    "    def add_info(self, total_sec, section_sec, one_score, two_score, one_odds, two_odds): # [10:00, 37, 42, 2.10, 1.66, +1.5, -1.5, 1200]\n",
    "\n",
    "        if section_sec > self.section_sec: # 12\n",
    "            self.section_sec = 720\n",
    "            self.section_min = 12\n",
    "\n",
    "            self.datas = collections.deque([]) #, maxlen=self.keep_size)\n",
    "            self.datas_keys = collections.deque([]) # , maxlen=self.keep_size)\n",
    "\n",
    "        if total_sec in self.datas_keys:\n",
    "            self.datas.popleft()\n",
    "        self.datas.appendleft([total_sec, section_sec, one_score, two_score, one_odds, two_odds])\n",
    "        self.datas_keys.appendleft(total_sec)\n",
    "        \n",
    "        if self.keep_min > 0:\n",
    "            keep_max_sec = total_sec + self.keep_min * 60\n",
    "            while self.datas[-1][0] > keep_max_sec:\n",
    "                self.datas.pop()\n",
    "\n",
    "    def get_secction_min(self):\n",
    "        return self.section_min\n",
    "\n",
    "    def is_bet(self):\n",
    "\n",
    "        scores = []\n",
    "        rates = []\n",
    "        for [total_sec, section_sec, one_score, two_score, one_odds, two_odds] in self.datas:\n",
    "            if total_sec > 0:\n",
    "                scores.append(one_score - two_score)\n",
    "                rates.append(abs(one_score - two_score) * abs(one_odds - two_odds) / total_sec)\n",
    "            else:\n",
    "                scores.append(0)\n",
    "                rates.append(0)\n",
    "        scores.reverse()\n",
    "        rates.reverse()\n",
    "        \n",
    "#         print('%s (%s, %s): %s %s' % (self.name, self.datas[0][2], self.datas[0][3], np.mean(scores), np.mean(rates)))\n",
    "        \n",
    "        if statistics.mean(scores) > 2 and statistics.mean(rates) > 0.03 and self.datas[0][0] < 360 and rates[-1] > 0.3:\n",
    "            return True\n",
    "        \n",
    "        return False\n",
    "        \n",
    "#         return scores, rates"
   ]
  },
  {
   "cell_type": "code",
   "execution_count": 7,
   "id": "motivated-brick",
   "metadata": {},
   "outputs": [],
   "source": [
    "names = []\n",
    "for line in open('bet.txt', encoding='utf-8'):\n",
    "    name = line.split(' ', 1)[-1].split(':', 1)[0]\n",
    "    names.append(name)"
   ]
  },
  {
   "cell_type": "code",
   "execution_count": 8,
   "id": "interracial-egypt",
   "metadata": {},
   "outputs": [],
   "source": [
    "matchs = {}"
   ]
  },
  {
   "cell_type": "code",
   "execution_count": 9,
   "id": "controversial-herald",
   "metadata": {},
   "outputs": [],
   "source": [
    "for line in open('data.txt', encoding='utf-8'):\n",
    "    team_one, team_two, section, section_time, score_one, score_two, odds_one, odds_two, handicap_one, handicap_two, total_left_sec = line.strip().split('\\t')[:11]\n",
    "    \n",
    "    if score_one.strip() and score_two.strip() and odds_one.strip() and odds_two.strip():\n",
    "        key = '%s,%s' % (team_one, team_two)\n",
    "\n",
    "        if key in names:\n",
    "            if key not in matchs:\n",
    "                matchs[key] = []\n",
    "            \n",
    "            matchs[key].append([team_one, team_two, section, section_time, score_one, score_two, odds_one, odds_two, handicap_one, handicap_two, total_left_sec])\n",
    "    "
   ]
  },
  {
   "cell_type": "code",
   "execution_count": 10,
   "id": "dramatic-purple",
   "metadata": {},
   "outputs": [],
   "source": [
    "# *** 里瓦斯,Occidentales -215: -160  * 普洛耶什蒂,CSO沃伦塔里 ***"
   ]
  },
  {
   "cell_type": "code",
   "execution_count": 11,
   "id": "front-namibia",
   "metadata": {},
   "outputs": [],
   "source": [
    " # NU牛头犬,圣塞巴斯提安金雄鹿   "
   ]
  },
  {
   "cell_type": "code",
   "execution_count": 12,
   "id": "inclusive-waters",
   "metadata": {},
   "outputs": [
    {
     "data": {
      "text/plain": [
       "['巴亚蒙,庞塞',\n",
       " 'Colegio de Abogados,Metropoli BA',\n",
       " '利昂圣多明各,Titanes del Licey',\n",
       " 'Dunkin Raptors,Ban Bueng魔鬼鱼',\n",
       " '奥塔哥掘金,南部鲨鱼',\n",
       " '希诺特加布鲁玛斯,皇家埃斯特利',\n",
       " 'Titanes del Licey,利昂圣多明各',\n",
       " '庞塞,巴亚蒙',\n",
       " 'Universidad Crucena Santa Cruz,阿米斯塔德苏克雷',\n",
       " 'Wangs-拉特朗,CEU Scorpions',\n",
       " 'Szechenyi Istvan University Women,罗兹大学 女子',\n",
       " '圣道顿马士大学Growling Tigers,Marinerong Pilipino',\n",
       " '华盛顿奇异,达拉斯飞翼',\n",
       " 'Plateros,墨西加利太阳',\n",
       " 'Indigenas de Matagalpa,加勒比海岸',\n",
       " '洛杉矶火花,凤凰城水星',\n",
       " '维也纳大学,匈牙利体育大学',\n",
       " '富兰克林公牛,塔拉纳基山脉',\n",
       " 'APEX Fuel-SSCR,拉特朗骑士',\n",
       " '阿雷西博,圣赫尔曼',\n",
       " '富尔萨雷吉亚,哈拉帕猎鹰',\n",
       " 'Wangs,圣道顿马士大学Growling Tigers',\n",
       " '惠灵顿圣徒,尼尔逊巨人',\n",
       " 'Olivol Mundial,Verdirrojo',\n",
       " 'Lagomar,圣特尔莫RS',\n",
       " '达拉斯飞翼,芝加哥天空',\n",
       " '常轮皇后区女子,南方黄眼企鹅 女子',\n",
       " 'TNT Tropang Giga,麦诺尼亚热点',\n",
       " '皮钦查·波托西,塔里哈拉萨尔',\n",
       " '塔拉纳基山脉,尼尔逊巨人',\n",
       " '皇家埃斯特利,Universidad Nacional de Ingenieria',\n",
       " 'Marinerong Pilipino,CEU Scorpions',\n",
       " 'CSB开拓者,UPHSD阿尔塔斯',\n",
       " '原生力啤酒,博尔特斯',\n",
       " '霍巴特电光 女子,桑德林汉姆军刀 女子',\n",
       " '罗克汉普顿气旋 女子,达尔文Salties 女子',\n",
       " 'Marinos安索阿特吉,加拉加斯鳄鱼',\n",
       " '华盛顿奇异,芝加哥天空',\n",
       " 'Tabare,Lagomar',\n",
       " 'Club Atletico Cordon,Union Atletica',\n",
       " '古尔罗斯,Triple E-Uda',\n",
       " '曼德,Attar Club',\n",
       " '哥伦比亚 女子,委内瑞拉 女子',\n",
       " '马拉开波Brillantes,阿拉瓜公牛',\n",
       " '联合谷,Triple E-Uda',\n",
       " '南方黄眼企鹅 女子,内陆雕 女子',\n",
       " '克雷塔罗解放者,Plateros',\n",
       " '西南新城海盗,阳光海岸凤凰',\n",
       " '东方大学Red Warriors,CSB开拓者',\n",
       " '森伯里喷气机 女子,布林袋鼠 女子',\n",
       " '法兰克斯顿蓝调,基尔塞斯眼镜蛇',\n",
       " '伊拉瓦拉老鹰,奥伯里沃东加大盗',\n",
       " 'KL Aseel MPL-D,Penang Stallions MPL-D',\n",
       " '胡耶IPRC BBC,老虎',\n",
       " '尼德加天使,城市油人',\n",
       " 'Sportiva Italiana LNB2,Manquehue LNB2',\n",
       " 'CD Liceo Pablo LNB2,Truenos de Talca LNB2',\n",
       " 'UNAN Leon,加勒比海岸',\n",
       " '巴亚蒙,圣赫尔曼',\n",
       " 'Escoba埃斯卡苏,Coopenae ARBA',\n",
       " 'ADU猎鹰,东方大学Red Warriors',\n",
       " '西雅图风暴,芝加哥天空',\n",
       " '马纳巴力量,Triple E-Uda',\n",
       " '亚特兰大梦想,拉斯维加斯王牌',\n",
       " 'St Clare,圣道顿马士大学Growling Tigers',\n",
       " '利昂圣多明各,Indios de San Francisco',\n",
       " 'Universidad Nacional de Ingenieria,希诺特加布鲁玛斯',\n",
       " '里瓦斯,美洲虎UAM',\n",
       " '圣赫尔曼,巴亚蒙',\n",
       " '圣道顿马士大学Growling Tigers,德拉萨大学Green Archers',\n",
       " 'Lagomar,Olivol Mundial',\n",
       " '美洲虎UAM,加勒比海岸',\n",
       " 'Marinerong Pilipino,APEX Fuel-SSCR',\n",
       " 'Plateros,哈拉帕猎鹰',\n",
       " '芝加哥天空,拉斯维加斯王牌',\n",
       " 'Eco Oil La Salle,阿达勒姆建筑圣克莱尔学院',\n",
       " 'TNT Tropang Giga,麦诺尼亚热点',\n",
       " '尼尔逊巨人,奥塔哥掘金',\n",
       " '芒特甘比尔先锋 女子,Ballarat Miners 女子',\n",
       " '科伯恩美洲狮 女子,卫里屯老虎 女子',\n",
       " 'Warwick Senators,珀斯红背蜘蛛',\n",
       " '胡志明市热火,胡志明市羽翼',\n",
       " '波兰,乌克兰',\n",
       " '格鲁吉亚,以色列',\n",
       " '纽约自由人,亚特兰大梦想',\n",
       " '巴亚蒙,圣赫尔曼',\n",
       " 'Coopenae ARBA,Escoba埃斯卡苏',\n",
       " '珀斯红背蜘蛛 女子,金矿巨人队 女子',\n",
       " '年轻骑士Pertamina,Amartha Hangtuah',\n",
       " 'Inner West Bulls,班克斯顿熊',\n",
       " 'Sutherland Sharks 女子,伊拉瓦拉老鹰队 NBL1 女子',\n",
       " '法兰克斯顿蓝调,钻石谷Eagles',\n",
       " 'Ringwood Hawks 女子,诺克斯袭击者 女子',\n",
       " '奥伯里沃东加大盗,Hills Hornets',\n",
       " '纽纳华丁幽灵,墨尔本老虎',\n",
       " 'Johor Tigers MPL-D,速度猎人MPL-D',\n",
       " '美洲虎UAM,皇家埃斯特利',\n",
       " '希诺特加布鲁玛斯,加勒比海岸',\n",
       " 'Olivol Mundial,Lagomar',\n",
       " 'BBM CLS Knights MPL-D,NS Matrix MPL-D',\n",
       " '阿雷利亚诺大学酋长,CSB开拓者',\n",
       " '克雷卡米诺斯,阿比查斯',\n",
       " 'FAS (Mayor) 女子,圣萨尔瓦多 女子（Mayor）',\n",
       " '凤凰城水星,拉斯维加斯王牌',\n",
       " '德拉萨大学Green Archers,国父大学重型轰炸机',\n",
       " 'Joondalup Wolves 女子,曼杜拉魔法 女子',\n",
       " 'Muntinlupa Cagers,巴丹崛起',\n",
       " '格鲁吉亚,波兰',\n",
       " '拉脱维亚,爱沙尼亚',\n",
       " '斯洛伐克,瑞士',\n",
       " '立陶宛,荷兰',\n",
       " 'Larranaga,科隆',\n",
       " '马那瓜雄狮,美洲虎UAM',\n",
       " 'UPHSD阿尔塔斯,AU酋长',\n",
       " '联合谷,Caballeros del Norte',\n",
       " 'Astros,Plateros',\n",
       " '哈拉帕猎鹰,墨西加利太阳',\n",
       " '克雷塔罗解放者,mineros de Zacatecas',\n",
       " 'Hitech曼谷,Ban Bueng魔鬼鱼',\n",
       " '纽卡斯尔猎鹰,萨瑟兰鲨鱼',\n",
       " '雅加达明灯,West Bandits Solo',\n",
       " '吉隆超级猫 女子,朗塞斯顿龙卷风 女子',\n",
       " 'Illawarra Hawks NBL1,Norths Bears',\n",
       " '黄金海岸Rollers,北边奇才',\n",
       " '福里斯特维尔Eagles,Norwood Flames',\n",
       " 'NS Matrix MPL-D,MBC MPL-D',\n",
       " '霍巴特电光,桑德林汉姆军刀',\n",
       " '意大利,捷克',\n",
       " '加勒比海岸,皇家埃斯特利',\n",
       " 'Caballeros del Norte,联合谷',\n",
       " '克雷塔罗解放者,mineros de Zacatecas',\n",
       " '中北Whai 女子,南方黄眼企鹅 女子',\n",
       " '南阿德莱德Panthers 女子,Norwood Flames 女子',\n",
       " 'Northern Kahu 女子,内陆雕 女子',\n",
       " 'West Adelaide Bearcats 女子,Sturt Sabres 女子',\n",
       " '泰国通用装备,曼谷老虎',\n",
       " '万隆Prawira,年轻骑士Pertamina',\n",
       " 'Ban Bueng魔鬼鱼,Hitech曼谷',\n",
       " 'Kampala University 女子,Watoto Ladies 女子',\n",
       " 'Nha Trang Dolphins,Hanoi Buffaloes',\n",
       " 'West Bandits Solo,雅加达明灯',\n",
       " 'NS Matrix MPL-D,KL Aseel MPL-D',\n",
       " 'GBA 女子,Flying Star 女子',\n",
       " 'Calero波托西,波托西雄狮俱乐部',\n",
       " 'NU牛头犬,圣塞巴斯提安金雄鹿',\n",
       " '马卡蒂市MNL Kingpins,Rizal Golden Coolers',\n",
       " 'Plateros,克雷卡米诺斯',\n",
       " '芝加哥天空,纽约自由人',\n",
       " '希诺特加布鲁玛斯,美洲虎UAM',\n",
       " 'mineros de Zacatecas,富尔萨雷吉亚',\n",
       " '阿比查斯,多拉多斯',\n",
       " '墨西加利太阳,Astros',\n",
       " '皮钦查·波托西,Atomico Calero',\n",
       " '里瓦斯,Occidentales',\n",
       " '加拿大,阿根廷',\n",
       " '墨西加利太阳,Astros',\n",
       " 'Northern Kahu 女子,中北Whai 女子',\n",
       " '巴乌鲁LDB 22岁以下,科林蒂安斯联LDB 22岁以下',\n",
       " '巴科洛德宾果加,Valenzuela XUR Homes Realty Inc.',\n",
       " '圣保罗LDB 22岁以下,米纳斯LDB 22岁以下',\n",
       " 'Guinea,佛得角',\n",
       " '费内巴切学院,卡達斯博德魯姆',\n",
       " 'Kralovsti Sokoli,斯维塔维',\n",
       " '比利时 女子,中国 女子',\n",
       " 'SESI弗兰卡LDB 22岁以下,Cerrado Basquete LDB 22岁以下',\n",
       " 'Supersonicos de Miranda,Guaiqueries de Margarita',\n",
       " 'Gladiadores de Anzoategui,Marinos安索阿特吉',\n",
       " '莫纳加斯Cangrejeros,Gigantes de Guayana',\n",
       " 'Northern Kahu 女子,常轮皇后区女子',\n",
       " '纽纳华丁幽灵 女子,朗塞斯顿龙卷风 女子',\n",
       " 'Sunbury喷气机,Wyndham Basketball',\n",
       " 'Laguna Krah Asia,民都Tams',\n",
       " '恩德培弓箭手,Sommet BC',\n",
       " 'Joondalup Wolves 女子,卫里屯老虎 女子',\n",
       " 'BRB/巴西利亚LDB 22岁以下,Unifacisa LDB 22岁以下',\n",
       " '雅加达明灯,年轻骑士Pertamina',\n",
       " '米纳斯LDB 22岁以下,莫吉篮球LDB 22岁以下',\n",
       " 'Old Tymers,Diamonds in the Sun',\n",
       " '楠泰尔,Blois',\n",
       " '威尼斯,丘西圣约伯',\n",
       " 'Viptech/CMB LDB 22岁以下,帕托篮球LDB 22岁以下',\n",
       " '突尼斯,塞内加尔',\n",
       " '乌干达,科特迪瓦',\n",
       " '勒芒,奥尔良',\n",
       " '奥贝里沃东加大盗 女子,Sutherland Sharks 女子',\n",
       " '爱沙尼亚,芬兰',\n",
       " '普洛耶什蒂,CSO沃伦塔里',\n",
       " '力量篮球俱乐部,KIU Titans',\n",
       " '塞内加尔,喀麦隆',\n",
       " '科里蒂巴/Thalia LDB 22岁以下,巴乌鲁LDB 22岁以下',\n",
       " 'ASC Ville 达喀尔 女子,达喀尔大学俱乐部 女子',\n",
       " '科特迪瓦,佛得角',\n",
       " 'KTO/卡希亚什/雷克雷尤LDB 22岁以下,SESI弗兰卡LDB 22岁以下',\n",
       " 'CD Liceo Pablo Neruda,波士顿学院',\n",
       " '拉瓜伊拉海盗,Heroes de Falcon',\n",
       " '波托西雄狮,San Simon de Cochabamba']"
      ]
     },
     "execution_count": 12,
     "metadata": {},
     "output_type": "execute_result"
    }
   ],
   "source": [
    "names"
   ]
  },
  {
   "cell_type": "code",
   "execution_count": 13,
   "id": "retained-martial",
   "metadata": {},
   "outputs": [],
   "source": [
    "match_index = -10"
   ]
  },
  {
   "cell_type": "code",
   "execution_count": 14,
   "id": "interested-brown",
   "metadata": {},
   "outputs": [],
   "source": [
    "# matchs[names[match_index]][-250:]"
   ]
  },
  {
   "cell_type": "code",
   "execution_count": 15,
   "id": "aerial-particular",
   "metadata": {
    "scrolled": true
   },
   "outputs": [],
   "source": [
    "df = pd.DataFrame(matchs[names[match_index]], columns=['name1', 'name2', 'section', 'time', 'score1', 'score2', 'odds1', 'odds2', 'handicap1', 'handicap2', 'total_sec'])"
   ]
  },
  {
   "cell_type": "code",
   "execution_count": 16,
   "id": "animal-medicaid",
   "metadata": {},
   "outputs": [
    {
     "data": {
      "text/plain": [
       "name1          普洛耶什蒂\n",
       "name2        CSO沃伦塔里\n",
       "section          第4节\n",
       "time           02:26\n",
       "score1            87\n",
       "score2            79\n",
       "odds1           1.09\n",
       "odds2           6.75\n",
       "handicap1       -6.5\n",
       "handicap2       +6.5\n",
       "total_sec        146\n",
       "Name: 417, dtype: object"
      ]
     },
     "execution_count": 16,
     "metadata": {},
     "output_type": "execute_result"
    }
   ],
   "source": [
    "df.loc[417]"
   ]
  },
  {
   "cell_type": "code",
   "execution_count": 17,
   "id": "dominican-immune",
   "metadata": {
    "scrolled": true
   },
   "outputs": [],
   "source": [
    "df = df.astype({'score1': 'int64', 'score2': 'int64', 'odds1': 'float64', 'odds2': 'float64', 'handicap1': 'float64', 'handicap2': 'float64', 'total_sec': 'int64'})"
   ]
  },
  {
   "cell_type": "code",
   "execution_count": null,
   "id": "given-olympus",
   "metadata": {},
   "outputs": [],
   "source": []
  },
  {
   "cell_type": "code",
   "execution_count": 18,
   "id": "transsexual-avenue",
   "metadata": {},
   "outputs": [],
   "source": [
    "match_info = MatchInfo(names[match_index])\n",
    "for team_one, team_two, section, section_time, score_one, score_two, odds_one, odds_two, handicap_one, handicap_two, total_left_sec in matchs[names[match_index]][:417]:\n",
    "    \n",
    "    quarter = 0\n",
    "    if section.strip() == '第4节':\n",
    "        quarter = 0\n",
    "    elif section.strip() == '第3节':\n",
    "        quarter = 1\n",
    "    elif section.strip() == '第2节':\n",
    "        quarter = 2\n",
    "    elif section.strip() == '第1节':\n",
    "        quarter = 3\n",
    "    match_time = time.strptime(section_time.strip(), '%M:%S')\n",
    "    match_time_int = int(datetime.timedelta(minutes=match_time.tm_min, seconds=match_time.tm_sec).total_seconds())\n",
    "    total_left_sec = match_info.get_secction_min() * quarter * 60 + match_time_int\n",
    "    \n",
    "#     print(total_left_sec)\n",
    "    match_info.add_info(int(total_left_sec), 300, int(score_one), int(score_two), float(odds_one), float(odds_two))\n",
    "    \n",
    "    "
   ]
  },
  {
   "cell_type": "code",
   "execution_count": 22,
   "id": "collective-roommate",
   "metadata": {},
   "outputs": [],
   "source": [
    "scores, rates = match_info.is_bet()"
   ]
  },
  {
   "cell_type": "code",
   "execution_count": 23,
   "id": "permanent-restaurant",
   "metadata": {},
   "outputs": [
    {
     "data": {
      "text/plain": [
       "3.94"
      ]
     },
     "execution_count": 23,
     "metadata": {},
     "output_type": "execute_result"
    }
   ],
   "source": [
    "np.mean(scores)"
   ]
  },
  {
   "cell_type": "code",
   "execution_count": 24,
   "id": "intermediate-inquiry",
   "metadata": {},
   "outputs": [
    {
     "data": {
      "text/plain": [
       "[<matplotlib.lines.Line2D at 0x182107d5f88>]"
      ]
     },
     "execution_count": 24,
     "metadata": {},
     "output_type": "execute_result"
    },
    {
     "data": {
      "image/png": "[encoded data removed]",
      "text/plain": [
       "<Figure size 432x288 with 1 Axes>"
      ]
     },
     "metadata": {
      "needs_background": "light"
     },
     "output_type": "display_data"
    }
   ],
   "source": [
    "pyplot.plot(scores)"
   ]
  },
  {
   "cell_type": "raw",
   "id": "square-qatar",
   "metadata": {},
   "source": [
    "scores"
   ]
  },
  {
   "cell_type": "code",
   "execution_count": 47,
   "id": "agricultural-transport",
   "metadata": {
    "scrolled": true
   },
   "outputs": [],
   "source": [
    "\n",
    "ss, rs = [], []\n",
    "for name in names:\n",
    "    match_info = MatchInfo(name)\n",
    "    for team_one, team_two, section, section_time, score_one, score_two, odds_one, odds_two, handicap_one, handicap_two, total_left_sec in matchs[name]:\n",
    "        \n",
    "        if section_time and abs(float(odds_one) - float(odds_two)) > 0:\n",
    "            quarter = 0\n",
    "            if section.strip() == '第4节':\n",
    "                quarter = 0\n",
    "            elif section.strip() == '第3节':\n",
    "                quarter = 1\n",
    "            elif section.strip() == '第2节':\n",
    "                quarter = 2\n",
    "            elif section.strip() == '第1节':\n",
    "                quarter = 3\n",
    "            match_time = time.strptime(section_time.strip(), '%M:%S')\n",
    "            match_time_int = int(datetime.timedelta(minutes=match_time.tm_min, seconds=match_time.tm_sec).total_seconds())\n",
    "            total_left_sec = match_info.get_secction_min() * quarter * 60 + match_time_int\n",
    "\n",
    "        #     print(total_left_sec)\n",
    "            match_info.add_info(int(total_left_sec), 300, int(score_one), int(score_two), float(odds_one), float(odds_two))\n",
    "            \n",
    "#             if team_one == '力量篮球俱乐部':\n",
    "#                 print(score_one, score_two)\n",
    "                    \n",
    "            if (abs(float(score_one) - float(score_two)) * abs(float(odds_one) - float(odds_two)) / total_left_sec) > 0.3 and total_left_sec < 360:\n",
    "                break\n",
    "                \n",
    "#     s_m, r_m = match_info.is_bet()\n",
    "#     ss.append(s_m)\n",
    "#     rs.append(r_m)\n",
    "#     scores, rates = match_info.is_bet()\n",
    "#     print('%s: %s %s' % (name, np.mean(scores), np.mean(rates)))\n",
    "    if match_info.is_bet():\n",
    "        print(name)\n",
    "    "
   ]
  },
  {
   "cell_type": "code",
   "execution_count": 70,
   "id": "postal-climate",
   "metadata": {},
   "outputs": [
    {
     "name": "stderr",
     "output_type": "stream",
     "text": [
      "d:\\soft\\python\\python37\\lib\\site-packages\\seaborn\\distributions.py:2557: FutureWarning: `distplot` is a deprecated function and will be removed in a future version. Please adapt your code to use either `displot` (a figure-level function with similar flexibility) or `histplot` (an axes-level function for histograms).\n",
      "  warnings.warn(msg, FutureWarning)\n"
     ]
    },
    {
     "data": {
      "text/plain": [
       "<AxesSubplot:ylabel='Density'>"
      ]
     },
     "execution_count": 70,
     "metadata": {},
     "output_type": "execute_result"
    },
    {
     "data": {
      "image/png": "[encoded data removed]",
      "text/plain": [
       "<Figure size 432x288 with 1 Axes>"
      ]
     },
     "metadata": {
      "needs_background": "light"
     },
     "output_type": "display_data"
    }
   ],
   "source": [
    "sns.distplot(ss, bins=220)"
   ]
  },
  {
   "cell_type": "code",
   "execution_count": 51,
   "id": "warming-spoke",
   "metadata": {},
   "outputs": [
    {
     "data": {
      "text/plain": [
       "[22,\n",
       " -4.280701754385965,\n",
       " 4.340425531914893,\n",
       " -20,\n",
       " 15.791666666666666,\n",
       " -17.275862068965516,\n",
       " -8.13953488372093,\n",
       " -9.166666666666666,\n",
       " -6.964912280701754,\n",
       " -10.862745098039216,\n",
       " -12.705882352941176,\n",
       " 7.2153846153846155,\n",
       " 12.046511627906977,\n",
       " -19.76923076923077,\n",
       " 17.692307692307693,\n",
       " -14.842105263157896,\n",
       " 15.4,\n",
       " -4.066666666666666,\n",
       " 8.054794520547945,\n",
       " -6.842105263157895,\n",
       " 13.11111111111111,\n",
       " -0.12903225806451613,\n",
       " 9.035087719298245,\n",
       " 6.923076923076923,\n",
       " 15,\n",
       " 10.65625,\n",
       " 13,\n",
       " 14.657142857142857,\n",
       " 7.176470588235294,\n",
       " 17.361702127659573,\n",
       " 14.859649122807017,\n",
       " -7.819444444444445,\n",
       " 14.265625,\n",
       " -7.4,\n",
       " -8.925,\n",
       " -17.210526315789473,\n",
       " -10,\n",
       " -10,\n",
       " 9.893617021276595,\n",
       " 18.944444444444443,\n",
       " -9.1875,\n",
       " 9.685185185185185,\n",
       " 6.482758620689655,\n",
       " 10.279069767441861,\n",
       " 10,\n",
       " -12,\n",
       " 10.74561403508772,\n",
       " -15.944444444444445,\n",
       " -8.456521739130435,\n",
       " -15.592592592592593,\n",
       " -8.864864864864865,\n",
       " 18.785714285714285,\n",
       " 15.74074074074074,\n",
       " -17.34090909090909,\n",
       " -9.11111111111111,\n",
       " 6.133333333333334,\n",
       " -11.75,\n",
       " 11.19047619047619,\n",
       " 8.789473684210526,\n",
       " 13.969696969696969,\n",
       " -12.59016393442623,\n",
       " 11.491525423728813,\n",
       " 7.519230769230769,\n",
       " -2.260869565217391,\n",
       " 5.575757575757576,\n",
       " -5.538461538461538,\n",
       " 13.962962962962964,\n",
       " -13,\n",
       " 6.454545454545454,\n",
       " -13.306122448979592,\n",
       " -17.384615384615383,\n",
       " 11.8125,\n",
       " 12.659574468085106,\n",
       " 13.407407407407407,\n",
       " -12.672727272727272,\n",
       " 9.93939393939394,\n",
       " 14.657142857142857,\n",
       " -11.24561403508772,\n",
       " -14.866666666666667,\n",
       " 6.470588235294118,\n",
       " 12.630434782608695,\n",
       " 6.558139534883721,\n",
       " -14.576271186440678,\n",
       " -16.654545454545456,\n",
       " 14,\n",
       " 8.789473684210526,\n",
       " -13.8,\n",
       " -7.322033898305085,\n",
       " 3.9423076923076925,\n",
       " 5,\n",
       " 12.052631578947368,\n",
       " 10,\n",
       " -11.363636363636363,\n",
       " -15.617647058823529,\n",
       " -17.166666666666668,\n",
       " -12.083333333333334,\n",
       " -14.39655172413793,\n",
       " -5.666666666666667,\n",
       " 11.904761904761905,\n",
       " -8.08,\n",
       " -13.5,\n",
       " 7.603448275862069,\n",
       " 12.689655172413794,\n",
       " -3.849056603773585,\n",
       " 7.661764705882353,\n",
       " 5.69811320754717,\n",
       " -8.196428571428571,\n",
       " -7.053571428571429,\n",
       " 11.142857142857142,\n",
       " -7.82,\n",
       " 10.285714285714286,\n",
       " -7.705882352941177,\n",
       " -15.4,\n",
       " -9.327272727272728,\n",
       " -11,\n",
       " 8.732142857142858,\n",
       " -4.545454545454546,\n",
       " -4.079365079365079,\n",
       " -15.116279069767442,\n",
       " -10.254901960784315,\n",
       " 5.476190476190476,\n",
       " -10,\n",
       " 2.1555555555555554,\n",
       " 14.023255813953488,\n",
       " 11.826086956521738,\n",
       " 6.193548387096774,\n",
       " 9.777777777777779,\n",
       " 15.952380952380953,\n",
       " -9.617021276595745,\n",
       " 6.456140350877193,\n",
       " -4.079365079365079,\n",
       " 3.4909090909090907,\n",
       " 10.056603773584905,\n",
       " 13.166666666666666,\n",
       " 11.295081967213115,\n",
       " -17.25,\n",
       " -6.407407407407407,\n",
       " -8.810344827586206,\n",
       " 6.052631578947368,\n",
       " -9.130434782608695,\n",
       " -7.689655172413793,\n",
       " 13.032786885245901,\n",
       " -15,\n",
       " 0.46808510638297873,\n",
       " 6.543859649122807,\n",
       " -14.20754716981132,\n",
       " 10.263157894736842,\n",
       " 6.807017543859649,\n",
       " -3.0384615384615383,\n",
       " 7.392156862745098,\n",
       " -8.185185185185185,\n",
       " -7.46969696969697,\n",
       " 6.871794871794871,\n",
       " 4.440677966101695,\n",
       " 15.114285714285714,\n",
       " -7.46969696969697,\n",
       " 7.741379310344827,\n",
       " 9.714285714285714,\n",
       " 6.763636363636364,\n",
       " 3.888888888888889,\n",
       " -11.869565217391305,\n",
       " 15.758620689655173,\n",
       " 7.689655172413793,\n",
       " -11.826923076923077,\n",
       " -3.8627450980392157,\n",
       " 9.368421052631579,\n",
       " 6.086956521739131,\n",
       " -4.73015873015873,\n",
       " -14.433333333333334,\n",
       " -11,\n",
       " -6.372549019607843,\n",
       " 13,\n",
       " -9.069767441860465,\n",
       " -9.50943396226415,\n",
       " -9.827586206896552,\n",
       " -12.693548387096774,\n",
       " 3.175438596491228,\n",
       " -7.491228070175438,\n",
       " 9.5,\n",
       " 3.0384615384615383,\n",
       " -9.395833333333334,\n",
       " -3.6875,\n",
       " -5.4363636363636365,\n",
       " 5.480769230769231,\n",
       " 5.913793103448276,\n",
       " -4.456140350877193,\n",
       " 4.0638297872340425,\n",
       " -1.25,\n",
       " 8.386363636363637,\n",
       " 4.918367346938775,\n",
       " -4.6521739130434785,\n",
       " 9.35897435897436,\n",
       " 7.315789473684211,\n",
       " 9.084745762711865,\n",
       " 11,\n",
       " 11.75]"
      ]
     },
     "execution_count": 51,
     "metadata": {},
     "output_type": "execute_result"
    }
   ],
   "source": [
    "ss"
   ]
  },
  {
   "cell_type": "code",
   "execution_count": null,
   "id": "focal-circulation",
   "metadata": {},
   "outputs": [],
   "source": [
    "# *** 里瓦斯,Occidentales -215: -160  * 普洛耶什蒂,CSO沃伦塔里 ***"
   ]
  },
  {
   "cell_type": "code",
   "execution_count": null,
   "id": "according-terminology",
   "metadata": {},
   "outputs": [],
   "source": []
  },
  {
   "cell_type": "code",
   "execution_count": null,
   "id": "desirable-thomson",
   "metadata": {},
   "outputs": [],
   "source": []
  },
  {
   "cell_type": "code",
   "execution_count": 91,
   "id": "fewer-admission",
   "metadata": {},
   "outputs": [],
   "source": [
    "match_infos = []"
   ]
  },
  {
   "cell_type": "code",
   "execution_count": 92,
   "id": "accredited-restoration",
   "metadata": {},
   "outputs": [],
   "source": [
    "def get_match_info(name):\n",
    "\n",
    "    for match_info in match_infos:\n",
    "        if match_info.name == name:\n",
    "            return match_info\n",
    "\n",
    "    match_info = MatchInfo(name)\n",
    "    match_infos.append(match_info)\n",
    "    return match_info\n",
    "    "
   ]
  },
  {
   "cell_type": "code",
   "execution_count": 93,
   "id": "timely-production",
   "metadata": {},
   "outputs": [],
   "source": [
    "names = []"
   ]
  },
  {
   "cell_type": "code",
   "execution_count": 94,
   "id": "sustained-poker",
   "metadata": {},
   "outputs": [
    {
     "name": "stdout",
     "output_type": "stream",
     "text": [
      "Olivol Mundial,Verdirrojo\n",
      "科隆,Larranaga\n",
      "Tabare,Lagomar\n",
      "斯洛文尼亚,黑山\n",
      "Trotamundos De Carabobo,拉瓜伊拉海盗\n",
      "Olivol Mundial,Lagomar\n",
      "Caballeros del Norte,联合谷\n"
     ]
    }
   ],
   "source": [
    "\n",
    "for line in open('data.txt', encoding='utf-8'):\n",
    "    team_one, team_two, section, section_time, score_one, score_two, odds_one, odds_two, handicap_one, handicap_two, total_left_sec = line.strip().split('\\t')[:11]\n",
    "    \n",
    "    name = '%s,%s' % (team_one, team_two)\n",
    "    match_info = get_match_info(name)\n",
    "    \n",
    "    if score_one.strip() and score_two.strip() and odds_one.strip() and odds_two.strip() and name not in names:\n",
    "        match_info.add_info(int(total_left_sec), 300, int(score_one), int(score_two), float(odds_one), float(odds_two))\n",
    "\n",
    "        if match_info.is_bet():\n",
    "            print(name)\n",
    "            names.append(name)"
   ]
  },
  {
   "cell_type": "code",
   "execution_count": null,
   "id": "convertible-basement",
   "metadata": {},
   "outputs": [],
   "source": []
  }
 ],
 "metadata": {
  "kernelspec": {
   "display_name": "Python 3",
   "language": "python",
   "name": "python3"
  },
  "language_info": {
   "codemirror_mode": {
    "name": "ipython",
    "version": 3
   },
   "file_extension": ".py",
   "mimetype": "text/x-python",
   "name": "python",
   "nbconvert_exporter": "python",
   "pygments_lexer": "ipython3",
   "version": "3.7.9"
  }
 },
 "nbformat": 4,
 "nbformat_minor": 5
}
